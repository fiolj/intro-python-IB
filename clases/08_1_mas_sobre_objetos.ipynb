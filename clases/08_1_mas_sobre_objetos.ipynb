{
 "cells": [
  {
   "cell_type": "markdown",
   "id": "48ea3ffd",
   "metadata": {},
   "source": [
    "# Más sobre objetos\n",
    "\n",
    "Hemos visto que si bien en Python todo es un objeto, esto es, una instancia de alguna clase con sus atributos y métodos, los mismos son públicos. Esto otorga gran versatilidad a la programación, pero puede ser un inconveniente a la hora de mantener código, debido a que el pretendido encapsulamiento de datos y funciones en una clase es pura responsabilidad del programador. Aquí veremos algunas facilidades que otorga Python para ayudar a crear clases robustas.\n",
    "\n",
    "\n",
    "## El decorador `@classmethod`\n",
    "\n",
    "En nuestra versión de la clase `Punto`, teníamos la capacidad de ir registrando el número de puntos que se van inicializando,"
   ]
  },
  {
   "cell_type": "code",
   "execution_count": null,
   "id": "0dc19ac5",
   "metadata": {},
   "outputs": [],
   "source": [
    "class Punto:\n",
    "  \"Clase para describir un punto en el espacio\"\n",
    "\n",
    "  num_puntos = 0\n",
    "\n",
    "  def __init__(self, x=0, y=0, z=0):\n",
    "    \"Inicializa un punto en el espacio\"\n",
    "    self.x = x\n",
    "    self.y = y\n",
    "    self.z = z\n",
    "    Punto.num_puntos += 1\n",
    "    return None\n",
    "\n",
    "  def __del__(self):\n",
    "    \"Borra el punto y actualiza el contador\"\n",
    "    Punto.num_puntos -= 1"
   ]
  },
  {
   "cell_type": "code",
   "execution_count": null,
   "id": "48730ea7",
   "metadata": {},
   "outputs": [],
   "source": [
    "p1 = Punto(1,1,1)\n",
    "p2 = Punto()\n",
    "print('Número de puntos:', Punto.num_puntos)\n",
    "del p2\n",
    "print('Número de puntos:', Punto.num_puntos)"
   ]
  },
  {
   "cell_type": "markdown",
   "id": "90b711ba",
   "metadata": {},
   "source": [
    "Claramente la variable `num_puntos` es un dato de la clase `Punto`, y no de una instancia particular de la misma. Para mejorar la organización de este tipo de datos o métodos asociados a una clase, Python provee el decorador `@classmethod`: "
   ]
  },
  {
   "cell_type": "code",
   "execution_count": null,
   "id": "78b07929",
   "metadata": {},
   "outputs": [],
   "source": [
    "class Punto:\n",
    "  \"Clase para describir un punto en el espacio\"\n",
    "\n",
    "  num_puntos = 0\n",
    "  \n",
    "  def __init__(self, x=0, y=0, z=0):\n",
    "    \"Inicializa un punto en el espacio\"\n",
    "    self.x = x\n",
    "    self.y = y\n",
    "    self.z = z\n",
    "    Punto.num_puntos += 1\n",
    "    return None\n",
    "\n",
    "  def __del__(self):\n",
    "    \"Borra el punto y actualiza el contador\"\n",
    "    Punto.num_puntos -= 1\n",
    "\n",
    "  @classmethod\n",
    "  def total(cls):\n",
    "    \"Imprime el número total de puntos\"\n",
    "    print(f\"En total hay {cls.num_puntos} puntos definidos\")\n"
   ]
  },
  {
   "cell_type": "markdown",
   "id": "674b426e",
   "metadata": {},
   "source": [
    "Así como `self` debe ser el primer argumento de los métodos de instancia, `cls` se refiere a la propia clase y debe ser el primer argumento del método de clase decorado por `@classmethod`. De la misma forma, se utiliza la palabra `cls` por convención, podría ser cualquier otra siempre que se mantenga la consistencia interna."
   ]
  },
  {
   "cell_type": "code",
   "execution_count": null,
   "id": "2c57baab",
   "metadata": {},
   "outputs": [],
   "source": [
    "p1 = Punto(1,1,1)\n",
    "p2 = Punto()\n",
    "Punto.total()\n",
    "del p2\n",
    "Punto.total()"
   ]
  },
  {
   "cell_type": "markdown",
   "id": "6b0d5be4",
   "metadata": {},
   "source": [
    "Otro ejemplo interesante es crear constructores alternativos:"
   ]
  },
  {
   "cell_type": "code",
   "execution_count": null,
   "id": "c8b23184",
   "metadata": {},
   "outputs": [],
   "source": [
    "class Persona:\n",
    "    def __init__(self, nombre, edad):\n",
    "        self.nombre = nombre\n",
    "        self.edad = edad\n",
    "\n",
    "    @classmethod\n",
    "    def desde_cadena(cls, cadena):\n",
    "        nombre, edad = cadena.split(\", \")\n",
    "        return cls(nombre, int(edad))  # Devuelve una nueva instancia\n",
    "\n",
    "# Crear una instancia desde una cadena\n",
    "p3 = Persona.desde_cadena(\"Lionel, 37\")\n"
   ]
  },
  {
   "cell_type": "code",
   "execution_count": null,
   "id": "2c90416c",
   "metadata": {},
   "outputs": [],
   "source": [
    "print(p3.nombre)  \n",
    "print(p3.edad)    "
   ]
  },
  {
   "cell_type": "markdown",
   "id": "c33bbab1",
   "metadata": {},
   "source": [
    "> En el ejercicio de `Polinomio`, puede transformar la función `from_string` requerida a un método de clase, de forma tal que se pueda crear un polinomio como:\n",
    "```python\n",
    "p1 = Polinomio.from_string(\"4 x^3 + 3 x^2 + 2.1 x + 1\")"
   ]
  },
  {
   "cell_type": "markdown",
   "id": "9fa213d3-3945-4359-99a4-130a11f023a3",
   "metadata": {},
   "source": [
    "## _Getters_  y _Setters_ \n",
    "\n",
    "\n",
    "\n",
    "### Función `property` \n",
    "\n",
    "Volvamos a nuestra clase `Punto` y veamos cómo podemos mejorarla para no incurrir en posibles errores."
   ]
  },
  {
   "cell_type": "code",
   "execution_count": null,
   "id": "2fb6f27a",
   "metadata": {},
   "outputs": [],
   "source": [
    "class Punto:\n",
    "  \"Clase para describir un punto en el espacio\"\n",
    "\n",
    "  num_puntos = 0\n",
    "  \n",
    "  def __init__(self, x=0, y=0, z=0):\n",
    "    \"Inicializa un punto en el espacio\"\n",
    "    self.x = x\n",
    "    self.y = y\n",
    "    self.z = z\n",
    "    Punto.num_puntos += 1\n",
    "    return None\n",
    "\n",
    "  def __del__(self):\n",
    "    \"Borra el punto y actualiza el contador\"\n",
    "    Punto.num_puntos -= 1\n",
    "\n",
    "  def __str__(self):\n",
    "    return f\"Punto en el espacio con coordenadas: x = {self.x}, y = {self.y}, z = {self.z}\"\n",
    "\n",
    "  def __repr__(self):\n",
    "    return f\"Punto(x = {self.x}, y = {self.y}, z = {self.z})\"\n",
    "\n",
    "  def __call__(self):\n",
    "    return \"Ejecuté el objeto: {}\".format(self)\n",
    "#    return str(self)\n",
    "#    return \"{}\".format(self)\n",
    "\n",
    "  @classmethod\n",
    "  def total(cls):\n",
    "    \"Imprime el número total de puntos\"\n",
    "    print(f\"En total hay {cls.num_puntos} puntos definidos\")\n",
    "    "
   ]
  },
  {
   "cell_type": "code",
   "execution_count": null,
   "id": "e3830691-593c-4182-89ce-e99fe2b52a04",
   "metadata": {},
   "outputs": [],
   "source": [
    "P1 = Punto('a',1,2.) \n",
    "print(P1)\n",
    "P1"
   ]
  },
  {
   "cell_type": "markdown",
   "id": "645611d5-0d16-4336-a081-c3a641324c9e",
   "metadata": {},
   "source": [
    "Esto ocurrió porque nos olvidamos de verificar que los argumentos son del tipo correcto. Una manera de solucionarlo es chequear que los valores son del tipo correcto al crear el objeto, como hicimos anteriormente:"
   ]
  },
  {
   "cell_type": "code",
   "execution_count": null,
   "id": "24e960e0-88e0-4456-b93b-7ea835193ce0",
   "metadata": {
    "autoscroll": false,
    "ein.hycell": false,
    "ein.tags": "worksheet-0",
    "slideshow": {
     "slide_type": "-"
    }
   },
   "outputs": [],
   "source": [
    "class Punto:\n",
    "  \"Clase para describir un punto en el espacio\"\n",
    "\n",
    "  num_puntos = 0\n",
    "  \n",
    "  def __init__(self, x=0, y=0, z=0):\n",
    "    \"Inicializa un punto en el espacio\"\n",
    "    if not (isinstance(x, (int, float)) and isinstance(y, (int, float)) and isinstance(z, (int, float))):\n",
    "      raise TypeError(\"x, y, z deben ser números enteros o flotantes\")\n",
    "    self.x = x\n",
    "    self.y = y\n",
    "    self.z = z\n",
    "    Punto.num_puntos += 1\n",
    "    \n",
    "\n",
    "  def __del__(self):\n",
    "    \"Borra el punto y actualiza el contador\"\n",
    "    Punto.num_puntos -= 1\n",
    "\n",
    "  def __str__(self):\n",
    "    return f\"Punto en el espacio con coordenadas: x = {self.x}, y = {self.y}, z = {self.z}\"\n",
    "\n",
    "  def __repr__(self):\n",
    "    return f\"Punto(x = {self.x}, y = {self.y}, z = {self.z})\"\n",
    "\n",
    "  @classmethod\n",
    "  def total(cls):\n",
    "    \"Imprime el número total de puntos\"\n",
    "    print(f\"En total hay {cls.num_puntos} puntos definidos\")\n",
    "    "
   ]
  },
  {
   "cell_type": "code",
   "execution_count": null,
   "id": "aeb5aced-2aea-4219-8730-ac0039eaa6c1",
   "metadata": {},
   "outputs": [],
   "source": [
    "Punto('a',1,2.)"
   ]
  },
  {
   "cell_type": "markdown",
   "id": "730ffad5-ec88-48c9-ba77-27f4d7924b2b",
   "metadata": {},
   "source": [
    " Sin embargo aún tendremos problemas si los usuarios lo modifican luego de crearlo:"
   ]
  },
  {
   "cell_type": "code",
   "execution_count": null,
   "id": "0abdbece-e9ee-4d04-8b97-6cc8e6ea21b1",
   "metadata": {},
   "outputs": [],
   "source": [
    "P1 = Punto(1,2,3)"
   ]
  },
  {
   "cell_type": "code",
   "execution_count": null,
   "id": "91a7b584-20e7-41e5-a6ed-f8c776b3219c",
   "metadata": {},
   "outputs": [],
   "source": [
    "P1.x = 'b'\n",
    "P1"
   ]
  },
  {
   "cell_type": "markdown",
   "id": "37755561-642e-4567-8374-1d0f6e99c477",
   "metadata": {},
   "source": [
    "Una solución a esto es hacer las componentes \"privadas\" (por convención) para que los usuarios no la modifiquen directamente. El problema es que los usuarios tienen que poder acceder y modificarla. Una solución es crear métodos para darle valores (*setter*) y tomarlos (*getter*)"
   ]
  },
  {
   "cell_type": "code",
   "execution_count": null,
   "id": "1fcec8d1-ae5a-4961-9478-59c130aa552f",
   "metadata": {},
   "outputs": [],
   "source": [
    "class Punto:\n",
    "  \"Clase para describir un punto en el espacio\"\n",
    "\n",
    "  num_puntos = 0\n",
    "  \n",
    "  def __init__(self, x=0, y=0, z=0):\n",
    "    \"Inicializa un punto en el espacio\"\n",
    "    Punto.num_puntos += 1\n",
    "    self.set_coordenadas(x,y,z)\n",
    "    return None\n",
    "\n",
    "  def get_coordenadas(self):\n",
    "    return self._x, self._y, self._z\n",
    "\n",
    "  def set_coordenadas(self, x=0, y=0, z=0):\n",
    "    if not (isinstance(x, (int, float)) and isinstance(y, (int, float)) and isinstance(z, (int, float))):\n",
    "      raise TypeError(\"x, y, z deben ser números enteros o flotantes\")\n",
    "    self._x = x\n",
    "    self._y = y\n",
    "    self._z = z\n",
    "      \n",
    "  def __del__(self):\n",
    "    \"Borra el punto y actualiza el contador\"\n",
    "    Punto.num_puntos -= 1\n",
    "\n",
    "  def __str__(self):\n",
    "    return f\"Punto en el espacio con coordenadas: x = {self._x}, y = {self._y}, z = {self._z}\"\n",
    "\n",
    "  def __repr__(self):\n",
    "    return f\"Punto(x = {self._x}, y = {self._y}, z = {self._z})\"\n",
    "\n",
    "  @classmethod\n",
    "  def total(cls):\n",
    "    \"Imprime el número total de puntos\"\n",
    "    print(f\"En total hay {cls.num_puntos} puntos definidos\")"
   ]
  },
  {
   "cell_type": "markdown",
   "id": "aa0186c4",
   "metadata": {},
   "source": [
    "> _Por convención_ se denota a las variables privadas con un guión bajo antes del nombre, ej, `_x`. "
   ]
  },
  {
   "cell_type": "code",
   "execution_count": null,
   "id": "d77b79e8-81cd-4d7c-abcc-6d44813b1d63",
   "metadata": {},
   "outputs": [],
   "source": [
    "P1 = Punto(3,2,4.5)"
   ]
  },
  {
   "cell_type": "code",
   "execution_count": null,
   "id": "ae00ee5c-8547-49d7-aec2-706f9578f9d7",
   "metadata": {},
   "outputs": [],
   "source": [
    "P2 = Punto(3,2,\"hola\")"
   ]
  },
  {
   "cell_type": "code",
   "execution_count": null,
   "id": "b62596e8-82a6-4573-ba0c-716bbe62153b",
   "metadata": {},
   "outputs": [],
   "source": [
    "print(P1.get_coordenadas())"
   ]
  },
  {
   "cell_type": "code",
   "execution_count": null,
   "id": "c2d924d1-611a-40d4-8bd5-45797ac6a22e",
   "metadata": {},
   "outputs": [],
   "source": [
    "# Tomemos el valor de la componente x\n",
    "a = P1.x"
   ]
  },
  {
   "cell_type": "code",
   "execution_count": null,
   "id": "8c765970",
   "metadata": {},
   "outputs": [],
   "source": [
    "P1.__dict__"
   ]
  },
  {
   "cell_type": "code",
   "execution_count": null,
   "id": "b59d4012",
   "metadata": {},
   "outputs": [],
   "source": [
    "# Se puede hacer, pero no queremos que se haga!\n",
    "P1._x"
   ]
  },
  {
   "cell_type": "markdown",
   "id": "c8dc8bc5-c6cc-4086-a27b-8d7021228fd4",
   "metadata": {},
   "source": [
    "Esto es un problema!\n",
    "Cambiamos la clase haciendo las variables x,y,z 'privadas', pero eso implicó cambiarles el nombre a `_x,_y,_z`, si ya hay una versión de esta clase utilizada en otros programas y acceden a `x,y,z` ( es un comportamiento muy razonable querer modificar las coordenadas del punto...). Hicimos un cambio necesario, pero que puede afectar uno o más programas existentes y habría que rastrear y modificar todos (asumiendo que son nuestros). Para ello existe la función `property()` y el decorador correspondiente `@property`"
   ]
  },
  {
   "cell_type": "code",
   "execution_count": null,
   "id": "8a833f36-5467-4a10-bba9-6bcb50b21f13",
   "metadata": {},
   "outputs": [],
   "source": [
    "class Punto:\n",
    "  \"Clase para describir un punto en el espacio\"\n",
    "\n",
    "  num_puntos = 0\n",
    "  \n",
    "  def __init__(self, x=0, y=0, z=0):\n",
    "    \"Inicializa un punto en el espacio\"\n",
    "    Punto.num_puntos += 1\n",
    "    self.set_coordenadas(x,y,z)\n",
    "    return None\n",
    "\n",
    "  def get_coordenadas(self):\n",
    "    return self._x, self._y, self._z\n",
    "\n",
    "  def get_x(self):\n",
    "    return self._x\n",
    "      \n",
    "  def get_y(self):\n",
    "    return self._y\n",
    "      \n",
    "  def get_z(self):\n",
    "    return self._z\n",
    "\n",
    "  def set_x(self, x):\n",
    "    if not isinstance(x, (int, float)):\n",
    "      raise TypeError(\"x debe ser número entero o flotante\")        \n",
    "    self._x = x\n",
    "        \n",
    "  def set_y(self, y):\n",
    "    if not isinstance(y, (int, float)):\n",
    "      raise TypeError(\"y debe ser número entero o flotante\")        \n",
    "    self._y = y\n",
    "        \n",
    "  def set_z(self, z):\n",
    "    if not isinstance(z, (int, float)):\n",
    "      raise TypeError(\"z debe ser número entero o flotante\")        \n",
    "    self._z = z\n",
    "    \n",
    "  def set_coordenadas(self, x=0, y=0, z=0):\n",
    "    if not (isinstance(x, (int, float)) and isinstance(y, (int, float)) and isinstance(z, (int, float))):\n",
    "      raise TypeError(\"x, y, z deben ser números enteros o flotantes\")\n",
    "    self._x = x\n",
    "    self._y = y\n",
    "    self._z = z\n",
    "      \n",
    "  def __del__(self):\n",
    "    \"Borra el punto y actualiza el contador\"\n",
    "    Punto.num_puntos -= 1\n",
    "\n",
    "  def __str__(self):\n",
    "    return f\"Punto en el espacio con coordenadas: x = {self._x}, y = {self._y}, z = {self._z}\"\n",
    "\n",
    "  def __repr__(self):\n",
    "    return f\"Punto(x = {self._x}, y = {self._y}, z = {self._z})\"\n",
    "\n",
    "  def __call__(self):\n",
    "    return \"Ejecuté el objeto: {}\".format(self)\n",
    "#    return str(self)\n",
    "#    return \"{}\".format(self)\n",
    "\n",
    "  @classmethod\n",
    "  def total(cls):\n",
    "    \"Imprime el número total de puntos\"\n",
    "    print(f\"En total hay {cls.num_puntos} puntos definidos\")\n",
    "\n",
    "  x = property(get_x, set_x)\n",
    "  y = property(get_y, set_y)\n",
    "  z = property(get_z, set_z)\n",
    "  "
   ]
  },
  {
   "cell_type": "code",
   "execution_count": null,
   "id": "0ee9b197-5e43-4be6-aee0-4af3c5705635",
   "metadata": {},
   "outputs": [],
   "source": [
    "P1 = Punto(2,4,6)"
   ]
  },
  {
   "cell_type": "code",
   "execution_count": null,
   "id": "49c18be9-cad3-4994-b36f-82c64d638212",
   "metadata": {},
   "outputs": [],
   "source": [
    "a = P1.x"
   ]
  },
  {
   "cell_type": "code",
   "execution_count": null,
   "id": "d8a8c3fa-3bce-43a3-a290-946da41ad68c",
   "metadata": {},
   "outputs": [],
   "source": [
    "print(a, P1.y)"
   ]
  },
  {
   "cell_type": "code",
   "execution_count": null,
   "id": "fb6fc2f3-d0dc-4a2a-ae1a-a2dbcd3bed1c",
   "metadata": {},
   "outputs": [],
   "source": [
    "P1.x = 3"
   ]
  },
  {
   "cell_type": "code",
   "execution_count": null,
   "id": "8f24756c-b02b-4c04-b141-e054edff790a",
   "metadata": {},
   "outputs": [],
   "source": [
    "P1"
   ]
  },
  {
   "cell_type": "code",
   "execution_count": null,
   "id": "2a0ee6a7-c68c-4fa7-bec4-4d412391b524",
   "metadata": {},
   "outputs": [],
   "source": [
    "P1.y = '5'"
   ]
  },
  {
   "cell_type": "code",
   "execution_count": null,
   "id": "83c23ad5",
   "metadata": {},
   "outputs": [],
   "source": [
    "P1.__dict__"
   ]
  },
  {
   "cell_type": "markdown",
   "id": "7c058c10",
   "metadata": {},
   "source": [
    "## Más sobre herencia\n",
    "\n",
    "Vimos cómo usar herencia para que una clase pueda derivarse desde otra, en nuestro caso, `Vector` era derivado de la clase `Punto`. Otro ejemplo sencillo podría ser el siguiente:"
   ]
  },
  {
   "cell_type": "code",
   "execution_count": null,
   "id": "26eff6b2",
   "metadata": {},
   "outputs": [],
   "source": [
    "class Persona:\n",
    "    def __init__(self, nombre, edad):\n",
    "        self.nombre = nombre\n",
    "        self.edad = edad\n",
    "\n",
    "    def presentarse(self):\n",
    "        return f\"Hola, soy {self.nombre} y tengo {self.edad} años.\"\n",
    "\n",
    "# Clase derivada: Estudiante\n",
    "class Estudiante(Persona):\n",
    "\n",
    "    def __init__(self, nombre, edad, carrera):\n",
    "        # Se llama al constructor de Persona directamente\n",
    "        Persona.__init__(self, nombre, edad)\n",
    "        self.carrera = carrera\n",
    "\n",
    "    def presentarse(self):\n",
    "        return f\"Hola, soy {self.nombre}, tengo {self.edad} años y estudio {self.carrera}.\"\n"
   ]
  },
  {
   "cell_type": "markdown",
   "id": "3c077634",
   "metadata": {},
   "source": [
    "Aquí la clase `Estudiante` deriva de la clase `Persona`, y en el constructor (`__init__`) de la clase estudiante, utilizamos el constructor de la clase base `Persona`:"
   ]
  },
  {
   "cell_type": "code",
   "execution_count": null,
   "id": "58aaa8cf",
   "metadata": {},
   "outputs": [],
   "source": [
    "pedro = Estudiante('Pedro', 25, 'Física')\n",
    "pedro.presentarse()                "
   ]
  },
  {
   "cell_type": "markdown",
   "id": "8efc7b36",
   "metadata": {},
   "source": [
    "Otra posibilidad que brinda Python para referirse a los constructores de la clase base es utilizar la función `super()`:"
   ]
  },
  {
   "cell_type": "code",
   "execution_count": null,
   "id": "b3255257",
   "metadata": {},
   "outputs": [],
   "source": [
    "class Persona:\n",
    "    def __init__(self, nombre, edad):\n",
    "        self.nombre = nombre\n",
    "        self.edad = edad\n",
    "\n",
    "    def presentarse(self):\n",
    "        return f\"Hola, soy {self.nombre} y tengo {self.edad} años.\"\n",
    "\n",
    "# Clase derivada: Estudiante\n",
    "class Estudiante(Persona):\n",
    "    def __init__(self, nombre, edad, carrera):\n",
    "        # Llamamos al constructor de la clase base con super()\n",
    "        super().__init__(nombre, edad)\n",
    "        self.carrera = carrera  # Nuevo atributo para Estudiante\n",
    "\n",
    "    def presentarse(self):\n",
    "        # Reutilizamos el método de la clase base y agregamos más información\n",
    "        return f\"{super().presentarse()} Estoy estudiando {self.carrera}.\"\n"
   ]
  },
  {
   "cell_type": "code",
   "execution_count": null,
   "id": "8cf55e57",
   "metadata": {},
   "outputs": [],
   "source": [
    "\n",
    "# Uso de las clases\n",
    "carlos = Persona(\"Carlos\", 20)\n",
    "maria = Estudiante(\"María\", 20, \"Ingeniería\")"
   ]
  },
  {
   "cell_type": "code",
   "execution_count": null,
   "id": "0753baf8",
   "metadata": {},
   "outputs": [],
   "source": [
    "print(carlos.presentarse())\n",
    "print(maria.presentarse())"
   ]
  },
  {
   "cell_type": "markdown",
   "id": "13f0e119",
   "metadata": {
    "ein.tags": "worksheet-0",
    "slideshow": {
     "slide_type": "-"
    }
   },
   "source": [
    "----\n",
    "\n",
    "## Ejercicios 08 (a)\n",
    "\n",
    "1. Cree una nueva clase `Materia` que describa una materia que se dicta en el IB. La clase debe contener información sobre el nombre de la materia, los alumnos que la cursan, y los docentes que la dictan. Utilice las clases `Persona` y `Estudiante` y, si es necesario, cree nuevas clases. \n",
    "Además debe proveer los siguientes métodos:\n",
    "  - `agrega_estudiante` que agrega un estudiante al curso\n",
    "  - `agrega_docente` que agrega un docente al curso\n",
    "  - `imprime_estudiantes` que lista los estudiantes del curso\n",
    "\n",
    "\n",
    "\n",
    "\n",
    "\n",
    "\n",
    "  \n",
    "----\n"
   ]
  }
 ],
 "metadata": {
  "kernelspec": {
   "display_name": "Python 3 (ipykernel)",
   "language": "python",
   "name": "python3"
  },
  "language_info": {
   "codemirror_mode": {
    "name": "ipython",
    "version": 3
   },
   "file_extension": ".py",
   "mimetype": "text/x-python",
   "name": "python",
   "nbconvert_exporter": "python",
   "pygments_lexer": "ipython3",
   "version": "3.13.2"
  },
  "name": "06_2_objetos.ipynb",
  "toc": {
   "base_numbering": 1,
   "nav_menu": {
    "height": "132.3px",
    "width": "251.5px"
   },
   "number_sections": true,
   "sideBar": true,
   "skip_h1_title": false,
   "title_cell": "Contenidos",
   "title_sidebar": "Contenidos",
   "toc_cell": false,
   "toc_position": null,
   "toc_section_display": true,
   "toc_window_display": false
  }
 },
 "nbformat": 4,
 "nbformat_minor": 5
}
