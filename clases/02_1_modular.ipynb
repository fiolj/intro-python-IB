{
 "cells": [
  {
   "cell_type": "markdown",
   "id": "b14849ed-e283-44f5-892c-66fac2d890b3",
   "metadata": {
    "collapsed": false,
    "editable": true,
    "jupyter": {
     "outputs_hidden": false
    },
    "slideshow": {
     "slide_type": ""
    },
    "tags": []
   },
   "source": [
    "# Modularización y tipos compuestos"
   ]
  },
  {
   "cell_type": "markdown",
   "id": "32323a30-00c0-4d36-8688-bd44871c1523",
   "metadata": {
    "collapsed": false,
    "jupyter": {
     "outputs_hidden": false
    }
   },
   "source": [
    "------\n",
    "\n",
    "**Nota:**  **Escenas del capítulo anterior:**\n",
    "\n",
    "En la clase anterior preparamos la infraestructura:\n",
    "\n",
    " - Instalamos los programas y paquetes necesarios (conda).\n",
    " - Aprendimos como ejecutar: una consola usual, de ipython, o iniciar un *jupyter notebook*.\n",
    " - Aprendimos a utilizar la consola como una calculadora\n",
    " - Vimos algunos comandos mágicos y como enviar comandos al sistema operativo\n",
    " - Aprendimos como obtener ayuda\n",
    " - Aprendimos a crear ambientes virtuales.\n",
    " - Iniciamos los primeros pasos del lenguaje\n",
    "\n",
    "Veamos un ejemplo completo de un programa (semi-trivial):\n",
    "\n",
    "```python\n",
    "\n",
    "# Definición de los datos\n",
    "r = 9.\n",
    "pi = 3.14159\n",
    "#\n",
    "# Cálculos\n",
    "A = pi*r**2\n",
    "As = 4 * A\n",
    "V = 4*A*r/3\n",
    "#\n",
    "# Salida de los resultados\n",
    "print(\"Para un círculo de radio\",r,\"cm, el área es\",A,\"cm²\")\n",
    "print(\"Para una esfera de radio\",r,\"cm, el área es\",As,\"cm²\")\n",
    "print(\"Para una esfera de radio\",r,\"cm, el volumen es\",V,\"cm³\")\n",
    "\n",
    "```\n",
    "\n",
    "En este ejemplo simple, definimos algunas variables con los datos del problema (`r` y `pi`), realizamos cálculos y sacamos por pantalla los resultados. A diferencia de otros lenguajes, python no necesita una estructura rígida, con definición de un programa principal.\n",
    "\n",
    "Otro punto importante de este ejemplo es el uso de comentarios. El caracter \"#\" inicia un comentario de línea, y el intérprete de python ignora todos lo que viene a continuación hasta que encuentra una nueva línea.\n",
    "\n",
    "------\n",
    "\n"
   ]
  },
  {
   "cell_type": "markdown",
   "id": "03e7703c-8266-4f68-b134-93bbf48dcc96",
   "metadata": {
    "collapsed": false,
    "jupyter": {
     "outputs_hidden": false
    }
   },
   "source": [
    "## Modularización y encapsulado\n",
    "\n",
    "Una característica importante de la programación es la posibilidad de definir partes del código para realizar alguna tarea específica y poder reutilizarla. En Python, una de las maneras más efectivas de hacer esto es mediante la definición de *funciones*. Ya vimos un ejemplo, con la función `print()`, que se usa para imprimir valores a pantalla (por defecto) o a un archivo. Existen otras funciones ya definidas en Python (`len()`, `max()`, `min()`, `abs()`, etc). Puede ver la [lista completa en la documentación](https://docs.python.org/3/library/functions.html).\n"
   ]
  },
  {
   "cell_type": "markdown",
   "id": "f04e38f7-19f2-4358-ab36-ef87e3e7c79e",
   "metadata": {
    "collapsed": false,
    "jupyter": {
     "outputs_hidden": false
    }
   },
   "source": [
    "\n",
    "### Definición básica de funciones\n",
    "\n",
    "Tomemos el ejemplo del programa anterior para definir una función que calcule el área de un disco"
   ]
  },
  {
   "cell_type": "code",
   "execution_count": 2,
   "id": "7672ccca-61bf-4732-ab24-31fd8cfac2e6",
   "metadata": {
    "collapsed": false,
    "jupyter": {
     "outputs_hidden": false
    }
   },
   "outputs": [
    {
     "name": "stdout",
     "output_type": "stream",
     "text": [
      "Terminó la función\n"
     ]
    }
   ],
   "source": [
    "def area_disco(r):\n",
    "  \"\"\"Cálculo del área de un círculo de radio `r`\"\"\"\n",
    "  # Definición de constantes\n",
    "  pi = 3.141593\n",
    "  # Cálculo\n",
    "  A = pi * r**2\n",
    "  return A\n",
    "print(\"Terminó la función\")"
   ]
  },
  {
   "cell_type": "markdown",
   "id": "6f418ff5-092f-476d-8eb4-b665f57eeabf",
   "metadata": {
    "collapsed": false,
    "jupyter": {
     "outputs_hidden": false
    }
   },
   "source": [
    "**Puntos a notar:**\n",
    "\n",
    "* Las funciones se definen utilizando la palabra `def` seguida por el nombre.\n",
    "* A continuación, entre paréntesis se escriben los argumentos, en este caso el radio `r`.\n",
    "* La función devuelve algo; puede ser uno o más valores.\n",
    "* Lo que devuelve la función se especifica mediante la palabra reservada `return` (en este caso `A` que es un valor real). Si es más de un valor, se separan con comas. Si una función no devuelve algo explícitamente, entonces devuelve `None`.\n",
    "* Al principio de la definición de la función se escribe el *string* de documentación."
   ]
  },
  {
   "cell_type": "code",
   "execution_count": 3,
   "id": "fc7f7769-4e94-447d-805a-d3d03a9420e8",
   "metadata": {
    "collapsed": false,
    "jupyter": {
     "outputs_hidden": false
    }
   },
   "outputs": [
    {
     "name": "stdout",
     "output_type": "stream",
     "text": [
      "Help on function area_disco in module __main__:\n",
      "\n",
      "area_disco(r)\n",
      "    Cálculo del área de un círculo de radio `r`\n",
      "\n"
     ]
    }
   ],
   "source": [
    "help(area_disco)"
   ]
  },
  {
   "cell_type": "code",
   "execution_count": 4,
   "id": "05b16608-452a-4d8e-b924-66fcff0cbffb",
   "metadata": {
    "collapsed": false,
    "jupyter": {
     "outputs_hidden": false
    }
   },
   "outputs": [
    {
     "name": "stdout",
     "output_type": "stream",
     "text": [
      "Para un círculo de radio 2 cm, el área es 12.566372 cm²\n"
     ]
    }
   ],
   "source": [
    "R = 2\n",
    "Area = area_disco(R)\n",
    "print(\"Para un círculo de radio\", R, \"cm, el área es\",Area,\"cm²\")"
   ]
  },
  {
   "cell_type": "code",
   "execution_count": 5,
   "id": "8036f8cd-1548-45e0-b919-94040e997c7c",
   "metadata": {
    "collapsed": false,
    "jupyter": {
     "outputs_hidden": false
    }
   },
   "outputs": [
    {
     "name": "stdout",
     "output_type": "stream",
     "text": [
      "Para un círculo de radio 3 cm, el área es 28.274337 cm²\n"
     ]
    }
   ],
   "source": [
    "print(\"Para un círculo de radio\", 3, \"cm, el área es\",area_disco(3.),\"cm²\")"
   ]
  },
  {
   "cell_type": "markdown",
   "id": "e29d4561-9227-4014-b841-4a6f4810e81b",
   "metadata": {
    "collapsed": false,
    "jupyter": {
     "outputs_hidden": false
    }
   },
   "source": [
    "## Módulos\n",
    "\n",
    "Los módulos son el mecanismo de Python para reusar código. Existen varios módulos que son parte de la biblioteca *standard* para distintos tipos de aplicaciones. Además existe un repositorio en la que contribuye la comunidad, con bibliotecas para muchos usos diversos.\n",
    "\n",
    "El uso de módulos es muy simple, para poder aprovecharlo necesitaremos saber dos cosas:\n",
    "\n",
    "* Qué funciones están ya definidas y listas para usar\n",
    "* Cómo acceder a ellas\n",
    "\n",
    "Empecemos con la segunda cuestión. Para utilizar las funciones debemos *importarlas* en la forma `import modulo`, donde modulo es el nombre que queremos importar.\n",
    "\n",
    "Esto nos lleva a la primera cuestión: cómo saber ese nombre, y que funciones están disponibles. La respuesta es: **la documentación**.\n",
    "\n",
    "Una vez importado, podemos utilizar constantes y funciones definidas en el módulo con la notación \"de punto\": `modulo.funcion()`.\n",
    "\n",
    "### Módulo math\n",
    "\n",
    "El módulo **math** contiene las funciones más comunes (trigonométricas, exponenciales, logaritmos, etc) para operar sobre números de *punto flotante*, y algunas constantes importantes (pi, e, etc). En realidad es una interface a la biblioteca math en C."
   ]
  },
  {
   "cell_type": "code",
   "execution_count": 6,
   "id": "e8cdc7ec-6ad6-43d2-95e9-c9f7369a6ef0",
   "metadata": {
    "collapsed": false,
    "jupyter": {
     "outputs_hidden": false
    }
   },
   "outputs": [
    {
     "name": "stdout",
     "output_type": "stream",
     "text": [
      "3.963327297606011 3 4\n",
      "2.718281828459045 2 3\n",
      "10.0 3.0\n",
      "5040 362880 3628800\n",
      "Combinatorio: C(6,2): 15.0\n"
     ]
    }
   ],
   "source": [
    "import math\n",
    "# algunas constantes y funciones elementales\n",
    "raiz5pi = math.sqrt(5*math.pi)\n",
    "print (raiz5pi, math.floor(raiz5pi), math.ceil(raiz5pi))\n",
    "print (math.e, math.floor(math.e), math.ceil(math.e))\n",
    "# otras funciones elementales\n",
    "print (math.log(1024,2), math.log(27,3))\n",
    "print (math.factorial(7), math.factorial(9), math.factorial(10))\n",
    "print ('Combinatorio: C(6,2):',math.factorial(6)/(math.factorial(4)*math.factorial(2)))\n"
   ]
  },
  {
   "cell_type": "code",
   "execution_count": 8,
   "id": "1ca01133-30cf-4e48-b0fa-1f2438708b0b",
   "metadata": {},
   "outputs": [
    {
     "data": {
      "text/plain": [
       "\u001b[0;31mType:\u001b[0m        module\n",
       "\u001b[0;31mString form:\u001b[0m <module 'math' from '/usr/lib64/python3.13/lib-dynload/math.cpython-313-x86_64-linux-gnu.so'>\n",
       "\u001b[0;31mFile:\u001b[0m        /usr/lib64/python3.13/lib-dynload/math.cpython-313-x86_64-linux-gnu.so\n",
       "\u001b[0;31mDocstring:\u001b[0m  \n",
       "This module provides access to the mathematical functions\n",
       "defined by the C standard."
      ]
     },
     "metadata": {},
     "output_type": "display_data"
    }
   ],
   "source": [
    "math??"
   ]
  },
  {
   "cell_type": "markdown",
   "id": "4b0f5f3d-bef9-433d-83f8-350a6abc4681",
   "metadata": {
    "collapsed": false,
    "jupyter": {
     "outputs_hidden": false
    }
   },
   "source": [
    "A veces, sólo necesitamos unas pocas funciones de un módulo. Entonces para abreviar la notación combiene importar sólo lo que vamos a usar, usando la notación:\n",
    "\n",
    "   `from xxx import yyy`"
   ]
  },
  {
   "cell_type": "code",
   "execution_count": 9,
   "id": "f2191397-5791-4b0f-8af6-e61a53dee9fd",
   "metadata": {
    "collapsed": false,
    "jupyter": {
     "outputs_hidden": false
    }
   },
   "outputs": [
    {
     "name": "stdout",
     "output_type": "stream",
     "text": [
      "10.0\n",
      "3.963327297606011 3\n"
     ]
    }
   ],
   "source": [
    "from math import sqrt, pi, log\n",
    "import math\n",
    "raiz5pi = sqrt(5*pi)\n",
    "print (log(1024, 2))\n",
    "print (raiz5pi, math.floor(raiz5pi))"
   ]
  },
  {
   "cell_type": "code",
   "execution_count": 10,
   "id": "8486e710-b441-48ef-b958-1186292d5c10",
   "metadata": {
    "collapsed": false,
    "jupyter": {
     "outputs_hidden": false
    }
   },
   "outputs": [
    {
     "data": {
      "text/plain": [
       "1.7888543819998317"
      ]
     },
     "execution_count": 10,
     "metadata": {},
     "output_type": "execute_result"
    }
   ],
   "source": [
    "import math as m\n",
    "m.sqrt(3.2)"
   ]
  },
  {
   "cell_type": "code",
   "execution_count": 11,
   "id": "27c4d1b7-5345-4208-bcb8-79e9ed6427e4",
   "metadata": {
    "collapsed": false,
    "jupyter": {
     "outputs_hidden": false
    }
   },
   "outputs": [
    {
     "ename": "ValueError",
     "evalue": "math domain error",
     "output_type": "error",
     "traceback": [
      "\u001b[0;31m---------------------------------------------------------------------------\u001b[0m",
      "\u001b[0;31mValueError\u001b[0m                                Traceback (most recent call last)",
      "Cell \u001b[0;32mIn[11], line 2\u001b[0m\n\u001b[1;32m      1\u001b[0m \u001b[38;5;28;01mimport\u001b[39;00m \u001b[38;5;21;01mmath\u001b[39;00m\n\u001b[0;32m----> 2\u001b[0m \u001b[38;5;28mprint\u001b[39m(\u001b[43mmath\u001b[49m\u001b[38;5;241;43m.\u001b[39;49m\u001b[43msqrt\u001b[49m\u001b[43m(\u001b[49m\u001b[38;5;241;43m-\u001b[39;49m\u001b[38;5;241;43m1\u001b[39;49m\u001b[43m)\u001b[49m)\n",
      "\u001b[0;31mValueError\u001b[0m: math domain error"
     ]
    }
   ],
   "source": [
    "import math\n",
    "print(math.sqrt(-1))"
   ]
  },
  {
   "cell_type": "markdown",
   "id": "c9f0415a-6925-40ec-a071-b80ef762aa19",
   "metadata": {
    "collapsed": false,
    "jupyter": {
     "outputs_hidden": false
    }
   },
   "source": [
    "### Módulo `cmath`\n",
    "\n",
    "El módulo `math` no está diseñado para trabajar con números complejos, para ello existe el módulo **cmath**"
   ]
  },
  {
   "cell_type": "code",
   "execution_count": 12,
   "id": "ea73858a-c80d-4b04-8124-c0a6b67a46c3",
   "metadata": {
    "collapsed": false,
    "jupyter": {
     "outputs_hidden": false
    }
   },
   "outputs": [
    {
     "name": "stdout",
     "output_type": "stream",
     "text": [
      "Usando cmath (-1)^0.5= 1j\n",
      "(1.8810978455418161-3.1409532491755083j)\n"
     ]
    }
   ],
   "source": [
    "import cmath\n",
    "print('Usando cmath (-1)^0.5=', cmath.sqrt(-1))\n",
    "print(cmath.cos(cmath.pi/3 + 2j))\n"
   ]
  },
  {
   "cell_type": "markdown",
   "id": "2d1ac1e7-eff6-4c4d-b480-81db9a684c05",
   "metadata": {
    "collapsed": false,
    "jupyter": {
     "outputs_hidden": false
    }
   },
   "source": [
    "Si queremos calcular la fase (el ángulo que forma con el eje x) podemos usar la función phase"
   ]
  },
  {
   "cell_type": "code",
   "execution_count": 13,
   "id": "0fc7a3e4-d42b-4123-9588-b0b4d05c65f8",
   "metadata": {
    "collapsed": false,
    "jupyter": {
     "outputs_hidden": false
    }
   },
   "outputs": [
    {
     "data": {
      "text/plain": [
       "0.4636476090008061"
      ]
     },
     "execution_count": 13,
     "metadata": {},
     "output_type": "execute_result"
    }
   ],
   "source": [
    "z = 1 + 0.5j\n",
    "cmath.phase(z)                  # Resultado en radianes"
   ]
  },
  {
   "cell_type": "code",
   "execution_count": 14,
   "id": "b62a5711-0509-4fe5-adeb-0bcc79c7d23f",
   "metadata": {
    "collapsed": false,
    "jupyter": {
     "outputs_hidden": false
    }
   },
   "outputs": [
    {
     "data": {
      "text/plain": [
       "26.56505117707799"
      ]
     },
     "execution_count": 14,
     "metadata": {},
     "output_type": "execute_result"
    }
   ],
   "source": [
    "math.degrees(cmath.phase(z))    # Resultado en grados"
   ]
  },
  {
   "cell_type": "code",
   "execution_count": 15,
   "id": "f09819b6-85e9-4cbb-a5f7-25155b6d0220",
   "metadata": {},
   "outputs": [
    {
     "name": "stdout",
     "output_type": "stream",
     "text": [
      "Help on module cmath:\n",
      "\n",
      "NAME\n",
      "    cmath\n",
      "\n",
      "MODULE REFERENCE\n",
      "    https://docs.python.org/3.13/library/cmath.html\n",
      "\n",
      "    The following documentation is automatically generated from the Python\n",
      "    source files.  It may be incomplete, incorrect or include features that\n",
      "    are considered implementation detail and may vary between Python\n",
      "    implementations.  When in doubt, consult the module reference at the\n",
      "    location listed above.\n",
      "\n",
      "DESCRIPTION\n",
      "    This module provides access to mathematical functions for complex\n",
      "    numbers.\n",
      "\n",
      "FUNCTIONS\n",
      "    acos(z, /)\n",
      "        Return the arc cosine of z.\n",
      "\n",
      "    acosh(z, /)\n",
      "        Return the inverse hyperbolic cosine of z.\n",
      "\n",
      "    asin(z, /)\n",
      "        Return the arc sine of z.\n",
      "\n",
      "    asinh(z, /)\n",
      "        Return the inverse hyperbolic sine of z.\n",
      "\n",
      "    atan(z, /)\n",
      "        Return the arc tangent of z.\n",
      "\n",
      "    atanh(z, /)\n",
      "        Return the inverse hyperbolic tangent of z.\n",
      "\n",
      "    cos(z, /)\n",
      "        Return the cosine of z.\n",
      "\n",
      "    cosh(z, /)\n",
      "        Return the hyperbolic cosine of z.\n",
      "\n",
      "    exp(z, /)\n",
      "        Return the exponential value e**z.\n",
      "\n",
      "    isclose(a, b, *, rel_tol=1e-09, abs_tol=0.0)\n",
      "        Determine whether two complex numbers are close in value.\n",
      "\n",
      "          rel_tol\n",
      "            maximum difference for being considered \"close\", relative to the\n",
      "            magnitude of the input values\n",
      "          abs_tol\n",
      "            maximum difference for being considered \"close\", regardless of the\n",
      "            magnitude of the input values\n",
      "\n",
      "        Return True if a is close in value to b, and False otherwise.\n",
      "\n",
      "        For the values to be considered close, the difference between them must be\n",
      "        smaller than at least one of the tolerances.\n",
      "\n",
      "        -inf, inf and NaN behave similarly to the IEEE 754 Standard. That is, NaN is\n",
      "        not close to anything, even itself. inf and -inf are only close to themselves.\n",
      "\n",
      "    isfinite(z, /)\n",
      "        Return True if both the real and imaginary parts of z are finite, else False.\n",
      "\n",
      "    isinf(z, /)\n",
      "        Checks if the real or imaginary part of z is infinite.\n",
      "\n",
      "    isnan(z, /)\n",
      "        Checks if the real or imaginary part of z not a number (NaN).\n",
      "\n",
      "    log(z, base=<unrepresentable>, /)\n",
      "        log(z[, base]) -> the logarithm of z to the given base.\n",
      "\n",
      "        If the base is not specified, returns the natural logarithm (base e) of z.\n",
      "\n",
      "    log10(z, /)\n",
      "        Return the base-10 logarithm of z.\n",
      "\n",
      "    phase(z, /)\n",
      "        Return argument, also known as the phase angle, of a complex.\n",
      "\n",
      "    polar(z, /)\n",
      "        Convert a complex from rectangular coordinates to polar coordinates.\n",
      "\n",
      "        r is the distance from 0 and phi the phase angle.\n",
      "\n",
      "    rect(r, phi, /)\n",
      "        Convert from polar coordinates to rectangular coordinates.\n",
      "\n",
      "    sin(z, /)\n",
      "        Return the sine of z.\n",
      "\n",
      "    sinh(z, /)\n",
      "        Return the hyperbolic sine of z.\n",
      "\n",
      "    sqrt(z, /)\n",
      "        Return the square root of z.\n",
      "\n",
      "    tan(z, /)\n",
      "        Return the tangent of z.\n",
      "\n",
      "    tanh(z, /)\n",
      "        Return the hyperbolic tangent of z.\n",
      "\n",
      "DATA\n",
      "    e = 2.718281828459045\n",
      "    inf = inf\n",
      "    infj = infj\n",
      "    nan = nan\n",
      "    nanj = nanj\n",
      "    pi = 3.141592653589793\n",
      "    tau = 6.283185307179586\n",
      "\n",
      "FILE\n",
      "    /usr/lib64/python3.13/lib-dynload/cmath.cpython-313-x86_64-linux-gnu.so\n",
      "\n",
      "\n"
     ]
    }
   ],
   "source": [
    "help(cmath)"
   ]
  },
  {
   "cell_type": "markdown",
   "id": "bf1df411-d469-4ccb-b3e2-f614552e4bdd",
   "metadata": {
    "collapsed": false,
    "jupyter": {
     "outputs_hidden": false
    }
   },
   "source": [
    "-----\n",
    "\n",
    "## Ejercicios 02 (a)\n",
    "\n",
    "1. Escriba funciones que calculen:\n",
    " - El volumen de una esfera\n",
    " - El volumen de una caja de lados `L1`, `L2`, `L3`\n",
    "\n",
    "2. Escriba una función que tome como argumentos tres valores: `a`, `b`, `c` y calcule los ceros (raíces) del polinomio $a x^{2}\\, + b\\, x + c$.\n",
    "\n",
    "3. Considere un polígono regular de $N$ lados inscripto en un círculo de radio unidad:\n",
    "    - Escriba una función que tome como argumento el número de lados $N$ y calcule el ángulo interior del polígono regular correspondiente (por ejemplo el de un triángulo es 60 grados, de un cuadrado es 90 grados, y de un pentágono es 108 grados).\n",
    "    Pruebe su función para valores de  $N= 3, 5, 6, 8, 9, 10, 12$.\n",
    "    - ¿Puede calcular la longitud del lado de los polígonos regulares si se encuentran inscriptos en un círculo de radio unidad?\n",
    "\n",
    "    \n",
    "En todos los casos, pruebe las funciones escritas\n",
    "\n",
    "![](figuras/interior-angles-square.png)  \n",
    "![](figuras/interior-angles-pentagon.png)\n",
    "\n",
    "\n",
    "-----\n"
   ]
  }
 ],
 "metadata": {
  "kernelspec": {
   "display_name": "Python 3 (ipykernel)",
   "language": "python",
   "name": "python3"
  },
  "language_info": {
   "codemirror_mode": {
    "name": "ipython",
    "version": 3
   },
   "file_extension": ".py",
   "mimetype": "text/x-python",
   "name": "python",
   "nbconvert_exporter": "python",
   "pygments_lexer": "ipython3",
   "version": "3.13.2"
  },
  "name": "02_1_func1.ipynb",
  "toc": {
   "base_numbering": 1
  }
 },
 "nbformat": 4,
 "nbformat_minor": 5
}
