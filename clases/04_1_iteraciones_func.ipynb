{
 "cells": [
  {
   "cell_type": "markdown",
   "id": "975b04fd-d8a3-4b6e-aff1-626add727320",
   "metadata": {
    "collapsed": false,
    "jupyter": {
     "outputs_hidden": false
    }
   },
   "source": [
    "# Iteraciones y detalles de Funciones"
   ]
  },
  {
   "cell_type": "markdown",
   "id": "dd71a9db",
   "metadata": {
    "collapsed": false,
    "ein.tags": "worksheet-0",
    "jupyter": {
     "outputs_hidden": false
    },
    "slideshow": {
     "slide_type": "-"
    }
   },
   "source": [
    "## Técnicas de iteración"
   ]
  },
  {
   "cell_type": "markdown",
   "id": "aa9dfcce",
   "metadata": {
    "collapsed": false,
    "ein.tags": "worksheet-0",
    "jupyter": {
     "outputs_hidden": false
    },
    "slideshow": {
     "slide_type": "-"
    }
   },
   "source": [
    "Introdujimos tipos complejos: strings, listas, tuples, diccionarios (`dict`), conjuntos (`set`). Veamos algunas técnicas usuales de iteración sobre estos objetos.\n"
   ]
  },
  {
   "cell_type": "markdown",
   "id": "57b296d9",
   "metadata": {
    "collapsed": false,
    "ein.tags": "worksheet-0",
    "jupyter": {
     "outputs_hidden": false
    },
    "slideshow": {
     "slide_type": "-"
    }
   },
   "source": [
    "\n",
    "### Iteración sobre elementos de dos listas\n",
    "\n",
    "Consideremos las listas:"
   ]
  },
  {
   "cell_type": "code",
   "execution_count": 1,
   "id": "1d32f58d",
   "metadata": {
    "autoscroll": false,
    "collapsed": false,
    "ein.hycell": false,
    "ein.tags": "worksheet-0",
    "jupyter": {
     "outputs_hidden": false
    },
    "slideshow": {
     "slide_type": "-"
    }
   },
   "outputs": [],
   "source": [
    "temp_min = [-3.2, -2, 0, -1, 4, -5, -2, 0, 4, 0]\n",
    "temp_max = [13.2, 12, 13, 7, 18, 5, 11, 14, 10 , 10]"
   ]
  },
  {
   "cell_type": "markdown",
   "id": "eda9d8a3",
   "metadata": {
    "collapsed": false,
    "ein.tags": "worksheet-0",
    "jupyter": {
     "outputs_hidden": false
    },
    "slideshow": {
     "slide_type": "-"
    }
   },
   "source": [
    "Queremos imprimir una lista que combine los dos datos:"
   ]
  },
  {
   "cell_type": "code",
   "execution_count": 2,
   "id": "f15547e9",
   "metadata": {
    "autoscroll": false,
    "collapsed": false,
    "ein.hycell": false,
    "ein.tags": "worksheet-0",
    "jupyter": {
     "outputs_hidden": false
    },
    "slideshow": {
     "slide_type": "-"
    }
   },
   "outputs": [
    {
     "name": "stdout",
     "output_type": "stream",
     "text": [
      "La temperatura mínima fue -3.2 y la máxima fue 13.2\n",
      "La temperatura mínima fue -2 y la máxima fue 12\n",
      "La temperatura mínima fue 0 y la máxima fue 13\n",
      "La temperatura mínima fue -1 y la máxima fue 7\n",
      "La temperatura mínima fue 4 y la máxima fue 18\n",
      "La temperatura mínima fue -5 y la máxima fue 5\n",
      "La temperatura mínima fue -2 y la máxima fue 11\n",
      "La temperatura mínima fue 0 y la máxima fue 14\n",
      "La temperatura mínima fue 4 y la máxima fue 10\n",
      "La temperatura mínima fue 0 y la máxima fue 10\n"
     ]
    }
   ],
   "source": [
    "for t1, t2 in zip(temp_min, temp_max):\n",
    "  print(f\"La temperatura mínima fue {t1} y la máxima fue {t2}\")"
   ]
  },
  {
   "cell_type": "markdown",
   "id": "e275c178-c1c0-4424-a0da-c699d8e4f4a5",
   "metadata": {
    "collapsed": false,
    "jupyter": {
     "outputs_hidden": false
    }
   },
   "source": [
    "Como vemos, la función `zip` nos permite combinar los elementos, tomando uno de cada lista por iteración.\n",
    "\n",
    "¿Qué retorna exactamente `zip``?"
   ]
  },
  {
   "cell_type": "code",
   "execution_count": 3,
   "id": "00bf0dbd-1105-4985-89ca-aee9b94ab9f2",
   "metadata": {
    "collapsed": false,
    "jupyter": {
     "outputs_hidden": false
    }
   },
   "outputs": [
    {
     "name": "stdout",
     "output_type": "stream",
     "text": [
      "<zip object at 0x7f325a706480>\n"
     ]
    },
    {
     "data": {
      "text/plain": [
       "[(-3.2, 13.2),\n",
       " (-2, 12),\n",
       " (0, 13),\n",
       " (-1, 7),\n",
       " (4, 18),\n",
       " (-5, 5),\n",
       " (-2, 11),\n",
       " (0, 14),\n",
       " (4, 10),\n",
       " (0, 10)]"
      ]
     },
     "execution_count": 3,
     "metadata": {},
     "output_type": "execute_result"
    }
   ],
   "source": [
    "print(zip(temp_min, temp_max))\n",
    "list(zip(temp_min, temp_max))"
   ]
  },
  {
   "cell_type": "markdown",
   "id": "fed223a5",
   "metadata": {
    "collapsed": false,
    "ein.tags": "worksheet-0",
    "jupyter": {
     "outputs_hidden": false
    },
    "slideshow": {
     "slide_type": "-"
    }
   },
   "source": [
    "Podemos agregar información del día en la salida por pantalla si volvemos a utilizar la función `enumerate`"
   ]
  },
  {
   "cell_type": "code",
   "execution_count": 4,
   "id": "809f0465",
   "metadata": {
    "autoscroll": false,
    "collapsed": false,
    "ein.hycell": false,
    "ein.tags": "worksheet-0",
    "jupyter": {
     "outputs_hidden": false
    },
    "slideshow": {
     "slide_type": "-"
    }
   },
   "outputs": [
    {
     "name": "stdout",
     "output_type": "stream",
     "text": [
      "El día 1 la temperatura mínima fue -3.2 y la máxima fue 13.2\n",
      "El día 2 la temperatura mínima fue -2 y la máxima fue 12\n",
      "El día 3 la temperatura mínima fue 0 y la máxima fue 13\n",
      "El día 4 la temperatura mínima fue -1 y la máxima fue 7\n",
      "El día 5 la temperatura mínima fue 4 y la máxima fue 18\n",
      "El día 6 la temperatura mínima fue -5 y la máxima fue 5\n",
      "El día 7 la temperatura mínima fue -2 y la máxima fue 11\n",
      "El día 8 la temperatura mínima fue 0 y la máxima fue 14\n",
      "El día 9 la temperatura mínima fue 4 y la máxima fue 10\n",
      "El día 10 la temperatura mínima fue 0 y la máxima fue 10\n"
     ]
    }
   ],
   "source": [
    "for j, t in enumerate(zip(temp_min, temp_max)):\n",
    "  print(f'El día {j+1} la temperatura mínima fue {t[0]} y la máxima fue {t[1]}')"
   ]
  },
  {
   "cell_type": "code",
   "execution_count": 5,
   "id": "adb8146b",
   "metadata": {
    "autoscroll": false,
    "collapsed": false,
    "ein.hycell": false,
    "ein.tags": "worksheet-0",
    "jupyter": {
     "outputs_hidden": false
    },
    "slideshow": {
     "slide_type": "-"
    }
   },
   "outputs": [
    {
     "name": "stdout",
     "output_type": "stream",
     "text": [
      "El día 1 la temperatura mínima fue -3.2 y la máxima fue 13.2\n",
      "El día 2 la temperatura mínima fue -2 y la máxima fue 12\n",
      "El día 3 la temperatura mínima fue 0 y la máxima fue 13\n",
      "El día 4 la temperatura mínima fue -1 y la máxima fue 7\n",
      "El día 5 la temperatura mínima fue 4 y la máxima fue 18\n",
      "El día 6 la temperatura mínima fue -5 y la máxima fue 5\n",
      "El día 7 la temperatura mínima fue -2 y la máxima fue 11\n",
      "El día 8 la temperatura mínima fue 0 y la máxima fue 14\n",
      "El día 9 la temperatura mínima fue 4 y la máxima fue 10\n",
      "El día 10 la temperatura mínima fue 0 y la máxima fue 10\n"
     ]
    }
   ],
   "source": [
    "for j, (t1,t2) in enumerate(zip(temp_min, temp_max),1):\n",
    "  print(f'El día {j} la temperatura mínima fue {t1} y la máxima fue {t2}')\n"
   ]
  },
  {
   "cell_type": "code",
   "execution_count": 6,
   "id": "e18a6a7c",
   "metadata": {
    "autoscroll": false,
    "collapsed": false,
    "ein.hycell": false,
    "ein.tags": "worksheet-0",
    "jupyter": {
     "outputs_hidden": false
    },
    "slideshow": {
     "slide_type": "-"
    }
   },
   "outputs": [
    {
     "name": "stdout",
     "output_type": "stream",
     "text": [
      "1 3\n",
      "2 4\n",
      "3 5\n"
     ]
    }
   ],
   "source": [
    "# ¿Qué pasa cuando una se consume antes que la otra?\n",
    "for t1, t2 in zip([1,2,3,4,5],[3,4,5]):\n",
    "    print(t1,t2)"
   ]
  },
  {
   "cell_type": "markdown",
   "id": "efb0ebcb",
   "metadata": {
    "collapsed": false,
    "ein.tags": "worksheet-0",
    "jupyter": {
     "outputs_hidden": false
    },
    "slideshow": {
     "slide_type": "-"
    }
   },
   "source": [
    "`zip` funciona también con más de dos listas"
   ]
  },
  {
   "cell_type": "code",
   "execution_count": 7,
   "id": "5553c5bf",
   "metadata": {
    "autoscroll": false,
    "collapsed": false,
    "ein.hycell": false,
    "ein.tags": "worksheet-0",
    "jupyter": {
     "outputs_hidden": false
    },
    "slideshow": {
     "slide_type": "-"
    }
   },
   "outputs": [
    {
     "name": "stdout",
     "output_type": "stream",
     "text": [
      "El día 1 la temperatura mínima fue -3.2 y la máxima fue 13.2\n",
      "El día 2 la temperatura mínima fue -2 y la máxima fue 12\n",
      "El día 3 la temperatura mínima fue 0 y la máxima fue 13\n",
      "El día 4 la temperatura mínima fue -1 y la máxima fue 7\n",
      "El día 5 la temperatura mínima fue 4 y la máxima fue 18\n",
      "El día 6 la temperatura mínima fue -5 y la máxima fue 5\n",
      "El día 7 la temperatura mínima fue -2 y la máxima fue 11\n",
      "El día 8 la temperatura mínima fue 0 y la máxima fue 14\n",
      "El día 9 la temperatura mínima fue 4 y la máxima fue 10\n",
      "El día 10 la temperatura mínima fue 0 y la máxima fue 10\n"
     ]
    }
   ],
   "source": [
    "for j,t1,t2 in zip(range(1,len(temp_min)+1),temp_min, temp_max):\n",
    "  print(f'El día {j} la temperatura mínima fue {t1} y la máxima fue {t2}')\n"
   ]
  },
  {
   "cell_type": "markdown",
   "id": "c2fe4394-34a1-4d09-ba75-c55d07e1aef1",
   "metadata": {
    "collapsed": false,
    "jupyter": {
     "outputs_hidden": false
    }
   },
   "source": [
    "Podemos utilizar la función `zip` para sumar dos listas término a término"
   ]
  },
  {
   "cell_type": "code",
   "execution_count": 8,
   "id": "71a28be9",
   "metadata": {
    "autoscroll": false,
    "collapsed": false,
    "ein.hycell": false,
    "ein.tags": "worksheet-0",
    "jupyter": {
     "outputs_hidden": false
    },
    "slideshow": {
     "slide_type": "-"
    }
   },
   "outputs": [
    {
     "name": "stdout",
     "output_type": "stream",
     "text": [
      "[5.0, 5.0, 6.5, 3.0, 11.0, 0.0, 4.5, 7.0, 7.0, 5.0]\n"
     ]
    }
   ],
   "source": [
    "tmedia = []\n",
    "for t1, t2 in zip(temp_min, temp_max):\n",
    "  tmedia.append((t1+t2)/2)\n",
    "print(tmedia)"
   ]
  },
  {
   "cell_type": "markdown",
   "id": "b66317d5",
   "metadata": {
    "collapsed": false,
    "ein.tags": "worksheet-0",
    "jupyter": {
     "outputs_hidden": false
    },
    "slideshow": {
     "slide_type": "-"
    }
   },
   "source": [
    "También podemos escribirlo en forma más compacta usando comprensiones de listas"
   ]
  },
  {
   "cell_type": "code",
   "execution_count": 9,
   "id": "68324619",
   "metadata": {
    "autoscroll": false,
    "collapsed": false,
    "ein.hycell": false,
    "ein.tags": "worksheet-0",
    "jupyter": {
     "outputs_hidden": false
    },
    "slideshow": {
     "slide_type": "-"
    }
   },
   "outputs": [
    {
     "name": "stdout",
     "output_type": "stream",
     "text": [
      "[5.0, 5.0, 6.5, 3.0, 11.0, 0.0, 4.5, 7.0, 7.0, 5.0]\n"
     ]
    }
   ],
   "source": [
    "tm = [(t1+t2)/2 for t1,t2 in zip(temp_min,temp_max)]\n",
    "print(tm)"
   ]
  },
  {
   "cell_type": "markdown",
   "id": "97c6f69b",
   "metadata": {
    "collapsed": false,
    "ein.tags": "worksheet-0",
    "jupyter": {
     "outputs_hidden": false
    },
    "slideshow": {
     "slide_type": "-"
    }
   },
   "source": [
    "### Iteraciones sobre diccionarios"
   ]
  },
  {
   "cell_type": "code",
   "execution_count": 10,
   "id": "67a5ab0a",
   "metadata": {
    "collapsed": false,
    "jupyter": {
     "outputs_hidden": false
    }
   },
   "outputs": [],
   "source": [
    "# temps = {j:{\"Tmin\": temp_min[j], \"Tmax\":temp_max[j]} for j in range(len(temp_min))}\n",
    "temps = {j:{\"Tmin\": tmin, \"Tmax\":tmax} for j,(tmin,tmax) in enumerate(zip(temp_min, temp_max))}"
   ]
  },
  {
   "cell_type": "code",
   "execution_count": 11,
   "id": "a18b33d7",
   "metadata": {
    "collapsed": false,
    "jupyter": {
     "outputs_hidden": false
    }
   },
   "outputs": [
    {
     "data": {
      "text/plain": [
       "{0: {'Tmin': -3.2, 'Tmax': 13.2},\n",
       " 1: {'Tmin': -2, 'Tmax': 12},\n",
       " 2: {'Tmin': 0, 'Tmax': 13},\n",
       " 3: {'Tmin': -1, 'Tmax': 7},\n",
       " 4: {'Tmin': 4, 'Tmax': 18},\n",
       " 5: {'Tmin': -5, 'Tmax': 5},\n",
       " 6: {'Tmin': -2, 'Tmax': 11},\n",
       " 7: {'Tmin': 0, 'Tmax': 14},\n",
       " 8: {'Tmin': 4, 'Tmax': 10},\n",
       " 9: {'Tmin': 0, 'Tmax': 10}}"
      ]
     },
     "execution_count": 11,
     "metadata": {},
     "output_type": "execute_result"
    }
   ],
   "source": [
    "temps"
   ]
  },
  {
   "cell_type": "code",
   "execution_count": 12,
   "id": "ae9abc40",
   "metadata": {
    "autoscroll": false,
    "collapsed": false,
    "ein.hycell": false,
    "ein.tags": "worksheet-0",
    "jupyter": {
     "outputs_hidden": false
    },
    "slideshow": {
     "slide_type": "-"
    }
   },
   "outputs": [
    {
     "name": "stdout",
     "output_type": "stream",
     "text": [
      "La temperatura máxima del día 0 fue 13.2 y la mínima -3.2\n",
      "La temperatura máxima del día 1 fue 12 y la mínima -2\n",
      "La temperatura máxima del día 2 fue 13 y la mínima 0\n",
      "La temperatura máxima del día 3 fue 7 y la mínima -1\n",
      "La temperatura máxima del día 4 fue 18 y la mínima 4\n",
      "La temperatura máxima del día 5 fue 5 y la mínima -5\n",
      "La temperatura máxima del día 6 fue 11 y la mínima -2\n",
      "La temperatura máxima del día 7 fue 14 y la mínima 0\n",
      "La temperatura máxima del día 8 fue 10 y la mínima 4\n",
      "La temperatura máxima del día 9 fue 10 y la mínima 0\n"
     ]
    }
   ],
   "source": [
    "for k in temps:\n",
    "  print(f'La temperatura máxima del día {k} fue {temps[k][\"Tmax\"]} y la mínima {temps[k][\"Tmin\"]}')"
   ]
  },
  {
   "cell_type": "markdown",
   "id": "f051dc62",
   "metadata": {
    "collapsed": false,
    "ein.tags": "worksheet-0",
    "jupyter": {
     "outputs_hidden": false
    },
    "slideshow": {
     "slide_type": "-"
    }
   },
   "source": [
    "Como comentamos anteriormente, cuando iteramos sobre un diccionario estamos moviéndonos sobre las `(k)eys`. El ejemplo anterior es equivalente a:"
   ]
  },
  {
   "cell_type": "code",
   "execution_count": 13,
   "id": "a0672bce",
   "metadata": {
    "autoscroll": false,
    "collapsed": false,
    "ein.hycell": false,
    "ein.tags": "worksheet-0",
    "jupyter": {
     "outputs_hidden": false
    },
    "slideshow": {
     "slide_type": "-"
    }
   },
   "outputs": [
    {
     "name": "stdout",
     "output_type": "stream",
     "text": [
      "La temperatura máxima del día 0 fue 13.2 y la mínima -3.2\n",
      "La temperatura máxima del día 1 fue 12 y la mínima -2\n",
      "La temperatura máxima del día 2 fue 13 y la mínima 0\n",
      "La temperatura máxima del día 3 fue 7 y la mínima -1\n",
      "La temperatura máxima del día 4 fue 18 y la mínima 4\n",
      "La temperatura máxima del día 5 fue 5 y la mínima -5\n",
      "La temperatura máxima del día 6 fue 11 y la mínima -2\n",
      "La temperatura máxima del día 7 fue 14 y la mínima 0\n",
      "La temperatura máxima del día 8 fue 10 y la mínima 4\n",
      "La temperatura máxima del día 9 fue 10 y la mínima 0\n"
     ]
    }
   ],
   "source": [
    "for k in temps.keys():\n",
    "  print(f'La temperatura máxima del día {k} fue {temps[k][\"Tmax\"]} y la mínima {temps[k][\"Tmin\"]}')"
   ]
  },
  {
   "cell_type": "markdown",
   "id": "d4e9e236",
   "metadata": {
    "collapsed": false,
    "ein.tags": "worksheet-0",
    "jupyter": {
     "outputs_hidden": false
    },
    "slideshow": {
     "slide_type": "-"
    }
   },
   "source": [
    "En este caso, para referirnos al valor tenemos que hacerlo en la forma `temps[k]`, y no siempre es una manera muy clara de escribir las cosas. Otra manera similar, pero más limpia en este caso sería:"
   ]
  },
  {
   "cell_type": "code",
   "execution_count": 14,
   "id": "d4eff566",
   "metadata": {
    "autoscroll": false,
    "collapsed": false,
    "ein.hycell": false,
    "ein.tags": "worksheet-0",
    "jupyter": {
     "outputs_hidden": false
    },
    "slideshow": {
     "slide_type": "-"
    }
   },
   "outputs": [
    {
     "name": "stdout",
     "output_type": "stream",
     "text": [
      "La temperatura máxima del día 0 fue -3.2 y la mínima 13.2\n",
      "La temperatura máxima del día 1 fue -2 y la mínima 12\n",
      "La temperatura máxima del día 2 fue 0 y la mínima 13\n",
      "La temperatura máxima del día 3 fue -1 y la mínima 7\n",
      "La temperatura máxima del día 4 fue 4 y la mínima 18\n",
      "La temperatura máxima del día 5 fue -5 y la mínima 5\n",
      "La temperatura máxima del día 6 fue -2 y la mínima 11\n",
      "La temperatura máxima del día 7 fue 0 y la mínima 14\n",
      "La temperatura máxima del día 8 fue 4 y la mínima 10\n",
      "La temperatura máxima del día 9 fue 0 y la mínima 10\n"
     ]
    }
   ],
   "source": [
    "for k, v in temps.items():\n",
    "  print(f\"La temperatura máxima del día {k} fue {v['Tmin']} y la mínima {v['Tmax']}\")"
   ]
  },
  {
   "cell_type": "markdown",
   "id": "12965282",
   "metadata": {
    "collapsed": false,
    "ein.tags": "worksheet-0",
    "jupyter": {
     "outputs_hidden": false
    },
    "slideshow": {
     "slide_type": "-"
    }
   },
   "source": [
    "Si queremos iterar sobre los valores podemos utilizar simplemente:"
   ]
  },
  {
   "cell_type": "code",
   "execution_count": 15,
   "id": "33949238",
   "metadata": {
    "autoscroll": false,
    "collapsed": false,
    "ein.hycell": false,
    "ein.tags": "worksheet-0",
    "jupyter": {
     "outputs_hidden": false
    },
    "slideshow": {
     "slide_type": "-"
    }
   },
   "outputs": [
    {
     "name": "stdout",
     "output_type": "stream",
     "text": [
      "{'Tmin': -3.2, 'Tmax': 13.2}\n",
      "{'Tmin': -2, 'Tmax': 12}\n",
      "{'Tmin': 0, 'Tmax': 13}\n",
      "{'Tmin': -1, 'Tmax': 7}\n",
      "{'Tmin': 4, 'Tmax': 18}\n",
      "{'Tmin': -5, 'Tmax': 5}\n",
      "{'Tmin': -2, 'Tmax': 11}\n",
      "{'Tmin': 0, 'Tmax': 14}\n",
      "{'Tmin': 4, 'Tmax': 10}\n",
      "{'Tmin': 0, 'Tmax': 10}\n"
     ]
    }
   ],
   "source": [
    "for v in temps.values():\n",
    "  print(v)"
   ]
  },
  {
   "cell_type": "markdown",
   "id": "ac5781fa",
   "metadata": {
    "collapsed": false,
    "ein.tags": "worksheet-0",
    "jupyter": {
     "outputs_hidden": false
    },
    "slideshow": {
     "slide_type": "-"
    }
   },
   "source": [
    "Remarquemos que los diccionarios no tienen definidos un orden por lo que no hay garantías que la próxima vez que ejecutemos cualquiera de estas líneas de código el orden del resultado sea exactamente el mismo. Además, si queremos imprimirlos en un orden predecible debemos escribirlo explícitamente. Por ejemplo:"
   ]
  },
  {
   "cell_type": "code",
   "execution_count": 16,
   "id": "65785998",
   "metadata": {
    "autoscroll": false,
    "collapsed": false,
    "ein.hycell": false,
    "ein.tags": "worksheet-0",
    "jupyter": {
     "outputs_hidden": false
    },
    "slideshow": {
     "slide_type": "-"
    }
   },
   "outputs": [
    {
     "name": "stdout",
     "output_type": "stream",
     "text": [
      "9 {'Tmin': 0, 'Tmax': 10}\n",
      "8 {'Tmin': 4, 'Tmax': 10}\n",
      "7 {'Tmin': 0, 'Tmax': 14}\n",
      "6 {'Tmin': -2, 'Tmax': 11}\n",
      "5 {'Tmin': -5, 'Tmax': 5}\n",
      "4 {'Tmin': 4, 'Tmax': 18}\n",
      "3 {'Tmin': -1, 'Tmax': 7}\n",
      "2 {'Tmin': 0, 'Tmax': 13}\n",
      "1 {'Tmin': -2, 'Tmax': 12}\n",
      "0 {'Tmin': -3.2, 'Tmax': 13.2}\n"
     ]
    }
   ],
   "source": [
    "L = list(temps.keys())\n",
    "L.sort(reverse=True)\n",
    "for k in L:\n",
    "  print(k, temps[k])"
   ]
  },
  {
   "cell_type": "markdown",
   "id": "7ce925b4",
   "metadata": {
    "collapsed": false,
    "ein.tags": "worksheet-0",
    "jupyter": {
     "outputs_hidden": false
    },
    "slideshow": {
     "slide_type": "-"
    }
   },
   "source": [
    "La secuencia anterior puede escribirse en forma más compacta como"
   ]
  },
  {
   "cell_type": "code",
   "execution_count": 17,
   "id": "738ae194",
   "metadata": {
    "autoscroll": false,
    "collapsed": false,
    "ein.hycell": false,
    "ein.tags": "worksheet-0",
    "jupyter": {
     "outputs_hidden": false
    },
    "slideshow": {
     "slide_type": "-"
    }
   },
   "outputs": [
    {
     "name": "stdout",
     "output_type": "stream",
     "text": [
      "9 {'Tmin': 0, 'Tmax': 10}\n",
      "8 {'Tmin': 4, 'Tmax': 10}\n",
      "7 {'Tmin': 0, 'Tmax': 14}\n",
      "6 {'Tmin': -2, 'Tmax': 11}\n",
      "5 {'Tmin': -5, 'Tmax': 5}\n",
      "4 {'Tmin': 4, 'Tmax': 18}\n",
      "3 {'Tmin': -1, 'Tmax': 7}\n",
      "2 {'Tmin': 0, 'Tmax': 13}\n",
      "1 {'Tmin': -2, 'Tmax': 12}\n",
      "0 {'Tmin': -3.2, 'Tmax': 13.2}\n"
     ]
    }
   ],
   "source": [
    "for k in sorted(temps,reverse=True):\n",
    "  print(k, temps[k])"
   ]
  },
  {
   "cell_type": "markdown",
   "id": "91645903",
   "metadata": {
    "collapsed": false,
    "jupyter": {
     "outputs_hidden": false
    }
   },
   "source": [
    "-----\n",
    "\n",
    "## Ejercicios 04 (a)\n",
    "\n",
    "1. Un método para calcular el área de un polígono (no necesariamente regular) que se conoce como fórmula del área de Gauss o fórmula de la Lazada (*shoelace formula*) consiste en describir al polígono por sus puntos en un sistema de coordenadas. Cada punto se describe como un par $(x,y)$ y la fórmula del área está dada mediante la suma de la multiplicación de los valores en una diagonal a los que se le resta los valores en la otra diagonal, como muestra la figura\n",
    "\n",
    "    ![](figuras/shoelace.png) \n",
    "\n",
    "    $$ 2 A = (x_{1} y_{2} + x_{2} y_{3} + x_{3} y_{4} + \\dots) - (x_{2} y_{1} + x_{3} y_{2} + x_{4} y_{3} + \\dots) $$\n",
    "\n",
    "    ![](figuras/ejemplo_shoelace.png) \n",
    "\n",
    "\n",
    "    - Utilizando una descripción adecuada del polígono, escribir una función que implemente la fórmula de Gauss para calcular su área y aplicarla al ejemplo de la figura.\n",
    "\n",
    "    - Verificar que el resultado no depende del punto de inicio.\n",
    "\n",
    "\n",
    "-----\n",
    "\n",
    "."
   ]
  }
 ],
 "metadata": {
  "kernelspec": {
   "display_name": "Python 3 (ipykernel)",
   "language": "python",
   "name": "python3"
  },
  "language_info": {
   "codemirror_mode": {
    "name": "ipython",
    "version": 3
   },
   "file_extension": ".py",
   "mimetype": "text/x-python",
   "name": "python",
   "nbconvert_exporter": "python",
   "pygments_lexer": "ipython3",
   "version": "3.11.7"
  },
  "name": "04_1_iteraciones_func.ipynb",
  "toc": {
   "base_numbering": 1,
   "nav_menu": {
    "height": "98.2667px",
    "width": "252px"
   },
   "number_sections": true,
   "sideBar": true,
   "skip_h1_title": false,
   "title_cell": "Contenidos",
   "title_sidebar": "Contenidos",
   "toc_cell": false,
   "toc_position": {
    "height": "calc(100% - 180px)",
    "left": "10px",
    "top": "150px",
    "width": "165px"
   },
   "toc_section_display": true,
   "toc_window_display": false
  }
 },
 "nbformat": 4,
 "nbformat_minor": 5
}
