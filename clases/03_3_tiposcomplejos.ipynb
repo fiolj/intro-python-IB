{
 "cells": [
  {
   "cell_type": "markdown",
   "id": "f5bea92e",
   "metadata": {
    "collapsed": false,
    "jupyter": {
     "outputs_hidden": false
    }
   },
   "source": [
    "\n",
    "## Diccionarios\n",
    "\n",
    "Los diccionarios son colecciones de objetos *no necesariamente homogéneos* que no están ordenados y no se pueden identificar mediante un índice (como L[3] para una lista) sino por un nombre o clave (llamado **key**).\n",
    "Las claves pueden ser cualquier objeto inmutable (cadenas de caracteres, números, tuplas) y los valores pueden ser cualquier tipo de objeto. Las claves no se pueden repetir pero los valores sí."
   ]
  },
  {
   "cell_type": "markdown",
   "id": "42df321d",
   "metadata": {
    "collapsed": false,
    "jupyter": {
     "outputs_hidden": false
    }
   },
   "source": [
    "### Creación de diccionarios"
   ]
  },
  {
   "cell_type": "code",
   "execution_count": 1,
   "id": "544f5996",
   "metadata": {
    "collapsed": false,
    "jupyter": {
     "outputs_hidden": false
    }
   },
   "outputs": [],
   "source": [
    "d01 = {}\n",
    "d02 = dict()\n",
    "d1 = {'S': 'Al', 'Z': 13, 'A': 27, 'M':26.98153863 }\n",
    "d2 = {'A': 27, 'M':26.98153863, 'S': 'Al', 'Z': 13 }\n",
    "d3 = dict( [('S','Al'), ('A',27), ('Z',13), ('M',26.98153863)])\n",
    "d4 = {n: n**2 for n in range(6)}"
   ]
  },
  {
   "cell_type": "markdown",
   "id": "a56036df",
   "metadata": {
    "collapsed": false,
    "jupyter": {
     "outputs_hidden": false
    }
   },
   "source": [
    "Acá estamos creando diccionarios de diferentes maneras:\n",
    "\n",
    "- `d01` y `d02` corresponden a diccionarios vacíos\n",
    "- `d1` y `d2` se crean utilizando el formato `clave: valor`\n",
    "- `d3` se crea a partir de una lista de 2-tuplas donde el primer elemento de cada tupla es la clave y el segundo el valor\n",
    "- `d4` se crea mediante una \"comprensión de diccionarios\""
   ]
  },
  {
   "cell_type": "code",
   "execution_count": 2,
   "id": "9888ace7",
   "metadata": {
    "collapsed": false,
    "jupyter": {
     "outputs_hidden": false
    }
   },
   "outputs": [
    {
     "name": "stdout",
     "output_type": "stream",
     "text": [
      "{}\n",
      "{}\n"
     ]
    }
   ],
   "source": [
    "print(d01)\n",
    "print(d02)"
   ]
  },
  {
   "cell_type": "code",
   "execution_count": 3,
   "id": "324f838d",
   "metadata": {
    "collapsed": false,
    "jupyter": {
     "outputs_hidden": false
    }
   },
   "outputs": [
    {
     "name": "stdout",
     "output_type": "stream",
     "text": [
      "{0: 0, 1: 1, 2: 4, 3: 9, 4: 16, 5: 25}\n"
     ]
    }
   ],
   "source": [
    "print(d4)"
   ]
  },
  {
   "cell_type": "code",
   "execution_count": 4,
   "id": "8a77154c-83cc-4c13-8a52-49fa9c125882",
   "metadata": {
    "collapsed": false,
    "jupyter": {
     "outputs_hidden": false
    }
   },
   "outputs": [
    {
     "name": "stdout",
     "output_type": "stream",
     "text": [
      "d4 = {0: 0, 1: 1, 2: 4, 3: 9, 4: 16, 5: 25}\n",
      "d4 = {0: 0, 1: 1, 2: 4, 3: 9, 4: 16, 5: 25}\n",
      "d4={0: 0, 1: 1, 2: 4, 3: 9, 4: 16, 5: 25}\n"
     ]
    }
   ],
   "source": [
    "print(f\"d4 = {d4}\")\n",
    "print(f\"{d4 = }\")\n",
    "print(f\"{d4=}\")"
   ]
  },
  {
   "cell_type": "markdown",
   "id": "f8d5d72c",
   "metadata": {
    "collapsed": false,
    "jupyter": {
     "outputs_hidden": false
    }
   },
   "source": [
    "Notar que los diccionarios `d1`, `d2`, `d3` tienen las mismas claves y valores, pero se crean con distinto orden"
   ]
  },
  {
   "cell_type": "code",
   "execution_count": 5,
   "id": "e30ca943-cc0c-4b4d-b5ab-ed56dee0e539",
   "metadata": {
    "collapsed": false,
    "jupyter": {
     "outputs_hidden": false
    }
   },
   "outputs": [
    {
     "name": "stdout",
     "output_type": "stream",
     "text": [
      "(d1 == d2) = True\n"
     ]
    }
   ],
   "source": [
    "print(f\"(d1 == d2) = {d1 == d2}\")"
   ]
  },
  {
   "cell_type": "code",
   "execution_count": 6,
   "id": "580b61fe",
   "metadata": {
    "collapsed": false,
    "jupyter": {
     "outputs_hidden": false
    }
   },
   "outputs": [
    {
     "name": "stdout",
     "output_type": "stream",
     "text": [
      "{'S': 'Al', 'Z': 13, 'A': 27, 'M': 26.98153863}\n",
      "(d1 == d2) = True   y   (d1 == d3) = True\n"
     ]
    }
   ],
   "source": [
    "print(d1)\n",
    "print(f\"{(d1 == d2) = }   y   {(d1 == d3) = }\")"
   ]
  },
  {
   "cell_type": "markdown",
   "id": "243e0e0d",
   "metadata": {
    "collapsed": false,
    "jupyter": {
     "outputs_hidden": false
    }
   },
   "source": [
    "Como ocurre con otros tipos complejos, al realizar una asignación de un diccionario a otro, no se crea un nuevo objeto"
   ]
  },
  {
   "cell_type": "code",
   "execution_count": 7,
   "id": "538ef3b6",
   "metadata": {
    "collapsed": false,
    "jupyter": {
     "outputs_hidden": false
    }
   },
   "outputs": [
    {
     "name": "stdout",
     "output_type": "stream",
     "text": [
      "True\n",
      "True\n"
     ]
    }
   ],
   "source": [
    "d5 = d2\n",
    "print(d5 == d2)\n",
    "print(d5 is d2)"
   ]
  },
  {
   "cell_type": "markdown",
   "id": "082d0ad7",
   "metadata": {
    "collapsed": false,
    "jupyter": {
     "outputs_hidden": false
    }
   },
   "source": [
    "y, por lo tanto, si modificamos uno de ellos también estamos modificando el otro.\n",
    "\n",
    "Para realizar una copia independiente utilizamos el método `copy()`:"
   ]
  },
  {
   "cell_type": "code",
   "execution_count": 8,
   "id": "9a7065a3",
   "metadata": {
    "collapsed": false,
    "jupyter": {
     "outputs_hidden": false
    }
   },
   "outputs": [
    {
     "name": "stdout",
     "output_type": "stream",
     "text": [
      "True\n",
      "False\n"
     ]
    }
   ],
   "source": [
    "d6 = d2.copy()\n",
    "print(d6 == d2)\n",
    "print(d6 is d2)"
   ]
  },
  {
   "cell_type": "markdown",
   "id": "ff7f7242",
   "metadata": {
    "collapsed": false,
    "jupyter": {
     "outputs_hidden": false
    }
   },
   "source": [
    "\n",
    "### Selección de elementos\n",
    "\n",
    "Para seleccionar un elemento de un diccionario, se lo llama por su clave (`key`)"
   ]
  },
  {
   "cell_type": "code",
   "execution_count": 9,
   "id": "cfa99bda",
   "metadata": {
    "collapsed": false,
    "jupyter": {
     "outputs_hidden": false
    }
   },
   "outputs": [
    {
     "data": {
      "text/plain": [
       "27"
      ]
     },
     "execution_count": 9,
     "metadata": {},
     "output_type": "execute_result"
    }
   ],
   "source": [
    "d1['A']"
   ]
  },
  {
   "cell_type": "code",
   "execution_count": 10,
   "id": "330ed36e",
   "metadata": {
    "collapsed": false,
    "jupyter": {
     "outputs_hidden": false
    }
   },
   "outputs": [
    {
     "data": {
      "text/plain": [
       "26.98153863"
      ]
     },
     "execution_count": 10,
     "metadata": {},
     "output_type": "execute_result"
    }
   ],
   "source": [
    "d1['M']"
   ]
  },
  {
   "cell_type": "code",
   "execution_count": 11,
   "id": "18df0c51",
   "metadata": {
    "collapsed": false,
    "jupyter": {
     "outputs_hidden": false
    }
   },
   "outputs": [
    {
     "data": {
      "text/plain": [
       "'Al'"
      ]
     },
     "execution_count": 11,
     "metadata": {},
     "output_type": "execute_result"
    }
   ],
   "source": [
    "d1[\"S\"]"
   ]
  },
  {
   "cell_type": "markdown",
   "id": "478b1824",
   "metadata": {
    "collapsed": false,
    "jupyter": {
     "outputs_hidden": false
    }
   },
   "source": [
    "Un uso muy común de los diccionarios es la descripción de estructuras complejas, donde cada campo tiene un significado, como podría ser por ejemplo una agenda"
   ]
  },
  {
   "cell_type": "code",
   "execution_count": 12,
   "id": "d5262238",
   "metadata": {
    "collapsed": false,
    "jupyter": {
     "outputs_hidden": false
    }
   },
   "outputs": [],
   "source": [
    "entrada = {'nombre':'Juan', \n",
    "      'apellido': 'García', \n",
    "      'edad': 109, \n",
    "      'dirección': '''Av Bustillo 9500,''', \n",
    "      'cod':8400,  \n",
    "      'ciudad': \"Bariloche\"}"
   ]
  },
  {
   "cell_type": "code",
   "execution_count": 13,
   "id": "a2451390",
   "metadata": {
    "collapsed": false,
    "jupyter": {
     "outputs_hidden": false
    }
   },
   "outputs": [
    {
     "name": "stdout",
     "output_type": "stream",
     "text": [
      "Nombre:  Juan\n",
      "\n",
      "Diccionario:\n",
      "------------\n",
      "\n",
      "{'nombre': 'Juan', 'apellido': 'García', 'edad': 109, 'dirección': 'Av Bustillo 9500,', 'cod': 8400, 'ciudad': 'Bariloche'}\n"
     ]
    }
   ],
   "source": [
    "print ('Nombre: ', entrada['nombre'])\n",
    "print ('\\nDiccionario:')\n",
    "print ((len(\"Diccionario:\")*\"-\")+\"\\n\")\n",
    "print (entrada)"
   ]
  },
  {
   "cell_type": "code",
   "execution_count": 14,
   "id": "33d30e51",
   "metadata": {
    "collapsed": false,
    "jupyter": {
     "outputs_hidden": false
    }
   },
   "outputs": [
    {
     "data": {
      "text/plain": [
       "8400"
      ]
     },
     "execution_count": 14,
     "metadata": {},
     "output_type": "execute_result"
    }
   ],
   "source": [
    "entrada['cod']"
   ]
  },
  {
   "cell_type": "markdown",
   "id": "9717496a-827d-4fa3-be11-11eb6c0d0caf",
   "metadata": {
    "collapsed": false,
    "jupyter": {
     "outputs_hidden": false
    }
   },
   "source": [
    "Un diccionario puede tener elementos de distinto tipo, tanto en claves como en valores"
   ]
  },
  {
   "cell_type": "code",
   "execution_count": 15,
   "id": "9144b6ff",
   "metadata": {
    "collapsed": false,
    "jupyter": {
     "outputs_hidden": false
    }
   },
   "outputs": [
    {
     "data": {
      "text/plain": [
       "{'nombre': 'Juan',\n",
       " 'apellido': 'García',\n",
       " 'edad': 109,\n",
       " 'dirección': 'Av Bustillo 9500,',\n",
       " 'cod': 8400,\n",
       " 'ciudad': 'Bariloche'}"
      ]
     },
     "execution_count": 15,
     "metadata": {},
     "output_type": "execute_result"
    }
   ],
   "source": [
    "entrada"
   ]
  },
  {
   "cell_type": "code",
   "execution_count": 16,
   "id": "7c2805bc-474f-4276-80cd-ef2a80e075f7",
   "metadata": {
    "collapsed": false,
    "jupyter": {
     "outputs_hidden": false
    }
   },
   "outputs": [],
   "source": [
    "entrada[1] = [2,3]         # Agregamos el campo `1`"
   ]
  },
  {
   "cell_type": "code",
   "execution_count": 17,
   "id": "eb7313c9-d61d-4fbe-9e00-64cb855c529f",
   "metadata": {
    "collapsed": false,
    "jupyter": {
     "outputs_hidden": false
    }
   },
   "outputs": [
    {
     "data": {
      "text/plain": [
       "{'nombre': 'Juan',\n",
       " 'apellido': 'García',\n",
       " 'edad': 109,\n",
       " 'dirección': 'Av Bustillo 9500,',\n",
       " 'cod': 8400,\n",
       " 'ciudad': 'Bariloche',\n",
       " 1: [2, 3]}"
      ]
     },
     "execution_count": 17,
     "metadata": {},
     "output_type": "execute_result"
    }
   ],
   "source": [
    "entrada"
   ]
  },
  {
   "cell_type": "markdown",
   "id": "33998401",
   "metadata": {
    "collapsed": false,
    "jupyter": {
     "outputs_hidden": false
    }
   },
   "source": [
    "\n",
    "### Acceso a claves y valores\n",
    "\n",
    "Los diccionarios pueden pensarse como pares *key*, *valor*. Para obtener todas las claves (*keys*), valores, o pares (clave, valor) usamos:"
   ]
  },
  {
   "cell_type": "code",
   "execution_count": 18,
   "id": "e0f3fa55",
   "metadata": {
    "collapsed": false,
    "jupyter": {
     "outputs_hidden": false
    }
   },
   "outputs": [
    {
     "name": "stdout",
     "output_type": "stream",
     "text": [
      "\n",
      "\n",
      "Keys:\n",
      "['nombre', 'apellido', 'edad', 'dirección', 'cod', 'ciudad', 1]\n",
      "\n",
      "\n",
      "Values:\n",
      "['Juan', 'García', 109, 'Av Bustillo 9500,', 8400, 'Bariloche', [2, 3]]\n",
      "\n",
      "\n",
      "Items:\n",
      "[('nombre', 'Juan'), ('apellido', 'García'), ('edad', 109), ('dirección', 'Av Bustillo 9500,'), ('cod', 8400), ('ciudad', 'Bariloche'), (1, [2, 3])]\n"
     ]
    }
   ],
   "source": [
    "print ('\\n\\nKeys:')\n",
    "print (list(entrada.keys()))\n",
    "print ('\\n\\nValues:')\n",
    "print (list(entrada.values()))\n",
    "print ('\\n\\nItems:')\n",
    "print (list(entrada.items()))"
   ]
  },
  {
   "cell_type": "code",
   "execution_count": 19,
   "id": "fedb7f87",
   "metadata": {
    "collapsed": false,
    "jupyter": {
     "outputs_hidden": false
    }
   },
   "outputs": [
    {
     "data": {
      "text/plain": [
       "[('nombre', 'Juan'),\n",
       " ('apellido', 'García'),\n",
       " ('edad', 109),\n",
       " ('dirección', 'Av Bustillo 9500,'),\n",
       " ('cod', 8400),\n",
       " ('ciudad', 'Bariloche'),\n",
       " (1, [2, 3])]"
      ]
     },
     "execution_count": 19,
     "metadata": {},
     "output_type": "execute_result"
    }
   ],
   "source": [
    "it = list(entrada.items())\n",
    "it"
   ]
  },
  {
   "cell_type": "code",
   "execution_count": 20,
   "id": "e4447c44",
   "metadata": {
    "collapsed": false,
    "jupyter": {
     "outputs_hidden": false
    }
   },
   "outputs": [
    {
     "data": {
      "text/plain": [
       "{'nombre': 'Juan',\n",
       " 'apellido': 'García',\n",
       " 'edad': 109,\n",
       " 'dirección': 'Av Bustillo 9500,',\n",
       " 'cod': 8400,\n",
       " 'ciudad': 'Bariloche',\n",
       " 1: [2, 3]}"
      ]
     },
     "execution_count": 20,
     "metadata": {},
     "output_type": "execute_result"
    }
   ],
   "source": [
    "dict(it)"
   ]
  },
  {
   "cell_type": "markdown",
   "id": "818e740b",
   "metadata": {
    "collapsed": false,
    "jupyter": {
     "outputs_hidden": false
    }
   },
   "source": [
    "\n",
    "### Modificación o adición de campos\n",
    "\n",
    "Si queremos modificar un campo o agregar uno nuevo simplemente asignamos un nuevo valor como lo haríamos para una variable. "
   ]
  },
  {
   "cell_type": "code",
   "execution_count": 21,
   "id": "14839308-c586-43d0-b702-40960629bed8",
   "metadata": {
    "collapsed": false,
    "jupyter": {
     "outputs_hidden": false
    }
   },
   "outputs": [],
   "source": [
    "entrada['tel'] = {'cel':1213, 'fijo':23848}"
   ]
  },
  {
   "cell_type": "code",
   "execution_count": 22,
   "id": "4d76d3cd-61b2-43a4-bb24-7842b2060171",
   "metadata": {
    "collapsed": false,
    "jupyter": {
     "outputs_hidden": false
    }
   },
   "outputs": [
    {
     "data": {
      "text/plain": [
       "{'nombre': 'Juan',\n",
       " 'apellido': 'García',\n",
       " 'edad': 109,\n",
       " 'dirección': 'Av Bustillo 9500,',\n",
       " 'cod': 8400,\n",
       " 'ciudad': 'Bariloche',\n",
       " 1: [2, 3],\n",
       " 'tel': {'cel': 1213, 'fijo': 23848}}"
      ]
     },
     "execution_count": 22,
     "metadata": {},
     "output_type": "execute_result"
    }
   ],
   "source": [
    "entrada"
   ]
  },
  {
   "cell_type": "code",
   "execution_count": 23,
   "id": "823a358e-69a3-42b4-a365-d392619ab0fc",
   "metadata": {
    "collapsed": false,
    "jupyter": {
     "outputs_hidden": false
    }
   },
   "outputs": [
    {
     "name": "stdout",
     "output_type": "stream",
     "text": [
      "1213\n",
      "{'cel': 1213, 'fijo': 23848}\n",
      "1213\n"
     ]
    }
   ],
   "source": [
    "print(entrada['tel']['cel'])\n",
    "telefono = entrada['tel']\n",
    "print(telefono)\n",
    "print(telefono['cel'])"
   ]
  },
  {
   "cell_type": "markdown",
   "id": "9d4b1798-43b4-4885-91b5-021d43dd2577",
   "metadata": {
    "collapsed": false,
    "jupyter": {
     "outputs_hidden": false
    }
   },
   "source": [
    "En el siguiente ejemplo agregamos un nuevo campo indicando el \"país\" y modificamos el valor de la ciudad:"
   ]
  },
  {
   "cell_type": "code",
   "execution_count": 24,
   "id": "8b9199d9",
   "metadata": {
    "collapsed": false,
    "jupyter": {
     "outputs_hidden": false
    }
   },
   "outputs": [
    {
     "name": "stdout",
     "output_type": "stream",
     "text": [
      "\n",
      "\n",
      "Datos:\n",
      "\n",
      "Juan García\n",
      "Av Bustillo 9500,\n",
      "San Carlos de Bariloche\n",
      "Argentina\n"
     ]
    }
   ],
   "source": [
    "entrada['pais']= 'Argentina'\n",
    "entrada['ciudad']= \"San Carlos de Bariloche\"\n",
    "# imprimimos\n",
    "print ('\\n\\nDatos:\\n')\n",
    "print (entrada['nombre'] + ' ' + entrada['apellido'])\n",
    "print (entrada['dirección'])\n",
    "print (entrada['ciudad'])\n",
    "print (entrada['pais'])"
   ]
  },
  {
   "cell_type": "code",
   "execution_count": 25,
   "id": "7cd51485",
   "metadata": {
    "collapsed": false,
    "jupyter": {
     "outputs_hidden": false
    }
   },
   "outputs": [
    {
     "name": "stdout",
     "output_type": "stream",
     "text": [
      "************************************************************\n",
      "Otro diccionario:\n",
      "d2= {'provincia': 'Río Negro', 'nombre': 'José'}\n",
      "************************************************************\n"
     ]
    }
   ],
   "source": [
    "d2 = {'provincia': 'Río Negro', 'nombre':'José'}\n",
    "print (60*'*'+'\\nOtro diccionario:')\n",
    "print ('d2=',d2)\n",
    "print (60*'*')"
   ]
  },
  {
   "cell_type": "markdown",
   "id": "b20fc2ca",
   "metadata": {
    "collapsed": false,
    "jupyter": {
     "outputs_hidden": false
    }
   },
   "source": [
    "Vimos que se pueden asignar campos a diccionarios. También se pueden completar utilizando otro diccionario, usando el método `update()`"
   ]
  },
  {
   "cell_type": "code",
   "execution_count": 26,
   "id": "cd996455-c799-41d2-bf7a-eadda4e8e413",
   "metadata": {
    "collapsed": false,
    "jupyter": {
     "outputs_hidden": false
    }
   },
   "outputs": [
    {
     "name": "stdout",
     "output_type": "stream",
     "text": [
      "entrada = {'nombre': 'Juan', 'apellido': 'García', 'edad': 109, 'dirección': 'Av Bustillo 9500,', 'cod': 8400, 'ciudad': 'San Carlos de Bariloche', 1: [2, 3], 'tel': {'cel': 1213, 'fijo': 23848}, 'pais': 'Argentina'}\n"
     ]
    }
   ],
   "source": [
    "print (f'{entrada = }')"
   ]
  },
  {
   "cell_type": "code",
   "execution_count": 27,
   "id": "a01e9215-f2f3-4dd5-99db-847bbe66d7a3",
   "metadata": {
    "collapsed": false,
    "jupyter": {
     "outputs_hidden": false
    }
   },
   "outputs": [
    {
     "name": "stdout",
     "output_type": "stream",
     "text": [
      "\n",
      "Nuevo valor:\n",
      "\n",
      "entrada = {'nombre': 'José', 'apellido': 'García', 'edad': 109, 'dirección': 'Av Bustillo 9500,', 'cod': 8400, 'ciudad': 'San Carlos de Bariloche', 1: [2, 3], 'tel': {'cel': 1213, 'fijo': 23848}, 'pais': 'Argentina', 'provincia': 'Río Negro'}\n"
     ]
    }
   ],
   "source": [
    "entrada.update(d2)  # Corregimos valores o agregamos nuevos si no existen\n",
    "print (\"\\nNuevo valor:\\n\")\n",
    "print (f'{entrada = }')"
   ]
  },
  {
   "cell_type": "code",
   "execution_count": 30,
   "id": "8c1e8abf-f36b-47b5-8f56-09bd0b9cc211",
   "metadata": {},
   "outputs": [
    {
     "data": {
      "text/plain": [
       "'Río Negro'"
      ]
     },
     "execution_count": 30,
     "metadata": {},
     "output_type": "execute_result"
    }
   ],
   "source": [
    "entrada['provincia']"
   ]
  },
  {
   "cell_type": "code",
   "execution_count": 31,
   "id": "15689215",
   "metadata": {
    "collapsed": false,
    "jupyter": {
     "outputs_hidden": false
    }
   },
   "outputs": [
    {
     "name": "stdout",
     "output_type": "stream",
     "text": [
      "'provincia' in entrada = True\n",
      "'provincia' in entrada = False\n"
     ]
    }
   ],
   "source": [
    "# Para borrar un campo de un diccionario usamos `del`\n",
    "print (f\"{'provincia' in entrada = }\")\n",
    "del entrada['provincia']\n",
    "print (f\"{'provincia' in entrada = }\")"
   ]
  },
  {
   "cell_type": "markdown",
   "id": "95c7523d",
   "metadata": {
    "collapsed": false,
    "jupyter": {
     "outputs_hidden": false
    }
   },
   "source": [
    "El método `pop` nos devuelve un valor y lo borra del diccionario."
   ]
  },
  {
   "cell_type": "code",
   "execution_count": 32,
   "id": "4097399d",
   "metadata": {
    "collapsed": false,
    "jupyter": {
     "outputs_hidden": false
    }
   },
   "outputs": [
    {
     "data": {
      "text/plain": [
       "{'nombre': 'José',\n",
       " 'apellido': 'García',\n",
       " 'edad': 109,\n",
       " 'dirección': 'Av Bustillo 9500,',\n",
       " 'cod': 8400,\n",
       " 'ciudad': 'San Carlos de Bariloche',\n",
       " 1: [2, 3],\n",
       " 'tel': {'cel': 1213, 'fijo': 23848},\n",
       " 'pais': 'Argentina'}"
      ]
     },
     "execution_count": 32,
     "metadata": {},
     "output_type": "execute_result"
    }
   ],
   "source": [
    "entrada"
   ]
  },
  {
   "cell_type": "code",
   "execution_count": 33,
   "id": "a3a6a1be",
   "metadata": {
    "collapsed": false,
    "jupyter": {
     "outputs_hidden": false
    }
   },
   "outputs": [
    {
     "data": {
      "text/plain": [
       "[2, 3]"
      ]
     },
     "execution_count": 33,
     "metadata": {},
     "output_type": "execute_result"
    }
   ],
   "source": [
    "entrada.pop(1)"
   ]
  },
  {
   "cell_type": "code",
   "execution_count": 34,
   "id": "ba9d328a",
   "metadata": {
    "collapsed": false,
    "jupyter": {
     "outputs_hidden": false
    }
   },
   "outputs": [
    {
     "data": {
      "text/plain": [
       "{'nombre': 'José',\n",
       " 'apellido': 'García',\n",
       " 'edad': 109,\n",
       " 'dirección': 'Av Bustillo 9500,',\n",
       " 'cod': 8400,\n",
       " 'ciudad': 'San Carlos de Bariloche',\n",
       " 'tel': {'cel': 1213, 'fijo': 23848},\n",
       " 'pais': 'Argentina'}"
      ]
     },
     "execution_count": 34,
     "metadata": {},
     "output_type": "execute_result"
    }
   ],
   "source": [
    "entrada"
   ]
  },
  {
   "cell_type": "markdown",
   "id": "f27e4d91",
   "metadata": {
    "collapsed": false,
    "jupyter": {
     "outputs_hidden": false
    }
   },
   "source": [
    "## Conjuntos\n",
    "\n",
    "Los conjuntos (`set()`) son grupos de claves únicas e inmutables."
   ]
  },
  {
   "cell_type": "code",
   "execution_count": 35,
   "id": "0770cc13",
   "metadata": {
    "collapsed": false,
    "jupyter": {
     "outputs_hidden": false
    }
   },
   "outputs": [],
   "source": [
    "mamiferos = {'perro', 'gato', 'león', 'perro'}\n",
    "domesticos = {'perro', 'gato', 'gallina', 'ganso'}\n",
    "aves = {\"chimango\", \"bandurria\", 'gallina', 'cóndor', 'ganso'}"
   ]
  },
  {
   "cell_type": "code",
   "execution_count": 36,
   "id": "e82b3c70",
   "metadata": {
    "collapsed": false,
    "jupyter": {
     "outputs_hidden": false
    }
   },
   "outputs": [
    {
     "data": {
      "text/plain": [
       "{'gato', 'león', 'perro'}"
      ]
     },
     "execution_count": 36,
     "metadata": {},
     "output_type": "execute_result"
    }
   ],
   "source": [
    "mamiferos"
   ]
  },
  {
   "cell_type": "markdown",
   "id": "32780b20",
   "metadata": {
    "collapsed": false,
    "jupyter": {
     "outputs_hidden": false
    }
   },
   "source": [
    "Para crear un conjunto vacío utilizamos la palabra `set()`. Notar que: ```conj = {}``` crearía un diccionario:"
   ]
  },
  {
   "cell_type": "code",
   "execution_count": 37,
   "id": "0baf3c74",
   "metadata": {
    "collapsed": false,
    "jupyter": {
     "outputs_hidden": false
    }
   },
   "outputs": [
    {
     "name": "stdout",
     "output_type": "stream",
     "text": [
      "set() <class 'set'>\n"
     ]
    }
   ],
   "source": [
    "conj = set()\n",
    "print(conj, type(conj))"
   ]
  },
  {
   "cell_type": "markdown",
   "id": "5d6330c4",
   "metadata": {
    "collapsed": false,
    "jupyter": {
     "outputs_hidden": false
    }
   },
   "source": [
    "### Operaciones entre conjuntos"
   ]
  },
  {
   "cell_type": "code",
   "execution_count": 38,
   "id": "7f1849ba",
   "metadata": {
    "collapsed": false,
    "jupyter": {
     "outputs_hidden": false
    }
   },
   "outputs": [
    {
     "data": {
      "text/plain": [
       "{'gato', 'perro'}"
      ]
     },
     "execution_count": 38,
     "metadata": {},
     "output_type": "execute_result"
    }
   ],
   "source": [
    "mamiferos.intersection(domesticos)"
   ]
  },
  {
   "cell_type": "code",
   "execution_count": 39,
   "id": "f49d445a",
   "metadata": {
    "collapsed": false,
    "jupyter": {
     "outputs_hidden": false
    }
   },
   "outputs": [
    {
     "data": {
      "text/plain": [
       "{'gato', 'perro'}"
      ]
     },
     "execution_count": 39,
     "metadata": {},
     "output_type": "execute_result"
    }
   ],
   "source": [
    "# También se puede utilizar el operador \"&\" para la intersección\n",
    "mamiferos & domesticos"
   ]
  },
  {
   "cell_type": "code",
   "execution_count": 40,
   "id": "5144818c",
   "metadata": {
    "collapsed": false,
    "jupyter": {
     "outputs_hidden": false
    }
   },
   "outputs": [
    {
     "data": {
      "text/plain": [
       "{'gallina', 'ganso', 'gato', 'león', 'perro'}"
      ]
     },
     "execution_count": 40,
     "metadata": {},
     "output_type": "execute_result"
    }
   ],
   "source": [
    "mamiferos.union(domesticos)"
   ]
  },
  {
   "cell_type": "code",
   "execution_count": 41,
   "id": "9c1342b9",
   "metadata": {
    "collapsed": false,
    "jupyter": {
     "outputs_hidden": false
    }
   },
   "outputs": [
    {
     "data": {
      "text/plain": [
       "{'gallina', 'ganso', 'gato', 'león', 'perro'}"
      ]
     },
     "execution_count": 41,
     "metadata": {},
     "output_type": "execute_result"
    }
   ],
   "source": [
    "# También se puede utilizar el operador \"|\" para la unión\n",
    "mamiferos | domesticos"
   ]
  },
  {
   "cell_type": "code",
   "execution_count": 42,
   "id": "94276cc8",
   "metadata": {
    "collapsed": false,
    "jupyter": {
     "outputs_hidden": false
    }
   },
   "outputs": [
    {
     "data": {
      "text/plain": [
       "{'bandurria', 'chimango', 'cóndor'}"
      ]
     },
     "execution_count": 42,
     "metadata": {},
     "output_type": "execute_result"
    }
   ],
   "source": [
    "aves.difference(domesticos)"
   ]
  },
  {
   "cell_type": "code",
   "execution_count": 43,
   "id": "fe4e988e",
   "metadata": {
    "collapsed": false,
    "jupyter": {
     "outputs_hidden": false
    }
   },
   "outputs": [
    {
     "data": {
      "text/plain": [
       "{'bandurria', 'chimango', 'cóndor'}"
      ]
     },
     "execution_count": 43,
     "metadata": {},
     "output_type": "execute_result"
    }
   ],
   "source": [
    "# También se puede utilizar el operador \"-\" para la diferencia\n",
    "aves - domesticos"
   ]
  },
  {
   "cell_type": "code",
   "execution_count": 44,
   "id": "40b6df4f",
   "metadata": {
    "collapsed": false,
    "jupyter": {
     "outputs_hidden": false
    }
   },
   "outputs": [
    {
     "data": {
      "text/plain": [
       "{'gato', 'perro'}"
      ]
     },
     "execution_count": 44,
     "metadata": {},
     "output_type": "execute_result"
    }
   ],
   "source": [
    "domesticos - aves"
   ]
  },
  {
   "cell_type": "markdown",
   "id": "a05e9014",
   "metadata": {
    "collapsed": false,
    "jupyter": {
     "outputs_hidden": false
    }
   },
   "source": [
    "\n",
    "### Modificar conjuntos\n",
    "\n",
    "Para agregar o borrar elementos a un conjunto usamos los métodos: `add`, `update`, y `remove`"
   ]
  },
  {
   "cell_type": "code",
   "execution_count": 45,
   "id": "ee2b8b8f",
   "metadata": {
    "collapsed": false,
    "jupyter": {
     "outputs_hidden": false
    }
   },
   "outputs": [
    {
     "data": {
      "text/plain": [
       "{1, 2, 3, 5}"
      ]
     },
     "execution_count": 45,
     "metadata": {},
     "output_type": "execute_result"
    }
   ],
   "source": [
    "c = set([1, 2, 2, 3, 5])\n",
    "c"
   ]
  },
  {
   "cell_type": "code",
   "execution_count": 46,
   "id": "73f4690a",
   "metadata": {
    "collapsed": false,
    "jupyter": {
     "outputs_hidden": false
    }
   },
   "outputs": [],
   "source": [
    "c.add(4)"
   ]
  },
  {
   "cell_type": "code",
   "execution_count": 47,
   "id": "b26c014e",
   "metadata": {
    "collapsed": false,
    "jupyter": {
     "outputs_hidden": false
    }
   },
   "outputs": [
    {
     "data": {
      "text/plain": [
       "{1, 2, 3, 4, 5}"
      ]
     },
     "execution_count": 47,
     "metadata": {},
     "output_type": "execute_result"
    }
   ],
   "source": [
    "c"
   ]
  },
  {
   "cell_type": "code",
   "execution_count": 48,
   "id": "8fec69a5",
   "metadata": {
    "collapsed": false,
    "jupyter": {
     "outputs_hidden": false
    }
   },
   "outputs": [
    {
     "data": {
      "text/plain": [
       "{1, 2, 3, 4, 5}"
      ]
     },
     "execution_count": 48,
     "metadata": {},
     "output_type": "execute_result"
    }
   ],
   "source": [
    "c.add(4)\n",
    "c"
   ]
  },
  {
   "cell_type": "code",
   "execution_count": 49,
   "id": "20c14487",
   "metadata": {
    "collapsed": false,
    "jupyter": {
     "outputs_hidden": false
    }
   },
   "outputs": [],
   "source": [
    "c.update((8,7,6))"
   ]
  },
  {
   "cell_type": "code",
   "execution_count": 50,
   "id": "fed87e6b",
   "metadata": {
    "collapsed": false,
    "jupyter": {
     "outputs_hidden": false
    }
   },
   "outputs": [
    {
     "data": {
      "text/plain": [
       "{1, 2, 3, 4, 5, 6, 7, 8}"
      ]
     },
     "execution_count": 50,
     "metadata": {},
     "output_type": "execute_result"
    }
   ],
   "source": [
    "c"
   ]
  },
  {
   "cell_type": "markdown",
   "id": "28c8cc89",
   "metadata": {
    "collapsed": false,
    "jupyter": {
     "outputs_hidden": false
    }
   },
   "source": [
    "Para remover un elemento que pertenece al conjunto usamos `remove()`"
   ]
  },
  {
   "cell_type": "code",
   "execution_count": 51,
   "id": "e213d183",
   "metadata": {
    "collapsed": false,
    "jupyter": {
     "outputs_hidden": false
    }
   },
   "outputs": [],
   "source": [
    "c.remove(2)"
   ]
  },
  {
   "cell_type": "code",
   "execution_count": 52,
   "id": "379f58b1",
   "metadata": {
    "collapsed": false,
    "jupyter": {
     "outputs_hidden": false
    }
   },
   "outputs": [
    {
     "data": {
      "text/plain": [
       "{1, 3, 4, 5, 6, 7, 8}"
      ]
     },
     "execution_count": 52,
     "metadata": {},
     "output_type": "execute_result"
    }
   ],
   "source": [
    "c"
   ]
  },
  {
   "cell_type": "code",
   "execution_count": 53,
   "id": "3586d44c",
   "metadata": {
    "collapsed": false,
    "jupyter": {
     "outputs_hidden": false
    }
   },
   "outputs": [
    {
     "ename": "KeyError",
     "evalue": "2",
     "output_type": "error",
     "traceback": [
      "\u001b[0;31m---------------------------------------------------------------------------\u001b[0m",
      "\u001b[0;31mKeyError\u001b[0m                                  Traceback (most recent call last)",
      "Cell \u001b[0;32mIn[53], line 1\u001b[0m\n\u001b[0;32m----> 1\u001b[0m \u001b[43mc\u001b[49m\u001b[38;5;241;43m.\u001b[39;49m\u001b[43mremove\u001b[49m\u001b[43m(\u001b[49m\u001b[38;5;241;43m2\u001b[39;49m\u001b[43m)\u001b[49m\n",
      "\u001b[0;31mKeyError\u001b[0m: 2"
     ]
    }
   ],
   "source": [
    "c.remove(2)"
   ]
  },
  {
   "cell_type": "markdown",
   "id": "c0e3b5bb",
   "metadata": {
    "collapsed": false,
    "jupyter": {
     "outputs_hidden": false
    }
   },
   "source": [
    "pero da un error si el elemento que quermos remover no pertenece al conjunto. Si no sabemos si el elemento existe, podemos usar el método `discard()`"
   ]
  },
  {
   "cell_type": "code",
   "execution_count": 54,
   "id": "0ce14579",
   "metadata": {
    "collapsed": false,
    "jupyter": {
     "outputs_hidden": false
    }
   },
   "outputs": [],
   "source": [
    "c.discard(2)"
   ]
  },
  {
   "cell_type": "code",
   "execution_count": 55,
   "id": "c632da49",
   "metadata": {
    "collapsed": false,
    "jupyter": {
     "outputs_hidden": false
    }
   },
   "outputs": [
    {
     "data": {
      "text/plain": [
       "{1, 3, 4, 5, 6, 7, 8}"
      ]
     },
     "execution_count": 55,
     "metadata": {},
     "output_type": "execute_result"
    }
   ],
   "source": [
    "c"
   ]
  },
  {
   "cell_type": "markdown",
   "id": "cbfe811c-e64d-4ee2-85cf-0a6aef26ad22",
   "metadata": {
    "collapsed": false,
    "jupyter": {
     "outputs_hidden": false
    }
   },
   "source": [
    "\n",
    "------\n",
    "\n",
    "\n",
    "## Ejercicios 03 (b)\n",
    "\n",
    "11. Escribir, utilizando conjuntos (`set`), funciones que tomen como argumento un string y:\n",
    "    \n",
    "   - Retorne verdadero si el argumento tiene algún número, Falso en otro caso,\n",
    "   - Retorne verdadero si el argumento está formado por todos números, Falso en otro caso.\n",
    "\n",
    "\n",
    "------\n",
    "\n",
    "."
   ]
  }
 ],
 "metadata": {
  "kernelspec": {
   "display_name": "Python 3 (ipykernel)",
   "language": "python",
   "name": "python3"
  },
  "language_info": {
   "codemirror_mode": {
    "name": "ipython",
    "version": 3
   },
   "file_extension": ".py",
   "mimetype": "text/x-python",
   "name": "python",
   "nbconvert_exporter": "python",
   "pygments_lexer": "ipython3",
   "version": "3.13.2"
  },
  "name": "03_1_tiposcomplejos.ipynb",
  "toc": {
   "base_numbering": 1,
   "nav_menu": {
    "height": "364.1px",
    "width": "251.333px"
   },
   "number_sections": true,
   "sideBar": true,
   "skip_h1_title": true,
   "title_cell": "Contenidos",
   "title_sidebar": "Contenidos",
   "toc_cell": false,
   "toc_position": null,
   "toc_section_display": true,
   "toc_window_display": false
  }
 },
 "nbformat": 4,
 "nbformat_minor": 5
}
