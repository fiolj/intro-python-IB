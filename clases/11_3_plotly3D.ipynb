{
 "cells": [
  {
   "cell_type": "markdown",
   "metadata": {
    "autoscroll": false,
    "ein.hycell": false,
    "ein.tags": "worksheet-0",
    "slideshow": {
     "slide_type": "-"
    }
   },
   "source": [
    "# Un poco de graficación 3D"
   ]
  },
  {
   "cell_type": "code",
   "execution_count": null,
   "metadata": {
    "autoscroll": false,
    "ein.hycell": false,
    "ein.tags": "worksheet-0",
    "slideshow": {
     "slide_type": "-"
    }
   },
   "outputs": [],
   "source": [
    "import numpy as np\n",
    "import plotly.graph_objects as go"
   ]
  },
  {
   "cell_type": "markdown",
   "metadata": {
    "ein.tags": "worksheet-0",
    "slideshow": {
     "slide_type": "-"
    }
   },
   "source": [
    "## Gráficos y procesamiento sencillo en 2D\n",
    "\n",
    "### Histogramas en 2D\n",
    "\n",
    "Así como trabajamos con histogramas de arrays unidimensionales en forma sencilla usando `plt.hist()` o `np.histogram()`, podemos hacerlo de una manera similar trabajando en el plano. Empecemos creando algunos datos"
   ]
  },
  {
   "cell_type": "code",
   "execution_count": null,
   "metadata": {
    "autoscroll": false,
    "ein.hycell": false,
    "ein.tags": "worksheet-0",
    "slideshow": {
     "slide_type": "-"
    }
   },
   "outputs": [],
   "source": [
    "np.random.seed(0)\n",
    "n = 10000\n",
    "x = np.r_[np.random.normal(size=n), np.random.normal(loc=3, size=n)]\n",
    "y = 2.0 + 4.0 * x - x**2 / 5 + 2.0 * np.r_[np.random.normal(size=n), np.random.normal(loc=-3, size=n)]"
   ]
  },
  {
   "cell_type": "markdown",
   "metadata": {
    "ein.tags": "worksheet-0",
    "slideshow": {
     "slide_type": "-"
    }
   },
   "source": [
    "Acá la notación `r_[]` hace concatenación por filas. Veamos que forma tienen `x` e `y`"
   ]
  },
  {
   "cell_type": "code",
   "execution_count": null,
   "metadata": {
    "autoscroll": false,
    "ein.hycell": false,
    "ein.tags": "worksheet-0",
    "slideshow": {
     "slide_type": "-"
    }
   },
   "outputs": [],
   "source": [
    "x.shape"
   ]
  },
  {
   "cell_type": "markdown",
   "metadata": {
    "ein.tags": "worksheet-0",
    "slideshow": {
     "slide_type": "-"
    }
   },
   "source": [
    "Para crear el histograma usamos simplemente la función `Histogram2d`."
   ]
  },
  {
   "cell_type": "code",
   "execution_count": null,
   "metadata": {
    "autoscroll": false,
    "ein.hycell": false,
    "ein.tags": "worksheet-0",
    "slideshow": {
     "slide_type": "-"
    }
   },
   "outputs": [],
   "source": [
    "H = go.Figure(go.Histogram2d(\n",
    "     x = x\n",
    "    ,y = y))\n",
    "H.show()"
   ]
  },
  {
   "cell_type": "code",
   "execution_count": null,
   "metadata": {
    "autoscroll": false,
    "ein.hycell": false,
    "ein.tags": "worksheet-0",
    "slideshow": {
     "slide_type": "-"
    }
   },
   "outputs": [],
   "source": [
    "H = go.Figure(go.Histogram2d(\n",
    "    x = x\n",
    "    ,nbinsx = 60\n",
    "    ,y = y\n",
    "    ,nbinsy = 60))\n",
    "H.show()"
   ]
  },
  {
   "cell_type": "markdown",
   "metadata": {
    "ein.tags": "worksheet-0",
    "slideshow": {
     "slide_type": "-"
    }
   },
   "source": [
    "Aquí pusimos igual número de \"cajas\" en cada dimensión. También podemos pasarle un array con distinto número de cajas"
   ]
  },
  {
   "cell_type": "code",
   "execution_count": null,
   "metadata": {
    "autoscroll": false,
    "ein.hycell": false,
    "ein.tags": "worksheet-0",
    "slideshow": {
     "slide_type": "-"
    }
   },
   "outputs": [],
   "source": [
    "H = go.Figure(go.Histogram2d(\n",
    "    x = x\n",
    "    ,nbinsx = 60    \n",
    "    ,y = y\n",
    "    ,nbinsy = 150))\n",
    "H.show()"
   ]
  },
  {
   "cell_type": "markdown",
   "metadata": {
    "ein.tags": "worksheet-0",
    "slideshow": {
     "slide_type": "-"
    }
   },
   "source": [
    "Se puede definir el número de bins de esta otra forma:"
   ]
  },
  {
   "cell_type": "code",
   "execution_count": null,
   "metadata": {},
   "outputs": [],
   "source": [
    "H = go.Figure(go.Histogram2d(\n",
    "    x = x\n",
    "    ,autobinx=False\n",
    "    ,xbins=dict(start=-5, end=7.5, size=0.5)\n",
    "    ,y = y\n",
    "    ,nbinsy = 60))\n",
    "H.show()"
   ]
  },
  {
   "cell_type": "markdown",
   "metadata": {
    "ein.tags": "worksheet-0",
    "slideshow": {
     "slide_type": "-"
    }
   },
   "source": [
    "Por supuesto podemos cambiar el esquema de colores utilizado. Para ello le damos explícitamente el argumento `cmap` especificando el \"colormap\" deseado:"
   ]
  },
  {
   "cell_type": "code",
   "execution_count": null,
   "metadata": {
    "autoscroll": false,
    "ein.hycell": false,
    "ein.tags": "worksheet-0",
    "slideshow": {
     "slide_type": "-"
    }
   },
   "outputs": [],
   "source": [
    "H = go.Figure(go.Histogram2d(\n",
    "    x = x\n",
    "    ,autobinx=False\n",
    "    ,xbins=dict(start=-5, end=7.5, size=0.5)\n",
    "    ,y = y\n",
    "    ,nbinsy = 60\n",
    "    ,    colorscale='YlGnBu'\n",
    "    ))\n",
    "H.show()"
   ]
  },
  {
   "cell_type": "markdown",
   "metadata": {},
   "source": [
    "Se puede elegir el valor máximo de Z:"
   ]
  },
  {
   "cell_type": "code",
   "execution_count": null,
   "metadata": {},
   "outputs": [],
   "source": [
    "H = go.Figure(go.Histogram2d(\n",
    "    x = x\n",
    "    ,autobinx=False\n",
    "    ,xbins=dict(start=-5, end=7.5, size=0.5)\n",
    "    ,y = y\n",
    "    ,nbinsy = 60\n",
    "    ,zmax = 200\n",
    "    ,zauto = False\n",
    "    ,    colorscale='YlGnBu'\n",
    "    ))\n",
    "H.show()"
   ]
  },
  {
   "cell_type": "markdown",
   "metadata": {},
   "source": [
    "O por ejemplo, se puede agregar el valor de cada bin:"
   ]
  },
  {
   "cell_type": "code",
   "execution_count": null,
   "metadata": {},
   "outputs": [],
   "source": [
    "H = go.Figure(go.Histogram2d(\n",
    "    x = x\n",
    "    ,nbinsx = 30\n",
    "    ,y = y\n",
    "    ,nbinsy = 30\n",
    "    ,colorscale='YlGnBu'\n",
    "    ,texttemplate= \"%{z}\"\n",
    "    ))\n",
    "H.show()"
   ]
  },
  {
   "cell_type": "markdown",
   "metadata": {
    "ein.tags": "worksheet-0",
    "slideshow": {
     "slide_type": "-"
    }
   },
   "source": [
    "### Gráficos de contornos\n",
    "\n"
   ]
  },
  {
   "cell_type": "code",
   "execution_count": null,
   "metadata": {},
   "outputs": [],
   "source": [
    "Z,xedges,yedges = np.histogram2d(x,y,bins=20)"
   ]
  },
  {
   "cell_type": "code",
   "execution_count": null,
   "metadata": {
    "autoscroll": false,
    "ein.hycell": false,
    "ein.tags": "worksheet-0",
    "slideshow": {
     "slide_type": "-"
    }
   },
   "outputs": [],
   "source": [
    "fig1= go.Figure(data =\n",
    "     go.Contour(\n",
    "         x = xedges\n",
    "        ,y = yedges\n",
    "        ,z = Z))\n",
    "fig1.show()"
   ]
  },
  {
   "cell_type": "code",
   "execution_count": null,
   "metadata": {
    "autoscroll": false,
    "ein.hycell": false,
    "ein.tags": "worksheet-0",
    "slideshow": {
     "slide_type": "-"
    }
   },
   "outputs": [],
   "source": [
    "fig1= go.Figure(data =\n",
    "     go.Contour(\n",
    "         x = xedges\n",
    "        ,y = yedges\n",
    "        ,z = Z\n",
    "        ,colorscale='rainbow'))\n",
    "fig1.show()"
   ]
  },
  {
   "cell_type": "code",
   "execution_count": null,
   "metadata": {
    "autoscroll": false,
    "ein.hycell": false,
    "ein.tags": "worksheet-0",
    "slideshow": {
     "slide_type": "-"
    }
   },
   "outputs": [],
   "source": [
    "fig1= go.Figure(data =\n",
    "     go.Contour(\n",
    "         x = xedges\n",
    "        ,y = yedges\n",
    "        ,z = Z\n",
    "        ,contours = dict(\n",
    "            coloring='lines'\n",
    "            ,showlabels=True\n",
    "            ,labelfont = dict( \n",
    "                size = 11,\n",
    "#                 color = 'white',\n",
    "            ))\n",
    "#          ,line_smoothing=0.5\n",
    "        ,contours_coloring='heatmap' # can also be 'lines', or 'none'\n",
    "\n",
    "         ))\n",
    "fig1.show()"
   ]
  },
  {
   "cell_type": "markdown",
   "metadata": {
    "ein.tags": "worksheet-0",
    "slideshow": {
     "slide_type": "-"
    }
   },
   "source": [
    "También podemos mostrar la imagen con los contornos superpuestos:"
   ]
  },
  {
   "cell_type": "markdown",
   "metadata": {
    "ein.tags": "worksheet-0",
    "slideshow": {
     "slide_type": "-"
    }
   },
   "source": [
    "### Superficies y contornos\n",
    "\n",
    "#### Superficies\n",
    "\n",
    "Realizar gráficos \"realmente\" en 3D es tan simple como cambiar `Contour` por `Surface`"
   ]
  },
  {
   "cell_type": "code",
   "execution_count": null,
   "metadata": {
    "autoscroll": false,
    "ein.hycell": false,
    "ein.tags": "worksheet-0",
    "scrolled": true,
    "slideshow": {
     "slide_type": "-"
    }
   },
   "outputs": [],
   "source": [
    "fig1= go.Figure(data =\n",
    "     go.Surface(\n",
    "         x = xedges\n",
    "        ,y = yedges\n",
    "        ,z = Z))\n",
    "fig1.show()"
   ]
  },
  {
   "cell_type": "code",
   "execution_count": null,
   "metadata": {},
   "outputs": [],
   "source": [
    "fig1= go.Figure(data =\n",
    "     go.Surface(\n",
    "         x = xedges\n",
    "        ,y = yedges\n",
    "        ,z = Z\n",
    "        ,opacity=0.7))\n",
    "fig1.show()"
   ]
  },
  {
   "cell_type": "code",
   "execution_count": null,
   "metadata": {
    "autoscroll": false,
    "ein.hycell": false,
    "ein.tags": "worksheet-0",
    "slideshow": {
     "slide_type": "-"
    }
   },
   "outputs": [],
   "source": [
    "fig1.write_html('3dplot.html')"
   ]
  },
  {
   "cell_type": "markdown",
   "metadata": {
    "ein.tags": "worksheet-0",
    "slideshow": {
     "slide_type": "-"
    }
   },
   "source": [
    "#### Contornos en 3D\n"
   ]
  },
  {
   "cell_type": "code",
   "execution_count": null,
   "metadata": {
    "autoscroll": false,
    "ein.hycell": false,
    "ein.tags": "worksheet-0",
    "slideshow": {
     "slide_type": "-"
    }
   },
   "outputs": [],
   "source": [
    "fig1= go.Figure(data =\n",
    "     go.Surface(\n",
    "         x = xedges\n",
    "        ,y = yedges\n",
    "        ,z = Z\n",
    "        ,contours = {\n",
    "            \"z\": {\"show\": True}\n",
    "           ,\"x\": {\"show\": True, \"color\": \"white\"}\n",
    "         }))\n",
    "fig1.show()"
   ]
  },
  {
   "cell_type": "code",
   "execution_count": null,
   "metadata": {
    "autoscroll": false,
    "ein.hycell": false,
    "ein.tags": "worksheet-0",
    "slideshow": {
     "slide_type": "-"
    }
   },
   "outputs": [],
   "source": [
    "fig1= go.Figure(data =\n",
    "     go.Surface(         \n",
    "         x = xedges\n",
    "        ,y = yedges\n",
    "        ,z = Z\n",
    "        ,contours = {\n",
    "            \"z\": {\"show\": True, \"start\": 0, \"end\": 600, \"size\":50}\n",
    "           ,\"x\": {\"show\": True, \"color\": \"white\"}\n",
    "         }))\n",
    "fig1.update_traces(contours_z=dict(show=True, usecolormap=True,\n",
    "                                  highlightcolor=\"limegreen\", project_z=True))\n",
    "fig1.show()"
   ]
  },
  {
   "cell_type": "markdown",
   "metadata": {
    "ein.tags": "worksheet-0",
    "slideshow": {
     "slide_type": "-"
    }
   },
   "source": [
    "#### Gráficos de campos vectoriales\n",
    "\n",
    "Para realizar gráficos de campos (de velocidades, fuerzas, etc) podemos utilizar la función `quiver()`, que grafica flechas en cada punto, con una dirección y longitud dada\n"
   ]
  },
  {
   "cell_type": "markdown",
   "metadata": {
    "ein.tags": "worksheet-0",
    "slideshow": {
     "slide_type": "-"
    }
   },
   "source": [
    "Veamos un ejemplo de la documentación de **Plotly**"
   ]
  },
  {
   "cell_type": "code",
   "execution_count": null,
   "metadata": {},
   "outputs": [],
   "source": [
    "\n",
    "x,y,z,u,v,w = np.loadtxt(\"https://raw.githubusercontent.com/plotly/datasets/master/vortex.csv\",skiprows=1,unpack=True,delimiter=',')\n",
    "\n",
    "fig = go.Figure(data = go.Cone(\n",
    "    x=x,\n",
    "    y=y,\n",
    "    z=z,\n",
    "    u=u,\n",
    "    v=v,\n",
    "    w=w,\n",
    "    colorscale='Blues',\n",
    "    sizemode=\"absolute\",\n",
    "    sizeref=40))\n",
    "\n",
    "\n",
    "fig.update_layout(scene=dict(aspectratio=dict(x=1, y=1, z=0.8),\n",
    "                             camera_eye=dict(x=1.2, y=1.2, z=0.6)))\n",
    "\n",
    "fig.show()"
   ]
  },
  {
   "cell_type": "code",
   "execution_count": null,
   "metadata": {
    "autoscroll": false,
    "ein.hycell": false,
    "ein.tags": "worksheet-0",
    "scrolled": true,
    "slideshow": {
     "slide_type": "-"
    }
   },
   "outputs": [],
   "source": [
    "\n",
    "# Make the grid\n",
    "x = np.arange(0, 1, 0.1)\n",
    "y = np.arange(0, 1, 0.1)\n",
    "z = np.arange(0, 1, 0.1)\n",
    "\n",
    "# Make the direction data for the arrows\n",
    "u = np.sin(np.pi * x)* np.cos(np.pi * y) * np.cos(np.pi * z)\n",
    "v = -np.cos(np.pi * y)* np.sin(np.pi * y) * np.cos(np.pi * z)\n",
    "w = (np.sqrt(2.0 / 3.0)* np.sin(np.pi * z)) * np.cos(np.pi * x) * np.cos(np.pi * y) \n",
    "     \n",
    "\n",
    "fig = go.Figure(\n",
    "        go.Cone(\n",
    "        x = x\n",
    "        ,y = y\n",
    "        ,z = z\n",
    "        ,u = u\n",
    "        ,v = v\n",
    "        ,w = w\n",
    "        ,sizemode=\"absolute\"\n",
    "        ,sizeref=2\n",
    "        ,anchor=\"tip\"\n",
    "        ))\n",
    "fig.show()"
   ]
  },
  {
   "cell_type": "markdown",
   "metadata": {},
   "source": [
    "[Streamtubes of the ABC Flow: Flowing from Y-Plane](https://blog.plotly.com/post/178123311802/streamtubes-in-plotly-with-python)"
   ]
  },
  {
   "cell_type": "code",
   "execution_count": null,
   "metadata": {},
   "outputs": [],
   "source": [
    "def vector_field(x, y, z, A=1, B=np.sqrt(2./3), C=np.sqrt(1./3)):\n",
    "    return A*np.sin(z) + C*np.cos(y), B*np.sin(x) + A*np.cos(z), C*np.sin(y) + B*np.cos(x)"
   ]
  },
  {
   "cell_type": "code",
   "execution_count": null,
   "metadata": {},
   "outputs": [],
   "source": [
    "x, y, z=np.mgrid[0: 2*np.pi:30j, 0:2*np.pi:30j, 0:2*np.pi:30j]\n",
    "u, v, w=vector_field(x, y, z)"
   ]
  },
  {
   "cell_type": "code",
   "execution_count": null,
   "metadata": {},
   "outputs": [],
   "source": [
    "x.shape\n",
    "u.shape"
   ]
  },
  {
   "cell_type": "code",
   "execution_count": null,
   "metadata": {},
   "outputs": [],
   "source": [
    "fig = go.Figure(\n",
    "        go.Streamtube(\n",
    "        x=x.flatten(),\n",
    "        y=y.flatten(), \n",
    "        z=z.flatten(), \n",
    "        u=u.flatten(), \n",
    "        v=v.flatten(), \n",
    "        w=w.flatten(),\n",
    "                 maxdisplayed=3500,\n",
    "                 sizeref=0.3,\n",
    "                 reversescale=True, \n",
    "                 showscale=True,\n",
    "            \n",
    "        ))\n",
    "fig.show()"
   ]
  }
 ],
 "metadata": {
  "kernelspec": {
   "display_name": "Python 3 (ipykernel)",
   "language": "python",
   "name": "python3"
  },
  "language_info": {
   "codemirror_mode": {
    "name": "ipython",
    "version": 3
   },
   "file_extension": ".py",
   "mimetype": "text/x-python",
   "name": "python",
   "nbconvert_exporter": "python",
   "pygments_lexer": "ipython3",
   "version": "3.11.8"
  },
  "name": "12_graficacion3d.ipynb",
  "toc": {
   "base_numbering": 1,
   "nav_menu": {
    "height": "228.233px",
    "width": "252px"
   },
   "number_sections": true,
   "sideBar": true,
   "skip_h1_title": false,
   "title_cell": "Contenidos",
   "title_sidebar": "Contenidos",
   "toc_cell": false,
   "toc_position": null,
   "toc_section_display": true,
   "toc_window_display": false
  }
 },
 "nbformat": 4,
 "nbformat_minor": 4
}
