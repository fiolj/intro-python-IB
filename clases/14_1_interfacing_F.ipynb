{
 "cells": [
  {
   "cell_type": "markdown",
   "id": "5c877917-9b08-4527-b2e0-bb5746d62f7c",
   "metadata": {},
   "source": [
    "# Interfaces con otros lenguajes\n",
    "\n",
    "A diferencia de **Python**, tanto **Fortran** como **C** y **C++** son lenguajes *compilados*: el código fuente tiene que se convertido a un lenguaje ejecutable para poder ser utilizado. Como mencionamos anteriormente, esto suele ser muy conveniente en el flujo de programación usual pero puede haber casos en que el código en Python es notablemente más lento, o casos en que ya existen rutinas en otros lenguajes y convertirlas a un nuevo lenguaje sea mucho trabajo. En esos casos, una solución posible y conveniente es utilizar un lenguaje compilado para rutinas específicas y Python para todo el resto del trabajo (entrada/salida, manejo de datos, graficación, etc).\n"
   ]
  },
  {
   "cell_type": "markdown",
   "id": "a95a3cb8-0607-495d-b022-ac75f00c6c3d",
   "metadata": {
    "ein.tags": "worksheet-0",
    "slideshow": {
     "slide_type": "-"
    }
   },
   "source": [
    "## Ejemplo 1: Rotación de vectores\n",
    "\n",
    "Supongamos que queremos resolver el problema de la rotación de vectores en el espacio usando los [tres ángulos de Euler](https://mathworld.wolfram.com/EulerAngles.html). \n",
    "\n",
    "Dado un array con los tres ángulos de Euler, calculamos la matriz de rotación (de 3 x 3), y la aplicamos (esto es, multiplicamos) a un arreglo de _N_ vectores.\n",
    "\n"
   ]
  },
  {
   "cell_type": "markdown",
   "id": "cd95965c-c85c-48c8-9a05-c942e015d2a9",
   "metadata": {},
   "source": [
    "En una primera versión, podemos hacerlo en Python directamente en el notebook:"
   ]
  },
  {
   "cell_type": "code",
   "execution_count": 1,
   "id": "5713b40a-1a32-4e6e-9cff-bc13179d9e83",
   "metadata": {
    "autoscroll": false,
    "ein.tags": "worksheet-0",
    "slideshow": {
     "slide_type": "-"
    }
   },
   "outputs": [],
   "source": [
    "import numpy as np\n",
    "\n",
    "def matrix_rotation(angles):\n",
    "  cx, cy, cz = np.cos(angles)\n",
    "  sx, sy, sz = np.sin(angles)\n",
    "  R = np.zeros((3, 3))\n",
    "  R[0, 0] = cx * cz - sx * cy * sz\n",
    "  R[0, 1] = cx * sz + sx * cy * cz\n",
    "  R[0, 2] = sx * sy\n",
    "\n",
    "  R[1, 0] = -sx * cz - cx * cy * sz\n",
    "  R[1, 1] = -sx * sz + cx * cy * cz\n",
    "  R[1, 2] = cx * sy\n",
    "\n",
    "  R[2, 0] = sy * sz\n",
    "  R[2, 1] = -sy * cz\n",
    "  R[2, 2] = cy\n",
    "  return R\n",
    "\n",
    "\n",
    "def rotate(angles, v):\n",
    "  return np.dot(matrix_rotation(angles), v)"
   ]
  },
  {
   "cell_type": "code",
   "execution_count": 2,
   "id": "4b800d7d-cf8e-479e-bc5a-eb35d94536a6",
   "metadata": {},
   "outputs": [],
   "source": [
    "N = 100\n",
    "# Ángulos de Euler\n",
    "angle = np.random.random(3)\n",
    "# Definimos N vectores tridimensionales\n",
    "v = np.random.random((3, N))"
   ]
  },
  {
   "cell_type": "markdown",
   "id": "02e8b0b7-1630-48ed-8059-f1fa3836b4e3",
   "metadata": {
    "ein.tags": "worksheet-0",
    "slideshow": {
     "slide_type": "-"
    }
   },
   "source": [
    "Si ya tenemos un módulo donde están programadas las funciones necesarias "
   ]
  },
  {
   "cell_type": "code",
   "execution_count": 3,
   "id": "47ce31f2-254b-423b-bdc6-1245a8b9afc9",
   "metadata": {
    "autoscroll": false,
    "ein.tags": "worksheet-0",
    "slideshow": {
     "slide_type": "-"
    }
   },
   "outputs": [],
   "source": [
    "# %load rotacion_p.py\n",
    "#! /usr/bin/ipython3\n",
    "import numpy as np\n",
    "\n",
    "\n",
    "def matrix_rotation(angles):\n",
    "  cx, cy, cz = np.cos(angles)\n",
    "  sx, sy, sz = np.sin(angles)\n",
    "  R = np.zeros((3, 3))\n",
    "  R[0, 0] = cx * cz - sx * cy * sz\n",
    "  R[0, 1] = cx * sz + sx * cy * cz\n",
    "  R[0, 2] = sx * sy\n",
    "\n",
    "  R[1, 0] = -sx * cz - cx * cy * sz\n",
    "  R[1, 1] = -sx * sz + cx * cy * cz\n",
    "  R[1, 2] = cx * sy\n",
    "\n",
    "  R[2, 0] = sy * sz\n",
    "  R[2, 1] = -sy * cz\n",
    "  R[2, 2] = cy\n",
    "  return R\n",
    "\n",
    "\n",
    "def rotate(angles, v):\n",
    "  return np.dot(matrix_rotation(angles), v)\n"
   ]
  },
  {
   "cell_type": "markdown",
   "id": "fc1c254d-8fb5-4d9b-b458-d35ac8cf5f19",
   "metadata": {
    "ein.tags": "worksheet-0",
    "slideshow": {
     "slide_type": "-"
    }
   },
   "source": [
    "es fácil utilizarlas:"
   ]
  },
  {
   "cell_type": "code",
   "execution_count": 4,
   "id": "851f3713-3fff-43f8-9a21-2c8f56c5bbdb",
   "metadata": {
    "autoscroll": false,
    "ein.tags": "worksheet-0",
    "slideshow": {
     "slide_type": "-"
    }
   },
   "outputs": [],
   "source": [
    "N = 100\n",
    "# Ángulos de Euler\n",
    "angle = np.random.random(3)\n",
    "# Definimos N vectores tridimensionales\n",
    "v = np.random.random((3, N))"
   ]
  },
  {
   "cell_type": "code",
   "execution_count": 5,
   "id": "8980f3a9-383e-4a3f-bbb1-a418652c6640",
   "metadata": {},
   "outputs": [],
   "source": [
    "y = rotate(angle,v)"
   ]
  },
  {
   "cell_type": "code",
   "execution_count": 6,
   "id": "e28d1106-b90b-4d4b-b24f-5b0d95d2fb53",
   "metadata": {},
   "outputs": [
    {
     "name": "stdout",
     "output_type": "stream",
     "text": [
      "[0.06193349 0.99877501 0.79127934]\n",
      "[[ 0.90717864  0.68082735 -0.01987772]\n",
      " [ 0.43798584  0.78786433  0.54493442]\n",
      " [ 0.75536562  0.51102298  0.41541194]\n",
      " [ 0.17681573  0.1682188  -0.02342615]\n",
      " [ 0.20673471  0.38302061  0.17507386]]\n"
     ]
    }
   ],
   "source": [
    "print(angle)\n",
    "print(y[:,0:5].T)"
   ]
  },
  {
   "cell_type": "markdown",
   "id": "0ef360e4-0259-49eb-8a4e-d79ec26baa92",
   "metadata": {},
   "source": [
    "### Importando desde un módulo en un archivo\n",
    "\n",
    "También podemos tener las funciones para la rotación en un módulo `rotaciones.py`. Recordemos cómo se importarían en este caso"
   ]
  },
  {
   "cell_type": "code",
   "execution_count": 7,
   "id": "08b9b47a-c9a4-445f-ad8d-361a39328230",
   "metadata": {},
   "outputs": [
    {
     "data": {
      "text/plain": [
       "'/home/fiol/Clases/IntPython/clases-python/clases'"
      ]
     },
     "execution_count": 7,
     "metadata": {},
     "output_type": "execute_result"
    }
   ],
   "source": [
    "pwd"
   ]
  },
  {
   "cell_type": "code",
   "execution_count": 8,
   "id": "abd97a32-8110-477e-877d-a0d6f614b24e",
   "metadata": {},
   "outputs": [
    {
     "name": "stdout",
     "output_type": "stream",
     "text": [
      "/home/fiol/Clases/IntPython/clases-python/scripts/interfacing_python\n"
     ]
    }
   ],
   "source": [
    "cd ../scripts/interfacing_python"
   ]
  },
  {
   "cell_type": "code",
   "execution_count": 9,
   "id": "f3efe7bf",
   "metadata": {},
   "outputs": [
    {
     "name": "stdout",
     "output_type": "stream",
     "text": [
      "\u001b[0m\u001b[01;34m__pycache__\u001b[0m/  rotaciones.py\n"
     ]
    }
   ],
   "source": [
    "ls"
   ]
  },
  {
   "cell_type": "code",
   "execution_count": 10,
   "id": "6280a988-fd29-4e52-99f2-7ecb1a59eb8f",
   "metadata": {},
   "outputs": [],
   "source": [
    "import rotaciones as rotp"
   ]
  },
  {
   "cell_type": "code",
   "execution_count": 11,
   "id": "4b71318a-fd97-454e-a3ee-3df6f6de5e03",
   "metadata": {},
   "outputs": [
    {
     "name": "stdout",
     "output_type": "stream",
     "text": [
      "Help on module rotaciones:\n",
      "\n",
      "NAME\n",
      "    rotaciones\n",
      "\n",
      "FUNCTIONS\n",
      "    matrix_rotation(angles)\n",
      "    \n",
      "    rotate(angles, v)\n",
      "\n",
      "FILE\n",
      "    /home/fiol/Clases/IntPython/clases-python/scripts/interfacing_python/rotaciones.py\n",
      "\n",
      "\n"
     ]
    }
   ],
   "source": [
    "help(rotp)"
   ]
  },
  {
   "cell_type": "code",
   "execution_count": 12,
   "id": "8ccc15c5-e5f5-4a35-8096-0957b49a4be4",
   "metadata": {},
   "outputs": [],
   "source": [
    "yp = rotp.rotate(angle,v)"
   ]
  },
  {
   "cell_type": "code",
   "execution_count": 13,
   "id": "e757c136-c4bb-4304-b610-16211a3db16b",
   "metadata": {},
   "outputs": [
    {
     "name": "stdout",
     "output_type": "stream",
     "text": [
      "[[ 0.90717864  0.68082735 -0.01987772]\n",
      " [ 0.43798584  0.78786433  0.54493442]\n",
      " [ 0.75536562  0.51102298  0.41541194]\n",
      " [ 0.17681573  0.1682188  -0.02342615]\n",
      " [ 0.20673471  0.38302061  0.17507386]]\n"
     ]
    },
    {
     "data": {
      "text/plain": [
       "True"
      ]
     },
     "execution_count": 13,
     "metadata": {},
     "output_type": "execute_result"
    }
   ],
   "source": [
    "print(yp[:,0:5].T)\n",
    "np.allclose(y,yp)"
   ]
  },
  {
   "cell_type": "markdown",
   "id": "852b5462-d523-4acc-92a1-c5916576774e",
   "metadata": {
    "ein.tags": "worksheet-0",
    "slideshow": {
     "slide_type": "-"
    }
   },
   "source": [
    "## Interfaces con Fortran\n",
    "\n",
    "Veamos cómo trabajar si tenemos el código para realizar las rotaciones en Fortran\n",
    "\n",
    "### Primer ejemplo: Nuestro código\n",
    "\n",
    "El código en Fortran que tenemos es:\n",
    "\n",
    "```fortran\n",
    "function rotate(theta, v, N) result(y)\n",
    "  implicit none\n",
    "  integer :: N\n",
    "  real(8), intent(IN) :: theta(3)\n",
    "  real(8), intent(IN) :: v(3,N)\n",
    "  real(8) :: y(3,N)\n",
    "  real(8) :: R(3,3)\n",
    "  real(8) :: cx, cy, cz, sx, sy, sz\n",
    "\n",
    "  ! Senos y Cosenos de los tres ángulos de Euler \n",
    "  cx = cos(theta(1)); cy = cos(theta(2)); cz = cos(theta(3))\n",
    "  sx = sin(theta(1)); sy = sin(theta(2)); sz = sin(theta(3))\n",
    "\n",
    "  ! Matriz de rotación\n",
    "  R(1,1) = cx*cz - sx*cy*sz\n",
    "  R(1,2) = cx*sz + sx*cy*cz\n",
    "  R(1,3) = sx*sy\n",
    "\n",
    "  R(2,1) = -sx*cz - cx*cy*sz\n",
    "  R(2,2) = -sx*sz + cx*cy*cz\n",
    "  R(2,3) = cx*sy\n",
    "\n",
    "  R(3,1) = sy*sz\n",
    "  R(3,2) = -sy*cz\n",
    "  R(3,3) = cy\n",
    "\n",
    "  ! Aplicamos la rotación\n",
    "  y = matmul(R, v)\n",
    "end function rotate\n",
    "```"
   ]
  },
  {
   "cell_type": "code",
   "execution_count": 14,
   "id": "e0a310a4-fd93-4740-a9da-66c2ae133d9b",
   "metadata": {},
   "outputs": [
    {
     "name": "stdout",
     "output_type": "stream",
     "text": [
      "/home/fiol/Clases/IntPython/clases-python/scripts/interfacing_F\n"
     ]
    }
   ],
   "source": [
    "cd ../interfacing_F"
   ]
  },
  {
   "cell_type": "markdown",
   "id": "3574522f-70ca-46ac-98a4-0629cbdf883f",
   "metadata": {
    "ein.tags": "worksheet-0",
    "slideshow": {
     "slide_type": "-"
    }
   },
   "source": [
    "### F2PY\n",
    "F2PY  -Fortran to Python interface generator- es una utilidad que permite generar una interface para utilizar funciones y datos definidos en Fortran desde Python.\n",
    "\n",
    "Información sobre la interfaz entre Fotran y Python, y en particular sobre F2PY, puede encontrarse en:\n",
    "\n",
    "- [Scipy cookbook](http://scipy-cookbook.readthedocs.io/items/idx_interfacing_with_other_languages.html)\n",
    "- [F2PY Users Guide and Reference Manual](https://docs.scipy.org/doc/numpy-dev/f2py/index.html)\n",
    "- [Fortran Best Practices](http://www.fortran90.org/src/best-practices.html#interfacing-with-python)\n",
    "- http://websrv.cs.umt.edu/isis/index.php/F2py_example"
   ]
  },
  {
   "cell_type": "markdown",
   "id": "d5c9e804-0603-4fd5-b81b-ccd659fb6ffe",
   "metadata": {
    "ein.tags": "worksheet-0",
    "slideshow": {
     "slide_type": "-"
    }
   },
   "source": [
    "El primer paso es utilizar esta utilidad:\n",
    "```bash\n",
    "$ f2py3 -c rotacion.f90 -m rotacion_f\n",
    "```"
   ]
  },
  {
   "cell_type": "code",
   "execution_count": 15,
   "id": "a8edf616-49fd-467f-9d8a-002ca9fe22b7",
   "metadata": {
    "autoscroll": false,
    "ein.tags": "worksheet-0",
    "slideshow": {
     "slide_type": "-"
    }
   },
   "outputs": [
    {
     "name": "stdout",
     "output_type": "stream",
     "text": [
      "\u001b[39mrunning build\u001b[0m\n",
      "\u001b[39mrunning config_cc\u001b[0m\n",
      "\u001b[39mINFO: unifing config_cc, config, build_clib, build_ext, build commands --compiler options\u001b[0m\n",
      "\u001b[39mrunning config_fc\u001b[0m\n",
      "\u001b[39mINFO: unifing config_fc, config, build_clib, build_ext, build commands --fcompiler options\u001b[0m\n",
      "\u001b[39mrunning build_src\u001b[0m\n",
      "\u001b[39mINFO: build_src\u001b[0m\n",
      "\u001b[39mINFO: building extension \"rotacion_f\" sources\u001b[0m\n",
      "\u001b[39mINFO: f2py options: []\u001b[0m\n",
      "\u001b[39mINFO: f2py:> /tmp/tmp8o0oz7vs/src.linux-x86_64-3.11/rotacion_fmodule.c\u001b[0m\n",
      "\u001b[39mcreating /tmp/tmp8o0oz7vs/src.linux-x86_64-3.11\u001b[0m\n",
      "Reading fortran codes...\n",
      "\tReading file 'rotacion.f90' (format:free)\n",
      "Post-processing...\n",
      "\tBlock: rotacion_f\n",
      "\t\t\tBlock: rotaciones\n",
      "\t\t\t\tBlock: matrix_rotation\n",
      "appenddecl: \"dimension\" not implemented.\n",
      "\t\t\t\tBlock: rotate\n",
      "appenddecl: \"dimension\" not implemented.\n",
      "\t\t\tBlock: test_rotation\n",
      "Applying post-processing hooks...\n",
      "  character_backward_compatibility_hook\n",
      "Post-processing (stage 2)...\n",
      "\tBlock: rotacion_f\n",
      "\t\tBlock: unknown_interface\n",
      "\t\t\tBlock: rotaciones\n",
      "\t\t\t\tBlock: matrix_rotation\n",
      "\t\t\t\tBlock: rotate\n",
      "\t\t\tBlock: test_rotation\n",
      "Building modules...\n",
      "    Building module \"rotacion_f\"...\n",
      "\t\tConstructing F90 module support for \"rotaciones\"...\n",
      "\t\tCreating wrapper for Fortran function \"matrix_rotation\"(\"matrix_rotation\")...\n",
      "            Constructing wrapper function \"rotaciones.matrix_rotation\"...\n",
      "              r = matrix_rotation(angles)\n",
      "\t\tCreating wrapper for Fortran function \"rotate\"(\"rotate\")...\n",
      "            Constructing wrapper function \"rotaciones.rotate\"...\n",
      "              y = rotate(angles,v,[n])\n",
      "    Wrote C/API module \"rotacion_f\" to file \"/tmp/tmp8o0oz7vs/src.linux-x86_64-3.11/rotacion_fmodule.c\"\n",
      "    Fortran 90 wrappers are saved to \"/tmp/tmp8o0oz7vs/src.linux-x86_64-3.11/rotacion_f-f2pywrappers2.f90\"\n",
      "\u001b[39mINFO:   adding '/tmp/tmp8o0oz7vs/src.linux-x86_64-3.11/fortranobject.c' to sources.\u001b[0m\n",
      "\u001b[39mINFO:   adding '/tmp/tmp8o0oz7vs/src.linux-x86_64-3.11' to include_dirs.\u001b[0m\n",
      "\u001b[39mcopying /usr/lib64/python3.11/site-packages/numpy/f2py/src/fortranobject.c -> /tmp/tmp8o0oz7vs/src.linux-x86_64-3.11\u001b[0m\n",
      "\u001b[39mcopying /usr/lib64/python3.11/site-packages/numpy/f2py/src/fortranobject.h -> /tmp/tmp8o0oz7vs/src.linux-x86_64-3.11\u001b[0m\n",
      "\u001b[39mINFO:   adding '/tmp/tmp8o0oz7vs/src.linux-x86_64-3.11/rotacion_f-f2pywrappers2.f90' to sources.\u001b[0m\n",
      "\u001b[39mINFO: build_src: building npy-pkg config files\u001b[0m\n",
      "/home/fiol/.local/lib/python3.11/site-packages/setuptools/_distutils/cmd.py:66: SetuptoolsDeprecationWarning: setup.py install is deprecated.\n",
      "!!\n",
      "\n",
      "        ********************************************************************************\n",
      "        Please avoid running ``setup.py`` directly.\n",
      "        Instead, use pypa/build, pypa/installer or other\n",
      "        standards-based tools.\n",
      "\n",
      "        See https://blog.ganssle.io/articles/2021/10/setup-py-deprecated.html for details.\n",
      "        ********************************************************************************\n",
      "\n",
      "!!\n",
      "  self.initialize_options()\n",
      "\u001b[39mrunning build_ext\u001b[0m\n",
      "\u001b[39mINFO: customize UnixCCompiler\u001b[0m\n",
      "\u001b[39mINFO: customize UnixCCompiler using build_ext\u001b[0m\n",
      "\u001b[39mINFO: get_default_fcompiler: matching types: '['arm', 'gnu95', 'intel', 'lahey', 'pg', 'nv', 'absoft', 'nag', 'vast', 'compaq', 'intele', 'intelem', 'gnu', 'g95', 'pathf95', 'nagfor', 'fujitsu']'\u001b[0m\n",
      "\u001b[39mINFO: customize ArmFlangCompiler\u001b[0m\n",
      "\u001b[31mWARN: Could not locate executable armflang\u001b[0m\n",
      "\u001b[39mINFO: customize Gnu95FCompiler\u001b[0m\n",
      "\u001b[39mINFO: Found executable /usr/bin/gfortran\u001b[0m\n",
      "\u001b[39mINFO: customize Gnu95FCompiler\u001b[0m\n",
      "\u001b[39mINFO: customize Gnu95FCompiler using build_ext\u001b[0m\n",
      "\u001b[39mINFO: building 'rotacion_f' extension\u001b[0m\n",
      "\u001b[39mINFO: compiling C sources\u001b[0m\n",
      "\u001b[39mINFO: C compiler: gcc -Wsign-compare -DDYNAMIC_ANNOTATIONS_ENABLED=1 -DNDEBUG -O2 -fexceptions -g -grecord-gcc-switches -pipe -Wall -Werror=format-security -Wp,-U_FORTIFY_SOURCE,-D_FORTIFY_SOURCE=3 -Wp,-D_GLIBCXX_ASSERTIONS -fstack-protector-strong -m64 -mtune=generic -fasynchronous-unwind-tables -fstack-clash-protection -fcf-protection -O2 -fexceptions -g -grecord-gcc-switches -pipe -Wall -Werror=format-security -Wp,-U_FORTIFY_SOURCE,-D_FORTIFY_SOURCE=3 -Wp,-D_GLIBCXX_ASSERTIONS -fstack-protector-strong -m64 -mtune=generic -fasynchronous-unwind-tables -fstack-clash-protection -fcf-protection -O2 -fexceptions -g -grecord-gcc-switches -pipe -Wall -Werror=format-security -Wp,-U_FORTIFY_SOURCE,-D_FORTIFY_SOURCE=3 -Wp,-D_GLIBCXX_ASSERTIONS -fstack-protector-strong -m64 -mtune=generic -fasynchronous-unwind-tables -fstack-clash-protection -fcf-protection -fPIC\n",
      "\u001b[0m\n",
      "\u001b[39mcreating /tmp/tmp8o0oz7vs/tmp\u001b[0m\n",
      "\u001b[39mcreating /tmp/tmp8o0oz7vs/tmp/tmp8o0oz7vs\u001b[0m\n",
      "\u001b[39mcreating /tmp/tmp8o0oz7vs/tmp/tmp8o0oz7vs/src.linux-x86_64-3.11\u001b[0m\n",
      "\u001b[39mINFO: compile options: '-DNPY_DISABLE_OPTIMIZATION=1 -I/tmp/tmp8o0oz7vs/src.linux-x86_64-3.11 -I/usr/lib64/python3.11/site-packages/numpy/core/include -I/usr/include/python3.11 -c'\u001b[0m\n",
      "\u001b[39mINFO: gcc: /tmp/tmp8o0oz7vs/src.linux-x86_64-3.11/rotacion_fmodule.c\u001b[0m\n",
      "\u001b[39mINFO: gcc: /tmp/tmp8o0oz7vs/src.linux-x86_64-3.11/fortranobject.c\u001b[0m\n",
      "\u001b[39mINFO: compiling Fortran 90 module sources\u001b[0m\n",
      "\u001b[39mINFO: Fortran f77 compiler: /usr/bin/gfortran -Wall -g -ffixed-form -fno-second-underscore -fPIC -O3 -funroll-loops\n",
      "Fortran f90 compiler: /usr/bin/gfortran -Wall -g -fno-second-underscore -fPIC -O3 -funroll-loops\n",
      "Fortran fix compiler: /usr/bin/gfortran -Wall -g -ffixed-form -fno-second-underscore -Wall -g -fno-second-underscore -fPIC -O3 -funroll-loops\u001b[0m\n",
      "\u001b[39mINFO: compile options: '-I/tmp/tmp8o0oz7vs/src.linux-x86_64-3.11 -I/usr/lib64/python3.11/site-packages/numpy/core/include -I/usr/include/python3.11 -c'\n",
      "extra options: '-J/tmp/tmp8o0oz7vs/ -I/tmp/tmp8o0oz7vs/'\u001b[0m\n",
      "\u001b[39mINFO: gfortran:f90: rotacion.f90\u001b[0m\n",
      "\u001b[01m\u001b[Krotacion.f90:56:24:\u001b[m\u001b[K\n",
      "\n",
      "   56 |   integer :: n, Nloops,i,j\n",
      "      |                        \u001b[01;35m\u001b[K1\u001b[m\u001b[K\n",
      "\u001b[01;35m\u001b[KWarning:\u001b[m\u001b[K Unused variable ‘\u001b[01m\u001b[Ki\u001b[m\u001b[K’ declared at \u001b[01;35m\u001b[K(1)\u001b[m\u001b[K [\u001b[01;35m\u001b[K\u001b]8;;https://gcc.gnu.org/onlinedocs/gcc/Warning-Options.html#index-Wunused-variable\u0007-Wunused-variable\u001b]8;;\u0007\u001b[m\u001b[K]\n",
      "\u001b[01m\u001b[Krotacion.f90:56:26:\u001b[m\u001b[K\n",
      "\n",
      "   56 |   integer :: n, Nloops,i,j\n",
      "      |                          \u001b[01;35m\u001b[K1\u001b[m\u001b[K\n",
      "\u001b[01;35m\u001b[KWarning:\u001b[m\u001b[K Unused variable ‘\u001b[01m\u001b[Kj\u001b[m\u001b[K’ declared at \u001b[01;35m\u001b[K(1)\u001b[m\u001b[K [\u001b[01;35m\u001b[K\u001b]8;;https://gcc.gnu.org/onlinedocs/gcc/Warning-Options.html#index-Wunused-variable\u0007-Wunused-variable\u001b]8;;\u0007\u001b[m\u001b[K]\n",
      "\u001b[01m\u001b[Krotacion.f90:59:31:\u001b[m\u001b[K\n",
      "\n",
      "   59 |   real(8), dimension(3, 3) :: R\n",
      "      |                               \u001b[01;35m\u001b[K1\u001b[m\u001b[K\n",
      "\u001b[01;35m\u001b[KWarning:\u001b[m\u001b[K Unused variable ‘\u001b[01m\u001b[Kr\u001b[m\u001b[K’ declared at \u001b[01;35m\u001b[K(1)\u001b[m\u001b[K [\u001b[01;35m\u001b[K\u001b]8;;https://gcc.gnu.org/onlinedocs/gcc/Warning-Options.html#index-Wunused-variable\u0007-Wunused-variable\u001b]8;;\u0007\u001b[m\u001b[K]\n",
      "\u001b[01m\u001b[Krotacion.f90:44:42:\u001b[m\u001b[K\n",
      "\n",
      "   44 |     y = matmul(matrix_rotation(angles), v)\n",
      "      |                                          \u001b[01;35m\u001b[K^\u001b[m\u001b[K\n",
      "\u001b[01;35m\u001b[KWarning:\u001b[m\u001b[K ‘\u001b[01m\u001b[K__var_1_mma.offset\u001b[m\u001b[K’ is used uninitialized [\u001b[01;35m\u001b[K\u001b]8;;https://gcc.gnu.org/onlinedocs/gcc/Warning-Options.html#index-Wuninitialized\u0007-Wuninitialized\u001b]8;;\u0007\u001b[m\u001b[K]\n",
      "\u001b[01m\u001b[Krotacion.f90:47:21:\u001b[m\u001b[K\n",
      "\n",
      "   47 | end module rotaciones\n",
      "      |                     \u001b[01;36m\u001b[K^\u001b[m\u001b[K\n",
      "\u001b[01;36m\u001b[Knote:\u001b[m\u001b[K ‘\u001b[01m\u001b[K__var_1_mma\u001b[m\u001b[K’ declared here\n",
      "\u001b[01m\u001b[Krotacion.f90:44:42:\u001b[m\u001b[K\n",
      "\n",
      "   44 |     y = matmul(matrix_rotation(angles), v)\n",
      "      |                                          \u001b[01;35m\u001b[K^\u001b[m\u001b[K\n",
      "\u001b[01;35m\u001b[KWarning:\u001b[m\u001b[K ‘\u001b[01m\u001b[K__var_1_mma.dim[0].lbound\u001b[m\u001b[K’ is used uninitialized [\u001b[01;35m\u001b[K\u001b]8;;https://gcc.gnu.org/onlinedocs/gcc/Warning-Options.html#index-Wuninitialized\u0007-Wuninitialized\u001b]8;;\u0007\u001b[m\u001b[K]\n",
      "\u001b[01m\u001b[Krotacion.f90:47:21:\u001b[m\u001b[K\n",
      "\n",
      "   47 | end module rotaciones\n",
      "      |                     \u001b[01;36m\u001b[K^\u001b[m\u001b[K\n",
      "\u001b[01;36m\u001b[Knote:\u001b[m\u001b[K ‘\u001b[01m\u001b[K__var_1_mma\u001b[m\u001b[K’ declared here\n",
      "\u001b[01m\u001b[Krotacion.f90:44:42:\u001b[m\u001b[K\n",
      "\n",
      "   44 |     y = matmul(matrix_rotation(angles), v)\n",
      "      |                                          \u001b[01;35m\u001b[K^\u001b[m\u001b[K\n",
      "\u001b[01;35m\u001b[KWarning:\u001b[m\u001b[K ‘\u001b[01m\u001b[K__var_1_mma.dim[0].ubound\u001b[m\u001b[K’ is used uninitialized [\u001b[01;35m\u001b[K\u001b]8;;https://gcc.gnu.org/onlinedocs/gcc/Warning-Options.html#index-Wuninitialized\u0007-Wuninitialized\u001b]8;;\u0007\u001b[m\u001b[K]\n",
      "\u001b[01m\u001b[Krotacion.f90:47:21:\u001b[m\u001b[K\n",
      "\n",
      "   47 | end module rotaciones\n",
      "      |                     \u001b[01;36m\u001b[K^\u001b[m\u001b[K\n",
      "\u001b[01;36m\u001b[Knote:\u001b[m\u001b[K ‘\u001b[01m\u001b[K__var_1_mma\u001b[m\u001b[K’ declared here\n",
      "\u001b[01m\u001b[Krotacion.f90:44:42:\u001b[m\u001b[K\n",
      "\n",
      "   44 |     y = matmul(matrix_rotation(angles), v)\n",
      "      |                                          \u001b[01;35m\u001b[K^\u001b[m\u001b[K\n",
      "\u001b[01;35m\u001b[KWarning:\u001b[m\u001b[K ‘\u001b[01m\u001b[K__var_1_mma.dim[1].lbound\u001b[m\u001b[K’ is used uninitialized [\u001b[01;35m\u001b[K\u001b]8;;https://gcc.gnu.org/onlinedocs/gcc/Warning-Options.html#index-Wuninitialized\u0007-Wuninitialized\u001b]8;;\u0007\u001b[m\u001b[K]\n",
      "\u001b[01m\u001b[Krotacion.f90:47:21:\u001b[m\u001b[K\n",
      "\n",
      "   47 | end module rotaciones\n",
      "      |                     \u001b[01;36m\u001b[K^\u001b[m\u001b[K\n",
      "\u001b[01;36m\u001b[Knote:\u001b[m\u001b[K ‘\u001b[01m\u001b[K__var_1_mma\u001b[m\u001b[K’ declared here\n",
      "\u001b[01m\u001b[Krotacion.f90:44:42:\u001b[m\u001b[K\n",
      "\n",
      "   44 |     y = matmul(matrix_rotation(angles), v)\n",
      "      |                                          \u001b[01;35m\u001b[K^\u001b[m\u001b[K\n",
      "\u001b[01;35m\u001b[KWarning:\u001b[m\u001b[K ‘\u001b[01m\u001b[K__var_1_mma.dim[1].ubound\u001b[m\u001b[K’ is used uninitialized [\u001b[01;35m\u001b[K\u001b]8;;https://gcc.gnu.org/onlinedocs/gcc/Warning-Options.html#index-Wuninitialized\u0007-Wuninitialized\u001b]8;;\u0007\u001b[m\u001b[K]\n",
      "\u001b[01m\u001b[Krotacion.f90:47:21:\u001b[m\u001b[K\n",
      "\n",
      "   47 | end module rotaciones\n",
      "      |                     \u001b[01;36m\u001b[K^\u001b[m\u001b[K\n",
      "\u001b[01;36m\u001b[Knote:\u001b[m\u001b[K ‘\u001b[01m\u001b[K__var_1_mma\u001b[m\u001b[K’ declared here\n",
      "\u001b[39mINFO: compiling Fortran sources\u001b[0m\n",
      "\u001b[39mINFO: Fortran f77 compiler: /usr/bin/gfortran -Wall -g -ffixed-form -fno-second-underscore -fPIC -O3 -funroll-loops\n",
      "Fortran f90 compiler: /usr/bin/gfortran -Wall -g -fno-second-underscore -fPIC -O3 -funroll-loops\n",
      "Fortran fix compiler: /usr/bin/gfortran -Wall -g -ffixed-form -fno-second-underscore -Wall -g -fno-second-underscore -fPIC -O3 -funroll-loops\u001b[0m\n",
      "\u001b[39mINFO: compile options: '-I/tmp/tmp8o0oz7vs/src.linux-x86_64-3.11 -I/usr/lib64/python3.11/site-packages/numpy/core/include -I/usr/include/python3.11 -c'\n",
      "extra options: '-J/tmp/tmp8o0oz7vs/ -I/tmp/tmp8o0oz7vs/'\u001b[0m\n",
      "\u001b[39mINFO: gfortran:f90: /tmp/tmp8o0oz7vs/src.linux-x86_64-3.11/rotacion_f-f2pywrappers2.f90\u001b[0m\n",
      "\u001b[01m\u001b[K/tmp/tmp8o0oz7vs/src.linux-x86_64-3.11/rotacion_f-f2pywrappers2.f90:5:52:\u001b[m\u001b[K\n",
      "\n",
      "    5 |       subroutine f2pywrap_rotaciones_matrix_rotation (matrix_rotationf2p&\n",
      "      |                                                    \u001b[01;35m\u001b[K1\u001b[m\u001b[K\n",
      "......\n",
      "   24 |       subroutine f2pywrap_rotaciones_matrix_rotation (matrix_rotationf2p&\n",
      "      |                                                    \u001b[32m\u001b[K2\u001b[m\u001b[K\n",
      "\u001b[01;35m\u001b[KWarning:\u001b[m\u001b[K Rank mismatch in argument 'matrix_rotation' (2/1) between \u001b[01;35m\u001b[K(1)\u001b[m\u001b[K and \u001b[32m\u001b[K(2)\u001b[m\u001b[K\n",
      "\u001b[01m\u001b[K/tmp/tmp8o0oz7vs/src.linux-x86_64-3.11/rotacion_f-f2pywrappers2.f90:12:43:\u001b[m\u001b[K\n",
      "\n",
      "   12 |       subroutine f2pywrap_rotaciones_rotate (rotatef2pywrap, angles, v, &\n",
      "      |                                           \u001b[01;35m\u001b[K1\u001b[m\u001b[K\n",
      "......\n",
      "   30 |       subroutine f2pywrap_rotaciones_rotate (rotatef2pywrap, rotate, ang&\n",
      "      |                                           \u001b[32m\u001b[K2\u001b[m\u001b[K\n",
      "\u001b[01;35m\u001b[KWarning:\u001b[m\u001b[K Rank mismatch in argument 'rotate' (2/1) between \u001b[01;35m\u001b[K(1)\u001b[m\u001b[K and \u001b[32m\u001b[K(2)\u001b[m\u001b[K\n",
      "\u001b[39mINFO: /usr/bin/gfortran -Wall -g -Wall -g -shared /tmp/tmp8o0oz7vs/tmp/tmp8o0oz7vs/src.linux-x86_64-3.11/rotacion_fmodule.o /tmp/tmp8o0oz7vs/tmp/tmp8o0oz7vs/src.linux-x86_64-3.11/fortranobject.o /tmp/tmp8o0oz7vs/rotacion.o /tmp/tmp8o0oz7vs/tmp/tmp8o0oz7vs/src.linux-x86_64-3.11/rotacion_f-f2pywrappers2.o -L/usr/lib/gcc/x86_64-redhat-linux/13 -L/usr/lib/gcc/x86_64-redhat-linux/13 -L/usr/lib64 -lgfortran -o ./rotacion_f.cpython-311-x86_64-linux-gnu.so\u001b[0m\n",
      "Removing build directory /tmp/tmp8o0oz7vs\n"
     ]
    }
   ],
   "source": [
    "!f2py3 -c rotacion.f90 -m rotacion_f"
   ]
  },
  {
   "cell_type": "code",
   "execution_count": 16,
   "id": "9a625559-fab3-4433-80c3-aca7fb5b4ee7",
   "metadata": {
    "autoscroll": false,
    "ein.tags": "worksheet-0",
    "slideshow": {
     "slide_type": "-"
    }
   },
   "outputs": [],
   "source": [
    "from rotacion_f import rotaciones as rotf"
   ]
  },
  {
   "cell_type": "code",
   "execution_count": 17,
   "id": "f7958dfb-5388-4084-8ef1-5ffc1371317d",
   "metadata": {
    "autoscroll": false,
    "ein.tags": "worksheet-0",
    "slideshow": {
     "slide_type": "-"
    }
   },
   "outputs": [
    {
     "name": "stdout",
     "output_type": "stream",
     "text": [
      "[[ 0.90717864  0.68082735 -0.01987772]\n",
      " [ 0.43798584  0.78786433  0.54493442]\n",
      " [ 0.75536562  0.51102298  0.41541194]\n",
      " [ 0.17681573  0.1682188  -0.02342615]\n",
      " [ 0.20673471  0.38302061  0.17507386]]\n",
      "[[ 0.90717864  0.68082735 -0.01987772]\n",
      " [ 0.43798584  0.78786433  0.54493442]\n",
      " [ 0.75536562  0.51102298  0.41541194]\n",
      " [ 0.17681573  0.1682188  -0.02342615]\n",
      " [ 0.20673471  0.38302061  0.17507386]]\n"
     ]
    },
    {
     "data": {
      "text/plain": [
       "True"
      ]
     },
     "execution_count": 17,
     "metadata": {},
     "output_type": "execute_result"
    }
   ],
   "source": [
    "yf = rotf.rotate(angle, v)\n",
    "print(y[:,0:5].T)\n",
    "print(yf[:,0:5].T)\n",
    "np.allclose(yf,y)"
   ]
  },
  {
   "cell_type": "code",
   "execution_count": 18,
   "id": "248d2f8f-1289-4405-bbfb-aab381466116",
   "metadata": {},
   "outputs": [
    {
     "name": "stdout",
     "output_type": "stream",
     "text": [
      "6.42 µs ± 107 ns per loop (mean ± std. dev. of 7 runs, 100,000 loops each)\n"
     ]
    }
   ],
   "source": [
    "%timeit rotate(angle,v)"
   ]
  },
  {
   "cell_type": "code",
   "execution_count": 19,
   "id": "c454d4b6-f24c-4856-ac4d-e70b4bcf3611",
   "metadata": {},
   "outputs": [
    {
     "name": "stdout",
     "output_type": "stream",
     "text": [
      "2.48 µs ± 24.2 ns per loop (mean ± std. dev. of 7 runs, 100,000 loops each)\n"
     ]
    }
   ],
   "source": [
    "%timeit rotf.rotate(angle, v)"
   ]
  },
  {
   "cell_type": "markdown",
   "id": "ee789a2b-3832-4b2f-b694-583c6c69abe6",
   "metadata": {
    "ein.tags": "worksheet-0",
    "slideshow": {
     "slide_type": "-"
    }
   },
   "source": [
    "Veamos qué es exactamente lo que importamos:"
   ]
  },
  {
   "cell_type": "code",
   "execution_count": 20,
   "id": "077ebb56-ec98-4968-a152-4496d77759c4",
   "metadata": {
    "autoscroll": false,
    "ein.tags": "worksheet-0",
    "slideshow": {
     "slide_type": "-"
    }
   },
   "outputs": [
    {
     "name": "stdout",
     "output_type": "stream",
     "text": [
      "y = rotate(angles,v,[n])\n",
      "\n",
      "Wrapper for ``rotate``.\n",
      "\n",
      "Parameters\n",
      "----------\n",
      "angles : input rank-1 array('d') with bounds (3)\n",
      "v : input rank-2 array('d') with bounds (3,n)\n",
      "\n",
      "Other Parameters\n",
      "----------------\n",
      "n : input int, optional\n",
      "    Default: shape(v, 1)\n",
      "\n",
      "Returns\n",
      "-------\n",
      "y : rank-2 array('d') with bounds (3,n) and rotate storage\n"
     ]
    }
   ],
   "source": [
    "np.info(rotf.rotate)"
   ]
  },
  {
   "cell_type": "markdown",
   "id": "f2d05f97-7766-42db-8f38-20f5606c58de",
   "metadata": {
    "ein.tags": "worksheet-0",
    "slideshow": {
     "slide_type": "-"
    }
   },
   "source": [
    "Como vemos, estamos usando la función `rotate` definida en Fortran. Notar que:\n",
    "* Tiene tres argumentos.\n",
    "   * Dos argumentos requeridos: `angles` y `v`\n",
    "   * Un argumento, correspondiente a la dimensión `n` que F2PY automáticamente detecta como opcional.\n",
    "\n",
    "             "
   ]
  },
  {
   "cell_type": "markdown",
   "id": "76d6a878-3bdd-4d61-869b-519a8f78afbc",
   "metadata": {
    "ein.tags": "worksheet-0",
    "slideshow": {
     "slide_type": "-"
    }
   },
   "source": [
    "### Segundo Ejemplo: Código heredado\n",
    "\n",
    "La conversión que realizamos con f2py3 la podríamos haber realizado en dos pasos:\n",
    "\n",
    "```bash\n",
    "$ f2py3 rotacion.f90 -m rotacion_f -h rotacion.pyf\n",
    "$ f2py3 -c rotacion.pyf -m rotacion_f\n",
    "```\n",
    "En el primer paso se crea un archivo *signature* que después se utiliza para crear el módulo que llamaremos desde **Python**. Haciéndolo en dos pasos nos permite modificar el texto del archivo *.pyf* antes de ejecutar el segundo comando.\n",
    "\n",
    "Esto es útil cuando el código original no es lo suficientemente \"moderno\", no tiene toda la información necesaria sobre los argumentos o es un código que uno no quiere o puede editar. Veamos que forma tienen con un ejemplo más simple (tomado de la [guía de usuario](https://docs.scipy.org/doc/numpy-dev/f2py/getting-started.html)):\n",
    "\n",
    "```fortran\n",
    "      SUBROUTINE FIB(A,N)\n",
    "C\n",
    "C     CALCULATE FIRST N FIBONACCI NUMBERS\n",
    "C\n",
    "      INTEGER N\n",
    "      REAL*8 A(N)\n",
    "      DO I=1,N\n",
    "         IF (I.EQ.1) THEN\n",
    "            A(I) = 0.0D0\n",
    "         ELSEIF (I.EQ.2) THEN\n",
    "            A(I) = 1.0D0\n",
    "         ELSE \n",
    "            A(I) = A(I-1) + A(I-2)\n",
    "         ENDIF\n",
    "      ENDDO\n",
    "      END\n",
    "```"
   ]
  },
  {
   "cell_type": "code",
   "execution_count": 21,
   "id": "e0ab3350-f1fc-44d5-a148-88615f05cae0",
   "metadata": {
    "autoscroll": false,
    "ein.tags": "worksheet-0",
    "slideshow": {
     "slide_type": "-"
    }
   },
   "outputs": [
    {
     "name": "stdout",
     "output_type": "stream",
     "text": [
      "Reading fortran codes...\n",
      "\tReading file 'fib1.f' (format:fix,strict)\n",
      "Post-processing...\n",
      "\tBlock: fib1\n",
      "\t\t\tBlock: fib\n",
      "Applying post-processing hooks...\n",
      "  character_backward_compatibility_hook\n",
      "Post-processing (stage 2)...\n",
      "Saving signatures to file \"./fib1.pyf\"\n"
     ]
    }
   ],
   "source": [
    "!f2py3 --overwrite-signature fib1.f -m fib1 -h fib1.pyf"
   ]
  },
  {
   "cell_type": "markdown",
   "id": "a4401ebf-0b35-4fb8-9122-58319a8a7e86",
   "metadata": {
    "ein.tags": "worksheet-0",
    "slideshow": {
     "slide_type": "-"
    }
   },
   "source": [
    "El contenido del archivo `fib1.pyf` es:\n",
    "\n",
    "```fortran90\n",
    "python module fib1 ! in \n",
    "    interface  ! in :fib1\n",
    "        subroutine fib(a,n) ! in :fib1:fib1.f\n",
    "            real*8 dimension(n) :: a\n",
    "            integer, optional,check(len(a)>=n),depend(a) :: n=len(a)\n",
    "        end subroutine fib\n",
    "    end interface \n",
    "end python module fib1\n",
    "```\n",
    "\n",
    "Este código indica que tenemos una subrutina que toma dos argumentos:\n",
    "- `a` es un array\n",
    "- `n` es un entero opcional, que tiene que ser mayor que `len(a)`"
   ]
  },
  {
   "cell_type": "code",
   "execution_count": 22,
   "id": "128449a9-5b3b-4b78-9a19-6b56f9cd0f6a",
   "metadata": {
    "autoscroll": false,
    "ein.tags": "worksheet-0",
    "slideshow": {
     "slide_type": "-"
    }
   },
   "outputs": [
    {
     "name": "stdout",
     "output_type": "stream",
     "text": [
      "\u001b[39mrunning build\u001b[0m\n",
      "\u001b[39mrunning config_cc\u001b[0m\n",
      "\u001b[39mINFO: unifing config_cc, config, build_clib, build_ext, build commands --compiler options\u001b[0m\n",
      "\u001b[39mrunning config_fc\u001b[0m\n",
      "\u001b[39mINFO: unifing config_fc, config, build_clib, build_ext, build commands --fcompiler options\u001b[0m\n",
      "\u001b[39mrunning build_src\u001b[0m\n",
      "\u001b[39mINFO: build_src\u001b[0m\n",
      "\u001b[39mINFO: building extension \"fib1\" sources\u001b[0m\n",
      "\u001b[39mcreating /tmp/tmpvzr316vv/src.linux-x86_64-3.11\u001b[0m\n",
      "\u001b[39mINFO: f2py options: []\u001b[0m\n",
      "\u001b[39mINFO: f2py: fib1.pyf\u001b[0m\n",
      "Reading fortran codes...\n",
      "\tReading file 'fib1.pyf' (format:free)\n",
      "Post-processing...\n",
      "\tBlock: fib1\n",
      "\t\t\tBlock: fib\n",
      "Applying post-processing hooks...\n",
      "  character_backward_compatibility_hook\n",
      "Post-processing (stage 2)...\n",
      "Building modules...\n",
      "    Building module \"fib1\"...\n",
      "    Generating possibly empty wrappers\"\n",
      "    Maybe empty \"fib1-f2pywrappers.f\"\n",
      "        Constructing wrapper function \"fib\"...\n",
      "          fib(a,[n])\n",
      "    Wrote C/API module \"fib1\" to file \"/tmp/tmpvzr316vv/src.linux-x86_64-3.11/fib1module.c\"\n",
      "\u001b[39mINFO:   adding '/tmp/tmpvzr316vv/src.linux-x86_64-3.11/fortranobject.c' to sources.\u001b[0m\n",
      "\u001b[39mINFO:   adding '/tmp/tmpvzr316vv/src.linux-x86_64-3.11' to include_dirs.\u001b[0m\n",
      "\u001b[39mcopying /usr/lib64/python3.11/site-packages/numpy/f2py/src/fortranobject.c -> /tmp/tmpvzr316vv/src.linux-x86_64-3.11\u001b[0m\n",
      "\u001b[39mcopying /usr/lib64/python3.11/site-packages/numpy/f2py/src/fortranobject.h -> /tmp/tmpvzr316vv/src.linux-x86_64-3.11\u001b[0m\n",
      "\u001b[39mINFO:   adding '/tmp/tmpvzr316vv/src.linux-x86_64-3.11/fib1-f2pywrappers.f' to sources.\u001b[0m\n",
      "\u001b[39mINFO: build_src: building npy-pkg config files\u001b[0m\n",
      "/home/fiol/.local/lib/python3.11/site-packages/setuptools/_distutils/cmd.py:66: SetuptoolsDeprecationWarning: setup.py install is deprecated.\n",
      "!!\n",
      "\n",
      "        ********************************************************************************\n",
      "        Please avoid running ``setup.py`` directly.\n",
      "        Instead, use pypa/build, pypa/installer or other\n",
      "        standards-based tools.\n",
      "\n",
      "        See https://blog.ganssle.io/articles/2021/10/setup-py-deprecated.html for details.\n",
      "        ********************************************************************************\n",
      "\n",
      "!!\n",
      "  self.initialize_options()\n",
      "\u001b[39mrunning build_ext\u001b[0m\n",
      "\u001b[39mINFO: customize UnixCCompiler\u001b[0m\n",
      "\u001b[39mINFO: customize UnixCCompiler using build_ext\u001b[0m\n",
      "\u001b[39mINFO: get_default_fcompiler: matching types: '['arm', 'gnu95', 'intel', 'lahey', 'pg', 'nv', 'absoft', 'nag', 'vast', 'compaq', 'intele', 'intelem', 'gnu', 'g95', 'pathf95', 'nagfor', 'fujitsu']'\u001b[0m\n",
      "\u001b[39mINFO: customize ArmFlangCompiler\u001b[0m\n",
      "\u001b[31mWARN: Could not locate executable armflang\u001b[0m\n",
      "\u001b[39mINFO: customize Gnu95FCompiler\u001b[0m\n",
      "\u001b[39mINFO: Found executable /usr/bin/gfortran\u001b[0m\n",
      "\u001b[39mINFO: customize Gnu95FCompiler\u001b[0m\n",
      "\u001b[39mINFO: customize Gnu95FCompiler using build_ext\u001b[0m\n",
      "\u001b[39mINFO: building 'fib1' extension\u001b[0m\n",
      "\u001b[39mINFO: compiling C sources\u001b[0m\n",
      "\u001b[39mINFO: C compiler: gcc -Wsign-compare -DDYNAMIC_ANNOTATIONS_ENABLED=1 -DNDEBUG -O2 -fexceptions -g -grecord-gcc-switches -pipe -Wall -Werror=format-security -Wp,-U_FORTIFY_SOURCE,-D_FORTIFY_SOURCE=3 -Wp,-D_GLIBCXX_ASSERTIONS -fstack-protector-strong -m64 -mtune=generic -fasynchronous-unwind-tables -fstack-clash-protection -fcf-protection -O2 -fexceptions -g -grecord-gcc-switches -pipe -Wall -Werror=format-security -Wp,-U_FORTIFY_SOURCE,-D_FORTIFY_SOURCE=3 -Wp,-D_GLIBCXX_ASSERTIONS -fstack-protector-strong -m64 -mtune=generic -fasynchronous-unwind-tables -fstack-clash-protection -fcf-protection -O2 -fexceptions -g -grecord-gcc-switches -pipe -Wall -Werror=format-security -Wp,-U_FORTIFY_SOURCE,-D_FORTIFY_SOURCE=3 -Wp,-D_GLIBCXX_ASSERTIONS -fstack-protector-strong -m64 -mtune=generic -fasynchronous-unwind-tables -fstack-clash-protection -fcf-protection -fPIC\n",
      "\u001b[0m\n",
      "\u001b[39mcreating /tmp/tmpvzr316vv/tmp\u001b[0m\n",
      "\u001b[39mcreating /tmp/tmpvzr316vv/tmp/tmpvzr316vv\u001b[0m\n",
      "\u001b[39mcreating /tmp/tmpvzr316vv/tmp/tmpvzr316vv/src.linux-x86_64-3.11\u001b[0m\n",
      "\u001b[39mINFO: compile options: '-DNPY_DISABLE_OPTIMIZATION=1 -I/tmp/tmpvzr316vv/src.linux-x86_64-3.11 -I/usr/lib64/python3.11/site-packages/numpy/core/include -I/usr/include/python3.11 -c'\u001b[0m\n",
      "\u001b[39mINFO: gcc: /tmp/tmpvzr316vv/src.linux-x86_64-3.11/fib1module.c\u001b[0m\n",
      "\u001b[39mINFO: gcc: /tmp/tmpvzr316vv/src.linux-x86_64-3.11/fortranobject.c\u001b[0m\n",
      "\u001b[39mINFO: compiling Fortran sources\u001b[0m\n",
      "\u001b[39mINFO: Fortran f77 compiler: /usr/bin/gfortran -Wall -g -ffixed-form -fno-second-underscore -fPIC -O3 -funroll-loops\n",
      "Fortran f90 compiler: /usr/bin/gfortran -Wall -g -fno-second-underscore -fPIC -O3 -funroll-loops\n",
      "Fortran fix compiler: /usr/bin/gfortran -Wall -g -ffixed-form -fno-second-underscore -Wall -g -fno-second-underscore -fPIC -O3 -funroll-loops\u001b[0m\n",
      "\u001b[39mINFO: compile options: '-I/tmp/tmpvzr316vv/src.linux-x86_64-3.11 -I/usr/lib64/python3.11/site-packages/numpy/core/include -I/usr/include/python3.11 -c'\u001b[0m\n",
      "\u001b[39mINFO: gfortran:f77: fib1.f\u001b[0m\n",
      "\u001b[39mINFO: gfortran:f77: /tmp/tmpvzr316vv/src.linux-x86_64-3.11/fib1-f2pywrappers.f\u001b[0m\n",
      "\u001b[39mINFO: /usr/bin/gfortran -Wall -g -Wall -g -shared /tmp/tmpvzr316vv/tmp/tmpvzr316vv/src.linux-x86_64-3.11/fib1module.o /tmp/tmpvzr316vv/tmp/tmpvzr316vv/src.linux-x86_64-3.11/fortranobject.o /tmp/tmpvzr316vv/fib1.o /tmp/tmpvzr316vv/tmp/tmpvzr316vv/src.linux-x86_64-3.11/fib1-f2pywrappers.o -L/usr/lib/gcc/x86_64-redhat-linux/13 -L/usr/lib/gcc/x86_64-redhat-linux/13 -L/usr/lib64 -lgfortran -o ./fib1.cpython-311-x86_64-linux-gnu.so\u001b[0m\n",
      "Removing build directory /tmp/tmpvzr316vv\n"
     ]
    }
   ],
   "source": [
    "!f2py3  -c fib1.pyf fib1.f "
   ]
  },
  {
   "cell_type": "code",
   "execution_count": 24,
   "id": "506517fa-5ccb-49b9-a3f0-a2bd5954a5bb",
   "metadata": {},
   "outputs": [
    {
     "name": "stdout",
     "output_type": "stream",
     "text": [
      "total 780\n",
      "drwxr-xr-x. 1 fiol fiol     16 mar 27  2023 \u001b[0m\u001b[01;34mfib2.cpython-39-darwin.so.dSYM\u001b[0m/\n",
      "drwxr-xr-x. 1 fiol fiol     16 mar 27  2023 \u001b[01;34mfib3.cpython-39-darwin.so.dSYM\u001b[0m/\n",
      "-rwxr-xr-x. 1 fiol fiol  55448 mar 27  2023 \u001b[01;32mfib3.cpython-39-darwin.so\u001b[0m*\n",
      "-rw-r--r--. 1 fiol fiol    403 mar 27  2023 fib2.pyf\n",
      "-rwxr-xr-x. 1 fiol fiol  55448 mar 27  2023 \u001b[01;32mfib2.cpython-39-darwin.so\u001b[0m*\n",
      "-rw-r--r--. 1 fiol fiol    347 mar 27  2023 fib1.f\n",
      "-rwxr-xr-x. 1 fiol fiol  55512 mar 27  2023 \u001b[01;32mfib1.cpython-39-darwin.so\u001b[0m*\n",
      "-rw-r--r--. 1 fiol fiol   1007 mar 27  2023 rotacion.pyf\n",
      "-rwxr-xr-x. 1 fiol fiol  58480 mar 27  2023 \u001b[01;32mrotacion_f.cpython-39-darwin.so\u001b[0m*\n",
      "-rw-r--r--. 1 fiol fiol   2202 mar 27  2023 rotacion.f90\n",
      "-rw-r--r--. 1 fiol fiol    558 mar 27  2023 rotaciones.mod\n",
      "-rw-r--r--. 1 fiol fiol    372 mar 27  2023 fib3.f\n",
      "-rwxr-xr-x. 1 fiol fiol 124216 mar 22 13:27 \u001b[01;32mfib2.cpython-311-x86_64-linux-gnu.so\u001b[0m*\n",
      "-rwxr-xr-x. 1 fiol fiol 124216 mar 22 13:28 \u001b[01;32mfib3.cpython-311-x86_64-linux-gnu.so\u001b[0m*\n",
      "-rwxr-xr-x. 1 fiol fiol 151944 mar 22 14:28 \u001b[01;32mrotacion_f.cpython-311-x86_64-linux-gnu.so\u001b[0m*\n",
      "-rw-r--r--. 1 fiol fiol    501 mar 22 14:41 fib1.pyf\n",
      "-rwxr-xr-x. 1 fiol fiol 125040 mar 22 14:43 \u001b[01;32mfib1.cpython-311-x86_64-linux-gnu.so\u001b[0m*\n"
     ]
    }
   ],
   "source": [
    "ls -ltr"
   ]
  },
  {
   "cell_type": "code",
   "execution_count": 25,
   "id": "b00b0a48-3dc8-478a-a14d-7aa63a9e33b4",
   "metadata": {
    "autoscroll": false,
    "ein.tags": "worksheet-0",
    "slideshow": {
     "slide_type": "-"
    }
   },
   "outputs": [],
   "source": [
    "import fib1"
   ]
  },
  {
   "cell_type": "code",
   "execution_count": 26,
   "id": "1f860f03-12c0-4270-ba96-45ce502834ed",
   "metadata": {
    "autoscroll": false,
    "ein.tags": "worksheet-0",
    "slideshow": {
     "slide_type": "-"
    }
   },
   "outputs": [
    {
     "name": "stdout",
     "output_type": "stream",
     "text": [
      "fib(a,[n])\n",
      "\n",
      "Wrapper for ``fib``.\n",
      "\n",
      "Parameters\n",
      "----------\n",
      "a : input rank-1 array('d') with bounds (n)\n",
      "\n",
      "Other Parameters\n",
      "----------------\n",
      "n : input int, optional\n",
      "    Default: shape(a, 0)\n",
      "\n"
     ]
    }
   ],
   "source": [
    "print(fib1.fib.__doc__)"
   ]
  },
  {
   "cell_type": "code",
   "execution_count": 27,
   "id": "845e15af-e8fe-4138-bce3-3c523fee2b20",
   "metadata": {
    "autoscroll": false,
    "ein.tags": "worksheet-0",
    "slideshow": {
     "slide_type": "-"
    }
   },
   "outputs": [
    {
     "name": "stdout",
     "output_type": "stream",
     "text": [
      "[ 0.  1.  1.  2.  3.  5.  8. 13. 21. 34. 55. 89.]\n"
     ]
    }
   ],
   "source": [
    "a = np.zeros(12)\n",
    "fib1.fib(a)\n",
    "print(a)"
   ]
  },
  {
   "cell_type": "markdown",
   "id": "9eceff93",
   "metadata": {},
   "source": [
    "Podemos darle además a la función `fib` el argumento opcional `n`. Solo que debe cumplir la condición especificada en el archivo *fib1.pyf*"
   ]
  },
  {
   "cell_type": "code",
   "execution_count": 28,
   "id": "30fd8ad2-6915-494e-94d1-1028f3a09718",
   "metadata": {
    "autoscroll": false,
    "ein.tags": "worksheet-0",
    "slideshow": {
     "slide_type": "-"
    }
   },
   "outputs": [
    {
     "name": "stdout",
     "output_type": "stream",
     "text": [
      "[ 0.  1.  1.  2.  3.  5.  8. 13. 21. 34. 55. 89.]\n"
     ]
    }
   ],
   "source": [
    "a = np.zeros(12)\n",
    "fib1.fib(a,12)\n",
    "print(a)"
   ]
  },
  {
   "cell_type": "code",
   "execution_count": 29,
   "id": "a0ce8556-6426-49bb-8f0e-06aab5f1745e",
   "metadata": {
    "autoscroll": false,
    "ein.tags": "worksheet-0",
    "slideshow": {
     "slide_type": "-"
    }
   },
   "outputs": [
    {
     "ename": "error",
     "evalue": "(shape(a, 0) == n) failed for 1st keyword n: fib:n=8",
     "output_type": "error",
     "traceback": [
      "\u001b[0;31m---------------------------------------------------------------------------\u001b[0m",
      "\u001b[0;31merror\u001b[0m                                     Traceback (most recent call last)",
      "Cell \u001b[0;32mIn[29], line 2\u001b[0m\n\u001b[1;32m      1\u001b[0m a \u001b[38;5;241m=\u001b[39m np\u001b[38;5;241m.\u001b[39mzeros(\u001b[38;5;241m12\u001b[39m)\n\u001b[0;32m----> 2\u001b[0m \u001b[43mfib1\u001b[49m\u001b[38;5;241;43m.\u001b[39;49m\u001b[43mfib\u001b[49m\u001b[43m(\u001b[49m\u001b[43ma\u001b[49m\u001b[43m,\u001b[49m\u001b[38;5;241;43m8\u001b[39;49m\u001b[43m)\u001b[49m\n\u001b[1;32m      3\u001b[0m \u001b[38;5;28mprint\u001b[39m(a)\n",
      "\u001b[0;31merror\u001b[0m: (shape(a, 0) == n) failed for 1st keyword n: fib:n=8"
     ]
    }
   ],
   "source": [
    "a = np.zeros(12)\n",
    "fib1.fib(a,8)\n",
    "print(a)"
   ]
  },
  {
   "cell_type": "code",
   "execution_count": 30,
   "id": "b7e52034-3e6b-44c4-97a0-50e5581595b6",
   "metadata": {
    "autoscroll": false,
    "ein.tags": "worksheet-0",
    "slideshow": {
     "slide_type": "-"
    }
   },
   "outputs": [
    {
     "ename": "error",
     "evalue": "(shape(a, 0) == n) failed for 1st keyword n: fib:n=18",
     "output_type": "error",
     "traceback": [
      "\u001b[0;31m---------------------------------------------------------------------------\u001b[0m",
      "\u001b[0;31merror\u001b[0m                                     Traceback (most recent call last)",
      "Cell \u001b[0;32mIn[30], line 2\u001b[0m\n\u001b[1;32m      1\u001b[0m a \u001b[38;5;241m=\u001b[39m np\u001b[38;5;241m.\u001b[39mzeros(\u001b[38;5;241m12\u001b[39m)\n\u001b[0;32m----> 2\u001b[0m \u001b[43mfib1\u001b[49m\u001b[38;5;241;43m.\u001b[39;49m\u001b[43mfib\u001b[49m\u001b[43m(\u001b[49m\u001b[43ma\u001b[49m\u001b[43m,\u001b[49m\u001b[38;5;241;43m18\u001b[39;49m\u001b[43m)\u001b[49m\n\u001b[1;32m      3\u001b[0m \u001b[38;5;28mprint\u001b[39m(a)\n",
      "\u001b[0;31merror\u001b[0m: (shape(a, 0) == n) failed for 1st keyword n: fib:n=18"
     ]
    }
   ],
   "source": [
    "a = np.zeros(12)\n",
    "fib1.fib(a,18)\n",
    "print(a)"
   ]
  },
  {
   "cell_type": "markdown",
   "id": "8f85dbaa-6875-4d76-b08d-94b41176deb6",
   "metadata": {
    "ein.tags": "worksheet-0",
    "slideshow": {
     "slide_type": "-"
    }
   },
   "source": [
    "Esta es una de las características de F2PY: hace un chequeo básico de los argumentos. Hay otro error que no llega a atrapar: Si le pasamos un array que no es del tipo indicado, falla (sin avisar). Éste claramente no es el comportamiento deseado:"
   ]
  },
  {
   "cell_type": "code",
   "execution_count": 31,
   "id": "c236887c-e823-443f-a3ae-3f674787d76e",
   "metadata": {
    "autoscroll": false,
    "ein.tags": "worksheet-0",
    "slideshow": {
     "slide_type": "-"
    }
   },
   "outputs": [
    {
     "name": "stdout",
     "output_type": "stream",
     "text": [
      "[0 0 0 0 0 0 0 0 0 0 0 0]\n"
     ]
    }
   ],
   "source": [
    "a = np.zeros(12, dtype=int)\n",
    "fib1.fib(a)\n",
    "print(a)"
   ]
  },
  {
   "cell_type": "markdown",
   "id": "6e7664ed-7f0d-4d80-9621-6e516d7a33bc",
   "metadata": {
    "ein.tags": "worksheet-0",
    "slideshow": {
     "slide_type": "-"
    }
   },
   "source": [
    "Vamos a modificar el archivo de *signature* para enseñarle dos cosas:\n",
    "\n",
    "- El entero es un argumento de entrada (requerido)\n",
    "- El *array* `a` es un archivo de salida **exclusivamente**. Entonces no debemos dárselo. La parte `dimension(n)` y `depend(n)` indica que debe crear un vector de ese tamaño.\n"
   ]
  },
  {
   "cell_type": "code",
   "execution_count": 32,
   "id": "0d51e8d0-6251-4a8d-97e9-b91e1b649ede",
   "metadata": {
    "autoscroll": false,
    "ein.tags": "worksheet-0",
    "slideshow": {
     "slide_type": "-"
    }
   },
   "outputs": [],
   "source": [
    "!f2py3  -c fib2.pyf fib1.f 1&2> /dev/null"
   ]
  },
  {
   "cell_type": "code",
   "execution_count": 33,
   "id": "67dcdf45-1a09-416f-93cf-3744a8d18bb3",
   "metadata": {
    "autoscroll": false,
    "ein.tags": "worksheet-0",
    "slideshow": {
     "slide_type": "-"
    }
   },
   "outputs": [
    {
     "name": "stdout",
     "output_type": "stream",
     "text": [
      "a = fib(n)\n",
      "\n",
      "Wrapper for ``fib``.\n",
      "\n",
      "Parameters\n",
      "----------\n",
      "n : input int\n",
      "\n",
      "Returns\n",
      "-------\n",
      "a : rank-1 array('d') with bounds (n)\n",
      "\n"
     ]
    }
   ],
   "source": [
    "import fib2\n",
    "print(fib2.fib.__doc__)"
   ]
  },
  {
   "cell_type": "code",
   "execution_count": 34,
   "id": "5d3722ca-0930-40c9-84f3-f42bf33193b1",
   "metadata": {
    "autoscroll": false,
    "ein.tags": "worksheet-0",
    "slideshow": {
     "slide_type": "-"
    }
   },
   "outputs": [
    {
     "data": {
      "text/plain": [
       "array([ 0.,  1.,  1.,  2.,  3.,  5.,  8., 13., 21.])"
      ]
     },
     "execution_count": 34,
     "metadata": {},
     "output_type": "execute_result"
    }
   ],
   "source": [
    "fib2.fib(9)"
   ]
  },
  {
   "cell_type": "code",
   "execution_count": 35,
   "id": "8811714f-3643-43e4-810c-195166989c73",
   "metadata": {
    "autoscroll": false,
    "ein.tags": "worksheet-0",
    "slideshow": {
     "slide_type": "-"
    }
   },
   "outputs": [
    {
     "name": "stdout",
     "output_type": "stream",
     "text": [
      "[  0.   1.   1.   2.   3.   5.   8.  13.  21.  34.  55.  89. 144. 233.]\n"
     ]
    }
   ],
   "source": [
    "print(fib2.fib(14))"
   ]
  },
  {
   "cell_type": "markdown",
   "id": "d9a89d47-d605-455b-81c5-ad0e658e4e8c",
   "metadata": {
    "ein.tags": "worksheet-0",
    "slideshow": {
     "slide_type": "-"
    }
   },
   "source": [
    "La segunda manera de arreglar este problema, en lugar de modificar el archivo de *signature* podría haber sido modificar el código (o hacer una rutina intermedia). Agregando comentarios de la forma `Cf2py` no influimos en la compilación `Fortran` pero F2PY los reconoce. En este caso le damos la información sobre la intención de los argumentos en el código:\n",
    "\n",
    "```fortran\n",
    "      SUBROUTINE FIB(A,N)\n",
    "C\n",
    "C     CALCULATE FIRST N FIBONACCI NUMBERS\n",
    "C\n",
    "      INTEGER N\n",
    "      REAL*8 A(N)\n",
    "Cf2py intent(in) n\n",
    "Cf2py intent(out) a\n",
    "Cf2py depend(n) a\n",
    "      DO I=1,N\n",
    "         IF (I.EQ.1) THEN\n",
    "            A(I) = 0.0D0\n",
    "         ELSEIF (I.EQ.2) THEN\n",
    "            A(I) = 1.0D0\n",
    "         ELSE \n",
    "            A(I) = A(I-1) + A(I-2)\n",
    "         ENDIF\n",
    "      ENDDO\n",
    "      END\n",
    "```"
   ]
  },
  {
   "cell_type": "code",
   "execution_count": 36,
   "id": "d6ee43d8-00c3-44f3-ab84-28bc7eeea4a2",
   "metadata": {
    "autoscroll": false,
    "ein.tags": "worksheet-0",
    "slideshow": {
     "slide_type": "-"
    }
   },
   "outputs": [],
   "source": [
    "!f2py3  -c fib3.f -m fib3 1&2> /dev/null"
   ]
  },
  {
   "cell_type": "code",
   "execution_count": 37,
   "id": "e34f86a8-47aa-45f5-9587-bebc0bb702d6",
   "metadata": {
    "autoscroll": false,
    "ein.tags": "worksheet-0",
    "slideshow": {
     "slide_type": "-"
    }
   },
   "outputs": [
    {
     "name": "stdout",
     "output_type": "stream",
     "text": [
      "a = fib(n)\n",
      "\n",
      "Wrapper for ``fib``.\n",
      "\n",
      "Parameters\n",
      "----------\n",
      "n : input int\n",
      "\n",
      "Returns\n",
      "-------\n",
      "a : rank-1 array('d') with bounds (n)\n",
      "\n"
     ]
    }
   ],
   "source": [
    "import fib3\n",
    "print(fib3.fib.__doc__)"
   ]
  },
  {
   "cell_type": "code",
   "execution_count": 38,
   "id": "75c616f0-3b3c-4af7-8435-32fc12477ff8",
   "metadata": {},
   "outputs": [
    {
     "name": "stdout",
     "output_type": "stream",
     "text": [
      "a = fib(n)\n",
      "\n",
      "Wrapper for ``fib``.\n",
      "\n",
      "Parameters\n",
      "----------\n",
      "n : input int\n",
      "\n",
      "Returns\n",
      "-------\n",
      "a : rank-1 array('d') with bounds (n)\n",
      "\n"
     ]
    }
   ],
   "source": [
    "print(fib2.fib.__doc__)"
   ]
  },
  {
   "cell_type": "markdown",
   "id": "cbe909be-5987-4e99-8f9d-f428754a0b26",
   "metadata": {
    "ein.tags": "worksheet-0",
    "slideshow": {
     "slide_type": "-"
    }
   },
   "source": [
    "como vemos, son exactamente iguales."
   ]
  },
  {
   "cell_type": "markdown",
   "id": "22e3c384-f4c7-44b2-b82e-0e7acf93df19",
   "metadata": {
    "ein.tags": "worksheet-0",
    "slideshow": {
     "slide_type": "-"
    }
   },
   "source": [
    "### F2PY para código en C\n",
    "\n",
    "Es posible usar F2PY para código escrito en C, pero en ese caso debemos escribir el *signature file* a mano.\n",
    "\n",
    "Para código en C es conveniente utilizar **Cython**. Cython es un lenguaje de programación pensado para hacer más fácil escribir extensiones a Python en C. Uno escribe el código en Cython, y luego es traducido a C, con optimizaciones.\n",
    "\n",
    "**Cython** también puede utilizarse con Fortran de una manera similar a cómo se usa con C. Para más información ver la [documentación oficial](http://docs.cython.org/en/latest/index.html)\n"
   ]
  }
 ],
 "metadata": {
  "kernelspec": {
   "display_name": "Python 3 (ipykernel)",
   "language": "python",
   "name": "python3"
  },
  "language_info": {
   "codemirror_mode": {
    "name": "ipython",
    "version": 3
   },
   "file_extension": ".py",
   "mimetype": "text/x-python",
   "name": "python",
   "nbconvert_exporter": "python",
   "pygments_lexer": "ipython3",
   "version": "3.11.8"
  },
  "name": "15_1_interfacing_F.ipynb",
  "toc": {
   "base_numbering": 1,
   "nav_menu": {
    "height": "160.033px",
    "width": "251.5px"
   },
   "number_sections": true,
   "sideBar": true,
   "skip_h1_title": false,
   "title_cell": "Contenidos",
   "title_sidebar": "Contenidos",
   "toc_cell": false,
   "toc_position": null,
   "toc_section_display": true,
   "toc_window_display": true
  }
 },
 "nbformat": 4,
 "nbformat_minor": 5
}
