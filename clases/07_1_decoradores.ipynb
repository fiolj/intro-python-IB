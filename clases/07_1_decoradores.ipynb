{
 "cells": [
  {
   "cell_type": "markdown",
   "metadata": {},
   "source": [
    "# Funciones, decoradores y programación funcional"
   ]
  },
  {
   "cell_type": "markdown",
   "metadata": {},
   "source": [
    "Hemos visto que en Python todo es un objeto, con lo cual, incluso las funciones, son objetos. Como tales tienen métodos y atributos:"
   ]
  },
  {
   "cell_type": "code",
   "execution_count": 2,
   "metadata": {},
   "outputs": [
    {
     "name": "stdout",
     "output_type": "stream",
     "text": [
      "<class 'str'>\n"
     ]
    }
   ],
   "source": [
    "lio_messi = \"Lio Messi\"\n",
    "print(type(lio_messi))"
   ]
  },
  {
   "cell_type": "markdown",
   "metadata": {},
   "source": [
    "La variable `lio_messi` es un string, y como tal, pertenece a la clase `str`, que tiene sus propios atributos y métodos:"
   ]
  },
  {
   "cell_type": "markdown",
   "metadata": {},
   "source": [
    "Veamos qué pasa con las funciones:"
   ]
  },
  {
   "cell_type": "code",
   "execution_count": 3,
   "metadata": {},
   "outputs": [],
   "source": [
    "def saluda_a(alguien):\n",
    "    saludo = f\"Hola {alguien}!\"\n",
    "    return saludo"
   ]
  },
  {
   "cell_type": "code",
   "execution_count": 4,
   "metadata": {},
   "outputs": [
    {
     "name": "stdout",
     "output_type": "stream",
     "text": [
      "Hola Lio Messi!\n"
     ]
    }
   ],
   "source": [
    "print(saluda_a(lio_messi))"
   ]
  },
  {
   "cell_type": "code",
   "execution_count": 5,
   "metadata": {},
   "outputs": [
    {
     "name": "stdout",
     "output_type": "stream",
     "text": [
      "<class 'function'>\n"
     ]
    }
   ],
   "source": [
    "print(type(saluda_a))"
   ]
  },
  {
   "cell_type": "markdown",
   "metadata": {},
   "source": [
    "> Un atributo interesante de las funciones es `__name__` por razones que veremos en breve:"
   ]
  },
  {
   "cell_type": "code",
   "execution_count": 6,
   "metadata": {},
   "outputs": [
    {
     "name": "stdout",
     "output_type": "stream",
     "text": [
      "saluda_a\n"
     ]
    }
   ],
   "source": [
    "print(saluda_a.__name__)"
   ]
  },
  {
   "cell_type": "markdown",
   "metadata": {},
   "source": [
    "Es decir, `__name__` es el nombre de la función, que está guardado dentro del objeto que representa dicha función.\n",
    "> La capacidad del lenguaje de responderse preguntas sobre las propias entidades que componen el lenguaje se llama _introspección_. "
   ]
  },
  {
   "cell_type": "markdown",
   "metadata": {},
   "source": [
    "Clases atrás vimos dos características importantes de las funciones en Python. La primera de ellas es que las funciones pueden retornar (esto es, crear) otras funciones:"
   ]
  },
  {
   "cell_type": "code",
   "execution_count": 7,
   "metadata": {},
   "outputs": [],
   "source": [
    "def genera_recta(a,b):\n",
    "    \"Genera la función recta y = a x + b\"\n",
    "    def recta(x):\n",
    "        \"Evalúa la función recta en x\"\n",
    "        y = a * x + b\n",
    "        return y\n",
    "    return recta"
   ]
  },
  {
   "cell_type": "code",
   "execution_count": 8,
   "metadata": {},
   "outputs": [
    {
     "name": "stdout",
     "output_type": "stream",
     "text": [
      "f(2) = 7\n",
      "f(0) = 3\n"
     ]
    }
   ],
   "source": [
    "f = genera_recta(2,3)       # f(x) = 2 * x + 3\n",
    "x = 2\n",
    "print(f\"f({x}) = {f(x)}\")   # f(2) = 2 * 2 + 3 \n",
    "x = 0\n",
    "print(f\"f({x}) = {f(x)}\")   # f(0) = 2 * 0 + 3 "
   ]
  },
  {
   "cell_type": "code",
   "execution_count": 9,
   "metadata": {},
   "outputs": [
    {
     "name": "stdout",
     "output_type": "stream",
     "text": [
      "<class 'function'>\n"
     ]
    }
   ],
   "source": [
    "print(type(f))"
   ]
  },
  {
   "cell_type": "markdown",
   "metadata": {},
   "source": [
    "La segunda de ellas es que es posible pasar como argumento una función a otra:"
   ]
  },
  {
   "cell_type": "code",
   "execution_count": 10,
   "metadata": {},
   "outputs": [
    {
     "name": "stdout",
     "output_type": "stream",
     "text": [
      "y = 7\n"
     ]
    }
   ],
   "source": [
    "g = genera_recta(1,-1) # g(x) = x - 1\n",
    "x = 3\n",
    "y = f(g(x))\n",
    "print(f\"y = {y}\") "
   ]
  },
  {
   "cell_type": "code",
   "execution_count": 11,
   "metadata": {},
   "outputs": [
    {
     "name": "stdout",
     "output_type": "stream",
     "text": [
      "<class 'function'>\n"
     ]
    }
   ],
   "source": [
    "print(type(g))"
   ]
  },
  {
   "cell_type": "markdown",
   "metadata": {},
   "source": [
    "## Funciones que aceptan y devuelven funciones (Decoradores)\n",
    "\n",
    "\n",
    "Vamos a trabajar ahora con los decoradores. Los decoradores no son otra cosa que funciones, pero que, por sus características, adquieren ese nombre y una forma particular de llamarlos que reduce convenientemente la sintaxis al programar. Empecemos por definir una función que devuelve otra función, como vimos arriba, de la siguiente forma:"
   ]
  },
  {
   "cell_type": "code",
   "execution_count": 12,
   "metadata": {},
   "outputs": [],
   "source": [
    "def mi_decorador(func):\n",
    "    def wrapper():\n",
    "        print(f\"Por llamar a la función {func.__name__}\")\n",
    "        func()\n",
    "        print(f\"Listo, ya llamé a la función {func.__name__}\")\n",
    "    return wrapper\n"
   ]
  },
  {
   "cell_type": "markdown",
   "metadata": {},
   "source": [
    "Definamos ahora un saludo genérico:"
   ]
  },
  {
   "cell_type": "code",
   "execution_count": 13,
   "metadata": {},
   "outputs": [],
   "source": [
    "def saluda():\n",
    "    print(\"Holaa!!\")"
   ]
  },
  {
   "cell_type": "code",
   "execution_count": 14,
   "metadata": {},
   "outputs": [
    {
     "name": "stdout",
     "output_type": "stream",
     "text": [
      "Holaa!!\n"
     ]
    }
   ],
   "source": [
    "saluda()"
   ]
  },
  {
   "cell_type": "markdown",
   "metadata": {},
   "source": [
    "Nada nuevo hasta ahora, pero empecemos a combinar las funciones:"
   ]
  },
  {
   "cell_type": "code",
   "execution_count": 15,
   "metadata": {},
   "outputs": [
    {
     "name": "stdout",
     "output_type": "stream",
     "text": [
      "Por llamar a la función saluda\n",
      "Holaa!!\n",
      "Listo, ya llamé a la función saluda\n"
     ]
    }
   ],
   "source": [
    "saluda_w = mi_decorador(saluda)\n",
    "saluda_w()"
   ]
  },
  {
   "cell_type": "code",
   "execution_count": 16,
   "metadata": {},
   "outputs": [
    {
     "name": "stdout",
     "output_type": "stream",
     "text": [
      "<class 'function'>\n"
     ]
    }
   ],
   "source": [
    "print(type(saluda_w))"
   ]
  },
  {
   "cell_type": "markdown",
   "metadata": {},
   "source": [
    "Tenemos ahora una función `saluda` y su versión _decorada_ `saluda_w`, que simplemente llama a la función `saluda`, pero además imprime mensajes antes y después del llamado a la función. Esto es algo que uno va a querer hacer, por ejemplo para calcular el tiempo de ejecución de una función, o para imprimir mensajes de registro (_logging_) o debug, u otras tantas cosas más. Por eso Python introduce una notación especial para este tipo de funciones `mi_decorador`:"
   ]
  },
  {
   "cell_type": "code",
   "execution_count": 17,
   "metadata": {},
   "outputs": [],
   "source": [
    "@mi_decorador\n",
    "def saluda_en_ingles():\n",
    "    print(\"Hello!!\")"
   ]
  },
  {
   "cell_type": "markdown",
   "metadata": {},
   "source": [
    "> Notar que el decorador siempre empieza con el símbolo `@` y se encuentra en la línea inmediatamente anterior a la definición de la función."
   ]
  },
  {
   "cell_type": "code",
   "execution_count": 18,
   "metadata": {},
   "outputs": [
    {
     "name": "stdout",
     "output_type": "stream",
     "text": [
      "Por llamar a la función saluda_en_ingles\n",
      "Hello!!\n",
      "Listo, ya llamé a la función saluda_en_ingles\n"
     ]
    }
   ],
   "source": [
    "saluda_en_ingles()"
   ]
  },
  {
   "cell_type": "markdown",
   "metadata": {},
   "source": [
    "Qué pasa si queremos aplicar el decorador a una función que recibe argumentos como `saluda_a`?"
   ]
  },
  {
   "cell_type": "code",
   "execution_count": 19,
   "metadata": {},
   "outputs": [],
   "source": [
    "@mi_decorador\n",
    "def saluda_a(alguien):\n",
    "    print(f\"Hola {alguien}!\")"
   ]
  },
  {
   "cell_type": "code",
   "execution_count": 20,
   "metadata": {},
   "outputs": [
    {
     "ename": "TypeError",
     "evalue": "mi_decorador.<locals>.wrapper() takes 0 positional arguments but 1 was given",
     "output_type": "error",
     "traceback": [
      "\u001b[0;31m---------------------------------------------------------------------------\u001b[0m",
      "\u001b[0;31mTypeError\u001b[0m                                 Traceback (most recent call last)",
      "Cell \u001b[0;32mIn[20], line 1\u001b[0m\n\u001b[0;32m----> 1\u001b[0m \u001b[43msaluda_a\u001b[49m\u001b[43m(\u001b[49m\u001b[38;5;124;43m\"\u001b[39;49m\u001b[38;5;124;43mLio Messi\u001b[39;49m\u001b[38;5;124;43m\"\u001b[39;49m\u001b[43m)\u001b[49m\n",
      "\u001b[0;31mTypeError\u001b[0m: mi_decorador.<locals>.wrapper() takes 0 positional arguments but 1 was given"
     ]
    }
   ],
   "source": [
    "saluda_a(\"Lio Messi\")"
   ]
  },
  {
   "cell_type": "markdown",
   "metadata": {},
   "source": [
    "Notemos que como está definido el decorador, recibe una función sin argumentos:\n",
    "```Python\n",
    "def mi_decorador(func):\n",
    "    def wrapper():\n",
    "        print(f\"Por llamar a la función {func.__name__}\")\n",
    "        func()\n",
    "        print(f\"Listo, ya llamé a la función {func.__name__}\")\n",
    "    return wrapper\n",
    "```\n"
   ]
  },
  {
   "cell_type": "markdown",
   "metadata": {},
   "source": [
    "En este último caso, al aplicar `@mi_decorador` a `saluda_a(alguien)`, estamos pasando a la función `mi_decorador` una función `func` que dentro de `mi_decorador` se llama como `func()`, es decir, no tiene argumentos. Para resolver este problema, tenemos que indicar explícitamente que la función que vamos a llamar dentro del decorador puede tener argumentos: "
   ]
  },
  {
   "cell_type": "code",
   "execution_count": 21,
   "metadata": {},
   "outputs": [],
   "source": [
    "def mi_nuevo_decorador(func):\n",
    "    def wrapper(*args, **kwargs):\n",
    "        print(f\"Por llamar a la función {func.__name__}\")\n",
    "        func(*args, **kwargs)\n",
    "        print(f\"Listo, ya llamé a la función {func.__name__}\")\n",
    "    return wrapper"
   ]
  },
  {
   "cell_type": "code",
   "execution_count": 22,
   "metadata": {},
   "outputs": [],
   "source": [
    "@mi_nuevo_decorador\n",
    "def saluda_a(alguien):\n",
    "    print(f\"Hola {alguien}!\")"
   ]
  },
  {
   "cell_type": "code",
   "execution_count": 23,
   "metadata": {},
   "outputs": [
    {
     "name": "stdout",
     "output_type": "stream",
     "text": [
      "Por llamar a la función saluda_a\n",
      "Hola Lio Messi!\n",
      "Listo, ya llamé a la función saluda_a\n"
     ]
    }
   ],
   "source": [
    "saluda_a(\"Lio Messi\")"
   ]
  },
  {
   "cell_type": "markdown",
   "metadata": {},
   "source": [
    "Hasta ahora la función `func` que envuelve el decorador no devuelve ningún valor, sólo imprime un mensaje en pantalla. Cómo hacemos para usar un decorador con una función que devuelve un valor?"
   ]
  },
  {
   "cell_type": "code",
   "execution_count": 24,
   "metadata": {},
   "outputs": [],
   "source": [
    "def proto_debug_decorator(func):\n",
    "    def wrapper(*args, **kwargs):\n",
    "        print(f\"Por llamar a la función {func.__name__}\")\n",
    "        resultado = func(*args, **kwargs)\n",
    "        print(f\"Listo, ya llamé a la función {func.__name__}\")\n",
    "        return resultado\n",
    "    return wrapper"
   ]
  },
  {
   "cell_type": "code",
   "execution_count": 25,
   "metadata": {},
   "outputs": [],
   "source": [
    "@proto_debug_decorator\n",
    "def mi_calculo_complicado(x,y,z=0):\n",
    "    return x**2 + y**2 + z**2\n",
    "    "
   ]
  },
  {
   "cell_type": "code",
   "execution_count": 26,
   "metadata": {},
   "outputs": [
    {
     "name": "stdout",
     "output_type": "stream",
     "text": [
      "Por llamar a la función mi_calculo_complicado\n",
      "Listo, ya llamé a la función mi_calculo_complicado\n",
      "14\n"
     ]
    }
   ],
   "source": [
    "v = mi_calculo_complicado(1,2,3)\n",
    "print(v)"
   ]
  },
  {
   "cell_type": "markdown",
   "metadata": {},
   "source": [
    "## Decoradores, un ejemplo más útil\n",
    "\n",
    "Recordemos que al llamar una función, `*args` representa a la tupla de argumentos mientras que `**kwargs` es el diccionario de argumentos opcionales. Escribamos un par de funciones útiles para transformar estos tipos en string, de modo que se puedan imprimir, por ejemplo:"
   ]
  },
  {
   "cell_type": "code",
   "execution_count": 27,
   "metadata": {},
   "outputs": [],
   "source": [
    "def args_as_str(*args, **kwargs):\n",
    "    args_str = \", \".join([str(a) for a in args])\n",
    "    kwargs_str = \", \".join([f\"{k}={v}\" for k,v in kwargs.items()])\n",
    "    return f\"{args_str}, {kwargs_str}\""
   ]
  },
  {
   "cell_type": "code",
   "execution_count": 28,
   "metadata": {},
   "outputs": [],
   "source": [
    "def debug_me(func):\n",
    "    def wrapper(*args, **kwargs):\n",
    "        print(f\"{func.__name__} ({args_as_str(*args, **kwargs)})\")\n",
    "        resultado = func(*args, **kwargs)\n",
    "        print(f\"Listo, ya llamé a la función {func.__name__}\")\n",
    "        return resultado\n",
    "    return wrapper"
   ]
  },
  {
   "cell_type": "code",
   "execution_count": 29,
   "metadata": {},
   "outputs": [],
   "source": [
    "@debug_me\n",
    "def mi_calculo_recontracomplicado(x,y,z=0):\n",
    "    return x**2 + y**2 + z**2"
   ]
  },
  {
   "cell_type": "code",
   "execution_count": 30,
   "metadata": {},
   "outputs": [
    {
     "name": "stdout",
     "output_type": "stream",
     "text": [
      "mi_calculo_recontracomplicado (1, 2, z=3)\n",
      "Listo, ya llamé a la función mi_calculo_recontracomplicado\n",
      "14\n"
     ]
    }
   ],
   "source": [
    "v =  mi_calculo_recontracomplicado(1,2,z=3)\n",
    "print(v)\n"
   ]
  },
  {
   "cell_type": "markdown",
   "metadata": {},
   "source": [
    "----\n",
    "\n",
    "## Ejercicios 07 (a)\n",
    "\n",
    "El módulo time calcula el tiempo en segundos desde el comienzo de la era de la computación (?), que para los fines prácticos, \n",
    "da inicio el 1 de enero de 1970 ;-D. Veamos unos ejemplos de su uso:"
   ]
  },
  {
   "cell_type": "code",
   "execution_count": 31,
   "metadata": {},
   "outputs": [
    {
     "name": "stdout",
     "output_type": "stream",
     "text": [
      "1709038864.1231098\n",
      "1709038869.1235564\n"
     ]
    }
   ],
   "source": [
    "import time \n",
    "\n",
    "ahora = time.time()\n",
    "print (ahora)\n",
    "# duerme 5 segundos\n",
    "time.sleep(5) # zzzz.....\n",
    "\n",
    "ahora = time.time()\n",
    "print (ahora)\n",
    "\n"
   ]
  },
  {
   "cell_type": "markdown",
   "metadata": {},
   "source": [
    "Utilizando las funciones anteriores, escriba el decorador `@time_me` que calcula e imprime el tiempo que tarda en \n",
    "ejecutarse una función. **No empiece desde cero!!** Use como plantilla para empezar el decorador `@debug_me` y modifíquelo adecuadamente.   "
   ]
  },
  {
   "cell_type": "code",
   "execution_count": 36,
   "metadata": {},
   "outputs": [],
   "source": [
    "# descomente el decorador una vez que lo tenga programado\n",
    "# @time_me\n",
    "def mi_calculo_recontralargo(n):\n",
    "    l= [x for x in range(n)]\n",
    "    return sum(l)"
   ]
  },
  {
   "cell_type": "code",
   "execution_count": 37,
   "metadata": {},
   "outputs": [
    {
     "data": {
      "text/plain": [
       "199999990000000"
      ]
     },
     "execution_count": 37,
     "metadata": {},
     "output_type": "execute_result"
    }
   ],
   "source": [
    "mi_calculo_recontralargo(20000000)"
   ]
  },
  {
   "cell_type": "markdown",
   "metadata": {},
   "source": [
    "\n",
    "----\n"
   ]
  }
 ],
 "metadata": {
  "kernelspec": {
   "display_name": "Python 3 (ipykernel)",
   "language": "python",
   "name": "python3"
  },
  "language_info": {
   "codemirror_mode": {
    "name": "ipython",
    "version": 3
   },
   "file_extension": ".py",
   "mimetype": "text/x-python",
   "name": "python",
   "nbconvert_exporter": "python",
   "pygments_lexer": "ipython3",
   "version": "3.11.8"
  }
 },
 "nbformat": 4,
 "nbformat_minor": 4
}
