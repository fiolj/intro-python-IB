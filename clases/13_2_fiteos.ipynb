{
 "cells": [
  {
   "cell_type": "markdown",
   "id": "bbaacbbe",
   "metadata": {
    "ein.tags": "worksheet-0",
    "slideshow": {
     "slide_type": "-"
    }
   },
   "source": [
    "# Interpolación y ajuste de curvas (fiteo)  <a class=\"tocSkip\">"
   ]
  },
  {
   "cell_type": "code",
   "execution_count": null,
   "id": "1599b8f5",
   "metadata": {
    "autoscroll": false,
    "ein.hycell": false,
    "ein.tags": "worksheet-0",
    "slideshow": {
     "slide_type": "-"
    }
   },
   "outputs": [],
   "source": [
    "import numpy as np\n",
    "import matplotlib.pyplot as plt\n",
    "plt.style.use('presentation')\n",
    "fsize= (9,6)"
   ]
  },
  {
   "cell_type": "markdown",
   "id": "05153ed5",
   "metadata": {
    "ein.tags": "worksheet-0",
    "slideshow": {
     "slide_type": "-"
    }
   },
   "source": [
    "## Interpolación"
   ]
  },
  {
   "cell_type": "markdown",
   "id": "54b2419e",
   "metadata": {
    "ein.tags": "worksheet-0",
    "slideshow": {
     "slide_type": "-"
    }
   },
   "source": [
    "Muchas veces tenemos mediciones de datos variando algún parámetro en las condiciones, y estos datos están medidos a intervalos mayores de los que deseamos. En estos casos es común tratar de inferir los valores que tendrían las mediciones para valores intermedios de nuestro parámetro. Una opción es interpolar los datos. Algunas facilidades para ello están en el subpaquete **interpolate** del paquete **Scipy**.\n",
    "\n",
    "Generemos algunos \"datos experimentales\""
   ]
  },
  {
   "cell_type": "code",
   "execution_count": null,
   "id": "0e9124b4",
   "metadata": {
    "autoscroll": false,
    "ein.hycell": false,
    "ein.tags": "worksheet-0",
    "slideshow": {
     "slide_type": "-"
    }
   },
   "outputs": [],
   "source": [
    "def fmodel(x):\n",
    "  return (np.sin(x))**2*np.exp(-(x/3.5)**2)"
   ]
  },
  {
   "cell_type": "code",
   "execution_count": null,
   "id": "675918f5",
   "metadata": {
    "autoscroll": false,
    "ein.hycell": false,
    "ein.tags": "worksheet-0",
    "slideshow": {
     "slide_type": "-"
    }
   },
   "outputs": [],
   "source": [
    "x0 = np.linspace(0., 2*np.pi, 60)\n",
    "y0 = fmodel(x0)\n",
    "x = np.linspace(0., 2*np.pi, 8)\n",
    "y = fmodel(x)"
   ]
  },
  {
   "cell_type": "code",
   "execution_count": null,
   "id": "21773a68",
   "metadata": {
    "autoscroll": false,
    "ein.hycell": false,
    "ein.tags": "worksheet-0",
    "slideshow": {
     "slide_type": "-"
    }
   },
   "outputs": [],
   "source": [
    "plt.plot(x0,y0,'--k', label='función', alpha=0.5)\n",
    "plt.plot(x,y,'o', markersize=12, label='puntos')\n",
    "plt.legend(loc='best')"
   ]
  },
  {
   "cell_type": "markdown",
   "id": "cb8fcf49",
   "metadata": {
    "ein.tags": "worksheet-0",
    "slideshow": {
     "slide_type": "-"
    }
   },
   "source": [
    "Acá hemos simulado datos con una función oscilante con un decaimiento exponencial.\n",
    "\n",
    "Ahora, importamos el submódulo `interpolate` del módulo `scipy`, que nos permite interpolar los datos:"
   ]
  },
  {
   "cell_type": "code",
   "execution_count": null,
   "id": "24d8c6ad",
   "metadata": {
    "autoscroll": false,
    "ein.hycell": false,
    "ein.tags": "worksheet-0",
    "slideshow": {
     "slide_type": "-"
    }
   },
   "outputs": [],
   "source": [
    "from scipy import interpolate"
   ]
  },
  {
   "cell_type": "markdown",
   "id": "f8be1adb",
   "metadata": {
    "ein.tags": "worksheet-0",
    "slideshow": {
     "slide_type": "-"
    }
   },
   "source": [
    "La interpolación funciona en dos pasos. En el primer paso realizamos todos los cálculos y obtenemos la función interpolante, y en una segunda etapa utilizamos esa función para interpolar los valores en los nuevos puntos sobre el eje x que necesitamos.\n",
    "\n",
    "Utilizamos los *arrays* `x` e `y` como los pocos \"datos experimentales\" obtenidos"
   ]
  },
  {
   "cell_type": "code",
   "execution_count": null,
   "id": "b38deebd",
   "metadata": {
    "autoscroll": false,
    "ein.hycell": false,
    "ein.tags": "worksheet-0",
    "slideshow": {
     "slide_type": "-"
    }
   },
   "outputs": [],
   "source": [
    "print(f\"{x = }\")"
   ]
  },
  {
   "cell_type": "markdown",
   "id": "c58fc655",
   "metadata": {
    "ein.tags": "worksheet-0",
    "slideshow": {
     "slide_type": "-"
    }
   },
   "source": [
    "y creamos la función interpolante basada en estos puntos:"
   ]
  },
  {
   "cell_type": "code",
   "execution_count": null,
   "id": "87ee2faa",
   "metadata": {
    "autoscroll": false,
    "ein.hycell": false,
    "ein.tags": "worksheet-0",
    "slideshow": {
     "slide_type": "-"
    }
   },
   "outputs": [],
   "source": [
    "interpol_lineal = interpolate.interp1d(x, y)"
   ]
  },
  {
   "cell_type": "code",
   "execution_count": null,
   "id": "95a3fea9",
   "metadata": {
    "autoscroll": false,
    "ein.hycell": false,
    "ein.tags": "worksheet-0",
    "slideshow": {
     "slide_type": "-"
    }
   },
   "outputs": [],
   "source": [
    "interpol_lineal # función"
   ]
  },
  {
   "cell_type": "markdown",
   "id": "22027429",
   "metadata": {
    "ein.tags": "worksheet-0",
    "slideshow": {
     "slide_type": "-"
    }
   },
   "source": [
    "Ahora, creamos un conjunto de puntos `x1` donde queremos evaluar la función interpolando entre datos medidos"
   ]
  },
  {
   "cell_type": "code",
   "execution_count": null,
   "id": "29831946",
   "metadata": {
    "autoscroll": false,
    "ein.hycell": false,
    "ein.tags": "worksheet-0",
    "slideshow": {
     "slide_type": "-"
    }
   },
   "outputs": [],
   "source": [
    "x1 = np.linspace(0, 2*np.pi, 33)\n",
    "y1_l = interpol_lineal(x1)"
   ]
  },
  {
   "cell_type": "code",
   "execution_count": null,
   "id": "31c07411",
   "metadata": {
    "autoscroll": false,
    "ein.hycell": false,
    "ein.tags": "worksheet-0",
    "slideshow": {
     "slide_type": "-"
    }
   },
   "outputs": [],
   "source": [
    "plt.plot(x0,y0, '-k', label='función', alpha=0.5)\n",
    "plt.plot(x, y,'o',  markersize=12, label='datos')\n",
    "plt.plot(x1, y1_l,'--s', markersize=7, label='interp-1d')\n",
    "plt.legend(loc='best')"
   ]
  },
  {
   "cell_type": "markdown",
   "id": "cee99323",
   "metadata": {
    "ein.tags": "worksheet-0",
    "slideshow": {
     "slide_type": "-"
    }
   },
   "source": [
    "Como vemos, la función que creamos consiste de tramos rectos entre los puntos \"datos\". \n",
    "Para realizar interpolaciones lineales (una recta entre pares de puntos) también se puede utilizar la rutina `interp()` del módulo **Numpy**, cuyos argumentos requeridos son: los nuevos puntos `x1` donde queremos interpolar, además de los valores originales de `x` y de `y` de la tabla a interpolar:"
   ]
  },
  {
   "cell_type": "code",
   "execution_count": null,
   "id": "94cff9c5",
   "metadata": {
    "autoscroll": false,
    "ein.hycell": false,
    "ein.tags": "worksheet-0",
    "slideshow": {
     "slide_type": "-"
    }
   },
   "outputs": [],
   "source": [
    "y1_l2= np.interp(x1,x,y)"
   ]
  },
  {
   "cell_type": "markdown",
   "id": "55536b6e",
   "metadata": {
    "ein.tags": "worksheet-0",
    "slideshow": {
     "slide_type": "-"
    }
   },
   "source": [
    "Notar que `y1_l2` da exactamente los mismos valores que `y1_l`"
   ]
  },
  {
   "cell_type": "code",
   "execution_count": null,
   "id": "f10758af",
   "metadata": {
    "autoscroll": false,
    "ein.hycell": false,
    "ein.tags": "worksheet-0",
    "slideshow": {
     "slide_type": "-"
    }
   },
   "outputs": [],
   "source": [
    "np.all(y1_l2 == y1_l)"
   ]
  },
  {
   "cell_type": "markdown",
   "id": "7dd1189f",
   "metadata": {
    "ein.tags": "worksheet-0",
    "slideshow": {
     "slide_type": "-"
    }
   },
   "source": [
    "Si bien el uso de `np.interp` es más directo, porque no se crea la función intermedia, cuando creamos la función con `interp1d` podemos aplicarla a diferentes conjuntos de valores de x:"
   ]
  },
  {
   "cell_type": "code",
   "execution_count": null,
   "id": "d19443a0",
   "metadata": {
    "autoscroll": false,
    "ein.hycell": false,
    "ein.tags": "worksheet-0",
    "slideshow": {
     "slide_type": "-"
    }
   },
   "outputs": [],
   "source": [
    "interpol_lineal(np.linspace(0, 2*np.pi, 12))"
   ]
  },
  {
   "cell_type": "markdown",
   "id": "d7b6546e",
   "metadata": {
    "ein.tags": "worksheet-0",
    "slideshow": {
     "slide_type": "-"
    }
   },
   "source": [
    "La interface `interp1d()` tiene un argumento opcional, `kind`, que define el tipo de interpolación a utilizar. Cuando utilizamos el argumento 'nearest' utiliza para cada valor el más cercano"
   ]
  },
  {
   "cell_type": "code",
   "execution_count": null,
   "id": "915feda7",
   "metadata": {
    "autoscroll": false,
    "ein.hycell": false,
    "ein.tags": "worksheet-0",
    "slideshow": {
     "slide_type": "-"
    }
   },
   "outputs": [],
   "source": [
    "interpol_near = interpolate.interp1d(x, y, kind='nearest')\n",
    "y1_n = interpol_near(x1)"
   ]
  },
  {
   "cell_type": "code",
   "execution_count": null,
   "id": "94fa993f",
   "metadata": {
    "autoscroll": false,
    "ein.hycell": false,
    "ein.tags": "worksheet-0",
    "slideshow": {
     "slide_type": "-"
    }
   },
   "outputs": [],
   "source": [
    "plt.plot(x0,y0, '-k', label='función', alpha=0.5)\n",
    "plt.plot(x, y,'o', markersize=12, label='datos')\n",
    "plt.plot(x1, y1_l,'--s', markersize=7, label='interp-1d')\n",
    "plt.plot(x1, y1_n,'.', label='nearest')\n",
    "plt.legend(loc='best');\n",
    "print(x1.size, x1.size, x.size)"
   ]
  },
  {
   "cell_type": "markdown",
   "id": "c850fc34",
   "metadata": {
    "ein.tags": "worksheet-0",
    "slideshow": {
     "slide_type": "-"
    }
   },
   "source": [
    "### Interpolación con polinomios\n",
    "\n",
    "**Scipy** tiene rutinas para interpolar los datos usando un único polinomio global con grado igual al número de puntos dados:"
   ]
  },
  {
   "cell_type": "code",
   "execution_count": null,
   "id": "4ac67560",
   "metadata": {
    "autoscroll": false,
    "ein.hycell": false,
    "ein.tags": "worksheet-0",
    "slideshow": {
     "slide_type": "-"
    }
   },
   "outputs": [],
   "source": [
    "def fm(x):\n",
    "  return x**4 - x**3*np.sin(x/6)\n",
    "\n",
    "x0 = np.linspace(0., 2*np.pi, 60)\n",
    "y0 = fm(x0)\n",
    "x = np.linspace(0., 2*np.pi, 5)\n",
    "y = fm(x)\n",
    "# \n",
    "# Creamos el polinomio interpolador\n",
    "f = interpolate.lagrange(x, y)\n",
    "y1 = f(x0)\n",
    "# \n",
    "plt.figure(figsize=fsize)\n",
    "plt.plot(x0,y1,'-', label=f'Lagrange ({x.size})')\n",
    "plt.plot(x,y,'o', label='datos')\n",
    "plt.plot(x0,y0,'--', color='C1', label='f(x)', alpha=0.7)\n",
    "plt.legend(loc='best')"
   ]
  },
  {
   "cell_type": "markdown",
   "id": "a282bdbe",
   "metadata": {},
   "source": [
    "Acá la función `lagrange()` devuelve un polinomio del tipo `poly1d`, que puede ser ejecutado (como hicimos en la celda anterior)"
   ]
  },
  {
   "cell_type": "code",
   "execution_count": null,
   "id": "3860dea7",
   "metadata": {},
   "outputs": [],
   "source": [
    "type(f)"
   ]
  },
  {
   "cell_type": "code",
   "execution_count": null,
   "id": "5d8f2c78",
   "metadata": {},
   "outputs": [],
   "source": [
    "f.coeffs"
   ]
  },
  {
   "cell_type": "markdown",
   "id": "eb605cc4",
   "metadata": {},
   "source": [
    "Los polinomios interpolantes pueden tener problemas, principalmente en las puntas, o cuando el grado del polinomio es muy alto. Consideremos por ejemplo el caso donde tenemos una tabla `x1  f(x1)` con muchos datos y queremos interpolar sobre una nueva tabla de valores `x0`. Incluso para un grado intermedio de polinomio se observan oscilaciones entre los puntos"
   ]
  },
  {
   "cell_type": "code",
   "execution_count": null,
   "id": "4a6b461d",
   "metadata": {
    "autoscroll": false,
    "ein.hycell": false,
    "ein.tags": "worksheet-0",
    "slideshow": {
     "slide_type": "-"
    }
   },
   "outputs": [],
   "source": [
    "x0 = np.linspace(0., 2*np.pi, 60)\n",
    "x1 = np.linspace(0, 2*np.pi, 7)\n",
    "y1 = fmodel(x1)\n",
    "f1 = interpolate.lagrange(x1, y1)\n",
    "plt.figure(figsize=fsize)\n",
    "plt.plot(x0,f1(x0),'-', label=f'Lagrange ({x1.size})')\n",
    "plt.plot(x1,y1,'o', label='datos')\n",
    "plt.plot(x0,fmodel(x0),'--', color='C1', label='f(x)', alpha=0.7)\n",
    "plt.legend(loc='best')\n"
   ]
  },
  {
   "cell_type": "code",
   "execution_count": null,
   "id": "8a383e75",
   "metadata": {
    "autoscroll": false,
    "ein.hycell": false,
    "ein.tags": "worksheet-0",
    "slideshow": {
     "slide_type": "-"
    }
   },
   "outputs": [],
   "source": [
    "x0 = np.linspace(0., 4*np.pi, 60)\n",
    "x1 = np.linspace(0, 4*np.pi, 21)\n",
    "y1 = fmodel(x1)\n",
    "f1 = interpolate.lagrange(x1, y1)\n",
    "plt.figure(figsize=fsize)\n",
    "plt.plot(x0,f1(x0),'-', label=f'Lagrange ({x1.size})')\n",
    "plt.plot(x1,y1,'o', label='datos')\n",
    "plt.plot(x0, interpolate.barycentric_interpolate(x1,y1,x0), label=\"Lagrange (estable)\")\n",
    "plt.plot(x0,fmodel(x0),'--', color='C1', label='f(x)', alpha=0.7)\n",
    "plt.legend(loc='best')\n"
   ]
  },
  {
   "cell_type": "markdown",
   "id": "912da2d3",
   "metadata": {
    "ein.tags": "worksheet-0",
    "slideshow": {
     "slide_type": "-"
    }
   },
   "source": [
    "De todas maneras, para los casos en que es aplicable, existen dos implementaciones: `interpolate.lagrange()` y una segunda llamada `interpolate.barycentric_interpolate()` que está basada en un trabajo de 2004 y es numéricamente más estable."
   ]
  },
  {
   "cell_type": "markdown",
   "id": "a9458b42",
   "metadata": {
    "ein.tags": "worksheet-0",
    "slideshow": {
     "slide_type": "-"
    }
   },
   "source": [
    "### Splines"
   ]
  },
  {
   "cell_type": "markdown",
   "id": "89da28af",
   "metadata": {
    "ein.tags": "worksheet-0",
    "slideshow": {
     "slide_type": "-"
    }
   },
   "source": [
    "-  Las *Splines* son interpolaciones por polinomios de a trazos, que se eligen para que no sólo los valores sino también sus derivadas coincidan dando una curva suave.\n",
    "-  Para eso, si se pide que la aproximación coincida con los valores tabulados en los puntos dados, la aproximación es efectivamente una **interpolación**.\n",
    "-  *Cubic Splines* se refiere a que utilizamos polinomios cúbicos en cada trozo."
   ]
  },
  {
   "cell_type": "markdown",
   "id": "c460d1df",
   "metadata": {
    "ein.tags": "worksheet-0",
    "slideshow": {
     "slide_type": "-"
    }
   },
   "source": [
    "El argumento opcional `kind` de la interface `interp1d()`, que define el tipo de interpolación a utilizar, acepta valores del tipo *string* que pueden ser: 'linear', 'nearest', 'zero', 'slinear', 'quadratic', 'cubic', o un número entero indicando el orden."
   ]
  },
  {
   "cell_type": "code",
   "execution_count": null,
   "id": "cc0aa3d1",
   "metadata": {
    "autoscroll": false,
    "ein.hycell": false,
    "ein.tags": "worksheet-0",
    "slideshow": {
     "slide_type": "-"
    }
   },
   "outputs": [],
   "source": [
    "x0 = np.linspace(0, 2*np.pi, 60)\n",
    "x1 = np.linspace(0, 2*np.pi, 30)\n",
    "interp = {}\n",
    "for k in ['zero', 'slinear', 'quadratic', 'cubic']:\n",
    "  interp[k] = interpolate.interp1d(x, y, kind=k)"
   ]
  },
  {
   "cell_type": "code",
   "execution_count": null,
   "id": "9284f350",
   "metadata": {
    "autoscroll": false,
    "ein.hycell": false,
    "ein.tags": "worksheet-0",
    "slideshow": {
     "slide_type": "-"
    }
   },
   "outputs": [],
   "source": [
    "fig = plt.figure(figsize=fsize)\n",
    "plt.plot(x0,y0,'-k', alpha=0.7, label='f(x)')\n",
    "plt.plot(x,y,'o', markersize=12, label='datos')\n",
    "plt.plot(x1,interp['cubic'](x1),  '--', color='C2', label=u'cúbica')\n",
    "plt.plot(x1,interp['slinear'](x1),'.-', lw=2, label='lineal')\n",
    "plt.legend(loc='best')"
   ]
  },
  {
   "cell_type": "markdown",
   "id": "1d4696ae",
   "metadata": {
    "ein.tags": "worksheet-0",
    "slideshow": {
     "slide_type": "-"
    }
   },
   "source": [
    "Tratamos de incluir todo en un sólo gráfico (y rogamos que se entienda algo) "
   ]
  },
  {
   "cell_type": "code",
   "execution_count": null,
   "id": "f51fd996",
   "metadata": {
    "autoscroll": false,
    "ein.hycell": false,
    "ein.tags": "worksheet-0",
    "slideshow": {
     "slide_type": "-"
    }
   },
   "outputs": [],
   "source": [
    "plt.figure(figsize=fsize)\n",
    "for k, v in interp.items():\n",
    "  plt.plot(x1, v(x1), label=k)\n",
    "plt.plot(x0,y0,'--k', alpha=0.7, label='f(x)')\n",
    "plt.plot(x,y,'ob', markersize=12, label='datos')\n",
    "plt.legend(loc='best')"
   ]
  },
  {
   "cell_type": "markdown",
   "id": "d1426482",
   "metadata": {
    "ein.tags": "worksheet-0",
    "slideshow": {
     "slide_type": "-"
    }
   },
   "source": [
    "En resumen, los métodos disponibles en `interpolate.interp1d` son:\n",
    "\n",
    "- `linear`: Interpolación lineal, utilizando rectas (default)\n",
    "- `nearest`         : Valor constante correspondiente al dato más cercano \n",
    "- `zero` o  `0`     : Una spline de orden cero. Toma el valor a la izquierda\n",
    "- `slinear` o  `1`  : Spline de orden 1. Igual a 'linear' \n",
    "- `quadratic` o `2` : Spline de segundo orden \n",
    "- `cubic` o  `3`    : Spline de tercer orden \n",
    "\n",
    "\n",
    "\n",
    "Como vemos de los argumentos `zero`, `slinear`, `quadratic`, `cubic` para especificar splines de cero, primer, segundo y tercer orden se puede pasar como argumento un número. En ese caso se utiliza siempre **splines** y el número indica el orden de las splines a utilizar:"
   ]
  },
  {
   "cell_type": "code",
   "execution_count": null,
   "id": "c26b2e83",
   "metadata": {
    "autoscroll": false,
    "ein.hycell": false,
    "ein.tags": "worksheet-0",
    "slideshow": {
     "slide_type": "-"
    }
   },
   "outputs": [],
   "source": [
    "for k,s in zip([0,1,2,3], ['zero','slinear','quadratic','cubic']):\n",
    "  num = interpolate.interp1d(x,y, kind=k)\n",
    "  tipo = interpolate.interp1d(x,y, kind=s)\n",
    "  print(f\"¿{k} == {s}? -> {np.allclose(num(x1), tipo(x1))}\")"
   ]
  },
  {
   "cell_type": "markdown",
   "id": "2c1bd33b",
   "metadata": {
    "ein.tags": "worksheet-0",
    "slideshow": {
     "slide_type": "-"
    }
   },
   "source": [
    "Además La interpolación lineal simple es, en la práctica, igual a la interpolación por splines de primer orden:"
   ]
  },
  {
   "cell_type": "code",
   "execution_count": null,
   "id": "26d9adee",
   "metadata": {
    "autoscroll": false,
    "ein.hycell": false,
    "ein.tags": "worksheet-0",
    "slideshow": {
     "slide_type": "-"
    }
   },
   "outputs": [],
   "source": [
    "interpol_lineal = interpolate.interp1d(x, y)\n",
    "np.allclose(interp['slinear'](x1), interpol_lineal(x1)) # También son iguales"
   ]
  },
  {
   "cell_type": "markdown",
   "id": "62279233",
   "metadata": {
    "ein.tags": "worksheet-0",
    "slideshow": {
     "slide_type": "-"
    }
   },
   "source": [
    "Finalmente, veamos que la interpolación `nearest` toma para cada nuevo valor `x1` el valor `y1(x1)` igual a `y(x0)` donde `x0` es el valor **más cercano** a `x1` mientras que la spline de orden cero (`zero`) toma el valor **más cercano a la izquierda del dato**:"
   ]
  },
  {
   "cell_type": "code",
   "execution_count": null,
   "id": "d35bd438",
   "metadata": {
    "autoscroll": false,
    "ein.hycell": false,
    "ein.tags": "worksheet-0",
    "slideshow": {
     "slide_type": "-"
    }
   },
   "outputs": [],
   "source": [
    "interpol_near = interpolate.interp1d(x, y, kind='nearest')\n",
    "alfa=1\n",
    "plt.figure(figsize=fsize)\n",
    "plt.plot(x1, interpol_near(x1),'-o', label='nearest', alpha=alfa)\n",
    "plt.plot(x1, interp['zero'](x1), '-.', label='Spline zero'.format(k), alpha=alfa)\n",
    "plt.plot(x,y,'xk', markersize=12, label='datos')\n",
    "\n",
    "plt.legend(loc='best');"
   ]
  },
  {
   "cell_type": "markdown",
   "id": "d8047ab6",
   "metadata": {
    "ein.tags": "worksheet-0",
    "slideshow": {
     "slide_type": "-"
    }
   },
   "source": [
    "El submódulo `signal` tiene rutinas adicionales para realizar *splines*, que permiten agregar un \"alisado\", pero en este caso ya no interpolan estrictamente sino que puede ser que la aproximación no pase por los puntos dados."
   ]
  },
  {
   "cell_type": "markdown",
   "id": "f549710a",
   "metadata": {
    "ein.tags": "worksheet-0",
    "slideshow": {
     "slide_type": "-"
    }
   },
   "source": [
    "### B-Splines"
   ]
  },
  {
   "cell_type": "markdown",
   "id": "29f780a4",
   "metadata": {
    "ein.tags": "worksheet-0",
    "slideshow": {
     "slide_type": "-"
    }
   },
   "source": [
    "Hay otra opción para realizar interpolación con Splines en Scipy. Las llamadas **B-Splines** son funciones diseñadas para generalizar polinomios, con un alto grado de **localidad**.\n",
    "\n",
    "Para definir las **B-Splines** necesitamos dos cosas: \n",
    "\n",
    "  1. Elegir el grado de los polinomios (mayor o igual a 0)\n",
    "  2. Dividir el intervalo en $n$ \"nodos\" \n",
    "\n",
    "Las funciones se definen mediante la recursión:"
   ]
  },
  {
   "cell_type": "markdown",
   "id": "9b9b54c1",
   "metadata": {
    "ein.tags": "worksheet-0",
    "slideshow": {
     "slide_type": "-"
    }
   },
   "source": [
    "$$\n",
    "N_{i, 0}(x) = 1,\\qquad \\qquad \\textrm{si $t_i \\le x < t_{i+1}, \\qquad \\qquad$ sino $0$,}\n",
    "$$\n",
    "$$\n",
    "N_{i, k}(x) = \\frac{x - t_i}{t_{i+k} - t_i} N_{i, k-1}(x)\n",
    "         + \\frac{t_{i+k+1} - x}{t_{i+k+1} - t_{i+1}} N_{i+1, k-1}(x)\n",
    "$$"
   ]
  },
  {
   "cell_type": "markdown",
   "id": "aa2a5031",
   "metadata": {
    "ein.tags": "worksheet-0",
    "slideshow": {
     "slide_type": "-"
    }
   },
   "source": [
    "Las más simples, cuando el orden es k=0, son funciones constantes a trozos\n",
    "\n",
    "![](figuras/bsplines0.png)\n",
    "\n",
    "Para $k>0$ las funciones se calculan por recurrencia en término de dos funciones del orden anterior. Entonces, siempre serán diferentes de cero sólo en un intervalo finito. \n",
    "En ese intervalo presentan un único máximo y luego decaen suavemente. Las más usuales son las de orden $k=3$:\n",
    "\n",
    "![](figuras/bsplines.png)\n",
    "\n",
    "(Figura de http://www.brnt.eu/phd)\n",
    "\n"
   ]
  },
  {
   "cell_type": "markdown",
   "id": "9645fe5b",
   "metadata": {
    "ein.tags": "worksheet-0",
    "slideshow": {
     "slide_type": "-"
    }
   },
   "source": [
    "La idea es encontrar una función $f(x)$ que sea suave y pase por la tabla de puntos $(x,y)$ dados, o cerca de ellos con la condición que tanto la función como algunas de sus derivadas sea suave.\n",
    "La función $f(x)$ se describe como una expansión en la base de Splines (y de ahí el nombre *B-Splines*) \n",
    "\n",
    "$$\n",
    "f(x) = \\sum_{j=0} a_{i,j} N_{j}(x) \\qquad \\forall \\quad x_{i} < x \\le x_{i+1}\n",
    "$$\n",
    "\n",
    "La aproximación se elige de tal manera de optimizar el número de elementos de la base a utilizar con la condición que el error cuadrático a los puntos sea menor a un cierto valor umbral $s$\n",
    "\n",
    "$$\n",
    "\\sum_{i=1}^{n} \\left| f(x_{i}) - y_{i}\\right|^2 \\le s\n",
    "$$\n",
    "\n",
    "Veamos cómo usar la implementación de **Scipy** para interpolar datos. En primer lugar creamos la representación en B-Splines de nuestra tabla de datos $(x,y)$:"
   ]
  },
  {
   "cell_type": "code",
   "execution_count": null,
   "id": "3d67bfca",
   "metadata": {
    "autoscroll": false,
    "ein.hycell": false,
    "ein.tags": "worksheet-0",
    "slideshow": {
     "slide_type": "-"
    }
   },
   "outputs": [],
   "source": [
    "tck0 = interpolate.splrep(x,y)"
   ]
  },
  {
   "cell_type": "markdown",
   "id": "6e8fa1ee",
   "metadata": {
    "ein.tags": "worksheet-0",
    "slideshow": {
     "slide_type": "-"
    }
   },
   "source": [
    "Acá, otra vez estamos operando en dos pasos. En el primero creamos la representación de las splines para los datos dados.\n",
    "Como no pusimos explícitamente el orden, utiliza el valor por default `k=3`.\n",
    "\n",
    "En el segundo paso obtenemos los valores interpolados sobre la grilla `x2`:"
   ]
  },
  {
   "cell_type": "code",
   "execution_count": null,
   "id": "f5c433e3",
   "metadata": {},
   "outputs": [],
   "source": [
    "tck0"
   ]
  },
  {
   "cell_type": "code",
   "execution_count": null,
   "id": "c5d178ee",
   "metadata": {
    "autoscroll": false,
    "ein.hycell": false,
    "ein.tags": "worksheet-0",
    "slideshow": {
     "slide_type": "-"
    }
   },
   "outputs": [],
   "source": [
    "x2 = np.linspace(0, 2*np.pi, 60) # Nuevos puntos donde interpolar\n",
    "y_s0 = interpolate.splev(x2, tck0) # Valores interpolados: y_s0[j] = f(x2[j])"
   ]
  },
  {
   "cell_type": "code",
   "execution_count": null,
   "id": "e540dfc2",
   "metadata": {
    "autoscroll": false,
    "ein.hycell": false,
    "ein.tags": "worksheet-0",
    "slideshow": {
     "slide_type": "-"
    }
   },
   "outputs": [],
   "source": [
    "plt.figure(figsize=fsize)\n",
    "plt.plot(x,y,'o', markersize=12, label='datos')\n",
    "plt.plot(x2,y_s0,'-', label=r'B-Spline')\n",
    "plt.plot(x0,y0,'--k', alpha=0.7, label='f(x)')\n",
    "plt.legend(loc='best');"
   ]
  },
  {
   "cell_type": "markdown",
   "id": "bc55ca08",
   "metadata": {
    "ein.tags": "worksheet-0",
    "slideshow": {
     "slide_type": "-"
    }
   },
   "source": [
    "Estas funciones interpolan los datos con curvas continuas y con derivadas segundas continuas."
   ]
  },
  {
   "cell_type": "markdown",
   "id": "828660bd",
   "metadata": {
    "ein.tags": "worksheet-0",
    "slideshow": {
     "slide_type": "-"
    }
   },
   "source": [
    "### Lines are guides to the eyes"
   ]
  },
  {
   "cell_type": "markdown",
   "id": "6617477f",
   "metadata": {
    "ein.tags": "worksheet-0",
    "slideshow": {
     "slide_type": "-"
    }
   },
   "source": [
    "Sin embargo, estas rutinas no necesariamente realizan *interpolación* en forma estricta, pasando por todos los puntos dados, sino que en realidad realiza una aproximación minimzando por cuadrados mínimos la distancia a la tabla de puntos dados.\n",
    "\n",
    "Esto es particularmente importante cuando tenemos datos que tienen dispersión. En esos casos necesitamos curvas que no interpolen, es decir que *no necesariamente* pasen por todos los puntos."
   ]
  },
  {
   "cell_type": "markdown",
   "id": "058dfd60",
   "metadata": {
    "ein.tags": "worksheet-0",
    "slideshow": {
     "slide_type": "-"
    }
   },
   "source": [
    "La rutina `splrep` tiene varios argumentos opcionales. Entre ellos un parámetro de suavizado `s` que corresponde a la condición de distancia entre la aproximación y los valores de la tabla mencionado anteriormente.  \n",
    "Para ver como funciona, creemos una tabla de valores `x, y` \n",
    "con $x \\in [0,2\\pi]$ **no necesariamente equiespaciados**, $y=\\sin(x)/2$, donde le agregamos algo de ruido a `y`"
   ]
  },
  {
   "cell_type": "code",
   "execution_count": null,
   "id": "b26f6dc7",
   "metadata": {
    "autoscroll": false,
    "ein.hycell": false,
    "ein.tags": "worksheet-0",
    "slideshow": {
     "slide_type": "-"
    }
   },
   "outputs": [],
   "source": [
    "# Creamos dos tablas de valores x, y\n",
    "x3 = np.linspace(0., 2*np.pi, 40)\n",
    "x4 = np.linspace(0., 2*np.pi, 40)\n",
    "x3[5:-5] -= 0.7*(0.5-np.random.random(30)) # Le agregamos una separación al azar\n",
    "x3.sort()                       # Los ordenamos \n",
    "plt.plot(x3-x4,'o',label='data')\n",
    "plt.plot(x3-x3, '-', alpha=0.7,label='sin incerteza')\n",
    "plt.ylim((-0.3,0.3));"
   ]
  },
  {
   "cell_type": "code",
   "execution_count": null,
   "id": "cbd33cb3",
   "metadata": {
    "autoscroll": false,
    "ein.hycell": false,
    "ein.tags": "worksheet-0",
    "slideshow": {
     "slide_type": "-"
    }
   },
   "outputs": [],
   "source": [
    "y4 = 0.5* np.sin(x4)\n",
    "y3 = 0.5* np.sin(x3) * (1+ 0.6*(0.5-np.random.random(x3.size)))"
   ]
  },
  {
   "cell_type": "code",
   "execution_count": null,
   "id": "b35e88b5",
   "metadata": {
    "autoscroll": false,
    "ein.hycell": false,
    "ein.tags": "worksheet-0",
    "slideshow": {
     "slide_type": "-"
    }
   },
   "outputs": [],
   "source": [
    "# Los puntos a interpolar tienen \"ruido\" en las dos direcciones x-y\n",
    "plt.plot(x3,y3,'o', x4,y4, '.', alpha=0.7 );"
   ]
  },
  {
   "cell_type": "code",
   "execution_count": null,
   "id": "7e8394ac",
   "metadata": {
    "autoscroll": false,
    "ein.hycell": false,
    "ein.tags": "worksheet-0",
    "slideshow": {
     "slide_type": "-"
    }
   },
   "outputs": [],
   "source": [
    "# Grilla donde evaluar la función interpolada\n",
    "x1 = np.linspace(0, 2*np.pi, 90)"
   ]
  },
  {
   "cell_type": "code",
   "execution_count": null,
   "id": "f4a27573",
   "metadata": {
    "autoscroll": false,
    "ein.hycell": false,
    "ein.tags": "worksheet-0",
    "slideshow": {
     "slide_type": "-"
    }
   },
   "outputs": [],
   "source": [
    "tck0 = interpolate.splrep(x3,y3, s=0)  # Interpolación con B-Splines\n",
    "y_s0 = interpolate.splev(x1,tck0)      # Evaluamos en la nueva grilla\n",
    "tck3 = interpolate.splrep(x3,y3,s=0.3) # Aproximación suavizada\n",
    "y_s3 = interpolate.splev(x1,tck3)      # Evaluamos en la nueva grilla"
   ]
  },
  {
   "cell_type": "code",
   "execution_count": null,
   "id": "41f42228",
   "metadata": {
    "autoscroll": false,
    "ein.hycell": false,
    "ein.tags": "worksheet-0",
    "slideshow": {
     "slide_type": "-"
    }
   },
   "outputs": [],
   "source": [
    "plt.figure(figsize=fsize)\n",
    "plt.plot(x1,y_s0,'--', lw=3, label=u'interpolación' )\n",
    "plt.plot(x1,y_s3, \"-\",  label=u'suavizado');\n",
    "plt.plot(x3,y3,'o', label='datos' )\n",
    "plt.legend(loc='best');\n"
   ]
  },
  {
   "cell_type": "markdown",
   "id": "5ae11231",
   "metadata": {
    "ein.tags": "worksheet-0",
    "slideshow": {
     "slide_type": "-"
    }
   },
   "source": [
    "El valor del parámetro `s` determina cuanto se suaviza la curva. El valor por default `s=0` obliga al algoritmo a obtener una solución que no difiere en los valores de la tabla, un valor de `s` mayor que cero da cierta libertad para obtener la aproximación que se acerque a todos los valores manteniendo una curva relativamente suave. El suavizado máximo corresponde a `s=1`. Veamos cómo cambia la aproximación con el factor `s`:"
   ]
  },
  {
   "cell_type": "code",
   "execution_count": null,
   "id": "d2b8e92e",
   "metadata": {
    "autoscroll": false,
    "ein.hycell": false,
    "ein.tags": "worksheet-0",
    "slideshow": {
     "slide_type": "-"
    }
   },
   "outputs": [],
   "source": [
    "tck1 = interpolate.splrep(x3,y3, s=0.1)  # Interpolación con suavizado\n",
    "y_s1 = interpolate.splev(x1,tck1)\n",
    "plt.figure(figsize=fsize)\n",
    "plt.plot(x1,y_s1, \"-\",  label='s=0.1');\n",
    "plt.plot(x1,y_s3, \"--\",  label='s=0.3');\n",
    "plt.plot(x3,y3,'o', markersize=8, label='datos' )\n",
    "plt.legend(loc='best');"
   ]
  },
  {
   "cell_type": "code",
   "execution_count": null,
   "id": "5d0644ef",
   "metadata": {},
   "outputs": [],
   "source": [
    "fig, (ax0, ax1) = plt.subplots(figsize=(2.1*fsize[0], fsize[1]), ncols=2)\n",
    "for s in [0, 0.01, 0.05, 0.1, 0.2]:\n",
    "  tck1 = interpolate.splrep(x3,y3, s=s)  # Interpolación con suavizado\n",
    "  ys = interpolate.splev(x1,tck1)\n",
    "  ax0.plot(x1,ys, \"-\",  label=f'{s =}');\n",
    "  ax1.plot(x1,ys, \"-\",  label=f'{s =}');\n",
    "ax0.plot(x3,y3,'ok', label='datos' )\n",
    "ax1.plot(x3,y3,'ok', label='datos' )\n",
    "plt.xlim(3,6)\n",
    "ax1.set_ylim(-0.9, -0.2)\n",
    "ax1.legend(loc='best');"
   ]
  },
  {
   "cell_type": "markdown",
   "id": "524cdf4e",
   "metadata": {
    "ein.tags": "worksheet-0",
    "slideshow": {
     "slide_type": "-"
    }
   },
   "source": [
    "### Cantidades derivadas de *splines*"
   ]
  },
  {
   "cell_type": "markdown",
   "id": "63ba272c",
   "metadata": {
    "ein.tags": "worksheet-0",
    "slideshow": {
     "slide_type": "-"
    }
   },
   "source": [
    "De la interpolación (suavizada) podemos calcular, por ejemplo,  la derivada."
   ]
  },
  {
   "cell_type": "code",
   "execution_count": null,
   "id": "123be6c4",
   "metadata": {
    "autoscroll": false,
    "ein.hycell": false,
    "ein.tags": "worksheet-0",
    "slideshow": {
     "slide_type": "-"
    }
   },
   "outputs": [],
   "source": [
    "yderiv = interpolate.splev(x1,tck3,der=1) #  Derivada"
   ]
  },
  {
   "cell_type": "markdown",
   "id": "2df659c7",
   "metadata": {
    "ein.tags": "worksheet-0",
    "slideshow": {
     "slide_type": "-"
    }
   },
   "source": [
    "Si tenemos sólo los datos podríamos tratar de calcular la derivada en forma numérica como el coseno\n",
    "$$ y' = 0.5 \\sqrt{1 - (2y)^2} $$\n",
    "\n",
    "Comparemos los dos resultados:"
   ]
  },
  {
   "cell_type": "code",
   "execution_count": null,
   "id": "ae8b59be",
   "metadata": {
    "autoscroll": false,
    "ein.hycell": false,
    "ein.tags": "worksheet-0",
    "slideshow": {
     "slide_type": "-"
    }
   },
   "outputs": [],
   "source": [
    "cond = (x3 > np.pi/2) & (x3 < 3*np.pi/2)\n",
    "yprima1 = np.where(cond, -1, 1) * 0.5*np.sqrt(np.abs(1 - (2*y3)**2))"
   ]
  },
  {
   "cell_type": "code",
   "execution_count": null,
   "id": "a1701c4b",
   "metadata": {
    "autoscroll": false,
    "ein.hycell": false,
    "ein.tags": "worksheet-0",
    "slideshow": {
     "slide_type": "-"
    }
   },
   "outputs": [],
   "source": [
    "plt.figure(figsize=fsize)\n",
    "plt.plot(x3, yprima1,\"sr\", label=r\"con $\\sqrt{1-(2y)^2}/2$\")\n",
    "plt.plot(x1,yderiv,'-k', label=u'Splines')\n",
    "plt.legend(loc='best');"
   ]
  },
  {
   "cell_type": "markdown",
   "id": "f7ebef26",
   "metadata": {
    "ein.tags": "worksheet-0",
    "slideshow": {
     "slide_type": "-"
    }
   },
   "source": [
    "o  podemos calcular la integral, o las raíces de la función"
   ]
  },
  {
   "cell_type": "code",
   "execution_count": null,
   "id": "d74f74dd",
   "metadata": {
    "autoscroll": false,
    "ein.hycell": false,
    "ein.tags": "worksheet-0",
    "slideshow": {
     "slide_type": "-"
    }
   },
   "outputs": [],
   "source": [
    "plt.figure(figsize=fsize)\n",
    "yt= np.array([interpolate.splint(0,t,tck3) for t in x1])\n",
    "plt.plot(x1,yt,'o');"
   ]
  },
  {
   "cell_type": "code",
   "execution_count": null,
   "id": "736e90a4",
   "metadata": {},
   "outputs": [],
   "source": [
    "raices = interpolate.sproot(tck3)"
   ]
  },
  {
   "cell_type": "code",
   "execution_count": null,
   "id": "57c13c80",
   "metadata": {
    "autoscroll": false,
    "ein.hycell": false,
    "ein.tags": "worksheet-0",
    "slideshow": {
     "slide_type": "-"
    }
   },
   "outputs": [],
   "source": [
    "plt.axhline(0, color='k',ls='--');\n",
    "plt.plot(x3,y3, \"--\",  label=u'datos');\n",
    "plt.plot(x1,y_s3, \"-\",  label=u's=0.3');\n",
    "plt.plot(raices, np.zeros(len(raices)), 'o', markersize=12)\n",
    "plt.legend();"
   ]
  },
  {
   "cell_type": "code",
   "execution_count": null,
   "id": "31b3d61b",
   "metadata": {
    "autoscroll": false,
    "ein.hycell": false,
    "ein.tags": "worksheet-0",
    "slideshow": {
     "slide_type": "-"
    }
   },
   "outputs": [],
   "source": [
    "# Generamos los datos\n",
    "\n",
    "def f(x, y):\n",
    "  s = np.hypot(x, y)          # Calcula la hipotenusa\n",
    "  phi = np.arctan2(y, x)      # Calcula el ángulo\n",
    "  tau = s + s*(1-s)/5 * np.sin(6*phi) \n",
    "  return 5*(1-tau) + tau\n",
    "\n",
    "# Generamos los puntos x,y,z en una grilla para comparar con la interpolación\n",
    "# Notar que es una grilla de 100x100 = 10000 puntos\n",
    "#\n",
    "x = np.linspace(-1,1,100)\n",
    "y =  np.linspace(-1,1,100)\n",
    "X, Y = np.meshgrid(x,y)\n",
    "T = f(X, Y)\n"
   ]
  },
  {
   "cell_type": "markdown",
   "id": "9baf05bd",
   "metadata": {},
   "source": [
    "Aquí `T` contiene la función sobre todos los puntos $(x,y)$ obtenidos de combinar cada punto en el vector `x` con cada punto en el vector `y`. Notar que la cantidad total de puntos de `T` es `T.size = 10000`"
   ]
  },
  {
   "cell_type": "markdown",
   "id": "aea5fe47",
   "metadata": {
    "ein.tags": "worksheet-0",
    "slideshow": {
     "slide_type": "-"
    }
   },
   "source": [
    "Elegimos `npts=400` puntos al azar de la función que vamos a usar como tabla de datos a interpolar usando distintos métodos de interpolación"
   ]
  },
  {
   "cell_type": "code",
   "execution_count": null,
   "id": "c0aceb19",
   "metadata": {
    "autoscroll": false,
    "ein.hycell": false,
    "ein.tags": "worksheet-0",
    "slideshow": {
     "slide_type": "-"
    }
   },
   "outputs": [],
   "source": [
    "npts = 400\n",
    "px, py = np.random.choice(x, npts), np.random.choice(y, npts)\n",
    "Z = f(px, py)"
   ]
  },
  {
   "cell_type": "markdown",
   "id": "45c2e906",
   "metadata": {
    "ein.tags": "worksheet-0",
    "slideshow": {
     "slide_type": "-"
    }
   },
   "source": [
    "Para poder mostrar todos los métodos juntos, vamos a interpolar dentro del loop `for`"
   ]
  },
  {
   "cell_type": "code",
   "execution_count": null,
   "id": "00b59eeb",
   "metadata": {
    "autoscroll": false,
    "ein.hycell": false,
    "ein.tags": "worksheet-0",
    "slideshow": {
     "slide_type": "-"
    }
   },
   "outputs": [],
   "source": [
    "# Graficación:\n",
    "fig, ax = plt.subplots(nrows=2, ncols=2, figsize=fsize, )\n",
    "\n",
    "# Graficamos la función sobre la grilla estructurada a modo de ilustración\n",
    "# Graficamos los puntos seleccionados\n",
    "ax[0,0].contourf(X, Y, T)\n",
    "ax[0,0].scatter(px, py, c='k', alpha=0.6, marker='.', s=8)\n",
    "ax[0,0].set_title('Puntos de f(X,Y)', fontsize='large')\n",
    "\n",
    "# Interpolamos usando los distintos métodos y graficamos\n",
    "for i, method in enumerate(('nearest', 'linear', 'cubic')):\n",
    "  Ti = interpolate.griddata((px, py), Z, (X, Y), method=method)\n",
    "  r, c = (i+1) // 2, (i+1) % 2\n",
    "  ax[r,c].contourf(X, Y, Ti)\n",
    "  ax[r,c].set_title('{}'.format(method), fontsize='large')\n",
    "    \n",
    "plt.subplots_adjust(hspace=0.3, wspace=0.3)"
   ]
  },
  {
   "cell_type": "markdown",
   "id": "800e7549",
   "metadata": {
    "ein.tags": "worksheet-0",
    "slideshow": {
     "slide_type": "-"
    }
   },
   "source": [
    "En la primera figura (arriba a la izquierda) graficamos la función evaluada en el total de puntos (10000 puntos) junto con los puntos utilizados para el ajuste. Los otros tres gráficos corresponden a la función evaluada siguiendo el ajuste correspondiente en cada caso."
   ]
  },
  {
   "cell_type": "markdown",
   "id": "29a9df30",
   "metadata": {
    "ein.tags": "worksheet-0",
    "slideshow": {
     "slide_type": "-"
    }
   },
   "source": [
    "## Fiteos de datos"
   ]
  },
  {
   "cell_type": "markdown",
   "id": "5d808cfc",
   "metadata": {
    "ein.tags": "worksheet-0",
    "slideshow": {
     "slide_type": "-"
    }
   },
   "source": [
    "### Ajuste con polinomios\n",
    "\n",
    "Habitualmente realizamos ajustes sobre datos que tienen incertezas o ruido. Generemos estos datos (con ruido normalmente distribuido)"
   ]
  },
  {
   "cell_type": "code",
   "execution_count": null,
   "id": "d0c71537",
   "metadata": {
    "autoscroll": false,
    "ein.hycell": false,
    "ein.tags": "worksheet-0",
    "slideshow": {
     "slide_type": "-"
    }
   },
   "outputs": [],
   "source": [
    "plt.figure(figsize=fsize)\n",
    "x = np.linspace(0, 10, 50)\n",
    "y0 = 2.5*x + 1.2\n",
    "ruido = np.random.normal(loc= 0., scale= 1, size= y0.size)\n",
    "y = y0 + ruido\n",
    "plt.plot(x,y0,'--')\n",
    "plt.plot(x,y, 'ok', alpha=0.6)\n",
    "plt.xlabel(\"Eje x\")\n",
    "plt.ylabel(\"Eje y\");"
   ]
  },
  {
   "cell_type": "markdown",
   "id": "dfbcab8e",
   "metadata": {
    "ein.tags": "worksheet-0",
    "slideshow": {
     "slide_type": "-"
    }
   },
   "source": [
    "Ahora vamos a ajustar con una recta\n",
    "\n",
    "$$y = m x + b    \\qquad \\equiv \\qquad    f(x) = p[0] x + p[1]$$\n",
    "\n",
    "Es una regresión lineal (o una aproximación con polinomios de primer orden)\n"
   ]
  },
  {
   "cell_type": "code",
   "execution_count": null,
   "id": "8deabfc6",
   "metadata": {
    "autoscroll": false,
    "ein.hycell": false,
    "ein.tags": "worksheet-0",
    "slideshow": {
     "slide_type": "-"
    }
   },
   "outputs": [],
   "source": [
    "p = np.polyfit(x,y,1)\n",
    "# np.info(np.polyfit) # para obtener más información"
   ]
  },
  {
   "cell_type": "code",
   "execution_count": null,
   "id": "a8b7f210",
   "metadata": {
    "autoscroll": false,
    "ein.hycell": false,
    "ein.tags": "worksheet-0",
    "slideshow": {
     "slide_type": "-"
    }
   },
   "outputs": [],
   "source": [
    "print(p)\n",
    "print(type(p))                  # Qué tipo es?"
   ]
  },
  {
   "cell_type": "markdown",
   "id": "c83c03d6",
   "metadata": {
    "ein.tags": "worksheet-0",
    "slideshow": {
     "slide_type": "-"
    }
   },
   "source": [
    "\n",
    "---\n",
    "\n",
    "**NOTA:**\n",
    "¿Qué devuelve `polyfit()`?\n",
    "\n",
    "Un array correspondiente a los coeficientes del polinomio de fiteo. En este caso, como estamos haciendo un ajuste lineal, nos devuelve los coeficientes de un polinomio de primer orden (una recta)\n",
    "```python\n",
    "y = p[0]*x + p[1]\n",
    "```\n",
    "\n",
    "---\n"
   ]
  },
  {
   "cell_type": "code",
   "execution_count": null,
   "id": "d3ea4524",
   "metadata": {},
   "outputs": [],
   "source": [
    "np.polyfit?"
   ]
  },
  {
   "cell_type": "code",
   "execution_count": null,
   "id": "752b6a8f",
   "metadata": {
    "autoscroll": false,
    "ein.hycell": false,
    "ein.tags": "worksheet-0",
    "slideshow": {
     "slide_type": "-"
    }
   },
   "outputs": [],
   "source": [
    "plt.figure(figsize=fsize)\n",
    "plt.plot(x, p[0]*x + p[1], '-', label='Ajuste')\n",
    "plt.plot(x,y,'ok', label='datos', alpha=0.6)\n",
    "plt.legend(loc='best');"
   ]
  },
  {
   "cell_type": "markdown",
   "id": "11d11cba",
   "metadata": {
    "ein.tags": "worksheet-0",
    "slideshow": {
     "slide_type": "-"
    }
   },
   "source": [
    "Ahora en vez de escribir la recta explícitamente le pedimos a **numpy** que lo haga usando los coeficientes que encontramos mediante el fiteo (utilizando la función *polyval*)\n",
    "\n",
    "```python\n",
    "y = np.polyval(p,x)\n",
    "```"
   ]
  },
  {
   "cell_type": "code",
   "execution_count": null,
   "id": "f1e5b342",
   "metadata": {
    "autoscroll": false,
    "ein.hycell": false,
    "ein.tags": "worksheet-0",
    "slideshow": {
     "slide_type": "-"
    }
   },
   "outputs": [],
   "source": [
    "plt.figure(figsize=fsize)\n",
    "plt.plot(x, np.polyval(p,x), '-', label='Ajuste')\n",
    "plt.plot(x,y,'ok', label='datos', alpha=0.6)\n",
    "plt.legend(loc='best');"
   ]
  },
  {
   "cell_type": "markdown",
   "id": "808b3302",
   "metadata": {
    "ein.tags": "worksheet-0",
    "slideshow": {
     "slide_type": "-"
    }
   },
   "source": [
    "Como vemos, arroja exactamente el mismo resultado.\n",
    "\n",
    "Si los datos tienen mucho ruido lo que obtenemos es, por supuesto, una recta que pasa por la nube de puntos:"
   ]
  },
  {
   "cell_type": "code",
   "execution_count": null,
   "id": "f66b1b9a",
   "metadata": {
    "autoscroll": false,
    "ein.hycell": false,
    "ein.tags": "worksheet-0",
    "slideshow": {
     "slide_type": "-"
    }
   },
   "outputs": [],
   "source": [
    "y= y0 + 5*ruido\n",
    "p = np.polyfit(x, y , 1)\n",
    "plt.figure(figsize=fsize)\n",
    "plt.plot(x,np.polyval(p,x),'--', label='Ajuste') \n",
    "plt.plot(x,y, 'ok', alpha=0.6, label='datos')\n",
    "plt.legend(loc='best');"
   ]
  },
  {
   "cell_type": "code",
   "execution_count": null,
   "id": "26bf4032",
   "metadata": {},
   "outputs": [],
   "source": [
    "p"
   ]
  },
  {
   "cell_type": "markdown",
   "id": "522826ee",
   "metadata": {
    "ein.tags": "worksheet-0",
    "slideshow": {
     "slide_type": "-"
    }
   },
   "source": [
    "Similarmente podemos usar polinomios de orden superior. Por ejemplo, para utilizar parábolas sólo tenemos que cambiar el orden `n` del polinomio en el argumento de `polyfit(x, y, n)`:"
   ]
  },
  {
   "cell_type": "code",
   "execution_count": null,
   "id": "5518fcdc",
   "metadata": {
    "autoscroll": false,
    "ein.hycell": false,
    "ein.tags": "worksheet-0",
    "slideshow": {
     "slide_type": "-"
    }
   },
   "outputs": [],
   "source": [
    "# Generamos los datos\n",
    "a = [2.5, 1.4, 3.]\n",
    "y0 = np.polyval(a,x)\n",
    "y = y0 + 10*ruido"
   ]
  },
  {
   "cell_type": "code",
   "execution_count": null,
   "id": "6055a18c",
   "metadata": {
    "autoscroll": false,
    "ein.hycell": false,
    "ein.tags": "worksheet-0",
    "slideshow": {
     "slide_type": "-"
    }
   },
   "outputs": [],
   "source": [
    "# Ajustamos con un polinomio de segundo grado\n",
    "p = np.polyfit(x, y , 2)"
   ]
  },
  {
   "cell_type": "code",
   "execution_count": null,
   "id": "a5e85ed0",
   "metadata": {
    "autoscroll": false,
    "ein.hycell": false,
    "ein.tags": "worksheet-0",
    "slideshow": {
     "slide_type": "-"
    }
   },
   "outputs": [],
   "source": [
    "plt.figure(figsize=fsize)\n",
    "plt.plot(x,y0,'-', label=\"$f(x)={0:.2}x^2 + {1:.2} x + {2:.2}$\".format(*a)) \n",
    "plt.plot(x,np.polyval(p,x),'--', label=\"$P(x)={0:.2}x^2 + {1:.2} x + {2:.2}$\".format(*p))\n",
    "plt.plot(x,y,'ok', alpha=0.7,label='Datos')\n",
    "plt.legend(loc='best');"
   ]
  },
  {
   "cell_type": "markdown",
   "id": "884a9c94",
   "metadata": {},
   "source": [
    "-----\n",
    "\n",
    "## Ejercicios 13 (b)\n",
    "\n",
    "3. En el archivo co_nrg.dat se encuentran los datos de la posición de los máximos de un espectro de CO2 como función del número cuántico rotacional J (entero). Haga un programa que lea los datos. Los ajuste con polinomios (elija el orden adecuado) y grafique luego los datos (con símbolos) y el ajuste con una línea sólida roja. Además, debe mostrar los parámetros obtenidos para el polinomio.\n",
    "\n",
    "-----\n"
   ]
  },
  {
   "cell_type": "markdown",
   "id": "e272ce0e",
   "metadata": {
    "ein.tags": "worksheet-0",
    "slideshow": {
     "slide_type": "-"
    }
   },
   "source": [
    "## Fiteos con funciones arbitrarias"
   ]
  },
  {
   "cell_type": "markdown",
   "id": "44c2cab8",
   "metadata": {
    "ein.tags": "worksheet-0",
    "slideshow": {
     "slide_type": "-"
    }
   },
   "source": [
    "Vamos ahora a fitear una función que no responde a la forma polinomial.  \n",
    "El submódulo `optimize` del paquete `scipy` tiene rutinas para realizar ajustes de datos utilizando funciones arbitrarias\n",
    "\n",
    "Utilicemos una función \"complicada\":"
   ]
  },
  {
   "cell_type": "code",
   "execution_count": null,
   "id": "6a566cf2",
   "metadata": {
    "autoscroll": false,
    "ein.hycell": false,
    "ein.tags": "worksheet-0",
    "slideshow": {
     "slide_type": "-"
    }
   },
   "outputs": [],
   "source": [
    "# string definido para la leyenda\n",
    "sfuncion= r'${0:.3}\\, \\sin ({1:.2}\\, x {3:+.2f}) \\, \\exp(-{2:.2f} x)$'\n",
    "\n",
    "def fit_func(x, a, b, c, d):\n",
    "  y = a*np.sin(b*x-d)*np.exp(-c*x)\n",
    "  return y"
   ]
  },
  {
   "cell_type": "markdown",
   "id": "0ad51717",
   "metadata": {
    "ein.tags": "worksheet-0",
    "slideshow": {
     "slide_type": "-"
    }
   },
   "source": [
    "Generamos ahora \"datos\" con dispersión basados en la función\n",
    "\n",
    "$$\n",
    "f(x) = a \\, \\sin(b x - d) e^{-c x}\n",
    "$$"
   ]
  },
  {
   "cell_type": "code",
   "execution_count": null,
   "id": "7e53d4e0-8de2-437a-8a79-d688f16d443a",
   "metadata": {},
   "outputs": [],
   "source": [
    "sfuncion"
   ]
  },
  {
   "cell_type": "code",
   "execution_count": null,
   "id": "5b98a543-09fc-4246-bcd0-b9afbb512db6",
   "metadata": {},
   "outputs": [],
   "source": [
    "sfuncion.format(1.,2.,3.,4.)"
   ]
  },
  {
   "cell_type": "code",
   "execution_count": null,
   "id": "0412ebee",
   "metadata": {
    "autoscroll": false,
    "ein.hycell": false,
    "ein.tags": "worksheet-0",
    "slideshow": {
     "slide_type": "-"
    }
   },
   "outputs": [],
   "source": [
    "x = np.linspace(0., 2*np.pi, 50)\n",
    "y0 = fit_func(x, 1., 3., 1/3, 0 )\n",
    "y = y0 + 0.1*ruido"
   ]
  },
  {
   "cell_type": "markdown",
   "id": "6610889d",
   "metadata": {
    "ein.tags": "worksheet-0",
    "slideshow": {
     "slide_type": "-"
    }
   },
   "source": [
    "y los graficamos"
   ]
  },
  {
   "cell_type": "code",
   "execution_count": null,
   "id": "47725cba",
   "metadata": {
    "autoscroll": false,
    "ein.hycell": false,
    "ein.tags": "worksheet-0",
    "slideshow": {
     "slide_type": "-"
    }
   },
   "outputs": [],
   "source": [
    "plt.figure(figsize=fsize)\n",
    "plt.plot(x,y0,'-',label=\"$f(x)$\") \n",
    "plt.plot(x,y,'ok',alpha=0.5,label='Datos') # repeated from above\n",
    "plt.xlabel(\"Eje x\") # labels again\n",
    "plt.ylabel(\"Eje y\")\n",
    "plt.legend(loc='best');"
   ]
  },
  {
   "cell_type": "markdown",
   "id": "ad466c20",
   "metadata": {
    "ein.tags": "worksheet-0",
    "slideshow": {
     "slide_type": "-"
    }
   },
   "source": [
    "Ahora vamos a interpolar los datos utilizando funciones del paquete **Scipy**.\n",
    "En primer lugar vamos a utilizar la función `curve_fit`:"
   ]
  },
  {
   "cell_type": "code",
   "execution_count": null,
   "id": "37bac122",
   "metadata": {
    "autoscroll": false,
    "ein.hycell": false,
    "ein.tags": "worksheet-0",
    "slideshow": {
     "slide_type": "-"
    }
   },
   "outputs": [],
   "source": [
    "from scipy.optimize import curve_fit"
   ]
  },
  {
   "cell_type": "code",
   "execution_count": null,
   "id": "59b64901",
   "metadata": {
    "autoscroll": false,
    "ein.hycell": false,
    "ein.tags": "worksheet-0",
    "slideshow": {
     "slide_type": "-"
    }
   },
   "outputs": [],
   "source": [
    "# ¿Qué hace esta función?\n",
    "help(curve_fit)"
   ]
  },
  {
   "cell_type": "markdown",
   "id": "00e920cc",
   "metadata": {
    "ein.tags": "worksheet-0",
    "slideshow": {
     "slide_type": "-"
    }
   },
   "source": [
    "En su forma más simple toma los siguientes argumentos:\n",
    "\n",
    "\n",
    "    Parameters\n",
    "    ----------\n",
    "    f : callable\n",
    "        The model function, f(x, ...).  It must take the independent\n",
    "        variable as the first argument and the parameters to fit as\n",
    "        separate remaining arguments.\n",
    "    xdata : An M-length sequence or an (k,M)-shaped array for functions with k predictors\n",
    "        The independent variable where the data is measured.\n",
    "    ydata : M-length sequence\n",
    "        The dependent data --- nominally f(xdata, ...)\n",
    "    p0 : None, scalar, or N-length sequence, optional\n",
    "        Initial guess for the parameters.  If None, then the initial\n",
    "        values will all be 1 (if the number of parameters for the function\n",
    "        can be determined using introspection, otherwise a ValueError\n",
    "        is raised).\n",
    "\n",
    "\n",
    "El primero: `f` es la función que utilizamos para modelar los datos, y que dependerá de la variable independiente `x` y de los parámetros a ajustar.  \n",
    "También debemos darle los valores tabulados en las direcciones $x$ (la variable independiente) e $y$ (la variable dependiente).  \n",
    "Además, debido a las características del cálculo numérico que realiza suele ser muy importante darle valores iniciales a los parámetros que queremos ajustar."
   ]
  },
  {
   "cell_type": "markdown",
   "id": "93c04605",
   "metadata": {
    "ein.tags": "worksheet-0",
    "slideshow": {
     "slide_type": "-"
    }
   },
   "source": [
    "Veamos lo que devuelve:\n",
    "\n",
    "\n",
    "    Returns\n",
    "    -------\n",
    "    popt : array\n",
    "        Optimal values for the parameters so that the sum of the squared error\n",
    "        of ``f(xdata, *popt) - ydata`` is minimized\n",
    "    pcov : 2d array\n",
    "        The estimated covariance of popt.  The diagonals provide the variance\n",
    "        of the parameter estimate.\n",
    "    \n",
    "\n",
    "El primer *array* tiene los parámetros para \"best-fit\", y el segundo da la estimación del error: la matriz de covarianza\n"
   ]
  },
  {
   "cell_type": "markdown",
   "id": "c465cd74",
   "metadata": {
    "ein.tags": "worksheet-0",
    "slideshow": {
     "slide_type": "-"
    }
   },
   "source": [
    "Ya tenemos los valores a ajustar guardados en arrays `x` e `y`"
   ]
  },
  {
   "cell_type": "code",
   "execution_count": null,
   "id": "d70ee181",
   "metadata": {
    "autoscroll": false,
    "ein.hycell": false,
    "ein.tags": "worksheet-0",
    "slideshow": {
     "slide_type": "-"
    }
   },
   "outputs": [],
   "source": [
    "# initial_guess= None \n",
    "initial_guess= [1., -1., 1., 0.2]\n",
    "params, p_covarianza = curve_fit(fit_func, x, y, initial_guess)"
   ]
  },
  {
   "cell_type": "code",
   "execution_count": null,
   "id": "3bc9cab3",
   "metadata": {
    "autoscroll": false,
    "ein.hycell": false,
    "ein.tags": "worksheet-0",
    "slideshow": {
     "slide_type": "-"
    }
   },
   "outputs": [],
   "source": [
    "plt.figure(figsize=(8,8))\n",
    "plt.plot(x,y0,'-', alpha=0.7,label=\"$f(x)$\") \n",
    "plt.plot(x,y,'ok', alpha=0.5, label='Datos') # repeated from above\n",
    "label=sfuncion.format(*params)\n",
    "plt.plot(x,fit_func(x, *params), '--', label=label)\n",
    "plt.xlabel(\"Eje x\") # labels again\n",
    "plt.ylabel(\"Eje y\")\n",
    "plt.legend(loc='best');\n",
    "ylim = plt.ylim()\n",
    "plt.ylim((ylim[0],1.2*ylim[1]));"
   ]
  },
  {
   "cell_type": "markdown",
   "id": "84923e03",
   "metadata": {
    "ein.tags": "worksheet-0",
    "slideshow": {
     "slide_type": "-"
    }
   },
   "source": [
    "Veamos otro ejemplo similar, con muchos datos y dispersión"
   ]
  },
  {
   "cell_type": "code",
   "execution_count": null,
   "id": "214606de",
   "metadata": {},
   "outputs": [],
   "source": [
    "from scipy.optimize import least_squares"
   ]
  },
  {
   "cell_type": "code",
   "execution_count": null,
   "id": "a0a47074",
   "metadata": {},
   "outputs": [],
   "source": [
    "least_squares?"
   ]
  },
  {
   "cell_type": "code",
   "execution_count": null,
   "id": "10b30de4",
   "metadata": {
    "autoscroll": false,
    "ein.hycell": false,
    "ein.tags": "worksheet-0",
    "slideshow": {
     "slide_type": "-"
    }
   },
   "outputs": [],
   "source": [
    "# Puntos \"experimentales\" con dispersión\n",
    "x = np.linspace(0., 2*np.pi, 5000)\n",
    "y0= fit_func(x, 1., 3., 1/3, 0 )\n",
    "y = y0 + 0.2* np.random.normal(loc= 0., scale= 1, size= y0.size);\n",
    "# Fiteo"
   ]
  },
  {
   "cell_type": "code",
   "execution_count": null,
   "id": "f662badb",
   "metadata": {
    "autoscroll": false,
    "ein.hycell": false,
    "ein.tags": "worksheet-0",
    "slideshow": {
     "slide_type": "-"
    }
   },
   "outputs": [],
   "source": [
    "initial_guess= [1., 3., 1., 0.2]\n",
    "params, p_covarianza = curve_fit(fit_func, x, y, initial_guess)"
   ]
  },
  {
   "cell_type": "code",
   "execution_count": null,
   "id": "4870366e",
   "metadata": {
    "autoscroll": false,
    "ein.hycell": false,
    "ein.tags": "worksheet-0",
    "slideshow": {
     "slide_type": "-"
    }
   },
   "outputs": [],
   "source": [
    "# Graficación\n",
    "plt.figure(figsize=fsize)\n",
    "plt.plot(x,y0,'-b',label=\"$f(x)$\") \n",
    "plt.plot(x,y,'.k',label='datos') # repeated from above\n",
    "label=sfuncion.format(*params)\n",
    "plt.plot(x,fit_func(x, *params), '-r', label=label)\n",
    "plt.xlabel(\"Eje x\") # labels again\n",
    "plt.ylabel(\"Eje y\")\n",
    "plt.legend(loc='best');"
   ]
  },
  {
   "cell_type": "markdown",
   "id": "ef788bf0",
   "metadata": {
    "ein.tags": "worksheet-0",
    "slideshow": {
     "slide_type": "-"
    }
   },
   "source": [
    "La función `curve_fit()` que realiza el ajuste devuelve dos valores: El primero es un *array* con los valores de los parámetros obtenidos, y el segundo es un *array* con los valores correspondientes a la matriz de covarianza, cuyos elementos de la diagonal corresponden a la varianza para cada parámetro"
   ]
  },
  {
   "cell_type": "code",
   "execution_count": null,
   "id": "bfc292c1-92f8-497f-92d7-66cc6fbe1753",
   "metadata": {},
   "outputs": [],
   "source": [
    "params"
   ]
  },
  {
   "cell_type": "code",
   "execution_count": null,
   "id": "7c72a166-3849-4acd-b95e-31eaa1fdcfa3",
   "metadata": {},
   "outputs": [],
   "source": [
    "p_covarianza.shape"
   ]
  },
  {
   "cell_type": "code",
   "execution_count": null,
   "id": "2ca5bd24",
   "metadata": {
    "autoscroll": false,
    "ein.hycell": false,
    "ein.tags": "worksheet-0",
    "slideshow": {
     "slide_type": "-"
    }
   },
   "outputs": [],
   "source": [
    "np.diagonal(p_covarianza)"
   ]
  },
  {
   "cell_type": "markdown",
   "id": "b362450c",
   "metadata": {
    "ein.tags": "worksheet-0",
    "slideshow": {
     "slide_type": "-"
    }
   },
   "source": [
    "Así, por ejemplo el primer parámetro (correspondiente a la amplitud `a`) toma en estos casos el valor:"
   ]
  },
  {
   "cell_type": "code",
   "execution_count": null,
   "id": "751eb0bf",
   "metadata": {
    "autoscroll": false,
    "ein.hycell": false,
    "ein.tags": "worksheet-0",
    "slideshow": {
     "slide_type": "-"
    }
   },
   "outputs": [],
   "source": [
    "for j,v in enumerate(['a','b', 'c', 'd' ]):\n",
    "  print(\"{} = {:.5g} ± {:.3g}\".format(v, params[j], np.sqrt(p_covarianza[j,j])))"
   ]
  },
  {
   "cell_type": "markdown",
   "id": "9870ed7d",
   "metadata": {
    "ein.tags": "worksheet-0",
    "slideshow": {
     "slide_type": "-"
    }
   },
   "source": [
    "### Ejemplo: Fiteo de picos"
   ]
  },
  {
   "cell_type": "markdown",
   "id": "a8b192f7",
   "metadata": {
    "ein.tags": "worksheet-0",
    "slideshow": {
     "slide_type": "-"
    }
   },
   "source": [
    "Vamos a suponer que los datos son obtenidos mediante la repetición de mediciones"
   ]
  },
  {
   "cell_type": "code",
   "execution_count": null,
   "id": "ba3420d8",
   "metadata": {
    "autoscroll": false,
    "ein.hycell": false,
    "ein.tags": "worksheet-0",
    "slideshow": {
     "slide_type": "-"
    }
   },
   "outputs": [],
   "source": [
    "# Realizamos 1000 mediciones, eso nos da una distribución de valores\n",
    "r = np.random.normal(loc=6, size=1000)"
   ]
  },
  {
   "cell_type": "code",
   "execution_count": null,
   "id": "50d1709b",
   "metadata": {
    "autoscroll": false,
    "ein.hycell": false,
    "ein.tags": "worksheet-0",
    "slideshow": {
     "slide_type": "-"
    }
   },
   "outputs": [],
   "source": [
    "# Veamos qué obtuvimos\n",
    "plt.plot(r,'.')"
   ]
  },
  {
   "cell_type": "code",
   "execution_count": null,
   "id": "8fd5ee61",
   "metadata": {
    "autoscroll": false,
    "ein.hycell": false,
    "ein.tags": "worksheet-0",
    "slideshow": {
     "slide_type": "-"
    }
   },
   "outputs": [],
   "source": [
    "y, x = np.histogram(r, bins=30, range=(2,10), density=True)\n",
    "x = (x[1:]+x[:-1])/2        # Calculamos los centros de los intervalos "
   ]
  },
  {
   "cell_type": "markdown",
   "id": "443105da",
   "metadata": {
    "ein.tags": "worksheet-0",
    "slideshow": {
     "slide_type": "-"
    }
   },
   "source": [
    "Vamos a graficar el histograma junto con la función Gaussiana con el valor correspondiente de la \"Función Densidad de Probabilidad\" (pdf)"
   ]
  },
  {
   "cell_type": "code",
   "execution_count": null,
   "id": "6d39b5a7",
   "metadata": {
    "autoscroll": false,
    "ein.hycell": false,
    "ein.tags": "worksheet-0",
    "slideshow": {
     "slide_type": "-"
    }
   },
   "outputs": [],
   "source": [
    "from scipy import stats\n",
    "b = stats.norm.pdf(x, loc=6)\n",
    "plt.figure(figsize=fsize)\n",
    "plt.plot(x,b,'-', label=u'Función')\n",
    "plt.plot(x,y,'o-', alpha=0.7, label='random')\n",
    "plt.legend(loc='best');\n"
   ]
  },
  {
   "cell_type": "markdown",
   "id": "9c9e578c",
   "metadata": {
    "ein.tags": "worksheet-0",
    "slideshow": {
     "slide_type": "-"
    }
   },
   "source": [
    "Usando esta idea generemos \"datos\" correspondiente a dos picos, que son diferentes y están separados pero que no podemos distinguirlos completamente porque se superponen.\n",
    "\n",
    "Generemos los datos:"
   ]
  },
  {
   "cell_type": "code",
   "execution_count": null,
   "id": "0b8ee433",
   "metadata": {
    "autoscroll": false,
    "ein.hycell": false,
    "ein.tags": "worksheet-0",
    "slideshow": {
     "slide_type": "-"
    }
   },
   "outputs": [],
   "source": [
    "npoints = 3000\n",
    "r = np.hstack([np.random.normal(size=npoints), np.random.normal(loc=2, scale=.6, size=npoints)])\n",
    "y,x = np.histogram(r , bins = 40, range = (-3.5,4.5), density=True)\n",
    "x = (x[1:]+x[:-1])/2"
   ]
  },
  {
   "cell_type": "code",
   "execution_count": null,
   "id": "7dc1361f-3ef4-4348-a13b-18cf67a5891d",
   "metadata": {},
   "outputs": [],
   "source": [
    "r.shape, r.size"
   ]
  },
  {
   "cell_type": "code",
   "execution_count": null,
   "id": "a635f148",
   "metadata": {
    "autoscroll": false,
    "ein.hycell": false,
    "ein.tags": "worksheet-0",
    "slideshow": {
     "slide_type": "-"
    }
   },
   "outputs": [],
   "source": [
    "plt.figure(figsize=fsize)\n",
    "plt.plot(x,y,'o--k', alpha=0.6, label='\"Medición\"')\n",
    "plt.legend(loc='best');\n"
   ]
  },
  {
   "cell_type": "markdown",
   "id": "449f6d96",
   "metadata": {
    "ein.tags": "worksheet-0",
    "slideshow": {
     "slide_type": "-"
    }
   },
   "source": [
    "Ahora, por razones físicas (o porque no tenemos ninguna idea mejor) suponemos que esta curva corresponde a dos \"picos\" del tipo Gaussiano, sólo que no conocemos sus posiciones, ni sus anchos ni sus alturas relativas. Creamos entonces una función que describa esta situación: La suma de dos Gaussianas, cada una de ellas con su posición y ancho característico, y un factor de normalización diferente para cada una de ellas. En total tendremos seis parámetros a optimizar:"
   ]
  },
  {
   "cell_type": "code",
   "execution_count": null,
   "id": "26c0dbbf",
   "metadata": {
    "autoscroll": false,
    "ein.hycell": false,
    "ein.tags": "worksheet-0",
    "slideshow": {
     "slide_type": "-"
    }
   },
   "outputs": [],
   "source": [
    "def modelo(x, *coeffs):\n",
    "  \"Suma de dos Gaussianas, con pesos dados por coeffs[0] y coeffs[3], respectivamente\"\n",
    "  G = stats.norm.pdf\n",
    "  return coeffs[0]*G(x,loc=coeffs[1], scale=coeffs[2]) + \\\n",
    "  coeffs[3]*G(x,loc=coeffs[4], scale=coeffs[5])"
   ]
  },
  {
   "cell_type": "code",
   "execution_count": null,
   "id": "764cc688",
   "metadata": {
    "autoscroll": false,
    "ein.hycell": false,
    "ein.tags": "worksheet-0",
    "slideshow": {
     "slide_type": "-"
    }
   },
   "outputs": [],
   "source": [
    "help(modelo)"
   ]
  },
  {
   "cell_type": "markdown",
   "id": "ed6fc2a1",
   "metadata": {
    "ein.tags": "worksheet-0",
    "slideshow": {
     "slide_type": "-"
    }
   },
   "source": [
    "Ahora es muy fácil realizar el fiteo. Mirando el gráfico proponemos valores iniciales, donde los tres primeros valores corresponde a los parámetros de la primera Gaussiana y los tres últimos a los de la segunda:"
   ]
  },
  {
   "cell_type": "code",
   "execution_count": null,
   "id": "3533e1f1",
   "metadata": {
    "autoscroll": false,
    "ein.hycell": false,
    "ein.tags": "worksheet-0",
    "slideshow": {
     "slide_type": "-"
    }
   },
   "outputs": [],
   "source": [
    "c0 = np.array([1., -0.5, 1., 1., 1.5, 1.])\n",
    "c, cov = curve_fit(modelo, x, y, p0 = c0)\n",
    "print(c)"
   ]
  },
  {
   "cell_type": "code",
   "execution_count": null,
   "id": "001d7219",
   "metadata": {
    "autoscroll": false,
    "ein.hycell": false,
    "ein.tags": "worksheet-0",
    "slideshow": {
     "slide_type": "-"
    }
   },
   "outputs": [],
   "source": [
    "plt.figure(figsize=fsize)\n",
    "plt.plot(x, y,'ok', alpha=0.8, label='random distrib')\n",
    "plt.plot(x, modelo(x,*c0), '--', alpha=0.9, label='Curva inicial')\n",
    "plt.plot(x, modelo(x,*c), '-', label='fiteo')\n",
    "plt.plot(x,c[0]*stats.norm.pdf(x,loc=c[1], scale=c[2]), '--', alpha=0.7, label='Gaussiana 1')\n",
    "plt.plot(x,c[3]*stats.norm.pdf(x,loc=c[4], scale=c[5]), '--', alpha=0.7, label='Gaussiana 2')\n",
    "plt.legend( loc = 'best' );\n"
   ]
  },
  {
   "cell_type": "markdown",
   "id": "511644d7",
   "metadata": {},
   "source": [
    "-----\n",
    "\n",
    "## Ejercicios 13 (c)\n",
    "\n",
    "4. **Para Entregar:** Queremos hacer un programa que permita fitear una curva como suma de `N` funciones gaussianas:\n",
    "\n",
    "    1. Usando distribuciones normales e histogramas cree conjuntos de datos con dos, tres y cuatro máximos.\n",
    "    1. Haga una función, que debe tomar como argumento los arrays con los datos: `x`, `y`, y valores iniciales para las Gaussianas: `fit_gaussianas(x, y, *params)` donde params son los 3N coeficientes (tres coeficientes para cada Gaussiana). Debe devolver los parámetros óptimos obtenidos.\n",
    "    2. Realice un programita que grafique los datos dados y la función que resulta de sumar las gaussianas en una misma figura.\n",
    "    3. *Si puede* agregue líneas o flechas indicando la posición del máximo y el ancho de cada una de las Gaussianas obtenidas.\n",
    "\n",
    "-----"
   ]
  }
 ],
 "metadata": {
  "kernelspec": {
   "display_name": "Python 3 (ipykernel)",
   "language": "python",
   "name": "python3"
  },
  "language_info": {
   "codemirror_mode": {
    "name": "ipython",
    "version": 3
   },
   "file_extension": ".py",
   "mimetype": "text/x-python",
   "name": "python",
   "nbconvert_exporter": "python",
   "pygments_lexer": "ipython3",
   "version": "3.13.2"
  },
  "name": "13_fiteos.ipynb",
  "toc": {
   "base_numbering": 1,
   "nav_menu": {
    "height": "206.167px",
    "width": "251.5px"
   },
   "number_sections": true,
   "sideBar": true,
   "skip_h1_title": false,
   "title_cell": "Contenidos",
   "title_sidebar": "Contenidos",
   "toc_cell": false,
   "toc_position": null,
   "toc_section_display": true,
   "toc_window_display": false
  }
 },
 "nbformat": 4,
 "nbformat_minor": 5
}
