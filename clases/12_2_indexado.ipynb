{
 "cells": [
  {
   "cell_type": "markdown",
   "id": "71ab43e2-ad1e-4a93-b1b3-93c865083a0c",
   "metadata": {},
   "source": [
    "## Indexado avanzado \n"
   ]
  },
  {
   "cell_type": "markdown",
   "id": "6b07feb6-e173-4348-bc5d-3eaa41831bea",
   "metadata": {},
   "source": [
    "### Indexado con secuencias de índices\n",
    "\n",
    "Consideremos un vector simple, y elijamos algunos de sus elementos"
   ]
  },
  {
   "cell_type": "code",
   "execution_count": 2,
   "id": "35b0d230-dfec-4c91-9254-106641851a75",
   "metadata": {},
   "outputs": [],
   "source": [
    "import numpy as np\n",
    "import matplotlib.pyplot as plt"
   ]
  },
  {
   "cell_type": "code",
   "execution_count": 3,
   "id": "297e7955-2d11-4be8-9fe0-7f5fee954a6b",
   "metadata": {},
   "outputs": [
    {
     "data": {
      "text/plain": [
       "array([0. , 0.5, 1. , 1.5, 2. , 2.5, 3. ])"
      ]
     },
     "execution_count": 3,
     "metadata": {},
     "output_type": "execute_result"
    }
   ],
   "source": [
    "x = np.linspace(0,3,7)\n",
    "x"
   ]
  },
  {
   "cell_type": "code",
   "execution_count": 4,
   "id": "fdcdeab7-0f91-49d8-b1a1-8b7b3b1492d4",
   "metadata": {},
   "outputs": [
    {
     "data": {
      "text/plain": [
       "array([0.5, 1.5, 2.5])"
      ]
     },
     "execution_count": 4,
     "metadata": {},
     "output_type": "execute_result"
    }
   ],
   "source": [
    "# Standard slicing\n",
    "v1=x[1::2]\n",
    "v1"
   ]
  },
  {
   "cell_type": "markdown",
   "id": "cd2900a0-1a2f-4d50-8e59-de6664a41504",
   "metadata": {},
   "source": [
    "Esta es la manera simple de seleccionar elementos de un array, y como vimos lo que se obtiene es una vista del mismo array. **Numpy** permite además seleccionar partes de un array usando otro array de índices:"
   ]
  },
  {
   "cell_type": "code",
   "execution_count": 5,
   "id": "2cc14423-f425-4eb9-a011-7395ceb5db5a",
   "metadata": {},
   "outputs": [],
   "source": [
    "# Array Slicing con índices ind\n",
    "i1 = np.array([1,3,-1,0])   \n",
    "v2 = x[i1]"
   ]
  },
  {
   "cell_type": "code",
   "execution_count": 6,
   "id": "99ad8525-a286-4b72-815b-300b3ef41392",
   "metadata": {},
   "outputs": [
    {
     "name": "stdout",
     "output_type": "stream",
     "text": [
      "[0.  0.5 1.  1.5 2.  2.5 3. ]\n",
      "[0.5 1.5 3.  0. ]\n"
     ]
    }
   ],
   "source": [
    "print(x)\n",
    "print(x[i1])"
   ]
  },
  {
   "cell_type": "code",
   "execution_count": 7,
   "id": "6dae7c5c-139f-4006-9f22-6d91762bb0be",
   "metadata": {},
   "outputs": [
    {
     "name": "stdout",
     "output_type": "stream",
     "text": [
      "True\n",
      "False\n"
     ]
    }
   ],
   "source": [
    "print(v1.base is x.base)\n",
    "print(v2.base is x.base)"
   ]
  },
  {
   "cell_type": "markdown",
   "id": "26747971-e94d-4324-a508-ed1366b66d55",
   "metadata": {},
   "source": [
    "Los índices negativos funcionan en exactamente la misma manera que en el caso simple. \n",
    "\n",
    "Es importante notar que cuando se usan arrays como índices, lo que se obtiene es un nuevo array (no una vista), y este nuevo array tiene las dimensiones (`shape`) del array de índices"
   ]
  },
  {
   "cell_type": "code",
   "execution_count": 9,
   "id": "358962c6-884f-4648-b966-e4ff9f550531",
   "metadata": {},
   "outputs": [
    {
     "name": "stdout",
     "output_type": "stream",
     "text": [
      "[0.  0.5 1.  1.5 2.  2.5 3. ]\n",
      "[[0.5 0. ]\n",
      " [1.  0.5]]\n",
      "x  shape: (7,)\n",
      "v3 shape: (2, 2)\n"
     ]
    }
   ],
   "source": [
    "i2 = np.array([[1,0],[2,1]])\n",
    "v3= x[i2]\n",
    "print(x)\n",
    "print(v3)\n",
    "print('x  shape:', x.shape)\n",
    "print('v3 shape:', v3.shape)"
   ]
  },
  {
   "cell_type": "markdown",
   "id": "6eca8633-6620-412d-a1fd-401a41115a7a",
   "metadata": {},
   "source": [
    "### Índices de arrays multidimensionales"
   ]
  },
  {
   "cell_type": "code",
   "execution_count": 10,
   "id": "a6f73a4e-fa15-49fe-99af-38817b61f6d9",
   "metadata": {},
   "outputs": [
    {
     "data": {
      "text/plain": [
       "array([[12.5, 11.5, 10.5,  9.5],\n",
       "       [ 8.5,  7.5,  6.5,  5.5],\n",
       "       [ 4.5,  3.5,  2.5,  1.5]])"
      ]
     },
     "execution_count": 10,
     "metadata": {},
     "output_type": "execute_result"
    }
   ],
   "source": [
    "y = np.arange(12,0,-1).reshape(3,4)+0.5\n",
    "y"
   ]
  },
  {
   "cell_type": "code",
   "execution_count": 11,
   "id": "8cb4d0b5-6862-4a6b-960a-b0c46846c8c3",
   "metadata": {},
   "outputs": [
    {
     "name": "stdout",
     "output_type": "stream",
     "text": [
      "[12.5 11.5 10.5  9.5]\n",
      "[4.5 3.5 2.5 1.5]\n"
     ]
    }
   ],
   "source": [
    "print(y[0])                     # Primera fila\n",
    "print(y[2])                     # Última fila\n"
   ]
  },
  {
   "cell_type": "code",
   "execution_count": 12,
   "id": "32bfff2a-f237-415e-805a-3b5eb9b3e472",
   "metadata": {},
   "outputs": [
    {
     "name": "stdout",
     "output_type": "stream",
     "text": [
      "[[12.5 11.5 10.5  9.5]\n",
      " [ 4.5  3.5  2.5  1.5]]\n"
     ]
    }
   ],
   "source": [
    "i = np.array([0,2])\n",
    "print(y[i])       # Primera y última fila"
   ]
  },
  {
   "cell_type": "markdown",
   "id": "b1848cb4-26e4-42fd-ac93-e77b1245b579",
   "metadata": {},
   "source": [
    "Si usamos más de un array de índices para seleccionar elementos de un array multidimensional, cada array de índices se refiere a una dimensión diferente. Consideremos el array `y`"
   ]
  },
  {
   "cell_type": "code",
   "execution_count": 13,
   "id": "c90e554c-13c3-45f4-b5e3-ffbdad67a029",
   "metadata": {},
   "outputs": [
    {
     "name": "stdout",
     "output_type": "stream",
     "text": [
      "[[12.5 11.5 10.5  9.5]\n",
      " [ 8.5  7.5  6.5  5.5]\n",
      " [ 4.5  3.5  2.5  1.5]]\n"
     ]
    }
   ],
   "source": [
    "print(y)"
   ]
  },
  {
   "cell_type": "markdown",
   "id": "e8e1af9d-1e28-470c-94dd-efe05c16606f",
   "metadata": {},
   "source": [
    "![](figuras/adv_index.png)\n",
    "\n",
    "Si queremos elegir los elementos en los lugares `[0,1], [1,2], [0,3], [1,1]` (en ese orden) \n",
    "podemos crear dos array de índices con los valores correspondientes a cada dimensión"
   ]
  },
  {
   "cell_type": "code",
   "execution_count": 14,
   "id": "6cfe2897-f2f6-4a22-8dcf-9a26be0eee1e",
   "metadata": {},
   "outputs": [
    {
     "name": "stdout",
     "output_type": "stream",
     "text": [
      "[11.5  6.5  9.5  7.5]\n"
     ]
    }
   ],
   "source": [
    "i = np.array([0,1,0,1])\n",
    "j = np.array([1,2,3,1])\n",
    "print(y[i,j])"
   ]
  },
  {
   "cell_type": "markdown",
   "id": "5d7f6976-f9a1-4958-af6d-19e5468ba532",
   "metadata": {},
   "source": [
    "### Indexado con condiciones\n",
    "\n",
    "Además de usar notación de *slices*, e índices también podemos seleccionar partes de arrays usando una matriz de condiciones. Primero creamos una matriz de coniciones `c`"
   ]
  },
  {
   "cell_type": "code",
   "execution_count": 15,
   "id": "fb8f942e-e1f0-4ac2-9822-33069d8bfc70",
   "metadata": {},
   "outputs": [
    {
     "name": "stdout",
     "output_type": "stream",
     "text": [
      "[[False False False False]\n",
      " [False False False False]\n",
      " [False False False False]]\n"
     ]
    }
   ],
   "source": [
    "c = False*np.empty((3,4), dtype='bool')\n",
    "print(c)"
   ]
  },
  {
   "cell_type": "code",
   "execution_count": 16,
   "id": "de1e7718-2c41-4ec8-a720-ef5d9998c396",
   "metadata": {},
   "outputs": [
    {
     "data": {
      "text/plain": [
       "array([[0., 0., 0., 0.],\n",
       "       [0., 0., 0., 0.],\n",
       "       [0., 0., 0., 0.]])"
      ]
     },
     "execution_count": 16,
     "metadata": {},
     "output_type": "execute_result"
    }
   ],
   "source": [
    "# Es necesario dar el tipo de los elementos para que sean lógicos\n",
    "False*np.empty((3,4))"
   ]
  },
  {
   "cell_type": "code",
   "execution_count": 17,
   "id": "acfa4322-e434-484a-9da8-85a141fb7a70",
   "metadata": {},
   "outputs": [
    {
     "name": "stdout",
     "output_type": "stream",
     "text": [
      "[[False  True False  True]\n",
      " [False  True  True False]\n",
      " [False False False False]]\n"
     ]
    }
   ],
   "source": [
    "c[i,j]= True                    # Aplico la notación de índice avanzado\n",
    "print(c)"
   ]
  },
  {
   "cell_type": "code",
   "execution_count": 18,
   "id": "2d39fe8b",
   "metadata": {},
   "outputs": [
    {
     "data": {
      "text/plain": [
       "array([[12.5, 11.5, 10.5,  9.5],\n",
       "       [ 8.5,  7.5,  6.5,  5.5],\n",
       "       [ 4.5,  3.5,  2.5,  1.5]])"
      ]
     },
     "execution_count": 18,
     "metadata": {},
     "output_type": "execute_result"
    }
   ],
   "source": [
    "y"
   ]
  },
  {
   "cell_type": "markdown",
   "id": "5da3f8f1-4187-4550-ad79-f651565de1ed",
   "metadata": {},
   "source": [
    "Como vemos, `c` es una matriz con la misma forma que `y`. Esto permite seleccionar los valores donde el array de condiciones es verdadero:"
   ]
  },
  {
   "cell_type": "code",
   "execution_count": 19,
   "id": "13a14454-9e87-4d13-83f1-d2138a4a4be1",
   "metadata": {},
   "outputs": [],
   "source": [
    "yy = y[c]"
   ]
  },
  {
   "cell_type": "code",
   "execution_count": 20,
   "id": "93e197cb",
   "metadata": {},
   "outputs": [
    {
     "data": {
      "text/plain": [
       "array([11.5,  9.5,  7.5,  6.5])"
      ]
     },
     "execution_count": 20,
     "metadata": {},
     "output_type": "execute_result"
    }
   ],
   "source": [
    "yy"
   ]
  },
  {
   "cell_type": "code",
   "execution_count": 21,
   "id": "96f0be7f",
   "metadata": {},
   "outputs": [],
   "source": [
    "yy[0]=-2"
   ]
  },
  {
   "cell_type": "code",
   "execution_count": 22,
   "id": "5705e816",
   "metadata": {},
   "outputs": [
    {
     "name": "stdout",
     "output_type": "stream",
     "text": [
      "[[12.5 11.5 10.5  9.5]\n",
      " [ 8.5  7.5  6.5  5.5]\n",
      " [ 4.5  3.5  2.5  1.5]]\n"
     ]
    }
   ],
   "source": [
    "print(y)"
   ]
  },
  {
   "cell_type": "markdown",
   "id": "6cebc509-f964-4398-9f2e-ca7c30fee244",
   "metadata": {},
   "source": [
    "Esta es una notación  potente. Por ejemplo, si en el array anterior queremos seleccionar todos los valores que sobrepasan cierto umbral (por ejemplo, los valores mayores a 7)"
   ]
  },
  {
   "cell_type": "code",
   "execution_count": 23,
   "id": "4d3e0e1a-38c9-4074-a12c-282c3d711d25",
   "metadata": {},
   "outputs": [
    {
     "name": "stdout",
     "output_type": "stream",
     "text": [
      "[[12.5 11.5 10.5  9.5]\n",
      " [ 8.5  7.5  6.5  5.5]\n",
      " [ 4.5  3.5  2.5  1.5]]\n",
      "[[ True  True  True  True]\n",
      " [ True  True False False]\n",
      " [False False False False]]\n"
     ]
    }
   ],
   "source": [
    "print(y)\n",
    "c1 = (y > 7)\n",
    "print(c1)"
   ]
  },
  {
   "cell_type": "markdown",
   "id": "446679e2-92ad-43cb-8ca4-b285e2f25232",
   "metadata": {},
   "source": [
    "El resultado de una comparación es un array donde cada elemento es un variable lógica (`True` o `False`). Podemos utilizarlo para seleccionar los valores que cumplen la condición dada. Por ejemplo"
   ]
  },
  {
   "cell_type": "code",
   "execution_count": 24,
   "id": "338c75b5-4c30-4c60-a66d-df5e6c54337a",
   "metadata": {},
   "outputs": [
    {
     "data": {
      "text/plain": [
       "array([12.5, 11.5, 10.5,  9.5,  8.5,  7.5])"
      ]
     },
     "execution_count": 24,
     "metadata": {},
     "output_type": "execute_result"
    }
   ],
   "source": [
    "y[c1]"
   ]
  },
  {
   "cell_type": "markdown",
   "id": "9fdf416c-1276-4467-babd-200ba1c02fb8",
   "metadata": {},
   "source": [
    "De la misma manera, si queremos todos los valores entre 4 y 7 (incluidos), podemos hacer"
   ]
  },
  {
   "cell_type": "code",
   "execution_count": 25,
   "id": "687e073f-ec1a-4199-a6a1-d4586db870bc",
   "metadata": {},
   "outputs": [
    {
     "data": {
      "text/plain": [
       "array([6.5, 5.5, 4.5])"
      ]
     },
     "execution_count": 25,
     "metadata": {},
     "output_type": "execute_result"
    }
   ],
   "source": [
    "y[ (y >= 4) & (y <= 7) ]"
   ]
  },
  {
   "cell_type": "markdown",
   "id": "ff7fee72-3d26-48d4-81e8-4e08c4b12b84",
   "metadata": {},
   "source": [
    "Como mostramos en este ejemplo, no es necesario crear la matriz de condiciones previamente.\n",
    "\n",
    "**Numpy** tiene funciones especiales para analizar datos de array que sirven para quedarse con los valores que cumplen ciertas condiciones. La función `nonzero` devuelve los índices donde el argumento no se anula:"
   ]
  },
  {
   "cell_type": "code",
   "execution_count": 26,
   "id": "8042d8fc-8741-4688-99a7-c36d51c01535",
   "metadata": {},
   "outputs": [
    {
     "data": {
      "text/plain": [
       "(array([1, 1, 2]), array([2, 3, 0]))"
      ]
     },
     "execution_count": 26,
     "metadata": {},
     "output_type": "execute_result"
    }
   ],
   "source": [
    "c1 = (y>=4) & (y <=7)\n",
    "np.nonzero(c1)"
   ]
  },
  {
   "cell_type": "markdown",
   "id": "af4f8a00-f4ab-4445-9119-547d384cfdb2",
   "metadata": {},
   "source": [
    "Esta es la notación de avanzada de índices, y nos dice que los elementos cuya condición es diferente de cero (`True`) están en las posiciones: `[1,2], [1,3], [2,0]`. "
   ]
  },
  {
   "cell_type": "code",
   "execution_count": 27,
   "id": "5f904ef8-8892-49d9-9576-b03ce28ba8cf",
   "metadata": {},
   "outputs": [
    {
     "name": "stdout",
     "output_type": "stream",
     "text": [
      "indx = [1 1 2]\n",
      "indy = [2 3 0]\n"
     ]
    }
   ],
   "source": [
    "indx, indy = np.nonzero(c1)\n",
    "print('indx =', indx)\n",
    "print('indy =', indy)"
   ]
  },
  {
   "cell_type": "code",
   "execution_count": 28,
   "id": "b5d1a331-33cb-4751-a727-3aa2bcfa636a",
   "metadata": {},
   "outputs": [
    {
     "name": "stdout",
     "output_type": "stream",
     "text": [
      "y[1,2]=6.5\n",
      "y[1,3]=5.5\n",
      "y[2,0]=4.5\n"
     ]
    }
   ],
   "source": [
    "for i,j in zip(indx, indy):\n",
    "  print('y[{},{}]={}'.format(i,j,y[i,j]))"
   ]
  },
  {
   "cell_type": "code",
   "execution_count": 29,
   "id": "4ae6195f-6814-49e1-a80f-b2491a046838",
   "metadata": {},
   "outputs": [
    {
     "name": "stdout",
     "output_type": "stream",
     "text": [
      "(array([1, 1, 2]), array([2, 3, 0]))\n",
      "[[1 2]\n",
      " [1 3]\n",
      " [2 0]]\n",
      "[6.5 5.5 4.5]\n"
     ]
    }
   ],
   "source": [
    "print(np.nonzero(c1))\n",
    "print(np.transpose(np.nonzero(c1)))\n",
    "print(y[np.nonzero(c1)])"
   ]
  },
  {
   "cell_type": "markdown",
   "id": "8a5ade06-7f5d-4410-9f9f-016eefdf24ea",
   "metadata": {},
   "source": [
    "El resultado de `nonzero()` se puede utilizar directamente para elegir los elementos con la notación de índices avanzados, y su transpuesta es un array  donde cada elemento es un índice donde no se anula.\n",
    "\n",
    "Existe la función `np.argwhere()` que es lo mismo que ``np.transpose(np.nonzero(a))``.\n",
    "\n",
    "Otra función que sirve para elegir elementos basados en alguna condición es `np.compress(condition, a, axis=None, out=None)` que acepta un array unidimensional como condición"
   ]
  },
  {
   "cell_type": "code",
   "execution_count": 30,
   "id": "faeeae2e-1296-44ed-910e-f5b904ec66bb",
   "metadata": {},
   "outputs": [
    {
     "name": "stdout",
     "output_type": "stream",
     "text": [
      "[[False False False False]\n",
      " [False False  True  True]\n",
      " [ True False False False]]\n",
      "[False False False False False False  True  True  True False False False]\n",
      "[[12.5 11.5 10.5  9.5]\n",
      " [ 8.5  7.5  6.5  5.5]\n",
      " [ 4.5  3.5  2.5  1.5]]\n",
      "[6.5 5.5 4.5]\n"
     ]
    }
   ],
   "source": [
    "c2 = np.ravel(c1)\n",
    "print(c1)\n",
    "print(c2)\n",
    "print(y)\n",
    "print(np.compress(c2,y))"
   ]
  },
  {
   "cell_type": "code",
   "execution_count": 31,
   "id": "6b9a7f63",
   "metadata": {},
   "outputs": [],
   "source": [
    "c3 = np.array(c2, dtype='int32')"
   ]
  },
  {
   "cell_type": "code",
   "execution_count": 32,
   "id": "302e4d0d",
   "metadata": {},
   "outputs": [
    {
     "data": {
      "text/plain": [
       "array([0, 0, 0, 0, 0, 0, 1, 1, 1, 0, 0, 0], dtype=int32)"
      ]
     },
     "execution_count": 32,
     "metadata": {},
     "output_type": "execute_result"
    }
   ],
   "source": [
    "c3"
   ]
  },
  {
   "cell_type": "code",
   "execution_count": 33,
   "id": "59a06126",
   "metadata": {},
   "outputs": [
    {
     "data": {
      "text/plain": [
       "array([6.5, 5.5, 4.5])"
      ]
     },
     "execution_count": 33,
     "metadata": {},
     "output_type": "execute_result"
    }
   ],
   "source": [
    "np.compress(c3 != 0,y)"
   ]
  },
  {
   "cell_type": "markdown",
   "id": "7e17820d-e000-4f21-9112-6b9be639706c",
   "metadata": {},
   "source": [
    "La función `extract` es equivalente a convertir los dos vectores (condición y datos) a una dimensión (`ravel`) y luego aplicar `compress`"
   ]
  },
  {
   "cell_type": "code",
   "execution_count": 34,
   "id": "d5152778-42cc-4562-8815-48771ee255c5",
   "metadata": {},
   "outputs": [
    {
     "data": {
      "text/plain": [
       "array([6.5, 5.5, 4.5])"
      ]
     },
     "execution_count": 34,
     "metadata": {},
     "output_type": "execute_result"
    }
   ],
   "source": [
    "np.extract(c1, y)"
   ]
  },
  {
   "cell_type": "code",
   "execution_count": 35,
   "id": "02579427-b609-4f47-b006-ff7259f08959",
   "metadata": {},
   "outputs": [
    {
     "name": "stdout",
     "output_type": "stream",
     "text": [
      "[6.5 5.5 4.5]\n"
     ]
    }
   ],
   "source": [
    "print(y[c1])"
   ]
  },
  {
   "cell_type": "markdown",
   "id": "5925e818-60d3-4daa-ae37-5f0c2be6ac87",
   "metadata": {},
   "source": [
    "### Función where\n",
    "\n",
    "La función `where` permite operar condicionalmente sobre algunos elementos.  Por ejemplo, si queremos convolucionar el vector `y` con un escalón localizado en la región `[2,8]`:"
   ]
  },
  {
   "cell_type": "code",
   "execution_count": 36,
   "id": "f68de1e7-3fd3-4c26-a846-bc3b4faf6d9f",
   "metadata": {},
   "outputs": [
    {
     "data": {
      "text/plain": [
       "array([[12.5, 11.5, 10.5,  9.5],\n",
       "       [ 8.5,  7.5,  6.5,  5.5],\n",
       "       [ 4.5,  3.5,  2.5,  1.5]])"
      ]
     },
     "execution_count": 36,
     "metadata": {},
     "output_type": "execute_result"
    }
   ],
   "source": [
    "y"
   ]
  },
  {
   "cell_type": "code",
   "execution_count": 37,
   "id": "af149cbb-4692-4db7-90a8-0edbfecf8578",
   "metadata": {},
   "outputs": [],
   "source": [
    "yy = np.where((y > 2) &  (y < 8) , y, 0)"
   ]
  },
  {
   "cell_type": "code",
   "execution_count": 38,
   "id": "5c164c03",
   "metadata": {},
   "outputs": [
    {
     "data": {
      "text/plain": [
       "array([[0. , 0. , 0. , 0. ],\n",
       "       [0. , 7.5, 6.5, 5.5],\n",
       "       [4.5, 3.5, 2.5, 0. ]])"
      ]
     },
     "execution_count": 38,
     "metadata": {},
     "output_type": "execute_result"
    }
   ],
   "source": [
    "yy"
   ]
  },
  {
   "cell_type": "markdown",
   "id": "2dbd47f7-211a-4ecc-924b-563307b1f347",
   "metadata": {},
   "source": [
    "Por ejemplo, para implementar la función de Heaviside"
   ]
  },
  {
   "cell_type": "code",
   "execution_count": 39,
   "id": "501656b6-931f-4cb2-a3b2-6cd04f4ecf37",
   "metadata": {},
   "outputs": [
    {
     "data": {
      "text/plain": [
       "array([0, 0, 0, 0, 0, 1, 1, 1, 1, 1, 1])"
      ]
     },
     "execution_count": 39,
     "metadata": {},
     "output_type": "execute_result"
    }
   ],
   "source": [
    "import matplotlib.pyplot as plt\n",
    "\n",
    "def H(x):\n",
    "  return np.where(x < 0, 0, 1)\n",
    "x = np.linspace(-1,1,11)\n",
    "H(x)"
   ]
  },
  {
   "cell_type": "code",
   "execution_count": 40,
   "id": "85ff7315-3a36-4969-8ea9-26982bc94398",
   "metadata": {},
   "outputs": [
    {
     "data": {
      "text/plain": [
       "[<matplotlib.lines.Line2D at 0x7f8ce41a7390>]"
      ]
     },
     "execution_count": 40,
     "metadata": {},
     "output_type": "execute_result"
    },
    {
     "data": {
      "image/png": "[encoded data removed]",
      "text/plain": [
       "<Figure size 640x480 with 1 Axes>"
      ]
     },
     "metadata": {},
     "output_type": "display_data"
    }
   ],
   "source": [
    "plt.plot(x,H(x), 'o')"
   ]
  },
  {
   "cell_type": "markdown",
   "id": "eef2db5f-422e-45ad-89eb-274a2fa3cff8",
   "metadata": {},
   "source": [
    "## Extensión de las dimensiones (*Broadcasting*)\n",
    "\n",
    "Vimos que en **Numpy** las operaciones (y comparaciones) se realizan \"elemento a elemento\". Sin embargo usamos expresiones del tipo `y > 4` donde comparamos un `ndarray` con un escalar. En este caso, lo que hace **Numpy** es extender automáticamente el escalar a un array de las mismas dimensiones que `y`\n",
    "\n",
    "```python\n",
    "  4 -> 4*np.ones(y.shape)\n",
    "  ```\n",
    "\n",
    "Hagamos esto explícitamente"
   ]
  },
  {
   "cell_type": "code",
   "execution_count": 41,
   "id": "39151ad2-e89c-4f2f-b2ea-8ae7465b4e64",
   "metadata": {},
   "outputs": [
    {
     "data": {
      "text/plain": [
       "array([[12.5, 11.5, 10.5,  9.5],\n",
       "       [ 8.5,  7.5,  6.5,  5.5],\n",
       "       [ 4.5,  3.5,  2.5,  1.5]])"
      ]
     },
     "execution_count": 41,
     "metadata": {},
     "output_type": "execute_result"
    }
   ],
   "source": [
    "y"
   ]
  },
  {
   "cell_type": "code",
   "execution_count": 42,
   "id": "bbaefdc4-e1ec-48dc-946f-e91b47c6bd13",
   "metadata": {},
   "outputs": [
    {
     "data": {
      "text/plain": [
       "True"
      ]
     },
     "execution_count": 42,
     "metadata": {},
     "output_type": "execute_result"
    }
   ],
   "source": [
    "y4 = 4*np.ones(y.shape)\n",
    "np.all((y > y4) == (y > 4)) # np.all devuelve True si **TODOS** los elementos son iguales"
   ]
  },
  {
   "cell_type": "markdown",
   "id": "7b53dee4-6e75-42bd-94f7-2a1efc75cc8b",
   "metadata": {},
   "source": [
    "De la misma manera, hay veces que podemos operar sobre arrays de distintas dimensiones"
   ]
  },
  {
   "cell_type": "code",
   "execution_count": 43,
   "id": "b01861ab-187b-4351-a1e9-8e7a3b72893a",
   "metadata": {},
   "outputs": [
    {
     "data": {
      "text/plain": [
       "array([[4., 4., 4., 4.],\n",
       "       [4., 4., 4., 4.],\n",
       "       [4., 4., 4., 4.]])"
      ]
     },
     "execution_count": 43,
     "metadata": {},
     "output_type": "execute_result"
    }
   ],
   "source": [
    "y4"
   ]
  },
  {
   "cell_type": "code",
   "execution_count": 44,
   "id": "4c87af43-f88b-468b-a2d1-d6b86c7a4aec",
   "metadata": {},
   "outputs": [
    {
     "data": {
      "text/plain": [
       "array([[16.5, 15.5, 14.5, 13.5],\n",
       "       [12.5, 11.5, 10.5,  9.5],\n",
       "       [ 8.5,  7.5,  6.5,  5.5]])"
      ]
     },
     "execution_count": 44,
     "metadata": {},
     "output_type": "execute_result"
    }
   ],
   "source": [
    "y + y4"
   ]
  },
  {
   "cell_type": "code",
   "execution_count": 45,
   "id": "1c06e444-41b2-49c3-8b0b-ea55c47d15ff",
   "metadata": {},
   "outputs": [
    {
     "data": {
      "text/plain": [
       "array([[16.5, 15.5, 14.5, 13.5],\n",
       "       [12.5, 11.5, 10.5,  9.5],\n",
       "       [ 8.5,  7.5,  6.5,  5.5]])"
      ]
     },
     "execution_count": 45,
     "metadata": {},
     "output_type": "execute_result"
    }
   ],
   "source": [
    "y + 4"
   ]
  },
  {
   "cell_type": "markdown",
   "id": "0b7275b8-342d-463d-a1dd-b5bd6dc5ee31",
   "metadata": {},
   "source": [
    "Como vemos eso es igual a `y + 4*np.ones(y.shape)`. En general, si Numpy puede transformar los arreglos para que todos tengan el mismo tamaño, lo hará en forma automática. \n",
    "\n",
    "Las reglas de la extensión automática son:\n",
    "\n",
    "1. La extensión se realiza por dimensión. Dos dimensiones son compatibles si son iguales o una de ellas es 1.\n",
    "2. Si los dos `arrays` difieren en el número de dimensiones, el que tiene menor dimensión se llena con `1` (unos) en el primer eje.\n",
    "\n",
    "Veamos algunos ejemplos:\n"
   ]
  },
  {
   "cell_type": "code",
   "execution_count": 46,
   "id": "2f72655d-409b-4d7a-b068-8f8a43f44190",
   "metadata": {},
   "outputs": [],
   "source": [
    "x = np.arange(0,40,10)\n",
    "xx = x.reshape(4,1)\n",
    "y = np.arange(3)"
   ]
  },
  {
   "cell_type": "code",
   "execution_count": 47,
   "id": "4b527ea2-99ab-4316-81df-5d3b596665f9",
   "metadata": {},
   "outputs": [
    {
     "name": "stdout",
     "output_type": "stream",
     "text": [
      "(4,) (4, 1) (3,)\n"
     ]
    }
   ],
   "source": [
    "print(x.shape, xx.shape, y.shape)"
   ]
  },
  {
   "cell_type": "code",
   "execution_count": 48,
   "id": "ab5ece93-084f-4075-ab11-843523dcbf3c",
   "metadata": {},
   "outputs": [
    {
     "name": "stdout",
     "output_type": "stream",
     "text": [
      "[[ 0]\n",
      " [10]\n",
      " [20]\n",
      " [30]]\n"
     ]
    }
   ],
   "source": [
    "print(xx)"
   ]
  },
  {
   "cell_type": "code",
   "execution_count": 49,
   "id": "df91a327-27b5-4893-9d82-923ec7207037",
   "metadata": {},
   "outputs": [
    {
     "name": "stdout",
     "output_type": "stream",
     "text": [
      "[0 1 2]\n"
     ]
    }
   ],
   "source": [
    "print(y)"
   ]
  },
  {
   "cell_type": "code",
   "execution_count": 50,
   "id": "0d4ed0e1-32bb-49a1-a93a-77c7a261e4d2",
   "metadata": {},
   "outputs": [
    {
     "name": "stdout",
     "output_type": "stream",
     "text": [
      "[[ 0  1  2]\n",
      " [10 11 12]\n",
      " [20 21 22]\n",
      " [30 31 32]]\n"
     ]
    }
   ],
   "source": [
    "print(xx+y)"
   ]
  },
  {
   "cell_type": "markdown",
   "id": "37c2aff0-9b3c-4357-ad62-58461e4539d5",
   "metadata": {},
   "source": [
    "Lo que está pasando es algo así como:\n",
    "\n",
    "  * xx -> xxx\n",
    "  * y ->  yyy\n",
    "  * xx + y -> xxx + yyy\n",
    "\n",
    "![](figuras/numpy_broadcasting.png)\n",
    "\n",
    "donde `xxx`, `yyy` son versiones extendidas de los vectores originales:"
   ]
  },
  {
   "cell_type": "code",
   "execution_count": 51,
   "id": "45eae2b2-0c65-4abc-9f2f-36e79ac11b16",
   "metadata": {},
   "outputs": [],
   "source": [
    "xxx = np.tile(xx, (1, y.size))\n",
    "yyy = np.tile(y, (xx.size, 1))"
   ]
  },
  {
   "cell_type": "code",
   "execution_count": 52,
   "id": "9c68e057-28ca-431a-8986-4669960b9cb9",
   "metadata": {},
   "outputs": [
    {
     "name": "stdout",
     "output_type": "stream",
     "text": [
      "[[ 0  0  0]\n",
      " [10 10 10]\n",
      " [20 20 20]\n",
      " [30 30 30]]\n"
     ]
    }
   ],
   "source": [
    "print(xxx)"
   ]
  },
  {
   "cell_type": "code",
   "execution_count": 53,
   "id": "c5c6264d-4544-453b-8d33-b283af7841aa",
   "metadata": {},
   "outputs": [
    {
     "name": "stdout",
     "output_type": "stream",
     "text": [
      "[[0 1 2]\n",
      " [0 1 2]\n",
      " [0 1 2]\n",
      " [0 1 2]]\n"
     ]
    }
   ],
   "source": [
    "print(yyy)"
   ]
  },
  {
   "cell_type": "code",
   "execution_count": 54,
   "id": "29ab2ac8-4c80-4f84-9ef0-b22434d93ef5",
   "metadata": {},
   "outputs": [
    {
     "name": "stdout",
     "output_type": "stream",
     "text": [
      "[[ 0  1  2]\n",
      " [10 11 12]\n",
      " [20 21 22]\n",
      " [30 31 32]]\n"
     ]
    }
   ],
   "source": [
    "print(xxx + yyy)"
   ]
  },
  {
   "cell_type": "markdown",
   "id": "e96648ae-2025-4e39-b189-09744ee64cb9",
   "metadata": {},
   "source": [
    "## Unir (o concatenar) *arrays*\n",
    "\n",
    "Si queremos unir dos *arrays* para formar un tercer *array* **Numpy** tiene una función llamada `concatenate`, que recibe una secuencia de arrays y devuelve su unión a lo largo de un eje.\n",
    "\n",
    "### Apilamiento vertical"
   ]
  },
  {
   "cell_type": "code",
   "execution_count": 55,
   "id": "4311b85b-c657-457d-8b05-a1ed354fe54e",
   "metadata": {},
   "outputs": [
    {
     "name": "stdout",
     "output_type": "stream",
     "text": [
      "a=\n",
      " [[1 2]\n",
      " [3 4]]\n",
      "b=\n",
      " [[ 5  6]\n",
      " [ 7  8]\n",
      " [ 9 10]]\n"
     ]
    }
   ],
   "source": [
    "a = np.array([[1, 2], [3, 4]])\n",
    "b = np.array([[5, 6], [7, 8], [9,10]])\n",
    "print('a=\\n',a)\n",
    "print('b=\\n',b)"
   ]
  },
  {
   "cell_type": "code",
   "execution_count": 56,
   "id": "6677a532-1ace-4981-9be9-addcd44cdff8",
   "metadata": {},
   "outputs": [
    {
     "data": {
      "text/plain": [
       "array([[ 1,  2],\n",
       "       [ 3,  4],\n",
       "       [ 5,  6],\n",
       "       [ 7,  8],\n",
       "       [ 9, 10]])"
      ]
     },
     "execution_count": 56,
     "metadata": {},
     "output_type": "execute_result"
    }
   ],
   "source": [
    "# El eje 0 es el primero, y corresponde a apilamiento vertical\n",
    "np.concatenate((a, b), axis=0)"
   ]
  },
  {
   "cell_type": "code",
   "execution_count": 57,
   "id": "b039ba58-786c-4c09-bafc-58d51aab95be",
   "metadata": {},
   "outputs": [
    {
     "data": {
      "text/plain": [
       "array([[ 1,  2],\n",
       "       [ 3,  4],\n",
       "       [ 5,  6],\n",
       "       [ 7,  8],\n",
       "       [ 9, 10]])"
      ]
     },
     "execution_count": 57,
     "metadata": {},
     "output_type": "execute_result"
    }
   ],
   "source": [
    "np.concatenate((a, b))          # axis=0 es el default"
   ]
  },
  {
   "cell_type": "code",
   "execution_count": 58,
   "id": "0367d84d-99c6-45bb-8cbe-44e06fec91dd",
   "metadata": {},
   "outputs": [
    {
     "data": {
      "text/plain": [
       "array([[ 1,  2],\n",
       "       [ 3,  4],\n",
       "       [ 5,  6],\n",
       "       [ 7,  8],\n",
       "       [ 9, 10]])"
      ]
     },
     "execution_count": 58,
     "metadata": {},
     "output_type": "execute_result"
    }
   ],
   "source": [
    "np.vstack((a, b))    # Une siempre verticalmente (primer eje)"
   ]
  },
  {
   "cell_type": "code",
   "execution_count": 63,
   "id": "a9cb7254",
   "metadata": {},
   "outputs": [
    {
     "data": {
      "text/plain": [
       "array([[[1, 2],\n",
       "        [3, 4]],\n",
       "\n",
       "       [[1, 2],\n",
       "        [3, 4]]])"
      ]
     },
     "execution_count": 63,
     "metadata": {},
     "output_type": "execute_result"
    }
   ],
   "source": [
    "np.stack((a,a))"
   ]
  },
  {
   "cell_type": "code",
   "execution_count": 64,
   "id": "edb02e65-65f7-42c9-bf4a-1510c4bad9bd",
   "metadata": {},
   "outputs": [
    {
     "data": {
      "text/plain": [
       "(2, 2, 2)"
      ]
     },
     "execution_count": 64,
     "metadata": {},
     "output_type": "execute_result"
    }
   ],
   "source": [
    "(np.stack((a,a))).shape"
   ]
  },
  {
   "cell_type": "code",
   "execution_count": 66,
   "id": "e1f99500-c5f8-4a91-a007-37ae26840ca0",
   "metadata": {},
   "outputs": [
    {
     "data": {
      "text/plain": [
       "array([[1, 2],\n",
       "       [3, 4],\n",
       "       [1, 2],\n",
       "       [3, 4]])"
      ]
     },
     "execution_count": 66,
     "metadata": {},
     "output_type": "execute_result"
    }
   ],
   "source": [
    "np.vstack((a,a))"
   ]
  },
  {
   "cell_type": "code",
   "execution_count": 67,
   "id": "026e8ac6-ac22-4ce7-9841-f451ee84c14d",
   "metadata": {},
   "outputs": [
    {
     "data": {
      "text/plain": [
       "(4, 2)"
      ]
     },
     "execution_count": 67,
     "metadata": {},
     "output_type": "execute_result"
    }
   ],
   "source": [
    "(np.vstack((a,a))).shape"
   ]
  },
  {
   "cell_type": "markdown",
   "id": "6238a6bb-19ae-4d55-a600-d88eb458605e",
   "metadata": {},
   "source": [
    "Veamos cómo utilizar esto cuando tenemos más dimensiones. "
   ]
  },
  {
   "cell_type": "code",
   "execution_count": 68,
   "id": "2637fca8-9460-4ad8-94c8-5c271ba93168",
   "metadata": {},
   "outputs": [
    {
     "name": "stdout",
     "output_type": "stream",
     "text": [
      "c: shape=(2, 2, 2)\n",
      " [[[ 1  2]\n",
      "  [ 3  4]]\n",
      "\n",
      " [[-1 -2]\n",
      "  [-3 -4]]]\n",
      "\n",
      "d: shape=(3, 2, 2)\n",
      " [[[  5   6]\n",
      "  [  7   8]]\n",
      "\n",
      " [[  9  10]\n",
      "  [ -5  -6]]\n",
      "\n",
      " [[ -7  -8]\n",
      "  [ -9 -10]]]\n"
     ]
    }
   ],
   "source": [
    "c = np.array([[[1, 2], [3, 4]],[[-1,-2],[-3,-4]]])\n",
    "d = np.array([[[5, 6], [7, 8]], [[9,10], [-5, -6]], [[-7, -8], [-9,-10]]])\n",
    "print('c: shape={}\\n'.format(c.shape),c)\n",
    "print('\\nd: shape={}\\n'.format(d.shape),d)\n"
   ]
  },
  {
   "cell_type": "markdown",
   "id": "937f6365-d9db-48e8-b7b9-dbeb52b19b2e",
   "metadata": {},
   "source": [
    "Como tienen todas las dimensiones iguales, excepto la primera, podemos concatenarlos a lo largo del eje 0 (verticalmente)"
   ]
  },
  {
   "cell_type": "code",
   "execution_count": 69,
   "id": "3604db49-f470-4333-b3de-0d0b71a1f373",
   "metadata": {},
   "outputs": [
    {
     "data": {
      "text/plain": [
       "array([[[  1,   2],\n",
       "        [  3,   4]],\n",
       "\n",
       "       [[ -1,  -2],\n",
       "        [ -3,  -4]],\n",
       "\n",
       "       [[  5,   6],\n",
       "        [  7,   8]],\n",
       "\n",
       "       [[  9,  10],\n",
       "        [ -5,  -6]],\n",
       "\n",
       "       [[ -7,  -8],\n",
       "        [ -9, -10]]])"
      ]
     },
     "execution_count": 69,
     "metadata": {},
     "output_type": "execute_result"
    }
   ],
   "source": [
    "np.vstack((c,d))"
   ]
  },
  {
   "cell_type": "code",
   "execution_count": 70,
   "id": "ebfa8419-c167-49db-b73d-46ff3b24f814",
   "metadata": {},
   "outputs": [],
   "source": [
    "e=np.concatenate((c,d),axis=0)"
   ]
  },
  {
   "cell_type": "code",
   "execution_count": 71,
   "id": "cc52abd0-9ad3-4aba-a556-7be33fef4309",
   "metadata": {},
   "outputs": [
    {
     "name": "stdout",
     "output_type": "stream",
     "text": [
      "(5, 2, 2)\n",
      "[[[  1   2]\n",
      "  [  3   4]]\n",
      "\n",
      " [[ -1  -2]\n",
      "  [ -3  -4]]\n",
      "\n",
      " [[  5   6]\n",
      "  [  7   8]]\n",
      "\n",
      " [[  9  10]\n",
      "  [ -5  -6]]\n",
      "\n",
      " [[ -7  -8]\n",
      "  [ -9 -10]]]\n"
     ]
    }
   ],
   "source": [
    "print(e.shape)\n",
    "print(e)"
   ]
  },
  {
   "cell_type": "markdown",
   "id": "4a610be3-267b-4d5b-8fbd-4eb4e56e59ed",
   "metadata": {},
   "source": [
    "### Apilamiento horizontal\n",
    "\n",
    "Si tratamos de concatenar `a`y `b` a lo largo de otro eje vamos a recibir un error porque la forma de los `arrays` no es compatible."
   ]
  },
  {
   "cell_type": "code",
   "execution_count": 72,
   "id": "e203c0f6-05d9-4a10-b89a-c9df193ed80b",
   "metadata": {},
   "outputs": [
    {
     "data": {
      "text/plain": [
       "array([[ 5,  7,  9],\n",
       "       [ 6,  8, 10]])"
      ]
     },
     "execution_count": 72,
     "metadata": {},
     "output_type": "execute_result"
    }
   ],
   "source": [
    "b.T"
   ]
  },
  {
   "cell_type": "code",
   "execution_count": 73,
   "id": "4f455667-05e8-4dc9-bcab-206bced3dff6",
   "metadata": {},
   "outputs": [
    {
     "name": "stdout",
     "output_type": "stream",
     "text": [
      "(2, 2) (3, 2) (2, 3)\n"
     ]
    }
   ],
   "source": [
    "print(a.shape, b.shape, b.T.shape)"
   ]
  },
  {
   "cell_type": "code",
   "execution_count": 74,
   "id": "02b04cc5-7c1a-4c0c-abb4-a3dc2f579fd8",
   "metadata": {},
   "outputs": [
    {
     "data": {
      "text/plain": [
       "array([[ 1,  2,  5,  7,  9],\n",
       "       [ 3,  4,  6,  8, 10]])"
      ]
     },
     "execution_count": 74,
     "metadata": {},
     "output_type": "execute_result"
    }
   ],
   "source": [
    "np.concatenate((a, b.T), axis=1)"
   ]
  },
  {
   "cell_type": "code",
   "execution_count": 75,
   "id": "cdb9969b-8aab-4089-b135-6a64bd3277c0",
   "metadata": {},
   "outputs": [
    {
     "data": {
      "text/plain": [
       "array([[ 1,  2,  5,  7,  9],\n",
       "       [ 3,  4,  6,  8, 10]])"
      ]
     },
     "execution_count": 75,
     "metadata": {},
     "output_type": "execute_result"
    }
   ],
   "source": [
    "np.hstack((a,b.T))              # Como vstack pero horizontalmente"
   ]
  },
  {
   "cell_type": "markdown",
   "id": "ef048781-8f2f-4ae7-bc77-3cefdaab30ec",
   "metadata": {},
   "source": [
    "![](figuras/ilust_hstack.png) "
   ]
  },
  {
   "cell_type": "markdown",
   "id": "7c0c4d14-ea41-4c7f-ae6e-93adb6e84f2a",
   "metadata": {},
   "source": [
    "## Generación de números aleatorios\n",
    "\n",
    "**Python** tiene un módulo para generar números al azar, sin embargo vamos a utilizar el módulo de **Numpy** llamado `random`. Este módulo tiene funciones para generar números al azar siguiendo varias distribuciones más comunes. Veamos que hay en el módulo"
   ]
  },
  {
   "cell_type": "code",
   "execution_count": 76,
   "id": "968ba052-a990-4487-ad3d-cdd42e02ce35",
   "metadata": {},
   "outputs": [
    {
     "data": {
      "text/plain": [
       "['BitGenerator',\n",
       " 'Generator',\n",
       " 'MT19937',\n",
       " 'PCG64',\n",
       " 'PCG64DXSM',\n",
       " 'Philox',\n",
       " 'RandomState',\n",
       " 'SFC64',\n",
       " 'SeedSequence',\n",
       " '__RandomState_ctor',\n",
       " '__all__',\n",
       " '__builtins__',\n",
       " '__cached__',\n",
       " '__doc__',\n",
       " '__file__',\n",
       " '__loader__',\n",
       " '__name__',\n",
       " '__package__',\n",
       " '__path__',\n",
       " '__spec__',\n",
       " '_bounded_integers',\n",
       " '_common',\n",
       " '_generator',\n",
       " '_mt19937',\n",
       " '_pcg64',\n",
       " '_philox',\n",
       " '_pickle',\n",
       " '_sfc64',\n",
       " 'beta',\n",
       " 'binomial',\n",
       " 'bit_generator',\n",
       " 'bytes',\n",
       " 'chisquare',\n",
       " 'choice',\n",
       " 'default_rng',\n",
       " 'dirichlet',\n",
       " 'exponential',\n",
       " 'f',\n",
       " 'gamma',\n",
       " 'geometric',\n",
       " 'get_bit_generator',\n",
       " 'get_state',\n",
       " 'gumbel',\n",
       " 'hypergeometric',\n",
       " 'laplace',\n",
       " 'logistic',\n",
       " 'lognormal',\n",
       " 'logseries',\n",
       " 'mtrand',\n",
       " 'multinomial',\n",
       " 'multivariate_normal',\n",
       " 'negative_binomial',\n",
       " 'noncentral_chisquare',\n",
       " 'noncentral_f',\n",
       " 'normal',\n",
       " 'pareto',\n",
       " 'permutation',\n",
       " 'poisson',\n",
       " 'power',\n",
       " 'rand',\n",
       " 'randint',\n",
       " 'randn',\n",
       " 'random',\n",
       " 'random_integers',\n",
       " 'random_sample',\n",
       " 'ranf',\n",
       " 'rayleigh',\n",
       " 'sample',\n",
       " 'seed',\n",
       " 'set_bit_generator',\n",
       " 'set_state',\n",
       " 'shuffle',\n",
       " 'standard_cauchy',\n",
       " 'standard_exponential',\n",
       " 'standard_gamma',\n",
       " 'standard_normal',\n",
       " 'standard_t',\n",
       " 'test',\n",
       " 'triangular',\n",
       " 'uniform',\n",
       " 'vonmises',\n",
       " 'wald',\n",
       " 'weibull',\n",
       " 'zipf']"
      ]
     },
     "execution_count": 76,
     "metadata": {},
     "output_type": "execute_result"
    }
   ],
   "source": [
    "dir(np.random)"
   ]
  },
  {
   "cell_type": "markdown",
   "id": "0dea3a87-3e26-4673-b668-5e81064fc373",
   "metadata": {},
   "source": [
    "### Distribución uniforme\n",
    "\n",
    "Si elegimos números al azar con una distribución de probabilidad uniforme, la probabilidad de que el número elegido caiga en un intervalo dado es simplemente proporcional al tamaño del intervalo. "
   ]
  },
  {
   "cell_type": "code",
   "execution_count": 77,
   "id": "a571f8b9-cb08-4a31-92ef-2e0f7d96393f",
   "metadata": {},
   "outputs": [
    {
     "name": "stdout",
     "output_type": "stream",
     "text": [
      "[[0.77353213 0.05443592]\n",
      " [0.63091082 0.87762008]\n",
      " [0.50968171 0.52013453]\n",
      " [0.68691932 0.21860516]]\n"
     ]
    }
   ],
   "source": [
    "x= np.random.random((4,2))\n",
    "y = np.random.random(8)\n",
    "print(x)"
   ]
  },
  {
   "cell_type": "code",
   "execution_count": 78,
   "id": "bf4e0fbf-1d1c-42b5-9780-1ca60be1e622",
   "metadata": {},
   "outputs": [
    {
     "data": {
      "text/plain": [
       "array([0.98834011, 0.76279841, 0.43694902, 0.76506827, 0.77258936,\n",
       "       0.79519259, 0.66414221, 0.05143199])"
      ]
     },
     "execution_count": 78,
     "metadata": {},
     "output_type": "execute_result"
    }
   ],
   "source": [
    "y"
   ]
  },
  {
   "cell_type": "code",
   "execution_count": 79,
   "id": "b886ab88-66c4-4a64-b644-49c8938c5f32",
   "metadata": {},
   "outputs": [
    {
     "name": "stdout",
     "output_type": "stream",
     "text": [
      "Help on built-in function random:\n",
      "\n",
      "random(...) method of numpy.random.mtrand.RandomState instance\n",
      "    random(size=None)\n",
      "\n",
      "    Return random floats in the half-open interval [0.0, 1.0). Alias for\n",
      "    `random_sample` to ease forward-porting to the new random API.\n",
      "\n"
     ]
    }
   ],
   "source": [
    "help(np.random.random)"
   ]
  },
  {
   "cell_type": "markdown",
   "id": "dc2ca92b-cc49-4f2e-be3c-bea5d037a749",
   "metadata": {},
   "source": [
    "Como se infiere de este resultado, la función `random` (o `random_sample`) nos da una distribución de puntos aleatorios entre 0 y 1, uniformemente distribuidos.\n"
   ]
  },
  {
   "cell_type": "code",
   "execution_count": 80,
   "id": "2194a8fb-591f-4993-9bbc-ab748d7d2411",
   "metadata": {},
   "outputs": [
    {
     "data": {
      "image/png": "[encoded data removed]",
      "text/plain": [
       "<Figure size 640x480 with 1 Axes>"
      ]
     },
     "metadata": {},
     "output_type": "display_data"
    }
   ],
   "source": [
    "plt.plot(np.random.random(4000), '.')\n",
    "plt.show()"
   ]
  },
  {
   "cell_type": "code",
   "execution_count": 81,
   "id": "53c263d4-7dd1-4691-92bb-5b6b3ea88884",
   "metadata": {},
   "outputs": [
    {
     "name": "stdout",
     "output_type": "stream",
     "text": [
      "Help on built-in function uniform:\n",
      "\n",
      "uniform(...) method of numpy.random.mtrand.RandomState instance\n",
      "    uniform(low=0.0, high=1.0, size=None)\n",
      "\n",
      "    Draw samples from a uniform distribution.\n",
      "\n",
      "    Samples are uniformly distributed over the half-open interval\n",
      "    ``[low, high)`` (includes low, but excludes high).  In other words,\n",
      "    any value within the given interval is equally likely to be drawn\n",
      "    by `uniform`.\n",
      "\n",
      "    .. note::\n",
      "        New code should use the `~numpy.random.Generator.uniform`\n",
      "        method of a `~numpy.random.Generator` instance instead;\n",
      "        please see the :ref:`random-quick-start`.\n",
      "\n",
      "    Parameters\n",
      "    ----------\n",
      "    low : float or array_like of floats, optional\n",
      "        Lower boundary of the output interval.  All values generated will be\n",
      "        greater than or equal to low.  The default value is 0.\n",
      "    high : float or array_like of floats\n",
      "        Upper boundary of the output interval.  All values generated will be\n",
      "        less than or equal to high.  The high limit may be included in the\n",
      "        returned array of floats due to floating-point rounding in the\n",
      "        equation ``low + (high-low) * random_sample()``.  The default value\n",
      "        is 1.0.\n",
      "    size : int or tuple of ints, optional\n",
      "        Output shape.  If the given shape is, e.g., ``(m, n, k)``, then\n",
      "        ``m * n * k`` samples are drawn.  If size is ``None`` (default),\n",
      "        a single value is returned if ``low`` and ``high`` are both scalars.\n",
      "        Otherwise, ``np.broadcast(low, high).size`` samples are drawn.\n",
      "\n",
      "    Returns\n",
      "    -------\n",
      "    out : ndarray or scalar\n",
      "        Drawn samples from the parameterized uniform distribution.\n",
      "\n",
      "    See Also\n",
      "    --------\n",
      "    randint : Discrete uniform distribution, yielding integers.\n",
      "    random_integers : Discrete uniform distribution over the closed\n",
      "                      interval ``[low, high]``.\n",
      "    random_sample : Floats uniformly distributed over ``[0, 1)``.\n",
      "    random : Alias for `random_sample`.\n",
      "    rand : Convenience function that accepts dimensions as input, e.g.,\n",
      "           ``rand(2,2)`` would generate a 2-by-2 array of floats,\n",
      "           uniformly distributed over ``[0, 1)``.\n",
      "    random.Generator.uniform: which should be used for new code.\n",
      "\n",
      "    Notes\n",
      "    -----\n",
      "    The probability density function of the uniform distribution is\n",
      "\n",
      "    .. math:: p(x) = \\frac{1}{b - a}\n",
      "\n",
      "    anywhere within the interval ``[a, b)``, and zero elsewhere.\n",
      "\n",
      "    When ``high`` == ``low``, values of ``low`` will be returned.\n",
      "    If ``high`` < ``low``, the results are officially undefined\n",
      "    and may eventually raise an error, i.e. do not rely on this\n",
      "    function to behave when passed arguments satisfying that\n",
      "    inequality condition. The ``high`` limit may be included in the\n",
      "    returned array of floats due to floating-point rounding in the\n",
      "    equation ``low + (high-low) * random_sample()``. For example:\n",
      "\n",
      "    >>> x = np.float32(5*0.99999999)\n",
      "    >>> x\n",
      "    5.0\n",
      "\n",
      "\n",
      "    Examples\n",
      "    --------\n",
      "    Draw samples from the distribution:\n",
      "\n",
      "    >>> s = np.random.uniform(-1,0,1000)\n",
      "\n",
      "    All values are within the given interval:\n",
      "\n",
      "    >>> np.all(s >= -1)\n",
      "    True\n",
      "    >>> np.all(s < 0)\n",
      "    True\n",
      "\n",
      "    Display the histogram of the samples, along with the\n",
      "    probability density function:\n",
      "\n",
      "    >>> import matplotlib.pyplot as plt\n",
      "    >>> count, bins, ignored = plt.hist(s, 15, density=True)\n",
      "    >>> plt.plot(bins, np.ones_like(bins), linewidth=2, color='r')\n",
      "    >>> plt.show()\n",
      "\n"
     ]
    }
   ],
   "source": [
    "help(np.random.uniform)"
   ]
  },
  {
   "cell_type": "markdown",
   "id": "05c2635b-72df-4114-9afd-6c9779cc4300",
   "metadata": {},
   "source": [
    "### Distribución normal (Gaussiana)\n",
    "\n",
    "Una distribución de probabilidad normal tiene la forma Gaussiana\n",
    "\n",
    "$$p(x) = \\frac{1}{\\sqrt{ 2 \\pi \\sigma^2 }} e^{ - \\frac{ (x - \\mu)^2 } {2 \\sigma^2} }.$$ En **Numpy** la función que nos da elementos con esa distribución de probabilidad es: \n",
    "\n",
    "`np.random.normal(loc=0.0, scale=1.0, size=None)`\n",
    "\n",
    "donde:\n",
    " - `loc` es la posición del máximo (valor medio)\n",
    " - `scale` es el ancho de la distribución\n",
    " - `size` es el número de puntos a calcular (o forma)\n",
    " \n"
   ]
  },
  {
   "cell_type": "code",
   "execution_count": 82,
   "id": "4ad7e097-6a2b-4cda-826b-31c1fbd95f9f",
   "metadata": {},
   "outputs": [],
   "source": [
    "z = np.random.normal(size=4000)"
   ]
  },
  {
   "cell_type": "code",
   "execution_count": 83,
   "id": "f953004f-0c9a-4fa9-aaf7-e3f9262f6b68",
   "metadata": {},
   "outputs": [
    {
     "data": {
      "image/png": "[encoded data removed]",
      "text/plain": [
       "<Figure size 640x480 with 1 Axes>"
      ]
     },
     "metadata": {},
     "output_type": "display_data"
    }
   ],
   "source": [
    "plt.plot( z, '.')\n",
    "plt.show()"
   ]
  },
  {
   "cell_type": "code",
   "execution_count": 84,
   "id": "e0c78846-5e2c-43e4-92cb-eec7352403ea",
   "metadata": {},
   "outputs": [
    {
     "data": {
      "text/plain": [
       "array([[ 0.11780435,  1.28718452, -1.2371482 ,  0.25642115,  0.48641144],\n",
       "       [-0.77539794, -0.94139996, -0.63183151,  1.20248485, -0.14988268],\n",
       "       [-0.45626031, -0.56964373, -1.63874459, -0.97250852, -0.06173517]])"
      ]
     },
     "execution_count": 84,
     "metadata": {},
     "output_type": "execute_result"
    }
   ],
   "source": [
    "np.random.normal(size=(3,5))"
   ]
  },
  {
   "cell_type": "markdown",
   "id": "a0253d13-e5ad-40f2-b73c-fbc1617e134d",
   "metadata": {},
   "source": [
    "### Histogramas\n",
    "\n",
    "Para visualizar los números generados y comparar su ocurrencia con la distribución de probabilidad \n",
    "vamos a generar histogramas usando *Numpy* y *Matplotlib*"
   ]
  },
  {
   "cell_type": "code",
   "execution_count": 85,
   "id": "e57e976d-be0e-4ab4-9969-fa3718ab290d",
   "metadata": {},
   "outputs": [],
   "source": [
    "h,b = np.histogram(z, bins=20)"
   ]
  },
  {
   "cell_type": "code",
   "execution_count": 86,
   "id": "f1062c39-e23a-4e97-8976-2cb53d75a486",
   "metadata": {},
   "outputs": [
    {
     "data": {
      "text/plain": [
       "array([-3.2347818 , -2.88784424, -2.54090668, -2.19396912, -1.84703156,\n",
       "       -1.500094  , -1.15315644, -0.80621888, -0.45928132, -0.11234376,\n",
       "        0.2345938 ,  0.58153135,  0.92846891,  1.27540647,  1.62234403,\n",
       "        1.96928159,  2.31621915,  2.66315671,  3.01009427,  3.35703183,\n",
       "        3.70396939])"
      ]
     },
     "execution_count": 86,
     "metadata": {},
     "output_type": "execute_result"
    }
   ],
   "source": [
    "b"
   ]
  },
  {
   "cell_type": "code",
   "execution_count": 87,
   "id": "4ce8867f-5838-4568-bbc1-f43c3252898c",
   "metadata": {},
   "outputs": [
    {
     "data": {
      "text/plain": [
       "array([  7,  13,  33,  65, 135, 214, 369, 471, 524, 498, 546, 447, 305,\n",
       "       162, 123,  57,  20,   8,   2,   1])"
      ]
     },
     "execution_count": 87,
     "metadata": {},
     "output_type": "execute_result"
    }
   ],
   "source": [
    "h"
   ]
  },
  {
   "cell_type": "code",
   "execution_count": 88,
   "id": "af21356d-e615-4460-a1a7-8fb1c9352ed8",
   "metadata": {},
   "outputs": [
    {
     "data": {
      "text/plain": [
       "(21, 20)"
      ]
     },
     "execution_count": 88,
     "metadata": {},
     "output_type": "execute_result"
    }
   ],
   "source": [
    "b.size, h.size"
   ]
  },
  {
   "cell_type": "markdown",
   "id": "4468ef59-0613-4e87-9c9a-bbd974bbdd53",
   "metadata": {},
   "source": [
    "La función retorna `b`: los límites de los intervalos en el eje x y `h` las alturas"
   ]
  },
  {
   "cell_type": "code",
   "execution_count": 89,
   "id": "78754758-99d6-4f94-a2a5-9c53615ba6f8",
   "metadata": {},
   "outputs": [],
   "source": [
    "x = (b[1:] + b[:-1])/2"
   ]
  },
  {
   "cell_type": "code",
   "execution_count": 90,
   "id": "7c1e13eb-2469-4884-9b6b-a25bf70af116",
   "metadata": {},
   "outputs": [
    {
     "data": {
      "image/png": "[encoded data removed]",
      "text/plain": [
       "<Figure size 640x480 with 1 Axes>"
      ]
     },
     "metadata": {},
     "output_type": "display_data"
    }
   ],
   "source": [
    "plt.bar(x,h, align=\"center\", width=0.4)\n",
    "plt.plot(x,h, 'k', lw=4);\n",
    "#plt.show()"
   ]
  },
  {
   "cell_type": "markdown",
   "id": "78ad7274-98c0-40aa-ba2f-e72af2149848",
   "metadata": {},
   "source": [
    "**Matplotlib** tiene una función similar, que directamente realiza el gráfico"
   ]
  },
  {
   "cell_type": "code",
   "execution_count": 91,
   "id": "9d899755-3a1e-4574-9d1e-baeda9147795",
   "metadata": {},
   "outputs": [
    {
     "data": {
      "image/png": "[encoded data removed]",
      "text/plain": [
       "<Figure size 640x480 with 1 Axes>"
      ]
     },
     "metadata": {},
     "output_type": "display_data"
    }
   ],
   "source": [
    "h1, b1, p1 = plt.hist(z, bins=20)\n",
    "#x1 = (b1[:-1] + b1[1:])/2\n",
    "#plt.plot(x1, h1, '-k', lw=4)\n",
    "#plt.show()"
   ]
  },
  {
   "cell_type": "code",
   "execution_count": 92,
   "id": "caea4802-6967-4903-a4f3-bba67e4576d8",
   "metadata": {},
   "outputs": [
    {
     "name": "stdout",
     "output_type": "stream",
     "text": [
      "20 21\n"
     ]
    }
   ],
   "source": [
    "print(h1.size, b1.size)"
   ]
  },
  {
   "cell_type": "markdown",
   "id": "363c0af6-a935-4d55-b4f4-ca067fb1815c",
   "metadata": {},
   "source": [
    "Veamos otro ejemplo, agregando algún otro argumento opcional"
   ]
  },
  {
   "cell_type": "code",
   "execution_count": 93,
   "id": "29c10e64-c25a-4039-b824-db96050ebabe",
   "metadata": {},
   "outputs": [
    {
     "data": {
      "image/png": "[encoded data removed]",
      "text/plain": [
       "<Figure size 640x480 with 1 Axes>"
      ]
     },
     "metadata": {},
     "output_type": "display_data"
    }
   ],
   "source": [
    "plt.hist(z, bins=20, density=True, orientation='horizontal', \n",
    "         alpha=0.8, histtype='stepfilled')\n",
    "plt.show()"
   ]
  },
  {
   "cell_type": "markdown",
   "id": "470212e8-ad2b-402e-bcb1-d7149e4144cf",
   "metadata": {},
   "source": [
    "En este último ejemplo, cambiamos la orientación a `horizontal` y además normalizamos los resultados, de manera tal que la integral bajo (a la izquierda de, en este caso) la curva sea igual a 1.\n",
    "\n",
    "### Distribución binomial\n",
    "\n",
    "Cuando ocurre un evento que puede tener sólo dos resultados (verdadero, con probabilidad $p$, y falso con probabilidad $(1-p)$) y lo repetimos $N$ veces, la probabilidad de obtener el resultado con probabilidad $p$ es\n",
    "\n",
    "$$\n",
    "P(n) = \\binom{N}{n}p^{n}(1-p)^{N-n},\n",
    "$$\n",
    "\n",
    "Para elegir números al azar con esta distribución de probabilidad **Numpy** tiene la función `binomial`,  cuyo primer argumento es $N$ y el segundo $p$. Por ejemplo si tiramos una moneda 100 veces, y queremos saber cuál es la probabilidad de obtener cara $n$ veces podemos usar:"
   ]
  },
  {
   "cell_type": "code",
   "execution_count": 94,
   "id": "494fe5ec-87b9-4a60-8c0b-ba506982b1ad",
   "metadata": {},
   "outputs": [],
   "source": [
    "zb = np.random.binomial(100,0.5,size=30000)"
   ]
  },
  {
   "cell_type": "code",
   "execution_count": 95,
   "id": "1fd4390c-35df-4bff-91a6-86c2182f70d1",
   "metadata": {},
   "outputs": [
    {
     "data": {
      "text/plain": [
       "Text(0.5, 0, '$n$ (veces \"cara\")')"
      ]
     },
     "execution_count": 95,
     "metadata": {},
     "output_type": "execute_result"
    },
    {
     "data": {
      "image/png": "[encoded data removed]",
      "text/plain": [
       "<Figure size 640x480 with 1 Axes>"
      ]
     },
     "metadata": {},
     "output_type": "display_data"
    }
   ],
   "source": [
    "plt.hist(zb, bins=41, density=True, range=(30,70))\n",
    "plt.xlabel('$n$ (veces \"cara\")')"
   ]
  },
  {
   "cell_type": "code",
   "execution_count": 96,
   "id": "7e504b38-2c9e-4764-b891-7a6d36ce6584",
   "metadata": {},
   "outputs": [
    {
     "name": "stdout",
     "output_type": "stream",
     "text": [
      "Help on built-in function binomial:\n",
      "\n",
      "binomial(...) method of numpy.random.mtrand.RandomState instance\n",
      "    binomial(n, p, size=None)\n",
      "\n",
      "    Draw samples from a binomial distribution.\n",
      "\n",
      "    Samples are drawn from a binomial distribution with specified\n",
      "    parameters, n trials and p probability of success where\n",
      "    n an integer >= 0 and p is in the interval [0,1]. (n may be\n",
      "    input as a float, but it is truncated to an integer in use)\n",
      "\n",
      "    .. note::\n",
      "        New code should use the `~numpy.random.Generator.binomial`\n",
      "        method of a `~numpy.random.Generator` instance instead;\n",
      "        please see the :ref:`random-quick-start`.\n",
      "\n",
      "    Parameters\n",
      "    ----------\n",
      "    n : int or array_like of ints\n",
      "        Parameter of the distribution, >= 0. Floats are also accepted,\n",
      "        but they will be truncated to integers.\n",
      "    p : float or array_like of floats\n",
      "        Parameter of the distribution, >= 0 and <=1.\n",
      "    size : int or tuple of ints, optional\n",
      "        Output shape.  If the given shape is, e.g., ``(m, n, k)``, then\n",
      "        ``m * n * k`` samples are drawn.  If size is ``None`` (default),\n",
      "        a single value is returned if ``n`` and ``p`` are both scalars.\n",
      "        Otherwise, ``np.broadcast(n, p).size`` samples are drawn.\n",
      "\n",
      "    Returns\n",
      "    -------\n",
      "    out : ndarray or scalar\n",
      "        Drawn samples from the parameterized binomial distribution, where\n",
      "        each sample is equal to the number of successes over the n trials.\n",
      "\n",
      "    See Also\n",
      "    --------\n",
      "    scipy.stats.binom : probability density function, distribution or\n",
      "        cumulative density function, etc.\n",
      "    random.Generator.binomial: which should be used for new code.\n",
      "\n",
      "    Notes\n",
      "    -----\n",
      "    The probability density for the binomial distribution is\n",
      "\n",
      "    .. math:: P(N) = \\binom{n}{N}p^N(1-p)^{n-N},\n",
      "\n",
      "    where :math:`n` is the number of trials, :math:`p` is the probability\n",
      "    of success, and :math:`N` is the number of successes.\n",
      "\n",
      "    When estimating the standard error of a proportion in a population by\n",
      "    using a random sample, the normal distribution works well unless the\n",
      "    product p*n <=5, where p = population proportion estimate, and n =\n",
      "    number of samples, in which case the binomial distribution is used\n",
      "    instead. For example, a sample of 15 people shows 4 who are left\n",
      "    handed, and 11 who are right handed. Then p = 4/15 = 27%. 0.27*15 = 4,\n",
      "    so the binomial distribution should be used in this case.\n",
      "\n",
      "    References\n",
      "    ----------\n",
      "    .. [1] Dalgaard, Peter, \"Introductory Statistics with R\",\n",
      "           Springer-Verlag, 2002.\n",
      "    .. [2] Glantz, Stanton A. \"Primer of Biostatistics.\", McGraw-Hill,\n",
      "           Fifth Edition, 2002.\n",
      "    .. [3] Lentner, Marvin, \"Elementary Applied Statistics\", Bogden\n",
      "           and Quigley, 1972.\n",
      "    .. [4] Weisstein, Eric W. \"Binomial Distribution.\" From MathWorld--A\n",
      "           Wolfram Web Resource.\n",
      "           http://mathworld.wolfram.com/BinomialDistribution.html\n",
      "    .. [5] Wikipedia, \"Binomial distribution\",\n",
      "           https://en.wikipedia.org/wiki/Binomial_distribution\n",
      "\n",
      "    Examples\n",
      "    --------\n",
      "    Draw samples from the distribution:\n",
      "\n",
      "    >>> n, p = 10, .5  # number of trials, probability of each trial\n",
      "    >>> s = np.random.binomial(n, p, 1000)\n",
      "    # result of flipping a coin 10 times, tested 1000 times.\n",
      "\n",
      "    A real world example. A company drills 9 wild-cat oil exploration\n",
      "    wells, each with an estimated probability of success of 0.1. All nine\n",
      "    wells fail. What is the probability of that happening?\n",
      "\n",
      "    Let's do 20,000 trials of the model, and count the number that\n",
      "    generate zero positive results.\n",
      "\n",
      "    >>> sum(np.random.binomial(9, 0.1, 20000) == 0)/20000.\n",
      "    # answer = 0.38885, or 38%.\n",
      "\n"
     ]
    }
   ],
   "source": [
    "help(np.random.binomial)"
   ]
  },
  {
   "cell_type": "markdown",
   "id": "390d7a49-3c9b-4683-a3c4-7791cabddfe8",
   "metadata": {},
   "source": [
    "Este gráfico ilustra la probabilidad de obtener $n$ veces un lado (cara) si tiramos 100 veces una moneda, como función de $n$."
   ]
  },
  {
   "cell_type": "markdown",
   "id": "f8e7da04-b4b7-4fcb-ac29-7575e7186af9",
   "metadata": {},
   "source": [
    "-----\n",
    "\n",
    "## Ejercicios 12 (b)\n",
    "\n",
    "4. Vamos a estudiar la frecuencia de aparición de cada dígito en la serie de Fibonacci, generada siguiendo las reglas:\n",
    "   $$a_{1} = a_{2} = 1, \\quad a_{i} = a_{i-1} + a_{i-2}.$$\n",
    "   Se pide:\n",
    "   1. Crear una función que acepta como argumento un número entero $N$ y retorna una secuencia (lista, tupla, diccionario o *array*) con los elementos de la serie de Fibonacci.\n",
    "   2. Crear una función que devuelva un histograma de ocurrencia de cada uno de los dígitos en el primer lugar del número. Por ejemplo para los primeros 8 valores ($N=8$): $1,1,2,3,5,8,13,21$ tendremos que el $1$ aparece 3 veces, el $2$ aparece $2$ veces, $3, 5, 8$ una vez. Normalizar los datos dividiendo por el número de valores $N$.\n",
    "   3. Utilizando las dos funciones anteriores graficar el histograma para un número $N$ grande y comparar los resultados con la ley de Benford\n",
    "  $$P(n) = \\log_{10}\\left(1+ \\frac{1}{d} \\right). $$\n",
    "\n",
    "\n",
    "2. **PARA ENTREGAR:** Estimar el valor de π usando diferentes métodos basados en el método de Monte Carlo:\n",
    "\n",
    "    1. Crear una función para calcular el valor de $\\pi$ usando el \"método de cociente de áreas\". Para ello:\n",
    "\n",
    "      * Generar puntos en el plano dentro del cuadrado de lado unidad cuyo lado inferior va de $x=0$ a $x=1$\n",
    "      * Contar cuantos puntos caen dentro del (cuarto de) círculo unidad. Este número tiende a ser proporcional al área del círculo\n",
    "      * La estimación de $\\pi$ será igual a cuatro veces el cociente de números dentro del círculo dividido por el número total de puntos.\n",
    "\n",
    "    2. Crear una función para calcular el valor de $\\pi$ usando el \"método del valor medio\":\n",
    "       Este método se basa en la idea de que el valor medio de una función se puede calcular de dos maneras diferentes.\n",
    "       Por un lado es el promedio de los valores de la función si tomamos argumentos al azar en forma aleatoria con una distribución uniforme. Por otro lado, el valor medio verifica la siguiente fórmula integral:\n",
    "\n",
    "    $$ \\langle f \\rangle = \\frac{1}{b-a} \\int_{a}^{b} f(x)\\, dx $$\n",
    "\n",
    "    Tomando la función particular $f(x)= \\sqrt{1- x^{2}}$ entre $x=0$ y $x=1$, obtenemos:\n",
    "\n",
    "    $$ \\langle f \\rangle = \\int_{0}^{1} \\sqrt{1- x^{2}}\\, dx = \\frac{\\pi}{4} $$\n",
    "\n",
    "    Entonces, tenemos que estimar el valor medio de la función $f$ y, mediante la relación entre las dos formas de calcular el valor medio obtener $\\pi = 4 \\langle f(x) \\rangle$.\n",
    "\n",
    "   Para obtener el valor medio de la función tomamos $X$ como una variable aleatoria entre 0 y 1 con distribución uniforme, y el valor promedio de $f(X)$ es justamente $\\langle f \\rangle$. Su función debe entonces\n",
    "\n",
    "      * Generar puntos aleatoriamente en el intervalo $[0,1]$\n",
    "      * Calcular el valor medio de $f(x)$ para los puntos aleatorios $x$.\n",
    "      * El resultado va a ser igual al valor de la integral, y por lo tanto a $\\pi/4$.\n",
    "\n",
    "    3. Utilizar las funciones anteriores con diferentes valores para el número total de puntos $N$. En particular, hacerlo para 20 valores de $N$  equiespaciados logarítmicamente entre 100 y 10000. Para cada valor de $N$ calcular la estimación de $\\pi$. Realizar un gráfico con el valor estimado como función del número $N$ con los dos métodos (dos curvas en un solo gráfico)\n",
    "\n",
    "    4. Para $N=15000$ repetir el \"experimento\" muchas veces (al menos 1000) y realizar un histograma de los valores obtenidos para $\\pi$ con cada método. Graficar el histograma y calcular la desviación standard. Superponer una función Gaussiana con el mismo ancho. El gráfico debe ser similar al siguiente (*el estilo de graficación no tiene que ser el mismo*)\n",
    "\n",
    "    ![](figuras/ejercicio_09_1.png)\n",
    "    \n",
    "    5. El método de la aguja del bufón se puede utilizar para estimar el valor de $\\pi$, y consiste en tirar agujas (o palitos, fósforos, etc) al azar sobre una superficie rayada\n",
    "\n",
    "    ![](figuras/Streicholz-Pi-wiki.jpg)\n",
    "\n",
    "    Por simplicidad vamos a considerar que la distancia entre rayas $t$ es mayor que la longitud de las agujas $\\ell$\n",
    "\n",
    "    ![](figuras/Buffon_needle_wiki.png)\n",
    "\n",
    "    La probabilidad de que una aguja cruce una línea será:\n",
    "\n",
    "    $$ P = \\frac{2 \\ell}{t\\, \\pi} $$\n",
    "\n",
    "    por lo que podemos calcular el valor de $\\pi$ si estimamos la probabilidad $P$. Realizar una función que estime $\\pi$ utilizando este método y repetir las comparaciones de los dos puntos anteriores pero ahora utilizando este método y el de las áreas.\n",
    "    \n",
    "-----\n",
    "\n",
    "> **NOTA:** Envíe el programa llamado **12_Suapellido.py** en un adjunto por correo electrónico, con asunto: **12_Suapellido**.\n"
   ]
  }
 ],
 "metadata": {
  "kernelspec": {
   "display_name": "Python 3 (ipykernel)",
   "language": "python",
   "name": "python3"
  },
  "language_info": {
   "codemirror_mode": {
    "name": "ipython",
    "version": 3
   },
   "file_extension": ".py",
   "mimetype": "text/x-python",
   "name": "python",
   "nbconvert_exporter": "python",
   "pygments_lexer": "ipython3",
   "version": "3.13.2"
  },
  "name": "10_2_indexado.ipynb",
  "toc": {
   "base_numbering": 1,
   "nav_menu": {
    "height": "310.8px",
    "width": "251.5px"
   },
   "number_sections": true,
   "sideBar": true,
   "skip_h1_title": true,
   "title_cell": "Contenidos",
   "title_sidebar": "Contenidos",
   "toc_cell": false,
   "toc_position": null,
   "toc_section_display": true,
   "toc_window_display": false
  }
 },
 "nbformat": 4,
 "nbformat_minor": 5
}
