{
 "cells": [
  {
   "cell_type": "markdown",
   "metadata": {},
   "source": [
    "# Input/Output con `pandas`\n",
    "\n",
    "Para poder leer o escribir datos, `pandas` provee una serie de métodos específicos para todos los tipos de datos estructurados usuales, ya sea en formato texto o binario. Los métodos para leer de archivos se reconocen por el prefijo `.read_`, mientras que para escribir usaremos `.to_`. Para cada formato particular de archivo, estos métodos aceptarán un conjunto de argumentos adicionales que permiten adecuar nuestro código. "
   ]
  },
  {
   "cell_type": "markdown",
   "metadata": {},
   "source": [
    "> Si se usa VSCode, se puede instalar la extensión [Data Wrangler](https://marketplace.visualstudio.com/items?itemName=ms-toolsai.datawrangler) que permite inspeccionar `DataFrames`. Puede ser útil cuando uno trabaja con muchos datos."
   ]
  },
  {
   "cell_type": "markdown",
   "metadata": {},
   "source": [
    "## JSON\n",
    "\n",
    "JSON (JavaScript Object Notation) es un formato estándar de estructura de datos en modo texto, legible y de amplio uso en internet. "
   ]
  },
  {
   "cell_type": "code",
   "execution_count": 1,
   "metadata": {},
   "outputs": [],
   "source": [
    "import pandas as pd\n",
    "from pathlib import Path"
   ]
  },
  {
   "cell_type": "code",
   "execution_count": 2,
   "metadata": {},
   "outputs": [
    {
     "name": "stdout",
     "output_type": "stream",
     "text": [
      "/home/fiol/Clases/IntPython/clases-python/data/atomos\n"
     ]
    }
   ],
   "source": [
    "atomos_path = Path.cwd().parent / 'data' / 'atomos'\n",
    "print(atomos_path)"
   ]
  },
  {
   "cell_type": "code",
   "execution_count": 3,
   "metadata": {},
   "outputs": [
    {
     "data": {
      "text/html": [
       "<div>\n",
       "<style scoped>\n",
       "    .dataframe tbody tr th:only-of-type {\n",
       "        vertical-align: middle;\n",
       "    }\n",
       "\n",
       "    .dataframe tbody tr th {\n",
       "        vertical-align: top;\n",
       "    }\n",
       "\n",
       "    .dataframe thead th {\n",
       "        text-align: right;\n",
       "    }\n",
       "</style>\n",
       "<table border=\"1\" class=\"dataframe\">\n",
       "  <thead>\n",
       "    <tr style=\"text-align: right;\">\n",
       "      <th></th>\n",
       "      <th>Element</th>\n",
       "      <th>Symbol</th>\n",
       "      <th>Atomic Number</th>\n",
       "      <th>Atomic Mass (u)</th>\n",
       "      <th>Density (g/cm³)</th>\n",
       "      <th>Melting Point (K)</th>\n",
       "      <th>Boiling Point (K)</th>\n",
       "      <th>Electronegativity</th>\n",
       "      <th>State at Room Temp</th>\n",
       "    </tr>\n",
       "  </thead>\n",
       "  <tbody>\n",
       "    <tr>\n",
       "      <th>0</th>\n",
       "      <td>Hydrogen</td>\n",
       "      <td>H</td>\n",
       "      <td>1</td>\n",
       "      <td>1.0080</td>\n",
       "      <td>0.000090</td>\n",
       "      <td>14.01</td>\n",
       "      <td>20.28</td>\n",
       "      <td>2.20</td>\n",
       "      <td>Gas</td>\n",
       "    </tr>\n",
       "    <tr>\n",
       "      <th>1</th>\n",
       "      <td>Helium</td>\n",
       "      <td>He</td>\n",
       "      <td>2</td>\n",
       "      <td>4.0026</td>\n",
       "      <td>0.000179</td>\n",
       "      <td>NaN</td>\n",
       "      <td>NaN</td>\n",
       "      <td>NaN</td>\n",
       "      <td>Gas</td>\n",
       "    </tr>\n",
       "    <tr>\n",
       "      <th>2</th>\n",
       "      <td>Lithium</td>\n",
       "      <td>Li</td>\n",
       "      <td>3</td>\n",
       "      <td>6.9400</td>\n",
       "      <td>0.534000</td>\n",
       "      <td>453.69</td>\n",
       "      <td>1615.00</td>\n",
       "      <td>0.98</td>\n",
       "      <td>Solid</td>\n",
       "    </tr>\n",
       "    <tr>\n",
       "      <th>3</th>\n",
       "      <td>Beryllium</td>\n",
       "      <td>Be</td>\n",
       "      <td>4</td>\n",
       "      <td>9.0122</td>\n",
       "      <td>1.850000</td>\n",
       "      <td>1560.00</td>\n",
       "      <td>2742.00</td>\n",
       "      <td>1.57</td>\n",
       "      <td>Solid</td>\n",
       "    </tr>\n",
       "    <tr>\n",
       "      <th>4</th>\n",
       "      <td>Boron</td>\n",
       "      <td>B</td>\n",
       "      <td>5</td>\n",
       "      <td>10.8100</td>\n",
       "      <td>2.340000</td>\n",
       "      <td>2349.00</td>\n",
       "      <td>4200.00</td>\n",
       "      <td>2.04</td>\n",
       "      <td>Solid</td>\n",
       "    </tr>\n",
       "    <tr>\n",
       "      <th>5</th>\n",
       "      <td>Carbon</td>\n",
       "      <td>C</td>\n",
       "      <td>6</td>\n",
       "      <td>12.0110</td>\n",
       "      <td>2.267000</td>\n",
       "      <td>3800.00</td>\n",
       "      <td>4300.00</td>\n",
       "      <td>2.55</td>\n",
       "      <td>Solid</td>\n",
       "    </tr>\n",
       "    <tr>\n",
       "      <th>6</th>\n",
       "      <td>Nitrogen</td>\n",
       "      <td>N</td>\n",
       "      <td>7</td>\n",
       "      <td>14.0070</td>\n",
       "      <td>0.001251</td>\n",
       "      <td>63.15</td>\n",
       "      <td>77.36</td>\n",
       "      <td>3.04</td>\n",
       "      <td>Gas</td>\n",
       "    </tr>\n",
       "    <tr>\n",
       "      <th>7</th>\n",
       "      <td>Oxygen</td>\n",
       "      <td>O</td>\n",
       "      <td>8</td>\n",
       "      <td>15.9990</td>\n",
       "      <td>0.001429</td>\n",
       "      <td>54.36</td>\n",
       "      <td>90.20</td>\n",
       "      <td>3.44</td>\n",
       "      <td>Gas</td>\n",
       "    </tr>\n",
       "    <tr>\n",
       "      <th>8</th>\n",
       "      <td>Fluorine</td>\n",
       "      <td>F</td>\n",
       "      <td>9</td>\n",
       "      <td>18.9980</td>\n",
       "      <td>0.001696</td>\n",
       "      <td>53.48</td>\n",
       "      <td>85.03</td>\n",
       "      <td>3.98</td>\n",
       "      <td>Gas</td>\n",
       "    </tr>\n",
       "    <tr>\n",
       "      <th>9</th>\n",
       "      <td>Neon</td>\n",
       "      <td>Ne</td>\n",
       "      <td>10</td>\n",
       "      <td>20.1800</td>\n",
       "      <td>0.000900</td>\n",
       "      <td>NaN</td>\n",
       "      <td>NaN</td>\n",
       "      <td>NaN</td>\n",
       "      <td>Gas</td>\n",
       "    </tr>\n",
       "  </tbody>\n",
       "</table>\n",
       "</div>"
      ],
      "text/plain": [
       "     Element Symbol  Atomic Number  Atomic Mass (u)  Density (g/cm³)  \\\n",
       "0   Hydrogen      H              1           1.0080         0.000090   \n",
       "1     Helium     He              2           4.0026         0.000179   \n",
       "2    Lithium     Li              3           6.9400         0.534000   \n",
       "3  Beryllium     Be              4           9.0122         1.850000   \n",
       "4      Boron      B              5          10.8100         2.340000   \n",
       "5     Carbon      C              6          12.0110         2.267000   \n",
       "6   Nitrogen      N              7          14.0070         0.001251   \n",
       "7     Oxygen      O              8          15.9990         0.001429   \n",
       "8   Fluorine      F              9          18.9980         0.001696   \n",
       "9       Neon     Ne             10          20.1800         0.000900   \n",
       "\n",
       "   Melting Point (K)  Boiling Point (K)  Electronegativity State at Room Temp  \n",
       "0              14.01              20.28               2.20                Gas  \n",
       "1                NaN                NaN                NaN                Gas  \n",
       "2             453.69            1615.00               0.98              Solid  \n",
       "3            1560.00            2742.00               1.57              Solid  \n",
       "4            2349.00            4200.00               2.04              Solid  \n",
       "5            3800.00            4300.00               2.55              Solid  \n",
       "6              63.15              77.36               3.04                Gas  \n",
       "7              54.36              90.20               3.44                Gas  \n",
       "8              53.48              85.03               3.98                Gas  \n",
       "9                NaN                NaN                NaN                Gas  "
      ]
     },
     "execution_count": 3,
     "metadata": {},
     "output_type": "execute_result"
    }
   ],
   "source": [
    "df = pd.read_json(atomos_path / 'atomos.json')\n",
    "df"
   ]
  },
  {
   "cell_type": "code",
   "execution_count": 4,
   "metadata": {},
   "outputs": [
    {
     "data": {
      "text/plain": [
       "Element                object\n",
       "Symbol                 object\n",
       "Atomic Number           int64\n",
       "Atomic Mass (u)       float64\n",
       "Density (g/cm³)       float64\n",
       "Melting Point (K)     float64\n",
       "Boiling Point (K)     float64\n",
       "Electronegativity     float64\n",
       "State at Room Temp     object\n",
       "dtype: object"
      ]
     },
     "execution_count": 4,
     "metadata": {},
     "output_type": "execute_result"
    }
   ],
   "source": [
    "df.dtypes"
   ]
  },
  {
   "cell_type": "code",
   "execution_count": 5,
   "metadata": {},
   "outputs": [
    {
     "data": {
      "text/plain": [
       "Index(['Element', 'Symbol', 'Atomic Number', 'Atomic Mass (u)',\n",
       "       'Density (g/cm³)', 'Melting Point (K)', 'Boiling Point (K)',\n",
       "       'Electronegativity', 'State at Room Temp'],\n",
       "      dtype='object')"
      ]
     },
     "execution_count": 5,
     "metadata": {},
     "output_type": "execute_result"
    }
   ],
   "source": [
    "df.columns"
   ]
  },
  {
   "cell_type": "markdown",
   "metadata": {},
   "source": [
    "Renombremos algunas columnas para que no tengan etiquetas tan complejas"
   ]
  },
  {
   "cell_type": "code",
   "execution_count": 6,
   "metadata": {},
   "outputs": [
    {
     "data": {
      "text/plain": [
       "Index(['Element', 'Symbol', 'Atomic Number', 'Atomic Mass (u)', 'Density',\n",
       "       'Melting Point', 'Boiling Point (K)', 'Electronegativity',\n",
       "       'State at Room Temp'],\n",
       "      dtype='object')"
      ]
     },
     "execution_count": 6,
     "metadata": {},
     "output_type": "execute_result"
    }
   ],
   "source": [
    "df.rename(columns={'Density (g/cm³)': 'Density'}, inplace=True)\n",
    "df.rename(columns={'Melting Point (K)': 'Melting Point'}, inplace=True)\n",
    "df.columns"
   ]
  },
  {
   "cell_type": "markdown",
   "metadata": {},
   "source": [
    "Extraigamos los datos atómicos (masa y número atómico) y escribámoslo en un json:"
   ]
  },
  {
   "cell_type": "code",
   "execution_count": 7,
   "metadata": {},
   "outputs": [
    {
     "data": {
      "text/html": [
       "<div>\n",
       "<style scoped>\n",
       "    .dataframe tbody tr th:only-of-type {\n",
       "        vertical-align: middle;\n",
       "    }\n",
       "\n",
       "    .dataframe tbody tr th {\n",
       "        vertical-align: top;\n",
       "    }\n",
       "\n",
       "    .dataframe thead th {\n",
       "        text-align: right;\n",
       "    }\n",
       "</style>\n",
       "<table border=\"1\" class=\"dataframe\">\n",
       "  <thead>\n",
       "    <tr style=\"text-align: right;\">\n",
       "      <th></th>\n",
       "      <th>Element</th>\n",
       "      <th>Symbol</th>\n",
       "      <th>Atomic Number</th>\n",
       "      <th>Atomic Mass (u)</th>\n",
       "    </tr>\n",
       "  </thead>\n",
       "  <tbody>\n",
       "    <tr>\n",
       "      <th>0</th>\n",
       "      <td>Hydrogen</td>\n",
       "      <td>H</td>\n",
       "      <td>1</td>\n",
       "      <td>1.0080</td>\n",
       "    </tr>\n",
       "    <tr>\n",
       "      <th>1</th>\n",
       "      <td>Helium</td>\n",
       "      <td>He</td>\n",
       "      <td>2</td>\n",
       "      <td>4.0026</td>\n",
       "    </tr>\n",
       "    <tr>\n",
       "      <th>2</th>\n",
       "      <td>Lithium</td>\n",
       "      <td>Li</td>\n",
       "      <td>3</td>\n",
       "      <td>6.9400</td>\n",
       "    </tr>\n",
       "    <tr>\n",
       "      <th>3</th>\n",
       "      <td>Beryllium</td>\n",
       "      <td>Be</td>\n",
       "      <td>4</td>\n",
       "      <td>9.0122</td>\n",
       "    </tr>\n",
       "    <tr>\n",
       "      <th>4</th>\n",
       "      <td>Boron</td>\n",
       "      <td>B</td>\n",
       "      <td>5</td>\n",
       "      <td>10.8100</td>\n",
       "    </tr>\n",
       "    <tr>\n",
       "      <th>5</th>\n",
       "      <td>Carbon</td>\n",
       "      <td>C</td>\n",
       "      <td>6</td>\n",
       "      <td>12.0110</td>\n",
       "    </tr>\n",
       "    <tr>\n",
       "      <th>6</th>\n",
       "      <td>Nitrogen</td>\n",
       "      <td>N</td>\n",
       "      <td>7</td>\n",
       "      <td>14.0070</td>\n",
       "    </tr>\n",
       "    <tr>\n",
       "      <th>7</th>\n",
       "      <td>Oxygen</td>\n",
       "      <td>O</td>\n",
       "      <td>8</td>\n",
       "      <td>15.9990</td>\n",
       "    </tr>\n",
       "    <tr>\n",
       "      <th>8</th>\n",
       "      <td>Fluorine</td>\n",
       "      <td>F</td>\n",
       "      <td>9</td>\n",
       "      <td>18.9980</td>\n",
       "    </tr>\n",
       "    <tr>\n",
       "      <th>9</th>\n",
       "      <td>Neon</td>\n",
       "      <td>Ne</td>\n",
       "      <td>10</td>\n",
       "      <td>20.1800</td>\n",
       "    </tr>\n",
       "  </tbody>\n",
       "</table>\n",
       "</div>"
      ],
      "text/plain": [
       "     Element Symbol  Atomic Number  Atomic Mass (u)\n",
       "0   Hydrogen      H              1           1.0080\n",
       "1     Helium     He              2           4.0026\n",
       "2    Lithium     Li              3           6.9400\n",
       "3  Beryllium     Be              4           9.0122\n",
       "4      Boron      B              5          10.8100\n",
       "5     Carbon      C              6          12.0110\n",
       "6   Nitrogen      N              7          14.0070\n",
       "7     Oxygen      O              8          15.9990\n",
       "8   Fluorine      F              9          18.9980\n",
       "9       Neon     Ne             10          20.1800"
      ]
     },
     "execution_count": 7,
     "metadata": {},
     "output_type": "execute_result"
    }
   ],
   "source": [
    "df[['Element', 'Symbol', 'Atomic Number', 'Atomic Mass (u)']]"
   ]
  },
  {
   "cell_type": "code",
   "execution_count": 8,
   "metadata": {},
   "outputs": [],
   "source": [
    "df[['Element', 'Symbol', 'Atomic Number', 'Atomic Mass (u)']].to_json(atomos_path / 'prop_atomos.json')"
   ]
  },
  {
   "cell_type": "code",
   "execution_count": 9,
   "metadata": {},
   "outputs": [],
   "source": [
    "# Guarda sólo los valores\n",
    "df[['Element', 'Symbol', 'Atomic Number', 'Atomic Mass (u)']].to_json(atomos_path / 'prop_atomos_values.json', orient='values')\n",
    "\n",
    "# Guarda los registros indexados por el índice del DataFrame\n",
    "df[['Element', 'Symbol', 'Atomic Number', 'Atomic Mass (u)']].to_json(atomos_path / 'prop_atomos_index.json', orient='index')\n",
    "\n",
    "# Guarda los registros indexados por el nombre de las columnas, valor por defecto\n",
    "df[['Element', 'Symbol', 'Atomic Number', 'Atomic Mass (u)']].to_json(atomos_path / 'prop_atomos_columns.json', orient='columns')\n",
    "\n",
    "# Guarda los registros en formato de lista de diccionarios, sin indices\n",
    "df[['Element', 'Symbol', 'Atomic Number', 'Atomic Mass (u)']].to_json(atomos_path / 'prop_atomos_records.json', orient='records')\n"
   ]
  },
  {
   "cell_type": "markdown",
   "metadata": {},
   "source": [
    "## CSV\n",
    "\n",
    "Podríamos querer escribirlos como valores separados por comas (u otro delimitador):"
   ]
  },
  {
   "cell_type": "code",
   "execution_count": 10,
   "metadata": {},
   "outputs": [],
   "source": [
    "df[['Element', 'Symbol', 'Atomic Number', 'Atomic Mass (u)']].to_csv(atomos_path / 'prop_atomos.csv', sep='|')"
   ]
  },
  {
   "cell_type": "markdown",
   "metadata": {},
   "source": [
    "Vemos que en ambos casos también guarda el índice en el archivo"
   ]
  },
  {
   "cell_type": "markdown",
   "metadata": {},
   "source": [
    "Si queremos que no guarde el índice, pasamos el argumento opcional `index=False`. "
   ]
  },
  {
   "cell_type": "code",
   "execution_count": 11,
   "metadata": {},
   "outputs": [],
   "source": [
    "df.to_csv(atomos_path / 'prop_atomos_noindex.csv', sep='|', index=False)"
   ]
  },
  {
   "cell_type": "markdown",
   "metadata": {},
   "source": [
    "Se puede ver que al guardar el `.csv`, los elementos inexistentes de la tabla (`NaN`) se guardan como cadenas de caracteres vacías. Se puede indicar otro tipo de valor para esos casos:"
   ]
  },
  {
   "cell_type": "code",
   "execution_count": 12,
   "metadata": {},
   "outputs": [],
   "source": [
    "df.to_csv(atomos_path / 'prop_atomos_noheader2.csv', sep='|', index=False, na_rep='N/A')"
   ]
  },
  {
   "cell_type": "markdown",
   "metadata": {},
   "source": [
    "## Formatos binarios\n",
    "\n",
    "En algunos casos como leer o escribir de archivos binarios, es necesario instalar algunos módulos. Por ejemplo, si queremos leer archivos `.parquet`, tenemos que instalar `pyarrow`.\n",
    "\n",
    "- `.parquet`: `conda install pyarrow`\n",
    "- `.xls(x)`: `conda install openpyxl xlrd`\n",
    "- `hdf5`: `conda install pytables`"
   ]
  },
  {
   "cell_type": "code",
   "execution_count": 13,
   "metadata": {},
   "outputs": [],
   "source": [
    "df.to_parquet(atomos_path / 'prop_atomos.parquet')"
   ]
  },
  {
   "cell_type": "code",
   "execution_count": 14,
   "metadata": {},
   "outputs": [
    {
     "data": {
      "text/html": [
       "<div>\n",
       "<style scoped>\n",
       "    .dataframe tbody tr th:only-of-type {\n",
       "        vertical-align: middle;\n",
       "    }\n",
       "\n",
       "    .dataframe tbody tr th {\n",
       "        vertical-align: top;\n",
       "    }\n",
       "\n",
       "    .dataframe thead th {\n",
       "        text-align: right;\n",
       "    }\n",
       "</style>\n",
       "<table border=\"1\" class=\"dataframe\">\n",
       "  <thead>\n",
       "    <tr style=\"text-align: right;\">\n",
       "      <th></th>\n",
       "      <th>Element</th>\n",
       "      <th>Symbol</th>\n",
       "      <th>Atomic Number</th>\n",
       "      <th>Atomic Mass (u)</th>\n",
       "      <th>Density</th>\n",
       "      <th>Melting Point</th>\n",
       "      <th>Boiling Point (K)</th>\n",
       "      <th>Electronegativity</th>\n",
       "      <th>State at Room Temp</th>\n",
       "    </tr>\n",
       "  </thead>\n",
       "  <tbody>\n",
       "    <tr>\n",
       "      <th>0</th>\n",
       "      <td>Hydrogen</td>\n",
       "      <td>H</td>\n",
       "      <td>1</td>\n",
       "      <td>1.0080</td>\n",
       "      <td>0.000090</td>\n",
       "      <td>14.01</td>\n",
       "      <td>20.28</td>\n",
       "      <td>2.20</td>\n",
       "      <td>Gas</td>\n",
       "    </tr>\n",
       "    <tr>\n",
       "      <th>1</th>\n",
       "      <td>Helium</td>\n",
       "      <td>He</td>\n",
       "      <td>2</td>\n",
       "      <td>4.0026</td>\n",
       "      <td>0.000179</td>\n",
       "      <td>NaN</td>\n",
       "      <td>NaN</td>\n",
       "      <td>NaN</td>\n",
       "      <td>Gas</td>\n",
       "    </tr>\n",
       "    <tr>\n",
       "      <th>2</th>\n",
       "      <td>Lithium</td>\n",
       "      <td>Li</td>\n",
       "      <td>3</td>\n",
       "      <td>6.9400</td>\n",
       "      <td>0.534000</td>\n",
       "      <td>453.69</td>\n",
       "      <td>1615.00</td>\n",
       "      <td>0.98</td>\n",
       "      <td>Solid</td>\n",
       "    </tr>\n",
       "    <tr>\n",
       "      <th>3</th>\n",
       "      <td>Beryllium</td>\n",
       "      <td>Be</td>\n",
       "      <td>4</td>\n",
       "      <td>9.0122</td>\n",
       "      <td>1.850000</td>\n",
       "      <td>1560.00</td>\n",
       "      <td>2742.00</td>\n",
       "      <td>1.57</td>\n",
       "      <td>Solid</td>\n",
       "    </tr>\n",
       "    <tr>\n",
       "      <th>4</th>\n",
       "      <td>Boron</td>\n",
       "      <td>B</td>\n",
       "      <td>5</td>\n",
       "      <td>10.8100</td>\n",
       "      <td>2.340000</td>\n",
       "      <td>2349.00</td>\n",
       "      <td>4200.00</td>\n",
       "      <td>2.04</td>\n",
       "      <td>Solid</td>\n",
       "    </tr>\n",
       "    <tr>\n",
       "      <th>5</th>\n",
       "      <td>Carbon</td>\n",
       "      <td>C</td>\n",
       "      <td>6</td>\n",
       "      <td>12.0110</td>\n",
       "      <td>2.267000</td>\n",
       "      <td>3800.00</td>\n",
       "      <td>4300.00</td>\n",
       "      <td>2.55</td>\n",
       "      <td>Solid</td>\n",
       "    </tr>\n",
       "    <tr>\n",
       "      <th>6</th>\n",
       "      <td>Nitrogen</td>\n",
       "      <td>N</td>\n",
       "      <td>7</td>\n",
       "      <td>14.0070</td>\n",
       "      <td>0.001251</td>\n",
       "      <td>63.15</td>\n",
       "      <td>77.36</td>\n",
       "      <td>3.04</td>\n",
       "      <td>Gas</td>\n",
       "    </tr>\n",
       "    <tr>\n",
       "      <th>7</th>\n",
       "      <td>Oxygen</td>\n",
       "      <td>O</td>\n",
       "      <td>8</td>\n",
       "      <td>15.9990</td>\n",
       "      <td>0.001429</td>\n",
       "      <td>54.36</td>\n",
       "      <td>90.20</td>\n",
       "      <td>3.44</td>\n",
       "      <td>Gas</td>\n",
       "    </tr>\n",
       "    <tr>\n",
       "      <th>8</th>\n",
       "      <td>Fluorine</td>\n",
       "      <td>F</td>\n",
       "      <td>9</td>\n",
       "      <td>18.9980</td>\n",
       "      <td>0.001696</td>\n",
       "      <td>53.48</td>\n",
       "      <td>85.03</td>\n",
       "      <td>3.98</td>\n",
       "      <td>Gas</td>\n",
       "    </tr>\n",
       "    <tr>\n",
       "      <th>9</th>\n",
       "      <td>Neon</td>\n",
       "      <td>Ne</td>\n",
       "      <td>10</td>\n",
       "      <td>20.1800</td>\n",
       "      <td>0.000900</td>\n",
       "      <td>NaN</td>\n",
       "      <td>NaN</td>\n",
       "      <td>NaN</td>\n",
       "      <td>Gas</td>\n",
       "    </tr>\n",
       "  </tbody>\n",
       "</table>\n",
       "</div>"
      ],
      "text/plain": [
       "     Element Symbol  Atomic Number  Atomic Mass (u)   Density  Melting Point  \\\n",
       "0   Hydrogen      H              1           1.0080  0.000090          14.01   \n",
       "1     Helium     He              2           4.0026  0.000179            NaN   \n",
       "2    Lithium     Li              3           6.9400  0.534000         453.69   \n",
       "3  Beryllium     Be              4           9.0122  1.850000        1560.00   \n",
       "4      Boron      B              5          10.8100  2.340000        2349.00   \n",
       "5     Carbon      C              6          12.0110  2.267000        3800.00   \n",
       "6   Nitrogen      N              7          14.0070  0.001251          63.15   \n",
       "7     Oxygen      O              8          15.9990  0.001429          54.36   \n",
       "8   Fluorine      F              9          18.9980  0.001696          53.48   \n",
       "9       Neon     Ne             10          20.1800  0.000900            NaN   \n",
       "\n",
       "   Boiling Point (K)  Electronegativity State at Room Temp  \n",
       "0              20.28               2.20                Gas  \n",
       "1                NaN                NaN                Gas  \n",
       "2            1615.00               0.98              Solid  \n",
       "3            2742.00               1.57              Solid  \n",
       "4            4200.00               2.04              Solid  \n",
       "5            4300.00               2.55              Solid  \n",
       "6              77.36               3.04                Gas  \n",
       "7              90.20               3.44                Gas  \n",
       "8              85.03               3.98                Gas  \n",
       "9                NaN                NaN                Gas  "
      ]
     },
     "execution_count": 14,
     "metadata": {},
     "output_type": "execute_result"
    }
   ],
   "source": [
    "dfp = pd.read_parquet(atomos_path / 'prop_atomos.parquet')\n",
    "dfp"
   ]
  },
  {
   "cell_type": "markdown",
   "metadata": {},
   "source": [
    "### Web"
   ]
  },
  {
   "cell_type": "code",
   "execution_count": 15,
   "metadata": {},
   "outputs": [],
   "source": [
    "# URL que contiene una tabla HTML\n",
    "url = \"https://en.wikipedia.org/wiki/List_of_countries_by_population\"\n",
    "\n",
    "# Leer todas las tablas de la página\n",
    "tablas = pd.read_html(url)\n"
   ]
  },
  {
   "cell_type": "code",
   "execution_count": 16,
   "metadata": {},
   "outputs": [
    {
     "name": "stdout",
     "output_type": "stream",
     "text": [
      "Encontré 3 tablas\n",
      "<class 'list'>\n"
     ]
    },
    {
     "data": {
      "text/html": [
       "<div>\n",
       "<style scoped>\n",
       "    .dataframe tbody tr th:only-of-type {\n",
       "        vertical-align: middle;\n",
       "    }\n",
       "\n",
       "    .dataframe tbody tr th {\n",
       "        vertical-align: top;\n",
       "    }\n",
       "\n",
       "    .dataframe thead th {\n",
       "        text-align: right;\n",
       "    }\n",
       "</style>\n",
       "<table border=\"1\" class=\"dataframe\">\n",
       "  <thead>\n",
       "    <tr style=\"text-align: right;\">\n",
       "      <th></th>\n",
       "      <th>Location</th>\n",
       "      <th>Population</th>\n",
       "      <th>% of world</th>\n",
       "      <th>Date</th>\n",
       "      <th>Source (official or from the United Nations)</th>\n",
       "      <th>Notes</th>\n",
       "    </tr>\n",
       "  </thead>\n",
       "  <tbody>\n",
       "    <tr>\n",
       "      <th>0</th>\n",
       "      <td>World</td>\n",
       "      <td>8136397260</td>\n",
       "      <td>100%</td>\n",
       "      <td>6 Apr 2025</td>\n",
       "      <td>UN projection[1][3]</td>\n",
       "      <td>NaN</td>\n",
       "    </tr>\n",
       "    <tr>\n",
       "      <th>1</th>\n",
       "      <td>India</td>\n",
       "      <td>1413324000</td>\n",
       "      <td>17.3%</td>\n",
       "      <td>1 Mar 2025</td>\n",
       "      <td>Official projection[4]</td>\n",
       "      <td>[b]</td>\n",
       "    </tr>\n",
       "    <tr>\n",
       "      <th>2</th>\n",
       "      <td>China</td>\n",
       "      <td>1408280000</td>\n",
       "      <td>17.2%</td>\n",
       "      <td>31 Dec 2024</td>\n",
       "      <td>Official estimate[5]</td>\n",
       "      <td>[c]</td>\n",
       "    </tr>\n",
       "    <tr>\n",
       "      <th>3</th>\n",
       "      <td>United States</td>\n",
       "      <td>340110988</td>\n",
       "      <td>4.2%</td>\n",
       "      <td>1 Jul 2024</td>\n",
       "      <td>Official estimate[6]</td>\n",
       "      <td>[d]</td>\n",
       "    </tr>\n",
       "    <tr>\n",
       "      <th>4</th>\n",
       "      <td>Indonesia</td>\n",
       "      <td>282477584</td>\n",
       "      <td>3.5%</td>\n",
       "      <td>30 Jun 2024</td>\n",
       "      <td>National annual projection[7]</td>\n",
       "      <td>NaN</td>\n",
       "    </tr>\n",
       "  </tbody>\n",
       "</table>\n",
       "</div>"
      ],
      "text/plain": [
       "        Location  Population % of world         Date  \\\n",
       "0          World  8136397260       100%   6 Apr 2025   \n",
       "1          India  1413324000      17.3%   1 Mar 2025   \n",
       "2          China  1408280000      17.2%  31 Dec 2024   \n",
       "3  United States   340110988       4.2%   1 Jul 2024   \n",
       "4      Indonesia   282477584       3.5%  30 Jun 2024   \n",
       "\n",
       "  Source (official or from the United Nations) Notes  \n",
       "0                          UN projection[1][3]   NaN  \n",
       "1                       Official projection[4]   [b]  \n",
       "2                         Official estimate[5]   [c]  \n",
       "3                         Official estimate[6]   [d]  \n",
       "4                National annual projection[7]   NaN  "
      ]
     },
     "execution_count": 16,
     "metadata": {},
     "output_type": "execute_result"
    }
   ],
   "source": [
    "print(f\"Encontré {len(tablas)} tablas\")\n",
    "print(type(tablas))\n",
    "\n",
    "# La función devuelve una lista de DataFrames, cada uno correspondiente a una tabla en la página\n",
    "# Normalmente querrás seleccionar una tabla específica\n",
    "tabla_poblacion = tablas[0]  # Primera tabla de la página\n",
    "\n",
    "# Mostrar las primeras filas\n",
    "tabla_poblacion.head()"
   ]
  },
  {
   "cell_type": "markdown",
   "metadata": {},
   "source": [
    "## Cuando se pone difícil\n",
    "\n",
    "En muchas situaciones los archivos pueden tener datos estructurados de alguna manera que no permiten directamente su lectura con `pandas`. "
   ]
  },
  {
   "cell_type": "code",
   "execution_count": 17,
   "metadata": {},
   "outputs": [],
   "source": [
    "smn_path = Path.cwd().parent / 'data' / 'smn'"
   ]
  },
  {
   "cell_type": "code",
   "execution_count": 18,
   "metadata": {},
   "outputs": [
    {
     "data": {
      "text/html": [
       "<div>\n",
       "<style scoped>\n",
       "    .dataframe tbody tr th:only-of-type {\n",
       "        vertical-align: middle;\n",
       "    }\n",
       "\n",
       "    .dataframe tbody tr th {\n",
       "        vertical-align: top;\n",
       "    }\n",
       "\n",
       "    .dataframe thead th {\n",
       "        text-align: right;\n",
       "    }\n",
       "</style>\n",
       "<table border=\"1\" class=\"dataframe\">\n",
       "  <thead>\n",
       "    <tr style=\"text-align: right;\">\n",
       "      <th></th>\n",
       "      <th>************************************************************************************************</th>\n",
       "    </tr>\n",
       "  </thead>\n",
       "  <tbody>\n",
       "    <tr>\n",
       "      <th>Producto basado en un modelo de pronóstico numérico del tiempo</th>\n",
       "      <td></td>\n",
       "    </tr>\n",
       "    <tr>\n",
       "      <th>por lo tanto puede diferir del pronostico emitido por el SMN</th>\n",
       "      <td>NaN</td>\n",
       "    </tr>\n",
       "    <tr>\n",
       "      <th>************************************************************************************************</th>\n",
       "      <td>NaN</td>\n",
       "    </tr>\n",
       "    <tr>\n",
       "      <th>AEROPARQUE</th>\n",
       "      <td>NaN</td>\n",
       "    </tr>\n",
       "    <tr>\n",
       "      <th>================================================================================================</th>\n",
       "      <td>NaN</td>\n",
       "    </tr>\n",
       "    <tr>\n",
       "      <th>...</th>\n",
       "      <td>...</td>\n",
       "    </tr>\n",
       "    <tr>\n",
       "      <th>06/DIC/2024 12Hs.        13.1       314 |  12         0.0</th>\n",
       "      <td>NaN</td>\n",
       "    </tr>\n",
       "    <tr>\n",
       "      <th>06/DIC/2024 15Hs.        16.2       297 |  15         0.0</th>\n",
       "      <td>NaN</td>\n",
       "    </tr>\n",
       "    <tr>\n",
       "      <th>06/DIC/2024 18Hs.        15.2       304 |  23         0.0</th>\n",
       "      <td>NaN</td>\n",
       "    </tr>\n",
       "    <tr>\n",
       "      <th>06/DIC/2024 21Hs.         9.1       308 |  17         0.0</th>\n",
       "      <td>NaN</td>\n",
       "    </tr>\n",
       "    <tr>\n",
       "      <th>================================================================================================</th>\n",
       "      <td>NaN</td>\n",
       "    </tr>\n",
       "  </tbody>\n",
       "</table>\n",
       "<p>187 rows × 1 columns</p>\n",
       "</div>"
      ],
      "text/plain": [
       "                                                   ************************************************************************************************\n",
       "Producto basado en un modelo de pronóstico numé...                                                                                                 \n",
       "por lo tanto puede diferir del pronostico emiti...                                                NaN                                              \n",
       "***********************************************...                                                NaN                                              \n",
       "AEROPARQUE                                                                                        NaN                                              \n",
       "===============================================...                                                NaN                                              \n",
       "...                                                                                               ...                                              \n",
       " 06/DIC/2024 12Hs.        13.1       314 |  12 ...                                                NaN                                              \n",
       " 06/DIC/2024 15Hs.        16.2       297 |  15 ...                                                NaN                                              \n",
       " 06/DIC/2024 18Hs.        15.2       304 |  23 ...                                                NaN                                              \n",
       " 06/DIC/2024 21Hs.         9.1       308 |  17 ...                                                NaN                                              \n",
       "===============================================...                                                NaN                                              \n",
       "\n",
       "[187 rows x 1 columns]"
      ]
     },
     "execution_count": 18,
     "metadata": {},
     "output_type": "execute_result"
    }
   ],
   "source": [
    "pronostico = pd.read_csv(smn_path / 'pronostico_header4.txt')\n",
    "pronostico"
   ]
  },
  {
   "cell_type": "markdown",
   "metadata": {},
   "source": [
    "Probemos usando `read_fwf`, que es capaz de leer tablas con columnas de ancho fijo:"
   ]
  },
  {
   "cell_type": "code",
   "execution_count": 19,
   "metadata": {},
   "outputs": [
    {
     "data": {
      "text/html": [
       "<div>\n",
       "<style scoped>\n",
       "    .dataframe tbody tr th:only-of-type {\n",
       "        vertical-align: middle;\n",
       "    }\n",
       "\n",
       "    .dataframe tbody tr th {\n",
       "        vertical-align: top;\n",
       "    }\n",
       "\n",
       "    .dataframe thead th {\n",
       "        text-align: right;\n",
       "    }\n",
       "</style>\n",
       "<table border=\"1\" class=\"dataframe\">\n",
       "  <thead>\n",
       "    <tr style=\"text-align: right;\">\n",
       "      <th></th>\n",
       "      <th>AEROPARQUE</th>\n",
       "    </tr>\n",
       "  </thead>\n",
       "  <tbody>\n",
       "    <tr>\n",
       "      <th>0</th>\n",
       "      <td>==============================================...</td>\n",
       "    </tr>\n",
       "    <tr>\n",
       "      <th>1</th>\n",
       "      <td>FECHA *          TEMPERATURA      VIENTO      ...</td>\n",
       "    </tr>\n",
       "    <tr>\n",
       "      <th>2</th>\n",
       "      <td>(DIR | KM/H)</td>\n",
       "    </tr>\n",
       "    <tr>\n",
       "      <th>3</th>\n",
       "      <td>==============================================...</td>\n",
       "    </tr>\n",
       "    <tr>\n",
       "      <th>4</th>\n",
       "      <td>02/DIC/2024 00Hs.        16.0       236 |  17 ...</td>\n",
       "    </tr>\n",
       "    <tr>\n",
       "      <th>5</th>\n",
       "      <td>02/DIC/2024 03Hs.        14.4       196 |  18 ...</td>\n",
       "    </tr>\n",
       "    <tr>\n",
       "      <th>6</th>\n",
       "      <td>02/DIC/2024 06Hs.        10.6       190 |   8 ...</td>\n",
       "    </tr>\n",
       "    <tr>\n",
       "      <th>7</th>\n",
       "      <td>02/DIC/2024 09Hs.        14.9       221 |  11 ...</td>\n",
       "    </tr>\n",
       "    <tr>\n",
       "      <th>8</th>\n",
       "      <td>02/DIC/2024 12Hs.        19.2       249 |  12 ...</td>\n",
       "    </tr>\n",
       "    <tr>\n",
       "      <th>9</th>\n",
       "      <td>02/DIC/2024 15Hs.        21.6       241 |  15 ...</td>\n",
       "    </tr>\n",
       "  </tbody>\n",
       "</table>\n",
       "</div>"
      ],
      "text/plain": [
       "                                          AEROPARQUE\n",
       "0  ==============================================...\n",
       "1  FECHA *          TEMPERATURA      VIENTO      ...\n",
       "2                                       (DIR | KM/H)\n",
       "3  ==============================================...\n",
       "4  02/DIC/2024 00Hs.        16.0       236 |  17 ...\n",
       "5  02/DIC/2024 03Hs.        14.4       196 |  18 ...\n",
       "6  02/DIC/2024 06Hs.        10.6       190 |   8 ...\n",
       "7  02/DIC/2024 09Hs.        14.9       221 |  11 ...\n",
       "8  02/DIC/2024 12Hs.        19.2       249 |  12 ...\n",
       "9  02/DIC/2024 15Hs.        21.6       241 |  15 ..."
      ]
     },
     "execution_count": 19,
     "metadata": {},
     "output_type": "execute_result"
    }
   ],
   "source": [
    "pronostico = pd.read_fwf(smn_path / 'pronostico_header4.txt',skiprows=5)\n",
    "pronostico.head(10)\n"
   ]
  },
  {
   "cell_type": "markdown",
   "metadata": {},
   "source": [
    "Como se esperaba, no parece ser la solución porque la estructura del archivo no es estrictamente de columnas de ancho fijo, sino de secciones de columnas de ancho fijo. Entonces tenemos que preprocesar el archivo para llegar a obtener esas secciones:"
   ]
  },
  {
   "cell_type": "code",
   "execution_count": 20,
   "metadata": {},
   "outputs": [
    {
     "name": "stdout",
     "output_type": "stream",
     "text": [
      "Sección 0 --------------------------------------------------------------------------------\n",
      "************************************************************************************************\n",
      " Producto basado en un modelo de pronóstico numérico del tiempo, \n",
      " por lo tanto puede diferir del pronostico emitido por el SMN\n",
      " ************************************************************************************************\n",
      " \n",
      " AEROPARQUE\n",
      " \n",
      "Sección 1 --------------------------------------------------------------------------------\n",
      "\n",
      "      FECHA *          TEMPERATURA      VIENTO      PRECIPITACION(mm)\n",
      "                                     (DIR | KM/H)                        \n",
      " \n",
      "Sección 2 --------------------------------------------------------------------------------\n",
      "\n",
      "  08/ABR/2025 00Hs.        15.4       116 |  27         7.5 \n",
      "  08/ABR/2025 03Hs.        15.6       112 |  25         3.0 \n",
      "  08/ABR/2025 06Hs.        16.0       114 |  26         3.0 \n",
      "  08/ABR/2025 09Hs.        16.3       115 |  26         1.7 \n",
      "  08/ABR/2025 12Hs.        16.6       123 |  22         1.1 \n",
      "  08/ABR/2025 15Hs.        17.0       123 |  24         0.9 \n",
      "  08/ABR/2025 18Hs.        16.7       117 |  24         1.8 \n",
      "  08/ABR/2025 21Hs.        16.6       104 |  22         1.4 \n",
      "  09/ABR/2025 00Hs.        16.7       100 |  22         0.6 \n",
      "  09/ABR/2025 03Hs.        16.2       110 |  21         1.2 \n",
      "  09/ABR/2025 06Hs.        16.0       107 |  18         1.3 \n",
      "  09/ABR/2025 09Hs.        16.1        99 |  18         1.9 \n",
      "  09/ABR/2025 12Hs.        17.3        99 |  14         0.7 \n",
      "  09/ABR/2025 15Hs.        19.9       106 |  19         0.4 \n",
      "  09/ABR/2025 18Hs.        18.2       104 |  17         0.0 \n",
      "  09/ABR/2025 21Hs.        17.1       108 |  16         0.0 \n",
      "  10/ABR/2025 00Hs.        17.1       109 |  15         0.0 \n",
      "  10/ABR/2025 03Hs.        17.6       104 |  16         0.0 \n",
      "  10/ABR/2025 06Hs.        17.0        94 |  13         0.0 \n",
      "  10/ABR/2025 09Hs.        18.2        98 |  13         0.0 \n",
      "  10/ABR/2025 12Hs.        19.7       102 |  11         0.1 \n",
      "  10/ABR/2025 15Hs.        21.3       138 |  12         0.0 \n",
      "  10/ABR/2025 18Hs.        19.5       120 |  14         0.0 \n",
      "  10/ABR/2025 21Hs.        18.6       109 |   8         0.2 \n",
      "  11/ABR/2025 00Hs.        17.2        22 |   4         0.0 \n",
      "  11/ABR/2025 03Hs.        14.8        35 |   6         0.0 \n",
      "  11/ABR/2025 06Hs.        15.2        26 |   4         0.0 \n",
      "  11/ABR/2025 09Hs.        17.5        30 |   2         0.0 \n",
      "  11/ABR/2025 12Hs.        19.6         6 |   3         0.2 \n",
      "  11/ABR/2025 15Hs.        22.8       326 |   3         0.0 \n",
      "  11/ABR/2025 18Hs.        20.1       187 |   4         0.0 \n",
      "  11/ABR/2025 21Hs.        18.2       115 |   3         0.0 \n",
      "  12/ABR/2025 00Hs.        16.6       292 |   3         0.0 \n",
      "  12/ABR/2025 03Hs.        15.1       254 |   6         0.0 \n",
      "  12/ABR/2025 06Hs.        14.4       239 |   6         0.0 \n",
      "  12/ABR/2025 09Hs.        17.6       213 |   6         0.0 \n",
      "  12/ABR/2025 12Hs.        22.4       149 |   7         0.0 \n",
      "  12/ABR/2025 15Hs.        22.8       123 |   8         0.0 \n",
      "  12/ABR/2025 18Hs.        19.5        72 |   4         0.0 \n",
      "  12/ABR/2025 21Hs.        17.0        95 |   8         0.0 \n",
      " \n",
      "Sección 3 --------------------------------------------------------------------------------\n",
      "\n",
      " AZUL_AERO\n",
      " \n",
      "Sección 4 --------------------------------------------------------------------------------\n",
      "\n",
      "      FECHA *          TEMPERATURA      VIENTO      PRECIPITACION(mm)\n",
      "                                     (DIR | KM/H)                        \n",
      " \n"
     ]
    }
   ],
   "source": [
    "with open(smn_path / 'pronostico_5dias20250408.txt', 'r') as file:\n",
    "    content = file.read()\n",
    "\n",
    "# Dividir el contenido en secciones por aeropuerto\n",
    "sep =  \"================================================================================================\"\n",
    "sections = content.split(sep)\n",
    "for i,s in enumerate(sections[0:5]):\n",
    "    print(f\"Sección {i} {'-'*80}\")\n",
    "    print(f\"{s}\")"
   ]
  },
  {
   "cell_type": "code",
   "execution_count": 21,
   "metadata": {},
   "outputs": [
    {
     "name": "stdout",
     "output_type": "stream",
     "text": [
      "Estación :  ************************************************************************************************\n",
      " Producto basado en un modelo de pronóstico numérico del tiempo, \n",
      " por lo tanto puede diferir del pronostico emitido por el SMN\n",
      " ************************************************************************************************\n",
      " \n",
      " AEROPARQUE\n",
      " \n",
      "Header :  \n",
      "      FECHA *          TEMPERATURA      VIENTO      PRECIPITACION(mm)\n",
      "                                     (DIR | KM/H)                        \n",
      " \n",
      "Pronóstico :  \n",
      "  08/ABR/2025 00Hs.        15.4       116 |  27         7.5 \n",
      "  08/ABR/2025 03Hs.        15.6       112 |  25         3.0 \n",
      "  08/ABR/2025 06Hs.        16.0       114 |  26         3.0 \n",
      "  08/ABR/2025 09Hs.        16.3       115 |  26         1.7 \n",
      "  08/ABR/2025 12Hs.        16.6       123 |  22         1.1 \n",
      "  08/ABR/2025 15Hs.        17.0       123 |  24         0.9 \n",
      "  08/ABR/2025 18Hs.        16.7       117 |  24         1.8 \n",
      "  08/ABR/2025 21Hs.        16.6       104 |  22         1.4 \n",
      "  09/ABR/2025 00Hs.        16.7       100 |  22         0.6 \n",
      "  09/ABR/2025 03Hs.        16.2       110 |  21         1.2 \n",
      "  09/ABR/2025 06Hs.        16.0       107 |  18         1.3 \n",
      "  09/ABR/2025 09Hs.        16.1        99 |  18         1.9 \n",
      "  09/ABR/2025 12Hs.        17.3        99 |  14         0.7 \n",
      "  09/ABR/2025 15Hs.        19.9       106 |  19         0.4 \n",
      "  09/ABR/2025 18Hs.        18.2       104 |  17         0.0 \n",
      "  09/ABR/2025 21Hs.        17.1       108 |  16         0.0 \n",
      "  10/ABR/2025 00Hs.        17.1       109 |  15         0.0 \n",
      "  10/ABR/2025 03Hs.        17.6       104 |  16         0.0 \n",
      "  10/ABR/2025 06Hs.        17.0        94 |  13         0.0 \n",
      "  10/ABR/2025 09Hs.        18.2        98 |  13         0.0 \n",
      "  10/ABR/2025 12Hs.        19.7       102 |  11         0.1 \n",
      "  10/ABR/2025 15Hs.        21.3       138 |  12         0.0 \n",
      "  10/ABR/2025 18Hs.        19.5       120 |  14         0.0 \n",
      "  10/ABR/2025 21Hs.        18.6       109 |   8         0.2 \n",
      "  11/ABR/2025 00Hs.        17.2        22 |   4         0.0 \n",
      "  11/ABR/2025 03Hs.        14.8        35 |   6         0.0 \n",
      "  11/ABR/2025 06Hs.        15.2        26 |   4         0.0 \n",
      "  11/ABR/2025 09Hs.        17.5        30 |   2         0.0 \n",
      "  11/ABR/2025 12Hs.        19.6         6 |   3         0.2 \n",
      "  11/ABR/2025 15Hs.        22.8       326 |   3         0.0 \n",
      "  11/ABR/2025 18Hs.        20.1       187 |   4         0.0 \n",
      "  11/ABR/2025 21Hs.        18.2       115 |   3         0.0 \n",
      "  12/ABR/2025 00Hs.        16.6       292 |   3         0.0 \n",
      "  12/ABR/2025 03Hs.        15.1       254 |   6         0.0 \n",
      "  12/ABR/2025 06Hs.        14.4       239 |   6         0.0 \n",
      "  12/ABR/2025 09Hs.        17.6       213 |   6         0.0 \n",
      "  12/ABR/2025 12Hs.        22.4       149 |   7         0.0 \n",
      "  12/ABR/2025 15Hs.        22.8       123 |   8         0.0 \n",
      "  12/ABR/2025 18Hs.        19.5        72 |   4         0.0 \n",
      "  12/ABR/2025 21Hs.        17.0        95 |   8         0.0 \n",
      " \n"
     ]
    }
   ],
   "source": [
    "print(\"Estación : \", sections[0])\n",
    "print(\"Header : \", sections[1])\n",
    "print(\"Pronóstico : \", sections[2])\n"
   ]
  },
  {
   "cell_type": "markdown",
   "metadata": {},
   "source": [
    "La lista `sections` contiene secciones que corresponden a una estación meteorológica, cuyos nombres son:"
   ]
  },
  {
   "cell_type": "code",
   "execution_count": 22,
   "metadata": {},
   "outputs": [
    {
     "name": "stdout",
     "output_type": "stream",
     "text": [
      "AEROPARQUE\n",
      "AZUL_AERO\n",
      "BAHIA_BLANCA_AERO\n"
     ]
    }
   ],
   "source": [
    "print(sections[0].split('\\n')[-2].strip()) # tratamiento especial para remover el comentario\n",
    "print(sections[3].strip())\n",
    "print(sections[6].strip())"
   ]
  },
  {
   "cell_type": "markdown",
   "metadata": {},
   "source": [
    "> La primer sección debe trabajarse a mano debido al comentario que posee el archivo\n",
    "\n",
    "Las siguientes serían las secciones de headers que en principio no nos harían falta:"
   ]
  },
  {
   "cell_type": "code",
   "execution_count": 23,
   "metadata": {},
   "outputs": [
    {
     "name": "stdout",
     "output_type": "stream",
     "text": [
      "FECHA *          TEMPERATURA      VIENTO      PRECIPITACION(mm)\n",
      "                                     (DIR | KM/H)\n",
      "FECHA *          TEMPERATURA      VIENTO      PRECIPITACION(mm)\n",
      "                                     (DIR | KM/H)\n",
      "FECHA *          TEMPERATURA      VIENTO      PRECIPITACION(mm)\n",
      "                                     (DIR | KM/H)\n"
     ]
    }
   ],
   "source": [
    "print(sections[1].strip())\n",
    "print(sections[4].strip())\n",
    "print(sections[7].strip())"
   ]
  },
  {
   "cell_type": "markdown",
   "metadata": {},
   "source": [
    "Finalmente tenemos las secciones con los datos:"
   ]
  },
  {
   "cell_type": "code",
   "execution_count": 24,
   "metadata": {},
   "outputs": [
    {
     "name": "stdout",
     "output_type": "stream",
     "text": [
      "['', '  08/ABR/2025 00Hs.        15.4       116 |  27         7.5 ', '  08/ABR/2025 03Hs.        15.6       112 |  25         3.0 ', '  08/ABR/2025 06Hs.        16.0       114 |  26         3.0 ', '  08/ABR/2025 09Hs.        16.3       115 |  26         1.7 ']\n",
      "['', '  08/ABR/2025 00Hs.        10.3       109 |  15         0.0 ', '  08/ABR/2025 03Hs.         9.3       124 |  12         0.0 ', '  08/ABR/2025 06Hs.         8.9       134 |  11         0.0 ', '  08/ABR/2025 09Hs.        12.6       122 |  18         0.0 ']\n",
      "['', '  08/ABR/2025 00Hs.        13.5        35 |  20         0.0 ', '  08/ABR/2025 03Hs.        11.7        31 |  16         0.0 ', '  08/ABR/2025 06Hs.        10.7        42 |  12         0.0 ', '  08/ABR/2025 09Hs.        12.6        50 |  15         0.0 ']\n"
     ]
    }
   ],
   "source": [
    "print(sections[2].split('\\n')[:5])\n",
    "print(sections[5].split('\\n')[:5])\n",
    "print(sections[8].split('\\n')[:5])"
   ]
  },
  {
   "cell_type": "markdown",
   "metadata": {},
   "source": [
    "Ahora sí podemos usar `read_fwf` para transformar las secciones en `DataFrame`s. Para ello tenemos que convertir cada `section` (que es un string) en un tipo de buffer en memoria que se comporte como un archivo. Obsérvese que si hacemos:\n"
   ]
  },
  {
   "cell_type": "code",
   "execution_count": 25,
   "metadata": {},
   "outputs": [
    {
     "data": {
      "text/html": [
       "<div>\n",
       "<style scoped>\n",
       "    .dataframe tbody tr th:only-of-type {\n",
       "        vertical-align: middle;\n",
       "    }\n",
       "\n",
       "    .dataframe tbody tr th {\n",
       "        vertical-align: top;\n",
       "    }\n",
       "\n",
       "    .dataframe thead th {\n",
       "        text-align: right;\n",
       "    }\n",
       "</style>\n",
       "<table border=\"1\" class=\"dataframe\">\n",
       "  <thead>\n",
       "    <tr style=\"text-align: right;\">\n",
       "      <th></th>\n",
       "      <th>08/ABR/2025</th>\n",
       "      <th>00Hs.</th>\n",
       "      <th>10.3</th>\n",
       "      <th>109</th>\n",
       "      <th>|</th>\n",
       "      <th>15</th>\n",
       "      <th>0.0</th>\n",
       "    </tr>\n",
       "  </thead>\n",
       "  <tbody>\n",
       "    <tr>\n",
       "      <th>0</th>\n",
       "      <td>08/ABR/2025</td>\n",
       "      <td>03Hs.</td>\n",
       "      <td>9.3</td>\n",
       "      <td>124</td>\n",
       "      <td>|</td>\n",
       "      <td>12</td>\n",
       "      <td>0.0</td>\n",
       "    </tr>\n",
       "    <tr>\n",
       "      <th>1</th>\n",
       "      <td>08/ABR/2025</td>\n",
       "      <td>06Hs.</td>\n",
       "      <td>8.9</td>\n",
       "      <td>134</td>\n",
       "      <td>|</td>\n",
       "      <td>11</td>\n",
       "      <td>0.0</td>\n",
       "    </tr>\n",
       "    <tr>\n",
       "      <th>2</th>\n",
       "      <td>08/ABR/2025</td>\n",
       "      <td>09Hs.</td>\n",
       "      <td>12.6</td>\n",
       "      <td>122</td>\n",
       "      <td>|</td>\n",
       "      <td>18</td>\n",
       "      <td>0.0</td>\n",
       "    </tr>\n",
       "    <tr>\n",
       "      <th>3</th>\n",
       "      <td>08/ABR/2025</td>\n",
       "      <td>12Hs.</td>\n",
       "      <td>19.4</td>\n",
       "      <td>95</td>\n",
       "      <td>|</td>\n",
       "      <td>22</td>\n",
       "      <td>0.0</td>\n",
       "    </tr>\n",
       "    <tr>\n",
       "      <th>4</th>\n",
       "      <td>08/ABR/2025</td>\n",
       "      <td>15Hs.</td>\n",
       "      <td>21.4</td>\n",
       "      <td>99</td>\n",
       "      <td>|</td>\n",
       "      <td>28</td>\n",
       "      <td>0.0</td>\n",
       "    </tr>\n",
       "  </tbody>\n",
       "</table>\n",
       "</div>"
      ],
      "text/plain": [
       "   08/ABR/2025  00Hs.  10.3  109  |  15  0.0\n",
       "0  08/ABR/2025  03Hs.   9.3  124  |  12  0.0\n",
       "1  08/ABR/2025  06Hs.   8.9  134  |  11  0.0\n",
       "2  08/ABR/2025  09Hs.  12.6  122  |  18  0.0\n",
       "3  08/ABR/2025  12Hs.  19.4   95  |  22  0.0\n",
       "4  08/ABR/2025  15Hs.  21.4   99  |  28  0.0"
      ]
     },
     "execution_count": 25,
     "metadata": {},
     "output_type": "execute_result"
    }
   ],
   "source": [
    "from io import StringIO \n",
    "\n",
    "with StringIO(sections[5]) as data_io:\n",
    "    df_malo = pd.read_fwf(data_io)\n",
    "    \n",
    "df_malo.head()"
   ]
  },
  {
   "cell_type": "markdown",
   "metadata": {},
   "source": [
    "Es decir que la primer fila del _stream_ es tomada como los nombres de las columnas. Tenemos que pasar el argumento opcional `names` para definir los nombres de las columnas:"
   ]
  },
  {
   "cell_type": "code",
   "execution_count": 26,
   "metadata": {},
   "outputs": [
    {
     "data": {
      "text/html": [
       "<div>\n",
       "<style scoped>\n",
       "    .dataframe tbody tr th:only-of-type {\n",
       "        vertical-align: middle;\n",
       "    }\n",
       "\n",
       "    .dataframe tbody tr th {\n",
       "        vertical-align: top;\n",
       "    }\n",
       "\n",
       "    .dataframe thead th {\n",
       "        text-align: right;\n",
       "    }\n",
       "</style>\n",
       "<table border=\"1\" class=\"dataframe\">\n",
       "  <thead>\n",
       "    <tr style=\"text-align: right;\">\n",
       "      <th></th>\n",
       "      <th>fecha</th>\n",
       "      <th>h</th>\n",
       "      <th>t</th>\n",
       "      <th>v_dir</th>\n",
       "      <th>l</th>\n",
       "      <th>v_vel</th>\n",
       "      <th>precip</th>\n",
       "    </tr>\n",
       "  </thead>\n",
       "  <tbody>\n",
       "    <tr>\n",
       "      <th>0</th>\n",
       "      <td>08/ABR/2025</td>\n",
       "      <td>00Hs.</td>\n",
       "      <td>15.4</td>\n",
       "      <td>116</td>\n",
       "      <td>|</td>\n",
       "      <td>27</td>\n",
       "      <td>7.5</td>\n",
       "    </tr>\n",
       "    <tr>\n",
       "      <th>1</th>\n",
       "      <td>08/ABR/2025</td>\n",
       "      <td>03Hs.</td>\n",
       "      <td>15.6</td>\n",
       "      <td>112</td>\n",
       "      <td>|</td>\n",
       "      <td>25</td>\n",
       "      <td>3.0</td>\n",
       "    </tr>\n",
       "    <tr>\n",
       "      <th>2</th>\n",
       "      <td>08/ABR/2025</td>\n",
       "      <td>06Hs.</td>\n",
       "      <td>16.0</td>\n",
       "      <td>114</td>\n",
       "      <td>|</td>\n",
       "      <td>26</td>\n",
       "      <td>3.0</td>\n",
       "    </tr>\n",
       "    <tr>\n",
       "      <th>3</th>\n",
       "      <td>08/ABR/2025</td>\n",
       "      <td>09Hs.</td>\n",
       "      <td>16.3</td>\n",
       "      <td>115</td>\n",
       "      <td>|</td>\n",
       "      <td>26</td>\n",
       "      <td>1.7</td>\n",
       "    </tr>\n",
       "    <tr>\n",
       "      <th>4</th>\n",
       "      <td>08/ABR/2025</td>\n",
       "      <td>12Hs.</td>\n",
       "      <td>16.6</td>\n",
       "      <td>123</td>\n",
       "      <td>|</td>\n",
       "      <td>22</td>\n",
       "      <td>1.1</td>\n",
       "    </tr>\n",
       "  </tbody>\n",
       "</table>\n",
       "</div>"
      ],
      "text/plain": [
       "         fecha      h     t  v_dir  l  v_vel  precip\n",
       "0  08/ABR/2025  00Hs.  15.4    116  |     27     7.5\n",
       "1  08/ABR/2025  03Hs.  15.6    112  |     25     3.0\n",
       "2  08/ABR/2025  06Hs.  16.0    114  |     26     3.0\n",
       "3  08/ABR/2025  09Hs.  16.3    115  |     26     1.7\n",
       "4  08/ABR/2025  12Hs.  16.6    123  |     22     1.1"
      ]
     },
     "execution_count": 26,
     "metadata": {},
     "output_type": "execute_result"
    }
   ],
   "source": [
    "with StringIO(sections[2]) as data_io:\n",
    "    df = pd.read_fwf(data_io,names=['fecha','h','t','v_dir','l','v_vel','precip'])\n",
    "    \n",
    "df.head()"
   ]
  },
  {
   "cell_type": "markdown",
   "metadata": {},
   "source": [
    "\n",
    "Para terminar podemos eliminar la columna `l` que no aporta información:"
   ]
  },
  {
   "cell_type": "code",
   "execution_count": 27,
   "metadata": {},
   "outputs": [
    {
     "data": {
      "text/html": [
       "<div>\n",
       "<style scoped>\n",
       "    .dataframe tbody tr th:only-of-type {\n",
       "        vertical-align: middle;\n",
       "    }\n",
       "\n",
       "    .dataframe tbody tr th {\n",
       "        vertical-align: top;\n",
       "    }\n",
       "\n",
       "    .dataframe thead th {\n",
       "        text-align: right;\n",
       "    }\n",
       "</style>\n",
       "<table border=\"1\" class=\"dataframe\">\n",
       "  <thead>\n",
       "    <tr style=\"text-align: right;\">\n",
       "      <th></th>\n",
       "      <th>fecha</th>\n",
       "      <th>h</th>\n",
       "      <th>t</th>\n",
       "      <th>v_dir</th>\n",
       "      <th>v_vel</th>\n",
       "      <th>precip</th>\n",
       "    </tr>\n",
       "  </thead>\n",
       "  <tbody>\n",
       "    <tr>\n",
       "      <th>0</th>\n",
       "      <td>08/ABR/2025</td>\n",
       "      <td>00Hs.</td>\n",
       "      <td>15.4</td>\n",
       "      <td>116</td>\n",
       "      <td>27</td>\n",
       "      <td>7.5</td>\n",
       "    </tr>\n",
       "    <tr>\n",
       "      <th>1</th>\n",
       "      <td>08/ABR/2025</td>\n",
       "      <td>03Hs.</td>\n",
       "      <td>15.6</td>\n",
       "      <td>112</td>\n",
       "      <td>25</td>\n",
       "      <td>3.0</td>\n",
       "    </tr>\n",
       "    <tr>\n",
       "      <th>2</th>\n",
       "      <td>08/ABR/2025</td>\n",
       "      <td>06Hs.</td>\n",
       "      <td>16.0</td>\n",
       "      <td>114</td>\n",
       "      <td>26</td>\n",
       "      <td>3.0</td>\n",
       "    </tr>\n",
       "    <tr>\n",
       "      <th>3</th>\n",
       "      <td>08/ABR/2025</td>\n",
       "      <td>09Hs.</td>\n",
       "      <td>16.3</td>\n",
       "      <td>115</td>\n",
       "      <td>26</td>\n",
       "      <td>1.7</td>\n",
       "    </tr>\n",
       "    <tr>\n",
       "      <th>4</th>\n",
       "      <td>08/ABR/2025</td>\n",
       "      <td>12Hs.</td>\n",
       "      <td>16.6</td>\n",
       "      <td>123</td>\n",
       "      <td>22</td>\n",
       "      <td>1.1</td>\n",
       "    </tr>\n",
       "  </tbody>\n",
       "</table>\n",
       "</div>"
      ],
      "text/plain": [
       "         fecha      h     t  v_dir  v_vel  precip\n",
       "0  08/ABR/2025  00Hs.  15.4    116     27     7.5\n",
       "1  08/ABR/2025  03Hs.  15.6    112     25     3.0\n",
       "2  08/ABR/2025  06Hs.  16.0    114     26     3.0\n",
       "3  08/ABR/2025  09Hs.  16.3    115     26     1.7\n",
       "4  08/ABR/2025  12Hs.  16.6    123     22     1.1"
      ]
     },
     "execution_count": 27,
     "metadata": {},
     "output_type": "execute_result"
    }
   ],
   "source": [
    "df.drop(columns=['l'],inplace=True)\n",
    "df.head()"
   ]
  },
  {
   "cell_type": "markdown",
   "metadata": {},
   "source": [
    "-----\n",
    "## Ejercicio 14(a)\n",
    "\n",
    "Complete la tabla de datos del ejemplo de clase. Para ello utilice el archivo con los pronósticos completos para todas las estaciones, `pronostico_5dias20250408.txt` y \n",
    "\n",
    "- Agregue una columna con el nombre de la estación al DataFrame\n",
    "- Procese todas las estaciones\n",
    "\n",
    "-----"
   ]
  }
 ],
 "metadata": {
  "kernelspec": {
   "display_name": "Python 3 (ipykernel)",
   "language": "python",
   "name": "python3"
  },
  "language_info": {
   "codemirror_mode": {
    "name": "ipython",
    "version": 3
   },
   "file_extension": ".py",
   "mimetype": "text/x-python",
   "name": "python",
   "nbconvert_exporter": "python",
   "pygments_lexer": "ipython3",
   "version": "3.13.2"
  }
 },
 "nbformat": 4,
 "nbformat_minor": 4
}
