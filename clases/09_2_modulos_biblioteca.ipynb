{
 "cells": [
  {
   "cell_type": "markdown",
   "id": "4432a533-f50f-475a-809b-35cb0c1769d4",
   "metadata": {
    "ein.tags": "worksheet-0",
    "slideshow": {
     "slide_type": "-"
    }
   },
   "source": [
    "## Algunos módulos (biblioteca standard)  <a class=\"tocSkip\">"
   ]
  },
  {
   "cell_type": "markdown",
   "id": "402b53bd-24a1-4144-be1c-1140138a6aa6",
   "metadata": {
    "ein.tags": "worksheet-0",
    "slideshow": {
     "slide_type": "-"
    }
   },
   "source": [
    "Los módulos pueden pensarse como bibliotecas de objetos (funciones, datos, etc) que pueden usarse según la necesidad. Hay una biblioteca standard con rutinas para muchas operaciones comunes, y además existen muchos paquetes específicos para distintas tareas. Veamos algunos ejemplos:\n",
    "\n",
    "### Módulo sys\n",
    "\n",
    "Este módulo da acceso a variables que usa o mantiene el intérprete Python"
   ]
  },
  {
   "cell_type": "code",
   "execution_count": 1,
   "id": "a5aac599-922b-4bcb-9b68-f67363e3b790",
   "metadata": {
    "autoscroll": false,
    "ein.hycell": false,
    "ein.tags": "worksheet-0",
    "slideshow": {
     "slide_type": "-"
    }
   },
   "outputs": [],
   "source": [
    "import sys"
   ]
  },
  {
   "cell_type": "code",
   "execution_count": 2,
   "id": "3d0d0145-2423-412f-8a9b-51ac3a06b518",
   "metadata": {
    "autoscroll": false,
    "ein.hycell": false,
    "ein.tags": "worksheet-0",
    "slideshow": {
     "slide_type": "-"
    }
   },
   "outputs": [
    {
     "data": {
      "text/plain": [
       "['/usr/lib64/python313.zip',\n",
       " '/usr/lib64/python3.13',\n",
       " '/usr/lib64/python3.13/lib-dynload',\n",
       " '',\n",
       " '/home/fiol/.local/lib/python3.13/site-packages',\n",
       " '/home/fiol/Trabajos/tof-related/tof-simulator',\n",
       " '/usr/lib64/python3.13/site-packages',\n",
       " '/usr/lib/python3.13/site-packages']"
      ]
     },
     "execution_count": 2,
     "metadata": {},
     "output_type": "execute_result"
    }
   ],
   "source": [
    "sys.path"
   ]
  },
  {
   "cell_type": "code",
   "execution_count": 3,
   "id": "a4e3846b-96e4-4380-8d4a-c789cfb038f0",
   "metadata": {
    "autoscroll": false,
    "ein.hycell": false,
    "ein.tags": "worksheet-0",
    "slideshow": {
     "slide_type": "-"
    }
   },
   "outputs": [
    {
     "data": {
      "text/plain": [
       "'utf-8'"
      ]
     },
     "execution_count": 3,
     "metadata": {},
     "output_type": "execute_result"
    }
   ],
   "source": [
    "sys.getfilesystemencoding()"
   ]
  },
  {
   "cell_type": "code",
   "execution_count": 4,
   "id": "753c70b2-8377-4d17-9fa3-5ab264b75b1f",
   "metadata": {
    "autoscroll": false,
    "ein.hycell": false,
    "ein.tags": "worksheet-0",
    "slideshow": {
     "slide_type": "-"
    }
   },
   "outputs": [
    {
     "data": {
      "text/plain": [
       "28"
      ]
     },
     "execution_count": 4,
     "metadata": {},
     "output_type": "execute_result"
    }
   ],
   "source": [
    "sys.getsizeof(1)"
   ]
  },
  {
   "cell_type": "code",
   "execution_count": 5,
   "id": "40d1e5a3",
   "metadata": {},
   "outputs": [
    {
     "data": {
      "text/plain": [
       "45"
      ]
     },
     "execution_count": 5,
     "metadata": {},
     "output_type": "execute_result"
    }
   ],
   "source": [
    "sys.getsizeof(\"hola\")"
   ]
  },
  {
   "cell_type": "code",
   "execution_count": 6,
   "id": "0295df1c-6083-46e4-ab68-830bcddf2043",
   "metadata": {
    "autoscroll": false,
    "ein.hycell": false,
    "ein.tags": "worksheet-0",
    "slideshow": {
     "slide_type": "-"
    }
   },
   "outputs": [
    {
     "name": "stdout",
     "output_type": "stream",
     "text": [
      "Help on built-in function getsizeof in module sys:\n",
      "\n",
      "getsizeof(...)\n",
      "    getsizeof(object [, default]) -> int\n",
      "\n",
      "    Return the size of object in bytes.\n",
      "\n"
     ]
    }
   ],
   "source": [
    "help(sys.getsizeof)"
   ]
  },
  {
   "cell_type": "markdown",
   "id": "25d89a62-a457-49c0-9bd8-db9f6a99cc32",
   "metadata": {
    "ein.tags": "worksheet-0",
    "slideshow": {
     "slide_type": "-"
    }
   },
   "source": [
    "Vemos que para utilizar las variables (path) o funciones (getsizeof) debemos referirlo anteponiendo el módulo en el cuál está definido (sys) y separado por un punto.\n",
    "\n",
    "Cuando hacemos un programa, con definición de variables y funciones. Podemos utilizarlo como un módulo, de la misma manera que los que ya vienen definidos en la biblioteca standard o en los paquetes que instalamos."
   ]
  },
  {
   "cell_type": "markdown",
   "id": "0594a456-1e5e-4149-b485-909d76402a89",
   "metadata": {
    "ein.tags": "worksheet-0",
    "slideshow": {
     "slide_type": "-"
    }
   },
   "source": [
    "### Módulo `os`\n",
    "\n",
    "El módulo `os` tiene utilidades para operar sobre nombres de archivos y directorios de manera segura y portable, de manera que pueda utilizarse en distintos sistemas operativos. Vamos a ver ejemplos de uso de algunas facilidades que brinda:"
   ]
  },
  {
   "cell_type": "code",
   "execution_count": 7,
   "id": "a12bfa0a-00b1-43b1-a83c-7d373ca0c941",
   "metadata": {
    "autoscroll": false,
    "ein.hycell": false,
    "ein.tags": "worksheet-0",
    "slideshow": {
     "slide_type": "-"
    }
   },
   "outputs": [
    {
     "name": "stdout",
     "output_type": "stream",
     "text": [
      ".\n",
      "..\n",
      "/home/fiol/Clases/IntPython/clases-python/clases\n"
     ]
    }
   ],
   "source": [
    "import os\n",
    "\n",
    "print(os.curdir)\n",
    "print(os.pardir)\n",
    "print (os.getcwd())"
   ]
  },
  {
   "cell_type": "code",
   "execution_count": 8,
   "id": "c22e89a0-b8b5-41c2-b1d7-3fc5ed37b3fa",
   "metadata": {
    "autoscroll": false,
    "ein.hycell": false,
    "ein.tags": "worksheet-0",
    "slideshow": {
     "slide_type": "-"
    }
   },
   "outputs": [
    {
     "name": "stdout",
     "output_type": "stream",
     "text": [
      "/home/fiol/Clases/IntPython/clases-python/clases\n",
      "/home/fiol/Clases/IntPython/clases-python\n"
     ]
    }
   ],
   "source": [
    "cur = os.getcwd()\n",
    "par = os.path.abspath(\"..\")\n",
    "print(cur)\n",
    "print(par)\n"
   ]
  },
  {
   "cell_type": "code",
   "execution_count": 9,
   "id": "5c11c526-d67c-41af-97ab-fe0e8bf1a442",
   "metadata": {
    "autoscroll": false,
    "ein.hycell": false,
    "ein.tags": "worksheet-0",
    "slideshow": {
     "slide_type": "-"
    }
   },
   "outputs": [
    {
     "name": "stdout",
     "output_type": "stream",
     "text": [
      "/home/fiol/Clases/IntPython/clases-python/clases\n",
      "/home/fiol/Clases/IntPython/clases-python/clases\n"
     ]
    }
   ],
   "source": [
    "print(os.path.abspath(os.curdir))\n",
    "print(os.getcwd())"
   ]
  },
  {
   "cell_type": "code",
   "execution_count": 10,
   "id": "94758552-ee6a-4da8-b50e-67180d9f64f8",
   "metadata": {
    "autoscroll": false,
    "ein.hycell": false,
    "ein.tags": "worksheet-0",
    "slideshow": {
     "slide_type": "-"
    }
   },
   "outputs": [
    {
     "name": "stdout",
     "output_type": "stream",
     "text": [
      "clases\n",
      "('', '/home/fiol/Clases/IntPython/clases-python/clases')\n"
     ]
    }
   ],
   "source": [
    "print(os.path.basename(cur))\n",
    "print(os.path.splitdrive(cur)) # Útil en Windows donde hay letras que identifican las unidades de disco"
   ]
  },
  {
   "cell_type": "code",
   "execution_count": 11,
   "id": "48c93294-5a25-410b-a697-9467d61a737b",
   "metadata": {
    "autoscroll": false,
    "ein.hycell": false,
    "ein.tags": "worksheet-0",
    "slideshow": {
     "slide_type": "-"
    }
   },
   "outputs": [
    {
     "name": "stdout",
     "output_type": "stream",
     "text": [
      "/home/fiol/Clases/IntPython/clases-python\n",
      "/home/fiol/Clases/IntPython/clases-python/este/otro.dat\n",
      "('/home/fiol/Clases/IntPython/clases-python/este', 'otro.dat')\n",
      "('/home/fiol/Clases/IntPython/clases-python/este/otro', '.dat')\n",
      "False\n",
      "True\n"
     ]
    }
   ],
   "source": [
    "print(os.path.commonprefix((cur, par)))\n",
    "archivo = os.path.join(par,'este' , 'otro.dat')\n",
    "print (archivo)\n",
    "print (os.path.split(archivo))\n",
    "print (os.path.splitext(archivo))\n",
    "print (os.path.exists(archivo))\n",
    "print (os.path.exists(cur))\n"
   ]
  },
  {
   "cell_type": "markdown",
   "id": "e472ccda-513f-4302-940a-733d0e32c934",
   "metadata": {
    "ein.tags": "worksheet-0",
    "slideshow": {
     "slide_type": "-"
    }
   },
   "source": [
    "Como es aparente de estos ejemplos, se puede acceder a todos los objetos (funciones, variables) de un módulo utilizando simplemente la línea `import <modulo>` pero puede ser tedioso escribir todo con prefijos (como `os.path.abspath`) por lo que existen dos alternativas que pueden ser más convenientes. La primera corresponde a importar todas las definiciones de un módulo en forma implícita:"
   ]
  },
  {
   "cell_type": "code",
   "execution_count": 12,
   "id": "3772093a-98b7-47cc-8bc7-e324cc4fbcd9",
   "metadata": {
    "autoscroll": false,
    "ein.hycell": false,
    "ein.tags": "worksheet-0",
    "slideshow": {
     "slide_type": "-"
    }
   },
   "outputs": [],
   "source": [
    "from os import *"
   ]
  },
  {
   "cell_type": "markdown",
   "id": "06111b7c-08dc-4ded-88d3-d6e60f3694e3",
   "metadata": {
    "ein.tags": "worksheet-0",
    "slideshow": {
     "slide_type": "-"
    }
   },
   "source": [
    "Después de esta declaración usamos los objetos de la misma manera que antes pero obviando la parte de `os.`"
   ]
  },
  {
   "cell_type": "code",
   "execution_count": 13,
   "id": "d13f1693-c044-4735-9b6e-4733df447668",
   "metadata": {
    "autoscroll": false,
    "ein.hycell": false,
    "ein.tags": "worksheet-0",
    "slideshow": {
     "slide_type": "-"
    }
   },
   "outputs": [
    {
     "data": {
      "text/plain": [
       "'/home/fiol/Clases/IntPython/clases-python/clases'"
      ]
     },
     "execution_count": 13,
     "metadata": {},
     "output_type": "execute_result"
    }
   ],
   "source": [
    "path.abspath(curdir)"
   ]
  },
  {
   "cell_type": "markdown",
   "id": "3ba98932-f67e-40a2-965f-21ed54165d59",
   "metadata": {
    "ein.tags": "worksheet-0",
    "slideshow": {
     "slide_type": "-"
    }
   },
   "source": [
    "Esto es conveniente en algunos casos pero no suele ser una buena idea en programas largos ya que distintos módulos pueden definir el mismo nombre, y se pierde información sobre su origen. Una alternativa que es conveniente y permite mantener mejor control es importar explícitamente lo que vamos a usar:"
   ]
  },
  {
   "cell_type": "code",
   "execution_count": 14,
   "id": "9e8b7bd2-4d76-4b6e-9878-2046a7e81718",
   "metadata": {
    "autoscroll": false,
    "ein.hycell": false,
    "ein.tags": "worksheet-0",
    "slideshow": {
     "slide_type": "-"
    }
   },
   "outputs": [
    {
     "name": "stdout",
     "output_type": "stream",
     "text": [
      "/home/fiol/Clases/IntPython/clases-python\n",
      "/home/fiol/Clases/IntPython/clases-python/clases\n",
      "/home/fiol/Clases/IntPython/clases-python/clases\n"
     ]
    }
   ],
   "source": [
    "from os import curdir, pardir, getcwd\n",
    "from os.path import abspath\n",
    "print(abspath(pardir))\n",
    "print(abspath(curdir))\n",
    "print(abspath(getcwd()))\n"
   ]
  },
  {
   "cell_type": "markdown",
   "id": "25463f3d-7056-41e4-b768-cbbdabeb6411",
   "metadata": {
    "ein.tags": "worksheet-0",
    "slideshow": {
     "slide_type": "-"
    }
   },
   "source": [
    "Además podemos darle un nombre diferente al importar módulos u objetos"
   ]
  },
  {
   "cell_type": "code",
   "execution_count": 15,
   "id": "b9bd5038-1d8a-4621-b942-c81026c02814",
   "metadata": {
    "autoscroll": false,
    "ein.hycell": false,
    "ein.tags": "worksheet-0",
    "slideshow": {
     "slide_type": "-"
    }
   },
   "outputs": [],
   "source": [
    "import os.path as path\n",
    "from os import getenv as ge\n"
   ]
  },
  {
   "cell_type": "code",
   "execution_count": 16,
   "id": "c777f2ee-02c1-444b-9e6c-71b61a04df20",
   "metadata": {
    "autoscroll": false,
    "ein.hycell": false,
    "ein.tags": "worksheet-0",
    "slideshow": {
     "slide_type": "-"
    }
   },
   "outputs": [
    {
     "name": "stdout",
     "output_type": "stream",
     "text": [
      "Help on function getenv in module os:\n",
      "\n",
      "getenv(key, default=None)\n",
      "    Get an environment variable, return None if it doesn't exist.\n",
      "    The optional second argument can specify an alternate default.\n",
      "    key, default and the result are str.\n",
      "\n"
     ]
    }
   ],
   "source": [
    "help(ge)"
   ]
  },
  {
   "cell_type": "code",
   "execution_count": 17,
   "id": "88eddd6b-6b79-445c-8268-9e7f276b7294",
   "metadata": {
    "autoscroll": false,
    "ein.hycell": false,
    "ein.tags": "worksheet-0",
    "slideshow": {
     "slide_type": "-"
    }
   },
   "outputs": [
    {
     "data": {
      "text/plain": [
       "'/home/fiol'"
      ]
     },
     "execution_count": 17,
     "metadata": {},
     "output_type": "execute_result"
    }
   ],
   "source": [
    "ge('HOME')"
   ]
  },
  {
   "cell_type": "code",
   "execution_count": 18,
   "id": "f4f2557f-963e-41c1-8544-a5d44e8bba1a",
   "metadata": {
    "autoscroll": false,
    "ein.hycell": false,
    "ein.tags": "worksheet-0",
    "slideshow": {
     "slide_type": "-"
    }
   },
   "outputs": [
    {
     "data": {
      "text/plain": [
       "'/home/fiol/Clases/IntPython/clases-python/clases'"
      ]
     },
     "execution_count": 18,
     "metadata": {},
     "output_type": "execute_result"
    }
   ],
   "source": [
    "path.realpath(curdir)"
   ]
  },
  {
   "cell_type": "markdown",
   "id": "4e154bb4-3a8b-432d-bce3-8ce88d8ad5f6",
   "metadata": {
    "ein.tags": "worksheet-0",
    "slideshow": {
     "slide_type": "-"
    }
   },
   "source": [
    "Acá hemos importado el módulo `os.path` (es un sub-módulo) como `path` y la función `getenv` del módulo `os` y la hemos renombrado `ge`."
   ]
  },
  {
   "cell_type": "code",
   "execution_count": 19,
   "id": "86d2c4ae",
   "metadata": {},
   "outputs": [
    {
     "data": {
      "text/plain": [
       "'.'"
      ]
     },
     "execution_count": 19,
     "metadata": {},
     "output_type": "execute_result"
    }
   ],
   "source": [
    "curdir"
   ]
  },
  {
   "cell_type": "code",
   "execution_count": 20,
   "id": "1505cadf",
   "metadata": {},
   "outputs": [
    {
     "data": {
      "text/plain": [
       "[('.',\n",
       "  ['.ipynb_checkpoints',\n",
       "   'explicacion_ejercicio_agujas_files',\n",
       "   'scripts',\n",
       "   'figuras',\n",
       "   'version-control',\n",
       "   '__pycache__',\n",
       "   '08_1_intro_numpy_files',\n",
       "   '09_1_intro_visualizacion_files',\n",
       "   '09_2_personal_plot_files',\n",
       "   '10_1_mas_arrays_files',\n",
       "   '10_2_indexado_files',\n",
       "   '11_1_intro_scipy_files',\n",
       "   '11_2_scipy_al_files',\n",
       "   '13_fiteos_files',\n",
       "   '14_1_1_primer_ejemplo_files',\n",
       "   '14_1_2_segundo_ejemplo_files',\n",
       "   '14_3_imagenes_files',\n",
       "   '14_1_3_quiver_files',\n",
       "   '12_1_intro_scipy_files',\n",
       "   '12_2_scipy_al_files',\n",
       "   '15_2_pandas_files',\n",
       "   'data',\n",
       "   '10_1_intro_numpy_files',\n",
       "   '10_3_intro_visualizacion_files',\n",
       "   'obsoletos',\n",
       "   '11_1_intro_visualizacion_files',\n",
       "   '11_2_mas_visualizacion_files',\n",
       "   '11_3_personal_plot_files',\n",
       "   '12_2_indexado_files',\n",
       "   '13_1_intro_scipy_files',\n",
       "   '13_2_fiteos_files',\n",
       "   '13_3_imagenes_files'],\n",
       "  ['.emacs-buffers',\n",
       "   '.emacs.desktop',\n",
       "   '00_presentacion.html',\n",
       "   'Untitled.ipynb',\n",
       "   'array_atr.html',\n",
       "   'array_atr.markdown',\n",
       "   'array_atr.md',\n",
       "   'array_atr.org',\n",
       "   'array_atr.pdf',\n",
       "   'datos.mat',\n",
       "   'ejemplo08_1.pdf',\n",
       "   'ejemplo08_1.png',\n",
       "   'ejemplo08_2.pdf',\n",
       "   'ejemplo08_2.png',\n",
       "   'ejf.md',\n",
       "   'interpkind.md',\n",
       "   'interpkind.org',\n",
       "   'keywords.md',\n",
       "   'keywords.org',\n",
       "   'licencia.html',\n",
       "   'licencia.md',\n",
       "   'notebook.tex',\n",
       "   'programa.md',\n",
       "   'programa_detalle.odt',\n",
       "   'programa_detalle.pdf',\n",
       "   'programa_python.html',\n",
       "   'test.npy',\n",
       "   '00_introd_y_excursion.rst',\n",
       "   '02_1_tipos_y_control.rst',\n",
       "   '02_2_listas.rst',\n",
       "   '03_2_iteraciones_tipos.rst',\n",
       "   '04_1_funciones.rst',\n",
       "   '04_2_func_args.rst',\n",
       "   '01_1_instala_y_uso.rst',\n",
       "   '01_2_introd_python.rst',\n",
       "   '06_1_objetos.rst',\n",
       "   '06_2_objetos.rst',\n",
       "   '08_1_intro_numpy.rst',\n",
       "   '08_2_numpy_arrays.rst',\n",
       "   '10_1_mas_arrays.rst',\n",
       "   '10_2_indexado.rst',\n",
       "   'complejos.dat',\n",
       "   'complejos.npy',\n",
       "   '11_1_intro_scipy.rst',\n",
       "   '11_2_scipy_al.rst',\n",
       "   'estimate_pi.ipynb',\n",
       "   '12_Plotly3D.rst',\n",
       "   '3dplot.html',\n",
       "   '13_fiteos.rst',\n",
       "   'Ejercicios_finales.ipynb',\n",
       "   '01a_ej_agujas.markdown',\n",
       "   '08_ejemplo_1.dat',\n",
       "   '12_graficacion3d.ipynb',\n",
       "   '18_miscelaneas.ipynb',\n",
       "   'Ejercicios.ipynb',\n",
       "   'comentarios_02.ipynb',\n",
       "   'otros_temas.ipynb',\n",
       "   'programa_tentativo.rst',\n",
       "   '09_2_personal_plot.rst',\n",
       "   '12_Plotly3D.ipynb',\n",
       "   'C_Plotly3D.ipynb',\n",
       "   '16_Python_funcional.rst',\n",
       "   'Untitled1.ipynb',\n",
       "   '16_fft.ipynb',\n",
       "   '17_interfacing_y_animaciones.ipynb',\n",
       "   'more_scipy.ipynb',\n",
       "   '04_3_func_func.rst',\n",
       "   'ejemplo_05_2.py',\n",
       "   'Ejercicios 07.ipynb',\n",
       "   '07_modulos_biblioteca.rst',\n",
       "   'test.out',\n",
       "   'test.dat',\n",
       "   'test.txt',\n",
       "   'estilo_test',\n",
       "   'tmp.dat',\n",
       "   '12_1_plotly.rst',\n",
       "   '12_2_imagenes.rst',\n",
       "   '12_3_plotly3D.rst',\n",
       "   '14_1_animaciones.rst',\n",
       "   '14_1_1_primer_ejemplo.rst',\n",
       "   '14_1_2_segundo_ejemplo.rst',\n",
       "   '14_1_3_quiver.rst',\n",
       "   '14_2_interactivo.rst',\n",
       "   '14_3_imagenes.rst',\n",
       "   '15_1_interfacing_F.rst',\n",
       "   '15_2_interfacing_C.rst',\n",
       "   '15_3_interfacing_Cpp.rst',\n",
       "   'Untitled2.ipynb',\n",
       "   'Untitled3.ipynb',\n",
       "   '02_1_modular.rst',\n",
       "   '02_2_strings.rst',\n",
       "   '02_3_listas.rst',\n",
       "   'untitled.txt',\n",
       "   'Untitled4.ipynb',\n",
       "   '03_1_tiposcomplejos.rst',\n",
       "   '03_2_control.rst',\n",
       "   '00_introd_y_excursion.ipynb',\n",
       "   '01_1_instala_y_uso.ipynb',\n",
       "   '01_2_introd_python.ipynb',\n",
       "   '02_1_modular.ipynb',\n",
       "   '02_2_strings.ipynb',\n",
       "   '02_3_listas.ipynb',\n",
       "   '04_1_funciones.ipynb',\n",
       "   '04_2_func_args.ipynb',\n",
       "   '04_3_func_func.ipynb',\n",
       "   'index.rst.tmpl',\n",
       "   '04_1_iteraciones_func.ipynb',\n",
       "   '04_1_iteraciones_func.rst',\n",
       "   'tmp.txt',\n",
       "   '07_2_ejemplo_oop.rst',\n",
       "   'ej_plot_osc.png',\n",
       "   'ej_plot_osc.pdf',\n",
       "   'ej_oscil_aten_err.png',\n",
       "   'ej_oscil_aten_err_B.png',\n",
       "   '11_1_plotly.rst',\n",
       "   '11_2_imagenes.rst',\n",
       "   '11_3_plotly3D.rst',\n",
       "   '07_1_decoradores_old.ipynb',\n",
       "   '07_2_ejemplo_oop.ipynb',\n",
       "   '07_modulos_biblioteca.ipynb',\n",
       "   '09_1_intro_visualizacion.rst',\n",
       "   '12_1_intro_scipy.rst',\n",
       "   '12_2_scipy_al.rst',\n",
       "   '14_1_interfacing_F.rst',\n",
       "   '14_2_interfacing_C.rst',\n",
       "   '14_3_interfacing_Cpp.rst',\n",
       "   '12_2_scipy_al.ipynb',\n",
       "   '14_1_1_primer_ejemplo.ipynb',\n",
       "   '14_1_2_segundo_ejemplo.ipynb',\n",
       "   '14_1_3_quiver.ipynb',\n",
       "   '14_1_interfacing_F.ipynb',\n",
       "   '14_2_interactivo.ipynb',\n",
       "   '14_2_interfacing_C.ipynb',\n",
       "   '14_3_interfacing_Cpp.ipynb',\n",
       "   '15_3_animaciones.ipynb',\n",
       "   'explicacion_ejercicio_agujas.ipynb',\n",
       "   '11_1_plotly.ipynb',\n",
       "   '15_1_importar_modulos.ipynb',\n",
       "   '15_2_pandas.ipynb',\n",
       "   '11_2_imagenes.ipynb',\n",
       "   '11_3_plotly3D.ipynb',\n",
       "   '15_1_importar_modulos.rst',\n",
       "   '15_2_pandas.rst~',\n",
       "   '15_2_pandas.rst',\n",
       "   '15_3_animaciones.rst',\n",
       "   '01_2_ambientes.ipynb',\n",
       "   '01_2_ambientes.rst',\n",
       "   '01_3_introd_python.ipynb',\n",
       "   '01_3_introd_python.rst',\n",
       "   '03_2_control.ipynb',\n",
       "   '03_3_tiposcomplejos.ipynb',\n",
       "   '03_1_maslistas.ipynb',\n",
       "   '03_1_maslistas.rst',\n",
       "   '03_3_tiposcomplejos.rst',\n",
       "   '04_3_func_args_anotacion_de_tipos.ipynb',\n",
       "   '04_3_func_args_anotacion_de_tipos.rst',\n",
       "   '04_4_mypy.rst',\n",
       "   '04_4_mypy.ipynb',\n",
       "   '05_1_func_func.ipynb',\n",
       "   '05_2_decoradores.ipynb',\n",
       "   '05_3_funcional.ipynb',\n",
       "   'entregas_ejercicios.rst',\n",
       "   '05_1_func_func.rst',\n",
       "   '05_2_decoradores.rst',\n",
       "   '05_3_funcional.rst',\n",
       "   '06_1_excepciones.ipynb',\n",
       "   '06_2_intro_objetos.ipynb',\n",
       "   '06_3_objetos.ipynb',\n",
       "   '06_1_excepciones.rst',\n",
       "   '06_2_intro_objetos.rst',\n",
       "   '06_3_objetos.rst',\n",
       "   '07_1_inout.ipynb',\n",
       "   '07_1_inout.rst',\n",
       "   '07_2_modulos_biblioteca.ipynb',\n",
       "   '07_2_modulos_biblioteca.rst',\n",
       "   'Untitled5.ipynb',\n",
       "   '08_1_mas_sobre_objetos.ipynb',\n",
       "   '08_2_enum_y_dataclasses.ipynb',\n",
       "   '08_3_modulos_biblioteca.ipynb',\n",
       "   '08_1_mas_sobre_objetos.rst',\n",
       "   '08_2_enum_y_dataclasses.rst',\n",
       "   'Untitled6.ipynb',\n",
       "   '09_1_importar_modulos.ipynb',\n",
       "   '09_2_modulos_biblioteca.ipynb',\n",
       "   '09_1_importar_modulos.rst',\n",
       "   '09_2_modulos_biblioteca.rst',\n",
       "   '09_1_control_version.rst',\n",
       "   '10_1_intro_numpy.ipynb',\n",
       "   '10_2_numpy_arrays.ipynb',\n",
       "   '10_1_intro_numpy.rst',\n",
       "   '10_2_numpy_arrays.rst',\n",
       "   '10_3_intro_visualizacion.rst',\n",
       "   '11_2_mas_visualizacion.ipynb',\n",
       "   '10_2_intro_visualizacion.rst',\n",
       "   '11_1_intro_visualizacion.ipynb',\n",
       "   '11_3_personal_plot.ipynb',\n",
       "   '12_1_mas_arrays.ipynb',\n",
       "   '11_1_intro_visualizacion.rst',\n",
       "   'ej_oscil_aten_err.dat.png',\n",
       "   '11_2_mas_visualizacion.rst',\n",
       "   '11_3_personal_plot.rst',\n",
       "   '12_2_indexado.ipynb',\n",
       "   '12_1_mas_arrays.rst',\n",
       "   '12_2_indexado.rst',\n",
       "   '12_3_intro_scipy.rst',\n",
       "   '13_1_intro_scipy.ipynb',\n",
       "   '13_2_fiteos.ipynb',\n",
       "   '13_3_interp_fit_2d.ipynb',\n",
       "   '13_3_fit_2d.ipynb',\n",
       "   '13_1_intro_scipy.rst',\n",
       "   '13_widgets.ipynb',\n",
       "   '14_3_imagenes.ipynb',\n",
       "   '13_2_fiteos.rst',\n",
       "   '13_3_imagenes.ipynb',\n",
       "   '13_3_imagenes.rst',\n",
       "   '14_1_pandas_io.rst',\n",
       "   '14_2_pandas_series.rst',\n",
       "   '14_3_pandas_dataframes.rst',\n",
       "   'tmp01',\n",
       "   'tmp01.ipynb',\n",
       "   'tmp01.rst',\n",
       "   '14_1_pandas_io.ipynb',\n",
       "   '16_ejerc_correct.ipynb',\n",
       "   '14_2_pandas_series.ipynb',\n",
       "   '14_3_pandas_dataframes.ipynb',\n",
       "   '15_1_pandas_plus.ipynb',\n",
       "   '15_2_pandas_y_plot.ipynb']),\n",
       " ('./.ipynb_checkpoints',\n",
       "  [],\n",
       "  ['00_introd_y_excursion-checkpoint.ipynb',\n",
       "   '02_2_listas-checkpoint.ipynb',\n",
       "   '02_1_tipos_y_control-checkpoint.ipynb',\n",
       "   '01_1_instala_y_uso-checkpoint.ipynb',\n",
       "   '01_2_introd_python-checkpoint.ipynb',\n",
       "   '04_1_funciones-checkpoint.ipynb',\n",
       "   '05_1_inout-checkpoint.ipynb',\n",
       "   '07_modulos_biblioteca-checkpoint.ipynb',\n",
       "   '12_graficacion3d-checkpoint.ipynb',\n",
       "   'otros_temas-checkpoint.ipynb',\n",
       "   'comentarios_02-checkpoint.ipynb',\n",
       "   '05_2_excepciones-checkpoint.ipynb',\n",
       "   '04_3_decoradores-checkpoint.ipynb',\n",
       "   '17_interfacing_y_animaciones-checkpoint.ipynb',\n",
       "   '17_interfacing-checkpoint.ipynb',\n",
       "   '05_1_decoradores-checkpoint.ipynb',\n",
       "   '05_3_inout-checkpoint.ipynb',\n",
       "   '06_1_objetos-checkpoint.ipynb',\n",
       "   '06_2_objetos-checkpoint.ipynb',\n",
       "   '08_2_numpy_arrays-checkpoint.ipynb',\n",
       "   '08_1_intro_numpy-checkpoint.ipynb',\n",
       "   '09_1_intro_visualizacion-checkpoint.ipynb',\n",
       "   '09_2_personal_plot-checkpoint.ipynb',\n",
       "   '13_fiteos-checkpoint.ipynb',\n",
       "   '10_2_indexado-checkpoint.ipynb',\n",
       "   '10_1_mas_arrays-checkpoint.ipynb',\n",
       "   '10_mas_numpy-checkpoint.ipynb',\n",
       "   '18_miscelaneas-checkpoint.ipynb',\n",
       "   '14_interactivo-checkpoint.ipynb',\n",
       "   '12_Plotly3D-checkpoint.ipynb',\n",
       "   '11_2_scipy_al-checkpoint.ipynb',\n",
       "   '11_1_intro_scipy-checkpoint.ipynb',\n",
       "   '11_intro_scipy-checkpoint.ipynb',\n",
       "   'estimate_pi-checkpoint.ipynb',\n",
       "   'more_scipy-checkpoint.ipynb',\n",
       "   '15_animaciones-checkpoint.ipynb',\n",
       "   '10_entrada_salida-checkpoint.ipynb',\n",
       "   '14_animaciones-checkpoint.ipynb',\n",
       "   '15_interfacing_y_animaciones-checkpoint.ipynb',\n",
       "   '16_fft-checkpoint.ipynb',\n",
       "   'animate_decay-checkpoint.ipynb',\n",
       "   '14_1_animaciones-checkpoint.ipynb',\n",
       "   '14_2_interactivo-checkpoint.ipynb',\n",
       "   'Untitled1-checkpoint.ipynb',\n",
       "   '04_2_func_args-checkpoint.ipynb',\n",
       "   '04_3_func_func-checkpoint.ipynb',\n",
       "   '05_2_inout-checkpoint.ipynb',\n",
       "   '05_3_excepciones-checkpoint.ipynb',\n",
       "   '07_ejemplo_oop-checkpoint.ipynb',\n",
       "   'Ejercicios 07-checkpoint.ipynb',\n",
       "   '12_1_plotly-checkpoint.ipynb',\n",
       "   '14_1_1_primer_ejemplo-checkpoint.ipynb',\n",
       "   '14_1_2_segundo_ejemplo-checkpoint.ipynb',\n",
       "   '14_1_3_quiver-checkpoint.ipynb',\n",
       "   '14_3_imagenes-checkpoint.ipynb',\n",
       "   '15_1_interfacing_F-checkpoint.ipynb',\n",
       "   '15_2_interfacing_C-checkpoint.ipynb',\n",
       "   '15_3_interfacing_Cpp-checkpoint.ipynb',\n",
       "   '12_2_imagenes-checkpoint.ipynb',\n",
       "   '02_1_strings-checkpoint.ipynb',\n",
       "   '01_2_introd_python-checkpoint.rst',\n",
       "   '01_1_instala_y_uso-checkpoint.rst',\n",
       "   'Untitled2-checkpoint.ipynb',\n",
       "   'Untitled3-checkpoint.ipynb',\n",
       "   '02_0_func1-checkpoint.ipynb',\n",
       "   '02_1_func1-checkpoint.ipynb',\n",
       "   '02_2_strings-checkpoint.ipynb',\n",
       "   '02_3_listas-checkpoint.ipynb',\n",
       "   '02_1_modular-checkpoint.ipynb',\n",
       "   'untitled-checkpoint.txt',\n",
       "   'Untitled4-checkpoint.ipynb',\n",
       "   '03_2_control-checkpoint.ipynb',\n",
       "   '03_1_tiposcomplejos-checkpoint.ipynb',\n",
       "   '03_3_iteraciones_tipos-checkpoint.ipynb',\n",
       "   '04_1_iteraciones_tipos-checkpoint.ipynb',\n",
       "   '04_1_iteraciones_func-checkpoint.ipynb',\n",
       "   'tmp-checkpoint.txt',\n",
       "   '07_1_decoradores_old-checkpoint.ipynb',\n",
       "   '07_1_decoradores-checkpoint.ipynb',\n",
       "   '07_2_ejemplo_oop-checkpoint.ipynb',\n",
       "   '07_3_funcional-checkpoint.ipynb',\n",
       "   '07_2_funcional-checkpoint.ipynb',\n",
       "   'test-checkpoint.dat',\n",
       "   'test-checkpoint.out',\n",
       "   'ej_plot_osc-checkpoint.png',\n",
       "   'ej_oscil_aten_err-checkpoint.png',\n",
       "   'estilo_test-checkpoint',\n",
       "   '12_1_intro_scipy-checkpoint.ipynb',\n",
       "   '12_2_scipy_al-checkpoint.ipynb',\n",
       "   '11_1_plotly-checkpoint.ipynb',\n",
       "   '11_2_imagenes-checkpoint.ipynb',\n",
       "   '11_3_plotly3D-checkpoint.ipynb',\n",
       "   'explicacion_ejercicio_agujas-checkpoint.ipynb',\n",
       "   '10_2_indexado-checkpoint.rst',\n",
       "   '15_1_importar_modulos-checkpoint.ipynb',\n",
       "   '15_2_pandas-checkpoint.ipynb',\n",
       "   '15_3_animaciones-checkpoint.ipynb',\n",
       "   '01_2_ambientes-checkpoint.ipynb',\n",
       "   '03_1_listas-checkpoint.ipynb',\n",
       "   '03_1_maslistas-checkpoint.ipynb',\n",
       "   '03_3_tiposcomplejos-checkpoint.ipynb',\n",
       "   '04_3_func_args_anotacion_de_tipos-checkpoint.ipynb',\n",
       "   '04_4_mypy-checkpoint.rst',\n",
       "   '04_4_mypy-checkpoint.ipynb',\n",
       "   '05_1_func_func-checkpoint.ipynb',\n",
       "   '05_2_decoradores-checkpoint.ipynb',\n",
       "   '05_3_funcional-checkpoint.ipynb',\n",
       "   '05_2_excepciones-checkpoint.rst',\n",
       "   '06_1_excepciones-checkpoint.ipynb',\n",
       "   '06_2_intro_objetos-checkpoint.ipynb',\n",
       "   '06_3_objetos-checkpoint.ipynb',\n",
       "   '05_2_decoradores-checkpoint.rst',\n",
       "   '05_3_decoradores-checkpoint.ipynb',\n",
       "   '07_2_enum_y_dataclasses-checkpoint.ipynb',\n",
       "   '07_1_inout-checkpoint.ipynb',\n",
       "   '07_3_modulos_biblioteca-checkpoint.ipynb',\n",
       "   '07_4_importar_modulos-checkpoint.ipynb',\n",
       "   '07_2_modulos_biblioteca-checkpoint.ipynb',\n",
       "   'Untitled5-checkpoint.ipynb',\n",
       "   'tmp-checkpoint.dat',\n",
       "   '08_1_mas_sobre_objetos-checkpoint.ipynb',\n",
       "   '08_2_enum_y_dataclasses-checkpoint.ipynb',\n",
       "   'Untitled6-checkpoint.ipynb',\n",
       "   '09_2_modulos_biblioteca-checkpoint.ipynb',\n",
       "   '09_1_importar_modulos-checkpoint.ipynb',\n",
       "   '11_1_mas_numpy_matplotlib-checkpoint.ipynb',\n",
       "   '10_1_intro_numpy-checkpoint.ipynb',\n",
       "   '10_1_intro_visualizacion-checkpoint.ipynb',\n",
       "   '10_2_numpy_arrays-checkpoint.ipynb',\n",
       "   '10_3_intro_visualizacion-checkpoint.ipynb',\n",
       "   '11_2_mas_visualizacion-checkpoint.ipynb',\n",
       "   '10_2_intro_visualizacion-checkpoint.ipynb',\n",
       "   '11_1_intro_visualizacion-checkpoint.ipynb',\n",
       "   '11_3_personal_plot-checkpoint.ipynb',\n",
       "   '12_1_mas_arrays-checkpoint.ipynb',\n",
       "   '12_2_indexado-checkpoint.ipynb',\n",
       "   '12_3_intro_scipy-checkpoint.ipynb',\n",
       "   '13_2_fiteos-checkpoint.ipynb',\n",
       "   '13_1_intro_scipy-checkpoint.ipynb',\n",
       "   '13_3_interp_fit_2d-checkpoint.ipynb',\n",
       "   '13_3_fit_2d-checkpoint.ipynb',\n",
       "   '13_3_imagenes-checkpoint.ipynb',\n",
       "   '14_1_pandas_io-checkpoint.ipynb',\n",
       "   '14_2_pandas_series-checkpoint.ipynb',\n",
       "   '14_3_pandas_dataframes-checkpoint.ipynb',\n",
       "   '01_3_introd_python-checkpoint.ipynb',\n",
       "   '16_ejerc_correct-checkpoint.ipynb',\n",
       "   '15_1_pandas_plus-checkpoint.ipynb']),\n",
       " ('./explicacion_ejercicio_agujas_files',\n",
       "  [],\n",
       "  ['explicacion_ejercicio_agujas_2_1.png',\n",
       "   'explicacion_ejercicio_agujas_3_1.png']),\n",
       " ('./scripts',\n",
       "  ['animaciones',\n",
       "   'interfacing',\n",
       "   '__pycache__',\n",
       "   '.mypy_cache',\n",
       "   '.ipynb_checkpoints',\n",
       "   'miproyecto',\n",
       "   'miproyecto_relativo',\n",
       "   'proyecto'],\n",
       "  ['03_ejemplo_3.py',\n",
       "   '03_ejemplo_4.py',\n",
       "   '07_ejemplo_oop.py',\n",
       "   '07_ejemplo_oop_1.py',\n",
       "   '07_ejemplo_oop_2.py',\n",
       "   '10_palabras.py',\n",
       "   '13_plot3d.py',\n",
       "   'ej08.png',\n",
       "   'ejemplo_05_2.py',\n",
       "   'ejemplo_05_4.py',\n",
       "   'ejemplo_07_1.py',\n",
       "   'ejemplo_08_1.py',\n",
       "   'ejemplo_08_2.py',\n",
       "   'ejemplo_08_3.py',\n",
       "   'ejemplo_08_4.py',\n",
       "   'ejemplo_08_data_1.py',\n",
       "   'ejemplo_08_data_2.py',\n",
       "   'ejemplo_14_hexbin.py',\n",
       "   'ejemplo_fft_1.py',\n",
       "   'ejemplo_fft_2.py',\n",
       "   'ejemplo_fft_3.py',\n",
       "   'ejemplo_plot_08.eps',\n",
       "   'ejemplo_plot_08.pdf',\n",
       "   'ejemplo_plot_08.png',\n",
       "   'ejemplo_plot_08_1.eps',\n",
       "   'ejemplo_plot_08_1.pdf',\n",
       "   'ejemplo_plot_08_1.png',\n",
       "   'ejemplo_plot_08_5.png',\n",
       "   'figure_1.png',\n",
       "   'help_special.txt',\n",
       "   'pi_comp_N.png',\n",
       "   'pi_puntos.png',\n",
       "   'read_tof.py',\n",
       "   'timing.py',\n",
       "   'zip1.py',\n",
       "   '03_ejemplo_1.py',\n",
       "   '03_ejemplo_2.py',\n",
       "   '03_ejemplo_5.py',\n",
       "   '04_ejemplo_1.py',\n",
       "   '05_ejemplo_1.py',\n",
       "   '13_sounds_1.py',\n",
       "   'analizar_figura_1.py',\n",
       "   'analizar_figura_2.py',\n",
       "   'ejemplo_08_5.py',\n",
       "   'ejemplo_callback.py',\n",
       "   'ejemplo_cursor.py',\n",
       "   'ejemplo_05_3.py',\n",
       "   'ej_doppler_circ.py',\n",
       "   'tmp.wav',\n",
       "   'ej_deteccion_help.py',\n",
       "   'mazes.py',\n",
       "   'mypy_example.py']),\n",
       " ('./scripts/animaciones',\n",
       "  [],\n",
       "  ['quiver.mp4',\n",
       "   'animate_decay.py',\n",
       "   'double_pendulum_animated.py',\n",
       "   'dynamic_image.py',\n",
       "   'ejemplo_animation_0.py',\n",
       "   'ejemplo_varios.py',\n",
       "   'strip_chart.py',\n",
       "   'subplots.py',\n",
       "   'quiver.gif',\n",
       "   'pelota.gif',\n",
       "   'ejercicio_clase_cola.py~',\n",
       "   'ejercicio_clase_cola.py',\n",
       "   'ejemplo_animation_1.py',\n",
       "   'ejemplo_quiver.py',\n",
       "   'ejercicio_clase.py']),\n",
       " ('./scripts/interfacing',\n",
       "  ['__pycache__'],\n",
       "  ['c_rotacion.pyx',\n",
       "   'fib1.cpython-35m-x86_64-linux-gnu.so',\n",
       "   'fib1.cpython-36m-x86_64-linux-gnu.so',\n",
       "   'fib1.f',\n",
       "   'fib1.pyf',\n",
       "   'fib1module.c',\n",
       "   'fib2.cpython-35m-x86_64-linux-gnu.so',\n",
       "   'fib2.cpython-36m-x86_64-linux-gnu.so',\n",
       "   'fib2.pyf',\n",
       "   'fib3.cpython-35m-x86_64-linux-gnu.so',\n",
       "   'fib3.cpython-36m-x86_64-linux-gnu.so',\n",
       "   'fib3.f',\n",
       "   'rotacion.f90',\n",
       "   'rotacion1.f90',\n",
       "   'rotacion1_f',\n",
       "   'rotacion1_f.cpython-35m-x86_64-linux-gnu.so',\n",
       "   'rotacion_f',\n",
       "   'rotacion_f.cpython-35m-x86_64-linux-gnu.so',\n",
       "   'rotacion_f.cpython-36m-x86_64-linux-gnu.so',\n",
       "   'rotacion_p.py',\n",
       "   'rotacion_vectores.py',\n",
       "   'rotaciones.mod']),\n",
       " ('./scripts/interfacing/__pycache__',\n",
       "  [],\n",
       "  ['rotacion_p.cpython-35.pyc', 'rotacion_p.cpython-36.pyc']),\n",
       " ('./scripts/__pycache__', [], ['ejemplo_cursor.cpython-310.pyc']),\n",
       " ('./scripts/.mypy_cache', ['3.11'], ['.gitignore', 'CACHEDIR.TAG']),\n",
       " ('./scripts/.mypy_cache/3.11',\n",
       "  ['sys',\n",
       "   'os',\n",
       "   'importlib',\n",
       "   'email',\n",
       "   'collections',\n",
       "   '_typeshed',\n",
       "   'json',\n",
       "   'numpy',\n",
       "   'ctypes',\n",
       "   'logging',\n",
       "   'unittest'],\n",
       "  ['zipfile.data.json',\n",
       "   'zipfile.meta.json',\n",
       "   'typing_extensions.data.json',\n",
       "   'typing_extensions.meta.json',\n",
       "   'typing.data.json',\n",
       "   'typing.meta.json',\n",
       "   'types.data.json',\n",
       "   'types.meta.json',\n",
       "   'subprocess.data.json',\n",
       "   'subprocess.meta.json',\n",
       "   'sre_parse.data.json',\n",
       "   'sre_parse.meta.json',\n",
       "   'sre_constants.data.json',\n",
       "   'sre_constants.meta.json',\n",
       "   'sre_compile.data.json',\n",
       "   'sre_compile.meta.json',\n",
       "   're.data.json',\n",
       "   're.meta.json',\n",
       "   'posixpath.data.json',\n",
       "   'posixpath.meta.json',\n",
       "   'pathlib.data.json',\n",
       "   'pathlib.meta.json',\n",
       "   'io.data.json',\n",
       "   'io.meta.json',\n",
       "   'genericpath.data.json',\n",
       "   'genericpath.meta.json',\n",
       "   'enum.data.json',\n",
       "   'enum.meta.json',\n",
       "   'dataclasses.data.json',\n",
       "   'dataclasses.meta.json',\n",
       "   'contextlib.data.json',\n",
       "   'contextlib.meta.json',\n",
       "   'codecs.data.json',\n",
       "   'codecs.meta.json',\n",
       "   'abc.data.json',\n",
       "   'abc.meta.json',\n",
       "   '_collections_abc.data.json',\n",
       "   '_collections_abc.meta.json',\n",
       "   '_codecs.data.json',\n",
       "   '_codecs.meta.json',\n",
       "   '_ast.data.json',\n",
       "   '_ast.meta.json',\n",
       "   'builtins.data.json',\n",
       "   'builtins.meta.json',\n",
       "   'pickle.data.json',\n",
       "   'pickle.meta.json',\n",
       "   'string.data.json',\n",
       "   'string.meta.json',\n",
       "   'textwrap.data.json',\n",
       "   'textwrap.meta.json',\n",
       "   '_warnings.data.json',\n",
       "   '_warnings.meta.json',\n",
       "   'functools.data.json',\n",
       "   'functools.meta.json',\n",
       "   'numbers.data.json',\n",
       "   'numbers.meta.json',\n",
       "   'time.data.json',\n",
       "   'time.meta.json',\n",
       "   'math.data.json',\n",
       "   'math.meta.json',\n",
       "   'ast.data.json',\n",
       "   'ast.meta.json',\n",
       "   '__future__.data.json',\n",
       "   '__future__.meta.json',\n",
       "   '_thread.data.json',\n",
       "   '_thread.meta.json',\n",
       "   'threading.data.json',\n",
       "   'threading.meta.json',\n",
       "   '_random.data.json',\n",
       "   '_random.meta.json',\n",
       "   'array.data.json',\n",
       "   'array.meta.json',\n",
       "   '_ctypes.data.json',\n",
       "   '_ctypes.meta.json',\n",
       "   'mmap.data.json',\n",
       "   'mmap.meta.json',\n",
       "   '_decimal.data.json',\n",
       "   '_decimal.meta.json',\n",
       "   'warnings.data.json',\n",
       "   'warnings.meta.json',\n",
       "   'datetime.data.json',\n",
       "   'datetime.meta.json',\n",
       "   'queue.data.json',\n",
       "   'queue.meta.json',\n",
       "   'decimal.data.json',\n",
       "   'decimal.meta.json',\n",
       "   'fractions.data.json',\n",
       "   'fractions.meta.json',\n",
       "   'random.data.json',\n",
       "   'random.meta.json',\n",
       "   '@plugins_snapshot.json']),\n",
       " ('./scripts/.mypy_cache/3.11/sys',\n",
       "  [],\n",
       "  ['__init__.data.json', '__init__.meta.json']),\n",
       " ('./scripts/.mypy_cache/3.11/os',\n",
       "  [],\n",
       "  ['path.data.json',\n",
       "   'path.meta.json',\n",
       "   '__init__.data.json',\n",
       "   '__init__.meta.json']),\n",
       " ('./scripts/.mypy_cache/3.11/importlib',\n",
       "  ['resources', 'metadata'],\n",
       "  ['readers.data.json',\n",
       "   'readers.meta.json',\n",
       "   'machinery.data.json',\n",
       "   'machinery.meta.json',\n",
       "   'abc.data.json',\n",
       "   'abc.meta.json',\n",
       "   '__init__.data.json',\n",
       "   '__init__.meta.json']),\n",
       " ('./scripts/.mypy_cache/3.11/importlib/resources',\n",
       "  [],\n",
       "  ['abc.data.json',\n",
       "   'abc.meta.json',\n",
       "   '__init__.data.json',\n",
       "   '__init__.meta.json']),\n",
       " ('./scripts/.mypy_cache/3.11/importlib/metadata',\n",
       "  [],\n",
       "  ['_meta.data.json',\n",
       "   '_meta.meta.json',\n",
       "   '__init__.data.json',\n",
       "   '__init__.meta.json']),\n",
       " ('./scripts/.mypy_cache/3.11/email',\n",
       "  [],\n",
       "  ['policy.data.json',\n",
       "   'policy.meta.json',\n",
       "   'message.data.json',\n",
       "   'message.meta.json',\n",
       "   'header.data.json',\n",
       "   'header.meta.json',\n",
       "   'errors.data.json',\n",
       "   'errors.meta.json',\n",
       "   'contentmanager.data.json',\n",
       "   'contentmanager.meta.json',\n",
       "   'charset.data.json',\n",
       "   'charset.meta.json',\n",
       "   '__init__.data.json',\n",
       "   '__init__.meta.json']),\n",
       " ('./scripts/.mypy_cache/3.11/collections',\n",
       "  [],\n",
       "  ['abc.data.json',\n",
       "   'abc.meta.json',\n",
       "   '__init__.data.json',\n",
       "   '__init__.meta.json']),\n",
       " ('./scripts/.mypy_cache/3.11/_typeshed',\n",
       "  [],\n",
       "  ['__init__.data.json', '__init__.meta.json']),\n",
       " ('./scripts/.mypy_cache/3.11/json',\n",
       "  [],\n",
       "  ['encoder.data.json',\n",
       "   'encoder.meta.json',\n",
       "   'decoder.data.json',\n",
       "   'decoder.meta.json',\n",
       "   '__init__.data.json',\n",
       "   '__init__.meta.json']),\n",
       " ('./scripts/.mypy_cache/3.11/numpy',\n",
       "  ['testing',\n",
       "   'polynomial',\n",
       "   'compat',\n",
       "   'lib',\n",
       "   '_typing',\n",
       "   'core',\n",
       "   'matrixlib',\n",
       "   'ma',\n",
       "   'random',\n",
       "   'fft',\n",
       "   'linalg',\n",
       "   'typing'],\n",
       "  ['_pytesttester.data.json',\n",
       "   '_pytesttester.meta.json',\n",
       "   '_version.data.json',\n",
       "   '_version.meta.json',\n",
       "   'version.data.json',\n",
       "   'version.meta.json',\n",
       "   'ctypeslib.data.json',\n",
       "   'ctypeslib.meta.json',\n",
       "   '__init__.data.json',\n",
       "   '__init__.meta.json']),\n",
       " ('./scripts/.mypy_cache/3.11/numpy/testing',\n",
       "  ['_private'],\n",
       "  ['__init__.data.json', '__init__.meta.json']),\n",
       " ('./scripts/.mypy_cache/3.11/numpy/testing/_private',\n",
       "  [],\n",
       "  ['__init__.data.json',\n",
       "   '__init__.meta.json',\n",
       "   'utils.data.json',\n",
       "   'utils.meta.json']),\n",
       " ('./scripts/.mypy_cache/3.11/numpy/polynomial',\n",
       "  [],\n",
       "  ['polyutils.data.json',\n",
       "   'polyutils.meta.json',\n",
       "   '_polybase.data.json',\n",
       "   '_polybase.meta.json',\n",
       "   'polynomial.data.json',\n",
       "   'polynomial.meta.json',\n",
       "   'legendre.data.json',\n",
       "   'legendre.meta.json',\n",
       "   'laguerre.data.json',\n",
       "   'laguerre.meta.json',\n",
       "   'hermite_e.data.json',\n",
       "   'hermite_e.meta.json',\n",
       "   'hermite.data.json',\n",
       "   'hermite.meta.json',\n",
       "   'chebyshev.data.json',\n",
       "   'chebyshev.meta.json',\n",
       "   '__init__.data.json',\n",
       "   '__init__.meta.json']),\n",
       " ('./scripts/.mypy_cache/3.11/numpy/compat',\n",
       "  [],\n",
       "  ['_inspect.data.json',\n",
       "   '_inspect.meta.json',\n",
       "   'py3k.data.json',\n",
       "   'py3k.meta.json',\n",
       "   '__init__.data.json',\n",
       "   '__init__.meta.json']),\n",
       " ('./scripts/.mypy_cache/3.11/numpy/lib',\n",
       "  [],\n",
       "  ['_version.data.json',\n",
       "   '_version.meta.json',\n",
       "   'format.data.json',\n",
       "   'format.meta.json',\n",
       "   '__init__.data.json',\n",
       "   '__init__.meta.json',\n",
       "   'utils.data.json',\n",
       "   'utils.meta.json',\n",
       "   'ufunclike.data.json',\n",
       "   'ufunclike.meta.json',\n",
       "   'type_check.data.json',\n",
       "   'type_check.meta.json',\n",
       "   'twodim_base.data.json',\n",
       "   'twodim_base.meta.json',\n",
       "   'stride_tricks.data.json',\n",
       "   'stride_tricks.meta.json',\n",
       "   'shape_base.data.json',\n",
       "   'shape_base.meta.json',\n",
       "   'polynomial.data.json',\n",
       "   'polynomial.meta.json',\n",
       "   'npyio.data.json',\n",
       "   'npyio.meta.json',\n",
       "   'nanfunctions.data.json',\n",
       "   'nanfunctions.meta.json',\n",
       "   'index_tricks.data.json',\n",
       "   'index_tricks.meta.json',\n",
       "   'histograms.data.json',\n",
       "   'histograms.meta.json',\n",
       "   'function_base.data.json',\n",
       "   'function_base.meta.json',\n",
       "   'arrayterator.data.json',\n",
       "   'arrayterator.meta.json',\n",
       "   'arraysetops.data.json',\n",
       "   'arraysetops.meta.json',\n",
       "   'arraypad.data.json',\n",
       "   'arraypad.meta.json',\n",
       "   'scimath.data.json',\n",
       "   'scimath.meta.json',\n",
       "   'mixins.data.json',\n",
       "   'mixins.meta.json']),\n",
       " ('./scripts/.mypy_cache/3.11/numpy/_typing',\n",
       "  [],\n",
       "  ['_shape.data.json',\n",
       "   '_shape.meta.json',\n",
       "   '_char_codes.data.json',\n",
       "   '_char_codes.meta.json',\n",
       "   '_nbit.data.json',\n",
       "   '_nbit.meta.json',\n",
       "   '_nested_sequence.data.json',\n",
       "   '_nested_sequence.meta.json',\n",
       "   '_generic_alias.data.json',\n",
       "   '_generic_alias.meta.json',\n",
       "   '_scalars.data.json',\n",
       "   '_scalars.meta.json',\n",
       "   '_dtype_like.data.json',\n",
       "   '_dtype_like.meta.json',\n",
       "   '_array_like.data.json',\n",
       "   '_array_like.meta.json',\n",
       "   '__init__.data.json',\n",
       "   '__init__.meta.json',\n",
       "   '_extended_precision.data.json',\n",
       "   '_extended_precision.meta.json',\n",
       "   '_callable.data.json',\n",
       "   '_callable.meta.json',\n",
       "   '_add_docstring.data.json',\n",
       "   '_add_docstring.meta.json',\n",
       "   '_ufunc.data.json',\n",
       "   '_ufunc.meta.json']),\n",
       " ('./scripts/.mypy_cache/3.11/numpy/core',\n",
       "  [],\n",
       "  ['__init__.data.json',\n",
       "   '__init__.meta.json',\n",
       "   'overrides.data.json',\n",
       "   'overrides.meta.json',\n",
       "   'umath.data.json',\n",
       "   'umath.meta.json',\n",
       "   'shape_base.data.json',\n",
       "   'shape_base.meta.json',\n",
       "   'numerictypes.data.json',\n",
       "   'numerictypes.meta.json',\n",
       "   'numeric.data.json',\n",
       "   'numeric.meta.json',\n",
       "   'multiarray.data.json',\n",
       "   'multiarray.meta.json',\n",
       "   'einsumfunc.data.json',\n",
       "   'einsumfunc.meta.json',\n",
       "   'arrayprint.data.json',\n",
       "   'arrayprint.meta.json',\n",
       "   '_ufunc_config.data.json',\n",
       "   '_ufunc_config.meta.json',\n",
       "   '_type_aliases.data.json',\n",
       "   '_type_aliases.meta.json',\n",
       "   '_asarray.data.json',\n",
       "   '_asarray.meta.json',\n",
       "   'fromnumeric.data.json',\n",
       "   'fromnumeric.meta.json',\n",
       "   'function_base.data.json',\n",
       "   'function_base.meta.json',\n",
       "   '_internal.data.json',\n",
       "   '_internal.meta.json',\n",
       "   'records.data.json',\n",
       "   'records.meta.json',\n",
       "   'defchararray.data.json',\n",
       "   'defchararray.meta.json']),\n",
       " ('./scripts/.mypy_cache/3.11/numpy/matrixlib',\n",
       "  [],\n",
       "  ['defmatrix.data.json',\n",
       "   'defmatrix.meta.json',\n",
       "   '__init__.data.json',\n",
       "   '__init__.meta.json']),\n",
       " ('./scripts/.mypy_cache/3.11/numpy/ma',\n",
       "  [],\n",
       "  ['core.data.json',\n",
       "   'core.meta.json',\n",
       "   'extras.data.json',\n",
       "   'extras.meta.json',\n",
       "   'mrecords.data.json',\n",
       "   'mrecords.meta.json',\n",
       "   '__init__.data.json',\n",
       "   '__init__.meta.json']),\n",
       " ('./scripts/.mypy_cache/3.11/numpy/random',\n",
       "  [],\n",
       "  ['bit_generator.data.json',\n",
       "   'bit_generator.meta.json',\n",
       "   'mtrand.data.json',\n",
       "   'mtrand.meta.json',\n",
       "   '_sfc64.data.json',\n",
       "   '_sfc64.meta.json',\n",
       "   '_philox.data.json',\n",
       "   '_philox.meta.json',\n",
       "   '_pcg64.data.json',\n",
       "   '_pcg64.meta.json',\n",
       "   '_mt19937.data.json',\n",
       "   '_mt19937.meta.json',\n",
       "   '_generator.data.json',\n",
       "   '_generator.meta.json',\n",
       "   '__init__.data.json',\n",
       "   '__init__.meta.json']),\n",
       " ('./scripts/.mypy_cache/3.11/numpy/fft',\n",
       "  [],\n",
       "  ['helper.data.json',\n",
       "   'helper.meta.json',\n",
       "   '_pocketfft.data.json',\n",
       "   '_pocketfft.meta.json',\n",
       "   '__init__.data.json',\n",
       "   '__init__.meta.json']),\n",
       " ('./scripts/.mypy_cache/3.11/numpy/linalg',\n",
       "  [],\n",
       "  ['linalg.data.json',\n",
       "   'linalg.meta.json',\n",
       "   '__init__.data.json',\n",
       "   '__init__.meta.json']),\n",
       " ('./scripts/.mypy_cache/3.11/numpy/typing',\n",
       "  [],\n",
       "  ['__init__.data.json', '__init__.meta.json']),\n",
       " ('./scripts/.mypy_cache/3.11/ctypes',\n",
       "  [],\n",
       "  ['__init__.data.json', '__init__.meta.json']),\n",
       " ('./scripts/.mypy_cache/3.11/logging',\n",
       "  [],\n",
       "  ['__init__.data.json', '__init__.meta.json']),\n",
       " ('./scripts/.mypy_cache/3.11/unittest',\n",
       "  [],\n",
       "  ['result.data.json',\n",
       "   'result.meta.json',\n",
       "   '_log.data.json',\n",
       "   '_log.meta.json',\n",
       "   'case.data.json',\n",
       "   'case.meta.json',\n",
       "   'async_case.data.json',\n",
       "   'async_case.meta.json',\n",
       "   'suite.data.json',\n",
       "   'suite.meta.json',\n",
       "   'signals.data.json',\n",
       "   'signals.meta.json',\n",
       "   'runner.data.json',\n",
       "   'runner.meta.json',\n",
       "   'loader.data.json',\n",
       "   'loader.meta.json',\n",
       "   'main.data.json',\n",
       "   'main.meta.json',\n",
       "   '__init__.data.json',\n",
       "   '__init__.meta.json']),\n",
       " ('./scripts/.ipynb_checkpoints', [], ['analizar_figura_1-checkpoint.py']),\n",
       " ('./scripts/miproyecto', ['graficos', 'lib'], ['main.py']),\n",
       " ('./scripts/miproyecto/graficos', ['tresd'], ['complejo.py', 'simple.py']),\n",
       " ('./scripts/miproyecto/graficos/tresd', [], ['vector.py']),\n",
       " ('./scripts/miproyecto/lib', [], ['rotacion.py']),\n",
       " ('./scripts/miproyecto_relativo', ['graficos', 'lib', 'tests'], ['main.py']),\n",
       " ('./scripts/miproyecto_relativo/graficos',\n",
       "  ['tresd'],\n",
       "  ['__init__.py', 'complejo.py', 'simple.py']),\n",
       " ('./scripts/miproyecto_relativo/graficos/tresd', [], ['vector.py']),\n",
       " ('./scripts/miproyecto_relativo/lib', [], ['__init__.py', 'rotacion.py']),\n",
       " ('./scripts/miproyecto_relativo/tests', [], ['test_rotacion.py']),\n",
       " ('./scripts/proyecto',\n",
       "  ['paquete1', 'paquete2'],\n",
       "  ['main.py', 'main_nb.ipynb', 'modulo.py']),\n",
       " ('./scripts/proyecto/paquete1', [], ['__init__.py', 'moduloA.py']),\n",
       " ('./scripts/proyecto/paquete2', [], ['__init__.py', 'moduloB.py']),\n",
       " ('./version-control',\n",
       "  ['_images', '_sources', '_static'],\n",
       "  ['01_introduccion.html',\n",
       "   '02_instalacion_uso.html',\n",
       "   'genindex.html',\n",
       "   'index.html',\n",
       "   'keypoints.html',\n",
       "   'objects.inv',\n",
       "   'search.html',\n",
       "   'searchindex.js',\n",
       "   '.buildinfo',\n",
       "   '.nojekyll']),\n",
       " ('./version-control/_images',\n",
       "  [],\n",
       "  ['alternativa.png', 'merge.svg', 'phd101212s.png', 'versions.svg']),\n",
       " ('./version-control/_sources',\n",
       "  [],\n",
       "  ['01_introduccion.rst.txt',\n",
       "   '02_instalacion_uso.rst.txt',\n",
       "   'index.rst.txt',\n",
       "   'keypoints.rst.txt']),\n",
       " ('./version-control/_static',\n",
       "  ['css', 'fonts', 'js'],\n",
       "  ['_stemmer.js',\n",
       "   'ajax-loader.gif',\n",
       "   'basic.css',\n",
       "   'comment-bright.png',\n",
       "   'comment-close.png',\n",
       "   'comment.png',\n",
       "   'doctools.js',\n",
       "   'documentation_options.js',\n",
       "   'down-pressed.png',\n",
       "   'down.png',\n",
       "   'file.png',\n",
       "   'jquery-3.1.0.js',\n",
       "   'jquery-3.2.1.js',\n",
       "   'jquery.js',\n",
       "   'minus.png',\n",
       "   'plus.png',\n",
       "   'pygments.css',\n",
       "   'rtd_overrides.css',\n",
       "   'searchtools.js',\n",
       "   'translations.js',\n",
       "   'underscore-1.3.1.js',\n",
       "   'underscore.js',\n",
       "   'up-pressed.png',\n",
       "   'up.png',\n",
       "   'websupport.js']),\n",
       " ('./version-control/_static/css', [], ['badge_only.css', 'theme.css']),\n",
       " ('./version-control/_static/fonts',\n",
       "  ['Lato', 'RobotoSlab'],\n",
       "  ['Inconsolata-Bold.ttf',\n",
       "   'Inconsolata-Regular.ttf',\n",
       "   'Lato-Bold.ttf',\n",
       "   'Lato-BoldItalic.ttf',\n",
       "   'Lato-Italic.ttf',\n",
       "   'Lato-Regular.ttf',\n",
       "   'RobotoSlab-Bold.ttf',\n",
       "   'RobotoSlab-Regular.ttf',\n",
       "   'fontawesome-webfont.eot',\n",
       "   'fontawesome-webfont.svg',\n",
       "   'fontawesome-webfont.ttf',\n",
       "   'fontawesome-webfont.woff',\n",
       "   'fontawesome-webfont.woff2']),\n",
       " ('./version-control/_static/fonts/Lato',\n",
       "  [],\n",
       "  ['lato-bold.eot',\n",
       "   'lato-bold.ttf',\n",
       "   'lato-bold.woff',\n",
       "   'lato-bold.woff2',\n",
       "   'lato-bolditalic.eot',\n",
       "   'lato-bolditalic.ttf',\n",
       "   'lato-bolditalic.woff',\n",
       "   'lato-bolditalic.woff2',\n",
       "   'lato-italic.eot',\n",
       "   'lato-italic.ttf',\n",
       "   'lato-italic.woff',\n",
       "   'lato-italic.woff2',\n",
       "   'lato-regular.eot',\n",
       "   'lato-regular.ttf',\n",
       "   'lato-regular.woff',\n",
       "   'lato-regular.woff2']),\n",
       " ('./version-control/_static/fonts/RobotoSlab',\n",
       "  [],\n",
       "  ['roboto-slab-v7-bold.eot',\n",
       "   'roboto-slab-v7-bold.ttf',\n",
       "   'roboto-slab-v7-bold.woff',\n",
       "   'roboto-slab-v7-bold.woff2',\n",
       "   'roboto-slab-v7-regular.eot',\n",
       "   'roboto-slab-v7-regular.ttf',\n",
       "   'roboto-slab-v7-regular.woff',\n",
       "   'roboto-slab-v7-regular.woff2']),\n",
       " ('./version-control/_static/js', [], ['modernizr.min.js', 'theme.js']),\n",
       " ('./__pycache__', [], ['ejemplo_05_2.cpython-311.pyc']),\n",
       " ('./08_1_intro_numpy_files', [], []),\n",
       " ('./09_1_intro_visualizacion_files', [], []),\n",
       " ('./09_2_personal_plot_files', [], []),\n",
       " ('./10_1_mas_arrays_files', [], []),\n",
       " ('./10_2_indexado_files', [], []),\n",
       " ('./11_1_intro_scipy_files', [], []),\n",
       " ('./11_2_scipy_al_files', [], []),\n",
       " ('./13_fiteos_files', [], []),\n",
       " ('./14_1_1_primer_ejemplo_files', [], ['14_1_1_primer_ejemplo_1_0.png']),\n",
       " ('./14_1_2_segundo_ejemplo_files', [], ['14_1_2_segundo_ejemplo_2_0.png']),\n",
       " ('./14_3_imagenes_files', [], []),\n",
       " ('./14_1_3_quiver_files', [], ['14_1_3_quiver_7_1.png']),\n",
       " ('./12_1_intro_scipy_files', [], []),\n",
       " ('./12_2_scipy_al_files', [], []),\n",
       " ('./15_2_pandas_files', [], ['15_2_pandas_37_0.png']),\n",
       " ('./10_1_intro_numpy_files', [], []),\n",
       " ('./10_3_intro_visualizacion_files', [], []),\n",
       " ('./obsoletos',\n",
       "  [],\n",
       "  ['07_2_enum_y_dataclasses.ipynb',\n",
       "   '07_4_importar_modulos.ipynb',\n",
       "   '08_1_intro_numpy.ipynb',\n",
       "   '09_1_intro_visualizacion.ipynb',\n",
       "   '17_interfacing.ipynb',\n",
       "   'old_04_2_func_args.ipynb']),\n",
       " ('./11_1_intro_visualizacion_files', [], []),\n",
       " ('./11_2_mas_visualizacion_files', [], []),\n",
       " ('./11_3_personal_plot_files', [], []),\n",
       " ('./12_2_indexado_files', [], []),\n",
       " ('./13_1_intro_scipy_files', [], []),\n",
       " ('./13_2_fiteos_files', [], []),\n",
       " ('./13_3_imagenes_files', [], [])]"
      ]
     },
     "execution_count": 20,
     "metadata": {},
     "output_type": "execute_result"
    }
   ],
   "source": [
    "[a for a in os.walk(curdir)]"
   ]
  },
  {
   "cell_type": "code",
   "execution_count": 21,
   "id": "d5aa7bee-6c80-4c41-beca-9bcb0d75ed89",
   "metadata": {
    "autoscroll": false,
    "ein.hycell": false,
    "ein.tags": "worksheet-0",
    "slideshow": {
     "slide_type": "-"
    }
   },
   "outputs": [
    {
     "name": "stdout",
     "output_type": "stream",
     "text": [
      "Help on function walk in module os:\n",
      "\n",
      "walk(top, topdown=True, onerror=None, followlinks=False)\n",
      "    Directory tree generator.\n",
      "\n",
      "    For each directory in the directory tree rooted at top (including top\n",
      "    itself, but excluding '.' and '..'), yields a 3-tuple\n",
      "\n",
      "        dirpath, dirnames, filenames\n",
      "\n",
      "    dirpath is a string, the path to the directory.  dirnames is a list of\n",
      "    the names of the subdirectories in dirpath (including symlinks to directories,\n",
      "    and excluding '.' and '..').\n",
      "    filenames is a list of the names of the non-directory files in dirpath.\n",
      "    Note that the names in the lists are just names, with no path components.\n",
      "    To get a full path (which begins with top) to a file or directory in\n",
      "    dirpath, do os.path.join(dirpath, name).\n",
      "\n",
      "    If optional arg 'topdown' is true or not specified, the triple for a\n",
      "    directory is generated before the triples for any of its subdirectories\n",
      "    (directories are generated top down).  If topdown is false, the triple\n",
      "    for a directory is generated after the triples for all of its\n",
      "    subdirectories (directories are generated bottom up).\n",
      "\n",
      "    When topdown is true, the caller can modify the dirnames list in-place\n",
      "    (e.g., via del or slice assignment), and walk will only recurse into the\n",
      "    subdirectories whose names remain in dirnames; this can be used to prune the\n",
      "    search, or to impose a specific order of visiting.  Modifying dirnames when\n",
      "    topdown is false has no effect on the behavior of os.walk(), since the\n",
      "    directories in dirnames have already been generated by the time dirnames\n",
      "    itself is generated. No matter the value of topdown, the list of\n",
      "    subdirectories is retrieved before the tuples for the directory and its\n",
      "    subdirectories are generated.\n",
      "\n",
      "    By default errors from the os.scandir() call are ignored.  If\n",
      "    optional arg 'onerror' is specified, it should be a function; it\n",
      "    will be called with one argument, an OSError instance.  It can\n",
      "    report the error to continue with the walk, or raise the exception\n",
      "    to abort the walk.  Note that the filename is available as the\n",
      "    filename attribute of the exception object.\n",
      "\n",
      "    By default, os.walk does not follow symbolic links to subdirectories on\n",
      "    systems that support them.  In order to get this functionality, set the\n",
      "    optional argument 'followlinks' to true.\n",
      "\n",
      "    Caution:  if you pass a relative pathname for top, don't change the\n",
      "    current working directory between resumptions of walk.  walk never\n",
      "    changes the current directory, and assumes that the client doesn't\n",
      "    either.\n",
      "\n",
      "    Example:\n",
      "\n",
      "    import os\n",
      "    from os.path import join, getsize\n",
      "    for root, dirs, files in os.walk('python/Lib/email'):\n",
      "        print(root, \"consumes \")\n",
      "        print(sum(getsize(join(root, name)) for name in files), end=\" \")\n",
      "        print(\"bytes in\", len(files), \"non-directory files\")\n",
      "        if 'CVS' in dirs:\n",
      "            dirs.remove('CVS')  # don't visit CVS directories\n",
      "\n"
     ]
    }
   ],
   "source": [
    "help(os.walk)"
   ]
  },
  {
   "cell_type": "code",
   "execution_count": 22,
   "id": "1665958d-39c1-427f-9f94-e29ac5e6b228",
   "metadata": {
    "autoscroll": false,
    "ein.hycell": false,
    "ein.tags": "worksheet-0",
    "slideshow": {
     "slide_type": "-"
    }
   },
   "outputs": [
    {
     "name": "stdout",
     "output_type": "stream",
     "text": [
      "./ consume 27194.865234375 kbytes en  227 non-directory files\n",
      "./explicacion_ejercicio_agujas_files consume 8.73828125 kbytes en  2 non-directory files\n",
      "./scripts consume 3220.2421875 kbytes en  52 non-directory files\n",
      "./scripts/animaciones consume 1275.1103515625 kbytes en  15 non-directory files\n",
      "./scripts/interfacing consume 1062.0107421875 kbytes en  22 non-directory files\n",
      "./scripts/interfacing/__pycache__ consume 1.69140625 kbytes en  2 non-directory files\n",
      "./scripts/__pycache__ consume 0.556640625 kbytes en  1 non-directory files\n",
      "./scripts/.mypy_cache consume 0.21875 kbytes en  2 non-directory files\n",
      "./scripts/.mypy_cache/3.11 consume 5991.6552734375 kbytes en  91 non-directory files\n",
      "./scripts/.mypy_cache/3.11/sys consume 153.5234375 kbytes en  2 non-directory files\n",
      "./scripts/.mypy_cache/3.11/os consume 396.4609375 kbytes en  4 non-directory files\n",
      "./scripts/.mypy_cache/3.11/importlib consume 170.5341796875 kbytes en  8 non-directory files\n",
      "./scripts/.mypy_cache/3.11/importlib/resources consume 15.5146484375 kbytes en  4 non-directory files\n",
      "./scripts/.mypy_cache/3.11/importlib/metadata consume 121.69140625 kbytes en  4 non-directory files\n",
      "./scripts/.mypy_cache/3.11/email consume 206.6962890625 kbytes en  14 non-directory files\n",
      "./scripts/.mypy_cache/3.11/collections consume 777.150390625 kbytes en  4 non-directory files\n",
      "./scripts/.mypy_cache/3.11/_typeshed consume 111.9599609375 kbytes en  2 non-directory files\n",
      "./scripts/.mypy_cache/3.11/json consume 46.310546875 kbytes en  6 non-directory files\n",
      "./scripts/.mypy_cache/3.11/numpy consume 3239.359375 kbytes en  10 non-directory files\n",
      "./scripts/.mypy_cache/3.11/numpy/testing consume 10.078125 kbytes en  2 non-directory files\n",
      "./scripts/.mypy_cache/3.11/numpy/testing/_private consume 164.85546875 kbytes en  4 non-directory files\n",
      "./scripts/.mypy_cache/3.11/numpy/polynomial consume 135.6826171875 kbytes en  18 non-directory files\n",
      "./scripts/.mypy_cache/3.11/numpy/compat consume 27.447265625 kbytes en  6 non-directory files\n",
      "./scripts/.mypy_cache/3.11/numpy/lib consume 1734.2001953125 kbytes en  40 non-directory files\n",
      "./scripts/.mypy_cache/3.11/numpy/_typing consume 994.7578125 kbytes en  26 non-directory files\n",
      "./scripts/.mypy_cache/3.11/numpy/core consume 1922.2734375 kbytes en  34 non-directory files\n",
      "./scripts/.mypy_cache/3.11/numpy/matrixlib consume 12.0048828125 kbytes en  4 non-directory files\n",
      "./scripts/.mypy_cache/3.11/numpy/ma consume 217.17578125 kbytes en  8 non-directory files\n",
      "./scripts/.mypy_cache/3.11/numpy/random consume 889.3935546875 kbytes en  16 non-directory files\n",
      "./scripts/.mypy_cache/3.11/numpy/fft consume 58.0751953125 kbytes en  6 non-directory files\n",
      "./scripts/.mypy_cache/3.11/numpy/linalg consume 155.2236328125 kbytes en  4 non-directory files\n",
      "./scripts/.mypy_cache/3.11/numpy/typing consume 4.326171875 kbytes en  2 non-directory files\n",
      "./scripts/.mypy_cache/3.11/ctypes consume 66.1689453125 kbytes en  2 non-directory files\n",
      "./scripts/.mypy_cache/3.11/logging consume 157.3828125 kbytes en  2 non-directory files\n",
      "./scripts/.mypy_cache/3.11/unittest consume 426.501953125 kbytes en  20 non-directory files\n",
      "./scripts/miproyecto consume 0.705078125 kbytes en  1 non-directory files\n",
      "./scripts/miproyecto/graficos consume 0.2763671875 kbytes en  2 non-directory files\n",
      "./scripts/miproyecto/graficos/tresd consume 0.5234375 kbytes en  1 non-directory files\n",
      "./scripts/miproyecto/lib consume 0.44140625 kbytes en  1 non-directory files\n",
      "./scripts/miproyecto_relativo consume 0.6787109375 kbytes en  1 non-directory files\n",
      "./scripts/miproyecto_relativo/graficos consume 0.2763671875 kbytes en  3 non-directory files\n",
      "./scripts/miproyecto_relativo/graficos/tresd consume 0.5234375 kbytes en  1 non-directory files\n",
      "./scripts/miproyecto_relativo/lib consume 0.4423828125 kbytes en  2 non-directory files\n",
      "./scripts/miproyecto_relativo/tests consume 0.6416015625 kbytes en  1 non-directory files\n",
      "./scripts/proyecto consume 3.71484375 kbytes en  3 non-directory files\n",
      "./scripts/proyecto/paquete1 consume 0.1357421875 kbytes en  2 non-directory files\n",
      "./scripts/proyecto/paquete2 consume 0.423828125 kbytes en  2 non-directory files\n",
      "./version-control consume 55.796875 kbytes en  10 non-directory files\n",
      "./version-control/_images consume 200.9833984375 kbytes en  4 non-directory files\n",
      "./version-control/_sources consume 15.384765625 kbytes en  4 non-directory files\n",
      "./version-control/_static consume 827.212890625 kbytes en  25 non-directory files\n",
      "./version-control/_static/css consume 116.8828125 kbytes en  2 non-directory files\n",
      "./version-control/_static/fonts consume 4132.6220703125 kbytes en  13 non-directory files\n",
      "./version-control/_static/fonts/Lato consume 5672.4013671875 kbytes en  16 non-directory files\n",
      "./version-control/_static/fonts/RobotoSlab consume 786.3271484375 kbytes en  8 non-directory files\n",
      "./version-control/_static/js consume 19.341796875 kbytes en  2 non-directory files\n",
      "./__pycache__ consume 1.181640625 kbytes en  1 non-directory files\n",
      "./08_1_intro_numpy_files consume 0.0 kbytes en  0 non-directory files\n",
      "./09_1_intro_visualizacion_files consume 0.0 kbytes en  0 non-directory files\n",
      "./09_2_personal_plot_files consume 0.0 kbytes en  0 non-directory files\n",
      "./10_1_mas_arrays_files consume 0.0 kbytes en  0 non-directory files\n",
      "./10_2_indexado_files consume 0.0 kbytes en  0 non-directory files\n",
      "./11_1_intro_scipy_files consume 0.0 kbytes en  0 non-directory files\n",
      "./11_2_scipy_al_files consume 0.0 kbytes en  0 non-directory files\n",
      "./13_fiteos_files consume 0.0 kbytes en  0 non-directory files\n",
      "./14_1_1_primer_ejemplo_files consume 17.958984375 kbytes en  1 non-directory files\n",
      "./14_1_2_segundo_ejemplo_files consume 8.638671875 kbytes en  1 non-directory files\n",
      "./14_3_imagenes_files consume 0.0 kbytes en  0 non-directory files\n",
      "./14_1_3_quiver_files consume 49.8369140625 kbytes en  1 non-directory files\n",
      "./12_1_intro_scipy_files consume 0.0 kbytes en  0 non-directory files\n",
      "./12_2_scipy_al_files consume 0.0 kbytes en  0 non-directory files\n",
      "./15_2_pandas_files consume 152.3916015625 kbytes en  1 non-directory files\n",
      "./10_1_intro_numpy_files consume 0.0 kbytes en  0 non-directory files\n",
      "./10_3_intro_visualizacion_files consume 0.0 kbytes en  0 non-directory files\n",
      "./obsoletos consume 941.8525390625 kbytes en  6 non-directory files\n",
      "./11_1_intro_visualizacion_files consume 0.0 kbytes en  0 non-directory files\n",
      "./11_2_mas_visualizacion_files consume 0.0 kbytes en  0 non-directory files\n",
      "./11_3_personal_plot_files consume 0.0 kbytes en  0 non-directory files\n",
      "./12_2_indexado_files consume 0.0 kbytes en  0 non-directory files\n",
      "./13_1_intro_scipy_files consume 0.0 kbytes en  0 non-directory files\n",
      "./13_2_fiteos_files consume 0.0 kbytes en  0 non-directory files\n",
      "./13_3_imagenes_files consume 0.0 kbytes en  0 non-directory files\n"
     ]
    }
   ],
   "source": [
    "import os\n",
    "from os.path import join, getsize\n",
    "for root, dirs, files in os.walk('./'):\n",
    "    print(root, \"consume \", end=\"\")\n",
    "    print(sum([getsize(join(root, name)) for name in files])/1024, end=\"\")\n",
    "    print(\" kbytes en \", len(files), \"non-directory files\")\n",
    "    if '.ipynb_checkpoints' in dirs:\n",
    "        dirs.remove('.ipynb_checkpoints')  # don't visit CVS directories"
   ]
  },
  {
   "cell_type": "markdown",
   "id": "a9a895b6-bc47-42c7-b923-eb5f5e7fde9d",
   "metadata": {
    "ein.tags": "worksheet-0",
    "slideshow": {
     "slide_type": "-"
    }
   },
   "source": [
    "### Módulo `glob`\n",
    "\n",
    "El módulo `glob` encuentra nombres de archivos (o directorios) utilizando patrones similares a los de la consola. La función más utilizada es `glob.glob()`\n",
    "Veamos algunos ejemplos de uso:"
   ]
  },
  {
   "cell_type": "code",
   "execution_count": 23,
   "id": "92bcc390-2459-4cb0-83d5-655cb662cd2c",
   "metadata": {
    "autoscroll": false,
    "ein.hycell": false,
    "ein.tags": "worksheet-0",
    "slideshow": {
     "slide_type": "-"
    }
   },
   "outputs": [],
   "source": [
    "import glob"
   ]
  },
  {
   "cell_type": "code",
   "execution_count": 24,
   "id": "516b68a3-1c20-49fe-afbb-64395ea5ff8f",
   "metadata": {
    "autoscroll": false,
    "ein.hycell": false,
    "ein.tags": "worksheet-0",
    "slideshow": {
     "slide_type": "-"
    }
   },
   "outputs": [],
   "source": [
    "nb_clase4= glob.glob('04*.ipynb')"
   ]
  },
  {
   "cell_type": "code",
   "execution_count": 25,
   "id": "472a9c4d-cf3d-48a4-95f6-aad8fec7b924",
   "metadata": {
    "autoscroll": false,
    "ein.hycell": false,
    "ein.tags": "worksheet-0",
    "slideshow": {
     "slide_type": "-"
    }
   },
   "outputs": [
    {
     "data": {
      "text/plain": [
       "['04_1_funciones.ipynb',\n",
       " '04_2_func_args.ipynb',\n",
       " '04_3_func_func.ipynb',\n",
       " '04_1_iteraciones_func.ipynb',\n",
       " '04_3_func_args_anotacion_de_tipos.ipynb',\n",
       " '04_4_mypy.ipynb']"
      ]
     },
     "execution_count": 25,
     "metadata": {},
     "output_type": "execute_result"
    }
   ],
   "source": [
    "nb_clase4"
   ]
  },
  {
   "cell_type": "code",
   "execution_count": 26,
   "id": "2ef880b0-a535-4039-98c6-dc00ac0845b4",
   "metadata": {
    "autoscroll": false,
    "ein.hycell": false,
    "ein.tags": "worksheet-0",
    "slideshow": {
     "slide_type": "-"
    }
   },
   "outputs": [],
   "source": [
    "nb_clase4.sort()"
   ]
  },
  {
   "cell_type": "code",
   "execution_count": 27,
   "id": "36210f61-3492-4236-a4bb-1b7d90ba7c59",
   "metadata": {
    "autoscroll": false,
    "ein.hycell": false,
    "ein.tags": "worksheet-0",
    "slideshow": {
     "slide_type": "-"
    }
   },
   "outputs": [
    {
     "data": {
      "text/plain": [
       "['04_1_funciones.ipynb',\n",
       " '04_1_iteraciones_func.ipynb',\n",
       " '04_2_func_args.ipynb',\n",
       " '04_3_func_args_anotacion_de_tipos.ipynb',\n",
       " '04_3_func_func.ipynb',\n",
       " '04_4_mypy.ipynb']"
      ]
     },
     "execution_count": 27,
     "metadata": {},
     "output_type": "execute_result"
    }
   ],
   "source": [
    "nb_clase4"
   ]
  },
  {
   "cell_type": "code",
   "execution_count": 28,
   "id": "c59dcff9-f039-4af1-a23d-0f5203650498",
   "metadata": {
    "autoscroll": false,
    "ein.hycell": false,
    "ein.tags": "worksheet-0",
    "slideshow": {
     "slide_type": "-"
    }
   },
   "outputs": [],
   "source": [
    "nb_clases1a4 = glob.glob('0[0-4]*.ipynb')"
   ]
  },
  {
   "cell_type": "code",
   "execution_count": 29,
   "id": "3484afdd-6af6-4efe-aeeb-4f33fb4fd323",
   "metadata": {
    "autoscroll": false,
    "ein.hycell": false,
    "ein.tags": "worksheet-0",
    "slideshow": {
     "slide_type": "-"
    }
   },
   "outputs": [],
   "source": [
    "nb_clases1a4.sort()"
   ]
  },
  {
   "cell_type": "code",
   "execution_count": 30,
   "id": "c85fc5d3-e44b-49e1-b814-c7ebf849ead2",
   "metadata": {
    "autoscroll": false,
    "ein.hycell": false,
    "ein.tags": "worksheet-0",
    "slideshow": {
     "slide_type": "-"
    }
   },
   "outputs": [
    {
     "name": "stdout",
     "output_type": "stream",
     "text": [
      "Clase en archivo 00_introd_y_excursion.ipynb\n",
      "Clase en archivo 01_1_instala_y_uso.ipynb\n",
      "Clase en archivo 01_2_ambientes.ipynb\n",
      "Clase en archivo 01_2_introd_python.ipynb\n",
      "Clase en archivo 01_3_introd_python.ipynb\n",
      "Clase en archivo 02_1_modular.ipynb\n",
      "Clase en archivo 02_2_strings.ipynb\n",
      "Clase en archivo 02_3_listas.ipynb\n",
      "Clase en archivo 03_1_maslistas.ipynb\n",
      "Clase en archivo 03_2_control.ipynb\n",
      "Clase en archivo 03_3_tiposcomplejos.ipynb\n",
      "Clase en archivo 04_1_funciones.ipynb\n",
      "Clase en archivo 04_1_iteraciones_func.ipynb\n",
      "Clase en archivo 04_2_func_args.ipynb\n",
      "Clase en archivo 04_3_func_args_anotacion_de_tipos.ipynb\n",
      "Clase en archivo 04_3_func_func.ipynb\n",
      "Clase en archivo 04_4_mypy.ipynb\n"
     ]
    }
   ],
   "source": [
    "for f in sorted(nb_clases1a4):\n",
    "  print('Clase en archivo {}'.format(f))"
   ]
  },
  {
   "cell_type": "markdown",
   "id": "832af227-381c-4a9d-8336-32c15ea42d2e",
   "metadata": {},
   "source": [
    "### Módulo `Argparse`\n",
    "Este módulo tiene lo necesario para hacer rápidamente un programa para utilizar por línea de comandos, aceptando todo tipo de argumentos y dando información sobre su uso.\n"
   ]
  },
  {
   "cell_type": "markdown",
   "id": "9ac0267d-6d22-4341-bd59-bf53f7bf16a8",
   "metadata": {},
   "source": [
    "```python\n",
    "import argparse\n",
    "VERSION = 1.0\n",
    "\n",
    "parser = argparse.ArgumentParser(\n",
    "      description='\"Mi programa que acepta argumentos por línea de comandos\"')\n",
    "\n",
    "parser.add_argument('-V', '--version', action='version',\n",
    "                      version='%(prog)s version {}'.format(VERSION))\n",
    "  \n",
    "parser.add_argument('-n', '--entero', action=store, dest='n', default=1)\n",
    "\n",
    "args = parser.parse_args()\n",
    "```"
   ]
  },
  {
   "cell_type": "markdown",
   "id": "ba40b625-228d-427d-8941-a7bdae15a071",
   "metadata": {},
   "source": [
    "Más información en la [biblioteca standard](https://docs.python.org/3.6/library/argparse.html) y en [Argparse en Python Module of the week ](https://pymotw.com/3/argparse/index.html)"
   ]
  },
  {
   "cell_type": "markdown",
   "id": "ad7b2cf1",
   "metadata": {},
   "source": [
    "### Módulo `re`\n",
    "Este módulo provee la infraestructura para trabajar con *regular expressions*, es decir para encontrar expresiones que verifican \"cierta forma general\". Veamos algunos conceptos básicos y casos más comunes de uso."
   ]
  },
  {
   "cell_type": "markdown",
   "id": "9e2e4ba7",
   "metadata": {},
   "source": [
    "#### Búsqueda de un patrón en un texto\n",
    "\n",
    "Empecemos con un ejemplo bastante común. Para encontrar un patrón en un texto podemos utilizar el método `search()`\n"
   ]
  },
  {
   "cell_type": "code",
   "execution_count": 31,
   "id": "cae1910e",
   "metadata": {},
   "outputs": [],
   "source": [
    "import re"
   ]
  },
  {
   "cell_type": "code",
   "execution_count": 32,
   "id": "74fa2520",
   "metadata": {},
   "outputs": [
    {
     "name": "stdout",
     "output_type": "stream",
     "text": [
      "Encontré \"un\"\n",
      "en:\n",
      "  \"Otra vez vamos a usar \"Hola Mundo\"\"\n",
      "En las posiciones 29 a 31\n"
     ]
    }
   ],
   "source": [
    "busca = 'un'\n",
    "texto = 'Otra vez vamos a usar \"Hola Mundo\"'\n",
    "\n",
    "match = re.search(busca, texto)\n",
    "\n",
    "print('Encontré \"{}\"\\nen:\\n  \"{}\"'.format(match.re.pattern, match.string))\n",
    "print('En las posiciones {} a {}'.format(match.start(), match.end()))"
   ]
  },
  {
   "cell_type": "markdown",
   "id": "e8538634",
   "metadata": {},
   "source": [
    "Acá buscamos una expresión (el substring \"un\"). Esto es útil pero no muy diferente a utilizar los métodos de strings. Veamos como se definen los patrones."
   ]
  },
  {
   "cell_type": "markdown",
   "id": "91cb8918",
   "metadata": {},
   "source": [
    "#### Definición de expresiones\n",
    "\n",
    "Vamos a buscar un patrón en un texto. Veamos cómo se definen los patrones a buscar.\n",
    "\n",
    "- La mayoría de los caracteres se identifican consigo mismo (si quiero encontrar \"gato\", uso como patrón \"gato\")\n",
    "\n",
    "- Hay unos pocos caracteres especiales (metacaracteres) que tienen un significado especial, estos son:\n",
    "  ```\n",
    "  . ^ $ * + ? { } [ ] \\ | ( )\n",
    "  ```\n",
    "\n",
    "- Si queremos encontrar uno de los metacaracteres, tenemos que precederlos de `\\`. Por ejemplo si queremos encontrar un corchete usamos `\\[`\n",
    "\n",
    "- Los corchetes \"[\" y \"]\" se usan para definir una clase de caracteres, que es un conjunto de caracteres que uno quiere encontrar.\n",
    "\n",
    "  - Los caracteres a encontrar se pueden dar individualmente. Por ejemplo `[gato]` encontrará cualquiera de `g`, `a`, `t`, `o`.\n",
    "  - Un rango de caracteres se puede dar dando dos caracteres separados por un guión. Por ejemplo `[a-z]` dará cualquier letra entre \"a\" y \"z\". Similarmente `[0-5][0-9]` dará cualquier número entre \"00\" y \"59\".\n",
    "  - Los metacaracteres pierden su significado especial dentro de los corchetes. Por ejemplo `[.*)]` encontrará cualquiera de \".\", \"*\", \")\".\n",
    "\n",
    "- El punto `.` indica *cualquier caracter*\n",
    "\n",
    "- Los símbolos `*`, `+`, `?` indican repetición:\n",
    "\n",
    "  - `?`: Indica 0 o 1 aparición de lo anterior\n",
    "  - `*`: Indica 0 o más apariciones de lo anterior\n",
    "  - `+`: Indica 1 o más apariciones de lo anterior\n",
    "\n",
    "- Para encontrar una cantidad determinada de caracteres, se puede agregar dicha cantidad entre llaves `{}`. Por ejemplo, `[a-z]{3}` resultará en cualquier string de exactamente tres letras minúsculas.  "
   ]
  },
  {
   "cell_type": "code",
   "execution_count": 33,
   "id": "d905e307",
   "metadata": {},
   "outputs": [
    {
     "name": "stdout",
     "output_type": "stream",
     "text": [
      "['nombre@server.com', ' apellido@server1.com', ' nombre1995@server.com', ' UnNombreyApellido', ' nombre.apellido82@servidor.com.ar', ' Nombre.Apellido82@servidor.com.ar'] \n",
      "\n",
      "Para la línea: nombre@server.com\n",
      "   Encontré la dirección de correo: nombre@server.com\n",
      "Para la línea:  apellido@server1.com\n",
      "   No encontré dirección de correo!\n",
      "Para la línea:  nombre1995@server.com\n",
      "   No encontré dirección de correo!\n",
      "Para la línea:  UnNombreyApellido\n",
      "   No encontré dirección de correo!\n",
      "Para la línea:  nombre.apellido82@servidor.com.ar\n",
      "   No encontré dirección de correo!\n",
      "Para la línea:  Nombre.Apellido82@servidor.com.ar\n",
      "   No encontré dirección de correo!\n"
     ]
    },
    {
     "name": "stderr",
     "output_type": "stream",
     "text": [
      "<>:1: SyntaxWarning: invalid escape sequence '\\.'\n",
      "<>:1: SyntaxWarning: invalid escape sequence '\\.'\n",
      "/tmp/ipykernel_7053/497915755.py:1: SyntaxWarning: invalid escape sequence '\\.'\n",
      "  busca = \"[a-z]+@[a-z]+\\.[a-z]+\" # Un patrón para buscar direcciones de email\n"
     ]
    }
   ],
   "source": [
    "busca = \"[a-z]+@[a-z]+\\.[a-z]+\" # Un patrón para buscar direcciones de email\n",
    "texto = \"nombre@server.com, apellido@server1.com, nombre1995@server.com, UnNombreyApellido, nombre.apellido82@servidor.com.ar, Nombre.Apellido82@servidor.com.ar\".split(',')\n",
    "print(texto,'\\n')\n",
    "\n",
    "for direc in texto:\n",
    "  m= re.search(busca, direc)\n",
    "  print('Para la línea:', direc)\n",
    "  if m is None:\n",
    "    print('   No encontré dirección de correo!')\n",
    "  else:\n",
    "    print('   Encontré la dirección de correo:', m.string)\n",
    "\n"
   ]
  },
  {
   "cell_type": "markdown",
   "id": "9df76936",
   "metadata": {},
   "source": [
    "- Acá la expresión `[a-z]` significa todos los caracteres en el rango \"a\" hasta \"z\".\n",
    "- `[a-z]+` significa cualquier secuencia de una letra o más.\n",
    "\n",
    "- Los corchetes también se pueden usar en la forma `[abc]` y entonces encuentra *cualquiera* de `a`, `b`, o `c`.\n",
    "\n",
    "Vemos que no encontró todas las direcciones posibles. Porque el patrón no está bien diseñado. Un poco mejor sería:"
   ]
  },
  {
   "cell_type": "code",
   "execution_count": 34,
   "id": "3f393fbf",
   "metadata": {},
   "outputs": [
    {
     "name": "stdout",
     "output_type": "stream",
     "text": [
      "['nombre@server.com', ' apellido@server1.com', ' nombre1995@server.com', ' UnNombreyApellido', ' nombre.apellido82@servidor.com.ar', ' Nombre.Apellido82@servidor.com.ar'] \n",
      "\n",
      "Para la línea: nombre@server.com\n",
      "   Encontré la dirección de correo: nombre@server.com\n",
      "Para la línea:  apellido@server1.com\n",
      "   Encontré la dirección de correo: apellido@server\n",
      "Para la línea:  nombre1995@server.com\n",
      "   Encontré la dirección de correo: nombre1995@server.com\n",
      "Para la línea:  UnNombreyApellido\n",
      "   No encontré dirección de correo:\n",
      "Para la línea:  nombre.apellido82@servidor.com.ar\n",
      "   Encontré la dirección de correo: nombre.apellido82@servidor.com.ar\n",
      "Para la línea:  Nombre.Apellido82@servidor.com.ar\n",
      "   Encontré la dirección de correo: Nombre.Apellido82@servidor.com.ar\n"
     ]
    }
   ],
   "source": [
    "busca = \"[a-zA-Z0-9.]+@[a-z.]+\" # Un patrón para buscar direcciones de email\n",
    "\n",
    "print(texto,'\\n')\n",
    "\n",
    "for direc in texto:\n",
    "  m= re.search(busca, direc)\n",
    "  print('Para la línea:', direc)\n",
    "  if m is None:\n",
    "    print('   No encontré dirección de correo:')\n",
    "  else:\n",
    "    print('   Encontré la dirección de correo:', m.group())\n",
    "\n"
   ]
  },
  {
   "cell_type": "markdown",
   "id": "ffb8f9a4",
   "metadata": {},
   "source": [
    "Los metacaracteres no se activan dentro de clases (adentro de corchetes). En el ejemplo anterior el punto `.` actúa como un punto y no como un metacaracter. En este caso, la primera parte: `[a-zA-Z0-9.]+` significa: \"Encontrar cualquier letra minúscula, mayúscula, número o punto, una o más veces cualquiera de ellos\""
   ]
  },
  {
   "cell_type": "markdown",
   "id": "fc346078",
   "metadata": {},
   "source": [
    "#### Repetición de un patrón\n",
    "\n",
    "Si queremos encontrar strings que presentan la secuencia una o más veces podemos usar `findall()` que devuelve todas las ocurrencias del patrón que no se superponen. Por ejemplo:"
   ]
  },
  {
   "cell_type": "code",
   "execution_count": 35,
   "id": "41e23e9d",
   "metadata": {},
   "outputs": [
    {
     "name": "stdout",
     "output_type": "stream",
     "text": [
      "['ab', 'ab']\n",
      "<class 'str'>\n",
      "Encontré ab\n",
      "Encontré ab\n"
     ]
    }
   ],
   "source": [
    "texto = 'abbaaabbbbaaaaa'\n",
    "\n",
    "busca = 'ab'\n",
    "\n",
    "mm =  re.findall(busca, texto)\n",
    "print(mm)    \n",
    "print(type(mm[0]))\n",
    "for m in mm:\n",
    "    print('Encontré {}'.format(m))\n"
   ]
  },
  {
   "cell_type": "code",
   "execution_count": 36,
   "id": "a3c455c4",
   "metadata": {},
   "outputs": [
    {
     "name": "stdout",
     "output_type": "stream",
     "text": [
      "['ab']\n",
      "['abc', 'abccc', 'abc', 'ab', 'abc']\n"
     ]
    }
   ],
   "source": [
    "p = re.compile('abc*')\n",
    "m= p.findall('acholaboy')\n",
    "print(m)\n",
    "m= p.findall('acholabcoynd sabcccs slabc labdc abc')\n",
    "print(m)"
   ]
  },
  {
   "cell_type": "markdown",
   "id": "cf95a7b2",
   "metadata": {},
   "source": [
    "Si va a utilizar expresiones regulares es recomendable que lea más información en la [biblioteca standard](https://docs.python.org/3.6/library/re.html), en [el HOWTO](https://docs.python.org/3.6/howto/regex.html), en [Python Module of the week](https://pymotw.com/3/re/index.html) o [acá](https://pynative.com/python/regex/).\n",
    "\n",
    "Para practicar RegEx, [ésta es una buena página](https://regexone.com/).\n",
    "\n",
    "Si efectivamente tiene que diseñar una expresión regular, [esta página puede ser útil](https://regex101.com/)."
   ]
  },
  {
   "cell_type": "markdown",
   "id": "4750e23d-6baa-4651-87a5-9b55f7d0dc5a",
   "metadata": {},
   "source": [
    "------\n",
    "\n",
    "\n",
    "## Ejercicios 09 (a)\n",
    "\n",
    "\n",
    "1. **PARA ENTREGAR:** En el ejercicio 08 se creó la clase `Materia` que describa una materia que se dicta en el IB. En dicha clase también se usaron las clases `Persona` y `Estudiante`. La clase `Materia`  provee los siguientes métodos:\n",
    "\n",
    "   - `agrega_estudiante` que agrega un estudiante al curso\n",
    "   - `agrega_docente` que agrega un docente al curso\n",
    "   - `imprime_estudiantes` que lista los estudiantes del curso\n",
    "\n",
    "   Vamos a asumir que los estudiantes son alumnos de grado, de modo tal que las carreras posibles son Ingeniería (Nuclear, Mecánica o Telecomunicaciones) o Física, o son estudiantes vocacionales.\n",
    "   En este ejercicio le pedimos que:\n",
    "   - Corrija la clase `Estudiante` de forma tal que sólo se puedan registrar estudiantes de grado de las carreras mencionadas, o estudiantes vocacionales.\n",
    "   -  Extienda la clase `Materia` de modo tal que se pueda registrar la nota de cada estudiante al finalizar el curso.\n",
    "   -  Cree la clase `Admin` que permita imprimir los listados de estudiantes de una materia y pueda expedir certificados de aprobación que contengan el nombre del alumno, el nombre de la materia y la nota obtenida en números y en letras. (El certificado es un archivo de texto con la información mencionada). \n",
    "   - Finalmente, modifique las clases anteriores de forma tal que se puedan crear y manejar materias a través de distintos años.\n",
    "  \n",
    "   Organice el código en distintos módulos dentro de un proyecto, con un `main.py` donde se utilicen, a modo de ejemplo, las distintas características del código solicitadas. \n",
    "\n",
    "   Para entregar el ejercicio, cree un repositorio privado en GitHub conteniendo el proyecto con el nombre 'modelo-materias-ib' y agregue como colaborador a `cursopythonib`. \n",
    "\n",
    "2. Un ejercicio interesante de aplicación de expresiones regulares(*) consiste en encontrar los coeficientes y las potencias de un polinomio que viene descripto como un string:\n",
    "\n",
    "   ```python\n",
    "    polinomio = \"5x^4 + 3x^2 - 2x + 7\"\n",
    "   ```\n",
    "\n",
    "------\n",
    "\n",
    "\n",
    "> **NOTA:** (*) Este no es un ejercicio fácil, y además, para extraer la información requerida, es necesario poder capturar [grupos de expresiones regulares](https://regexone.com/lesson/capturing_groups).\n",
    "\n",
    "\n",
    "\n",
    "\n"
   ]
  }
 ],
 "metadata": {
  "kernelspec": {
   "display_name": "Python 3 (ipykernel)",
   "language": "python",
   "name": "python3"
  },
  "language_info": {
   "codemirror_mode": {
    "name": "ipython",
    "version": 3
   },
   "file_extension": ".py",
   "mimetype": "text/x-python",
   "name": "python",
   "nbconvert_exporter": "python",
   "pygments_lexer": "ipython3",
   "version": "3.13.2"
  },
  "name": "07_modulos_biblioteca.ipynb",
  "toc": {
   "base_numbering": 1,
   "nav_menu": {
    "height": "213.583px",
    "width": "252px"
   },
   "number_sections": false,
   "sideBar": true,
   "skip_h1_title": true,
   "title_cell": "Contenidos",
   "title_sidebar": "Contenidos",
   "toc_cell": false,
   "toc_position": {
    "height": "calc(100% - 180px)",
    "left": "10px",
    "top": "150px",
    "width": "227.667px"
   },
   "toc_section_display": true,
   "toc_window_display": true
  }
 },
 "nbformat": 4,
 "nbformat_minor": 5
}
