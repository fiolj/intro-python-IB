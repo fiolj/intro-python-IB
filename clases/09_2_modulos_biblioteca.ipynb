{
 "cells": [
  {
   "cell_type": "markdown",
   "id": "4432a533-f50f-475a-809b-35cb0c1769d4",
   "metadata": {
    "ein.tags": "worksheet-0",
    "slideshow": {
     "slide_type": "-"
    }
   },
   "source": [
    "## Algunos módulos (biblioteca standard)  <a class=\"tocSkip\">"
   ]
  },
  {
   "cell_type": "markdown",
   "id": "402b53bd-24a1-4144-be1c-1140138a6aa6",
   "metadata": {
    "ein.tags": "worksheet-0",
    "slideshow": {
     "slide_type": "-"
    }
   },
   "source": [
    "Los módulos pueden pensarse como bibliotecas de objetos (funciones, datos, etc) que pueden usarse según la necesidad. Hay una biblioteca standard con rutinas para muchas operaciones comunes, y además existen muchos paquetes específicos para distintas tareas. Veamos algunos ejemplos:\n",
    "\n",
    "### Módulo sys\n",
    "\n",
    "Este módulo da acceso a variables que usa o mantiene el intérprete Python"
   ]
  },
  {
   "cell_type": "code",
   "execution_count": null,
   "id": "a5aac599-922b-4bcb-9b68-f67363e3b790",
   "metadata": {
    "autoscroll": false,
    "ein.hycell": false,
    "ein.tags": "worksheet-0",
    "slideshow": {
     "slide_type": "-"
    }
   },
   "outputs": [],
   "source": [
    "import sys"
   ]
  },
  {
   "cell_type": "code",
   "execution_count": null,
   "id": "3d0d0145-2423-412f-8a9b-51ac3a06b518",
   "metadata": {
    "autoscroll": false,
    "ein.hycell": false,
    "ein.tags": "worksheet-0",
    "slideshow": {
     "slide_type": "-"
    }
   },
   "outputs": [],
   "source": [
    "sys.path"
   ]
  },
  {
   "cell_type": "code",
   "execution_count": null,
   "id": "a4e3846b-96e4-4380-8d4a-c789cfb038f0",
   "metadata": {
    "autoscroll": false,
    "ein.hycell": false,
    "ein.tags": "worksheet-0",
    "slideshow": {
     "slide_type": "-"
    }
   },
   "outputs": [],
   "source": [
    "sys.getfilesystemencoding()"
   ]
  },
  {
   "cell_type": "code",
   "execution_count": null,
   "id": "753c70b2-8377-4d17-9fa3-5ab264b75b1f",
   "metadata": {
    "autoscroll": false,
    "ein.hycell": false,
    "ein.tags": "worksheet-0",
    "slideshow": {
     "slide_type": "-"
    }
   },
   "outputs": [],
   "source": [
    "sys.getsizeof(1)"
   ]
  },
  {
   "cell_type": "code",
   "execution_count": null,
   "id": "40d1e5a3",
   "metadata": {},
   "outputs": [],
   "source": [
    "sys.getsizeof(\"hola\")"
   ]
  },
  {
   "cell_type": "code",
   "execution_count": null,
   "id": "0295df1c-6083-46e4-ab68-830bcddf2043",
   "metadata": {
    "autoscroll": false,
    "ein.hycell": false,
    "ein.tags": "worksheet-0",
    "slideshow": {
     "slide_type": "-"
    }
   },
   "outputs": [],
   "source": [
    "help(sys.getsizeof)"
   ]
  },
  {
   "cell_type": "markdown",
   "id": "25d89a62-a457-49c0-9bd8-db9f6a99cc32",
   "metadata": {
    "ein.tags": "worksheet-0",
    "slideshow": {
     "slide_type": "-"
    }
   },
   "source": [
    "Vemos que para utilizar las variables (path) o funciones (getsizeof) debemos referirlo anteponiendo el módulo en el cuál está definido (sys) y separado por un punto.\n",
    "\n",
    "Cuando hacemos un programa, con definición de variables y funciones. Podemos utilizarlo como un módulo, de la misma manera que los que ya vienen definidos en la biblioteca standard o en los paquetes que instalamos."
   ]
  },
  {
   "cell_type": "markdown",
   "id": "0594a456-1e5e-4149-b485-909d76402a89",
   "metadata": {
    "ein.tags": "worksheet-0",
    "slideshow": {
     "slide_type": "-"
    }
   },
   "source": [
    "### Módulo `os`\n",
    "\n",
    "El módulo `os` tiene utilidades para operar sobre nombres de archivos y directorios de manera segura y portable, de manera que pueda utilizarse en distintos sistemas operativos. Vamos a ver ejemplos de uso de algunas facilidades que brinda:"
   ]
  },
  {
   "cell_type": "code",
   "execution_count": null,
   "id": "a12bfa0a-00b1-43b1-a83c-7d373ca0c941",
   "metadata": {
    "autoscroll": false,
    "ein.hycell": false,
    "ein.tags": "worksheet-0",
    "slideshow": {
     "slide_type": "-"
    }
   },
   "outputs": [],
   "source": [
    "import os\n",
    "\n",
    "print(os.curdir)\n",
    "print(os.pardir)\n",
    "print (os.getcwd())"
   ]
  },
  {
   "cell_type": "code",
   "execution_count": null,
   "id": "c22e89a0-b8b5-41c2-b1d7-3fc5ed37b3fa",
   "metadata": {
    "autoscroll": false,
    "ein.hycell": false,
    "ein.tags": "worksheet-0",
    "slideshow": {
     "slide_type": "-"
    }
   },
   "outputs": [],
   "source": [
    "cur = os.getcwd()\n",
    "par = os.path.abspath(\"..\")\n",
    "print(cur)\n",
    "print(par)\n"
   ]
  },
  {
   "cell_type": "code",
   "execution_count": null,
   "id": "5c11c526-d67c-41af-97ab-fe0e8bf1a442",
   "metadata": {
    "autoscroll": false,
    "ein.hycell": false,
    "ein.tags": "worksheet-0",
    "slideshow": {
     "slide_type": "-"
    }
   },
   "outputs": [],
   "source": [
    "print(os.path.abspath(os.curdir))\n",
    "print(os.getcwd())"
   ]
  },
  {
   "cell_type": "code",
   "execution_count": null,
   "id": "94758552-ee6a-4da8-b50e-67180d9f64f8",
   "metadata": {
    "autoscroll": false,
    "ein.hycell": false,
    "ein.tags": "worksheet-0",
    "slideshow": {
     "slide_type": "-"
    }
   },
   "outputs": [],
   "source": [
    "print(os.path.basename(cur))\n",
    "print(os.path.splitdrive(cur)) # Útil en Windows donde hay letras que identifican las unidades de disco"
   ]
  },
  {
   "cell_type": "code",
   "execution_count": null,
   "id": "48c93294-5a25-410b-a697-9467d61a737b",
   "metadata": {
    "autoscroll": false,
    "ein.hycell": false,
    "ein.tags": "worksheet-0",
    "slideshow": {
     "slide_type": "-"
    }
   },
   "outputs": [],
   "source": [
    "print(os.path.commonprefix((cur, par)))\n",
    "archivo = os.path.join(par,'este' , 'otro.dat')\n",
    "print (archivo)\n",
    "print (os.path.split(archivo))\n",
    "print (os.path.splitext(archivo))\n",
    "print (os.path.exists(archivo))\n",
    "print (os.path.exists(cur))\n"
   ]
  },
  {
   "cell_type": "markdown",
   "id": "e472ccda-513f-4302-940a-733d0e32c934",
   "metadata": {
    "ein.tags": "worksheet-0",
    "slideshow": {
     "slide_type": "-"
    }
   },
   "source": [
    "Como es aparente de estos ejemplos, se puede acceder a todos los objetos (funciones, variables) de un módulo utilizando simplemente la línea `import <modulo>` pero puede ser tedioso escribir todo con prefijos (como `os.path.abspath`) por lo que existen dos alternativas que pueden ser más convenientes. La primera corresponde a importar todas las definiciones de un módulo en forma implícita:"
   ]
  },
  {
   "cell_type": "code",
   "execution_count": null,
   "id": "3772093a-98b7-47cc-8bc7-e324cc4fbcd9",
   "metadata": {
    "autoscroll": false,
    "ein.hycell": false,
    "ein.tags": "worksheet-0",
    "slideshow": {
     "slide_type": "-"
    }
   },
   "outputs": [],
   "source": [
    "from os import *"
   ]
  },
  {
   "cell_type": "markdown",
   "id": "06111b7c-08dc-4ded-88d3-d6e60f3694e3",
   "metadata": {
    "ein.tags": "worksheet-0",
    "slideshow": {
     "slide_type": "-"
    }
   },
   "source": [
    "Después de esta declaración usamos los objetos de la misma manera que antes pero obviando la parte de `os.`"
   ]
  },
  {
   "cell_type": "code",
   "execution_count": null,
   "id": "d13f1693-c044-4735-9b6e-4733df447668",
   "metadata": {
    "autoscroll": false,
    "ein.hycell": false,
    "ein.tags": "worksheet-0",
    "slideshow": {
     "slide_type": "-"
    }
   },
   "outputs": [],
   "source": [
    "path.abspath(curdir)"
   ]
  },
  {
   "cell_type": "markdown",
   "id": "3ba98932-f67e-40a2-965f-21ed54165d59",
   "metadata": {
    "ein.tags": "worksheet-0",
    "slideshow": {
     "slide_type": "-"
    }
   },
   "source": [
    "Esto es conveniente en algunos casos pero no suele ser una buena idea en programas largos ya que distintos módulos pueden definir el mismo nombre, y se pierde información sobre su origen. Una alternativa que es conveniente y permite mantener mejor control es importar explícitamente lo que vamos a usar:"
   ]
  },
  {
   "cell_type": "code",
   "execution_count": null,
   "id": "9e8b7bd2-4d76-4b6e-9878-2046a7e81718",
   "metadata": {
    "autoscroll": false,
    "ein.hycell": false,
    "ein.tags": "worksheet-0",
    "slideshow": {
     "slide_type": "-"
    }
   },
   "outputs": [],
   "source": [
    "from os import curdir, pardir, getcwd\n",
    "from os.path import abspath\n",
    "print(abspath(pardir))\n",
    "print(abspath(curdir))\n",
    "print(abspath(getcwd()))\n"
   ]
  },
  {
   "cell_type": "markdown",
   "id": "25463f3d-7056-41e4-b768-cbbdabeb6411",
   "metadata": {
    "ein.tags": "worksheet-0",
    "slideshow": {
     "slide_type": "-"
    }
   },
   "source": [
    "Además podemos darle un nombre diferente al importar módulos u objetos"
   ]
  },
  {
   "cell_type": "code",
   "execution_count": null,
   "id": "b9bd5038-1d8a-4621-b942-c81026c02814",
   "metadata": {
    "autoscroll": false,
    "ein.hycell": false,
    "ein.tags": "worksheet-0",
    "slideshow": {
     "slide_type": "-"
    }
   },
   "outputs": [],
   "source": [
    "import os.path as path\n",
    "from os import getenv as ge\n"
   ]
  },
  {
   "cell_type": "code",
   "execution_count": null,
   "id": "c777f2ee-02c1-444b-9e6c-71b61a04df20",
   "metadata": {
    "autoscroll": false,
    "ein.hycell": false,
    "ein.tags": "worksheet-0",
    "slideshow": {
     "slide_type": "-"
    }
   },
   "outputs": [],
   "source": [
    "help(ge)"
   ]
  },
  {
   "cell_type": "code",
   "execution_count": null,
   "id": "88eddd6b-6b79-445c-8268-9e7f276b7294",
   "metadata": {
    "autoscroll": false,
    "ein.hycell": false,
    "ein.tags": "worksheet-0",
    "slideshow": {
     "slide_type": "-"
    }
   },
   "outputs": [],
   "source": [
    "ge('HOME')"
   ]
  },
  {
   "cell_type": "code",
   "execution_count": null,
   "id": "f4f2557f-963e-41c1-8544-a5d44e8bba1a",
   "metadata": {
    "autoscroll": false,
    "ein.hycell": false,
    "ein.tags": "worksheet-0",
    "slideshow": {
     "slide_type": "-"
    }
   },
   "outputs": [],
   "source": [
    "path.realpath(curdir)"
   ]
  },
  {
   "cell_type": "markdown",
   "id": "4e154bb4-3a8b-432d-bce3-8ce88d8ad5f6",
   "metadata": {
    "ein.tags": "worksheet-0",
    "slideshow": {
     "slide_type": "-"
    }
   },
   "source": [
    "Acá hemos importado el módulo `os.path` (es un sub-módulo) como `path` y la función `getenv` del módulo `os` y la hemos renombrado `ge`."
   ]
  },
  {
   "cell_type": "code",
   "execution_count": null,
   "id": "86d2c4ae",
   "metadata": {},
   "outputs": [],
   "source": [
    "curdir"
   ]
  },
  {
   "cell_type": "code",
   "execution_count": null,
   "id": "1505cadf",
   "metadata": {},
   "outputs": [],
   "source": [
    "[a for a in os.walk(curdir)]"
   ]
  },
  {
   "cell_type": "code",
   "execution_count": null,
   "id": "d5aa7bee-6c80-4c41-beca-9bcb0d75ed89",
   "metadata": {
    "autoscroll": false,
    "ein.hycell": false,
    "ein.tags": "worksheet-0",
    "slideshow": {
     "slide_type": "-"
    }
   },
   "outputs": [],
   "source": [
    "help(os.walk)"
   ]
  },
  {
   "cell_type": "code",
   "execution_count": null,
   "id": "1665958d-39c1-427f-9f94-e29ac5e6b228",
   "metadata": {
    "autoscroll": false,
    "ein.hycell": false,
    "ein.tags": "worksheet-0",
    "slideshow": {
     "slide_type": "-"
    }
   },
   "outputs": [],
   "source": [
    "import os\n",
    "from os.path import join, getsize\n",
    "for root, dirs, files in os.walk('./'):\n",
    "    print(root, \"consume \", end=\"\")\n",
    "    print(sum([getsize(join(root, name)) for name in files])/1024, end=\"\")\n",
    "    print(\" kbytes en \", len(files), \"non-directory files\")\n",
    "    if '.ipynb_checkpoints' in dirs:\n",
    "        dirs.remove('.ipynb_checkpoints')  # don't visit CVS directories"
   ]
  },
  {
   "cell_type": "markdown",
   "id": "a9a895b6-bc47-42c7-b923-eb5f5e7fde9d",
   "metadata": {
    "ein.tags": "worksheet-0",
    "slideshow": {
     "slide_type": "-"
    }
   },
   "source": [
    "### Módulo `glob`\n",
    "\n",
    "El módulo `glob` encuentra nombres de archivos (o directorios) utilizando patrones similares a los de la consola. La función más utilizada es `glob.glob()`\n",
    "Veamos algunos ejemplos de uso:"
   ]
  },
  {
   "cell_type": "code",
   "execution_count": null,
   "id": "92bcc390-2459-4cb0-83d5-655cb662cd2c",
   "metadata": {
    "autoscroll": false,
    "ein.hycell": false,
    "ein.tags": "worksheet-0",
    "slideshow": {
     "slide_type": "-"
    }
   },
   "outputs": [],
   "source": [
    "import glob"
   ]
  },
  {
   "cell_type": "code",
   "execution_count": null,
   "id": "516b68a3-1c20-49fe-afbb-64395ea5ff8f",
   "metadata": {
    "autoscroll": false,
    "ein.hycell": false,
    "ein.tags": "worksheet-0",
    "slideshow": {
     "slide_type": "-"
    }
   },
   "outputs": [],
   "source": [
    "nb_clase4= glob.glob('04*.ipynb')"
   ]
  },
  {
   "cell_type": "code",
   "execution_count": null,
   "id": "472a9c4d-cf3d-48a4-95f6-aad8fec7b924",
   "metadata": {
    "autoscroll": false,
    "ein.hycell": false,
    "ein.tags": "worksheet-0",
    "slideshow": {
     "slide_type": "-"
    }
   },
   "outputs": [],
   "source": [
    "nb_clase4"
   ]
  },
  {
   "cell_type": "code",
   "execution_count": null,
   "id": "2ef880b0-a535-4039-98c6-dc00ac0845b4",
   "metadata": {
    "autoscroll": false,
    "ein.hycell": false,
    "ein.tags": "worksheet-0",
    "slideshow": {
     "slide_type": "-"
    }
   },
   "outputs": [],
   "source": [
    "nb_clase4.sort()"
   ]
  },
  {
   "cell_type": "code",
   "execution_count": null,
   "id": "36210f61-3492-4236-a4bb-1b7d90ba7c59",
   "metadata": {
    "autoscroll": false,
    "ein.hycell": false,
    "ein.tags": "worksheet-0",
    "slideshow": {
     "slide_type": "-"
    }
   },
   "outputs": [],
   "source": [
    "nb_clase4"
   ]
  },
  {
   "cell_type": "code",
   "execution_count": null,
   "id": "c59dcff9-f039-4af1-a23d-0f5203650498",
   "metadata": {
    "autoscroll": false,
    "ein.hycell": false,
    "ein.tags": "worksheet-0",
    "slideshow": {
     "slide_type": "-"
    }
   },
   "outputs": [],
   "source": [
    "nb_clases1a4 = glob.glob('0[0-4]*.ipynb')"
   ]
  },
  {
   "cell_type": "code",
   "execution_count": null,
   "id": "3484afdd-6af6-4efe-aeeb-4f33fb4fd323",
   "metadata": {
    "autoscroll": false,
    "ein.hycell": false,
    "ein.tags": "worksheet-0",
    "slideshow": {
     "slide_type": "-"
    }
   },
   "outputs": [],
   "source": [
    "nb_clases1a4.sort()"
   ]
  },
  {
   "cell_type": "code",
   "execution_count": null,
   "id": "c85fc5d3-e44b-49e1-b814-c7ebf849ead2",
   "metadata": {
    "autoscroll": false,
    "ein.hycell": false,
    "ein.tags": "worksheet-0",
    "slideshow": {
     "slide_type": "-"
    }
   },
   "outputs": [],
   "source": [
    "for f in sorted(nb_clases1a4):\n",
    "  print('Clase en archivo {}'.format(f))"
   ]
  },
  {
   "cell_type": "markdown",
   "id": "832af227-381c-4a9d-8336-32c15ea42d2e",
   "metadata": {},
   "source": [
    "### Módulo `Argparse`\n",
    "Este módulo tiene lo necesario para hacer rápidamente un programa para utilizar por línea de comandos, aceptando todo tipo de argumentos y dando información sobre su uso.\n"
   ]
  },
  {
   "cell_type": "markdown",
   "id": "9ac0267d-6d22-4341-bd59-bf53f7bf16a8",
   "metadata": {},
   "source": [
    "```python\n",
    "import argparse\n",
    "VERSION = 1.0\n",
    "\n",
    "parser = argparse.ArgumentParser(\n",
    "      description='\"Mi programa que acepta argumentos por línea de comandos\"')\n",
    "\n",
    "parser.add_argument('-V', '--version', action='version',\n",
    "                      version='%(prog)s version {}'.format(VERSION))\n",
    "  \n",
    "parser.add_argument('-n', '--entero', action=store, dest='n', default=1)\n",
    "\n",
    "args = parser.parse_args()\n",
    "```"
   ]
  },
  {
   "cell_type": "markdown",
   "id": "ba40b625-228d-427d-8941-a7bdae15a071",
   "metadata": {},
   "source": [
    "Más información en la [biblioteca standard](https://docs.python.org/3.6/library/argparse.html) y en [Argparse en Python Module of the week ](https://pymotw.com/3/argparse/index.html)"
   ]
  },
  {
   "cell_type": "markdown",
   "id": "ad7b2cf1",
   "metadata": {},
   "source": [
    "### Módulo `re`\n",
    "Este módulo provee la infraestructura para trabajar con *regular expressions*, es decir para encontrar expresiones que verifican \"cierta forma general\". Veamos algunos conceptos básicos y casos más comunes de uso."
   ]
  },
  {
   "cell_type": "markdown",
   "id": "9e2e4ba7",
   "metadata": {},
   "source": [
    "#### Búsqueda de un patrón en un texto\n",
    "\n",
    "Empecemos con un ejemplo bastante común. Para encontrar un patrón en un texto podemos utilizar el método `search()`\n"
   ]
  },
  {
   "cell_type": "code",
   "execution_count": 2,
   "id": "cae1910e",
   "metadata": {},
   "outputs": [],
   "source": [
    "import re"
   ]
  },
  {
   "cell_type": "code",
   "execution_count": 3,
   "id": "74fa2520",
   "metadata": {},
   "outputs": [
    {
     "name": "stdout",
     "output_type": "stream",
     "text": [
      "Encontré \"un\"\n",
      "en:\n",
      "  \"Otra vez vamos a usar \"Hola Mundo\"\"\n",
      "En las posiciones 29 a 31\n"
     ]
    }
   ],
   "source": [
    "busca = 'un'\n",
    "texto = 'Otra vez vamos a usar \"Hola Mundo\"'\n",
    "\n",
    "match = re.search(busca, texto)\n",
    "\n",
    "print('Encontré \"{}\"\\nen:\\n  \"{}\"'.format(match.re.pattern, match.string))\n",
    "print('En las posiciones {} a {}'.format(match.start(), match.end()))"
   ]
  },
  {
   "cell_type": "markdown",
   "id": "e8538634",
   "metadata": {},
   "source": [
    "Acá buscamos una expresión (el substring \"un\"). Esto es útil pero no muy diferente a utilizar los métodos de strings. Veamos como se definen los patrones."
   ]
  },
  {
   "cell_type": "markdown",
   "id": "91cb8918",
   "metadata": {},
   "source": [
    "#### Definición de expresiones\n",
    "\n",
    "Vamos a buscar un patrón en un texto. Veamos cómo se definen los patrones a buscar.\n",
    "\n",
    "- La mayoría de los caracteres se identifican consigo mismo (si quiero encontrar \"gato\", uso como patrón \"gato\")\n",
    "\n",
    "- Hay unos pocos caracteres especiales (metacaracteres) que tienen un significado especial, estos son:\n",
    "  ```\n",
    "  . ^ $ * + ? { } [ ] \\ | ( )\n",
    "  ```\n",
    "\n",
    "- Si queremos encontrar uno de los metacaracteres, tenemos que precederlos de `\\`. Por ejemplo si queremos encontrar un corchete usamos `\\[`\n",
    "\n",
    "- Los corchetes \"[\" y \"]\" se usan para definir una clase de caracteres, que es un conjunto de caracteres que uno quiere encontrar.\n",
    "\n",
    "  - Los caracteres a encontrar se pueden dar individualmente. Por ejemplo `[gato]` encontrará cualquiera de `g`, `a`, `t`, `o`.\n",
    "  - Un rango de caracteres se puede dar dando dos caracteres separados por un guión. Por ejemplo `[a-z]` dará cualquier letra entre \"a\" y \"z\". Similarmente `[0-5][0-9]` dará cualquier número entre \"00\" y \"59\".\n",
    "  - Los metacaracteres pierden su significado especial dentro de los corchetes. Por ejemplo `[.*)]` encontrará cualquiera de \".\", \"*\", \")\".\n",
    "\n",
    "- El punto `.` indica *cualquier caracter*\n",
    "\n",
    "- Los símbolos `*`, `+`, `?` indican repetición:\n",
    "\n",
    "  - `?`: Indica 0 o 1 aparición de lo anterior\n",
    "  - `*`: Indica 0 o más apariciones de lo anterior\n",
    "  - `+`: Indica 1 o más apariciones de lo anterior\n",
    "\n",
    "- Para encontrar una cantidad determinada de caracteres, se puede agregar dicha cantidad entre llaves `{}`. Por ejemplo, `[a-z]{3}` resultará en cualquier string de exactamente tres letras minúsculas.  "
   ]
  },
  {
   "cell_type": "code",
   "execution_count": 4,
   "id": "d905e307",
   "metadata": {},
   "outputs": [
    {
     "name": "stdout",
     "output_type": "stream",
     "text": [
      "['nombre@server.com', ' apellido@server1.com', ' nombre1995@server.com', ' UnNombreyApellido', ' nombre.apellido82@servidor.com.ar', ' Nombre.Apellido82@servidor.com.ar'] \n",
      "\n",
      "Para la línea: nombre@server.com\n",
      "   Encontré la dirección de correo: nombre@server.com\n",
      "Para la línea:  apellido@server1.com\n",
      "   No encontré dirección de correo!\n",
      "Para la línea:  nombre1995@server.com\n",
      "   No encontré dirección de correo!\n",
      "Para la línea:  UnNombreyApellido\n",
      "   No encontré dirección de correo!\n",
      "Para la línea:  nombre.apellido82@servidor.com.ar\n",
      "   No encontré dirección de correo!\n",
      "Para la línea:  Nombre.Apellido82@servidor.com.ar\n",
      "   No encontré dirección de correo!\n"
     ]
    },
    {
     "name": "stderr",
     "output_type": "stream",
     "text": [
      "<>:1: SyntaxWarning: invalid escape sequence '\\.'\n",
      "<>:1: SyntaxWarning: invalid escape sequence '\\.'\n",
      "/var/folders/lw/b464kt25373b__wh0bxy280r0000gn/T/ipykernel_50240/497915755.py:1: SyntaxWarning: invalid escape sequence '\\.'\n",
      "  busca = \"[a-z]+@[a-z]+\\.[a-z]+\" # Un patrón para buscar direcciones de email\n"
     ]
    }
   ],
   "source": [
    "busca = \"[a-z]+@[a-z]+\\.[a-z]+\" # Un patrón para buscar direcciones de email\n",
    "texto = \"nombre@server.com, apellido@server1.com, nombre1995@server.com, UnNombreyApellido, nombre.apellido82@servidor.com.ar, Nombre.Apellido82@servidor.com.ar\".split(',')\n",
    "print(texto,'\\n')\n",
    "\n",
    "for direc in texto:\n",
    "  m= re.search(busca, direc)\n",
    "  print('Para la línea:', direc)\n",
    "  if m is None:\n",
    "    print('   No encontré dirección de correo!')\n",
    "  else:\n",
    "    print('   Encontré la dirección de correo:', m.string)\n",
    "\n"
   ]
  },
  {
   "cell_type": "markdown",
   "id": "9df76936",
   "metadata": {},
   "source": [
    "- Acá la expresión `[a-z]` significa todos los caracteres en el rango \"a\" hasta \"z\".\n",
    "- `[a-z]+` significa cualquier secuencia de una letra o más.\n",
    "\n",
    "- Los corchetes también se pueden usar en la forma `[abc]` y entonces encuentra *cualquiera* de `a`, `b`, o `c`.\n",
    "\n",
    "Vemos que no encontró todas las direcciones posibles. Porque el patrón no está bien diseñado. Un poco mejor sería:"
   ]
  },
  {
   "cell_type": "code",
   "execution_count": 5,
   "id": "3f393fbf",
   "metadata": {},
   "outputs": [
    {
     "name": "stdout",
     "output_type": "stream",
     "text": [
      "['nombre@server.com', ' apellido@server1.com', ' nombre1995@server.com', ' UnNombreyApellido', ' nombre.apellido82@servidor.com.ar', ' Nombre.Apellido82@servidor.com.ar'] \n",
      "\n",
      "Para la línea: nombre@server.com\n",
      "   Encontré la dirección de correo: nombre@server.com\n",
      "Para la línea:  apellido@server1.com\n",
      "   Encontré la dirección de correo: apellido@server\n",
      "Para la línea:  nombre1995@server.com\n",
      "   Encontré la dirección de correo: nombre1995@server.com\n",
      "Para la línea:  UnNombreyApellido\n",
      "   No encontré dirección de correo:\n",
      "Para la línea:  nombre.apellido82@servidor.com.ar\n",
      "   Encontré la dirección de correo: nombre.apellido82@servidor.com.ar\n",
      "Para la línea:  Nombre.Apellido82@servidor.com.ar\n",
      "   Encontré la dirección de correo: Nombre.Apellido82@servidor.com.ar\n"
     ]
    }
   ],
   "source": [
    "busca = \"[a-zA-Z0-9.]+@[a-z.]+\" # Un patrón para buscar direcciones de email\n",
    "\n",
    "print(texto,'\\n')\n",
    "\n",
    "for direc in texto:\n",
    "  m= re.search(busca, direc)\n",
    "  print('Para la línea:', direc)\n",
    "  if m is None:\n",
    "    print('   No encontré dirección de correo:')\n",
    "  else:\n",
    "    print('   Encontré la dirección de correo:', m.group())\n",
    "\n"
   ]
  },
  {
   "cell_type": "markdown",
   "id": "ffb8f9a4",
   "metadata": {},
   "source": [
    "Los metacaracteres no se activan dentro de clases (adentro de corchetes). En el ejemplo anterior el punto `.` actúa como un punto y no como un metacaracter. En este caso, la primera parte: `[a-zA-Z0-9.]+` significa: \"Encontrar cualquier letra minúscula, mayúscula, número o punto, una o más veces cualquiera de ellos\""
   ]
  },
  {
   "cell_type": "markdown",
   "id": "fc346078",
   "metadata": {},
   "source": [
    "#### Repetición de un patrón\n",
    "\n",
    "Si queremos encontrar strings que presentan la secuencia una o más veces podemos usar `findall()` que devuelve todas las ocurrencias del patrón que no se superponen. Por ejemplo:"
   ]
  },
  {
   "cell_type": "code",
   "execution_count": 6,
   "id": "41e23e9d",
   "metadata": {},
   "outputs": [
    {
     "name": "stdout",
     "output_type": "stream",
     "text": [
      "['ab', 'ab']\n",
      "<class 'str'>\n",
      "Encontré ab\n",
      "Encontré ab\n"
     ]
    }
   ],
   "source": [
    "texto = 'abbaaabbbbaaaaa'\n",
    "\n",
    "busca = 'ab'\n",
    "\n",
    "mm =  re.findall(busca, texto)\n",
    "print(mm)    \n",
    "print(type(mm[0]))\n",
    "for m in mm:\n",
    "    print('Encontré {}'.format(m))\n"
   ]
  },
  {
   "cell_type": "code",
   "execution_count": 7,
   "id": "a3c455c4",
   "metadata": {},
   "outputs": [
    {
     "name": "stdout",
     "output_type": "stream",
     "text": [
      "['ab']\n",
      "['abc', 'abccc', 'abc', 'ab', 'abc']\n"
     ]
    }
   ],
   "source": [
    "p = re.compile('abc*')\n",
    "m= p.findall('acholaboy')\n",
    "print(m)\n",
    "m= p.findall('acholabcoynd sabcccs slabc labdc abc')\n",
    "print(m)"
   ]
  },
  {
   "cell_type": "markdown",
   "id": "cf95a7b2",
   "metadata": {},
   "source": [
    "Si va a utilizar expresiones regulares es recomendable que lea más información en la [biblioteca standard](https://docs.python.org/3.6/library/re.html), en [el HOWTO](https://docs.python.org/3.6/howto/regex.html), en [Python Module of the week](https://pymotw.com/3/re/index.html) o [acá](https://pynative.com/python/regex/).\n",
    "\n",
    "Para practicar RegEx, [ésta es una buena página](https://regexone.com/).\n",
    "\n",
    "Si efectivamente tiene que diseñar una expresión regular, [esta página puede ser útil](https://regex101.com/)."
   ]
  },
  {
   "cell_type": "markdown",
   "id": "4750e23d-6baa-4651-87a5-9b55f7d0dc5a",
   "metadata": {
    "jp-MarkdownHeadingCollapsed": true
   },
   "source": [
    "## Ejercicios 09 \n",
    "\n",
    "1. **PARA ENTREGAR**\n",
    "\n",
    "En el ejercicio 08 se creó la clase `Materia` que describa una materia que se dicta en el IB. En dicha clase también se usaron las clases `Persona` y `Estudiante`. La clase `Materia`  provee los siguientes métodos:\n",
    "\n",
    "  - `agrega_estudiante` que agrega un estudiante al curso\n",
    "  - `agrega_docente` que agrega un docente al curso\n",
    "  - `imprime_estudiantes` que lista los estudiantes del curso\n",
    "\n",
    "Vamos a asumir que los estudiantes son alumnos de grado, de modo tal que las carreras posibles son Ingeniería (Nuclear, Mecánica o Telecomunicaciones) o Física, o son estudiantes vocacionales. \n",
    "En este ejercicio le pedimos que:\n",
    "\n",
    "  - Corrija la clase `Estudiante` de forma tal que sólo se puedan registrar estudiantes de grado de las carreras mencionadas, o estudiantes vocacionales.\n",
    "  -  Extienda la clase `Materia` de modo tal que se pueda registrar la nota de cada estudiante al finalizar el curso.\n",
    "  -  Cree la clase `Admin` que permita imprimir los listados de estudiantes de una materia y pueda expedir certificados de aprobación que contengan el nombre del alumno, el nombre de la materia y la nota obtenida en números y en letras. (El certificado es un archivo de texto con la información mencionada). \n",
    "  - Finalmente, modifique las clases anteriores de forma tal que se puedan crear y manejar materias a través de distintos años.\n",
    "  \n",
    "  Organice el código en distintos módulos dentro de un proyecto, con un `main.py` donde se utilicen, a modo de ejemplo, las distintas características del código solicitadas. \n",
    "\n",
    "  Para entregar el ejercicio, cree un repositorio privado en GitHub conteniendo el proyecto con el nombre 'modelo-materias-ib' y agregue como colaborador a `cursopythonib`. \n",
    "\n",
    "2. Un ejercicio interesante de aplicación de expresiones regulares(*) consiste en encontrar los coeficientes y las potencias de un polinomio que viene descripto como un string:\n",
    "\n",
    "   ```python\n",
    "   polinomio = \"5x^4 + 3x^2 - 2x + 7\"\n",
    "   ```\n",
    "\n",
    "   > (*) Este no es un ejercicio fácil, y además, para extraer la información requerida, es necesario poder capturar [grupos de expresiones regulares](https://regexone.com/lesson/capturing_groups).\n",
    "\n",
    "    \n",
    "----\n",
    "\n",
    ".\n"
   ]
  },
  {
   "cell_type": "markdown",
   "id": "1563725d",
   "metadata": {},
   "source": []
  }
 ],
 "metadata": {
  "kernelspec": {
   "display_name": "Python 3 (ipykernel)",
   "language": "python",
   "name": "python3"
  },
  "language_info": {
   "codemirror_mode": {
    "name": "ipython",
    "version": 3
   },
   "file_extension": ".py",
   "mimetype": "text/x-python",
   "name": "python",
   "nbconvert_exporter": "python",
   "pygments_lexer": "ipython3",
   "version": "3.13.2"
  },
  "name": "07_modulos_biblioteca.ipynb",
  "toc": {
   "base_numbering": 1,
   "nav_menu": {
    "height": "213.583px",
    "width": "252px"
   },
   "number_sections": false,
   "sideBar": true,
   "skip_h1_title": true,
   "title_cell": "Contenidos",
   "title_sidebar": "Contenidos",
   "toc_cell": false,
   "toc_position": {
    "height": "calc(100% - 180px)",
    "left": "10px",
    "top": "150px",
    "width": "227.667px"
   },
   "toc_section_display": true,
   "toc_window_display": true
  }
 },
 "nbformat": 4,
 "nbformat_minor": 5
}
