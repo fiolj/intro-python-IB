{
 "cells": [
  {
   "cell_type": "markdown",
   "id": "10549c36",
   "metadata": {
    "ein.tags": "worksheet-0",
    "slideshow": {
     "slide_type": "-"
    }
   },
   "source": [
    "# Programación Orientada a Objetos  <a class=\"tocSkip\">\n",
    "\n",
    "## Breve introducción a Programación Orientada a Objetos\n",
    "\n",
    "Vimos como escribir funciones que realizan un trabajo específico y nos devuelven un resultado. La mayor parte de nuestros programas van a estar diseñados con un hilo conductor principal, que utiliza una serie de funciones para realizar el cálculo. De esta manera, el código es altamente reusable.\n",
    "\n",
    "Hay otras maneras de organizar el código, una de ellas es particularmente útil cuando un conjunto de rutinas comparte un dado conjunto de datos. En ese caso, puede ser adecuado utilizar un esquema de programación orientada a objetos. En esta modalidad programamos distintas entidades, donde cada una tiene un comportamiento, y determinamos una manera de interactuar entre ellas.\n",
    "\n",
    "## Clases y Objetos\n",
    "\n",
    "Una ``Clase`` define características que tienen los ``objetos`` de dicha clase. En general la clase tiene: un nombre y características (campos o atributos y métodos).\n",
    "\n",
    "Un Objeto, en programación, puede pensarse como la representación de un objeto real, de una dada clase. Un objeto real tiene una composición y características, y además puede realizar un conjunto de actividades (tiene un comportamiento). Cuando programamos, las \"partes\" son los datos, y el \"comportamiento\" son los métodos.\n",
    "\n",
    "Ejemplos de la vida diaria serían: Una clase *Bicicleta*, y muchos objetos del tipo bicicleta (mi bicicleta, la suya, etc). La definición de la clase debe contener la información de qué es una bicicleta (dos ruedas, manubrio, etc) y luego se realizan muchas copias del tipo bicicleta (los objetos).\n",
    "\n",
    "Se dice que los **objetos** son instancias de una **clase**, por ejemplo ya vimos los números enteros. Cuando definimos: `a = 3` estamos diciendo que `a` es una instancia (objeto) de la clase `int`.\n",
    "\n",
    "Los objetos pueden guardar datos (en este caso `a` guarda el valor `3`). Las variables que contienen los datos de los objetos se llaman usualmente campos o atributos. Las acciones que tienen asociadas los objetos se realizan a través de funciones internas, que se llaman métodos.\n",
    "\n",
    "Las clases se definen con la palabra reservada `class`, veamos un ejemplo simple:\n",
    "\n"
   ]
  },
  {
   "cell_type": "code",
   "execution_count": null,
   "id": "569078c5",
   "metadata": {},
   "outputs": [],
   "source": [
    "class Clase:\n",
    "    pass"
   ]
  },
  {
   "cell_type": "code",
   "execution_count": null,
   "id": "d78b494d",
   "metadata": {},
   "outputs": [],
   "source": [
    "c1 = Clase()"
   ]
  },
  {
   "cell_type": "code",
   "execution_count": null,
   "id": "5a58c60e",
   "metadata": {},
   "outputs": [],
   "source": [
    "c1"
   ]
  },
  {
   "cell_type": "code",
   "execution_count": null,
   "id": "93998c04",
   "metadata": {},
   "outputs": [],
   "source": [
    "help(c1)"
   ]
  },
  {
   "cell_type": "code",
   "execution_count": null,
   "id": "ca37bf38",
   "metadata": {},
   "outputs": [],
   "source": [
    "dir(c1)"
   ]
  },
  {
   "cell_type": "code",
   "execution_count": null,
   "id": "bed8193b",
   "metadata": {
    "autoscroll": false,
    "ein.hycell": false,
    "ein.tags": "worksheet-0",
    "slideshow": {
     "slide_type": "-"
    }
   },
   "outputs": [],
   "source": [
    "class Punto:\n",
    "  \"Clase para describir un punto en el espacio\"\n",
    "\n",
    "  def __init__(self, x, y, z):\n",
    "    self.x = x\n",
    "    self.y = y\n",
    "    self.z = z\n",
    "\n"
   ]
  },
  {
   "cell_type": "code",
   "execution_count": null,
   "id": "59da9d0d",
   "metadata": {
    "autoscroll": false,
    "ein.hycell": false,
    "ein.tags": "worksheet-0",
    "slideshow": {
     "slide_type": "-"
    }
   },
   "outputs": [],
   "source": [
    "P1 = Punto(0.5, 0.5, 0)"
   ]
  },
  {
   "cell_type": "code",
   "execution_count": null,
   "id": "14776630",
   "metadata": {
    "autoscroll": false,
    "ein.hycell": false,
    "ein.tags": "worksheet-0",
    "slideshow": {
     "slide_type": "-"
    }
   },
   "outputs": [],
   "source": [
    "P1"
   ]
  },
  {
   "cell_type": "markdown",
   "id": "1e7a0bbd",
   "metadata": {},
   "source": [
    "Vemos que `P1` es un objeto del tipo `Punto` que está alojado en una dada dirección de memoria (dada por ese número largo hexadecimal). Para referirnos a los *atributos* de `P1` se utiliza notación \"de punto\":"
   ]
  },
  {
   "cell_type": "code",
   "execution_count": null,
   "id": "2a997197",
   "metadata": {
    "autoscroll": false,
    "ein.hycell": false,
    "ein.tags": "worksheet-0",
    "slideshow": {
     "slide_type": "-"
    }
   },
   "outputs": [],
   "source": [
    "P1.x, P1.z"
   ]
  },
  {
   "cell_type": "code",
   "execution_count": null,
   "id": "6e353c63",
   "metadata": {},
   "outputs": [],
   "source": [
    "print(P1)"
   ]
  },
  {
   "cell_type": "markdown",
   "id": "17b37d69",
   "metadata": {
    "ein.tags": "worksheet-0",
    "slideshow": {
     "slide_type": "-"
    }
   },
   "source": [
    "Como vemos, acabamos de definir una clase de tipo Punto. A continuación definimos un *método* `__init__` que hace el trabajo de inicializar el objeto.\n",
    "\n",
    "Algunos puntos a notar:\n",
    "\n",
    "* La línea `P1 = Punto(0.5, 0.5, 0)` crea un nuevo objeto del tipo `Punto`. Notar que usamos paréntesis como cuando llamamos a una función pero Python sabe que estamos \"llamando\" a una clase y creando un objeto.\n",
    "\n",
    "* El método `__init__` es especial y es el Constructor de objetos de la clase. Es llamado automáticamente al definir un nuevo objeto de esa clase. Por esa razón, le pasamos los dos argumentos al crear el objeto.\n",
    "\n",
    "* El primer argumento del método, `self`, debe estar presente en la definición de todos los métodos pero no lo pasamos como argumento cuando hacemos una llamada a la función. **Python** se encarga de pasarlo en forma automática. Lo único relevante de este argumento es que es el primero para todos los métodos, el nombre `self` puede cambiarse por cualquier otro **pero, por convención, no se hace**.\n"
   ]
  },
  {
   "cell_type": "code",
   "execution_count": null,
   "id": "b7c586dc",
   "metadata": {
    "autoscroll": false,
    "ein.hycell": false,
    "ein.tags": "worksheet-0",
    "slideshow": {
     "slide_type": "-"
    }
   },
   "outputs": [],
   "source": [
    "P2 = Punto()"
   ]
  },
  {
   "cell_type": "markdown",
   "id": "b2682ef0",
   "metadata": {
    "ein.tags": "worksheet-0",
    "slideshow": {
     "slide_type": "-"
    }
   },
   "source": [
    "Por supuesto la creación del objeto falla si no le damos ningún argumento porque los argumentos de `__init__` no son opcionales. Modifiquemos eso y aprovechamos para definir algunos otros métodos que pueden ser útiles:"
   ]
  },
  {
   "cell_type": "code",
   "execution_count": null,
   "id": "210c9ffa",
   "metadata": {
    "autoscroll": false,
    "ein.hycell": false,
    "ein.tags": "worksheet-0",
    "slideshow": {
     "slide_type": "-"
    }
   },
   "outputs": [],
   "source": [
    "from math import atan2, pi\n",
    "\n",
    "class Punto:\n",
    "  \"Clase para describir un punto en el espacio\"\n",
    "\n",
    "  def __init__(self, x=0, y=0, z=0):\n",
    "    \"Inicializa un punto en el espacio\"\n",
    "    self.x = x\n",
    "    self.y = y\n",
    "    self.z = z\n",
    "    \n",
    "  def angulo_azimuthal(self):\n",
    "    \"Devuelve el ángulo que forma con el eje x, en grados\"\n",
    "    return 180/pi*(atan2(self.y, self.x))"
   ]
  },
  {
   "cell_type": "code",
   "execution_count": null,
   "id": "43e6481b",
   "metadata": {
    "autoscroll": false,
    "ein.hycell": false,
    "ein.tags": "worksheet-0",
    "slideshow": {
     "slide_type": "-"
    }
   },
   "outputs": [],
   "source": [
    "P1 = Punto(0.5, 0.5)"
   ]
  },
  {
   "cell_type": "code",
   "execution_count": null,
   "id": "34b28f18",
   "metadata": {
    "autoscroll": false,
    "ein.hycell": false,
    "ein.tags": "worksheet-0",
    "slideshow": {
     "slide_type": "-"
    }
   },
   "outputs": [],
   "source": [
    "P1.angulo_azimuthal()"
   ]
  },
  {
   "cell_type": "code",
   "execution_count": null,
   "id": "aa47dadb",
   "metadata": {
    "autoscroll": false,
    "ein.hycell": false,
    "ein.tags": "worksheet-0",
    "slideshow": {
     "slide_type": "-"
    }
   },
   "outputs": [],
   "source": [
    "P2 = Punto()"
   ]
  },
  {
   "cell_type": "code",
   "execution_count": null,
   "id": "8e0de0e4",
   "metadata": {
    "autoscroll": false,
    "ein.hycell": false,
    "ein.tags": "worksheet-0",
    "slideshow": {
     "slide_type": "-"
    }
   },
   "outputs": [],
   "source": [
    "P2.x"
   ]
  },
  {
   "cell_type": "code",
   "execution_count": null,
   "id": "ef53bed1",
   "metadata": {
    "autoscroll": false,
    "ein.hycell": false,
    "ein.tags": "worksheet-0",
    "slideshow": {
     "slide_type": "-"
    }
   },
   "outputs": [],
   "source": [
    "help(P1)"
   ]
  },
  {
   "cell_type": "markdown",
   "id": "8afc30be",
   "metadata": {},
   "source": [
    "El objeto `P1` es del tipo `Punto` y tiene definidos los métodos `__init__()` (el constructor) y el método `angulo_azimuthal()` que programamos para obtener el ángulo. Además tiene el método `__dict__` que provee un diccionario con los datos del objeto:"
   ]
  },
  {
   "cell_type": "code",
   "execution_count": null,
   "id": "45925b1a",
   "metadata": {},
   "outputs": [],
   "source": [
    "P1.__dict__"
   ]
  },
  {
   "cell_type": "markdown",
   "id": "7543374c",
   "metadata": {},
   "source": [
    "Cuando ejecutamos uno de los métodos de un objeto, es equivalente a hacer la llamada al método de la clase, dando como primer argumento el objeto en cuestión:"
   ]
  },
  {
   "cell_type": "code",
   "execution_count": null,
   "id": "fd866422",
   "metadata": {},
   "outputs": [],
   "source": [
    "pp = Punto(0.1, \"s\", [1,2])"
   ]
  },
  {
   "cell_type": "code",
   "execution_count": null,
   "id": "635b80b6",
   "metadata": {},
   "outputs": [],
   "source": [
    "pp"
   ]
  },
  {
   "cell_type": "markdown",
   "id": "bca3cb7f",
   "metadata": {},
   "source": [
    "Evidentemente, al ser Python un lenguaje de tipos dinámicos, no hay forma de prevenir que se use la clase `Punto` con otros tipos de variables que no sean números, \n",
    "lo cual puede tener consecuencias:"
   ]
  },
  {
   "cell_type": "code",
   "execution_count": null,
   "id": "60ef5ab3",
   "metadata": {},
   "outputs": [],
   "source": [
    "pp.angulo_azimuthal()"
   ]
  },
  {
   "cell_type": "code",
   "execution_count": null,
   "id": "76fb1a9d",
   "metadata": {
    "autoscroll": false,
    "ein.hycell": false,
    "ein.tags": "worksheet-0",
    "slideshow": {
     "slide_type": "-"
    }
   },
   "outputs": [],
   "source": [
    "print(P1.angulo_azimuthal())\n",
    "print(Punto.angulo_azimuthal(P1))"
   ]
  },
  {
   "cell_type": "markdown",
   "id": "a1473bb3",
   "metadata": {
    "ein.tags": "worksheet-0",
    "slideshow": {
     "slide_type": "-"
    }
   },
   "source": [
    "Al hacer la llamada a un método de una \"instancia de la Clase\" (o un objeto), omitimos el argumento `self`. El lenguaje traduce nuestro llamado: `P1.angulo_azimuthal()` como `Punto.angulo_azimuthal(P1)` ya que `self` se refiere al objeto que llama al método.\n"
   ]
  },
  {
   "cell_type": "markdown",
   "id": "93e9d7aa",
   "metadata": {},
   "source": [
    "-----\n",
    "\n",
    "> **NOTA:**\n",
    "> Es responsabilidad de quien programa establecer las restricciones de los valores que se pueden asignar a los atributos de un objeto.\n",
    "\n",
    "------\n",
    "\n",
    "Por ejemplo, si se quiere que los valores de x, y, y z sean siempre números reales, se puede hacer lo siguiente:"
   ]
  },
  {
   "cell_type": "code",
   "execution_count": null,
   "id": "7aea562c",
   "metadata": {},
   "outputs": [],
   "source": [
    "\n",
    "class PuntoV:\n",
    "    \"Clase para describir un punto en el espacio\"\n",
    "    \n",
    "    def __init__(self, x=0, y=0, z=0):\n",
    "        \"Inicializa un punto en el espacio\"\n",
    "        if not (isinstance(x, (int, float)) and isinstance(y, (int, float)) and isinstance(z, (int, float))):\n",
    "            raise TypeError(\"x, y, z deben ser números enteros o flotantes\")\n",
    "        self.x = x\n",
    "        self.y = y\n",
    "        self.z = z\n",
    "        \n",
    "    def angulo_azimuthal(self):\n",
    "        \"Devuelve el ángulo que forma con el eje x, en grados\"\n",
    "        return 180/pi*(atan2(self.y, self.x))"
   ]
  },
  {
   "cell_type": "markdown",
   "id": "feadeb60",
   "metadata": {},
   "source": [
    "Acá usamos la función `isinstance` para chequear que la variable `x` (que a su vez es un objeto) sea de alguna de las clases `int` o `float`. "
   ]
  },
  {
   "cell_type": "code",
   "execution_count": null,
   "id": "dd602216",
   "metadata": {},
   "outputs": [],
   "source": [
    "pv = PuntoV(0.1, \"s\", [1,2])"
   ]
  },
  {
   "cell_type": "markdown",
   "id": "d05ffcfd",
   "metadata": {},
   "source": [
    "\n",
    "### Métodos especiales \n",
    "\n",
    "Volviendo a mirar la definición de la clase, vemos que `__init__()` es un método \"especial\". No necesitamos ejecutarlo explícitamente ya que Python lo hace automáticamente al crear cada objeto de la clase dada. En *Python* el usuario/programador tiene acceso a todos los métodos y atributos. Por convención los nombres que inician con guión bajo se presupone que no son para ser utilizados directamente. En particular, los que están rodeados por dos guiones bajos tienen significado especial y *Python* los va a utilizar en forma autómatica en distintas ocasiones.\n"
   ]
  },
  {
   "cell_type": "markdown",
   "id": "77c4d97a",
   "metadata": {
    "ein.tags": "worksheet-0",
    "slideshow": {
     "slide_type": "-"
    }
   },
   "source": [
    "\n",
    "## Herencia\n",
    "\n",
    "Una de las características de la programación orientada a objetos es la facilidad de reutilización de código. Uno de los mecanismos más importantes es a través de la herencia. Cuando definimos una nueva clase, podemos crearla a partir de un objeto que ya exista. Por ejemplo, utilizando la clase `Punto` podemos definir una nueva clase para describir un vector en el espacio:"
   ]
  },
  {
   "cell_type": "code",
   "execution_count": null,
   "id": "1382ef3a",
   "metadata": {
    "autoscroll": false,
    "ein.hycell": false,
    "ein.tags": "worksheet-0",
    "slideshow": {
     "slide_type": "-"
    }
   },
   "outputs": [],
   "source": [
    "class Vector(Punto):\n",
    "  \"Representa un vector en el espacio\"\n",
    "\n",
    "  def suma(self, v2):\n",
    "    \"Calcula un vector que contiene la suma de dos vectores\"\n",
    "    print(\"Aún no implementada la suma de dos vectores\") \n",
    "    # código calculando v = suma de self + v2\n",
    "    # ...\n",
    "\n",
    "  def producto(self, v2):\n",
    "    \"Calcula el producto interno entre dos vectores\"\n",
    "    print(\"Aún no implementado el producto interno de dos vectores\") \n",
    "    # código calculando el producto interno pr = v1 . v2\n",
    "\n",
    "  def norma(self):\n",
    "    \"Devuelve la distancia del punto al origen\"\n",
    "    print(\"Aún no implementado la norma del vector\") \n",
    "    # código calculando el producto interno pr = v1 . v2\n",
    "\n",
    "    "
   ]
  },
  {
   "cell_type": "markdown",
   "id": "36e9ce5f",
   "metadata": {
    "ein.tags": "worksheet-0",
    "slideshow": {
     "slide_type": "-"
    }
   },
   "source": [
    "Acá hemos definido un nuevo tipo de objeto, llamado `Vector` que se deriva de la clase `Punto`. Veamos cómo funciona:"
   ]
  },
  {
   "cell_type": "code",
   "execution_count": null,
   "id": "93ae3b9f",
   "metadata": {
    "autoscroll": false,
    "ein.hycell": false,
    "ein.tags": "worksheet-0",
    "slideshow": {
     "slide_type": "-"
    }
   },
   "outputs": [],
   "source": [
    "v1 = Vector(2,3.1)\n",
    "v2 = Vector()"
   ]
  },
  {
   "cell_type": "code",
   "execution_count": null,
   "id": "54e502bb",
   "metadata": {
    "autoscroll": false,
    "ein.hycell": false,
    "ein.tags": "worksheet-0",
    "slideshow": {
     "slide_type": "-"
    }
   },
   "outputs": [],
   "source": [
    "v1"
   ]
  },
  {
   "cell_type": "code",
   "execution_count": null,
   "id": "22844fcb",
   "metadata": {
    "autoscroll": false,
    "ein.hycell": false,
    "ein.tags": "worksheet-0",
    "slideshow": {
     "slide_type": "-"
    }
   },
   "outputs": [],
   "source": [
    "v1.x, v1.y, v1.z"
   ]
  },
  {
   "cell_type": "code",
   "execution_count": null,
   "id": "da78eb15",
   "metadata": {
    "autoscroll": false,
    "ein.hycell": false,
    "ein.tags": "worksheet-0",
    "slideshow": {
     "slide_type": "-"
    }
   },
   "outputs": [],
   "source": [
    "v2.x, v2.y, v2.z"
   ]
  },
  {
   "cell_type": "code",
   "execution_count": null,
   "id": "85e7e842",
   "metadata": {
    "autoscroll": false,
    "ein.hycell": false,
    "ein.tags": "worksheet-0",
    "slideshow": {
     "slide_type": "-"
    }
   },
   "outputs": [],
   "source": [
    "v1.angulo_azimuthal()"
   ]
  },
  {
   "cell_type": "code",
   "execution_count": null,
   "id": "6989ca4b",
   "metadata": {
    "autoscroll": false,
    "ein.hycell": false,
    "ein.tags": "worksheet-0",
    "slideshow": {
     "slide_type": "-"
    }
   },
   "outputs": [],
   "source": [
    "v = v1.suma(v2)"
   ]
  },
  {
   "cell_type": "code",
   "execution_count": null,
   "id": "73dd0968",
   "metadata": {
    "autoscroll": false,
    "ein.hycell": false,
    "ein.tags": "worksheet-0",
    "slideshow": {
     "slide_type": "-"
    }
   },
   "outputs": [],
   "source": [
    "print(v)"
   ]
  },
  {
   "cell_type": "markdown",
   "id": "a0fcd4af",
   "metadata": {
    "ein.tags": "worksheet-0",
    "slideshow": {
     "slide_type": "-"
    }
   },
   "source": [
    "Los métodos que habíamos definido para los puntos del espacio, son accesibles para el nuevo objeto. Además podemos agregar (extender) el nuevo objeto con otros atributos y métodos.\n",
    "\n",
    "Como vemos, aún no está implementado el cálculo de las distintas funciones, eso forma parte del siguiente ...\n"
   ]
  },
  {
   "cell_type": "markdown",
   "id": "09071dd6",
   "metadata": {
    "ein.tags": "worksheet-0",
    "slideshow": {
     "slide_type": "-"
    }
   },
   "source": [
    "-----\n",
    "\n",
    "## Ejercicios 06 (a)\n",
    "\n",
    "1. Implemente los métodos `suma`, `producto` y `norma`\n",
    "\n",
    "   - `suma` debe retornar un objeto del tipo `Vector` y contener en cada componente la suma de las componentes de los dos vectores que toma como argumento.\n",
    "\n",
    "   - `producto` toma como argumentos dos vectores y retorna un número real con el valor del producto interno\n",
    "\n",
    "   - `norma` toma como argumentos el propio objeto y retorna el número real correspondiente:\n",
    "      $$ \\sqrt{x^2 + y^2 + z^2} $$\n",
    "\n",
    "   Su uso será el siguiente:\n",
    "\n",
    "   ```python\n",
    "   v1 = Vector(1,2,3)\n",
    "   v2 = Vector(3,2,1)\n",
    "   vs1 = v1.suma(v2) \n",
    "   vs2 = v2.suma(v1)\n",
    "   print(vs1 == vs2)  # Debería ser True\n",
    "   pr = v1.producto(v2)\n",
    "   a = v1.norma()\n",
    "   ```\n",
    "\n",
    "-----\n",
    "\n"
   ]
  }
 ],
 "metadata": {
  "kernelspec": {
   "display_name": "Python 3 (ipykernel)",
   "language": "python",
   "name": "python3"
  },
  "language_info": {
   "codemirror_mode": {
    "name": "ipython",
    "version": 3
   },
   "file_extension": ".py",
   "mimetype": "text/x-python",
   "name": "python",
   "nbconvert_exporter": "python",
   "pygments_lexer": "ipython3",
   "version": "3.13.2"
  },
  "name": "06_1_objetos.ipynb",
  "toc": {
   "base_numbering": 1,
   "nav_menu": {
    "height": "132.3px",
    "width": "251.5px"
   },
   "number_sections": true,
   "sideBar": true,
   "skip_h1_title": false,
   "title_cell": "Contenidos",
   "title_sidebar": "Contenidos",
   "toc_cell": false,
   "toc_position": null,
   "toc_section_display": true,
   "toc_window_display": false
  }
 },
 "nbformat": 4,
 "nbformat_minor": 5
}
