{
 "cells": [
  {
   "cell_type": "markdown",
   "id": "806c612e",
   "metadata": {
    "collapsed": false,
    "jupyter": {
     "outputs_hidden": false
    }
   },
   "source": [
    "## Conceptos básicos de Python"
   ]
  },
  {
   "cell_type": "markdown",
   "id": "776bbede",
   "metadata": {
    "collapsed": false,
    "jupyter": {
     "outputs_hidden": false
    }
   },
   "source": [
    "### Características generales del lenguaje\n",
    "\n",
    "Python es un lenguaje de uso general que presenta características modernas. Posiblemente su característica más visible/notable es que la estructuración del código está fuertemente relacionada con su legibilidad:\n",
    "\n",
    "- Las funciones, bloques, ámbitos están definidos por la indentación\n",
    "\n",
    "- Es un lenguaje interpretado (no se compila separadamente)\n",
    "\n",
    "- Provee tanto un entorno interactivo como ejecución de programas completos\n",
    "\n",
    "- Tiene una estructura altamente modular, permitiendo su reusabilidad\n",
    "\n",
    "- Es un lenguaje de *tipeado dinámico*, no tenemos que declarar el tipo de variable antes de usarla.\n",
    "\n",
    "Python es un lenguaje altamente modular con una biblioteca standard que provee funciones y tipos para un amplio rango de aplicaciones, y que se distribuye junto con el lenguaje. Además hay un conjunto muy importante de utilidades que pueden instalarse e incorporarse muy fácilmente. El núcleo del lenguaje es pequeño, existiendo sólo unas pocas palabras reservadas:\n",
    "\n",
    "\n",
    "| Las        | Palabras   | claves    |    del     | Lenguaje |\n",
    "|----------|------------|-----------|------------|----------|\n",
    "| False    | class      | finally   | is         | return   |\n",
    "| None     | continue   | for       | lambda     | try      |\n",
    "| True     | def        | from      | nonlocal   | while    |\n",
    "| and      | del        | global    | not        | with     |\n",
    "| as       | elif       | if        | or         | yield    |\n",
    "| assert   | else       | import    | pass       |          |\n",
    "| break    | except     | in        | raise      |          |\n",
    "\n",
    "\n",
    "\n",
    "### Tipos de variables\n",
    "\n",
    "Python es un lenguaje de muy alto nivel y por lo tanto trae muchos *tipos* de datos ya definidos:\n",
    "\n",
    "  - Números: enteros, reales, complejos\n",
    "  - Tipos lógicos (booleanos)\n",
    "  - Cadenas de caracteres (strings) y bytes\n",
    "  - Listas: una lista es una colección de cosas, ordenadas, que pueden ser todas distintas entre sí\n",
    "  - Diccionarios: También son colecciones de cosas, pero no están ordenadas y son identificadas con una etiqueta\n",
    "  - Conjuntos, tuples, ...\n",
    "\n",
    "#### Tipos simples: Números\n",
    "\n",
    "Hay varios tipos de números en Python. Veamos un ejemplo donde definimos y asignamos valor a distintas variables:"
   ]
  },
  {
   "cell_type": "code",
   "execution_count": null,
   "id": "91effedb",
   "metadata": {
    "autoscroll": false,
    "ein.hycell": false,
    "ein.tags": "worksheet-0",
    "slideshow": {
     "slide_type": "-"
    }
   },
   "outputs": [],
   "source": [
    "a = 13\n",
    "b = 1.23\n",
    "c = a + b\n",
    "print(a, type(a))\n",
    "print(b, type(b))\n",
    "print(c, type(c))"
   ]
  },
  {
   "cell_type": "markdown",
   "id": "29a30d7e",
   "metadata": {
    "collapsed": false,
    "ein.tags": "worksheet-0",
    "jupyter": {
     "outputs_hidden": false
    },
    "slideshow": {
     "slide_type": "-"
    }
   },
   "source": [
    "Acá usamos la función `type()` que retorna el tipo de su argumento.\n",
    "Acá ilustramos una de las características salientes de Python: El tipo de variable se define en forma dinámica, al asignarle un valor. \n",
    "\n",
    "De la misma manera se cambia el tipo de una variable en forma dinámica, para poder operar. Por ejemplo en el último caso, la variable `a` es de tipo `int`, pero para poder sumarla con la variable `b` debe convertirse su valor a otra de tipo `float`."
   ]
  },
  {
   "cell_type": "code",
   "execution_count": null,
   "id": "cfe974be",
   "metadata": {
    "autoscroll": false,
    "ein.hycell": false,
    "ein.tags": "worksheet-0",
    "slideshow": {
     "slide_type": "-"
    }
   },
   "outputs": [],
   "source": [
    "print (a, type(a))\n",
    "a = 1.5 * a\n",
    "print (a, type(a))"
   ]
  },
  {
   "cell_type": "markdown",
   "id": "e229f3a8",
   "metadata": {
    "collapsed": false,
    "ein.tags": "worksheet-0",
    "jupyter": {
     "outputs_hidden": false
    },
    "slideshow": {
     "slide_type": "-"
    }
   },
   "source": [
    "Ahora, la variable `a` es del tipo `float`. \n",
    "\n",
    "Lo que está pasando acá en realidad es que la variable `a` del tipo entero en la primera, en la segunda línea se destruye (después de ser multiplicada por `1.5`) y se crea una nueva variable del tipo `float`  que se llama `a` a la que se le asigna el valor real.\n",
    "\n",
    "En Python 3 la división entre números enteros da como resultado un número de punto flotante"
   ]
  },
  {
   "cell_type": "code",
   "execution_count": null,
   "id": "a9bbeb87",
   "metadata": {
    "autoscroll": false,
    "ein.hycell": false,
    "ein.tags": "worksheet-0",
    "slideshow": {
     "slide_type": "-"
    }
   },
   "outputs": [],
   "source": [
    "print(20/5)\n",
    "print(type(20/5))\n",
    "print(20/3)"
   ]
  },
  {
   "cell_type": "markdown",
   "id": "1f7412ae",
   "metadata": {
    "collapsed": false,
    "ein.tags": "worksheet-0",
    "jupyter": {
     "outputs_hidden": false
    },
    "slideshow": {
     "slide_type": "-"
    }
   },
   "source": [
    "--------\n",
    "\n",
    ">**Advertencia:** En *Python 2.x* la división entre números enteros es entera\n",
    "\n",
    "--------\n",
    "\n",
    "Por ejemplo, en cualquier versión de Python 2 tendremos: 1/2 = 3/4 = 0.\n",
    "Esto es diferente en *Python 3* donde 1/2=0.5 y 3/4=0.75."
   ]
  },
  {
   "cell_type": "markdown",
   "id": "eb305f1f",
   "metadata": {
    "collapsed": false,
    "ein.tags": "worksheet-0",
    "jupyter": {
     "outputs_hidden": false
    },
    "slideshow": {
     "slide_type": "-"
    }
   },
   "source": [
    "------\n",
    "\n",
    ">**Nota:** La función `print`\n",
    ">\n",
    ">Estuvimos usando, sin hacer ningún comentario, la función \n",
    ">\n",
    ">`print(arg1, arg2, arg3, ..., sep=' ', end='\\n', file=sys.stdout, flush=False)` \n",
    ">\n",
    ">que acepta un número variable de argumentos. Esta función Imprime por pantalla todos los argumentos que se le pasan separados por el string `sep` (cuyo valor por defecto es un espacio), y termina con el string `end` (con valor por defecto *newline*)."
   ]
  },
  {
   "cell_type": "code",
   "execution_count": 3,
   "id": "96bc45b3",
   "metadata": {
    "autoscroll": false,
    "ein.hycell": false,
    "ein.tags": "worksheet-0",
    "slideshow": {
     "slide_type": "-"
    }
   },
   "outputs": [
    {
     "name": "stdout",
     "output_type": "stream",
     "text": [
      "Help on built-in function print in module builtins:\n",
      "\n",
      "print(*args, sep=' ', end='\\n', file=None, flush=False)\n",
      "    Prints the values to a stream, or to sys.stdout by default.\n",
      "\n",
      "    sep\n",
      "      string inserted between values, default a space.\n",
      "    end\n",
      "      string appended after the last value, default a newline.\n",
      "    file\n",
      "      a file-like object (stream); defaults to the current sys.stdout.\n",
      "    flush\n",
      "      whether to forcibly flush the stream.\n",
      "\n"
     ]
    }
   ],
   "source": [
    "help(print)"
   ]
  },
  {
   "cell_type": "code",
   "execution_count": 1,
   "id": "dc5277a2",
   "metadata": {
    "autoscroll": false,
    "ein.hycell": false,
    "ein.tags": "worksheet-0",
    "slideshow": {
     "slide_type": "-"
    }
   },
   "outputs": [
    {
     "name": "stdout",
     "output_type": "stream",
     "text": [
      "3 2 hola\n",
      "4 1 chau\n"
     ]
    }
   ],
   "source": [
    "print(3,2,'hola')\n",
    "print(4,1,'chau')"
   ]
  },
  {
   "cell_type": "code",
   "execution_count": 2,
   "id": "d937e848",
   "metadata": {
    "autoscroll": false,
    "ein.hycell": false,
    "ein.tags": "worksheet-0",
    "slideshow": {
     "slide_type": "-"
    }
   },
   "outputs": [
    {
     "name": "stdout",
     "output_type": "stream",
     "text": [
      "3++++2++++hola -> 4++++1++++chau\n"
     ]
    }
   ],
   "source": [
    "print(3,2,'hola',sep='++++',end=' -> ')\n",
    "print(4,1,'chau',sep='++++')"
   ]
  },
  {
   "cell_type": "markdown",
   "id": "cde7f7fb",
   "metadata": {
    "collapsed": false,
    "jupyter": {
     "outputs_hidden": false
    }
   },
   "source": [
    "------"
   ]
  },
  {
   "cell_type": "markdown",
   "id": "5cacf122",
   "metadata": {
    "collapsed": false,
    "editable": true,
    "ein.tags": "worksheet-0",
    "jupyter": {
     "outputs_hidden": false
    },
    "slideshow": {
     "slide_type": ""
    },
    "tags": []
   },
   "source": [
    "--------\n",
    "\n",
    "> **Advertencia:** En *Python 2.x* no existe la función ``print()``.\n",
    "Se trata de un comando. Para escribir las sentencias anteriores\n",
    "en Python 2 sólo debemos omitir los paréntesis y separar la palabra ``print`` de sus argumentos con un espacio.\n",
    "\n",
    "--------"
   ]
  },
  {
   "cell_type": "markdown",
   "id": "e768ddbb",
   "metadata": {
    "collapsed": false,
    "jupyter": {
     "outputs_hidden": false
    }
   },
   "source": [
    "------\n",
    "\n",
    "> **Nota:** Disgresión: Objetos\n",
    ">\n",
    ">En python, la forma de tratar datos es mediante *objetos*. Todos los objetos tienen, al menos:\n",
    ">\n",
    ">- un tipo,\n",
    ">- un valor,\n",
    ">- una identidad.\n",
    ">\n",
    ">Además, pueden tener:\n",
    ">\n",
    ">- componentes\n",
    ">- métodos\n",
    ">\n",
    ">Los *métodos* son funciones que pertenecen a un objeto y cuyo primer argumento es el objeto que la posee. \n",
    "\n",
    "------\n",
    "\n",
    "\n",
    "Todos los números, al igual que otros tipos, son objetos y tienen definidos algunos métodos que pueden ser útiles.\n"
   ]
  },
  {
   "cell_type": "markdown",
   "id": "4dec1335",
   "metadata": {
    "collapsed": false,
    "editable": true,
    "ein.tags": "worksheet-0",
    "jupyter": {
     "outputs_hidden": false
    },
    "slideshow": {
     "slide_type": ""
    },
    "tags": []
   },
   "source": [
    "#### Números complejos\n",
    "\n",
    "Los números complejos son parte standard del lenguaje, y las operaciones básicas que están incorporadas en forma nativa pueden utilizarse normalmente"
   ]
  },
  {
   "cell_type": "code",
   "execution_count": 4,
   "id": "d838cea2",
   "metadata": {
    "autoscroll": false,
    "ein.hycell": false,
    "ein.tags": "worksheet-0",
    "slideshow": {
     "slide_type": "-"
    }
   },
   "outputs": [
    {
     "name": "stdout",
     "output_type": "stream",
     "text": [
      "z1 = (3+1j) , z2 = (2+2.124j)\n"
     ]
    }
   ],
   "source": [
    "z1 = 3 + 1j\n",
    "z2 = 2 + 2.124j\n",
    "print ('z1 =', z1, ', z2 =', z2)"
   ]
  },
  {
   "cell_type": "code",
   "execution_count": 5,
   "id": "facc8af2",
   "metadata": {
    "autoscroll": false,
    "ein.hycell": false,
    "ein.tags": "worksheet-0",
    "slideshow": {
     "slide_type": "-"
    }
   },
   "outputs": [
    {
     "name": "stdout",
     "output_type": "stream",
     "text": [
      "1.5j * z2 + z1 =  (-0.18599999999999994+4j)\n",
      "z2² =  (-0.5113760000000003+8.496j)\n",
      "conj(z1) =  (3-1j)\n"
     ]
    }
   ],
   "source": [
    "print('1.5j * z2 + z1 = ', 1.5j * z2 + z1)  # sumas, multiplicaciones de números complejos\n",
    "print('z2² = ', z2**2)  # potencia de números complejos\n",
    "print('conj(z1) = ', z1.conjugate())"
   ]
  },
  {
   "cell_type": "code",
   "execution_count": null,
   "id": "90c9ade4",
   "metadata": {
    "autoscroll": false,
    "ein.hycell": false,
    "ein.tags": "worksheet-0",
    "slideshow": {
     "slide_type": "-"
    }
   },
   "outputs": [],
   "source": [
    "print ('Im(z1) = ', z1.imag)\n",
    "print ('Re(z1) = ', z1.real)\n",
    "print ('abs(z1) = ', abs(z1))"
   ]
  },
  {
   "cell_type": "code",
   "execution_count": null,
   "id": "c8c84f06",
   "metadata": {},
   "outputs": [],
   "source": [
    "type(z1)"
   ]
  },
  {
   "cell_type": "code",
   "execution_count": null,
   "id": "907a1a0a",
   "metadata": {},
   "outputs": [],
   "source": [
    "help(z1)"
   ]
  },
  {
   "cell_type": "markdown",
   "id": "0ad97a45",
   "metadata": {
    "collapsed": false,
    "ein.tags": "worksheet-0",
    "jupyter": {
     "outputs_hidden": false
    },
    "slideshow": {
     "slide_type": "-"
    }
   },
   "source": [
    "#### Operaciones\n",
    "Las operaciones aritméticas básicas son:\n",
    "\n",
    "* adición: `+`\n",
    "* sustracción: `-`\n",
    "* multiplicación: `*`\n",
    "* división: `/`\n",
    "* potencia: `**`\n",
    "* módulo: `%`\n",
    "* división entera: `//`\n",
    "\n",
    "Las operaciones se pueden agrupar con parentesis y tienen precedencia estándar.\n",
    "\n",
    "División entera (//) significa quedarse con la parte entera de la división (sin redondear).\n",
    "\n",
    "\n",
    "> **Nota:**  Las operaciones matemáticas están incluidas en el lenguaje.\n",
    "En particular las funciones elementales: trigonométricas, hiperbólicas, logaritmos no están incluidas. En todos los casos es fácil utilizarlas porque las proveen módulos. Lo veremos pronto. "
   ]
  },
  {
   "cell_type": "code",
   "execution_count": 6,
   "id": "c737ed79",
   "metadata": {
    "autoscroll": false,
    "ein.hycell": false,
    "ein.tags": "worksheet-0",
    "slideshow": {
     "slide_type": "-"
    }
   },
   "outputs": [
    {
     "name": "stdout",
     "output_type": "stream",
     "text": [
      "división de 20/3:          6.666666666666667\n",
      "parte entera de 20/3:      6\n",
      "fracción restante de 20/3: 0.666666666666667\n",
      "Resto de 20/3:             2\n"
     ]
    }
   ],
   "source": [
    "print('división de 20/3:         ', 20/3)\n",
    "print('parte entera de 20/3:     ', 20//3)\n",
    "print('fracción restante de 20/3:', 20/3 - 20//3)\n",
    "print('Resto de 20/3:            ', 20%3)"
   ]
  },
  {
   "cell_type": "markdown",
   "id": "e03e0ee1",
   "metadata": {
    "collapsed": false,
    "ein.tags": "worksheet-0",
    "jupyter": {
     "outputs_hidden": false
    },
    "slideshow": {
     "slide_type": "-"
    }
   },
   "source": [
    "#### Tipos simples: Booleanos\n",
    "\n",
    "Los tipos lógicos o *booleanos*, pueden tomar los valores *Verdadero* o *Falso* (`True` o `False`)"
   ]
  },
  {
   "cell_type": "code",
   "execution_count": 11,
   "id": "9483a91e",
   "metadata": {
    "autoscroll": false,
    "ein.hycell": false,
    "ein.tags": "worksheet-0",
    "slideshow": {
     "slide_type": "-"
    }
   },
   "outputs": [
    {
     "name": "stdout",
     "output_type": "stream",
     "text": [
      "¿t is True? False\n",
      "¿t is False? True\n"
     ]
    }
   ],
   "source": [
    "t = False\n",
    "print('¿t is True?', t == True)\n",
    "print('¿t is False?', t == False)"
   ]
  },
  {
   "cell_type": "code",
   "execution_count": 12,
   "id": "16fa7aeb",
   "metadata": {
    "autoscroll": false,
    "ein.hycell": false,
    "ein.tags": "worksheet-0",
    "slideshow": {
     "slide_type": "-"
    }
   },
   "outputs": [
    {
     "name": "stdout",
     "output_type": "stream",
     "text": [
      "¿t is True? False\n",
      "<class 'bool'>\n"
     ]
    }
   ],
   "source": [
    "c = (t == True)\n",
    "print('¿t is True?', c)\n",
    "print (type(c))"
   ]
  },
  {
   "cell_type": "code",
   "execution_count": null,
   "id": "5dea82f2",
   "metadata": {},
   "outputs": [],
   "source": []
  },
  {
   "cell_type": "markdown",
   "id": "26c6e4d8",
   "metadata": {
    "collapsed": false,
    "ein.tags": "worksheet-0",
    "jupyter": {
     "outputs_hidden": false
    },
    "slideshow": {
     "slide_type": "-"
    }
   },
   "source": [
    "Hay un tipo *especial*, el elemento ``None``."
   ]
  },
  {
   "cell_type": "code",
   "execution_count": 14,
   "id": "7a4fbdac",
   "metadata": {
    "autoscroll": false,
    "ein.hycell": false,
    "ein.tags": "worksheet-0",
    "slideshow": {
     "slide_type": "-"
    }
   },
   "outputs": [
    {
     "name": "stdout",
     "output_type": "stream",
     "text": [
      "True == None:  False\n",
      "False == None:  False\n",
      "type(a):  <class 'NoneType'>\n",
      "False\n",
      "False\n",
      "True\n"
     ]
    }
   ],
   "source": [
    "print ('True == None: ',True == None)\n",
    "print ('False == None: ', False == None)\n",
    "a = None\n",
    "print ('type(a): ',type(a))\n",
    "print (bool(None))\n",
    "print(bool(0))\n",
    "print(bool(1))"
   ]
  },
  {
   "cell_type": "markdown",
   "id": "9c9b8d5d",
   "metadata": {
    "collapsed": false,
    "ein.tags": "worksheet-0",
    "jupyter": {
     "outputs_hidden": false
    },
    "slideshow": {
     "slide_type": "-"
    }
   },
   "source": [
    "Aquí hemos estado preguntando si dos cosas eran iguales o no (igualdad). También podemos preguntar si una **es** la otra (identidad):"
   ]
  },
  {
   "cell_type": "code",
   "execution_count": 15,
   "id": "54ce54bb",
   "metadata": {
    "autoscroll": false,
    "ein.hycell": false,
    "ein.tags": "worksheet-0",
    "slideshow": {
     "slide_type": "-"
    }
   },
   "outputs": [
    {
     "name": "stdout",
     "output_type": "stream",
     "text": [
      "True\n",
      "b is a:  False\n"
     ]
    }
   ],
   "source": [
    "a = 1280\n",
    "b = 1280\n",
    "print(a == b)\n",
    "print ('b is a: ', b is a)"
   ]
  },
  {
   "cell_type": "code",
   "execution_count": 17,
   "id": "9109184f",
   "metadata": {},
   "outputs": [
    {
     "name": "stdout",
     "output_type": "stream",
     "text": [
      "b is True:  True\n",
      "a is None:  True\n",
      "c is a:  True\n"
     ]
    }
   ],
   "source": [
    "a = None\n",
    "b = True\n",
    "c = a\n",
    "print ('b is True: ', b is True)\n",
    "print ('a is None: ', a is None)\n",
    "print ('c is a: ', c is a)\n"
   ]
  },
  {
   "cell_type": "markdown",
   "id": "7a44eabe",
   "metadata": {
    "collapsed": false,
    "jupyter": {
     "outputs_hidden": false
    }
   },
   "source": [
    "Acá vemos que `None` es \"único\", en el sentido de que si dos variables son `None`, entonces son el mismo objeto."
   ]
  },
  {
   "cell_type": "markdown",
   "id": "d828a47d",
   "metadata": {
    "collapsed": false,
    "ein.tags": "worksheet-0",
    "jupyter": {
     "outputs_hidden": false
    },
    "slideshow": {
     "slide_type": "-"
    }
   },
   "source": [
    "#### Operadores lógicos\n",
    "\n",
    "Los operadores lógicos en Python son muy explicitos:\n",
    "\n",
    "    A == B  (A igual que B)\n",
    "    A > B   (A mayor que B)\n",
    "    A < B   (A menor que B)\n",
    "    A >= B  (A igual o mayor que B)\n",
    "    A <= B  (A igual o menor que B)\n",
    "    A != B  (A diferente que B)\n",
    "    A in B  (A incluido en B)\n",
    "    A is B  (Identidad: A es el mismo elemento que B)\n",
    "\n",
    "y a todos los podemos combinar con `not`, que niega la condición.\n",
    "Veamos algunos ejemplos"
   ]
  },
  {
   "cell_type": "code",
   "execution_count": 18,
   "id": "05421a6c",
   "metadata": {
    "autoscroll": false,
    "ein.hycell": false,
    "ein.tags": "worksheet-0",
    "slideshow": {
     "slide_type": "-"
    }
   },
   "outputs": [
    {
     "name": "stdout",
     "output_type": "stream",
     "text": [
      "¿20/3 == 6? False\n",
      "¿20//3 == 6? True\n",
      "¿20//3 >= 6? True\n",
      "¿20//3 > 6? False\n"
     ]
    }
   ],
   "source": [
    "print ('¿20/3 == 6?',20/3 == 6)\n",
    "print ('¿20//3 == 6?', 20//3 == 6)\n",
    "print ('¿20//3 >= 6?', 20//3 >= 6)\n",
    "print ('¿20//3 > 6?', 20//3 > 6)"
   ]
  },
  {
   "cell_type": "code",
   "execution_count": 20,
   "id": "7347df9c",
   "metadata": {
    "autoscroll": false,
    "ein.hycell": false,
    "ein.tags": "worksheet-0",
    "slideshow": {
     "slide_type": "-"
    }
   },
   "outputs": [
    {
     "name": "stdout",
     "output_type": "stream",
     "text": [
      "a == b: True\n",
      "a is b: False\n",
      "a is not b: True\n"
     ]
    }
   ],
   "source": [
    "a = 1001\n",
    "b = 1001\n",
    "print ('a == b:', a == b)\n",
    "print ('a is b:',a is b)\n",
    "print ('a is not b:',a is not b)"
   ]
  },
  {
   "cell_type": "markdown",
   "id": "30bbcf40",
   "metadata": {
    "collapsed": false,
    "ein.tags": "worksheet-0",
    "jupyter": {
     "outputs_hidden": false
    },
    "slideshow": {
     "slide_type": "-"
    }
   },
   "source": [
    "Note que en las últimas dos líneas estamos fijándonos si las dos variables son la misma (identidad), y no ocurre aunque vemos que sus valores son iguales."
   ]
  },
  {
   "cell_type": "markdown",
   "id": "45803cce",
   "metadata": {
    "collapsed": false,
    "ein.tags": "worksheet-0",
    "jupyter": {
     "outputs_hidden": false
    },
    "slideshow": {
     "slide_type": "-"
    }
   },
   "source": [
    "------\n",
    "\n",
    "**Warning:** En algunos casos  **Python** puede reusar un lugar de memoria.\n",
    "\n",
    "Por razones de optimización, en algunos casos **Python** puede utilizar el mismo lugar de memoria para dos variables que tienen el mismo valor, cuando este es pequeño. \n",
    "\n",
    "\n",
    "------\n"
   ]
  },
  {
   "cell_type": "code",
   "execution_count": 32,
   "id": "d21a52d1",
   "metadata": {
    "autoscroll": false,
    "ein.hycell": false,
    "ein.tags": "worksheet-0",
    "slideshow": {
     "slide_type": "-"
    }
   },
   "outputs": [
    {
     "name": "stdout",
     "output_type": "stream",
     "text": [
      "10 : a is b: False\n"
     ]
    }
   ],
   "source": [
    "a = 10\n",
    "b = 5\n",
    "print (a, ': a is b:', a is b)"
   ]
  },
  {
   "cell_type": "markdown",
   "id": "f6b2a34c",
   "metadata": {
    "collapsed": false,
    "jupyter": {
     "outputs_hidden": false
    }
   },
   "source": [
    "Este es un detalle de implementación y nuestros programas no deberían depender de este comportamiento."
   ]
  },
  {
   "cell_type": "code",
   "execution_count": 33,
   "id": "2f0956e1",
   "metadata": {
    "autoscroll": false,
    "ein.hycell": false,
    "ein.tags": "worksheet-0",
    "slideshow": {
     "slide_type": "-"
    }
   },
   "outputs": [
    {
     "name": "stdout",
     "output_type": "stream",
     "text": [
      "10 10 True\n"
     ]
    }
   ],
   "source": [
    "b = 2*b\n",
    "print(a, b, a is b)"
   ]
  },
  {
   "cell_type": "markdown",
   "id": "42701899",
   "metadata": {
    "collapsed": false,
    "ein.tags": "worksheet-0",
    "jupyter": {
     "outputs_hidden": false
    },
    "slideshow": {
     "slide_type": "-"
    }
   },
   "source": [
    "Acá utilizó otro lugar de memoria para guardar el nuevo valor de `b` (22). \n",
    "\n",
    "Esto sigue valiendo para otros números:"
   ]
  },
  {
   "cell_type": "code",
   "execution_count": 31,
   "id": "06843f9f",
   "metadata": {
    "autoscroll": false,
    "ein.hycell": false,
    "ein.tags": "worksheet-0",
    "slideshow": {
     "slide_type": "-"
    }
   },
   "outputs": [
    {
     "name": "stdout",
     "output_type": "stream",
     "text": [
      "-5 : a is b: True\n",
      "<class 'int'>\n"
     ]
    }
   ],
   "source": [
    "a = -5\n",
    "b = -5\n",
    "print (a, ': a is b:', a is b)\n",
    "print(type(a))"
   ]
  },
  {
   "cell_type": "code",
   "execution_count": 29,
   "id": "db25995c",
   "metadata": {
    "autoscroll": false,
    "ein.hycell": false,
    "ein.tags": "worksheet-0",
    "slideshow": {
     "slide_type": "-"
    }
   },
   "outputs": [
    {
     "name": "stdout",
     "output_type": "stream",
     "text": [
      "257 : a is b: False\n"
     ]
    }
   ],
   "source": [
    "a = 257\n",
    "b = 257\n",
    "print (a, ': a is b:', a is b)"
   ]
  },
  {
   "cell_type": "markdown",
   "id": "a0e95e1a",
   "metadata": {
    "collapsed": false,
    "ein.tags": "worksheet-0",
    "jupyter": {
     "outputs_hidden": false
    },
    "slideshow": {
     "slide_type": "-"
    }
   },
   "source": [
    "En la implementación que estamos usando, se utiliza el mismo lugar de memoria para dos números enteros iguales si son menores o iguales a 256. De todas maneras, es claro que deberíamos utilizar el símbolo `==` para probar igualdad y la palabra `is` para probar identidad.\n",
    "\n",
    "En este caso, para valores mayores que 256, ya no usa el mismo lugar de memoria. Tampoco lo hace para números de punto flotante."
   ]
  },
  {
   "cell_type": "code",
   "execution_count": 30,
   "id": "e27e846b",
   "metadata": {
    "autoscroll": false,
    "ein.hycell": false,
    "ein.tags": "worksheet-0",
    "slideshow": {
     "slide_type": "-"
    }
   },
   "outputs": [
    {
     "name": "stdout",
     "output_type": "stream",
     "text": [
      "-6 : a is b: False\n",
      "<class 'int'>\n"
     ]
    }
   ],
   "source": [
    "a = -6\n",
    "b = -6\n",
    "print (a, ': a is b:', a is b)\n",
    "print(type(a))"
   ]
  },
  {
   "cell_type": "code",
   "execution_count": 11,
   "id": "9410685a",
   "metadata": {
    "autoscroll": false,
    "ein.hycell": false,
    "ein.tags": "worksheet-0",
    "slideshow": {
     "slide_type": "-"
    }
   },
   "outputs": [
    {
     "name": "stdout",
     "output_type": "stream",
     "text": [
      "1.5 : a is b: False\n",
      "<class 'float'>\n"
     ]
    }
   ],
   "source": [
    "a = 1.5\n",
    "b = 1.5\n",
    "print (a, ': a is b:', a is b)\n",
    "print(type(a))"
   ]
  },
  {
   "cell_type": "code",
   "execution_count": 12,
   "id": "f977c0c7-cc00-444c-a98b-edea679717a8",
   "metadata": {
    "editable": true,
    "slideshow": {
     "slide_type": ""
    },
    "tags": []
   },
   "outputs": [
    {
     "data": {
      "text/plain": [
       "False"
      ]
     },
     "execution_count": 12,
     "metadata": {},
     "output_type": "execute_result"
    }
   ],
   "source": [
    "a = 0.\n",
    "b = 0.\n",
    "a is b"
   ]
  },
  {
   "cell_type": "markdown",
   "id": "3c86398d",
   "metadata": {
    "collapsed": false,
    "editable": true,
    "ein.tags": "worksheet-0",
    "jupyter": {
     "outputs_hidden": false
    },
    "slideshow": {
     "slide_type": ""
    },
    "tags": []
   },
   "source": [
    "-----\n",
    "\n",
    "## Ejercicios 01 (b)\n",
    "\n",
    "\n",
    "4.  Para cubos de lados de longitud L = 1, 3, y 5: calcule su superficie y su volumen.\n",
    "\n",
    "5.  Para esferas de radios r = 1, 3, 5 y 8, calcule su superficie y su volumen.\n",
    "\n",
    "6.  Fíjese si alguno de los valores: $x_1=0.49$, $x_2=0.50$, $x_3=0.51$ es un cero de la función $f(x)=x^{2} + x/2 - 1/2$, esto es $f(x_i)=0$ para $i=1,2$ o $3$ .\n",
    "\n",
    "6. Para el número complejo $z= 1 + 0.5\\ i$\n",
    "    * Calcular $z^2$ y $z^5$.\n",
    "    * Calcular los complejos conjugados de $z$ y $z^3$.\n",
    "    * Escribir un programa que escriba las frases:\n",
    "       - \"El conjugado de z=1+0.5i es 1-0.5j\"\n",
    "       - \"El conjugado de z=(1+0.5i)^2 es ...\" (con el valor correspondiente)\n",
    "\n",
    "-----\n",
    "\n",
    "."
   ]
  }
 ],
 "metadata": {
  "kernelspec": {
   "display_name": "clases",
   "language": "python",
   "name": "python3"
  },
  "language_info": {
   "codemirror_mode": {
    "name": "ipython",
    "version": 3
   },
   "file_extension": ".py",
   "mimetype": "text/x-python",
   "name": "python",
   "nbconvert_exporter": "python",
   "pygments_lexer": "ipython3",
   "version": "undefined.undefined.undefined"
  },
  "name": "01_2_introd_python.ipynb",
  "toc": {
   "base_numbering": 1,
   "nav_menu": {
    "height": "206.367px",
    "width": "251.5px"
   },
   "number_sections": true,
   "sideBar": true,
   "skip_h1_title": true,
   "title_cell": "Contenidos",
   "title_sidebar": "Contenidos",
   "toc_cell": false,
   "toc_position": null,
   "toc_section_display": true,
   "toc_window_display": true
  }
 },
 "nbformat": 4,
 "nbformat_minor": 5
}
