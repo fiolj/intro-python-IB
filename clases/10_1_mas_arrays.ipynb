{
 "cells": [
  {
   "cell_type": "markdown",
   "id": "f220e6a3",
   "metadata": {
    "ein.tags": "worksheet-0",
    "slideshow": {
     "slide_type": "-"
    }
   },
   "source": [
    "# Más información sobre **Numpy** <a class=\"tocSkip\">\n",
    "\n",
    "## Creación y operación sobre **Numpy** arrays\n",
    "Vamos a ver algunas características de los `arrays` de Numpy en un poco más de detalle\n",
    "\n",
    "### Funciones para crear arrays\n",
    "\n",
    "Vimos varios métodos que permiten crear e inicializar arrays"
   ]
  },
  {
   "cell_type": "code",
   "execution_count": 1,
   "id": "98400512",
   "metadata": {
    "autoscroll": false,
    "ein.hycell": false,
    "ein.tags": "worksheet-0",
    "slideshow": {
     "slide_type": "-"
    }
   },
   "outputs": [],
   "source": [
    "import numpy as np\n",
    "import matplotlib.pyplot as plt"
   ]
  },
  {
   "cell_type": "code",
   "execution_count": 2,
   "id": "bfab1e10",
   "metadata": {
    "autoscroll": false,
    "ein.hycell": false,
    "ein.tags": "worksheet-0",
    "slideshow": {
     "slide_type": "-"
    }
   },
   "outputs": [
    {
     "name": "stdout",
     "output_type": "stream",
     "text": [
      "Array empty unid:\n",
      " [4.63711393e-310 0.00000000e+000 8.42957355e+252 5.33808649e+184\n",
      " 5.05060979e+223 7.62821964e+228 3.17095868e+180 4.61988042e+281\n",
      " 8.19151929e+247 3.17111435e+180]\n",
      " ********************************************************************************\n",
      "Array zeros unid:\n",
      " [0. 0. 0. 0. 0. 0. 0. 0. 0. 0.]\n",
      " ********************************************************************************\n",
      "Array zeros bidi:\n",
      " [[0. 0.]\n",
      " [0. 0.]\n",
      " [0. 0.]\n",
      " [0. 0.]\n",
      " [0. 0.]]\n",
      " ********************************************************************************\n",
      "Array ones bidi:\n",
      " [[1. 1.]\n",
      " [1. 1.]\n",
      " [1. 1.]\n",
      " [1. 1.]\n",
      " [1. 1.]]\n",
      " ********************************************************************************\n",
      "Array arange:\n",
      " [0 1 2 3 4 5 6 7 8 9]\n",
      " ********************************************************************************\n",
      "Array lineal:\n",
      " [ 0.   2.5  5.   7.5 10. ]\n",
      " ********************************************************************************\n",
      "Array log:\n",
      " [  1.           1.66810054   2.7825594    4.64158883   7.74263683\n",
      "  12.91549665  21.5443469   35.93813664  59.94842503 100.        ]\n",
      " ********************************************************************************\n",
      "Array diag:\n",
      " [[0 0 0 0 0]\n",
      " [0 1 0 0 0]\n",
      " [0 0 2 0 0]\n",
      " [0 0 0 3 0]\n",
      " [0 0 0 0 4]]\n",
      " ********************************************************************************\n"
     ]
    }
   ],
   "source": [
    "a= {}\n",
    "a['empty unid'] = np.empty(10)    #  Creación de un array de 10 elementos\n",
    "a['zeros unid'] = np.zeros(10)    #  Creación de un array de 10 elementos inicializados en cero\n",
    "a['zeros bidi'] = np.zeros((5,2)) #  Array bidimensional 10 elementos con *shape* 5x2\n",
    "a['ones bidi'] = np.ones((5,2)) #  Array bidimensional 10 elementos con *shape* 5x2, inicializado en 1\n",
    "a['arange'] = np.arange(10)  # Array inicializado con una secuencia\n",
    "a['lineal'] = np.linspace(0,10,5)  # Array inicializado con una secuencia equiespaciada\n",
    "a['log'] = np.logspace(0,2,10)  # Array inicializado con una secuencia con espaciado logarítmico\n",
    "a['diag'] = np.diag(np.arange(5)) # Matriz diagonal a partir de un vector\n",
    "\n",
    "for k,v in a.items():\n",
    "  print('Array {}:\\n {}\\n'.format(k,v), 80*\"*\")"
   ]
  },
  {
   "cell_type": "markdown",
   "id": "7123d51b",
   "metadata": {
    "ein.tags": "worksheet-0",
    "slideshow": {
     "slide_type": "-"
    }
   },
   "source": [
    "La función `np.tile(A, reps)` permite crear un array repitiendo el patrón `A` las veces indicada por `reps` a lo largo de cada eje"
   ]
  },
  {
   "cell_type": "code",
   "execution_count": 3,
   "id": "e315f7cc",
   "metadata": {
    "autoscroll": false,
    "ein.hycell": false,
    "ein.tags": "worksheet-0",
    "slideshow": {
     "slide_type": "-"
    }
   },
   "outputs": [
    {
     "data": {
      "text/plain": [
       "array([1, 3, 5])"
      ]
     },
     "execution_count": 3,
     "metadata": {},
     "output_type": "execute_result"
    }
   ],
   "source": [
    "a = np.arange(1,6,2)\n",
    "a"
   ]
  },
  {
   "cell_type": "code",
   "execution_count": 4,
   "id": "fcc24be0",
   "metadata": {
    "autoscroll": false,
    "ein.hycell": false,
    "ein.tags": "worksheet-0",
    "slideshow": {
     "slide_type": "-"
    }
   },
   "outputs": [
    {
     "data": {
      "text/plain": [
       "array([1, 3, 5, 1, 3, 5])"
      ]
     },
     "execution_count": 4,
     "metadata": {},
     "output_type": "execute_result"
    }
   ],
   "source": [
    "np.tile(a, 2)"
   ]
  },
  {
   "cell_type": "code",
   "execution_count": 5,
   "id": "c959562f",
   "metadata": {
    "autoscroll": false,
    "ein.hycell": false,
    "ein.tags": "worksheet-0",
    "slideshow": {
     "slide_type": "-"
    }
   },
   "outputs": [],
   "source": [
    "a1=np.tile(a, (1,2))"
   ]
  },
  {
   "cell_type": "code",
   "execution_count": 6,
   "id": "ff524768",
   "metadata": {
    "autoscroll": false,
    "ein.hycell": false,
    "ein.tags": "worksheet-0",
    "slideshow": {
     "slide_type": "-"
    }
   },
   "outputs": [
    {
     "data": {
      "text/plain": [
       "(1, 6)"
      ]
     },
     "execution_count": 6,
     "metadata": {},
     "output_type": "execute_result"
    }
   ],
   "source": [
    "a1.shape"
   ]
  },
  {
   "cell_type": "code",
   "execution_count": 7,
   "id": "f51e2bc6",
   "metadata": {
    "autoscroll": false,
    "ein.hycell": false,
    "ein.tags": "worksheet-0",
    "slideshow": {
     "slide_type": "-"
    }
   },
   "outputs": [
    {
     "data": {
      "text/plain": [
       "array([[1, 3, 5, 1, 3, 5]])"
      ]
     },
     "execution_count": 7,
     "metadata": {},
     "output_type": "execute_result"
    }
   ],
   "source": [
    "a1"
   ]
  },
  {
   "cell_type": "code",
   "execution_count": 8,
   "id": "3976363d",
   "metadata": {},
   "outputs": [
    {
     "data": {
      "text/plain": [
       "array([[1, 3, 5],\n",
       "       [1, 3, 5]])"
      ]
     },
     "execution_count": 8,
     "metadata": {},
     "output_type": "execute_result"
    }
   ],
   "source": [
    "np.tile(a, (2,1))"
   ]
  },
  {
   "cell_type": "code",
   "execution_count": 9,
   "id": "611bbc1d",
   "metadata": {
    "autoscroll": false,
    "ein.hycell": false,
    "ein.tags": "worksheet-0",
    "slideshow": {
     "slide_type": "-"
    }
   },
   "outputs": [],
   "source": [
    "b = [[1,2],[3,4]]"
   ]
  },
  {
   "cell_type": "code",
   "execution_count": 10,
   "id": "68444fbc",
   "metadata": {
    "autoscroll": false,
    "ein.hycell": false,
    "ein.tags": "worksheet-0",
    "slideshow": {
     "slide_type": "-"
    }
   },
   "outputs": [
    {
     "name": "stdout",
     "output_type": "stream",
     "text": [
      "[[1, 2], [3, 4]]\n"
     ]
    }
   ],
   "source": [
    "print(b)"
   ]
  },
  {
   "cell_type": "code",
   "execution_count": 11,
   "id": "06b4eb36",
   "metadata": {
    "autoscroll": false,
    "ein.hycell": false,
    "ein.tags": "worksheet-0",
    "slideshow": {
     "slide_type": "-"
    }
   },
   "outputs": [
    {
     "data": {
      "text/plain": [
       "array([[1, 2, 1, 2],\n",
       "       [3, 4, 3, 4]])"
      ]
     },
     "execution_count": 11,
     "metadata": {},
     "output_type": "execute_result"
    }
   ],
   "source": [
    "np.tile(b,(1,2))"
   ]
  },
  {
   "cell_type": "code",
   "execution_count": 12,
   "id": "0c288e04",
   "metadata": {
    "autoscroll": false,
    "ein.hycell": false,
    "ein.tags": "worksheet-0",
    "slideshow": {
     "slide_type": "-"
    }
   },
   "outputs": [
    {
     "data": {
      "text/plain": [
       "array([[1, 2],\n",
       "       [3, 4],\n",
       "       [1, 2],\n",
       "       [3, 4]])"
      ]
     },
     "execution_count": 12,
     "metadata": {},
     "output_type": "execute_result"
    }
   ],
   "source": [
    "np.tile(b, (2,1))"
   ]
  },
  {
   "cell_type": "markdown",
   "id": "9e78e92d",
   "metadata": {
    "ein.tags": "worksheet-0",
    "slideshow": {
     "slide_type": "-"
    }
   },
   "source": [
    "En general, el argumento `reps = (nrows, ncols)` indica el número de repeticiones en filas (hacia abajo) y columnas (hacia la derecha), creando nuevas dimensiones si es necesario"
   ]
  },
  {
   "cell_type": "code",
   "execution_count": 13,
   "id": "104dde7b",
   "metadata": {
    "autoscroll": false,
    "ein.hycell": false,
    "ein.tags": "worksheet-0",
    "slideshow": {
     "slide_type": "-"
    }
   },
   "outputs": [
    {
     "data": {
      "text/plain": [
       "array([1, 3, 5])"
      ]
     },
     "execution_count": 13,
     "metadata": {},
     "output_type": "execute_result"
    }
   ],
   "source": [
    "a"
   ]
  },
  {
   "cell_type": "code",
   "execution_count": 14,
   "id": "7e4877a8",
   "metadata": {
    "autoscroll": false,
    "ein.hycell": false,
    "ein.tags": "worksheet-0",
    "slideshow": {
     "slide_type": "-"
    }
   },
   "outputs": [
    {
     "data": {
      "text/plain": [
       "array([[1, 3, 5, 1, 3, 5],\n",
       "       [1, 3, 5, 1, 3, 5],\n",
       "       [1, 3, 5, 1, 3, 5]])"
      ]
     },
     "execution_count": 14,
     "metadata": {},
     "output_type": "execute_result"
    }
   ],
   "source": [
    "np.tile(a, (3,2))"
   ]
  },
  {
   "cell_type": "markdown",
   "id": "9ca36ba9",
   "metadata": {
    "ein.tags": "worksheet-0",
    "slideshow": {
     "slide_type": "-"
    }
   },
   "source": [
    "### Funciones que actúan sobre arrays\n",
    "\n",
    "Numpy incluye muchas funciones matemáticas que actúan sobre arrays completos (de una o más dimensiones). La lista completa se encuentra en la [documentación](http://docs.scipy.org/doc/numpy/reference/ufuncs.html#available-ufuncs) e incluye:"
   ]
  },
  {
   "cell_type": "code",
   "execution_count": 15,
   "id": "0c08b2bf",
   "metadata": {
    "autoscroll": false,
    "ein.hycell": false,
    "ein.tags": "worksheet-0",
    "slideshow": {
     "slide_type": "-"
    }
   },
   "outputs": [],
   "source": [
    "x = np.linspace(np.pi/180, np.pi,7)\n",
    "y = np.geomspace(10,100,7)"
   ]
  },
  {
   "cell_type": "code",
   "execution_count": 16,
   "id": "52855660",
   "metadata": {
    "autoscroll": false,
    "ein.hycell": false,
    "ein.tags": "worksheet-0",
    "slideshow": {
     "slide_type": "-"
    }
   },
   "outputs": [
    {
     "name": "stdout",
     "output_type": "stream",
     "text": [
      "[0.01745329 0.53814319 1.05883308 1.57952297 2.10021287 2.62090276\n",
      " 3.14159265]\n",
      "[ 10.          14.67799268  21.5443469   31.6227766   46.41588834\n",
      "  68.12920691 100.        ]\n",
      "[ 10.01745329  15.21613586  22.60317998  33.20229957  48.5161012\n",
      "  70.75010967 103.14159265]\n",
      "[1.74532925e-01 7.89886174e+00 2.28118672e+01 4.99489021e+01\n",
      " 9.74832459e+01 1.78560026e+02 3.14159265e+02]\n",
      "[572.95779513  27.27525509  20.34725522  20.02046006  22.10056375\n",
      "  25.99455727  31.83098862]\n",
      "[0. 0. 0. 0. 1. 1. 1.]\n"
     ]
    }
   ],
   "source": [
    "print(x)\n",
    "print(y)\n",
    "print(x+y)                      # Suma elemento a elemento\n",
    "print(x*y)                      # Multiplicación elemento a elemento\n",
    "print(y/x)                      # División elemento a elemento\n",
    "print(x//2)                     # División entera elemento a elemento"
   ]
  },
  {
   "cell_type": "code",
   "execution_count": 17,
   "id": "71f5d51b",
   "metadata": {
    "autoscroll": false,
    "ein.hycell": false,
    "ein.tags": "worksheet-0",
    "slideshow": {
     "slide_type": "-"
    }
   },
   "outputs": [
    {
     "name": "stdout",
     "output_type": "stream",
     "text": [
      "x = [0.01745329 0.53814319 1.05883308 1.57952297 2.10021287 2.62090276\n",
      " 3.14159265]\n",
      "square\n",
      " [3.04617420e-04 2.89598089e-01 1.12112749e+00 2.49489282e+00\n",
      " 4.41089408e+00 6.86913128e+00 9.86960440e+00]\n",
      "sin\n",
      " [1.74524064e-02 5.12542501e-01 8.71784414e-01 9.99961923e-01\n",
      " 8.63101882e-01 4.97478722e-01 1.22464680e-16]\n",
      "tanh\n",
      " [0.01745152 0.49158114 0.78521683 0.91852736 0.97046433 0.9894743\n",
      " 0.99627208]\n",
      "exp\n",
      " [0.98269813 0.58383131 0.34686033 0.20607338 0.12243036 0.07273717\n",
      " 0.04321392]\n",
      "log\n",
      " [-4.04822697 -0.61963061  0.05716743  0.45712289  0.7420387   0.96351882\n",
      "  1.14472989]\n",
      "abs\n",
      " [0.01745329 0.53814319 1.05883308 1.57952297 2.10021287 2.62090276\n",
      " 3.14159265]\n",
      "resto\n",
      " [0.01745329 0.53814319 1.05883308 1.57952297 0.10021287 0.62090276\n",
      " 1.14159265]\n"
     ]
    }
   ],
   "source": [
    "print('x =', x)\n",
    "print('square\\n', x**2)              # potencias\n",
    "print('sin\\n',np.sin(x))             # Seno (np.cos, np.tan)\n",
    "print(\"tanh\\n\",np.tanh(x))           # tang hiperb (np.sinh, np.cosh)\n",
    "print('exp\\n', np.exp(-x))           # exponenciales\n",
    "print('log\\n', np.log(x))            # logaritmo en base e (np.log10)\n",
    "print('abs\\n',np.absolute(x))        # Valor absoluto\n",
    "print('resto\\n', np.remainder(x,2))  # Resto"
   ]
  },
  {
   "cell_type": "code",
   "execution_count": 18,
   "id": "dc626576",
   "metadata": {},
   "outputs": [
    {
     "data": {
      "text/plain": [
       "array([0.01745329, 0.53814319, 1.05883308, 1.57952297, 0.10021287,\n",
       "       0.62090276, 1.14159265])"
      ]
     },
     "execution_count": 18,
     "metadata": {},
     "output_type": "execute_result"
    }
   ],
   "source": [
    "x % 2"
   ]
  },
  {
   "cell_type": "markdown",
   "id": "8100bceb",
   "metadata": {
    "ein.tags": "worksheet-0",
    "slideshow": {
     "slide_type": "-"
    }
   },
   "source": [
    "### Productos entre arrays y productos vectoriales"
   ]
  },
  {
   "cell_type": "code",
   "execution_count": 19,
   "id": "86504223",
   "metadata": {
    "autoscroll": false,
    "ein.hycell": false,
    "ein.tags": "worksheet-0",
    "slideshow": {
     "slide_type": "-"
    }
   },
   "outputs": [],
   "source": [
    "# Creamos arrays unidimensionales (vectores) y bidimensionales (matrices)\n",
    "v1 = np.array([2, 3, 4])\n",
    "v2 = np.array([1, 1, 1])\n",
    "A = np.arange(1,13,2).reshape(2, 3)\n",
    "B = np.linspace(0.5,11.5,12).reshape(3, 4)"
   ]
  },
  {
   "cell_type": "code",
   "execution_count": 20,
   "id": "badfd985",
   "metadata": {
    "autoscroll": false,
    "ein.hycell": false,
    "ein.tags": "worksheet-0",
    "slideshow": {
     "slide_type": "-"
    }
   },
   "outputs": [
    {
     "name": "stdout",
     "output_type": "stream",
     "text": [
      "[[ 1  3  5]\n",
      " [ 7  9 11]]\n"
     ]
    }
   ],
   "source": [
    "print(A)"
   ]
  },
  {
   "cell_type": "code",
   "execution_count": 21,
   "id": "861d8232",
   "metadata": {
    "autoscroll": false,
    "ein.hycell": false,
    "ein.tags": "worksheet-0",
    "slideshow": {
     "slide_type": "-"
    }
   },
   "outputs": [
    {
     "name": "stdout",
     "output_type": "stream",
     "text": [
      "[[ 0.5  1.5  2.5  3.5]\n",
      " [ 4.5  5.5  6.5  7.5]\n",
      " [ 8.5  9.5 10.5 11.5]]\n"
     ]
    }
   ],
   "source": [
    "print(B)"
   ]
  },
  {
   "cell_type": "code",
   "execution_count": 22,
   "id": "d2f5e5c2",
   "metadata": {
    "autoscroll": false,
    "ein.hycell": false,
    "ein.tags": "worksheet-0",
    "slideshow": {
     "slide_type": "-"
    }
   },
   "outputs": [
    {
     "name": "stdout",
     "output_type": "stream",
     "text": [
      "[2 3 4]\n"
     ]
    }
   ],
   "source": [
    "print(v1*v2)"
   ]
  },
  {
   "cell_type": "code",
   "execution_count": 23,
   "id": "bd7143c4",
   "metadata": {
    "autoscroll": false,
    "ein.hycell": false,
    "ein.tags": "worksheet-0",
    "slideshow": {
     "slide_type": "-"
    }
   },
   "outputs": [
    {
     "name": "stdout",
     "output_type": "stream",
     "text": [
      "[[ 2  9 20]\n",
      " [14 27 44]]\n"
     ]
    }
   ],
   "source": [
    "print(A*v1)"
   ]
  },
  {
   "cell_type": "code",
   "execution_count": 24,
   "id": "a7daa789",
   "metadata": {},
   "outputs": [
    {
     "ename": "ValueError",
     "evalue": "operands could not be broadcast together with shapes (2,3) (3,4) ",
     "output_type": "error",
     "traceback": [
      "\u001b[0;31m---------------------------------------------------------------------------\u001b[0m",
      "\u001b[0;31mValueError\u001b[0m                                Traceback (most recent call last)",
      "Cell \u001b[0;32mIn[24], line 1\u001b[0m\n\u001b[0;32m----> 1\u001b[0m \u001b[38;5;28mprint\u001b[39m(\u001b[43mA\u001b[49m\u001b[38;5;241;43m*\u001b[39;49m\u001b[43mB\u001b[49m)\n",
      "\u001b[0;31mValueError\u001b[0m: operands could not be broadcast together with shapes (2,3) (3,4) "
     ]
    }
   ],
   "source": [
    "print(A*B)"
   ]
  },
  {
   "cell_type": "markdown",
   "id": "f6ba2941",
   "metadata": {
    "ein.tags": "worksheet-0",
    "slideshow": {
     "slide_type": "-"
    }
   },
   "source": [
    "Los productos se realizan \"elemento a elemento\", si queremos obtener \"productos internos\" o productos entre matrices (o matrices y vectores)"
   ]
  },
  {
   "cell_type": "code",
   "execution_count": 25,
   "id": "4683df8c",
   "metadata": {
    "autoscroll": false,
    "ein.hycell": false,
    "ein.tags": "worksheet-0",
    "slideshow": {
     "slide_type": "-"
    }
   },
   "outputs": [
    {
     "name": "stdout",
     "output_type": "stream",
     "text": [
      "[2 3 4] . [1 1 1] = 9\n"
     ]
    }
   ],
   "source": [
    "print(v1, '.', v2, '=', np.dot(v1, v2))"
   ]
  },
  {
   "cell_type": "code",
   "execution_count": 26,
   "id": "03e696d4",
   "metadata": {
    "autoscroll": false,
    "ein.hycell": false,
    "ein.tags": "worksheet-0",
    "slideshow": {
     "slide_type": "-"
    }
   },
   "outputs": [
    {
     "name": "stdout",
     "output_type": "stream",
     "text": [
      "[[ 1  3  5]\n",
      " [ 7  9 11]] x [2 3 4] = [31 85]\n"
     ]
    }
   ],
   "source": [
    "print( A, 'x', v1, '=', np.dot(A, v1))\n"
   ]
  },
  {
   "cell_type": "code",
   "execution_count": 27,
   "id": "ea06c83f",
   "metadata": {
    "autoscroll": false,
    "ein.hycell": false,
    "ein.tags": "worksheet-0",
    "slideshow": {
     "slide_type": "-"
    }
   },
   "outputs": [
    {
     "name": "stdout",
     "output_type": "stream",
     "text": [
      "(2, 3) (3, 4)\n"
     ]
    }
   ],
   "source": [
    "print(A.shape, B.shape)"
   ]
  },
  {
   "cell_type": "code",
   "execution_count": 28,
   "id": "65c1e92a",
   "metadata": {
    "autoscroll": false,
    "ein.hycell": false,
    "ein.tags": "worksheet-0",
    "slideshow": {
     "slide_type": "-"
    }
   },
   "outputs": [
    {
     "name": "stdout",
     "output_type": "stream",
     "text": [
      "A x B = \n",
      " [[ 56.5  65.5  74.5  83.5]\n",
      " [137.5 164.5 191.5 218.5]]\n"
     ]
    }
   ],
   "source": [
    "print( 'A x B = \\n',np.dot(A, B) )"
   ]
  },
  {
   "cell_type": "code",
   "execution_count": 29,
   "id": "d4228d62",
   "metadata": {
    "autoscroll": false,
    "ein.hycell": false,
    "ein.tags": "worksheet-0",
    "slideshow": {
     "slide_type": "-"
    }
   },
   "outputs": [
    {
     "name": "stdout",
     "output_type": "stream",
     "text": [
      "B^t x A^t =\n",
      "  [[ 56.5 137.5]\n",
      " [ 65.5 164.5]\n",
      " [ 74.5 191.5]\n",
      " [ 83.5 218.5]]\n"
     ]
    }
   ],
   "source": [
    "print( 'B^t x A^t =\\n ',np.dot(B.T, A.T))"
   ]
  },
  {
   "cell_type": "markdown",
   "id": "baed6a49",
   "metadata": {
    "ein.tags": "worksheet-0",
    "slideshow": {
     "slide_type": "-"
    }
   },
   "source": [
    "Además, el módulo numpy.linalg incluye otras funcionalidades como determinantes, normas, determinación de autovalores y autovectores, descomposiciones, etc."
   ]
  },
  {
   "cell_type": "markdown",
   "id": "acccf18c",
   "metadata": {
    "ein.tags": "worksheet-0",
    "slideshow": {
     "slide_type": "-"
    }
   },
   "source": [
    "### Comparaciones entre arrays\n",
    "\n",
    "La comparación, como las operaciones y aplicación de funciones se realiza \"elemento a elemento\".\n",
    "\n",
    "|Funciones                                           |  Operadores    |\n",
    "|:---------------------------------------------------|:--------------:|\n",
    "|greater(x1, x2, /[, out, where, casting, ...])      |    (x1 > x2)   |\n",
    "|greater_equal(x1, x2, /[, out, where, ...]) \t     |    (x1 >= x2)  |\n",
    "|less(x1, x2, /[, out, where, casting, ...]) \t     |    (x1 < x2)   |\n",
    "|less_equal(x1, x2, /[, out, where, casting, ...])   |    (x1 =< x2)  |\n",
    "|not_equal(x1, x2, /[, out, where, casting, ...])    |    (x1 != x2)  |\n",
    "|equal(x1, x2, /[, out, where, casting, ...]) \t     |    (x1 == x2)  |\n"
   ]
  },
  {
   "cell_type": "code",
   "execution_count": 30,
   "id": "f99a5a43",
   "metadata": {
    "autoscroll": false,
    "ein.hycell": false,
    "ein.tags": "worksheet-0",
    "slideshow": {
     "slide_type": "-"
    }
   },
   "outputs": [],
   "source": [
    "z = np.array((-1,3,4,0.5,2,9,0.7))"
   ]
  },
  {
   "cell_type": "code",
   "execution_count": 31,
   "id": "89df3e70",
   "metadata": {
    "autoscroll": false,
    "ein.hycell": false,
    "ein.tags": "worksheet-0",
    "slideshow": {
     "slide_type": "-"
    }
   },
   "outputs": [
    {
     "name": "stdout",
     "output_type": "stream",
     "text": [
      "[0.01745329 0.53814319 1.05883308 1.57952297 2.10021287 2.62090276\n",
      " 3.14159265]\n",
      "[ 10.          14.67799268  21.5443469   31.6227766   46.41588834\n",
      "  68.12920691 100.        ]\n",
      "[-1.   3.   4.   0.5  2.   9.   0.7]\n"
     ]
    }
   ],
   "source": [
    "print(x)\n",
    "print(y)\n",
    "print(z)"
   ]
  },
  {
   "cell_type": "code",
   "execution_count": 32,
   "id": "439593e0",
   "metadata": {
    "autoscroll": false,
    "ein.hycell": false,
    "ein.tags": "worksheet-0",
    "slideshow": {
     "slide_type": "-"
    }
   },
   "outputs": [
    {
     "name": "stdout",
     "output_type": "stream",
     "text": [
      "[False  True  True False False  True False]\n",
      "[ True  True  True  True  True  True  True]\n",
      "[ True  True  True  True  True  True  True]\n"
     ]
    }
   ],
   "source": [
    "c1 = x <= z\n",
    "c2 = np.less_equal(z,y)\n",
    "c3 = np.less_equal(x,y)\n",
    "print(c1)\n",
    "print(c2)\n",
    "print(c3)\n"
   ]
  },
  {
   "cell_type": "code",
   "execution_count": 33,
   "id": "b52d6ef6",
   "metadata": {
    "autoscroll": false,
    "ein.hycell": false,
    "ein.tags": "worksheet-0",
    "slideshow": {
     "slide_type": "-"
    }
   },
   "outputs": [
    {
     "data": {
      "text/plain": [
       "array([False,  True,  True, False, False,  True, False])"
      ]
     },
     "execution_count": 33,
     "metadata": {},
     "output_type": "execute_result"
    }
   ],
   "source": [
    "c1                              # Veamos que tipo de array es:"
   ]
  },
  {
   "cell_type": "code",
   "execution_count": 34,
   "id": "1766fe12",
   "metadata": {
    "autoscroll": false,
    "ein.hycell": false,
    "ein.tags": "worksheet-0",
    "slideshow": {
     "slide_type": "-"
    }
   },
   "outputs": [
    {
     "data": {
      "text/plain": [
       "(3, 7, 7)"
      ]
     },
     "execution_count": 34,
     "metadata": {},
     "output_type": "execute_result"
    }
   ],
   "source": [
    "np.sum(c1), np.sum(c2), c3.sum()"
   ]
  },
  {
   "cell_type": "markdown",
   "id": "04a66d1a",
   "metadata": {
    "ein.tags": "worksheet-0",
    "slideshow": {
     "slide_type": "-"
    }
   },
   "source": [
    "Como vemos, las comparaciones nos dan un vector de variables lógicas.\n",
    "Cuando queremos combinar condiciones no funciona usar las palabras `and` y `or` de *Python* porque estaríamos comparando los dos elementos (arrays completos)."
   ]
  },
  {
   "cell_type": "code",
   "execution_count": 35,
   "id": "b9f2d4ca",
   "metadata": {
    "autoscroll": false,
    "ein.hycell": false,
    "ein.tags": "worksheet-0",
    "slideshow": {
     "slide_type": "-"
    }
   },
   "outputs": [
    {
     "name": "stdout",
     "output_type": "stream",
     "text": [
      "[False  True  True False False  True False]\n",
      "[False  True  True False False  True False]\n",
      "[ True  True  True  True  True  True  True]\n",
      "[ True  True  True  True  True  True  True]\n"
     ]
    }
   ],
   "source": [
    "print(np.logical_and(c1, c2))\n",
    "print(c1 & c2)\n",
    "print(np.logical_and(c2, c3))\n",
    "print(c2 & c3)"
   ]
  },
  {
   "cell_type": "code",
   "execution_count": 36,
   "id": "d77bccd7",
   "metadata": {
    "autoscroll": false,
    "ein.hycell": false,
    "ein.tags": "worksheet-0",
    "slideshow": {
     "slide_type": "-"
    }
   },
   "outputs": [
    {
     "name": "stdout",
     "output_type": "stream",
     "text": [
      "[ True  True  True  True  True  True  True]\n",
      "[ True  True  True  True  True  True  True]\n",
      "[ True  True  True  True  True  True  True]\n",
      "[ True  True  True  True  True  True  True]\n"
     ]
    }
   ],
   "source": [
    "print(np.logical_or(c1, c2))\n",
    "print(c1 | c2)\n",
    "print(np.logical_or(c2, c3))\n",
    "print(c2 | c3)"
   ]
  },
  {
   "cell_type": "code",
   "execution_count": 37,
   "id": "fa04e9c0",
   "metadata": {
    "autoscroll": false,
    "ein.hycell": false,
    "ein.tags": "worksheet-0",
    "slideshow": {
     "slide_type": "-"
    }
   },
   "outputs": [
    {
     "name": "stdout",
     "output_type": "stream",
     "text": [
      "[ True False False  True  True False  True]\n",
      "[False False False False False False False]\n"
     ]
    }
   ],
   "source": [
    "print(np.logical_xor(c1, c2))\n",
    "print(np.logical_xor(c2, c3))"
   ]
  },
  {
   "cell_type": "markdown",
   "id": "b5000f16",
   "metadata": {
    "ein.tags": "worksheet-0",
    "slideshow": {
     "slide_type": "-"
    }
   },
   "source": [
    "## Atributos de *arrays*\n",
    "\n",
    "Los array tienen otras propiedades, que pueden explorarse apretando `<TAB>` en una terminal o notebook de **IPython** o leyendo la documentación de [Numpy](http://docs.scipy.org/doc/numpy/user), o utilizando la función `dir(arr)` (donde `arr` es una variable del tipo array) o `dir(np.ndarray)`.\n",
    "\n",
    "En la tabla se muestra una lista de los atributos de los numpy array \n",
    "\n",
    "![](figuras/array_atr.png)\n",
    "\n",
    "\n",
    "Exploremos algunas de ellas\n",
    "\n",
    "### reshape"
   ]
  },
  {
   "cell_type": "code",
   "execution_count": 38,
   "id": "c3f9edac",
   "metadata": {
    "autoscroll": false,
    "ein.hycell": false,
    "ein.tags": "worksheet-0",
    "slideshow": {
     "slide_type": "-"
    }
   },
   "outputs": [
    {
     "name": "stdout",
     "output_type": "stream",
     "text": [
      "Vector original:\n",
      " [ 0  1  2  3  4  5  6  7  8  9 10 11]\n",
      "(12,)\n",
      "Cambiando la forma a 3x4:\n",
      " [[ 0  1  2  3]\n",
      " [ 4  5  6  7]\n",
      " [ 8  9 10 11]]\n",
      "(3, 4)\n",
      "Cambiando la forma a 4x3:\n",
      " [[ 0  1  2]\n",
      " [ 3  4  5]\n",
      " [ 6  7  8]\n",
      " [ 9 10 11]]\n"
     ]
    }
   ],
   "source": [
    "arr= np.arange(12)                         # Vector\n",
    "print(\"Vector original:\\n\", arr)\n",
    "print(arr.shape)\n",
    "arr2= arr.reshape((3,4))                   # Le cambiamos la forma a matriz de 3x4\n",
    "print(\"Cambiando la forma a 3x4:\\n\", arr2)\n",
    "print(arr2.shape)\n",
    "arr3= np.reshape(arr,(4,3))                # Le cambiamos la forma a matriz de 4x3\n",
    "print(\"Cambiando la forma a 4x3:\\n\", arr3)"
   ]
  },
  {
   "cell_type": "code",
   "execution_count": 39,
   "id": "2edff98e",
   "metadata": {
    "autoscroll": false,
    "ein.hycell": false,
    "ein.tags": "worksheet-0",
    "slideshow": {
     "slide_type": "-"
    }
   },
   "outputs": [],
   "source": [
    "arr2[0,0] = 5\n",
    "arr2[2,1] = -9"
   ]
  },
  {
   "cell_type": "code",
   "execution_count": 40,
   "id": "840b9f2e",
   "metadata": {
    "autoscroll": false,
    "ein.hycell": false,
    "ein.tags": "worksheet-0",
    "slideshow": {
     "slide_type": "-"
    }
   },
   "outputs": [
    {
     "name": "stdout",
     "output_type": "stream",
     "text": [
      "[[ 5  1  2  3]\n",
      " [ 4  5  6  7]\n",
      " [ 8 -9 10 11]]\n"
     ]
    }
   ],
   "source": [
    "print(arr2)"
   ]
  },
  {
   "cell_type": "code",
   "execution_count": 41,
   "id": "03ce4ec5",
   "metadata": {
    "autoscroll": false,
    "ein.hycell": false,
    "ein.tags": "worksheet-0",
    "slideshow": {
     "slide_type": "-"
    }
   },
   "outputs": [
    {
     "name": "stdout",
     "output_type": "stream",
     "text": [
      "[ 5  1  2  3  4  5  6  7  8 -9 10 11]\n"
     ]
    }
   ],
   "source": [
    "print(arr)"
   ]
  },
  {
   "cell_type": "code",
   "execution_count": 42,
   "id": "95e915b4",
   "metadata": {
    "autoscroll": false,
    "ein.hycell": false,
    "ein.tags": "worksheet-0",
    "slideshow": {
     "slide_type": "-"
    }
   },
   "outputs": [
    {
     "name": "stdout",
     "output_type": "stream",
     "text": [
      "[[ 5  1  2]\n",
      " [ 3  4  5]\n",
      " [ 6  7  8]\n",
      " [-9 10 11]]\n"
     ]
    }
   ],
   "source": [
    "print(arr3)"
   ]
  },
  {
   "cell_type": "code",
   "execution_count": 43,
   "id": "25213d0a-2ccd-4244-993e-f9bd6da99725",
   "metadata": {},
   "outputs": [
    {
     "data": {
      "text/plain": [
       "False"
      ]
     },
     "execution_count": 43,
     "metadata": {},
     "output_type": "execute_result"
    }
   ],
   "source": [
    "arr is arr2"
   ]
  },
  {
   "cell_type": "code",
   "execution_count": 44,
   "id": "0e8509c4",
   "metadata": {},
   "outputs": [
    {
     "name": "stdout",
     "output_type": "stream",
     "text": [
      "Error: la nueva forma es incompatible: cannot reshape array of size 12 into shape (3,3)\n"
     ]
    }
   ],
   "source": [
    "try:\n",
    "    arr.reshape((3,3))   # Si la nueva forma no es adecuada, falla\n",
    "except ValueError as e:\n",
    "    print(\"Error: la nueva forma es incompatible:\", e)"
   ]
  },
  {
   "cell_type": "markdown",
   "id": "e4eb63b9",
   "metadata": {
    "ein.tags": "worksheet-0",
    "slideshow": {
     "slide_type": "-"
    }
   },
   "source": [
    "### transpose"
   ]
  },
  {
   "cell_type": "code",
   "execution_count": 45,
   "id": "b7aaced6",
   "metadata": {
    "autoscroll": false,
    "ein.hycell": false,
    "ein.tags": "worksheet-0",
    "slideshow": {
     "slide_type": "-"
    }
   },
   "outputs": [
    {
     "name": "stdout",
     "output_type": "stream",
     "text": [
      "Transpose:\n",
      " [[ 5  4  8]\n",
      " [ 1  5 -9]\n",
      " [ 2  6 10]\n",
      " [ 3  7 11]]\n",
      "Transpose:\n",
      " [[ 5  4  8]\n",
      " [ 1  5 -9]\n",
      " [ 2  6 10]\n",
      " [ 3  7 11]]\n"
     ]
    }
   ],
   "source": [
    "print('Transpose:\\n', arr2.T)\n",
    "print('Transpose:\\n', np.transpose(arr2))"
   ]
  },
  {
   "cell_type": "code",
   "execution_count": 46,
   "id": "6197c50c",
   "metadata": {},
   "outputs": [
    {
     "name": "stdout",
     "output_type": "stream",
     "text": [
      "True\n",
      "True\n"
     ]
    }
   ],
   "source": [
    "temp1 = arr2.T\n",
    "temp2 = np.transpose(arr2)\n",
    "print(temp1.base is temp2.base)\n",
    "print(temp1.base is arr2.base)\n"
   ]
  },
  {
   "cell_type": "markdown",
   "id": "8b9bbf80",
   "metadata": {
    "ein.tags": "worksheet-0",
    "slideshow": {
     "slide_type": "-"
    }
   },
   "source": [
    "### min, max\n",
    "\n",
    "Las funciones para encontrar mínimo y máximo pueden aplicarse tanto a vectores como a arrays` con más dimensiones. En este último caso puede elegirse si se trabaja sobre uno de los ejes:"
   ]
  },
  {
   "cell_type": "code",
   "execution_count": 47,
   "id": "cf14ebf8",
   "metadata": {
    "autoscroll": false,
    "ein.hycell": false,
    "ein.tags": "worksheet-0",
    "slideshow": {
     "slide_type": "-"
    }
   },
   "outputs": [
    {
     "name": "stdout",
     "output_type": "stream",
     "text": [
      "[[ 5  1  2  3]\n",
      " [ 4  5  6  7]\n",
      " [ 8 -9 10 11]]\n",
      "11\n",
      "[ 8  5 10 11]\n",
      "[ 5  7 11]\n"
     ]
    }
   ],
   "source": [
    "print(arr2)\n",
    "print(np.max(arr2))\n",
    "print(np.max(arr2,axis=0))\n",
    "print(np.max(arr2,axis=1))\n"
   ]
  },
  {
   "cell_type": "code",
   "execution_count": 48,
   "id": "a16a49d9",
   "metadata": {},
   "outputs": [
    {
     "data": {
      "text/plain": [
       "7"
      ]
     },
     "execution_count": 48,
     "metadata": {},
     "output_type": "execute_result"
    }
   ],
   "source": [
    "np.max(arr2[1,:])"
   ]
  },
  {
   "cell_type": "markdown",
   "id": "1db87fe2",
   "metadata": {
    "ein.tags": "worksheet-0",
    "slideshow": {
     "slide_type": "-"
    }
   },
   "source": [
    "El primer eje `(axis=0)` corresponde a las columnas (convención del lenguaje `C`), y por lo tanto dará un valor por cada columna.\n",
    "\n",
    "Si no damos el argumento opcional `axis` ambas funciones nos darán el mínimo o máximo de todos los elementos. Si le damos un eje nos devolverá el mínimo a lo largo de ese eje. "
   ]
  },
  {
   "cell_type": "markdown",
   "id": "bb5d78b3",
   "metadata": {
    "ein.tags": "worksheet-0",
    "slideshow": {
     "slide_type": "-"
    }
   },
   "source": [
    "### argmin, argmax\n",
    "\n",
    "Estas funciones trabajan de la misma manera que `min` y `max` pero devuelve los índices en lugar de los valores."
   ]
  },
  {
   "cell_type": "code",
   "execution_count": 49,
   "id": "b6319ae1",
   "metadata": {
    "autoscroll": false,
    "ein.hycell": false,
    "ein.tags": "worksheet-0",
    "slideshow": {
     "slide_type": "-"
    }
   },
   "outputs": [
    {
     "name": "stdout",
     "output_type": "stream",
     "text": [
      "11\n",
      "[2 1 2 2]\n",
      "[0 3 3]\n"
     ]
    }
   ],
   "source": [
    "print(np.argmax(arr2))\n",
    "print(np.argmax(arr2,axis=0))\n",
    "print(np.argmax(arr2,axis=1))\n"
   ]
  },
  {
   "cell_type": "markdown",
   "id": "e6fbe896",
   "metadata": {
    "ein.tags": "worksheet-0",
    "slideshow": {
     "slide_type": "-"
    }
   },
   "source": [
    "### sum, prod, mean, std\n",
    "\n"
   ]
  },
  {
   "cell_type": "code",
   "execution_count": 50,
   "id": "6229c89b",
   "metadata": {
    "autoscroll": false,
    "ein.hycell": false,
    "ein.tags": "worksheet-0",
    "slideshow": {
     "slide_type": "-"
    }
   },
   "outputs": [
    {
     "name": "stdout",
     "output_type": "stream",
     "text": [
      "[[ 5  1  2  3]\n",
      " [ 4  5  6  7]\n",
      " [ 8 -9 10 11]]\n",
      "sum 53\n",
      "sum, 0 [17 -3 18 21]\n",
      "sum, 1 [11 22 20]\n"
     ]
    }
   ],
   "source": [
    "print(arr2)\n",
    "print('sum', np.sum(arr2))\n",
    "print('sum, 0', np.sum(arr2,axis=0))\n",
    "print('sum, 1', np.sum(arr2,axis=1))\n"
   ]
  },
  {
   "cell_type": "code",
   "execution_count": 51,
   "id": "0534a381",
   "metadata": {
    "autoscroll": false,
    "ein.hycell": false,
    "ein.tags": "worksheet-0",
    "slideshow": {
     "slide_type": "-"
    }
   },
   "outputs": [
    {
     "name": "stdout",
     "output_type": "stream",
     "text": [
      "-199584000\n",
      "[160 -45 120 231]\n",
      "[   30   840 -7920]\n"
     ]
    }
   ],
   "source": [
    "print(np.prod(arr2))\n",
    "print(np.prod(arr2,axis=0))\n",
    "print(np.prod(arr2,axis=1))"
   ]
  },
  {
   "cell_type": "code",
   "execution_count": 52,
   "id": "02202ce2",
   "metadata": {
    "autoscroll": false,
    "ein.hycell": false,
    "ein.tags": "worksheet-0",
    "slideshow": {
     "slide_type": "-"
    }
   },
   "outputs": [
    {
     "name": "stdout",
     "output_type": "stream",
     "text": [
      "4.416666666666667 = 4.416666666666667\n",
      "[ 5.66666667 -1.          6.          7.        ]\n",
      "[2.75 5.5  5.  ]\n",
      "4.9742391936411305\n",
      "[1.47901995 1.11803399 8.15475322]\n"
     ]
    }
   ],
   "source": [
    "print(arr2.mean(), '=', arr2.sum()/arr2.size)\n",
    "print(np.mean(arr2,axis=0))\n",
    "print(np.mean(arr2,axis=1))\n",
    "print(np.std(arr2))\n",
    "print(np.std(arr2,axis=1))\n"
   ]
  },
  {
   "cell_type": "markdown",
   "id": "c7cd719f",
   "metadata": {
    "ein.tags": "worksheet-0",
    "slideshow": {
     "slide_type": "-"
    }
   },
   "source": [
    "### cumsum, cumprod, trapz"
   ]
  },
  {
   "cell_type": "markdown",
   "id": "6eb7ac48",
   "metadata": {
    "ein.tags": "worksheet-0",
    "slideshow": {
     "slide_type": "-"
    }
   },
   "source": [
    "Las funciones `cumsum` y `cumprod` devuelven la suma y producto acumulativo recorriendo el array, opcionalmente a lo largo de un eje"
   ]
  },
  {
   "cell_type": "code",
   "execution_count": 53,
   "id": "00db7602",
   "metadata": {
    "autoscroll": false,
    "ein.hycell": false,
    "ein.tags": "worksheet-0",
    "slideshow": {
     "slide_type": "-"
    }
   },
   "outputs": [
    {
     "name": "stdout",
     "output_type": "stream",
     "text": [
      "[[ 5  1  2  3]\n",
      " [ 4  5  6  7]\n",
      " [ 8 -9 10 11]]\n"
     ]
    }
   ],
   "source": [
    "print(arr2)"
   ]
  },
  {
   "cell_type": "code",
   "execution_count": 54,
   "id": "0f343701",
   "metadata": {
    "autoscroll": false,
    "ein.hycell": false,
    "ein.tags": "worksheet-0",
    "slideshow": {
     "slide_type": "-"
    }
   },
   "outputs": [
    {
     "name": "stdout",
     "output_type": "stream",
     "text": [
      "[ 5  6  8 11 15 20 26 33 41 32 42 53]\n"
     ]
    }
   ],
   "source": [
    "# Suma todos los elementos anteriores y devuelve el array unidimensional\n",
    "print(arr2.cumsum())"
   ]
  },
  {
   "cell_type": "code",
   "execution_count": 55,
   "id": "5bb1ea16",
   "metadata": {
    "autoscroll": false,
    "ein.hycell": false,
    "ein.tags": "worksheet-0",
    "slideshow": {
     "slide_type": "-"
    }
   },
   "outputs": [
    {
     "name": "stdout",
     "output_type": "stream",
     "text": [
      "[[ 5  1  2  3]\n",
      " [ 9  6  8 10]\n",
      " [17 -3 18 21]]\n"
     ]
    }
   ],
   "source": [
    "# Para cada columna, en cada posición suma los elementos anteriores\n",
    "print(arr2.cumsum(axis=0))"
   ]
  },
  {
   "cell_type": "code",
   "execution_count": 56,
   "id": "bf89fb67",
   "metadata": {
    "autoscroll": false,
    "ein.hycell": false,
    "ein.tags": "worksheet-0",
    "slideshow": {
     "slide_type": "-"
    }
   },
   "outputs": [
    {
     "name": "stdout",
     "output_type": "stream",
     "text": [
      "[[ 5  6  8 11]\n",
      " [ 4  9 15 22]\n",
      " [ 8 -1  9 20]]\n"
     ]
    }
   ],
   "source": [
    "# En cada fila, el valor es la suma de todos los elementos anteriores de la fila\n",
    "print(arr2.cumsum(axis=1))"
   ]
  },
  {
   "cell_type": "code",
   "execution_count": 57,
   "id": "9126e56f",
   "metadata": {},
   "outputs": [
    {
     "data": {
      "text/plain": [
       "array([[ 5,  1,  2,  3],\n",
       "       [ 4,  5,  6,  7],\n",
       "       [ 8, -9, 10, 11]])"
      ]
     },
     "execution_count": 57,
     "metadata": {},
     "output_type": "execute_result"
    }
   ],
   "source": [
    "arr2"
   ]
  },
  {
   "cell_type": "code",
   "execution_count": 58,
   "id": "0aadaaa4",
   "metadata": {
    "autoscroll": false,
    "ein.hycell": false,
    "ein.tags": "worksheet-0",
    "slideshow": {
     "slide_type": "-"
    }
   },
   "outputs": [
    {
     "name": "stdout",
     "output_type": "stream",
     "text": [
      "[[  5   1   2   3]\n",
      " [ 20   5  12  21]\n",
      " [160 -45 120 231]]\n"
     ]
    }
   ],
   "source": [
    "# Igual que antes pero con el producto\n",
    "print(arr2.cumprod(axis=0))"
   ]
  },
  {
   "cell_type": "markdown",
   "id": "c0236498",
   "metadata": {
    "ein.tags": "worksheet-0",
    "slideshow": {
     "slide_type": "-"
    }
   },
   "source": [
    "La función trapz evalúa la integral a lo largo de un eje, usando la regla de los trapecios (la misma que nosotros programamos en un ejercicio)"
   ]
  },
  {
   "cell_type": "code",
   "execution_count": 59,
   "id": "b22e01de",
   "metadata": {
    "autoscroll": false,
    "ein.hycell": false,
    "ein.tags": "worksheet-0",
    "slideshow": {
     "slide_type": "-"
    }
   },
   "outputs": [
    {
     "name": "stdout",
     "output_type": "stream",
     "text": [
      "[10.5  1.  12.  14. ]\n",
      "[ 7.  16.5 10.5]\n"
     ]
    }
   ],
   "source": [
    "print(np.trapz(arr2,axis=0))\n",
    "print(np.trapz(arr2,axis=1))"
   ]
  },
  {
   "cell_type": "code",
   "execution_count": 60,
   "id": "4311de92",
   "metadata": {
    "autoscroll": false,
    "ein.hycell": false,
    "ein.tags": "worksheet-0",
    "slideshow": {
     "slide_type": "-"
    }
   },
   "outputs": [
    {
     "name": "stdout",
     "output_type": "stream",
     "text": [
      "[ 7.  16.5 10.5]\n"
     ]
    }
   ],
   "source": [
    "# el valor por default de axis es -1\n",
    "print(np.trapz(arr2))"
   ]
  },
  {
   "cell_type": "markdown",
   "id": "b36ce9a5",
   "metadata": {
    "ein.tags": "worksheet-0",
    "slideshow": {
     "slide_type": "-"
    }
   },
   "source": [
    "### nonzero\n",
    "\n",
    "Devuelve una *tupla* de arrays, una por dimensión, que contiene los índices de los elementos no nulos"
   ]
  },
  {
   "cell_type": "code",
   "execution_count": 61,
   "id": "a278ef42",
   "metadata": {
    "autoscroll": false,
    "ein.hycell": false,
    "ein.tags": "worksheet-0",
    "slideshow": {
     "slide_type": "-"
    }
   },
   "outputs": [
    {
     "data": {
      "text/plain": [
       "array([[ 5,  1,  2,  3],\n",
       "       [ 0,  0,  6,  7],\n",
       "       [ 8, -9,  0,  0]])"
      ]
     },
     "execution_count": 61,
     "metadata": {},
     "output_type": "execute_result"
    }
   ],
   "source": [
    "# El método copy() crea un nuevo array con los mismos valores que el original\n",
    "arr4 = arr2.copy()\n",
    "arr4[1,:2] = arr4[2,2:] = 0\n",
    "arr4"
   ]
  },
  {
   "cell_type": "code",
   "execution_count": 62,
   "id": "f5de502a",
   "metadata": {
    "autoscroll": false,
    "ein.hycell": false,
    "ein.tags": "worksheet-0",
    "slideshow": {
     "slide_type": "-"
    }
   },
   "outputs": [
    {
     "data": {
      "text/plain": [
       "array([[ 5,  1,  2,  3],\n",
       "       [ 4,  5,  6,  7],\n",
       "       [ 8, -9, 10, 11]])"
      ]
     },
     "execution_count": 62,
     "metadata": {},
     "output_type": "execute_result"
    }
   ],
   "source": [
    "# Vemos que arr2 no se modifica al modificar arr4.\n",
    "arr2"
   ]
  },
  {
   "cell_type": "code",
   "execution_count": 63,
   "id": "7d26ef63",
   "metadata": {
    "autoscroll": false,
    "ein.hycell": false,
    "ein.tags": "worksheet-0",
    "slideshow": {
     "slide_type": "-"
    }
   },
   "outputs": [
    {
     "data": {
      "text/plain": [
       "(array([0, 0, 0, 0, 1, 1, 2, 2]), array([0, 1, 2, 3, 2, 3, 0, 1]))"
      ]
     },
     "execution_count": 63,
     "metadata": {},
     "output_type": "execute_result"
    }
   ],
   "source": [
    "np.nonzero(arr4)"
   ]
  },
  {
   "cell_type": "code",
   "execution_count": 64,
   "id": "95db4d6b",
   "metadata": {
    "autoscroll": false,
    "ein.hycell": false,
    "ein.tags": "worksheet-0",
    "slideshow": {
     "slide_type": "-"
    }
   },
   "outputs": [
    {
     "data": {
      "text/plain": [
       "array([[0, 0],\n",
       "       [0, 1],\n",
       "       [0, 2],\n",
       "       [0, 3],\n",
       "       [1, 2],\n",
       "       [1, 3],\n",
       "       [2, 0],\n",
       "       [2, 1]])"
      ]
     },
     "execution_count": 64,
     "metadata": {},
     "output_type": "execute_result"
    }
   ],
   "source": [
    "np.transpose(arr4.nonzero())"
   ]
  },
  {
   "cell_type": "code",
   "execution_count": 65,
   "id": "a449cd3a",
   "metadata": {
    "autoscroll": false,
    "ein.hycell": false,
    "ein.tags": "worksheet-0",
    "slideshow": {
     "slide_type": "-"
    }
   },
   "outputs": [
    {
     "data": {
      "text/plain": [
       "array([ 5,  1,  2,  3,  6,  7,  8, -9])"
      ]
     },
     "execution_count": 65,
     "metadata": {},
     "output_type": "execute_result"
    }
   ],
   "source": [
    "arr4[arr4.nonzero()]"
   ]
  },
  {
   "cell_type": "code",
   "execution_count": 66,
   "id": "0e0eefce",
   "metadata": {},
   "outputs": [
    {
     "data": {
      "text/plain": [
       "array([[ 5,  1,  2,  3],\n",
       "       [ 0,  0,  6,  7],\n",
       "       [ 8, -9,  0,  0]])"
      ]
     },
     "execution_count": 66,
     "metadata": {},
     "output_type": "execute_result"
    }
   ],
   "source": [
    "arr4"
   ]
  },
  {
   "cell_type": "code",
   "execution_count": 67,
   "id": "d45dfff3",
   "metadata": {},
   "outputs": [
    {
     "data": {
      "text/plain": [
       "array([2, 3])"
      ]
     },
     "execution_count": 67,
     "metadata": {},
     "output_type": "execute_result"
    }
   ],
   "source": [
    "arr4[([0,0], [2,3])]"
   ]
  },
  {
   "cell_type": "markdown",
   "id": "f413dba5",
   "metadata": {
    "ein.tags": "worksheet-0",
    "slideshow": {
     "slide_type": "-"
    }
   },
   "source": [
    "## Conveniencias con arrays\n",
    "\n",
    "### Convertir un array a unidimensional (ravel)\n"
   ]
  },
  {
   "cell_type": "code",
   "execution_count": 68,
   "id": "781cbf00",
   "metadata": {
    "autoscroll": false,
    "ein.hycell": false,
    "ein.tags": "worksheet-0",
    "slideshow": {
     "slide_type": "-"
    }
   },
   "outputs": [],
   "source": [
    "a = np.array([[1,2],[3,4]])"
   ]
  },
  {
   "cell_type": "code",
   "execution_count": 69,
   "id": "a921abfc",
   "metadata": {
    "autoscroll": false,
    "ein.hycell": false,
    "ein.tags": "worksheet-0",
    "slideshow": {
     "slide_type": "-"
    }
   },
   "outputs": [
    {
     "name": "stdout",
     "output_type": "stream",
     "text": [
      "[[1 2]\n",
      " [3 4]]\n"
     ]
    }
   ],
   "source": [
    "print(a)"
   ]
  },
  {
   "cell_type": "code",
   "execution_count": 70,
   "id": "35494e78",
   "metadata": {
    "autoscroll": false,
    "ein.hycell": false,
    "ein.tags": "worksheet-0",
    "slideshow": {
     "slide_type": "-"
    }
   },
   "outputs": [],
   "source": [
    "b= np.ravel(a)"
   ]
  },
  {
   "cell_type": "code",
   "execution_count": 71,
   "id": "acff591a",
   "metadata": {
    "autoscroll": false,
    "ein.hycell": false,
    "ein.tags": "worksheet-0",
    "slideshow": {
     "slide_type": "-"
    }
   },
   "outputs": [
    {
     "name": "stdout",
     "output_type": "stream",
     "text": [
      "(2, 2) (4,)\n",
      "[1 2 3 4]\n"
     ]
    }
   ],
   "source": [
    "print(a.shape, b.shape)\n",
    "print(b)"
   ]
  },
  {
   "cell_type": "code",
   "execution_count": 72,
   "id": "fcfa6bee",
   "metadata": {
    "autoscroll": false,
    "ein.hycell": false,
    "ein.tags": "worksheet-0",
    "slideshow": {
     "slide_type": "-"
    }
   },
   "outputs": [
    {
     "data": {
      "text/plain": [
       "True"
      ]
     },
     "execution_count": 72,
     "metadata": {},
     "output_type": "execute_result"
    }
   ],
   "source": [
    "b.base  is a"
   ]
  },
  {
   "cell_type": "markdown",
   "id": "04b2c333",
   "metadata": {
    "ein.tags": "worksheet-0",
    "slideshow": {
     "slide_type": "-"
    }
   },
   "source": [
    "`ravel` tiene un argumento opcional 'order'"
   ]
  },
  {
   "cell_type": "code",
   "execution_count": 73,
   "id": "d9ac8eb6",
   "metadata": {
    "autoscroll": false,
    "ein.hycell": false,
    "ein.tags": "worksheet-0",
    "slideshow": {
     "slide_type": "-"
    }
   },
   "outputs": [
    {
     "data": {
      "text/plain": [
       "array([1, 2, 3, 4])"
      ]
     },
     "execution_count": 73,
     "metadata": {},
     "output_type": "execute_result"
    }
   ],
   "source": [
    "np.ravel(a, order='C')          # order='C' es el default "
   ]
  },
  {
   "cell_type": "code",
   "execution_count": 74,
   "id": "deb034bc",
   "metadata": {
    "autoscroll": false,
    "ein.hycell": false,
    "ein.tags": "worksheet-0",
    "slideshow": {
     "slide_type": "-"
    }
   },
   "outputs": [
    {
     "data": {
      "text/plain": [
       "array([1, 3, 2, 4])"
      ]
     },
     "execution_count": 74,
     "metadata": {},
     "output_type": "execute_result"
    }
   ],
   "source": [
    "np.ravel(a, order='F')"
   ]
  },
  {
   "cell_type": "markdown",
   "id": "940a98ad",
   "metadata": {
    "ein.tags": "worksheet-0",
    "slideshow": {
     "slide_type": "-"
    }
   },
   "source": [
    "El método `flatten` hace algo muy parecido a `ravel`, la diferencia es que `flatten` siempre crea una nueva copia del array, mientras que `ravel` puede devolver una nueva vista del mismo array."
   ]
  },
  {
   "cell_type": "code",
   "execution_count": 75,
   "id": "4362b5e5",
   "metadata": {
    "autoscroll": false,
    "ein.hycell": false,
    "ein.tags": "worksheet-0",
    "slideshow": {
     "slide_type": "-"
    }
   },
   "outputs": [
    {
     "data": {
      "text/plain": [
       "array([1, 2, 3, 4])"
      ]
     },
     "execution_count": 75,
     "metadata": {},
     "output_type": "execute_result"
    }
   ],
   "source": [
    "a.flatten()"
   ]
  },
  {
   "cell_type": "markdown",
   "id": "da4777d2",
   "metadata": {},
   "source": [
    "### Enumerate para `ndarrays`\n",
    "\n",
    "Para iterables en **Python** existe la función enumerate que devuelve una tupla con el índice y el valor. En **Numpy** existe un iterador multidimensional llamado `ndenumerate()`"
   ]
  },
  {
   "cell_type": "code",
   "execution_count": 76,
   "id": "1c2a61a6",
   "metadata": {},
   "outputs": [
    {
     "name": "stdout",
     "output_type": "stream",
     "text": [
      "[[ 5  1  2  3]\n",
      " [ 4  5  6  7]\n",
      " [ 8 -9 10 11]]\n"
     ]
    }
   ],
   "source": [
    "print(arr2)"
   ]
  },
  {
   "cell_type": "code",
   "execution_count": 77,
   "id": "21a0f4f8",
   "metadata": {},
   "outputs": [
    {
     "name": "stdout",
     "output_type": "stream",
     "text": [
      "x[0,0]-> 5\n",
      "x[0,1]-> 1\n",
      "x[0,2]-> 2\n",
      "x[0,3]-> 3\n",
      "x[1,0]-> 4\n",
      "x[1,1]-> 5\n",
      "x[1,2]-> 6\n",
      "x[1,3]-> 7\n",
      "x[2,0]-> 8\n",
      "x[2,1]-> -9\n",
      "x[2,2]-> 10\n",
      "x[2,3]-> 11\n"
     ]
    }
   ],
   "source": [
    "for (i,j), x in np.ndenumerate(arr2):\n",
    "  print(f'x[{i},{j}]-> {x}')"
   ]
  },
  {
   "cell_type": "markdown",
   "id": "2a8ba4d2",
   "metadata": {},
   "source": [
    "\n",
    "### Vectorización de funciones escalares\n",
    "\n",
    "Si bien en **Numpy** las funciones están vectorizadas, hay ocasiones en que las funciones son el resultado de una simulación, optimización, integración u otro cálculo complejo, y si bien la paralelización puede ser trivial, el cálculo debe ser realizado para cada valor de algún parámetro y no puede ser realizado directamente con un vector. Para ello existe la función `vectorize()`. Veamos un ejemplo, calculando la función *coseno()* como la integral del *seno()*"
   ]
  },
  {
   "cell_type": "code",
   "execution_count": 78,
   "id": "14738a2a",
   "metadata": {},
   "outputs": [],
   "source": [
    "def my_trapz(f, a, b):\n",
    "  x = np.linspace(a,b,100)\n",
    "  y = f(x)\n",
    "  return ((y[1:]+y[:-1])*(x[1:]-x[:-1])).sum()/2"
   ]
  },
  {
   "cell_type": "code",
   "execution_count": 79,
   "id": "22bd37ee",
   "metadata": {},
   "outputs": [],
   "source": [
    "def mi_cos(t):\n",
    "  return 1-my_trapz(np.sin, 0, t)"
   ]
  },
  {
   "cell_type": "code",
   "execution_count": 80,
   "id": "f2affcad",
   "metadata": {},
   "outputs": [
    {
     "data": {
      "text/plain": [
       "0.7071083173516677"
      ]
     },
     "execution_count": 80,
     "metadata": {},
     "output_type": "execute_result"
    }
   ],
   "source": [
    "mi_cos(np.pi/4)"
   ]
  },
  {
   "cell_type": "markdown",
   "id": "74108585",
   "metadata": {},
   "source": [
    "que se compara bastante bien con el valor esperado del coseno:"
   ]
  },
  {
   "cell_type": "code",
   "execution_count": 81,
   "id": "ca5ad6ec",
   "metadata": {},
   "outputs": [
    {
     "data": {
      "text/plain": [
       "0.7071067811865477"
      ]
     },
     "execution_count": 81,
     "metadata": {},
     "output_type": "execute_result"
    }
   ],
   "source": [
    "np.cos(np.pi/4)"
   ]
  },
  {
   "cell_type": "markdown",
   "id": "f05ca27b",
   "metadata": {},
   "source": [
    "Para calcular sobre un conjunto de datos:"
   ]
  },
  {
   "cell_type": "code",
   "execution_count": 82,
   "id": "340cc557",
   "metadata": {},
   "outputs": [],
   "source": [
    "x = np.linspace(0,np.pi,30)"
   ]
  },
  {
   "cell_type": "code",
   "execution_count": 83,
   "id": "84205bef",
   "metadata": {},
   "outputs": [
    {
     "name": "stdout",
     "output_type": "stream",
     "text": [
      "-28.998610761224644\n"
     ]
    }
   ],
   "source": [
    "print(mi_cos(x))"
   ]
  },
  {
   "cell_type": "markdown",
   "id": "bab7b673",
   "metadata": {},
   "source": [
    "Obtuvimos un valor único que claramente no puede ser el coseno de ningún ángulo. Si calculamos el coseno con el mismo argumento (vectorial) obtenemos un vector de valores como se espera:"
   ]
  },
  {
   "cell_type": "code",
   "execution_count": 84,
   "id": "08d27a86",
   "metadata": {},
   "outputs": [
    {
     "name": "stdout",
     "output_type": "stream",
     "text": [
      "[ 1.          0.99413796  0.97662056  0.94765317  0.90757542  0.85685718\n",
      "  0.79609307  0.72599549  0.64738628  0.56118707  0.46840844  0.37013816\n",
      "  0.26752834  0.161782    0.05413891 -0.05413891 -0.161782   -0.26752834\n",
      " -0.37013816 -0.46840844 -0.56118707 -0.64738628 -0.72599549 -0.79609307\n",
      " -0.85685718 -0.90757542 -0.94765317 -0.97662056 -0.99413796 -1.        ]\n"
     ]
    }
   ],
   "source": [
    "print(np.cos(x))"
   ]
  },
  {
   "cell_type": "markdown",
   "id": "7271528f",
   "metadata": {},
   "source": [
    "Si el cálculo fuera más complejo y no tuviéramos la posibilidad de realizarlo en forma vectorial, debemos realizar una iteración llamando a esta función en cada paso:"
   ]
  },
  {
   "cell_type": "code",
   "execution_count": 85,
   "id": "c41d4c1f",
   "metadata": {},
   "outputs": [
    {
     "name": "stdout",
     "output_type": "stream",
     "text": [
      "[ 1.          0.99413796  0.97662057  0.94765322  0.90757557  0.85685753\n",
      "  0.7960938   0.72599683  0.64738854  0.56119061  0.46841375  0.37014576\n",
      "  0.26753886  0.16179613  0.05415741 -0.05411524 -0.16175232 -0.26749179\n",
      " -0.37009386 -0.46835555 -0.56112475 -0.64731379 -0.72591214 -0.79599826\n",
      " -0.85675045 -0.90745645 -0.9475218  -0.97647677 -0.99398196 -0.99983216]\n"
     ]
    }
   ],
   "source": [
    "y = []\n",
    "for xx in x:\n",
    "  y.append(mi_cos(xx))\n",
    "print(np.array(y))"
   ]
  },
  {
   "cell_type": "code",
   "execution_count": 86,
   "id": "96798ed5",
   "metadata": {},
   "outputs": [],
   "source": [
    "y = np.zeros(x.size)\n",
    "for i,xx in enumerate(x):\n",
    "  y[i] = mi_cos(xx)"
   ]
  },
  {
   "cell_type": "code",
   "execution_count": 87,
   "id": "e497573f",
   "metadata": {},
   "outputs": [
    {
     "data": {
      "text/plain": [
       "[<matplotlib.lines.Line2D at 0x7f9d741cee90>]"
      ]
     },
     "execution_count": 87,
     "metadata": {},
     "output_type": "execute_result"
    },
    {
     "data": {
      "image/png": "[encoded data removed]",
      "text/plain": [
       "<Figure size 640x480 with 1 Axes>"
      ]
     },
     "metadata": {},
     "output_type": "display_data"
    }
   ],
   "source": [
    "plt.plot(x,y)"
   ]
  },
  {
   "cell_type": "markdown",
   "id": "06286b38",
   "metadata": {},
   "source": [
    "Como conveniencia, para evitar tener que hacer explícitamente el bucle `for` existe la función `vectorize`, que toma como argumento a una función que toma y devuelve escalares, y retorna una función equivalente que acepta arrays:"
   ]
  },
  {
   "cell_type": "code",
   "execution_count": 88,
   "id": "06a09072",
   "metadata": {},
   "outputs": [],
   "source": [
    "coseno = np.vectorize(mi_cos)"
   ]
  },
  {
   "cell_type": "code",
   "execution_count": 89,
   "id": "eb251d85",
   "metadata": {},
   "outputs": [
    {
     "data": {
      "text/plain": [
       "[<matplotlib.lines.Line2D at 0x7f9d6b2ae610>]"
      ]
     },
     "execution_count": 89,
     "metadata": {},
     "output_type": "execute_result"
    },
    {
     "data": {
      "image/png": "[encoded data removed]",
      "text/plain": [
       "<Figure size 640x480 with 1 Axes>"
      ]
     },
     "metadata": {},
     "output_type": "display_data"
    }
   ],
   "source": [
    "plt.plot(x, coseno(x), '-')"
   ]
  },
  {
   "cell_type": "markdown",
   "id": "012796d3",
   "metadata": {},
   "source": [
    "-----\n",
    "\n",
    "## Ejercicios 10 (a)\n",
    "\n",
    "1. Dado un array `a` de números, creado por ejemplo usando:\n",
    "   ```python\n",
    "   a = np.random.uniform(size=100)\n",
    "   ```\n",
    "   Encontrar el número más cercano a un número escalar dado (por ejemplo x=0.5). Utilice los métodos discutidos.\n",
    "\n",
    "-----\n",
    "\n",
    "."
   ]
  }
 ],
 "metadata": {
  "kernelspec": {
   "display_name": "Python 3 (ipykernel)",
   "language": "python",
   "name": "python3"
  },
  "language_info": {
   "codemirror_mode": {
    "name": "ipython",
    "version": 3
   },
   "file_extension": ".py",
   "mimetype": "text/x-python",
   "name": "python",
   "nbconvert_exporter": "python",
   "pygments_lexer": "ipython3",
   "version": "3.11.8"
  },
  "name": "10_1_mas_arrays.ipynb",
  "toc": {
   "base_numbering": 1,
   "nav_menu": {
    "height": "339.633px",
    "width": "252px"
   },
   "number_sections": true,
   "sideBar": true,
   "skip_h1_title": false,
   "title_cell": "Contenidos",
   "title_sidebar": "Contenidos",
   "toc_cell": false,
   "toc_position": {
    "height": "calc(100% - 180px)",
    "left": "10px",
    "top": "150px",
    "width": "314.4px"
   },
   "toc_section_display": true,
   "toc_window_display": false
  }
 },
 "nbformat": 4,
 "nbformat_minor": 5
}
