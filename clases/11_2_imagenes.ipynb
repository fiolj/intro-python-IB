{
 "cells": [
  {
   "cell_type": "markdown",
   "metadata": {},
   "source": [
    "## Leyendo una imagen\n",
    "\n",
    "Además de realizar gráficos 2D, `Plotly` permite trabajar con imágenes (al igual que `matplotlib`). \n",
    "Se pueden leer imágenes que son interpretadas como un array de `numpy` (al igual que `matplotlib`)."
   ]
  },
  {
   "cell_type": "markdown",
   "metadata": {},
   "source": [
    "Usamos un submódulo de `matplotlib` para leer la imagen de archivo. Esto mismo se puede hacer con otros módulos de procesamiento de imágenes:"
   ]
  },
  {
   "cell_type": "code",
   "execution_count": null,
   "metadata": {},
   "outputs": [],
   "source": [
    "import matplotlib.image as mpimg\n",
    "import plotly.graph_objects as go\n",
    "from plotly.subplots import make_subplots\n",
    "import numpy as np\n",
    "\n",
    "grace = mpimg.imread('../data/grace_hopper.jpg')\n",
    "print(grace.shape)\n",
    "print(type(grace))\n",
    "\n",
    "\n",
    "jean = mpimg.imread('../data/jean_sammet.jpg')\n",
    "print(type(jean))\n",
    "\n",
    "cirs = mpimg.imread('../data/cirs_slice.png')"
   ]
  },
  {
   "cell_type": "markdown",
   "metadata": {},
   "source": [
    "Ambas imágenes tienen 3 canales, Rojo, Verde y Azul, que puede verse en el `shape` de cada una de ellas:"
   ]
  },
  {
   "cell_type": "code",
   "execution_count": null,
   "metadata": {},
   "outputs": [],
   "source": [
    "print(grace.shape)\n",
    "print(jean.shape)"
   ]
  },
  {
   "cell_type": "code",
   "execution_count": null,
   "metadata": {},
   "outputs": [],
   "source": [
    "\n",
    "fig = go.Figure()\n",
    "\n",
    "fig = make_subplots(rows=1,cols=2,\n",
    "                   subplot_titles = ('Grace Hopper','Jean Sammet'))\n",
    "\n",
    "\n",
    "fig.add_trace(go.Image(z=grace),1,1)\n",
    "fig.add_trace(go.Image(z=jean),1,2)\n",
    "fig.show()\n"
   ]
  },
  {
   "cell_type": "markdown",
   "metadata": {},
   "source": [
    "Uno de los primeros procesamientos que uno puede hacer de una imagen es obtener el histograma por cada canal:"
   ]
  },
  {
   "cell_type": "code",
   "execution_count": null,
   "metadata": {},
   "outputs": [],
   "source": [
    "fig = go.Figure()\n",
    "\n",
    "fig = make_subplots(rows=1,cols=2,\n",
    "                   subplot_titles = ('Jean Sammet','Histograma'))\n",
    "\n",
    "fig.add_trace(go.Image(z=jean),1,1)\n",
    "for channel, color in enumerate(['red', 'green', 'blue']):\n",
    "    fig.add_trace(go.Histogram(x=jean[..., channel].ravel(), opacity=0.5,\n",
    "                               marker_color=color, name='%s channel' %color), 1, 2)\n",
    "    \n",
    "fig.show()    \n",
    "    \n"
   ]
  },
  {
   "cell_type": "code",
   "execution_count": null,
   "metadata": {},
   "outputs": [],
   "source": [
    "ravel_grace = grace.ravel()\n",
    "print(ravel_grace.shape)\n",
    "print(ravel_grace)"
   ]
  },
  {
   "cell_type": "markdown",
   "metadata": {},
   "source": [
    "Algo a tener en cuenta es que las imágenes pueden venir definidas como RGB con enteros entre 0 y 255, como las imágenes anteriores; o entre 0 y 1, como la siguiente:"
   ]
  },
  {
   "cell_type": "code",
   "execution_count": null,
   "metadata": {},
   "outputs": [],
   "source": [
    "cirs = mpimg.imread('../data/cirs_slice.png')\n",
    "print(type(cirs))\n",
    "print(cirs.shape)\n",
    "print(\"Max image: \",np.max(cirs))\n",
    "#\n",
    "#  Puedo normalizar la imagen al rango 0-1\n",
    "#\n",
    "img_maximo = np.max(cirs)\n",
    "cirs = cirs/img_maximo\n",
    "#\n",
    "#  Normalizo la imagen al rango 0-255\n",
    "#\n",
    "img_maximo = np.max(cirs)\n",
    "cirs = cirs/img_maximo*255\n",
    "cirs = cirs.astype(int) # Convierte el array de numpy de float a enteros\n",
    "\n",
    "fig = go.Figure()\n",
    "\n",
    "fig = make_subplots(rows=1,cols=2,\n",
    "                   subplot_titles = ('CIRS','Histograma'))\n",
    "\n",
    "fig.add_trace(go.Image(z=cirs),1,1)\n",
    "fig.add_trace(go.Histogram(x=cirs[..., 0].ravel(), opacity=0.5,\n",
    "                               marker_color=color, name='BW channel'), 1, 2)\n",
    "    \n",
    "fig.show()    \n"
   ]
  },
  {
   "cell_type": "code",
   "execution_count": null,
   "metadata": {},
   "outputs": [],
   "source": [
    "print(cirs)"
   ]
  },
  {
   "cell_type": "markdown",
   "metadata": {},
   "source": [
    "También se puede calcular el histograma en `numpy`:"
   ]
  },
  {
   "cell_type": "code",
   "execution_count": null,
   "metadata": {},
   "outputs": [],
   "source": [
    "#\n",
    "#  Puedo normalizar la imagen al rango 0-1\n",
    "#\n",
    "img_maximo = np.max(cirs)\n",
    "cirs = cirs/img_maximo\n",
    "\n",
    "\n",
    "nbins = 20\n",
    "c = cirs.ravel()\n",
    "h = np.histogram(c,bins=nbins) # np.histogram devuelve una tupla con dos arrays, el primero\n",
    "                            # es el histograma, el segundo corresponde a los límites de los bines\n",
    "print(type(h[0]))\n",
    "print(h[0])\n",
    "print(h[0].shape)\n",
    "print(h[1].shape)"
   ]
  },
  {
   "cell_type": "markdown",
   "metadata": {},
   "source": [
    "Pero es más trabajoso hacer el histograma a mano:\n",
    "- Hay que notar la diferencia en el tamaño entre el histograma en `h[0]` y los límites de los bines en `h[1]`. Por eso es necesario seleccionar todos los elementos de `h[1]` excepto el último con `h[1][:-1]`. \n",
    "- Además usamos `align='edge'` para que las barras queden alineadas a la izquierda de cada intervalo."
   ]
  },
  {
   "cell_type": "markdown",
   "metadata": {},
   "source": [
    "## Siguiendo con imágenes\n",
    "\n",
    "El paquete [`scikit-image`](https://scikit-image.org/) que se instala con\n",
    "\n",
    "```\n",
    "conda install scikit-image\n",
    "```\n",
    "\n",
    "tiene un excelente tutorial para seguir aprendiendo el procesamiento básico de imágenes, en particular, el tutorial sobre [filtrado de imágenes](https://scikit-image.org/skimage-tutorials/lectures/1_image_filters.html) y se puede bajar como [un notebook](https://scikit-image.org/skimage-tutorials/_sources/lectures/1_image_filters.ipynb)."
   ]
  }
 ],
 "metadata": {
  "kernelspec": {
   "display_name": "Python 3 (ipykernel)",
   "language": "python",
   "name": "python3"
  },
  "language_info": {
   "codemirror_mode": {
    "name": "ipython",
    "version": 3
   },
   "file_extension": ".py",
   "mimetype": "text/x-python",
   "name": "python",
   "nbconvert_exporter": "python",
   "pygments_lexer": "ipython3",
   "version": "3.11.8"
  },
  "toc": {
   "base_numbering": 1,
   "nav_menu": {},
   "number_sections": true,
   "sideBar": true,
   "skip_h1_title": true,
   "title_cell": "Contenidos",
   "title_sidebar": "Contenidos",
   "toc_cell": false,
   "toc_position": {},
   "toc_section_display": true,
   "toc_window_display": false
  }
 },
 "nbformat": 4,
 "nbformat_minor": 4
}
