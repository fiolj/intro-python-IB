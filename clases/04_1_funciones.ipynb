{
 "cells": [
  {
   "cell_type": "markdown",
   "id": "c2c94666",
   "metadata": {
    "collapsed": false,
    "ein.tags": "worksheet-0",
    "jupyter": {
     "outputs_hidden": false
    },
    "slideshow": {
     "slide_type": "-"
    }
   },
   "source": [
    "# Funciones"
   ]
  },
  {
   "cell_type": "markdown",
   "id": "a949e082-0a19-4c20-a68f-6a870531eb29",
   "metadata": {
    "collapsed": false,
    "jupyter": {
     "outputs_hidden": false
    }
   },
   "source": [
    "## Las funciones son objetos\n",
    "\n",
    "Veamos en Python qué es una función:"
   ]
  },
  {
   "cell_type": "code",
   "execution_count": null,
   "id": "e2f8a11b",
   "metadata": {
    "autoscroll": false,
    "collapsed": false,
    "ein.hycell": false,
    "ein.tags": "worksheet-0",
    "jupyter": {
     "outputs_hidden": false
    },
    "slideshow": {
     "slide_type": "-"
    }
   },
   "outputs": [],
   "source": [
    "sum"
   ]
  },
  {
   "cell_type": "code",
   "execution_count": null,
   "id": "97d988dc",
   "metadata": {
    "autoscroll": false,
    "collapsed": false,
    "ein.hycell": false,
    "ein.tags": "worksheet-0",
    "jupyter": {
     "outputs_hidden": false
    },
    "slideshow": {
     "slide_type": "-"
    }
   },
   "outputs": [],
   "source": [
    "print"
   ]
  },
  {
   "cell_type": "markdown",
   "id": "f5ac4afc",
   "metadata": {
    "collapsed": false,
    "ein.tags": "worksheet-0",
    "jupyter": {
     "outputs_hidden": false
    },
    "slideshow": {
     "slide_type": "-"
    }
   },
   "source": [
    "En **Python** `function` es un objeto, con una operación importante: podemos llamarla (ejecutarla), en la forma: `func(lista-de-argumentos)`\n",
    "\n",
    "Como con todos los objetos, podemos definir una variable y asignarle una función (algo así como lo que en C sería un puntero a funciones)"
   ]
  },
  {
   "cell_type": "markdown",
   "id": "0826be5d",
   "metadata": {},
   "source": [
    "En Python, las funciones son de _primera clase_, es decir que tienen las siguientes propiedades:\n",
    "\n",
    "- Asignación a Variables: Se puede asignar la función a una variable, lo cual permite referenciarla de manera similar a como se haría con un número, cadena de texto u otro tipo de dato. Esto ocurre en Python dado que todo elemento del lenguaje es un objeto.\n",
    "\n",
    "- Pasaje como argumento: Se puede pasar la función como argumento a otras funciones.\n",
    "\n",
    "- Retorno de Funciones: Una función puede devolver otra función como valor de retorno\n",
    "\n",
    "- Almacenamiento en Estructuras de Datos: Se pueden almacenar funciones en estructuras de datos como listas, diccionarios, y otros contenedores.\n",
    "\n",
    "Veamos algunos ejemplos sencillos:"
   ]
  },
  {
   "cell_type": "code",
   "execution_count": null,
   "id": "da8cd6f5",
   "metadata": {
    "autoscroll": false,
    "collapsed": false,
    "ein.hycell": false,
    "ein.tags": "worksheet-0",
    "jupyter": {
     "outputs_hidden": false
    },
    "slideshow": {
     "slide_type": "-"
    }
   },
   "outputs": [],
   "source": [
    "f = sum\n",
    "help(f)"
   ]
  },
  {
   "cell_type": "code",
   "execution_count": null,
   "id": "81f38ae4",
   "metadata": {},
   "outputs": [],
   "source": [
    "a = [1, 2, 3]"
   ]
  },
  {
   "cell_type": "code",
   "execution_count": null,
   "id": "8f64808e",
   "metadata": {
    "autoscroll": false,
    "collapsed": false,
    "ein.hycell": false,
    "ein.tags": "worksheet-0",
    "jupyter": {
     "outputs_hidden": false
    },
    "slideshow": {
     "slide_type": "-"
    }
   },
   "outputs": [],
   "source": [
    "print('¿f is sum? ', f is sum)\n",
    "print('f == sum? ', f == sum)\n",
    "print('f(a)=', f(a), '  sum(a)=', sum(a))"
   ]
  },
  {
   "cell_type": "markdown",
   "id": "19e4b2bc",
   "metadata": {
    "collapsed": false,
    "ein.tags": "worksheet-0",
    "jupyter": {
     "outputs_hidden": false
    },
    "slideshow": {
     "slide_type": "-"
    }
   },
   "source": [
    "Un uso bastante común es crear un diccionario donde los valores sean funciones:"
   ]
  },
  {
   "cell_type": "code",
   "execution_count": null,
   "id": "cde29a5b",
   "metadata": {
    "autoscroll": false,
    "collapsed": false,
    "ein.hycell": false,
    "ein.tags": "worksheet-0",
    "jupyter": {
     "outputs_hidden": false
    },
    "slideshow": {
     "slide_type": "-"
    }
   },
   "outputs": [],
   "source": [
    "funciones = {'suma': sum, 'mínimo': min, 'máximo': max}"
   ]
  },
  {
   "cell_type": "code",
   "execution_count": null,
   "id": "eb47607f",
   "metadata": {
    "autoscroll": false,
    "collapsed": false,
    "ein.hycell": false,
    "ein.tags": "worksheet-0",
    "jupyter": {
     "outputs_hidden": false
    },
    "slideshow": {
     "slide_type": "-"
    }
   },
   "outputs": [],
   "source": [
    "funciones['suma']"
   ]
  },
  {
   "cell_type": "code",
   "execution_count": null,
   "id": "1589bbaa",
   "metadata": {
    "autoscroll": false,
    "collapsed": false,
    "ein.hycell": false,
    "ein.tags": "worksheet-0",
    "jupyter": {
     "outputs_hidden": false
    },
    "slideshow": {
     "slide_type": "-"
    }
   },
   "outputs": [],
   "source": [
    "funciones['suma'](a)"
   ]
  },
  {
   "cell_type": "code",
   "execution_count": null,
   "id": "2725c0d8",
   "metadata": {},
   "outputs": [],
   "source": [
    "print(list(funciones.items()))"
   ]
  },
  {
   "cell_type": "code",
   "execution_count": null,
   "id": "9f97c40f",
   "metadata": {
    "autoscroll": false,
    "collapsed": false,
    "ein.hycell": false,
    "ein.tags": "worksheet-0",
    "jupyter": {
     "outputs_hidden": false
    },
    "slideshow": {
     "slide_type": "-"
    }
   },
   "outputs": [],
   "source": [
    "print('\\n', 'a =', a,'\\n')\n",
    "for k, v in funciones.items():\n",
    "  print(k,\"=\", v(a))"
   ]
  },
  {
   "cell_type": "markdown",
   "id": "d23862cf",
   "metadata": {},
   "source": [
    "> En Python, se estila que las funciones así como las variables estén escritas en minúsculas y usando *snake case*, es decir, usando un guión bajo '_' para separar las palabras que constituyen el nombre de la función (o de la variable)\n",
    "```python\n",
    "mi_variable = 3\n",
    "primos = [2, 3, 5, 7]\n",
    "def promedio(l):\n",
    "    v = sum(l)/len(l)\n",
    "    return v \n",
    "```"
   ]
  },
  {
   "cell_type": "code",
   "execution_count": null,
   "id": "25868688",
   "metadata": {},
   "outputs": [],
   "source": [
    "mi_variable = 3\n",
    "primos = [2, 3, 5, 7]\n",
    "def promedio(l):\n",
    "    v = sum(l)/len(l)\n",
    "    return v \n",
    "\n",
    "promedio(primos)"
   ]
  },
  {
   "cell_type": "markdown",
   "id": "1820fdd8",
   "metadata": {
    "collapsed": false,
    "ein.tags": "worksheet-0",
    "jupyter": {
     "outputs_hidden": false
    },
    "slideshow": {
     "slide_type": "-"
    }
   },
   "source": [
    "\n",
    "## Definición básica de funciones\n",
    "\n",
    "Ya vimos en la segunda clase como definir una función.\n",
    "Consideremos una función para calcular la velocidad y altura de una pelota en caída libre:\n",
    "Para dar mejor funcionalidad, le damos la posibilidad al usuario de dar la posición y la velocidad iniciales como argumento:"
   ]
  },
  {
   "cell_type": "code",
   "execution_count": null,
   "id": "294ce053",
   "metadata": {
    "autoscroll": false,
    "collapsed": false,
    "ein.hycell": false,
    "ein.tags": "worksheet-0",
    "jupyter": {
     "outputs_hidden": false
    },
    "slideshow": {
     "slide_type": "-"
    }
   },
   "outputs": [],
   "source": [
    "g = 9.8                         # aceleración de la gravedad en m/s^2\n",
    "def caida(t, h_0, v_0):\n",
    "    \"\"\"Calcula la velocidad y posición de una partícula a tiempo t, para condiciones iniciales dadas\n",
    "    h_0 es la altura inicial (en m)\n",
    "    v_0 es la velocidad inicial (en m/s)\n",
    "    Se utiliza el valor de aceleración de la gravedad g=9.8 m/s^2\n",
    "    \"\"\"\n",
    "    v = v_0 - g*t\n",
    "    h = h_0 - v_0*t - g*t**2/2.\n",
    "    return v,h"
   ]
  },
  {
   "cell_type": "code",
   "execution_count": null,
   "id": "f84cd797",
   "metadata": {},
   "outputs": [],
   "source": [
    "help(caida)"
   ]
  },
  {
   "cell_type": "code",
   "execution_count": null,
   "id": "4713d2d6",
   "metadata": {
    "autoscroll": false,
    "collapsed": false,
    "ein.hycell": false,
    "ein.tags": "worksheet-0",
    "jupyter": {
     "outputs_hidden": false
    },
    "slideshow": {
     "slide_type": "-"
    }
   },
   "outputs": [],
   "source": [
    "t = 2.2\n",
    "v0 = 12\n",
    "alt = 100\n",
    "v,h = caida(t, alt, v0)\n",
    "print(f'''Para caída desde {alt}m, con vel. inicial {v0}m/s, a t = {t}, \n",
    "la velocidad será v={v:6.3}, y estará a una altura de {h:7.4}m''')"
   ]
  },
  {
   "cell_type": "markdown",
   "id": "d92deb2f",
   "metadata": {
    "collapsed": false,
    "ein.tags": "worksheet-0",
    "jupyter": {
     "outputs_hidden": false
    },
    "slideshow": {
     "slide_type": "-"
    }
   },
   "source": [
    "Notemos que podemos llamar a esta función de varias maneras. Podemos llamarla con la constante, o con una variable indistintamente. En este caso, el argumento está definido por su posición. Luego siguen dos argumentos _nombrados_, la altura inicial (h_0) y el tercero corresponde a la velocidad inicial (v_0)."
   ]
  },
  {
   "cell_type": "code",
   "execution_count": null,
   "id": "b1320066",
   "metadata": {
    "autoscroll": false,
    "collapsed": false,
    "ein.hycell": false,
    "ein.tags": "worksheet-0",
    "jupyter": {
     "outputs_hidden": false
    },
    "slideshow": {
     "slide_type": "-"
    }
   },
   "outputs": [],
   "source": [
    "v0 = 12\n",
    "caida(2.2, 100, v0)"
   ]
  },
  {
   "cell_type": "markdown",
   "id": "d4ac2380",
   "metadata": {
    "collapsed": false,
    "ein.tags": "worksheet-0",
    "jupyter": {
     "outputs_hidden": false
    },
    "slideshow": {
     "slide_type": "-"
    }
   },
   "source": [
    "Pero en Python podemos usar el nombre de la variable en el llamado a la función. Por ejemplo:"
   ]
  },
  {
   "cell_type": "code",
   "execution_count": null,
   "id": "ecb50014-5497-4d4d-92e7-33bc5ceb53a3",
   "metadata": {
    "collapsed": false,
    "jupyter": {
     "outputs_hidden": false
    }
   },
   "outputs": [],
   "source": [
    "caida(v_0=v0,t=2.2, h_0=100)"
   ]
  },
  {
   "cell_type": "markdown",
   "id": "ddb09f0f-9cfc-4e7a-896f-fe1cbc84b3ec",
   "metadata": {
    "collapsed": false,
    "jupyter": {
     "outputs_hidden": false
    }
   },
   "source": [
    "\n",
    "### Funciones con argumentos opcionales\n",
    "\n",
    "Las funciones pueden tener muchos argumentos. En **Python** pueden tener un número variable de argumentos y pueden tener valores por *default* para algunos de ellos. En el caso de la función de caída libre, vamos a extenderlo de manera que podamos usarlo fuera de la tierra (o en otras latitudes) permitiendo cambiar el valor de la gravedad y asumiendo que, a menos que lo pidamos explícitamente se trata de una simple caída libre:"
   ]
  },
  {
   "cell_type": "code",
   "execution_count": null,
   "id": "908e0c3d-20a2-4805-b85b-0801f87eee78",
   "metadata": {
    "collapsed": false,
    "jupyter": {
     "outputs_hidden": false
    }
   },
   "outputs": [],
   "source": [
    "def caida_libre(t, h0, v0=0., g=9.8):\n",
    "  \"\"\"Devuelve la velocidad y la posición de una partícula en\n",
    "  caída libre para condiciones iniciales dadas\n",
    "\n",
    "  Parameters\n",
    "  ----------\n",
    "  t : float\n",
    "      el tiempo al que queremos realizar el cálculo\n",
    "  h0: float \n",
    "      la altura inicial\n",
    "  v0: float (opcional)\n",
    "      la velocidad inicial (default = 0.0)\n",
    "   g: float (opcional)\n",
    "      valor de la aceleración de la gravedad (default = 9.8)\n",
    "\n",
    "  Returns\n",
    "  -------\n",
    "  (v,h):  tuple of floats\n",
    "       v= v0 - g*t\n",
    "       h= h0 - v0*t -g*t^2/2\n",
    "  \n",
    "  \"\"\"\n",
    "  v = v0 - g*t\n",
    "  h = h0 - v0*t - g*t**2/2.\n",
    "  return v,h\n"
   ]
  },
  {
   "cell_type": "code",
   "execution_count": null,
   "id": "04263395-5714-485a-ab30-1c2318fd7dfc",
   "metadata": {
    "collapsed": false,
    "jupyter": {
     "outputs_hidden": false
    }
   },
   "outputs": [],
   "source": [
    "# Desde 1000 metros con velocidad inicial cero\n",
    "print( caida_libre(2, 1000))\n",
    "# Desde 1000 metros con velocidad inicial hacia arriba\n",
    "print(caida_libre(1, 1000, 10))\n",
    "# Desde 1000 metros con velocidad inicial cero\n",
    "print(caida_libre(h0=1000, t=2))\n",
    "# Desde 1000 metros con velocidad inicial cero en la luna\n",
    "print( caida_libre(v0=0, h0=1000, t=14.2857137))\n",
    "# Desde 1000 metros con velocidad inicial cero en la luna\n",
    "print( caida_libre(v0=0, h0=1000, t=14.2857137, g=1.625))\n",
    "print(caida_libre(14.2857137, 1000, 0, 1.625))"
   ]
  },
  {
   "cell_type": "code",
   "execution_count": null,
   "id": "1e615e4b-83a2-4422-b7bb-b2ccee8e6200",
   "metadata": {
    "collapsed": false,
    "jupyter": {
     "outputs_hidden": false
    }
   },
   "outputs": [],
   "source": [
    "help(caida_libre)"
   ]
  },
  {
   "cell_type": "markdown",
   "id": "c41682fd-6c39-411e-9b63-b54f3d60e84f",
   "metadata": {
    "collapsed": false,
    "jupyter": {
     "outputs_hidden": false
    }
   },
   "source": [
    "\n",
    "-----\n",
    "\n",
    "**Nota:** No se pueden usar argumentos con *nombre* antes de los argumentos requeridos (en este caso ``t``).\n",
    "\n",
    "Tampoco se pueden usar argumentos sin su *nombre* después de haber incluido alguno con su nombre. Por ejemplo no son válidas las llamadas:\n",
    "\n",
    "```python\n",
    "caida_libre(t=2, 0.)\n",
    "caida_libre(2, v0=0., 1000)\n",
    "```\n",
    "\n",
    "-----\n"
   ]
  },
  {
   "cell_type": "code",
   "execution_count": null,
   "id": "d461c0c8",
   "metadata": {},
   "outputs": [],
   "source": [
    "caida_libre(t=2, 0.)\n"
   ]
  },
  {
   "cell_type": "code",
   "execution_count": null,
   "id": "1b609f04",
   "metadata": {},
   "outputs": [],
   "source": [
    "caida_libre(2, v0=0., 1000)"
   ]
  },
  {
   "cell_type": "markdown",
   "id": "d8212218-26c8-4981-9b0c-4d99158201a7",
   "metadata": {
    "collapsed": false,
    "jupyter": {
     "outputs_hidden": false
    }
   },
   "source": [
    "\n",
    "### Número variable de argumentos y argumentos *keywords* \n",
    "\n",
    "Se pueden definir funciones que toman un número variable de argumentos (como una lista), o que aceptan un diccionario como argumento. Este tipo de argumentos se llaman argumentos *keyword* (``kwargs``). \n",
    "Una buena explicación se encuentra en el [Tutorial de la documentación](https://docs.python.org/3/tutorial/controlflow.html#keyword-arguments). Ahora vamos a dar una explicación rápida. Consideremos la función `f`, que imprime sus argumentos:"
   ]
  },
  {
   "cell_type": "code",
   "execution_count": null,
   "id": "8cc9a0f6-e4d7-4cd6-8f81-e553c50e1151",
   "metadata": {
    "collapsed": false,
    "jupyter": {
     "outputs_hidden": false
    }
   },
   "outputs": [],
   "source": [
    "def f(p, *args, **kwargs):\n",
    "  print( f\"p     : {p}, tipo: {type(p)}\")\n",
    "  print( f\"args  : {args}, tipo: {type(args)}\")\n",
    "  print( f\"kwargs: {kwargs}, tipo: {type(kwargs)}\")"
   ]
  },
  {
   "cell_type": "code",
   "execution_count": null,
   "id": "0fe66a47-8caa-49d5-bd77-d0abf41a0c8e",
   "metadata": {
    "collapsed": false,
    "jupyter": {
     "outputs_hidden": false
    }
   },
   "outputs": [],
   "source": [
    "f(1)"
   ]
  },
  {
   "cell_type": "code",
   "execution_count": null,
   "id": "1b4a614d-d693-4bf9-8eca-d936d6893d43",
   "metadata": {
    "collapsed": false,
    "jupyter": {
     "outputs_hidden": false
    }
   },
   "outputs": [],
   "source": [
    "f(1,2,3)"
   ]
  },
  {
   "cell_type": "code",
   "execution_count": null,
   "id": "93e95af6-c500-49c5-96d9-974cbb61085d",
   "metadata": {
    "collapsed": false,
    "jupyter": {
     "outputs_hidden": false
    }
   },
   "outputs": [],
   "source": [
    "f(1,2,3,4,5,6)"
   ]
  },
  {
   "cell_type": "markdown",
   "id": "b7e8141f-846f-4aef-acd8-9a5149c52d79",
   "metadata": {
    "collapsed": false,
    "jupyter": {
     "outputs_hidden": false
    }
   },
   "source": [
    "En este ejemplo, el primer valor se asigna al argumento requerido `p`, y los siguientes a una variable que se llama `args`, que es del tipo `tuple`"
   ]
  },
  {
   "cell_type": "code",
   "execution_count": null,
   "id": "3495a64b-2d79-4b04-8f44-54589ad021ce",
   "metadata": {
    "collapsed": false,
    "jupyter": {
     "outputs_hidden": false
    }
   },
   "outputs": [],
   "source": [
    "f(1.5, 2, 3, 5, anteultimo = 9, ultimo = -1)"
   ]
  },
  {
   "cell_type": "code",
   "execution_count": null,
   "id": "c6c02a74-3b54-49ff-aa7e-ea236275e103",
   "metadata": {
    "collapsed": false,
    "jupyter": {
     "outputs_hidden": false
    }
   },
   "outputs": [],
   "source": [
    "f(1, (1,2,3), 4, ultimo=-1)"
   ]
  },
  {
   "cell_type": "markdown",
   "id": "4eeb987f-8015-4f27-a0a9-bffa0a09aa7f",
   "metadata": {
    "collapsed": false,
    "jupyter": {
     "outputs_hidden": false
    }
   },
   "source": [
    "En estas otras llamadas a la función, todos los argumentos que se pasan indicando el nombre se asignan a un diccionario."
   ]
  },
  {
   "cell_type": "markdown",
   "id": "f8e1d558-7ef1-4bed-9423-aaf6c86d80e2",
   "metadata": {
    "collapsed": false,
    "jupyter": {
     "outputs_hidden": false
    }
   },
   "source": [
    "Al definir una función, con la construcción `*args` se indica *\"mapear todos los argumentos posicionales no explícitos a una tupla llamada `args`\"*. Con `**kwargs` se indica \"mapear todos los argumentos de palabra clave no explícitos a un diccionario llamado `kwargs`\". Esta acción de convertir un conjunto de argumentos a una tuple o diccionario se conoce como *empacar* o *empaquetar* los datos."
   ]
  },
  {
   "cell_type": "markdown",
   "id": "b38e0756-974a-4ee0-9c3e-a48d77d192ef",
   "metadata": {
    "collapsed": false,
    "jupyter": {
     "outputs_hidden": false
    }
   },
   "source": [
    "------\n",
    "\n",
    "**NOTA:** Por supuesto, no es necesario utilizar los nombres \"args\" y \"kwargs\". Podemos llamarlas de cualquier otra manera! los simbolos que indican cantidades arbitrarias de parametros son `*` y `**`. Además es posible poner parametros \"comunes\" antes de los parametros arbitrarios, como se muestra en el ejemplo.\n",
    "\n",
    "------\n"
   ]
  },
  {
   "cell_type": "markdown",
   "id": "a8021cc5-6f99-46a6-b080-740ec90f57ab",
   "metadata": {
    "collapsed": false,
    "jupyter": {
     "outputs_hidden": false
    }
   },
   "source": [
    "Un ejemplo de una función con número variable de argumentos puede ser la función `multiplica`:"
   ]
  },
  {
   "cell_type": "code",
   "execution_count": null,
   "id": "5db3d3ad-5db7-4612-a30d-37bfa2011313",
   "metadata": {
    "collapsed": false,
    "jupyter": {
     "outputs_hidden": false
    }
   },
   "outputs": [],
   "source": [
    "def multiplica(*args):\n",
    "  s = 1\n",
    "  for a in args:\n",
    "    s *= a\n",
    "  return s"
   ]
  },
  {
   "cell_type": "code",
   "execution_count": null,
   "id": "aaa9ea2c-8c57-46dd-a08c-0e170d5b0768",
   "metadata": {
    "collapsed": false,
    "jupyter": {
     "outputs_hidden": false
    }
   },
   "outputs": [],
   "source": [
    "multiplica(2,5)"
   ]
  },
  {
   "cell_type": "code",
   "execution_count": null,
   "id": "af08757f-ef63-486e-8847-b744c1c5538d",
   "metadata": {
    "collapsed": false,
    "jupyter": {
     "outputs_hidden": false
    }
   },
   "outputs": [],
   "source": [
    "multiplica(2,3,5,9,4)"
   ]
  },
  {
   "cell_type": "markdown",
   "id": "0cef99ba",
   "metadata": {},
   "source": [
    "-----\n",
    "\n",
    "## Ejercicios 4 (a)\n",
    "\n",
    "1. Defina una función que dada una altura inicial `h_0`, una velocidad inicial `v_0` y un paso de tiempo `delta_t`, devuelva:\n",
    "   - una lista conteniendo los tiempos de cálculo, \n",
    "   - otra lista con las posiciones _h(t)_ (alturas) de la partícula en función del tiempo.\n",
    "   - una tercer lista con las velocidades _v(t)_ de la partícula en cada instante. \n",
    "    \n",
    "    > Use las funciones definidas en la clase\n",
    "   \n",
    "2. Escriba una función `imprime_trayectoria` que, obviamente, imprime la trayectoria _h(t)_ en forma clara y bella. Para esto puede resultarle útil la función [`zip`](https://docs.python.org/3.3/library/functions.html#zip).\n",
    "   \n",
    "\n",
    "\n"
   ]
  }
 ],
 "metadata": {
  "kernelspec": {
   "display_name": "Python 3 (ipykernel)",
   "language": "python",
   "name": "python3"
  },
  "language_info": {
   "codemirror_mode": {
    "name": "ipython",
    "version": 3
   },
   "file_extension": ".py",
   "mimetype": "text/x-python",
   "name": "python",
   "nbconvert_exporter": "python",
   "pygments_lexer": "ipython3",
   "version": "3.13.2"
  },
  "name": "04_1_funciones.ipynb",
  "toc": {
   "base_numbering": 1,
   "nav_menu": {
    "height": "209px",
    "width": "471px"
   },
   "number_sections": true,
   "sideBar": true,
   "skip_h1_title": false,
   "title_cell": "Contenidos",
   "title_sidebar": "Contenidos",
   "toc_cell": false,
   "toc_position": {
    "height": "calc(100% - 180px)",
    "left": "10px",
    "top": "150px",
    "width": "190.333px"
   },
   "toc_section_display": true,
   "toc_window_display": false
  }
 },
 "nbformat": 4,
 "nbformat_minor": 5
}
