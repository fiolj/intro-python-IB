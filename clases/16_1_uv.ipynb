{
 "cells": [
  {
   "cell_type": "markdown",
   "id": "40c118b0",
   "metadata": {},
   "source": [
    "## `uv`\n",
    "\n",
    "Hasta ahora hemos utilizado `conda` para manejar las dependencias de un código de Python. `conda` es una aplicación que permite crear _ambientes_, esto es, colecciones de módulos interdependientes en conjunto con una versión de Python en particular. \n",
    "\n",
    "En los últimos años han aparecido otras aplicaciones que permiten manejar dependencias _por proyecto_. Esto es algo habitual en otros lenguajes, pero ha comenzado a ganar popularidad en Python. Herramientas como `poetry` o `uv` permiten instalar módulos para un proyecto particular que reside en un determinado directorio. \n",
    "\n",
    "Otra de las ventajas que ofrecen estas nuevas aplicaciones es su velocidad: en su creación se ha puesto el foco en que la carga de dependencias sea rápida y consistente.\n",
    "\n",
    "Para instalar `uv`, pueden referirse [a la documentación](https://docs.astral.sh/uv/getting-started/installation/).\n"
   ]
  },
  {
   "cell_type": "markdown",
   "id": "0fb0cf6a",
   "metadata": {},
   "source": [
    "## Creando proyectos\n",
    "\n",
    "Para crear un proyecto con `uv` hacemos \n",
    "```sh\n",
    "uv init uv-demo\n",
    "```\n",
    "donde `uv-demo` es el nombre del proyecto."
   ]
  },
  {
   "cell_type": "markdown",
   "id": "05e3e30a",
   "metadata": {},
   "source": [
    "En este caso `uv` crea un directorio denominado `uv-demo` con varios archivos en él:\n",
    "- `README.md`: el readme del proyecto\n",
    "- `hello.py`: Una plantilla mínima de código\n",
    "- `pyproject.toml`: Un archivo de configuración del proyecto\n",
    "- `.python-version`: La versión de python que está asociada al proyecto."
   ]
  },
  {
   "cell_type": "markdown",
   "id": "9e51f908",
   "metadata": {},
   "source": [
    "Cómo corremos entonces `hello.py`? Por lo pronto, la versión de python que se usará es aquella que \n",
    "venimos usando hasta ahora, que es la del ambiente que instalamos con `conda`. \n",
    "\n",
    "Sin embargo, `uv` permite crear ambientes virtuales asociados al proyecto con:\n",
    "\n",
    "```sh\n",
    "uv venv --python=python3.13\n",
    "```\n",
    "donde con la opción `--python` indicamos qué versión de Python queremos utilizar.\n",
    "\n",
    "Para activar este entorno particular de nuestro proyecto hacemos:\n",
    "```\n",
    "source .venv/bin/activate \n",
    "```\n",
    "o en Windows\n",
    "```sh\n",
    ".venv\\Scripts\\activate\n",
    "``` \n",
    "\n",
    "y corremos python en forma habitual.\n",
    "Para desactivar el entorno, \n",
    "```\n",
    "deactivate\n",
    "```\n",
    "\n"
   ]
  },
  {
   "cell_type": "markdown",
   "id": "d5f6441c",
   "metadata": {},
   "source": [
    "### Corriendo con `uv run`\n",
    "\n",
    "Podemos también correr el código con\n",
    "```\n",
    "uv run hello.py\n",
    "``` \n",
    "En este caso, `uv` utilizará la versión de python de acuerdo al siguiente orden de prioridades:\n",
    "- Instalaciones de python incluidas en la variable del sistema UV_PYTHON_INSTALL_DIR.\n",
    "- Un interprete de Python en el PATH tales como python, python3, o python3.x en macOS y Linux, o python.exe en Windows.\n",
    "- Si existe el archivo `.python-version`, utilizará esa versión de Python. Si la versión de python no existe, creará un ambiente virtual en el directorio `.venv` con esa versión.\n",
    "\n",
    "> Atención: `uv` ejecutará el código con el intérprete de Python que verifique las condiciones de la variable `require-python` en `pyproject.toml`. Si no encontrara una versión adecuada, dará un error y sugerirá las acciones correspondientes.\n",
    "\n",
    "Entonces:\n",
    "- `.python-version` → Define qué intérprete se usa\n",
    "- `requires-python` en `pyproject.toml` → Define qué versiones son compatibles con tu código\n",
    "\n",
    "\n"
   ]
  },
  {
   "cell_type": "markdown",
   "id": "d7ab4bee",
   "metadata": {},
   "source": [
    "### Agregando dependencias\n",
    "\n",
    "Para agregar dependencias al proyecto, usamos `uv add` \n",
    "```sh\n",
    "uv add matplotlib pandas\n",
    "``` \n",
    "\n"
   ]
  },
  {
   "cell_type": "markdown",
   "id": "56ffb543",
   "metadata": {},
   "source": [
    "Y notaremos que se agregan los módulos en las dependencias del proyecto en `pyproject.toml`.\n",
    "\n",
    "> `uv` es más eficiente y veloz al manejar las dependencias. Pruébelo Ud. mismo.\n",
    ">\n",
    "\n",
    "Para agregar dependencias, también se puede editar el archivo `pyproject.toml`, en la variable `[dependencies]`"
   ]
  },
  {
   "cell_type": "markdown",
   "id": "fea9b338",
   "metadata": {},
   "source": [
    "Existen diferentes formas de especificar requisitos de versión:\n",
    "\n",
    "- `>=3.10`: Python 3.10 o superior\n",
    "- `>=3.10,<3.12`: Python 3.10 o 3.11, pero no 3.12\n",
    "- `==3.10`: Exactamente Python 3.10\n",
    "- `~=3.10`: Compatible con Python 3.10.x (cualquier versión menor)"
   ]
  },
  {
   "cell_type": "markdown",
   "id": "114b538b",
   "metadata": {},
   "source": []
  }
 ],
 "metadata": {
  "kernelspec": {
   "display_name": "Python 3 (ipykernel)",
   "language": "python",
   "name": "python3"
  },
  "language_info": {
   "codemirror_mode": {
    "name": "ipython",
    "version": 3
   },
   "file_extension": ".py",
   "mimetype": "text/x-python",
   "name": "python",
   "nbconvert_exporter": "python",
   "pygments_lexer": "ipython3",
   "version": "3.13.2"
  }
 },
 "nbformat": 4,
 "nbformat_minor": 5
}
