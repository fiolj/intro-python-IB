{
 "cells": [
  {
   "cell_type": "markdown",
   "metadata": {},
   "source": [
    "# Estructuras de datos en `pandas`: Series\n",
    "\n",
    "\n",
    "Las series son un objeto unidimensional que contiene una secuencia de valores _del mismo tipo_ y un conjunto de etiquetas denominado *índice*: "
   ]
  },
  {
   "cell_type": "code",
   "execution_count": null,
   "metadata": {},
   "outputs": [],
   "source": [
    "import numpy as np\n",
    "import pandas as pd "
   ]
  },
  {
   "cell_type": "code",
   "execution_count": null,
   "metadata": {},
   "outputs": [],
   "source": [
    "s = pd.Series([1,4,4,2])\n",
    "print(s)\n",
    "print(type(s))\n",
    "print(s.dtype)"
   ]
  },
  {
   "cell_type": "markdown",
   "metadata": {},
   "source": [
    "En este ejemplo, `s` es una serie que contiene elementos `int64`.\n",
    "\n",
    "> Los tipos de datos son extensiones de aquellos que utiliza `numpy`.\n",
    "\n",
    "> Notar que usando directamente la función `print` obtenemos una representación textual de la serie.\n",
    "\n",
    "Se puede acceder a los valores de la serie con el método `.array`, y a los índices con el método `.index`:\n"
   ]
  },
  {
   "cell_type": "code",
   "execution_count": null,
   "metadata": {},
   "outputs": [],
   "source": [
    "s.array"
   ]
  },
  {
   "cell_type": "markdown",
   "metadata": {},
   "source": [
    "El tipo `NumpyExtensionArray` es una clase que encapsula al tipo array de `numpy`, pero ha permitido agregarle flexibilidad para acomodar las características de datos más generales."
   ]
  },
  {
   "cell_type": "markdown",
   "metadata": {},
   "source": [
    "Por otra parte, los índices se obtienen como:"
   ]
  },
  {
   "cell_type": "code",
   "execution_count": null,
   "metadata": {},
   "outputs": [],
   "source": [
    "s.index "
   ]
  },
  {
   "cell_type": "markdown",
   "metadata": {},
   "source": [
    "Los índices son inmutables, en el mismo sentido que los caracteres de un string. Es decir, no se pueden cambiar ciertos índices, pero se puede _reasignar_ el índice de una serie completamente:"
   ]
  },
  {
   "cell_type": "code",
   "execution_count": null,
   "metadata": {},
   "outputs": [],
   "source": [
    "print(s.index[2])\n",
    "s.index[2] = 5"
   ]
  },
  {
   "cell_type": "code",
   "execution_count": null,
   "metadata": {},
   "outputs": [],
   "source": [
    "nuevo_index = index=['a','b','c','d']\n",
    "s.index = nuevo_index\n",
    "print(s)"
   ]
  },
  {
   "cell_type": "markdown",
   "metadata": {},
   "source": [
    "Se puede también construir una nueva serie indicando los índices específicamente en el constructor con el argumento `index=`:"
   ]
  },
  {
   "cell_type": "code",
   "execution_count": null,
   "metadata": {},
   "outputs": [],
   "source": [
    "s2 = pd.Series([1,4,4,2], index=['arquero','defensores','medios','delanteros'])\n",
    "print(s2)"
   ]
  },
  {
   "cell_type": "markdown",
   "metadata": {},
   "source": [
    "Existen otras maneras de crear series en `pandas`, como por ejemplo a partir de arreglos de `numpy`"
   ]
  },
  {
   "cell_type": "code",
   "execution_count": null,
   "metadata": {},
   "outputs": [],
   "source": [
    "rnd = pd.Series(np.random.randn(5))\n",
    "print(rnd)"
   ]
  },
  {
   "cell_type": "markdown",
   "metadata": {},
   "source": [
    "A partir de otras variables "
   ]
  },
  {
   "cell_type": "code",
   "execution_count": null,
   "metadata": {},
   "outputs": [],
   "source": [
    "values = [1,2,3,4,5]\n",
    "index = ['a','b','c','d','e']\n",
    "s3 = pd.Series(values, index=index)\n",
    "s3"
   ]
  },
  {
   "cell_type": "markdown",
   "metadata": {},
   "source": [
    "o usando diccionarios:"
   ]
  },
  {
   "cell_type": "code",
   "execution_count": null,
   "metadata": {},
   "outputs": [],
   "source": [
    "d = { 1: \"a\", 2: \"b\", 3: \"c\", 4: \"d\", 5: \"e\" }\n",
    "s4 = pd.Series(d,dtype='string')\n",
    "print(s4)"
   ]
  },
  {
   "cell_type": "markdown",
   "metadata": {},
   "source": [
    "Asimismo, se puede usar el argumento `dtype` (igual que en NumPy) para indicar el tipo de dato que se quiere utilizar al crear la serie. Pandas soporta los tipos de datos de NumPy, además de proveer sus propios tipos de datos (por ejemplo, `string`) propios"
   ]
  },
  {
   "cell_type": "code",
   "execution_count": null,
   "metadata": {},
   "outputs": [],
   "source": [
    "n = pd.Series([4,5,6], dtype='string')\n",
    "print(n)\n",
    "print(n[0]+n[1])"
   ]
  },
  {
   "cell_type": "markdown",
   "metadata": {},
   "source": [
    "### Accediendo a los valores\n",
    "\n",
    "Se puede acceder a los valores de una serie a través del índice como si fuera un array:"
   ]
  },
  {
   "cell_type": "code",
   "execution_count": null,
   "metadata": {},
   "outputs": [],
   "source": [
    "s = pd.Series([ 4, 8, 15, 16, 23, 42 ],index = ['a','b','c','d','e','f'])\n",
    "print(s)"
   ]
  },
  {
   "cell_type": "code",
   "execution_count": null,
   "metadata": {},
   "outputs": [],
   "source": [
    "print(f\"Tercer elemento: {s.array[2]}\")\n",
    "s.array[2] = 108\n",
    "print(s.array)\n",
    "\n",
    "print(f\"Con un rango:\\n{s[1:3]}\")\n",
    "print(f\"Con los índices:\\n{s[['a','c']]}\")\n",
    "print(f\"Con una máscara:\\n{s[s > 100]}\")"
   ]
  },
  {
   "cell_type": "code",
   "execution_count": null,
   "metadata": {},
   "outputs": [],
   "source": [
    "print(f\"Con una lista de índices:\\n{s[[0,1]]}\")"
   ]
  },
  {
   "cell_type": "code",
   "execution_count": null,
   "metadata": {},
   "outputs": [],
   "source": [
    "print(f\"Con una lista de índices:\\n{s.iloc[[0,3]]}\") \n",
    "print(f\"Con una lista de índices:\\n{s[ s.index[[0,3]] ]}\")"
   ]
  },
  {
   "cell_type": "markdown",
   "metadata": {},
   "source": [
    "### Modificando valores\n",
    "\n",
    "Para modificar un valor dentro de una serie de `pandas`, se accede al mismo con la etiqueta correspondiente:"
   ]
  },
  {
   "cell_type": "code",
   "execution_count": null,
   "metadata": {},
   "outputs": [],
   "source": [
    "v = pd.Series([1,2,3,4,5], index=['a','b','c','d','e'])\n",
    "print(v)\n",
    "v['b'] = 100\n",
    "print(v)"
   ]
  },
  {
   "cell_type": "markdown",
   "metadata": {},
   "source": [
    "En caso en que dicha etiqueta no exista dentro del índice de la serie, se agrega el valor:"
   ]
  },
  {
   "cell_type": "code",
   "execution_count": null,
   "metadata": {},
   "outputs": [],
   "source": [
    "v['f'] = 200\n",
    "print(v)"
   ]
  },
  {
   "cell_type": "markdown",
   "metadata": {},
   "source": [
    "Para eliminar valores, se utiliza el método `.drop`. Por defecto se genera una nueva serie con el valor eliminado, para poder eliminar el valor en la misma serie, es necesario usar el argumento opcional `inplace` como `True`."
   ]
  },
  {
   "cell_type": "code",
   "execution_count": null,
   "metadata": {},
   "outputs": [],
   "source": [
    "w = v.drop('b')\n",
    "print(v)\n",
    "print(w)"
   ]
  },
  {
   "cell_type": "code",
   "execution_count": null,
   "metadata": {},
   "outputs": [],
   "source": [
    "v.drop('b', inplace=True)\n",
    "print(v)"
   ]
  },
  {
   "cell_type": "code",
   "execution_count": null,
   "metadata": {},
   "outputs": [],
   "source": [
    "# Generando un nuevo objeto\n",
    "print(v==w)\n",
    "# Comparando objetos\n",
    "print(f\"v is w: {v is w}\")\n",
    "print(f\"v equals w: {v.equals(w)}\")"
   ]
  },
  {
   "cell_type": "code",
   "execution_count": null,
   "metadata": {},
   "outputs": [],
   "source": [
    "v.drop(['b'], inplace=True) # KeyError: \"['b'] not found in axis\""
   ]
  },
  {
   "cell_type": "markdown",
   "metadata": {},
   "source": [
    "#### Tipos de datos\n",
    "\n",
    "Como último comentario, obsérvese que si uno pretende crear una serie con valores de distinto tipo, el tipo de la serie se promueve al tipo general `object`, sin embargo cada elemento es reconocido con su tipo particular:\n"
   ]
  },
  {
   "cell_type": "code",
   "execution_count": null,
   "metadata": {},
   "outputs": [],
   "source": [
    "s = pd.Series([1,'a','b','c'])\n",
    "print(s)\n",
    "for index,elem in s.items(): \n",
    "    print(f\"Tipo de objeto del elemento {index}: {type(s[index])}\")"
   ]
  },
  {
   "cell_type": "code",
   "execution_count": null,
   "metadata": {},
   "outputs": [],
   "source": [
    "print(f\"Suma de enteros: {s[0] + 3}\")\n",
    "print(f\"Suma de enteros: {s[1] + 3}\") # Error"
   ]
  },
  {
   "cell_type": "code",
   "execution_count": null,
   "metadata": {},
   "outputs": [],
   "source": [
    "print(f\"Concat de str  : {s[1] + 'd'}\")\n",
    "print(f\"Concat de str  : {s[1] + 3}\") # Error"
   ]
  },
  {
   "cell_type": "markdown",
   "metadata": {},
   "source": [
    "Si bien entonces se pueden usar series con objetos con distintos tipos, se recomienda que el tipo de dato sea homogéneo."
   ]
  },
  {
   "cell_type": "markdown",
   "metadata": {},
   "source": [
    "### Valores que faltan\n",
    "\n",
    "Es muy común al procesar datos que uno encuentre valores que no existen. La manera en que `pandas` representa estos datos faltantes es a través de `np.nan`, el tipo de dato de `numpy` que representa _not a number_, para aquellos tipos de datos heredados de `numpy`:"
   ]
  },
  {
   "cell_type": "code",
   "execution_count": null,
   "metadata": {},
   "outputs": [],
   "source": [
    "snan = pd.Series([1,4,np.nan,2])\n",
    "print(snan)"
   ]
  },
  {
   "cell_type": "markdown",
   "metadata": {},
   "source": [
    "> Notar que si bien los datos existentes son de tipo entero, al utilizar `np.nan` para representar un dato inexistente, el tipo de dato de la serie se promueve a `float64`.\n",
    "\n",
    "De la misma forma, se puede usar `None` para representar el dato faltante:"
   ]
  },
  {
   "cell_type": "code",
   "execution_count": null,
   "metadata": {},
   "outputs": [],
   "source": [
    "snone = pd.Series([1,4,None,5])\n",
    "print(snone)"
   ]
  },
  {
   "cell_type": "markdown",
   "metadata": {},
   "source": [
    "En el caso de cadenas de caracteres, se puede usar `np.nan` o `None`. Si no se indica el tipo de dato a través de `dtype`, se promueve el tipo de dato de la serie a `object`, como sucede por defecto."
   ]
  },
  {
   "cell_type": "code",
   "execution_count": null,
   "metadata": {},
   "outputs": [],
   "source": [
    "smixed_str = pd.Series(['a','b',np.nan,None,'d'])\n",
    "smixed_str"
   ]
  },
  {
   "cell_type": "markdown",
   "metadata": {},
   "source": [
    "Esto tiene el inconveniente evidente de que el elemento faltante no está representado unívocamente por un solo valor. Para solventar este problema, se puede crear la serie con el tipo `string`:"
   ]
  },
  {
   "cell_type": "code",
   "execution_count": null,
   "metadata": {},
   "outputs": [],
   "source": [
    "smixed_str2 = pd.Series(['a','b',np.nan,None,'d'],dtype='string')\n",
    "print(smixed_str2)"
   ]
  },
  {
   "cell_type": "markdown",
   "metadata": {},
   "source": [
    "En este caso, el singlete `NA` representa unívocamente el dato faltante. En cualquier caso, se cuenta con el método `.isna`, que retorna una serie de `boolean` donde los valores faltantes son verdaderos (`True`):"
   ]
  },
  {
   "cell_type": "code",
   "execution_count": null,
   "metadata": {},
   "outputs": [],
   "source": [
    "print(smixed_str.isna())\n",
    "print(smixed_str2.isna())"
   ]
  },
  {
   "cell_type": "markdown",
   "metadata": {},
   "source": [
    "> Atención, la cadena de caracteres vacía `''` *NO* se considera un dato inexistente. \n",
    "\n",
    "Puede ser útil en algunos casos poder filtrar los datos inexistentes. Para eso se utiliza el método `.dropna`, que crea una nueva serie sin dichos datos: "
   ]
  },
  {
   "cell_type": "code",
   "execution_count": null,
   "metadata": {},
   "outputs": [],
   "source": [
    "print(smixed_str)\n",
    "print(smixed_str.dropna())"
   ]
  },
  {
   "cell_type": "markdown",
   "metadata": {},
   "source": [
    "### Operando con series\n",
    "\n",
    "Las operaciones con series han sido diseñadas para que sean compatibles con NumPy, y sigan las convenciones de Python. He aquí algunos ejemplos:"
   ]
  },
  {
   "cell_type": "code",
   "execution_count": null,
   "metadata": {},
   "outputs": [],
   "source": [
    "ones = pd.Series(np.ones(8))*0.5\n",
    "print(ones)\n",
    "\n",
    "t = pd.Series(np.random.rand(8))\n",
    "print(t)\n",
    "print(t.mean())"
   ]
  },
  {
   "cell_type": "code",
   "execution_count": null,
   "metadata": {},
   "outputs": [],
   "source": [
    "shifted = t - ones \n",
    "print(shifted)\n",
    "print(shifted.mean())\n",
    "print(np.abs(shifted))"
   ]
  },
  {
   "cell_type": "markdown",
   "metadata": {},
   "source": [
    "Además de poder interactuar con NumPy en forma transparente, existen algunos métodos útiles para trabajar con los datos de una serie:"
   ]
  },
  {
   "cell_type": "code",
   "execution_count": null,
   "metadata": {},
   "outputs": [],
   "source": [
    "data = {'Pedro':19, 'Oscar': 30, 'Carlos': 27, 'David': 26}\n",
    "seru = pd.Series(data)\n",
    "print(\"Person Series:\\n\")\n",
    "print(seru)\n",
    "\n",
    "# Perform operations on the Series\n",
    "print(\"Edad promedio:\", seru.mean())\n",
    "print(\"Edad del más viejo :\", seru.max())\n",
    "print(\"El más viejo :\", seru.idxmax())"
   ]
  },
  {
   "cell_type": "code",
   "execution_count": null,
   "metadata": {},
   "outputs": [],
   "source": [
    "temperaturas_ciudades = {\n",
    "    \"Buenos Aires\": 17.6,\n",
    "    \"Córdoba\": 18.0,\n",
    "    \"Rosario\": 18.0,\n",
    "    \"Mendoza\": 16.0,\n",
    "    \"Santa Fe\": 21.3\n",
    "\n",
    "}\n",
    "temp = pd.Series(temperaturas_ciudades)\n",
    "print(temp)"
   ]
  },
  {
   "cell_type": "code",
   "execution_count": null,
   "metadata": {},
   "outputs": [],
   "source": [
    "otras_ciudades = ['Buenos Aires', 'Córdoba', 'Rosario', 'Mendoza', 'Salta']\n",
    "temp = pd.Series(temperaturas_ciudades, index=otras_ciudades)\n",
    "print(temp)"
   ]
  },
  {
   "cell_type": "code",
   "execution_count": null,
   "metadata": {},
   "outputs": [],
   "source": [
    "temp_ciudades2 = {\n",
    "    \"Mendoza\": 20.0,\n",
    "    \"Salta\": 17.2,\n",
    "    \"Santa Fe\": 18.6,\n",
    "    \"San Juan\": 19.3\n",
    "}\n",
    "temp2 = pd.Series(temp_ciudades2)\n",
    "temp2"
   ]
  },
  {
   "cell_type": "code",
   "execution_count": null,
   "metadata": {},
   "outputs": [],
   "source": [
    "print(temp)"
   ]
  },
  {
   "cell_type": "code",
   "execution_count": null,
   "metadata": {},
   "outputs": [],
   "source": [
    "print((temp + temp2)/2)"
   ]
  },
  {
   "cell_type": "markdown",
   "metadata": {},
   "source": [
    "### Misceláneas\n",
    "\n",
    "Algunas otras operaciones interesantes:"
   ]
  },
  {
   "cell_type": "code",
   "execution_count": null,
   "metadata": {},
   "outputs": [],
   "source": [
    "'Rosario' in temp2"
   ]
  },
  {
   "cell_type": "code",
   "execution_count": null,
   "metadata": {},
   "outputs": [],
   "source": [
    "temp2_dict = temp2.to_dict()\n",
    "print(temp2_dict)\n",
    "print(type(temp2_dict))"
   ]
  },
  {
   "cell_type": "code",
   "execution_count": null,
   "metadata": {},
   "outputs": [],
   "source": [
    "temp2_json = temp2.to_json() \n",
    "print(temp2_json)\n",
    "print(type(temp2_json))"
   ]
  },
  {
   "cell_type": "markdown",
   "metadata": {},
   "source": [
    "----\n",
    "\n",
    "# Ejercicios 14(b)\n",
    "\n",
    "2. Si no lo ha adivinado, los datos de la serie `seru` corresponden a las edades de los integrantes de la banda Serú Girán, al momento de conformarse, en el año 1978. Encuentre los años de nacimiento de cada uno de sus integrantes. \n",
    "\n",
    "2. Una de las funciones más usadas en redes neuronales es _softmax_, cuyo objetivo es convertir los resultados de las distintas etapas del procesamiento de una red en probabilidades. Los primeros pueden ser números reales de cualquier valor, mientras que las probabilidades deben estar acotadas al intervalo [0,1]. La función _softmax_ aplicada a un conjunto de valores $z_1,\\cdots,z_n$ se calcula como\n",
    "\n",
    "   $$\n",
    "   \\sigma(z_i) = \\frac {e^{z_i}} { \\sum_{i=1}^n e^{z_i}}\n",
    "   $$\n",
    "\n",
    "   - Cree una serie con 10 valores al azar entre 0 y 5\n",
    "   - Obtenga la serie resultante de la aplicación de _softmax_ a la serie anterior\n",
    "\n",
    "4. El siguiente es un diccionario que representa el consumo eléctrico mensual de ciertos artefactos eléctricos:\n",
    "\n",
    "   ```python\n",
    "   consumo_electrico = {\n",
    "     \"Artefacto\": [\n",
    "        \"Heladera\", \"Lavarropa\", \"Microondas\", \"Aire Acondicionado\", \n",
    "        \"Televisor\", \"Computadora\", \"Lámpara LED\", \"Secador de Pelo\", \n",
    "        \"Horno Eléctrico\", \"Ventilador\"\n",
    "     ],\n",
    "     \"Consumo Promedio (kWh/mes)\": [\n",
    "        30, 10, 15, 120, 20, 12, 2, 3, 25, 8\n",
    "     ]\n",
    "   }\n",
    "   ```\n",
    "\n",
    "   - Obtenga los tres artefactos de mayor consumo.\n",
    "   - Encuentre los artefactos que consumen más de 15 kWH/mes.\n",
    "   - Calcule el consumo anual de cada artefacto, y el costo que implica suponiendo que el precio del kWH/mes es de $3145. \n",
    "\n",
    "4. Un problema de índices enteros. Supongamos que tenemos la serie\n",
    "   ```python\n",
    "   s = pd.Series(np.arange(3.0))\n",
    "   ``` \n",
    "   es decir, \n",
    "   ```python\n",
    "    0    0.0\n",
    "    1    1.0\n",
    "    2    2.0\n",
    "    dtype: float64\n",
    "   ```\n",
    "   ¿Cuál es el resultado esperado de s[-1]? ¿Cuál es el real? Evalúe `s[-2:-1]` y también `s.iloc[-1]`. \n",
    "   Considere ahora la serie\n",
    "   ```python\n",
    "   s = pd.Series(np.arange(3.0), index=['a','b','c'])\n",
    "   ``` \n",
    "   y evalúe nuevamente `s[-1]`. \n",
    "   ¿Qué conclusiones puede sacar? \n",
    "\n",
    "_____\n"
   ]
  }
 ],
 "metadata": {
  "kernelspec": {
   "display_name": "Python 3 (ipykernel)",
   "language": "python",
   "name": "python3"
  },
  "language_info": {
   "codemirror_mode": {
    "name": "ipython",
    "version": 3
   },
   "file_extension": ".py",
   "mimetype": "text/x-python",
   "name": "python",
   "nbconvert_exporter": "python",
   "pygments_lexer": "ipython3",
   "version": "3.13.2"
  }
 },
 "nbformat": 4,
 "nbformat_minor": 4
}
