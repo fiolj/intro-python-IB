{
 "cells": [
  {
   "cell_type": "markdown",
   "metadata": {},
   "source": [
    "# Estructuras de datos en `pandas`: Series\n",
    "\n",
    "\n",
    "Las series son un objeto unidimensional que contiene una secuencia de valores _del mismo tipo_ y un conjunto de etiquetas denominado *índice*: "
   ]
  },
  {
   "cell_type": "code",
   "execution_count": 1,
   "metadata": {},
   "outputs": [],
   "source": [
    "import numpy as np\n",
    "import pandas as pd "
   ]
  },
  {
   "cell_type": "code",
   "execution_count": 2,
   "metadata": {},
   "outputs": [
    {
     "name": "stdout",
     "output_type": "stream",
     "text": [
      "0    1\n",
      "1    4\n",
      "2    4\n",
      "3    2\n",
      "dtype: int64\n",
      "<class 'pandas.core.series.Series'>\n",
      "int64\n"
     ]
    }
   ],
   "source": [
    "s = pd.Series([1,4,4,2])\n",
    "print(s)\n",
    "print(type(s))\n",
    "print(s.dtype)"
   ]
  },
  {
   "cell_type": "markdown",
   "metadata": {},
   "source": [
    "En este ejemplo, `s` es una serie que contiene elementos `int64`.\n",
    "\n",
    "> Los tipos de datos son extensiones de aquellos que utiliza `numpy`.\n",
    "\n",
    "> Notar que usando directamente la función `print` obtenemos una representación textual de la serie.\n",
    "\n",
    "Se puede acceder a los valores de la serie con el método `.array`, y a los índices con el método `.index`:\n"
   ]
  },
  {
   "cell_type": "code",
   "execution_count": 3,
   "metadata": {},
   "outputs": [
    {
     "data": {
      "text/plain": [
       "<NumpyExtensionArray>\n",
       "[1, 4, 4, 2]\n",
       "Length: 4, dtype: int64"
      ]
     },
     "execution_count": 3,
     "metadata": {},
     "output_type": "execute_result"
    }
   ],
   "source": [
    "s.array"
   ]
  },
  {
   "cell_type": "markdown",
   "metadata": {},
   "source": [
    "El tipo `NumpyExtensionArray` es una clase que encapsula al tipo array de `numpy`, pero ha permitido agregarle flexibilidad para acomodar las características de datos más generales."
   ]
  },
  {
   "cell_type": "markdown",
   "metadata": {},
   "source": [
    "Por otra parte, los índices se obtienen como:"
   ]
  },
  {
   "cell_type": "code",
   "execution_count": 4,
   "metadata": {},
   "outputs": [
    {
     "data": {
      "text/plain": [
       "RangeIndex(start=0, stop=4, step=1)"
      ]
     },
     "execution_count": 4,
     "metadata": {},
     "output_type": "execute_result"
    }
   ],
   "source": [
    "s.index "
   ]
  },
  {
   "cell_type": "markdown",
   "metadata": {},
   "source": [
    "Los índices son inmutables, en el mismo sentido que los caracteres de un string. Es decir, no se pueden cambiar ciertos índices, pero se puede _reasignar_ el índice de una serie completamente:"
   ]
  },
  {
   "cell_type": "code",
   "execution_count": 5,
   "metadata": {},
   "outputs": [
    {
     "name": "stdout",
     "output_type": "stream",
     "text": [
      "2\n"
     ]
    },
    {
     "ename": "TypeError",
     "evalue": "Index does not support mutable operations",
     "output_type": "error",
     "traceback": [
      "\u001b[0;31m---------------------------------------------------------------------------\u001b[0m",
      "\u001b[0;31mTypeError\u001b[0m                                 Traceback (most recent call last)",
      "Cell \u001b[0;32mIn[5], line 2\u001b[0m\n\u001b[1;32m      1\u001b[0m \u001b[38;5;28mprint\u001b[39m(s\u001b[38;5;241m.\u001b[39mindex[\u001b[38;5;241m2\u001b[39m])\n\u001b[0;32m----> 2\u001b[0m \u001b[43ms\u001b[49m\u001b[38;5;241;43m.\u001b[39;49m\u001b[43mindex\u001b[49m\u001b[43m[\u001b[49m\u001b[38;5;241;43m2\u001b[39;49m\u001b[43m]\u001b[49m \u001b[38;5;241m=\u001b[39m \u001b[38;5;241m5\u001b[39m\n",
      "File \u001b[0;32m/usr/lib64/python3.13/site-packages/pandas/core/indexes/base.py:5371\u001b[0m, in \u001b[0;36mIndex.__setitem__\u001b[0;34m(self, key, value)\u001b[0m\n\u001b[1;32m   5369\u001b[0m \u001b[38;5;129m@final\u001b[39m\n\u001b[1;32m   5370\u001b[0m \u001b[38;5;28;01mdef\u001b[39;00m \u001b[38;5;21m__setitem__\u001b[39m(\u001b[38;5;28mself\u001b[39m, key, value) \u001b[38;5;241m-\u001b[39m\u001b[38;5;241m>\u001b[39m \u001b[38;5;28;01mNone\u001b[39;00m:\n\u001b[0;32m-> 5371\u001b[0m     \u001b[38;5;28;01mraise\u001b[39;00m \u001b[38;5;167;01mTypeError\u001b[39;00m(\u001b[38;5;124m\"\u001b[39m\u001b[38;5;124mIndex does not support mutable operations\u001b[39m\u001b[38;5;124m\"\u001b[39m)\n",
      "\u001b[0;31mTypeError\u001b[0m: Index does not support mutable operations"
     ]
    }
   ],
   "source": [
    "print(s.index[2])\n",
    "s.index[2] = 5"
   ]
  },
  {
   "cell_type": "code",
   "execution_count": 6,
   "metadata": {},
   "outputs": [
    {
     "name": "stdout",
     "output_type": "stream",
     "text": [
      "a    1\n",
      "b    4\n",
      "c    4\n",
      "d    2\n",
      "dtype: int64\n"
     ]
    }
   ],
   "source": [
    "nuevo_index = index=['a','b','c','d']\n",
    "s.index = nuevo_index\n",
    "print(s)"
   ]
  },
  {
   "cell_type": "markdown",
   "metadata": {},
   "source": [
    "Se puede también construir una nueva serie indicando los índices específicamente en el constructor con el argumento `index=`:"
   ]
  },
  {
   "cell_type": "code",
   "execution_count": 7,
   "metadata": {},
   "outputs": [
    {
     "name": "stdout",
     "output_type": "stream",
     "text": [
      "arquero       1\n",
      "defensores    4\n",
      "medios        4\n",
      "delanteros    2\n",
      "dtype: int64\n"
     ]
    }
   ],
   "source": [
    "s2 = pd.Series([1,4,4,2], index=['arquero','defensores','medios','delanteros'])\n",
    "print(s2)"
   ]
  },
  {
   "cell_type": "markdown",
   "metadata": {},
   "source": [
    "Existen otras maneras de crear series en `pandas`, como por ejemplo a partir de arreglos de `numpy`"
   ]
  },
  {
   "cell_type": "code",
   "execution_count": 8,
   "metadata": {},
   "outputs": [
    {
     "name": "stdout",
     "output_type": "stream",
     "text": [
      "0    0.370947\n",
      "1    1.600918\n",
      "2    0.161127\n",
      "3   -0.929294\n",
      "4   -0.121632\n",
      "dtype: float64\n"
     ]
    }
   ],
   "source": [
    "rnd = pd.Series(np.random.randn(5))\n",
    "print(rnd)"
   ]
  },
  {
   "cell_type": "markdown",
   "metadata": {},
   "source": [
    "A partir de otras variables "
   ]
  },
  {
   "cell_type": "code",
   "execution_count": 9,
   "metadata": {},
   "outputs": [
    {
     "data": {
      "text/plain": [
       "a    1\n",
       "b    2\n",
       "c    3\n",
       "d    4\n",
       "e    5\n",
       "dtype: int64"
      ]
     },
     "execution_count": 9,
     "metadata": {},
     "output_type": "execute_result"
    }
   ],
   "source": [
    "values = [1,2,3,4,5]\n",
    "index = ['a','b','c','d','e']\n",
    "s3 = pd.Series(values, index=index)\n",
    "s3"
   ]
  },
  {
   "cell_type": "markdown",
   "metadata": {},
   "source": [
    "o usando diccionarios:"
   ]
  },
  {
   "cell_type": "code",
   "execution_count": 10,
   "metadata": {},
   "outputs": [
    {
     "name": "stdout",
     "output_type": "stream",
     "text": [
      "1    a\n",
      "2    b\n",
      "3    c\n",
      "4    d\n",
      "5    e\n",
      "dtype: string\n"
     ]
    }
   ],
   "source": [
    "d = { 1: \"a\", 2: \"b\", 3: \"c\", 4: \"d\", 5: \"e\" }\n",
    "s4 = pd.Series(d,dtype='string')\n",
    "print(s4)"
   ]
  },
  {
   "cell_type": "markdown",
   "metadata": {},
   "source": [
    "Asimismo, se puede usar el argumento `dtype` (igual que en NumPy) para indicar el tipo de dato que se quiere utilizar al crear la serie. Pandas soporta los tipos de datos de NumPy, además de proveer sus propios tipos de datos (por ejemplo, `string`) propios"
   ]
  },
  {
   "cell_type": "code",
   "execution_count": 11,
   "metadata": {},
   "outputs": [
    {
     "name": "stdout",
     "output_type": "stream",
     "text": [
      "0    4\n",
      "1    5\n",
      "2    6\n",
      "dtype: string\n",
      "45\n"
     ]
    }
   ],
   "source": [
    "n = pd.Series([4,5,6], dtype='string')\n",
    "print(n)\n",
    "print(n[0]+n[1])"
   ]
  },
  {
   "cell_type": "markdown",
   "metadata": {},
   "source": [
    "### Accediendo a los valores\n",
    "\n",
    "Se puede acceder a los valores de una serie a través del índice como si fuera un array:"
   ]
  },
  {
   "cell_type": "code",
   "execution_count": 12,
   "metadata": {},
   "outputs": [
    {
     "name": "stdout",
     "output_type": "stream",
     "text": [
      "a     4\n",
      "b     8\n",
      "c    15\n",
      "d    16\n",
      "e    23\n",
      "f    42\n",
      "dtype: int64\n"
     ]
    }
   ],
   "source": [
    "s = pd.Series([ 4, 8, 15, 16, 23, 42 ],index = ['a','b','c','d','e','f'])\n",
    "print(s)"
   ]
  },
  {
   "cell_type": "code",
   "execution_count": 13,
   "metadata": {},
   "outputs": [
    {
     "name": "stdout",
     "output_type": "stream",
     "text": [
      "Tercer elemento: 15\n",
      "<NumpyExtensionArray>\n",
      "[4, 8, 108, 16, 23, 42]\n",
      "Length: 6, dtype: int64\n",
      "Con un rango:\n",
      "b      8\n",
      "c    108\n",
      "dtype: int64\n",
      "Con los índices:\n",
      "a      4\n",
      "c    108\n",
      "dtype: int64\n",
      "Con una máscara:\n",
      "c    108\n",
      "dtype: int64\n"
     ]
    }
   ],
   "source": [
    "print(f\"Tercer elemento: {s.array[2]}\")\n",
    "s.array[2] = 108\n",
    "print(s.array)\n",
    "\n",
    "print(f\"Con un rango:\\n{s[1:3]}\")\n",
    "print(f\"Con los índices:\\n{s[['a','c']]}\")\n",
    "print(f\"Con una máscara:\\n{s[s > 100]}\")"
   ]
  },
  {
   "cell_type": "code",
   "execution_count": 14,
   "metadata": {},
   "outputs": [
    {
     "name": "stdout",
     "output_type": "stream",
     "text": [
      "Con una lista de índices:\n",
      "a    4\n",
      "b    8\n",
      "dtype: int64\n"
     ]
    },
    {
     "name": "stderr",
     "output_type": "stream",
     "text": [
      "/tmp/ipykernel_213536/1722261588.py:1: FutureWarning: Series.__getitem__ treating keys as positions is deprecated. In a future version, integer keys will always be treated as labels (consistent with DataFrame behavior). To access a value by position, use `ser.iloc[pos]`\n",
      "  print(f\"Con una lista de índices:\\n{s[[0,1]]}\")\n"
     ]
    }
   ],
   "source": [
    "print(f\"Con una lista de índices:\\n{s[[0,1]]}\")"
   ]
  },
  {
   "cell_type": "code",
   "execution_count": 15,
   "metadata": {},
   "outputs": [
    {
     "name": "stdout",
     "output_type": "stream",
     "text": [
      "Con una lista de índices:\n",
      "a     4\n",
      "d    16\n",
      "dtype: int64\n",
      "Con una lista de índices:\n",
      "a     4\n",
      "d    16\n",
      "dtype: int64\n"
     ]
    }
   ],
   "source": [
    "print(f\"Con una lista de índices:\\n{s.iloc[[0,3]]}\") \n",
    "print(f\"Con una lista de índices:\\n{s[ s.index[[0,3]] ]}\")"
   ]
  },
  {
   "cell_type": "markdown",
   "metadata": {},
   "source": [
    "### Modificando valores\n",
    "\n",
    "Para modificar un valor dentro de una serie de `pandas`, se accede al mismo con la etiqueta correspondiente:"
   ]
  },
  {
   "cell_type": "code",
   "execution_count": 16,
   "metadata": {},
   "outputs": [
    {
     "name": "stdout",
     "output_type": "stream",
     "text": [
      "a    1\n",
      "b    2\n",
      "c    3\n",
      "d    4\n",
      "e    5\n",
      "dtype: int64\n",
      "a      1\n",
      "b    100\n",
      "c      3\n",
      "d      4\n",
      "e      5\n",
      "dtype: int64\n"
     ]
    }
   ],
   "source": [
    "v = pd.Series([1,2,3,4,5], index=['a','b','c','d','e'])\n",
    "print(v)\n",
    "v['b'] = 100\n",
    "print(v)"
   ]
  },
  {
   "cell_type": "markdown",
   "metadata": {},
   "source": [
    "En caso en que dicha etiqueta no exista dentro del índice de la serie, se agrega el valor:"
   ]
  },
  {
   "cell_type": "code",
   "execution_count": 17,
   "metadata": {},
   "outputs": [
    {
     "name": "stdout",
     "output_type": "stream",
     "text": [
      "a      1\n",
      "b    100\n",
      "c      3\n",
      "d      4\n",
      "e      5\n",
      "f    200\n",
      "dtype: int64\n"
     ]
    }
   ],
   "source": [
    "v['f'] = 200\n",
    "print(v)"
   ]
  },
  {
   "cell_type": "markdown",
   "metadata": {},
   "source": [
    "Para eliminar valores, se utiliza el método `.drop`. Por defecto se genera una nueva serie con el valor eliminado, para poder eliminar el valor en la misma serie, es necesario usar el argumento opcional `inplace` como `True`."
   ]
  },
  {
   "cell_type": "code",
   "execution_count": 18,
   "metadata": {},
   "outputs": [
    {
     "name": "stdout",
     "output_type": "stream",
     "text": [
      "a      1\n",
      "b    100\n",
      "c      3\n",
      "d      4\n",
      "e      5\n",
      "f    200\n",
      "dtype: int64\n",
      "a      1\n",
      "c      3\n",
      "d      4\n",
      "e      5\n",
      "f    200\n",
      "dtype: int64\n"
     ]
    }
   ],
   "source": [
    "w = v.drop('b')\n",
    "print(v)\n",
    "print(w)"
   ]
  },
  {
   "cell_type": "code",
   "execution_count": 19,
   "metadata": {},
   "outputs": [
    {
     "name": "stdout",
     "output_type": "stream",
     "text": [
      "a      1\n",
      "c      3\n",
      "d      4\n",
      "e      5\n",
      "f    200\n",
      "dtype: int64\n"
     ]
    }
   ],
   "source": [
    "v.drop('b', inplace=True)\n",
    "print(v)"
   ]
  },
  {
   "cell_type": "code",
   "execution_count": 20,
   "metadata": {},
   "outputs": [
    {
     "name": "stdout",
     "output_type": "stream",
     "text": [
      "a    True\n",
      "c    True\n",
      "d    True\n",
      "e    True\n",
      "f    True\n",
      "dtype: bool\n",
      "v is w: False\n",
      "v equals w: True\n"
     ]
    }
   ],
   "source": [
    "# Generando un nuevo objeto\n",
    "print(v==w)\n",
    "# Comparando objetos\n",
    "print(f\"v is w: {v is w}\")\n",
    "print(f\"v equals w: {v.equals(w)}\")"
   ]
  },
  {
   "cell_type": "code",
   "execution_count": 21,
   "metadata": {},
   "outputs": [
    {
     "ename": "KeyError",
     "evalue": "\"['b'] not found in axis\"",
     "output_type": "error",
     "traceback": [
      "\u001b[0;31m---------------------------------------------------------------------------\u001b[0m",
      "\u001b[0;31mKeyError\u001b[0m                                  Traceback (most recent call last)",
      "Cell \u001b[0;32mIn[21], line 1\u001b[0m\n\u001b[0;32m----> 1\u001b[0m \u001b[43mv\u001b[49m\u001b[38;5;241;43m.\u001b[39;49m\u001b[43mdrop\u001b[49m\u001b[43m(\u001b[49m\u001b[43m[\u001b[49m\u001b[38;5;124;43m'\u001b[39;49m\u001b[38;5;124;43mb\u001b[39;49m\u001b[38;5;124;43m'\u001b[39;49m\u001b[43m]\u001b[49m\u001b[43m,\u001b[49m\u001b[43m \u001b[49m\u001b[43minplace\u001b[49m\u001b[38;5;241;43m=\u001b[39;49m\u001b[38;5;28;43;01mTrue\u001b[39;49;00m\u001b[43m)\u001b[49m \u001b[38;5;66;03m# KeyError: \"['b'] not found in axis\"\u001b[39;00m\n",
      "File \u001b[0;32m/usr/lib64/python3.13/site-packages/pandas/core/series.py:5347\u001b[0m, in \u001b[0;36mSeries.drop\u001b[0;34m(self, labels, axis, index, columns, level, inplace, errors)\u001b[0m\n\u001b[1;32m   5250\u001b[0m \u001b[38;5;28;01mdef\u001b[39;00m \u001b[38;5;21mdrop\u001b[39m(\n\u001b[1;32m   5251\u001b[0m     \u001b[38;5;28mself\u001b[39m,\n\u001b[1;32m   5252\u001b[0m     labels: IndexLabel \u001b[38;5;241m|\u001b[39m \u001b[38;5;28;01mNone\u001b[39;00m \u001b[38;5;241m=\u001b[39m \u001b[38;5;28;01mNone\u001b[39;00m,\n\u001b[0;32m   (...)\u001b[0m\n\u001b[1;32m   5259\u001b[0m     errors: IgnoreRaise \u001b[38;5;241m=\u001b[39m \u001b[38;5;124m\"\u001b[39m\u001b[38;5;124mraise\u001b[39m\u001b[38;5;124m\"\u001b[39m,\n\u001b[1;32m   5260\u001b[0m ) \u001b[38;5;241m-\u001b[39m\u001b[38;5;241m>\u001b[39m Series \u001b[38;5;241m|\u001b[39m \u001b[38;5;28;01mNone\u001b[39;00m:\n\u001b[1;32m   5261\u001b[0m \u001b[38;5;250m    \u001b[39m\u001b[38;5;124;03m\"\"\"\u001b[39;00m\n\u001b[1;32m   5262\u001b[0m \u001b[38;5;124;03m    Return Series with specified index labels removed.\u001b[39;00m\n\u001b[1;32m   5263\u001b[0m \n\u001b[0;32m   (...)\u001b[0m\n\u001b[1;32m   5345\u001b[0m \u001b[38;5;124;03m    dtype: float64\u001b[39;00m\n\u001b[1;32m   5346\u001b[0m \u001b[38;5;124;03m    \"\"\"\u001b[39;00m\n\u001b[0;32m-> 5347\u001b[0m     \u001b[38;5;28;01mreturn\u001b[39;00m \u001b[38;5;28;43msuper\u001b[39;49m\u001b[43m(\u001b[49m\u001b[43m)\u001b[49m\u001b[38;5;241;43m.\u001b[39;49m\u001b[43mdrop\u001b[49m\u001b[43m(\u001b[49m\n\u001b[1;32m   5348\u001b[0m \u001b[43m        \u001b[49m\u001b[43mlabels\u001b[49m\u001b[38;5;241;43m=\u001b[39;49m\u001b[43mlabels\u001b[49m\u001b[43m,\u001b[49m\n\u001b[1;32m   5349\u001b[0m \u001b[43m        \u001b[49m\u001b[43maxis\u001b[49m\u001b[38;5;241;43m=\u001b[39;49m\u001b[43maxis\u001b[49m\u001b[43m,\u001b[49m\n\u001b[1;32m   5350\u001b[0m \u001b[43m        \u001b[49m\u001b[43mindex\u001b[49m\u001b[38;5;241;43m=\u001b[39;49m\u001b[43mindex\u001b[49m\u001b[43m,\u001b[49m\n\u001b[1;32m   5351\u001b[0m \u001b[43m        \u001b[49m\u001b[43mcolumns\u001b[49m\u001b[38;5;241;43m=\u001b[39;49m\u001b[43mcolumns\u001b[49m\u001b[43m,\u001b[49m\n\u001b[1;32m   5352\u001b[0m \u001b[43m        \u001b[49m\u001b[43mlevel\u001b[49m\u001b[38;5;241;43m=\u001b[39;49m\u001b[43mlevel\u001b[49m\u001b[43m,\u001b[49m\n\u001b[1;32m   5353\u001b[0m \u001b[43m        \u001b[49m\u001b[43minplace\u001b[49m\u001b[38;5;241;43m=\u001b[39;49m\u001b[43minplace\u001b[49m\u001b[43m,\u001b[49m\n\u001b[1;32m   5354\u001b[0m \u001b[43m        \u001b[49m\u001b[43merrors\u001b[49m\u001b[38;5;241;43m=\u001b[39;49m\u001b[43merrors\u001b[49m\u001b[43m,\u001b[49m\n\u001b[1;32m   5355\u001b[0m \u001b[43m    \u001b[49m\u001b[43m)\u001b[49m\n",
      "File \u001b[0;32m/usr/lib64/python3.13/site-packages/pandas/core/generic.py:4785\u001b[0m, in \u001b[0;36mNDFrame.drop\u001b[0;34m(self, labels, axis, index, columns, level, inplace, errors)\u001b[0m\n\u001b[1;32m   4783\u001b[0m \u001b[38;5;28;01mfor\u001b[39;00m axis, labels \u001b[38;5;129;01min\u001b[39;00m axes\u001b[38;5;241m.\u001b[39mitems():\n\u001b[1;32m   4784\u001b[0m     \u001b[38;5;28;01mif\u001b[39;00m labels \u001b[38;5;129;01mis\u001b[39;00m \u001b[38;5;129;01mnot\u001b[39;00m \u001b[38;5;28;01mNone\u001b[39;00m:\n\u001b[0;32m-> 4785\u001b[0m         obj \u001b[38;5;241m=\u001b[39m \u001b[43mobj\u001b[49m\u001b[38;5;241;43m.\u001b[39;49m\u001b[43m_drop_axis\u001b[49m\u001b[43m(\u001b[49m\u001b[43mlabels\u001b[49m\u001b[43m,\u001b[49m\u001b[43m \u001b[49m\u001b[43maxis\u001b[49m\u001b[43m,\u001b[49m\u001b[43m \u001b[49m\u001b[43mlevel\u001b[49m\u001b[38;5;241;43m=\u001b[39;49m\u001b[43mlevel\u001b[49m\u001b[43m,\u001b[49m\u001b[43m \u001b[49m\u001b[43merrors\u001b[49m\u001b[38;5;241;43m=\u001b[39;49m\u001b[43merrors\u001b[49m\u001b[43m)\u001b[49m\n\u001b[1;32m   4787\u001b[0m \u001b[38;5;28;01mif\u001b[39;00m inplace:\n\u001b[1;32m   4788\u001b[0m     \u001b[38;5;28mself\u001b[39m\u001b[38;5;241m.\u001b[39m_update_inplace(obj)\n",
      "File \u001b[0;32m/usr/lib64/python3.13/site-packages/pandas/core/generic.py:4827\u001b[0m, in \u001b[0;36mNDFrame._drop_axis\u001b[0;34m(self, labels, axis, level, errors, only_slice)\u001b[0m\n\u001b[1;32m   4825\u001b[0m         new_axis \u001b[38;5;241m=\u001b[39m axis\u001b[38;5;241m.\u001b[39mdrop(labels, level\u001b[38;5;241m=\u001b[39mlevel, errors\u001b[38;5;241m=\u001b[39merrors)\n\u001b[1;32m   4826\u001b[0m     \u001b[38;5;28;01melse\u001b[39;00m:\n\u001b[0;32m-> 4827\u001b[0m         new_axis \u001b[38;5;241m=\u001b[39m \u001b[43maxis\u001b[49m\u001b[38;5;241;43m.\u001b[39;49m\u001b[43mdrop\u001b[49m\u001b[43m(\u001b[49m\u001b[43mlabels\u001b[49m\u001b[43m,\u001b[49m\u001b[43m \u001b[49m\u001b[43merrors\u001b[49m\u001b[38;5;241;43m=\u001b[39;49m\u001b[43merrors\u001b[49m\u001b[43m)\u001b[49m\n\u001b[1;32m   4828\u001b[0m     indexer \u001b[38;5;241m=\u001b[39m axis\u001b[38;5;241m.\u001b[39mget_indexer(new_axis)\n\u001b[1;32m   4830\u001b[0m \u001b[38;5;66;03m# Case for non-unique axis\u001b[39;00m\n\u001b[1;32m   4831\u001b[0m \u001b[38;5;28;01melse\u001b[39;00m:\n",
      "File \u001b[0;32m/usr/lib64/python3.13/site-packages/pandas/core/indexes/base.py:7070\u001b[0m, in \u001b[0;36mIndex.drop\u001b[0;34m(self, labels, errors)\u001b[0m\n\u001b[1;32m   7068\u001b[0m \u001b[38;5;28;01mif\u001b[39;00m mask\u001b[38;5;241m.\u001b[39many():\n\u001b[1;32m   7069\u001b[0m     \u001b[38;5;28;01mif\u001b[39;00m errors \u001b[38;5;241m!=\u001b[39m \u001b[38;5;124m\"\u001b[39m\u001b[38;5;124mignore\u001b[39m\u001b[38;5;124m\"\u001b[39m:\n\u001b[0;32m-> 7070\u001b[0m         \u001b[38;5;28;01mraise\u001b[39;00m \u001b[38;5;167;01mKeyError\u001b[39;00m(\u001b[38;5;124mf\u001b[39m\u001b[38;5;124m\"\u001b[39m\u001b[38;5;132;01m{\u001b[39;00mlabels[mask]\u001b[38;5;241m.\u001b[39mtolist()\u001b[38;5;132;01m}\u001b[39;00m\u001b[38;5;124m not found in axis\u001b[39m\u001b[38;5;124m\"\u001b[39m)\n\u001b[1;32m   7071\u001b[0m     indexer \u001b[38;5;241m=\u001b[39m indexer[\u001b[38;5;241m~\u001b[39mmask]\n\u001b[1;32m   7072\u001b[0m \u001b[38;5;28;01mreturn\u001b[39;00m \u001b[38;5;28mself\u001b[39m\u001b[38;5;241m.\u001b[39mdelete(indexer)\n",
      "\u001b[0;31mKeyError\u001b[0m: \"['b'] not found in axis\""
     ]
    }
   ],
   "source": [
    "v.drop(['b'], inplace=True) # KeyError: \"['b'] not found in axis\""
   ]
  },
  {
   "cell_type": "markdown",
   "metadata": {},
   "source": [
    "#### Tipos de datos\n",
    "\n",
    "Como último comentario, obsérvese que si uno pretende crear una serie con valores de distinto tipo, el tipo de la serie se promueve al tipo general `object`, sin embargo cada elemento es reconocido con su tipo particular:\n"
   ]
  },
  {
   "cell_type": "code",
   "execution_count": 22,
   "metadata": {},
   "outputs": [
    {
     "name": "stdout",
     "output_type": "stream",
     "text": [
      "0    1\n",
      "1    a\n",
      "2    b\n",
      "3    c\n",
      "dtype: object\n",
      "Tipo de objeto del elemento 0: <class 'int'>\n",
      "Tipo de objeto del elemento 1: <class 'str'>\n",
      "Tipo de objeto del elemento 2: <class 'str'>\n",
      "Tipo de objeto del elemento 3: <class 'str'>\n"
     ]
    }
   ],
   "source": [
    "s = pd.Series([1,'a','b','c'])\n",
    "print(s)\n",
    "for index,elem in s.items(): \n",
    "    print(f\"Tipo de objeto del elemento {index}: {type(s[index])}\")"
   ]
  },
  {
   "cell_type": "code",
   "execution_count": 23,
   "metadata": {},
   "outputs": [
    {
     "name": "stdout",
     "output_type": "stream",
     "text": [
      "Suma de enteros: 4\n"
     ]
    },
    {
     "ename": "TypeError",
     "evalue": "can only concatenate str (not \"int\") to str",
     "output_type": "error",
     "traceback": [
      "\u001b[0;31m---------------------------------------------------------------------------\u001b[0m",
      "\u001b[0;31mTypeError\u001b[0m                                 Traceback (most recent call last)",
      "Cell \u001b[0;32mIn[23], line 2\u001b[0m\n\u001b[1;32m      1\u001b[0m \u001b[38;5;28mprint\u001b[39m(\u001b[38;5;124mf\u001b[39m\u001b[38;5;124m\"\u001b[39m\u001b[38;5;124mSuma de enteros: \u001b[39m\u001b[38;5;132;01m{\u001b[39;00ms[\u001b[38;5;241m0\u001b[39m]\u001b[38;5;250m \u001b[39m\u001b[38;5;241m+\u001b[39m\u001b[38;5;250m \u001b[39m\u001b[38;5;241m3\u001b[39m\u001b[38;5;132;01m}\u001b[39;00m\u001b[38;5;124m\"\u001b[39m)\n\u001b[0;32m----> 2\u001b[0m \u001b[38;5;28mprint\u001b[39m(\u001b[38;5;124mf\u001b[39m\u001b[38;5;124m\"\u001b[39m\u001b[38;5;124mSuma de enteros: \u001b[39m\u001b[38;5;132;01m{\u001b[39;00m\u001b[43ms\u001b[49m\u001b[43m[\u001b[49m\u001b[38;5;241;43m1\u001b[39;49m\u001b[43m]\u001b[49m\u001b[38;5;250;43m \u001b[39;49m\u001b[38;5;241;43m+\u001b[39;49m\u001b[38;5;250;43m \u001b[39;49m\u001b[38;5;241;43m3\u001b[39;49m\u001b[38;5;132;01m}\u001b[39;00m\u001b[38;5;124m\"\u001b[39m) \u001b[38;5;66;03m# Error\u001b[39;00m\n",
      "\u001b[0;31mTypeError\u001b[0m: can only concatenate str (not \"int\") to str"
     ]
    }
   ],
   "source": [
    "print(f\"Suma de enteros: {s[0] + 3}\")\n",
    "print(f\"Suma de enteros: {s[1] + 3}\") # Error"
   ]
  },
  {
   "cell_type": "code",
   "execution_count": 24,
   "metadata": {},
   "outputs": [
    {
     "name": "stdout",
     "output_type": "stream",
     "text": [
      "Concat de str  : ad\n"
     ]
    },
    {
     "ename": "TypeError",
     "evalue": "can only concatenate str (not \"int\") to str",
     "output_type": "error",
     "traceback": [
      "\u001b[0;31m---------------------------------------------------------------------------\u001b[0m",
      "\u001b[0;31mTypeError\u001b[0m                                 Traceback (most recent call last)",
      "Cell \u001b[0;32mIn[24], line 2\u001b[0m\n\u001b[1;32m      1\u001b[0m \u001b[38;5;28mprint\u001b[39m(\u001b[38;5;124mf\u001b[39m\u001b[38;5;124m\"\u001b[39m\u001b[38;5;124mConcat de str  : \u001b[39m\u001b[38;5;132;01m{\u001b[39;00ms[\u001b[38;5;241m1\u001b[39m]\u001b[38;5;250m \u001b[39m\u001b[38;5;241m+\u001b[39m\u001b[38;5;250m \u001b[39m\u001b[38;5;124m'\u001b[39m\u001b[38;5;124md\u001b[39m\u001b[38;5;124m'\u001b[39m\u001b[38;5;132;01m}\u001b[39;00m\u001b[38;5;124m\"\u001b[39m)\n\u001b[0;32m----> 2\u001b[0m \u001b[38;5;28mprint\u001b[39m(\u001b[38;5;124mf\u001b[39m\u001b[38;5;124m\"\u001b[39m\u001b[38;5;124mConcat de str  : \u001b[39m\u001b[38;5;132;01m{\u001b[39;00m\u001b[43ms\u001b[49m\u001b[43m[\u001b[49m\u001b[38;5;241;43m1\u001b[39;49m\u001b[43m]\u001b[49m\u001b[38;5;250;43m \u001b[39;49m\u001b[38;5;241;43m+\u001b[39;49m\u001b[38;5;250;43m \u001b[39;49m\u001b[38;5;241;43m3\u001b[39;49m\u001b[38;5;132;01m}\u001b[39;00m\u001b[38;5;124m\"\u001b[39m) \u001b[38;5;66;03m# Error\u001b[39;00m\n",
      "\u001b[0;31mTypeError\u001b[0m: can only concatenate str (not \"int\") to str"
     ]
    }
   ],
   "source": [
    "print(f\"Concat de str  : {s[1] + 'd'}\")\n",
    "print(f\"Concat de str  : {s[1] + 3}\") # Error"
   ]
  },
  {
   "cell_type": "markdown",
   "metadata": {},
   "source": [
    "Si bien entonces se pueden usar series con objetos con distintos tipos, se recomienda que el tipo de dato sea homogéneo."
   ]
  },
  {
   "cell_type": "markdown",
   "metadata": {},
   "source": [
    "### Valores que faltan\n",
    "\n",
    "Es muy común al procesar datos que uno encuentre valores que no existen. La manera en que `pandas` representa estos datos faltantes es a través de `np.nan`, el tipo de dato de `numpy` que representa _not a number_, para aquellos tipos de datos heredados de `numpy`:"
   ]
  },
  {
   "cell_type": "code",
   "execution_count": 26,
   "metadata": {},
   "outputs": [
    {
     "name": "stdout",
     "output_type": "stream",
     "text": [
      "0    1.0\n",
      "1    4.0\n",
      "2    NaN\n",
      "3    2.0\n",
      "dtype: float64\n"
     ]
    }
   ],
   "source": [
    "snan = pd.Series([1,4,np.nan,2])\n",
    "print(snan)"
   ]
  },
  {
   "cell_type": "markdown",
   "metadata": {},
   "source": [
    "> Notar que si bien los datos existentes son de tipo entero, al utilizar `np.nan` para representar un dato inexistente, el tipo de dato de la serie se promueve a `float64`.\n",
    "\n",
    "De la misma forma, se puede usar `None` para representar el dato faltante:"
   ]
  },
  {
   "cell_type": "code",
   "execution_count": 27,
   "metadata": {},
   "outputs": [
    {
     "name": "stdout",
     "output_type": "stream",
     "text": [
      "0    1.0\n",
      "1    4.0\n",
      "2    NaN\n",
      "3    5.0\n",
      "dtype: float64\n"
     ]
    }
   ],
   "source": [
    "snone = pd.Series([1,4,None,5])\n",
    "print(snone)"
   ]
  },
  {
   "cell_type": "markdown",
   "metadata": {},
   "source": [
    "En el caso de cadenas de caracteres, se puede usar `np.nan` o `None`. Si no se indica el tipo de dato a través de `dtype`, se promueve el tipo de dato de la serie a `object`, como sucede por defecto."
   ]
  },
  {
   "cell_type": "code",
   "execution_count": 28,
   "metadata": {},
   "outputs": [
    {
     "data": {
      "text/plain": [
       "0       a\n",
       "1       b\n",
       "2     NaN\n",
       "3    None\n",
       "4       d\n",
       "dtype: object"
      ]
     },
     "execution_count": 28,
     "metadata": {},
     "output_type": "execute_result"
    }
   ],
   "source": [
    "smixed_str = pd.Series(['a','b',np.nan,None,'d'])\n",
    "smixed_str"
   ]
  },
  {
   "cell_type": "markdown",
   "metadata": {},
   "source": [
    "Esto tiene el inconveniente evidente de que el elemento faltante no está representado unívocamente por un solo valor. Para solventar este problema, se puede crear la serie con el tipo `string`:"
   ]
  },
  {
   "cell_type": "code",
   "execution_count": 29,
   "metadata": {},
   "outputs": [
    {
     "name": "stdout",
     "output_type": "stream",
     "text": [
      "0       a\n",
      "1       b\n",
      "2    <NA>\n",
      "3    <NA>\n",
      "4       d\n",
      "dtype: string\n"
     ]
    }
   ],
   "source": [
    "smixed_str2 = pd.Series(['a','b',np.nan,None,'d'],dtype='string')\n",
    "print(smixed_str2)"
   ]
  },
  {
   "cell_type": "markdown",
   "metadata": {},
   "source": [
    "En este caso, el singlete `NA` representa unívocamente el dato faltante. En cualquier caso, se cuenta con el método `.isna`, que retorna una serie de `boolean` donde los valores faltantes son verdaderos (`True`):"
   ]
  },
  {
   "cell_type": "code",
   "execution_count": 30,
   "metadata": {},
   "outputs": [
    {
     "name": "stdout",
     "output_type": "stream",
     "text": [
      "0    False\n",
      "1    False\n",
      "2     True\n",
      "3     True\n",
      "4    False\n",
      "dtype: bool\n",
      "0    False\n",
      "1    False\n",
      "2     True\n",
      "3     True\n",
      "4    False\n",
      "dtype: bool\n"
     ]
    }
   ],
   "source": [
    "print(smixed_str.isna())\n",
    "print(smixed_str2.isna())"
   ]
  },
  {
   "cell_type": "markdown",
   "metadata": {},
   "source": [
    "> Atención, la cadena de caracteres vacía `''` *NO* se considera un dato inexistente. \n",
    "\n",
    "Puede ser útil en algunos casos poder filtrar los datos inexistentes. Para eso se utiliza el método `.dropna`, que crea una nueva serie sin dichos datos: "
   ]
  },
  {
   "cell_type": "code",
   "execution_count": 31,
   "metadata": {},
   "outputs": [
    {
     "name": "stdout",
     "output_type": "stream",
     "text": [
      "0       a\n",
      "1       b\n",
      "2     NaN\n",
      "3    None\n",
      "4       d\n",
      "dtype: object\n",
      "0    a\n",
      "1    b\n",
      "4    d\n",
      "dtype: object\n"
     ]
    }
   ],
   "source": [
    "print(smixed_str)\n",
    "print(smixed_str.dropna())"
   ]
  },
  {
   "cell_type": "markdown",
   "metadata": {},
   "source": [
    "### Operando con series\n",
    "\n",
    "Las operaciones con series han sido diseñadas para que sean compatibles con NumPy, y sigan las convenciones de Python. He aquí algunos ejemplos:"
   ]
  },
  {
   "cell_type": "code",
   "execution_count": 32,
   "metadata": {},
   "outputs": [
    {
     "name": "stdout",
     "output_type": "stream",
     "text": [
      "0    0.5\n",
      "1    0.5\n",
      "2    0.5\n",
      "3    0.5\n",
      "4    0.5\n",
      "5    0.5\n",
      "6    0.5\n",
      "7    0.5\n",
      "dtype: float64\n",
      "0    0.855919\n",
      "1    0.316680\n",
      "2    0.188950\n",
      "3    0.535831\n",
      "4    0.767803\n",
      "5    0.836171\n",
      "6    0.225345\n",
      "7    0.559054\n",
      "dtype: float64\n",
      "0.5357193052760575\n"
     ]
    }
   ],
   "source": [
    "ones = pd.Series(np.ones(8))*0.5\n",
    "print(ones)\n",
    "\n",
    "t = pd.Series(np.random.rand(8))\n",
    "print(t)\n",
    "print(t.mean())"
   ]
  },
  {
   "cell_type": "code",
   "execution_count": 33,
   "metadata": {},
   "outputs": [
    {
     "name": "stdout",
     "output_type": "stream",
     "text": [
      "0    0.355919\n",
      "1   -0.183320\n",
      "2   -0.311050\n",
      "3    0.035831\n",
      "4    0.267803\n",
      "5    0.336171\n",
      "6   -0.274655\n",
      "7    0.059054\n",
      "dtype: float64\n",
      "0.0357193052760575\n",
      "0    0.355919\n",
      "1    0.183320\n",
      "2    0.311050\n",
      "3    0.035831\n",
      "4    0.267803\n",
      "5    0.336171\n",
      "6    0.274655\n",
      "7    0.059054\n",
      "dtype: float64\n"
     ]
    }
   ],
   "source": [
    "shifted = t - ones \n",
    "print(shifted)\n",
    "print(shifted.mean())\n",
    "print(np.abs(shifted))"
   ]
  },
  {
   "cell_type": "markdown",
   "metadata": {},
   "source": [
    "Además de poder interactuar con NumPy en forma transparente, existen algunos métodos útiles para trabajar con los datos de una serie:"
   ]
  },
  {
   "cell_type": "code",
   "execution_count": 34,
   "metadata": {},
   "outputs": [
    {
     "name": "stdout",
     "output_type": "stream",
     "text": [
      "Person Series:\n",
      "\n",
      "Pedro     19\n",
      "Oscar     30\n",
      "Carlos    27\n",
      "David     26\n",
      "dtype: int64\n",
      "Edad promedio: 25.5\n",
      "Edad del más viejo : 30\n",
      "El más viejo : Oscar\n"
     ]
    }
   ],
   "source": [
    "data = {'Pedro':19, 'Oscar': 30, 'Carlos': 27, 'David': 26}\n",
    "seru = pd.Series(data)\n",
    "print(\"Person Series:\\n\")\n",
    "print(seru)\n",
    "\n",
    "# Perform operations on the Series\n",
    "print(\"Edad promedio:\", seru.mean())\n",
    "print(\"Edad del más viejo :\", seru.max())\n",
    "print(\"El más viejo :\", seru.idxmax())"
   ]
  },
  {
   "cell_type": "code",
   "execution_count": 35,
   "metadata": {},
   "outputs": [
    {
     "name": "stdout",
     "output_type": "stream",
     "text": [
      "Buenos Aires    17.6\n",
      "Córdoba         18.0\n",
      "Rosario         18.0\n",
      "Mendoza         16.0\n",
      "Santa Fe        21.3\n",
      "dtype: float64\n"
     ]
    }
   ],
   "source": [
    "temperaturas_ciudades = {\n",
    "    \"Buenos Aires\": 17.6,\n",
    "    \"Córdoba\": 18.0,\n",
    "    \"Rosario\": 18.0,\n",
    "    \"Mendoza\": 16.0,\n",
    "    \"Santa Fe\": 21.3\n",
    "\n",
    "}\n",
    "temp = pd.Series(temperaturas_ciudades)\n",
    "print(temp)"
   ]
  },
  {
   "cell_type": "code",
   "execution_count": 36,
   "metadata": {},
   "outputs": [
    {
     "name": "stdout",
     "output_type": "stream",
     "text": [
      "Buenos Aires    17.6\n",
      "Córdoba         18.0\n",
      "Rosario         18.0\n",
      "Mendoza         16.0\n",
      "Salta            NaN\n",
      "dtype: float64\n"
     ]
    }
   ],
   "source": [
    "otras_ciudades = ['Buenos Aires', 'Córdoba', 'Rosario', 'Mendoza', 'Salta']\n",
    "temp = pd.Series(temperaturas_ciudades, index=otras_ciudades)\n",
    "print(temp)"
   ]
  },
  {
   "cell_type": "code",
   "execution_count": 37,
   "metadata": {},
   "outputs": [
    {
     "data": {
      "text/plain": [
       "Mendoza     20.0\n",
       "Salta       17.2\n",
       "Santa Fe    18.6\n",
       "San Juan    19.3\n",
       "dtype: float64"
      ]
     },
     "execution_count": 37,
     "metadata": {},
     "output_type": "execute_result"
    }
   ],
   "source": [
    "temp_ciudades2 = {\n",
    "    \"Mendoza\": 20.0,\n",
    "    \"Salta\": 17.2,\n",
    "    \"Santa Fe\": 18.6,\n",
    "    \"San Juan\": 19.3\n",
    "}\n",
    "temp2 = pd.Series(temp_ciudades2)\n",
    "temp2"
   ]
  },
  {
   "cell_type": "code",
   "execution_count": 38,
   "metadata": {},
   "outputs": [
    {
     "name": "stdout",
     "output_type": "stream",
     "text": [
      "Buenos Aires    17.6\n",
      "Córdoba         18.0\n",
      "Rosario         18.0\n",
      "Mendoza         16.0\n",
      "Salta            NaN\n",
      "dtype: float64\n"
     ]
    }
   ],
   "source": [
    "print(temp)"
   ]
  },
  {
   "cell_type": "code",
   "execution_count": 39,
   "metadata": {},
   "outputs": [
    {
     "name": "stdout",
     "output_type": "stream",
     "text": [
      "Buenos Aires     NaN\n",
      "Córdoba          NaN\n",
      "Mendoza         18.0\n",
      "Rosario          NaN\n",
      "Salta            NaN\n",
      "San Juan         NaN\n",
      "Santa Fe         NaN\n",
      "dtype: float64\n"
     ]
    }
   ],
   "source": [
    "print((temp + temp2)/2)"
   ]
  },
  {
   "cell_type": "markdown",
   "metadata": {},
   "source": [
    "### Misceláneas\n",
    "\n",
    "Algunas otras operaciones interesantes:"
   ]
  },
  {
   "cell_type": "code",
   "execution_count": 40,
   "metadata": {},
   "outputs": [
    {
     "data": {
      "text/plain": [
       "False"
      ]
     },
     "execution_count": 40,
     "metadata": {},
     "output_type": "execute_result"
    }
   ],
   "source": [
    "'Rosario' in temp2"
   ]
  },
  {
   "cell_type": "code",
   "execution_count": 41,
   "metadata": {},
   "outputs": [
    {
     "name": "stdout",
     "output_type": "stream",
     "text": [
      "{'Mendoza': 20.0, 'Salta': 17.2, 'Santa Fe': 18.6, 'San Juan': 19.3}\n",
      "<class 'dict'>\n"
     ]
    }
   ],
   "source": [
    "temp2_dict = temp2.to_dict()\n",
    "print(temp2_dict)\n",
    "print(type(temp2_dict))"
   ]
  },
  {
   "cell_type": "code",
   "execution_count": 42,
   "metadata": {},
   "outputs": [
    {
     "name": "stdout",
     "output_type": "stream",
     "text": [
      "{\"Mendoza\":20.0,\"Salta\":17.2,\"Santa Fe\":18.6,\"San Juan\":19.3}\n",
      "<class 'str'>\n"
     ]
    }
   ],
   "source": [
    "temp2_json = temp2.to_json() \n",
    "print(temp2_json)\n",
    "print(type(temp2_json))"
   ]
  },
  {
   "cell_type": "markdown",
   "metadata": {},
   "source": [
    "----\n",
    "\n",
    "# Ejercicios 14(b)\n",
    "\n",
    "2. Si no lo ha adivinado, los datos de la serie `seru` corresponden a las edades de los integrantes de la banda Serú Girán, al momento de conformarse, en el año 1978. Encuentre los años de nacimiento de cada uno de sus integrantes. \n",
    "\n",
    "2. Una de las funciones más usadas en redes neuronales es _softmax_, cuyo objetivo es convertir los resultados de las distintas etapas del procesamiento de una red en probabilidades. Los primeros pueden ser números reales de cualquier valor, mientras que las probabilidades deben estar acotadas al intervalo [0,1]. La función _softmax_ aplicada a un conjunto de valores $z_1,\\cdots,z_n$ se calcula como\n",
    "\n",
    "   $$\n",
    "   \\sigma(z_i) = \\frac {e^{z_i}} { \\sum_{i=1}^n e^{z_i}}\n",
    "   $$\n",
    "\n",
    "   - Cree una serie con 10 valores al azar entre 0 y 5\n",
    "   - Obtenga la serie resultante de la aplicación de _softmax_ a la serie anterior\n",
    "\n",
    "4. El siguiente es un diccionario que representa el consumo eléctrico mensual de ciertos artefactos eléctricos:\n",
    "\n",
    "   ```python\n",
    "   consumo_electrico = {\n",
    "     \"Artefacto\": [\n",
    "        \"Heladera\", \"Lavarropa\", \"Microondas\", \"Aire Acondicionado\", \n",
    "        \"Televisor\", \"Computadora\", \"Lámpara LED\", \"Secador de Pelo\", \n",
    "        \"Horno Eléctrico\", \"Ventilador\"\n",
    "     ],\n",
    "     \"Consumo Promedio (kWh/mes)\": [\n",
    "        30, 10, 15, 120, 20, 12, 2, 3, 25, 8\n",
    "     ]\n",
    "   }\n",
    "   ```\n",
    "\n",
    "   - Obtenga los tres artefactos de mayor consumo.\n",
    "   - Encuentre los artefactos que consumen más de 15 kWH/mes.\n",
    "   - Calcule el consumo anual de cada artefacto, y el costo que implica suponiendo que el precio del kWH/mes es de $3145. \n",
    "\n",
    "4. Un problema de índices enteros. Supongamos que tenemos la serie\n",
    "   ```python\n",
    "   s = pd.Series(np.arange(3.0))\n",
    "   ``` \n",
    "   es decir, \n",
    "   ```python\n",
    "    0    0.0\n",
    "    1    1.0\n",
    "    2    2.0\n",
    "    dtype: float64\n",
    "   ```\n",
    "   ¿Cuál es el resultado esperado de s[-1]? ¿Cuál es el real? Evalúe `s[-2:-1]` y también `s.iloc[-1]`. \n",
    "   Considere ahora la serie\n",
    "   ```python\n",
    "   s = pd.Series(np.arange(3.0), index=['a','b','c'])\n",
    "   ``` \n",
    "   y evalúe nuevamente `s[-1]`. \n",
    "   ¿Qué conclusiones puede sacar? \n",
    "\n",
    "_____\n"
   ]
  }
 ],
 "metadata": {
  "kernelspec": {
   "display_name": "Python 3 (ipykernel)",
   "language": "python",
   "name": "python3"
  },
  "language_info": {
   "codemirror_mode": {
    "name": "ipython",
    "version": 3
   },
   "file_extension": ".py",
   "mimetype": "text/x-python",
   "name": "python",
   "nbconvert_exporter": "python",
   "pygments_lexer": "ipython3",
   "version": "3.13.2"
  }
 },
 "nbformat": 4,
 "nbformat_minor": 4
}
