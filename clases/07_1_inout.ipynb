{
 "cells": [
  {
   "cell_type": "markdown",
   "id": "4f762aa1-932f-4d2f-b434-a4a39af9b579",
   "metadata": {},
   "source": [
    "# Persistencia de datos y módulos de biblioteca standard"
   ]
  },
  {
   "cell_type": "markdown",
   "id": "ea8a79b8-d10d-4942-b3a4-4bf8edbf624a",
   "metadata": {},
   "source": [
    "\n",
    "## Escritura y lectura a archivos\n",
    "\n",
    "Nuestros programas necesitan interactuar con el mundo exterior. Hasta ahora utilizamos la función `print()` para imprimir por pantalla mensajes y resultados. Para leer o escribir un archivo primero debemos abrirlo, utilizando la función `open()`"
   ]
  },
  {
   "cell_type": "code",
   "execution_count": null,
   "id": "7578bfe0-fb65-4523-acd5-bb99f0572e31",
   "metadata": {},
   "outputs": [],
   "source": [
    "f = open('data/names.txt')      # Abrimos el archivo (para leer)"
   ]
  },
  {
   "cell_type": "code",
   "execution_count": null,
   "id": "9ecb6d90-904e-4717-8b25-76eb2016330e",
   "metadata": {},
   "outputs": [],
   "source": [
    "f"
   ]
  },
  {
   "cell_type": "code",
   "execution_count": null,
   "id": "9684fd80-98da-4d7e-ab18-9527ccc6638d",
   "metadata": {},
   "outputs": [],
   "source": [
    "s = f.read()                    # Leemos el archivo"
   ]
  },
  {
   "cell_type": "code",
   "execution_count": null,
   "id": "9a7d0936-4377-4012-8134-4f74bdb6c168",
   "metadata": {},
   "outputs": [],
   "source": [
    "f.close()                       # Cerramos el archivo"
   ]
  },
  {
   "cell_type": "code",
   "execution_count": null,
   "id": "7db13466-db62-4d98-9913-750ca337bff4",
   "metadata": {},
   "outputs": [],
   "source": [
    "print(s[:100])"
   ]
  },
  {
   "cell_type": "markdown",
   "id": "d8acadfa-c232-4e95-94cf-e849383c3356",
   "metadata": {},
   "source": [
    "Esta secuencia básica de trabajo en adecuada y muy común en el trabajo con archivos. Sin embargo, hay un potencial problema, que ocurrirá si hay algún error entre la apertura y el cierre del archivo. Para ello existe una sintaxis alternativa"
   ]
  },
  {
   "cell_type": "code",
   "execution_count": null,
   "id": "b1541468-1ee7-46f1-8924-06a603800463",
   "metadata": {},
   "outputs": [],
   "source": [
    "with open('data/names.txt') as fi:\n",
    "  s = fi.read()\n",
    "print(s[:50])"
   ]
  },
  {
   "cell_type": "code",
   "execution_count": null,
   "id": "e2dcce46-06c4-40e5-8009-0184d7f2cc67",
   "metadata": {},
   "outputs": [],
   "source": [
    "# fi todavía existe pero está cerrado\n",
    "fi"
   ]
  },
  {
   "cell_type": "code",
   "execution_count": null,
   "id": "7fec37df-f7d4-4b49-90f6-3aa42c85e5a0",
   "metadata": {},
   "outputs": [],
   "source": [
    "type(fi)"
   ]
  },
  {
   "cell_type": "markdown",
   "id": "f4799551-15e6-415f-9539-a5fc6fb21c37",
   "metadata": {},
   "source": [
    "La palabra `with` es una palabra reservada del lenguaje y la construcción se conoce como *contexto*. Básicamente dice que todo lo que está dentro del bloque se realizará en el contexto en que `f` es el objeto de archivo abierto para lectura."
   ]
  },
  {
   "cell_type": "markdown",
   "id": "1f06dcfe-c7c8-4ceb-801f-35b8a3b89a2a",
   "metadata": {},
   "source": [
    "### Ejemplos\n",
    "\n",
    "Vamos a repasar algunos de los conceptos discutidos las clases anteriores e introducir algunas nuevas funcionalidades con ejemplos\n",
    "\n",
    "#### Ejemplo 05-1\n"
   ]
  },
  {
   "cell_type": "code",
   "execution_count": null,
   "id": "605d04d0-8864-4e6d-a4af-48056c374301",
   "metadata": {},
   "outputs": [],
   "source": [
    "fname = 'data/names.txt'\n",
    "n = 0                           # contador\n",
    "minlen = 3                      # longitud mínima\n",
    "maxlen = 4                      # longitud máxima\n",
    "\n",
    "with open(fname, 'r') as fi:\n",
    "  lines = fi.readlines()        # El resultado es una lista\n",
    "\n",
    "print(type(lines))\n",
    "print(len(lines))"
   ]
  },
  {
   "cell_type": "code",
   "execution_count": null,
   "id": "dc143908-8829-4c5c-be01-3dde3d3ccc74",
   "metadata": {},
   "outputs": [],
   "source": [
    "lines[:3]"
   ]
  },
  {
   "cell_type": "code",
   "execution_count": null,
   "id": "78df1e02-7175-4c08-9b12-e998445965a8",
   "metadata": {},
   "outputs": [],
   "source": [
    "fname = 'data/names.txt'\n",
    "n = 0                           # contador\n",
    "minlen = 3                      # longitud mínima\n",
    "maxlen = 4                      # longitud máxima\n",
    "\n",
    "with open(fname, 'r') as fi:\n",
    "  lines = fi.readlines()        # El resultado es una lista\n",
    "\n",
    "for line in lines:\n",
    "  if minlen <= len(line.strip()) <= maxlen:\n",
    "    n += 1\n",
    "    print(line.strip(), end=', ')  # No Newline\n",
    "\n",
    "print('\\n')\n",
    "if minlen == maxlen:\n",
    "  mensaje = f\"Encontramos {n} palabras que tienen {minlen} letras\"\n",
    "else:\n",
    "  mensaje = f\"Encontramos {n} palabras que tienen entre {minlen} y {maxlen} letras\"\n",
    "\n",
    "print(mensaje)\n"
   ]
  },
  {
   "cell_type": "markdown",
   "id": "d71534fe-8972-48fd-b3a1-edb8859cd544",
   "metadata": {},
   "source": [
    "Hemos utilizado aquí:\n",
    "\n",
    "* Apertura, lectura, y cerrado de archivos \n",
    "* Iteración en un loop `for`\n",
    "* Bloques condicionales (if/else)\n",
    "* Formato de cadenas de caracteres con reemplazo\n",
    "* Impresión por pantalla\n",
    "\n",
    " La apertura de archivos se realiza utilizando la función `open` (este es un buen momento para mirar su documentación) con dos argumentos: el primero es el nombre del archivo y el segundo el modo en que queremos abrirlo (en este caso la `r` indica lectura).\n",
    "\n",
    "Con el archivo abierto, en la línea 9 leemos línea por línea todo el archivo. El resultado es una lista, donde cada elemento es una línea.\n",
    "\n",
    "Recorremos la lista, y en cada elemento comparamos la longitud de la línea con ciertos valores. Imprimimos las líneas seleccionadas\n",
    "\n",
    "Finalmente, escribimos el número total de líneas.\n",
    "\n",
    "Veamos una leve modificación de este programa\n",
    "\n",
    "#### Ejemplo 05-2"
   ]
  },
  {
   "cell_type": "code",
   "execution_count": null,
   "id": "0c2e7e89-8014-44d0-9b04-d7b26b8bbe27",
   "metadata": {},
   "outputs": [],
   "source": [
    "\"\"\"Programa para contar e imprimir las palabras de una longitud dada\"\"\"\n",
    "\n",
    "fname = 'data/names.txt'\n",
    "\n",
    "n = 0                           # contador\n",
    "minlen = 3                      # longitud mínima\n",
    "maxlen = 4                      # longitud máxima\n",
    "\n",
    "with open(fname, 'r') as fi:\n",
    "  for line in fi:\n",
    "    p = line.strip().lower()\n",
    "    if (minlen <= len(p) <= maxlen) and (p == p[::-1]):\n",
    "      n += 1\n",
    "      print(f\"({n:02d}): {p}\", end=', ')  # Vamos numerando las coincidencias\n",
    "print('\\n')\n",
    "if minlen == maxlen:\n",
    "  mensaje = f\"Encontramos un total de {n} palabras capicúa que tienen {minlen} letras\"\n",
    "else:\n",
    "  mensaje = f\"Encontramos un total de {n} palabras capicúa que tienen entre {minlen} y {maxlen} letras\"\n",
    "\n",
    "print(mensaje)\n"
   ]
  },
  {
   "cell_type": "markdown",
   "id": "c4601929-64dd-42a3-a0b3-00ba028b2238",
   "metadata": {},
   "source": [
    "Aquí en lugar de leer todas las líneas e iterar sobre las líneas resultantes, iteramos directamente sobre el archivo abierto.\n",
    "\n",
    "Además incluimos un string al principio del archivo, que servirá de documentación, y puede accederse mediante los mecanismos usuales de ayuda de Python.\n",
    "\n",
    "Imprimimos el número de palabra junto con la palabra, usamos `02d`, indicando que es un entero (`d`), que queremos que el campo sea de un mínimo número de caracteres de ancho (en este caso 2). Al escribirlo como `02` le pedimos que complete los vacíos con ceros.\n",
    "\n"
   ]
  },
  {
   "cell_type": "code",
   "execution_count": null,
   "id": "2daace28-40e5-4153-acc6-c0d712c0472e",
   "metadata": {},
   "outputs": [],
   "source": [
    "\"\"\"Programa para contar e imprimir las palabras de una longitud dada\"\"\"\n",
    "\n",
    "fname = 'data/names.txt'\n",
    "\n",
    "n = 0                           # contador\n",
    "minlen = 3                      # longitud mínima\n",
    "maxlen = 4                      # longitud máxima\n",
    "L = []\n",
    "with  open(fname, 'r') as fi:\n",
    "  for line in fi:\n",
    "    p = line.strip().lower()\n",
    "    if (minlen <= len(p) <= maxlen) and (p == p[::-1]):\n",
    "      n += 1\n",
    "      #ss += f\"\\n{p}\"  # ss += \"\\n\" + p\n",
    "      L.append(p)  # L += [p]\n",
    "ss = \" \".join(L)\n",
    "if minlen == maxlen:\n",
    "  mensaje = f\"Encontramos un total de {n} palabras capicúa que tienen {minlen} letras\"\n",
    "else:\n",
    "  mensaje = f\"Encontramos un total de {n} palabras capicúa que tienen entre {minlen} y {maxlen} letras\"\n",
    "\n",
    "print(mensaje)\n",
    "\n",
    "with open('data/tmp.txt','w') as fo:\n",
    "    fo.write(ss)\n"
   ]
  },
  {
   "cell_type": "markdown",
   "id": "b7dab58c-a392-4473-93ab-fe220647728c",
   "metadata": {},
   "source": [
    "## Módulo Pathlib\n",
    "\n",
    "En la versión de Python 3.4 se agregó un módulo con definiciones de clases para representar *paths* y archivos, con representaciones para los distintos *filesystems*.\n"
   ]
  },
  {
   "cell_type": "code",
   "execution_count": null,
   "id": "5b701f89-44be-4bd8-940b-c11f92ae44b9",
   "metadata": {},
   "outputs": [],
   "source": [
    "from pathlib import Path\n",
    "home = Path().home()\n",
    "here = Path(\".\")\n",
    "print(home)\n",
    "print(here)"
   ]
  },
  {
   "cell_type": "code",
   "execution_count": null,
   "id": "8bc1fb2e-ff53-42c3-b92f-e64a618fcab2",
   "metadata": {},
   "outputs": [],
   "source": [
    "parent = here / \"..\""
   ]
  },
  {
   "cell_type": "code",
   "execution_count": null,
   "id": "ba9d60c4-8dca-4311-83b1-a4a39b3092e4",
   "metadata": {},
   "outputs": [],
   "source": [
    "print(parent)"
   ]
  },
  {
   "cell_type": "code",
   "execution_count": null,
   "id": "7560e8f3-0ad1-4e4d-87d2-f15c1f238453",
   "metadata": {},
   "outputs": [],
   "source": [
    "type(parent)"
   ]
  },
  {
   "cell_type": "code",
   "execution_count": null,
   "id": "21f1ad57-8507-456b-a999-74c54d2cb5ae",
   "metadata": {},
   "outputs": [],
   "source": [
    "print(parent.resolve())"
   ]
  },
  {
   "cell_type": "markdown",
   "id": "ce5876bc-e44b-4cc9-aac7-7296e0c13360",
   "metadata": {},
   "source": [
    "### Métodos y propiedades"
   ]
  },
  {
   "cell_type": "markdown",
   "id": "a1b468ec-a396-4c39-89e4-3caf60cc54ff",
   "metadata": {},
   "source": [
    "El ejemplo anterior usa el método `resolve()` del objeto `Path()`. Veamos algunos otros:"
   ]
  },
  {
   "cell_type": "code",
   "execution_count": null,
   "id": "22b0e47a-ea35-4816-ac97-01bcf235af59",
   "metadata": {},
   "outputs": [],
   "source": [
    "# here y parent son ahora path completos\n",
    "here = here.resolve()           \n",
    "parent = parent.resolve()"
   ]
  },
  {
   "cell_type": "code",
   "execution_count": null,
   "id": "ddbba879-4802-4e71-8827-f508241adf74",
   "metadata": {},
   "outputs": [],
   "source": [
    "here"
   ]
  },
  {
   "cell_type": "code",
   "execution_count": null,
   "id": "81b53825-dfc7-4444-8b92-fffb9ae6389c",
   "metadata": {},
   "outputs": [],
   "source": [
    "parent"
   ]
  },
  {
   "cell_type": "code",
   "execution_count": null,
   "id": "6bc501fb-5e43-49ea-b4cf-ab8478cf79ab",
   "metadata": {},
   "outputs": [],
   "source": [
    "here.parent  # Propiedad"
   ]
  },
  {
   "cell_type": "markdown",
   "id": "8f0930d2-19de-4ce6-b3b5-2b2a2f6078c8",
   "metadata": {},
   "source": [
    "### Partes del *path*"
   ]
  },
  {
   "cell_type": "code",
   "execution_count": null,
   "id": "5abe314c-1310-4f09-a917-47dfe7e032a0",
   "metadata": {},
   "outputs": [],
   "source": [
    "here.parts"
   ]
  },
  {
   "cell_type": "markdown",
   "id": "b416c05f-aa94-4f83-9ba6-4c6ec10f8666",
   "metadata": {},
   "source": [
    "Podemos acceder a todas las carpetas que contienen el *path* actual simplemente iterando"
   ]
  },
  {
   "cell_type": "code",
   "execution_count": null,
   "id": "b39902c7-fd55-4a96-9660-c5d232b8f5f8",
   "metadata": {},
   "outputs": [],
   "source": [
    "for up in here.parents:\n",
    "    print(up)"
   ]
  },
  {
   "cell_type": "code",
   "execution_count": null,
   "id": "2488dc58-097d-4141-9493-f69a43b18321",
   "metadata": {},
   "outputs": [],
   "source": [
    "p = here / \"05_1_inout.ipynb\"\n",
    "print(f'pathname : {p}')\n",
    "print(f'path     : {p.parent}')\n",
    "print(f'name     : {p.name}')\n",
    "print(f'stem     : {p.stem}')\n",
    "print(f'suffix   : {p.suffix}')"
   ]
  },
  {
   "cell_type": "markdown",
   "id": "352da0e1-768b-466f-877a-d74722f4022b",
   "metadata": {},
   "source": [
    "### Contenido de directorios"
   ]
  },
  {
   "cell_type": "code",
   "execution_count": null,
   "id": "52cac21f-bb13-4986-beb6-1239e8ebcd1c",
   "metadata": {},
   "outputs": [],
   "source": [
    "print(here)"
   ]
  },
  {
   "cell_type": "code",
   "execution_count": null,
   "id": "e795909c-17a1-43da-b450-ea9ce7a16cc8",
   "metadata": {},
   "outputs": [],
   "source": [
    "for f in here.iterdir():\n",
    "    print(f)"
   ]
  },
  {
   "cell_type": "code",
   "execution_count": null,
   "id": "f0e24c06-be5d-449d-b70a-5933b24ff85b",
   "metadata": {},
   "outputs": [],
   "source": [
    "for f in here.glob('*.ipynb'):\n",
    "    print(f)"
   ]
  },
  {
   "cell_type": "markdown",
   "id": "9fd35519-0dda-4029-bc45-f80b9a92546d",
   "metadata": {},
   "source": [
    "El objeto tiene un iterador que nos permite recorrer todo el directorio. Por ejemplo si queremos listar todos los subdirectorios:"
   ]
  },
  {
   "cell_type": "code",
   "execution_count": null,
   "id": "43412283-67e3-4e12-9ef0-d2076630f91c",
   "metadata": {},
   "outputs": [],
   "source": [
    "[x for x in direct.iterdir() if x.is_dir()]"
   ]
  },
  {
   "cell_type": "markdown",
   "id": "18821145-9d37-42cf-8adf-a4f10eeabe0f",
   "metadata": {},
   "source": [
    "Trabajo con rutas de archivos"
   ]
  },
  {
   "cell_type": "code",
   "execution_count": null,
   "id": "e987c051-ed63-47e0-89a3-f1a54f08853e",
   "metadata": {},
   "outputs": [],
   "source": [
    "print(direct.absolute())"
   ]
  },
  {
   "cell_type": "code",
   "execution_count": null,
   "id": "940c2635-9dcd-4104-a3b6-f08cfc6d4dd9",
   "metadata": {},
   "outputs": [],
   "source": [
    "p = direct / \"..\"\n",
    "print(p)\n",
    "print(p.resolve())"
   ]
  },
  {
   "cell_type": "markdown",
   "id": "55fba3da-fb35-42bc-be25-e203c26c41ea",
   "metadata": {},
   "source": [
    "Podemos reemplazar el módulo `glob` utilizando este objeto:"
   ]
  },
  {
   "cell_type": "code",
   "execution_count": null,
   "id": "409d37be-57fe-4b34-88ab-0e5915b84582",
   "metadata": {},
   "outputs": [],
   "source": [
    "for fi in sorted(direct.glob(\"0[1-7]*.ipynb\") ):\n",
    "    print(fi)"
   ]
  },
  {
   "cell_type": "code",
   "execution_count": null,
   "id": "2e83ee84-af03-4e7b-b7ca-353b063d2545",
   "metadata": {},
   "outputs": [],
   "source": [
    "fi = direct / \"programa_detalle.rst\"\n",
    "if fi.exists():\n",
    "    s= fi.read_text()\n",
    "    print(s)"
   ]
  },
  {
   "cell_type": "markdown",
   "id": "9e6a1d89-7cf1-4dd5-bd56-469f492bcd24",
   "metadata": {},
   "source": [
    "### Leer un archivo"
   ]
  },
  {
   "cell_type": "code",
   "execution_count": null,
   "id": "4342b263-4aa8-416a-914e-6aae2c766bb8",
   "metadata": {},
   "outputs": [],
   "source": [
    "datos = here / 'data' / \"names.txt\""
   ]
  },
  {
   "cell_type": "code",
   "execution_count": null,
   "id": "aa3aba7d-744b-49c9-8777-a28813bf1dc8",
   "metadata": {},
   "outputs": [],
   "source": [
    "type(datos)"
   ]
  },
  {
   "cell_type": "code",
   "execution_count": null,
   "id": "692ef07e-4643-4f6a-8def-2f6d1743503e",
   "metadata": {},
   "outputs": [],
   "source": [
    "datos.exists()"
   ]
  },
  {
   "cell_type": "code",
   "execution_count": null,
   "id": "7216ad70-ade8-494a-bdc5-6d0261b45732",
   "metadata": {},
   "outputs": [],
   "source": [
    "s = datos.read_text()"
   ]
  },
  {
   "cell_type": "code",
   "execution_count": null,
   "id": "d1674fad-84b0-4ebd-9f18-a62c6c0a5aab",
   "metadata": {},
   "outputs": [],
   "source": [
    "print(s[:50])"
   ]
  },
  {
   "cell_type": "markdown",
   "id": "c6699604-b988-480f-9b3e-d6975024309b",
   "metadata": {},
   "source": [
    "En este ejemplo leímos todo el archivo con un comando. \n",
    "En algunas ocasiones, por ejemplo si el archivo es muy largo, es preferible cada línea y procesarla antes de pasar a la siguiente.\n",
    "El ejemplo anterior puede escribirse utilizando este módulo de una manera muy similar:"
   ]
  },
  {
   "cell_type": "code",
   "execution_count": null,
   "id": "14b8a705-7177-4c2a-b383-e6baa9bcfd96",
   "metadata": {},
   "outputs": [],
   "source": [
    "\"\"\"Programa para contar e imprimir las palabras de una longitud dada\"\"\"\n",
    "from pathlib import Path\n",
    "fname = Path(\".\")/ 'data'/'names.txt'\n",
    "output = fname.parent / f\"{fname.stem}_palindromo{fname.suffix}\"\n",
    "n = 0                           # contador\n",
    "minlen = 3                      # longitud mínima\n",
    "maxlen = 4                      # longitud máxima\n",
    "L = []\n",
    "with fname.open('r') as fi:\n",
    "  for line in fi:\n",
    "    p = line.strip().lower()\n",
    "    if (minlen <= len(p) <= maxlen) and (p == p[::-1]):\n",
    "      n += 1\n",
    "      #ss += f\"\\n{p}\"  # ss += \"\\n\" + p\n",
    "      L.append(p)  # L += [p]\n",
    "ss = \" \".join(L)\n",
    "if minlen == maxlen:\n",
    "  mensaje = f\"Encontramos un total de {n} palabras capicúa que tienen {minlen} letras\"\n",
    "else:\n",
    "  mensaje = f\"Encontramos un total de {n} palabras capicúa que tienen entre {minlen} y {maxlen} letras\"\n",
    "\n",
    "print(mensaje)\n",
    "\n",
    "with output.open(mode='w') as fo:\n",
    "    fo.write(ss)\n"
   ]
  },
  {
   "cell_type": "markdown",
   "id": "750dfafc-aeac-4efd-b4a1-5e57f57bbbf3",
   "metadata": {},
   "source": [
    "\n",
    "## Archivos comprimidos\n",
    "\n",
    "Existen varias formas de reducir el tamaño de los archivos de datos.  Varios factores, tales como el sistema operativo, nuestra familiaridad con cada uno de ellos, le da una cierta preferencia a algunos de los métodos disponibles. Veamos cómo hacer para leer y escribir algunos de los siguientes formatos: **zip, gzip, bz2** \n"
   ]
  },
  {
   "cell_type": "code",
   "execution_count": null,
   "id": "289006c2-bfec-436c-bcc8-8a058d2003ce",
   "metadata": {},
   "outputs": [],
   "source": [
    "import gzip\n",
    "import bz2"
   ]
  },
  {
   "cell_type": "code",
   "execution_count": null,
   "id": "53e8f032-3592-42bb-95cd-4325dfc8069b",
   "metadata": {},
   "outputs": [],
   "source": [
    "with gzip.open('data/palabras.words.gz', 'rb') as fi:\n",
    "  a = fi.read()"
   ]
  },
  {
   "cell_type": "code",
   "execution_count": null,
   "id": "98987860-b3fd-4c6f-80f5-ce558aaf0e8f",
   "metadata": {},
   "outputs": [],
   "source": [
    "l= a.splitlines()\n",
    "print(l[:10])"
   ]
  },
  {
   "cell_type": "code",
   "execution_count": null,
   "id": "dd3ea63f-2440-491e-9fdd-f6f0c9b09ca8",
   "metadata": {},
   "outputs": [],
   "source": [
    "l[0]"
   ]
  },
  {
   "cell_type": "markdown",
   "id": "02109787-6892-48c9-ae08-d860ab204b27",
   "metadata": {},
   "source": [
    "Con todo esto podríamos escribir (si tuviéramos necesidad) una función que puede leer un archivo en cualquiera de estos formatos"
   ]
  },
  {
   "cell_type": "code",
   "execution_count": null,
   "id": "fda75615-433f-4728-9ada-9bcf4cf428bf",
   "metadata": {},
   "outputs": [],
   "source": [
    "import gzip\n",
    "import bz2\n",
    "from os.path import splitext\n",
    "import zipfile\n",
    "\n",
    "def abrir(fname, modo='r'):\n",
    "  if fname.endswith('gz'):\n",
    "    fi= gzip.open(fname, mode=modo)\n",
    "  elif fname.endswith('bz2'):\n",
    "    fi= bz2.open(fname, mode=modo)    \n",
    "  elif fname.endswith('zip'):\n",
    "    fi= zipfile.ZipFile(fname, mode=modo)\n",
    "  else:\n",
    "    fi = open(fname, mode=modo)\n",
    "  return fi"
   ]
  },
  {
   "cell_type": "code",
   "execution_count": null,
   "id": "22a4ea07-9f33-4199-b443-fd235cf25e57",
   "metadata": {},
   "outputs": [],
   "source": [
    "ff = abrir('data/palabras.words.gz')\n",
    "a = ff.read()\n",
    "ff.close()"
   ]
  },
  {
   "cell_type": "markdown",
   "id": "c445ecce-bd2e-4406-91a8-367be68bf432",
   "metadata": {},
   "source": [
    "## String, bytes y codificaciones\n",
    "\n",
    "\n",
    "Vemos que el archivo tiene algunos caracteres que no podemos interpretar. Por ejemplo:\n",
    "\n",
    "```python\n",
    "\n",
    "l[0] = \"b'\\\\xc3\\\\x81frica'\"\n",
    "\n",
    "```\n",
    "\n",
    "Esto indica que la variable es del tipo \"bytes\".\n",
    "\n",
    "Para todo tipo de variables, y en todos los lenguajes de programación, tenemos -por necesidad- dos representaciones:\n",
    "\n",
    " 1. La representación que se hace en memoria, que consiste en una cadena de unos y ceros\n",
    " 2. La representación que vemos nosotros, que depende del tipo de variable.\n",
    "\n",
    "Para cada tipo de variable existe una convención de qué significa la cadena de 1s y 0s. Por ejemplo, para un número entero como el `3`, la representación interna es `11`.\n",
    "\n",
    "En la memoria solamente se pueden guardar bytes, entonces para guardar cualquier tipo de dato debemos además de guardar la cadena de unos y ceros, tener la información de cual es la convención para codificarlo (codificación o *encoding*). Esto ocurre por ejemplo si queremos guardar una imagen, debemos convertirlo a una cadena de bytes utilizando algún tipo de *encoding* usando una convención (de `jpg`, o `png`, o ...).\n",
    "\n",
    "En el caso de los números, enteros o punto flotante, la codificación que suelen utilizar los lenguajes de programación es bastante standard (IEEE), pero en el caso de lenguaje, ha ido evolucionando a lo largo del tiempo y las diferencias en las distintas convenciones son un poco más visibles.\n",
    "\n",
    "Históricamente, los lenguajes de programación borronearon la distinción entre los caracteres y la manera de guardar estos caracteres, igualando implícita o explícitamente la secuencia de bytes con un caracter en la codificación ASCII.\n",
    "\n",
    "En Python 3, existen las dos representaciones de un caracter:\n",
    " - Un *byte string* es una secuencia de bytes, necesario para guardar en una computadora y no para leer por personas.\n",
    " - Un *character string*, llamado usualmente \"*string*\", es una secuencia de caracteres que podemos leer pero que para guardar en memoria tiene que ser convertido a *byte string* utilizando una convención (*encoding*). Hay muchas convenciones, entre ellas ASCII o UTF-8."
   ]
  },
  {
   "cell_type": "code",
   "execution_count": null,
   "id": "8839e02a-ddfb-40a9-ae4f-560593771ab7",
   "metadata": {},
   "outputs": [],
   "source": [
    "str(l[0], encoding='utf-8')"
   ]
  },
  {
   "cell_type": "markdown",
   "id": "63c95dc0-e6ea-40a5-88e5-73ddc08985fe",
   "metadata": {},
   "source": [
    "El *encoding* es entonces nada más (y nada menos) que la convención que vamos a utilizar para interpretar una cadena de bytes.\n",
    "Entonces, si utilizamos dos convenciones diferentes para la misma cadena de bytes podemos obtener diferentes palabras"
   ]
  },
  {
   "cell_type": "code",
   "execution_count": null,
   "id": "cd2c1a61-4120-4d6d-a42d-063cc90cc83e",
   "metadata": {},
   "outputs": [],
   "source": [
    "mis_bytes = b'\\xcf\\x84o\\xcf\\x81\\xce\\xbdo\\xcf\\x83'"
   ]
  },
  {
   "cell_type": "code",
   "execution_count": null,
   "id": "5ae897b2-936f-41ca-884d-dd295ee1d858",
   "metadata": {},
   "outputs": [],
   "source": [
    "type(mis_bytes)"
   ]
  },
  {
   "cell_type": "code",
   "execution_count": null,
   "id": "bf633fe6-88ca-4697-87d5-e8a9bac60c35",
   "metadata": {},
   "outputs": [],
   "source": [
    "list(mis_bytes)"
   ]
  },
  {
   "cell_type": "code",
   "execution_count": null,
   "id": "cb7a8442-3cd5-44cc-9ef1-93ecaf583e8e",
   "metadata": {},
   "outputs": [],
   "source": [
    "mis_bytes.decode('utf-16')"
   ]
  },
  {
   "cell_type": "code",
   "execution_count": null,
   "id": "860fd7ef-75cf-486c-bb46-f29da8d51d56",
   "metadata": {},
   "outputs": [],
   "source": [
    "mis_bytes.decode('utf-8')"
   ]
  },
  {
   "cell_type": "code",
   "execution_count": null,
   "id": "a8d4a6f4-b780-466e-b2d2-23a935dd22a1",
   "metadata": {},
   "outputs": [],
   "source": [
    "list(mis_bytes.decode('utf-8'))"
   ]
  },
  {
   "cell_type": "code",
   "execution_count": null,
   "id": "82709c47-6592-4151-afce-ebaf0827155b",
   "metadata": {},
   "outputs": [],
   "source": [
    "type(mis_bytes.decode('utf-8'))"
   ]
  },
  {
   "cell_type": "markdown",
   "id": "0676948e-ebb7-405d-bf77-faedfd386eb5",
   "metadata": {},
   "source": [
    "Volviendo a la lista de palabras que leemos del archivo, para convertir de *bytes* a *string* utilizamos el método `decode()` con la codificación adecuada:"
   ]
  },
  {
   "cell_type": "code",
   "execution_count": null,
   "id": "0e1db148-054e-4977-b6cc-a28aa6fc16a8",
   "metadata": {},
   "outputs": [],
   "source": [
    "l[0]"
   ]
  },
  {
   "cell_type": "code",
   "execution_count": null,
   "id": "0e0d60ab-51ce-47a8-9d3a-9bd5ccb144f5",
   "metadata": {},
   "outputs": [],
   "source": [
    "list(l[0])"
   ]
  },
  {
   "cell_type": "code",
   "execution_count": null,
   "id": "f6699632-62ec-49d9-9491-2b21e462f9aa",
   "metadata": {},
   "outputs": [],
   "source": [
    "l[0].decode('utf-8')"
   ]
  },
  {
   "cell_type": "markdown",
   "id": "7d819aea-542e-4fda-baa5-3ad7c92dd7c4",
   "metadata": {},
   "source": [
    "-----\n",
    "\n",
    "## Ejercicios 07 (a)\n",
    "\n",
    "1. Realice un programa que:\n",
    "  * Lea el archivo **names.txt**\n",
    "  * Guarde en un nuevo archivo (llamado \"pares.txt\") palabra por medio del archivo original (la primera, tercera, ...) una por línea, pero en el orden inverso al leído\n",
    "  * Agregue al final de dicho archivo, las palabras pares pero separadas por un punto y coma (;)\n",
    "  * En un archivo llamado \"longitudes.txt\" guarde las palabras ordenadas por su longitud, y para cada longitud ordenadas alfabéticamente.\n",
    "  * En un archivo llamado \"letras.txt\" guarde sólo aquellas palabras que contienen las letras `w,x,y,z`, con el formato:\n",
    "    - w: Walter, ....\n",
    "    - x: Xilofón, ...\n",
    "    - y: ....\n",
    "    - z: ....\n",
    "  * Cree un diccionario, donde cada *key* es la primera letra y cada valor es una lista, cuyo elemento es una tuple (palabra, longitud). Por ejemplo:\n",
    "  ```python\n",
    "  d['a'] = [('Aaa',3),('Anna', 4), ...]\n",
    "  ```\n",
    "\n",
    "\n",
    "2. Realice un programa para:\n",
    "    * Leer los datos del archivo **aluminio.dat** y poner los datos del elemento en un diccionario de la forma:\n",
    "\n",
    "    ```python\n",
    "    d = {'S': 'Al', 'Z':13, 'A':27, 'M': '26.98153863(12)', 'P': 1.0000, 'MS':'26.9815386(8)'}\n",
    "    ```\n",
    "    \n",
    "    * Modifique el programa anterior para que las masas sean números (`float`) y descarte el valor de la incerteza (el número entre paréntesis)\n",
    "    * Agregue el código necesario para obtener una impresión de la forma:\n",
    "\n",
    "    ``` \n",
    "    Elemento: Al\n",
    "    Número Atómico: 13\n",
    "    Número de Masa: 27\n",
    "    Masa: 26.98154\n",
    "    ```\n",
    "\n",
    "Note que la masa sólo debe contener 5 números decimales\n",
    "\n",
    "-----"
   ]
  },
  {
   "cell_type": "markdown",
   "id": "ac8ff4ea-c6b2-4aa4-9a7f-8f996976de84",
   "metadata": {},
   "source": [
    "--------\n",
    "\n",
    ">**Nota:** Los archivos de texto \"names.txt\" y \"aluminio.txt\" (así como otros archivos usados en las clases) pueden encontrarse en la carpeta [intro-python](https://drive.google.com/drive/folders/1jv8qxgY9vVBw-3pBtFwjuQUH-C9aVGSR?usp=sharing)\n",
    "\n",
    "--------\n"
   ]
  }
 ],
 "metadata": {
  "kernelspec": {
   "display_name": "Python 3 (ipykernel)",
   "language": "python",
   "name": "python3"
  },
  "language_info": {
   "codemirror_mode": {
    "name": "ipython",
    "version": 3
   },
   "file_extension": ".py",
   "mimetype": "text/x-python",
   "name": "python",
   "nbconvert_exporter": "python",
   "pygments_lexer": "ipython3",
   "version": "3.13.2"
  },
  "name": "05_2_inout.ipynb",
  "toc": {
   "base_numbering": 1,
   "nav_menu": {
    "height": "122.9px",
    "width": "251.5px"
   },
   "number_sections": true,
   "sideBar": true,
   "skip_h1_title": true,
   "title_cell": "Contenidos",
   "title_sidebar": "Contenidos",
   "toc_cell": false,
   "toc_position": null,
   "toc_section_display": true,
   "toc_window_display": false
  }
 },
 "nbformat": 4,
 "nbformat_minor": 5
}
