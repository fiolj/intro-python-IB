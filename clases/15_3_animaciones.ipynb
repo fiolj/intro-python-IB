{
 "cells": [
  {
   "cell_type": "markdown",
   "metadata": {
    "collapsed": false,
    "ein.tags": "worksheet-0",
    "jupyter": {
     "outputs_hidden": false
    },
    "slideshow": {
     "slide_type": "-"
    }
   },
   "source": [
    "## Animaciones con **Matploblib**\n",
    "\n",
    "**Matplotlib** tiene funciones para hacer animaciones de una manera conveniente. \n",
    "Hay excelente información sobre el tema en:\n",
    "\n",
    "- [La documentación (con ejemplos)](http://matplotlib.org/api/animation_api.html)\n",
    "- [Tutorial en Pythonic Perambulations](http://jakevdp.github.io/blog/2012/08/18/matplotlib-animation-tutorial/)\n",
    "\n",
    "Vamos a ver brevemente cómo hacer animaciones, en pocos Pasos\n",
    "\n",
    "### Una animación simple en pocos pasos"
   ]
  },
  {
   "cell_type": "code",
   "execution_count": 2,
   "metadata": {},
   "outputs": [
    {
     "data": {
      "text/plain": [
       "'/home/fiol/Clases/IntPython/clases-python/clases'"
      ]
     },
     "execution_count": 2,
     "metadata": {},
     "output_type": "execute_result"
    }
   ],
   "source": [
    "pwd"
   ]
  },
  {
   "cell_type": "code",
   "execution_count": 3,
   "metadata": {
    "autoscroll": false,
    "collapsed": false,
    "ein.hycell": false,
    "ein.tags": "worksheet-0",
    "jupyter": {
     "outputs_hidden": false
    },
    "slideshow": {
     "slide_type": "-"
    }
   },
   "outputs": [
    {
     "name": "stdout",
     "output_type": "stream",
     "text": [
      "/home/fiol/Clases/IntPython/clases-python/clases/scripts/animaciones\n"
     ]
    }
   ],
   "source": [
    "%cd \"./scripts/animaciones\""
   ]
  },
  {
   "cell_type": "code",
   "execution_count": 4,
   "metadata": {
    "autoscroll": false,
    "collapsed": false,
    "ein.hycell": false,
    "ein.tags": "worksheet-0",
    "jupyter": {
     "outputs_hidden": false
    },
    "slideshow": {
     "slide_type": "-"
    }
   },
   "outputs": [],
   "source": [
    "%matplotlib tk\n",
    "%run ejemplo_animation_1.py"
   ]
  },
  {
   "cell_type": "markdown",
   "metadata": {
    "collapsed": false,
    "ein.tags": "worksheet-0",
    "jupyter": {
     "outputs_hidden": false
    },
    "slideshow": {
     "slide_type": "-"
    }
   },
   "source": [
    "```python\n",
    "\n",
    "import numpy as np\n",
    "import matplotlib.pyplot as plt\n",
    "import matplotlib.animation as animation\n",
    "plt.ioff()\n",
    "# Creamos los datos\n",
    "xmax = 2*np.pi\n",
    "Npts= 50\n",
    "\n",
    "x = np.linspace(0, xmax, Npts)\n",
    "data = np.vstack([x, np.sin(x)])\n",
    "\n",
    "def update_line(num, data, line):\n",
    "  line.set_data(data[:, :num])\n",
    "  return (line,)\n",
    "\n",
    "# Creamos la figura e inicializamos\n",
    "# Graficamos una línea sin ningún punto\n",
    "# Fijamos las condiciones de graficación\n",
    "fig1, ax = plt.subplots(figsize=(12,8))\n",
    "L, = plt.plot([], [], '-o') # equivalente a la siguiente\n",
    "# L = plt.plot([],[] , '-o')[0]\n",
    "ax.set_xlim(0, xmax)\n",
    "ax.set_ylim(-1.1, 1.1)\n",
    "ax.set_xlabel('x')\n",
    "ax.set_title('Animación de una oscilación')\n",
    "\n",
    "\n",
    "# \n",
    "line_ani = animation.FuncAnimation(fig1, update_line, Npts, fargs=(data, L), interval=100, blit=True)\n",
    "\n",
    "plt.show()\n",
    "```"
   ]
  },
  {
   "cell_type": "markdown",
   "metadata": {
    "collapsed": false,
    "ein.tags": "worksheet-0",
    "jupyter": {
     "outputs_hidden": false
    },
    "slideshow": {
     "slide_type": "-"
    }
   },
   "source": [
    "Este código da como resultado una función oscilante que se va creando. Este es un ejemplo simple que puede ser útil para graficar datos de una medición o de un cálculo más o menos largo.\n",
    "\n",
    "\n",
    "![](figuras/line.gif)"
   ]
  },
  {
   "cell_type": "markdown",
   "metadata": {
    "collapsed": false,
    "ein.tags": "worksheet-0",
    "jupyter": {
     "outputs_hidden": false
    },
    "slideshow": {
     "slide_type": "-"
    }
   },
   "source": [
    "#### Preparación general\n",
    "\n",
    "Como vemos, después de importar el submódulo `animation` (además de lo usual):\n",
    "```python\n",
    "import numpy as np\n",
    "import matplotlib.pyplot as plt\n",
    "import matplotlib.animation as animation\n",
    "plt.ioff()\n",
    "```\n",
    "nos aseguramos que estamos trabajando en modo **no** interactivo (con `plt.ioff()`).\n",
    "\n",
    "#### Creamos los datos para graficar\n",
    "\n",
    "Creación de datos para graficar\n",
    "\n",
    "Creamos los datos para mostrar en la animación.\n",
    "\n",
    "```python\n",
    "xmax = 2*np.pi\n",
    "Npts = 50\n",
    "x = np.linspace(0, xmax, Npts)\n",
    "data = np.vstack([x, np.sin(x)])\n",
    "```\n",
    "\n",
    "Acá `data` es un array 2D, con los datos $x$, $y$.\n",
    "\n",
    "#### Preparación de la figura\n",
    "\n",
    "A continuación preparamos la zona de graficación:\n",
    "\n",
    "1. Creamos la figura y eje\n",
    "2. Creamos las líneas de graficación (una en este caso)\n",
    "3. Fijamos los límites de graficación\n",
    "4. Agregamos el texto, que va a ser invariante durante la animación\n",
    "\n",
    "```python\n",
    "fig1, ax = plt.subplots(figsize=(12,8))\n",
    "L, = plt.plot([0], [0], '-o', lw=3)\n",
    "ax.set_xlim(0, xmax)\n",
    "ax.set_ylim(-1.1, 1.1)\n",
    "ax.set_xlabel('x')\n",
    "ax.set_title('Animación de una oscilación')\n",
    "```\n",
    "\n",
    "Como sabemos, el llamado a `plot()` devuelve una lista de líneas (de un solo elemento). A este elemento lo llamamos `L`, y ya le damos las características que queremos que tenga. En este caso, fijamos el símbolo (círculos), con líneas de ancho 3.\n",
    "Vamos a modificar esta línea `L` en cada cuadro de la animación.\n",
    "\n",
    "#### Función para actualizar la línea\n",
    "\n",
    "Debemos crear una función que modifique las curvas en cada cuadro.\n",
    "\n",
    "```python\n",
    "def update_line(num, data, line):\n",
    "  line.set_data(data[:, :num])\n",
    "  return line,\n",
    "```\n",
    "\n",
    "Esta función debe recibir como argumento el número de cuadro, que acá llamamos `num`. Además, en este caso recibe los datos a graficar, y la línea a modificar.\n",
    "\n",
    "Esta función devuelve una línea `L`, que es la parte del gráfico que queremos que se actualice en cada frame. \n",
    "\n",
    "Notemos acá que no es necesario que tome como argumento los datos guardados en `data` y la línea `line`, ya que son variables globales a las que hay acceso dentro del *script*. De la misma manera no es necesario que devuelva la línea, por la misma razón.\n",
    "\n",
    "#### Animación de la figura\n",
    "\n",
    "Finalmente llamamos a la función que hace la animación: `animation.FuncAnimation()`"
   ]
  },
  {
   "cell_type": "code",
   "execution_count": 2,
   "metadata": {
    "autoscroll": false,
    "collapsed": false,
    "ein.hycell": false,
    "ein.tags": "worksheet-0",
    "jupyter": {
     "outputs_hidden": false
    },
    "slideshow": {
     "slide_type": "-"
    }
   },
   "outputs": [
    {
     "name": "stdout",
     "output_type": "stream",
     "text": [
      " FuncAnimation(fig, func, frames=None, init_func=None, fargs=None,\n",
      "               save_count=None, *, cache_frame_data=True, **kwargs)\n",
      "\n",
      "Makes an animation by repeatedly calling a function *func*.\n",
      "\n",
      ".. note::\n",
      "\n",
      "    You must store the created Animation in a variable that lives as long\n",
      "    as the animation should run. Otherwise, the Animation object will be\n",
      "    garbage-collected and the animation stops.\n",
      "\n",
      "Parameters\n",
      "----------\n",
      "fig : `~matplotlib.figure.Figure`\n",
      "    The figure object used to get needed events, such as draw or resize.\n",
      "\n",
      "func : callable\n",
      "    The function to call at each frame.  The first argument will\n",
      "    be the next value in *frames*.   Any additional positional\n",
      "    arguments can be supplied via the *fargs* parameter.\n",
      "\n",
      "    The required signature is::\n",
      "\n",
      "        def func(frame, *fargs) -> iterable_of_artists\n",
      "\n",
      "    If ``blit == True``, *func* must return an iterable of all artists\n",
      "    that were modified or created. This information is used by the blitting\n",
      "    algorithm to determine which parts of the figure have to be updated.\n",
      "    The return value is unused if ``blit == False`` and may be omitted in\n",
      "    that case.\n",
      "\n",
      "frames : iterable, int, generator function, or None, optional\n",
      "    Source of data to pass *func* and each frame of the animation\n",
      "\n",
      "    - If an iterable, then simply use the values provided.  If the\n",
      "      iterable has a length, it will override the *save_count* kwarg.\n",
      "\n",
      "    - If an integer, then equivalent to passing ``range(frames)``\n",
      "\n",
      "    - If a generator function, then must have the signature::\n",
      "\n",
      "         def gen_function() -> obj\n",
      "\n",
      "    - If *None*, then equivalent to passing ``itertools.count``.\n",
      "\n",
      "    In all of these cases, the values in *frames* is simply passed through\n",
      "    to the user-supplied *func* and thus can be of any type.\n",
      "\n",
      "init_func : callable, optional\n",
      "    A function used to draw a clear frame. If not given, the results of\n",
      "    drawing from the first item in the frames sequence will be used. This\n",
      "    function will be called once before the first frame.\n",
      "\n",
      "    The required signature is::\n",
      "\n",
      "        def init_func() -> iterable_of_artists\n",
      "\n",
      "    If ``blit == True``, *init_func* must return an iterable of artists\n",
      "    to be re-drawn. This information is used by the blitting algorithm to\n",
      "    determine which parts of the figure have to be updated.  The return\n",
      "    value is unused if ``blit == False`` and may be omitted in that case.\n",
      "\n",
      "fargs : tuple or None, optional\n",
      "    Additional arguments to pass to each call to *func*.\n",
      "\n",
      "save_count : int, default: 100\n",
      "    Fallback for the number of values from *frames* to cache. This is\n",
      "    only used if the number of frames cannot be inferred from *frames*,\n",
      "    i.e. when it's an iterator without length or a generator.\n",
      "\n",
      "interval : int, default: 200\n",
      "    Delay between frames in milliseconds.\n",
      "\n",
      "repeat_delay : int, default: 0\n",
      "    The delay in milliseconds between consecutive animation runs, if\n",
      "    *repeat* is True.\n",
      "\n",
      "repeat : bool, default: True\n",
      "    Whether the animation repeats when the sequence of frames is completed.\n",
      "\n",
      "blit : bool, default: False\n",
      "    Whether blitting is used to optimize drawing.  Note: when using\n",
      "    blitting, any animated artists will be drawn according to their zorder;\n",
      "    however, they will be drawn on top of any previous artists, regardless\n",
      "    of their zorder.\n",
      "\n",
      "cache_frame_data : bool, default: True\n",
      "    Whether frame data is cached.  Disabling cache might be helpful when\n",
      "    frames contain large objects.\n",
      "\n",
      "\n",
      "Methods:\n",
      "\n",
      "  new_frame_seq  --  Return a new sequence of frame information.\n",
      "  new_saved_frame_seq  --  Return a new sequence of saved/cached frame information.\n",
      "  pause  --  Pause the animation.\n",
      "  resume  --  Resume the animation.\n",
      "  save  --  Save the animation as a movie file by drawing every frame.\n",
      "  to_html5_video  --  Convert the animation to an HTML5 ``<video>`` tag.\n",
      "  to_jshtml  --  Generate HTML representation of the animation.\n"
     ]
    }
   ],
   "source": [
    "\n",
    "import numpy as np\n",
    "import matplotlib.pyplot as plt\n",
    "import matplotlib.animation as animation\n",
    "np.info(animation.FuncAnimation)"
   ]
  },
  {
   "cell_type": "markdown",
   "metadata": {
    "collapsed": false,
    "ein.tags": "worksheet-0",
    "jupyter": {
     "outputs_hidden": false
    },
    "slideshow": {
     "slide_type": "-"
    }
   },
   "source": [
    "```python\n",
    "line_anim = animation.FuncAnimation(fig1, update_line, Npts, \n",
    "                   fargs=(data, L), interval=100, blit=True)\n",
    "```\n",
    "\n",
    "La función `FuncAnimation()` toma como argumentos:\n",
    "\n",
    "- la figura (`fig1`) donde se realiza el gráfico.\n",
    "\n",
    "- Una función a la que llama antes de dibujar cada *frame* (`update_line`), \n",
    "\n",
    "- El argumento `interval` da el tiempo entre cuadros, en milisegundos.\n",
    "\n",
    "- El argumento `fargs` es una tuple con los argumentos que necesita la función `update_line()`. En este caso `(data, L)`.\n",
    "\n",
    "- El argumento `blit=True` hace que sólo se actualicen las partes que cambian en la animación, mientras que las partes estáticas no se dibujan en cada cuadro.\n",
    "\n",
    "Es importante que el objeto creado por `FuncAnimation()` no se destruya. Esto lo podemos asegurar asignando el objeto resultante a una variable, en este caso line_anim.\n",
    "\n",
    "#### Opcional: grabar la animación a un archivo\n",
    "\n",
    "Podemos grabar la animación a un archivo usando el método `save()` o el método `to_html5_video()`  del objeto (`anim`) que devuelve la función `FuncAnimation()`.\n",
    "\n",
    "Para poder grabar a archivo las animaciones se necesita tener instalados programas externos (alguno de *ffmpeg*, *avconv*, *imagemagick*). Ver https://matplotlib.org/api/animation_api.html para más información."
   ]
  },
  {
   "attachments": {},
   "cell_type": "markdown",
   "metadata": {
    "collapsed": false,
    "ein.tags": "worksheet-0",
    "jupyter": {
     "outputs_hidden": false
    },
    "slideshow": {
     "slide_type": "-"
    }
   },
   "source": [
    "### Segundo ejemplo\n",
    "Veamos un ejemplo similar al primero, pero donde vamos cambiando los límites de los ejes en forma manual, a medida que los datos lo requieren"
   ]
  },
  {
   "cell_type": "markdown",
   "metadata": {
    "collapsed": false,
    "ein.tags": "worksheet-0",
    "jupyter": {
     "outputs_hidden": false
    },
    "slideshow": {
     "slide_type": "-"
    }
   },
   "source": [
    "```python\n",
    "import numpy as np\n",
    "import matplotlib.pyplot as plt\n",
    "import matplotlib.animation as animation\n",
    "\n",
    "# Calcula los datos en tiempo real. \n",
    "def data_gen(t=0):\n",
    "  cnt = 0\n",
    "  while cnt < 1000:\n",
    "    cnt += 1\n",
    "    t += 0.1\n",
    "    yield t, np.sin(2 * np.pi * t) * np.exp(-t / 10.)\n",
    "\n",
    "\n",
    "# Necesitamos que se puede acceder a estas variables\n",
    "# desde varias funciones -> globales\n",
    "fig, ax = plt.subplots()\n",
    "line, = ax.plot([], [], lw=2)\n",
    "xdata, ydata = [], []\n",
    "\n",
    "def init():\n",
    "  ax.grid()\n",
    "  ax.set_ylim(-1.1, 1.1)\n",
    "  ax.set_xlim(0, 10)\n",
    "  del xdata[:]\n",
    "  del ydata[:]\n",
    "  line.set_data(xdata, ydata)\n",
    "  return line,\n",
    "\n",
    "\n",
    "def run(data):\n",
    "  # update the data\n",
    "  t, y = data\n",
    "  xdata.append(t)\n",
    "  ydata.append(y)\n",
    "  xmin, xmax = ax.get_xlim()\n",
    "\n",
    "  # Si los datos salen del eje, agrandamos el eje\n",
    "  # Después tenemos que redibujar el canvas manualmente\n",
    "  if t >= xmax:\n",
    "    ax.set_xlim(xmin, 2 * xmax)\n",
    "    ax.figure.canvas.draw()\n",
    "  line.set_data(xdata, ydata)\n",
    "\n",
    "  return line,\n",
    "\n",
    "ani = animation.FuncAnimation(fig, run, data_gen, blit=False,\n",
    "                              interval=30,repeat=False, init_func=init)\n",
    "\n",
    "plt.show()\n",
    "```"
   ]
  },
  {
   "cell_type": "code",
   "execution_count": 5,
   "metadata": {
    "autoscroll": false,
    "collapsed": false,
    "ein.hycell": false,
    "ein.tags": "worksheet-0",
    "jupyter": {
     "outputs_hidden": false
    },
    "slideshow": {
     "slide_type": "-"
    }
   },
   "outputs": [
    {
     "name": "stderr",
     "output_type": "stream",
     "text": [
      "/home/fiol/Clases/IntPython/clases-python/clases/scripts/animaciones/animate_decay.py:46: UserWarning: frames=<function data_gen at 0x7ff058744900> which we can infer the length of, did not pass an explicit *save_count* and passed cache_frame_data=True.  To avoid a possibly unbounded cache, frame data caching has been disabled. To suppress this warning either pass `cache_frame_data=False` or `save_count=MAX_FRAMES`.\n",
      "  ani = animation.FuncAnimation(fig, run, data_gen, blit=False, interval=30,\n"
     ]
    }
   ],
   "source": [
    "%run animate_decay.py"
   ]
  },
  {
   "cell_type": "code",
   "execution_count": 6,
   "metadata": {
    "autoscroll": false,
    "collapsed": false,
    "ein.hycell": false,
    "ein.tags": "worksheet-0",
    "jupyter": {
     "outputs_hidden": false
    },
    "slideshow": {
     "slide_type": "-"
    }
   },
   "outputs": [],
   "source": [
    "plt.style.reload_library()\n",
    "plt.style.use('default')"
   ]
  },
  {
   "attachments": {},
   "cell_type": "markdown",
   "metadata": {},
   "source": [
    "### Tercer ejemplo: Quiver\n",
    "\n",
    "Para hacer una animación de un campo de fuerzas o velocidades necesitamos datos en tres dimensiones. El siguiente ejemplo sigue los pasos de la animación anterior, excepto en la creación de datos y la graficación, que en lugar de usar `plot()` usa `quiver()`:\n"
   ]
  },
  {
   "cell_type": "markdown",
   "metadata": {},
   "source": [
    "\n",
    "```python\n",
    "\n",
    "import numpy as np\n",
    "import matplotlib.pyplot as plt\n",
    "import matplotlib.animation as animation\n",
    "plt.style.use('ggplot')\n",
    "\n",
    "plt.ioff()\n",
    "\n",
    "# ############################################################\n",
    "# Creación de datos\n",
    "x = np.linspace(-3, 3, 91)\n",
    "t = np.linspace(0, 25, 30)\n",
    "y = np.linspace(-3, 3, 91)\n",
    "X3, Y3, T3 = np.meshgrid(x, y, t)\n",
    "sinT3 = np.sin(2*np.pi*T3 /\n",
    "               T3.max(axis=2)[..., np.newaxis])\n",
    "\n",
    "G = (X3**2 + Y3**2)*sinT3\n",
    "# Graficar una flecha cada step puntos\n",
    "step = 10\n",
    "x_q, y_q = x[::step], y[::step]\n",
    " \n",
    "# Create U and V vectors to plot\n",
    "U = G[::step, ::step, :-1].copy()\n",
    "V = np.roll(U, shift=3, axis=2)\n",
    "\n",
    "# ############################################################\n",
    "# Figura y ejes. \n",
    "fig1, ax = plt.subplots(figsize=(12,8))\n",
    "\n",
    "ax.set_aspect('equal')\n",
    " \n",
    "ax.set(xlim=(-4, 4), ylim=(-4, 4))\n",
    "\n",
    " \n",
    "qax = ax.quiver(x_q, y_q, U[..., 0], V[..., 0],\n",
    "                scale=100)\n",
    " \n",
    "def animate(i):\n",
    "  qax.set_UVC(U[..., i], V[..., i])\n",
    "\n",
    "anim = animation.FuncAnimation(fig1, animate, interval=100, frames=len(t)-1, repeat=True)\n",
    "\n",
    "# anim.save('quiver.gif', writer='imagemagick')\n",
    "anim.save('quiver.mp4')\n",
    "plt.show()\n",
    "```"
   ]
  },
  {
   "cell_type": "code",
   "execution_count": 7,
   "metadata": {},
   "outputs": [],
   "source": [
    "%run ejemplo_quiver.py"
   ]
  },
  {
   "cell_type": "markdown",
   "metadata": {},
   "source": [
    "![](figuras/quiver.gif)"
   ]
  },
  {
   "cell_type": "markdown",
   "metadata": {},
   "source": [
    "#### Comentarios:\n",
    "\n",
    "- Se utilizó la función `quiver()` para generar un campo vectorial. La forma de esta función es:\n",
    "\n",
    "    quiver([X, Y], U, V, [C], **kw)\n",
    "\n",
    "    *X*, *Y* define the arrow locations, *U*, *V* define the arrow directions, and\n",
    "    *C* optionally sets the color.\n",
    "\n",
    "- Se utilizaron *Ellipsis*, por ejemplo en casos como:\n",
    "  ```python\n",
    "  U[..., 0]\n",
    "  ```\n",
    "  Las elipsis (tres puntos o la palabra `Ellipsis`) indican todo el rango para todas las dimensiones que no se dan explícitamente. En este ejemplo el *array* `U` tiene tres dimensiones, por lo que tendremos:\n",
    "  \n",
    "  ```python\n",
    "  U[..., 0] = U[:, :, 0]\n",
    "  ```\n",
    "\n",
    "  En general, las elipses reemplazan a los dos puntos en todas las dimensiones no dadas explícitamente"
   ]
  },
  {
   "cell_type": "code",
   "execution_count": 8,
   "metadata": {},
   "outputs": [],
   "source": [
    "a = np.arange(36)\n",
    "a2 = a.reshape((6,-1))\n",
    "a4 = a.reshape((2,3,2,3))\n"
   ]
  },
  {
   "cell_type": "code",
   "execution_count": 9,
   "metadata": {},
   "outputs": [
    {
     "name": "stdout",
     "output_type": "stream",
     "text": [
      "[ 0  6 12 18 24 30]\n",
      "[ 0  6 12 18 24 30]\n"
     ]
    }
   ],
   "source": [
    "print(a2[:,0])\n",
    "print(a2[..., 0])"
   ]
  },
  {
   "cell_type": "code",
   "execution_count": 10,
   "metadata": {},
   "outputs": [
    {
     "name": "stdout",
     "output_type": "stream",
     "text": [
      "[[ 0  3]\n",
      " [ 6  9]\n",
      " [12 15]]\n",
      "[[ 0  3]\n",
      " [ 6  9]\n",
      " [12 15]]\n"
     ]
    }
   ],
   "source": [
    "print(a4[0,:,:,0])\n",
    "print(a4[0,...,0])"
   ]
  },
  {
   "cell_type": "code",
   "execution_count": 11,
   "metadata": {},
   "outputs": [
    {
     "data": {
      "text/plain": [
       "True"
      ]
     },
     "execution_count": 11,
     "metadata": {},
     "output_type": "execute_result"
    }
   ],
   "source": [
    "(a4[...,0] == a4[:,:,:,0]).all()"
   ]
  },
  {
   "cell_type": "markdown",
   "metadata": {},
   "source": [
    "- Uso de `np.roll(a, shift, axis=None)` que mueve elementos una distancia `shift` a lo largo del eje `axis`, y cuando pasan la última posición los reintroduce al principio. Por ejemplo, en una dimensión:"
   ]
  },
  {
   "cell_type": "code",
   "execution_count": 12,
   "metadata": {},
   "outputs": [
    {
     "name": "stdout",
     "output_type": "stream",
     "text": [
      "[0 1 2 3 4 5 6 7 8 9]\n",
      "[8 9 0 1 2 3 4 5 6 7]\n"
     ]
    }
   ],
   "source": [
    "x = np.arange(10)\n",
    "print(x)\n",
    "print(np.roll(x, 2))"
   ]
  },
  {
   "attachments": {},
   "cell_type": "markdown",
   "metadata": {
    "collapsed": false,
    "ein.tags": "worksheet-0",
    "jupyter": {
     "outputs_hidden": false
    },
    "slideshow": {
     "slide_type": "-"
    }
   },
   "source": [
    "-----\n",
    "\n",
    "## Ejercicios 15 (b)\n",
    "\n",
    "1. Utilizando **Matplotlib**:\n",
    "   - Hacer un gráfico donde dibuje una parábola $y = x^{2}$ en el rango $[-5,5]$.\n",
    "   - En el mismo gráfico, agregar un círculo en $x=-5$.\n",
    "   - El círculo debe moverse siguiendo la curva, como se muestra en la figura\n",
    "\n",
    "   ![](figuras/pelota.gif)\n",
    "   \n",
    "\n",
    "2. **Caída libre 2:** Realizar animaciones del ejercicio de caída libre, de forma tal que:\n",
    "   - La animación tenga  un cartel indicando el tiempo, y la velocidad y altura correspondiente a ese tiempo.\n",
    "   - Agregar una \"cola fantasma\" a la partícula, que muestre posiciones anteriores.\n",
    "\n",
    "\n",
    "-----\n",
    "\n",
    "."
   ]
  },
  {
   "cell_type": "code",
   "execution_count": null,
   "metadata": {},
   "outputs": [],
   "source": []
  }
 ],
 "metadata": {
  "kernelspec": {
   "display_name": "Python 3 (ipykernel)",
   "language": "python",
   "name": "python3"
  },
  "language_info": {
   "codemirror_mode": {
    "name": "ipython",
    "version": 3
   },
   "file_extension": ".py",
   "mimetype": "text/x-python",
   "name": "python",
   "nbconvert_exporter": "python",
   "pygments_lexer": "ipython3",
   "version": "3.11.8"
  },
  "name": "14_1_animaciones.ipynb",
  "toc": {
   "base_numbering": 1,
   "nav_menu": {
    "height": "338.467px",
    "width": "251.833px"
   },
   "number_sections": true,
   "sideBar": true,
   "skip_h1_title": false,
   "title_cell": "Contenidos",
   "title_sidebar": "Contenidos",
   "toc_cell": false,
   "toc_position": null,
   "toc_section_display": true,
   "toc_window_display": false
  }
 },
 "nbformat": 4,
 "nbformat_minor": 4
}
