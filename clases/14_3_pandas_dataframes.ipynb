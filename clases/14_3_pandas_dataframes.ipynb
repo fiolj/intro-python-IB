{
 "cells": [
  {
   "cell_type": "markdown",
   "metadata": {},
   "source": [
    "# Estructuras de datos en `pandas`: `DataFrame`s\n",
    "\n",
    "Hemos visto que una serie en `pandas` es representa una colección de valores indexados por sendas etiquetas. \n",
    "La extensión natural (?) de una serie es una colección con múltiples valores arreglados en columnas indexados por una misma colección de etiquetas. Es decir, una tabla...\n",
    "La estructura que representa tablas en `pandas` se llama _DataFrame_. Un `DataFrame` tiene un índice de filas (como las series) y un índice de columnas. \n",
    "\n",
    "> Se puede pensar un `DataFrame` como un diccionario de series que comparten un mismo índice.\n",
    "\n",
    "Como las series, es habitual construir un `DataFrame` a partir de un diccionario. Veamos el siguiente diccionario para comenzar a trabajar. Como siempre, importamos los módulos indispensables:\n"
   ]
  },
  {
   "cell_type": "code",
   "execution_count": 1,
   "metadata": {},
   "outputs": [],
   "source": [
    "import numpy as np\n",
    "import pandas as pd"
   ]
  },
  {
   "cell_type": "code",
   "execution_count": 2,
   "metadata": {},
   "outputs": [
    {
     "data": {
      "text/html": [
       "<div>\n",
       "<style scoped>\n",
       "    .dataframe tbody tr th:only-of-type {\n",
       "        vertical-align: middle;\n",
       "    }\n",
       "\n",
       "    .dataframe tbody tr th {\n",
       "        vertical-align: top;\n",
       "    }\n",
       "\n",
       "    .dataframe thead th {\n",
       "        text-align: right;\n",
       "    }\n",
       "</style>\n",
       "<table border=\"1\" class=\"dataframe\">\n",
       "  <thead>\n",
       "    <tr style=\"text-align: right;\">\n",
       "      <th></th>\n",
       "      <th>Titulo</th>\n",
       "      <th>Año de edición</th>\n",
       "      <th>Páginas</th>\n",
       "    </tr>\n",
       "  </thead>\n",
       "  <tbody>\n",
       "    <tr>\n",
       "      <th>0</th>\n",
       "      <td>La piedra filosofal</td>\n",
       "      <td>1997</td>\n",
       "      <td>223</td>\n",
       "    </tr>\n",
       "    <tr>\n",
       "      <th>1</th>\n",
       "      <td>La cámara secreta</td>\n",
       "      <td>1998</td>\n",
       "      <td>251</td>\n",
       "    </tr>\n",
       "    <tr>\n",
       "      <th>2</th>\n",
       "      <td>El prisionero de Azkaban</td>\n",
       "      <td>1999</td>\n",
       "      <td>317</td>\n",
       "    </tr>\n",
       "    <tr>\n",
       "      <th>3</th>\n",
       "      <td>El cáliz de fuego</td>\n",
       "      <td>2000</td>\n",
       "      <td>636</td>\n",
       "    </tr>\n",
       "    <tr>\n",
       "      <th>4</th>\n",
       "      <td>La orden del Fénix</td>\n",
       "      <td>2003</td>\n",
       "      <td>766</td>\n",
       "    </tr>\n",
       "    <tr>\n",
       "      <th>5</th>\n",
       "      <td>El misterio del príncipe</td>\n",
       "      <td>2005</td>\n",
       "      <td>607</td>\n",
       "    </tr>\n",
       "    <tr>\n",
       "      <th>6</th>\n",
       "      <td>Las reliquias de la muerte</td>\n",
       "      <td>2007</td>\n",
       "      <td>607</td>\n",
       "    </tr>\n",
       "  </tbody>\n",
       "</table>\n",
       "</div>"
      ],
      "text/plain": [
       "                       Titulo  Año de edición  Páginas\n",
       "0         La piedra filosofal            1997      223\n",
       "1           La cámara secreta            1998      251\n",
       "2    El prisionero de Azkaban            1999      317\n",
       "3           El cáliz de fuego            2000      636\n",
       "4          La orden del Fénix            2003      766\n",
       "5    El misterio del príncipe            2005      607\n",
       "6  Las reliquias de la muerte            2007      607"
      ]
     },
     "execution_count": 2,
     "metadata": {},
     "output_type": "execute_result"
    }
   ],
   "source": [
    "data = {\n",
    "    \"Titulo\": [\n",
    "        \"La piedra filosofal\",\n",
    "        \"La cámara secreta\",\n",
    "        \"El prisionero de Azkaban\",\n",
    "        \"El cáliz de fuego\",\n",
    "        \"La orden del Fénix\",\n",
    "        \"El misterio del príncipe\",\n",
    "        \"Las reliquias de la muerte\"\n",
    "    ],\n",
    "    \"Año de edición\": [1997, 1998, 1999, 2000, 2003, 2005, 2007],\n",
    "    \"Páginas\": [223, 251, 317, 636, 766, 607, 607],\n",
    "}\n",
    "\n",
    "df = pd.DataFrame(data)\n",
    "df"
   ]
  },
  {
   "cell_type": "markdown",
   "metadata": {},
   "source": [
    "El diccionario de origen asigna a cada clave una lista de elementos. Hemos generado un `DataFrame` a partir de un diccionario: los índices de filas se generan automáticamente, mientras que los índices (o etiquetas) de las columnas corresponden a las claves de cada una de las listas del diccionario.\n",
    "\n",
    "> Si las listas que componen el diccionario de origen no son iguales, `pd.DataFrame` dará un error `ValueError: All arrays must be of the same length`.\n",
    "\n",
    "Una conveniencia interesante en Jupyter Notebooks es que se puede imprimir la tabla en forma elegante:"
   ]
  },
  {
   "cell_type": "code",
   "execution_count": 3,
   "metadata": {},
   "outputs": [
    {
     "name": "stdout",
     "output_type": "stream",
     "text": [
      "                       Titulo  Año de edición  Páginas\n",
      "0         La piedra filosofal            1997      223\n",
      "1           La cámara secreta            1998      251\n",
      "2    El prisionero de Azkaban            1999      317\n",
      "3           El cáliz de fuego            2000      636\n",
      "4          La orden del Fénix            2003      766\n",
      "5    El misterio del príncipe            2005      607\n",
      "6  Las reliquias de la muerte            2007      607\n"
     ]
    },
    {
     "data": {
      "text/html": [
       "<div>\n",
       "<style scoped>\n",
       "    .dataframe tbody tr th:only-of-type {\n",
       "        vertical-align: middle;\n",
       "    }\n",
       "\n",
       "    .dataframe tbody tr th {\n",
       "        vertical-align: top;\n",
       "    }\n",
       "\n",
       "    .dataframe thead th {\n",
       "        text-align: right;\n",
       "    }\n",
       "</style>\n",
       "<table border=\"1\" class=\"dataframe\">\n",
       "  <thead>\n",
       "    <tr style=\"text-align: right;\">\n",
       "      <th></th>\n",
       "      <th>Titulo</th>\n",
       "      <th>Año de edición</th>\n",
       "      <th>Páginas</th>\n",
       "    </tr>\n",
       "  </thead>\n",
       "  <tbody>\n",
       "    <tr>\n",
       "      <th>0</th>\n",
       "      <td>La piedra filosofal</td>\n",
       "      <td>1997</td>\n",
       "      <td>223</td>\n",
       "    </tr>\n",
       "    <tr>\n",
       "      <th>1</th>\n",
       "      <td>La cámara secreta</td>\n",
       "      <td>1998</td>\n",
       "      <td>251</td>\n",
       "    </tr>\n",
       "    <tr>\n",
       "      <th>2</th>\n",
       "      <td>El prisionero de Azkaban</td>\n",
       "      <td>1999</td>\n",
       "      <td>317</td>\n",
       "    </tr>\n",
       "    <tr>\n",
       "      <th>3</th>\n",
       "      <td>El cáliz de fuego</td>\n",
       "      <td>2000</td>\n",
       "      <td>636</td>\n",
       "    </tr>\n",
       "    <tr>\n",
       "      <th>4</th>\n",
       "      <td>La orden del Fénix</td>\n",
       "      <td>2003</td>\n",
       "      <td>766</td>\n",
       "    </tr>\n",
       "    <tr>\n",
       "      <th>5</th>\n",
       "      <td>El misterio del príncipe</td>\n",
       "      <td>2005</td>\n",
       "      <td>607</td>\n",
       "    </tr>\n",
       "    <tr>\n",
       "      <th>6</th>\n",
       "      <td>Las reliquias de la muerte</td>\n",
       "      <td>2007</td>\n",
       "      <td>607</td>\n",
       "    </tr>\n",
       "  </tbody>\n",
       "</table>\n",
       "</div>"
      ],
      "text/plain": [
       "                       Titulo  Año de edición  Páginas\n",
       "0         La piedra filosofal            1997      223\n",
       "1           La cámara secreta            1998      251\n",
       "2    El prisionero de Azkaban            1999      317\n",
       "3           El cáliz de fuego            2000      636\n",
       "4          La orden del Fénix            2003      766\n",
       "5    El misterio del príncipe            2005      607\n",
       "6  Las reliquias de la muerte            2007      607"
      ]
     },
     "metadata": {},
     "output_type": "display_data"
    },
    {
     "data": {
      "text/html": [
       "<div>\n",
       "<style scoped>\n",
       "    .dataframe tbody tr th:only-of-type {\n",
       "        vertical-align: middle;\n",
       "    }\n",
       "\n",
       "    .dataframe tbody tr th {\n",
       "        vertical-align: top;\n",
       "    }\n",
       "\n",
       "    .dataframe thead th {\n",
       "        text-align: right;\n",
       "    }\n",
       "</style>\n",
       "<table border=\"1\" class=\"dataframe\">\n",
       "  <thead>\n",
       "    <tr style=\"text-align: right;\">\n",
       "      <th></th>\n",
       "      <th>Titulo</th>\n",
       "      <th>Año de edición</th>\n",
       "      <th>Páginas</th>\n",
       "    </tr>\n",
       "  </thead>\n",
       "  <tbody>\n",
       "    <tr>\n",
       "      <th>0</th>\n",
       "      <td>La piedra filosofal</td>\n",
       "      <td>1997</td>\n",
       "      <td>223</td>\n",
       "    </tr>\n",
       "    <tr>\n",
       "      <th>1</th>\n",
       "      <td>La cámara secreta</td>\n",
       "      <td>1998</td>\n",
       "      <td>251</td>\n",
       "    </tr>\n",
       "    <tr>\n",
       "      <th>2</th>\n",
       "      <td>El prisionero de Azkaban</td>\n",
       "      <td>1999</td>\n",
       "      <td>317</td>\n",
       "    </tr>\n",
       "    <tr>\n",
       "      <th>3</th>\n",
       "      <td>El cáliz de fuego</td>\n",
       "      <td>2000</td>\n",
       "      <td>636</td>\n",
       "    </tr>\n",
       "    <tr>\n",
       "      <th>4</th>\n",
       "      <td>La orden del Fénix</td>\n",
       "      <td>2003</td>\n",
       "      <td>766</td>\n",
       "    </tr>\n",
       "    <tr>\n",
       "      <th>5</th>\n",
       "      <td>El misterio del príncipe</td>\n",
       "      <td>2005</td>\n",
       "      <td>607</td>\n",
       "    </tr>\n",
       "    <tr>\n",
       "      <th>6</th>\n",
       "      <td>Las reliquias de la muerte</td>\n",
       "      <td>2007</td>\n",
       "      <td>607</td>\n",
       "    </tr>\n",
       "  </tbody>\n",
       "</table>\n",
       "</div>"
      ],
      "text/plain": [
       "                       Titulo  Año de edición  Páginas\n",
       "0         La piedra filosofal            1997      223\n",
       "1           La cámara secreta            1998      251\n",
       "2    El prisionero de Azkaban            1999      317\n",
       "3           El cáliz de fuego            2000      636\n",
       "4          La orden del Fénix            2003      766\n",
       "5    El misterio del príncipe            2005      607\n",
       "6  Las reliquias de la muerte            2007      607"
      ]
     },
     "execution_count": 3,
     "metadata": {},
     "output_type": "execute_result"
    }
   ],
   "source": [
    "print(df) \n",
    "display(df)\n",
    "df # también funciona "
   ]
  },
  {
   "cell_type": "markdown",
   "metadata": {},
   "source": [
    "Eventualmente uno podría querer ver sólo algunas filas:"
   ]
  },
  {
   "cell_type": "code",
   "execution_count": 4,
   "metadata": {},
   "outputs": [
    {
     "data": {
      "text/html": [
       "<div>\n",
       "<style scoped>\n",
       "    .dataframe tbody tr th:only-of-type {\n",
       "        vertical-align: middle;\n",
       "    }\n",
       "\n",
       "    .dataframe tbody tr th {\n",
       "        vertical-align: top;\n",
       "    }\n",
       "\n",
       "    .dataframe thead th {\n",
       "        text-align: right;\n",
       "    }\n",
       "</style>\n",
       "<table border=\"1\" class=\"dataframe\">\n",
       "  <thead>\n",
       "    <tr style=\"text-align: right;\">\n",
       "      <th></th>\n",
       "      <th>Titulo</th>\n",
       "      <th>Año de edición</th>\n",
       "      <th>Páginas</th>\n",
       "    </tr>\n",
       "  </thead>\n",
       "  <tbody>\n",
       "    <tr>\n",
       "      <th>0</th>\n",
       "      <td>La piedra filosofal</td>\n",
       "      <td>1997</td>\n",
       "      <td>223</td>\n",
       "    </tr>\n",
       "    <tr>\n",
       "      <th>1</th>\n",
       "      <td>La cámara secreta</td>\n",
       "      <td>1998</td>\n",
       "      <td>251</td>\n",
       "    </tr>\n",
       "    <tr>\n",
       "      <th>2</th>\n",
       "      <td>El prisionero de Azkaban</td>\n",
       "      <td>1999</td>\n",
       "      <td>317</td>\n",
       "    </tr>\n",
       "    <tr>\n",
       "      <th>3</th>\n",
       "      <td>El cáliz de fuego</td>\n",
       "      <td>2000</td>\n",
       "      <td>636</td>\n",
       "    </tr>\n",
       "    <tr>\n",
       "      <th>4</th>\n",
       "      <td>La orden del Fénix</td>\n",
       "      <td>2003</td>\n",
       "      <td>766</td>\n",
       "    </tr>\n",
       "  </tbody>\n",
       "</table>\n",
       "</div>"
      ],
      "text/plain": [
       "                     Titulo  Año de edición  Páginas\n",
       "0       La piedra filosofal            1997      223\n",
       "1         La cámara secreta            1998      251\n",
       "2  El prisionero de Azkaban            1999      317\n",
       "3         El cáliz de fuego            2000      636\n",
       "4        La orden del Fénix            2003      766"
      ]
     },
     "metadata": {},
     "output_type": "display_data"
    },
    {
     "data": {
      "text/html": [
       "<div>\n",
       "<style scoped>\n",
       "    .dataframe tbody tr th:only-of-type {\n",
       "        vertical-align: middle;\n",
       "    }\n",
       "\n",
       "    .dataframe tbody tr th {\n",
       "        vertical-align: top;\n",
       "    }\n",
       "\n",
       "    .dataframe thead th {\n",
       "        text-align: right;\n",
       "    }\n",
       "</style>\n",
       "<table border=\"1\" class=\"dataframe\">\n",
       "  <thead>\n",
       "    <tr style=\"text-align: right;\">\n",
       "      <th></th>\n",
       "      <th>Titulo</th>\n",
       "      <th>Año de edición</th>\n",
       "      <th>Páginas</th>\n",
       "    </tr>\n",
       "  </thead>\n",
       "  <tbody>\n",
       "    <tr>\n",
       "      <th>2</th>\n",
       "      <td>El prisionero de Azkaban</td>\n",
       "      <td>1999</td>\n",
       "      <td>317</td>\n",
       "    </tr>\n",
       "    <tr>\n",
       "      <th>3</th>\n",
       "      <td>El cáliz de fuego</td>\n",
       "      <td>2000</td>\n",
       "      <td>636</td>\n",
       "    </tr>\n",
       "    <tr>\n",
       "      <th>4</th>\n",
       "      <td>La orden del Fénix</td>\n",
       "      <td>2003</td>\n",
       "      <td>766</td>\n",
       "    </tr>\n",
       "    <tr>\n",
       "      <th>5</th>\n",
       "      <td>El misterio del príncipe</td>\n",
       "      <td>2005</td>\n",
       "      <td>607</td>\n",
       "    </tr>\n",
       "    <tr>\n",
       "      <th>6</th>\n",
       "      <td>Las reliquias de la muerte</td>\n",
       "      <td>2007</td>\n",
       "      <td>607</td>\n",
       "    </tr>\n",
       "  </tbody>\n",
       "</table>\n",
       "</div>"
      ],
      "text/plain": [
       "                       Titulo  Año de edición  Páginas\n",
       "2    El prisionero de Azkaban            1999      317\n",
       "3           El cáliz de fuego            2000      636\n",
       "4          La orden del Fénix            2003      766\n",
       "5    El misterio del príncipe            2005      607\n",
       "6  Las reliquias de la muerte            2007      607"
      ]
     },
     "metadata": {},
     "output_type": "display_data"
    }
   ],
   "source": [
    "display(df.head()) # muestra las primeras 5 filas\n",
    "display(df.tail()) # muestra las últimas 5 filas"
   ]
  },
  {
   "cell_type": "markdown",
   "metadata": {},
   "source": [
    "El `DataFrame` usa la variable `index` como en las series, y la variable `columns` para describir las etiquetas de las columnas. Por ejemplo:"
   ]
  },
  {
   "cell_type": "code",
   "execution_count": 5,
   "metadata": {},
   "outputs": [
    {
     "data": {
      "text/html": [
       "<div>\n",
       "<style scoped>\n",
       "    .dataframe tbody tr th:only-of-type {\n",
       "        vertical-align: middle;\n",
       "    }\n",
       "\n",
       "    .dataframe tbody tr th {\n",
       "        vertical-align: top;\n",
       "    }\n",
       "\n",
       "    .dataframe thead th {\n",
       "        text-align: right;\n",
       "    }\n",
       "</style>\n",
       "<table border=\"1\" class=\"dataframe\">\n",
       "  <thead>\n",
       "    <tr style=\"text-align: right;\">\n",
       "      <th></th>\n",
       "      <th>Titulo</th>\n",
       "      <th>Páginas</th>\n",
       "      <th>Año de edición</th>\n",
       "    </tr>\n",
       "  </thead>\n",
       "  <tbody>\n",
       "    <tr>\n",
       "      <th>a</th>\n",
       "      <td>La piedra filosofal</td>\n",
       "      <td>223</td>\n",
       "      <td>1997</td>\n",
       "    </tr>\n",
       "    <tr>\n",
       "      <th>b</th>\n",
       "      <td>La cámara secreta</td>\n",
       "      <td>251</td>\n",
       "      <td>1998</td>\n",
       "    </tr>\n",
       "    <tr>\n",
       "      <th>c</th>\n",
       "      <td>El prisionero de Azkaban</td>\n",
       "      <td>317</td>\n",
       "      <td>1999</td>\n",
       "    </tr>\n",
       "    <tr>\n",
       "      <th>d</th>\n",
       "      <td>El cáliz de fuego</td>\n",
       "      <td>636</td>\n",
       "      <td>2000</td>\n",
       "    </tr>\n",
       "    <tr>\n",
       "      <th>e</th>\n",
       "      <td>La orden del Fénix</td>\n",
       "      <td>766</td>\n",
       "      <td>2003</td>\n",
       "    </tr>\n",
       "    <tr>\n",
       "      <th>f</th>\n",
       "      <td>El misterio del príncipe</td>\n",
       "      <td>607</td>\n",
       "      <td>2005</td>\n",
       "    </tr>\n",
       "    <tr>\n",
       "      <th>g</th>\n",
       "      <td>Las reliquias de la muerte</td>\n",
       "      <td>607</td>\n",
       "      <td>2007</td>\n",
       "    </tr>\n",
       "  </tbody>\n",
       "</table>\n",
       "</div>"
      ],
      "text/plain": [
       "                       Titulo  Páginas  Año de edición\n",
       "a         La piedra filosofal      223            1997\n",
       "b           La cámara secreta      251            1998\n",
       "c    El prisionero de Azkaban      317            1999\n",
       "d           El cáliz de fuego      636            2000\n",
       "e          La orden del Fénix      766            2003\n",
       "f    El misterio del príncipe      607            2005\n",
       "g  Las reliquias de la muerte      607            2007"
      ]
     },
     "execution_count": 5,
     "metadata": {},
     "output_type": "execute_result"
    }
   ],
   "source": [
    "df2 = pd.DataFrame(data, index = [\"a\", \"b\", \"c\", \"d\", \"e\", \"f\", \"g\"], columns = [\"Titulo\", \"Páginas\", \"Año de edición\"])\n",
    "df2"
   ]
  },
  {
   "cell_type": "markdown",
   "metadata": {},
   "source": [
    "Notar que el orden de la lista de etiquetas que se pasa a `columns` se mantiene al crear el `DataFrame`. La lista que se usa en la creación de un `DataFrame` usando `columns` debe contener exactamente los mismos valores que las claves del diccionario, sino generará una columna con datos faltantes.\n",
    "\n",
    "Para acceder a las etiquetas de filas y columnas, usamos los métodos `.index` y `.columns`."
   ]
  },
  {
   "cell_type": "code",
   "execution_count": 6,
   "metadata": {},
   "outputs": [
    {
     "name": "stdout",
     "output_type": "stream",
     "text": [
      "Indices de filas: Index(['a', 'b', 'c', 'd', 'e', 'f', 'g'], dtype='object')\n",
      "Indices de columnas: Index(['Titulo', 'Páginas', 'Año de edición'], dtype='object')\n"
     ]
    }
   ],
   "source": [
    "print(f\"Indices de filas: {df2.index}\")\n",
    "print(f\"Indices de columnas: {df2.columns}\")"
   ]
  },
  {
   "cell_type": "markdown",
   "metadata": {},
   "source": [
    "## Accediendo a los valores\n",
    "\n",
    "Para acceder a las columnas podemos usar: "
   ]
  },
  {
   "cell_type": "code",
   "execution_count": 7,
   "metadata": {},
   "outputs": [
    {
     "name": "stdout",
     "output_type": "stream",
     "text": [
      "Valores de las filas: [['La piedra filosofal' 223 1997]\n",
      " ['La cámara secreta' 251 1998]\n",
      " ['El prisionero de Azkaban' 317 1999]\n",
      " ['El cáliz de fuego' 636 2000]\n",
      " ['La orden del Fénix' 766 2003]\n",
      " ['El misterio del príncipe' 607 2005]\n",
      " ['Las reliquias de la muerte' 607 2007]]\n",
      "Valores de las columnas: <class 'numpy.ndarray'>\n"
     ]
    }
   ],
   "source": [
    "print(f\"Valores de las filas: {df2.values}\")\n",
    "print(f\"Valores de las columnas: {type(df2.values)}\")    "
   ]
  },
  {
   "cell_type": "markdown",
   "metadata": {},
   "source": [
    "El resultado de esta operación nos devuelve un arreglo 2D de NumPy, cuyo tipo de dato será el mínimo que pueda contener los tipos de datos de las columnas que lo componen. Por ejemplo, si nuestras columnas tienen datos en `float32` y `float64`, el tipo del arreglo de NumPy resultante será `float64`. En el caso anterior, los tipos de datos de las columnas son:"
   ]
  },
  {
   "cell_type": "code",
   "execution_count": 8,
   "metadata": {},
   "outputs": [
    {
     "data": {
      "text/plain": [
       "Titulo            object\n",
       "Páginas            int64\n",
       "Año de edición     int64\n",
       "dtype: object"
      ]
     },
     "execution_count": 8,
     "metadata": {},
     "output_type": "execute_result"
    }
   ],
   "source": [
    "df2.dtypes"
   ]
  },
  {
   "cell_type": "markdown",
   "metadata": {},
   "source": [
    "Es decir que los datos en `int64` de las columnas `Páginas` y `Año de edición` se promueven a `object`. \n",
    "\n",
    "El acceso a ciertas columnas en particular se hace como en los diccionarios:"
   ]
  },
  {
   "cell_type": "code",
   "execution_count": 9,
   "metadata": {},
   "outputs": [
    {
     "name": "stdout",
     "output_type": "stream",
     "text": [
      "La columna 'Titulo'\n",
      "a           La piedra filosofal\n",
      "b             La cámara secreta\n",
      "c      El prisionero de Azkaban\n",
      "d             El cáliz de fuego\n",
      "e            La orden del Fénix\n",
      "f      El misterio del príncipe\n",
      "g    Las reliquias de la muerte\n",
      "Name: Titulo, dtype: object\n",
      "Tipo de la columna 'Titulo': <class 'pandas.core.series.Series'>\n",
      "Valores de la columna 'Titulo': ['La piedra filosofal' 'La cámara secreta' 'El prisionero de Azkaban'\n",
      " 'El cáliz de fuego' 'La orden del Fénix' 'El misterio del príncipe'\n",
      " 'Las reliquias de la muerte']\n",
      "Tipo de la columna 'Titulo' .values: <class 'numpy.ndarray'>\n"
     ]
    }
   ],
   "source": [
    "titulos = df2[\"Titulo\"]\n",
    "print(\"La columna 'Titulo'\")\n",
    "print(f\"{titulos}\")\n",
    "print(f\"Tipo de la columna 'Titulo': {type(titulos)}\")\n",
    "print(f\"Valores de la columna 'Titulo': {titulos.values}\")\n",
    "print(f\"Tipo de la columna 'Titulo' .values: {type(titulos.values)}\")"
   ]
  },
  {
   "cell_type": "markdown",
   "metadata": {},
   "source": [
    "Vemos que una columna en un `DataFrame` de `pandas` es representada efectivamente por una serie, de este modo, sus valores (obtenidos mediante `.values`) serán un arreglo de NumPy, como vimos antes. \n",
    "\n",
    "En el caso en que la etiqueta de una columna no contenga espacios, se puede acceder a la misma con el operador `.`:\n"
   ]
  },
  {
   "cell_type": "code",
   "execution_count": 10,
   "metadata": {},
   "outputs": [
    {
     "data": {
      "text/plain": [
       "a           La piedra filosofal\n",
       "b             La cámara secreta\n",
       "c      El prisionero de Azkaban\n",
       "d             El cáliz de fuego\n",
       "e            La orden del Fénix\n",
       "f      El misterio del príncipe\n",
       "g    Las reliquias de la muerte\n",
       "Name: Titulo, dtype: object"
      ]
     },
     "execution_count": 10,
     "metadata": {},
     "output_type": "execute_result"
    }
   ],
   "source": [
    "df2.Titulo # es lo mismo que df2['Titulo']"
   ]
  },
  {
   "cell_type": "markdown",
   "metadata": {},
   "source": [
    "> Si uno quisiera usar esta propiedad en forma exhaustiva para todas las columnas, debería reemplazar las etiquetas de las mismas por nombres de variables válidos en Python"
   ]
  },
  {
   "cell_type": "code",
   "execution_count": 11,
   "metadata": {},
   "outputs": [
    {
     "data": {
      "text/html": [
       "<div>\n",
       "<style scoped>\n",
       "    .dataframe tbody tr th:only-of-type {\n",
       "        vertical-align: middle;\n",
       "    }\n",
       "\n",
       "    .dataframe tbody tr th {\n",
       "        vertical-align: top;\n",
       "    }\n",
       "\n",
       "    .dataframe thead th {\n",
       "        text-align: right;\n",
       "    }\n",
       "</style>\n",
       "<table border=\"1\" class=\"dataframe\">\n",
       "  <thead>\n",
       "    <tr style=\"text-align: right;\">\n",
       "      <th></th>\n",
       "      <th>titulo</th>\n",
       "      <th>paginas</th>\n",
       "      <th>primer_edicion</th>\n",
       "    </tr>\n",
       "  </thead>\n",
       "  <tbody>\n",
       "    <tr>\n",
       "      <th>a</th>\n",
       "      <td>La piedra filosofal</td>\n",
       "      <td>223</td>\n",
       "      <td>1997</td>\n",
       "    </tr>\n",
       "    <tr>\n",
       "      <th>b</th>\n",
       "      <td>La cámara secreta</td>\n",
       "      <td>251</td>\n",
       "      <td>1998</td>\n",
       "    </tr>\n",
       "    <tr>\n",
       "      <th>c</th>\n",
       "      <td>El prisionero de Azkaban</td>\n",
       "      <td>317</td>\n",
       "      <td>1999</td>\n",
       "    </tr>\n",
       "    <tr>\n",
       "      <th>d</th>\n",
       "      <td>El cáliz de fuego</td>\n",
       "      <td>636</td>\n",
       "      <td>2000</td>\n",
       "    </tr>\n",
       "    <tr>\n",
       "      <th>e</th>\n",
       "      <td>La orden del Fénix</td>\n",
       "      <td>766</td>\n",
       "      <td>2003</td>\n",
       "    </tr>\n",
       "    <tr>\n",
       "      <th>f</th>\n",
       "      <td>El misterio del príncipe</td>\n",
       "      <td>607</td>\n",
       "      <td>2005</td>\n",
       "    </tr>\n",
       "    <tr>\n",
       "      <th>g</th>\n",
       "      <td>Las reliquias de la muerte</td>\n",
       "      <td>607</td>\n",
       "      <td>2007</td>\n",
       "    </tr>\n",
       "  </tbody>\n",
       "</table>\n",
       "</div>"
      ],
      "text/plain": [
       "                       titulo  paginas  primer_edicion\n",
       "a         La piedra filosofal      223            1997\n",
       "b           La cámara secreta      251            1998\n",
       "c    El prisionero de Azkaban      317            1999\n",
       "d           El cáliz de fuego      636            2000\n",
       "e          La orden del Fénix      766            2003\n",
       "f    El misterio del príncipe      607            2005\n",
       "g  Las reliquias de la muerte      607            2007"
      ]
     },
     "execution_count": 11,
     "metadata": {},
     "output_type": "execute_result"
    }
   ],
   "source": [
    "df2.columns = [\"titulo\", \"paginas\", \"primer_edicion\"]\n",
    "df2"
   ]
  },
  {
   "cell_type": "code",
   "execution_count": 12,
   "metadata": {},
   "outputs": [
    {
     "data": {
      "text/plain": [
       "a    1997\n",
       "b    1998\n",
       "c    1999\n",
       "d    2000\n",
       "e    2003\n",
       "f    2005\n",
       "g    2007\n",
       "Name: primer_edicion, dtype: int64"
      ]
     },
     "execution_count": 12,
     "metadata": {},
     "output_type": "execute_result"
    }
   ],
   "source": [
    "df2.primer_edicion"
   ]
  },
  {
   "cell_type": "markdown",
   "metadata": {},
   "source": [
    "> En el caso en que uno cree un `DataFrame` desde una base de datos, una buena práctica es mantener la consistencia entre las etiquetas de las columnas del `DataFrame` y las de la base de datos."
   ]
  },
  {
   "cell_type": "markdown",
   "metadata": {},
   "source": [
    "Se puede acceder a una determinada fila usando las etiquetas través de `.loc` o con índices enteros con `.iloc`:"
   ]
  },
  {
   "cell_type": "code",
   "execution_count": 13,
   "metadata": {},
   "outputs": [
    {
     "name": "stdout",
     "output_type": "stream",
     "text": [
      "Primer libro:\n",
      "titulo            La piedra filosofal\n",
      "paginas                           223\n",
      "primer_edicion                   1997\n",
      "Name: a, dtype: object\n",
      "Segundo libro:\n",
      "titulo            La cámara secreta\n",
      "paginas                         251\n",
      "primer_edicion                 1998\n",
      "Name: b, dtype: object\n",
      "Último libro:\n",
      "titulo            Las reliquias de la muerte\n",
      "paginas                                  607\n",
      "primer_edicion                          2007\n",
      "Name: g, dtype: object\n"
     ]
    }
   ],
   "source": [
    "print(f\"Primer libro:\\n{df2.iloc[0]}\")\n",
    "print(f\"Segundo libro:\\n{df2.loc['b']}\")\n",
    "print(f\"Último libro:\\n{df2.iloc[-1]}\")\n"
   ]
  },
  {
   "cell_type": "markdown",
   "metadata": {},
   "source": [
    "Y se puede acceder a un elemento particular de la tabla:"
   ]
  },
  {
   "cell_type": "code",
   "execution_count": 14,
   "metadata": {},
   "outputs": [
    {
     "name": "stdout",
     "output_type": "stream",
     "text": [
      "Título primer libro: La piedra filosofal\n",
      "Año de edición del segundo libro: 1998\n",
      "Año de edición del último libro: 2007\n"
     ]
    }
   ],
   "source": [
    "print(f\"Título primer libro: {df2.iloc[0].titulo}\")\n",
    "print(f\"Año de edición del segundo libro: {df2.loc['b', 'primer_edicion']}\")\n",
    "print(f\"Año de edición del último libro: {df2.iloc[-1, 2]}\")"
   ]
  },
  {
   "cell_type": "markdown",
   "metadata": {},
   "source": [
    "La figura presenta los distintos tipos de acceso a los datos de un `DataFrame`\n",
    "\n",
    "![](figuras/loc.png)"
   ]
  },
  {
   "cell_type": "markdown",
   "metadata": {},
   "source": [
    "> Si se quisiera acceder a ciertas regiones de la tabla, se pueden reemplazar los valores individuales por rangos, tal como uno haría con NumPy"
   ]
  },
  {
   "cell_type": "code",
   "execution_count": 15,
   "metadata": {},
   "outputs": [
    {
     "data": {
      "text/html": [
       "<div>\n",
       "<style scoped>\n",
       "    .dataframe tbody tr th:only-of-type {\n",
       "        vertical-align: middle;\n",
       "    }\n",
       "\n",
       "    .dataframe tbody tr th {\n",
       "        vertical-align: top;\n",
       "    }\n",
       "\n",
       "    .dataframe thead th {\n",
       "        text-align: right;\n",
       "    }\n",
       "</style>\n",
       "<table border=\"1\" class=\"dataframe\">\n",
       "  <thead>\n",
       "    <tr style=\"text-align: right;\">\n",
       "      <th></th>\n",
       "      <th>titulo</th>\n",
       "      <th>paginas</th>\n",
       "    </tr>\n",
       "  </thead>\n",
       "  <tbody>\n",
       "    <tr>\n",
       "      <th>a</th>\n",
       "      <td>La piedra filosofal</td>\n",
       "      <td>223</td>\n",
       "    </tr>\n",
       "    <tr>\n",
       "      <th>d</th>\n",
       "      <td>El cáliz de fuego</td>\n",
       "      <td>636</td>\n",
       "    </tr>\n",
       "  </tbody>\n",
       "</table>\n",
       "</div>"
      ],
      "text/plain": [
       "                titulo  paginas\n",
       "a  La piedra filosofal      223\n",
       "d    El cáliz de fuego      636"
      ]
     },
     "execution_count": 15,
     "metadata": {},
     "output_type": "execute_result"
    }
   ],
   "source": [
    "df2.loc[['a','d'],[\"titulo\", \"paginas\"]]"
   ]
  },
  {
   "cell_type": "code",
   "execution_count": 16,
   "metadata": {},
   "outputs": [
    {
     "data": {
      "text/html": [
       "<div>\n",
       "<style scoped>\n",
       "    .dataframe tbody tr th:only-of-type {\n",
       "        vertical-align: middle;\n",
       "    }\n",
       "\n",
       "    .dataframe tbody tr th {\n",
       "        vertical-align: top;\n",
       "    }\n",
       "\n",
       "    .dataframe thead th {\n",
       "        text-align: right;\n",
       "    }\n",
       "</style>\n",
       "<table border=\"1\" class=\"dataframe\">\n",
       "  <thead>\n",
       "    <tr style=\"text-align: right;\">\n",
       "      <th></th>\n",
       "      <th>titulo</th>\n",
       "      <th>primer_edicion</th>\n",
       "    </tr>\n",
       "  </thead>\n",
       "  <tbody>\n",
       "    <tr>\n",
       "      <th>a</th>\n",
       "      <td>La piedra filosofal</td>\n",
       "      <td>1997</td>\n",
       "    </tr>\n",
       "    <tr>\n",
       "      <th>b</th>\n",
       "      <td>La cámara secreta</td>\n",
       "      <td>1998</td>\n",
       "    </tr>\n",
       "    <tr>\n",
       "      <th>c</th>\n",
       "      <td>El prisionero de Azkaban</td>\n",
       "      <td>1999</td>\n",
       "    </tr>\n",
       "    <tr>\n",
       "      <th>d</th>\n",
       "      <td>El cáliz de fuego</td>\n",
       "      <td>2000</td>\n",
       "    </tr>\n",
       "  </tbody>\n",
       "</table>\n",
       "</div>"
      ],
      "text/plain": [
       "                     titulo  primer_edicion\n",
       "a       La piedra filosofal            1997\n",
       "b         La cámara secreta            1998\n",
       "c  El prisionero de Azkaban            1999\n",
       "d         El cáliz de fuego            2000"
      ]
     },
     "execution_count": 16,
     "metadata": {},
     "output_type": "execute_result"
    }
   ],
   "source": [
    "df2.loc[:'d',[\"titulo\", \"primer_edicion\"]]"
   ]
  },
  {
   "cell_type": "code",
   "execution_count": 17,
   "metadata": {},
   "outputs": [
    {
     "data": {
      "text/html": [
       "<div>\n",
       "<style scoped>\n",
       "    .dataframe tbody tr th:only-of-type {\n",
       "        vertical-align: middle;\n",
       "    }\n",
       "\n",
       "    .dataframe tbody tr th {\n",
       "        vertical-align: top;\n",
       "    }\n",
       "\n",
       "    .dataframe thead th {\n",
       "        text-align: right;\n",
       "    }\n",
       "</style>\n",
       "<table border=\"1\" class=\"dataframe\">\n",
       "  <thead>\n",
       "    <tr style=\"text-align: right;\">\n",
       "      <th></th>\n",
       "      <th>titulo</th>\n",
       "      <th>paginas</th>\n",
       "    </tr>\n",
       "  </thead>\n",
       "  <tbody>\n",
       "    <tr>\n",
       "      <th>a</th>\n",
       "      <td>La piedra filosofal</td>\n",
       "      <td>223</td>\n",
       "    </tr>\n",
       "    <tr>\n",
       "      <th>b</th>\n",
       "      <td>La cámara secreta</td>\n",
       "      <td>251</td>\n",
       "    </tr>\n",
       "    <tr>\n",
       "      <th>c</th>\n",
       "      <td>El prisionero de Azkaban</td>\n",
       "      <td>317</td>\n",
       "    </tr>\n",
       "  </tbody>\n",
       "</table>\n",
       "</div>"
      ],
      "text/plain": [
       "                     titulo  paginas\n",
       "a       La piedra filosofal      223\n",
       "b         La cámara secreta      251\n",
       "c  El prisionero de Azkaban      317"
      ]
     },
     "execution_count": 17,
     "metadata": {},
     "output_type": "execute_result"
    }
   ],
   "source": [
    "df2.iloc[0:3, :2]"
   ]
  },
  {
   "cell_type": "markdown",
   "metadata": {},
   "source": [
    "También se puede acceder a una parte de la tabla a partir de la aplicación de una condición. Veamos por ejemplo qué libros salieron en el siglo XXI. Para eso vemos qué elementos tienen valor de `primera_edicion` mayor a 2000:"
   ]
  },
  {
   "cell_type": "code",
   "execution_count": 18,
   "metadata": {},
   "outputs": [
    {
     "data": {
      "text/plain": [
       "a    False\n",
       "b    False\n",
       "c    False\n",
       "d    False\n",
       "e     True\n",
       "f     True\n",
       "g     True\n",
       "Name: primer_edicion, dtype: bool"
      ]
     },
     "execution_count": 18,
     "metadata": {},
     "output_type": "execute_result"
    }
   ],
   "source": [
    "df2['primer_edicion'] > 2000"
   ]
  },
  {
   "cell_type": "code",
   "execution_count": 19,
   "metadata": {},
   "outputs": [
    {
     "data": {
      "text/html": [
       "<div>\n",
       "<style scoped>\n",
       "    .dataframe tbody tr th:only-of-type {\n",
       "        vertical-align: middle;\n",
       "    }\n",
       "\n",
       "    .dataframe tbody tr th {\n",
       "        vertical-align: top;\n",
       "    }\n",
       "\n",
       "    .dataframe thead th {\n",
       "        text-align: right;\n",
       "    }\n",
       "</style>\n",
       "<table border=\"1\" class=\"dataframe\">\n",
       "  <thead>\n",
       "    <tr style=\"text-align: right;\">\n",
       "      <th></th>\n",
       "      <th>titulo</th>\n",
       "      <th>paginas</th>\n",
       "      <th>primer_edicion</th>\n",
       "    </tr>\n",
       "  </thead>\n",
       "  <tbody>\n",
       "    <tr>\n",
       "      <th>e</th>\n",
       "      <td>La orden del Fénix</td>\n",
       "      <td>766</td>\n",
       "      <td>2003</td>\n",
       "    </tr>\n",
       "    <tr>\n",
       "      <th>f</th>\n",
       "      <td>El misterio del príncipe</td>\n",
       "      <td>607</td>\n",
       "      <td>2005</td>\n",
       "    </tr>\n",
       "    <tr>\n",
       "      <th>g</th>\n",
       "      <td>Las reliquias de la muerte</td>\n",
       "      <td>607</td>\n",
       "      <td>2007</td>\n",
       "    </tr>\n",
       "  </tbody>\n",
       "</table>\n",
       "</div>"
      ],
      "text/plain": [
       "                       titulo  paginas  primer_edicion\n",
       "e          La orden del Fénix      766            2003\n",
       "f    El misterio del príncipe      607            2005\n",
       "g  Las reliquias de la muerte      607            2007"
      ]
     },
     "execution_count": 19,
     "metadata": {},
     "output_type": "execute_result"
    }
   ],
   "source": [
    "df2[df2['primer_edicion'] > 2000]"
   ]
  },
  {
   "cell_type": "code",
   "execution_count": 20,
   "metadata": {},
   "outputs": [
    {
     "name": "stdout",
     "output_type": "stream",
     "text": [
      "<class 'pandas.core.frame.DataFrame'>\n"
     ]
    }
   ],
   "source": [
    "print(type(df2[df2['primer_edicion'] > 2000]))"
   ]
  },
  {
   "cell_type": "markdown",
   "metadata": {},
   "source": [
    "## Modificando valores\n",
    "\n",
    "Retomemos nuestro `DataFrame` inicial y agreguémosle una columna con la calificación promedio de cada libro dada por los lectores:"
   ]
  },
  {
   "cell_type": "code",
   "execution_count": null,
   "metadata": {},
   "outputs": [],
   "source": [
    "df = pd.DataFrame(data)\n",
    "display(df)"
   ]
  },
  {
   "cell_type": "code",
   "execution_count": null,
   "metadata": {},
   "outputs": [],
   "source": [
    "df['Calificación'] = [4.5, 4.3, 4.6, 4.8, 4.7, 4.9, 4.9]\n",
    "df"
   ]
  },
  {
   "cell_type": "markdown",
   "metadata": {},
   "source": [
    "Supongamos que queremos agregar una columna `Siglo` con el siglo en que fue escrito cada libro. Empecemos creando una columna:"
   ]
  },
  {
   "cell_type": "code",
   "execution_count": null,
   "metadata": {},
   "outputs": [],
   "source": [
    "df['Siglo'] = \"\"\n",
    "df"
   ]
  },
  {
   "cell_type": "markdown",
   "metadata": {},
   "source": [
    "Esto crea la columna `Siglo` que no existe en la tabla, y le asigna el valor `\"\"` a todas las filas. Podríamos haber completado la columna con una lista _con la misma cantidad de filas que la tabla_, pero mejor vamos a seleccionar aquellos libros del siglo XX, y completaremos los correspondientes valores en la nueva columna. Lo mismo haremos con los del siglo XXI:"
   ]
  },
  {
   "cell_type": "code",
   "execution_count": null,
   "metadata": {},
   "outputs": [],
   "source": [
    "df.loc[df['Año de edición'] <= 2000, 'Siglo'] = 'XX'\n",
    "df.loc[df['Año de edición'] > 2000, 'Siglo'] = 'XXI'\n",
    "df"
   ]
  },
  {
   "cell_type": "markdown",
   "metadata": {},
   "source": [
    "Uno podría hacer algo como lo siguiente (se llama _chaining_):"
   ]
  },
  {
   "cell_type": "code",
   "execution_count": null,
   "metadata": {},
   "outputs": [],
   "source": [
    "df.loc[df['Año de edición'] <= 2000]['Siglo'] = 'siglo XX'\n",
    "df"
   ]
  },
  {
   "cell_type": "markdown",
   "metadata": {},
   "source": [
    "¿Qué pasó? Por la forma en que `pandas` obtiene los valores pedidos por la máscara `df['Año de edición'] <= 2000`, el proceso de _chaining_ genera un `DataFrame` intermedio que es el que se pretende modificar con `['Siglo']`. El resultado es que `df` no se modifica. \n",
    "\n",
    "> Para evitar estos inconvenientes, no se recomienda usar _chaining_ al hacer modificaciones en los `DataFrame`s. \n",
    "\n",
    "Para borrar filas o columnas, usamos `.drop`: "
   ]
  },
  {
   "cell_type": "code",
   "execution_count": null,
   "metadata": {},
   "outputs": [],
   "source": [
    "df = df.drop(3)\n",
    "df"
   ]
  },
  {
   "cell_type": "code",
   "execution_count": null,
   "metadata": {},
   "outputs": [],
   "source": [
    "df"
   ]
  },
  {
   "cell_type": "code",
   "execution_count": null,
   "metadata": {},
   "outputs": [],
   "source": [
    "df.drop('Siglo',axis=1) # no modifica el dataframe original\n",
    "display(df)\n",
    "df.drop('Siglo',axis=1, inplace=True) # modifica el dataframe original \n",
    "display(df)"
   ]
  },
  {
   "cell_type": "markdown",
   "metadata": {},
   "source": [
    "Supongamos ahora que tenemos un `DataFrame` (o una serie) con el número de capítulos de los libros:"
   ]
  },
  {
   "cell_type": "code",
   "execution_count": null,
   "metadata": {},
   "outputs": [],
   "source": [
    "capitulos_data = {\n",
    "    \"Titulo\": [\n",
    "        \"The Philosopher's Stone\",\n",
    "        \"The Chamber of Secrets\",\n",
    "        \"The Prisoner of Azkaban\",\n",
    "        \"The Goblet of Fire\",\n",
    "        \"The Order of the Phoenix\",\n",
    "        \"The Half-Blood Prince\",\n",
    "        \"The Deathly Hallows\"\n",
    "    ],\n",
    "    \"Capítulos\": [17, 18, 22, 37, 38, 30, 36]\n",
    "}\n",
    "\n",
    "capitulos = pd.DataFrame(capitulos_data)\n",
    "display(capitulos)"
   ]
  },
  {
   "cell_type": "markdown",
   "metadata": {},
   "source": [
    "Quisiéramos agregar los datos de los capítulos a la primer tabla:"
   ]
  },
  {
   "cell_type": "code",
   "execution_count": null,
   "metadata": {},
   "outputs": [],
   "source": [
    "df['Capítulos'] = capitulos['Capítulos'] \n",
    "display(df)"
   ]
  },
  {
   "cell_type": "markdown",
   "metadata": {},
   "source": [
    "La columna queda agregada correctamente, y _no_ se agrega el dato en el libro 3 porque ya no está en `df`. Viceversa, si queremos agregar el número de páginas desde `df` a la tabla de `capítulos`:"
   ]
  },
  {
   "cell_type": "code",
   "execution_count": null,
   "metadata": {},
   "outputs": [],
   "source": [
    "capitulos['Páginas'] = df['Páginas']\n",
    "display(capitulos)"
   ]
  },
  {
   "cell_type": "markdown",
   "metadata": {},
   "source": [
    "Vemos como naturalmente completa con `Nan` el dato inexistente. Este comportamiento es consistente en todos los casos, ya sea copiando una sola columna o varias, o copiando partes de la tabla utilizando listas o rangos para su definición."
   ]
  },
  {
   "cell_type": "markdown",
   "metadata": {},
   "source": [
    "## Operaciones con `DataFrames`"
   ]
  },
  {
   "cell_type": "markdown",
   "metadata": {},
   "source": [
    "Vamos a ver algunas operaciones de las muchas que se pueden hacer con `DataFrame`s.\n",
    "\n",
    "> Recordemos que la representación interna de los `DataFrame`s es equivalente a los arreglos de NumPy, con lo cual siempre se podrán realizar cálculos a través de las funciones y métodos que provee dicha biblioteca."
   ]
  },
  {
   "cell_type": "markdown",
   "metadata": {},
   "source": [
    "### Aritméticas    "
   ]
  },
  {
   "cell_type": "code",
   "execution_count": null,
   "metadata": {},
   "outputs": [],
   "source": [
    "s1 = pd.DataFrame(np.arange(1,11).reshape(5,2), index = ['a', 'b', 'c', 'd', 'e'],columns=['A', 'B'])   \n",
    "s2 = pd.DataFrame(np.arange(1,11).reshape(2,5).T, index = ['a', 'g', 'h', 'd', 'e'],columns=['A', 'B'])\n",
    "display(s1,s2)"
   ]
  },
  {
   "cell_type": "code",
   "execution_count": null,
   "metadata": {},
   "outputs": [],
   "source": [
    "1/s1"
   ]
  },
  {
   "cell_type": "code",
   "execution_count": null,
   "metadata": {},
   "outputs": [],
   "source": [
    "s1 - 42"
   ]
  },
  {
   "cell_type": "markdown",
   "metadata": {},
   "source": [
    "Al usar dos o más `DataFrame`s, el proceso de alineamiento de datos de acuerdo a las etiquetas de las filas introduce automáticamente los datos faltantes. Por lo tanto, aquellos valores que faltan no serán, en este caso, sumados y resultarán también en un dato inexistente:"
   ]
  },
  {
   "cell_type": "code",
   "execution_count": null,
   "metadata": {},
   "outputs": [],
   "source": [
    "s1+s2"
   ]
  },
  {
   "cell_type": "markdown",
   "metadata": {},
   "source": [
    "Es posible operar con `DataFrame`s asignando un valor definido a los datos inexistentes, con el argumento `fill_value`:"
   ]
  },
  {
   "cell_type": "code",
   "execution_count": null,
   "metadata": {},
   "outputs": [],
   "source": [
    "# Función de convenciencia para mostrar dos tablas una al lado de la otra\n",
    "\n",
    "from IPython.display import display, HTML\n",
    "\n",
    "def display_side_by_side(dfs:list, captions:list):\n",
    "    \"\"\"Display tables side by side to save vertical space\n",
    "    Input:\n",
    "        dfs: list of pandas.DataFrame\n",
    "        captions: list of table captions\n",
    "    \"\"\"\n",
    "    output = \"\"\n",
    "    combined = dict(zip(captions, dfs))\n",
    "    for caption, df in combined.items():\n",
    "        output += df.style.set_table_attributes(\"style='display:inline'\").set_caption(caption)._repr_html_()\n",
    "        output += \"\\xa0\\xa0\\xa0\"\n",
    "    display(HTML(output))"
   ]
  },
  {
   "cell_type": "code",
   "execution_count": null,
   "metadata": {},
   "outputs": [],
   "source": [
    "display_side_by_side([s1,s2],['s1','s2'])"
   ]
  },
  {
   "cell_type": "code",
   "execution_count": null,
   "metadata": {},
   "outputs": [],
   "source": [
    "display_side_by_side([s1,s2,s2.add(s1, fill_value=0)],['s1','s2','s2+s1'])"
   ]
  },
  {
   "cell_type": "code",
   "execution_count": null,
   "metadata": {},
   "outputs": [],
   "source": [
    "s3 = pd.DataFrame(np.array([1,2]*5).reshape(5,2), index = ['a', 'g', 'h', 'd', 'e'],columns=['A', 'C'])\n",
    "display(s3)\n"
   ]
  },
  {
   "cell_type": "markdown",
   "metadata": {},
   "source": [
    "La misma alineación de datos ocurre con las columnas:"
   ]
  },
  {
   "cell_type": "code",
   "execution_count": null,
   "metadata": {},
   "outputs": [],
   "source": [
    "display_side_by_side([s1,s3],['s1','s3'])"
   ]
  },
  {
   "cell_type": "code",
   "execution_count": null,
   "metadata": {},
   "outputs": [],
   "source": [
    "s1+s3"
   ]
  },
  {
   "cell_type": "markdown",
   "metadata": {},
   "source": [
    "En el caso anterior, la columna B (C) no está en el `DataFrame` s3 (s1), por lo tanto se completan como inexistentes.\n",
    "Si se utiliza `fill_value`, se completan aquellos datos con `fill_value` que están en alguno de los `DataFrame`s. \n",
    "\n",
    "> Si el dato no existe en ninguno de los `DataFrame`s, permanece como inexistente\n"
   ]
  },
  {
   "cell_type": "code",
   "execution_count": null,
   "metadata": {},
   "outputs": [],
   "source": [
    "display_side_by_side([s1,s3,s3.add(s1, fill_value=0)],['s1','s3','s3+s1'])"
   ]
  },
  {
   "cell_type": "code",
   "execution_count": null,
   "metadata": {},
   "outputs": [],
   "source": [
    "s3.mul(s1,fill_value=1) # s3*s1"
   ]
  },
  {
   "cell_type": "markdown",
   "metadata": {},
   "source": [
    "En resumen, las operaciones realizan una unión entre los `DataFrame`s, y luego, en aquellos casos en que es factible, se ejecuta la operación elemento a elemento."
   ]
  },
  {
   "cell_type": "markdown",
   "metadata": {},
   "source": [
    "### Operaciones entre `DataFrame` y `Series` \n",
    "\n",
    "También se pueden hacer operaciones matemáticas entre `DataFrame` y `Series` de manera similar. Sin embargo, hay que aclarar cómo se desarrollan las operaciones dado que mientras `DataFrame` representa una estructura 2D, `Series` es unidimensional. Por defecto, `pandas` propaga la serie por filas, al igual que NumPy. Esta extensión automática de los datos se conoce como _broadcasting_:"
   ]
  },
  {
   "cell_type": "code",
   "execution_count": null,
   "metadata": {},
   "outputs": [],
   "source": [
    "arr2D = np.arange(12).reshape(4,3)\n",
    "arr1D = np.array([3,4,5])\n",
    "print(arr2D)\n",
    "print(arr1D)\n",
    "print(np.broadcast_to(arr1D, arr2D.shape))\n",
    "print(arr2D-arr1D)\n"
   ]
  },
  {
   "cell_type": "code",
   "execution_count": null,
   "metadata": {},
   "outputs": [],
   "source": [
    "df = pd.DataFrame(arr2D, columns = ['A', 'B', 'C'])\n",
    "v = pd.Series(arr1D, index = ['A', 'B', 'C'])\n",
    "display_side_by_side([df, pd.DataFrame(v)], ['df', 'v'])\n",
    "df - arr1D  # broadcasting por filas, DataFrame - array 1D"
   ]
  },
  {
   "cell_type": "code",
   "execution_count": null,
   "metadata": {},
   "outputs": [],
   "source": [
    "df - v  # broadcasting por filas, DataFrame - Serie"
   ]
  },
  {
   "cell_type": "code",
   "execution_count": null,
   "metadata": {},
   "outputs": [],
   "source": [
    "v - df"
   ]
  },
  {
   "cell_type": "markdown",
   "metadata": {},
   "source": [
    "Se puede hacer el _broadcasting_ en forma explícita, usando el argumento `axis`:\n",
    "- Por columnas: `axis = \"index\"` (o `axis = 0`) \n",
    "- Por filas: `axis = \"columns\"` (o `axis = 1`)\n",
    "  que indica qué índice debe alinearse."
   ]
  },
  {
   "cell_type": "code",
   "execution_count": null,
   "metadata": {},
   "outputs": [],
   "source": [
    "w = df['A']\n",
    "print(w)\n",
    "print(df)\n",
    "df.sub(w, axis='index') # alinea por filas, broadcasting por columnas, DataFrame - Serie"
   ]
  },
  {
   "cell_type": "code",
   "execution_count": null,
   "metadata": {},
   "outputs": [],
   "source": [
    "df.sub(w, axis=0) # alinea por filas, broadcasting por columnas, DataFrame - Serie"
   ]
  },
  {
   "cell_type": "code",
   "execution_count": null,
   "metadata": {},
   "outputs": [],
   "source": [
    "df.sub(w, axis=1) # alínea por columnas, broadcasting por filas explícito, DataFrame - Serie"
   ]
  },
  {
   "cell_type": "markdown",
   "metadata": {},
   "source": [
    "En este último caso, dado que los índices de `w` y `df` son todos distintos, se realiza la unión y se completa con `NaN`.\n",
    "\n",
    "> **ATENCIÓN**: el eje (`axis`) es aquel en el cual se van a alinear los índices. Así, `axis=0` implica **emparejar** los índices de filas y **propagar**  por columnas. De la misma manera, `axis=1` implica **emparejar** los índices de columnas y **propagar** por filas."
   ]
  },
  {
   "cell_type": "markdown",
   "metadata": {},
   "source": [
    "### Orden \n",
    "\n",
    "Para ordenar `DataFrame`s se usa el método `.sort_index()`"
   ]
  },
  {
   "cell_type": "code",
   "execution_count": null,
   "metadata": {},
   "outputs": [],
   "source": [
    "df = pd.DataFrame(np.random.rand(4,3), index= ['c','d','a','b'], columns = ['B', 'C', 'A'])\n",
    "df\n"
   ]
  },
  {
   "cell_type": "code",
   "execution_count": null,
   "metadata": {},
   "outputs": [],
   "source": [
    "df.sort_index() # ordena por los índices de filas"
   ]
  },
  {
   "cell_type": "code",
   "execution_count": null,
   "metadata": {},
   "outputs": [],
   "source": [
    "df.sort_index(axis=1) # ordena por los índices de columnas"
   ]
  },
  {
   "cell_type": "markdown",
   "metadata": {},
   "source": [
    "Pasando el argumento `ascending` (booleano) se puede cambiar el orden por defecto, que corresponde a `ascending=True`. \n",
    "Se puede ordenar también de acuerdo a los valores de una (o múltiples) columnas utilizando el método `sort_values`:"
   ]
  },
  {
   "cell_type": "code",
   "execution_count": null,
   "metadata": {},
   "outputs": [],
   "source": [
    "df.sort_values('B')"
   ]
  },
  {
   "cell_type": "markdown",
   "metadata": {},
   "source": [
    "En el caso en que existieran valores faltantes, estos se ordenan al final por defecto, excepto que se pase el argumento opcional `na_position='first'`."
   ]
  },
  {
   "cell_type": "markdown",
   "metadata": {},
   "source": [
    "Una operación útil es _ranking_, esto es, asignar un valor desde 1 hasta el número de datos de acuerdo a un orden, desde el valor más bajo al más alto:"
   ]
  },
  {
   "cell_type": "code",
   "execution_count": null,
   "metadata": {},
   "outputs": [],
   "source": [
    "s = pd.Series(np.random.rand(5))\n",
    "s "
   ]
  },
  {
   "cell_type": "code",
   "execution_count": null,
   "metadata": {},
   "outputs": [],
   "source": [
    "s.rank()"
   ]
  },
  {
   "cell_type": "code",
   "execution_count": null,
   "metadata": {},
   "outputs": [],
   "source": [
    "display_side_by_side([df, df.rank(axis=0)],['df','df.rank->0']) # ordena a lo largo de columnas\n",
    "display_side_by_side([df, df.rank(axis=1)],['df','df.rank->1']) # ordena a lo largo de filas"
   ]
  },
  {
   "cell_type": "markdown",
   "metadata": {},
   "source": [
    "### Estadística \n",
    "\n",
    "Es muy común en el análisis de datos tener que calcular valores estadísticos que caracterizan la muestra. `pandas` provee una serie de métodos para realizar estos cálculos."
   ]
  },
  {
   "cell_type": "code",
   "execution_count": null,
   "metadata": {},
   "outputs": [],
   "source": [
    "df = pd.DataFrame(np.random.rand(4,3), index= ['a','b','c','d'], columns = ['A', 'B', 'C'])\n",
    "df\n"
   ]
  },
  {
   "cell_type": "code",
   "execution_count": null,
   "metadata": {},
   "outputs": [],
   "source": [
    "df.describe()"
   ]
  },
  {
   "cell_type": "markdown",
   "metadata": {},
   "source": [
    "Cada una de las magnitudes se corresponde a algún parámetro estadístico. "
   ]
  },
  {
   "cell_type": "markdown",
   "metadata": {},
   "source": [
    "Estas operaciones devuelven un nuevo `DataFrame`. Por ejemplo:"
   ]
  },
  {
   "cell_type": "code",
   "execution_count": null,
   "metadata": {},
   "outputs": [],
   "source": [
    "df.sum()"
   ]
  },
  {
   "cell_type": "markdown",
   "metadata": {},
   "source": [
    "retorna un `DataFrame` donde los índices corresponden a las etiquetas de cada columna.\n",
    "\n",
    "> Por defecto, los valores inexistentes (NA, Null, etc.) no son tenidos en cuenta al realizar estas operaciones."
   ]
  },
  {
   "cell_type": "code",
   "execution_count": null,
   "metadata": {},
   "outputs": [],
   "source": [
    "df['A'].sum()"
   ]
  },
  {
   "cell_type": "markdown",
   "metadata": {},
   "source": [
    "## Aplicación de funciones y map\n",
    "\n",
    "Es posible también aplicar funciones, por ejemplo"
   ]
  },
  {
   "cell_type": "code",
   "execution_count": null,
   "metadata": {},
   "outputs": [],
   "source": [
    "df"
   ]
  },
  {
   "cell_type": "code",
   "execution_count": null,
   "metadata": {},
   "outputs": [],
   "source": [
    "def f(x):\n",
    "    return x.max() - x.min()\n",
    "\n",
    "df.apply(f) # aplica la función a cada columna, por defecto axis=0\n"
   ]
  },
  {
   "cell_type": "code",
   "execution_count": null,
   "metadata": {},
   "outputs": [],
   "source": [
    "df.apply(f, axis=1) # aplica la función a cada fila, axis=1"
   ]
  },
  {
   "cell_type": "code",
   "execution_count": null,
   "metadata": {},
   "outputs": [],
   "source": [
    "df.apply(lambda x: x.max()-x.min(), axis=1) # por columnas, igual que df.apply(f, axis='columns')"
   ]
  },
  {
   "cell_type": "code",
   "execution_count": null,
   "metadata": {},
   "outputs": [],
   "source": [
    "df['mean'] = df.mean(axis=1)\n",
    "df"
   ]
  },
  {
   "cell_type": "markdown",
   "metadata": {},
   "source": [
    "Puede ser necesario aplicar determinada función a todos los valores del `DataFrame`, con `map`:"
   ]
  },
  {
   "cell_type": "code",
   "execution_count": null,
   "metadata": {},
   "outputs": [],
   "source": [
    "def round2(x):\n",
    "    return round(x, 2)\n",
    "\n",
    "\n",
    "display_side_by_side([df, df.map(round2)], ['df', 'df.map(round2)']) # aplica la función a cada elemento del DataFrame"
   ]
  },
  {
   "cell_type": "markdown",
   "metadata": {},
   "source": [
    "------\n",
    "\n",
    "\n",
    "## Ejercicio 14(c)\n",
    "\n",
    "\n",
    "6. El archivo 'clima argentina 1981 2010.txt' contiene datos climáticos significativos de las distintas estaciones meteorológicas del Servicio Meteorológico Nacional.\n",
    "\n",
    "- Inspeccione el archivo y diseñe un tipo `DataFrame` adecuado para contener dichos datos.\n",
    "- Lea el archivo y cree el `DataFrame` que diseño en el item anterior.\n",
    "- Cree una función para obtener el promedio anual de las magnitudes climáticas referidas en el archivo. La función debe recibir como argumentos el `DataFrame`, el nombre de la estación meteorológica y la magnitud, y devolver un valor (`float`) con el promedio.\n",
    "- Genere un `DataFrame` que represente todas las magnitudes promedio para cada estación meteorológica, usando la función del item anterior.\n",
    "\n",
    "-   Cree funciones para poder realizar gráficos comparativos de los datos meteorológicos. En particular, reproduzca\n",
    "\n",
    "    - El gráfico de Valores Medios de Temperatura y Precipitación \n",
    "    - El gráfico de Valores extremos de Temperatura, usando la temperatura máxima y la mínima de cada mes.\n",
    "\n",
    "que se pueden ver en el [sitio de estadísticas del Servicio Meteorológico Nacional](https://www.smn.gob.ar/estadisticas).\n",
    "\n",
    "------"
   ]
  }
 ],
 "metadata": {
  "kernelspec": {
   "display_name": "Python 3 (ipykernel)",
   "language": "python",
   "name": "python3"
  },
  "language_info": {
   "codemirror_mode": {
    "name": "ipython",
    "version": 3
   },
   "file_extension": ".py",
   "mimetype": "text/x-python",
   "name": "python",
   "nbconvert_exporter": "python",
   "pygments_lexer": "ipython3",
   "version": "3.13.2"
  }
 },
 "nbformat": 4,
 "nbformat_minor": 4
}
