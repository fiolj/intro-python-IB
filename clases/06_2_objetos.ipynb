{
 "cells": [
  {
   "cell_type": "markdown",
   "id": "1a7133f6",
   "metadata": {
    "ein.tags": "worksheet-0",
    "slideshow": {
     "slide_type": "-"
    }
   },
   "source": [
    "## Atributos de clases y de instancias\n",
    "\n",
    "Las variables que hemos definido pertenecen a cada objeto. Por ejemplo cuando hacemos"
   ]
  },
  {
   "cell_type": "markdown",
   "id": "ecba71eb",
   "metadata": {},
   "source": [
    "flavio.colavecchia@ib.edu.ar"
   ]
  },
  {
   "cell_type": "code",
   "execution_count": 6,
   "id": "3347b5c3",
   "metadata": {
    "autoscroll": false,
    "ein.hycell": false,
    "ein.tags": "worksheet-0",
    "slideshow": {
     "slide_type": "-"
    }
   },
   "outputs": [],
   "source": [
    "class Punto:\n",
    "  \"Clase para describir un punto en el espacio\"\n",
    "  def __init__(self, x=0, y=0, z=0):\n",
    "    \"Inicializa un punto en el espacio\"\n",
    "    self.x = x\n",
    "    self.y = y\n",
    "    self.z = z\n",
    "    return None\n",
    "\n",
    "  def angulo_azimuthal(self):\n",
    "    \"Devuelve el ángulo que forma con el eje x, en radianes\"\n",
    "    return atan2(self.y, self.x)\n"
   ]
  },
  {
   "cell_type": "code",
   "execution_count": 7,
   "id": "235fac38",
   "metadata": {
    "autoscroll": false,
    "ein.hycell": false,
    "ein.tags": "worksheet-0",
    "slideshow": {
     "slide_type": "-"
    }
   },
   "outputs": [],
   "source": [
    "p1 = Punto(1,2,3)\n",
    "p2 = Punto(4,5,6)"
   ]
  },
  {
   "cell_type": "markdown",
   "id": "f6777f13",
   "metadata": {
    "ein.tags": "worksheet-0",
    "slideshow": {
     "slide_type": "-"
    }
   },
   "source": [
    "cada vez que creamos un objeto de una dada clase, tiene un dato que corresponde al objeto. En este caso tanto `p1` como `p2` tienen un atributo llamado `x`, y cada uno de ellos tiene su propio valor:"
   ]
  },
  {
   "cell_type": "code",
   "execution_count": 8,
   "id": "56e8fcef",
   "metadata": {
    "autoscroll": false,
    "ein.hycell": false,
    "ein.tags": "worksheet-0",
    "slideshow": {
     "slide_type": "-"
    }
   },
   "outputs": [
    {
     "name": "stdout",
     "output_type": "stream",
     "text": [
      "1 4\n"
     ]
    }
   ],
   "source": [
    "print(p1.x, p2.x)"
   ]
  },
  {
   "cell_type": "markdown",
   "id": "5deda744",
   "metadata": {
    "ein.tags": "worksheet-0",
    "slideshow": {
     "slide_type": "-"
    }
   },
   "source": [
    "De la misma manera, en la definición de la clase nos referimos a estas variables como `self.x`, indicando que pertenecen a una instancia de una clase (o, lo que es lo mismo: un objeto específico).\n",
    "\n",
    "También existe la posibilidad de asociar variables (datos) con la clase y no con una instancia de esa clase (objeto). En el siguiente ejemplo, la variable `num_puntos` no pertenece a un `punto` en particular sino a la clase del tipo `Punto`"
   ]
  },
  {
   "cell_type": "code",
   "execution_count": 9,
   "id": "e06dbe88",
   "metadata": {
    "autoscroll": false,
    "ein.hycell": false,
    "ein.tags": "worksheet-0",
    "slideshow": {
     "slide_type": "-"
    }
   },
   "outputs": [],
   "source": [
    "class Punto:\n",
    "  \"Clase para describir un punto en el espacio\"\n",
    "\n",
    "  num_puntos = 0\n",
    "  def __init__(self, x=0, y=0, z=0):\n",
    "    \"Inicializa un punto en el espacio\"\n",
    "    self.x = x\n",
    "    self.y = y\n",
    "    self.z = z\n",
    "    Punto.num_puntos += 1\n",
    "    return None\n"
   ]
  },
  {
   "cell_type": "markdown",
   "id": "063cc034",
   "metadata": {},
   "source": [
    "En este ejemplo estamos creando el objeto `Punto` y en la variable `num_puntos` de la clase estamos llevando la cuenta de cuantos puntos hemos creado. Al crear un nuevo punto (con el método `__init__()`) aumentamos el valor de la variable en uno."
   ]
  },
  {
   "cell_type": "code",
   "execution_count": 10,
   "id": "de7c6c40",
   "metadata": {
    "autoscroll": false,
    "ein.hycell": false,
    "ein.tags": "worksheet-0",
    "slideshow": {
     "slide_type": "-"
    }
   },
   "outputs": [
    {
     "name": "stdout",
     "output_type": "stream",
     "text": [
      "Número de puntos: 0\n",
      "<__main__.Punto object at 0x10caa0770> <__main__.Punto object at 0x10ca434a0>\n",
      "Número de puntos: 2\n"
     ]
    }
   ],
   "source": [
    "print('Número de puntos:', Punto.num_puntos)\n",
    "p1 = Punto(1,1,1)\n",
    "p2 = Punto()\n",
    "print(p1, p2)\n",
    "print('Número de puntos:', Punto.num_puntos)"
   ]
  },
  {
   "cell_type": "markdown",
   "id": "ff5f515d",
   "metadata": {
    "ein.tags": "worksheet-0",
    "slideshow": {
     "slide_type": "-"
    }
   },
   "source": [
    "Si estamos contando el número de puntos que tenemos, podemos crear métodos para acceder a ellos y/o manipularlos. Estos métodos no se refieren a una instancia en particular (`p1` o `p2` en este ejemplo) sino al tipo de objeto `Punto` (a la clase)"
   ]
  },
  {
   "cell_type": "code",
   "execution_count": 11,
   "id": "803b8769",
   "metadata": {
    "autoscroll": false,
    "ein.hycell": false,
    "ein.tags": "worksheet-0",
    "slideshow": {
     "slide_type": "-"
    }
   },
   "outputs": [],
   "source": [
    "del p1\n",
    "del p2"
   ]
  },
  {
   "cell_type": "code",
   "execution_count": 12,
   "id": "a0ec4fd8",
   "metadata": {},
   "outputs": [
    {
     "ename": "NameError",
     "evalue": "name 'p1' is not defined",
     "output_type": "error",
     "traceback": [
      "\u001b[0;31m---------------------------------------------------------------------------\u001b[0m",
      "\u001b[0;31mNameError\u001b[0m                                 Traceback (most recent call last)",
      "Cell \u001b[0;32mIn[12], line 1\u001b[0m\n\u001b[0;32m----> 1\u001b[0m \u001b[38;5;28mprint\u001b[39m(\u001b[43mp1\u001b[49m)\n",
      "\u001b[0;31mNameError\u001b[0m: name 'p1' is not defined"
     ]
    }
   ],
   "source": [
    "print(p1)"
   ]
  },
  {
   "cell_type": "code",
   "execution_count": 13,
   "id": "3f0fcf9c",
   "metadata": {},
   "outputs": [
    {
     "name": "stdout",
     "output_type": "stream",
     "text": [
      "2\n"
     ]
    }
   ],
   "source": [
    "print(Punto.num_puntos)"
   ]
  },
  {
   "cell_type": "markdown",
   "id": "280e298a",
   "metadata": {},
   "source": [
    "Nuestra implementación tiene una falla, al borrar los objetos no actualiza el contador, descontando uno cada vez."
   ]
  },
  {
   "cell_type": "code",
   "execution_count": 14,
   "id": "ba304526",
   "metadata": {
    "autoscroll": false,
    "ein.hycell": false,
    "ein.tags": "worksheet-0",
    "slideshow": {
     "slide_type": "-"
    }
   },
   "outputs": [],
   "source": [
    "class Punto:\n",
    "  \"Clase para describir un punto en el espacio\"\n",
    "\n",
    "  num_puntos = 0\n",
    "  \n",
    "  def __init__(self, x=0, y=0, z=0):\n",
    "    \"Inicializa un punto en el espacio\"\n",
    "    self.x = x\n",
    "    self.y = y\n",
    "    self.z = z\n",
    "    Punto.num_puntos += 1\n",
    "    return None\n",
    "\n",
    "  def borrar(self):\n",
    "    \"Borra el punto\"\n",
    "    Punto.num_puntos -= 1\n",
    "\n",
    "  @classmethod\n",
    "  def total(cls):\n",
    "    \"Imprime el número total de puntos\"\n",
    "    print(f\"En total hay {cls.num_puntos} puntos definidos\")"
   ]
  },
  {
   "cell_type": "markdown",
   "id": "b6e2ea11",
   "metadata": {},
   "source": [
    "En esta versión agregamos un método para actualizar el contador (`borrar()`) y además agregamos un método para imprimir el número de puntos total definidos. \n",
    "\n",
    "Notar que utilizamos el decorador `@classmethod` antes de la definición, que convierte al método en un método de la clase en lugar de ser un método del objeto (la instancia). Los métodos de clase no reciben como argumento un objeto (como `p1`) sino la clase (`Punto`). \n",
    "\n",
    "Como en otros casos, el uso del decorador es una conveniencia sintáctica en lugar de llamar a la función intrínseca `classmethod()`."
   ]
  },
  {
   "cell_type": "code",
   "execution_count": 15,
   "id": "e2a3d643",
   "metadata": {
    "autoscroll": false,
    "ein.hycell": false,
    "ein.tags": "worksheet-0",
    "slideshow": {
     "slide_type": "-"
    }
   },
   "outputs": [
    {
     "name": "stdout",
     "output_type": "stream",
     "text": [
      "Número de puntos: 0\n",
      "En total hay 0 puntos definidos\n",
      "<__main__.Punto object at 0x10caa3e30> <__main__.Punto object at 0x10caa08f0>\n",
      "En total hay 2 puntos definidos\n"
     ]
    }
   ],
   "source": [
    "print('Número de puntos:', Punto.num_puntos)\n",
    "Punto.total()\n",
    "p1 = Punto(1,1,1)\n",
    "p2 = Punto()\n",
    "print(p1, p2)\n",
    "Punto.total()"
   ]
  },
  {
   "cell_type": "code",
   "execution_count": 16,
   "id": "35498d4f",
   "metadata": {
    "autoscroll": false,
    "ein.hycell": false,
    "ein.tags": "worksheet-0",
    "slideshow": {
     "slide_type": "-"
    }
   },
   "outputs": [
    {
     "name": "stdout",
     "output_type": "stream",
     "text": [
      "En total hay 2 puntos definidos\n",
      "En total hay 1 puntos definidos\n"
     ]
    }
   ],
   "source": [
    "Punto.total()\n",
    "p1.borrar()\n",
    "Punto.total()"
   ]
  },
  {
   "cell_type": "markdown",
   "id": "afb0678b",
   "metadata": {
    "ein.tags": "worksheet-0",
    "slideshow": {
     "slide_type": "-"
    }
   },
   "source": [
    "Sin embargo, en esta implementación no estamos realmente removiendo `p1`, sólo estamos actualizando el contador:"
   ]
  },
  {
   "cell_type": "code",
   "execution_count": 17,
   "id": "1547e6ce",
   "metadata": {
    "autoscroll": false,
    "ein.hycell": false,
    "ein.tags": "worksheet-0",
    "slideshow": {
     "slide_type": "-"
    }
   },
   "outputs": [
    {
     "name": "stdout",
     "output_type": "stream",
     "text": [
      "p1 = <__main__.Punto object at 0x10caa3e30>\n",
      "p1.x = 1\n"
     ]
    }
   ],
   "source": [
    "print(f\"{p1 = }\")\n",
    "print(f\"{p1.x = }\")"
   ]
  },
  {
   "cell_type": "markdown",
   "id": "7131f370",
   "metadata": {
    "ein.tags": "worksheet-0",
    "slideshow": {
     "slide_type": "-"
    }
   },
   "source": [
    "## Algunos métodos \"especiales\"\n",
    "\n",
    "Hay algunos métodos que **Python** interpreta de manera especial. Ya vimos uno de ellos: `__init__()`, que es llamado automáticamente cuando se crea una instancia de la clase.\n",
    "\n",
    "### Método `__del__()`\n",
    "\n",
    "Similarmente, existe un método `__del__()` que Python llama automáticamente cuando borramos un objeto. "
   ]
  },
  {
   "cell_type": "code",
   "execution_count": 13,
   "id": "07b86bfa",
   "metadata": {
    "autoscroll": false,
    "ein.hycell": false,
    "ein.tags": "worksheet-0",
    "slideshow": {
     "slide_type": "-"
    }
   },
   "outputs": [],
   "source": [
    "del p1\n",
    "del p2"
   ]
  },
  {
   "cell_type": "markdown",
   "id": "8b79292a",
   "metadata": {},
   "source": [
    "Podemos utilizar esto para implementar la actualización del contador de puntos"
   ]
  },
  {
   "cell_type": "code",
   "execution_count": 18,
   "id": "b2cc8539",
   "metadata": {
    "autoscroll": false,
    "ein.hycell": false,
    "ein.tags": "worksheet-0",
    "slideshow": {
     "slide_type": "-"
    }
   },
   "outputs": [],
   "source": [
    "class Punto:\n",
    "  \"Clase para describir un punto en el espacio\"\n",
    "\n",
    "  num_puntos = 0\n",
    "  \n",
    "  def __init__(self, x=0, y=0, z=0):\n",
    "    \"Inicializa un punto en el espacio\"\n",
    "    self.x = x\n",
    "    self.y = y\n",
    "    self.z = z\n",
    "    Punto.num_puntos += 1\n",
    "    return None\n",
    "\n",
    "  def __del__(self):\n",
    "    \"Borra el punto y actualiza el contador\"\n",
    "    Punto.num_puntos -= 1\n",
    "\n",
    "  @classmethod\n",
    "  def total(cls):\n",
    "    \"Imprime el número total de puntos\"\n",
    "    print(f\"En total hay {cls.num_puntos} puntos definidos\")\n"
   ]
  },
  {
   "cell_type": "code",
   "execution_count": 19,
   "id": "c4aaa4b4",
   "metadata": {
    "autoscroll": false,
    "ein.hycell": false,
    "ein.tags": "worksheet-0",
    "slideshow": {
     "slide_type": "-"
    }
   },
   "outputs": [
    {
     "name": "stdout",
     "output_type": "stream",
     "text": [
      "En total hay 2 puntos definidos\n",
      "En total hay 1 puntos definidos\n"
     ]
    }
   ],
   "source": [
    "p1 = Punto(1,1,1)\n",
    "p2 = Punto()\n",
    "Punto.total()\n",
    "del p2\n",
    "Punto.total()"
   ]
  },
  {
   "cell_type": "code",
   "execution_count": 20,
   "id": "232bb3f5",
   "metadata": {
    "autoscroll": false,
    "ein.hycell": false,
    "ein.tags": "worksheet-0",
    "slideshow": {
     "slide_type": "-"
    }
   },
   "outputs": [
    {
     "data": {
      "text/plain": [
       "<__main__.Punto at 0x10cbb14f0>"
      ]
     },
     "execution_count": 20,
     "metadata": {},
     "output_type": "execute_result"
    }
   ],
   "source": [
    "p1"
   ]
  },
  {
   "cell_type": "code",
   "execution_count": 21,
   "id": "c2855415",
   "metadata": {
    "autoscroll": false,
    "ein.hycell": false,
    "ein.tags": "worksheet-0",
    "slideshow": {
     "slide_type": "-"
    }
   },
   "outputs": [
    {
     "ename": "NameError",
     "evalue": "name 'p2' is not defined",
     "output_type": "error",
     "traceback": [
      "\u001b[0;31m---------------------------------------------------------------------------\u001b[0m",
      "\u001b[0;31mNameError\u001b[0m                                 Traceback (most recent call last)",
      "Cell \u001b[0;32mIn[21], line 1\u001b[0m\n\u001b[0;32m----> 1\u001b[0m \u001b[43mp2\u001b[49m\n",
      "\u001b[0;31mNameError\u001b[0m: name 'p2' is not defined"
     ]
    }
   ],
   "source": [
    "p2"
   ]
  },
  {
   "cell_type": "code",
   "execution_count": 22,
   "id": "fa14ec9b",
   "metadata": {},
   "outputs": [
    {
     "name": "stdout",
     "output_type": "stream",
     "text": [
      "<__main__.Punto object at 0x10cbb14f0>\n"
     ]
    }
   ],
   "source": [
    "print(p1)"
   ]
  },
  {
   "cell_type": "markdown",
   "id": "d90397cc",
   "metadata": {
    "ein.tags": "worksheet-0",
    "slideshow": {
     "slide_type": "-"
    }
   },
   "source": [
    "Como vemos, al borrar el objeto, automáticamente se actualiza el contador.\n"
   ]
  },
  {
   "cell_type": "markdown",
   "id": "dfa59bdb",
   "metadata": {
    "ein.tags": "worksheet-0",
    "slideshow": {
     "slide_type": "-"
    }
   },
   "source": [
    "\n",
    "### Métodos `__str__` y `__repr__`\n",
    "\n",
    "El método `__str__` también es especial, en el sentido en que puede ser utilizado aunque no lo llamemos explícitamente en nuestro código. En particular, es llamado cuando usamos expresiones del tipo `str(objeto)` o automáticamente cuando se utilizan las funciones `format` y `print()`. El objetivo de este método es que sea legible para los usuarios."
   ]
  },
  {
   "cell_type": "code",
   "execution_count": 19,
   "id": "f6d882ee",
   "metadata": {
    "autoscroll": false,
    "ein.hycell": false,
    "ein.tags": "worksheet-0",
    "slideshow": {
     "slide_type": "-"
    }
   },
   "outputs": [],
   "source": [
    "p1 = Punto(1,1,1)"
   ]
  },
  {
   "cell_type": "code",
   "execution_count": 20,
   "id": "5bc23919",
   "metadata": {
    "autoscroll": false,
    "ein.hycell": false,
    "ein.tags": "worksheet-0",
    "slideshow": {
     "slide_type": "-"
    }
   },
   "outputs": [
    {
     "name": "stdout",
     "output_type": "stream",
     "text": [
      "<__main__.Punto object at 0x7f32582e39d0>\n"
     ]
    }
   ],
   "source": [
    "print(p1)"
   ]
  },
  {
   "cell_type": "raw",
   "id": "01623d03",
   "metadata": {
    "autoscroll": false,
    "ein.hycell": false,
    "ein.tags": "worksheet-0",
    "slideshow": {
     "slide_type": "-"
    }
   },
   "source": [
    "Rehagamos la clase para definir puntos"
   ]
  },
  {
   "cell_type": "code",
   "execution_count": 23,
   "id": "cd0dcff2",
   "metadata": {
    "autoscroll": false,
    "ein.hycell": false,
    "ein.tags": "worksheet-0",
    "slideshow": {
     "slide_type": "-"
    }
   },
   "outputs": [],
   "source": [
    "class Punto:\n",
    "  \"Clase para describir un punto en el espacio\"\n",
    "\n",
    "  num_puntos = 0\n",
    "  \n",
    "  def __init__(self, x=0, y=0, z=0):\n",
    "    \"Inicializa un punto en el espacio\"\n",
    "    self.x = x\n",
    "    self.y = y\n",
    "    self.z = z\n",
    "    Punto.num_puntos += 1\n",
    "    return None\n",
    "\n",
    "  def __del__(self):\n",
    "    \"Borra el punto y actualiza el contador\"\n",
    "    Punto.num_puntos -= 1\n",
    "\n",
    "  def __str__(self):\n",
    "    s = f\"Punto en el espacio con coordenadas: x = {self.x}, y = {self.y}, z = {self.z}\"\n",
    "    return s\n",
    "\n",
    "  @classmethod\n",
    "  def total(cls):\n",
    "    \"Imprime el número total de puntos\"\n",
    "    print(f\"En total hay {cls.num_puntos} puntos definidos\")\n",
    "    "
   ]
  },
  {
   "cell_type": "code",
   "execution_count": 24,
   "id": "5f567f29",
   "metadata": {
    "autoscroll": false,
    "ein.hycell": false,
    "ein.tags": "worksheet-0",
    "slideshow": {
     "slide_type": "-"
    }
   },
   "outputs": [],
   "source": [
    "p1 = Punto(1,1,0)"
   ]
  },
  {
   "cell_type": "code",
   "execution_count": 25,
   "id": "12f61856",
   "metadata": {
    "autoscroll": false,
    "ein.hycell": false,
    "ein.tags": "worksheet-0",
    "slideshow": {
     "slide_type": "-"
    }
   },
   "outputs": [
    {
     "name": "stdout",
     "output_type": "stream",
     "text": [
      "Punto en el espacio con coordenadas: x = 1, y = 1, z = 0\n"
     ]
    }
   ],
   "source": [
    "print(p1)"
   ]
  },
  {
   "cell_type": "code",
   "execution_count": 26,
   "id": "21a42c26",
   "metadata": {
    "autoscroll": false,
    "ein.hycell": false,
    "ein.tags": "worksheet-0",
    "slideshow": {
     "slide_type": "-"
    }
   },
   "outputs": [
    {
     "data": {
      "text/plain": [
       "'p1 = Punto en el espacio con coordenadas: x = 1, y = 1, z = 0'"
      ]
     },
     "execution_count": 26,
     "metadata": {},
     "output_type": "execute_result"
    }
   ],
   "source": [
    "ss = 'p1 = {}'.format(p1)\n",
    "ss"
   ]
  },
  {
   "cell_type": "code",
   "execution_count": 27,
   "id": "c840b102",
   "metadata": {
    "autoscroll": false,
    "ein.hycell": false,
    "ein.tags": "worksheet-0",
    "slideshow": {
     "slide_type": "-"
    }
   },
   "outputs": [
    {
     "data": {
      "text/plain": [
       "<__main__.Punto at 0x10c9ed250>"
      ]
     },
     "execution_count": 27,
     "metadata": {},
     "output_type": "execute_result"
    }
   ],
   "source": [
    "p1"
   ]
  },
  {
   "cell_type": "markdown",
   "id": "61e9fe45",
   "metadata": {
    "ein.tags": "worksheet-0",
    "slideshow": {
     "slide_type": "-"
    }
   },
   "source": [
    "Como vemos, si no usamos la función `print()` o `format()` sigue mostrándonos el objeto (que no es muy informativo). Esto puede remediarse agregando el método especial `__repr__`. Este método es el que se llama cuando queremos inspeccionar un objeto. El objetivo de este método es que de información sin ambigüedades."
   ]
  },
  {
   "cell_type": "code",
   "execution_count": 28,
   "id": "448a8702",
   "metadata": {
    "autoscroll": false,
    "ein.hycell": false,
    "ein.tags": "worksheet-0",
    "slideshow": {
     "slide_type": "-"
    }
   },
   "outputs": [],
   "source": [
    "class Punto:\n",
    "  \"Clase para describir un punto en el espacio\"\n",
    "\n",
    "  num_puntos = 0\n",
    "  \n",
    "  def __init__(self, x=0, y=0, z=0):\n",
    "    \"Inicializa un punto en el espacio\"\n",
    "    self.x = x\n",
    "    self.y = y\n",
    "    self.z = z\n",
    "    Punto.num_puntos += 1\n",
    "    return None\n",
    "\n",
    "  def __del__(self):\n",
    "    \"Borra el punto y actualiza el contador\"\n",
    "    Punto.num_puntos -= 1\n",
    "\n",
    "  def __str__(self):\n",
    "    return f\"Punto en el espacio con coordenadas: x = {self.x}, y = {self.y}, z = {self.z}\"\n",
    "\n",
    "  def __repr__(self):\n",
    "    return f\"Punto(x = {self.x}, y = {self.y}, z = {self.z})\"\n",
    "\n",
    "  @classmethod\n",
    "  def total(cls):\n",
    "    \"Imprime el número total de puntos\"\n",
    "    print(f\"En total hay {cls.num_puntos} puntos definidos\")\n",
    "    "
   ]
  },
  {
   "cell_type": "code",
   "execution_count": 27,
   "id": "be2704c5",
   "metadata": {
    "autoscroll": false,
    "ein.hycell": false,
    "ein.tags": "worksheet-0",
    "slideshow": {
     "slide_type": "-"
    }
   },
   "outputs": [],
   "source": [
    "p2 = Punto(0.3, 0.3, 1)"
   ]
  },
  {
   "cell_type": "code",
   "execution_count": 28,
   "id": "abaee43e",
   "metadata": {
    "autoscroll": false,
    "ein.hycell": false,
    "ein.tags": "worksheet-0",
    "slideshow": {
     "slide_type": "-"
    }
   },
   "outputs": [
    {
     "data": {
      "text/plain": [
       "Punto(x = 0.3, y = 0.3, z = 1)"
      ]
     },
     "execution_count": 28,
     "metadata": {},
     "output_type": "execute_result"
    }
   ],
   "source": [
    "p2"
   ]
  },
  {
   "cell_type": "code",
   "execution_count": 29,
   "id": "9a3d5ecb",
   "metadata": {
    "autoscroll": false,
    "ein.hycell": false,
    "ein.tags": "worksheet-0",
    "slideshow": {
     "slide_type": "-"
    }
   },
   "outputs": [
    {
     "data": {
      "text/plain": [
       "Punto(x = 5, y = 0.3, z = 1)"
      ]
     },
     "execution_count": 29,
     "metadata": {},
     "output_type": "execute_result"
    }
   ],
   "source": [
    "p2.x = 5\n",
    "p2"
   ]
  },
  {
   "cell_type": "markdown",
   "id": "32c15c1d",
   "metadata": {
    "ein.tags": "worksheet-0",
    "slideshow": {
     "slide_type": "-"
    }
   },
   "source": [
    "Como vemos ahora tenemos una representación del objeto, que nos da información precisa.\n",
    "\n",
    "### Método `__call__`\n",
    "\n",
    "Este método, si existe es ejecutado cuando llamamos al objeto. Si no existe, es un error llamar al objeto:"
   ]
  },
  {
   "cell_type": "code",
   "execution_count": 30,
   "id": "34ec77df",
   "metadata": {
    "autoscroll": false,
    "ein.hycell": false,
    "ein.tags": "worksheet-0",
    "slideshow": {
     "slide_type": "-"
    }
   },
   "outputs": [
    {
     "ename": "TypeError",
     "evalue": "'Punto' object is not callable",
     "output_type": "error",
     "traceback": [
      "\u001b[0;31m---------------------------------------------------------------------------\u001b[0m",
      "\u001b[0;31mTypeError\u001b[0m                                 Traceback (most recent call last)",
      "Cell \u001b[0;32mIn [30], line 1\u001b[0m\n\u001b[0;32m----> 1\u001b[0m p2()\n",
      "\u001b[0;31mTypeError\u001b[0m: 'Punto' object is not callable"
     ]
    }
   ],
   "source": [
    "p2()"
   ]
  },
  {
   "cell_type": "code",
   "execution_count": 31,
   "id": "e03734c1",
   "metadata": {
    "autoscroll": false,
    "ein.hycell": false,
    "ein.tags": "worksheet-0",
    "slideshow": {
     "slide_type": "-"
    }
   },
   "outputs": [],
   "source": [
    "class Punto:\n",
    "  \"Clase para describir un punto en el espacio\"\n",
    "\n",
    "  num_puntos = 0\n",
    "  \n",
    "  def __init__(self, x=0, y=0, z=0):\n",
    "    \"Inicializa un punto en el espacio\"\n",
    "    self.x = x\n",
    "    self.y = y\n",
    "    self.z = z\n",
    "    Punto.num_puntos += 1\n",
    "    return None\n",
    "\n",
    "  def __del__(self):\n",
    "    \"Borra el punto y actualiza el contador\"\n",
    "    Punto.num_puntos -= 1\n",
    "\n",
    "  def __str__(self):\n",
    "    return f\"Punto en el espacio con coordenadas: x = {self.x}, y = {self.y}, z = {self.z}\"\n",
    "\n",
    "  def __repr__(self):\n",
    "    return f\"Punto(x = {self.x}, y = {self.y}, z = {self.z})\"\n",
    "\n",
    "  def __call__(self):\n",
    "    return \"Ejecuté el objeto: {}\".format(self)\n",
    "#    return str(self)\n",
    "#    return \"{}\".format(self)\n",
    "\n",
    "  @classmethod\n",
    "  def total(cls):\n",
    "    \"Imprime el número total de puntos\"\n",
    "    print(f\"En total hay {cls.num_puntos} puntos definidos\")\n",
    "    "
   ]
  },
  {
   "cell_type": "code",
   "execution_count": 32,
   "id": "8c339c56",
   "metadata": {
    "autoscroll": false,
    "ein.hycell": false,
    "ein.tags": "worksheet-0",
    "slideshow": {
     "slide_type": "-"
    }
   },
   "outputs": [
    {
     "data": {
      "text/plain": [
       "Punto(x = 1, y = 3, z = 4)"
      ]
     },
     "execution_count": 32,
     "metadata": {},
     "output_type": "execute_result"
    }
   ],
   "source": [
    "p3 = Punto(1,3,4)\n",
    "p3"
   ]
  },
  {
   "cell_type": "code",
   "execution_count": 33,
   "id": "d8c40e62",
   "metadata": {
    "autoscroll": false,
    "ein.hycell": false,
    "ein.tags": "worksheet-0",
    "slideshow": {
     "slide_type": "-"
    }
   },
   "outputs": [
    {
     "data": {
      "text/plain": [
       "'Ejecuté el objeto: Punto en el espacio con coordenadas: x = 1, y = 3, z = 4'"
      ]
     },
     "execution_count": 33,
     "metadata": {},
     "output_type": "execute_result"
    }
   ],
   "source": [
    "p3()"
   ]
  },
  {
   "cell_type": "markdown",
   "id": "89bd9ec9",
   "metadata": {},
   "source": [
    "### Métodos `__add__`,  `__mul__` \n",
    "\n",
    "Además del método `__add__()` visto anteriormente, que es llamado automáticamente cuando se utiliza la operación suma, existe el método `__mul__()` que se ejecuta al utilizar la operación multiplicación. \n"
   ]
  },
  {
   "cell_type": "markdown",
   "id": "13f0e119",
   "metadata": {
    "ein.tags": "worksheet-0",
    "slideshow": {
     "slide_type": "-"
    }
   },
   "source": [
    "----\n",
    "\n",
    "## Ejercicios 06 (b)\n",
    "\n",
    "2. Utilizando la definición de la clase `Punto`\n",
    "\n",
    "  ```python\n",
    "  class Punto:\n",
    "    \"Clase para describir un punto en el espacio\"\n",
    "  \n",
    "    num_puntos = 0\n",
    "  \n",
    "    def __init__(self, x=0, y=0, z=0):\n",
    "      \"Inicializa un punto en el espacio\"\n",
    "      self.x = x\n",
    "      self.y = y\n",
    "      self.z = z\n",
    "      Punto.num_puntos += 1\n",
    "      return None\n",
    "  \n",
    "    def __del__(self):\n",
    "      \"Borra el punto y actualiza el contador\"\n",
    "      Punto.num_puntos -= 1\n",
    "  \n",
    "    def __str__(self):\n",
    "      return f\"Punto en el espacio con coordenadas: x = {self.x}, y = {self.y}, z = {self.z}\"\n",
    "  \n",
    "    def __repr__(self):\n",
    "      return f\"Punto(x = {self.x}, y = {self.y}, z = {self.z})\"\n",
    "  \n",
    "    def __call__(self):\n",
    "      return self.__str__()\n",
    "  \n",
    "    @classmethod\n",
    "    def total(cls):\n",
    "      \"Imprime el número total de puntos\"\n",
    "      print(f\"En total hay {cls.num_puntos} puntos definidos\")\n",
    "  ```\n",
    "  \n",
    "  Complete la implementación de la clase `Vector` con los métodos pedidos\n",
    "  \n",
    "  ```python\n",
    "  class Vector(Punto):\n",
    "    \"Representa un vector en el espacio\"\n",
    "  \n",
    "    def __add__(self, v2):\n",
    "      \"Calcula un vector que contiene la suma de dos vectores\"\n",
    "      print(\"Aún no implementada la suma de dos vectores\") \n",
    "      # código calculando v = suma de self + v2\n",
    "      # ...\n",
    "  \n",
    "    def __mul__(self, v2):\n",
    "      \"Calcula el producto interno entre dos vectores\"\n",
    "      print(\"Aún no implementado el producto interno de dos vectores\") \n",
    "      # código calculando el producto interno pr = v1 . v2\n",
    "  \n",
    "    def abs(self):\n",
    "      \"Devuelve la distancia del punto al origen\"\n",
    "      print(\"Aún no implementado la norma del vector\") \n",
    "      # código calculando la magnitud del vector\n",
    "  \n",
    "    def angulo_entre_vectores(self, v2):\n",
    "      \"Calcula el ángulo entre dos vectores\"\n",
    "      print(\"Aún no implementado el ángulo entre dos vectores\") \n",
    "      angulo = 0\n",
    "      # código calculando angulo = arccos(v1 * v2 / (|v1||v2|))\n",
    "      return angulo\n",
    "  \n",
    "    def coordenadas_cilindricas(self):\n",
    "      \"Devuelve las coordenadas cilindricas del vector como una tupla (r, theta, z)\"\n",
    "      print(\"No implementada\")\n",
    "  \n",
    "    def coordenadas_esfericas(self):\n",
    "      \"Devuelve las coordenadas esféricas del vector como una tupla (r, theta, phi)\"\n",
    "      print(\"No implementada\")\n",
    "  ```\n",
    "\n",
    "  \n",
    "\n",
    "3. **PARA ENTREGAR:** Cree una clase `Polinomio` para representar polinomios. La clase debe guardar los datos representando todos los coeficientes. El grado del polinomio será *menor o igual a 9* (un dígito).\n",
    "\n",
    "   ------\n",
    "\n",
    "     **NOTA:** Utilice el archivo **06_polinomio.py** en el directorio **data**, que renombrará de la forma usual `06_Apellido.py`. Se le pide que programe:\n",
    "\n",
    "   ------\n",
    "\n",
    "  * Un método de inicialización `__init__` que acepte una lista de coeficientes. Por ejemplo para el polinomio $4 x^3 + 3 x^2 + 2 x + 1$ usaríamos:\n",
    "  ```python\n",
    "  >>> p = Polinomio([1,2,3,4])\n",
    "  ```\n",
    "\n",
    "  * Un método `grado` que devuelva el orden del polinomio\n",
    "  ```python\n",
    "  >>> p = Polinomio([1,2,3,4])\n",
    "  >>> p.grado()\n",
    "  3\n",
    "  ```\n",
    "\n",
    "  * Un método `get_coeficientes`, que devuelva una lista con los coeficientes:\n",
    "  ```python\n",
    "  >>> p.get_coeficientes()\n",
    "  [1, 2, 3, 4]\n",
    "  ```\n",
    "\n",
    "  * Un método `set_coeficientes`, que fije los coeficientes de la lista:\n",
    "  ```python\n",
    "  >>> p1 = Polinomio()\n",
    "  >>> p1.get_coeficientes()\n",
    "  []\n",
    "  >>> p1.set_coeficientes([1, 2, 3, 4])\n",
    "  >>> p1.get_coeficientes()\n",
    "  [1, 2, 3, 4]\n",
    "  ```\n",
    "  \n",
    "  * El método `suma_pol(pol2)` que le sume otro polinomio y devuelva un polinomio (objeto del mismo tipo)\n",
    "  \n",
    "  * El método `mul(pol2)` que multiplica al polinomio por una constante y devuelve un nuevo polinomio\n",
    "  \n",
    "  * Un método, `derivada(n)`, que devuelva la derivada de orden `n` del polinomio (otro polinomio):\n",
    "  ```python\n",
    "  >>> p1 = p.derivada()\n",
    "  >>> p1.get_coeficientes()\n",
    "  [2, 6, 12]\n",
    "  >>> p2 = p.derivada(n=2)\n",
    "  >>> p2.get_coeficientes()\n",
    "  [6, 24]\n",
    "  ```\n",
    "\n",
    "  * Un método que devuelva la integral (antiderivada) del polinomio de orden `n`, con constante de integración `cte` (otro polinomio).\n",
    "  \n",
    "  ```python\n",
    "  >>> p1 = p.integrada()\n",
    "  >>> p1.get_coeficientes()\n",
    "  [0, 1, 1, 1, 1]\n",
    "  >>>\n",
    "  >>> p2 = p.integrada(cte=2)\n",
    "  >>> p2.get_coeficientes()\n",
    "  [2, 1, 1, 1, 1]\n",
    "  >>>\n",
    "  >>> p3 = p.integrada(n=3, cte=1.5)\n",
    "  >>> p3.get_coeficientes()\n",
    "  [1.5, 1.5, 0.75, 0.16666666666666666, 0.08333333333333333, 0.05]\n",
    "  ```\n",
    "\n",
    "  * Un método `from_string(expr)` (pida ayuda si se le complica) que crea un polinomio desde un string en la forma:\n",
    "  \n",
    "  ```python\n",
    "  >>> p = Polinomio()\n",
    "  >>> p.from_string('x^5 + 3x^3 - 2 x+x^2 + 3 - x')\n",
    "  >>> p.get_coeficientes()\n",
    "  [3, -3, 1, 3, 0, 1]\n",
    "  >>>\n",
    "  >>> p1 = Polinomio()\n",
    "  >>> p1.from_string('y^5 + 3y^3 - 2 y + y^2+3', var='y')\n",
    "  >>> p1.get_coeficientes()\n",
    "  [3, -2, 1, 3, 0, 1]\n",
    "  ```\n",
    "  \n",
    "  * Escriba un método llamado `__str__`, que devuelva un string (que define cómo se va a imprimir el polinomio). Un ejemplo de salida será:\n",
    "  \n",
    "  ```python\n",
    "  >>> p = Polinomio([1,2.1,3,4])\n",
    "  >>> print(p)\n",
    "  4 x^3 + 3 x^2 + 2.1 x + 1\n",
    "  ```\n",
    "\n",
    "  * Escriba un método llamado `__call__`, de manera tal que al llamar al objeto, evalúe el polinomio en un dado valor de `x`\n",
    "  \n",
    "  ```python\n",
    "  >>> p = Polinomio([1,2,3,4])\n",
    "  >>> p(x=2)\n",
    "  49\n",
    "  >>>\n",
    "  >>> p(0.5)\n",
    "  3.25\n",
    "  ```\n",
    "\n",
    "  * Escriba un método llamado `__add__(self, p)`, que evalúe la suma de polinomios usando  el método `suma_pol` definido anteriormente. Eso permitirá usar la operación de suma en la forma:\n",
    "  \n",
    "  ```python\n",
    "  >>> p1 = Polinomio([1,2,3,4])\n",
    "  >>> p2 = Polinomio([1,2,3,4])\n",
    "  >>> p1 + p2\n",
    "  ```\n",
    "\n",
    "  * Escriba los métodos llamados `__mul__(self, value)` y `__rmul__(self, value)`, que devuelvan el producto de un polinomio por un valor constante, llamando al método `mul` definido anteriormente. Eso permitirá usar la operación producto en la forma:\n",
    "  ```python\n",
    "  >>> p1 = Polinomio([1,2,3,4])\n",
    "  >>> k = 3.5\n",
    "  >>> p1 * k\n",
    "  >>> k * p1\n",
    "  ```\n",
    "    \n",
    "----\n"
   ]
  }
 ],
 "metadata": {
  "kernelspec": {
   "display_name": "Python 3 (ipykernel)",
   "language": "python",
   "name": "python3"
  },
  "language_info": {
   "codemirror_mode": {
    "name": "ipython",
    "version": 3
   },
   "file_extension": ".py",
   "mimetype": "text/x-python",
   "name": "python",
   "nbconvert_exporter": "python",
   "pygments_lexer": "ipython3",
   "version": "3.11.8"
  },
  "name": "06_2_objetos.ipynb",
  "toc": {
   "base_numbering": 1,
   "nav_menu": {
    "height": "132.3px",
    "width": "251.5px"
   },
   "number_sections": true,
   "sideBar": true,
   "skip_h1_title": false,
   "title_cell": "Contenidos",
   "title_sidebar": "Contenidos",
   "toc_cell": false,
   "toc_position": null,
   "toc_section_display": true,
   "toc_window_display": false
  }
 },
 "nbformat": 4,
 "nbformat_minor": 5
}
