{
 "cells": [
  {
   "cell_type": "markdown",
   "id": "f290ca45",
   "metadata": {},
   "source": [
    "## Álgebra lineal"
   ]
  },
  {
   "cell_type": "markdown",
   "id": "1f1fb3d3",
   "metadata": {},
   "source": [
    "El módulo de álgebra lineal se solapa un poco con funciones similares en **Numpy**. Ambos usan finalmente una implementación de bibliotecas conocidas (LAPACK, BLAS). La diferencia es que **Scipy** asegura que utiliza las optimizaciones de la librería ATLAS y presenta algunos métodos y algoritmos que no están presentes en **Numpy**. \n",
    "\n",
    "Una de las aplicaciones más conocidas por nosotros es la rotación de vectores. Como bien sabemos rotar un vector es equivalente a multiplicarlo por la matriz de rotación correspondiente. Esquemáticamente:\n",
    "\n",
    "\n",
    "![](https://imgs.xkcd.com/comics/matrix_transform.png)\n",
    "\n",
    "(Gentileza de [xkcd](https://www.xkcd.com/184/))"
   ]
  },
  {
   "cell_type": "code",
   "execution_count": 1,
   "id": "54abb4fd",
   "metadata": {},
   "outputs": [],
   "source": [
    "import numpy as np\n",
    "import matplotlib.pyplot as plt\n",
    "from scipy import linalg"
   ]
  },
  {
   "cell_type": "markdown",
   "id": "12eb3f83",
   "metadata": {},
   "source": [
    "Este módulo tiene funciones para trabajar con matrices, descriptas como *arrays* bidimensionales."
   ]
  },
  {
   "cell_type": "code",
   "execution_count": 2,
   "id": "69b5e2e7",
   "metadata": {},
   "outputs": [
    {
     "name": "stdout",
     "output_type": "stream",
     "text": [
      "[[ 3.   2.   1. ]\n",
      " [ 6.   4.   1. ]\n",
      " [12.   8.  13.3]]\n"
     ]
    }
   ],
   "source": [
    "arr = np.array([[3, 2,1],[6, 4,1],[12, 8, 13.3]])\n",
    "print(arr)"
   ]
  },
  {
   "cell_type": "code",
   "execution_count": 3,
   "id": "cbcdb176",
   "metadata": {},
   "outputs": [
    {
     "name": "stdout",
     "output_type": "stream",
     "text": [
      "[[ 1 -2 -3]\n",
      " [ 1 -1 -1]\n",
      " [-1  3  1]]\n"
     ]
    }
   ],
   "source": [
    "A = np.array([[1, -2,-3],[1, -1,-1],[-1, 3, 1]])\n",
    "print(A)"
   ]
  },
  {
   "cell_type": "code",
   "execution_count": 4,
   "id": "a3909c91",
   "metadata": {},
   "outputs": [
    {
     "data": {
      "text/plain": [
       "array([[ 1,  1, -1],\n",
       "       [-2, -1,  3],\n",
       "       [-3, -1,  1]])"
      ]
     },
     "execution_count": 4,
     "metadata": {},
     "output_type": "execute_result"
    }
   ],
   "source": [
    "# La matriz transpuesta\n",
    "A.T"
   ]
  },
  {
   "cell_type": "markdown",
   "id": "1d231c98",
   "metadata": {},
   "source": [
    "### Productos y normas\n",
    "\n",
    "#### Norma de un vector\n",
    "\n",
    "La norma está dada por\n",
    "$$||v|| = \\sqrt{v_1^2+...+v_n^2}$$ "
   ]
  },
  {
   "cell_type": "code",
   "execution_count": 5,
   "id": "3c0cab80",
   "metadata": {},
   "outputs": [
    {
     "data": {
      "text/plain": [
       "3.7416573867739413"
      ]
     },
     "execution_count": 5,
     "metadata": {},
     "output_type": "execute_result"
    }
   ],
   "source": [
    "v = np.array([2,1,3])\n",
    "linalg.norm(v)                  # Norma"
   ]
  },
  {
   "cell_type": "code",
   "execution_count": 6,
   "id": "57016054",
   "metadata": {},
   "outputs": [
    {
     "data": {
      "text/plain": [
       "True"
      ]
     },
     "execution_count": 6,
     "metadata": {},
     "output_type": "execute_result"
    }
   ],
   "source": [
    "linalg.norm(v) == np.sqrt(np.sum(np.square(v)))"
   ]
  },
  {
   "cell_type": "markdown",
   "id": "11f0a113",
   "metadata": {},
   "source": [
    "#### Producto interno\n",
    "\n",
    "El producto entre una matriz y un vector está definido en **Numpy** mediante las funciones `dot()`, o `matmul()`, o mediante el operador `@`:"
   ]
  },
  {
   "cell_type": "code",
   "execution_count": 7,
   "id": "ba849932",
   "metadata": {},
   "outputs": [
    {
     "data": {
      "text/plain": [
       "array([-9, -2,  4])"
      ]
     },
     "execution_count": 7,
     "metadata": {},
     "output_type": "execute_result"
    }
   ],
   "source": [
    "w1 = np.dot(A, v)                # Multiplicación de matrices\n",
    "w1"
   ]
  },
  {
   "cell_type": "code",
   "execution_count": 8,
   "id": "5f15afbd",
   "metadata": {},
   "outputs": [
    {
     "data": {
      "text/plain": [
       "\u001b[0;31mSignature:\u001b[0m \u001b[0mnp\u001b[0m\u001b[0;34m.\u001b[0m\u001b[0mallclose\u001b[0m\u001b[0;34m(\u001b[0m\u001b[0ma\u001b[0m\u001b[0;34m,\u001b[0m \u001b[0mb\u001b[0m\u001b[0;34m,\u001b[0m \u001b[0mrtol\u001b[0m\u001b[0;34m=\u001b[0m\u001b[0;36m1e-05\u001b[0m\u001b[0;34m,\u001b[0m \u001b[0matol\u001b[0m\u001b[0;34m=\u001b[0m\u001b[0;36m1e-08\u001b[0m\u001b[0;34m,\u001b[0m \u001b[0mequal_nan\u001b[0m\u001b[0;34m=\u001b[0m\u001b[0;32mFalse\u001b[0m\u001b[0;34m)\u001b[0m\u001b[0;34m\u001b[0m\u001b[0;34m\u001b[0m\u001b[0m\n",
       "\u001b[0;31mDocstring:\u001b[0m\n",
       "Returns True if two arrays are element-wise equal within a tolerance.\n",
       "\n",
       "The tolerance values are positive, typically very small numbers.  The\n",
       "relative difference (`rtol` * abs(`b`)) and the absolute difference\n",
       "`atol` are added together to compare against the absolute difference\n",
       "between `a` and `b`.\n",
       "\n",
       "NaNs are treated as equal if they are in the same place and if\n",
       "``equal_nan=True``.  Infs are treated as equal if they are in the same\n",
       "place and of the same sign in both arrays.\n",
       "\n",
       "Parameters\n",
       "----------\n",
       "a, b : array_like\n",
       "    Input arrays to compare.\n",
       "rtol : float\n",
       "    The relative tolerance parameter (see Notes).\n",
       "atol : float\n",
       "    The absolute tolerance parameter (see Notes).\n",
       "equal_nan : bool\n",
       "    Whether to compare NaN's as equal.  If True, NaN's in `a` will be\n",
       "    considered equal to NaN's in `b` in the output array.\n",
       "\n",
       "    .. versionadded:: 1.10.0\n",
       "\n",
       "Returns\n",
       "-------\n",
       "allclose : bool\n",
       "    Returns True if the two arrays are equal within the given\n",
       "    tolerance; False otherwise.\n",
       "\n",
       "See Also\n",
       "--------\n",
       "isclose, all, any, equal\n",
       "\n",
       "Notes\n",
       "-----\n",
       "If the following equation is element-wise True, then allclose returns\n",
       "True.\n",
       "\n",
       " absolute(`a` - `b`) <= (`atol` + `rtol` * absolute(`b`))\n",
       "\n",
       "The above equation is not symmetric in `a` and `b`, so that\n",
       "``allclose(a, b)`` might be different from ``allclose(b, a)`` in\n",
       "some rare cases.\n",
       "\n",
       "The comparison of `a` and `b` uses standard broadcasting, which\n",
       "means that `a` and `b` need not have the same shape in order for\n",
       "``allclose(a, b)`` to evaluate to True.  The same is true for\n",
       "`equal` but not `array_equal`.\n",
       "\n",
       "`allclose` is not defined for non-numeric data types.\n",
       "`bool` is considered a numeric data-type for this purpose.\n",
       "\n",
       "Examples\n",
       "--------\n",
       ">>> np.allclose([1e10,1e-7], [1.00001e10,1e-8])\n",
       "False\n",
       ">>> np.allclose([1e10,1e-8], [1.00001e10,1e-9])\n",
       "True\n",
       ">>> np.allclose([1e10,1e-8], [1.0001e10,1e-9])\n",
       "False\n",
       ">>> np.allclose([1.0, np.nan], [1.0, np.nan])\n",
       "False\n",
       ">>> np.allclose([1.0, np.nan], [1.0, np.nan], equal_nan=True)\n",
       "True\n",
       "\u001b[0;31mFile:\u001b[0m      /usr/lib64/python3.11/site-packages/numpy/core/numeric.py\n",
       "\u001b[0;31mType:\u001b[0m      function"
      ]
     },
     "metadata": {},
     "output_type": "display_data"
    }
   ],
   "source": [
    "np.allclose?"
   ]
  },
  {
   "cell_type": "code",
   "execution_count": 9,
   "id": "782ba1c0",
   "metadata": {},
   "outputs": [
    {
     "data": {
      "text/plain": [
       "True"
      ]
     },
     "execution_count": 9,
     "metadata": {},
     "output_type": "execute_result"
    }
   ],
   "source": [
    "np.allclose(np.dot(A,v), np.matmul(A,v))  # dot y matmul son equivalentes"
   ]
  },
  {
   "cell_type": "code",
   "execution_count": 10,
   "id": "6d56f359",
   "metadata": {},
   "outputs": [
    {
     "data": {
      "text/plain": [
       "True"
      ]
     },
     "execution_count": 10,
     "metadata": {},
     "output_type": "execute_result"
    }
   ],
   "source": [
    "np.allclose(A @ v, np.matmul(A,v))  # También son equivalentes al operador @"
   ]
  },
  {
   "cell_type": "code",
   "execution_count": 11,
   "id": "4f556059",
   "metadata": {},
   "outputs": [
    {
     "data": {
      "text/plain": [
       "array([ 0,  4, -4])"
      ]
     },
     "execution_count": 11,
     "metadata": {},
     "output_type": "execute_result"
    }
   ],
   "source": [
    "w2 = np.dot(v,  A)\n",
    "w2"
   ]
  },
  {
   "cell_type": "code",
   "execution_count": 12,
   "id": "a06f7660",
   "metadata": {},
   "outputs": [
    {
     "data": {
      "text/plain": [
       "array([ True,  True,  True])"
      ]
     },
     "execution_count": 12,
     "metadata": {},
     "output_type": "execute_result"
    }
   ],
   "source": [
    "np.dot(v.T,  A) == np.dot(v,  A)  # Si es unidimensional, el vector se transpone automáticamente\n"
   ]
  },
  {
   "cell_type": "code",
   "execution_count": 13,
   "id": "444f5240",
   "metadata": {},
   "outputs": [
    {
     "name": "stdout",
     "output_type": "stream",
     "text": [
      "(3,) (3, 3)\n"
     ]
    }
   ],
   "source": [
    "print(v.shape, A.shape)"
   ]
  },
  {
   "cell_type": "markdown",
   "id": "dd206b39",
   "metadata": {},
   "source": [
    "El producto interno entre vectores se calcula de la misma manera\n",
    "$$ \\langle v, w \\rangle$$"
   ]
  },
  {
   "cell_type": "code",
   "execution_count": 14,
   "id": "700310c7",
   "metadata": {},
   "outputs": [
    {
     "data": {
      "text/plain": [
       "-8"
      ]
     },
     "execution_count": 14,
     "metadata": {},
     "output_type": "execute_result"
    }
   ],
   "source": [
    "np.dot(v,w1)"
   ]
  },
  {
   "cell_type": "markdown",
   "id": "c2f562dc",
   "metadata": {},
   "source": [
    "y está relacionado con la norma\n",
    "$$||v|| = \\sqrt{ \\langle v, v \\rangle}$$"
   ]
  },
  {
   "cell_type": "code",
   "execution_count": 15,
   "id": "bcdbd002",
   "metadata": {},
   "outputs": [
    {
     "data": {
      "text/plain": [
       "True"
      ]
     },
     "execution_count": 15,
     "metadata": {},
     "output_type": "execute_result"
    }
   ],
   "source": [
    "linalg.norm(v) == np.sqrt(np.dot(v,v))"
   ]
  },
  {
   "cell_type": "code",
   "execution_count": 16,
   "id": "e67bd5e5",
   "metadata": {},
   "outputs": [
    {
     "data": {
      "text/plain": [
       "array([ 0,  4, -4])"
      ]
     },
     "execution_count": 16,
     "metadata": {},
     "output_type": "execute_result"
    }
   ],
   "source": [
    "np.dot(v,A)"
   ]
  },
  {
   "cell_type": "code",
   "execution_count": 17,
   "id": "165f909a",
   "metadata": {},
   "outputs": [
    {
     "data": {
      "text/plain": [
       "(3,)"
      ]
     },
     "execution_count": 17,
     "metadata": {},
     "output_type": "execute_result"
    }
   ],
   "source": [
    "v.shape"
   ]
  },
  {
   "cell_type": "code",
   "execution_count": 18,
   "id": "db9c3ba7",
   "metadata": {},
   "outputs": [],
   "source": [
    "v2 = np.reshape(v, (3,1))"
   ]
  },
  {
   "cell_type": "code",
   "execution_count": 19,
   "id": "5b4150c8",
   "metadata": {},
   "outputs": [
    {
     "data": {
      "text/plain": [
       "(3, 1)"
      ]
     },
     "execution_count": 19,
     "metadata": {},
     "output_type": "execute_result"
    }
   ],
   "source": [
    "v2.shape"
   ]
  },
  {
   "cell_type": "code",
   "execution_count": 20,
   "id": "ca7fa715",
   "metadata": {},
   "outputs": [
    {
     "data": {
      "text/plain": [
       "array([[-9],\n",
       "       [-2],\n",
       "       [ 4]])"
      ]
     },
     "execution_count": 20,
     "metadata": {},
     "output_type": "execute_result"
    }
   ],
   "source": [
    "np.dot(A, v2)"
   ]
  },
  {
   "cell_type": "code",
   "execution_count": 21,
   "id": "707f4d88",
   "metadata": {},
   "outputs": [
    {
     "data": {
      "text/plain": [
       "(3, 1)"
      ]
     },
     "execution_count": 21,
     "metadata": {},
     "output_type": "execute_result"
    }
   ],
   "source": [
    "np.dot(A, v2).shape"
   ]
  },
  {
   "cell_type": "markdown",
   "id": "46d07324",
   "metadata": {},
   "source": [
    "Ahora las dimensiones de `v2` y `A` no coinciden para hacer el producto matricial\n",
    "```python\n",
    "np.dot(v2, A)\n",
    "```"
   ]
  },
  {
   "cell_type": "code",
   "execution_count": 22,
   "id": "08c3952f",
   "metadata": {},
   "outputs": [
    {
     "ename": "ValueError",
     "evalue": "shapes (3,1) and (3,3) not aligned: 1 (dim 1) != 3 (dim 0)",
     "output_type": "error",
     "traceback": [
      "\u001b[0;31m---------------------------------------------------------------------------\u001b[0m",
      "\u001b[0;31mValueError\u001b[0m                                Traceback (most recent call last)",
      "Cell \u001b[0;32mIn[22], line 1\u001b[0m\n\u001b[0;32m----> 1\u001b[0m \u001b[43mnp\u001b[49m\u001b[38;5;241;43m.\u001b[39;49m\u001b[43mdot\u001b[49m\u001b[43m(\u001b[49m\u001b[43m \u001b[49m\u001b[43mv2\u001b[49m\u001b[43m,\u001b[49m\u001b[43mA\u001b[49m\u001b[43m)\u001b[49m\n",
      "File \u001b[0;32m<__array_function__ internals>:200\u001b[0m, in \u001b[0;36mdot\u001b[0;34m(*args, **kwargs)\u001b[0m\n",
      "\u001b[0;31mValueError\u001b[0m: shapes (3,1) and (3,3) not aligned: 1 (dim 1) != 3 (dim 0)"
     ]
    }
   ],
   "source": [
    "np.dot( v2,A)"
   ]
  },
  {
   "cell_type": "markdown",
   "id": "8e0b333f",
   "metadata": {},
   "source": [
    "Notemos que el producto interno se puede pensar como un producto de matrices. En este caso, el producto de una matriz de 3x1, por otra de 1x3:\n",
    "\n",
    "$$ v^{t} \\, w = \\begin{pmatrix} -9&-2&4 \\end{pmatrix} \\begin{pmatrix} 2\\\\1\\\\3 \\end{pmatrix} $$\n",
    "\n",
    "donde estamos pensando al vector como columna.\n",
    "\n",
    "#### Producto exterior\n",
    "\n",
    "El producto exterior puede ponerse en términos de multiplicación de matrices como\n",
    "$$v\\otimes w = vw^{t} = \\begin{pmatrix} -9\\\\-2\\\\4 \\end{pmatrix} \\begin{pmatrix} 2&1&3 \\end{pmatrix}$$"
   ]
  },
  {
   "cell_type": "code",
   "execution_count": 23,
   "id": "45ec6f03",
   "metadata": {},
   "outputs": [
    {
     "name": "stdout",
     "output_type": "stream",
     "text": [
      "[[-18  -4   8]\n",
      " [ -9  -2   4]\n",
      " [-27  -6  12]]\n"
     ]
    }
   ],
   "source": [
    "oprod = np.outer(v,w1)\n",
    "print(oprod)"
   ]
  },
  {
   "cell_type": "markdown",
   "id": "51f380b8",
   "metadata": {},
   "source": [
    "### Aplicación a la resolución de sistemas de ecuaciones\n",
    "\n",
    "Vamos a usar `scipy.linalg` permite obtener determinantes e inversas de matrices. Veamos como resolver un sistema de ecuaciones lineales:\n",
    "\n",
    "$$\n",
    "\\left\\{\n",
    "\\begin{array}{rl}\n",
    "a_{11} x_1 + a_{12} x_2 + a_{13} x_3 &= b_1 \\\\\n",
    "a_{21} x_1 + a_{22} x_2 + a_{23} x_3 &= b_2 \\\\\n",
    "a_{31} x_1 + a_{32} x_2 + a_{33} x_3 &= b_3\n",
    "\\end{array}\n",
    "\\right.\n",
    "$$\n",
    "\n",
    "Esta ecuación se puede escribir en forma matricial como\n",
    "\n",
    "$$ \\begin{pmatrix}a_{11}&a_{12} & a_{13}\\\\a_{21}&a_{22}&a_{23}\\\\a_{31}&a_{32}&a_{33}\\end{pmatrix}\n",
    "\\begin{pmatrix}x_1\\\\x_2\\\\x_3\\end{pmatrix} = \\begin{pmatrix}b_1\\\\b_2\\\\b_3\\end{pmatrix}\n",
    "$$\n",
    "\n",
    "Veamos un ejemplo concreto. Supongamos que tenemos el siguiente sistema\n",
    "$$\n",
    "\\left\\{\n",
    "\\begin{array}{rl}\n",
    " x_1 + 2 x_2 + 3 x_3 &= 1 \\\\\n",
    "2 x_1 +  x_2 + 3 x_3 &= 2 \\\\\n",
    "4 x_1 +  x_2 - x_3 &= 3\n",
    "\\end{array}\n",
    "\\right.\n",
    "$$\n",
    "por lo que, en forma matricial será:\n",
    "$$ A = \\begin{pmatrix} 1 &2 &3 \\\\ 2& 1& 3 \\\\ 4& 1& -1 \\end{pmatrix} $$\n",
    "y \n",
    "$$ b =  \\begin{pmatrix} 1 \\\\ 2 \\\\ 3 \\end{pmatrix} $$"
   ]
  },
  {
   "cell_type": "code",
   "execution_count": 24,
   "id": "f3f51bb1",
   "metadata": {},
   "outputs": [
    {
     "name": "stdout",
     "output_type": "stream",
     "text": [
      "A= [[ 1  2  3]\n",
      " [ 2  1  3]\n",
      " [ 4  1 -1]] \n",
      "\n",
      "b= [[1]\n",
      " [2]\n",
      " [3]] \n",
      "\n"
     ]
    }
   ],
   "source": [
    "A = np.array([[1,2,3],[2,1,3],[4,1,-1]])\n",
    "b = np.array([[1,2,3]]).T\n",
    "print('A=', A,\"\\n\")\n",
    "print('b=', b,\"\\n\")"
   ]
  },
  {
   "cell_type": "code",
   "execution_count": 25,
   "id": "7377f099",
   "metadata": {},
   "outputs": [
    {
     "name": "stdout",
     "output_type": "stream",
     "text": [
      "Resultado:\n",
      " [[ 0.83333333]\n",
      " [-0.16666667]\n",
      " [ 0.16666667]]\n"
     ]
    }
   ],
   "source": [
    "x = np.dot(linalg.inv(A), b)\n",
    "print('Resultado:\\n', x)"
   ]
  },
  {
   "cell_type": "markdown",
   "id": "e265ae8a",
   "metadata": {},
   "source": [
    "### Descomposición de matrices\n",
    "\n",
    "Si consideramos el mismo problema de resolución de ecuaciones\n",
    "$$A x = b $$\n",
    "pero donde debemos resolver el problema para un valor dado de los coeficientes (la matriz $A$) y muchos valores distintos del vector $b$, suele ser útil realizar lo que se llama la descompocición $LU$ de la matriz.\n",
    "\n",
    "Si escribimos a la matriz $A$ como el producto de tres matrices $A = PLU$ donde $P$ es una permutación de las filas, $L$ es una matriz triangular inferior (Los elementos por encima de la diagonal son nulos) y $U$ una triangular superior.\n",
    "En este caso los dos sistemas:\n",
    "$$ Ax = b \\qquad  \\mathrm{ y } \\qquad P A x = Pb  $$\n",
    "tienen la misma solución. Entonces podemos resolver el sistema en dos pasos:\n",
    "\n",
    "$$ Ly=b $$ \n",
    "con\n",
    "$$ y = Ux. $$\n",
    "\n",
    "En ese caso, resolvemos una sola vez la descompocición $LU$, y luego ambas ecuaciones se pueden resolver eficientemente debido a la forma de las matrices."
   ]
  },
  {
   "cell_type": "code",
   "execution_count": 26,
   "id": "319d8ad9",
   "metadata": {},
   "outputs": [
    {
     "name": "stdout",
     "output_type": "stream",
     "text": [
      "A= [[1 3 4]\n",
      " [2 1 3]\n",
      " [4 1 2]] \n",
      "\n",
      "PLU= [[1. 3. 4.]\n",
      " [2. 1. 3.]\n",
      " [4. 1. 2.]]\n",
      "\n",
      "LU= [[4. 1. 2.]\n",
      " [1. 3. 4.]\n",
      " [2. 1. 3.]]\n",
      "\n",
      "L= [[1.         0.         0.        ]\n",
      " [0.25       1.         0.        ]\n",
      " [0.5        0.18181818 1.        ]]\n",
      "\n",
      "U= [[4.         1.         2.        ]\n",
      " [0.         2.75       3.5       ]\n",
      " [0.         0.         1.36363636]]\n"
     ]
    }
   ],
   "source": [
    "A = np.array([[1,3,4],[2,1,3],[4,1,2]])\n",
    "\n",
    "print('A=', A,\"\\n\")\n",
    "\n",
    "P, L, U = linalg.lu(A)\n",
    "print(\"PLU=\", np.dot(P, np.dot(L, U)))\n",
    "print(\"\\nLU=\", np.dot(L, U))\n",
    "print(\"\\nL=\",L)\n",
    "print(\"\\nU=\", U)"
   ]
  },
  {
   "cell_type": "code",
   "execution_count": 27,
   "id": "875e56a1",
   "metadata": {},
   "outputs": [
    {
     "data": {
      "text/plain": [
       "15.0"
      ]
     },
     "execution_count": 27,
     "metadata": {},
     "output_type": "execute_result"
    }
   ],
   "source": [
    "# Determinante de A\n",
    "linalg.det(A)"
   ]
  },
  {
   "cell_type": "markdown",
   "id": "70e4470c",
   "metadata": {},
   "source": [
    "### Autovalores y autovectores\n",
    "\n",
    "La necesidad de encontrar los autovalores y autovectores de una matriz aparece en muchos problemas de física e ingeniería. Se trata de encontrar el escalar $\\lambda$ y el vector (no nulo) $v$ tales que\n",
    "\n",
    "$$ A v = \\lambda v$$\n",
    "\n"
   ]
  },
  {
   "cell_type": "code",
   "execution_count": 28,
   "id": "045df7d9",
   "metadata": {},
   "outputs": [
    {
     "name": "stdout",
     "output_type": "stream",
     "text": [
      "[[0. 1. 1.]\n",
      " [2. 1. 0.]\n",
      " [3. 4. 5.]] \n",
      "\n",
      "[[ 6.572e-16+0.j  1.000e+00+0.j  1.000e+00+0.j]\n",
      " [ 2.000e+00+0.j  1.000e+00+0.j -1.260e-16+0.j]\n",
      " [ 3.000e+00+0.j  4.000e+00+0.j  5.000e+00+0.j]] \n",
      "\n",
      "[[ 6.572e-16  1.000e+00  1.000e+00]\n",
      " [ 2.000e+00  1.000e+00 -1.260e-16]\n",
      " [ 3.000e+00  4.000e+00  5.000e+00]] \n",
      "\n",
      "\n",
      "Autovalores= [ 5.854+0.j -0.854+0.j  1.   +0.j] \n",
      "\n",
      "Autovalores= [ 5.854 -0.854  1.   ]\n"
     ]
    }
   ],
   "source": [
    "with np.printoptions(precision=3):\n",
    "  B = np.array([[0,1.,1],[2,1,0], [3,4,5]])\n",
    "  print(B,'\\n')\n",
    "  u, v = linalg.eig(B)\n",
    "  c = np.dot(v,np.dot(np.diag(u), linalg.inv(v)))\n",
    "  print(c,'\\n')\n",
    "  print(np.real_if_close(c),'\\n')\n",
    "  print('')\n",
    "  print('Autovalores=', u,'\\n')\n",
    "  print('Autovalores=', np.real_if_close(u))"
   ]
  },
  {
   "cell_type": "code",
   "execution_count": 29,
   "id": "aafbf41f-e6e3-4bd3-a2ef-8b4eb976d724",
   "metadata": {},
   "outputs": [
    {
     "data": {
      "text/plain": [
       "array([[ 1.80228488e-01,  6.72063326e-01,  1.86622559e-16],\n",
       "       [ 7.42582208e-02, -7.24947536e-01, -7.07106781e-01],\n",
       "       [ 9.80817725e-01,  1.50936928e-01,  7.07106781e-01]])"
      ]
     },
     "execution_count": 29,
     "metadata": {},
     "output_type": "execute_result"
    }
   ],
   "source": [
    "v"
   ]
  },
  {
   "cell_type": "markdown",
   "id": "a1a5ad01",
   "metadata": {},
   "source": [
    "\n",
    "Veamos como funciona para la matriz definida anteriormente"
   ]
  },
  {
   "cell_type": "code",
   "execution_count": 30,
   "id": "800c6656",
   "metadata": {},
   "outputs": [
    {
     "name": "stdout",
     "output_type": "stream",
     "text": [
      "[[1 3 4]\n",
      " [2 1 3]\n",
      " [4 1 2]]\n",
      "[[1. 3. 4.]\n",
      " [2. 1. 3.]\n",
      " [4. 1. 2.]]\n",
      "Autovalores= [ 7.10977223 -2.10977223 -1.        ]\n",
      "Autovectores= [[-0.63273853 -0.66101705 -0.33333333]\n",
      " [-0.49820655 -0.25550401 -0.66666667]\n",
      " [-0.59281716  0.70553112  0.66666667]]\n"
     ]
    }
   ],
   "source": [
    "print(A)\n",
    "u, v = linalg.eig(A)\n",
    "print(np.real_if_close(np.dot(v,np.dot(np.diag(u), linalg.inv(v)))))\n",
    "print(\"Autovalores=\" , np.real_if_close(u))\n",
    "print(\"Autovectores=\", np.real_if_close(v))"
   ]
  },
  {
   "cell_type": "code",
   "execution_count": 31,
   "id": "6cb8d6ef",
   "metadata": {},
   "outputs": [
    {
     "data": {
      "text/plain": [
       "\u001b[0;31mSignature:\u001b[0m \u001b[0mnp\u001b[0m\u001b[0;34m.\u001b[0m\u001b[0mreal_if_close\u001b[0m\u001b[0;34m(\u001b[0m\u001b[0ma\u001b[0m\u001b[0;34m,\u001b[0m \u001b[0mtol\u001b[0m\u001b[0;34m=\u001b[0m\u001b[0;36m100\u001b[0m\u001b[0;34m)\u001b[0m\u001b[0;34m\u001b[0m\u001b[0;34m\u001b[0m\u001b[0m\n",
       "\u001b[0;31mDocstring:\u001b[0m\n",
       "If input is complex with all imaginary parts close to zero, return\n",
       "real parts.\n",
       "\n",
       "\"Close to zero\" is defined as `tol` * (machine epsilon of the type for\n",
       "`a`).\n",
       "\n",
       "Parameters\n",
       "----------\n",
       "a : array_like\n",
       "    Input array.\n",
       "tol : float\n",
       "    Tolerance in machine epsilons for the complex part of the elements\n",
       "    in the array.\n",
       "\n",
       "Returns\n",
       "-------\n",
       "out : ndarray\n",
       "    If `a` is real, the type of `a` is used for the output.  If `a`\n",
       "    has complex elements, the returned type is float.\n",
       "\n",
       "See Also\n",
       "--------\n",
       "real, imag, angle\n",
       "\n",
       "Notes\n",
       "-----\n",
       "Machine epsilon varies from machine to machine and between data types\n",
       "but Python floats on most platforms have a machine epsilon equal to\n",
       "2.2204460492503131e-16.  You can use 'np.finfo(float).eps' to print\n",
       "out the machine epsilon for floats.\n",
       "\n",
       "Examples\n",
       "--------\n",
       ">>> np.finfo(float).eps\n",
       "2.2204460492503131e-16 # may vary\n",
       "\n",
       ">>> np.real_if_close([2.1 + 4e-14j, 5.2 + 3e-15j], tol=1000)\n",
       "array([2.1, 5.2])\n",
       ">>> np.real_if_close([2.1 + 4e-13j, 5.2 + 3e-15j], tol=1000)\n",
       "array([2.1+4.e-13j, 5.2 + 3e-15j])\n",
       "\u001b[0;31mFile:\u001b[0m      /usr/lib64/python3.11/site-packages/numpy/lib/type_check.py\n",
       "\u001b[0;31mType:\u001b[0m      function"
      ]
     },
     "metadata": {},
     "output_type": "display_data"
    }
   ],
   "source": [
    "np.real_if_close?"
   ]
  },
  {
   "cell_type": "markdown",
   "id": "ff562d00",
   "metadata": {},
   "source": [
    "### Rutinas de resolución de ecuaciones lineales\n",
    "\n",
    "**Scipy** tiene además de las rutinas de trabajo con matrices, rutinas de resolución de sistemas de ecuaciones. En particular la función `solve()`\n",
    "\n",
    "```python\n",
    " solve(a, b, sym_pos=False, lower=False, overwrite_a=False, overwrite_b=False,\n",
    "       debug=False, check_finite=True)\n",
    "\n",
    "Solve the equation ``a x = b`` for ``x``.\n",
    "\n",
    "Parameters\n",
    "----------\n",
    "a : (M, M) array_like\n",
    "    A square matrix.\n",
    "b : (M,) or (M, N) array_like\n",
    "    Right-hand side matrix in ``a x = b``.\n",
    "...\n",
    "```"
   ]
  },
  {
   "cell_type": "code",
   "execution_count": 32,
   "id": "2434392d",
   "metadata": {},
   "outputs": [
    {
     "data": {
      "text/plain": [
       "\u001b[0;31mSignature:\u001b[0m\n",
       "\u001b[0mlinalg\u001b[0m\u001b[0;34m.\u001b[0m\u001b[0msolve\u001b[0m\u001b[0;34m(\u001b[0m\u001b[0;34m\u001b[0m\n",
       "\u001b[0;34m\u001b[0m    \u001b[0ma\u001b[0m\u001b[0;34m,\u001b[0m\u001b[0;34m\u001b[0m\n",
       "\u001b[0;34m\u001b[0m    \u001b[0mb\u001b[0m\u001b[0;34m,\u001b[0m\u001b[0;34m\u001b[0m\n",
       "\u001b[0;34m\u001b[0m    \u001b[0msym_pos\u001b[0m\u001b[0;34m=\u001b[0m\u001b[0;32mFalse\u001b[0m\u001b[0;34m,\u001b[0m\u001b[0;34m\u001b[0m\n",
       "\u001b[0;34m\u001b[0m    \u001b[0mlower\u001b[0m\u001b[0;34m=\u001b[0m\u001b[0;32mFalse\u001b[0m\u001b[0;34m,\u001b[0m\u001b[0;34m\u001b[0m\n",
       "\u001b[0;34m\u001b[0m    \u001b[0moverwrite_a\u001b[0m\u001b[0;34m=\u001b[0m\u001b[0;32mFalse\u001b[0m\u001b[0;34m,\u001b[0m\u001b[0;34m\u001b[0m\n",
       "\u001b[0;34m\u001b[0m    \u001b[0moverwrite_b\u001b[0m\u001b[0;34m=\u001b[0m\u001b[0;32mFalse\u001b[0m\u001b[0;34m,\u001b[0m\u001b[0;34m\u001b[0m\n",
       "\u001b[0;34m\u001b[0m    \u001b[0mcheck_finite\u001b[0m\u001b[0;34m=\u001b[0m\u001b[0;32mTrue\u001b[0m\u001b[0;34m,\u001b[0m\u001b[0;34m\u001b[0m\n",
       "\u001b[0;34m\u001b[0m    \u001b[0massume_a\u001b[0m\u001b[0;34m=\u001b[0m\u001b[0;34m'gen'\u001b[0m\u001b[0;34m,\u001b[0m\u001b[0;34m\u001b[0m\n",
       "\u001b[0;34m\u001b[0m    \u001b[0mtransposed\u001b[0m\u001b[0;34m=\u001b[0m\u001b[0;32mFalse\u001b[0m\u001b[0;34m,\u001b[0m\u001b[0;34m\u001b[0m\n",
       "\u001b[0;34m\u001b[0m\u001b[0;34m)\u001b[0m\u001b[0;34m\u001b[0m\u001b[0;34m\u001b[0m\u001b[0m\n",
       "\u001b[0;31mDocstring:\u001b[0m\n",
       "Solves the linear equation set ``a @ x == b`` for the unknown ``x``\n",
       "for square `a` matrix.\n",
       "\n",
       "If the data matrix is known to be a particular type then supplying the\n",
       "corresponding string to ``assume_a`` key chooses the dedicated solver.\n",
       "The available options are\n",
       "\n",
       "===================  ========\n",
       " generic matrix       'gen'\n",
       " symmetric            'sym'\n",
       " hermitian            'her'\n",
       " positive definite    'pos'\n",
       "===================  ========\n",
       "\n",
       "If omitted, ``'gen'`` is the default structure.\n",
       "\n",
       "The datatype of the arrays define which solver is called regardless\n",
       "of the values. In other words, even when the complex array entries have\n",
       "precisely zero imaginary parts, the complex solver will be called based\n",
       "on the data type of the array.\n",
       "\n",
       "Parameters\n",
       "----------\n",
       "a : (N, N) array_like\n",
       "    Square input data\n",
       "b : (N, NRHS) array_like\n",
       "    Input data for the right hand side.\n",
       "sym_pos : bool, default: False, deprecated\n",
       "    Assume `a` is symmetric and positive definite.\n",
       "\n",
       "    .. deprecated:: 0.19.0\n",
       "        This keyword is deprecated and should be replaced by using\n",
       "       ``assume_a = 'pos'``. `sym_pos` will be removed in SciPy 1.11.0.\n",
       "\n",
       "lower : bool, default: False\n",
       "    Ignored if ``assume_a == 'gen'`` (the default). If True, the\n",
       "    calculation uses only the data in the lower triangle of `a`;\n",
       "    entries above the diagonal are ignored. If False (default), the\n",
       "    calculation uses only the data in the upper triangle of `a`; entries\n",
       "    below the diagonal are ignored.\n",
       "overwrite_a : bool, default: False\n",
       "    Allow overwriting data in `a` (may enhance performance).\n",
       "overwrite_b : bool, default: False\n",
       "    Allow overwriting data in `b` (may enhance performance).\n",
       "check_finite : bool, default: True\n",
       "    Whether to check that the input matrices contain only finite numbers.\n",
       "    Disabling may give a performance gain, but may result in problems\n",
       "    (crashes, non-termination) if the inputs do contain infinities or NaNs.\n",
       "assume_a : str, {'gen', 'sym', 'her', 'pos'}\n",
       "    Valid entries are explained above.\n",
       "transposed : bool, default: False\n",
       "    If True, solve ``a.T @ x == b``. Raises `NotImplementedError`\n",
       "    for complex `a`.\n",
       "\n",
       "Returns\n",
       "-------\n",
       "x : (N, NRHS) ndarray\n",
       "    The solution array.\n",
       "\n",
       "Raises\n",
       "------\n",
       "ValueError\n",
       "    If size mismatches detected or input a is not square.\n",
       "LinAlgError\n",
       "    If the matrix is singular.\n",
       "LinAlgWarning\n",
       "    If an ill-conditioned input a is detected.\n",
       "NotImplementedError\n",
       "    If transposed is True and input a is a complex matrix.\n",
       "\n",
       "Notes\n",
       "-----\n",
       "If the input b matrix is a 1-D array with N elements, when supplied\n",
       "together with an NxN input a, it is assumed as a valid column vector\n",
       "despite the apparent size mismatch. This is compatible with the\n",
       "numpy.dot() behavior and the returned result is still 1-D array.\n",
       "\n",
       "The generic, symmetric, Hermitian and positive definite solutions are\n",
       "obtained via calling ?GESV, ?SYSV, ?HESV, and ?POSV routines of\n",
       "LAPACK respectively.\n",
       "\n",
       "Examples\n",
       "--------\n",
       "Given `a` and `b`, solve for `x`:\n",
       "\n",
       ">>> import numpy as np\n",
       ">>> a = np.array([[3, 2, 0], [1, -1, 0], [0, 5, 1]])\n",
       ">>> b = np.array([2, 4, -1])\n",
       ">>> from scipy import linalg\n",
       ">>> x = linalg.solve(a, b)\n",
       ">>> x\n",
       "array([ 2., -2.,  9.])\n",
       ">>> np.dot(a, x) == b\n",
       "array([ True,  True,  True], dtype=bool)\n",
       "\u001b[0;31mFile:\u001b[0m      /usr/lib64/python3.11/site-packages/scipy/linalg/_basic.py\n",
       "\u001b[0;31mType:\u001b[0m      function"
      ]
     },
     "metadata": {},
     "output_type": "display_data"
    }
   ],
   "source": [
    "linalg.solve?"
   ]
  },
  {
   "cell_type": "code",
   "execution_count": 33,
   "id": "95b73b09",
   "metadata": {},
   "outputs": [
    {
     "data": {
      "text/plain": [
       "array([ 2., -2.,  9.])"
      ]
     },
     "execution_count": 33,
     "metadata": {},
     "output_type": "execute_result"
    }
   ],
   "source": [
    "a = np.array([[3, 2, 0], [1, -1, 0], [0, 5, 1]])\n",
    "b = np.array([2, 4, -1])\n",
    "x = linalg.solve(a, b)\n",
    "x"
   ]
  },
  {
   "cell_type": "code",
   "execution_count": 34,
   "id": "d5c17e86",
   "metadata": {},
   "outputs": [
    {
     "data": {
      "text/plain": [
       "True"
      ]
     },
     "execution_count": 34,
     "metadata": {},
     "output_type": "execute_result"
    }
   ],
   "source": [
    "np.allclose(np.dot(a, x) , b)"
   ]
  },
  {
   "cell_type": "code",
   "execution_count": 35,
   "id": "cd5ea5de",
   "metadata": {},
   "outputs": [
    {
     "data": {
      "text/plain": [
       "array([ True,  True,  True])"
      ]
     },
     "execution_count": 35,
     "metadata": {},
     "output_type": "execute_result"
    }
   ],
   "source": [
    "np.dot(a,x) == b"
   ]
  },
  {
   "cell_type": "markdown",
   "id": "944abc5c",
   "metadata": {},
   "source": [
    "Para sistemas de ecuaciones grandes, la función `solve()` es más rápida que invertir la matriz"
   ]
  },
  {
   "cell_type": "code",
   "execution_count": 42,
   "id": "0bdedaa9",
   "metadata": {},
   "outputs": [],
   "source": [
    "A1 = np.random.random((2000,2000))\n",
    "b1 = np.random.random(2000)"
   ]
  },
  {
   "cell_type": "code",
   "execution_count": 43,
   "id": "9b6a6cd6",
   "metadata": {},
   "outputs": [
    {
     "name": "stdout",
     "output_type": "stream",
     "text": [
      "123 ms ± 4.67 ms per loop (mean ± std. dev. of 7 runs, 1 loop each)\n"
     ]
    }
   ],
   "source": [
    "%timeit linalg.solve(A1,b1)"
   ]
  },
  {
   "cell_type": "code",
   "execution_count": 44,
   "id": "a0423c3b",
   "metadata": {},
   "outputs": [
    {
     "name": "stdout",
     "output_type": "stream",
     "text": [
      "275 ms ± 22.5 ms per loop (mean ± std. dev. of 7 runs, 1 loop each)\n"
     ]
    }
   ],
   "source": [
    "%timeit np.dot(linalg.inv(A1),b1)"
   ]
  },
  {
   "cell_type": "markdown",
   "id": "773222ae",
   "metadata": {},
   "source": [
    "## Entrada y salida de datos"
   ]
  },
  {
   "cell_type": "markdown",
   "id": "f7f75f46",
   "metadata": {},
   "source": [
    "### Entrada/salida con *Numpy*\n",
    "\n",
    "#### Datos en formato texto"
   ]
  },
  {
   "cell_type": "markdown",
   "id": "6943763d",
   "metadata": {},
   "source": [
    "Veamos un ejemplo (apenas) más complicado, de un archivo en formato de texto, donde antes de la lista de números hay un encabezado"
   ]
  },
  {
   "cell_type": "code",
   "execution_count": 45,
   "id": "c4ed1b69",
   "metadata": {},
   "outputs": [],
   "source": [
    "import numpy as np\n",
    "import matplotlib.pyplot as plt"
   ]
  },
  {
   "cell_type": "code",
   "execution_count": 46,
   "id": "c8671612",
   "metadata": {},
   "outputs": [
    {
     "name": "stdout",
     "output_type": "stream",
     "text": [
      "# tiempo    cuentas\n",
      "4.953125e-06 -7.940000e-05\n",
      "4.963125e-06 -5.930000e-05\n",
      "4.973125e-06 -8.945000e-05\n",
      "4.983125e-06 -7.940000e-05\n",
      "4.993125e-06 -6.935000e-05\n",
      "5.003125e-06 -6.935000e-05\n",
      "5.013125e-06 -9.950000e-05\n",
      "5.023125e-06 -5.930000e-05\n",
      "5.033125e-06 -5.930000e-05\n"
     ]
    }
   ],
   "source": [
    "!head ../data/tof_signal_5.dat"
   ]
  },
  {
   "cell_type": "code",
   "execution_count": 47,
   "id": "e336ba24",
   "metadata": {},
   "outputs": [],
   "source": [
    "X0 = np.loadtxt('../data/tof_signal_5.dat')"
   ]
  },
  {
   "cell_type": "code",
   "execution_count": 48,
   "id": "70de08c7",
   "metadata": {},
   "outputs": [
    {
     "data": {
      "text/plain": [
       "((1000, 2), numpy.ndarray)"
      ]
     },
     "execution_count": 48,
     "metadata": {},
     "output_type": "execute_result"
    }
   ],
   "source": [
    "X0.shape, type(X0)"
   ]
  },
  {
   "cell_type": "code",
   "execution_count": 49,
   "id": "b36a3ca5",
   "metadata": {},
   "outputs": [
    {
     "data": {
      "text/plain": [
       "(2,)"
      ]
     },
     "execution_count": 49,
     "metadata": {},
     "output_type": "execute_result"
    }
   ],
   "source": [
    "X0[0].shape"
   ]
  },
  {
   "cell_type": "code",
   "execution_count": 50,
   "id": "b8314e06",
   "metadata": {},
   "outputs": [
    {
     "data": {
      "text/plain": [
       "array([ 4.953125e-06, -7.940000e-05])"
      ]
     },
     "execution_count": 50,
     "metadata": {},
     "output_type": "execute_result"
    }
   ],
   "source": [
    "X0[0]"
   ]
  },
  {
   "cell_type": "code",
   "execution_count": 51,
   "id": "ae05ce51",
   "metadata": {},
   "outputs": [
    {
     "data": {
      "text/plain": [
       "[<matplotlib.lines.Line2D at 0x7f8740d8ab90>]"
      ]
     },
     "execution_count": 51,
     "metadata": {},
     "output_type": "execute_result"
    },
    {
     "data": {
      "image/png": "[encoded data removed]",
      "text/plain": [
       "<Figure size 640x480 with 1 Axes>"
      ]
     },
     "metadata": {},
     "output_type": "display_data"
    }
   ],
   "source": [
    "plt.plot(X0[:,0], X0[:,1])"
   ]
  },
  {
   "cell_type": "markdown",
   "id": "0c899592",
   "metadata": {},
   "source": [
    "La manera más simple de leer datos de un archivo es a través de `loadtxt()`.\n",
    "\n",
    "```python\n",
    "np.info(np.loadtxt)\n",
    " loadtxt(fname, dtype=<class 'float'>, comments='#', delimiter=None,\n",
    "         converters=None, skiprows=0, usecols=None, unpack=False, ndmin=0,\n",
    "         encoding='bytes')\n",
    "Load data from a text file.\n",
    "\n",
    "Each row in the text file must have the same number of values.\n",
    "```"
   ]
  },
  {
   "cell_type": "markdown",
   "id": "57c27dca",
   "metadata": {},
   "source": [
    "En su forma más simple sólo necesita como argumento el nombre del archivo. En este caso, había una primera línea que fue ignorada porque empieza con el caracter \"#\" que indica que la línea es un comentario.\n",
    "\n",
    "Veamos otro ejemplo, donde las líneas que son parte de un encabezado se saltean, utilizando el argumento `skiprows`"
   ]
  },
  {
   "cell_type": "code",
   "execution_count": 52,
   "id": "2a63e509",
   "metadata": {},
   "outputs": [
    {
     "name": "stdout",
     "output_type": "stream",
     "text": [
      "Datos del día 15/05/2017\n",
      "Tomados por Daniel \n",
      "Mediciones de secciones eficaces\n",
      "\n",
      "Energy      0 grados        7 grados        10 grados\n",
      "9.901\t15.3519846480154 12.1212121212121 14.8604933279418\n",
      "11.881\t17.2544398619645 13.3849650643994 12.1375590020229\n",
      "13.793\t17.5451315884869 11.0136946598073 12.3340346804034\n",
      "15.813\t14.6714728388035 9.49006706314058 10.6894370651486\n",
      "17.802\t15.0544882597461 11.0630650867636 11.1185983827493\n"
     ]
    }
   ],
   "source": [
    "fdatos= '../data/exper_col.dat'\n",
    "!head ../data/exper_col.dat"
   ]
  },
  {
   "cell_type": "code",
   "execution_count": 53,
   "id": "ff3c42bb",
   "metadata": {},
   "outputs": [
    {
     "name": "stdout",
     "output_type": "stream",
     "text": [
      "(76, 4)\n",
      "[ 9.901      15.35198465 12.12121212 14.86049333]\n"
     ]
    }
   ],
   "source": [
    "X1 = np.loadtxt(fdatos, skiprows=5)\n",
    "print(X1.shape)\n",
    "print(X1[0])"
   ]
  },
  {
   "cell_type": "markdown",
   "id": "9620b28d",
   "metadata": {},
   "source": [
    "Como el archivo tiene cuatro columnas el array `X` tiene dimensiones `(74, 4)` correspondiente a las 74 filas y las 4 columnas. Si sólo necesitamos un grupo de estos datos podemos utilizar el argumento `usecols = (c1, c2)` que nos permite elegir cuáles son las columnas a leer:"
   ]
  },
  {
   "cell_type": "code",
   "execution_count": 54,
   "id": "1c23fe4c",
   "metadata": {},
   "outputs": [
    {
     "name": "stdout",
     "output_type": "stream",
     "text": [
      "76 76\n"
     ]
    }
   ],
   "source": [
    "x, y = np.loadtxt(fdatos, skiprows=5, usecols=[0, 2], unpack=True)\n",
    "print (x.size, y.size)"
   ]
  },
  {
   "cell_type": "code",
   "execution_count": 55,
   "id": "00925400",
   "metadata": {},
   "outputs": [
    {
     "name": "stdout",
     "output_type": "stream",
     "text": [
      "152 [ 9.901      12.12121212]\n"
     ]
    }
   ],
   "source": [
    "Y = np.loadtxt(fdatos, skiprows=5, usecols=[0, 2])\n",
    "print (Y.size, Y[0])"
   ]
  },
  {
   "cell_type": "markdown",
   "id": "929612b6",
   "metadata": {},
   "source": [
    "En este ejemplo, mediante el argumento `unpack=True`, le indicamos a la función `loadtxt`que desempaque lo que lee en variables diferentes (`x,y` en este caso)"
   ]
  },
  {
   "cell_type": "code",
   "execution_count": 56,
   "id": "bff8dd96",
   "metadata": {},
   "outputs": [
    {
     "data": {
      "text/plain": [
       "[<matplotlib.lines.Line2D at 0x7f8740337990>]"
      ]
     },
     "execution_count": 56,
     "metadata": {},
     "output_type": "execute_result"
    },
    {
     "data": {
      "image/png": "[encoded data removed]",
      "text/plain": [
       "<Figure size 640x480 with 1 Axes>"
      ]
     },
     "metadata": {},
     "output_type": "display_data"
    }
   ],
   "source": [
    "plt.plot(x,y, 'o-')"
   ]
  },
  {
   "cell_type": "markdown",
   "id": "c8ffed90",
   "metadata": {},
   "source": [
    "Como numpy se especializa en manejar números, tiene muchas funciones para crear arrays a partir de información numérica a partir de texto o archivos (como los CSV, por ejemplo). Ya vimos como leer datos con `loadtxt`. También se pueden generar desde un string:"
   ]
  },
  {
   "cell_type": "code",
   "execution_count": 57,
   "id": "c7d155b1",
   "metadata": {},
   "outputs": [
    {
     "data": {
      "text/plain": [
       "array([ 1. ,  2.3,  3. ,  4.1, -3.1])"
      ]
     },
     "execution_count": 57,
     "metadata": {},
     "output_type": "execute_result"
    }
   ],
   "source": [
    "np.fromstring(u\"1.0 2.3   3.0 4.1   -3.1\", sep=\" \", dtype=float)"
   ]
  },
  {
   "cell_type": "markdown",
   "id": "8679318d",
   "metadata": {},
   "source": [
    "Para guardar datos en formato texto podemos usar, de la misma manera,"
   ]
  },
  {
   "cell_type": "code",
   "execution_count": 58,
   "id": "2e3a25c3",
   "metadata": {},
   "outputs": [
    {
     "name": "stdout",
     "output_type": "stream",
     "text": [
      "(76, 2)\n"
     ]
    }
   ],
   "source": [
    "Y = np.vstack((x,y)).T\n",
    "print(Y.shape)"
   ]
  },
  {
   "cell_type": "code",
   "execution_count": 59,
   "id": "11d792c7",
   "metadata": {},
   "outputs": [],
   "source": [
    "np.savetxt('tmp.dat', Y)"
   ]
  },
  {
   "cell_type": "code",
   "execution_count": 60,
   "id": "179920d7",
   "metadata": {},
   "outputs": [
    {
     "name": "stdout",
     "output_type": "stream",
     "text": [
      "9.900999999999999801e+00 1.212121212121209979e+01\n",
      "1.188100000000000023e+01 1.338496506439940070e+01\n",
      "1.379299999999999926e+01 1.101369465980729956e+01\n",
      "1.581300000000000061e+01 9.490067063140580572e+00\n",
      "1.780199999999999960e+01 1.106306508676360068e+01\n",
      "1.978399999999999892e+01 1.056836569579290064e+01\n",
      "2.180600000000000094e+01 9.041259351048690718e+00\n",
      "2.380199999999999960e+01 9.743805123897519849e+00\n",
      "2.567999999999999972e+01 1.000583998442670008e+01\n",
      "2.769900000000000162e+01 1.093034161826770045e+01\n"
     ]
    }
   ],
   "source": [
    "!head tmp.dat"
   ]
  },
  {
   "cell_type": "markdown",
   "id": "9a796b1e",
   "metadata": {},
   "source": [
    "La función `savetxt()`tiene varios argumentos opcionales:\n",
    "\n",
    "```python\n",
    "np.savetxt(fname, X, fmt='%.18e', delimiter=' ', newline='\\n', header='', footer='', comments='# ', encoding=None)\n",
    "```\n",
    "\n",
    "Por ejemplo, podemos darle un formato de salida con el argumento `fmt`, y darle un encabezado con `header`"
   ]
  },
  {
   "cell_type": "code",
   "execution_count": 61,
   "id": "1adc8049",
   "metadata": {},
   "outputs": [
    {
     "name": "stdout",
     "output_type": "stream",
     "text": [
      "# Energ Exper\n",
      "9.901 12.1212\n",
      "11.881 13.385\n",
      "13.793 11.0137\n",
      "15.813 9.49007\n",
      "17.802 11.0631\n",
      "19.784 10.5684\n",
      "21.806 9.04126\n",
      "23.802 9.74381\n",
      "25.68 10.0058\n"
     ]
    }
   ],
   "source": [
    "np.savetxt('tmp.dat', Y, fmt='%.6g', header=\"Energ Exper\")\n",
    "!head tmp.dat"
   ]
  },
  {
   "cell_type": "markdown",
   "id": "fc3404df",
   "metadata": {},
   "source": [
    "#### Datos en formato binario"
   ]
  },
  {
   "cell_type": "code",
   "execution_count": 62,
   "id": "31f721df",
   "metadata": {},
   "outputs": [],
   "source": [
    "np.save('test.npy', X1)  # Grabamos el array a archivo \n",
    "X2 = np.load('test.npy')     # Y lo leemos"
   ]
  },
  {
   "cell_type": "code",
   "execution_count": 63,
   "id": "29b83c19",
   "metadata": {},
   "outputs": [
    {
     "name": "stdout",
     "output_type": "stream",
     "text": [
      "X1= [[ 9.901      15.35198465 12.12121212 14.86049333]\n",
      " [11.881      17.25443986 13.38496506 12.137559  ]\n",
      " [13.793      17.54513159 11.01369466 12.33403468]\n",
      " [15.813      14.67147284  9.49006706 10.68943707]\n",
      " [17.802      15.05448826 11.06306509 11.11859838]\n",
      " [19.784      12.99029519 10.5683657  10.77717061]\n",
      " [21.806      12.19847748  9.04125935 10.50844347]\n",
      " [23.802      13.57028821  9.74380512 10.46262448]\n",
      " [25.68       13.16199377 10.00583998  9.76919784]\n",
      " [27.699      14.91028557 10.93034162 11.29189365]]\n",
      "X2= [[ 9.901      15.35198465 12.12121212 14.86049333]\n",
      " [11.881      17.25443986 13.38496506 12.137559  ]\n",
      " [13.793      17.54513159 11.01369466 12.33403468]\n",
      " [15.813      14.67147284  9.49006706 10.68943707]\n",
      " [17.802      15.05448826 11.06306509 11.11859838]\n",
      " [19.784      12.99029519 10.5683657  10.77717061]\n",
      " [21.806      12.19847748  9.04125935 10.50844347]\n",
      " [23.802      13.57028821  9.74380512 10.46262448]\n",
      " [25.68       13.16199377 10.00583998  9.76919784]\n",
      " [27.699      14.91028557 10.93034162 11.29189365]]\n"
     ]
    }
   ],
   "source": [
    "# Veamos si alguno de los elementos difiere\n",
    "print('X1=', X1[:10])\n",
    "print('X2=', X2[:10])"
   ]
  },
  {
   "cell_type": "code",
   "execution_count": 64,
   "id": "38aafa67",
   "metadata": {},
   "outputs": [
    {
     "name": "stdout",
     "output_type": "stream",
     "text": [
      "¿Alguna differencia? False\n"
     ]
    }
   ],
   "source": [
    "print('¿Alguna differencia?', np.any(X1-X2))"
   ]
  },
  {
   "cell_type": "markdown",
   "id": "f4e66be2",
   "metadata": {},
   "source": [
    "### Ejemplo de análisis de palabras"
   ]
  },
  {
   "cell_type": "code",
   "execution_count": 66,
   "id": "2a34f0c7-a35b-4f04-8b0e-c2b555047a52",
   "metadata": {},
   "outputs": [
    {
     "data": {
      "image/png": "[encoded data removed]",
      "text/plain": [
       "<Figure size 1200x1000 with 1 Axes>"
      ]
     },
     "metadata": {},
     "output_type": "display_data"
    }
   ],
   "source": [
    "# %load scripts/10_palabras.py\n",
    "#! /usr/bin/ipython\n",
    "import numpy as np\n",
    "import matplotlib.pyplot as plt\n",
    "import gzip\n",
    "ifiname = '../data/palabras.words.gz'\n",
    "\n",
    "letras = [0] * 512\n",
    "with gzip.open(ifiname, mode='r') as fi:\n",
    "  for l in fi.readlines():\n",
    "    c = ord(l.decode('utf-8')[0])\n",
    "    letras[c] += 1\n",
    "\n",
    "nmax = np.nonzero(letras)[0].max() + 1\n",
    "z = np.array(letras[:nmax])\n",
    "# nmin = z.nonzero()[0].min()     # Máximo valor diferente de cero\n",
    "nmin = np.argwhere(z != 0).min()\n",
    "plt.ion()\n",
    "with plt.style.context(['seaborn-talk', 'presentation']):\n",
    "  fig = plt.figure(figsize=(12, 10))\n",
    "  plt.clf()\n",
    "  plt.bar(np.arange(nmin, nmax), z[nmin:nmax])\n",
    "  plt.xlabel('Letras con y sin acentos')\n",
    "  plt.ylabel('Frecuencia')\n",
    "\n",
    "  labels = ['A', 'Z', 'a', 'o', 'z', 'á', 'ú']\n",
    "  ll = [r'$\\mathrm{{{}}}$'.format(t) for t in labels]\n",
    "  ts = [ord(t) for t in labels]\n",
    "  plt.xticks(ts, ll, fontsize='xx-large')\n",
    "\n",
    "  x0 = 0.5 * ord('á') + ord('z')\n",
    "  y0 = 0.2 * z.max()\n",
    "  umbral = 0.25\n",
    "  lista = (z > umbral * z.max()).nonzero()[0]\n",
    "\n",
    "  dx = [10, 40, 70]\n",
    "  dy = [-550, -350, -100]\n",
    "\n",
    "  for j, t in enumerate(reversed(lista)):\n",
    "    plt.annotate('{} ({})'.format(chr(t), z[t]), xy=(t, z[t]), xycoords='data',\n",
    "                 xytext=(t + dx[j % 3], z[t] + dy[j % 3]), bbox=dict(boxstyle=\"round\", fc=\"0.8\"),\n",
    "                 arrowprops=dict(arrowstyle=\"simple\", fc=\"0.5\")\n",
    "                 )\n"
   ]
  },
  {
   "cell_type": "markdown",
   "id": "6c9600b1",
   "metadata": {},
   "source": [
    "### Entrada y salida en Scipy\n",
    "\n",
    "El submódulo `io` tiene algunas utilidades de entrada y salida de datos que permite interactuar con otros paquetes/programas. Algunos de ellos son:\n",
    "\n",
    "- Archivos IDL ([Interactive Data Language](https://hesperia.gsfc.nasa.gov/hessi/solar_cd/FAQ/IDL_FAQ.htm))\n",
    "   - `scipy.io.readsav()`\n",
    "\n",
    "- Archivos de sonido wav, con `scipy.io.wavfile`\n",
    "   - `scipy.io.wavfile.read()`\n",
    "   - `scipy.io.wavfile.write()`\n",
    "\n",
    "- Archivos fortran sin formato, con `scipy.io.FortranFile`\n",
    "\n",
    "- Archivos Netcdf (para gran número de datos), con  `scipy.io.netcdf`\n",
    "\n",
    "- Archivos de matrices de Matlab"
   ]
  },
  {
   "cell_type": "code",
   "execution_count": 67,
   "id": "91078ea5",
   "metadata": {},
   "outputs": [
    {
     "name": "stdout",
     "output_type": "stream",
     "text": [
      "[[2. 1. 1.]\n",
      " [1. 2. 1.]\n",
      " [1. 1. 2.]]\n",
      "[[2. 1. 1.]\n",
      " [1. 2. 1.]\n",
      " [1. 1. 2.]]\n"
     ]
    }
   ],
   "source": [
    "from scipy import io as sio\n",
    "a = np.ones((3, 3)) + np.eye(3,3)\n",
    "print(a)\n",
    "sio.savemat('datos.mat', {'a': a}) # savemat espera un diccionario\n",
    "data = sio.loadmat('datos.mat', struct_as_record=True)\n",
    "print(data['a'])"
   ]
  },
  {
   "cell_type": "code",
   "execution_count": 68,
   "id": "48ec0b94",
   "metadata": {},
   "outputs": [
    {
     "data": {
      "text/plain": [
       "{'__header__': b'MATLAB 5.0 MAT-file Platform: posix, Created on: Fri Mar 15 17:28:58 2024',\n",
       " '__version__': '1.0',\n",
       " '__globals__': [],\n",
       " 'a': array([[2., 1., 1.],\n",
       "        [1., 2., 1.],\n",
       "        [1., 1., 2.]])}"
      ]
     },
     "execution_count": 68,
     "metadata": {},
     "output_type": "execute_result"
    }
   ],
   "source": [
    "data"
   ]
  },
  {
   "cell_type": "markdown",
   "id": "7b7e7391",
   "metadata": {
    "jp-MarkdownHeadingCollapsed": true
   },
   "source": [
    "-----\n",
    "\n",
    "## Ejercicios 12 (b)\n",
    "\n",
    "2. En el archivo `palabras.words.gz` hay una larga lista de palabras, en formato comprimido.\n",
    "Siguiendo la idea del ejemplo dado en clases realizar un histograma de las longitudes de las palabras.\n",
    "\n",
    "3. Modificar el programa del ejemplo de la clase para calcular el histograma de frecuencia de letras en las palabras (no sólo la primera). Considere el caso insensible a la capitalización: las mayúsculas y minúsculas corresponden a la misma letra ('á' es lo mismo que 'Á' y ambas corresponden a 'a').\n",
    "\n",
    "3. Utilizando el mismo archivo de palabras, Guardar todas las palabras en un array y obtener los índices de las palabras que tienen una dada letra (por ejemplo la letra 'j'), los índices de las palabras con un número dado de letras (por ejemplo 5 letras), y los índices de las palabras cuya tercera letra es una vocal. En cada caso, dar luego las palabras que cumplen dichas condiciones.\n",
    "\n",
    "4. En el archivo `colision.npy` hay una gran cantidad de datos que corresponden al resultado de una simulación. Los datos están organizados en trece columnas. La primera corresponde a un parámetro, mientras que las 12 restantes corresponde a cada una de las tres componentes de la velocidad de cuatro partículas. Calcular y graficar:\n",
    "    1. la distribución de ocurrencias del primer parámetro.\n",
    "   2. la distribución de ocurrencias de energías de la tercera partícula.\n",
    "   3. la distribución de ocurrencias de ángulos de la cuarta partícula, medido respecto al tercer eje.\n",
    "  Realizar los cuatro gráficos utilizando un formato adecuado para presentación (charla o poster).\n",
    "\n",
    "5. Leer el archivo `colision.npy` y guardar los datos en formato texto con un encabezado adecuado. Usando el comando mágico `%timeit` o el módulo timeit, comparar el tiempo que tarda en leer los datos e imprimir el último valor utilizando el formato de texto y el formato original `npy`. Comparar el tamaño de los dos archivos.\n",
    "  \n",
    "1. El submódulo **scipy.constants** tiene valores de constantes físicas de interés. \n",
    "Usando este módulo compute la constante de Stefan-Boltzmann $\\sigma$ utilizando la relación:\n",
    "$$\\sigma = \\frac{2 \\pi^5 k_B^4}{15 h^3 c^2}$$\n",
    "Confirme que el valor obtenido es correcto comparando con la constante para esta cantidad en ``scipy.constants``\n",
    "\n",
    "2. Usando **Scipy** y **Matplotlib** grafique las funciones de onda del oscilador armónico unidimensional para las cuatro energías más bajas ($n=1,2,3,4$), en el intervalo $[-5,5]$. Asegúrese de que están correctamente normalizados.\n",
    "\n",
    "Las funciones están dadas por:\n",
    "\n",
    "$$ \\psi _{n}(x)={\\frac {1}{\\sqrt {2^{n}\\,n!}}}\\cdot \\left({\\frac {\\omega }{\\pi}}\\right)^{1/4}\\cdot e^{-{\\frac {\\omega x^{2}}{2 }}}\\cdot H_{n}\\left({\\sqrt{\\omega}}\\, x\\right),\\qquad n=0,1,2,\\ldots .$$\n",
    "\n",
    "donde $H_{n}$ son los polinomios de Hermite, y usando $\\omega = 2$.\n",
    "\n",
    "Trate de obtener un gráfico similar al siguiente (tomado de [wikipedia](https://en.wikipedia.org/wiki/Quantum_harmonic_oscillator). Realizado por By AllenMcC. - File:HarmOsziFunktionen.jpg, [CC BY-SA 3.0](https://commons.wikimedia.org/w/index.php?curid=11623546))\n",
    "\n",
    "![](figuras/HarmOsziFunktionen.png)\n",
    "\n",
    "-----\n",
    "\n",
    "."
   ]
  }
 ],
 "metadata": {
  "kernelspec": {
   "display_name": "Python 3 (ipykernel)",
   "language": "python",
   "name": "python3"
  },
  "language_info": {
   "codemirror_mode": {
    "name": "ipython",
    "version": 3
   },
   "file_extension": ".py",
   "mimetype": "text/x-python",
   "name": "python",
   "nbconvert_exporter": "python",
   "pygments_lexer": "ipython3",
   "version": "3.11.8"
  },
  "name": "11_2_scipy_al.ipynb",
  "toc": {
   "base_numbering": 1,
   "nav_menu": {},
   "number_sections": true,
   "sideBar": true,
   "skip_h1_title": false,
   "title_cell": "Contenidos",
   "title_sidebar": "Contenidos",
   "toc_cell": false,
   "toc_position": {},
   "toc_section_display": true,
   "toc_window_display": false
  }
 },
 "nbformat": 4,
 "nbformat_minor": 5
}
