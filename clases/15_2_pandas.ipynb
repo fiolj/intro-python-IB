{
 "cells": [
  {
   "cell_type": "markdown",
   "metadata": {},
   "source": [
    "## Pandas\n",
    "\n",
    "`Pandas` es una biblioteca de Python ampliamente utilizada para análisis de datos y manipulación de datos tabulares. Proporciona estructuras de datos potentes y flexibles, como DataFrame y Series, que son fundamentales para trabajar con conjuntos de datos. \n",
    "\n",
    "> No es la única biblioteca de Python para manejar tablas de datos, pueden consultar otras como [Polars](https://pola.rs/), [DuckDB](https://duckdb.org/), etc. Pero se ha convertido en un módulo muy popular.\n",
    "\n",
    "La instalamos como siempre\n",
    "```bash\n",
    "pip install pandas\n",
    "```\n",
    "\n"
   ]
  },
  {
   "cell_type": "code",
   "execution_count": 1,
   "metadata": {},
   "outputs": [],
   "source": [
    "import pandas as pd"
   ]
  },
  {
   "cell_type": "markdown",
   "metadata": {},
   "source": [
    "Pandas tiene dos tipos fundamentales de estructuras de datos:\n",
    "\n",
    "a. `DataFrame`: Una estructura de datos tabular bidimensional con etiquetas en filas y columnas.\n",
    "\n",
    "b. `Series`: Un arreglo unidimensional etiquetado capaz de contener cualquier tipo de datos."
   ]
  },
  {
   "cell_type": "code",
   "execution_count": 2,
   "metadata": {},
   "outputs": [
    {
     "name": "stdout",
     "output_type": "stream",
     "text": [
      "0    1\n",
      "1    2\n",
      "2    3\n",
      "3    4\n",
      "4    5\n",
      "dtype: int64\n"
     ]
    }
   ],
   "source": [
    "# Crear una Serie a partir de una lista\n",
    "s = pd.Series([1, 2, 3, 4, 5])\n",
    "print(s)"
   ]
  },
  {
   "cell_type": "markdown",
   "metadata": {},
   "source": [
    "Notar que el `print` ya muestra los datos en forma adecuada, indicando los índices (columna de la izquierda) y el tipo de dato de la serie."
   ]
  },
  {
   "cell_type": "code",
   "execution_count": 3,
   "metadata": {},
   "outputs": [
    {
     "data": {
      "text/plain": [
       "(RangeIndex(start=0, stop=5, step=1), array([1, 2, 3, 4, 5]))"
      ]
     },
     "execution_count": 3,
     "metadata": {},
     "output_type": "execute_result"
    }
   ],
   "source": [
    "s.index, s.values"
   ]
  },
  {
   "cell_type": "code",
   "execution_count": 4,
   "metadata": {},
   "outputs": [
    {
     "name": "stdout",
     "output_type": "stream",
     "text": [
      "<PandasArray>\n",
      "[1, 2, 3, 4, 5]\n",
      "Length: 5, dtype: int64\n"
     ]
    },
    {
     "data": {
      "text/plain": [
       "15"
      ]
     },
     "execution_count": 4,
     "metadata": {},
     "output_type": "execute_result"
    }
   ],
   "source": [
    "import numpy as np \n",
    "\n",
    "s_np = s.array # cast de la serie a un arreglo de numpy.\n",
    "print(s_np)\n",
    "np.sum(s_np)"
   ]
  },
  {
   "cell_type": "code",
   "execution_count": 5,
   "metadata": {},
   "outputs": [
    {
     "name": "stdout",
     "output_type": "stream",
     "text": [
      "  Nombre  Edad\n",
      "0   Juan    25\n",
      "1  María    30\n",
      "2  Pedro    35\n",
      "3    Ana    40\n"
     ]
    }
   ],
   "source": [
    "# Crear un DataFrame a partir de un diccionario\n",
    "data = {'Nombre': ['Juan', 'María', 'Pedro', 'Ana'],\n",
    "        'Edad': [25, 30, 35, 40]}\n",
    "df = pd.DataFrame(data)\n",
    "print(df)"
   ]
  },
  {
   "cell_type": "markdown",
   "metadata": {},
   "source": [
    "Podemos agregar columnas como"
   ]
  },
  {
   "cell_type": "code",
   "execution_count": 6,
   "metadata": {},
   "outputs": [
    {
     "name": "stdout",
     "output_type": "stream",
     "text": [
      "  Nombre  Edad   Ocupacion\n",
      "0   Juan    25  Estudiante\n",
      "1  María    30   Ingeniera\n",
      "2  Pedro    35      Doctor\n",
      "3    Ana    40   Profesora\n"
     ]
    }
   ],
   "source": [
    "df['Ocupacion'] = ['Estudiante', 'Ingeniera', 'Doctor', 'Profesora']\n",
    "print(df)"
   ]
  },
  {
   "cell_type": "markdown",
   "metadata": {},
   "source": [
    "Y podemos agregar una nueva fila:"
   ]
  },
  {
   "cell_type": "code",
   "execution_count": 7,
   "metadata": {},
   "outputs": [
    {
     "name": "stdout",
     "output_type": "stream",
     "text": [
      "  Nombre  Edad   Ocupacion\n",
      "0   Juan    25  Estudiante\n",
      "1  María    30   Ingeniera\n",
      "2  Pedro    35      Doctor\n",
      "3    Ana    40   Profesora\n",
      "4    Eva    28   Ingeniera\n"
     ]
    }
   ],
   "source": [
    "eva = pd.DataFrame({'Nombre': ['Eva'], 'Edad': [28], 'Ocupacion': ['Ingeniera']})\n",
    "df = pd.concat([df,eva], ignore_index=True)\n",
    "print(df)"
   ]
  },
  {
   "cell_type": "markdown",
   "metadata": {},
   "source": [
    "\n",
    "------\n",
    "\n",
    "**Nota:**\n",
    "\n",
    "> En versiones anteriores de pandas a 2.0, existe una método `.append`. Sin embargo, ese método ya no está visible en la clase.\n",
    "\n",
    "> Notar también que cada valor del diccionario es una lista. Si se  eligiera usar los correspondientes valores escalares, es necesario indicar el índice en el cual se quiere concatenar la fila:\n",
    "\n",
    "------\n"
   ]
  },
  {
   "cell_type": "code",
   "execution_count": 8,
   "metadata": {},
   "outputs": [
    {
     "ename": "ValueError",
     "evalue": "If using all scalar values, you must pass an index",
     "output_type": "error",
     "traceback": [
      "\u001b[0;31m---------------------------------------------------------------------------\u001b[0m",
      "\u001b[0;31mValueError\u001b[0m                                Traceback (most recent call last)",
      "Cell \u001b[0;32mIn[8], line 1\u001b[0m\n\u001b[0;32m----> 1\u001b[0m lio \u001b[38;5;241m=\u001b[39m \u001b[43mpd\u001b[49m\u001b[38;5;241;43m.\u001b[39;49m\u001b[43mDataFrame\u001b[49m\u001b[43m(\u001b[49m\u001b[43m{\u001b[49m\u001b[38;5;124;43m'\u001b[39;49m\u001b[38;5;124;43mNombre\u001b[39;49m\u001b[38;5;124;43m'\u001b[39;49m\u001b[43m:\u001b[49m\u001b[43m \u001b[49m\u001b[38;5;124;43m'\u001b[39;49m\u001b[38;5;124;43mLionel\u001b[39;49m\u001b[38;5;124;43m'\u001b[39;49m\u001b[43m,\u001b[49m\u001b[43m \u001b[49m\u001b[38;5;124;43m'\u001b[39;49m\u001b[38;5;124;43mEdad\u001b[39;49m\u001b[38;5;124;43m'\u001b[39;49m\u001b[43m:\u001b[49m\u001b[43m \u001b[49m\u001b[38;5;241;43m37\u001b[39;49m\u001b[43m,\u001b[49m\u001b[43m \u001b[49m\u001b[38;5;124;43m'\u001b[39;49m\u001b[38;5;124;43mOcupacion\u001b[39;49m\u001b[38;5;124;43m'\u001b[39;49m\u001b[43m:\u001b[49m\u001b[43m \u001b[49m\u001b[38;5;124;43m'\u001b[39;49m\u001b[38;5;124;43mFutbolista\u001b[39;49m\u001b[38;5;124;43m'\u001b[39;49m\u001b[43m}\u001b[49m\u001b[43m)\u001b[49m\n\u001b[1;32m      2\u001b[0m df \u001b[38;5;241m=\u001b[39m pd\u001b[38;5;241m.\u001b[39mconcat([df,eva], ignore_index\u001b[38;5;241m=\u001b[39m\u001b[38;5;28;01mTrue\u001b[39;00m)\n\u001b[1;32m      3\u001b[0m \u001b[38;5;28mprint\u001b[39m(df)\n",
      "File \u001b[0;32m/usr/lib64/python3.11/site-packages/pandas/core/frame.py:664\u001b[0m, in \u001b[0;36mDataFrame.__init__\u001b[0;34m(self, data, index, columns, dtype, copy)\u001b[0m\n\u001b[1;32m    658\u001b[0m     mgr \u001b[38;5;241m=\u001b[39m \u001b[38;5;28mself\u001b[39m\u001b[38;5;241m.\u001b[39m_init_mgr(\n\u001b[1;32m    659\u001b[0m         data, axes\u001b[38;5;241m=\u001b[39m{\u001b[38;5;124m\"\u001b[39m\u001b[38;5;124mindex\u001b[39m\u001b[38;5;124m\"\u001b[39m: index, \u001b[38;5;124m\"\u001b[39m\u001b[38;5;124mcolumns\u001b[39m\u001b[38;5;124m\"\u001b[39m: columns}, dtype\u001b[38;5;241m=\u001b[39mdtype, copy\u001b[38;5;241m=\u001b[39mcopy\n\u001b[1;32m    660\u001b[0m     )\n\u001b[1;32m    662\u001b[0m \u001b[38;5;28;01melif\u001b[39;00m \u001b[38;5;28misinstance\u001b[39m(data, \u001b[38;5;28mdict\u001b[39m):\n\u001b[1;32m    663\u001b[0m     \u001b[38;5;66;03m# GH#38939 de facto copy defaults to False only in non-dict cases\u001b[39;00m\n\u001b[0;32m--> 664\u001b[0m     mgr \u001b[38;5;241m=\u001b[39m \u001b[43mdict_to_mgr\u001b[49m\u001b[43m(\u001b[49m\u001b[43mdata\u001b[49m\u001b[43m,\u001b[49m\u001b[43m \u001b[49m\u001b[43mindex\u001b[49m\u001b[43m,\u001b[49m\u001b[43m \u001b[49m\u001b[43mcolumns\u001b[49m\u001b[43m,\u001b[49m\u001b[43m \u001b[49m\u001b[43mdtype\u001b[49m\u001b[38;5;241;43m=\u001b[39;49m\u001b[43mdtype\u001b[49m\u001b[43m,\u001b[49m\u001b[43m \u001b[49m\u001b[43mcopy\u001b[49m\u001b[38;5;241;43m=\u001b[39;49m\u001b[43mcopy\u001b[49m\u001b[43m,\u001b[49m\u001b[43m \u001b[49m\u001b[43mtyp\u001b[49m\u001b[38;5;241;43m=\u001b[39;49m\u001b[43mmanager\u001b[49m\u001b[43m)\u001b[49m\n\u001b[1;32m    665\u001b[0m \u001b[38;5;28;01melif\u001b[39;00m \u001b[38;5;28misinstance\u001b[39m(data, ma\u001b[38;5;241m.\u001b[39mMaskedArray):\n\u001b[1;32m    666\u001b[0m     \u001b[38;5;28;01mimport\u001b[39;00m \u001b[38;5;21;01mnumpy\u001b[39;00m\u001b[38;5;21;01m.\u001b[39;00m\u001b[38;5;21;01mma\u001b[39;00m\u001b[38;5;21;01m.\u001b[39;00m\u001b[38;5;21;01mmrecords\u001b[39;00m \u001b[38;5;28;01mas\u001b[39;00m \u001b[38;5;21;01mmrecords\u001b[39;00m\n",
      "File \u001b[0;32m/usr/lib64/python3.11/site-packages/pandas/core/internals/construction.py:493\u001b[0m, in \u001b[0;36mdict_to_mgr\u001b[0;34m(data, index, columns, dtype, typ, copy)\u001b[0m\n\u001b[1;32m    489\u001b[0m     \u001b[38;5;28;01melse\u001b[39;00m:\n\u001b[1;32m    490\u001b[0m         \u001b[38;5;66;03m# dtype check to exclude e.g. range objects, scalars\u001b[39;00m\n\u001b[1;32m    491\u001b[0m         arrays \u001b[38;5;241m=\u001b[39m [x\u001b[38;5;241m.\u001b[39mcopy() \u001b[38;5;28;01mif\u001b[39;00m \u001b[38;5;28mhasattr\u001b[39m(x, \u001b[38;5;124m\"\u001b[39m\u001b[38;5;124mdtype\u001b[39m\u001b[38;5;124m\"\u001b[39m) \u001b[38;5;28;01melse\u001b[39;00m x \u001b[38;5;28;01mfor\u001b[39;00m x \u001b[38;5;129;01min\u001b[39;00m arrays]\n\u001b[0;32m--> 493\u001b[0m \u001b[38;5;28;01mreturn\u001b[39;00m \u001b[43marrays_to_mgr\u001b[49m\u001b[43m(\u001b[49m\u001b[43marrays\u001b[49m\u001b[43m,\u001b[49m\u001b[43m \u001b[49m\u001b[43mcolumns\u001b[49m\u001b[43m,\u001b[49m\u001b[43m \u001b[49m\u001b[43mindex\u001b[49m\u001b[43m,\u001b[49m\u001b[43m \u001b[49m\u001b[43mdtype\u001b[49m\u001b[38;5;241;43m=\u001b[39;49m\u001b[43mdtype\u001b[49m\u001b[43m,\u001b[49m\u001b[43m \u001b[49m\u001b[43mtyp\u001b[49m\u001b[38;5;241;43m=\u001b[39;49m\u001b[43mtyp\u001b[49m\u001b[43m,\u001b[49m\u001b[43m \u001b[49m\u001b[43mconsolidate\u001b[49m\u001b[38;5;241;43m=\u001b[39;49m\u001b[43mcopy\u001b[49m\u001b[43m)\u001b[49m\n",
      "File \u001b[0;32m/usr/lib64/python3.11/site-packages/pandas/core/internals/construction.py:118\u001b[0m, in \u001b[0;36marrays_to_mgr\u001b[0;34m(arrays, columns, index, dtype, verify_integrity, typ, consolidate)\u001b[0m\n\u001b[1;32m    115\u001b[0m \u001b[38;5;28;01mif\u001b[39;00m verify_integrity:\n\u001b[1;32m    116\u001b[0m     \u001b[38;5;66;03m# figure out the index, if necessary\u001b[39;00m\n\u001b[1;32m    117\u001b[0m     \u001b[38;5;28;01mif\u001b[39;00m index \u001b[38;5;129;01mis\u001b[39;00m \u001b[38;5;28;01mNone\u001b[39;00m:\n\u001b[0;32m--> 118\u001b[0m         index \u001b[38;5;241m=\u001b[39m \u001b[43m_extract_index\u001b[49m\u001b[43m(\u001b[49m\u001b[43marrays\u001b[49m\u001b[43m)\u001b[49m\n\u001b[1;32m    119\u001b[0m     \u001b[38;5;28;01melse\u001b[39;00m:\n\u001b[1;32m    120\u001b[0m         index \u001b[38;5;241m=\u001b[39m ensure_index(index)\n",
      "File \u001b[0;32m/usr/lib64/python3.11/site-packages/pandas/core/internals/construction.py:656\u001b[0m, in \u001b[0;36m_extract_index\u001b[0;34m(data)\u001b[0m\n\u001b[1;32m    653\u001b[0m         \u001b[38;5;28;01mraise\u001b[39;00m \u001b[38;5;167;01mValueError\u001b[39;00m(\u001b[38;5;124m\"\u001b[39m\u001b[38;5;124mPer-column arrays must each be 1-dimensional\u001b[39m\u001b[38;5;124m\"\u001b[39m)\n\u001b[1;32m    655\u001b[0m \u001b[38;5;28;01mif\u001b[39;00m \u001b[38;5;129;01mnot\u001b[39;00m indexes \u001b[38;5;129;01mand\u001b[39;00m \u001b[38;5;129;01mnot\u001b[39;00m raw_lengths:\n\u001b[0;32m--> 656\u001b[0m     \u001b[38;5;28;01mraise\u001b[39;00m \u001b[38;5;167;01mValueError\u001b[39;00m(\u001b[38;5;124m\"\u001b[39m\u001b[38;5;124mIf using all scalar values, you must pass an index\u001b[39m\u001b[38;5;124m\"\u001b[39m)\n\u001b[1;32m    658\u001b[0m \u001b[38;5;28;01melif\u001b[39;00m have_series:\n\u001b[1;32m    659\u001b[0m     index \u001b[38;5;241m=\u001b[39m union_indexes(indexes)\n",
      "\u001b[0;31mValueError\u001b[0m: If using all scalar values, you must pass an index"
     ]
    }
   ],
   "source": [
    "lio = pd.DataFrame({'Nombre': 'Lionel', 'Edad': 37, 'Ocupacion': 'Futbolista'})\n",
    "df = pd.concat([df,eva], ignore_index=True)\n",
    "print(df)"
   ]
  },
  {
   "cell_type": "markdown",
   "metadata": {},
   "source": [
    "Si en lugar de la lista, utilizamos un valor escalar tenemos que decirle en qué lugar (índice) queremos agregar el elemento"
   ]
  },
  {
   "cell_type": "code",
   "execution_count": 9,
   "metadata": {},
   "outputs": [
    {
     "name": "stdout",
     "output_type": "stream",
     "text": [
      "    Nombre  Edad   Ocupacion\n",
      "0     Juan    25  Estudiante\n",
      "1    María    30   Ingeniera\n",
      "2    Pedro    35      Doctor\n",
      "3      Ana    40   Profesora\n",
      "4      Eva    28   Ingeniera\n",
      "14  Lionel    37  Futbolista\n"
     ]
    }
   ],
   "source": [
    "lio = pd.DataFrame({'Nombre': 'Lionel', 'Edad': 37, 'Ocupacion': 'Futbolista'}, index=[14])\n",
    "df = pd.concat([df,lio])\n",
    "print(df)"
   ]
  },
  {
   "cell_type": "markdown",
   "metadata": {},
   "source": [
    "Notemos que si usamos `ignore_index=True`, la fila se agrega al final del `DataFrame`, mientras que si no lo usamos (`ignore_index=False`), se mantiene el indice provisto por el dataframe particular (en este caso, `14`)."
   ]
  },
  {
   "cell_type": "code",
   "execution_count": 10,
   "metadata": {},
   "outputs": [
    {
     "name": "stdout",
     "output_type": "stream",
     "text": [
      "  Nombre  Edad   Ocupacion\n",
      "0   Juan    25  Estudiante\n",
      "1  María    30   Ingeniera\n"
     ]
    }
   ],
   "source": [
    "print(df.head(2))"
   ]
  },
  {
   "cell_type": "markdown",
   "metadata": {},
   "source": [
    "Es fácil guardar los datos:"
   ]
  },
  {
   "cell_type": "code",
   "execution_count": 13,
   "metadata": {},
   "outputs": [],
   "source": [
    "df.to_csv('../data/lista_gente.csv', index=False)"
   ]
  },
  {
   "cell_type": "code",
   "execution_count": 14,
   "metadata": {},
   "outputs": [
    {
     "name": "stdout",
     "output_type": "stream",
     "text": [
      "Nombre,Edad,Ocupacion\n",
      "Juan,25,Estudiante\n",
      "María,30,Ingeniera\n",
      "Pedro,35,Doctor\n",
      "Ana,40,Profesora\n",
      "Eva,28,Ingeniera\n",
      "Lionel,37,Futbolista\n"
     ]
    }
   ],
   "source": [
    "!cat ../data/lista_gente.csv"
   ]
  },
  {
   "cell_type": "markdown",
   "metadata": {},
   "source": [
    "Del mismo modo, se puede leer un csv:"
   ]
  },
  {
   "cell_type": "code",
   "execution_count": 15,
   "metadata": {},
   "outputs": [
    {
     "data": {
      "text/html": [
       "<div>\n",
       "<style scoped>\n",
       "    .dataframe tbody tr th:only-of-type {\n",
       "        vertical-align: middle;\n",
       "    }\n",
       "\n",
       "    .dataframe tbody tr th {\n",
       "        vertical-align: top;\n",
       "    }\n",
       "\n",
       "    .dataframe thead th {\n",
       "        text-align: right;\n",
       "    }\n",
       "</style>\n",
       "<table border=\"1\" class=\"dataframe\">\n",
       "  <thead>\n",
       "    <tr style=\"text-align: right;\">\n",
       "      <th></th>\n",
       "      <th>indice_tiempo</th>\n",
       "      <th>natalidad_argentina</th>\n",
       "      <th>natalidad_ciudad_autonoma_de_buenos_aires</th>\n",
       "      <th>natalidad_buenos_aires</th>\n",
       "      <th>natalidad_catamarca</th>\n",
       "      <th>natalidad_cordoba</th>\n",
       "      <th>natalidad_corrientes</th>\n",
       "      <th>natalidad_chaco</th>\n",
       "      <th>natalidad_chubut</th>\n",
       "      <th>natalidad_entre_rios</th>\n",
       "      <th>...</th>\n",
       "      <th>natalidad_neuquen</th>\n",
       "      <th>natalidad_rio_negro</th>\n",
       "      <th>natalidad_salta</th>\n",
       "      <th>natalidad_san_juan</th>\n",
       "      <th>natalidad_san_luis</th>\n",
       "      <th>natalidad_santa_cruz</th>\n",
       "      <th>natalidad_santa_fe</th>\n",
       "      <th>natalidad_santiago_del_estero</th>\n",
       "      <th>natalidad_tucuman</th>\n",
       "      <th>natalidad_tierra_del_fuego</th>\n",
       "    </tr>\n",
       "  </thead>\n",
       "  <tbody>\n",
       "    <tr>\n",
       "      <th>0</th>\n",
       "      <td>2000</td>\n",
       "      <td>19.0</td>\n",
       "      <td>14.3</td>\n",
       "      <td>17.5</td>\n",
       "      <td>25.8</td>\n",
       "      <td>17.2</td>\n",
       "      <td>22.7</td>\n",
       "      <td>25.8</td>\n",
       "      <td>19.4</td>\n",
       "      <td>21.3</td>\n",
       "      <td>...</td>\n",
       "      <td>17.9</td>\n",
       "      <td>18.9</td>\n",
       "      <td>24.0</td>\n",
       "      <td>22.7</td>\n",
       "      <td>22.3</td>\n",
       "      <td>19.6</td>\n",
       "      <td>16.9</td>\n",
       "      <td>21.6</td>\n",
       "      <td>22.6</td>\n",
       "      <td>19.9</td>\n",
       "    </tr>\n",
       "    <tr>\n",
       "      <th>1</th>\n",
       "      <td>2001</td>\n",
       "      <td>18.2</td>\n",
       "      <td>13.9</td>\n",
       "      <td>16.9</td>\n",
       "      <td>24.9</td>\n",
       "      <td>15.9</td>\n",
       "      <td>21.9</td>\n",
       "      <td>22.2</td>\n",
       "      <td>18.4</td>\n",
       "      <td>20.5</td>\n",
       "      <td>...</td>\n",
       "      <td>16.8</td>\n",
       "      <td>17.8</td>\n",
       "      <td>24.2</td>\n",
       "      <td>23.7</td>\n",
       "      <td>22.3</td>\n",
       "      <td>19.8</td>\n",
       "      <td>16.2</td>\n",
       "      <td>21.1</td>\n",
       "      <td>21.1</td>\n",
       "      <td>17.9</td>\n",
       "    </tr>\n",
       "    <tr>\n",
       "      <th>2</th>\n",
       "      <td>2002</td>\n",
       "      <td>18.3</td>\n",
       "      <td>13.6</td>\n",
       "      <td>17.0</td>\n",
       "      <td>24.4</td>\n",
       "      <td>16.6</td>\n",
       "      <td>23.3</td>\n",
       "      <td>24.9</td>\n",
       "      <td>17.1</td>\n",
       "      <td>19.5</td>\n",
       "      <td>...</td>\n",
       "      <td>16.1</td>\n",
       "      <td>17.3</td>\n",
       "      <td>24.7</td>\n",
       "      <td>22.3</td>\n",
       "      <td>22.0</td>\n",
       "      <td>19.2</td>\n",
       "      <td>16.7</td>\n",
       "      <td>22.1</td>\n",
       "      <td>22.6</td>\n",
       "      <td>17.2</td>\n",
       "    </tr>\n",
       "    <tr>\n",
       "      <th>3</th>\n",
       "      <td>2003</td>\n",
       "      <td>18.4</td>\n",
       "      <td>14.2</td>\n",
       "      <td>17.3</td>\n",
       "      <td>22.5</td>\n",
       "      <td>17.5</td>\n",
       "      <td>22.2</td>\n",
       "      <td>20.9</td>\n",
       "      <td>18.7</td>\n",
       "      <td>19.8</td>\n",
       "      <td>...</td>\n",
       "      <td>19.4</td>\n",
       "      <td>18.6</td>\n",
       "      <td>22.0</td>\n",
       "      <td>22.2</td>\n",
       "      <td>21.7</td>\n",
       "      <td>21.9</td>\n",
       "      <td>17.3</td>\n",
       "      <td>17.8</td>\n",
       "      <td>21.8</td>\n",
       "      <td>20.8</td>\n",
       "    </tr>\n",
       "    <tr>\n",
       "      <th>4</th>\n",
       "      <td>2004</td>\n",
       "      <td>19.3</td>\n",
       "      <td>14.9</td>\n",
       "      <td>18.5</td>\n",
       "      <td>20.6</td>\n",
       "      <td>17.8</td>\n",
       "      <td>22.7</td>\n",
       "      <td>25.1</td>\n",
       "      <td>19.3</td>\n",
       "      <td>19.5</td>\n",
       "      <td>...</td>\n",
       "      <td>19.8</td>\n",
       "      <td>18.3</td>\n",
       "      <td>23.9</td>\n",
       "      <td>22.5</td>\n",
       "      <td>21.9</td>\n",
       "      <td>22.4</td>\n",
       "      <td>17.6</td>\n",
       "      <td>19.7</td>\n",
       "      <td>21.0</td>\n",
       "      <td>19.5</td>\n",
       "    </tr>\n",
       "    <tr>\n",
       "      <th>5</th>\n",
       "      <td>2005</td>\n",
       "      <td>18.5</td>\n",
       "      <td>14.5</td>\n",
       "      <td>17.9</td>\n",
       "      <td>19.7</td>\n",
       "      <td>17.1</td>\n",
       "      <td>20.2</td>\n",
       "      <td>22.6</td>\n",
       "      <td>19.2</td>\n",
       "      <td>19.0</td>\n",
       "      <td>...</td>\n",
       "      <td>20.0</td>\n",
       "      <td>18.7</td>\n",
       "      <td>22.5</td>\n",
       "      <td>21.4</td>\n",
       "      <td>19.9</td>\n",
       "      <td>22.9</td>\n",
       "      <td>16.3</td>\n",
       "      <td>21.0</td>\n",
       "      <td>19.9</td>\n",
       "      <td>20.7</td>\n",
       "    </tr>\n",
       "    <tr>\n",
       "      <th>6</th>\n",
       "      <td>2006</td>\n",
       "      <td>17.9</td>\n",
       "      <td>14.6</td>\n",
       "      <td>17.7</td>\n",
       "      <td>18.3</td>\n",
       "      <td>16.5</td>\n",
       "      <td>18.7</td>\n",
       "      <td>19.6</td>\n",
       "      <td>20.0</td>\n",
       "      <td>17.2</td>\n",
       "      <td>...</td>\n",
       "      <td>20.5</td>\n",
       "      <td>18.6</td>\n",
       "      <td>21.0</td>\n",
       "      <td>20.7</td>\n",
       "      <td>20.2</td>\n",
       "      <td>23.5</td>\n",
       "      <td>15.8</td>\n",
       "      <td>20.0</td>\n",
       "      <td>18.5</td>\n",
       "      <td>20.1</td>\n",
       "    </tr>\n",
       "    <tr>\n",
       "      <th>7</th>\n",
       "      <td>2007</td>\n",
       "      <td>17.8</td>\n",
       "      <td>14.1</td>\n",
       "      <td>17.7</td>\n",
       "      <td>18.3</td>\n",
       "      <td>16.3</td>\n",
       "      <td>18.9</td>\n",
       "      <td>18.4</td>\n",
       "      <td>20.2</td>\n",
       "      <td>16.9</td>\n",
       "      <td>...</td>\n",
       "      <td>20.5</td>\n",
       "      <td>18.9</td>\n",
       "      <td>20.6</td>\n",
       "      <td>20.8</td>\n",
       "      <td>19.3</td>\n",
       "      <td>23.8</td>\n",
       "      <td>15.7</td>\n",
       "      <td>19.4</td>\n",
       "      <td>19.7</td>\n",
       "      <td>20.8</td>\n",
       "    </tr>\n",
       "    <tr>\n",
       "      <th>8</th>\n",
       "      <td>2008</td>\n",
       "      <td>18.8</td>\n",
       "      <td>15.1</td>\n",
       "      <td>18.6</td>\n",
       "      <td>18.6</td>\n",
       "      <td>17.4</td>\n",
       "      <td>19.7</td>\n",
       "      <td>20.8</td>\n",
       "      <td>21.4</td>\n",
       "      <td>17.2</td>\n",
       "      <td>...</td>\n",
       "      <td>21.0</td>\n",
       "      <td>19.9</td>\n",
       "      <td>21.4</td>\n",
       "      <td>20.7</td>\n",
       "      <td>19.3</td>\n",
       "      <td>25.0</td>\n",
       "      <td>16.9</td>\n",
       "      <td>20.5</td>\n",
       "      <td>19.9</td>\n",
       "      <td>20.8</td>\n",
       "    </tr>\n",
       "    <tr>\n",
       "      <th>9</th>\n",
       "      <td>2009</td>\n",
       "      <td>18.6</td>\n",
       "      <td>14.6</td>\n",
       "      <td>18.4</td>\n",
       "      <td>17.4</td>\n",
       "      <td>17.4</td>\n",
       "      <td>19.9</td>\n",
       "      <td>20.4</td>\n",
       "      <td>21.3</td>\n",
       "      <td>17.5</td>\n",
       "      <td>...</td>\n",
       "      <td>20.9</td>\n",
       "      <td>19.6</td>\n",
       "      <td>21.0</td>\n",
       "      <td>20.6</td>\n",
       "      <td>18.2</td>\n",
       "      <td>25.2</td>\n",
       "      <td>16.5</td>\n",
       "      <td>21.9</td>\n",
       "      <td>19.1</td>\n",
       "      <td>20.2</td>\n",
       "    </tr>\n",
       "    <tr>\n",
       "      <th>10</th>\n",
       "      <td>2010</td>\n",
       "      <td>18.7</td>\n",
       "      <td>14.9</td>\n",
       "      <td>18.9</td>\n",
       "      <td>16.9</td>\n",
       "      <td>17.2</td>\n",
       "      <td>19.8</td>\n",
       "      <td>21.2</td>\n",
       "      <td>21.2</td>\n",
       "      <td>17.4</td>\n",
       "      <td>...</td>\n",
       "      <td>21.6</td>\n",
       "      <td>20.0</td>\n",
       "      <td>21.9</td>\n",
       "      <td>19.8</td>\n",
       "      <td>17.4</td>\n",
       "      <td>26.0</td>\n",
       "      <td>16.2</td>\n",
       "      <td>19.9</td>\n",
       "      <td>20.1</td>\n",
       "      <td>18.8</td>\n",
       "    </tr>\n",
       "    <tr>\n",
       "      <th>11</th>\n",
       "      <td>2011</td>\n",
       "      <td>18.5</td>\n",
       "      <td>14.8</td>\n",
       "      <td>18.8</td>\n",
       "      <td>16.0</td>\n",
       "      <td>16.9</td>\n",
       "      <td>19.9</td>\n",
       "      <td>22.6</td>\n",
       "      <td>20.7</td>\n",
       "      <td>17.2</td>\n",
       "      <td>...</td>\n",
       "      <td>19.6</td>\n",
       "      <td>19.8</td>\n",
       "      <td>21.7</td>\n",
       "      <td>19.9</td>\n",
       "      <td>16.7</td>\n",
       "      <td>25.0</td>\n",
       "      <td>16.4</td>\n",
       "      <td>20.2</td>\n",
       "      <td>19.5</td>\n",
       "      <td>18.6</td>\n",
       "    </tr>\n",
       "    <tr>\n",
       "      <th>12</th>\n",
       "      <td>2012</td>\n",
       "      <td>17.9</td>\n",
       "      <td>14.2</td>\n",
       "      <td>18.1</td>\n",
       "      <td>15.0</td>\n",
       "      <td>16.5</td>\n",
       "      <td>18.6</td>\n",
       "      <td>20.2</td>\n",
       "      <td>20.2</td>\n",
       "      <td>16.7</td>\n",
       "      <td>...</td>\n",
       "      <td>19.1</td>\n",
       "      <td>19.4</td>\n",
       "      <td>20.2</td>\n",
       "      <td>19.6</td>\n",
       "      <td>16.0</td>\n",
       "      <td>24.0</td>\n",
       "      <td>16.3</td>\n",
       "      <td>17.9</td>\n",
       "      <td>18.7</td>\n",
       "      <td>19.2</td>\n",
       "    </tr>\n",
       "    <tr>\n",
       "      <th>13</th>\n",
       "      <td>2013</td>\n",
       "      <td>17.9</td>\n",
       "      <td>14.3</td>\n",
       "      <td>17.8</td>\n",
       "      <td>16.9</td>\n",
       "      <td>16.0</td>\n",
       "      <td>19.0</td>\n",
       "      <td>19.9</td>\n",
       "      <td>18.5</td>\n",
       "      <td>17.3</td>\n",
       "      <td>...</td>\n",
       "      <td>18.7</td>\n",
       "      <td>17.9</td>\n",
       "      <td>21.1</td>\n",
       "      <td>20.6</td>\n",
       "      <td>16.7</td>\n",
       "      <td>19.7</td>\n",
       "      <td>16.9</td>\n",
       "      <td>18.8</td>\n",
       "      <td>18.9</td>\n",
       "      <td>19.8</td>\n",
       "    </tr>\n",
       "    <tr>\n",
       "      <th>14</th>\n",
       "      <td>2014</td>\n",
       "      <td>18.2</td>\n",
       "      <td>14.3</td>\n",
       "      <td>17.9</td>\n",
       "      <td>17.4</td>\n",
       "      <td>16.8</td>\n",
       "      <td>19.8</td>\n",
       "      <td>20.2</td>\n",
       "      <td>17.8</td>\n",
       "      <td>17.8</td>\n",
       "      <td>...</td>\n",
       "      <td>19.5</td>\n",
       "      <td>17.9</td>\n",
       "      <td>21.6</td>\n",
       "      <td>21.3</td>\n",
       "      <td>16.9</td>\n",
       "      <td>19.8</td>\n",
       "      <td>17.2</td>\n",
       "      <td>19.8</td>\n",
       "      <td>19.3</td>\n",
       "      <td>20.5</td>\n",
       "    </tr>\n",
       "    <tr>\n",
       "      <th>15</th>\n",
       "      <td>2015</td>\n",
       "      <td>17.9</td>\n",
       "      <td>13.7</td>\n",
       "      <td>17.3</td>\n",
       "      <td>17.2</td>\n",
       "      <td>16.4</td>\n",
       "      <td>19.3</td>\n",
       "      <td>22.7</td>\n",
       "      <td>17.4</td>\n",
       "      <td>17.8</td>\n",
       "      <td>...</td>\n",
       "      <td>19.1</td>\n",
       "      <td>18.2</td>\n",
       "      <td>21.3</td>\n",
       "      <td>20.5</td>\n",
       "      <td>17.0</td>\n",
       "      <td>19.8</td>\n",
       "      <td>16.9</td>\n",
       "      <td>20.5</td>\n",
       "      <td>19.0</td>\n",
       "      <td>19.9</td>\n",
       "    </tr>\n",
       "    <tr>\n",
       "      <th>16</th>\n",
       "      <td>2016</td>\n",
       "      <td>16.7</td>\n",
       "      <td>13.1</td>\n",
       "      <td>16.2</td>\n",
       "      <td>16.7</td>\n",
       "      <td>15.7</td>\n",
       "      <td>18.5</td>\n",
       "      <td>19.1</td>\n",
       "      <td>16.6</td>\n",
       "      <td>16.6</td>\n",
       "      <td>...</td>\n",
       "      <td>17.9</td>\n",
       "      <td>16.8</td>\n",
       "      <td>19.4</td>\n",
       "      <td>18.8</td>\n",
       "      <td>15.5</td>\n",
       "      <td>18.6</td>\n",
       "      <td>16.3</td>\n",
       "      <td>18.7</td>\n",
       "      <td>17.5</td>\n",
       "      <td>18.1</td>\n",
       "    </tr>\n",
       "    <tr>\n",
       "      <th>17</th>\n",
       "      <td>2017</td>\n",
       "      <td>16.0</td>\n",
       "      <td>11.7</td>\n",
       "      <td>15.4</td>\n",
       "      <td>15.8</td>\n",
       "      <td>15.0</td>\n",
       "      <td>18.3</td>\n",
       "      <td>19.8</td>\n",
       "      <td>15.3</td>\n",
       "      <td>16.3</td>\n",
       "      <td>...</td>\n",
       "      <td>16.3</td>\n",
       "      <td>16.0</td>\n",
       "      <td>19.7</td>\n",
       "      <td>18.1</td>\n",
       "      <td>14.8</td>\n",
       "      <td>17.0</td>\n",
       "      <td>15.4</td>\n",
       "      <td>18.8</td>\n",
       "      <td>16.7</td>\n",
       "      <td>16.9</td>\n",
       "    </tr>\n",
       "    <tr>\n",
       "      <th>18</th>\n",
       "      <td>2018</td>\n",
       "      <td>15.4</td>\n",
       "      <td>11.6</td>\n",
       "      <td>14.6</td>\n",
       "      <td>16.4</td>\n",
       "      <td>14.5</td>\n",
       "      <td>18.0</td>\n",
       "      <td>21.0</td>\n",
       "      <td>14.3</td>\n",
       "      <td>15.6</td>\n",
       "      <td>...</td>\n",
       "      <td>15.6</td>\n",
       "      <td>14.6</td>\n",
       "      <td>18.2</td>\n",
       "      <td>17.7</td>\n",
       "      <td>14.2</td>\n",
       "      <td>14.7</td>\n",
       "      <td>14.8</td>\n",
       "      <td>18.9</td>\n",
       "      <td>16.9</td>\n",
       "      <td>16.3</td>\n",
       "    </tr>\n",
       "  </tbody>\n",
       "</table>\n",
       "<p>19 rows × 26 columns</p>\n",
       "</div>"
      ],
      "text/plain": [
       "    indice_tiempo  natalidad_argentina  \\\n",
       "0            2000                 19.0   \n",
       "1            2001                 18.2   \n",
       "2            2002                 18.3   \n",
       "3            2003                 18.4   \n",
       "4            2004                 19.3   \n",
       "5            2005                 18.5   \n",
       "6            2006                 17.9   \n",
       "7            2007                 17.8   \n",
       "8            2008                 18.8   \n",
       "9            2009                 18.6   \n",
       "10           2010                 18.7   \n",
       "11           2011                 18.5   \n",
       "12           2012                 17.9   \n",
       "13           2013                 17.9   \n",
       "14           2014                 18.2   \n",
       "15           2015                 17.9   \n",
       "16           2016                 16.7   \n",
       "17           2017                 16.0   \n",
       "18           2018                 15.4   \n",
       "\n",
       "    natalidad_ciudad_autonoma_de_buenos_aires  natalidad_buenos_aires  \\\n",
       "0                                        14.3                    17.5   \n",
       "1                                        13.9                    16.9   \n",
       "2                                        13.6                    17.0   \n",
       "3                                        14.2                    17.3   \n",
       "4                                        14.9                    18.5   \n",
       "5                                        14.5                    17.9   \n",
       "6                                        14.6                    17.7   \n",
       "7                                        14.1                    17.7   \n",
       "8                                        15.1                    18.6   \n",
       "9                                        14.6                    18.4   \n",
       "10                                       14.9                    18.9   \n",
       "11                                       14.8                    18.8   \n",
       "12                                       14.2                    18.1   \n",
       "13                                       14.3                    17.8   \n",
       "14                                       14.3                    17.9   \n",
       "15                                       13.7                    17.3   \n",
       "16                                       13.1                    16.2   \n",
       "17                                       11.7                    15.4   \n",
       "18                                       11.6                    14.6   \n",
       "\n",
       "    natalidad_catamarca  natalidad_cordoba  natalidad_corrientes  \\\n",
       "0                  25.8               17.2                  22.7   \n",
       "1                  24.9               15.9                  21.9   \n",
       "2                  24.4               16.6                  23.3   \n",
       "3                  22.5               17.5                  22.2   \n",
       "4                  20.6               17.8                  22.7   \n",
       "5                  19.7               17.1                  20.2   \n",
       "6                  18.3               16.5                  18.7   \n",
       "7                  18.3               16.3                  18.9   \n",
       "8                  18.6               17.4                  19.7   \n",
       "9                  17.4               17.4                  19.9   \n",
       "10                 16.9               17.2                  19.8   \n",
       "11                 16.0               16.9                  19.9   \n",
       "12                 15.0               16.5                  18.6   \n",
       "13                 16.9               16.0                  19.0   \n",
       "14                 17.4               16.8                  19.8   \n",
       "15                 17.2               16.4                  19.3   \n",
       "16                 16.7               15.7                  18.5   \n",
       "17                 15.8               15.0                  18.3   \n",
       "18                 16.4               14.5                  18.0   \n",
       "\n",
       "    natalidad_chaco  natalidad_chubut  natalidad_entre_rios  ...  \\\n",
       "0              25.8              19.4                  21.3  ...   \n",
       "1              22.2              18.4                  20.5  ...   \n",
       "2              24.9              17.1                  19.5  ...   \n",
       "3              20.9              18.7                  19.8  ...   \n",
       "4              25.1              19.3                  19.5  ...   \n",
       "5              22.6              19.2                  19.0  ...   \n",
       "6              19.6              20.0                  17.2  ...   \n",
       "7              18.4              20.2                  16.9  ...   \n",
       "8              20.8              21.4                  17.2  ...   \n",
       "9              20.4              21.3                  17.5  ...   \n",
       "10             21.2              21.2                  17.4  ...   \n",
       "11             22.6              20.7                  17.2  ...   \n",
       "12             20.2              20.2                  16.7  ...   \n",
       "13             19.9              18.5                  17.3  ...   \n",
       "14             20.2              17.8                  17.8  ...   \n",
       "15             22.7              17.4                  17.8  ...   \n",
       "16             19.1              16.6                  16.6  ...   \n",
       "17             19.8              15.3                  16.3  ...   \n",
       "18             21.0              14.3                  15.6  ...   \n",
       "\n",
       "    natalidad_neuquen  natalidad_rio_negro  natalidad_salta  \\\n",
       "0                17.9                 18.9             24.0   \n",
       "1                16.8                 17.8             24.2   \n",
       "2                16.1                 17.3             24.7   \n",
       "3                19.4                 18.6             22.0   \n",
       "4                19.8                 18.3             23.9   \n",
       "5                20.0                 18.7             22.5   \n",
       "6                20.5                 18.6             21.0   \n",
       "7                20.5                 18.9             20.6   \n",
       "8                21.0                 19.9             21.4   \n",
       "9                20.9                 19.6             21.0   \n",
       "10               21.6                 20.0             21.9   \n",
       "11               19.6                 19.8             21.7   \n",
       "12               19.1                 19.4             20.2   \n",
       "13               18.7                 17.9             21.1   \n",
       "14               19.5                 17.9             21.6   \n",
       "15               19.1                 18.2             21.3   \n",
       "16               17.9                 16.8             19.4   \n",
       "17               16.3                 16.0             19.7   \n",
       "18               15.6                 14.6             18.2   \n",
       "\n",
       "    natalidad_san_juan  natalidad_san_luis  natalidad_santa_cruz  \\\n",
       "0                 22.7                22.3                  19.6   \n",
       "1                 23.7                22.3                  19.8   \n",
       "2                 22.3                22.0                  19.2   \n",
       "3                 22.2                21.7                  21.9   \n",
       "4                 22.5                21.9                  22.4   \n",
       "5                 21.4                19.9                  22.9   \n",
       "6                 20.7                20.2                  23.5   \n",
       "7                 20.8                19.3                  23.8   \n",
       "8                 20.7                19.3                  25.0   \n",
       "9                 20.6                18.2                  25.2   \n",
       "10                19.8                17.4                  26.0   \n",
       "11                19.9                16.7                  25.0   \n",
       "12                19.6                16.0                  24.0   \n",
       "13                20.6                16.7                  19.7   \n",
       "14                21.3                16.9                  19.8   \n",
       "15                20.5                17.0                  19.8   \n",
       "16                18.8                15.5                  18.6   \n",
       "17                18.1                14.8                  17.0   \n",
       "18                17.7                14.2                  14.7   \n",
       "\n",
       "    natalidad_santa_fe  natalidad_santiago_del_estero  natalidad_tucuman  \\\n",
       "0                 16.9                           21.6               22.6   \n",
       "1                 16.2                           21.1               21.1   \n",
       "2                 16.7                           22.1               22.6   \n",
       "3                 17.3                           17.8               21.8   \n",
       "4                 17.6                           19.7               21.0   \n",
       "5                 16.3                           21.0               19.9   \n",
       "6                 15.8                           20.0               18.5   \n",
       "7                 15.7                           19.4               19.7   \n",
       "8                 16.9                           20.5               19.9   \n",
       "9                 16.5                           21.9               19.1   \n",
       "10                16.2                           19.9               20.1   \n",
       "11                16.4                           20.2               19.5   \n",
       "12                16.3                           17.9               18.7   \n",
       "13                16.9                           18.8               18.9   \n",
       "14                17.2                           19.8               19.3   \n",
       "15                16.9                           20.5               19.0   \n",
       "16                16.3                           18.7               17.5   \n",
       "17                15.4                           18.8               16.7   \n",
       "18                14.8                           18.9               16.9   \n",
       "\n",
       "    natalidad_tierra_del_fuego  \n",
       "0                         19.9  \n",
       "1                         17.9  \n",
       "2                         17.2  \n",
       "3                         20.8  \n",
       "4                         19.5  \n",
       "5                         20.7  \n",
       "6                         20.1  \n",
       "7                         20.8  \n",
       "8                         20.8  \n",
       "9                         20.2  \n",
       "10                        18.8  \n",
       "11                        18.6  \n",
       "12                        19.2  \n",
       "13                        19.8  \n",
       "14                        20.5  \n",
       "15                        19.9  \n",
       "16                        18.1  \n",
       "17                        16.9  \n",
       "18                        16.3  \n",
       "\n",
       "[19 rows x 26 columns]"
      ]
     },
     "execution_count": 15,
     "metadata": {},
     "output_type": "execute_result"
    }
   ],
   "source": [
    "tasa_natalidad = pd.read_csv('../data/tasa-natalidad.csv')\n",
    "# print(tasa_natalidad)\n",
    "tasa_natalidad"
   ]
  },
  {
   "cell_type": "markdown",
   "metadata": {},
   "source": [
    "### Operaciones\n",
    "\n",
    "Pandas provee de numerosos métodos para realizar operaciones sobre los datos de un DataFrame."
   ]
  },
  {
   "cell_type": "code",
   "execution_count": 16,
   "metadata": {},
   "outputs": [
    {
     "data": {
      "text/html": [
       "<div>\n",
       "<style scoped>\n",
       "    .dataframe tbody tr th:only-of-type {\n",
       "        vertical-align: middle;\n",
       "    }\n",
       "\n",
       "    .dataframe tbody tr th {\n",
       "        vertical-align: top;\n",
       "    }\n",
       "\n",
       "    .dataframe thead th {\n",
       "        text-align: right;\n",
       "    }\n",
       "</style>\n",
       "<table border=\"1\" class=\"dataframe\">\n",
       "  <thead>\n",
       "    <tr style=\"text-align: right;\">\n",
       "      <th></th>\n",
       "      <th>indice_tiempo</th>\n",
       "      <th>natalidad_argentina</th>\n",
       "      <th>natalidad_ciudad_autonoma_de_buenos_aires</th>\n",
       "      <th>natalidad_buenos_aires</th>\n",
       "      <th>natalidad_catamarca</th>\n",
       "      <th>natalidad_cordoba</th>\n",
       "      <th>natalidad_corrientes</th>\n",
       "      <th>natalidad_chaco</th>\n",
       "      <th>natalidad_chubut</th>\n",
       "      <th>natalidad_entre_rios</th>\n",
       "      <th>...</th>\n",
       "      <th>natalidad_neuquen</th>\n",
       "      <th>natalidad_rio_negro</th>\n",
       "      <th>natalidad_salta</th>\n",
       "      <th>natalidad_san_juan</th>\n",
       "      <th>natalidad_san_luis</th>\n",
       "      <th>natalidad_santa_cruz</th>\n",
       "      <th>natalidad_santa_fe</th>\n",
       "      <th>natalidad_santiago_del_estero</th>\n",
       "      <th>natalidad_tucuman</th>\n",
       "      <th>natalidad_tierra_del_fuego</th>\n",
       "    </tr>\n",
       "  </thead>\n",
       "  <tbody>\n",
       "    <tr>\n",
       "      <th>0</th>\n",
       "      <td>2000</td>\n",
       "      <td>19.0</td>\n",
       "      <td>14.3</td>\n",
       "      <td>17.5</td>\n",
       "      <td>25.8</td>\n",
       "      <td>17.2</td>\n",
       "      <td>22.7</td>\n",
       "      <td>25.8</td>\n",
       "      <td>19.4</td>\n",
       "      <td>21.3</td>\n",
       "      <td>...</td>\n",
       "      <td>17.9</td>\n",
       "      <td>18.9</td>\n",
       "      <td>24.0</td>\n",
       "      <td>22.7</td>\n",
       "      <td>22.3</td>\n",
       "      <td>19.6</td>\n",
       "      <td>16.9</td>\n",
       "      <td>21.6</td>\n",
       "      <td>22.6</td>\n",
       "      <td>19.9</td>\n",
       "    </tr>\n",
       "    <tr>\n",
       "      <th>1</th>\n",
       "      <td>2001</td>\n",
       "      <td>18.2</td>\n",
       "      <td>13.9</td>\n",
       "      <td>16.9</td>\n",
       "      <td>24.9</td>\n",
       "      <td>15.9</td>\n",
       "      <td>21.9</td>\n",
       "      <td>22.2</td>\n",
       "      <td>18.4</td>\n",
       "      <td>20.5</td>\n",
       "      <td>...</td>\n",
       "      <td>16.8</td>\n",
       "      <td>17.8</td>\n",
       "      <td>24.2</td>\n",
       "      <td>23.7</td>\n",
       "      <td>22.3</td>\n",
       "      <td>19.8</td>\n",
       "      <td>16.2</td>\n",
       "      <td>21.1</td>\n",
       "      <td>21.1</td>\n",
       "      <td>17.9</td>\n",
       "    </tr>\n",
       "  </tbody>\n",
       "</table>\n",
       "<p>2 rows × 26 columns</p>\n",
       "</div>"
      ],
      "text/plain": [
       "   indice_tiempo  natalidad_argentina  \\\n",
       "0           2000                 19.0   \n",
       "1           2001                 18.2   \n",
       "\n",
       "   natalidad_ciudad_autonoma_de_buenos_aires  natalidad_buenos_aires  \\\n",
       "0                                       14.3                    17.5   \n",
       "1                                       13.9                    16.9   \n",
       "\n",
       "   natalidad_catamarca  natalidad_cordoba  natalidad_corrientes  \\\n",
       "0                 25.8               17.2                  22.7   \n",
       "1                 24.9               15.9                  21.9   \n",
       "\n",
       "   natalidad_chaco  natalidad_chubut  natalidad_entre_rios  ...  \\\n",
       "0             25.8              19.4                  21.3  ...   \n",
       "1             22.2              18.4                  20.5  ...   \n",
       "\n",
       "   natalidad_neuquen  natalidad_rio_negro  natalidad_salta  \\\n",
       "0               17.9                 18.9             24.0   \n",
       "1               16.8                 17.8             24.2   \n",
       "\n",
       "   natalidad_san_juan  natalidad_san_luis  natalidad_santa_cruz  \\\n",
       "0                22.7                22.3                  19.6   \n",
       "1                23.7                22.3                  19.8   \n",
       "\n",
       "   natalidad_santa_fe  natalidad_santiago_del_estero  natalidad_tucuman  \\\n",
       "0                16.9                           21.6               22.6   \n",
       "1                16.2                           21.1               21.1   \n",
       "\n",
       "   natalidad_tierra_del_fuego  \n",
       "0                        19.9  \n",
       "1                        17.9  \n",
       "\n",
       "[2 rows x 26 columns]"
      ]
     },
     "execution_count": 16,
     "metadata": {},
     "output_type": "execute_result"
    }
   ],
   "source": [
    "tasa_natalidad.head(2)"
   ]
  },
  {
   "cell_type": "code",
   "execution_count": 17,
   "metadata": {},
   "outputs": [
    {
     "data": {
      "text/plain": [
       "18.273684210526316"
      ]
     },
     "execution_count": 17,
     "metadata": {},
     "output_type": "execute_result"
    }
   ],
   "source": [
    "tasa_natalidad[\"natalidad_rio_negro\"].mean()"
   ]
  },
  {
   "cell_type": "code",
   "execution_count": 18,
   "metadata": {},
   "outputs": [
    {
     "name": "stdout",
     "output_type": "stream",
     "text": [
      "la tasa máxima 2018.0 de tiempo ocurrió en 18\n",
      "la tasa máxima 19.3 de argentina ocurrió en 4\n",
      "la tasa máxima 15.1 de ciudad ocurrió en 8\n",
      "la tasa máxima 18.9 de buenos ocurrió en 10\n",
      "la tasa máxima 25.8 de catamarca ocurrió en 0\n",
      "la tasa máxima 17.8 de cordoba ocurrió en 4\n",
      "la tasa máxima 23.3 de corrientes ocurrió en 2\n",
      "la tasa máxima 25.8 de chaco ocurrió en 0\n",
      "la tasa máxima 21.4 de chubut ocurrió en 8\n",
      "la tasa máxima 21.3 de entre ocurrió en 0\n",
      "la tasa máxima 26.5 de formosa ocurrió en 4\n",
      "la tasa máxima 23.1 de jujuy ocurrió en 1\n",
      "la tasa máxima 18.3 de la ocurrió en 3\n",
      "la tasa máxima 22.6 de la ocurrió en 0\n",
      "la tasa máxima 20.2 de mendoza ocurrió en 8\n",
      "la tasa máxima 26.4 de misiones ocurrió en 4\n",
      "la tasa máxima 21.6 de neuquen ocurrió en 10\n",
      "la tasa máxima 20.0 de rio ocurrió en 10\n",
      "la tasa máxima 24.7 de salta ocurrió en 2\n",
      "la tasa máxima 23.7 de san ocurrió en 1\n",
      "la tasa máxima 22.3 de san ocurrió en 0\n",
      "la tasa máxima 26.0 de santa ocurrió en 10\n",
      "la tasa máxima 17.6 de santa ocurrió en 4\n",
      "la tasa máxima 22.1 de santiago ocurrió en 2\n",
      "la tasa máxima 22.6 de tucuman ocurrió en 0\n",
      "la tasa máxima 20.8 de tierra ocurrió en 3\n"
     ]
    }
   ],
   "source": [
    "for v,d,i in zip(tasa_natalidad.columns, tasa_natalidad.max(),tasa_natalidad.idxmax()):\n",
    "    provincia = v.split('_')[1]\n",
    "    print(f\"la tasa máxima {d} de {provincia} ocurrió en {i}\")"
   ]
  },
  {
   "cell_type": "markdown",
   "metadata": {},
   "source": [
    "Nótese que la primer columna 'indice_tiempo' también la toma como una columna de datos, cuando en realidad, en este caso convendría que fuera efectivamente la columna que indexa la tabla. Para eso, tenemos `set_index`."
   ]
  },
  {
   "cell_type": "code",
   "execution_count": 19,
   "metadata": {},
   "outputs": [
    {
     "data": {
      "text/html": [
       "<div>\n",
       "<style scoped>\n",
       "    .dataframe tbody tr th:only-of-type {\n",
       "        vertical-align: middle;\n",
       "    }\n",
       "\n",
       "    .dataframe tbody tr th {\n",
       "        vertical-align: top;\n",
       "    }\n",
       "\n",
       "    .dataframe thead th {\n",
       "        text-align: right;\n",
       "    }\n",
       "</style>\n",
       "<table border=\"1\" class=\"dataframe\">\n",
       "  <thead>\n",
       "    <tr style=\"text-align: right;\">\n",
       "      <th></th>\n",
       "      <th>natalidad_argentina</th>\n",
       "      <th>natalidad_ciudad_autonoma_de_buenos_aires</th>\n",
       "      <th>natalidad_buenos_aires</th>\n",
       "      <th>natalidad_catamarca</th>\n",
       "      <th>natalidad_cordoba</th>\n",
       "      <th>natalidad_corrientes</th>\n",
       "      <th>natalidad_chaco</th>\n",
       "      <th>natalidad_chubut</th>\n",
       "      <th>natalidad_entre_rios</th>\n",
       "      <th>natalidad_formosa</th>\n",
       "      <th>...</th>\n",
       "      <th>natalidad_neuquen</th>\n",
       "      <th>natalidad_rio_negro</th>\n",
       "      <th>natalidad_salta</th>\n",
       "      <th>natalidad_san_juan</th>\n",
       "      <th>natalidad_san_luis</th>\n",
       "      <th>natalidad_santa_cruz</th>\n",
       "      <th>natalidad_santa_fe</th>\n",
       "      <th>natalidad_santiago_del_estero</th>\n",
       "      <th>natalidad_tucuman</th>\n",
       "      <th>natalidad_tierra_del_fuego</th>\n",
       "    </tr>\n",
       "    <tr>\n",
       "      <th>indice_tiempo</th>\n",
       "      <th></th>\n",
       "      <th></th>\n",
       "      <th></th>\n",
       "      <th></th>\n",
       "      <th></th>\n",
       "      <th></th>\n",
       "      <th></th>\n",
       "      <th></th>\n",
       "      <th></th>\n",
       "      <th></th>\n",
       "      <th></th>\n",
       "      <th></th>\n",
       "      <th></th>\n",
       "      <th></th>\n",
       "      <th></th>\n",
       "      <th></th>\n",
       "      <th></th>\n",
       "      <th></th>\n",
       "      <th></th>\n",
       "      <th></th>\n",
       "      <th></th>\n",
       "    </tr>\n",
       "  </thead>\n",
       "  <tbody>\n",
       "    <tr>\n",
       "      <th>2000</th>\n",
       "      <td>19.0</td>\n",
       "      <td>14.3</td>\n",
       "      <td>17.5</td>\n",
       "      <td>25.8</td>\n",
       "      <td>17.2</td>\n",
       "      <td>22.7</td>\n",
       "      <td>25.8</td>\n",
       "      <td>19.4</td>\n",
       "      <td>21.3</td>\n",
       "      <td>25.7</td>\n",
       "      <td>...</td>\n",
       "      <td>17.9</td>\n",
       "      <td>18.9</td>\n",
       "      <td>24.0</td>\n",
       "      <td>22.7</td>\n",
       "      <td>22.3</td>\n",
       "      <td>19.6</td>\n",
       "      <td>16.9</td>\n",
       "      <td>21.6</td>\n",
       "      <td>22.6</td>\n",
       "      <td>19.9</td>\n",
       "    </tr>\n",
       "    <tr>\n",
       "      <th>2001</th>\n",
       "      <td>18.2</td>\n",
       "      <td>13.9</td>\n",
       "      <td>16.9</td>\n",
       "      <td>24.9</td>\n",
       "      <td>15.9</td>\n",
       "      <td>21.9</td>\n",
       "      <td>22.2</td>\n",
       "      <td>18.4</td>\n",
       "      <td>20.5</td>\n",
       "      <td>22.4</td>\n",
       "      <td>...</td>\n",
       "      <td>16.8</td>\n",
       "      <td>17.8</td>\n",
       "      <td>24.2</td>\n",
       "      <td>23.7</td>\n",
       "      <td>22.3</td>\n",
       "      <td>19.8</td>\n",
       "      <td>16.2</td>\n",
       "      <td>21.1</td>\n",
       "      <td>21.1</td>\n",
       "      <td>17.9</td>\n",
       "    </tr>\n",
       "    <tr>\n",
       "      <th>2002</th>\n",
       "      <td>18.3</td>\n",
       "      <td>13.6</td>\n",
       "      <td>17.0</td>\n",
       "      <td>24.4</td>\n",
       "      <td>16.6</td>\n",
       "      <td>23.3</td>\n",
       "      <td>24.9</td>\n",
       "      <td>17.1</td>\n",
       "      <td>19.5</td>\n",
       "      <td>25.1</td>\n",
       "      <td>...</td>\n",
       "      <td>16.1</td>\n",
       "      <td>17.3</td>\n",
       "      <td>24.7</td>\n",
       "      <td>22.3</td>\n",
       "      <td>22.0</td>\n",
       "      <td>19.2</td>\n",
       "      <td>16.7</td>\n",
       "      <td>22.1</td>\n",
       "      <td>22.6</td>\n",
       "      <td>17.2</td>\n",
       "    </tr>\n",
       "  </tbody>\n",
       "</table>\n",
       "<p>3 rows × 25 columns</p>\n",
       "</div>"
      ],
      "text/plain": [
       "               natalidad_argentina  natalidad_ciudad_autonoma_de_buenos_aires  \\\n",
       "indice_tiempo                                                                   \n",
       "2000                          19.0                                       14.3   \n",
       "2001                          18.2                                       13.9   \n",
       "2002                          18.3                                       13.6   \n",
       "\n",
       "               natalidad_buenos_aires  natalidad_catamarca  natalidad_cordoba  \\\n",
       "indice_tiempo                                                                   \n",
       "2000                             17.5                 25.8               17.2   \n",
       "2001                             16.9                 24.9               15.9   \n",
       "2002                             17.0                 24.4               16.6   \n",
       "\n",
       "               natalidad_corrientes  natalidad_chaco  natalidad_chubut  \\\n",
       "indice_tiempo                                                            \n",
       "2000                           22.7             25.8              19.4   \n",
       "2001                           21.9             22.2              18.4   \n",
       "2002                           23.3             24.9              17.1   \n",
       "\n",
       "               natalidad_entre_rios  natalidad_formosa  ...  \\\n",
       "indice_tiempo                                           ...   \n",
       "2000                           21.3               25.7  ...   \n",
       "2001                           20.5               22.4  ...   \n",
       "2002                           19.5               25.1  ...   \n",
       "\n",
       "               natalidad_neuquen  natalidad_rio_negro  natalidad_salta  \\\n",
       "indice_tiempo                                                            \n",
       "2000                        17.9                 18.9             24.0   \n",
       "2001                        16.8                 17.8             24.2   \n",
       "2002                        16.1                 17.3             24.7   \n",
       "\n",
       "               natalidad_san_juan  natalidad_san_luis  natalidad_santa_cruz  \\\n",
       "indice_tiempo                                                                 \n",
       "2000                         22.7                22.3                  19.6   \n",
       "2001                         23.7                22.3                  19.8   \n",
       "2002                         22.3                22.0                  19.2   \n",
       "\n",
       "               natalidad_santa_fe  natalidad_santiago_del_estero  \\\n",
       "indice_tiempo                                                      \n",
       "2000                         16.9                           21.6   \n",
       "2001                         16.2                           21.1   \n",
       "2002                         16.7                           22.1   \n",
       "\n",
       "               natalidad_tucuman  natalidad_tierra_del_fuego  \n",
       "indice_tiempo                                                 \n",
       "2000                        22.6                        19.9  \n",
       "2001                        21.1                        17.9  \n",
       "2002                        22.6                        17.2  \n",
       "\n",
       "[3 rows x 25 columns]"
      ]
     },
     "execution_count": 19,
     "metadata": {},
     "output_type": "execute_result"
    }
   ],
   "source": [
    "tasa_natalidad.set_index('indice_tiempo',inplace=True)\n",
    "tasa_natalidad.head(3)"
   ]
  },
  {
   "cell_type": "markdown",
   "metadata": {},
   "source": [
    "También se pueden hacer otras operaciones, como ordenar por columnas  "
   ]
  },
  {
   "cell_type": "code",
   "execution_count": 20,
   "metadata": {},
   "outputs": [
    {
     "data": {
      "text/html": [
       "<div>\n",
       "<style scoped>\n",
       "    .dataframe tbody tr th:only-of-type {\n",
       "        vertical-align: middle;\n",
       "    }\n",
       "\n",
       "    .dataframe tbody tr th {\n",
       "        vertical-align: top;\n",
       "    }\n",
       "\n",
       "    .dataframe thead th {\n",
       "        text-align: right;\n",
       "    }\n",
       "</style>\n",
       "<table border=\"1\" class=\"dataframe\">\n",
       "  <thead>\n",
       "    <tr style=\"text-align: right;\">\n",
       "      <th></th>\n",
       "      <th>natalidad_argentina</th>\n",
       "      <th>natalidad_ciudad_autonoma_de_buenos_aires</th>\n",
       "      <th>natalidad_buenos_aires</th>\n",
       "      <th>natalidad_catamarca</th>\n",
       "      <th>natalidad_cordoba</th>\n",
       "      <th>natalidad_corrientes</th>\n",
       "      <th>natalidad_chaco</th>\n",
       "      <th>natalidad_chubut</th>\n",
       "      <th>natalidad_entre_rios</th>\n",
       "      <th>natalidad_formosa</th>\n",
       "      <th>...</th>\n",
       "      <th>natalidad_neuquen</th>\n",
       "      <th>natalidad_rio_negro</th>\n",
       "      <th>natalidad_salta</th>\n",
       "      <th>natalidad_san_juan</th>\n",
       "      <th>natalidad_san_luis</th>\n",
       "      <th>natalidad_santa_cruz</th>\n",
       "      <th>natalidad_santa_fe</th>\n",
       "      <th>natalidad_santiago_del_estero</th>\n",
       "      <th>natalidad_tucuman</th>\n",
       "      <th>natalidad_tierra_del_fuego</th>\n",
       "    </tr>\n",
       "    <tr>\n",
       "      <th>indice_tiempo</th>\n",
       "      <th></th>\n",
       "      <th></th>\n",
       "      <th></th>\n",
       "      <th></th>\n",
       "      <th></th>\n",
       "      <th></th>\n",
       "      <th></th>\n",
       "      <th></th>\n",
       "      <th></th>\n",
       "      <th></th>\n",
       "      <th></th>\n",
       "      <th></th>\n",
       "      <th></th>\n",
       "      <th></th>\n",
       "      <th></th>\n",
       "      <th></th>\n",
       "      <th></th>\n",
       "      <th></th>\n",
       "      <th></th>\n",
       "      <th></th>\n",
       "      <th></th>\n",
       "    </tr>\n",
       "  </thead>\n",
       "  <tbody>\n",
       "    <tr>\n",
       "      <th>2018</th>\n",
       "      <td>15.4</td>\n",
       "      <td>11.6</td>\n",
       "      <td>14.6</td>\n",
       "      <td>16.4</td>\n",
       "      <td>14.5</td>\n",
       "      <td>18.0</td>\n",
       "      <td>21.0</td>\n",
       "      <td>14.3</td>\n",
       "      <td>15.6</td>\n",
       "      <td>19.8</td>\n",
       "      <td>...</td>\n",
       "      <td>15.6</td>\n",
       "      <td>14.6</td>\n",
       "      <td>18.2</td>\n",
       "      <td>17.7</td>\n",
       "      <td>14.2</td>\n",
       "      <td>14.7</td>\n",
       "      <td>14.8</td>\n",
       "      <td>18.9</td>\n",
       "      <td>16.9</td>\n",
       "      <td>16.3</td>\n",
       "    </tr>\n",
       "    <tr>\n",
       "      <th>2017</th>\n",
       "      <td>16.0</td>\n",
       "      <td>11.7</td>\n",
       "      <td>15.4</td>\n",
       "      <td>15.8</td>\n",
       "      <td>15.0</td>\n",
       "      <td>18.3</td>\n",
       "      <td>19.8</td>\n",
       "      <td>15.3</td>\n",
       "      <td>16.3</td>\n",
       "      <td>19.6</td>\n",
       "      <td>...</td>\n",
       "      <td>16.3</td>\n",
       "      <td>16.0</td>\n",
       "      <td>19.7</td>\n",
       "      <td>18.1</td>\n",
       "      <td>14.8</td>\n",
       "      <td>17.0</td>\n",
       "      <td>15.4</td>\n",
       "      <td>18.8</td>\n",
       "      <td>16.7</td>\n",
       "      <td>16.9</td>\n",
       "    </tr>\n",
       "    <tr>\n",
       "      <th>2016</th>\n",
       "      <td>16.7</td>\n",
       "      <td>13.1</td>\n",
       "      <td>16.2</td>\n",
       "      <td>16.7</td>\n",
       "      <td>15.7</td>\n",
       "      <td>18.5</td>\n",
       "      <td>19.1</td>\n",
       "      <td>16.6</td>\n",
       "      <td>16.6</td>\n",
       "      <td>19.4</td>\n",
       "      <td>...</td>\n",
       "      <td>17.9</td>\n",
       "      <td>16.8</td>\n",
       "      <td>19.4</td>\n",
       "      <td>18.8</td>\n",
       "      <td>15.5</td>\n",
       "      <td>18.6</td>\n",
       "      <td>16.3</td>\n",
       "      <td>18.7</td>\n",
       "      <td>17.5</td>\n",
       "      <td>18.1</td>\n",
       "    </tr>\n",
       "    <tr>\n",
       "      <th>2007</th>\n",
       "      <td>17.8</td>\n",
       "      <td>14.1</td>\n",
       "      <td>17.7</td>\n",
       "      <td>18.3</td>\n",
       "      <td>16.3</td>\n",
       "      <td>18.9</td>\n",
       "      <td>18.4</td>\n",
       "      <td>20.2</td>\n",
       "      <td>16.9</td>\n",
       "      <td>21.1</td>\n",
       "      <td>...</td>\n",
       "      <td>20.5</td>\n",
       "      <td>18.9</td>\n",
       "      <td>20.6</td>\n",
       "      <td>20.8</td>\n",
       "      <td>19.3</td>\n",
       "      <td>23.8</td>\n",
       "      <td>15.7</td>\n",
       "      <td>19.4</td>\n",
       "      <td>19.7</td>\n",
       "      <td>20.8</td>\n",
       "    </tr>\n",
       "    <tr>\n",
       "      <th>2006</th>\n",
       "      <td>17.9</td>\n",
       "      <td>14.6</td>\n",
       "      <td>17.7</td>\n",
       "      <td>18.3</td>\n",
       "      <td>16.5</td>\n",
       "      <td>18.7</td>\n",
       "      <td>19.6</td>\n",
       "      <td>20.0</td>\n",
       "      <td>17.2</td>\n",
       "      <td>21.4</td>\n",
       "      <td>...</td>\n",
       "      <td>20.5</td>\n",
       "      <td>18.6</td>\n",
       "      <td>21.0</td>\n",
       "      <td>20.7</td>\n",
       "      <td>20.2</td>\n",
       "      <td>23.5</td>\n",
       "      <td>15.8</td>\n",
       "      <td>20.0</td>\n",
       "      <td>18.5</td>\n",
       "      <td>20.1</td>\n",
       "    </tr>\n",
       "    <tr>\n",
       "      <th>2015</th>\n",
       "      <td>17.9</td>\n",
       "      <td>13.7</td>\n",
       "      <td>17.3</td>\n",
       "      <td>17.2</td>\n",
       "      <td>16.4</td>\n",
       "      <td>19.3</td>\n",
       "      <td>22.7</td>\n",
       "      <td>17.4</td>\n",
       "      <td>17.8</td>\n",
       "      <td>21.3</td>\n",
       "      <td>...</td>\n",
       "      <td>19.1</td>\n",
       "      <td>18.2</td>\n",
       "      <td>21.3</td>\n",
       "      <td>20.5</td>\n",
       "      <td>17.0</td>\n",
       "      <td>19.8</td>\n",
       "      <td>16.9</td>\n",
       "      <td>20.5</td>\n",
       "      <td>19.0</td>\n",
       "      <td>19.9</td>\n",
       "    </tr>\n",
       "    <tr>\n",
       "      <th>2012</th>\n",
       "      <td>17.9</td>\n",
       "      <td>14.2</td>\n",
       "      <td>18.1</td>\n",
       "      <td>15.0</td>\n",
       "      <td>16.5</td>\n",
       "      <td>18.6</td>\n",
       "      <td>20.2</td>\n",
       "      <td>20.2</td>\n",
       "      <td>16.7</td>\n",
       "      <td>21.0</td>\n",
       "      <td>...</td>\n",
       "      <td>19.1</td>\n",
       "      <td>19.4</td>\n",
       "      <td>20.2</td>\n",
       "      <td>19.6</td>\n",
       "      <td>16.0</td>\n",
       "      <td>24.0</td>\n",
       "      <td>16.3</td>\n",
       "      <td>17.9</td>\n",
       "      <td>18.7</td>\n",
       "      <td>19.2</td>\n",
       "    </tr>\n",
       "    <tr>\n",
       "      <th>2013</th>\n",
       "      <td>17.9</td>\n",
       "      <td>14.3</td>\n",
       "      <td>17.8</td>\n",
       "      <td>16.9</td>\n",
       "      <td>16.0</td>\n",
       "      <td>19.0</td>\n",
       "      <td>19.9</td>\n",
       "      <td>18.5</td>\n",
       "      <td>17.3</td>\n",
       "      <td>21.0</td>\n",
       "      <td>...</td>\n",
       "      <td>18.7</td>\n",
       "      <td>17.9</td>\n",
       "      <td>21.1</td>\n",
       "      <td>20.6</td>\n",
       "      <td>16.7</td>\n",
       "      <td>19.7</td>\n",
       "      <td>16.9</td>\n",
       "      <td>18.8</td>\n",
       "      <td>18.9</td>\n",
       "      <td>19.8</td>\n",
       "    </tr>\n",
       "    <tr>\n",
       "      <th>2001</th>\n",
       "      <td>18.2</td>\n",
       "      <td>13.9</td>\n",
       "      <td>16.9</td>\n",
       "      <td>24.9</td>\n",
       "      <td>15.9</td>\n",
       "      <td>21.9</td>\n",
       "      <td>22.2</td>\n",
       "      <td>18.4</td>\n",
       "      <td>20.5</td>\n",
       "      <td>22.4</td>\n",
       "      <td>...</td>\n",
       "      <td>16.8</td>\n",
       "      <td>17.8</td>\n",
       "      <td>24.2</td>\n",
       "      <td>23.7</td>\n",
       "      <td>22.3</td>\n",
       "      <td>19.8</td>\n",
       "      <td>16.2</td>\n",
       "      <td>21.1</td>\n",
       "      <td>21.1</td>\n",
       "      <td>17.9</td>\n",
       "    </tr>\n",
       "    <tr>\n",
       "      <th>2014</th>\n",
       "      <td>18.2</td>\n",
       "      <td>14.3</td>\n",
       "      <td>17.9</td>\n",
       "      <td>17.4</td>\n",
       "      <td>16.8</td>\n",
       "      <td>19.8</td>\n",
       "      <td>20.2</td>\n",
       "      <td>17.8</td>\n",
       "      <td>17.8</td>\n",
       "      <td>21.8</td>\n",
       "      <td>...</td>\n",
       "      <td>19.5</td>\n",
       "      <td>17.9</td>\n",
       "      <td>21.6</td>\n",
       "      <td>21.3</td>\n",
       "      <td>16.9</td>\n",
       "      <td>19.8</td>\n",
       "      <td>17.2</td>\n",
       "      <td>19.8</td>\n",
       "      <td>19.3</td>\n",
       "      <td>20.5</td>\n",
       "    </tr>\n",
       "    <tr>\n",
       "      <th>2002</th>\n",
       "      <td>18.3</td>\n",
       "      <td>13.6</td>\n",
       "      <td>17.0</td>\n",
       "      <td>24.4</td>\n",
       "      <td>16.6</td>\n",
       "      <td>23.3</td>\n",
       "      <td>24.9</td>\n",
       "      <td>17.1</td>\n",
       "      <td>19.5</td>\n",
       "      <td>25.1</td>\n",
       "      <td>...</td>\n",
       "      <td>16.1</td>\n",
       "      <td>17.3</td>\n",
       "      <td>24.7</td>\n",
       "      <td>22.3</td>\n",
       "      <td>22.0</td>\n",
       "      <td>19.2</td>\n",
       "      <td>16.7</td>\n",
       "      <td>22.1</td>\n",
       "      <td>22.6</td>\n",
       "      <td>17.2</td>\n",
       "    </tr>\n",
       "    <tr>\n",
       "      <th>2003</th>\n",
       "      <td>18.4</td>\n",
       "      <td>14.2</td>\n",
       "      <td>17.3</td>\n",
       "      <td>22.5</td>\n",
       "      <td>17.5</td>\n",
       "      <td>22.2</td>\n",
       "      <td>20.9</td>\n",
       "      <td>18.7</td>\n",
       "      <td>19.8</td>\n",
       "      <td>25.0</td>\n",
       "      <td>...</td>\n",
       "      <td>19.4</td>\n",
       "      <td>18.6</td>\n",
       "      <td>22.0</td>\n",
       "      <td>22.2</td>\n",
       "      <td>21.7</td>\n",
       "      <td>21.9</td>\n",
       "      <td>17.3</td>\n",
       "      <td>17.8</td>\n",
       "      <td>21.8</td>\n",
       "      <td>20.8</td>\n",
       "    </tr>\n",
       "    <tr>\n",
       "      <th>2005</th>\n",
       "      <td>18.5</td>\n",
       "      <td>14.5</td>\n",
       "      <td>17.9</td>\n",
       "      <td>19.7</td>\n",
       "      <td>17.1</td>\n",
       "      <td>20.2</td>\n",
       "      <td>22.6</td>\n",
       "      <td>19.2</td>\n",
       "      <td>19.0</td>\n",
       "      <td>23.5</td>\n",
       "      <td>...</td>\n",
       "      <td>20.0</td>\n",
       "      <td>18.7</td>\n",
       "      <td>22.5</td>\n",
       "      <td>21.4</td>\n",
       "      <td>19.9</td>\n",
       "      <td>22.9</td>\n",
       "      <td>16.3</td>\n",
       "      <td>21.0</td>\n",
       "      <td>19.9</td>\n",
       "      <td>20.7</td>\n",
       "    </tr>\n",
       "    <tr>\n",
       "      <th>2011</th>\n",
       "      <td>18.5</td>\n",
       "      <td>14.8</td>\n",
       "      <td>18.8</td>\n",
       "      <td>16.0</td>\n",
       "      <td>16.9</td>\n",
       "      <td>19.9</td>\n",
       "      <td>22.6</td>\n",
       "      <td>20.7</td>\n",
       "      <td>17.2</td>\n",
       "      <td>21.6</td>\n",
       "      <td>...</td>\n",
       "      <td>19.6</td>\n",
       "      <td>19.8</td>\n",
       "      <td>21.7</td>\n",
       "      <td>19.9</td>\n",
       "      <td>16.7</td>\n",
       "      <td>25.0</td>\n",
       "      <td>16.4</td>\n",
       "      <td>20.2</td>\n",
       "      <td>19.5</td>\n",
       "      <td>18.6</td>\n",
       "    </tr>\n",
       "    <tr>\n",
       "      <th>2009</th>\n",
       "      <td>18.6</td>\n",
       "      <td>14.6</td>\n",
       "      <td>18.4</td>\n",
       "      <td>17.4</td>\n",
       "      <td>17.4</td>\n",
       "      <td>19.9</td>\n",
       "      <td>20.4</td>\n",
       "      <td>21.3</td>\n",
       "      <td>17.5</td>\n",
       "      <td>21.9</td>\n",
       "      <td>...</td>\n",
       "      <td>20.9</td>\n",
       "      <td>19.6</td>\n",
       "      <td>21.0</td>\n",
       "      <td>20.6</td>\n",
       "      <td>18.2</td>\n",
       "      <td>25.2</td>\n",
       "      <td>16.5</td>\n",
       "      <td>21.9</td>\n",
       "      <td>19.1</td>\n",
       "      <td>20.2</td>\n",
       "    </tr>\n",
       "    <tr>\n",
       "      <th>2010</th>\n",
       "      <td>18.7</td>\n",
       "      <td>14.9</td>\n",
       "      <td>18.9</td>\n",
       "      <td>16.9</td>\n",
       "      <td>17.2</td>\n",
       "      <td>19.8</td>\n",
       "      <td>21.2</td>\n",
       "      <td>21.2</td>\n",
       "      <td>17.4</td>\n",
       "      <td>21.1</td>\n",
       "      <td>...</td>\n",
       "      <td>21.6</td>\n",
       "      <td>20.0</td>\n",
       "      <td>21.9</td>\n",
       "      <td>19.8</td>\n",
       "      <td>17.4</td>\n",
       "      <td>26.0</td>\n",
       "      <td>16.2</td>\n",
       "      <td>19.9</td>\n",
       "      <td>20.1</td>\n",
       "      <td>18.8</td>\n",
       "    </tr>\n",
       "    <tr>\n",
       "      <th>2008</th>\n",
       "      <td>18.8</td>\n",
       "      <td>15.1</td>\n",
       "      <td>18.6</td>\n",
       "      <td>18.6</td>\n",
       "      <td>17.4</td>\n",
       "      <td>19.7</td>\n",
       "      <td>20.8</td>\n",
       "      <td>21.4</td>\n",
       "      <td>17.2</td>\n",
       "      <td>22.6</td>\n",
       "      <td>...</td>\n",
       "      <td>21.0</td>\n",
       "      <td>19.9</td>\n",
       "      <td>21.4</td>\n",
       "      <td>20.7</td>\n",
       "      <td>19.3</td>\n",
       "      <td>25.0</td>\n",
       "      <td>16.9</td>\n",
       "      <td>20.5</td>\n",
       "      <td>19.9</td>\n",
       "      <td>20.8</td>\n",
       "    </tr>\n",
       "    <tr>\n",
       "      <th>2000</th>\n",
       "      <td>19.0</td>\n",
       "      <td>14.3</td>\n",
       "      <td>17.5</td>\n",
       "      <td>25.8</td>\n",
       "      <td>17.2</td>\n",
       "      <td>22.7</td>\n",
       "      <td>25.8</td>\n",
       "      <td>19.4</td>\n",
       "      <td>21.3</td>\n",
       "      <td>25.7</td>\n",
       "      <td>...</td>\n",
       "      <td>17.9</td>\n",
       "      <td>18.9</td>\n",
       "      <td>24.0</td>\n",
       "      <td>22.7</td>\n",
       "      <td>22.3</td>\n",
       "      <td>19.6</td>\n",
       "      <td>16.9</td>\n",
       "      <td>21.6</td>\n",
       "      <td>22.6</td>\n",
       "      <td>19.9</td>\n",
       "    </tr>\n",
       "    <tr>\n",
       "      <th>2004</th>\n",
       "      <td>19.3</td>\n",
       "      <td>14.9</td>\n",
       "      <td>18.5</td>\n",
       "      <td>20.6</td>\n",
       "      <td>17.8</td>\n",
       "      <td>22.7</td>\n",
       "      <td>25.1</td>\n",
       "      <td>19.3</td>\n",
       "      <td>19.5</td>\n",
       "      <td>26.5</td>\n",
       "      <td>...</td>\n",
       "      <td>19.8</td>\n",
       "      <td>18.3</td>\n",
       "      <td>23.9</td>\n",
       "      <td>22.5</td>\n",
       "      <td>21.9</td>\n",
       "      <td>22.4</td>\n",
       "      <td>17.6</td>\n",
       "      <td>19.7</td>\n",
       "      <td>21.0</td>\n",
       "      <td>19.5</td>\n",
       "    </tr>\n",
       "  </tbody>\n",
       "</table>\n",
       "<p>19 rows × 25 columns</p>\n",
       "</div>"
      ],
      "text/plain": [
       "               natalidad_argentina  natalidad_ciudad_autonoma_de_buenos_aires  \\\n",
       "indice_tiempo                                                                   \n",
       "2018                          15.4                                       11.6   \n",
       "2017                          16.0                                       11.7   \n",
       "2016                          16.7                                       13.1   \n",
       "2007                          17.8                                       14.1   \n",
       "2006                          17.9                                       14.6   \n",
       "2015                          17.9                                       13.7   \n",
       "2012                          17.9                                       14.2   \n",
       "2013                          17.9                                       14.3   \n",
       "2001                          18.2                                       13.9   \n",
       "2014                          18.2                                       14.3   \n",
       "2002                          18.3                                       13.6   \n",
       "2003                          18.4                                       14.2   \n",
       "2005                          18.5                                       14.5   \n",
       "2011                          18.5                                       14.8   \n",
       "2009                          18.6                                       14.6   \n",
       "2010                          18.7                                       14.9   \n",
       "2008                          18.8                                       15.1   \n",
       "2000                          19.0                                       14.3   \n",
       "2004                          19.3                                       14.9   \n",
       "\n",
       "               natalidad_buenos_aires  natalidad_catamarca  natalidad_cordoba  \\\n",
       "indice_tiempo                                                                   \n",
       "2018                             14.6                 16.4               14.5   \n",
       "2017                             15.4                 15.8               15.0   \n",
       "2016                             16.2                 16.7               15.7   \n",
       "2007                             17.7                 18.3               16.3   \n",
       "2006                             17.7                 18.3               16.5   \n",
       "2015                             17.3                 17.2               16.4   \n",
       "2012                             18.1                 15.0               16.5   \n",
       "2013                             17.8                 16.9               16.0   \n",
       "2001                             16.9                 24.9               15.9   \n",
       "2014                             17.9                 17.4               16.8   \n",
       "2002                             17.0                 24.4               16.6   \n",
       "2003                             17.3                 22.5               17.5   \n",
       "2005                             17.9                 19.7               17.1   \n",
       "2011                             18.8                 16.0               16.9   \n",
       "2009                             18.4                 17.4               17.4   \n",
       "2010                             18.9                 16.9               17.2   \n",
       "2008                             18.6                 18.6               17.4   \n",
       "2000                             17.5                 25.8               17.2   \n",
       "2004                             18.5                 20.6               17.8   \n",
       "\n",
       "               natalidad_corrientes  natalidad_chaco  natalidad_chubut  \\\n",
       "indice_tiempo                                                            \n",
       "2018                           18.0             21.0              14.3   \n",
       "2017                           18.3             19.8              15.3   \n",
       "2016                           18.5             19.1              16.6   \n",
       "2007                           18.9             18.4              20.2   \n",
       "2006                           18.7             19.6              20.0   \n",
       "2015                           19.3             22.7              17.4   \n",
       "2012                           18.6             20.2              20.2   \n",
       "2013                           19.0             19.9              18.5   \n",
       "2001                           21.9             22.2              18.4   \n",
       "2014                           19.8             20.2              17.8   \n",
       "2002                           23.3             24.9              17.1   \n",
       "2003                           22.2             20.9              18.7   \n",
       "2005                           20.2             22.6              19.2   \n",
       "2011                           19.9             22.6              20.7   \n",
       "2009                           19.9             20.4              21.3   \n",
       "2010                           19.8             21.2              21.2   \n",
       "2008                           19.7             20.8              21.4   \n",
       "2000                           22.7             25.8              19.4   \n",
       "2004                           22.7             25.1              19.3   \n",
       "\n",
       "               natalidad_entre_rios  natalidad_formosa  ...  \\\n",
       "indice_tiempo                                           ...   \n",
       "2018                           15.6               19.8  ...   \n",
       "2017                           16.3               19.6  ...   \n",
       "2016                           16.6               19.4  ...   \n",
       "2007                           16.9               21.1  ...   \n",
       "2006                           17.2               21.4  ...   \n",
       "2015                           17.8               21.3  ...   \n",
       "2012                           16.7               21.0  ...   \n",
       "2013                           17.3               21.0  ...   \n",
       "2001                           20.5               22.4  ...   \n",
       "2014                           17.8               21.8  ...   \n",
       "2002                           19.5               25.1  ...   \n",
       "2003                           19.8               25.0  ...   \n",
       "2005                           19.0               23.5  ...   \n",
       "2011                           17.2               21.6  ...   \n",
       "2009                           17.5               21.9  ...   \n",
       "2010                           17.4               21.1  ...   \n",
       "2008                           17.2               22.6  ...   \n",
       "2000                           21.3               25.7  ...   \n",
       "2004                           19.5               26.5  ...   \n",
       "\n",
       "               natalidad_neuquen  natalidad_rio_negro  natalidad_salta  \\\n",
       "indice_tiempo                                                            \n",
       "2018                        15.6                 14.6             18.2   \n",
       "2017                        16.3                 16.0             19.7   \n",
       "2016                        17.9                 16.8             19.4   \n",
       "2007                        20.5                 18.9             20.6   \n",
       "2006                        20.5                 18.6             21.0   \n",
       "2015                        19.1                 18.2             21.3   \n",
       "2012                        19.1                 19.4             20.2   \n",
       "2013                        18.7                 17.9             21.1   \n",
       "2001                        16.8                 17.8             24.2   \n",
       "2014                        19.5                 17.9             21.6   \n",
       "2002                        16.1                 17.3             24.7   \n",
       "2003                        19.4                 18.6             22.0   \n",
       "2005                        20.0                 18.7             22.5   \n",
       "2011                        19.6                 19.8             21.7   \n",
       "2009                        20.9                 19.6             21.0   \n",
       "2010                        21.6                 20.0             21.9   \n",
       "2008                        21.0                 19.9             21.4   \n",
       "2000                        17.9                 18.9             24.0   \n",
       "2004                        19.8                 18.3             23.9   \n",
       "\n",
       "               natalidad_san_juan  natalidad_san_luis  natalidad_santa_cruz  \\\n",
       "indice_tiempo                                                                 \n",
       "2018                         17.7                14.2                  14.7   \n",
       "2017                         18.1                14.8                  17.0   \n",
       "2016                         18.8                15.5                  18.6   \n",
       "2007                         20.8                19.3                  23.8   \n",
       "2006                         20.7                20.2                  23.5   \n",
       "2015                         20.5                17.0                  19.8   \n",
       "2012                         19.6                16.0                  24.0   \n",
       "2013                         20.6                16.7                  19.7   \n",
       "2001                         23.7                22.3                  19.8   \n",
       "2014                         21.3                16.9                  19.8   \n",
       "2002                         22.3                22.0                  19.2   \n",
       "2003                         22.2                21.7                  21.9   \n",
       "2005                         21.4                19.9                  22.9   \n",
       "2011                         19.9                16.7                  25.0   \n",
       "2009                         20.6                18.2                  25.2   \n",
       "2010                         19.8                17.4                  26.0   \n",
       "2008                         20.7                19.3                  25.0   \n",
       "2000                         22.7                22.3                  19.6   \n",
       "2004                         22.5                21.9                  22.4   \n",
       "\n",
       "               natalidad_santa_fe  natalidad_santiago_del_estero  \\\n",
       "indice_tiempo                                                      \n",
       "2018                         14.8                           18.9   \n",
       "2017                         15.4                           18.8   \n",
       "2016                         16.3                           18.7   \n",
       "2007                         15.7                           19.4   \n",
       "2006                         15.8                           20.0   \n",
       "2015                         16.9                           20.5   \n",
       "2012                         16.3                           17.9   \n",
       "2013                         16.9                           18.8   \n",
       "2001                         16.2                           21.1   \n",
       "2014                         17.2                           19.8   \n",
       "2002                         16.7                           22.1   \n",
       "2003                         17.3                           17.8   \n",
       "2005                         16.3                           21.0   \n",
       "2011                         16.4                           20.2   \n",
       "2009                         16.5                           21.9   \n",
       "2010                         16.2                           19.9   \n",
       "2008                         16.9                           20.5   \n",
       "2000                         16.9                           21.6   \n",
       "2004                         17.6                           19.7   \n",
       "\n",
       "               natalidad_tucuman  natalidad_tierra_del_fuego  \n",
       "indice_tiempo                                                 \n",
       "2018                        16.9                        16.3  \n",
       "2017                        16.7                        16.9  \n",
       "2016                        17.5                        18.1  \n",
       "2007                        19.7                        20.8  \n",
       "2006                        18.5                        20.1  \n",
       "2015                        19.0                        19.9  \n",
       "2012                        18.7                        19.2  \n",
       "2013                        18.9                        19.8  \n",
       "2001                        21.1                        17.9  \n",
       "2014                        19.3                        20.5  \n",
       "2002                        22.6                        17.2  \n",
       "2003                        21.8                        20.8  \n",
       "2005                        19.9                        20.7  \n",
       "2011                        19.5                        18.6  \n",
       "2009                        19.1                        20.2  \n",
       "2010                        20.1                        18.8  \n",
       "2008                        19.9                        20.8  \n",
       "2000                        22.6                        19.9  \n",
       "2004                        21.0                        19.5  \n",
       "\n",
       "[19 rows x 25 columns]"
      ]
     },
     "execution_count": 20,
     "metadata": {},
     "output_type": "execute_result"
    }
   ],
   "source": [
    "tasa_natalidad.sort_values('natalidad_argentina', ascending=True)"
   ]
  },
  {
   "cell_type": "markdown",
   "metadata": {},
   "source": [
    "También se pueden filtrar los datos"
   ]
  },
  {
   "cell_type": "code",
   "execution_count": 21,
   "metadata": {},
   "outputs": [
    {
     "data": {
      "text/html": [
       "<div>\n",
       "<style scoped>\n",
       "    .dataframe tbody tr th:only-of-type {\n",
       "        vertical-align: middle;\n",
       "    }\n",
       "\n",
       "    .dataframe tbody tr th {\n",
       "        vertical-align: top;\n",
       "    }\n",
       "\n",
       "    .dataframe thead th {\n",
       "        text-align: right;\n",
       "    }\n",
       "</style>\n",
       "<table border=\"1\" class=\"dataframe\">\n",
       "  <thead>\n",
       "    <tr style=\"text-align: right;\">\n",
       "      <th></th>\n",
       "      <th>natalidad_argentina</th>\n",
       "      <th>natalidad_ciudad_autonoma_de_buenos_aires</th>\n",
       "      <th>natalidad_buenos_aires</th>\n",
       "      <th>natalidad_catamarca</th>\n",
       "      <th>natalidad_cordoba</th>\n",
       "      <th>natalidad_corrientes</th>\n",
       "      <th>natalidad_chaco</th>\n",
       "      <th>natalidad_chubut</th>\n",
       "      <th>natalidad_entre_rios</th>\n",
       "      <th>natalidad_formosa</th>\n",
       "      <th>...</th>\n",
       "      <th>natalidad_neuquen</th>\n",
       "      <th>natalidad_rio_negro</th>\n",
       "      <th>natalidad_salta</th>\n",
       "      <th>natalidad_san_juan</th>\n",
       "      <th>natalidad_san_luis</th>\n",
       "      <th>natalidad_santa_cruz</th>\n",
       "      <th>natalidad_santa_fe</th>\n",
       "      <th>natalidad_santiago_del_estero</th>\n",
       "      <th>natalidad_tucuman</th>\n",
       "      <th>natalidad_tierra_del_fuego</th>\n",
       "    </tr>\n",
       "    <tr>\n",
       "      <th>indice_tiempo</th>\n",
       "      <th></th>\n",
       "      <th></th>\n",
       "      <th></th>\n",
       "      <th></th>\n",
       "      <th></th>\n",
       "      <th></th>\n",
       "      <th></th>\n",
       "      <th></th>\n",
       "      <th></th>\n",
       "      <th></th>\n",
       "      <th></th>\n",
       "      <th></th>\n",
       "      <th></th>\n",
       "      <th></th>\n",
       "      <th></th>\n",
       "      <th></th>\n",
       "      <th></th>\n",
       "      <th></th>\n",
       "      <th></th>\n",
       "      <th></th>\n",
       "      <th></th>\n",
       "    </tr>\n",
       "  </thead>\n",
       "  <tbody>\n",
       "    <tr>\n",
       "      <th>2000</th>\n",
       "      <td>19.0</td>\n",
       "      <td>14.3</td>\n",
       "      <td>17.5</td>\n",
       "      <td>25.8</td>\n",
       "      <td>17.2</td>\n",
       "      <td>22.7</td>\n",
       "      <td>25.8</td>\n",
       "      <td>19.4</td>\n",
       "      <td>21.3</td>\n",
       "      <td>25.7</td>\n",
       "      <td>...</td>\n",
       "      <td>17.9</td>\n",
       "      <td>18.9</td>\n",
       "      <td>24.0</td>\n",
       "      <td>22.7</td>\n",
       "      <td>22.3</td>\n",
       "      <td>19.6</td>\n",
       "      <td>16.9</td>\n",
       "      <td>21.6</td>\n",
       "      <td>22.6</td>\n",
       "      <td>19.9</td>\n",
       "    </tr>\n",
       "    <tr>\n",
       "      <th>2004</th>\n",
       "      <td>19.3</td>\n",
       "      <td>14.9</td>\n",
       "      <td>18.5</td>\n",
       "      <td>20.6</td>\n",
       "      <td>17.8</td>\n",
       "      <td>22.7</td>\n",
       "      <td>25.1</td>\n",
       "      <td>19.3</td>\n",
       "      <td>19.5</td>\n",
       "      <td>26.5</td>\n",
       "      <td>...</td>\n",
       "      <td>19.8</td>\n",
       "      <td>18.3</td>\n",
       "      <td>23.9</td>\n",
       "      <td>22.5</td>\n",
       "      <td>21.9</td>\n",
       "      <td>22.4</td>\n",
       "      <td>17.6</td>\n",
       "      <td>19.7</td>\n",
       "      <td>21.0</td>\n",
       "      <td>19.5</td>\n",
       "    </tr>\n",
       "    <tr>\n",
       "      <th>2008</th>\n",
       "      <td>18.8</td>\n",
       "      <td>15.1</td>\n",
       "      <td>18.6</td>\n",
       "      <td>18.6</td>\n",
       "      <td>17.4</td>\n",
       "      <td>19.7</td>\n",
       "      <td>20.8</td>\n",
       "      <td>21.4</td>\n",
       "      <td>17.2</td>\n",
       "      <td>22.6</td>\n",
       "      <td>...</td>\n",
       "      <td>21.0</td>\n",
       "      <td>19.9</td>\n",
       "      <td>21.4</td>\n",
       "      <td>20.7</td>\n",
       "      <td>19.3</td>\n",
       "      <td>25.0</td>\n",
       "      <td>16.9</td>\n",
       "      <td>20.5</td>\n",
       "      <td>19.9</td>\n",
       "      <td>20.8</td>\n",
       "    </tr>\n",
       "    <tr>\n",
       "      <th>2009</th>\n",
       "      <td>18.6</td>\n",
       "      <td>14.6</td>\n",
       "      <td>18.4</td>\n",
       "      <td>17.4</td>\n",
       "      <td>17.4</td>\n",
       "      <td>19.9</td>\n",
       "      <td>20.4</td>\n",
       "      <td>21.3</td>\n",
       "      <td>17.5</td>\n",
       "      <td>21.9</td>\n",
       "      <td>...</td>\n",
       "      <td>20.9</td>\n",
       "      <td>19.6</td>\n",
       "      <td>21.0</td>\n",
       "      <td>20.6</td>\n",
       "      <td>18.2</td>\n",
       "      <td>25.2</td>\n",
       "      <td>16.5</td>\n",
       "      <td>21.9</td>\n",
       "      <td>19.1</td>\n",
       "      <td>20.2</td>\n",
       "    </tr>\n",
       "    <tr>\n",
       "      <th>2010</th>\n",
       "      <td>18.7</td>\n",
       "      <td>14.9</td>\n",
       "      <td>18.9</td>\n",
       "      <td>16.9</td>\n",
       "      <td>17.2</td>\n",
       "      <td>19.8</td>\n",
       "      <td>21.2</td>\n",
       "      <td>21.2</td>\n",
       "      <td>17.4</td>\n",
       "      <td>21.1</td>\n",
       "      <td>...</td>\n",
       "      <td>21.6</td>\n",
       "      <td>20.0</td>\n",
       "      <td>21.9</td>\n",
       "      <td>19.8</td>\n",
       "      <td>17.4</td>\n",
       "      <td>26.0</td>\n",
       "      <td>16.2</td>\n",
       "      <td>19.9</td>\n",
       "      <td>20.1</td>\n",
       "      <td>18.8</td>\n",
       "    </tr>\n",
       "  </tbody>\n",
       "</table>\n",
       "<p>5 rows × 25 columns</p>\n",
       "</div>"
      ],
      "text/plain": [
       "               natalidad_argentina  natalidad_ciudad_autonoma_de_buenos_aires  \\\n",
       "indice_tiempo                                                                   \n",
       "2000                          19.0                                       14.3   \n",
       "2004                          19.3                                       14.9   \n",
       "2008                          18.8                                       15.1   \n",
       "2009                          18.6                                       14.6   \n",
       "2010                          18.7                                       14.9   \n",
       "\n",
       "               natalidad_buenos_aires  natalidad_catamarca  natalidad_cordoba  \\\n",
       "indice_tiempo                                                                   \n",
       "2000                             17.5                 25.8               17.2   \n",
       "2004                             18.5                 20.6               17.8   \n",
       "2008                             18.6                 18.6               17.4   \n",
       "2009                             18.4                 17.4               17.4   \n",
       "2010                             18.9                 16.9               17.2   \n",
       "\n",
       "               natalidad_corrientes  natalidad_chaco  natalidad_chubut  \\\n",
       "indice_tiempo                                                            \n",
       "2000                           22.7             25.8              19.4   \n",
       "2004                           22.7             25.1              19.3   \n",
       "2008                           19.7             20.8              21.4   \n",
       "2009                           19.9             20.4              21.3   \n",
       "2010                           19.8             21.2              21.2   \n",
       "\n",
       "               natalidad_entre_rios  natalidad_formosa  ...  \\\n",
       "indice_tiempo                                           ...   \n",
       "2000                           21.3               25.7  ...   \n",
       "2004                           19.5               26.5  ...   \n",
       "2008                           17.2               22.6  ...   \n",
       "2009                           17.5               21.9  ...   \n",
       "2010                           17.4               21.1  ...   \n",
       "\n",
       "               natalidad_neuquen  natalidad_rio_negro  natalidad_salta  \\\n",
       "indice_tiempo                                                            \n",
       "2000                        17.9                 18.9             24.0   \n",
       "2004                        19.8                 18.3             23.9   \n",
       "2008                        21.0                 19.9             21.4   \n",
       "2009                        20.9                 19.6             21.0   \n",
       "2010                        21.6                 20.0             21.9   \n",
       "\n",
       "               natalidad_san_juan  natalidad_san_luis  natalidad_santa_cruz  \\\n",
       "indice_tiempo                                                                 \n",
       "2000                         22.7                22.3                  19.6   \n",
       "2004                         22.5                21.9                  22.4   \n",
       "2008                         20.7                19.3                  25.0   \n",
       "2009                         20.6                18.2                  25.2   \n",
       "2010                         19.8                17.4                  26.0   \n",
       "\n",
       "               natalidad_santa_fe  natalidad_santiago_del_estero  \\\n",
       "indice_tiempo                                                      \n",
       "2000                         16.9                           21.6   \n",
       "2004                         17.6                           19.7   \n",
       "2008                         16.9                           20.5   \n",
       "2009                         16.5                           21.9   \n",
       "2010                         16.2                           19.9   \n",
       "\n",
       "               natalidad_tucuman  natalidad_tierra_del_fuego  \n",
       "indice_tiempo                                                 \n",
       "2000                        22.6                        19.9  \n",
       "2004                        21.0                        19.5  \n",
       "2008                        19.9                        20.8  \n",
       "2009                        19.1                        20.2  \n",
       "2010                        20.1                        18.8  \n",
       "\n",
       "[5 rows x 25 columns]"
      ]
     },
     "execution_count": 21,
     "metadata": {},
     "output_type": "execute_result"
    }
   ],
   "source": [
    "tasa_natalidad[tasa_natalidad['natalidad_argentina'] > 18.5]"
   ]
  },
  {
   "cell_type": "markdown",
   "metadata": {},
   "source": [
    "y contabilizarlos con el método `.count()`:"
   ]
  },
  {
   "cell_type": "code",
   "execution_count": 22,
   "metadata": {},
   "outputs": [
    {
     "data": {
      "text/plain": [
       "natalidad_argentina                          5\n",
       "natalidad_ciudad_autonoma_de_buenos_aires    5\n",
       "natalidad_buenos_aires                       5\n",
       "natalidad_catamarca                          5\n",
       "natalidad_cordoba                            5\n",
       "natalidad_corrientes                         5\n",
       "natalidad_chaco                              5\n",
       "natalidad_chubut                             5\n",
       "natalidad_entre_rios                         5\n",
       "natalidad_formosa                            5\n",
       "natalidad_jujuy                              5\n",
       "natalidad_la_pampa                           5\n",
       "natalidad_la_rioja                           5\n",
       "natalidad_mendoza                            5\n",
       "natalidad_misiones                           5\n",
       "natalidad_neuquen                            5\n",
       "natalidad_rio_negro                          5\n",
       "natalidad_salta                              5\n",
       "natalidad_san_juan                           5\n",
       "natalidad_san_luis                           5\n",
       "natalidad_santa_cruz                         5\n",
       "natalidad_santa_fe                           5\n",
       "natalidad_santiago_del_estero                5\n",
       "natalidad_tucuman                            5\n",
       "natalidad_tierra_del_fuego                   5\n",
       "dtype: int64"
      ]
     },
     "execution_count": 22,
     "metadata": {},
     "output_type": "execute_result"
    }
   ],
   "source": [
    "tasa_natalidad[tasa_natalidad['natalidad_argentina'] > 18.5].count()"
   ]
  },
  {
   "cell_type": "markdown",
   "metadata": {},
   "source": [
    "### Graficando\n",
    "\n",
    "Los DataFrames de Pandas tienen integrados la funcionalidad para graficar de `matplotlib`, de modo tal que se pueden graficar los datos rápidamente:"
   ]
  },
  {
   "cell_type": "code",
   "execution_count": 23,
   "metadata": {},
   "outputs": [
    {
     "data": {
      "image/png": "[encoded data removed]",
      "text/plain": [
       "<Figure size 640x480 with 1 Axes>"
      ]
     },
     "metadata": {},
     "output_type": "display_data"
    }
   ],
   "source": [
    "import matplotlib.pyplot as plt \n",
    "\n",
    "tasa_natalidad.plot()\n",
    "plt.show()"
   ]
  },
  {
   "cell_type": "code",
   "execution_count": 33,
   "metadata": {},
   "outputs": [
    {
     "data": {
      "application/vnd.plotly.v1+json": {
       "config": {
        "plotlyServerURL": "https://plot.ly"
       },
       "data": [
        {
         "hovertemplate": "variable=natalidad_argentina<br>indice_tiempo=%{x}<br>value=%{y}<extra></extra>",
         "legendgroup": "natalidad_argentina",
         "line": {
          "color": "#636efa",
          "dash": "solid"
         },
         "marker": {
          "symbol": "circle"
         },
         "mode": "lines",
         "name": "natalidad_argentina",
         "orientation": "v",
         "showlegend": true,
         "type": "scatter",
         "x": [
          2000,
          2001,
          2002,
          2003,
          2004,
          2005,
          2006,
          2007,
          2008,
          2009,
          2010,
          2011,
          2012,
          2013,
          2014,
          2015,
          2016,
          2017,
          2018
         ],
         "xaxis": "x",
         "y": [
          19,
          18.2,
          18.3,
          18.4,
          19.3,
          18.5,
          17.9,
          17.8,
          18.8,
          18.6,
          18.7,
          18.5,
          17.9,
          17.9,
          18.2,
          17.9,
          16.7,
          16,
          15.4
         ],
         "yaxis": "y"
        },
        {
         "hovertemplate": "variable=natalidad_ciudad_autonoma_de_buenos_aires<br>indice_tiempo=%{x}<br>value=%{y}<extra></extra>",
         "legendgroup": "natalidad_ciudad_autonoma_de_buenos_aires",
         "line": {
          "color": "#EF553B",
          "dash": "solid"
         },
         "marker": {
          "symbol": "circle"
         },
         "mode": "lines",
         "name": "natalidad_ciudad_autonoma_de_buenos_aires",
         "orientation": "v",
         "showlegend": true,
         "type": "scatter",
         "x": [
          2000,
          2001,
          2002,
          2003,
          2004,
          2005,
          2006,
          2007,
          2008,
          2009,
          2010,
          2011,
          2012,
          2013,
          2014,
          2015,
          2016,
          2017,
          2018
         ],
         "xaxis": "x",
         "y": [
          14.3,
          13.9,
          13.6,
          14.2,
          14.9,
          14.5,
          14.6,
          14.1,
          15.1,
          14.6,
          14.9,
          14.8,
          14.2,
          14.3,
          14.3,
          13.7,
          13.1,
          11.7,
          11.6
         ],
         "yaxis": "y"
        },
        {
         "hovertemplate": "variable=natalidad_buenos_aires<br>indice_tiempo=%{x}<br>value=%{y}<extra></extra>",
         "legendgroup": "natalidad_buenos_aires",
         "line": {
          "color": "#00cc96",
          "dash": "solid"
         },
         "marker": {
          "symbol": "circle"
         },
         "mode": "lines",
         "name": "natalidad_buenos_aires",
         "orientation": "v",
         "showlegend": true,
         "type": "scatter",
         "x": [
          2000,
          2001,
          2002,
          2003,
          2004,
          2005,
          2006,
          2007,
          2008,
          2009,
          2010,
          2011,
          2012,
          2013,
          2014,
          2015,
          2016,
          2017,
          2018
         ],
         "xaxis": "x",
         "y": [
          17.5,
          16.9,
          17,
          17.3,
          18.5,
          17.9,
          17.7,
          17.7,
          18.6,
          18.4,
          18.9,
          18.8,
          18.1,
          17.8,
          17.9,
          17.3,
          16.2,
          15.4,
          14.6
         ],
         "yaxis": "y"
        },
        {
         "hovertemplate": "variable=natalidad_catamarca<br>indice_tiempo=%{x}<br>value=%{y}<extra></extra>",
         "legendgroup": "natalidad_catamarca",
         "line": {
          "color": "#ab63fa",
          "dash": "solid"
         },
         "marker": {
          "symbol": "circle"
         },
         "mode": "lines",
         "name": "natalidad_catamarca",
         "orientation": "v",
         "showlegend": true,
         "type": "scatter",
         "x": [
          2000,
          2001,
          2002,
          2003,
          2004,
          2005,
          2006,
          2007,
          2008,
          2009,
          2010,
          2011,
          2012,
          2013,
          2014,
          2015,
          2016,
          2017,
          2018
         ],
         "xaxis": "x",
         "y": [
          25.8,
          24.9,
          24.4,
          22.5,
          20.6,
          19.7,
          18.3,
          18.3,
          18.6,
          17.4,
          16.9,
          16,
          15,
          16.9,
          17.4,
          17.2,
          16.7,
          15.8,
          16.4
         ],
         "yaxis": "y"
        },
        {
         "hovertemplate": "variable=natalidad_cordoba<br>indice_tiempo=%{x}<br>value=%{y}<extra></extra>",
         "legendgroup": "natalidad_cordoba",
         "line": {
          "color": "#FFA15A",
          "dash": "solid"
         },
         "marker": {
          "symbol": "circle"
         },
         "mode": "lines",
         "name": "natalidad_cordoba",
         "orientation": "v",
         "showlegend": true,
         "type": "scatter",
         "x": [
          2000,
          2001,
          2002,
          2003,
          2004,
          2005,
          2006,
          2007,
          2008,
          2009,
          2010,
          2011,
          2012,
          2013,
          2014,
          2015,
          2016,
          2017,
          2018
         ],
         "xaxis": "x",
         "y": [
          17.2,
          15.9,
          16.6,
          17.5,
          17.8,
          17.1,
          16.5,
          16.3,
          17.4,
          17.4,
          17.2,
          16.9,
          16.5,
          16,
          16.8,
          16.4,
          15.7,
          15,
          14.5
         ],
         "yaxis": "y"
        },
        {
         "hovertemplate": "variable=natalidad_corrientes<br>indice_tiempo=%{x}<br>value=%{y}<extra></extra>",
         "legendgroup": "natalidad_corrientes",
         "line": {
          "color": "#19d3f3",
          "dash": "solid"
         },
         "marker": {
          "symbol": "circle"
         },
         "mode": "lines",
         "name": "natalidad_corrientes",
         "orientation": "v",
         "showlegend": true,
         "type": "scatter",
         "x": [
          2000,
          2001,
          2002,
          2003,
          2004,
          2005,
          2006,
          2007,
          2008,
          2009,
          2010,
          2011,
          2012,
          2013,
          2014,
          2015,
          2016,
          2017,
          2018
         ],
         "xaxis": "x",
         "y": [
          22.7,
          21.9,
          23.3,
          22.2,
          22.7,
          20.2,
          18.7,
          18.9,
          19.7,
          19.9,
          19.8,
          19.9,
          18.6,
          19,
          19.8,
          19.3,
          18.5,
          18.3,
          18
         ],
         "yaxis": "y"
        },
        {
         "hovertemplate": "variable=natalidad_chaco<br>indice_tiempo=%{x}<br>value=%{y}<extra></extra>",
         "legendgroup": "natalidad_chaco",
         "line": {
          "color": "#FF6692",
          "dash": "solid"
         },
         "marker": {
          "symbol": "circle"
         },
         "mode": "lines",
         "name": "natalidad_chaco",
         "orientation": "v",
         "showlegend": true,
         "type": "scatter",
         "x": [
          2000,
          2001,
          2002,
          2003,
          2004,
          2005,
          2006,
          2007,
          2008,
          2009,
          2010,
          2011,
          2012,
          2013,
          2014,
          2015,
          2016,
          2017,
          2018
         ],
         "xaxis": "x",
         "y": [
          25.8,
          22.2,
          24.9,
          20.9,
          25.1,
          22.6,
          19.6,
          18.4,
          20.8,
          20.4,
          21.2,
          22.6,
          20.2,
          19.9,
          20.2,
          22.7,
          19.1,
          19.8,
          21
         ],
         "yaxis": "y"
        },
        {
         "hovertemplate": "variable=natalidad_chubut<br>indice_tiempo=%{x}<br>value=%{y}<extra></extra>",
         "legendgroup": "natalidad_chubut",
         "line": {
          "color": "#B6E880",
          "dash": "solid"
         },
         "marker": {
          "symbol": "circle"
         },
         "mode": "lines",
         "name": "natalidad_chubut",
         "orientation": "v",
         "showlegend": true,
         "type": "scatter",
         "x": [
          2000,
          2001,
          2002,
          2003,
          2004,
          2005,
          2006,
          2007,
          2008,
          2009,
          2010,
          2011,
          2012,
          2013,
          2014,
          2015,
          2016,
          2017,
          2018
         ],
         "xaxis": "x",
         "y": [
          19.4,
          18.4,
          17.1,
          18.7,
          19.3,
          19.2,
          20,
          20.2,
          21.4,
          21.3,
          21.2,
          20.7,
          20.2,
          18.5,
          17.8,
          17.4,
          16.6,
          15.3,
          14.3
         ],
         "yaxis": "y"
        },
        {
         "hovertemplate": "variable=natalidad_entre_rios<br>indice_tiempo=%{x}<br>value=%{y}<extra></extra>",
         "legendgroup": "natalidad_entre_rios",
         "line": {
          "color": "#FF97FF",
          "dash": "solid"
         },
         "marker": {
          "symbol": "circle"
         },
         "mode": "lines",
         "name": "natalidad_entre_rios",
         "orientation": "v",
         "showlegend": true,
         "type": "scatter",
         "x": [
          2000,
          2001,
          2002,
          2003,
          2004,
          2005,
          2006,
          2007,
          2008,
          2009,
          2010,
          2011,
          2012,
          2013,
          2014,
          2015,
          2016,
          2017,
          2018
         ],
         "xaxis": "x",
         "y": [
          21.3,
          20.5,
          19.5,
          19.8,
          19.5,
          19,
          17.2,
          16.9,
          17.2,
          17.5,
          17.4,
          17.2,
          16.7,
          17.3,
          17.8,
          17.8,
          16.6,
          16.3,
          15.6
         ],
         "yaxis": "y"
        },
        {
         "hovertemplate": "variable=natalidad_formosa<br>indice_tiempo=%{x}<br>value=%{y}<extra></extra>",
         "legendgroup": "natalidad_formosa",
         "line": {
          "color": "#FECB52",
          "dash": "solid"
         },
         "marker": {
          "symbol": "circle"
         },
         "mode": "lines",
         "name": "natalidad_formosa",
         "orientation": "v",
         "showlegend": true,
         "type": "scatter",
         "x": [
          2000,
          2001,
          2002,
          2003,
          2004,
          2005,
          2006,
          2007,
          2008,
          2009,
          2010,
          2011,
          2012,
          2013,
          2014,
          2015,
          2016,
          2017,
          2018
         ],
         "xaxis": "x",
         "y": [
          25.7,
          22.4,
          25.1,
          25,
          26.5,
          23.5,
          21.4,
          21.1,
          22.6,
          21.9,
          21.1,
          21.6,
          21,
          21,
          21.8,
          21.3,
          19.4,
          19.6,
          19.8
         ],
         "yaxis": "y"
        },
        {
         "hovertemplate": "variable=natalidad_jujuy<br>indice_tiempo=%{x}<br>value=%{y}<extra></extra>",
         "legendgroup": "natalidad_jujuy",
         "line": {
          "color": "#636efa",
          "dash": "solid"
         },
         "marker": {
          "symbol": "circle"
         },
         "mode": "lines",
         "name": "natalidad_jujuy",
         "orientation": "v",
         "showlegend": true,
         "type": "scatter",
         "x": [
          2000,
          2001,
          2002,
          2003,
          2004,
          2005,
          2006,
          2007,
          2008,
          2009,
          2010,
          2011,
          2012,
          2013,
          2014,
          2015,
          2016,
          2017,
          2018
         ],
         "xaxis": "x",
         "y": [
          22.6,
          23.1,
          22.1,
          20.3,
          21.3,
          19.9,
          18.4,
          18.6,
          19.1,
          19.2,
          19.2,
          19.6,
          18,
          18.5,
          19.5,
          18.2,
          16.8,
          15.8,
          15.7
         ],
         "yaxis": "y"
        },
        {
         "hovertemplate": "variable=natalidad_la_pampa<br>indice_tiempo=%{x}<br>value=%{y}<extra></extra>",
         "legendgroup": "natalidad_la_pampa",
         "line": {
          "color": "#EF553B",
          "dash": "solid"
         },
         "marker": {
          "symbol": "circle"
         },
         "mode": "lines",
         "name": "natalidad_la_pampa",
         "orientation": "v",
         "showlegend": true,
         "type": "scatter",
         "x": [
          2000,
          2001,
          2002,
          2003,
          2004,
          2005,
          2006,
          2007,
          2008,
          2009,
          2010,
          2011,
          2012,
          2013,
          2014,
          2015,
          2016,
          2017,
          2018
         ],
         "xaxis": "x",
         "y": [
          18.1,
          17.2,
          16.7,
          18.3,
          17.4,
          16.9,
          16.5,
          16.2,
          16.5,
          16.3,
          16.2,
          15.6,
          15.4,
          16.8,
          16.5,
          15.17,
          15.1,
          14.3,
          13.5
         ],
         "yaxis": "y"
        },
        {
         "hovertemplate": "variable=natalidad_la_rioja<br>indice_tiempo=%{x}<br>value=%{y}<extra></extra>",
         "legendgroup": "natalidad_la_rioja",
         "line": {
          "color": "#00cc96",
          "dash": "solid"
         },
         "marker": {
          "symbol": "circle"
         },
         "mode": "lines",
         "name": "natalidad_la_rioja",
         "orientation": "v",
         "showlegend": true,
         "type": "scatter",
         "x": [
          2000,
          2001,
          2002,
          2003,
          2004,
          2005,
          2006,
          2007,
          2008,
          2009,
          2010,
          2011,
          2012,
          2013,
          2014,
          2015,
          2016,
          2017,
          2018
         ],
         "xaxis": "x",
         "y": [
          22.6,
          20.5,
          21.4,
          21.2,
          21.1,
          20.8,
          19,
          18.4,
          19,
          17.9,
          17.2,
          17.4,
          17,
          17.5,
          17.3,
          17.1,
          16.6,
          15.6,
          14.8
         ],
         "yaxis": "y"
        },
        {
         "hovertemplate": "variable=natalidad_mendoza<br>indice_tiempo=%{x}<br>value=%{y}<extra></extra>",
         "legendgroup": "natalidad_mendoza",
         "line": {
          "color": "#ab63fa",
          "dash": "solid"
         },
         "marker": {
          "symbol": "circle"
         },
         "mode": "lines",
         "name": "natalidad_mendoza",
         "orientation": "v",
         "showlegend": true,
         "type": "scatter",
         "x": [
          2000,
          2001,
          2002,
          2003,
          2004,
          2005,
          2006,
          2007,
          2008,
          2009,
          2010,
          2011,
          2012,
          2013,
          2014,
          2015,
          2016,
          2017,
          2018
         ],
         "xaxis": "x",
         "y": [
          19.2,
          19.1,
          16.9,
          17.5,
          18.4,
          18.8,
          19,
          19.3,
          20.2,
          19.7,
          19.3,
          19.2,
          18.4,
          18.7,
          19.4,
          18.8,
          17.5,
          16.3,
          15.4
         ],
         "yaxis": "y"
        },
        {
         "hovertemplate": "variable=natalidad_misiones<br>indice_tiempo=%{x}<br>value=%{y}<extra></extra>",
         "legendgroup": "natalidad_misiones",
         "line": {
          "color": "#FFA15A",
          "dash": "solid"
         },
         "marker": {
          "symbol": "circle"
         },
         "mode": "lines",
         "name": "natalidad_misiones",
         "orientation": "v",
         "showlegend": true,
         "type": "scatter",
         "x": [
          2000,
          2001,
          2002,
          2003,
          2004,
          2005,
          2006,
          2007,
          2008,
          2009,
          2010,
          2011,
          2012,
          2013,
          2014,
          2015,
          2016,
          2017,
          2018
         ],
         "xaxis": "x",
         "y": [
          25.8,
          24.2,
          22.9,
          24.1,
          26.4,
          23,
          19.9,
          20.4,
          23.1,
          23.7,
          22.2,
          19.3,
          22.3,
          22,
          23.4,
          22.8,
          21,
          21.1,
          20.2
         ],
         "yaxis": "y"
        },
        {
         "hovertemplate": "variable=natalidad_neuquen<br>indice_tiempo=%{x}<br>value=%{y}<extra></extra>",
         "legendgroup": "natalidad_neuquen",
         "line": {
          "color": "#19d3f3",
          "dash": "solid"
         },
         "marker": {
          "symbol": "circle"
         },
         "mode": "lines",
         "name": "natalidad_neuquen",
         "orientation": "v",
         "showlegend": true,
         "type": "scatter",
         "x": [
          2000,
          2001,
          2002,
          2003,
          2004,
          2005,
          2006,
          2007,
          2008,
          2009,
          2010,
          2011,
          2012,
          2013,
          2014,
          2015,
          2016,
          2017,
          2018
         ],
         "xaxis": "x",
         "y": [
          17.9,
          16.8,
          16.1,
          19.4,
          19.8,
          20,
          20.5,
          20.5,
          21,
          20.9,
          21.6,
          19.6,
          19.1,
          18.7,
          19.5,
          19.1,
          17.9,
          16.3,
          15.6
         ],
         "yaxis": "y"
        },
        {
         "hovertemplate": "variable=natalidad_rio_negro<br>indice_tiempo=%{x}<br>value=%{y}<extra></extra>",
         "legendgroup": "natalidad_rio_negro",
         "line": {
          "color": "#FF6692",
          "dash": "solid"
         },
         "marker": {
          "symbol": "circle"
         },
         "mode": "lines",
         "name": "natalidad_rio_negro",
         "orientation": "v",
         "showlegend": true,
         "type": "scatter",
         "x": [
          2000,
          2001,
          2002,
          2003,
          2004,
          2005,
          2006,
          2007,
          2008,
          2009,
          2010,
          2011,
          2012,
          2013,
          2014,
          2015,
          2016,
          2017,
          2018
         ],
         "xaxis": "x",
         "y": [
          18.9,
          17.8,
          17.3,
          18.6,
          18.3,
          18.7,
          18.6,
          18.9,
          19.9,
          19.6,
          20,
          19.8,
          19.4,
          17.9,
          17.9,
          18.2,
          16.8,
          16,
          14.6
         ],
         "yaxis": "y"
        },
        {
         "hovertemplate": "variable=natalidad_salta<br>indice_tiempo=%{x}<br>value=%{y}<extra></extra>",
         "legendgroup": "natalidad_salta",
         "line": {
          "color": "#B6E880",
          "dash": "solid"
         },
         "marker": {
          "symbol": "circle"
         },
         "mode": "lines",
         "name": "natalidad_salta",
         "orientation": "v",
         "showlegend": true,
         "type": "scatter",
         "x": [
          2000,
          2001,
          2002,
          2003,
          2004,
          2005,
          2006,
          2007,
          2008,
          2009,
          2010,
          2011,
          2012,
          2013,
          2014,
          2015,
          2016,
          2017,
          2018
         ],
         "xaxis": "x",
         "y": [
          24,
          24.2,
          24.7,
          22,
          23.9,
          22.5,
          21,
          20.6,
          21.4,
          21,
          21.9,
          21.7,
          20.2,
          21.1,
          21.6,
          21.3,
          19.4,
          19.7,
          18.2
         ],
         "yaxis": "y"
        },
        {
         "hovertemplate": "variable=natalidad_san_juan<br>indice_tiempo=%{x}<br>value=%{y}<extra></extra>",
         "legendgroup": "natalidad_san_juan",
         "line": {
          "color": "#FF97FF",
          "dash": "solid"
         },
         "marker": {
          "symbol": "circle"
         },
         "mode": "lines",
         "name": "natalidad_san_juan",
         "orientation": "v",
         "showlegend": true,
         "type": "scatter",
         "x": [
          2000,
          2001,
          2002,
          2003,
          2004,
          2005,
          2006,
          2007,
          2008,
          2009,
          2010,
          2011,
          2012,
          2013,
          2014,
          2015,
          2016,
          2017,
          2018
         ],
         "xaxis": "x",
         "y": [
          22.7,
          23.7,
          22.3,
          22.2,
          22.5,
          21.4,
          20.7,
          20.8,
          20.7,
          20.6,
          19.8,
          19.9,
          19.6,
          20.6,
          21.3,
          20.5,
          18.8,
          18.1,
          17.7
         ],
         "yaxis": "y"
        },
        {
         "hovertemplate": "variable=natalidad_san_luis<br>indice_tiempo=%{x}<br>value=%{y}<extra></extra>",
         "legendgroup": "natalidad_san_luis",
         "line": {
          "color": "#FECB52",
          "dash": "solid"
         },
         "marker": {
          "symbol": "circle"
         },
         "mode": "lines",
         "name": "natalidad_san_luis",
         "orientation": "v",
         "showlegend": true,
         "type": "scatter",
         "x": [
          2000,
          2001,
          2002,
          2003,
          2004,
          2005,
          2006,
          2007,
          2008,
          2009,
          2010,
          2011,
          2012,
          2013,
          2014,
          2015,
          2016,
          2017,
          2018
         ],
         "xaxis": "x",
         "y": [
          22.3,
          22.3,
          22,
          21.7,
          21.9,
          19.9,
          20.2,
          19.3,
          19.3,
          18.2,
          17.4,
          16.7,
          16,
          16.7,
          16.9,
          17,
          15.5,
          14.8,
          14.2
         ],
         "yaxis": "y"
        },
        {
         "hovertemplate": "variable=natalidad_santa_cruz<br>indice_tiempo=%{x}<br>value=%{y}<extra></extra>",
         "legendgroup": "natalidad_santa_cruz",
         "line": {
          "color": "#636efa",
          "dash": "solid"
         },
         "marker": {
          "symbol": "circle"
         },
         "mode": "lines",
         "name": "natalidad_santa_cruz",
         "orientation": "v",
         "showlegend": true,
         "type": "scatter",
         "x": [
          2000,
          2001,
          2002,
          2003,
          2004,
          2005,
          2006,
          2007,
          2008,
          2009,
          2010,
          2011,
          2012,
          2013,
          2014,
          2015,
          2016,
          2017,
          2018
         ],
         "xaxis": "x",
         "y": [
          19.6,
          19.8,
          19.2,
          21.9,
          22.4,
          22.9,
          23.5,
          23.8,
          25,
          25.2,
          26,
          25,
          24,
          19.7,
          19.8,
          19.8,
          18.6,
          17,
          14.7
         ],
         "yaxis": "y"
        },
        {
         "hovertemplate": "variable=natalidad_santa_fe<br>indice_tiempo=%{x}<br>value=%{y}<extra></extra>",
         "legendgroup": "natalidad_santa_fe",
         "line": {
          "color": "#EF553B",
          "dash": "solid"
         },
         "marker": {
          "symbol": "circle"
         },
         "mode": "lines",
         "name": "natalidad_santa_fe",
         "orientation": "v",
         "showlegend": true,
         "type": "scatter",
         "x": [
          2000,
          2001,
          2002,
          2003,
          2004,
          2005,
          2006,
          2007,
          2008,
          2009,
          2010,
          2011,
          2012,
          2013,
          2014,
          2015,
          2016,
          2017,
          2018
         ],
         "xaxis": "x",
         "y": [
          16.9,
          16.2,
          16.7,
          17.3,
          17.6,
          16.3,
          15.8,
          15.7,
          16.9,
          16.5,
          16.2,
          16.4,
          16.3,
          16.9,
          17.2,
          16.9,
          16.3,
          15.4,
          14.8
         ],
         "yaxis": "y"
        },
        {
         "hovertemplate": "variable=natalidad_santiago_del_estero<br>indice_tiempo=%{x}<br>value=%{y}<extra></extra>",
         "legendgroup": "natalidad_santiago_del_estero",
         "line": {
          "color": "#00cc96",
          "dash": "solid"
         },
         "marker": {
          "symbol": "circle"
         },
         "mode": "lines",
         "name": "natalidad_santiago_del_estero",
         "orientation": "v",
         "showlegend": true,
         "type": "scatter",
         "x": [
          2000,
          2001,
          2002,
          2003,
          2004,
          2005,
          2006,
          2007,
          2008,
          2009,
          2010,
          2011,
          2012,
          2013,
          2014,
          2015,
          2016,
          2017,
          2018
         ],
         "xaxis": "x",
         "y": [
          21.6,
          21.1,
          22.1,
          17.8,
          19.7,
          21,
          20,
          19.4,
          20.5,
          21.9,
          19.9,
          20.2,
          17.9,
          18.8,
          19.8,
          20.5,
          18.7,
          18.8,
          18.9
         ],
         "yaxis": "y"
        },
        {
         "hovertemplate": "variable=natalidad_tucuman<br>indice_tiempo=%{x}<br>value=%{y}<extra></extra>",
         "legendgroup": "natalidad_tucuman",
         "line": {
          "color": "#ab63fa",
          "dash": "solid"
         },
         "marker": {
          "symbol": "circle"
         },
         "mode": "lines",
         "name": "natalidad_tucuman",
         "orientation": "v",
         "showlegend": true,
         "type": "scatter",
         "x": [
          2000,
          2001,
          2002,
          2003,
          2004,
          2005,
          2006,
          2007,
          2008,
          2009,
          2010,
          2011,
          2012,
          2013,
          2014,
          2015,
          2016,
          2017,
          2018
         ],
         "xaxis": "x",
         "y": [
          22.6,
          21.1,
          22.6,
          21.8,
          21,
          19.9,
          18.5,
          19.7,
          19.9,
          19.1,
          20.1,
          19.5,
          18.7,
          18.9,
          19.3,
          19,
          17.5,
          16.7,
          16.9
         ],
         "yaxis": "y"
        },
        {
         "hovertemplate": "variable=natalidad_tierra_del_fuego<br>indice_tiempo=%{x}<br>value=%{y}<extra></extra>",
         "legendgroup": "natalidad_tierra_del_fuego",
         "line": {
          "color": "#FFA15A",
          "dash": "solid"
         },
         "marker": {
          "symbol": "circle"
         },
         "mode": "lines",
         "name": "natalidad_tierra_del_fuego",
         "orientation": "v",
         "showlegend": true,
         "type": "scatter",
         "x": [
          2000,
          2001,
          2002,
          2003,
          2004,
          2005,
          2006,
          2007,
          2008,
          2009,
          2010,
          2011,
          2012,
          2013,
          2014,
          2015,
          2016,
          2017,
          2018
         ],
         "xaxis": "x",
         "y": [
          19.9,
          17.9,
          17.2,
          20.8,
          19.5,
          20.7,
          20.1,
          20.8,
          20.8,
          20.2,
          18.8,
          18.6,
          19.2,
          19.8,
          20.5,
          19.9,
          18.1,
          16.9,
          16.3
         ],
         "yaxis": "y"
        }
       ],
       "layout": {
        "autosize": true,
        "legend": {
         "title": {
          "text": "variable"
         },
         "tracegroupgap": 0
        },
        "margin": {
         "t": 60
        },
        "template": {
         "data": {
          "bar": [
           {
            "error_x": {
             "color": "#2a3f5f"
            },
            "error_y": {
             "color": "#2a3f5f"
            },
            "marker": {
             "line": {
              "color": "#E5ECF6",
              "width": 0.5
             },
             "pattern": {
              "fillmode": "overlay",
              "size": 10,
              "solidity": 0.2
             }
            },
            "type": "bar"
           }
          ],
          "barpolar": [
           {
            "marker": {
             "line": {
              "color": "#E5ECF6",
              "width": 0.5
             },
             "pattern": {
              "fillmode": "overlay",
              "size": 10,
              "solidity": 0.2
             }
            },
            "type": "barpolar"
           }
          ],
          "carpet": [
           {
            "aaxis": {
             "endlinecolor": "#2a3f5f",
             "gridcolor": "white",
             "linecolor": "white",
             "minorgridcolor": "white",
             "startlinecolor": "#2a3f5f"
            },
            "baxis": {
             "endlinecolor": "#2a3f5f",
             "gridcolor": "white",
             "linecolor": "white",
             "minorgridcolor": "white",
             "startlinecolor": "#2a3f5f"
            },
            "type": "carpet"
           }
          ],
          "choropleth": [
           {
            "colorbar": {
             "outlinewidth": 0,
             "ticks": ""
            },
            "type": "choropleth"
           }
          ],
          "contour": [
           {
            "colorbar": {
             "outlinewidth": 0,
             "ticks": ""
            },
            "colorscale": [
             [
              0,
              "#0d0887"
             ],
             [
              0.1111111111111111,
              "#46039f"
             ],
             [
              0.2222222222222222,
              "#7201a8"
             ],
             [
              0.3333333333333333,
              "#9c179e"
             ],
             [
              0.4444444444444444,
              "#bd3786"
             ],
             [
              0.5555555555555556,
              "#d8576b"
             ],
             [
              0.6666666666666666,
              "#ed7953"
             ],
             [
              0.7777777777777778,
              "#fb9f3a"
             ],
             [
              0.8888888888888888,
              "#fdca26"
             ],
             [
              1,
              "#f0f921"
             ]
            ],
            "type": "contour"
           }
          ],
          "contourcarpet": [
           {
            "colorbar": {
             "outlinewidth": 0,
             "ticks": ""
            },
            "type": "contourcarpet"
           }
          ],
          "heatmap": [
           {
            "colorbar": {
             "outlinewidth": 0,
             "ticks": ""
            },
            "colorscale": [
             [
              0,
              "#0d0887"
             ],
             [
              0.1111111111111111,
              "#46039f"
             ],
             [
              0.2222222222222222,
              "#7201a8"
             ],
             [
              0.3333333333333333,
              "#9c179e"
             ],
             [
              0.4444444444444444,
              "#bd3786"
             ],
             [
              0.5555555555555556,
              "#d8576b"
             ],
             [
              0.6666666666666666,
              "#ed7953"
             ],
             [
              0.7777777777777778,
              "#fb9f3a"
             ],
             [
              0.8888888888888888,
              "#fdca26"
             ],
             [
              1,
              "#f0f921"
             ]
            ],
            "type": "heatmap"
           }
          ],
          "heatmapgl": [
           {
            "colorbar": {
             "outlinewidth": 0,
             "ticks": ""
            },
            "colorscale": [
             [
              0,
              "#0d0887"
             ],
             [
              0.1111111111111111,
              "#46039f"
             ],
             [
              0.2222222222222222,
              "#7201a8"
             ],
             [
              0.3333333333333333,
              "#9c179e"
             ],
             [
              0.4444444444444444,
              "#bd3786"
             ],
             [
              0.5555555555555556,
              "#d8576b"
             ],
             [
              0.6666666666666666,
              "#ed7953"
             ],
             [
              0.7777777777777778,
              "#fb9f3a"
             ],
             [
              0.8888888888888888,
              "#fdca26"
             ],
             [
              1,
              "#f0f921"
             ]
            ],
            "type": "heatmapgl"
           }
          ],
          "histogram": [
           {
            "marker": {
             "pattern": {
              "fillmode": "overlay",
              "size": 10,
              "solidity": 0.2
             }
            },
            "type": "histogram"
           }
          ],
          "histogram2d": [
           {
            "colorbar": {
             "outlinewidth": 0,
             "ticks": ""
            },
            "colorscale": [
             [
              0,
              "#0d0887"
             ],
             [
              0.1111111111111111,
              "#46039f"
             ],
             [
              0.2222222222222222,
              "#7201a8"
             ],
             [
              0.3333333333333333,
              "#9c179e"
             ],
             [
              0.4444444444444444,
              "#bd3786"
             ],
             [
              0.5555555555555556,
              "#d8576b"
             ],
             [
              0.6666666666666666,
              "#ed7953"
             ],
             [
              0.7777777777777778,
              "#fb9f3a"
             ],
             [
              0.8888888888888888,
              "#fdca26"
             ],
             [
              1,
              "#f0f921"
             ]
            ],
            "type": "histogram2d"
           }
          ],
          "histogram2dcontour": [
           {
            "colorbar": {
             "outlinewidth": 0,
             "ticks": ""
            },
            "colorscale": [
             [
              0,
              "#0d0887"
             ],
             [
              0.1111111111111111,
              "#46039f"
             ],
             [
              0.2222222222222222,
              "#7201a8"
             ],
             [
              0.3333333333333333,
              "#9c179e"
             ],
             [
              0.4444444444444444,
              "#bd3786"
             ],
             [
              0.5555555555555556,
              "#d8576b"
             ],
             [
              0.6666666666666666,
              "#ed7953"
             ],
             [
              0.7777777777777778,
              "#fb9f3a"
             ],
             [
              0.8888888888888888,
              "#fdca26"
             ],
             [
              1,
              "#f0f921"
             ]
            ],
            "type": "histogram2dcontour"
           }
          ],
          "mesh3d": [
           {
            "colorbar": {
             "outlinewidth": 0,
             "ticks": ""
            },
            "type": "mesh3d"
           }
          ],
          "parcoords": [
           {
            "line": {
             "colorbar": {
              "outlinewidth": 0,
              "ticks": ""
             }
            },
            "type": "parcoords"
           }
          ],
          "pie": [
           {
            "automargin": true,
            "type": "pie"
           }
          ],
          "scatter": [
           {
            "fillpattern": {
             "fillmode": "overlay",
             "size": 10,
             "solidity": 0.2
            },
            "type": "scatter"
           }
          ],
          "scatter3d": [
           {
            "line": {
             "colorbar": {
              "outlinewidth": 0,
              "ticks": ""
             }
            },
            "marker": {
             "colorbar": {
              "outlinewidth": 0,
              "ticks": ""
             }
            },
            "type": "scatter3d"
           }
          ],
          "scattercarpet": [
           {
            "marker": {
             "colorbar": {
              "outlinewidth": 0,
              "ticks": ""
             }
            },
            "type": "scattercarpet"
           }
          ],
          "scattergeo": [
           {
            "marker": {
             "colorbar": {
              "outlinewidth": 0,
              "ticks": ""
             }
            },
            "type": "scattergeo"
           }
          ],
          "scattergl": [
           {
            "marker": {
             "colorbar": {
              "outlinewidth": 0,
              "ticks": ""
             }
            },
            "type": "scattergl"
           }
          ],
          "scattermapbox": [
           {
            "marker": {
             "colorbar": {
              "outlinewidth": 0,
              "ticks": ""
             }
            },
            "type": "scattermapbox"
           }
          ],
          "scatterpolar": [
           {
            "marker": {
             "colorbar": {
              "outlinewidth": 0,
              "ticks": ""
             }
            },
            "type": "scatterpolar"
           }
          ],
          "scatterpolargl": [
           {
            "marker": {
             "colorbar": {
              "outlinewidth": 0,
              "ticks": ""
             }
            },
            "type": "scatterpolargl"
           }
          ],
          "scatterternary": [
           {
            "marker": {
             "colorbar": {
              "outlinewidth": 0,
              "ticks": ""
             }
            },
            "type": "scatterternary"
           }
          ],
          "surface": [
           {
            "colorbar": {
             "outlinewidth": 0,
             "ticks": ""
            },
            "colorscale": [
             [
              0,
              "#0d0887"
             ],
             [
              0.1111111111111111,
              "#46039f"
             ],
             [
              0.2222222222222222,
              "#7201a8"
             ],
             [
              0.3333333333333333,
              "#9c179e"
             ],
             [
              0.4444444444444444,
              "#bd3786"
             ],
             [
              0.5555555555555556,
              "#d8576b"
             ],
             [
              0.6666666666666666,
              "#ed7953"
             ],
             [
              0.7777777777777778,
              "#fb9f3a"
             ],
             [
              0.8888888888888888,
              "#fdca26"
             ],
             [
              1,
              "#f0f921"
             ]
            ],
            "type": "surface"
           }
          ],
          "table": [
           {
            "cells": {
             "fill": {
              "color": "#EBF0F8"
             },
             "line": {
              "color": "white"
             }
            },
            "header": {
             "fill": {
              "color": "#C8D4E3"
             },
             "line": {
              "color": "white"
             }
            },
            "type": "table"
           }
          ]
         },
         "layout": {
          "annotationdefaults": {
           "arrowcolor": "#2a3f5f",
           "arrowhead": 0,
           "arrowwidth": 1
          },
          "autotypenumbers": "strict",
          "coloraxis": {
           "colorbar": {
            "outlinewidth": 0,
            "ticks": ""
           }
          },
          "colorscale": {
           "diverging": [
            [
             0,
             "#8e0152"
            ],
            [
             0.1,
             "#c51b7d"
            ],
            [
             0.2,
             "#de77ae"
            ],
            [
             0.3,
             "#f1b6da"
            ],
            [
             0.4,
             "#fde0ef"
            ],
            [
             0.5,
             "#f7f7f7"
            ],
            [
             0.6,
             "#e6f5d0"
            ],
            [
             0.7,
             "#b8e186"
            ],
            [
             0.8,
             "#7fbc41"
            ],
            [
             0.9,
             "#4d9221"
            ],
            [
             1,
             "#276419"
            ]
           ],
           "sequential": [
            [
             0,
             "#0d0887"
            ],
            [
             0.1111111111111111,
             "#46039f"
            ],
            [
             0.2222222222222222,
             "#7201a8"
            ],
            [
             0.3333333333333333,
             "#9c179e"
            ],
            [
             0.4444444444444444,
             "#bd3786"
            ],
            [
             0.5555555555555556,
             "#d8576b"
            ],
            [
             0.6666666666666666,
             "#ed7953"
            ],
            [
             0.7777777777777778,
             "#fb9f3a"
            ],
            [
             0.8888888888888888,
             "#fdca26"
            ],
            [
             1,
             "#f0f921"
            ]
           ],
           "sequentialminus": [
            [
             0,
             "#0d0887"
            ],
            [
             0.1111111111111111,
             "#46039f"
            ],
            [
             0.2222222222222222,
             "#7201a8"
            ],
            [
             0.3333333333333333,
             "#9c179e"
            ],
            [
             0.4444444444444444,
             "#bd3786"
            ],
            [
             0.5555555555555556,
             "#d8576b"
            ],
            [
             0.6666666666666666,
             "#ed7953"
            ],
            [
             0.7777777777777778,
             "#fb9f3a"
            ],
            [
             0.8888888888888888,
             "#fdca26"
            ],
            [
             1,
             "#f0f921"
            ]
           ]
          },
          "colorway": [
           "#636efa",
           "#EF553B",
           "#00cc96",
           "#ab63fa",
           "#FFA15A",
           "#19d3f3",
           "#FF6692",
           "#B6E880",
           "#FF97FF",
           "#FECB52"
          ],
          "font": {
           "color": "#2a3f5f"
          },
          "geo": {
           "bgcolor": "white",
           "lakecolor": "white",
           "landcolor": "#E5ECF6",
           "showlakes": true,
           "showland": true,
           "subunitcolor": "white"
          },
          "hoverlabel": {
           "align": "left"
          },
          "hovermode": "closest",
          "mapbox": {
           "style": "light"
          },
          "paper_bgcolor": "white",
          "plot_bgcolor": "#E5ECF6",
          "polar": {
           "angularaxis": {
            "gridcolor": "white",
            "linecolor": "white",
            "ticks": ""
           },
           "bgcolor": "#E5ECF6",
           "radialaxis": {
            "gridcolor": "white",
            "linecolor": "white",
            "ticks": ""
           }
          },
          "scene": {
           "xaxis": {
            "backgroundcolor": "#E5ECF6",
            "gridcolor": "white",
            "gridwidth": 2,
            "linecolor": "white",
            "showbackground": true,
            "ticks": "",
            "zerolinecolor": "white"
           },
           "yaxis": {
            "backgroundcolor": "#E5ECF6",
            "gridcolor": "white",
            "gridwidth": 2,
            "linecolor": "white",
            "showbackground": true,
            "ticks": "",
            "zerolinecolor": "white"
           },
           "zaxis": {
            "backgroundcolor": "#E5ECF6",
            "gridcolor": "white",
            "gridwidth": 2,
            "linecolor": "white",
            "showbackground": true,
            "ticks": "",
            "zerolinecolor": "white"
           }
          },
          "shapedefaults": {
           "line": {
            "color": "#2a3f5f"
           }
          },
          "ternary": {
           "aaxis": {
            "gridcolor": "white",
            "linecolor": "white",
            "ticks": ""
           },
           "baxis": {
            "gridcolor": "white",
            "linecolor": "white",
            "ticks": ""
           },
           "bgcolor": "#E5ECF6",
           "caxis": {
            "gridcolor": "white",
            "linecolor": "white",
            "ticks": ""
           }
          },
          "title": {
           "x": 0.05
          },
          "xaxis": {
           "automargin": true,
           "gridcolor": "white",
           "linecolor": "white",
           "ticks": "",
           "title": {
            "standoff": 15
           },
           "zerolinecolor": "white",
           "zerolinewidth": 2
          },
          "yaxis": {
           "automargin": true,
           "gridcolor": "white",
           "linecolor": "white",
           "ticks": "",
           "title": {
            "standoff": 15
           },
           "zerolinecolor": "white",
           "zerolinewidth": 2
          }
         }
        },
        "xaxis": {
         "anchor": "y",
         "autorange": true,
         "domain": [
          0,
          1
         ],
         "range": [
          2000,
          2018
         ],
         "title": {
          "text": "indice_tiempo"
         },
         "type": "linear"
        },
        "yaxis": {
         "anchor": "x",
         "autorange": true,
         "domain": [
          0,
          1
         ],
         "range": [
          10.772222222222222,
          27.32777777777778
         ],
         "title": {
          "text": "value"
         },
         "type": "linear"
        }
       }
      },
      "text/html": [
       "<div>                            <div id=\"f70d7965-66c0-46cb-bbe3-f903d2f218ac\" class=\"plotly-graph-div\" style=\"height:525px; width:100%;\"></div>            <script type=\"text/javascript\">                require([\"plotly\"], function(Plotly) {                    window.PLOTLYENV=window.PLOTLYENV || {};                                    if (document.getElementById(\"f70d7965-66c0-46cb-bbe3-f903d2f218ac\")) {                    Plotly.newPlot(                        \"f70d7965-66c0-46cb-bbe3-f903d2f218ac\",                        [{\"hovertemplate\":\"variable=natalidad_argentina\\u003cbr\\u003eindice_tiempo=%{x}\\u003cbr\\u003evalue=%{y}\\u003cextra\\u003e\\u003c\\u002fextra\\u003e\",\"legendgroup\":\"natalidad_argentina\",\"line\":{\"color\":\"#636efa\",\"dash\":\"solid\"},\"marker\":{\"symbol\":\"circle\"},\"mode\":\"lines\",\"name\":\"natalidad_argentina\",\"orientation\":\"v\",\"showlegend\":true,\"x\":[2000,2001,2002,2003,2004,2005,2006,2007,2008,2009,2010,2011,2012,2013,2014,2015,2016,2017,2018],\"xaxis\":\"x\",\"y\":[19.0,18.2,18.3,18.4,19.3,18.5,17.9,17.8,18.8,18.6,18.7,18.5,17.9,17.9,18.2,17.9,16.7,16.0,15.4],\"yaxis\":\"y\",\"type\":\"scatter\"},{\"hovertemplate\":\"variable=natalidad_ciudad_autonoma_de_buenos_aires\\u003cbr\\u003eindice_tiempo=%{x}\\u003cbr\\u003evalue=%{y}\\u003cextra\\u003e\\u003c\\u002fextra\\u003e\",\"legendgroup\":\"natalidad_ciudad_autonoma_de_buenos_aires\",\"line\":{\"color\":\"#EF553B\",\"dash\":\"solid\"},\"marker\":{\"symbol\":\"circle\"},\"mode\":\"lines\",\"name\":\"natalidad_ciudad_autonoma_de_buenos_aires\",\"orientation\":\"v\",\"showlegend\":true,\"x\":[2000,2001,2002,2003,2004,2005,2006,2007,2008,2009,2010,2011,2012,2013,2014,2015,2016,2017,2018],\"xaxis\":\"x\",\"y\":[14.3,13.9,13.6,14.2,14.9,14.5,14.6,14.1,15.1,14.6,14.9,14.8,14.2,14.3,14.3,13.7,13.1,11.7,11.6],\"yaxis\":\"y\",\"type\":\"scatter\"},{\"hovertemplate\":\"variable=natalidad_buenos_aires\\u003cbr\\u003eindice_tiempo=%{x}\\u003cbr\\u003evalue=%{y}\\u003cextra\\u003e\\u003c\\u002fextra\\u003e\",\"legendgroup\":\"natalidad_buenos_aires\",\"line\":{\"color\":\"#00cc96\",\"dash\":\"solid\"},\"marker\":{\"symbol\":\"circle\"},\"mode\":\"lines\",\"name\":\"natalidad_buenos_aires\",\"orientation\":\"v\",\"showlegend\":true,\"x\":[2000,2001,2002,2003,2004,2005,2006,2007,2008,2009,2010,2011,2012,2013,2014,2015,2016,2017,2018],\"xaxis\":\"x\",\"y\":[17.5,16.9,17.0,17.3,18.5,17.9,17.7,17.7,18.6,18.4,18.9,18.8,18.1,17.8,17.9,17.3,16.2,15.4,14.6],\"yaxis\":\"y\",\"type\":\"scatter\"},{\"hovertemplate\":\"variable=natalidad_catamarca\\u003cbr\\u003eindice_tiempo=%{x}\\u003cbr\\u003evalue=%{y}\\u003cextra\\u003e\\u003c\\u002fextra\\u003e\",\"legendgroup\":\"natalidad_catamarca\",\"line\":{\"color\":\"#ab63fa\",\"dash\":\"solid\"},\"marker\":{\"symbol\":\"circle\"},\"mode\":\"lines\",\"name\":\"natalidad_catamarca\",\"orientation\":\"v\",\"showlegend\":true,\"x\":[2000,2001,2002,2003,2004,2005,2006,2007,2008,2009,2010,2011,2012,2013,2014,2015,2016,2017,2018],\"xaxis\":\"x\",\"y\":[25.8,24.9,24.4,22.5,20.6,19.7,18.3,18.3,18.6,17.4,16.9,16.0,15.0,16.9,17.4,17.2,16.7,15.8,16.4],\"yaxis\":\"y\",\"type\":\"scatter\"},{\"hovertemplate\":\"variable=natalidad_cordoba\\u003cbr\\u003eindice_tiempo=%{x}\\u003cbr\\u003evalue=%{y}\\u003cextra\\u003e\\u003c\\u002fextra\\u003e\",\"legendgroup\":\"natalidad_cordoba\",\"line\":{\"color\":\"#FFA15A\",\"dash\":\"solid\"},\"marker\":{\"symbol\":\"circle\"},\"mode\":\"lines\",\"name\":\"natalidad_cordoba\",\"orientation\":\"v\",\"showlegend\":true,\"x\":[2000,2001,2002,2003,2004,2005,2006,2007,2008,2009,2010,2011,2012,2013,2014,2015,2016,2017,2018],\"xaxis\":\"x\",\"y\":[17.2,15.9,16.6,17.5,17.8,17.1,16.5,16.3,17.4,17.4,17.2,16.9,16.5,16.0,16.8,16.4,15.7,15.0,14.5],\"yaxis\":\"y\",\"type\":\"scatter\"},{\"hovertemplate\":\"variable=natalidad_corrientes\\u003cbr\\u003eindice_tiempo=%{x}\\u003cbr\\u003evalue=%{y}\\u003cextra\\u003e\\u003c\\u002fextra\\u003e\",\"legendgroup\":\"natalidad_corrientes\",\"line\":{\"color\":\"#19d3f3\",\"dash\":\"solid\"},\"marker\":{\"symbol\":\"circle\"},\"mode\":\"lines\",\"name\":\"natalidad_corrientes\",\"orientation\":\"v\",\"showlegend\":true,\"x\":[2000,2001,2002,2003,2004,2005,2006,2007,2008,2009,2010,2011,2012,2013,2014,2015,2016,2017,2018],\"xaxis\":\"x\",\"y\":[22.7,21.9,23.3,22.2,22.7,20.2,18.7,18.9,19.7,19.9,19.8,19.9,18.6,19.0,19.8,19.3,18.5,18.3,18.0],\"yaxis\":\"y\",\"type\":\"scatter\"},{\"hovertemplate\":\"variable=natalidad_chaco\\u003cbr\\u003eindice_tiempo=%{x}\\u003cbr\\u003evalue=%{y}\\u003cextra\\u003e\\u003c\\u002fextra\\u003e\",\"legendgroup\":\"natalidad_chaco\",\"line\":{\"color\":\"#FF6692\",\"dash\":\"solid\"},\"marker\":{\"symbol\":\"circle\"},\"mode\":\"lines\",\"name\":\"natalidad_chaco\",\"orientation\":\"v\",\"showlegend\":true,\"x\":[2000,2001,2002,2003,2004,2005,2006,2007,2008,2009,2010,2011,2012,2013,2014,2015,2016,2017,2018],\"xaxis\":\"x\",\"y\":[25.8,22.2,24.9,20.9,25.1,22.6,19.6,18.4,20.8,20.4,21.2,22.6,20.2,19.9,20.2,22.7,19.1,19.8,21.0],\"yaxis\":\"y\",\"type\":\"scatter\"},{\"hovertemplate\":\"variable=natalidad_chubut\\u003cbr\\u003eindice_tiempo=%{x}\\u003cbr\\u003evalue=%{y}\\u003cextra\\u003e\\u003c\\u002fextra\\u003e\",\"legendgroup\":\"natalidad_chubut\",\"line\":{\"color\":\"#B6E880\",\"dash\":\"solid\"},\"marker\":{\"symbol\":\"circle\"},\"mode\":\"lines\",\"name\":\"natalidad_chubut\",\"orientation\":\"v\",\"showlegend\":true,\"x\":[2000,2001,2002,2003,2004,2005,2006,2007,2008,2009,2010,2011,2012,2013,2014,2015,2016,2017,2018],\"xaxis\":\"x\",\"y\":[19.4,18.4,17.1,18.7,19.3,19.2,20.0,20.2,21.4,21.3,21.2,20.7,20.2,18.5,17.8,17.4,16.6,15.3,14.3],\"yaxis\":\"y\",\"type\":\"scatter\"},{\"hovertemplate\":\"variable=natalidad_entre_rios\\u003cbr\\u003eindice_tiempo=%{x}\\u003cbr\\u003evalue=%{y}\\u003cextra\\u003e\\u003c\\u002fextra\\u003e\",\"legendgroup\":\"natalidad_entre_rios\",\"line\":{\"color\":\"#FF97FF\",\"dash\":\"solid\"},\"marker\":{\"symbol\":\"circle\"},\"mode\":\"lines\",\"name\":\"natalidad_entre_rios\",\"orientation\":\"v\",\"showlegend\":true,\"x\":[2000,2001,2002,2003,2004,2005,2006,2007,2008,2009,2010,2011,2012,2013,2014,2015,2016,2017,2018],\"xaxis\":\"x\",\"y\":[21.3,20.5,19.5,19.8,19.5,19.0,17.2,16.9,17.2,17.5,17.4,17.2,16.7,17.3,17.8,17.8,16.6,16.3,15.6],\"yaxis\":\"y\",\"type\":\"scatter\"},{\"hovertemplate\":\"variable=natalidad_formosa\\u003cbr\\u003eindice_tiempo=%{x}\\u003cbr\\u003evalue=%{y}\\u003cextra\\u003e\\u003c\\u002fextra\\u003e\",\"legendgroup\":\"natalidad_formosa\",\"line\":{\"color\":\"#FECB52\",\"dash\":\"solid\"},\"marker\":{\"symbol\":\"circle\"},\"mode\":\"lines\",\"name\":\"natalidad_formosa\",\"orientation\":\"v\",\"showlegend\":true,\"x\":[2000,2001,2002,2003,2004,2005,2006,2007,2008,2009,2010,2011,2012,2013,2014,2015,2016,2017,2018],\"xaxis\":\"x\",\"y\":[25.7,22.4,25.1,25.0,26.5,23.5,21.4,21.1,22.6,21.9,21.1,21.6,21.0,21.0,21.8,21.3,19.4,19.6,19.8],\"yaxis\":\"y\",\"type\":\"scatter\"},{\"hovertemplate\":\"variable=natalidad_jujuy\\u003cbr\\u003eindice_tiempo=%{x}\\u003cbr\\u003evalue=%{y}\\u003cextra\\u003e\\u003c\\u002fextra\\u003e\",\"legendgroup\":\"natalidad_jujuy\",\"line\":{\"color\":\"#636efa\",\"dash\":\"solid\"},\"marker\":{\"symbol\":\"circle\"},\"mode\":\"lines\",\"name\":\"natalidad_jujuy\",\"orientation\":\"v\",\"showlegend\":true,\"x\":[2000,2001,2002,2003,2004,2005,2006,2007,2008,2009,2010,2011,2012,2013,2014,2015,2016,2017,2018],\"xaxis\":\"x\",\"y\":[22.6,23.1,22.1,20.3,21.3,19.9,18.4,18.6,19.1,19.2,19.2,19.6,18.0,18.5,19.5,18.2,16.8,15.8,15.7],\"yaxis\":\"y\",\"type\":\"scatter\"},{\"hovertemplate\":\"variable=natalidad_la_pampa\\u003cbr\\u003eindice_tiempo=%{x}\\u003cbr\\u003evalue=%{y}\\u003cextra\\u003e\\u003c\\u002fextra\\u003e\",\"legendgroup\":\"natalidad_la_pampa\",\"line\":{\"color\":\"#EF553B\",\"dash\":\"solid\"},\"marker\":{\"symbol\":\"circle\"},\"mode\":\"lines\",\"name\":\"natalidad_la_pampa\",\"orientation\":\"v\",\"showlegend\":true,\"x\":[2000,2001,2002,2003,2004,2005,2006,2007,2008,2009,2010,2011,2012,2013,2014,2015,2016,2017,2018],\"xaxis\":\"x\",\"y\":[18.1,17.2,16.7,18.3,17.4,16.9,16.5,16.2,16.5,16.3,16.2,15.6,15.4,16.8,16.5,15.17,15.1,14.3,13.5],\"yaxis\":\"y\",\"type\":\"scatter\"},{\"hovertemplate\":\"variable=natalidad_la_rioja\\u003cbr\\u003eindice_tiempo=%{x}\\u003cbr\\u003evalue=%{y}\\u003cextra\\u003e\\u003c\\u002fextra\\u003e\",\"legendgroup\":\"natalidad_la_rioja\",\"line\":{\"color\":\"#00cc96\",\"dash\":\"solid\"},\"marker\":{\"symbol\":\"circle\"},\"mode\":\"lines\",\"name\":\"natalidad_la_rioja\",\"orientation\":\"v\",\"showlegend\":true,\"x\":[2000,2001,2002,2003,2004,2005,2006,2007,2008,2009,2010,2011,2012,2013,2014,2015,2016,2017,2018],\"xaxis\":\"x\",\"y\":[22.6,20.5,21.4,21.2,21.1,20.8,19.0,18.4,19.0,17.9,17.2,17.4,17.0,17.5,17.3,17.1,16.6,15.6,14.8],\"yaxis\":\"y\",\"type\":\"scatter\"},{\"hovertemplate\":\"variable=natalidad_mendoza\\u003cbr\\u003eindice_tiempo=%{x}\\u003cbr\\u003evalue=%{y}\\u003cextra\\u003e\\u003c\\u002fextra\\u003e\",\"legendgroup\":\"natalidad_mendoza\",\"line\":{\"color\":\"#ab63fa\",\"dash\":\"solid\"},\"marker\":{\"symbol\":\"circle\"},\"mode\":\"lines\",\"name\":\"natalidad_mendoza\",\"orientation\":\"v\",\"showlegend\":true,\"x\":[2000,2001,2002,2003,2004,2005,2006,2007,2008,2009,2010,2011,2012,2013,2014,2015,2016,2017,2018],\"xaxis\":\"x\",\"y\":[19.2,19.1,16.9,17.5,18.4,18.8,19.0,19.3,20.2,19.7,19.3,19.2,18.4,18.7,19.4,18.8,17.5,16.3,15.4],\"yaxis\":\"y\",\"type\":\"scatter\"},{\"hovertemplate\":\"variable=natalidad_misiones\\u003cbr\\u003eindice_tiempo=%{x}\\u003cbr\\u003evalue=%{y}\\u003cextra\\u003e\\u003c\\u002fextra\\u003e\",\"legendgroup\":\"natalidad_misiones\",\"line\":{\"color\":\"#FFA15A\",\"dash\":\"solid\"},\"marker\":{\"symbol\":\"circle\"},\"mode\":\"lines\",\"name\":\"natalidad_misiones\",\"orientation\":\"v\",\"showlegend\":true,\"x\":[2000,2001,2002,2003,2004,2005,2006,2007,2008,2009,2010,2011,2012,2013,2014,2015,2016,2017,2018],\"xaxis\":\"x\",\"y\":[25.8,24.2,22.9,24.1,26.4,23.0,19.9,20.4,23.1,23.7,22.2,19.3,22.3,22.0,23.4,22.8,21.0,21.1,20.2],\"yaxis\":\"y\",\"type\":\"scatter\"},{\"hovertemplate\":\"variable=natalidad_neuquen\\u003cbr\\u003eindice_tiempo=%{x}\\u003cbr\\u003evalue=%{y}\\u003cextra\\u003e\\u003c\\u002fextra\\u003e\",\"legendgroup\":\"natalidad_neuquen\",\"line\":{\"color\":\"#19d3f3\",\"dash\":\"solid\"},\"marker\":{\"symbol\":\"circle\"},\"mode\":\"lines\",\"name\":\"natalidad_neuquen\",\"orientation\":\"v\",\"showlegend\":true,\"x\":[2000,2001,2002,2003,2004,2005,2006,2007,2008,2009,2010,2011,2012,2013,2014,2015,2016,2017,2018],\"xaxis\":\"x\",\"y\":[17.9,16.8,16.1,19.4,19.8,20.0,20.5,20.5,21.0,20.9,21.6,19.6,19.1,18.7,19.5,19.1,17.9,16.3,15.6],\"yaxis\":\"y\",\"type\":\"scatter\"},{\"hovertemplate\":\"variable=natalidad_rio_negro\\u003cbr\\u003eindice_tiempo=%{x}\\u003cbr\\u003evalue=%{y}\\u003cextra\\u003e\\u003c\\u002fextra\\u003e\",\"legendgroup\":\"natalidad_rio_negro\",\"line\":{\"color\":\"#FF6692\",\"dash\":\"solid\"},\"marker\":{\"symbol\":\"circle\"},\"mode\":\"lines\",\"name\":\"natalidad_rio_negro\",\"orientation\":\"v\",\"showlegend\":true,\"x\":[2000,2001,2002,2003,2004,2005,2006,2007,2008,2009,2010,2011,2012,2013,2014,2015,2016,2017,2018],\"xaxis\":\"x\",\"y\":[18.9,17.8,17.3,18.6,18.3,18.7,18.6,18.9,19.9,19.6,20.0,19.8,19.4,17.9,17.9,18.2,16.8,16.0,14.6],\"yaxis\":\"y\",\"type\":\"scatter\"},{\"hovertemplate\":\"variable=natalidad_salta\\u003cbr\\u003eindice_tiempo=%{x}\\u003cbr\\u003evalue=%{y}\\u003cextra\\u003e\\u003c\\u002fextra\\u003e\",\"legendgroup\":\"natalidad_salta\",\"line\":{\"color\":\"#B6E880\",\"dash\":\"solid\"},\"marker\":{\"symbol\":\"circle\"},\"mode\":\"lines\",\"name\":\"natalidad_salta\",\"orientation\":\"v\",\"showlegend\":true,\"x\":[2000,2001,2002,2003,2004,2005,2006,2007,2008,2009,2010,2011,2012,2013,2014,2015,2016,2017,2018],\"xaxis\":\"x\",\"y\":[24.0,24.2,24.7,22.0,23.9,22.5,21.0,20.6,21.4,21.0,21.9,21.7,20.2,21.1,21.6,21.3,19.4,19.7,18.2],\"yaxis\":\"y\",\"type\":\"scatter\"},{\"hovertemplate\":\"variable=natalidad_san_juan\\u003cbr\\u003eindice_tiempo=%{x}\\u003cbr\\u003evalue=%{y}\\u003cextra\\u003e\\u003c\\u002fextra\\u003e\",\"legendgroup\":\"natalidad_san_juan\",\"line\":{\"color\":\"#FF97FF\",\"dash\":\"solid\"},\"marker\":{\"symbol\":\"circle\"},\"mode\":\"lines\",\"name\":\"natalidad_san_juan\",\"orientation\":\"v\",\"showlegend\":true,\"x\":[2000,2001,2002,2003,2004,2005,2006,2007,2008,2009,2010,2011,2012,2013,2014,2015,2016,2017,2018],\"xaxis\":\"x\",\"y\":[22.7,23.7,22.3,22.2,22.5,21.4,20.7,20.8,20.7,20.6,19.8,19.9,19.6,20.6,21.3,20.5,18.8,18.1,17.7],\"yaxis\":\"y\",\"type\":\"scatter\"},{\"hovertemplate\":\"variable=natalidad_san_luis\\u003cbr\\u003eindice_tiempo=%{x}\\u003cbr\\u003evalue=%{y}\\u003cextra\\u003e\\u003c\\u002fextra\\u003e\",\"legendgroup\":\"natalidad_san_luis\",\"line\":{\"color\":\"#FECB52\",\"dash\":\"solid\"},\"marker\":{\"symbol\":\"circle\"},\"mode\":\"lines\",\"name\":\"natalidad_san_luis\",\"orientation\":\"v\",\"showlegend\":true,\"x\":[2000,2001,2002,2003,2004,2005,2006,2007,2008,2009,2010,2011,2012,2013,2014,2015,2016,2017,2018],\"xaxis\":\"x\",\"y\":[22.3,22.3,22.0,21.7,21.9,19.9,20.2,19.3,19.3,18.2,17.4,16.7,16.0,16.7,16.9,17.0,15.5,14.8,14.2],\"yaxis\":\"y\",\"type\":\"scatter\"},{\"hovertemplate\":\"variable=natalidad_santa_cruz\\u003cbr\\u003eindice_tiempo=%{x}\\u003cbr\\u003evalue=%{y}\\u003cextra\\u003e\\u003c\\u002fextra\\u003e\",\"legendgroup\":\"natalidad_santa_cruz\",\"line\":{\"color\":\"#636efa\",\"dash\":\"solid\"},\"marker\":{\"symbol\":\"circle\"},\"mode\":\"lines\",\"name\":\"natalidad_santa_cruz\",\"orientation\":\"v\",\"showlegend\":true,\"x\":[2000,2001,2002,2003,2004,2005,2006,2007,2008,2009,2010,2011,2012,2013,2014,2015,2016,2017,2018],\"xaxis\":\"x\",\"y\":[19.6,19.8,19.2,21.9,22.4,22.9,23.5,23.8,25.0,25.2,26.0,25.0,24.0,19.7,19.8,19.8,18.6,17.0,14.7],\"yaxis\":\"y\",\"type\":\"scatter\"},{\"hovertemplate\":\"variable=natalidad_santa_fe\\u003cbr\\u003eindice_tiempo=%{x}\\u003cbr\\u003evalue=%{y}\\u003cextra\\u003e\\u003c\\u002fextra\\u003e\",\"legendgroup\":\"natalidad_santa_fe\",\"line\":{\"color\":\"#EF553B\",\"dash\":\"solid\"},\"marker\":{\"symbol\":\"circle\"},\"mode\":\"lines\",\"name\":\"natalidad_santa_fe\",\"orientation\":\"v\",\"showlegend\":true,\"x\":[2000,2001,2002,2003,2004,2005,2006,2007,2008,2009,2010,2011,2012,2013,2014,2015,2016,2017,2018],\"xaxis\":\"x\",\"y\":[16.9,16.2,16.7,17.3,17.6,16.3,15.8,15.7,16.9,16.5,16.2,16.4,16.3,16.9,17.2,16.9,16.3,15.4,14.8],\"yaxis\":\"y\",\"type\":\"scatter\"},{\"hovertemplate\":\"variable=natalidad_santiago_del_estero\\u003cbr\\u003eindice_tiempo=%{x}\\u003cbr\\u003evalue=%{y}\\u003cextra\\u003e\\u003c\\u002fextra\\u003e\",\"legendgroup\":\"natalidad_santiago_del_estero\",\"line\":{\"color\":\"#00cc96\",\"dash\":\"solid\"},\"marker\":{\"symbol\":\"circle\"},\"mode\":\"lines\",\"name\":\"natalidad_santiago_del_estero\",\"orientation\":\"v\",\"showlegend\":true,\"x\":[2000,2001,2002,2003,2004,2005,2006,2007,2008,2009,2010,2011,2012,2013,2014,2015,2016,2017,2018],\"xaxis\":\"x\",\"y\":[21.6,21.1,22.1,17.8,19.7,21.0,20.0,19.4,20.5,21.9,19.9,20.2,17.9,18.8,19.8,20.5,18.7,18.8,18.9],\"yaxis\":\"y\",\"type\":\"scatter\"},{\"hovertemplate\":\"variable=natalidad_tucuman\\u003cbr\\u003eindice_tiempo=%{x}\\u003cbr\\u003evalue=%{y}\\u003cextra\\u003e\\u003c\\u002fextra\\u003e\",\"legendgroup\":\"natalidad_tucuman\",\"line\":{\"color\":\"#ab63fa\",\"dash\":\"solid\"},\"marker\":{\"symbol\":\"circle\"},\"mode\":\"lines\",\"name\":\"natalidad_tucuman\",\"orientation\":\"v\",\"showlegend\":true,\"x\":[2000,2001,2002,2003,2004,2005,2006,2007,2008,2009,2010,2011,2012,2013,2014,2015,2016,2017,2018],\"xaxis\":\"x\",\"y\":[22.6,21.1,22.6,21.8,21.0,19.9,18.5,19.7,19.9,19.1,20.1,19.5,18.7,18.9,19.3,19.0,17.5,16.7,16.9],\"yaxis\":\"y\",\"type\":\"scatter\"},{\"hovertemplate\":\"variable=natalidad_tierra_del_fuego\\u003cbr\\u003eindice_tiempo=%{x}\\u003cbr\\u003evalue=%{y}\\u003cextra\\u003e\\u003c\\u002fextra\\u003e\",\"legendgroup\":\"natalidad_tierra_del_fuego\",\"line\":{\"color\":\"#FFA15A\",\"dash\":\"solid\"},\"marker\":{\"symbol\":\"circle\"},\"mode\":\"lines\",\"name\":\"natalidad_tierra_del_fuego\",\"orientation\":\"v\",\"showlegend\":true,\"x\":[2000,2001,2002,2003,2004,2005,2006,2007,2008,2009,2010,2011,2012,2013,2014,2015,2016,2017,2018],\"xaxis\":\"x\",\"y\":[19.9,17.9,17.2,20.8,19.5,20.7,20.1,20.8,20.8,20.2,18.8,18.6,19.2,19.8,20.5,19.9,18.1,16.9,16.3],\"yaxis\":\"y\",\"type\":\"scatter\"}],                        {\"template\":{\"data\":{\"histogram2dcontour\":[{\"type\":\"histogram2dcontour\",\"colorbar\":{\"outlinewidth\":0,\"ticks\":\"\"},\"colorscale\":[[0.0,\"#0d0887\"],[0.1111111111111111,\"#46039f\"],[0.2222222222222222,\"#7201a8\"],[0.3333333333333333,\"#9c179e\"],[0.4444444444444444,\"#bd3786\"],[0.5555555555555556,\"#d8576b\"],[0.6666666666666666,\"#ed7953\"],[0.7777777777777778,\"#fb9f3a\"],[0.8888888888888888,\"#fdca26\"],[1.0,\"#f0f921\"]]}],\"choropleth\":[{\"type\":\"choropleth\",\"colorbar\":{\"outlinewidth\":0,\"ticks\":\"\"}}],\"histogram2d\":[{\"type\":\"histogram2d\",\"colorbar\":{\"outlinewidth\":0,\"ticks\":\"\"},\"colorscale\":[[0.0,\"#0d0887\"],[0.1111111111111111,\"#46039f\"],[0.2222222222222222,\"#7201a8\"],[0.3333333333333333,\"#9c179e\"],[0.4444444444444444,\"#bd3786\"],[0.5555555555555556,\"#d8576b\"],[0.6666666666666666,\"#ed7953\"],[0.7777777777777778,\"#fb9f3a\"],[0.8888888888888888,\"#fdca26\"],[1.0,\"#f0f921\"]]}],\"heatmap\":[{\"type\":\"heatmap\",\"colorbar\":{\"outlinewidth\":0,\"ticks\":\"\"},\"colorscale\":[[0.0,\"#0d0887\"],[0.1111111111111111,\"#46039f\"],[0.2222222222222222,\"#7201a8\"],[0.3333333333333333,\"#9c179e\"],[0.4444444444444444,\"#bd3786\"],[0.5555555555555556,\"#d8576b\"],[0.6666666666666666,\"#ed7953\"],[0.7777777777777778,\"#fb9f3a\"],[0.8888888888888888,\"#fdca26\"],[1.0,\"#f0f921\"]]}],\"heatmapgl\":[{\"type\":\"heatmapgl\",\"colorbar\":{\"outlinewidth\":0,\"ticks\":\"\"},\"colorscale\":[[0.0,\"#0d0887\"],[0.1111111111111111,\"#46039f\"],[0.2222222222222222,\"#7201a8\"],[0.3333333333333333,\"#9c179e\"],[0.4444444444444444,\"#bd3786\"],[0.5555555555555556,\"#d8576b\"],[0.6666666666666666,\"#ed7953\"],[0.7777777777777778,\"#fb9f3a\"],[0.8888888888888888,\"#fdca26\"],[1.0,\"#f0f921\"]]}],\"contourcarpet\":[{\"type\":\"contourcarpet\",\"colorbar\":{\"outlinewidth\":0,\"ticks\":\"\"}}],\"contour\":[{\"type\":\"contour\",\"colorbar\":{\"outlinewidth\":0,\"ticks\":\"\"},\"colorscale\":[[0.0,\"#0d0887\"],[0.1111111111111111,\"#46039f\"],[0.2222222222222222,\"#7201a8\"],[0.3333333333333333,\"#9c179e\"],[0.4444444444444444,\"#bd3786\"],[0.5555555555555556,\"#d8576b\"],[0.6666666666666666,\"#ed7953\"],[0.7777777777777778,\"#fb9f3a\"],[0.8888888888888888,\"#fdca26\"],[1.0,\"#f0f921\"]]}],\"surface\":[{\"type\":\"surface\",\"colorbar\":{\"outlinewidth\":0,\"ticks\":\"\"},\"colorscale\":[[0.0,\"#0d0887\"],[0.1111111111111111,\"#46039f\"],[0.2222222222222222,\"#7201a8\"],[0.3333333333333333,\"#9c179e\"],[0.4444444444444444,\"#bd3786\"],[0.5555555555555556,\"#d8576b\"],[0.6666666666666666,\"#ed7953\"],[0.7777777777777778,\"#fb9f3a\"],[0.8888888888888888,\"#fdca26\"],[1.0,\"#f0f921\"]]}],\"mesh3d\":[{\"type\":\"mesh3d\",\"colorbar\":{\"outlinewidth\":0,\"ticks\":\"\"}}],\"scatter\":[{\"fillpattern\":{\"fillmode\":\"overlay\",\"size\":10,\"solidity\":0.2},\"type\":\"scatter\"}],\"parcoords\":[{\"type\":\"parcoords\",\"line\":{\"colorbar\":{\"outlinewidth\":0,\"ticks\":\"\"}}}],\"scatterpolargl\":[{\"type\":\"scatterpolargl\",\"marker\":{\"colorbar\":{\"outlinewidth\":0,\"ticks\":\"\"}}}],\"bar\":[{\"error_x\":{\"color\":\"#2a3f5f\"},\"error_y\":{\"color\":\"#2a3f5f\"},\"marker\":{\"line\":{\"color\":\"#E5ECF6\",\"width\":0.5},\"pattern\":{\"fillmode\":\"overlay\",\"size\":10,\"solidity\":0.2}},\"type\":\"bar\"}],\"scattergeo\":[{\"type\":\"scattergeo\",\"marker\":{\"colorbar\":{\"outlinewidth\":0,\"ticks\":\"\"}}}],\"scatterpolar\":[{\"type\":\"scatterpolar\",\"marker\":{\"colorbar\":{\"outlinewidth\":0,\"ticks\":\"\"}}}],\"histogram\":[{\"marker\":{\"pattern\":{\"fillmode\":\"overlay\",\"size\":10,\"solidity\":0.2}},\"type\":\"histogram\"}],\"scattergl\":[{\"type\":\"scattergl\",\"marker\":{\"colorbar\":{\"outlinewidth\":0,\"ticks\":\"\"}}}],\"scatter3d\":[{\"type\":\"scatter3d\",\"line\":{\"colorbar\":{\"outlinewidth\":0,\"ticks\":\"\"}},\"marker\":{\"colorbar\":{\"outlinewidth\":0,\"ticks\":\"\"}}}],\"scattermapbox\":[{\"type\":\"scattermapbox\",\"marker\":{\"colorbar\":{\"outlinewidth\":0,\"ticks\":\"\"}}}],\"scatterternary\":[{\"type\":\"scatterternary\",\"marker\":{\"colorbar\":{\"outlinewidth\":0,\"ticks\":\"\"}}}],\"scattercarpet\":[{\"type\":\"scattercarpet\",\"marker\":{\"colorbar\":{\"outlinewidth\":0,\"ticks\":\"\"}}}],\"carpet\":[{\"aaxis\":{\"endlinecolor\":\"#2a3f5f\",\"gridcolor\":\"white\",\"linecolor\":\"white\",\"minorgridcolor\":\"white\",\"startlinecolor\":\"#2a3f5f\"},\"baxis\":{\"endlinecolor\":\"#2a3f5f\",\"gridcolor\":\"white\",\"linecolor\":\"white\",\"minorgridcolor\":\"white\",\"startlinecolor\":\"#2a3f5f\"},\"type\":\"carpet\"}],\"table\":[{\"cells\":{\"fill\":{\"color\":\"#EBF0F8\"},\"line\":{\"color\":\"white\"}},\"header\":{\"fill\":{\"color\":\"#C8D4E3\"},\"line\":{\"color\":\"white\"}},\"type\":\"table\"}],\"barpolar\":[{\"marker\":{\"line\":{\"color\":\"#E5ECF6\",\"width\":0.5},\"pattern\":{\"fillmode\":\"overlay\",\"size\":10,\"solidity\":0.2}},\"type\":\"barpolar\"}],\"pie\":[{\"automargin\":true,\"type\":\"pie\"}]},\"layout\":{\"autotypenumbers\":\"strict\",\"colorway\":[\"#636efa\",\"#EF553B\",\"#00cc96\",\"#ab63fa\",\"#FFA15A\",\"#19d3f3\",\"#FF6692\",\"#B6E880\",\"#FF97FF\",\"#FECB52\"],\"font\":{\"color\":\"#2a3f5f\"},\"hovermode\":\"closest\",\"hoverlabel\":{\"align\":\"left\"},\"paper_bgcolor\":\"white\",\"plot_bgcolor\":\"#E5ECF6\",\"polar\":{\"bgcolor\":\"#E5ECF6\",\"angularaxis\":{\"gridcolor\":\"white\",\"linecolor\":\"white\",\"ticks\":\"\"},\"radialaxis\":{\"gridcolor\":\"white\",\"linecolor\":\"white\",\"ticks\":\"\"}},\"ternary\":{\"bgcolor\":\"#E5ECF6\",\"aaxis\":{\"gridcolor\":\"white\",\"linecolor\":\"white\",\"ticks\":\"\"},\"baxis\":{\"gridcolor\":\"white\",\"linecolor\":\"white\",\"ticks\":\"\"},\"caxis\":{\"gridcolor\":\"white\",\"linecolor\":\"white\",\"ticks\":\"\"}},\"coloraxis\":{\"colorbar\":{\"outlinewidth\":0,\"ticks\":\"\"}},\"colorscale\":{\"sequential\":[[0.0,\"#0d0887\"],[0.1111111111111111,\"#46039f\"],[0.2222222222222222,\"#7201a8\"],[0.3333333333333333,\"#9c179e\"],[0.4444444444444444,\"#bd3786\"],[0.5555555555555556,\"#d8576b\"],[0.6666666666666666,\"#ed7953\"],[0.7777777777777778,\"#fb9f3a\"],[0.8888888888888888,\"#fdca26\"],[1.0,\"#f0f921\"]],\"sequentialminus\":[[0.0,\"#0d0887\"],[0.1111111111111111,\"#46039f\"],[0.2222222222222222,\"#7201a8\"],[0.3333333333333333,\"#9c179e\"],[0.4444444444444444,\"#bd3786\"],[0.5555555555555556,\"#d8576b\"],[0.6666666666666666,\"#ed7953\"],[0.7777777777777778,\"#fb9f3a\"],[0.8888888888888888,\"#fdca26\"],[1.0,\"#f0f921\"]],\"diverging\":[[0,\"#8e0152\"],[0.1,\"#c51b7d\"],[0.2,\"#de77ae\"],[0.3,\"#f1b6da\"],[0.4,\"#fde0ef\"],[0.5,\"#f7f7f7\"],[0.6,\"#e6f5d0\"],[0.7,\"#b8e186\"],[0.8,\"#7fbc41\"],[0.9,\"#4d9221\"],[1,\"#276419\"]]},\"xaxis\":{\"gridcolor\":\"white\",\"linecolor\":\"white\",\"ticks\":\"\",\"title\":{\"standoff\":15},\"zerolinecolor\":\"white\",\"automargin\":true,\"zerolinewidth\":2},\"yaxis\":{\"gridcolor\":\"white\",\"linecolor\":\"white\",\"ticks\":\"\",\"title\":{\"standoff\":15},\"zerolinecolor\":\"white\",\"automargin\":true,\"zerolinewidth\":2},\"scene\":{\"xaxis\":{\"backgroundcolor\":\"#E5ECF6\",\"gridcolor\":\"white\",\"linecolor\":\"white\",\"showbackground\":true,\"ticks\":\"\",\"zerolinecolor\":\"white\",\"gridwidth\":2},\"yaxis\":{\"backgroundcolor\":\"#E5ECF6\",\"gridcolor\":\"white\",\"linecolor\":\"white\",\"showbackground\":true,\"ticks\":\"\",\"zerolinecolor\":\"white\",\"gridwidth\":2},\"zaxis\":{\"backgroundcolor\":\"#E5ECF6\",\"gridcolor\":\"white\",\"linecolor\":\"white\",\"showbackground\":true,\"ticks\":\"\",\"zerolinecolor\":\"white\",\"gridwidth\":2}},\"shapedefaults\":{\"line\":{\"color\":\"#2a3f5f\"}},\"annotationdefaults\":{\"arrowcolor\":\"#2a3f5f\",\"arrowhead\":0,\"arrowwidth\":1},\"geo\":{\"bgcolor\":\"white\",\"landcolor\":\"#E5ECF6\",\"subunitcolor\":\"white\",\"showland\":true,\"showlakes\":true,\"lakecolor\":\"white\"},\"title\":{\"x\":0.05},\"mapbox\":{\"style\":\"light\"}}},\"xaxis\":{\"anchor\":\"y\",\"domain\":[0.0,1.0],\"title\":{\"text\":\"indice_tiempo\"}},\"yaxis\":{\"anchor\":\"x\",\"domain\":[0.0,1.0],\"title\":{\"text\":\"value\"}},\"legend\":{\"title\":{\"text\":\"variable\"},\"tracegroupgap\":0},\"margin\":{\"t\":60}},                        {\"responsive\": true}                    ).then(function(){\n",
       "                            \n",
       "var gd = document.getElementById('f70d7965-66c0-46cb-bbe3-f903d2f218ac');\n",
       "var x = new MutationObserver(function (mutations, observer) {{\n",
       "        var display = window.getComputedStyle(gd).display;\n",
       "        if (!display || display === 'none') {{\n",
       "            console.log([gd, 'removed!']);\n",
       "            Plotly.purge(gd);\n",
       "            observer.disconnect();\n",
       "        }}\n",
       "}});\n",
       "\n",
       "// Listen for the removal of the full notebook cells\n",
       "var notebookContainer = gd.closest('#notebook-container');\n",
       "if (notebookContainer) {{\n",
       "    x.observe(notebookContainer, {childList: true});\n",
       "}}\n",
       "\n",
       "// Listen for the clearing of the current output cell\n",
       "var outputEl = gd.closest('.output');\n",
       "if (outputEl) {{\n",
       "    x.observe(outputEl, {childList: true});\n",
       "}}\n",
       "\n",
       "                        })                };                });            </script>        </div>"
      ]
     },
     "metadata": {},
     "output_type": "display_data"
    }
   ],
   "source": [
    "import plotly.express as px \n",
    "\n",
    "fig = px.line(data_frame=tasa_natalidad)\n",
    "fig.show()\n"
   ]
  },
  {
   "cell_type": "markdown",
   "metadata": {},
   "source": [
    "## Ejercicios 15 (a)\n",
    "\n",
    "En el archivo `data/imdb_top_1000.csv` está la lista de las 1000 'mejores' peliculas de acuerdo a lo que refiere dicha plataforma. \n",
    "\n",
    "- Lea el archivo con Pandas.\n",
    "- Inspeccione el `DataFrame` con funciones de pandas (`head`, `columns` pueden ser métodos útiles).\n",
    "- ¿Cuál es la película más antigua que figura en este ranking?\n",
    "- Encuentre la 'mejor' película de acuerdo al índice `Meta_score`. (Busque la documentación del método `iloc` de la clase `DataFrame` de pandas)\n",
    "- Encuentre la película más larga en la tabla (recuerde que el método `max` opera sobre números. Busque información sobre el método `str` de un `DataFrame`)\n",
    "- Construya una función `del_director` que recibe un string con el nombre (posiblemente parcial) de un director y devuelve una lista de sus películas (`str` puede serle también aquí útil)."
   ]
  }
 ],
 "metadata": {
  "kernelspec": {
   "display_name": "Python 3 (ipykernel)",
   "language": "python",
   "name": "python3"
  },
  "language_info": {
   "codemirror_mode": {
    "name": "ipython",
    "version": 3
   },
   "file_extension": ".py",
   "mimetype": "text/x-python",
   "name": "python",
   "nbconvert_exporter": "python",
   "pygments_lexer": "ipython3",
   "version": "3.11.8"
  }
 },
 "nbformat": 4,
 "nbformat_minor": 4
}
