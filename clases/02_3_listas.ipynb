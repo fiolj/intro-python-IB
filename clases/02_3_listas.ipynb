{
 "cells": [
  {
   "cell_type": "markdown",
   "id": "bae45098",
   "metadata": {
    "collapsed": false,
    "editable": true,
    "jupyter": {
     "outputs_hidden": false
    },
    "slideshow": {
     "slide_type": ""
    },
    "tags": []
   },
   "source": [
    "## Tipos contenedores\n",
    "\n",
    "En Python existen tipos compuestos (que pueden contener más de un valor). Uno de ellos que ya vimos es el tipo *string* que es una cadena de caracteres. Veamos otros:\n",
    "\n",
    "### Listas\n",
    "\n",
    "Las listas son tipos compuestos. Se definen separando los elementos con comas, todos encerrados entre corchetes. En general las listas pueden contener diferentes tipos, y pueden no ser todos iguales, pero suelen utilizarse con ítems del mismo tipo. Algunas características:\n",
    "\n",
    "* Los elementos no son necesariamente homogéneos en tipo.\n",
    "* Los elementos están ordenados.\n",
    "* Se accede mediante un índice.\n",
    "* Están definidas operaciones entre Listas, así como algunos métodos\n",
    "\n",
    "\n",
    "   - `x in L`             (¿x es un elemento de L?)\n",
    "   - `x not in L`         (¿x no es un elemento de L?)\n",
    "   - `L1 + L2`            (concatenar L1 y L2)\n",
    "   - `n*L1`               (n veces L1)\n",
    "   - `L1*n`               (n veces L1)\n",
    "   - `L[i]`               (Elemento i-ésimo)\n",
    "   - `L[i:j]`             (Elementos i a j)\n",
    "   - `L[i:j:k]`           (Elementos i a j, elegidos uno de cada k)\n",
    "   - `len(L)`             (longitud de L)\n",
    "   - `min(L)`             (Mínimo de L)\n",
    "   - `max(L)`             (Máximo de L)\n",
    "   - `L.index(x, [i])`    (Índice de x, iniciando en i)\n",
    "   - `L.count(x)`         (Número de veces que aparece x en L)\n",
    "   - `L.append(x)`        (Agrega el elemento x al final)\n",
    "\n",
    "Veamos algunos ejemplos:"
   ]
  },
  {
   "cell_type": "code",
   "execution_count": 1,
   "id": "ce445b4c",
   "metadata": {
    "collapsed": false,
    "jupyter": {
     "outputs_hidden": false
    }
   },
   "outputs": [],
   "source": [
    "cuadrados = [1, 4, 9, 16, 25]"
   ]
  },
  {
   "cell_type": "markdown",
   "id": "6be5e90d",
   "metadata": {
    "collapsed": false,
    "jupyter": {
     "outputs_hidden": false
    }
   },
   "source": [
    "En esta línea hemos declarado una variable llamada `cuadrados`, y le hemos asignado una lista de cuatro elementos. En algunos aspectos las listas son muy similares a los *strings*. Se pueden realizar muchas de las mismas operaciones en strings, listas y otros objetos sobre los que se pueden iterar (*iterables*). \n",
    "\n",
    "Las listas pueden accederse por posición y también pueden rebanarse (*slicing*)\n",
    "\n",
    "------\n",
    "\n",
    "> **Nota:** La indexación de iteradores empieza desde cero (como en C)\n",
    "\n",
    "------"
   ]
  },
  {
   "cell_type": "code",
   "execution_count": 2,
   "id": "97471917",
   "metadata": {
    "collapsed": false,
    "jupyter": {
     "outputs_hidden": false
    }
   },
   "outputs": [
    {
     "data": {
      "text/plain": [
       "1"
      ]
     },
     "execution_count": 2,
     "metadata": {},
     "output_type": "execute_result"
    }
   ],
   "source": [
    "cuadrados[0]"
   ]
  },
  {
   "cell_type": "code",
   "execution_count": 3,
   "id": "6720af5a",
   "metadata": {
    "collapsed": false,
    "jupyter": {
     "outputs_hidden": false
    }
   },
   "outputs": [
    {
     "data": {
      "text/plain": [
       "16"
      ]
     },
     "execution_count": 3,
     "metadata": {},
     "output_type": "execute_result"
    }
   ],
   "source": [
    "cuadrados[3]"
   ]
  },
  {
   "cell_type": "code",
   "execution_count": 4,
   "id": "1a125e85",
   "metadata": {
    "collapsed": false,
    "jupyter": {
     "outputs_hidden": false
    }
   },
   "outputs": [
    {
     "data": {
      "text/plain": [
       "25"
      ]
     },
     "execution_count": 4,
     "metadata": {},
     "output_type": "execute_result"
    }
   ],
   "source": [
    "cuadrados[-1]"
   ]
  },
  {
   "cell_type": "code",
   "execution_count": 5,
   "id": "cbb1c515",
   "metadata": {
    "collapsed": false,
    "jupyter": {
     "outputs_hidden": false
    }
   },
   "outputs": [
    {
     "data": {
      "text/plain": [
       "[1, 9]"
      ]
     },
     "execution_count": 5,
     "metadata": {},
     "output_type": "execute_result"
    }
   ],
   "source": [
    "cuadrados[:3:2]"
   ]
  },
  {
   "cell_type": "code",
   "execution_count": 6,
   "id": "77076616",
   "metadata": {
    "collapsed": false,
    "jupyter": {
     "outputs_hidden": false
    }
   },
   "outputs": [
    {
     "data": {
      "text/plain": [
       "[16, 25]"
      ]
     },
     "execution_count": 6,
     "metadata": {},
     "output_type": "execute_result"
    }
   ],
   "source": [
    "cuadrados[-2:]"
   ]
  },
  {
   "cell_type": "markdown",
   "id": "7a50d3b8",
   "metadata": {
    "collapsed": false,
    "jupyter": {
     "outputs_hidden": false
    }
   },
   "source": [
    "Los índices pueden ser positivos (empezando desde cero) o negativos empezando desde -1. \n",
    "\n",
    "| cuadrados:           | 1    | 4    | 9    | 16   | 25   |\n",
    "|----------------------|------|------|------|------|------|\n",
    "| índices:             |  0   |  1   | 2    | 3    |  4   |\n",
    "| índices negativos:   | -5   | -4   | -3   | -2   | -1   |"
   ]
  },
  {
   "cell_type": "markdown",
   "id": "0b8be230",
   "metadata": {
    "collapsed": false,
    "jupyter": {
     "outputs_hidden": false
    }
   },
   "source": [
    "\n",
    "------\n",
    "\n",
    "> **Nota:** La asignación entre listas **no copia** todos los datos\n",
    "\n",
    "------\n"
   ]
  },
  {
   "cell_type": "code",
   "execution_count": 7,
   "id": "608d7b6f",
   "metadata": {
    "collapsed": false,
    "jupyter": {
     "outputs_hidden": false
    }
   },
   "outputs": [
    {
     "data": {
      "text/plain": [
       "True"
      ]
     },
     "execution_count": 7,
     "metadata": {},
     "output_type": "execute_result"
    }
   ],
   "source": [
    "a = cuadrados\n",
    "a is cuadrados"
   ]
  },
  {
   "cell_type": "code",
   "execution_count": 8,
   "id": "1d503e0b",
   "metadata": {
    "collapsed": false,
    "jupyter": {
     "outputs_hidden": false
    }
   },
   "outputs": [
    {
     "name": "stdout",
     "output_type": "stream",
     "text": [
      "Valores originales\n",
      "[1, 4, 9, 16, 25]\n",
      "Valores modificados\n",
      "[-1, 4, 9, 16, 25]\n",
      "[-1, 4, 9, 16, 25]\n"
     ]
    }
   ],
   "source": [
    "print(\"Valores originales\")\n",
    "print(a)\n",
    "cuadrados[0]= -1\n",
    "print(\"Valores modificados\")\n",
    "print(a)\n",
    "print(cuadrados)"
   ]
  },
  {
   "cell_type": "code",
   "execution_count": 9,
   "id": "0651ee5b",
   "metadata": {
    "collapsed": false,
    "jupyter": {
     "outputs_hidden": false
    }
   },
   "outputs": [
    {
     "data": {
      "text/plain": [
       "True"
      ]
     },
     "execution_count": 9,
     "metadata": {},
     "output_type": "execute_result"
    }
   ],
   "source": [
    "a is cuadrados"
   ]
  },
  {
   "cell_type": "code",
   "execution_count": 10,
   "id": "145ba0a7",
   "metadata": {
    "collapsed": false,
    "jupyter": {
     "outputs_hidden": false
    }
   },
   "outputs": [
    {
     "name": "stdout",
     "output_type": "stream",
     "text": [
      "Valores originales\n",
      "[1, 4, 9, 16, 25]\n",
      "[1, 4, 9, 16, 25]\n",
      "Valores modificados\n",
      "[1, 4, 9, 16, 25]\n",
      "[-2, 4, 9, 16, 25]\n"
     ]
    }
   ],
   "source": [
    "cuadrados[0] = 1\n",
    "b = cuadrados.copy()\n",
    "print(\"Valores originales\")\n",
    "print(b)\n",
    "print(cuadrados)\n",
    "print(\"Valores modificados\")\n",
    "cuadrados[0]=-2\n",
    "print(b)\n",
    "print(cuadrados)"
   ]
  },
  {
   "cell_type": "markdown",
   "id": "cf1c0cfa-3dfe-4612-babc-a2acfd52e346",
   "metadata": {
    "collapsed": false,
    "jupyter": {
     "outputs_hidden": false
    }
   },
   "source": [
    "#### Comprensión de Listas\n",
    "\n",
    "Una manera sencilla de definir una lista es utilizando algo que se llama *Comprensión de listas*.\n",
    "Como primer ejemplo veamos una lista de *números cuadrados* como la que escribimos anteriormente. En lenguaje matemático la defiríamos como $S = \\{x^{2} : x \\in \\{0 \\dots 9\\}\\}$. En python es muy parecido.\n",
    "\n",
    "Podemos crear la lista `cuadrados` utilizando compresiones de listas"
   ]
  },
  {
   "cell_type": "code",
   "execution_count": 11,
   "id": "1eb9f1b5-3e78-4c21-bb07-d615333e23b2",
   "metadata": {
    "collapsed": false,
    "jupyter": {
     "outputs_hidden": false
    }
   },
   "outputs": [],
   "source": [
    "L1 = [1,3,5]\n",
    "L2 = [i**2 for i in L1]\n",
    "L3 = [i+1 for i in L2]"
   ]
  },
  {
   "cell_type": "code",
   "execution_count": 12,
   "id": "d3fd4fdc-dc74-4167-a882-3a42fb1b49fc",
   "metadata": {
    "collapsed": false,
    "jupyter": {
     "outputs_hidden": false
    }
   },
   "outputs": [
    {
     "name": "stdout",
     "output_type": "stream",
     "text": [
      "[1, 9, 25]\n"
     ]
    }
   ],
   "source": [
    "print(L2)"
   ]
  },
  {
   "cell_type": "code",
   "execution_count": 13,
   "id": "0400225f-e476-44b5-98bf-426c352c338d",
   "metadata": {
    "collapsed": false,
    "jupyter": {
     "outputs_hidden": false
    }
   },
   "outputs": [
    {
     "data": {
      "text/plain": [
       "[2, 10, 26]"
      ]
     },
     "execution_count": 13,
     "metadata": {},
     "output_type": "execute_result"
    }
   ],
   "source": [
    "L3"
   ]
  },
  {
   "cell_type": "code",
   "execution_count": 14,
   "id": "5a792c3f-8c55-43bd-96d5-45a0fd812ec8",
   "metadata": {
    "collapsed": false,
    "jupyter": {
     "outputs_hidden": false
    }
   },
   "outputs": [
    {
     "data": {
      "text/plain": [
       "[0, 1, 4, 9, 16, 25, 36, 49, 64, 81]"
      ]
     },
     "execution_count": 14,
     "metadata": {},
     "output_type": "execute_result"
    }
   ],
   "source": [
    "cuadrados = [i**2 for i in range(10)]\n",
    "cuadrados"
   ]
  },
  {
   "cell_type": "markdown",
   "id": "4f5e4060-1e54-4208-8c72-1b2908ac6621",
   "metadata": {
    "collapsed": false,
    "jupyter": {
     "outputs_hidden": false
    }
   },
   "source": [
    "Una lista con los cuadrados sólo de los números pares también puede crearse de esta manera, ya que puede incorporarse una condición:"
   ]
  },
  {
   "cell_type": "code",
   "execution_count": 20,
   "id": "b49876e9-eb6d-427b-b992-13cac7757c38",
   "metadata": {
    "collapsed": false,
    "jupyter": {
     "outputs_hidden": false
    }
   },
   "outputs": [
    {
     "name": "stdout",
     "output_type": "stream",
     "text": [
      "[4, 9, 16, 25, 36, 49, 64, 81, 100, 121, 144, 169, 196, 225, 256, 289, 324, 361, 400]\n"
     ]
    }
   ],
   "source": [
    "L0 = [a**2 for a in range(2,21)]\n",
    "print(L0)"
   ]
  },
  {
   "cell_type": "code",
   "execution_count": 21,
   "id": "a7a70111-d22b-45d1-b1ee-be25ddfa15fe",
   "metadata": {
    "collapsed": false,
    "jupyter": {
     "outputs_hidden": false
    }
   },
   "outputs": [
    {
     "data": {
      "text/plain": [
       "[4, 16, 36, 64, 100, 144, 196, 256, 324, 400]"
      ]
     },
     "execution_count": 21,
     "metadata": {},
     "output_type": "execute_result"
    }
   ],
   "source": [
    "L = [a**2 for a in range(2,21) if a % 2 == 0]\n",
    "L"
   ]
  },
  {
   "cell_type": "markdown",
   "id": "48e1cdbb-7f91-4a15-9987-320e2050f5c3",
   "metadata": {
    "collapsed": false,
    "jupyter": {
     "outputs_hidden": false
    }
   },
   "source": [
    "### Tuplas\n",
    "\n",
    "Las tuplas son objetos similares a las listas, sobre las que se puede iterar y seleccionar partes según su índice. La principal diferencia es que son inmutables mientras que las listas pueden modificarse."
   ]
  },
  {
   "cell_type": "code",
   "execution_count": 22,
   "id": "03a75888-8336-4907-b64a-3049744ccfd4",
   "metadata": {
    "collapsed": false,
    "jupyter": {
     "outputs_hidden": false
    }
   },
   "outputs": [],
   "source": [
    "L1 = [0,1,2,3,4,5] # Las listas se definen con corchetes\n",
    "T1 = (0,1,2,3,4,5) # Las tuplas se definen con paréntesis"
   ]
  },
  {
   "cell_type": "code",
   "execution_count": 23,
   "id": "3d47edb4-afe3-4b59-a2d5-8932d6066e14",
   "metadata": {
    "collapsed": false,
    "jupyter": {
     "outputs_hidden": false
    }
   },
   "outputs": [
    {
     "name": "stdout",
     "output_type": "stream",
     "text": [
      "L1[0] = -1\n"
     ]
    }
   ],
   "source": [
    "L1[0] = -1\n",
    "print(f\"L1[0] = {L1[0]}\")"
   ]
  },
  {
   "cell_type": "code",
   "execution_count": 24,
   "id": "a3707ecc-638c-48c9-9171-09c20bd4a99d",
   "metadata": {
    "collapsed": false,
    "jupyter": {
     "outputs_hidden": false
    }
   },
   "outputs": [
    {
     "ename": "TypeError",
     "evalue": "'tuple' object does not support item assignment",
     "output_type": "error",
     "traceback": [
      "\u001b[0;31m---------------------------------------------------------------------------\u001b[0m",
      "\u001b[0;31mTypeError\u001b[0m                                 Traceback (most recent call last)",
      "Cell \u001b[0;32mIn[24], line 1\u001b[0m\n\u001b[0;32m----> 1\u001b[0m \u001b[43mT1\u001b[49m\u001b[43m[\u001b[49m\u001b[38;5;241;43m0\u001b[39;49m\u001b[43m]\u001b[49m \u001b[38;5;241m=\u001b[39m \u001b[38;5;241m-\u001b[39m\u001b[38;5;241m1\u001b[39m\n\u001b[1;32m      2\u001b[0m \u001b[38;5;28mprint\u001b[39m(\u001b[38;5;124mf\u001b[39m\u001b[38;5;124m\"\u001b[39m\u001b[38;5;132;01m{\u001b[39;00mT1[\u001b[38;5;241m0\u001b[39m]\u001b[38;5;250m \u001b[39m\u001b[38;5;132;01m= }\u001b[39;00m\u001b[38;5;124m\"\u001b[39m)\n",
      "\u001b[0;31mTypeError\u001b[0m: 'tuple' object does not support item assignment"
     ]
    }
   ],
   "source": [
    "T1[0] = -1\n",
    "print(f\"{T1[0] = }\")"
   ]
  },
  {
   "cell_type": "code",
   "execution_count": 25,
   "id": "e137aaf4-8255-4444-a929-6d6ac456ff45",
   "metadata": {
    "collapsed": false,
    "jupyter": {
     "outputs_hidden": false
    }
   },
   "outputs": [
    {
     "name": "stdout",
     "output_type": "stream",
     "text": [
      "Tuples son inmutables\n"
     ]
    }
   ],
   "source": [
    "try:\n",
    "    T1[0] = -1\n",
    "    print(f\"{T1[0] = }\")\n",
    "except:\n",
    "    print('Tuples son inmutables')"
   ]
  },
  {
   "cell_type": "markdown",
   "id": "adfbac85-9184-43a1-853a-cb62857d9c78",
   "metadata": {
    "collapsed": false,
    "jupyter": {
     "outputs_hidden": false
    }
   },
   "source": [
    "Las tuplas se usan cuando uno quiere crear una \"variable\" que no va a ser modificada. Además códigos similares con tuplas pueden ser un poco más rápidos que si usan listas.\n",
    "\n",
    "Un uso común de las tuplas es el de asignación simultánea a múltiples variables:"
   ]
  },
  {
   "cell_type": "code",
   "execution_count": 26,
   "id": "89baa115-ae66-4eaf-9f54-735e05277480",
   "metadata": {
    "collapsed": false,
    "jupyter": {
     "outputs_hidden": false
    }
   },
   "outputs": [],
   "source": [
    "a, b, c = (1, 3, 5)"
   ]
  },
  {
   "cell_type": "code",
   "execution_count": 27,
   "id": "b7c80c25-2496-4fb1-ba6d-97eb2963b43b",
   "metadata": {
    "collapsed": false,
    "jupyter": {
     "outputs_hidden": false
    }
   },
   "outputs": [
    {
     "name": "stdout",
     "output_type": "stream",
     "text": [
      "3\n",
      "1 3 5\n"
     ]
    }
   ],
   "source": [
    "print(b)\n",
    "print(a, b, c)"
   ]
  },
  {
   "cell_type": "code",
   "execution_count": 28,
   "id": "1d317243-32a7-4093-95d2-bcefd8a0d613",
   "metadata": {
    "collapsed": false,
    "jupyter": {
     "outputs_hidden": false
    }
   },
   "outputs": [
    {
     "name": "stdout",
     "output_type": "stream",
     "text": [
      "5\n",
      "4 5 6\n"
     ]
    }
   ],
   "source": [
    "# Los paréntesis son opcionales en este caso\n",
    "a, b, c = 4, 5, 6\n",
    "print(b)\n",
    "print(a,b,c)"
   ]
  },
  {
   "cell_type": "markdown",
   "id": "c0ba96e0-a790-41a0-803c-459e594ad8de",
   "metadata": {
    "collapsed": false,
    "jupyter": {
     "outputs_hidden": false
    }
   },
   "source": [
    "Un uso muy común es el de intercambiar el valor de dos variables"
   ]
  },
  {
   "cell_type": "code",
   "execution_count": 29,
   "id": "9c535fea-75a5-4e39-8bfc-e9c850efcb48",
   "metadata": {
    "collapsed": false,
    "jupyter": {
     "outputs_hidden": false
    }
   },
   "outputs": [
    {
     "name": "stdout",
     "output_type": "stream",
     "text": [
      "4 5\n",
      "5 4\n"
     ]
    }
   ],
   "source": [
    "print(a,b)\n",
    "a, b = b, a                     # swap \n",
    "print(a,b)"
   ]
  },
  {
   "cell_type": "code",
   "execution_count": 31,
   "id": "c46c4e17-2986-48a1-856d-770cd7912ca7",
   "metadata": {},
   "outputs": [
    {
     "data": {
      "text/plain": [
       "3"
      ]
     },
     "execution_count": 31,
     "metadata": {},
     "output_type": "execute_result"
    }
   ],
   "source": [
    "a=3\n",
    "t = (a,5)\n",
    "t[0]"
   ]
  },
  {
   "cell_type": "code",
   "execution_count": 32,
   "id": "d08881e9-683e-4aab-8044-9f22cd634cb9",
   "metadata": {},
   "outputs": [
    {
     "name": "stdout",
     "output_type": "stream",
     "text": [
      "(3, 5)\n"
     ]
    }
   ],
   "source": [
    "a=5\n",
    "print(t)"
   ]
  },
  {
   "cell_type": "markdown",
   "id": "18935d12-86dc-49a9-9d7c-015bd072093e",
   "metadata": {
    "collapsed": false,
    "jupyter": {
     "outputs_hidden": false
    }
   },
   "source": [
    "### Rangos\n",
    "\n",
    "Los objetos de tipo [range](https://docs.python.org/es/3/library/stdtypes.html#ranges) representan una secuencia inmutable de números y se usan habitualmente para ejecutar un bucle [for](https://docs.python.org/es/3/reference/compound_stmts.html#for) un número determinado de veces. El formato es uno de:\n",
    "\n",
    "    range(stop)\n",
    "    range(start, stop)\n",
    "    range(start, stop, step)\n",
    "    "
   ]
  },
  {
   "cell_type": "code",
   "execution_count": 33,
   "id": "06df117d-acd3-4e6f-b14b-168d5bd3e2c0",
   "metadata": {
    "collapsed": false,
    "jupyter": {
     "outputs_hidden": false
    }
   },
   "outputs": [
    {
     "data": {
      "text/plain": [
       "range(0, 2)"
      ]
     },
     "execution_count": 33,
     "metadata": {},
     "output_type": "execute_result"
    }
   ],
   "source": [
    "range(2)"
   ]
  },
  {
   "cell_type": "code",
   "execution_count": 34,
   "id": "170edb16-e04e-436a-a19b-5407d1e75026",
   "metadata": {
    "collapsed": false,
    "jupyter": {
     "outputs_hidden": false
    }
   },
   "outputs": [
    {
     "data": {
      "text/plain": [
       "range"
      ]
     },
     "execution_count": 34,
     "metadata": {},
     "output_type": "execute_result"
    }
   ],
   "source": [
    "type(range(2))"
   ]
  },
  {
   "cell_type": "code",
   "execution_count": 35,
   "id": "30bc6528-25d1-495d-80e7-9e3bed62e16e",
   "metadata": {
    "collapsed": false,
    "jupyter": {
     "outputs_hidden": false
    }
   },
   "outputs": [
    {
     "data": {
      "text/plain": [
       "range(2, 9)"
      ]
     },
     "execution_count": 35,
     "metadata": {},
     "output_type": "execute_result"
    }
   ],
   "source": [
    "range(2,9)"
   ]
  },
  {
   "cell_type": "code",
   "execution_count": 36,
   "id": "3d9bdf5b-cf88-4940-8704-f3d76d34b8a8",
   "metadata": {
    "collapsed": false,
    "jupyter": {
     "outputs_hidden": false
    }
   },
   "outputs": [
    {
     "data": {
      "text/plain": [
       "[2, 3, 4, 5, 6, 7, 8]"
      ]
     },
     "execution_count": 36,
     "metadata": {},
     "output_type": "execute_result"
    }
   ],
   "source": [
    "list(range(2,9))"
   ]
  },
  {
   "cell_type": "code",
   "execution_count": 38,
   "id": "c191b127-cb5f-4a32-b293-5591ddacf0af",
   "metadata": {
    "collapsed": false,
    "jupyter": {
     "outputs_hidden": false
    }
   },
   "outputs": [
    {
     "data": {
      "text/plain": [
       "[2, 4, 6, 8]"
      ]
     },
     "execution_count": 38,
     "metadata": {},
     "output_type": "execute_result"
    }
   ],
   "source": [
    "list(range(2,9,2))"
   ]
  },
  {
   "cell_type": "code",
   "execution_count": 39,
   "id": "c5d0a8e1-2745-4d51-b700-66c5b991ce79",
   "metadata": {},
   "outputs": [
    {
     "data": {
      "text/plain": [
       "['h', 'o', 'l', 'a']"
      ]
     },
     "execution_count": 39,
     "metadata": {},
     "output_type": "execute_result"
    }
   ],
   "source": [
    "list(\"hola\")"
   ]
  },
  {
   "cell_type": "code",
   "execution_count": 40,
   "id": "599bb895-b5c9-4ed1-9195-c5953c83d1d9",
   "metadata": {},
   "outputs": [
    {
     "data": {
      "text/plain": [
       "('h', 'o', 'l', 'a')"
      ]
     },
     "execution_count": 40,
     "metadata": {},
     "output_type": "execute_result"
    }
   ],
   "source": [
    "tuple(\"hola\")"
   ]
  }
 ],
 "metadata": {
  "kernelspec": {
   "display_name": "Python 3 (ipykernel)",
   "language": "python",
   "name": "python3"
  },
  "language_info": {
   "codemirror_mode": {
    "name": "ipython",
    "version": 3
   },
   "file_extension": ".py",
   "mimetype": "text/x-python",
   "name": "python",
   "nbconvert_exporter": "python",
   "pygments_lexer": "ipython3",
   "version": "3.13.2"
  },
  "name": "02_3_listas.ipynb",
  "toc": {
   "base_numbering": 1,
   "nav_menu": {
    "height": "199px",
    "width": "251.333px"
   },
   "number_sections": true,
   "sideBar": true,
   "skip_h1_title": true,
   "title_cell": "Contenidos",
   "title_sidebar": "Contenidos",
   "toc_cell": false,
   "toc_position": null,
   "toc_section_display": true,
   "toc_window_display": true
  }
 },
 "nbformat": 4,
 "nbformat_minor": 5
}
