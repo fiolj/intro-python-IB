{
 "cells": [
  {
   "cell_type": "markdown",
   "id": "bae45098",
   "metadata": {
    "collapsed": false,
    "jupyter": {
     "outputs_hidden": false
    }
   },
   "source": [
    "## Tipos contenedores\n",
    "\n",
    "En Python existen tipos compuestos (que pueden contener más de un valor). Uno de ellos que ya vimos es el tipo *string* que es una cadena de caracteres. Veamos otros:\n",
    "\n",
    "### Listas\n",
    "\n",
    "Las listas son tipos compuestos. Se definen separando los elementos con comas, todos encerrados entre corchetes. En general las listas pueden contener diferentes tipos, y pueden no ser todos iguales, pero suelen utilizarse con ítems del mismo tipo. Algunas características:\n",
    "\n",
    "* Los elementos no son necesariamente homogéneos en tipo.\n",
    "* Los elementos están ordenados.\n",
    "* Se accede mediante un índice.\n",
    "* Están definidas operaciones entre Listas, así como algunos métodos\n",
    "\n",
    "\n",
    "   - `x in L`             (¿x es un elemento de L?)\n",
    "   - `x not in L`         (¿x no es un elemento de L?)\n",
    "   - `L1 + L2`            (concatenar L1 y L2)\n",
    "   - `n*L1`               (n veces L1)\n",
    "   - `L1*n`               (n veces L1)\n",
    "   - `L[i]`               (Elemento i-ésimo)\n",
    "   - `L[i:j]`             (Elementos i a j)\n",
    "   - `L[i:j:k]`           (Elementos i a j, elegidos uno de cada k)\n",
    "   - `len(L)`             (longitud de L)\n",
    "   - `min(L)`             (Mínimo de L)\n",
    "   - `max(L)`             (Máximo de L)\n",
    "   - `L.index(x, [i])`    (Índice de x, iniciando en i)\n",
    "   - `L.count(x)`         (Número de veces que aparece x en L)\n",
    "   - `L.append(x)`        (Agrega el elemento x al final)\n",
    "\n",
    "Veamos algunos ejemplos:"
   ]
  },
  {
   "cell_type": "code",
   "execution_count": 1,
   "id": "ce445b4c",
   "metadata": {
    "collapsed": false,
    "jupyter": {
     "outputs_hidden": false
    }
   },
   "outputs": [],
   "source": [
    "cuadrados = [1, 9, 16, 25]"
   ]
  },
  {
   "cell_type": "markdown",
   "id": "6be5e90d",
   "metadata": {
    "collapsed": false,
    "jupyter": {
     "outputs_hidden": false
    }
   },
   "source": [
    "En esta línea hemos declarado una variable llamada `cuadrados`, y le hemos asignado una lista de cuatro elementos. En algunos aspectos las listas son muy similares a los *strings*. Se pueden realizar muchas de las mismas operaciones en strings, listas y otros objetos sobre los que se pueden iterar (*iterables*). \n",
    "\n",
    "Las listas pueden accederse por posición y también pueden rebanarse (*slicing*)\n",
    "\n",
    "------\n",
    "\n",
    "**Nota:** La indexación de iteradores empieza desde cero (como en C)\n",
    "\n",
    "------"
   ]
  },
  {
   "cell_type": "code",
   "execution_count": 2,
   "id": "97471917",
   "metadata": {
    "collapsed": false,
    "jupyter": {
     "outputs_hidden": false
    }
   },
   "outputs": [
    {
     "data": {
      "text/plain": [
       "1"
      ]
     },
     "execution_count": 2,
     "metadata": {},
     "output_type": "execute_result"
    }
   ],
   "source": [
    "cuadrados[0]"
   ]
  },
  {
   "cell_type": "code",
   "execution_count": 3,
   "id": "6720af5a",
   "metadata": {
    "collapsed": false,
    "jupyter": {
     "outputs_hidden": false
    }
   },
   "outputs": [
    {
     "data": {
      "text/plain": [
       "25"
      ]
     },
     "execution_count": 3,
     "metadata": {},
     "output_type": "execute_result"
    }
   ],
   "source": [
    "cuadrados[3]"
   ]
  },
  {
   "cell_type": "code",
   "execution_count": 4,
   "id": "1a125e85",
   "metadata": {
    "collapsed": false,
    "jupyter": {
     "outputs_hidden": false
    }
   },
   "outputs": [
    {
     "data": {
      "text/plain": [
       "25"
      ]
     },
     "execution_count": 4,
     "metadata": {},
     "output_type": "execute_result"
    }
   ],
   "source": [
    "cuadrados[-1]"
   ]
  },
  {
   "cell_type": "code",
   "execution_count": 5,
   "id": "cbb1c515",
   "metadata": {
    "collapsed": false,
    "jupyter": {
     "outputs_hidden": false
    }
   },
   "outputs": [
    {
     "data": {
      "text/plain": [
       "[1, 16]"
      ]
     },
     "execution_count": 5,
     "metadata": {},
     "output_type": "execute_result"
    }
   ],
   "source": [
    "cuadrados[:3:2]"
   ]
  },
  {
   "cell_type": "code",
   "execution_count": 6,
   "id": "77076616",
   "metadata": {
    "collapsed": false,
    "jupyter": {
     "outputs_hidden": false
    }
   },
   "outputs": [
    {
     "data": {
      "text/plain": [
       "[16, 25]"
      ]
     },
     "execution_count": 6,
     "metadata": {},
     "output_type": "execute_result"
    }
   ],
   "source": [
    "cuadrados[-2:]"
   ]
  },
  {
   "cell_type": "markdown",
   "id": "7a50d3b8",
   "metadata": {
    "collapsed": false,
    "jupyter": {
     "outputs_hidden": false
    }
   },
   "source": [
    "Los índices pueden ser positivos (empezando desde cero) o negativos empezando desde -1. \n",
    "\n",
    "| cuadrados:           | 1    | 9    | 16   | 25   |\n",
    "|----------------------|------|------|------|------|\n",
    "| índices:             | 0    | 1    | 2    | 3    |\n",
    "| índices negativos:   | -4   | -3   | -2   | -1   |"
   ]
  },
  {
   "cell_type": "markdown",
   "id": "0b8be230",
   "metadata": {
    "collapsed": false,
    "jupyter": {
     "outputs_hidden": false
    }
   },
   "source": [
    "\n",
    "------\n",
    "\n",
    "**Nota:** La asignación entre listas **no copia** todos los datos\n",
    "\n",
    "------\n"
   ]
  },
  {
   "cell_type": "code",
   "execution_count": 7,
   "id": "608d7b6f",
   "metadata": {
    "collapsed": false,
    "jupyter": {
     "outputs_hidden": false
    }
   },
   "outputs": [
    {
     "data": {
      "text/plain": [
       "True"
      ]
     },
     "execution_count": 7,
     "metadata": {},
     "output_type": "execute_result"
    }
   ],
   "source": [
    "a = cuadrados\n",
    "a is cuadrados"
   ]
  },
  {
   "cell_type": "code",
   "execution_count": 8,
   "id": "1d503e0b",
   "metadata": {
    "collapsed": false,
    "jupyter": {
     "outputs_hidden": false
    }
   },
   "outputs": [
    {
     "name": "stdout",
     "output_type": "stream",
     "text": [
      "Valores originales\n",
      "[1, 9, 16, 25]\n",
      "Valores modificados\n",
      "[-1, 9, 16, 25]\n",
      "[-1, 9, 16, 25]\n"
     ]
    }
   ],
   "source": [
    "print(\"Valores originales\")\n",
    "print(a)\n",
    "cuadrados[0]= -1\n",
    "print(\"Valores modificados\")\n",
    "print(a)\n",
    "print(cuadrados)"
   ]
  },
  {
   "cell_type": "code",
   "execution_count": 9,
   "id": "0651ee5b",
   "metadata": {
    "collapsed": false,
    "jupyter": {
     "outputs_hidden": false
    }
   },
   "outputs": [
    {
     "data": {
      "text/plain": [
       "True"
      ]
     },
     "execution_count": 9,
     "metadata": {},
     "output_type": "execute_result"
    }
   ],
   "source": [
    "a is cuadrados"
   ]
  },
  {
   "cell_type": "code",
   "execution_count": 10,
   "id": "145ba0a7",
   "metadata": {
    "collapsed": false,
    "jupyter": {
     "outputs_hidden": false
    }
   },
   "outputs": [
    {
     "name": "stdout",
     "output_type": "stream",
     "text": [
      "Valores originales\n",
      "[1, 9, 16, 25]\n",
      "[1, 9, 16, 25]\n",
      "Valores modificados\n",
      "[1, 9, 16, 25]\n",
      "[-2, 9, 16, 25]\n"
     ]
    }
   ],
   "source": [
    "cuadrados[0] = 1\n",
    "b = cuadrados.copy()\n",
    "print(\"Valores originales\")\n",
    "print(b)\n",
    "print(cuadrados)\n",
    "print(\"Valores modificados\")\n",
    "cuadrados[0]=-2\n",
    "print(b)\n",
    "print(cuadrados)"
   ]
  },
  {
   "cell_type": "markdown",
   "id": "cf1c0cfa-3dfe-4612-babc-a2acfd52e346",
   "metadata": {
    "collapsed": false,
    "jupyter": {
     "outputs_hidden": false
    }
   },
   "source": [
    "#### Comprensión de Listas\n",
    "\n",
    "Una manera sencilla de definir una lista es utilizando algo que se llama *Comprensión de listas*.\n",
    "Como primer ejemplo veamos una lista de *números cuadrados* como la que escribimos anteriormente. En lenguaje matemático la defiríamos como $S = \\{x^{2} : x \\in \\{0 \\dots 9\\}\\}$. En python es muy parecido.\n",
    "\n",
    "Podemos crear la lista `cuadrados` utilizando compresiones de listas"
   ]
  },
  {
   "cell_type": "code",
   "execution_count": 12,
   "id": "1eb9f1b5-3e78-4c21-bb07-d615333e23b2",
   "metadata": {
    "collapsed": false
   },
   "outputs": [],
   "source": [
    "L1 = [1,3,5]\n",
    "L2= [i**2 for i in L1]"
   ]
  },
  {
   "cell_type": "code",
   "execution_count": 13,
   "id": "d3fd4fdc-dc74-4167-a882-3a42fb1b49fc",
   "metadata": {
    "collapsed": false
   },
   "outputs": [
    {
     "name": "stdout",
     "output_type": "stream",
     "text": [
      "[1, 9, 25]\n"
     ]
    }
   ],
   "source": [
    "print(L2)"
   ]
  },
  {
   "cell_type": "code",
   "execution_count": 11,
   "id": "5a792c3f-8c55-43bd-96d5-45a0fd812ec8",
   "metadata": {
    "collapsed": false,
    "jupyter": {
     "outputs_hidden": false
    }
   },
   "outputs": [
    {
     "data": {
      "text/plain": [
       "[0, 1, 4, 9, 16, 25, 36, 49, 64, 81]"
      ]
     },
     "execution_count": 11,
     "metadata": {},
     "output_type": "execute_result"
    }
   ],
   "source": [
    "cuadrados = [i**2 for i in range(10)]\n",
    "cuadrados"
   ]
  },
  {
   "cell_type": "markdown",
   "id": "4f5e4060-1e54-4208-8c72-1b2908ac6621",
   "metadata": {
    "collapsed": false,
    "jupyter": {
     "outputs_hidden": false
    }
   },
   "source": [
    "Una lista con los cuadrados sólo de los números pares también puede crearse de esta manera, ya que puede incorporarse una condición:"
   ]
  },
  {
   "cell_type": "code",
   "execution_count": 14,
   "id": "b49876e9-eb6d-427b-b992-13cac7757c38",
   "metadata": {
    "collapsed": false,
    "jupyter": {
     "outputs_hidden": false
    }
   },
   "outputs": [
    {
     "data": {
      "text/plain": [
       "[4, 16, 36, 64, 100, 144, 196, 256, 324, 400]"
      ]
     },
     "execution_count": 14,
     "metadata": {},
     "output_type": "execute_result"
    }
   ],
   "source": [
    "L = [a**2 for a in range(2,21) if a % 2 == 0]\n",
    "L"
   ]
  },
  {
   "cell_type": "markdown",
   "id": "48e1cdbb-7f91-4a15-9987-320e2050f5c3",
   "metadata": {
    "collapsed": false,
    "jupyter": {
     "outputs_hidden": false
    }
   },
   "source": [
    "### Tuplas\n",
    "\n",
    "Las tuplas son objetos similares a las listas, sobre las que se puede iterar y seleccionar partes según su índice. La principal diferencia es que son inmutables mientras que las listas pueden modificarse."
   ]
  },
  {
   "cell_type": "code",
   "execution_count": 15,
   "id": "03a75888-8336-4907-b64a-3049744ccfd4",
   "metadata": {
    "collapsed": false,
    "jupyter": {
     "outputs_hidden": false
    }
   },
   "outputs": [],
   "source": [
    "L1 = [0,1,2,3,4,5] # Las listas se definen con corchetes\n",
    "T1 = (0,1,2,3,4,5) # Las tuplas se definen con paréntesis"
   ]
  },
  {
   "cell_type": "code",
   "execution_count": 16,
   "id": "3d47edb4-afe3-4b59-a2d5-8932d6066e14",
   "metadata": {
    "collapsed": false,
    "jupyter": {
     "outputs_hidden": false
    }
   },
   "outputs": [
    {
     "name": "stdout",
     "output_type": "stream",
     "text": [
      "L1[0] = -1\n"
     ]
    }
   ],
   "source": [
    "L1[0] = -1\n",
    "print(f\"L1[0] = {L1[0]}\")"
   ]
  },
  {
   "cell_type": "code",
   "execution_count": 17,
   "id": "a3707ecc-638c-48c9-9171-09c20bd4a99d",
   "metadata": {
    "collapsed": false,
    "jupyter": {
     "outputs_hidden": false
    }
   },
   "outputs": [
    {
     "name": "stdout",
     "output_type": "stream",
     "text": [
      "Tuples son inmutables\n"
     ]
    }
   ],
   "source": [
    "try:\n",
    "    T1[0] = -1\n",
    "    print(f\"{T1[0] = }\")\n",
    "except:\n",
    "    print('Tuples son inmutables')"
   ]
  },
  {
   "cell_type": "markdown",
   "id": "adfbac85-9184-43a1-853a-cb62857d9c78",
   "metadata": {
    "collapsed": false,
    "jupyter": {
     "outputs_hidden": false
    }
   },
   "source": [
    "Las tuplas se usan cuando uno quiere crear una \"variable\" que no va a ser modificada. Además códigos similares con tuplas pueden ser un poco más rápidos que si usan listas.\n",
    "\n",
    "Un uso común de las tuplas es el de asignación simultánea a múltiples variables:"
   ]
  },
  {
   "cell_type": "code",
   "execution_count": 18,
   "id": "89baa115-ae66-4eaf-9f54-735e05277480",
   "metadata": {
    "collapsed": false,
    "jupyter": {
     "outputs_hidden": false
    }
   },
   "outputs": [],
   "source": [
    "a, b, c = (1, 3, 5)"
   ]
  },
  {
   "cell_type": "code",
   "execution_count": 19,
   "id": "b7c80c25-2496-4fb1-ba6d-97eb2963b43b",
   "metadata": {
    "collapsed": false,
    "jupyter": {
     "outputs_hidden": false
    }
   },
   "outputs": [
    {
     "name": "stdout",
     "output_type": "stream",
     "text": [
      "3\n",
      "1 3 5\n"
     ]
    }
   ],
   "source": [
    "print(b)\n",
    "print(a, b, c)"
   ]
  },
  {
   "cell_type": "code",
   "execution_count": 20,
   "id": "1d317243-32a7-4093-95d2-bcefd8a0d613",
   "metadata": {
    "collapsed": false,
    "jupyter": {
     "outputs_hidden": false
    }
   },
   "outputs": [
    {
     "name": "stdout",
     "output_type": "stream",
     "text": [
      "5\n",
      "4 5 6\n"
     ]
    }
   ],
   "source": [
    "# Los paréntesis son opcionales en este caso\n",
    "a, b, c = 4, 5, 6\n",
    "print(b)\n",
    "print(a,b,c)"
   ]
  },
  {
   "cell_type": "markdown",
   "id": "c0ba96e0-a790-41a0-803c-459e594ad8de",
   "metadata": {
    "collapsed": false,
    "jupyter": {
     "outputs_hidden": false
    }
   },
   "source": [
    "Un uso muy común es el de intercambiar el valor de dos variables"
   ]
  },
  {
   "cell_type": "code",
   "execution_count": 21,
   "id": "9c535fea-75a5-4e39-8bfc-e9c850efcb48",
   "metadata": {
    "collapsed": false,
    "jupyter": {
     "outputs_hidden": false
    }
   },
   "outputs": [
    {
     "name": "stdout",
     "output_type": "stream",
     "text": [
      "4 5\n",
      "5 4\n"
     ]
    }
   ],
   "source": [
    "print(a,b)\n",
    "a, b = b, a                     # swap \n",
    "print(a,b)"
   ]
  },
  {
   "cell_type": "markdown",
   "id": "18935d12-86dc-49a9-9d7c-015bd072093e",
   "metadata": {
    "collapsed": false,
    "jupyter": {
     "outputs_hidden": false
    }
   },
   "source": [
    "### Rangos\n",
    "\n",
    "Los objetos de tipo [range](https://docs.python.org/es/3/library/stdtypes.html#ranges) representan una secuencia inmutable de números y se usan habitualmente para ejecutar un bucle [for](https://docs.python.org/es/3/reference/compound_stmts.html#for) un número determinado de veces. El formato es uno de:\n",
    "\n",
    "    range(stop)\n",
    "    range(start, stop)\n",
    "    range(start, stop, step)\n",
    "    "
   ]
  },
  {
   "cell_type": "code",
   "execution_count": 22,
   "id": "06df117d-acd3-4e6f-b14b-168d5bd3e2c0",
   "metadata": {
    "collapsed": false,
    "jupyter": {
     "outputs_hidden": false
    }
   },
   "outputs": [
    {
     "data": {
      "text/plain": [
       "range(0, 2)"
      ]
     },
     "execution_count": 22,
     "metadata": {},
     "output_type": "execute_result"
    }
   ],
   "source": [
    "range(2)"
   ]
  },
  {
   "cell_type": "code",
   "execution_count": 23,
   "id": "170edb16-e04e-436a-a19b-5407d1e75026",
   "metadata": {
    "collapsed": false,
    "jupyter": {
     "outputs_hidden": false
    }
   },
   "outputs": [
    {
     "data": {
      "text/plain": [
       "range"
      ]
     },
     "execution_count": 23,
     "metadata": {},
     "output_type": "execute_result"
    }
   ],
   "source": [
    "type(range(2))"
   ]
  },
  {
   "cell_type": "code",
   "execution_count": 24,
   "id": "30bc6528-25d1-495d-80e7-9e3bed62e16e",
   "metadata": {
    "collapsed": false,
    "jupyter": {
     "outputs_hidden": false
    }
   },
   "outputs": [
    {
     "data": {
      "text/plain": [
       "range(2, 9)"
      ]
     },
     "execution_count": 24,
     "metadata": {},
     "output_type": "execute_result"
    }
   ],
   "source": [
    "range(2,9)"
   ]
  },
  {
   "cell_type": "code",
   "execution_count": 25,
   "id": "3d9bdf5b-cf88-4940-8704-f3d76d34b8a8",
   "metadata": {
    "collapsed": false,
    "jupyter": {
     "outputs_hidden": false
    }
   },
   "outputs": [
    {
     "data": {
      "text/plain": [
       "[2, 3, 4, 5, 6, 7, 8]"
      ]
     },
     "execution_count": 25,
     "metadata": {},
     "output_type": "execute_result"
    }
   ],
   "source": [
    "list(range(2,9))"
   ]
  },
  {
   "cell_type": "code",
   "execution_count": 26,
   "id": "c191b127-cb5f-4a32-b293-5591ddacf0af",
   "metadata": {
    "collapsed": false,
    "jupyter": {
     "outputs_hidden": false
    }
   },
   "outputs": [
    {
     "data": {
      "text/plain": [
       "[2, 4, 6, 8]"
      ]
     },
     "execution_count": 26,
     "metadata": {},
     "output_type": "execute_result"
    }
   ],
   "source": [
    "list(range(2,9,2))"
   ]
  },
  {
   "cell_type": "markdown",
   "id": "c4fbb6c5",
   "metadata": {
    "collapsed": false,
    "jupyter": {
     "outputs_hidden": false
    }
   },
   "source": [
    "### Operaciones sobre listas\n",
    "\n",
    "Veamos algunas operaciones que se pueden realizar sobre listas. \n",
    "Por ejemplo, se puede fácilmente:\n",
    "\n",
    "  - concatenar dos listas,\n",
    "  - buscar un valor dado,\n",
    "  - agregar elementos,\n",
    "  - borrar elementos,\n",
    "  - calcular su longitud,\n",
    "  - invertirla\n",
    " \n",
    "Empecemos concatenando dos listas, usando el operador \"suma\""
   ]
  },
  {
   "cell_type": "code",
   "execution_count": 27,
   "id": "8848b508",
   "metadata": {
    "collapsed": false,
    "jupyter": {
     "outputs_hidden": false
    }
   },
   "outputs": [],
   "source": [
    "L1 = [0,1,2,3,4,5]"
   ]
  },
  {
   "cell_type": "code",
   "execution_count": 28,
   "id": "4e90715b",
   "metadata": {
    "collapsed": false,
    "jupyter": {
     "outputs_hidden": false
    }
   },
   "outputs": [
    {
     "data": {
      "text/plain": [
       "[0, 1, 2, 3, 4, 5, 0, 1, 2, 3, 4, 5]"
      ]
     },
     "execution_count": 28,
     "metadata": {},
     "output_type": "execute_result"
    }
   ],
   "source": [
    "L1 + L1"
   ]
  },
  {
   "cell_type": "code",
   "execution_count": 29,
   "id": "a5159a4e",
   "metadata": {
    "collapsed": false,
    "jupyter": {
     "outputs_hidden": false
    }
   },
   "outputs": [
    {
     "data": {
      "text/plain": [
       "True"
      ]
     },
     "execution_count": 29,
     "metadata": {},
     "output_type": "execute_result"
    }
   ],
   "source": [
    "2*L1 == L1 + L1"
   ]
  },
  {
   "cell_type": "code",
   "execution_count": 30,
   "id": "47bdaf23-6196-4415-98f9-75be5689ff4f",
   "metadata": {
    "collapsed": false,
    "jupyter": {
     "outputs_hidden": false
    }
   },
   "outputs": [],
   "source": [
    "L = 3*L1"
   ]
  },
  {
   "cell_type": "markdown",
   "id": "951e109e-5215-4e1d-8650-c9043b42d119",
   "metadata": {
    "collapsed": false,
    "jupyter": {
     "outputs_hidden": false
    }
   },
   "source": [
    "Las listas tienen definidos métodos, que podemos ver con la ayuda incluida, por ejemplo haciendo `help(list)`"
   ]
  },
  {
   "cell_type": "code",
   "execution_count": 31,
   "id": "4eabd2dd-0115-401b-9137-fb13976cabc5",
   "metadata": {
    "collapsed": false,
    "jupyter": {
     "outputs_hidden": false
    }
   },
   "outputs": [
    {
     "name": "stdout",
     "output_type": "stream",
     "text": [
      "[0, 1, 2, 3, 4, 5, 0, 1, 2, 3, 4, 5, 0, 1, 2, 3, 4, 5]\n"
     ]
    }
   ],
   "source": [
    "print(L)"
   ]
  },
  {
   "cell_type": "code",
   "execution_count": 32,
   "id": "9dc3d283",
   "metadata": {
    "collapsed": false,
    "jupyter": {
     "outputs_hidden": false
    }
   },
   "outputs": [
    {
     "data": {
      "text/plain": [
       "3"
      ]
     },
     "execution_count": 32,
     "metadata": {},
     "output_type": "execute_result"
    }
   ],
   "source": [
    "L.index(3)                      # Índice del elemento de valor 3"
   ]
  },
  {
   "cell_type": "code",
   "execution_count": 33,
   "id": "e45aa442",
   "metadata": {
    "collapsed": false,
    "jupyter": {
     "outputs_hidden": false
    }
   },
   "outputs": [
    {
     "data": {
      "text/plain": [
       "9"
      ]
     },
     "execution_count": 33,
     "metadata": {},
     "output_type": "execute_result"
    }
   ],
   "source": [
    "L.index(3,4)                    # Índice del valor 3, empezando del cuarto"
   ]
  },
  {
   "cell_type": "code",
   "execution_count": 34,
   "id": "25779a81",
   "metadata": {
    "collapsed": false,
    "jupyter": {
     "outputs_hidden": false
    }
   },
   "outputs": [
    {
     "data": {
      "text/plain": [
       "3"
      ]
     },
     "execution_count": 34,
     "metadata": {},
     "output_type": "execute_result"
    }
   ],
   "source": [
    "L.count(3)                      # Cuenta las veces que aparece el valor \"3\""
   ]
  },
  {
   "cell_type": "markdown",
   "id": "0e285963",
   "metadata": {
    "collapsed": false,
    "jupyter": {
     "outputs_hidden": false
    }
   },
   "source": [
    "Si queremos agregar un elemento al final utilizamos el método `append`:"
   ]
  },
  {
   "cell_type": "code",
   "execution_count": 35,
   "id": "eb41981a",
   "metadata": {
    "collapsed": false,
    "jupyter": {
     "outputs_hidden": false
    }
   },
   "outputs": [],
   "source": [
    "L.append(8)\n"
   ]
  },
  {
   "cell_type": "code",
   "execution_count": 36,
   "id": "58e60354",
   "metadata": {
    "collapsed": false,
    "jupyter": {
     "outputs_hidden": false
    }
   },
   "outputs": [
    {
     "name": "stdout",
     "output_type": "stream",
     "text": [
      "[0, 1, 2, 3, 4, 5, 0, 1, 2, 3, 4, 5, 0, 1, 2, 3, 4, 5, 8]\n"
     ]
    }
   ],
   "source": [
    "print(L)"
   ]
  },
  {
   "cell_type": "code",
   "execution_count": 37,
   "id": "d84555c0",
   "metadata": {
    "collapsed": false,
    "jupyter": {
     "outputs_hidden": false
    }
   },
   "outputs": [
    {
     "name": "stdout",
     "output_type": "stream",
     "text": [
      "[0, 1, 2, 3, 4, 5, 0, 1, 2, 3, 4, 5, 0, 1, 2, 3, 4, 5, 8, [9, 8, 7]]\n"
     ]
    }
   ],
   "source": [
    "L.append([9, 8, 7])\n",
    "print(L)"
   ]
  },
  {
   "cell_type": "markdown",
   "id": "00fadfec",
   "metadata": {
    "collapsed": false,
    "jupyter": {
     "outputs_hidden": false
    }
   },
   "source": [
    "Si queremos insertar un elemento en una posición que no es el final de la lista, usamos el método `insert()`. Por ejemplo para insertar el valor 6 en la primera posición:"
   ]
  },
  {
   "cell_type": "code",
   "execution_count": 38,
   "id": "aa90f31b",
   "metadata": {
    "collapsed": false,
    "jupyter": {
     "outputs_hidden": false
    }
   },
   "outputs": [
    {
     "name": "stdout",
     "output_type": "stream",
     "text": [
      "[6, 0, 1, 2, 3, 4, 5, 0, 1, 2, 3, 4, 5, 0, 1, 2, 3, 4, 5, 8, [9, 8, 7]]\n"
     ]
    }
   ],
   "source": [
    "L.insert(0,6)\n",
    "print(L)"
   ]
  },
  {
   "cell_type": "code",
   "execution_count": 39,
   "id": "9a5cf812",
   "metadata": {
    "collapsed": false,
    "jupyter": {
     "outputs_hidden": false
    }
   },
   "outputs": [
    {
     "name": "stdout",
     "output_type": "stream",
     "text": [
      "[6, 0, 1, 2, 3, 4, 5, 0, 1, 2, 3, 4, 5, 0, 1, 2, 3, 4, 5, 6, 8, [9, 8, 7]]\n"
     ]
    }
   ],
   "source": [
    "L.insert(-2,6)\n",
    "print(L)"
   ]
  },
  {
   "cell_type": "markdown",
   "id": "76bc3776",
   "metadata": {
    "collapsed": false,
    "jupyter": {
     "outputs_hidden": false
    }
   },
   "source": [
    "En las listas podemos sobreescribir uno o más elementos"
   ]
  },
  {
   "cell_type": "code",
   "execution_count": 40,
   "id": "3c90db0b",
   "metadata": {
    "collapsed": false,
    "jupyter": {
     "outputs_hidden": false
    }
   },
   "outputs": [
    {
     "name": "stdout",
     "output_type": "stream",
     "text": [
      "[2, 3, 4, 2, -4, 4, 5, 0, 1, 2, 3, 4, 5, 0, 1, 2, 3, 4, 5, 6, 8, [9, 8, 7]]\n"
     ]
    }
   ],
   "source": [
    "L[0:3] = [2,3,4]\n",
    "L[4]=-4\n",
    "print(L)"
   ]
  },
  {
   "cell_type": "code",
   "execution_count": 41,
   "id": "c0ed5a93",
   "metadata": {
    "collapsed": false,
    "jupyter": {
     "outputs_hidden": false
    }
   },
   "outputs": [
    {
     "name": "stdout",
     "output_type": "stream",
     "text": [
      "[2, 3, 4, 2, -4, 4, 5, 0, 1, 2, 3, 4, 5, 0, 1, 2, 3, 4, 5, 6, 0, 1]\n"
     ]
    }
   ],
   "source": [
    "L[-2:]=[0,1]\n",
    "print(L)"
   ]
  },
  {
   "cell_type": "code",
   "execution_count": 42,
   "id": "342ffaea",
   "metadata": {
    "collapsed": false,
    "jupyter": {
     "outputs_hidden": false
    }
   },
   "outputs": [],
   "source": [
    "L[-2:] = [7,\"fin2\"]"
   ]
  },
  {
   "cell_type": "code",
   "execution_count": 43,
   "id": "fb7fe042",
   "metadata": {
    "collapsed": false,
    "jupyter": {
     "outputs_hidden": false
    }
   },
   "outputs": [
    {
     "name": "stdout",
     "output_type": "stream",
     "text": [
      "[2, 3, 4, 2, -4, 4, 5, 0, 1, 2, 3, 4, 5, 0, 1, 2, 3, 4, 5, 6, 7, 'fin2']\n"
     ]
    }
   ],
   "source": [
    "print(L)"
   ]
  },
  {
   "cell_type": "code",
   "execution_count": 45,
   "id": "c8ea0cf2-8be4-444d-a751-29517315c94e",
   "metadata": {
    "collapsed": false,
    "jupyter": {
     "outputs_hidden": false
    }
   },
   "outputs": [],
   "source": [
    "L.extend([0,1])                 # Extendemos con varios elementos"
   ]
  },
  {
   "cell_type": "code",
   "execution_count": 46,
   "id": "54ccd334-209b-4ed9-837b-1fa2e0e5c6ee",
   "metadata": {
    "collapsed": false,
    "jupyter": {
     "outputs_hidden": false
    }
   },
   "outputs": [
    {
     "name": "stdout",
     "output_type": "stream",
     "text": [
      "[2, 3, 4, 2, -4, 4, 5, 0, 1, 2, 3, 4, 5, 0, 1, 2, 3, 4, 5, 6, 7, 'fin2', 0, 1]\n"
     ]
    }
   ],
   "source": [
    "print(L)"
   ]
  },
  {
   "cell_type": "code",
   "execution_count": 47,
   "id": "f5450b39",
   "metadata": {
    "collapsed": false,
    "jupyter": {
     "outputs_hidden": false
    }
   },
   "outputs": [
    {
     "name": "stdout",
     "output_type": "stream",
     "text": [
      "[2, 3, 4, 2, -4, 4, 5, 0, 1, 2, 3, 4, 5, 0, 1, 2, 3, 4, 5, 6, 7, 'fin2', 0, 1]\n",
      "[2, 3, 4, 2, -4, 4, 5, 0, 1, 2, 3, 4, 5, 0, 1, 2, 3, 4, 5, 6, 7, 0, 1]\n"
     ]
    }
   ],
   "source": [
    "print(L)\n",
    "L.remove('fin2')                     # Remueve la primera aparición del valor 3\n",
    "print(L)"
   ]
  },
  {
   "cell_type": "code",
   "execution_count": 48,
   "id": "4ae8ffbd-ae3d-4afc-9ea6-75c153da6ab8",
   "metadata": {
    "collapsed": false,
    "jupyter": {
     "outputs_hidden": false
    }
   },
   "outputs": [
    {
     "name": "stdout",
     "output_type": "stream",
     "text": [
      "[0, 1, 2, 3, 4, 5]\n",
      "[5, 4, 3, 2, 1, 0]\n"
     ]
    }
   ],
   "source": [
    "print(L1)\n",
    "L1.reverse()\n",
    "print(L1)"
   ]
  },
  {
   "cell_type": "markdown",
   "id": "8c5548f1-3172-472b-93da-6b0caf23ff29",
   "metadata": {
    "collapsed": false
   },
   "source": [
    "Función de Python que invierte una lista"
   ]
  },
  {
   "cell_type": "code",
   "execution_count": 54,
   "id": "05662236-e437-4c92-8b80-9930f7a5c97e",
   "metadata": {
    "collapsed": false,
    "jupyter": {
     "outputs_hidden": false
    }
   },
   "outputs": [
    {
     "name": "stdout",
     "output_type": "stream",
     "text": [
      "[0, 1, 2, 3, 4, 5]\n"
     ]
    }
   ],
   "source": [
    "print(list(reversed(L1)))"
   ]
  },
  {
   "cell_type": "code",
   "execution_count": 49,
   "id": "2d621651-2ab2-4301-ad88-18970c46aa83",
   "metadata": {
    "collapsed": false,
    "jupyter": {
     "outputs_hidden": false
    }
   },
   "outputs": [
    {
     "name": "stdout",
     "output_type": "stream",
     "text": [
      "[-4, 0, 0, 0, 1, 1, 1, 2, 2, 2, 2, 3, 3, 3, 4, 4, 4, 4, 5, 5, 5, 6, 7]\n"
     ]
    }
   ],
   "source": [
    "L.sort()          # Ordena la lista (si los elementos son comparables)\n",
    "print(L)"
   ]
  },
  {
   "cell_type": "markdown",
   "id": "bd01ad9e-292d-4b57-a912-92c12f0fd7c9",
   "metadata": {
    "collapsed": false,
    "jupyter": {
     "outputs_hidden": false
    }
   },
   "source": [
    "El método `sort()` de las listas acepta dos argumentos opcionales: `key` y `reverse`"
   ]
  },
  {
   "cell_type": "code",
   "execution_count": 50,
   "id": "34f46085-08a8-4744-a740-3453c265a18d",
   "metadata": {
    "collapsed": false
   },
   "outputs": [
    {
     "ename": "TypeError",
     "evalue": "sort() takes no positional arguments",
     "output_type": "error",
     "traceback": [
      "\u001b[0;31m---------------------------------------------------------------------------\u001b[0m",
      "\u001b[0;31mTypeError\u001b[0m                                 Traceback (most recent call last)",
      "Cell \u001b[0;32mIn[50], line 1\u001b[0m\n\u001b[0;32m----> 1\u001b[0m \u001b[43mL\u001b[49m\u001b[38;5;241;43m.\u001b[39;49m\u001b[43msort\u001b[49m\u001b[43m(\u001b[49m\u001b[38;5;28;43;01mTrue\u001b[39;49;00m\u001b[43m)\u001b[49m\n",
      "\u001b[0;31mTypeError\u001b[0m: sort() takes no positional arguments"
     ]
    }
   ],
   "source": [
    "L.sort(True)"
   ]
  },
  {
   "cell_type": "code",
   "execution_count": 51,
   "id": "1cbc32ae-b0f3-4bc0-8d60-8fa9caa61750",
   "metadata": {
    "collapsed": false,
    "jupyter": {
     "outputs_hidden": false
    }
   },
   "outputs": [
    {
     "name": "stdout",
     "output_type": "stream",
     "text": [
      "[7, 6, 5, 5, 5, 4, 4, 4, 4, 3, 3, 3, 2, 2, 2, 2, 1, 1, 1, 0, 0, 0, -4]\n"
     ]
    }
   ],
   "source": [
    "L.sort(reverse=True)            \n",
    "print(L)"
   ]
  },
  {
   "cell_type": "markdown",
   "id": "4e977576-27cf-4269-87a3-798bceec5046",
   "metadata": {
    "collapsed": false,
    "jupyter": {
     "outputs_hidden": false
    }
   },
   "source": [
    "#### Funciones que aplican sobre listas\n",
    "\n",
    "Hay algunas funciones de Python que se aplican sobre listas (o sobre iterables en general). Algunas de ellas son la suma `sum()` e inversión `reversed()`"
   ]
  },
  {
   "cell_type": "code",
   "execution_count": 55,
   "id": "aa252838-d295-449c-8096-3fb8eb897dd4",
   "metadata": {
    "collapsed": false
   },
   "outputs": [
    {
     "data": {
      "text/plain": [
       "[7, 6, 5, 5, 5, 4, 4, 4, 4, 3, 3, 3, 2, 2, 2, 2, 1, 1, 1, 0, 0, 0, -4]"
      ]
     },
     "execution_count": 55,
     "metadata": {},
     "output_type": "execute_result"
    }
   ],
   "source": [
    "L"
   ]
  },
  {
   "cell_type": "code",
   "execution_count": 56,
   "id": "ec9242e2",
   "metadata": {
    "collapsed": false,
    "jupyter": {
     "outputs_hidden": false
    }
   },
   "outputs": [
    {
     "data": {
      "text/plain": [
       "60"
      ]
     },
     "execution_count": 56,
     "metadata": {},
     "output_type": "execute_result"
    }
   ],
   "source": [
    "sum(L)"
   ]
  },
  {
   "cell_type": "code",
   "execution_count": 57,
   "id": "72240321-2b6a-4f11-a198-acdf71ff7fb3",
   "metadata": {
    "collapsed": false,
    "jupyter": {
     "outputs_hidden": false
    }
   },
   "outputs": [
    {
     "data": {
      "text/plain": [
       "<list_reverseiterator at 0x7fed3814ceb0>"
      ]
     },
     "execution_count": 57,
     "metadata": {},
     "output_type": "execute_result"
    }
   ],
   "source": [
    "reversed(L)"
   ]
  },
  {
   "cell_type": "code",
   "execution_count": 58,
   "id": "d653c650-b006-403e-8005-3e1f84608f6d",
   "metadata": {
    "collapsed": false,
    "jupyter": {
     "outputs_hidden": false
    }
   },
   "outputs": [
    {
     "name": "stdout",
     "output_type": "stream",
     "text": [
      "[-4, 0, 0, 0, 1, 1, 1, 2, 2, 2, 2, 3, 3, 3, 4, 4, 4, 4, 5, 5, 5, 6, 7]\n"
     ]
    }
   ],
   "source": [
    "L1 = list(reversed(L))\n",
    "print(L1)"
   ]
  },
  {
   "cell_type": "markdown",
   "id": "a94ba2a6-eafb-4074-aabf-a7a58fc7d7c0",
   "metadata": {
    "collapsed": false,
    "jupyter": {
     "outputs_hidden": false
    }
   },
   "source": [
    "Las funciones mínimo `min()`, máximo `max()` y ordenar `sorted()` toman como argumento una lista (u otro iterable) de elementos que pueden compararse entre sí"
   ]
  },
  {
   "cell_type": "code",
   "execution_count": 59,
   "id": "f057e7b4-2c67-43ce-a675-3ecdda8e7142",
   "metadata": {
    "collapsed": false,
    "jupyter": {
     "outputs_hidden": false
    }
   },
   "outputs": [
    {
     "name": "stdout",
     "output_type": "stream",
     "text": [
      "-4 7\n"
     ]
    }
   ],
   "source": [
    "print(min(L), max(L))"
   ]
  },
  {
   "cell_type": "code",
   "execution_count": 60,
   "id": "f54dd844-1650-492c-957f-87f9c0de6c97",
   "metadata": {
    "collapsed": false,
    "jupyter": {
     "outputs_hidden": false
    }
   },
   "outputs": [
    {
     "name": "stdout",
     "output_type": "stream",
     "text": [
      "[-4, 0, 0, 0, 1, 1, 1, 2, 2, 2, 2, 3, 3, 3, 4, 4, 4, 4, 5, 5, 5, 6, 7]\n"
     ]
    }
   ],
   "source": [
    "print(sorted(L))"
   ]
  },
  {
   "cell_type": "code",
   "execution_count": 61,
   "id": "131dd7b5-dc77-4167-9bc6-7dcff21fea38",
   "metadata": {
    "collapsed": false,
    "jupyter": {
     "outputs_hidden": false
    }
   },
   "outputs": [
    {
     "name": "stdout",
     "output_type": "stream",
     "text": [
      "Help on built-in function sorted in module builtins:\n",
      "\n",
      "sorted(iterable, /, *, key=None, reverse=False)\n",
      "    Return a new list containing all items from the iterable in ascending order.\n",
      "    \n",
      "    A custom key function can be supplied to customize the sort order, and the\n",
      "    reverse flag can be set to request the result in descending order.\n",
      "\n"
     ]
    }
   ],
   "source": [
    "help(sorted)"
   ]
  },
  {
   "cell_type": "markdown",
   "id": "89d05b79-6a90-43a7-8e30-a5f158790a30",
   "metadata": {
    "collapsed": false,
    "jupyter": {
     "outputs_hidden": false
    }
   },
   "source": [
    "Estas funciones toman además un argumento opcional `key`, que es una función que se aplica a cada elemento antes de compararlos"
   ]
  },
  {
   "cell_type": "markdown",
   "id": "5e955b49",
   "metadata": {
    "collapsed": false,
    "jupyter": {
     "outputs_hidden": false
    }
   },
   "source": [
    "Puede encontrarse más información en [la Biblioteca de Python](https://docs.python.org/3/library/stdtypes.html#sequence-types-list-tuple-range)."
   ]
  },
  {
   "cell_type": "code",
   "execution_count": 64,
   "id": "b1a8110c-2ec0-4e31-8d4a-a145354da323",
   "metadata": {
    "collapsed": false
   },
   "outputs": [
    {
     "data": {
      "text/plain": [
       "'holaabcdequeabcdetal'"
      ]
     },
     "execution_count": 64,
     "metadata": {},
     "output_type": "execute_result"
    }
   ],
   "source": [
    "s = \"abcde\"\n",
    "L3 = ['hola','que','tal']\n",
    "s.join(L3)"
   ]
  },
  {
   "cell_type": "code",
   "execution_count": 65,
   "id": "c0b08fad-517c-4573-8f0e-1a5411619170",
   "metadata": {
    "collapsed": false
   },
   "outputs": [
    {
     "data": {
      "text/plain": [
       "'hola que tal'"
      ]
     },
     "execution_count": 65,
     "metadata": {},
     "output_type": "execute_result"
    }
   ],
   "source": [
    "\" \".join(L3)"
   ]
  },
  {
   "cell_type": "code",
   "execution_count": 69,
   "id": "7c4205a4-b9f2-44e4-a417-bac4157daff9",
   "metadata": {
    "collapsed": false
   },
   "outputs": [
    {
     "name": "stdout",
     "output_type": "stream",
     "text": [
      "hola\n",
      "que\n",
      "tal\n"
     ]
    }
   ],
   "source": [
    "print(\"\\n\".join(L3))"
   ]
  },
  {
   "cell_type": "markdown",
   "id": "510692a9",
   "metadata": {
    "collapsed": false,
    "jupyter": {
     "outputs_hidden": false
    }
   },
   "source": [
    "-------- \n",
    "\n",
    "## Ejercicios 02 (c)\n",
    "\n",
    "7. **Para Entregar:** Manejos de listas:\n",
    "    - Cree la lista **N** de longitud 50, donde cada elemento es un número entero de 1 a 50 inclusive (Ayuda: vea la expresión ``range``).\n",
    "    - Invierta la lista.\n",
    "    - Extraiga de **N** una lista **N1** que contenga sólo aquellos elementos que sean el cuadrado de algún número entero.\n",
    "    - Extraiga de **N** una lista **N2** que contenga sólo aquellos elementos que sean iguales al $n^2-n$ para algún número entero $n$.\n",
    "    \n",
    "   *Ayuda:* Puede resultar útil recordar el uso de comprensión de listas.\n",
    "\n",
    "   Debe enviar por correo electrónico, con asunto \"02_Suapellido\", un programa llamado 02_SuApellido.py (en todos los casos utilice su apellido, no la palabra “SuApellido”).\n",
    " \n",
    "\n",
    "7. Cree una lista de la forma `L = [1,3,5,...,17,19,19,17,...,3,1]` (*Ayuda:* vea la expresión ``range``).\n",
    "\n",
    "8. Escriba una función que tome un número entero de tres cifras, y devuelva el mayor entero que se puede formar con esas cifras (*Ayuda:* considere convertir el número entero a otros tipos).\n",
    "\n",
    "9. Construya una lista `L2` con 2000 elementos, todos iguales a `0.0005`.\n",
    "Imprima su suma utilizando la función `sum` y comparar con el resultado que arroja la función que existe en el módulo `math` para realizar suma de números de punto flotante.\n",
    "\n",
    "10. Operación \"rara\" sobre una lista:\n",
    "    - Defina la lista `L = [0,1]`\n",
    "    - Realice la operación `L.append(L)`\n",
    "    - Ahora imprima L, e imprima el último elemento de `L`.\n",
    "    - Haga que una nueva lista `L1` tenga el valor del último elemento de `L` y repita el inciso anterior.\n",
    "\n",
    "--------\n",
    "."
   ]
  }
 ],
 "metadata": {
  "kernelspec": {
   "argv": [
    "/usr/bin/python3",
    "-m",
    "ipykernel_launcher",
    "-f",
    "{connection_file}"
   ],
   "display_name": "Python 3 (ipykernel)",
   "env": null,
   "interrupt_mode": "signal",
   "language": "python",
   "metadata": {
    "debugger": false
   },
   "name": "python3"
  },
  "language_info": {
   "codemirror_mode": {
    "name": "ipython",
    "version": 3
   },
   "file_extension": ".py",
   "mimetype": "text/x-python",
   "name": "python",
   "nbconvert_exporter": "python",
   "pygments_lexer": "ipython3",
   "version": "3.11.7"
  },
  "name": "02_3_listas.ipynb",
  "toc": {
   "base_numbering": 1,
   "nav_menu": {
    "height": "199px",
    "width": "251.333px"
   },
   "number_sections": true,
   "sideBar": true,
   "skip_h1_title": true,
   "title_cell": "Contenidos",
   "title_sidebar": "Contenidos",
   "toc_cell": false,
   "toc_position": null,
   "toc_section_display": true,
   "toc_window_display": true
  }
 },
 "nbformat": 4,
 "nbformat_minor": 5
}
