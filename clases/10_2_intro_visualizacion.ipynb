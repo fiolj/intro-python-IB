{
 "cells": [
  {
   "cell_type": "markdown",
   "id": "41816711",
   "metadata": {
    "editable": true,
    "ein.tags": "worksheet-0",
    "slideshow": {
     "slide_type": "-"
    },
    "tags": []
   },
   "source": [
    "# Visualización   <a class=\"tocSkip\">\n",
    "\n",
    "Para graficar datos y funciones vamos a usar la biblioteca **Matplotlib**.\n",
    "Vamos a empezar discutiendo algunas de las características más generales del trabajo con esta biblioteca y mostrar algún ejemplo relativamente sencillo.\n",
    "Matplotlib está dividido en tres partes o capas conceptualmente bien delimitadas:\n",
    "\n",
    "* Una parte es la que hace el trabajo más básico creando y administrando cada objeto que forma parte del gráfico (líneas, texto, figuras, etc) así como sus relaciones,\n",
    "* Una segunda parte que permite un uso simple de las funciones anteriores: una interfaz con el usuario. Un ejemplo es el submódulo **pyplot**.\n",
    "* Una tercera componente que se encarga de presentar la figura en el formato adecuado. Esto es lo que se llama el *Backend* y se encarga de mostrar la figura en los distintos sistemas de ventanas, o en formatos de archivos correspondientes. Algunos ejemplos de *backend* son: PS (copias PostScript®), SVG (Scalable Vector Graphics), Agg (salida PNG de muy buena calidad), Cairo (png, pdf, ps, svg), GTK (interactivo, permite integrar matplotlib con aplicaciones Gtk+, que usa GNOME), PDF, WxWidgets (interactivo), Qt (interactivo).\n",
    "\n",
    "Nosotros vamos a concentrarnos principalmente en aprender a utilizar **pyplot**\n"
   ]
  },
  {
   "cell_type": "markdown",
   "id": "bb22def7",
   "metadata": {
    "ein.tags": "worksheet-0",
    "slideshow": {
     "slide_type": "-"
    }
   },
   "source": [
    "## Interactividad\n",
    "### Trabajo con ventanas emergentes\n",
    "\n",
    "Podemos trabajar en forma interactiva con gráficos desde una terminal de `Ipython`"
   ]
  },
  {
   "cell_type": "markdown",
   "id": "ca3c9c9a",
   "metadata": {
    "ein.tags": "worksheet-0",
    "slideshow": {
     "slide_type": "-"
    }
   },
   "source": [
    "```python\n",
    "  import matplotlib.pyplot as plt # o equivalentemente:\n",
    "  # from matplotlib import pyplot as plt\n",
    "  plt.plot([0,1,4,9,16,25])\n",
    "```"
   ]
  },
  {
   "cell_type": "markdown",
   "id": "9d9047a0",
   "metadata": {
    "ein.tags": "worksheet-0",
    "slideshow": {
     "slide_type": "-"
    }
   },
   "source": [
    "El comando (la función) `plot()` crea el gráfico pero no lo muestra. Lo hacemos explícitamente con el comando `show()`\n",
    "```python\n",
    "  plt.show()\n",
    "```"
   ]
  },
  {
   "cell_type": "markdown",
   "id": "b980a7fd",
   "metadata": {
    "ein.tags": "worksheet-0",
    "slideshow": {
     "slide_type": "-"
    }
   },
   "source": [
    "Vemos que es muy simple graficar datos.\n",
    "\n",
    "Algunas cosas a notar:\n",
    "\n",
    "1. Se abre una ventana\n",
    "2. Se bloquea la terminal (no podemos dar nuevos comandos)\n",
    "3. Si pasamos el *mouse* sobre el gráfico nos muestra las coordenadas.\n",
    "4. Además del gráfico hay una barra de herramientas:\n",
    "![](figuras/matplotlib_toolbar.png)\n",
    "De derecha a izquierda tenemos:\n",
    "  - **Grabar:** Este botón abre una ventana para guardar el gráfico en alguno de los formatos disponibles.\n",
    "  \n",
    "  - **Configuración de subplots:** Permite modificar el tamaño y posición de cada gráfico en la ventana.\n",
    "  \n",
    "  - **Agrandar (zoom) a rectángulo:**\n",
    "     - Si elegimos una región mientras apretamos el botón **izquierdo**, esta será la nueva región visible ocupando toda la ventana.\n",
    "     - Si elegimos una región mientras apretamos el botón **derecho**, pone toda la vista actual en esta región.\n",
    "  \n",
    "  - **Desplazar y agrandar (Pan and zoom):** Este botón cumple dos funciones diferentes:\n",
    "     - Con el botón izquierdo desplaza la vista. \n",
    "     - Con el botón derecho la vista se agrandará achicará en los ejes horizontal y vertical en una cantidad proporcional al movimiento.\n",
    "     \n",
    "     Si se oprime las teclas `x` o `y` las dos funciones quedan restringidas al eje correspondiente.\n",
    "  \n",
    "  - **Home, Back, Forward** son botones que nos llevan a la vista original, una vista hacia atrás o hacia adelante respectivamente\n",
    "  "
   ]
  },
  {
   "cell_type": "markdown",
   "id": "33fd9019",
   "metadata": {
    "ein.tags": "worksheet-0",
    "slideshow": {
     "slide_type": "-"
    }
   },
   "source": [
    "Si ocurre, como en este caso, que proveemos sólo una lista de datos, la función `plot()` la interpreta como los valores correspondientes al eje vertical (eje y), y toma el índice del dato para la variable independiente (eje x). Si queremos dar valores explícitamente para el eje x debemos pasarlos como primer argumento. "
   ]
  },
  {
   "cell_type": "markdown",
   "id": "eb1dec19",
   "metadata": {
    "ein.tags": "worksheet-0",
    "slideshow": {
     "slide_type": "-"
    }
   },
   "source": [
    "```python\n",
    "plt.plot([0,1,2,3,4,5],[0,1,4,9,16,25])\n",
    "plt.show()\n",
    "```"
   ]
  },
  {
   "cell_type": "markdown",
   "id": "28709afe",
   "metadata": {
    "ein.tags": "worksheet-0",
    "slideshow": {
     "slide_type": "-"
    }
   },
   "source": [
    "Como vemos, para que muestre la ventana debemos hacer un llamado explícito a la función `show()`. Esto es así porque muchas veces queremos realizar más de una operación sobre un gráfico antes de mostrarlo. Sin embargo, hay varias alternativas respecto a la interactividad de matplotlib (e ipython) que permiten adecuarla a nuestro flujo de trabajo. La manera más común en una terminal es utilizando las función `ion()` (**i**nteractive **on**) para hacerlo interactivo y la función `ioff()` para no interactivo."
   ]
  },
  {
   "cell_type": "markdown",
   "id": "a595e533",
   "metadata": {
    "ein.tags": "worksheet-0",
    "slideshow": {
     "slide_type": "-"
    }
   },
   "source": [
    "```python\n",
    "plt.ion()           # Prendemos el modo interactivo\n",
    "plt.plot([0,1,2,3,4,5],[0,1,4,9,16,25])\n",
    "```\n",
    "\n",
    "En el modo interactivo no sólo `plot()` tiene implícito el comando `show()` sino que podemos seguir ingresando comandos con el gráfico abierto.\n"
   ]
  },
  {
   "cell_type": "markdown",
   "id": "593377ba",
   "metadata": {
    "ein.tags": "worksheet-0",
    "slideshow": {
     "slide_type": "-"
    }
   },
   "source": [
    "### Trabajo sobre notebooks\n",
    "\n",
    "Para trabajar en *ipython notebooks* suele ser conveniente realizar los gráficos dentro de la misma página donde realizamos los cálculos"
   ]
  },
  {
   "cell_type": "code",
   "execution_count": null,
   "id": "0ef05ed7",
   "metadata": {
    "autoscroll": false,
    "ein.hycell": false,
    "ein.tags": "worksheet-0",
    "slideshow": {
     "slide_type": "-"
    }
   },
   "outputs": [],
   "source": [
    "import matplotlib.pyplot as plt\n",
    "plt.plot([1,2,3,4,5,6],[0,1,4,9,16,25])"
   ]
  },
  {
   "cell_type": "markdown",
   "id": "dc987aeb",
   "metadata": {
    "ein.tags": "worksheet-0",
    "slideshow": {
     "slide_type": "-"
    }
   },
   "source": [
    "En la práctica vamos a usar siempre **Matplotlib** junto con **Numpy**."
   ]
  },
  {
   "cell_type": "code",
   "execution_count": null,
   "id": "96a50c6c",
   "metadata": {
    "autoscroll": false,
    "ein.hycell": false,
    "ein.tags": "worksheet-0",
    "slideshow": {
     "slide_type": "-"
    }
   },
   "outputs": [],
   "source": [
    "import numpy as np\n",
    "import matplotlib.pyplot as plt"
   ]
  },
  {
   "cell_type": "markdown",
   "id": "5d444624",
   "metadata": {
    "ein.tags": "worksheet-0",
    "slideshow": {
     "slide_type": "-"
    }
   },
   "source": [
    "## Gráficos simples"
   ]
  },
  {
   "cell_type": "markdown",
   "id": "b3bfd79c",
   "metadata": {
    "ein.tags": "worksheet-0",
    "slideshow": {
     "slide_type": "-"
    }
   },
   "source": [
    "El paquete *Matplotlib* permite visualizar datos guardados en un archivo con unas pocas líneas"
   ]
  },
  {
   "cell_type": "code",
   "execution_count": null,
   "id": "6b2b42c9",
   "metadata": {
    "autoscroll": false,
    "ein.hycell": false,
    "ein.tags": "worksheet-0",
    "slideshow": {
     "slide_type": "-"
    }
   },
   "outputs": [],
   "source": [
    "fdatos = 'data/ej_oscil_aten_err.dat'"
   ]
  },
  {
   "cell_type": "code",
   "execution_count": null,
   "id": "ba852acc",
   "metadata": {
    "autoscroll": false,
    "ein.hycell": false,
    "ein.tags": "worksheet-0",
    "slideshow": {
     "slide_type": "-"
    }
   },
   "outputs": [],
   "source": [
    "x, y, yexp = np.loadtxt(fdatos, unpack=True)\n",
    "plt.plot(x, y)"
   ]
  },
  {
   "cell_type": "markdown",
   "id": "887dc496",
   "metadata": {
    "ein.tags": "worksheet-0",
    "slideshow": {
     "slide_type": "-"
    }
   },
   "source": [
    "Como vemos, es la curva que graficamos la clase anterior. \n",
    "\n",
    "Si miramos el archivo vamos a ver que tiene una columna más que corresponde a los valores medidos. En consecuencia le asignamos esta tercera columna a una variable adicional `yexp` al leerlo."
   ]
  },
  {
   "cell_type": "code",
   "execution_count": null,
   "id": "7bb74c60",
   "metadata": {
    "autoscroll": false,
    "ein.hycell": false,
    "ein.tags": "worksheet-0",
    "slideshow": {
     "slide_type": "-"
    }
   },
   "outputs": [],
   "source": [
    "# Graficamos las segunda y tercera columnas como función de la primera\n",
    "plt.plot(x,yexp, x,y)"
   ]
  },
  {
   "cell_type": "markdown",
   "id": "cca82bfb",
   "metadata": {
    "ein.tags": "worksheet-0",
    "slideshow": {
     "slide_type": "-"
    }
   },
   "source": [
    "## Formato de las curvas\n",
    "En los gráficos anteriores usamos la función `plot()` en sus formas más simples.\n",
    "\n",
    "```python\n",
    "plot(y)\n",
    "plot(x,y)\n",
    "plot(x1,y1, x2, y2)\n",
    "```\n",
    "\n",
    "dando a la función `plot()` la información mínima necesaria para graficar los datos.\n",
    "Usualmente queremos poder elegir cómo vamos a graficar nuestros datos.\n"
   ]
  },
  {
   "cell_type": "markdown",
   "id": "1efc042d",
   "metadata": {
    "ein.tags": "worksheet-0",
    "slideshow": {
     "slide_type": "-"
    }
   },
   "source": [
    "### Líneas, símbolos y colores\n",
    "\n",
    "La forma más simple de elegir el modo de graficación de la curva es a través de un tercer argumento.\n",
    "Este argumento, que aparece inmediatamente después de los datos (x e y), permite controlar el tipo de línea o símbolo utilizado en la graficación. En el caso de la línea sólida se puede especificar con un guión ('-') o simplemente no poner nada, ya que línea sólida es el símbolo por defecto. Las dos especificaciones anteriores son equivalentes. También se puede elegir el color, o el símbolo a utilizar con este argumento:\n",
    "\n",
    "```python\n",
    "plot(x,y,'g-')\n",
    "plot(x,y,'ro')\n",
    "plot(x,y,'r-o')\n",
    "```\n",
    "\n",
    "![](figuras/simple_linea_simb.png)\n",
    "\n",
    "Para obtener círculos usamos una especificación que corresponde a 'o'. Además podemos poner en este argumento el color. En este caso elegimos graficar en color \"rojo (r), con una línea (-) + círculos (o)\".\n",
    "\n",
    "Con esta idea modificamos el gráfico anterior"
   ]
  },
  {
   "cell_type": "code",
   "execution_count": null,
   "id": "51758d68",
   "metadata": {
    "autoscroll": false,
    "ein.hycell": false,
    "ein.tags": "worksheet-0",
    "slideshow": {
     "slide_type": "-"
    }
   },
   "outputs": [],
   "source": [
    "plt.plot(x,y,'-', x,yexp, 'ro')"
   ]
  },
  {
   "cell_type": "markdown",
   "id": "4b6a0404",
   "metadata": {
    "ein.tags": "worksheet-0",
    "slideshow": {
     "slide_type": "-"
    }
   },
   "source": [
    "Para graficar más de una curva, en este formato simple, podemos ponerlo todo en la misma función `plot()` en la forma `plot(x1, y1, [formato], x2, y2, [formato2])` pero muchas veces es más legible separar los llamados a la función, una para cada curva. "
   ]
  },
  {
   "cell_type": "code",
   "execution_count": null,
   "id": "7846f5f0",
   "metadata": {
    "autoscroll": false,
    "ein.hycell": false,
    "ein.tags": "worksheet-0",
    "slideshow": {
     "slide_type": "-"
    }
   },
   "outputs": [],
   "source": [
    "plt.plot(x,y, '-')\n",
    "plt.plot(x,yexp, 'or')"
   ]
  },
  {
   "cell_type": "markdown",
   "id": "4554a27e",
   "metadata": {
    "ein.tags": "worksheet-0",
    "slideshow": {
     "slide_type": "-"
    }
   },
   "source": [
    "Al separar los llamados a la función `plot()` obtenemos un código más claro, principalmente cuando agregamos opciones de formato."
   ]
  },
  {
   "cell_type": "markdown",
   "id": "0a2f1e33",
   "metadata": {
    "ein.tags": "worksheet-0",
    "slideshow": {
     "slide_type": "-"
    }
   },
   "source": [
    "Los siguientes caracteres pueden utilizarse para controlar el símbolo de graficación:\n",
    "\n",
    "\n",
    "| Símbolo   |     Descripción        |\n",
    "|-----------|------------------------|\n",
    "| '-'       | solid line style       |\n",
    "| '--'      | dashed line style      |\n",
    "| '-.'      | dash-dot line style    |\n",
    "| ':'       | dotted line style      |\n",
    "| '.'       | point marker           |\n",
    "| ','       | pixel marker           |\n",
    "| 'o'       | circle marker          |\n",
    "| 'v'       | triangle down  marker  |\n",
    "| '^'       | triangle up  marker    |\n",
    "| '&lt;'    | triangle left  marker  |\n",
    "| '&gt;'    | triangle right  marker |\n",
    "| '1'       | tri down  marker       |\n",
    "| '2'       | tri up  marker         |\n",
    "| '3'       | tri left  marker       |\n",
    "| '4'       | tri right  marker      |\n",
    "| 's'       | square marker          |\n",
    "| 'p'       | pentagon marker        |\n",
    "| '\\*'      | star marker            |\n",
    "| 'h'       | hexagon1 marker        |\n",
    "| 'H'       | hexagon2 marker        |\n",
    "| '+'       | plus marker            |\n",
    "| 'x'       | x marker               |\n",
    "| 'D'       | diamond marker         |\n",
    "| 'd'       | thin diamond marker    |\n",
    "| '&#124;'  | vline marker           |\n",
    "| '\\_'      | hline marker           |\n",
    "\n",
    "\n",
    "Los colores también pueden elegirse usando los siguientes caracteres:\n",
    "\n",
    "\n",
    "|  Letra  |   Color  |\n",
    "|---------|----------|\n",
    "|'b'      |   blue   |\n",
    "|'g'      |   green  |\n",
    "|'r'      |   red    |\n",
    "|'c'      |   cyan   |\n",
    "|'m'      |   magenta|\n",
    "|'y'      |   yellow |\n",
    "|'k'      |   black  |\n",
    "|'w'      |   white  |\n",
    "\n",
    "Por ejemplo, utilizando:\n",
    "\n",
    "```python\n",
    "plt.plot(x, y1, 'gs', x, y2, '-k^', x, y3, '--r' )\n",
    "```\n",
    "\n",
    "obtenemos:\n",
    "![](figuras/simple_varios.png)\n"
   ]
  },
  {
   "cell_type": "markdown",
   "id": "18326947",
   "metadata": {
    "ein.tags": "worksheet-0",
    "slideshow": {
     "slide_type": "-"
    }
   },
   "source": [
    "La función `plot()` acepta un número variable de argumentos. Veamos lo que dice la documentación\n",
    "\n",
    "```python\n",
    "\n",
    "Signature: plt.plot(*args, **kwargs)\n",
    "Docstring:\n",
    "Plot y versus x as lines and/or markers.\n",
    "\n",
    "Call signatures::\n",
    "\n",
    "    plot([x], y, [fmt], data=None, **kwargs)\n",
    "    plot([x], y, [fmt], [x2], y2, [fmt2], ..., **kwargs)\n",
    "```\n",
    "\n",
    "En particular, podemos usar los argumentos *keywords* (pares nombre-valor) para cambiar el modo en que se grafican los datos. Algunos de los más comunes son:\n",
    "\n",
    "| Argumento       | Valor                        |\n",
    "|-----------------|------------------------------|\n",
    "| linestyle       | {'-', '–', '-.', ':', '', …} |\n",
    "| linewidth       | número real                  |\n",
    "| color           | un color                     |\n",
    "| marker          | {'o', 's', 'd', ….}          |\n",
    "| markersize      | número real                  |\n",
    "| markeredgecolor | color                        |\n",
    "| markerfacecolor | color                        |\n",
    "| markevery       | número entero                |\n",
    "\n"
   ]
  },
  {
   "cell_type": "code",
   "execution_count": null,
   "id": "6530e3ff",
   "metadata": {
    "autoscroll": false,
    "ein.hycell": false,
    "ein.tags": "worksheet-0",
    "slideshow": {
     "slide_type": "-"
    }
   },
   "outputs": [],
   "source": [
    "plt.plot(x,y,linewidth=1)\n",
    "plt.plot(x,yexp, 'o', color='red', markersize=2)"
   ]
  },
  {
   "cell_type": "code",
   "execution_count": null,
   "id": "923366b5",
   "metadata": {
    "autoscroll": false,
    "ein.hycell": false,
    "ein.tags": "worksheet-0",
    "slideshow": {
     "slide_type": "-"
    }
   },
   "outputs": [],
   "source": [
    "plt.plot(x,y,linewidth=5)\n",
    "plt.plot(x,yexp, 'o', color='green', markersize=8)"
   ]
  },
  {
   "cell_type": "code",
   "execution_count": null,
   "id": "f1d6c2d1",
   "metadata": {
    "autoscroll": false,
    "ein.hycell": false,
    "ein.tags": "worksheet-0",
    "slideshow": {
     "slide_type": "-"
    }
   },
   "outputs": [],
   "source": [
    "plt.plot(x,y,linewidth=5, linestyle='dashed')\n",
    "plt.plot(x,yexp, 'o', color='red', markersize=8, markeredgecolor='black',markevery=6)"
   ]
  },
  {
   "cell_type": "markdown",
   "id": "863dc698-c2a3-470f-a071-1b4352c9e5c2",
   "metadata": {
    "ein.tags": "worksheet-0",
    "slideshow": {
     "slide_type": "-"
    }
   },
   "source": [
    "Para agregar nombres a los ejes usamos `xlabel` y `ylabel`:"
   ]
  },
  {
   "cell_type": "code",
   "execution_count": null,
   "id": "9bebcc3e-2938-4fd6-a657-0e3337efb6ba",
   "metadata": {
    "autoscroll": false,
    "ein.hycell": false,
    "ein.tags": "worksheet-0",
    "slideshow": {
     "slide_type": "-"
    }
   },
   "outputs": [],
   "source": [
    "plt.plot(x,yexp, 'or')\n",
    "plt.plot(x,y, '-b')\n",
    "plt.xlabel('Tiempo (micro-segundos)')\n",
    "plt.ylabel(\"Voltaje (mV)\");"
   ]
  },
  {
   "attachments": {},
   "cell_type": "markdown",
   "id": "ca5516b5-3032-4c0b-bc58-57fb3ddd5d86",
   "metadata": {
    "editable": true,
    "slideshow": {
     "slide_type": "-"
    },
    "tags": []
   },
   "source": [
    "------\n",
    "\n",
    "## Ejercicios 10 (c)\n",
    "\n",
    "5. Realizar un programa para visualizar la función\n",
    "   $$ f(x,n,w) = x^n |\\sin(w x)| $$\n",
    "\n",
    "   El programa debe realizar el gráfico para $w=10$, con cuatro curvas para $n=1,2,3,4$, similar al que se muestra\n",
    "   en la siguiente figura\n",
    "\n",
    "   ![](figuras/ejerc_vis_f1.png)\n",
    "\n",
    "\n",
    "5. **PARA ENTREGAR** Cree una función que calcule la posición y velocidad de una partícula en caída libre para condiciones iniciales dadas ($h_{0}$, $v_{0}$), y un valor de gravedad dados. Se utilizará la convención de que alturas y velocidades positivas corresponden a vectores apuntando hacia arriba (una velocidad positiva significa que la partícula se aleja de la tierra).\n",
    "\n",
    "   - La función debe realizar el cálculo de la velocidad y altura para un conjunto de tiempos equiespaciados.\n",
    "\n",
    "   - Los valores de velocidad inicial, altura inicial, valor de gravedad, y número de puntos deben ser argumentos de la función con valores por defecto adecuadamente provistos.\n",
    "\n",
    "   - La tabla de valores debe darse hasta que la partícula toca el piso (valor $h=0$).\n",
    "  \n",
    "   - Guarde los resultados en tres columnas (t, v(t), h(t)) en un archivo de nombre \"caida_vel_alt.dat\"\n",
    "  \n",
    "   - donde \"vel\" corresponde al valor de la velocidad inicial y \"alt\" al de la altura inicial.\n",
    "  \n",
    "   - Realice tres gráficos, mostrando:\n",
    "  \n",
    "       1. altura como función del tiempo (altura en el eje vertical y tiempo en el horizontal)\n",
    "       2. velocidad como función del tiempo\n",
    "       3. altura como función de la velocidad\n",
    "\n",
    "          \n",
    "   > **NOTA:** Envíe el programa llamado **10_Suapellido.py** en un adjunto por correo electrónico, con asunto: **10_Suapellido**.\n",
    "\n",
    "\n",
    "7. Queremos realizar numéricamente la integral\n",
    "  $$\n",
    "  \\int_{a}^{b}f(x)dx\n",
    "  $$\n",
    "  utilizando el método de los trapecios. Para eso partimos el intervalo $[a,b]$ en $N$ subintervalos y aproximamos la curva en cada subintervalo por una recta\n",
    "\n",
    "  ![](figuras/trapez_rule_wiki.png)\n",
    "\n",
    "  La línea azul representa la función $f(x)$ y la línea roja la interpolación por una recta (figura de https://en.wikipedia.org/wiki/Trapezoidal_rule)\n",
    "\n",
    "  Si llamamos $x_{i}$ ($i=0,\\ldots,n,$ con $x_{0}=a$ y $x_{n}=b$) los puntos equiespaciados, entonces queda\n",
    "  $$\n",
    "     \\int_{a}^{b}f(x)dx\\approx\\frac{h}{2}\\sum_{i=1}^{n}\\left(f(x_{i})+f(x_{i-1})\\right).\n",
    "  $$\n",
    "  \n",
    "  En todos los casos utilice *arrays* y operaciones entre *arrays* para realizar las siguientes funciones\n",
    "\n",
    "  * Escriba una función  `trapz(x, y)` que reciba dos arrays unidimensionales `x` e `y` y aplique la fórmula de los trapecios.\n",
    "\n",
    "  * Escriba una función `trapzf(f, a, b, npts=100)` que recibe una función `f`, los límites `a`, `b` y el número de puntos a utilizar `npts`, y devuelve el valor de la integral por trapecios.\n",
    "\n",
    "  * Escriba una función que calcule la integral logarítmica de Euler:\n",
    "  $$\\mathrm{Li}(t) = \\int_2^t \\frac{1}{\\ln x} dx$$\n",
    "  usando la función ´trapzf´ para valores de `npts=10, 20, 30, 40, 50, 60`\n",
    "\n",
    "  * Grafique las curvas obtenidas en el punto precedente para valores equiespaciados de $t$ entre 2 y 10.\n",
    "\n",
    "\n",
    "-----"
   ]
  },
  {
   "cell_type": "code",
   "execution_count": null,
   "id": "21bbf447-1234-4a28-a2a2-82d7ae033865",
   "metadata": {},
   "outputs": [],
   "source": []
  }
 ],
 "metadata": {
  "kernelspec": {
   "display_name": "Python 3 (ipykernel)",
   "language": "python",
   "name": "python3"
  },
  "language_info": {
   "codemirror_mode": {
    "name": "ipython",
    "version": 3
   },
   "file_extension": ".py",
   "mimetype": "text/x-python",
   "name": "python",
   "nbconvert_exporter": "python",
   "pygments_lexer": "ipython3",
   "version": "3.13.2"
  },
  "name": "09_1_intro_visualizacion.ipynb",
  "toc": {
   "base_numbering": 1,
   "nav_menu": {
    "height": "318.733px",
    "width": "251.667px"
   },
   "number_sections": false,
   "sideBar": true,
   "skip_h1_title": false,
   "title_cell": "Contenidos",
   "title_sidebar": "Contenidos",
   "toc_cell": false,
   "toc_position": {
    "height": "calc(100% - 180px)",
    "left": "10px",
    "top": "150px",
    "width": "384px"
   },
   "toc_section_display": true,
   "toc_window_display": false
  }
 },
 "nbformat": 4,
 "nbformat_minor": 5
}
