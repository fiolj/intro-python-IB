{
 "cells": [
  {
   "cell_type": "markdown",
   "id": "2df003e6-416f-4ba8-84dc-28db5b1d47cb",
   "metadata": {
    "ein.tags": "worksheet-0",
    "slideshow": {
     "slide_type": "-"
    }
   },
   "source": [
    "## Interfaces con clases en C++\n",
    "\n",
    "El ejemplo original está [acá](https://stackoverflow.com/questions/602580/how-can-i-use-c-class-in-python) que sigue [este ejemplo](https://www.auctoris.co.uk/2017/04/29/calling-c-classes-from-python-with-ctypes/):\n",
    "\n",
    "El código en C++ que tenemos es:\n",
    "\n",
    "```c++\n",
    "class Test{\n",
    "     private:\n",
    "        int n;\n",
    "     public:\n",
    "        Test(int k){\n",
    "            n=k;\n",
    "        }\n",
    "        void setInt(int k){\n",
    "            n = k;\n",
    "        }\n",
    "        int getInt(){\n",
    "            return n;\n",
    "        }\n",
    "};\n",
    "```"
   ]
  },
  {
   "cell_type": "code",
   "execution_count": 1,
   "id": "d79a6a1c-7df9-4a8e-b2dd-0b08273a2c2a",
   "metadata": {},
   "outputs": [
    {
     "name": "stdout",
     "output_type": "stream",
     "text": [
      "/home/fiol/Clases/IntPython/clases-python/scripts/interfacing_Cpp\n"
     ]
    }
   ],
   "source": [
    "cd ../scripts/interfacing_Cpp"
   ]
  },
  {
   "cell_type": "markdown",
   "id": "223f5c72-5ae1-4ad9-a324-182d478a07e8",
   "metadata": {},
   "source": [
    "La implementación de Python que estamos usando está escrita en C, de modo tal que tenemos que exportar las funciones de la clase `Test` en C++ en el código fuente de la siguiente manera:\n",
    "\n",
    "```c++\n",
    "extern \"C\" \n",
    "{\n",
    "    // include below each method you want to make visible outside\n",
    "    Test* init(int k) {return new Test(k);}\n",
    "    void setInt(Test *self, int k) {self->setInt(k);}\n",
    "    int getInt(Test *self) {return self->getInt();}\n",
    "    \n",
    "    // Add the declaration '__declspec(dllexport)' before each function in Windows\n",
    "}\n",
    "```\n",
    "\n",
    "La declaración `extern \"C\"` indican al compilador de C++ que genere código compatible con C de todas las funciones incluídas en el bloque. "
   ]
  },
  {
   "cell_type": "markdown",
   "id": "41b338be-efda-48b4-b1cc-e62003a2ecba",
   "metadata": {
    "ein.tags": "worksheet-0",
    "slideshow": {
     "slide_type": "-"
    }
   },
   "source": [
    "### CTypes\n",
    "\n",
    "Vamos ahora a usar directamente `Ctypes`. Como antes, el primer paso es compilar nuestro código y generar una biblioteca:\n",
    "```bash\n",
    "$ g++ -fpic -shared test.cpp -o libtest.so\n",
    "```\n",
    "\n",
    "Si uno trabaja en Windows, generará una dll\n",
    "\n",
    "```cmd\n",
    "cl.exe -c test.cpp\n",
    "link.exe /DLL /OUT:test.dll\n",
    "```\n"
   ]
  },
  {
   "cell_type": "code",
   "execution_count": 2,
   "id": "16473d58-60b2-426d-9ee9-433803cfb5d4",
   "metadata": {
    "autoscroll": false,
    "ein.tags": "worksheet-0",
    "slideshow": {
     "slide_type": "-"
    }
   },
   "outputs": [],
   "source": [
    "# !gcc -fpic -Wall -shared rotacion.c -o librotacion.so\n",
    "!g++ -fpic -shared test.cpp -o libtest.so\n",
    "\n"
   ]
  },
  {
   "cell_type": "code",
   "execution_count": 3,
   "id": "21a65c74-c7c9-4380-9904-c9c9434672b2",
   "metadata": {},
   "outputs": [
    {
     "name": "stdout",
     "output_type": "stream",
     "text": [
      "libtest.so  test.cpp\r\n"
     ]
    }
   ],
   "source": [
    "!ls"
   ]
  },
  {
   "cell_type": "markdown",
   "id": "489efd2a-2240-49fd-8e50-83829dc040f6",
   "metadata": {},
   "source": [
    "En segundo lugar, importamos el módulo `ctypes`"
   ]
  },
  {
   "cell_type": "code",
   "execution_count": 4,
   "id": "59a9c816-ad82-4642-b57c-7f8d59da4253",
   "metadata": {
    "autoscroll": false,
    "ein.tags": "worksheet-0",
    "slideshow": {
     "slide_type": "-"
    }
   },
   "outputs": [],
   "source": [
    "import ctypes"
   ]
  },
  {
   "cell_type": "markdown",
   "id": "eba06ea3-87b1-408b-94af-a851fa6a1529",
   "metadata": {},
   "source": [
    "Este módulo nos provee de la función `CDLL` para importar la biblioteca"
   ]
  },
  {
   "cell_type": "code",
   "execution_count": 5,
   "id": "58d17dde-c82b-495b-ad83-77b3fa6a7afd",
   "metadata": {},
   "outputs": [],
   "source": [
    "lib = ctypes.CDLL('./libtest.so')"
   ]
  },
  {
   "cell_type": "markdown",
   "id": "162dc1b4-9b49-4d43-ad19-239882637f8e",
   "metadata": {},
   "source": [
    "Ahora vamos a crear una clase en Python equivalente a la que teníamos en C++. Al igual que en el caso de C, tenemos que establecer los tipos de datos de entrada (via el método `argtypes`) y salida (vía el método `restype`) para _cada función de la clase_. "
   ]
  },
  {
   "cell_type": "code",
   "execution_count": 6,
   "id": "7193ee1e-fcec-4cf4-81cd-a46e5ba1cd40",
   "metadata": {},
   "outputs": [],
   "source": [
    "\n",
    "class Test():\n",
    "    def __init__(self, val: int):\n",
    "        # Declare input and output types for each method you intend to use\n",
    "        lib.init.argtypes = [ctypes.c_int]\n",
    "        lib.init.restype = ctypes.c_void_p\n",
    "\n",
    "        lib.setInt.argtypes = [ctypes.c_void_p, ctypes.c_int]\n",
    "        lib.setInt.restype = ctypes.c_void_p\n",
    "\n",
    "        lib.getInt.argtypes = [ctypes.c_void_p]\n",
    "        lib.getInt.restype = ctypes.c_int\n",
    "        \n",
    "        # use the C++ constructor to build the instance \n",
    "        self.q = lib.init(val)\n",
    "\n",
    "    def setInt(self, n):\n",
    "        lib.setInt(self.q, n)\n",
    "    \n",
    "    def getInt(self):\n",
    "        return lib.getInt(self.q)\n"
   ]
  },
  {
   "cell_type": "code",
   "execution_count": 7,
   "id": "d7a49573-12fa-4dc2-9ad1-e4f658c0b664",
   "metadata": {},
   "outputs": [
    {
     "name": "stdout",
     "output_type": "stream",
     "text": [
      "12\n",
      "32\n"
     ]
    }
   ],
   "source": [
    "T1 = Test(12)\n",
    "print(T1.getInt())\n",
    "T1.setInt(32)\n",
    "print(T1.getInt())"
   ]
  },
  {
   "cell_type": "code",
   "execution_count": 8,
   "id": "a74b7fea-f509-4a2f-a4c6-33d4d5881066",
   "metadata": {},
   "outputs": [
    {
     "data": {
      "text/plain": [
       "int"
      ]
     },
     "execution_count": 8,
     "metadata": {},
     "output_type": "execute_result"
    }
   ],
   "source": [
    "type(T1.q)"
   ]
  }
 ],
 "metadata": {
  "kernelspec": {
   "display_name": "Python 3 (ipykernel)",
   "language": "python",
   "name": "python3"
  },
  "language_info": {
   "codemirror_mode": {
    "name": "ipython",
    "version": 3
   },
   "file_extension": ".py",
   "mimetype": "text/x-python",
   "name": "python",
   "nbconvert_exporter": "python",
   "pygments_lexer": "ipython3",
   "version": "3.11.8"
  },
  "name": "15_3_interfacing_Cpp.ipynb",
  "toc": {
   "base_numbering": 1,
   "nav_menu": {
    "height": "48.6333px",
    "width": "251.5px"
   },
   "number_sections": true,
   "sideBar": true,
   "skip_h1_title": false,
   "title_cell": "Contenidos",
   "title_sidebar": "Contenidos",
   "toc_cell": false,
   "toc_position": null,
   "toc_section_display": true,
   "toc_window_display": true
  }
 },
 "nbformat": 4,
 "nbformat_minor": 5
}
