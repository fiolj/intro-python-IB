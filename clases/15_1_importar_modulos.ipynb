{
 "cells": [
  {
   "cell_type": "markdown",
   "metadata": {},
   "source": [
    "# Módulos, Pandas y Animaciones\n",
    "\n",
    "## Importando módulos\n",
    "\n",
    "Python tiene reglas para la importación de módulos a nuestro código. Recordemos que un módulo es un archivo cuya extensión es `.py`. Volviendo a usar el ejemplo de la clase anterior, tenemos un módulo `rotacion_p.py`.\n",
    "\n",
    "1. En primer lugar, el intérprete busca un módulo denominado `rotación_p` dentro de los módulos incorporados automáticamente. La lista de dichos módulos se encuentra usando el método `sys.builtin_module_names`:"
   ]
  },
  {
   "cell_type": "code",
   "execution_count": 2,
   "metadata": {},
   "outputs": [
    {
     "data": {
      "text/plain": [
       "('_abc',\n",
       " '_ast',\n",
       " '_codecs',\n",
       " '_collections',\n",
       " '_functools',\n",
       " '_imp',\n",
       " '_io',\n",
       " '_locale',\n",
       " '_operator',\n",
       " '_signal',\n",
       " '_sre',\n",
       " '_stat',\n",
       " '_string',\n",
       " '_symtable',\n",
       " '_thread',\n",
       " '_tokenize',\n",
       " '_tracemalloc',\n",
       " '_typing',\n",
       " '_warnings',\n",
       " '_weakref',\n",
       " 'atexit',\n",
       " 'builtins',\n",
       " 'errno',\n",
       " 'faulthandler',\n",
       " 'gc',\n",
       " 'itertools',\n",
       " 'marshal',\n",
       " 'posix',\n",
       " 'pwd',\n",
       " 'sys',\n",
       " 'time')"
      ]
     },
     "execution_count": 2,
     "metadata": {},
     "output_type": "execute_result"
    }
   ],
   "source": [
    "import sys \n",
    "sys.builtin_module_names"
   ]
  },
  {
   "cell_type": "code",
   "execution_count": 3,
   "metadata": {},
   "outputs": [
    {
     "data": {
      "text/plain": [
       "False"
      ]
     },
     "execution_count": 3,
     "metadata": {},
     "output_type": "execute_result"
    }
   ],
   "source": [
    "'rotacion_p' in sys.builtin_module_names"
   ]
  },
  {
   "cell_type": "markdown",
   "metadata": {},
   "source": [
    "2. En segundo lugar, busca un archivo `rotacion_p.py` en una lista de directorios dada por el atributo `sys.path`. "
   ]
  },
  {
   "cell_type": "code",
   "execution_count": 4,
   "metadata": {},
   "outputs": [
    {
     "data": {
      "text/plain": [
       "['/Users/flavioc/Library/Mobile Documents/com~apple~CloudDocs/Documents/cursos/Python/GitLab/clase-python/clases',\n",
       " '/Users/flavioc/miniconda3/envs/clases/lib/python312.zip',\n",
       " '/Users/flavioc/miniconda3/envs/clases/lib/python3.12',\n",
       " '/Users/flavioc/miniconda3/envs/clases/lib/python3.12/lib-dynload',\n",
       " '',\n",
       " '/Users/flavioc/miniconda3/envs/clases/lib/python3.12/site-packages']"
      ]
     },
     "execution_count": 4,
     "metadata": {},
     "output_type": "execute_result"
    }
   ],
   "source": [
    "sys.path"
   ]
  },
  {
   "cell_type": "markdown",
   "metadata": {},
   "source": [
    "Este atributo contiene el directorio local (el primero que aparece en la lista de arriba), y una serie de directorios que provienen de\n",
    "- La variable de entorno `PYTHONPATH`\n",
    "- Un directorio dependiente de la instalación (en este caso, '/Users/flavioc/miniconda3/envs/clases/lib/python3.12`).\n",
    "\n",
    "La manera pythonística de chequear si la variable de entorno `PYTHONPATH` existe es utilizar el método `get` de `os.environ`:"
   ]
  },
  {
   "cell_type": "code",
   "execution_count": 7,
   "metadata": {},
   "outputs": [],
   "source": [
    "import os\n",
    "os.environ.get('PYTHONPATH')"
   ]
  },
  {
   "cell_type": "markdown",
   "metadata": {},
   "source": [
    "En nuestro caso no imprime nada, pero de la misma forma se puede setear dicha variable de entorno:"
   ]
  },
  {
   "cell_type": "code",
   "execution_count": 8,
   "metadata": {},
   "outputs": [
    {
     "data": {
      "text/plain": [
       "'..'"
      ]
     },
     "execution_count": 8,
     "metadata": {},
     "output_type": "execute_result"
    }
   ],
   "source": [
    "os.environ['PYTHONPATH'] = '..' # seteo la variable PYTHONPATH al directorio padre del directorio actual\n",
    "os.environ.get('PYTHONPATH')"
   ]
  },
  {
   "cell_type": "markdown",
   "metadata": {},
   "source": [
    "Por supuesto, todo va a depender de cómo tenemos estructurado nuestro código. En principio, aún cuando uno no utilice completamente las facilidades de Python como lenguaje orientado a objeto, agrupamos funciones que están relacionadas entre sí en distintos módulos. A medida que el código crece, es posible organizar los distintos módulos distribuyéndolos en directorios. "
   ]
  },
  {
   "cell_type": "markdown",
   "metadata": {},
   "source": [
    "## Importando módulos de directorios hijos\n",
    "\n",
    "Imaginemos que tenemos la siguente estructura de código:\n",
    "```\n",
    "/miproyecto\n",
    "    main.py\n",
    "    /lib\n",
    "        rotacion.py\n",
    "    /graficos \n",
    "        simple.py\n",
    "        complejo.py \n",
    "        /tresd\n",
    "        vector.py\n",
    "```\n"
   ]
  },
  {
   "cell_type": "markdown",
   "metadata": {},
   "source": [
    "Es sencillo importar los módulos en los directorios hijos (`lib`, `graficos`):\n",
    "```python\n",
    "from graficos.simple import plot_data\n",
    "from graficos.complejo import plot_data_complejo as plot_complejo \n",
    "from graficos.tresd.vector import *\n",
    "from lib.rotacion import rotate\n",
    "```"
   ]
  },
  {
   "cell_type": "markdown",
   "metadata": {},
   "source": [
    "Básicamente exponemos el módulo usando el operador `.` para ir incorporando los hijos. Por ejemplo, `graficos.tresd.vector` refiere al módulo que se encuentra en el archivo `vector.py` en el directorio `graficos.tresd`. "
   ]
  },
  {
   "cell_type": "markdown",
   "metadata": {},
   "source": [
    "## Importando módulos desde padres o hermanos\n",
    "\n",
    "### Imports relativos\n",
    "\n",
    "Para importar módulos que están en directorios padres o hermanos (estos últimos son directorios al mismo nivel del directorio desde el cual quiero importar) podemos diferentes estrategias. La primera de ellas es usar la importación de paquetes relativos. Para ello, cada directorio desde el que quiera importar debe poseer un archivo (en principio vacío) denominado `__init__.py`. Esto permite a Python reconocer los directorios que contienen módulos aún cuando sean padres o hermanos. \n"
   ]
  },
  {
   "cell_type": "markdown",
   "metadata": {},
   "source": [
    "Veamos ahora la estructura de directorios de `miproyecto_relativo` con los archivos `__init__.py` agregados:\n",
    "```\n",
    "/miproyecto\n",
    "    main.py\n",
    "    __init__.py\n",
    "    /lib\n",
    "        rotacion.py\n",
    "        __init__.py\n",
    "    /graficos \n",
    "        __init__.py\n",
    "        simple.py\n",
    "        complejo.py \n",
    "        /tresd\n",
    "        __init__.py\n",
    "        vector.py\n",
    "    /tests\n",
    "        test_rotacion.py\n",
    "```\n",
    "\n",
    "Notemos que `tests/test_rotacion.py` tiene también un `main`, que corre un test:\n",
    "\n",
    "```python\n",
    "def test_rotacion():\n",
    "  v = np.array([1, 0, 0])\n",
    "  angle = np.array([0, 0, np.pi/2])\n",
    "  assert np.allclose(rotate(angle, v), np.array([0, -1, 0]))\n",
    "\n",
    "\n",
    "if __name__ == \"__main__\":\n",
    "  test_rotacion()\n",
    "  print(\"All tests passed\")  \n",
    "```\n",
    "\n",
    "Esta es una estructura típica de Python, donde tengo tests que prueban funciones en un módulo dado. \n",
    "Notemos cómo se importa el módulo `rotacion` desde `test_rotacion.py`:\n",
    "\n",
    "```python\n",
    "from ..lib.rotacion import rotate\n",
    "```\n",
    "\n",
    "Al igual que con directorios, `..` se refiere al directorio padre relativo al directorio actual."
   ]
  },
  {
   "cell_type": "markdown",
   "metadata": {},
   "source": [
    "\n",
    "\n",
    "Si probamos **desde el directorio** `miproyecto/tests` lo siguiente:\n",
    "\n",
    "```bash\n",
    "python test_rotacion.py\n",
    "```\n",
    "\n",
    "Nos encontraremos con el error:\n",
    "```python\n",
    "ImportError: attempted relative import with no known parent package\n",
    "```\n"
   ]
  },
  {
   "cell_type": "markdown",
   "metadata": {},
   "source": [
    "Para correr el test, tenemos que ir al directorio **padre** del proyecto y correr el main del módulo explícitamente:\n",
    "```bash\n",
    "python -m miproyecto_relativo.tests.test_rotacion\n",
    "All tests passed\n",
    "```"
   ]
  },
  {
   "cell_type": "markdown",
   "metadata": {},
   "source": [
    "### Modificando `sys.path`\n",
    "\n",
    "La forma anterior puede ser engorrosa en el caso en que se tengan muchos módulos en archivos distribuidos en una estructura de directorios complicada.\n",
    "Por otra parte, es posible modificar el atributo `sys.path` para incluir el directorio que sea de interés. En este caso, modificamos `test_rotacion.py`:\n",
    "\n",
    "```python\n",
    "import sys\n",
    "import os\n",
    "sys.path.append(os.path.join(os.path.dirname(__file__), \"..\"))\n",
    "from lib.rotacion import rotate\n",
    "```"
   ]
  },
  {
   "cell_type": "markdown",
   "metadata": {},
   "source": [
    "Entonces, podemos correr desde el directorio `tests`:\n",
    "```bash\n",
    "python test_rotacion.py\n",
    "All tests passed\n",
    "```\n",
    "o desde su padre como\n",
    "```bash\n",
    "python -m tests.test_rotacion\n",
    "```\n",
    "o \n",
    "```bash\n",
    "python tests/test_rotacion.py\n",
    "```\n"
   ]
  }
 ],
 "metadata": {
  "kernelspec": {
   "display_name": "Python 3 (ipykernel)",
   "language": "python",
   "name": "python3"
  },
  "language_info": {
   "codemirror_mode": {
    "name": "ipython",
    "version": 3
   },
   "file_extension": ".py",
   "mimetype": "text/x-python",
   "name": "python",
   "nbconvert_exporter": "python",
   "pygments_lexer": "ipython3",
   "version": "3.11.8"
  }
 },
 "nbformat": 4,
 "nbformat_minor": 4
}
