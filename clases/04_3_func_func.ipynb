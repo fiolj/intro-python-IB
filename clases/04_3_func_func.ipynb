{
 "cells": [
  {
   "cell_type": "markdown",
   "id": "9a07648a-aed1-4ee0-b3b0-bc8796677fbf",
   "metadata": {
    "collapsed": false,
    "jupyter": {
     "outputs_hidden": false
    }
   },
   "source": [
    "\n",
    "## Empacar y desempacar argumentos\n",
    "\n",
    "\n",
    "Cuando en **Python** creamos una función que acepta un número arbitrario de argumentos estamos utilizando una habilidad del lenguaje que es el \"empaquetamiento\" y \"desempaquetamiento\" automático de variables.\n",
    "\n",
    "Al definir un número variable de argumentos de la forma:\n",
    "```python\n",
    "def f(*v):\n",
    "...\n",
    "```\n",
    "\n",
    "y luego utilizarla en alguna de las formas:\n",
    "\n",
    "```python\n",
    "f(1)\n",
    "f(1,'hola')\n",
    "f(a,2,3.5, 'hola')\n",
    "```\n",
    "\n",
    "**Python** automáticamente convierte los argumentos en una única tupla:\n",
    "```python\n",
    "f(1)                 --> v = (1,)\n",
    "f(1,'hola')          --> v = (1,'hola')\n",
    "f(a,2,3.5, 'hola')   --> v = (a,2,3.5,'hola')\n",
    "```\n",
    "\n",
    "Análogamente, cuando utilizamos funciones podemos desempacar múltiples valores en los argumentos de llamada a las funciones.\n",
    "\n",
    "Si definimos una función que recibe un número determinado de argumentos\n",
    "```python\n",
    "def g(a, b, c):\n",
    "...\n",
    "```\n",
    "y definimos una lista (o tupla)\n",
    "```python\n",
    "t1 = [a1, b1, c1]\n",
    "```\n",
    "podemos realizar la llamada a la función utilizando la notación \"asterisco\" o \"estrella\"\n",
    "```python\n",
    "g(*t1)             -->  g(a1, b1, c1)\n",
    "```\n",
    "\n",
    "Esta notación no se puede utilizar en cualquier contexto. Por ejemplo, es un error tratar de hacer\n",
    "\n",
    "```python\n",
    "t2 = *t1\n",
    "```\n",
    "\n",
    "pero en el contexto de funciones podemos \"desempacarlos\" para convertirlos en varios argumentos que acepta la función usando la expresión con asterisco. Veamos lo que esto quiere decir con la función `caida_libre()` definida anteriormente"
   ]
  },
  {
   "cell_type": "code",
   "execution_count": 1,
   "id": "ae92946d",
   "metadata": {
    "autoscroll": false,
    "collapsed": false,
    "ein.hycell": false,
    "ein.tags": "worksheet-0",
    "jupyter": {
     "outputs_hidden": false
    },
    "slideshow": {
     "slide_type": "-"
    }
   },
   "outputs": [],
   "source": [
    "def caida_libre(t, h0, v0 = 0., g=9.8):\n",
    "  \"\"\"Devuelve la velocidad y la posición de una partícula en\n",
    "  caída libre para condiciones iniciales dadas\n",
    "\n",
    "  Parameters\n",
    "  ----------\n",
    "  t : float\n",
    "      el tiempo al que queremos realizar el cálculo\n",
    "  h0: float \n",
    "      la altura inicial\n",
    "  v0: float (opcional)\n",
    "      la velocidad inicial (default = 0.0)\n",
    "   g: float (opcional)\n",
    "      valor de la aceleración de la gravedad (default = 9.8)\n",
    "\n",
    "  Returns\n",
    "  -------\n",
    "  (v,h):  tuple of floats\n",
    "       v= v0 - g*t\n",
    "       h= h0 - v0*t -g*t^2/2\n",
    "  \n",
    "  \"\"\"\n",
    "  v = v0 - g*t\n",
    "  h = h0 - v0*t - g*t**2/2.\n",
    "  return v,h\n"
   ]
  },
  {
   "cell_type": "code",
   "execution_count": 2,
   "id": "ec85aa34",
   "metadata": {
    "autoscroll": false,
    "collapsed": false,
    "ein.hycell": false,
    "ein.tags": "worksheet-0",
    "jupyter": {
     "outputs_hidden": false
    },
    "slideshow": {
     "slide_type": "-"
    }
   },
   "outputs": [
    {
     "name": "stdout",
     "output_type": "stream",
     "text": [
      "(-52.92000000000001, 857.116)\n"
     ]
    }
   ],
   "source": [
    "datos = (5.4, 1000., 0.)        # Una lista (tuple en realidad)\n",
    "# print (caida_libre(datos[0], datos[1], datos[2]))\n",
    "print (caida_libre(*datos))"
   ]
  },
  {
   "cell_type": "markdown",
   "id": "a33d753f",
   "metadata": {
    "collapsed": false,
    "ein.tags": "worksheet-0",
    "jupyter": {
     "outputs_hidden": false
    },
    "slideshow": {
     "slide_type": "-"
    }
   },
   "source": [
    "En la llamada a la función, la expresión `*datos` le indica al intérprete Python que la secuencia (tuple) debe convertirse en una sucesión de argumentos, que es lo que acepta la función. "
   ]
  },
  {
   "cell_type": "markdown",
   "id": "784846fc",
   "metadata": {
    "collapsed": false,
    "ein.tags": "worksheet-0",
    "jupyter": {
     "outputs_hidden": false
    },
    "slideshow": {
     "slide_type": "-"
    }
   },
   "source": [
    "Similarmente, para desempacar un diccionario usamos la notación `**diccionario`:"
   ]
  },
  {
   "cell_type": "code",
   "execution_count": 3,
   "id": "904f1e33",
   "metadata": {
    "autoscroll": false,
    "collapsed": false,
    "ein.hycell": false,
    "ein.tags": "worksheet-0",
    "jupyter": {
     "outputs_hidden": false
    },
    "slideshow": {
     "slide_type": "-"
    }
   },
   "outputs": [
    {
     "name": "stdout",
     "output_type": "stream",
     "text": [
      "v=-8.775, h=976.3075\n"
     ]
    }
   ],
   "source": [
    "# diccionario, caída libre en la luna\n",
    "otros_datos = {'t':5.4, 'h0': 1000., \"g\" : 1.625} \n",
    "v, h = caida_libre(**otros_datos)\n",
    "print ('v={}, h={}'.format(v,h))\n"
   ]
  },
  {
   "cell_type": "markdown",
   "id": "8796e403",
   "metadata": {
    "collapsed": false,
    "ein.tags": "worksheet-0",
    "jupyter": {
     "outputs_hidden": false
    },
    "slideshow": {
     "slide_type": "-"
    }
   },
   "source": [
    "En resumen:\n",
    "\n",
    "* la notación `(*datos)` convierte la tuple (o lista) en los tres argumentos que acepta la función caída libre. Los siguientes llamados son equivalentes:\n",
    "```python\n",
    "caida_libre(*datos)\n",
    "caida_libre(datos[0], datos[1], datos[2])\n",
    "caida_libre(5.4, 1000., 0.)\n",
    "```\n",
    "* la notación `(**otros_datos)` desempaca el diccionario en pares `clave=valor`, siendo equivalentes los dos llamados:\n",
    "```python\n",
    "caida_libre(**otros_datos)\n",
    "caida_libre(t=5.4, h0=1000., g=0.2)\n",
    "```\n"
   ]
  },
  {
   "cell_type": "markdown",
   "id": "a5d7f3a5",
   "metadata": {
    "collapsed": false,
    "ein.tags": "worksheet-0",
    "jupyter": {
     "outputs_hidden": false
    },
    "slideshow": {
     "slide_type": "-"
    }
   },
   "source": [
    "##  Funciones que devuelven funciones\n",
    "\n",
    "Las funciones pueden ser pasadas como argumento y pueden ser retornadas por una función, como cualquier otro objeto (números, listas, tuples, cadenas de caracteres, diccionarios, etc). Veamos un ejemplo simple de funciones que devuelven una función:"
   ]
  },
  {
   "cell_type": "code",
   "execution_count": 4,
   "id": "94756c9b",
   "metadata": {
    "autoscroll": false,
    "collapsed": false,
    "ein.hycell": false,
    "ein.tags": "worksheet-0",
    "jupyter": {
     "outputs_hidden": false
    },
    "slideshow": {
     "slide_type": "-"
    }
   },
   "outputs": [],
   "source": [
    "def crear_potencia(n):\n",
    "  \"Devuelve la función x^n\"\n",
    "  def potencia(x):\n",
    "    \"potencia {}-esima de x\".format(n)\n",
    "    return x**n\n",
    "  return potencia"
   ]
  },
  {
   "cell_type": "code",
   "execution_count": 5,
   "id": "77f5f212",
   "metadata": {
    "autoscroll": false,
    "collapsed": false,
    "ein.hycell": false,
    "ein.tags": "worksheet-0",
    "jupyter": {
     "outputs_hidden": false
    },
    "slideshow": {
     "slide_type": "-"
    }
   },
   "outputs": [
    {
     "name": "stdout",
     "output_type": "stream",
     "text": [
      "<function crear_potencia.<locals>.potencia at 0x7ff1734dac00>\n"
     ]
    }
   ],
   "source": [
    "f = crear_potencia(3)\n",
    "print(f)\n",
    "cubos = [f(j) for j in range(5)]"
   ]
  },
  {
   "cell_type": "code",
   "execution_count": 6,
   "id": "73977306",
   "metadata": {
    "collapsed": false,
    "jupyter": {
     "outputs_hidden": false
    }
   },
   "outputs": [
    {
     "data": {
      "text/plain": [
       "[0, 1, 8, 27, 64]"
      ]
     },
     "execution_count": 6,
     "metadata": {},
     "output_type": "execute_result"
    }
   ],
   "source": [
    "cubos"
   ]
  },
  {
   "cell_type": "code",
   "execution_count": 7,
   "id": "e4c8d93c",
   "metadata": {
    "collapsed": false,
    "jupyter": {
     "outputs_hidden": false
    }
   },
   "outputs": [
    {
     "name": "stdout",
     "output_type": "stream",
     "text": [
      "Help on function potencia in module __main__:\n",
      "\n",
      "potencia(x)\n",
      "\n"
     ]
    }
   ],
   "source": [
    "help(f)"
   ]
  },
  {
   "cell_type": "code",
   "execution_count": 8,
   "id": "dc703a2f",
   "metadata": {
    "collapsed": false,
    "jupyter": {
     "outputs_hidden": false
    }
   },
   "outputs": [
    {
     "name": "stdout",
     "output_type": "stream",
     "text": [
      "Help on function crear_potencia in module __main__:\n",
      "\n",
      "crear_potencia(n)\n",
      "    Devuelve la función x^n\n",
      "\n"
     ]
    }
   ],
   "source": [
    "help(crear_potencia)"
   ]
  },
  {
   "cell_type": "markdown",
   "id": "04d0d307-8a2e-4554-802d-15d45aa12d5a",
   "metadata": {
    "collapsed": false,
    "jupyter": {
     "outputs_hidden": false
    }
   },
   "source": [
    "## Ejemplo: Polinomio interpolador\n",
    "\n",
    "Veamos ahora una función que retorna una función. Supongamos que tenemos una tabla de puntos `(x,y)` por los que pasan nuestros datos y queremos interpolar los datos con un polinomio.\n",
    "\n",
    "Sabemos que dados `N` puntos, hay un único polinomio de grado `N` que pasa por todos los puntos. En este ejemplo utilizamos la fórmula de Lagrange para obtenerlo."
   ]
  },
  {
   "cell_type": "code",
   "execution_count": 9,
   "id": "ea6cbcd8-1c4c-4907-9c65-624155eba888",
   "metadata": {
    "collapsed": false,
    "jupyter": {
     "outputs_hidden": false
    }
   },
   "outputs": [],
   "source": [
    "# %load scripts/ejemplo_05_2.py\n",
    "def polinomio_interp(x, y):\n",
    "  \"\"\"Devuelve el polinomio interpolador que pasa por los puntos (x_i, y_i)\n",
    "\n",
    "    Warning: La implementación es numéricamente inestable. Funciona para algunos puntos (menor a 20)\n",
    "\n",
    "  Keyword Arguments:\n",
    "  x -- Lista con los valores de x\n",
    "  y -- Lista con los valores de y\n",
    "  \"\"\"\n",
    "\n",
    "  M = len(x)\n",
    "\n",
    "  def polin(xx):\n",
    "    \"\"\"Evalúa el polinomio interpolador de Lagrange\"\"\"\n",
    "    P = 0\n",
    "\n",
    "    for j in range(M):\n",
    "      pt = y[j]\n",
    "      for k in range(M):\n",
    "        if k == j:\n",
    "          continue\n",
    "        fac = x[j] - x[k]\n",
    "        pt *= (xx - x[k]) / fac\n",
    "      P += pt\n",
    "    return P\n",
    "\n",
    "  return polin\n"
   ]
  },
  {
   "cell_type": "markdown",
   "id": "3f302da1-5a8a-4d7b-9c67-61b3c00e6762",
   "metadata": {
    "collapsed": false,
    "jupyter": {
     "outputs_hidden": false
    }
   },
   "source": [
    "Lo que obtenemos al llamar a esta función es una función"
   ]
  },
  {
   "cell_type": "code",
   "execution_count": 10,
   "id": "6b8141b1-69e1-4534-9f2f-03caa1f68f19",
   "metadata": {
    "collapsed": false,
    "jupyter": {
     "outputs_hidden": false
    }
   },
   "outputs": [],
   "source": [
    "f = polinomio_interp([0,1], [0,2])"
   ]
  },
  {
   "cell_type": "code",
   "execution_count": 11,
   "id": "05d9e172-1c1d-4925-a5da-7ccf76f2d51b",
   "metadata": {
    "collapsed": false,
    "jupyter": {
     "outputs_hidden": false
    }
   },
   "outputs": [
    {
     "data": {
      "text/plain": [
       "<function __main__.polinomio_interp.<locals>.polin(xx)>"
      ]
     },
     "execution_count": 11,
     "metadata": {},
     "output_type": "execute_result"
    }
   ],
   "source": [
    "f"
   ]
  },
  {
   "cell_type": "code",
   "execution_count": 12,
   "id": "cb057e33-bde3-4ded-98a1-3950ead9737f",
   "metadata": {
    "collapsed": false,
    "jupyter": {
     "outputs_hidden": false
    }
   },
   "outputs": [
    {
     "name": "stdout",
     "output_type": "stream",
     "text": [
      "Help on function polin in module __main__:\n",
      "\n",
      "polin(xx)\n",
      "    Evalúa el polinomio interpolador de Lagrange\n",
      "\n"
     ]
    }
   ],
   "source": [
    "help(f)"
   ]
  },
  {
   "cell_type": "code",
   "execution_count": 13,
   "id": "3a9c3bfa-1552-4b87-899e-6a9eb155b21d",
   "metadata": {
    "collapsed": false,
    "jupyter": {
     "outputs_hidden": false
    }
   },
   "outputs": [
    {
     "data": {
      "text/plain": [
       "6.8"
      ]
     },
     "execution_count": 13,
     "metadata": {},
     "output_type": "execute_result"
    }
   ],
   "source": [
    "f(3.4)"
   ]
  },
  {
   "cell_type": "markdown",
   "id": "ef51478b-797d-46e7-a52d-9218721e8bb2",
   "metadata": {
    "collapsed": false,
    "jupyter": {
     "outputs_hidden": false
    }
   },
   "source": [
    "Este es el resultado esperado porque queremos el polinomio que pasa por dos puntos (una recta), y en este caso es la recta $y = 2x$. Veamos cómo usarlo, en forma más general:"
   ]
  },
  {
   "cell_type": "code",
   "execution_count": 14,
   "id": "02320d93-0973-46fd-b8af-cd0b08f40d90",
   "metadata": {
    "collapsed": false,
    "jupyter": {
     "outputs_hidden": false
    }
   },
   "outputs": [
    {
     "name": "stdout",
     "output_type": "stream",
     "text": [
      "\n",
      " x   f2(x)   f3(x)\n",
      "------------------\n",
      "0.0   0.00    0.00\n",
      "0.2   0.04    0.02\n",
      "0.4   0.16    0.13\n",
      "0.6   0.36    0.43\n",
      "0.8   0.64    1.02\n",
      "1.0   1.00    2.00\n",
      "1.2   1.44    3.46\n",
      "1.4   1.96    5.49\n",
      "1.6   2.56    8.19\n",
      "1.8   3.24   11.66\n",
      "2.0   4.00   16.00\n",
      "2.2   4.84   21.30\n",
      "2.4   5.76   27.65\n",
      "2.6   6.76   35.15\n",
      "2.8   7.84   43.90\n",
      "3.0   9.00   54.00\n",
      "3.2  10.24   65.54\n",
      "3.4  11.56   78.61\n",
      "3.6  12.96   93.31\n",
      "3.8  14.44  109.74\n",
      "4.0  16.00  128.00\n",
      "4.2  17.64  148.18\n",
      "4.4  19.36  170.37\n",
      "4.6  21.16  194.67\n",
      "4.8  23.04  221.18\n"
     ]
    }
   ],
   "source": [
    "# %load scripts/ejemplo_05_3\n",
    "from ejemplo_05_2 import polinomio_interp\n",
    "\n",
    "xmax = 5\n",
    "step = 0.2\n",
    "N = int(5 / step)\n",
    "\n",
    "x2, y2 = [1, 2, 3], [1, 4, 9]   # x^2\n",
    "f2 = polinomio_interp(x2, y2)\n",
    "\n",
    "x3, y3 = [0, 1, 2, 3], [0, 2, 16, 54]  # 2 x^3\n",
    "f3 = polinomio_interp(x3, y3)\n",
    "\n",
    "print('\\n x   f2(x)   f3(x)\\n' + 18 * '-')\n",
    "for j in range(N):\n",
    "  x = step * j\n",
    "  print(f'{x:.1f}  {f2(x):5.2f}  {f3(x):6.2f}')\n"
   ]
  },
  {
   "cell_type": "markdown",
   "id": "d63a3955",
   "metadata": {
    "collapsed": false,
    "ein.tags": "worksheet-0",
    "jupyter": {
     "outputs_hidden": false
    },
    "slideshow": {
     "slide_type": "-"
    }
   },
   "source": [
    "-----\n",
    "\n",
    "## Ejercicios 04 (c)\n",
    "\n",
    "4. Escriba una función `crear_sen(A, w)` que acepte dos números reales $A, w$ como argumentos y devuelva la función `f(x)`.\n",
    "\n",
    "  Al evaluar la función `f` en un dado valor $x$ debe dar el resultado: $f(x) = A \\sin(w x)$ tal que se pueda utilizar de la siguiente manera:\n",
    "  \n",
    "  ```python\n",
    "  from math import pi\n",
    "  f = crear_sen(3, 2)\n",
    "  f(pi/2)    \n",
    "  # Debería imprimir el resultado de 3*sin(2 * pi/2) aprox. cero\n",
    "  ```\n",
    "\n",
    "-----"
   ]
  },
  {
   "cell_type": "markdown",
   "id": "df132fa1",
   "metadata": {
    "collapsed": false,
    "ein.tags": "worksheet-0",
    "jupyter": {
     "outputs_hidden": false
    },
    "slideshow": {
     "slide_type": "-"
    }
   },
   "source": [
    "\n",
    "## Funciones que toman como argumento una función"
   ]
  },
  {
   "cell_type": "code",
   "execution_count": 15,
   "id": "207a486e",
   "metadata": {
    "autoscroll": false,
    "collapsed": false,
    "ein.hycell": false,
    "ein.tags": "worksheet-0",
    "jupyter": {
     "outputs_hidden": false
    },
    "slideshow": {
     "slide_type": "-"
    }
   },
   "outputs": [],
   "source": [
    "def aplicar_fun(f, L):\n",
    "  \"\"\"Aplica la función f a cada elemento del iterable L \n",
    "  devuelve una lista con los resultados.\n",
    "  \n",
    "  IMPORTANTE: Notar que no se realiza ninguna comprobación de validez\n",
    "  \"\"\"\n",
    "  return [f(x) for x in L]"
   ]
  },
  {
   "cell_type": "code",
   "execution_count": 16,
   "id": "e9eb108d",
   "metadata": {
    "autoscroll": false,
    "collapsed": false,
    "ein.hycell": false,
    "ein.tags": "worksheet-0",
    "jupyter": {
     "outputs_hidden": false
    },
    "slideshow": {
     "slide_type": "-"
    }
   },
   "outputs": [],
   "source": [
    "import math as m\n",
    "Lista = list(range(1,10))\n",
    "t = aplicar_fun(m.sin, Lista)"
   ]
  },
  {
   "cell_type": "code",
   "execution_count": 17,
   "id": "1d4df84b",
   "metadata": {
    "autoscroll": false,
    "collapsed": false,
    "ein.hycell": false,
    "ein.tags": "worksheet-0",
    "jupyter": {
     "outputs_hidden": false
    },
    "slideshow": {
     "slide_type": "-"
    }
   },
   "outputs": [
    {
     "data": {
      "text/plain": [
       "[0.8414709848078965,\n",
       " 0.9092974268256817,\n",
       " 0.1411200080598672,\n",
       " -0.7568024953079282,\n",
       " -0.9589242746631385,\n",
       " -0.27941549819892586,\n",
       " 0.6569865987187891,\n",
       " 0.9893582466233818,\n",
       " 0.4121184852417566]"
      ]
     },
     "execution_count": 17,
     "metadata": {},
     "output_type": "execute_result"
    }
   ],
   "source": [
    "t"
   ]
  },
  {
   "cell_type": "markdown",
   "id": "3a72b5fe",
   "metadata": {
    "collapsed": false,
    "ein.tags": "worksheet-0",
    "jupyter": {
     "outputs_hidden": false
    },
    "slideshow": {
     "slide_type": "-"
    }
   },
   "source": [
    "Notar que definimos la función `aplicar_fun()` que recibe una función y una secuencia, pero no necesariamente una lista, por lo que podemos aplicarla directamente a `range`:"
   ]
  },
  {
   "cell_type": "code",
   "execution_count": 18,
   "id": "e4681afc",
   "metadata": {
    "autoscroll": false,
    "collapsed": false,
    "ein.hycell": false,
    "ein.tags": "worksheet-0",
    "jupyter": {
     "outputs_hidden": false
    },
    "slideshow": {
     "slide_type": "-"
    }
   },
   "outputs": [
    {
     "data": {
      "text/plain": [
       "[0, 1, 8, 27, 64]"
      ]
     },
     "execution_count": 18,
     "metadata": {},
     "output_type": "execute_result"
    }
   ],
   "source": [
    "aplicar_fun(crear_potencia(3), range(5)) "
   ]
  },
  {
   "cell_type": "markdown",
   "id": "1899c464",
   "metadata": {
    "collapsed": false,
    "ein.tags": "worksheet-0",
    "jupyter": {
     "outputs_hidden": false
    },
    "slideshow": {
     "slide_type": "-"
    }
   },
   "source": [
    "Además, debido a su definición, el primer argumento de la función `aplicar_fun()` no está restringida a funciones numéricas pero al usarla tenemos que asegurar que la función y el iterable (lista) que pasamos como argumentos son compatibles.\n",
    "\n",
    "Veamos otro ejemplo:"
   ]
  },
  {
   "cell_type": "code",
   "execution_count": 19,
   "id": "571fa154",
   "metadata": {
    "autoscroll": false,
    "collapsed": false,
    "ein.hycell": false,
    "ein.tags": "worksheet-0",
    "jupyter": {
     "outputs_hidden": false
    },
    "slideshow": {
     "slide_type": "-"
    }
   },
   "outputs": [
    {
     "name": "stdout",
     "output_type": "stream",
     "text": [
      "['HOLA', 'CHAU']\n"
     ]
    }
   ],
   "source": [
    "s = ['hola', 'chau']\n",
    "print(aplicar_fun(str.upper, s))"
   ]
  },
  {
   "cell_type": "markdown",
   "id": "210ebce9",
   "metadata": {
    "collapsed": false,
    "ein.tags": "worksheet-0",
    "jupyter": {
     "outputs_hidden": false
    },
    "slideshow": {
     "slide_type": "-"
    }
   },
   "source": [
    "donde `str.upper` es una función definida en **Python**, que convierte a mayúsculas el string dado `str.upper('hola') = 'HOLA'`."
   ]
  },
  {
   "cell_type": "markdown",
   "id": "dbe4bf67",
   "metadata": {
    "collapsed": false,
    "ein.tags": "worksheet-0",
    "jupyter": {
     "outputs_hidden": false
    },
    "slideshow": {
     "slide_type": "-"
    }
   },
   "source": [
    "\n",
    "## Aplicacion 1: Ordenamiento de listas\n",
    "\n",
    "Consideremos el problema del ordenamiento de una lista de strings. Como vemos el resultado usual no es necesariamente el deseado"
   ]
  },
  {
   "cell_type": "code",
   "execution_count": 20,
   "id": "e214392c",
   "metadata": {
    "autoscroll": false,
    "collapsed": false,
    "ein.hycell": false,
    "ein.tags": "worksheet-0",
    "jupyter": {
     "outputs_hidden": false
    },
    "slideshow": {
     "slide_type": "-"
    }
   },
   "outputs": [
    {
     "name": "stdout",
     "output_type": "stream",
     "text": [
      "['Estudiantes', 'caballeros', 'Python', 'Curso', 'pc', 'aereo']\n",
      "['Curso', 'Estudiantes', 'Python', 'aereo', 'caballeros', 'pc']\n"
     ]
    }
   ],
   "source": [
    "s1 = ['Estudiantes', 'caballeros', 'Python', 'Curso', 'pc', 'aereo']\n",
    "print(s1)\n",
    "print(sorted(s1))"
   ]
  },
  {
   "cell_type": "markdown",
   "id": "9015e1be",
   "metadata": {
    "collapsed": false,
    "ein.tags": "worksheet-0",
    "jupyter": {
     "outputs_hidden": false
    },
    "slideshow": {
     "slide_type": "-"
    }
   },
   "source": [
    "Acá `sorted` es una función, similar al método `str.sort()` que mencionamos anteriormente, con la diferencia que devuelve una nueva lista con los elementos ordenados.\n",
    "Como los elementos son *strings*, la comparación se hace respecto a su posición en el abecedario. En este caso no es lo mismo mayúsculas o minúsculas."
   ]
  },
  {
   "cell_type": "code",
   "execution_count": 21,
   "id": "df0dfd50",
   "metadata": {
    "autoscroll": false,
    "collapsed": false,
    "ein.hycell": false,
    "ein.tags": "worksheet-0",
    "jupyter": {
     "outputs_hidden": false
    },
    "slideshow": {
     "slide_type": "-"
    }
   },
   "outputs": [
    {
     "name": "stdout",
     "output_type": "stream",
     "text": [
      "['estudiantes', 'caballeros', 'python', 'curso', 'pc', 'aereo']\n",
      "['aereo', 'caballeros', 'curso', 'estudiantes', 'pc', 'python']\n"
     ]
    }
   ],
   "source": [
    "s2 = [s.lower() for s in s1]\n",
    "print(s2)\n",
    "print(sorted(s2))"
   ]
  },
  {
   "cell_type": "markdown",
   "id": "5751eeef",
   "metadata": {
    "collapsed": false,
    "ein.tags": "worksheet-0",
    "jupyter": {
     "outputs_hidden": false
    },
    "slideshow": {
     "slide_type": "-"
    }
   },
   "source": [
    "Posiblemente queremos el orden que obtuvimos en segundo lugar pero con los elementos dados originalmente (con sus mayúsculas y minúsculas originales).\n",
    "Para poder modificar el modo en que se ordenan los elementos, la función `sorted` (y el método `sort`) tienen el argumento opcional `key` que debe ser una función. Entonces `sort()` y `sorted()` toman una función como argumento."
   ]
  },
  {
   "cell_type": "code",
   "execution_count": 22,
   "id": "1b22adcf",
   "metadata": {
    "autoscroll": false,
    "collapsed": false,
    "ein.hycell": false,
    "ein.tags": "worksheet-0",
    "jupyter": {
     "outputs_hidden": false
    },
    "slideshow": {
     "slide_type": "-"
    }
   },
   "outputs": [
    {
     "data": {
      "text/plain": [
       "['aereo', 'caballeros', 'Curso', 'Estudiantes', 'pc', 'Python']"
      ]
     },
     "execution_count": 22,
     "metadata": {},
     "output_type": "execute_result"
    }
   ],
   "source": [
    "sorted(s1, key=str.lower)"
   ]
  },
  {
   "cell_type": "markdown",
   "id": "042b5b42",
   "metadata": {
    "collapsed": false,
    "ein.tags": "worksheet-0",
    "jupyter": {
     "outputs_hidden": false
    },
    "slideshow": {
     "slide_type": "-"
    }
   },
   "source": [
    "Como vemos, los strings están ordenados adecuadamente. Si queremos ordenarlos por longitud de la palabra"
   ]
  },
  {
   "cell_type": "code",
   "execution_count": 23,
   "id": "e4828088",
   "metadata": {
    "autoscroll": false,
    "collapsed": false,
    "ein.hycell": false,
    "ein.tags": "worksheet-0",
    "jupyter": {
     "outputs_hidden": false
    },
    "slideshow": {
     "slide_type": "-"
    }
   },
   "outputs": [
    {
     "data": {
      "text/plain": [
       "['pc', 'Curso', 'aereo', 'Python', 'caballeros', 'Estudiantes']"
      ]
     },
     "execution_count": 23,
     "metadata": {},
     "output_type": "execute_result"
    }
   ],
   "source": [
    "sorted(s1, key=len)"
   ]
  },
  {
   "cell_type": "markdown",
   "id": "71b23756",
   "metadata": {
    "collapsed": false,
    "ein.tags": "worksheet-0",
    "jupyter": {
     "outputs_hidden": false
    },
    "slideshow": {
     "slide_type": "-"
    }
   },
   "source": [
    "Supongamos que queremos ordenarla alfabéticamente por la segunda letra"
   ]
  },
  {
   "cell_type": "code",
   "execution_count": 24,
   "id": "1015ca42",
   "metadata": {
    "autoscroll": false,
    "collapsed": false,
    "ein.hycell": false,
    "ein.tags": "worksheet-0",
    "jupyter": {
     "outputs_hidden": false
    },
    "slideshow": {
     "slide_type": "-"
    }
   },
   "outputs": [
    {
     "data": {
      "text/plain": [
       "['caballeros', 'pc', 'aereo', 'Estudiantes', 'Curso', 'Python']"
      ]
     },
     "execution_count": 24,
     "metadata": {},
     "output_type": "execute_result"
    }
   ],
   "source": [
    "def segunda(a):\n",
    "  return a[1]\n",
    "\n",
    "sorted(s1, key=segunda)"
   ]
  },
  {
   "cell_type": "markdown",
   "id": "8859c9f0",
   "metadata": {
    "collapsed": false,
    "ein.tags": "worksheet-0",
    "jupyter": {
     "outputs_hidden": false
    },
    "slideshow": {
     "slide_type": "-"
    }
   },
   "source": [
    "\n",
    "## Funciones anónimas\n",
    "\n",
    "En ocasiones como esta suele ser más rápido (o conveniente) definir la función, que se va a utilizar una única vez, sin darle un nombre. Estas se llaman funciones *lambda*, y el ejemplo anterior se escribiría"
   ]
  },
  {
   "cell_type": "code",
   "execution_count": 25,
   "id": "850d8b4a",
   "metadata": {
    "autoscroll": false,
    "collapsed": false,
    "ein.hycell": false,
    "ein.tags": "worksheet-0",
    "jupyter": {
     "outputs_hidden": false
    },
    "slideshow": {
     "slide_type": "-"
    }
   },
   "outputs": [
    {
     "data": {
      "text/plain": [
       "['caballeros', 'pc', 'aereo', 'Estudiantes', 'Curso', 'Python']"
      ]
     },
     "execution_count": 25,
     "metadata": {},
     "output_type": "execute_result"
    }
   ],
   "source": [
    "sorted(s1, key=lambda a: a[1])"
   ]
  },
  {
   "cell_type": "markdown",
   "id": "070ed76b",
   "metadata": {
    "collapsed": false,
    "ein.tags": "worksheet-0",
    "jupyter": {
     "outputs_hidden": false
    },
    "slideshow": {
     "slide_type": "-"
    }
   },
   "source": [
    "Si queremos ordenarla alfabéticamente empezando desde la última letra:"
   ]
  },
  {
   "cell_type": "code",
   "execution_count": 26,
   "id": "b93c82f4",
   "metadata": {
    "autoscroll": false,
    "collapsed": false,
    "ein.hycell": false,
    "ein.tags": "worksheet-0",
    "jupyter": {
     "outputs_hidden": false
    },
    "slideshow": {
     "slide_type": "-"
    }
   },
   "outputs": [
    {
     "data": {
      "text/plain": [
       "['pc', 'Python', 'aereo', 'Curso', 'Estudiantes', 'caballeros']"
      ]
     },
     "execution_count": 26,
     "metadata": {},
     "output_type": "execute_result"
    }
   ],
   "source": [
    "sorted(s1, key=lambda a: str.lower(a[::-1]))"
   ]
  },
  {
   "cell_type": "markdown",
   "id": "16d3ba48-9b2d-4815-9e28-44019502edec",
   "metadata": {
    "collapsed": false,
    "jupyter": {
     "outputs_hidden": false
    }
   },
   "source": [
    "Este es un ejemplo de uso de las funciones anónimas `lambda`. La forma general de las funciones `lambda` es:\n",
    "\n",
    "```python\n",
    "lambda x,y,z: expresión_de(x,y,z)\n",
    "```\n",
    "por ejemplo, para calcular $(n+1) x^n$, hicimos:\n",
    "\n",
    "```python\n",
    "lambda x,n: (n+1) * x**n\n",
    "\n",
    "```\n"
   ]
  },
  {
   "cell_type": "markdown",
   "id": "0fcbffae",
   "metadata": {
    "collapsed": false,
    "ein.tags": "worksheet-0",
    "jupyter": {
     "outputs_hidden": false
    },
    "slideshow": {
     "slide_type": "-"
    }
   },
   "source": [
    "## Ejemplo: Integración numérica\n",
    "\n",
    "Veamos en más detalle el caso de funciones que reciben como argumento otra función, estudiando un caso usual: una función de integración debe recibir como argumento al menos una función a integrar y los límites de integración:"
   ]
  },
  {
   "cell_type": "code",
   "execution_count": 27,
   "id": "1717b4b9-6c3a-4b9c-9580-ee6308d74b1f",
   "metadata": {
    "collapsed": false,
    "jupyter": {
     "outputs_hidden": false
    }
   },
   "outputs": [],
   "source": [
    "# %load scripts/05_ejemplo_1.py\n",
    "def integrate_simps(f, a, b, N=10):\n",
    "  \"\"\"Calcula numéricamente la integral de la función en el intervalo dado\n",
    "  utilizando la regla de Simpson\n",
    "\n",
    "  Keyword Arguments:\n",
    "  f -- Función a integrar\n",
    "  a -- Límite inferior\n",
    "  b -- Límite superior\n",
    "  N -- El intervalo se separa en 2*N intervalos\n",
    "  \"\"\"\n",
    "  h = (b - a) / (2 * N)\n",
    "  I = f(a) - f(b)\n",
    "  for j in range(1, N + 1):\n",
    "    x2j = a + 2 * j * h\n",
    "    x2jm1 = a + (2 * j - 1) * h\n",
    "    I += 2 * f(x2j) + 4 * f(x2jm1)\n",
    "  return I * h / 3\n"
   ]
  },
  {
   "cell_type": "markdown",
   "id": "c9e2b797",
   "metadata": {
    "collapsed": false,
    "ein.tags": "worksheet-0",
    "jupyter": {
     "outputs_hidden": false
    },
    "slideshow": {
     "slide_type": "-"
    }
   },
   "source": [
    "En este ejemplo programamos la fórmula de integración de Simpson para obtener la integral de una función `f(x)` provista por el usuario, en un dado intervalo:\n",
    "$$\n",
    "\\int _{a}^{b}f(x)\\,dx\\approx \\frac{h}{3} \\bigg[ f(x_{0}) + 2 \\sum_{j=1}^{n/2} f(x_{2j}) + 4 \\sum_{j=1}^{n/2} f(x_{2j-1}) - f(x_{n})\\bigg]\n",
    "$$\n",
    "\n",
    "¿Cómo usamos la función de integración?"
   ]
  },
  {
   "cell_type": "code",
   "execution_count": 28,
   "id": "80222e96",
   "metadata": {
    "autoscroll": false,
    "collapsed": false,
    "ein.hycell": false,
    "ein.tags": "worksheet-0",
    "jupyter": {
     "outputs_hidden": false
    },
    "slideshow": {
     "slide_type": "-"
    }
   },
   "outputs": [
    {
     "data": {
      "text/plain": [
       "9.0"
      ]
     },
     "execution_count": 28,
     "metadata": {},
     "output_type": "execute_result"
    }
   ],
   "source": [
    "def potencia2(x):\n",
    "  return x**2\n",
    "\n",
    "integrate_simps(potencia2, 0, 3, 7)"
   ]
  },
  {
   "cell_type": "markdown",
   "id": "7a8afe89",
   "metadata": {
    "collapsed": false,
    "ein.tags": "worksheet-0",
    "jupyter": {
     "outputs_hidden": false
    },
    "slideshow": {
     "slide_type": "-"
    }
   },
   "source": [
    "Acá definimos una función, y se la pasamos como argumento a la función de integración. "
   ]
  },
  {
   "cell_type": "markdown",
   "id": "090972fe",
   "metadata": {
    "collapsed": false,
    "ein.tags": "worksheet-0",
    "jupyter": {
     "outputs_hidden": false
    },
    "slideshow": {
     "slide_type": "-"
    }
   },
   "source": [
    "\n",
    "### Uso de funciones anónimas\n",
    "\n",
    "Veamos como sería el uso de funciones anónimas en este contexto"
   ]
  },
  {
   "cell_type": "code",
   "execution_count": 29,
   "id": "bd680241",
   "metadata": {
    "autoscroll": false,
    "collapsed": false,
    "ein.hycell": false,
    "ein.tags": "worksheet-0",
    "jupyter": {
     "outputs_hidden": false
    },
    "slideshow": {
     "slide_type": "-"
    }
   },
   "outputs": [
    {
     "data": {
      "text/plain": [
       "9.0"
      ]
     },
     "execution_count": 29,
     "metadata": {},
     "output_type": "execute_result"
    }
   ],
   "source": [
    "integrate_simps(lambda x: x**2, 0, 3, 7)"
   ]
  },
  {
   "cell_type": "markdown",
   "id": "a62a8ada",
   "metadata": {
    "collapsed": false,
    "ein.tags": "worksheet-0",
    "jupyter": {
     "outputs_hidden": false
    },
    "slideshow": {
     "slide_type": "-"
    }
   },
   "source": [
    "La notación es un poco más corta, que es cómodo pero no muy relevante para un caso.\n",
    "Si queremos, por ejemplo, aplicar el integrador a una familia de funciones la notación se simplifica notablemente:"
   ]
  },
  {
   "cell_type": "code",
   "execution_count": 30,
   "id": "9ec17a47",
   "metadata": {
    "autoscroll": false,
    "collapsed": false,
    "ein.hycell": false,
    "ein.tags": "worksheet-0",
    "jupyter": {
     "outputs_hidden": false
    },
    "slideshow": {
     "slide_type": "-"
    }
   },
   "outputs": [
    {
     "name": "stdout",
     "output_type": "stream",
     "text": [
      "Integrales:\n",
      "I ( 1 x^0, 0, 3 ) = 3.00000\n",
      "I ( 2 x^1, 0, 3 ) = 9.00000\n",
      "I ( 3 x^2, 0, 3 ) = 27.00000\n",
      "I ( 4 x^3, 0, 3 ) = 81.00000\n",
      "I ( 5 x^4, 0, 3 ) = 243.00101\n",
      "I ( 6 x^5, 0, 3 ) = 729.00911\n"
     ]
    }
   ],
   "source": [
    "print('Integrales:')\n",
    "a = 0\n",
    "b = 3\n",
    "for n in range(6):\n",
    "  I = integrate_simps(lambda x: (n + 1) * x**n, a, b, 10)\n",
    "  print(f'I ( {n+1} x^{n}, {a}, {b} ) = {I:.5f}')\n"
   ]
  },
  {
   "cell_type": "markdown",
   "id": "ee525672",
   "metadata": {
    "collapsed": false,
    "ein.tags": "worksheet-0",
    "jupyter": {
     "outputs_hidden": false
    },
    "slideshow": {
     "slide_type": "-"
    }
   },
   "source": [
    "\n",
    "-----\n",
    "\n",
    "## Ejercicios 04 (d)\n",
    "\n",
    "\n",
    "5. Escriba una serie de funciones que permitan trabajar con polinomios. Vamos a representar a un polinomio como una lista de números reales, donde cada elemento corresponde a un coeficiente que acompaña una potencia. En cada caso elija los argumentos que considere necesario.\n",
    "\n",
    "    * Una función que devuelva el orden del polinomio (un número entero)\n",
    "    * Una función que sume dos polinomios y devuelva un polinomio (objeto del mismo tipo)\n",
    "    * Una función que multiplique dos polinomios y devuelva el resultado en otro polinomio\n",
    "    * Una función devuelva la derivada del polinomio (otro polinomio).\n",
    "    * Una función que acepte el polinomio y devuelva la función correspondiente.\n",
    " \n",
    "6. Escriba una función `direccion_media(ang1, ang2, ...)` cuyos argumentos son direcciones en el plano, expresadas por los ángulos en grados a partir de un cierto eje, y calcule la dirección promedio, expresada en ángulos. Pruebe su función con las listas:\n",
    "\n",
    "   ```python\n",
    "   a1 = direccion_media(0, 180, 370, 10)\n",
    "   a2 = direccion_media(30, 0, 80, 180)\n",
    "   a3 = direccion_media(80, 180, 540, 280)\n",
    "   ```\n",
    "\n",
    "7. Las funciones de Bessel de orden $n$ cumplen las relaciones de recurrencia\n",
    "   $$\n",
    "    J_{n -1}(x)- \\frac{2n }{x}\\, J_{n }(x) + J_{n +1}(x) = 0 \n",
    "   $$\n",
    "   $$\n",
    "   J^{2}_{0}(x) + \\sum_{n=1}^{\\infty} 2 J^{2}_{n}(x) = 1\n",
    "   $$\n",
    "\n",
    "   Para calcular la función de Bessel de orden $N$, se empieza con un valor de $M \\gg N$, y utilizando los valores iniciales $J_{M}=1$, $J_{M+1}=0$ se utiliza la primera relación para calcular todos los valores de $n < M$. Luego, utilizando la segunda relación se normalizan todos los valores.\n",
    "\n",
    "   --------\n",
    "\n",
    "   **Nota:** Estas relaciones son válidas si $M \\gg x$ (use algún valor estimado, como por ejemplo $M=N+20$).\n",
    "\n",
    "   --------\n",
    "\n",
    "   Utilice estas relaciones para calcular $J_{N}(x)$ para $N=3,4,7$ y $x=2.5, 5.7, 10$.\n",
    "   Para referencia se dan los valores esperados\n",
    "   $$\n",
    "   \\begin{align}\n",
    "   J_3( 2.5) =  0.21660\\\\\n",
    "   J_4( 2.5) =  0.07378\\\\\n",
    "   J_7( 2.5) =  0.00078\\\\\n",
    "   J_3( 5.7) =  0.20228\\\\\n",
    "   J_4( 5.7) =  0.38659\\\\\n",
    "   J_7( 5.7) =  0.10270\\\\\n",
    "   J_3(10.0) =  0.05838\\\\\n",
    "   J_4(10.0) = -0.21960\\\\\n",
    "   J_7(10.0) =  0.21671\\\\\n",
    "   \\end{align}\n",
    "   $$\n",
    "\n",
    "9. Dada una lista de números, vamos a calcular valores relacionados a su estadística.\n",
    "\n",
    "    - Realizar una función `calc_media(x, que=\"aritmetica\")` que calcule los valores de la media aritmética, la media geométrica o la media armónica dependiendo del valor del argumento `que`. Las medias están dadas por:\n",
    "    $$\n",
    "    A(x_1, \\ldots, x_n) = \\bar{x} = \\frac{x_1 + \\cdots + x_n}{n} $$\n",
    "    $$\n",
    "    G(x_1, \\ldots, x_n) = \\sqrt[n]{x_1 \\cdots x_n} $$\n",
    "    $$\n",
    "    H(x_1, \\ldots, x_n) = \\frac{n}{\\frac{1}{x_1} + \\cdots + \\frac{1}{x_n}}\n",
    "    $$\n",
    "\n",
    "    - Realizar una función que calcule la mediana de una lista de números (el argumento en este caso es del tipo `list`). La mediana se define como el valor para el cual la mitad de los valores de la lista es menor que ella. Si el número de elementos es par, se toma el promedio entre los dos adyacentes.\n",
    "\n",
    "    Realizar los cálculos para las listas de números:\n",
    "\n",
    "    ```python\n",
    "    L1 = [6.41, 1.28, 11.54, 5.13, 8.97, 3.84, 10.26, 14.1, 12.82, 16.67, 2.56, 17.95, 7.69, 15.39]\n",
    "    L2 = [4.79, 1.59, 2.13, 4.26, 3.72, 1.06, 6.92, 3.19, 5.32, 2.66, 5.85, 6.39, 0.53]\n",
    "    ```\n",
    "\n",
    "   - La *moda* se define como el valor que ocurre más frecuentemente en una colección. Note que la moda puede no ser única. En ese caso debe obtener todos los valores. Escriba una función que retorne la moda de una lista de números. Utilícela para calcular la moda de la siguiente lista de números enteros:\n",
    "   ```python\n",
    "   L = [8, 9, 10, 11, 10, 6, 10, 17, 8, 8, 5, 10, 14, 7, 9, 12, 8, 17, 10, 12, 9, 11, 9, 12, 11, 11, 6, 9, 12, 5, 12, 9, 10, 16, 8, 4, 5, 8, 11, 12]\n",
    "   ```\n",
    "   \n",
    "-----\n",
    "\n",
    "\n",
    "."
   ]
  }
 ],
 "metadata": {
  "kernelspec": {
   "display_name": "Python 3 (ipykernel)",
   "language": "python",
   "name": "python3"
  },
  "language_info": {
   "codemirror_mode": {
    "name": "ipython",
    "version": 3
   },
   "file_extension": ".py",
   "mimetype": "text/x-python",
   "name": "python",
   "nbconvert_exporter": "python",
   "pygments_lexer": "ipython3",
   "version": "3.11.7"
  },
  "name": "04_3_func_func.ipynb",
  "toc": {
   "base_numbering": 1,
   "nav_menu": {
    "height": "153.967px",
    "width": "252px"
   },
   "number_sections": true,
   "sideBar": true,
   "skip_h1_title": false,
   "title_cell": "Contenidos",
   "title_sidebar": "Contenidos",
   "toc_cell": false,
   "toc_position": null,
   "toc_section_display": true,
   "toc_window_display": false
  }
 },
 "nbformat": 4,
 "nbformat_minor": 5
}
