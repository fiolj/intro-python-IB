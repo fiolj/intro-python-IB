{
 "cells": [
  {
   "cell_type": "markdown",
   "id": "d3b1ad23-f65c-4a6c-89c5-e44fdbfdbdf6",
   "metadata": {
    "collapsed": false,
    "jupyter": {
     "outputs_hidden": false
    }
   },
   "source": [
    "\n",
    "# Tipos complejos y control de flujo"
   ]
  },
  {
   "cell_type": "markdown",
   "id": "3fb87bac-1cc1-4dd7-bf3f-21712be215d3",
   "metadata": {
    "collapsed": false,
    "jupyter": {
     "outputs_hidden": false
    }
   },
   "source": [
    "## Listas\n",
    "\n",
    "Vimos en la clase anterior el tipo \"Lista\", que es un objeto que puede contener muchos valores, de igual o distinto tipo. Veamos algunas características"
   ]
  },
  {
   "cell_type": "markdown",
   "id": "317ab5ac-7325-4afd-b9ab-9b6938c4758f",
   "metadata": {
    "collapsed": false,
    "jupyter": {
     "outputs_hidden": false
    }
   },
   "source": [
    "### Operaciones sobre listas\n",
    "\n",
    "Están definidas algunas operaciones entre listas y sobre ellas.\n",
    "Por ejemplo, se puede fácilmente:\n",
    "\n",
    "  - concatenar dos listas,\n",
    "  - buscar un valor dado,\n",
    "  - agregar elementos,\n",
    "  - borrar elementos,\n",
    "  - calcular su longitud,\n",
    "  - invertirla\n",
    " \n",
    "Empecemos concatenando dos listas, usando el operador \"suma\""
   ]
  },
  {
   "cell_type": "code",
   "execution_count": 1,
   "id": "26e76da5-0c53-48b5-86b7-9f9152049543",
   "metadata": {
    "collapsed": false,
    "jupyter": {
     "outputs_hidden": false
    }
   },
   "outputs": [],
   "source": [
    "L1 = [0,1,2,3,4,5]"
   ]
  },
  {
   "cell_type": "code",
   "execution_count": 2,
   "id": "9fb4d247-e39d-48b6-82fe-80c087411bc4",
   "metadata": {
    "collapsed": false,
    "jupyter": {
     "outputs_hidden": false
    }
   },
   "outputs": [
    {
     "data": {
      "text/plain": [
       "[0, 1, 2, 3, 4, 5, 0, 1, 2, 3, 4, 5]"
      ]
     },
     "execution_count": 2,
     "metadata": {},
     "output_type": "execute_result"
    }
   ],
   "source": [
    "L1 + L1"
   ]
  },
  {
   "cell_type": "code",
   "execution_count": 3,
   "id": "2904f05b-3076-4085-9e7b-c963ed49abd8",
   "metadata": {
    "collapsed": false,
    "jupyter": {
     "outputs_hidden": false
    }
   },
   "outputs": [
    {
     "data": {
      "text/plain": [
       "True"
      ]
     },
     "execution_count": 3,
     "metadata": {},
     "output_type": "execute_result"
    }
   ],
   "source": [
    "2*L1 == L1 + L1"
   ]
  },
  {
   "cell_type": "code",
   "execution_count": 4,
   "id": "aea7575d-a9a6-402c-904b-e3498bdeb622",
   "metadata": {
    "collapsed": false,
    "jupyter": {
     "outputs_hidden": false
    }
   },
   "outputs": [],
   "source": [
    "L = 3*L1"
   ]
  },
  {
   "cell_type": "markdown",
   "id": "4d6dec8f-c5e4-46b2-8afa-efb517033179",
   "metadata": {
    "collapsed": false,
    "jupyter": {
     "outputs_hidden": false
    }
   },
   "source": [
    "Las listas tienen definidos métodos, que podemos ver con la ayuda incluida, por ejemplo haciendo `help(list)`"
   ]
  },
  {
   "cell_type": "code",
   "execution_count": 5,
   "id": "68499231-2c61-431d-bbab-a825d517015e",
   "metadata": {
    "collapsed": false,
    "jupyter": {
     "outputs_hidden": false
    }
   },
   "outputs": [
    {
     "name": "stdout",
     "output_type": "stream",
     "text": [
      "[0, 1, 2, 3, 4, 5, 0, 1, 2, 3, 4, 5, 0, 1, 2, 3, 4, 5]\n"
     ]
    }
   ],
   "source": [
    "print(L)"
   ]
  },
  {
   "cell_type": "code",
   "execution_count": 6,
   "id": "f55fb9dc-d314-47e2-ada9-d4d9fcfdef08",
   "metadata": {
    "collapsed": false,
    "jupyter": {
     "outputs_hidden": false
    }
   },
   "outputs": [
    {
     "data": {
      "text/plain": [
       "3"
      ]
     },
     "execution_count": 6,
     "metadata": {},
     "output_type": "execute_result"
    }
   ],
   "source": [
    "L.index(3)                      # Índice del elemento de valor 3"
   ]
  },
  {
   "cell_type": "code",
   "execution_count": 7,
   "id": "da211e4e-feb7-4576-8d86-a4d832105c77",
   "metadata": {
    "collapsed": false,
    "jupyter": {
     "outputs_hidden": false
    }
   },
   "outputs": [
    {
     "data": {
      "text/plain": [
       "9"
      ]
     },
     "execution_count": 7,
     "metadata": {},
     "output_type": "execute_result"
    }
   ],
   "source": [
    "L.index(3,4)                    # Índice del valor 3, empezando del cuarto"
   ]
  },
  {
   "cell_type": "code",
   "execution_count": 8,
   "id": "dafa323a-2f9b-4e10-bf9c-d22b89ead051",
   "metadata": {
    "collapsed": false,
    "jupyter": {
     "outputs_hidden": false
    }
   },
   "outputs": [
    {
     "data": {
      "text/plain": [
       "3"
      ]
     },
     "execution_count": 8,
     "metadata": {},
     "output_type": "execute_result"
    }
   ],
   "source": [
    "L.count(3)                      # Cuenta las veces que aparece el valor \"3\""
   ]
  },
  {
   "cell_type": "markdown",
   "id": "c144aaef-c934-46ff-93dd-4e1f790a7bb9",
   "metadata": {
    "collapsed": false,
    "jupyter": {
     "outputs_hidden": false
    }
   },
   "source": [
    "Si queremos agregar un elemento al final utilizamos el método `append`:"
   ]
  },
  {
   "cell_type": "code",
   "execution_count": 9,
   "id": "765dfef1-d561-457c-873e-d881d0aacf34",
   "metadata": {
    "collapsed": false,
    "jupyter": {
     "outputs_hidden": false
    }
   },
   "outputs": [],
   "source": [
    "L.append(8)"
   ]
  },
  {
   "cell_type": "code",
   "execution_count": 10,
   "id": "e816051f-52cc-4d49-88da-4bd9148fa866",
   "metadata": {
    "collapsed": false,
    "jupyter": {
     "outputs_hidden": false
    }
   },
   "outputs": [
    {
     "name": "stdout",
     "output_type": "stream",
     "text": [
      "[0, 1, 2, 3, 4, 5, 0, 1, 2, 3, 4, 5, 0, 1, 2, 3, 4, 5, 8]\n"
     ]
    }
   ],
   "source": [
    "print(L)"
   ]
  },
  {
   "cell_type": "code",
   "execution_count": 11,
   "id": "26f9dded-ce61-4a62-8948-dab0743eaf7b",
   "metadata": {
    "collapsed": false,
    "jupyter": {
     "outputs_hidden": false
    }
   },
   "outputs": [
    {
     "name": "stdout",
     "output_type": "stream",
     "text": [
      "[0, 1, 2, 3, 4, 5, 0, 1, 2, 3, 4, 5, 0, 1, 2, 3, 4, 5, 8, [9, 8, 7]]\n"
     ]
    }
   ],
   "source": [
    "L.append([9, 8, 7])\n",
    "print(L)"
   ]
  },
  {
   "cell_type": "markdown",
   "id": "7779be13-c874-461d-a174-e1a4e9371ef5",
   "metadata": {
    "collapsed": false,
    "jupyter": {
     "outputs_hidden": false
    }
   },
   "source": [
    "Si queremos insertar un elemento en una posición que no es el final de la lista, usamos el método `insert()`. Por ejemplo para insertar el valor 6 en la primera posición:"
   ]
  },
  {
   "cell_type": "code",
   "execution_count": 12,
   "id": "26a57c5a-296d-4446-941c-fcd9ce0144aa",
   "metadata": {
    "collapsed": false,
    "jupyter": {
     "outputs_hidden": false
    }
   },
   "outputs": [
    {
     "name": "stdout",
     "output_type": "stream",
     "text": [
      "[6, 0, 1, 2, 3, 4, 5, 0, 1, 2, 3, 4, 5, 0, 1, 2, 3, 4, 5, 8, [9, 8, 7]]\n"
     ]
    }
   ],
   "source": [
    "L.insert(0,6)\n",
    "print(L)"
   ]
  },
  {
   "cell_type": "code",
   "execution_count": 13,
   "id": "b944a8c0-a48a-47a7-beb5-4d3d314d681c",
   "metadata": {
    "collapsed": false,
    "jupyter": {
     "outputs_hidden": false
    }
   },
   "outputs": [
    {
     "name": "stdout",
     "output_type": "stream",
     "text": [
      "[6, 0, 1, 2, 3, 4, 5, 0, 1, 2, 3, 4, 5, 0, 1, 2, 3, 4, 5, 6, 8, [9, 8, 7]]\n"
     ]
    }
   ],
   "source": [
    "L.insert(-2,6)\n",
    "print(L)"
   ]
  },
  {
   "cell_type": "markdown",
   "id": "064cc0a0-82af-4044-9ee8-a8d59d0ba5e2",
   "metadata": {
    "collapsed": false,
    "jupyter": {
     "outputs_hidden": false
    }
   },
   "source": [
    "En las listas podemos sobreescribir uno o más elementos"
   ]
  },
  {
   "cell_type": "code",
   "execution_count": 14,
   "id": "98d3a822-0915-4133-ba40-f13bda0d4440",
   "metadata": {
    "collapsed": false,
    "jupyter": {
     "outputs_hidden": false
    }
   },
   "outputs": [
    {
     "name": "stdout",
     "output_type": "stream",
     "text": [
      "[2, 3, 4, 2, -4, 4, 5, 0, 1, 2, 3, 4, 5, 0, 1, 2, 3, 4, 5, 6, 8, [9, 8, 7]]\n"
     ]
    }
   ],
   "source": [
    "L[0:3] = [2,3,4]\n",
    "L[4]=-4\n",
    "print(L)"
   ]
  },
  {
   "cell_type": "code",
   "execution_count": 15,
   "id": "287fc499-85ac-4103-95b1-849414b9f9a8",
   "metadata": {
    "collapsed": false,
    "jupyter": {
     "outputs_hidden": false
    }
   },
   "outputs": [
    {
     "name": "stdout",
     "output_type": "stream",
     "text": [
      "[2, 3, 4, 2, -4, 4, 5, 0, 1, 2, 3, 4, 5, 0, 1, 2, 3, 4, 5, 6, 0, 1]\n"
     ]
    }
   ],
   "source": [
    "L[-2:]=[0,1]\n",
    "print(L)"
   ]
  },
  {
   "cell_type": "code",
   "execution_count": 16,
   "id": "c63e6071-1568-49fe-97b8-05f1a8d3b433",
   "metadata": {
    "collapsed": false,
    "jupyter": {
     "outputs_hidden": false
    }
   },
   "outputs": [],
   "source": [
    "L[-2:] = [7,\"fin2\"]"
   ]
  },
  {
   "cell_type": "code",
   "execution_count": 17,
   "id": "8f81b4ff-f1b1-4e91-876c-efa5727840f2",
   "metadata": {
    "collapsed": false,
    "jupyter": {
     "outputs_hidden": false
    }
   },
   "outputs": [
    {
     "name": "stdout",
     "output_type": "stream",
     "text": [
      "[2, 3, 4, 2, -4, 4, 5, 0, 1, 2, 3, 4, 5, 0, 1, 2, 3, 4, 5, 6, 7, 'fin2']\n"
     ]
    }
   ],
   "source": [
    "print(L)"
   ]
  },
  {
   "cell_type": "code",
   "execution_count": 18,
   "id": "66efee29-4704-47e0-9929-7eae66aee32a",
   "metadata": {
    "collapsed": false,
    "jupyter": {
     "outputs_hidden": false
    }
   },
   "outputs": [],
   "source": [
    "L.extend([0,1])                 # Extendemos con varios elementos"
   ]
  },
  {
   "cell_type": "code",
   "execution_count": 19,
   "id": "b34a6557-2860-4769-9bf2-e2fa3c06d993",
   "metadata": {
    "collapsed": false,
    "jupyter": {
     "outputs_hidden": false
    }
   },
   "outputs": [
    {
     "name": "stdout",
     "output_type": "stream",
     "text": [
      "[2, 3, 4, 2, -4, 4, 5, 0, 1, 2, 3, 4, 5, 0, 1, 2, 3, 4, 5, 6, 7, 'fin2', 0, 1]\n"
     ]
    }
   ],
   "source": [
    "print(L)"
   ]
  },
  {
   "cell_type": "code",
   "execution_count": 20,
   "id": "41b42246-589b-4109-b63b-db1c4d9aaa5e",
   "metadata": {
    "collapsed": false,
    "jupyter": {
     "outputs_hidden": false
    }
   },
   "outputs": [
    {
     "name": "stdout",
     "output_type": "stream",
     "text": [
      "[2, 3, 4, 2, -4, 4, 5, 0, 1, 2, 3, 4, 5, 0, 1, 2, 3, 4, 5, 6, 7, 'fin2', 0, 1]\n",
      "[2, 3, 4, 2, -4, 4, 5, 0, 1, 2, 3, 4, 5, 0, 1, 2, 3, 4, 5, 6, 7, 0, 1]\n"
     ]
    }
   ],
   "source": [
    "print(L)\n",
    "L.remove('fin2')                # Elimina la primera aparición del valor 'fin2'\n",
    "print(L)"
   ]
  },
  {
   "cell_type": "code",
   "execution_count": 21,
   "id": "c01e6ba3-e144-48ff-9b10-2aa709b06db6",
   "metadata": {},
   "outputs": [
    {
     "name": "stdout",
     "output_type": "stream",
     "text": [
      "[2, 4, 2, -4, 4, 5, 0, 1, 2, 3, 4, 5, 0, 1, 2, 3, 4, 5, 6, 7, 0, 1]\n"
     ]
    }
   ],
   "source": [
    "L.remove(3)\n",
    "print(L)"
   ]
  },
  {
   "cell_type": "code",
   "execution_count": 22,
   "id": "db31a541-7243-4591-8772-dd2604fd91ff",
   "metadata": {},
   "outputs": [
    {
     "name": "stdout",
     "output_type": "stream",
     "text": [
      "Help on built-in function remove:\n",
      "\n",
      "remove(value, /) method of builtins.list instance\n",
      "    Remove first occurrence of value.\n",
      "\n",
      "    Raises ValueError if the value is not present.\n",
      "\n"
     ]
    }
   ],
   "source": [
    "help(L.remove)"
   ]
  },
  {
   "cell_type": "code",
   "execution_count": 23,
   "id": "53843f82-af80-4fe0-bbac-11fffa550347",
   "metadata": {
    "collapsed": false,
    "jupyter": {
     "outputs_hidden": false
    }
   },
   "outputs": [
    {
     "name": "stdout",
     "output_type": "stream",
     "text": [
      "[0, 1, 2, 3, 4, 5]\n",
      "[5, 4, 3, 2, 1, 0]\n"
     ]
    }
   ],
   "source": [
    "print(L1)\n",
    "L1.reverse()\n",
    "print(L1)"
   ]
  },
  {
   "cell_type": "code",
   "execution_count": 24,
   "id": "59f4853a-37a6-4ba2-936f-ac57612ab4c3",
   "metadata": {},
   "outputs": [
    {
     "data": {
      "text/plain": [
       "[0, 1, 2, 3, 4, 5]"
      ]
     },
     "execution_count": 24,
     "metadata": {},
     "output_type": "execute_result"
    }
   ],
   "source": [
    "L1[::-1]"
   ]
  },
  {
   "cell_type": "markdown",
   "id": "05c1c521-654c-477b-8f19-d5ab18021a0e",
   "metadata": {
    "collapsed": false,
    "jupyter": {
     "outputs_hidden": false
    }
   },
   "source": [
    "Función de Python que invierte un objeto iterable (como una lista)"
   ]
  },
  {
   "cell_type": "code",
   "execution_count": 25,
   "id": "b2d101fa-e014-462e-8918-42ade9d107f2",
   "metadata": {
    "collapsed": false,
    "jupyter": {
     "outputs_hidden": false
    }
   },
   "outputs": [
    {
     "name": "stdout",
     "output_type": "stream",
     "text": [
      "[0, 1, 2, 3, 4, 5]\n"
     ]
    }
   ],
   "source": [
    "print(list(reversed(L1)))"
   ]
  },
  {
   "cell_type": "code",
   "execution_count": 26,
   "id": "2fbbdddd-22e3-43e0-94f0-2387166a8e01",
   "metadata": {},
   "outputs": [
    {
     "data": {
      "text/plain": [
       "<list_reverseiterator at 0x7efcf3f00a30>"
      ]
     },
     "execution_count": 26,
     "metadata": {},
     "output_type": "execute_result"
    }
   ],
   "source": [
    "reversed(L1)"
   ]
  },
  {
   "cell_type": "markdown",
   "id": "88a61643-8258-4f26-bacc-f6e7602a682c",
   "metadata": {
    "collapsed": false,
    "jupyter": {
     "outputs_hidden": false
    }
   },
   "source": [
    "El método `sort()` de las listas ordena sus elementos (si pueden compararse), y acepta dos argumentos opcionales: `key` y `reverse`"
   ]
  },
  {
   "cell_type": "code",
   "execution_count": 27,
   "id": "0a981eec-62d5-4276-8b7c-8b730198d0aa",
   "metadata": {
    "collapsed": false,
    "jupyter": {
     "outputs_hidden": false
    }
   },
   "outputs": [
    {
     "name": "stdout",
     "output_type": "stream",
     "text": [
      "[-4, 0, 0, 0, 1, 1, 1, 2, 2, 2, 2, 3, 3, 4, 4, 4, 4, 5, 5, 5, 6, 7]\n"
     ]
    }
   ],
   "source": [
    "L.sort()          # Ordena la lista (si los elementos son comparables)\n",
    "print(L)"
   ]
  },
  {
   "cell_type": "code",
   "execution_count": 28,
   "id": "dcdf8aac-3f3f-44cb-9ab5-212f84fa58d3",
   "metadata": {},
   "outputs": [
    {
     "name": "stdout",
     "output_type": "stream",
     "text": [
      "['a', 'bote', 'chancho', 'vaca']\n"
     ]
    }
   ],
   "source": [
    "Ls = ['a','vaca','bote','chancho']\n",
    "Ls.sort()\n",
    "print(Ls)"
   ]
  },
  {
   "cell_type": "code",
   "execution_count": 29,
   "id": "45f2a464-a48f-4160-9127-407e202bb62d",
   "metadata": {
    "collapsed": false,
    "jupyter": {
     "outputs_hidden": false
    }
   },
   "outputs": [
    {
     "name": "stdout",
     "output_type": "stream",
     "text": [
      "[7, 6, 5, 5, 5, 4, 4, 4, 4, 3, 3, 2, 2, 2, 2, 1, 1, 1, 0, 0, 0, -4]\n"
     ]
    }
   ],
   "source": [
    "L.sort(reverse=True)            \n",
    "print(L)"
   ]
  },
  {
   "cell_type": "markdown",
   "id": "73188cf6-359e-4b2b-8b5a-6fb682c58997",
   "metadata": {
    "collapsed": false,
    "jupyter": {
     "outputs_hidden": false
    }
   },
   "source": [
    "Este método toma además un argumento opcional `key`, que es una función que se aplica a cada elemento antes de compararlos"
   ]
  },
  {
   "cell_type": "code",
   "execution_count": 30,
   "id": "265c7422-36e1-4296-ab79-dead8f0dca8b",
   "metadata": {},
   "outputs": [],
   "source": [
    "Ls.sort(key=len)"
   ]
  },
  {
   "cell_type": "code",
   "execution_count": 31,
   "id": "c68e1886-5a77-44bf-a69d-269d0fb6ed3b",
   "metadata": {},
   "outputs": [
    {
     "name": "stdout",
     "output_type": "stream",
     "text": [
      "['a', 'bote', 'vaca', 'chancho']\n"
     ]
    }
   ],
   "source": [
    "print(Ls)"
   ]
  },
  {
   "cell_type": "markdown",
   "id": "ab25dff4-f746-4c48-a39c-101e8dfaa846",
   "metadata": {
    "collapsed": false,
    "jupyter": {
     "outputs_hidden": false
    }
   },
   "source": [
    "### Funciones que aplican sobre listas\n",
    "\n",
    "Hay algunas funciones de Python que se aplican sobre listas (o sobre iterables en general). Algunas de ellas son la suma `sum()` e inversión `reversed()`"
   ]
  },
  {
   "cell_type": "code",
   "execution_count": 32,
   "id": "52b859bc-4b0b-46ab-87e3-99477c6bada6",
   "metadata": {
    "collapsed": false,
    "jupyter": {
     "outputs_hidden": false
    }
   },
   "outputs": [
    {
     "data": {
      "text/plain": [
       "[7, 6, 5, 5, 5, 4, 4, 4, 4, 3, 3, 2, 2, 2, 2, 1, 1, 1, 0, 0, 0, -4]"
      ]
     },
     "execution_count": 32,
     "metadata": {},
     "output_type": "execute_result"
    }
   ],
   "source": [
    "L"
   ]
  },
  {
   "cell_type": "code",
   "execution_count": 33,
   "id": "d906ca4c-8425-49a6-9321-ab278e40e740",
   "metadata": {
    "collapsed": false,
    "jupyter": {
     "outputs_hidden": false
    }
   },
   "outputs": [
    {
     "data": {
      "text/plain": [
       "57"
      ]
     },
     "execution_count": 33,
     "metadata": {},
     "output_type": "execute_result"
    }
   ],
   "source": [
    "sum(L)"
   ]
  },
  {
   "cell_type": "markdown",
   "id": "e174ab84-c5f7-40ae-9c17-38a5128f379b",
   "metadata": {
    "collapsed": false,
    "jupyter": {
     "outputs_hidden": false
    }
   },
   "source": [
    "Las funciones mínimo `min()`, máximo `max()` y ordenar `sorted()` toman como argumento una lista (u otro iterable) de elementos que pueden compararse entre sí"
   ]
  },
  {
   "cell_type": "code",
   "execution_count": 34,
   "id": "27952071-e672-4739-98c8-3a34d02ccf61",
   "metadata": {
    "collapsed": false,
    "jupyter": {
     "outputs_hidden": false
    }
   },
   "outputs": [
    {
     "name": "stdout",
     "output_type": "stream",
     "text": [
      "-4 7\n"
     ]
    }
   ],
   "source": [
    "print(min(L), max(L))"
   ]
  },
  {
   "cell_type": "code",
   "execution_count": 35,
   "id": "1c4e4f92-daed-4937-a874-faf12854ab29",
   "metadata": {
    "collapsed": false,
    "jupyter": {
     "outputs_hidden": false
    }
   },
   "outputs": [
    {
     "name": "stdout",
     "output_type": "stream",
     "text": [
      "[-4, 0, 0, 0, 1, 1, 1, 2, 2, 2, 2, 3, 3, 4, 4, 4, 4, 5, 5, 5, 6, 7]\n"
     ]
    }
   ],
   "source": [
    "print(sorted(L))"
   ]
  },
  {
   "cell_type": "code",
   "execution_count": 36,
   "id": "fe797c21-53f6-4f32-9cae-029897864b4d",
   "metadata": {},
   "outputs": [
    {
     "name": "stdout",
     "output_type": "stream",
     "text": [
      "Help on built-in function sorted in module builtins:\n",
      "\n",
      "sorted(iterable, /, *, key=None, reverse=False)\n",
      "    Return a new list containing all items from the iterable in ascending order.\n",
      "\n",
      "    A custom key function can be supplied to customize the sort order, and the\n",
      "    reverse flag can be set to request the result in descending order.\n",
      "\n"
     ]
    }
   ],
   "source": [
    "help(sorted)"
   ]
  },
  {
   "cell_type": "markdown",
   "id": "35170978-e6e6-4535-a21f-aa4902173b2c",
   "metadata": {
    "collapsed": false,
    "jupyter": {
     "outputs_hidden": false
    }
   },
   "source": [
    "Puede encontrarse más información en [la Biblioteca de Python](https://docs.python.org/3/library/stdtypes.html#sequence-types-list-tuple-range)."
   ]
  },
  {
   "cell_type": "code",
   "execution_count": 38,
   "id": "0a2d0929-9eea-4e00-b6fa-72c355ea2ad9",
   "metadata": {
    "collapsed": false,
    "jupyter": {
     "outputs_hidden": false
    }
   },
   "outputs": [
    {
     "data": {
      "text/plain": [
       "'holaabcdequeabcdetal'"
      ]
     },
     "execution_count": 38,
     "metadata": {},
     "output_type": "execute_result"
    }
   ],
   "source": [
    "s = \"abcde\"\n",
    "L3 = ['hola','que','tal']\n",
    "s.join(L3)"
   ]
  },
  {
   "cell_type": "code",
   "execution_count": 39,
   "id": "e37ead34-2b40-4646-8788-c0c9d4326940",
   "metadata": {
    "collapsed": false,
    "jupyter": {
     "outputs_hidden": false
    }
   },
   "outputs": [
    {
     "data": {
      "text/plain": [
       "'hola que tal'"
      ]
     },
     "execution_count": 39,
     "metadata": {},
     "output_type": "execute_result"
    }
   ],
   "source": [
    "\" \".join(L3)"
   ]
  },
  {
   "cell_type": "code",
   "execution_count": 40,
   "id": "90bf4693-e6a4-4f7e-9d55-a872759c72a3",
   "metadata": {
    "collapsed": false,
    "jupyter": {
     "outputs_hidden": false
    }
   },
   "outputs": [
    {
     "name": "stdout",
     "output_type": "stream",
     "text": [
      "hola\n",
      "que\n",
      "tal\n"
     ]
    }
   ],
   "source": [
    "print(\"\\n\".join(L3))"
   ]
  },
  {
   "cell_type": "markdown",
   "id": "509a8fcc-1ab2-4af5-9f49-ec203cb44110",
   "metadata": {
    "collapsed": false,
    "editable": true,
    "jupyter": {
     "outputs_hidden": false
    },
    "slideshow": {
     "slide_type": ""
    },
    "tags": []
   },
   "source": [
    "-------- \n",
    "\n",
    "## Ejercicios 03 (a)\n",
    "\n",
    "1. Manejos de listas:\n",
    "    - Cree la lista **N** de longitud 50, donde cada elemento es un número entero de 1 a 50 inclusive (Ayuda: vea la expresión ``range``).\n",
    "    - Invierta la lista.\n",
    "    - Extraiga de **N** una lista **N1** que contenga sólo aquellos elementos que sean el cuadrado de algún número entero.\n",
    "    - Extraiga de **N** una lista **N2** que contenga sólo aquellos elementos que sean iguales al $n^2-n$ para algún número entero $n$.\n",
    "    \n",
    "   *Ayuda:* Puede resultar útil recordar el uso de comprensión de listas.\n",
    "\n",
    "\n",
    "7. Cree una lista de la forma `L = [1,3,5,...,17,19,19,17,...,3,1]` (*Ayuda:* vea la expresión ``range``).\n",
    "\n",
    "8. Escriba una función que tome un número entero de tres cifras, y devuelva el mayor entero que se puede formar con esas cifras (*Ayuda:* considere convertir el número entero a otros tipos).\n",
    "\n",
    "9. Construya una lista `L2` con 2000 elementos, todos iguales a `0.0005`.\n",
    "Imprima su suma utilizando la función `sum` y comparar con el resultado que arroja la función que existe en el módulo `math` para realizar suma de números de punto flotante.\n",
    "\n",
    "10. Operación \"rara\" sobre una lista:\n",
    "    - Defina la lista `L = [0,1]`\n",
    "    - Realice la operación `L.append(L)`\n",
    "    - Ahora imprima L, e imprima el último elemento de `L`.\n",
    "    - Haga que una nueva lista `L1` tenga el valor del último elemento de `L` y repita el inciso anterior.\n",
    "\n",
    "--------\n"
   ]
  }
 ],
 "metadata": {
  "kernelspec": {
   "display_name": "Python 3 (ipykernel)",
   "language": "python",
   "name": "python3"
  },
  "language_info": {
   "codemirror_mode": {
    "name": "ipython",
    "version": 3
   },
   "file_extension": ".py",
   "mimetype": "text/x-python",
   "name": "python",
   "nbconvert_exporter": "python",
   "pygments_lexer": "ipython3",
   "version": "3.13.2"
  }
 },
 "nbformat": 4,
 "nbformat_minor": 5
}
