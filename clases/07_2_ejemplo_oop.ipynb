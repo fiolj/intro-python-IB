{
 "cells": [
  {
   "cell_type": "markdown",
   "metadata": {
    "ein.tags": "worksheet-0",
    "slideshow": {
     "slide_type": "-"
    }
   },
   "source": [
    "# Programación orientada a objetos\n",
    "\n",
    "## Ejemplo: OOP\n",
    "\n",
    "En este ejemplo queremos hacer un programa para manejar toda la información relativa a un equipo de fútbol femenino.\n",
    "\n",
    "Una manera de manejar este problema sería tipo \"hoja de cálculo\". Una matriz donde cada fila corresponde a una jugadora, y cada columna corresponde a un dato diferente."
   ]
  },
  {
   "cell_type": "code",
   "execution_count": null,
   "metadata": {
    "autoscroll": false,
    "ein.hycell": false,
    "ein.tags": "worksheet-0",
    "slideshow": {
     "slide_type": "-"
    }
   },
   "outputs": [],
   "source": [
    "# Primera columna: Nombre\n",
    "# Segunda Columna: Apellido\n",
    "# Tercera Columna: DNI\n",
    "# Cuarta Columna: Posición en que juega\n",
    "socias = [('Vanina', 'Correa', 33333333, 'Arquera', 1),\n",
    "          ('Laurina', 'Oliveros', 39111111, 'Arquera', 2),\n",
    "          ('Gabriela', 'Garton', 36999999, 'Arquera',3)]"
   ]
  },
  {
   "cell_type": "code",
   "execution_count": null,
   "metadata": {
    "autoscroll": false,
    "ein.hycell": false,
    "ein.tags": "worksheet-0",
    "slideshow": {
     "slide_type": "-"
    }
   },
   "outputs": [],
   "source": [
    "print('Número total de jugadoras', len(socias))\n",
    "for v in socias[1]:\n",
    "  print(v)"
   ]
  },
  {
   "cell_type": "markdown",
   "metadata": {
    "ein.tags": "worksheet-0",
    "slideshow": {
     "slide_type": "-"
    }
   },
   "source": [
    "Si queremos agregar una jugadora, podemos usar `append`\n"
   ]
  },
  {
   "cell_type": "code",
   "execution_count": null,
   "metadata": {
    "autoscroll": false,
    "ein.hycell": false,
    "ein.tags": "worksheet-0",
    "slideshow": {
     "slide_type": "-"
    }
   },
   "outputs": [],
   "source": [
    "socias.append(('Agustina', 'Barroso',38011011,'Defensora',4))"
   ]
  },
  {
   "cell_type": "code",
   "execution_count": null,
   "metadata": {
    "autoscroll": false,
    "ein.hycell": false,
    "ein.tags": "worksheet-0",
    "scrolled": true,
    "slideshow": {
     "slide_type": "-"
    }
   },
   "outputs": [],
   "source": [
    "print('Número total de jugadoras', len(socias))\n",
    "print(socias)"
   ]
  },
  {
   "cell_type": "markdown",
   "metadata": {
    "ein.tags": "worksheet-0",
    "slideshow": {
     "slide_type": "-"
    }
   },
   "source": [
    "Sin embargo es claro que esta no es una solución óptima.\n",
    "\n",
    "En primer lugar, es engorroso agregar jugadoras. Pero es aún más engorroso agregar detalles a cada jugadora, porque tenemos que encontrar la jugadora correcta y luego agregar \"columnas\". En casos como este puede ser mucho más conveniente usar **diccionarios**, o mejor aún definir un nuevo objeto basado en diccionarios."
   ]
  },
  {
   "cell_type": "code",
   "execution_count": null,
   "metadata": {
    "autoscroll": false,
    "ein.hycell": false,
    "ein.tags": "worksheet-0",
    "slideshow": {
     "slide_type": "-"
    }
   },
   "outputs": [],
   "source": [
    "\"\"\"Ejemplo de uso de programación orientada a objetos.\n",
    "Descripción de participantes de un club de fútbol. Versión 1.\n",
    "\"\"\"\n",
    "class Socie(dict):\n",
    "  \"\"\"Socie es un objeto que contiene toda la información sobre cada asociade al club\n",
    "  \"\"\"\n",
    "  # dP describe los campos relevantes \n",
    "  dP = ['nombre', 'apellido', 'dni', 'tel', 'email', 'contacto',\n",
    "        'idsoc',                # Número de asociado\n",
    "        'cuotas',               # Cuotas pagas\n",
    "        'asistencia',           # Contamos si asiste a entrenamientos\n",
    "        'posicion'              # Posición en que juega\n",
    "  ]\n",
    "  def __init__(self, datos={}):\n",
    "    for k in self.dP:\n",
    "      self[k] = datos.get(k,None)\n",
    "\n"
   ]
  },
  {
   "cell_type": "code",
   "execution_count": null,
   "metadata": {
    "autoscroll": false,
    "ein.hycell": false,
    "ein.tags": "worksheet-0",
    "slideshow": {
     "slide_type": "-"
    }
   },
   "outputs": [],
   "source": [
    "  \n",
    "d = {'nombre': 'Vanina', 'apellido':'Correa', 'dni':33333333, 'posicion': 'Arquera', 'idsoc': 1}\n",
    "s = Socie(d)\n"
   ]
  },
  {
   "cell_type": "code",
   "execution_count": null,
   "metadata": {
    "autoscroll": false,
    "ein.hycell": false,
    "ein.tags": "worksheet-0",
    "slideshow": {
     "slide_type": "-"
    }
   },
   "outputs": [],
   "source": [
    "for k, v in s.items():\n",
    "  print('{}: {}'.format(k.capitalize(), v))"
   ]
  },
  {
   "cell_type": "code",
   "execution_count": null,
   "metadata": {},
   "outputs": [],
   "source": [
    "d"
   ]
  },
  {
   "cell_type": "code",
   "execution_count": null,
   "metadata": {},
   "outputs": [],
   "source": [
    "s"
   ]
  },
  {
   "cell_type": "markdown",
   "metadata": {
    "ein.tags": "worksheet-0",
    "slideshow": {
     "slide_type": "-"
    }
   },
   "source": [
    "Como vemos, no necesitamos acordarnos a qué corresponde cada columna."
   ]
  },
  {
   "cell_type": "code",
   "execution_count": null,
   "metadata": {
    "autoscroll": false,
    "ein.hycell": false,
    "ein.tags": "worksheet-0",
    "slideshow": {
     "slide_type": "-"
    }
   },
   "outputs": [],
   "source": [
    "class DatosPersonales(dict):\n",
    "  \"\"\"DatosPersonales es un objeto que contiene toda la información sobre los datos personales de cada asociado\n",
    "  \"\"\"\n",
    "  _dP = ['nombre', 'apellido', 'dni', 'tel', 'email', 'contacto']\n",
    "  def __init__(self, datos={}):\n",
    "    for k in self._dP:\n",
    "      self[k] = datos.get(k,None)\n",
    "\n",
    "class Socie(dict):\n",
    "  \"\"\"Socie es un objeto que contiene toda la información sobre cada asociade al club\n",
    "  \"\"\"\n",
    "  # dP describe los campos relevantes \n",
    "  _info = ['idsoc',                # Número de asociado\n",
    "        'cuotas',               # Cuotas pagas\n",
    "        'asistencia',           # Contamos si asiste a entreanamientos\n",
    "        'posicion'              # Posición en que juega\n",
    "  ]\n",
    "\n",
    "  def __init__(self, datos={}):\n",
    "    self.personal = DatosPersonales(datos)\n",
    "    for k in self._info:\n",
    "      self[k] = datos.get(k,None)\n"
   ]
  },
  {
   "cell_type": "code",
   "execution_count": null,
   "metadata": {
    "autoscroll": false,
    "ein.hycell": false,
    "ein.tags": "worksheet-0",
    "slideshow": {
     "slide_type": "-"
    }
   },
   "outputs": [],
   "source": [
    "d = {'nombre': 'Vanina', 'apellido':'Correa', 'dni':33333333, 'idsoc':3, 'posicion':'arquera'}\n",
    "s = Socie(d)\n"
   ]
  },
  {
   "cell_type": "code",
   "execution_count": null,
   "metadata": {
    "autoscroll": false,
    "ein.hycell": false,
    "ein.tags": "worksheet-0",
    "slideshow": {
     "slide_type": "-"
    }
   },
   "outputs": [],
   "source": [
    "print(s)"
   ]
  },
  {
   "cell_type": "code",
   "execution_count": null,
   "metadata": {
    "autoscroll": false,
    "ein.hycell": false,
    "ein.tags": "worksheet-0",
    "slideshow": {
     "slide_type": "-"
    }
   },
   "outputs": [],
   "source": [
    "s.personal"
   ]
  },
  {
   "cell_type": "markdown",
   "metadata": {},
   "source": [
    "La forma de imprimir los datos es la que se hereda de los diccionarios. Vamos a mejorarla para nuestro caso: "
   ]
  },
  {
   "cell_type": "code",
   "execution_count": null,
   "metadata": {
    "autoscroll": false,
    "ein.hycell": false,
    "ein.tags": "worksheet-0",
    "slideshow": {
     "slide_type": "-"
    }
   },
   "outputs": [],
   "source": [
    "class DatosPersonales(dict):\n",
    "  \"\"\"DatosPersonales es un objeto que contiene toda la información sobre los datos personales de cada asociado\n",
    "  \"\"\"\n",
    "  _dP = ['nombre', 'apellido', 'dni', 'tel', 'email', 'contacto']\n",
    "  def __init__(self, datos={}):\n",
    "    super(DatosPersonales, self).__init__()\n",
    "    for k in self._dP:\n",
    "      self[k] = datos.get(k,None)\n",
    "\n",
    "class Socie(dict):\n",
    "  \"\"\"Socie es un objeto que contiene toda la información sobre cada asociade al club\n",
    "  \"\"\"\n",
    "  # dP describe los campos relevantes \n",
    "  _info = ['idsoc',                # Número de asociado\n",
    "        'cuotas',               # Cuotas pagas\n",
    "        'asistencia',           # Contamos si asiste a entreanamientos\n",
    "        'posicion'              # Posición en que juega\n",
    "  ]\n",
    "\n",
    "  def __init__(self, datos={}):\n",
    "    self.personal = DatosPersonales(datos)\n",
    "    for k in self._info:\n",
    "      self[k] = datos.get(k,None)\n",
    "\n",
    "  def print(self):\n",
    "    s = ''\n",
    "    for k, v in self.items():\n",
    "      s += '{}: {}\\n'.format(k.capitalize(), v)\n",
    "    print(s)"
   ]
  },
  {
   "cell_type": "code",
   "execution_count": null,
   "metadata": {
    "autoscroll": false,
    "ein.hycell": false,
    "ein.tags": "worksheet-0",
    "slideshow": {
     "slide_type": "-"
    }
   },
   "outputs": [],
   "source": [
    "d = {'nombre': 'Vanina', 'apellido':'Correa', 'dni':33333333, 'idsoc':3, 'posicion':'arquera'}\n",
    "s = Socie(d)\n"
   ]
  },
  {
   "cell_type": "code",
   "execution_count": null,
   "metadata": {
    "autoscroll": false,
    "ein.hycell": false,
    "ein.tags": "worksheet-0",
    "slideshow": {
     "slide_type": "-"
    }
   },
   "outputs": [],
   "source": [
    "s"
   ]
  },
  {
   "cell_type": "code",
   "execution_count": null,
   "metadata": {
    "autoscroll": false,
    "ein.hycell": false,
    "ein.tags": "worksheet-0",
    "slideshow": {
     "slide_type": "-"
    }
   },
   "outputs": [],
   "source": [
    "print(s)"
   ]
  },
  {
   "cell_type": "code",
   "execution_count": null,
   "metadata": {
    "autoscroll": false,
    "ein.hycell": false,
    "ein.tags": "worksheet-0",
    "slideshow": {
     "slide_type": "-"
    }
   },
   "outputs": [],
   "source": [
    "s.print()"
   ]
  },
  {
   "cell_type": "markdown",
   "metadata": {
    "ein.tags": "worksheet-0",
    "slideshow": {
     "slide_type": "-"
    }
   },
   "source": [
    "¿Qué pasó acá?\n",
    "\n",
    "Básicamente que los datos personales están encapsulados en el atributo `personal`. Voy a pedir que también lo muestre cuando imprima:"
   ]
  },
  {
   "cell_type": "code",
   "execution_count": null,
   "metadata": {
    "autoscroll": false,
    "ein.hycell": false,
    "ein.tags": "worksheet-0",
    "slideshow": {
     "slide_type": "-"
    }
   },
   "outputs": [],
   "source": [
    "class DatosPersonales(dict):\n",
    "  \"\"\"DatosPersonales es un objeto que contiene toda la información sobre los datos personales de cada asociado\n",
    "  \"\"\"\n",
    "  _dP = ['nombre', 'apellido', 'dni', 'tel', 'email', 'contacto']\n",
    "  def __init__(self, datos={}):\n",
    "    super(DatosPersonales, self).__init__()\n",
    "    for k in self._dP:\n",
    "      self[k] = datos.get(k,None)\n",
    "\n",
    "class Socie(dict):\n",
    "  \"\"\"Socie es un objeto que contiene toda la información sobre cada asociade al club\n",
    "  \"\"\"\n",
    "  # dP describe los campos relevantes \n",
    "  _info = ['idsoc',                # Número de asociado\n",
    "        'cuotas',               # Cuotas pagas\n",
    "        'asistencia',           # Contamos si asiste a entreanamientos\n",
    "        'posicion'              # Posición en que juega\n",
    "  ]\n",
    "\n",
    "  def __init__(self, datos={}):\n",
    "    self.personal = DatosPersonales(datos)\n",
    "    for k in self._info:\n",
    "      self[k] = datos.get(k,None)\n",
    "\n",
    "  def print(self):\n",
    "    s = 'Datos Personales\\n----- ----------\\n'\n",
    "    for k, v in self.personal.items():\n",
    "      s += '{}: {}\\n'.format(k.capitalize(), v)\n",
    "    s += '\\nEstado actual:\\n'\n",
    "    for k, v in self.items():\n",
    "      s += '{}: {}\\n'.format(k.capitalize(), v)\n",
    "    print(s)\n"
   ]
  },
  {
   "cell_type": "code",
   "execution_count": null,
   "metadata": {
    "autoscroll": false,
    "ein.hycell": false,
    "ein.tags": "worksheet-0",
    "slideshow": {
     "slide_type": "-"
    }
   },
   "outputs": [],
   "source": [
    "d = {'nombre': 'Vanina', 'apellido':'Correa', 'dni':33333333, 'idsoc':3, 'posicion':'arquera'}\n",
    "s = Socie(d)\n"
   ]
  },
  {
   "cell_type": "code",
   "execution_count": null,
   "metadata": {
    "autoscroll": false,
    "ein.hycell": false,
    "ein.tags": "worksheet-0",
    "slideshow": {
     "slide_type": "-"
    }
   },
   "outputs": [],
   "source": [
    "s.print()"
   ]
  },
  {
   "cell_type": "markdown",
   "metadata": {
    "ein.tags": "worksheet-0",
    "slideshow": {
     "slide_type": "-"
    }
   },
   "source": [
    "Como vemos, podemos definir cómo queremos imprimir los datos de una jugadora.\n",
    "\n",
    "Pero eso es exactamente lo que hace el método `__str__`"
   ]
  },
  {
   "cell_type": "code",
   "execution_count": null,
   "metadata": {
    "autoscroll": false,
    "ein.hycell": false,
    "ein.tags": "worksheet-0",
    "slideshow": {
     "slide_type": "-"
    }
   },
   "outputs": [],
   "source": [
    "class DatosPersonales(dict):\n",
    "  \"\"\"DatosPersonales es un objeto que contiene toda la información sobre los datos personales de cada asociado\n",
    "  \"\"\"\n",
    "  _dP = ['nombre', 'apellido', 'dni', 'tel', 'email', 'contacto']\n",
    "  def __init__(self, datos={}):\n",
    "    super(DatosPersonales, self).__init__()\n",
    "    for k in self._dP:\n",
    "      self[k] = datos.get(k,None)\n",
    "\n",
    "class Socie(dict):\n",
    "  \"\"\"Socie es un objeto que contiene toda la información sobre cada asociade al club\n",
    "  \"\"\"\n",
    "  # dP describe los campos relevantes \n",
    "  _info = ['idsoc',                # Número de asociado\n",
    "        'cuotas',               # Cuotas pagas\n",
    "        'asistencia',           # Contamos si asiste a entreanamientos\n",
    "        'posicion'              # Posición en que juega\n",
    "  ]\n",
    "\n",
    "  def __init__(self, datos={}):\n",
    "    self.personal = DatosPersonales(datos)\n",
    "    for k in self._info:\n",
    "      self[k] = datos.get(k,None)\n",
    "\n",
    "  def __str__(self):\n",
    "    s = 'Datos Personales\\n----- ----------\\n'\n",
    "    for k, v in self.personal.items():\n",
    "      s += '{}: {}\\n'.format(k.capitalize(), v)\n",
    "    s += '\\nEstado actual:\\n'\n",
    "    for k, v in self.items():\n",
    "      s += '{}: {}\\n'.format(k.capitalize(), v)\n",
    "    return s\n"
   ]
  },
  {
   "cell_type": "code",
   "execution_count": null,
   "metadata": {
    "autoscroll": false,
    "ein.hycell": false,
    "ein.tags": "worksheet-0",
    "slideshow": {
     "slide_type": "-"
    }
   },
   "outputs": [],
   "source": [
    "d = {'nombre': 'Vanina', 'apellido':'Correa', 'dni':33333333, 'idsoc':3, 'posicion':'arquera'}\n",
    "s = Socie(d)\n"
   ]
  },
  {
   "cell_type": "code",
   "execution_count": null,
   "metadata": {
    "autoscroll": false,
    "ein.hycell": false,
    "ein.tags": "worksheet-0",
    "slideshow": {
     "slide_type": "-"
    }
   },
   "outputs": [],
   "source": [
    "print(s)"
   ]
  },
  {
   "cell_type": "markdown",
   "metadata": {
    "ein.tags": "worksheet-0",
    "slideshow": {
     "slide_type": "-"
    }
   },
   "source": [
    "## Ejercicios 7 (b)\n",
    "\n",
    "1. En nuestro ejemplo quedó un problema. Cuando representamos el objeto, en la forma:\n",
    "\n",
    "   `s`\n",
    "\n",
    "   no muestra nada respecto a los datos personales. Solucione esto.\n",
    "   "
   ]
  }
 ],
 "metadata": {
  "kernelspec": {
   "display_name": "Python 3 (ipykernel)",
   "language": "python",
   "name": "python3"
  },
  "language_info": {
   "codemirror_mode": {
    "name": "ipython",
    "version": 3
   },
   "file_extension": ".py",
   "mimetype": "text/x-python",
   "name": "python",
   "nbconvert_exporter": "python",
   "pygments_lexer": "ipython3",
   "version": "3.11.7"
  },
  "name": "07_ejemplo_oop.ipynb",
  "toc": {
   "base_numbering": 1,
   "nav_menu": {},
   "number_sections": true,
   "sideBar": true,
   "skip_h1_title": false,
   "title_cell": "Contenidos",
   "title_sidebar": "Contenidos",
   "toc_cell": false,
   "toc_position": {},
   "toc_section_display": true,
   "toc_window_display": false
  }
 },
 "nbformat": 4,
 "nbformat_minor": 4
}
