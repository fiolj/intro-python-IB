{
 "cells": [
  {
   "cell_type": "markdown",
   "id": "bc8e3da6",
   "metadata": {
    "collapsed": false,
    "jupyter": {
     "outputs_hidden": false
    }
   },
   "source": [
    "## Programación funcional con Python\n",
    "\n",
    "La programación funcional es un paradigma de programación, de la misma manera que otros paradigmas, como la programación orientada a objetos, o la programación estructurada.\n",
    "\n",
    "Existen lenguajes de programación que son directamente funcionales, esto es, implementan las reglas de la programación funcional directamente (por ejemplo, Lisp, Haskell, F#, etc.). \n",
    "Desde un punto de vista histórico, la programación funcional tiene su origen en la visión de Alonzo Church del problema de la decisión (_Entscheidungsproblem_), y es complementaria a la más conocida, propuesta por Alan Turing. \n",
    "\n",
    "Python es un lenguaje orientado a objetos (todo elemento del lenguaje es un objeto), de modo tal que no es posible hablar de un paradigma funcional en Python, sino mas bien de un _estilo_ de programación funcional.\n",
    "\n",
    "Un trabajo interesante es el siguiente: 'Why Functional Programming Matters: http://www.cse.chalmers.se/~rjmh/Papers/whyfp.pdf\"."
   ]
  },
  {
   "cell_type": "markdown",
   "id": "c8d3cd9f",
   "metadata": {
    "collapsed": false,
    "jupyter": {
     "outputs_hidden": false
    }
   },
   "source": [
    "### Los errores al programar\n",
    "\n",
    "En el continuo devenir de la programación, uno se encuentra, principalmente, resolviendo errores. Un resumen de los errores posibles en un código se pueden encontrar en la expresión\n",
    "\n",
    "> `i = i+1`\n",
    "\n",
    "En esta expresión podemos encontrar tres tipos de errores:\n",
    "\n",
    "- _Error de lectura_ : el valor de `i` en el lado derecho no es el que efectivamente uno desearía, es decir, el código está leyendo un valor incorrecto.\n",
    "\n",
    "- _Error de escritura_ : el valor de `i` en el lado izquierdo no es el que efectivamente uno desearía, es decir, estamos guardando la expresión en una variable incorrecta.\n",
    "\n",
    "- _Error de cómputo_ : que se produce, por ejemplo, porque no queremos sumar 1 sino 2, o queremos restar el valor de i.\n",
    "\n",
    "Existe un cuarto tipo de error que aparece y tiene que ver con un _error de flujo_, en el cual el código se ejecuta en una rama que no es la deseada, debido a que una condición lógica no se cumple tal como se esperaba. O por ejemplo, el orden en que se ejecutan las sentencias no es el adecuado:"
   ]
  },
  {
   "cell_type": "code",
   "execution_count": 1,
   "id": "b27d28da",
   "metadata": {
    "collapsed": false,
    "jupyter": {
     "outputs_hidden": false
    }
   },
   "outputs": [],
   "source": [
    "# Función que calcula (x+1)(x+2)\n",
    "def f(x):\n",
    "    x = x+1 \n",
    "    y = x+1\n",
    "    return x*y"
   ]
  },
  {
   "cell_type": "code",
   "execution_count": 2,
   "id": "68855b0f",
   "metadata": {
    "collapsed": false,
    "jupyter": {
     "outputs_hidden": false
    }
   },
   "outputs": [],
   "source": [
    "# Función que calcula (x+1)(x+2) ?? Mmmm.....\n",
    "def g(x):\n",
    "    y = x+1\n",
    "    x = x+1 \n",
    "    return x*y"
   ]
  },
  {
   "cell_type": "code",
   "execution_count": 3,
   "id": "97eb7a5a",
   "metadata": {
    "collapsed": false,
    "jupyter": {
     "outputs_hidden": false
    }
   },
   "outputs": [
    {
     "name": "stdout",
     "output_type": "stream",
     "text": [
      "20\n",
      "16\n"
     ]
    }
   ],
   "source": [
    "print(f(3))\n",
    "print(g(3))"
   ]
  },
  {
   "cell_type": "markdown",
   "id": "ceea7d06",
   "metadata": {
    "collapsed": false,
    "jupyter": {
     "outputs_hidden": false
    }
   },
   "source": [
    "### Los errores en notebooks\n",
    "\n",
    "Además de las complejidades propias de la programación, que están asociadas al _dominio_ donde se encuentra el problema que uno quiere resolver, y a las dificultades que eso implica; los _notebooks_ introducen también una dificultad adicional: uno puede redefinir los datos en celdas posteriores, pero puede volver 'atrás' en el código y recalcular otra celda. Veamos un [ejemplo](https://verve.com/blog/jupyter-notebooks/):"
   ]
  },
  {
   "cell_type": "code",
   "execution_count": 4,
   "id": "a2d55b69",
   "metadata": {
    "collapsed": false,
    "jupyter": {
     "outputs_hidden": false
    }
   },
   "outputs": [],
   "source": [
    "data = [1,2,3,4]"
   ]
  },
  {
   "cell_type": "code",
   "execution_count": 5,
   "id": "18d6e703",
   "metadata": {
    "collapsed": false,
    "jupyter": {
     "outputs_hidden": false
    }
   },
   "outputs": [],
   "source": [
    "def prom(a):\n",
    "    s = sum(a)\n",
    "    n = len(a)\n",
    "    return s/n"
   ]
  },
  {
   "cell_type": "code",
   "execution_count": 6,
   "id": "f25b3684",
   "metadata": {
    "collapsed": false,
    "jupyter": {
     "outputs_hidden": false
    }
   },
   "outputs": [
    {
     "data": {
      "text/plain": [
       "2.5"
      ]
     },
     "execution_count": 6,
     "metadata": {},
     "output_type": "execute_result"
    }
   ],
   "source": [
    "prom(data)"
   ]
  },
  {
   "cell_type": "markdown",
   "id": "08a2769b",
   "metadata": {
    "collapsed": false,
    "jupyter": {
     "outputs_hidden": false
    }
   },
   "source": [
    "![Más código](https://assets-global.website-files.com/5f3c19f18169b62a0d0bf387/60d33beacf4ba7263a23cd79_qh6ImC4NPdyPbvn-7ns8FYsgOskDPDWLnX31mLCOgSwpX_SQgmo8krqdg4e6XAnSbqRAtZMYqlf7UTvlHiXgt5YtMwbt9IRY1fAbOjyq5hARui-xEQUgI48EOjhJGuIsSFDg90L6.jpeg)\n"
   ]
  },
  {
   "cell_type": "code",
   "execution_count": 7,
   "id": "5f98d74e",
   "metadata": {
    "collapsed": false,
    "jupyter": {
     "outputs_hidden": false
    }
   },
   "outputs": [
    {
     "name": "stdout",
     "output_type": "stream",
     "text": [
      "9\n"
     ]
    }
   ],
   "source": [
    "data = \"Some data\"\n",
    "print(len(data))"
   ]
  },
  {
   "cell_type": "markdown",
   "id": "881f6ae7",
   "metadata": {
    "collapsed": false,
    "jupyter": {
     "outputs_hidden": false
    }
   },
   "source": [
    "### Mutabilidad\n",
    "\n",
    "Los problemas que vemos arriba se deben a la _mutabilidad_: las _variables_ pueden cambiar (esto es, ser reescritas) a lo largo del código. Ahora bien, pareciera que la mutabilidad es intrínseca a la computación, al fin y al cabo, en el hardware hay una cantidad limitada de memoria y de registros que son continuamente reescritos para que nuestro código corra. Sin embargo, los lenguajes de programación de alto nivel que usamos nos alejan (afortunadamente) del requerimiento de mantener el estado de la memoria y los registros explícitamente en el código (y en el algoritmo en nuestra cabeza). \n",
    "\n",
    "La pregunta que cabe entonces es ¿cómo hacer un código que prevenga la mutabilidad, pero que a la vez me permita transformar los datos para resolver mi problema? La respuesta viene de la mano de un ente muy conocido en mátemáticas: _las funciones_ "
   ]
  },
  {
   "cell_type": "markdown",
   "id": "b8633875",
   "metadata": {
    "collapsed": false,
    "jupyter": {
     "outputs_hidden": false
    }
   },
   "source": [
    "### Funciones\n",
    "\n",
    "Una función desde el punto de vista matemático es una relación que a cada elemento de un conjunto le asocia exactamente un elemento de otro conjunto. Estos conjuntos pueden ser números, vectores, matrices en el mundo matemático, \n",
    "\n",
    "<h3>\n",
    "<center>$y = f(x)$</center>\n",
    "</h3>\n",
    "\n",
    "o, en un mundo más físico, peras, manzanas, nombres, apellidos, [objetos varios](https://commons.wikimedia.org/w/index.php?curid=20802095):"
   ]
  },
  {
   "cell_type": "markdown",
   "id": "ba01ef1e",
   "metadata": {
    "collapsed": false,
    "jupyter": {
     "outputs_hidden": false
    }
   },
   "source": [
    "![una funcion](figuras/Function_color_example_3.png)"
   ]
  },
  {
   "cell_type": "markdown",
   "id": "b9795f2d",
   "metadata": {
    "collapsed": false,
    "jupyter": {
     "outputs_hidden": false
    }
   },
   "source": [
    "Estas funciones tienen dos características fundamentales para usar en programación:\n",
    "- Permiten \"transformar\" un valor en otro\n",
    "- El valor original **no** se modifica\n",
    "\n",
    "Es decir que el uso de funciones, al estilo matemático, en un código resuelven el problema de la mutabilidad, pero a la vez me permiten \"transformar\", es decir, crear nuevos valores a partir del valor original. \n",
    "\n",
    "#### Funciones puras\n",
    "\n",
    "El análogo computacional de las funciones matemáticas se llaman _funciones puras_. Una función se dice pura cuando:\n",
    "- Siempre retorna el mismo valor de salida para el mismo valor de entrada\n",
    "- No tiene efectos colaterales (_side effects_)"
   ]
  },
  {
   "cell_type": "markdown",
   "id": "b1b26d4c",
   "metadata": {
    "collapsed": false,
    "jupyter": {
     "outputs_hidden": false
    }
   },
   "source": [
    "![una funcion](figuras/afunction.png)"
   ]
  },
  {
   "cell_type": "markdown",
   "id": "73b0c9a3",
   "metadata": {
    "collapsed": false,
    "jupyter": {
     "outputs_hidden": false
    }
   },
   "source": [
    "#### Funciones de primer orden o primera clase\n",
    "\n",
    "Un lenguaje se dice que tiene funciones de primera clase cuando son tratadas exactamente igual que otros valores o variables. \n",
    "\n",
    "#### Funciones de orden superior\n",
    "\n",
    "Un lenguaje que permite pasar funciones como argumentos se dice que acepta funciones de orden superior."
   ]
  },
  {
   "cell_type": "code",
   "execution_count": 8,
   "id": "a138d778",
   "metadata": {
    "collapsed": false,
    "jupyter": {
     "outputs_hidden": false
    }
   },
   "outputs": [],
   "source": [
    "def square(x):\n",
    "    return x*x"
   ]
  },
  {
   "cell_type": "code",
   "execution_count": 9,
   "id": "fd43f35b",
   "metadata": {
    "collapsed": false,
    "jupyter": {
     "outputs_hidden": false
    }
   },
   "outputs": [],
   "source": [
    "def next(x):\n",
    "    return x+1 "
   ]
  },
  {
   "cell_type": "code",
   "execution_count": 10,
   "id": "3b85fe9d",
   "metadata": {
    "collapsed": false,
    "jupyter": {
     "outputs_hidden": false
    }
   },
   "outputs": [],
   "source": [
    "a = 4\n",
    "b = next(a)\n",
    "c = next(next(a))"
   ]
  },
  {
   "cell_type": "code",
   "execution_count": 11,
   "id": "73a67351",
   "metadata": {
    "collapsed": false,
    "jupyter": {
     "outputs_hidden": false
    }
   },
   "outputs": [
    {
     "name": "stdout",
     "output_type": "stream",
     "text": [
      "4\n",
      "5\n",
      "6\n"
     ]
    }
   ],
   "source": [
    "print(a)\n",
    "print(b)\n",
    "print(c)"
   ]
  },
  {
   "cell_type": "code",
   "execution_count": 12,
   "id": "d47e6259",
   "metadata": {
    "collapsed": false,
    "jupyter": {
     "outputs_hidden": false
    }
   },
   "outputs": [],
   "source": [
    "def h(x):\n",
    "    return (next(x))*(next(next(x)))"
   ]
  },
  {
   "cell_type": "code",
   "execution_count": 13,
   "id": "caa72f3d",
   "metadata": {
    "collapsed": false,
    "jupyter": {
     "outputs_hidden": false
    }
   },
   "outputs": [
    {
     "name": "stdout",
     "output_type": "stream",
     "text": [
      "20\n"
     ]
    }
   ],
   "source": [
    "print(h(3))"
   ]
  },
  {
   "cell_type": "markdown",
   "id": "d50f1c3b",
   "metadata": {
    "collapsed": false,
    "jupyter": {
     "outputs_hidden": false
    }
   },
   "source": [
    "Si se tiene funciones puras, es posible componerlas"
   ]
  },
  {
   "cell_type": "code",
   "execution_count": 14,
   "id": "fb24edc2",
   "metadata": {
    "collapsed": false,
    "jupyter": {
     "outputs_hidden": false
    }
   },
   "outputs": [],
   "source": [
    "def compose(f, g):\n",
    "    return lambda x: f(g(x))"
   ]
  },
  {
   "cell_type": "code",
   "execution_count": 15,
   "id": "8b1485cd",
   "metadata": {
    "collapsed": false,
    "jupyter": {
     "outputs_hidden": false
    }
   },
   "outputs": [],
   "source": [
    "next2 = compose(next,next)"
   ]
  },
  {
   "cell_type": "code",
   "execution_count": 16,
   "id": "469c5693",
   "metadata": {
    "collapsed": false,
    "jupyter": {
     "outputs_hidden": false
    }
   },
   "outputs": [
    {
     "name": "stdout",
     "output_type": "stream",
     "text": [
      "6\n"
     ]
    }
   ],
   "source": [
    "print(next2(a))"
   ]
  },
  {
   "cell_type": "markdown",
   "id": "581dc264",
   "metadata": {
    "collapsed": false,
    "jupyter": {
     "outputs_hidden": false
    }
   },
   "source": [
    "### Inmutabilidad\n",
    "\n",
    "Usando funciones puras se garantiza la inmutabilidad de los valores hacia adentro de la función. Pero, ¿qué sucede afuera? Python, al no ser un lenguaje funcional _per se_, no tiene la capacidad de establecer la inmutabilidad de cualquier valor, excepto para los casos de strings y tuplas, además, obviamente, de las expresiones literales.\n",
    "\n",
    "**Queda entonces en el programador la responsabilidad de no mutar los datos...**\n",
    "\n",
    "**... o usar anotaciones de tipos**"
   ]
  },
  {
   "cell_type": "code",
   "execution_count": 17,
   "id": "25bbd6e4",
   "metadata": {
    "collapsed": false,
    "jupyter": {
     "outputs_hidden": false
    }
   },
   "outputs": [],
   "source": [
    "def cube(x: int) -> int:\n",
    "    return x*x*x"
   ]
  },
  {
   "cell_type": "code",
   "execution_count": 18,
   "id": "0b5973d2",
   "metadata": {
    "collapsed": false,
    "jupyter": {
     "outputs_hidden": false
    }
   },
   "outputs": [
    {
     "name": "stdout",
     "output_type": "stream",
     "text": [
      "8\n"
     ]
    }
   ],
   "source": [
    "print(cube(2))"
   ]
  },
  {
   "cell_type": "markdown",
   "id": "74713bf6",
   "metadata": {
    "collapsed": false,
    "jupyter": {
     "outputs_hidden": false
    }
   },
   "source": [
    "Nótese que Python NO chequea los tipos de datos, no tiene manera en forma nativa de hacerlo. Por eso puedo ejecutar la función `cube` con floats, por ejemplo:\n"
   ]
  },
  {
   "cell_type": "code",
   "execution_count": 19,
   "id": "8d5c01dd",
   "metadata": {
    "collapsed": false,
    "jupyter": {
     "outputs_hidden": false
    }
   },
   "outputs": [
    {
     "name": "stdout",
     "output_type": "stream",
     "text": [
      "27.0\n"
     ]
    }
   ],
   "source": [
    "print(cube(3.0))"
   ]
  },
  {
   "cell_type": "markdown",
   "id": "4f486452",
   "metadata": {},
   "source": []
  },
  {
   "cell_type": "markdown",
   "id": "69c12447",
   "metadata": {
    "collapsed": false,
    "jupyter": {
     "outputs_hidden": false
    }
   },
   "source": [
    "#### Usando `mypy` \n",
    "\n",
    "Para poder utilizar la anotación de tipos en forma efectiva, se puede recurrir a [mypy](http://mypy-lang.org/index.html). \n",
    "Esta es una aplicación que me permite comprobar tipos de datos anotados en Python. Para instalar `mypy` usamos:\n",
    "\n",
    "`conda install mypy` \n",
    "\n",
    "o lo instalamos a través del manejador de paquetes de preferencia (Anaconda, mamba, etc.)\n"
   ]
  },
  {
   "cell_type": "markdown",
   "id": "742c9617",
   "metadata": {
    "collapsed": false,
    "jupyter": {
     "outputs_hidden": false
    }
   },
   "source": [
    "Podemos ver el ejemplo `07_cube.py`"
   ]
  },
  {
   "cell_type": "code",
   "execution_count": 20,
   "id": "3b77e6eb",
   "metadata": {
    "collapsed": false,
    "jupyter": {
     "outputs_hidden": false
    }
   },
   "outputs": [
    {
     "name": "stdout",
     "output_type": "stream",
     "text": [
      "python3: can't open file '/home/fiol/Clases/IntPython/clases-python/clases/cube.py': [Errno 2] No such file or directory\n"
     ]
    }
   ],
   "source": [
    "!python3 cube.py"
   ]
  },
  {
   "cell_type": "code",
   "execution_count": 21,
   "id": "af3f29ab",
   "metadata": {
    "collapsed": false,
    "jupyter": {
     "outputs_hidden": false
    }
   },
   "outputs": [
    {
     "name": "stdout",
     "output_type": "stream",
     "text": [
      "/bin/bash: line 1: mypy: command not found\n"
     ]
    }
   ],
   "source": [
    "!mypy cube.py"
   ]
  },
  {
   "cell_type": "markdown",
   "id": "02e40222",
   "metadata": {
    "collapsed": false,
    "jupyter": {
     "outputs_hidden": false
    }
   },
   "source": [
    "> Es posible que uno quiera usar `mypy` sobre un archivo de notebook `ipynb`. Para eso hay que instalar la aplicación `nbQA` [más detalles acá](https://github.com/nbQA-dev/nbQA)."
   ]
  },
  {
   "cell_type": "markdown",
   "id": "8c59dd33",
   "metadata": {},
   "source": [
    "Si se usa VS Code, se puede instalar la extensión `MyPy Type Checker`, y luego indicarle a VS Code que la utilice. Para eso vamos a `Settings` y \n",
    "buscamos `type checking`. Donde dice `PyLance` elegimos el modo que queremos que se chequeen los tipos, desde `off` hasta `strict`. "
   ]
  },
  {
   "cell_type": "markdown",
   "id": "475bf3ea",
   "metadata": {
    "collapsed": false,
    "jupyter": {
     "outputs_hidden": false
    }
   },
   "source": [
    "### No más loops\n",
    "\n",
    "Si las funciones deben ser puras, y las 'variables' dejan de ser variables y pasan a ser valores, entonces no puede haber loops en mi código. Un loop necesita invariablemente un contador (`i = i+1`) que necesariamente es una variable mutable. Así que así nomás, de un plumazo no existen más loops.\n",
    "\n",
    "¿Entonces? Entonces, todos los loops se reemplazan por llamados a funciones recursivas, o se utilizan funciones de orden superior:"
   ]
  },
  {
   "cell_type": "code",
   "execution_count": 22,
   "id": "dbf02b14",
   "metadata": {
    "collapsed": false,
    "jupyter": {
     "outputs_hidden": false
    }
   },
   "outputs": [
    {
     "name": "stdout",
     "output_type": "stream",
     "text": [
      "[2, 4, 6]\n"
     ]
    }
   ],
   "source": [
    "# Filter \n",
    "\n",
    "l = [1,2,3,4,5,6]\n",
    "\n",
    "def es_par(x):\n",
    "    return (x%2 == 0)\n",
    "\n",
    "pares = list(filter(es_par,l))\n",
    "print(pares)\n"
   ]
  },
  {
   "cell_type": "code",
   "execution_count": 23,
   "id": "2a29161c",
   "metadata": {
    "collapsed": false,
    "jupyter": {
     "outputs_hidden": false
    }
   },
   "outputs": [
    {
     "data": {
      "text/plain": [
       "[2, 4, 6]"
      ]
     },
     "execution_count": 23,
     "metadata": {},
     "output_type": "execute_result"
    }
   ],
   "source": [
    "# Filter usando list comprehension\n",
    "list(x for x in l if es_par(x))"
   ]
  },
  {
   "cell_type": "code",
   "execution_count": 24,
   "id": "b59090c9",
   "metadata": {
    "collapsed": false,
    "jupyter": {
     "outputs_hidden": false
    }
   },
   "outputs": [
    {
     "name": "stdout",
     "output_type": "stream",
     "text": [
      "[2, 3, 4, 5, 6, 7]\n"
     ]
    }
   ],
   "source": [
    "# Map\n",
    "siguientes = list(map(next,l))\n",
    "print(siguientes)"
   ]
  },
  {
   "cell_type": "markdown",
   "id": "7db47503",
   "metadata": {
    "collapsed": false,
    "jupyter": {
     "outputs_hidden": false
    }
   },
   "source": [
    "El módulo `functools` provee la función `reduce`, que complementa a `map` y `filter`."
   ]
  },
  {
   "cell_type": "code",
   "execution_count": 25,
   "id": "6735dd5c",
   "metadata": {
    "collapsed": false,
    "jupyter": {
     "outputs_hidden": false
    }
   },
   "outputs": [
    {
     "name": "stdout",
     "output_type": "stream",
     "text": [
      "21\n"
     ]
    }
   ],
   "source": [
    "# Reduce\n",
    "from functools import *\n",
    "import operator\n",
    "\n",
    "# Suma usando el predicado desde el módulo `operator`\n",
    "suma = reduce(operator.add,l,0)\n",
    "print(suma)\n",
    "\n"
   ]
  },
  {
   "cell_type": "code",
   "execution_count": 26,
   "id": "76243d92",
   "metadata": {
    "collapsed": false,
    "jupyter": {
     "outputs_hidden": false
    }
   },
   "outputs": [
    {
     "name": "stdout",
     "output_type": "stream",
     "text": [
      "Help on built-in function reduce in module _functools:\n",
      "\n",
      "reduce(...)\n",
      "    reduce(function, iterable[, initial]) -> value\n",
      "    \n",
      "    Apply a function of two arguments cumulatively to the items of a sequence\n",
      "    or iterable, from left to right, so as to reduce the iterable to a single\n",
      "    value.  For example, reduce(lambda x, y: x+y, [1, 2, 3, 4, 5]) calculates\n",
      "    ((((1+2)+3)+4)+5).  If initial is present, it is placed before the items\n",
      "    of the iterable in the calculation, and serves as a default when the\n",
      "    iterable is empty.\n",
      "\n"
     ]
    }
   ],
   "source": [
    "help(reduce)"
   ]
  },
  {
   "cell_type": "code",
   "execution_count": 27,
   "id": "275045a5",
   "metadata": {
    "collapsed": false,
    "jupyter": {
     "outputs_hidden": false
    }
   },
   "outputs": [
    {
     "name": "stdout",
     "output_type": "stream",
     "text": [
      "21\n"
     ]
    }
   ],
   "source": [
    "# Suma usando el predicado como lambda\n",
    "otra_suma = reduce(lambda x,y: x+y, l)\n",
    "print(otra_suma)"
   ]
  },
  {
   "cell_type": "code",
   "execution_count": 28,
   "id": "f17feba2",
   "metadata": {
    "collapsed": false,
    "jupyter": {
     "outputs_hidden": false
    }
   },
   "outputs": [
    {
     "name": "stdout",
     "output_type": "stream",
     "text": [
      "21\n"
     ]
    }
   ],
   "source": [
    "# Suma definiendo la propia función suma\n",
    "def add(x,y):\n",
    "    return x+y\n",
    "\n",
    "y_otra_suma = reduce(add,l)\n",
    "print(y_otra_suma)"
   ]
  },
  {
   "cell_type": "markdown",
   "id": "d7ffe926",
   "metadata": {
    "collapsed": false,
    "jupyter": {
     "outputs_hidden": false
    }
   },
   "source": [
    "La suma de los cuadrados de una lista:"
   ]
  },
  {
   "cell_type": "code",
   "execution_count": 29,
   "id": "854805d5",
   "metadata": {
    "collapsed": false,
    "jupyter": {
     "outputs_hidden": false
    }
   },
   "outputs": [
    {
     "name": "stdout",
     "output_type": "stream",
     "text": [
      "91\n"
     ]
    }
   ],
   "source": [
    "suma_cuadrados = reduce(lambda x,y: x+y, map(square,l))\n",
    "print(suma_cuadrados)"
   ]
  },
  {
   "cell_type": "markdown",
   "id": "2bf33cca",
   "metadata": {
    "collapsed": false,
    "jupyter": {
     "outputs_hidden": false
    }
   },
   "source": [
    "-----\n",
    "\n",
    "## Ejercicios 07 (b)\n",
    "\n",
    "1. Construya una función `partition(lst,predicate)` que dada una lista `lst` y una función `predicate`, separe la lista `lst` en dos: una lista que contiene los valores para los cuales la función `predicate` devuelve `True`, y otra lista que contiene los valores para los que `predicate` devuelve `False`:\n",
    "\n",
    "    ```python\n",
    "    def is_even(x):\n",
    "        return x % 2 == 0\n",
    "\n",
    "    numbers = [1, 2, 3, 4, 5, 6, 7, 8, 9, 10]\n",
    "    evens, odds = divide_list(numbers, is_even)\n",
    "\n",
    "    print(evens) # Output: [2, 4, 6, 8, 10]\n",
    "    print(odds)  # Output: [1, 3, 5, 7, 9]\n",
    "    ```\n",
    "\n",
    "2. Dado la cadena de caracteres \n",
    "\n",
    "    ```python\n",
    "    s1='En un lugar de la Mancha de cuyo nombre no quiero acordarme'\n",
    "    ```\n",
    "    Utilice `reduce`, `map` y/o `filter` (y las funciones auxiliares necesarias) para:\n",
    "    * Obtener la cantidad de caracteres.\n",
    "    * Imprimir la frase anterior pero con cada palabra empezando en mayúsculas.\n",
    "    * Contar cuantas letras ‘a’ tiene la frase.\n",
    "    * Contar cuántas vocales tiene.\n",
    "\n",
    "\n",
    "-----\n"
   ]
  }
 ],
 "metadata": {
  "kernelspec": {
   "display_name": "Python 3 (ipykernel)",
   "language": "python",
   "name": "python3"
  },
  "language_info": {
   "codemirror_mode": {
    "name": "ipython",
    "version": 3
   },
   "file_extension": ".py",
   "mimetype": "text/x-python",
   "name": "python",
   "nbconvert_exporter": "python",
   "pygments_lexer": "ipython3",
   "version": "3.11.8"
  },
  "name": "16_Python_funcional.ipynb"
 },
 "nbformat": 4,
 "nbformat_minor": 5
}
