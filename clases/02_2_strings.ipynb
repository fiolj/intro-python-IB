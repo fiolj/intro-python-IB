{
 "cells": [
  {
   "cell_type": "markdown",
   "id": "d4529f60-3850-42a7-82ab-ab8f2a85dd2f",
   "metadata": {
    "collapsed": false,
    "jupyter": {
     "outputs_hidden": false
    }
   },
   "source": [
    "## Tipos simples: Números\n",
    "\n",
    "* Números Enteros\n",
    "* Números Reales o de punto flotante\n",
    "* Números Complejos\n",
    "\n"
   ]
  },
  {
   "cell_type": "markdown",
   "id": "1d51d3d0-3ead-4153-9025-a67905d5398e",
   "metadata": {
    "collapsed": false,
    "jupyter": {
     "outputs_hidden": false
    }
   },
   "source": [
    "Mencionamos anteriormente que todos las entidades en Python son objetos, que tienen al menos tres atributos: tipo, valor e identidad.\n",
    "Pero además, puede tener otros atributos como datos o métodos. Por ejemplo los números enteros, unos de los tipos más simples que usaremos, tienen métodos que pueden resultar útiles en algunos contextos."
   ]
  },
  {
   "cell_type": "code",
   "execution_count": 1,
   "id": "0734fa87-30ca-4978-a863-947197dc0c5e",
   "metadata": {
    "autoscroll": false,
    "collapsed": false,
    "ein.hycell": false,
    "ein.tags": "worksheet-0",
    "jupyter": {
     "outputs_hidden": false
    },
    "slideshow": {
     "slide_type": "-"
    }
   },
   "outputs": [
    {
     "name": "stdout",
     "output_type": "stream",
     "text": [
      "<class 'int'>\n",
      "2\n"
     ]
    }
   ],
   "source": [
    "a = 3                           # Número entero\n",
    "print(type(a), a.bit_length(), sep=\"\\n\")"
   ]
  },
  {
   "cell_type": "code",
   "execution_count": 2,
   "id": "f6cfb84f-81e9-4497-8ebd-2de06432cac3",
   "metadata": {},
   "outputs": [
    {
     "data": {
      "text/plain": [
       "\u001b[0;31mSignature:\u001b[0m \u001b[0ma\u001b[0m\u001b[0;34m.\u001b[0m\u001b[0mbit_length\u001b[0m\u001b[0;34m(\u001b[0m\u001b[0;34m)\u001b[0m\u001b[0;34m\u001b[0m\u001b[0;34m\u001b[0m\u001b[0m\n",
       "\u001b[0;31mDocstring:\u001b[0m\n",
       "Number of bits necessary to represent self in binary.\n",
       "\n",
       ">>> bin(37)\n",
       "'0b100101'\n",
       ">>> (37).bit_length()\n",
       "6\n",
       "\u001b[0;31mType:\u001b[0m      builtin_function_or_method"
      ]
     },
     "metadata": {},
     "output_type": "display_data"
    }
   ],
   "source": [
    "a.bit_length?"
   ]
  },
  {
   "cell_type": "code",
   "execution_count": 3,
   "id": "8efaf567-087c-458e-af88-d3eb7e78f2a9",
   "metadata": {
    "collapsed": false,
    "jupyter": {
     "outputs_hidden": false
    }
   },
   "outputs": [
    {
     "name": "stdout",
     "output_type": "stream",
     "text": [
      "<class 'int'>\n",
      "7\n"
     ]
    }
   ],
   "source": [
    "b = 127\n",
    "print(type(b))\n",
    "print(b.bit_length())"
   ]
  },
  {
   "cell_type": "markdown",
   "id": "35bf2535-aa10-4fd5-9e1c-2ad2117ce40b",
   "metadata": {
    "collapsed": false,
    "ein.tags": "worksheet-0",
    "jupyter": {
     "outputs_hidden": false
    },
    "slideshow": {
     "slide_type": "-"
    }
   },
   "source": [
    "En estos casos, usamos el método `bit_length` de los enteros, que nos dice cuántos bits son necesarios para representar un número. Para verlo utilicemos la función `bin()` que nos da la representación en binario de un número entero"
   ]
  },
  {
   "cell_type": "code",
   "execution_count": 4,
   "id": "fa0cfcce-eb4e-49e2-b994-fc0b58b5b5ef",
   "metadata": {
    "collapsed": false,
    "jupyter": {
     "outputs_hidden": false
    }
   },
   "outputs": [
    {
     "name": "stdout",
     "output_type": "stream",
     "text": [
      "3 = 0b11 -> 2 bits\n",
      "127 = 0b1111111 -> 7 bits\n"
     ]
    }
   ],
   "source": [
    "# bin nos da la representación en binarios\n",
    "print(a, \"=\", bin(a), \"->\", a.bit_length(),\"bits\")\n",
    "print(b, \"=\", bin(b), \"->\", b.bit_length(),\"bits\")"
   ]
  },
  {
   "cell_type": "markdown",
   "id": "61a04e8b-9067-4d80-9a39-c989d9c20cc1",
   "metadata": {
    "collapsed": false,
    "jupyter": {
     "outputs_hidden": false
    }
   },
   "source": [
    "Esto nos dice que el número `3` se puede representar con dos bits, y que para representar el número `127` se necesitan 7 bits. "
   ]
  },
  {
   "cell_type": "code",
   "execution_count": 5,
   "id": "8247b47f-5ea3-47d9-96ed-2d49049daa40",
   "metadata": {},
   "outputs": [
    {
     "name": "stdout",
     "output_type": "stream",
     "text": [
      "Help on int object:\n",
      "\n",
      "class int(object)\n",
      " |  int([x]) -> integer\n",
      " |  int(x, base=10) -> integer\n",
      " |\n",
      " |  Convert a number or string to an integer, or return 0 if no arguments\n",
      " |  are given.  If x is a number, return x.__int__().  For floating-point\n",
      " |  numbers, this truncates towards zero.\n",
      " |\n",
      " |  If x is not a number or if base is given, then x must be a string,\n",
      " |  bytes, or bytearray instance representing an integer literal in the\n",
      " |  given base.  The literal can be preceded by '+' or '-' and be surrounded\n",
      " |  by whitespace.  The base defaults to 10.  Valid bases are 0 and 2-36.\n",
      " |  Base 0 means to interpret the base from the string as an integer literal.\n",
      " |  >>> int('0b100', base=0)\n",
      " |  4\n",
      " |\n",
      " |  Built-in subclasses:\n",
      " |      bool\n",
      " |\n",
      " |  Methods defined here:\n",
      " |\n",
      " |  __abs__(self, /)\n",
      " |      abs(self)\n",
      " |\n",
      " |  __add__(self, value, /)\n",
      " |      Return self+value.\n",
      " |\n",
      " |  __and__(self, value, /)\n",
      " |      Return self&value.\n",
      " |\n",
      " |  __bool__(self, /)\n",
      " |      True if self else False\n",
      " |\n",
      " |  __ceil__(self, /)\n",
      " |      Ceiling of an Integral returns itself.\n",
      " |\n",
      " |  __divmod__(self, value, /)\n",
      " |      Return divmod(self, value).\n",
      " |\n",
      " |  __eq__(self, value, /)\n",
      " |      Return self==value.\n",
      " |\n",
      " |  __float__(self, /)\n",
      " |      float(self)\n",
      " |\n",
      " |  __floor__(self, /)\n",
      " |      Flooring an Integral returns itself.\n",
      " |\n",
      " |  __floordiv__(self, value, /)\n",
      " |      Return self//value.\n",
      " |\n",
      " |  __format__(self, format_spec, /)\n",
      " |      Convert to a string according to format_spec.\n",
      " |\n",
      " |  __ge__(self, value, /)\n",
      " |      Return self>=value.\n",
      " |\n",
      " |  __getattribute__(self, name, /)\n",
      " |      Return getattr(self, name).\n",
      " |\n",
      " |  __getnewargs__(self, /)\n",
      " |\n",
      " |  __gt__(self, value, /)\n",
      " |      Return self>value.\n",
      " |\n",
      " |  __hash__(self, /)\n",
      " |      Return hash(self).\n",
      " |\n",
      " |  __index__(self, /)\n",
      " |      Return self converted to an integer, if self is suitable for use as an index into a list.\n",
      " |\n",
      " |  __int__(self, /)\n",
      " |      int(self)\n",
      " |\n",
      " |  __invert__(self, /)\n",
      " |      ~self\n",
      " |\n",
      " |  __le__(self, value, /)\n",
      " |      Return self<=value.\n",
      " |\n",
      " |  __lshift__(self, value, /)\n",
      " |      Return self<<value.\n",
      " |\n",
      " |  __lt__(self, value, /)\n",
      " |      Return self<value.\n",
      " |\n",
      " |  __mod__(self, value, /)\n",
      " |      Return self%value.\n",
      " |\n",
      " |  __mul__(self, value, /)\n",
      " |      Return self*value.\n",
      " |\n",
      " |  __ne__(self, value, /)\n",
      " |      Return self!=value.\n",
      " |\n",
      " |  __neg__(self, /)\n",
      " |      -self\n",
      " |\n",
      " |  __or__(self, value, /)\n",
      " |      Return self|value.\n",
      " |\n",
      " |  __pos__(self, /)\n",
      " |      +self\n",
      " |\n",
      " |  __pow__(self, value, mod=None, /)\n",
      " |      Return pow(self, value, mod).\n",
      " |\n",
      " |  __radd__(self, value, /)\n",
      " |      Return value+self.\n",
      " |\n",
      " |  __rand__(self, value, /)\n",
      " |      Return value&self.\n",
      " |\n",
      " |  __rdivmod__(self, value, /)\n",
      " |      Return divmod(value, self).\n",
      " |\n",
      " |  __repr__(self, /)\n",
      " |      Return repr(self).\n",
      " |\n",
      " |  __rfloordiv__(self, value, /)\n",
      " |      Return value//self.\n",
      " |\n",
      " |  __rlshift__(self, value, /)\n",
      " |      Return value<<self.\n",
      " |\n",
      " |  __rmod__(self, value, /)\n",
      " |      Return value%self.\n",
      " |\n",
      " |  __rmul__(self, value, /)\n",
      " |      Return value*self.\n",
      " |\n",
      " |  __ror__(self, value, /)\n",
      " |      Return value|self.\n",
      " |\n",
      " |  __round__(self, ndigits=<unrepresentable>, /)\n",
      " |      Rounding an Integral returns itself.\n",
      " |\n",
      " |      Rounding with an ndigits argument also returns an integer.\n",
      " |\n",
      " |  __rpow__(self, value, mod=None, /)\n",
      " |      Return pow(value, self, mod).\n",
      " |\n",
      " |  __rrshift__(self, value, /)\n",
      " |      Return value>>self.\n",
      " |\n",
      " |  __rshift__(self, value, /)\n",
      " |      Return self>>value.\n",
      " |\n",
      " |  __rsub__(self, value, /)\n",
      " |      Return value-self.\n",
      " |\n",
      " |  __rtruediv__(self, value, /)\n",
      " |      Return value/self.\n",
      " |\n",
      " |  __rxor__(self, value, /)\n",
      " |      Return value^self.\n",
      " |\n",
      " |  __sizeof__(self, /)\n",
      " |      Returns size in memory, in bytes.\n",
      " |\n",
      " |  __sub__(self, value, /)\n",
      " |      Return self-value.\n",
      " |\n",
      " |  __truediv__(self, value, /)\n",
      " |      Return self/value.\n",
      " |\n",
      " |  __trunc__(self, /)\n",
      " |      Truncating an Integral returns itself.\n",
      " |\n",
      " |  __xor__(self, value, /)\n",
      " |      Return self^value.\n",
      " |\n",
      " |  as_integer_ratio(self, /)\n",
      " |      Return a pair of integers, whose ratio is equal to the original int.\n",
      " |\n",
      " |      The ratio is in lowest terms and has a positive denominator.\n",
      " |\n",
      " |      >>> (10).as_integer_ratio()\n",
      " |      (10, 1)\n",
      " |      >>> (-10).as_integer_ratio()\n",
      " |      (-10, 1)\n",
      " |      >>> (0).as_integer_ratio()\n",
      " |      (0, 1)\n",
      " |\n",
      " |  bit_count(self, /)\n",
      " |      Number of ones in the binary representation of the absolute value of self.\n",
      " |\n",
      " |      Also known as the population count.\n",
      " |\n",
      " |      >>> bin(13)\n",
      " |      '0b1101'\n",
      " |      >>> (13).bit_count()\n",
      " |      3\n",
      " |\n",
      " |  bit_length(self, /)\n",
      " |      Number of bits necessary to represent self in binary.\n",
      " |\n",
      " |      >>> bin(37)\n",
      " |      '0b100101'\n",
      " |      >>> (37).bit_length()\n",
      " |      6\n",
      " |\n",
      " |  conjugate(self, /)\n",
      " |      Returns self, the complex conjugate of any int.\n",
      " |\n",
      " |  is_integer(self, /)\n",
      " |      Returns True. Exists for duck type compatibility with float.is_integer.\n",
      " |\n",
      " |  to_bytes(self, /, length=1, byteorder='big', *, signed=False)\n",
      " |      Return an array of bytes representing an integer.\n",
      " |\n",
      " |      length\n",
      " |        Length of bytes object to use.  An OverflowError is raised if the\n",
      " |        integer is not representable with the given number of bytes.  Default\n",
      " |        is length 1.\n",
      " |      byteorder\n",
      " |        The byte order used to represent the integer.  If byteorder is 'big',\n",
      " |        the most significant byte is at the beginning of the byte array.  If\n",
      " |        byteorder is 'little', the most significant byte is at the end of the\n",
      " |        byte array.  To request the native byte order of the host system, use\n",
      " |        sys.byteorder as the byte order value.  Default is to use 'big'.\n",
      " |      signed\n",
      " |        Determines whether two's complement is used to represent the integer.\n",
      " |        If signed is False and a negative integer is given, an OverflowError\n",
      " |        is raised.\n",
      " |\n",
      " |  ----------------------------------------------------------------------\n",
      " |  Class methods defined here:\n",
      " |\n",
      " |  from_bytes(bytes, byteorder='big', *, signed=False)\n",
      " |      Return the integer represented by the given array of bytes.\n",
      " |\n",
      " |      bytes\n",
      " |        Holds the array of bytes to convert.  The argument must either\n",
      " |        support the buffer protocol or be an iterable object producing bytes.\n",
      " |        Bytes and bytearray are examples of built-in objects that support the\n",
      " |        buffer protocol.\n",
      " |      byteorder\n",
      " |        The byte order used to represent the integer.  If byteorder is 'big',\n",
      " |        the most significant byte is at the beginning of the byte array.  If\n",
      " |        byteorder is 'little', the most significant byte is at the end of the\n",
      " |        byte array.  To request the native byte order of the host system, use\n",
      " |        sys.byteorder as the byte order value.  Default is to use 'big'.\n",
      " |      signed\n",
      " |        Indicates whether two's complement is used to represent the integer.\n",
      " |\n",
      " |  ----------------------------------------------------------------------\n",
      " |  Static methods defined here:\n",
      " |\n",
      " |  __new__(*args, **kwargs)\n",
      " |      Create and return a new object.  See help(type) for accurate signature.\n",
      " |\n",
      " |  ----------------------------------------------------------------------\n",
      " |  Data descriptors defined here:\n",
      " |\n",
      " |  denominator\n",
      " |      the denominator of a rational number in lowest terms\n",
      " |\n",
      " |  imag\n",
      " |      the imaginary part of a complex number\n",
      " |\n",
      " |  numerator\n",
      " |      the numerator of a rational number in lowest terms\n",
      " |\n",
      " |  real\n",
      " |      the real part of a complex number\n",
      "\n"
     ]
    }
   ],
   "source": [
    "help(a)"
   ]
  },
  {
   "cell_type": "markdown",
   "id": "624ccf0e-c512-4087-9ff5-599d92b3602c",
   "metadata": {
    "collapsed": false,
    "ein.tags": "worksheet-0",
    "jupyter": {
     "outputs_hidden": false
    },
    "slideshow": {
     "slide_type": "-"
    }
   },
   "source": [
    "Los números de punto flotante también tienen algunos métodos definidos. Por ejemplo podemos saber si un número flotante corresponde a un entero:"
   ]
  },
  {
   "cell_type": "code",
   "execution_count": 6,
   "id": "bf4a8d7a-520b-4325-bc97-986e37a54597",
   "metadata": {
    "autoscroll": false,
    "collapsed": false,
    "ein.hycell": false,
    "ein.tags": "worksheet-0",
    "jupyter": {
     "outputs_hidden": false
    },
    "slideshow": {
     "slide_type": "-"
    }
   },
   "outputs": [
    {
     "data": {
      "text/plain": [
       "True"
      ]
     },
     "execution_count": 6,
     "metadata": {},
     "output_type": "execute_result"
    }
   ],
   "source": [
    "b = -3.0\n",
    "b.is_integer()"
   ]
  },
  {
   "cell_type": "code",
   "execution_count": 7,
   "id": "110964af-25e9-4355-afcf-e678915650bc",
   "metadata": {
    "autoscroll": false,
    "collapsed": false,
    "ein.hycell": false,
    "ein.tags": "worksheet-0",
    "jupyter": {
     "outputs_hidden": false
    },
    "slideshow": {
     "slide_type": "-"
    }
   },
   "outputs": [
    {
     "data": {
      "text/plain": [
       "False"
      ]
     },
     "execution_count": 7,
     "metadata": {},
     "output_type": "execute_result"
    }
   ],
   "source": [
    "c = 142.25\n",
    "c.is_integer()"
   ]
  },
  {
   "cell_type": "markdown",
   "id": "297b6d40-d812-4208-83bc-497130c475d0",
   "metadata": {
    "collapsed": false,
    "ein.tags": "worksheet-0",
    "jupyter": {
     "outputs_hidden": false
    },
    "slideshow": {
     "slide_type": "-"
    }
   },
   "source": [
    "o podemos expresarlo como el cociente de dos enteros, o en forma hexadecimal"
   ]
  },
  {
   "cell_type": "code",
   "execution_count": 8,
   "id": "a2d7cfb2-1749-4e46-a676-85b193fa2daa",
   "metadata": {
    "autoscroll": false,
    "collapsed": false,
    "ein.hycell": false,
    "ein.tags": "worksheet-0",
    "jupyter": {
     "outputs_hidden": false
    },
    "slideshow": {
     "slide_type": "-"
    }
   },
   "outputs": [
    {
     "data": {
      "text/plain": [
       "(569, 4)"
      ]
     },
     "execution_count": 8,
     "metadata": {},
     "output_type": "execute_result"
    }
   ],
   "source": [
    "c.as_integer_ratio()"
   ]
  },
  {
   "cell_type": "markdown",
   "id": "b52a3c2d-0116-4a1a-a08e-453ac8e70b4e",
   "metadata": {
    "collapsed": false,
    "ein.tags": "worksheet-0",
    "jupyter": {
     "outputs_hidden": false
    },
    "slideshow": {
     "slide_type": "-"
    }
   },
   "source": [
    "Recordemos, como último ejemplo, los números complejos:\n"
   ]
  },
  {
   "cell_type": "code",
   "execution_count": 9,
   "id": "f8e14c56-7cba-4df0-8537-eaa66e523360",
   "metadata": {
    "autoscroll": false,
    "collapsed": false,
    "ein.hycell": false,
    "ein.tags": "worksheet-0",
    "jupyter": {
     "outputs_hidden": false
    },
    "slideshow": {
     "slide_type": "-"
    }
   },
   "outputs": [],
   "source": [
    "z = 1 + 2j\n",
    "zc = z.conjugate()              # Método que devuelve el conjugado\n",
    "zr = z.real                     # Componente, parte real\n",
    "zi = z.imag                     # Componente, parte imaginaria"
   ]
  },
  {
   "cell_type": "code",
   "execution_count": 10,
   "id": "1765535d-02ac-421f-a446-d53d28c1c0f3",
   "metadata": {
    "autoscroll": false,
    "collapsed": false,
    "ein.hycell": false,
    "ein.tags": "worksheet-0",
    "jupyter": {
     "outputs_hidden": false
    },
    "slideshow": {
     "slide_type": "-"
    }
   },
   "outputs": [
    {
     "name": "stdout",
     "output_type": "stream",
     "text": [
      "(1+2j) (1-2j) 1.0 2.0 -2.0\n"
     ]
    }
   ],
   "source": [
    "print(z, zc, zr, zi, zc.imag)"
   ]
  },
  {
   "cell_type": "markdown",
   "id": "120ec21f-27f9-48ee-a2ab-b829f259c2ea",
   "metadata": {
    "collapsed": false,
    "jupyter": {
     "outputs_hidden": false
    }
   },
   "source": [
    "## Tipos compuestos\n",
    "\n",
    "En Python, además de los tipos simples (números y booleanos, entre ellos) existen tipos compuestos, que pueden contener más de un valor de algún tipo. Entre los tipos compuestos más importantes vamos a referirnos a:\n",
    "\n",
    "- **[Strings](https://docs.python.org/es/3/library/stdtypes.html#text-sequence-type-str)**  \n",
    "    Se pueden definir con comillas dobles ( \" ), comillas simples ( ' ), o tres comillas (simples o dobles). \n",
    "    Comillas (dobles) y comillas simples producen el mismo resultado. Sólo debe asegurarse que se utiliza el mismo tipo para abrir y para cerrar el *string*  \n",
    "    Ejemplo: `s = \"abc\"` (el elemento `s[0]` tiene el valor `\"a\"`).\n",
    "\n",
    "- **[Listas](https://docs.python.org/es/3/library/stdtypes.html#sequence-types-list-tuple-range)**  \n",
    "    Las listas son tipos que pueden contener más de un elemento de cualquier tipo. Los tipos de los elementos pueden ser diferentes. Las listas se definen separando los diferentes valores con comas, encerrados entre corchetes. Se puede referir a un elemento por su índice.  \n",
    "    Ejemplo: `L = [\"a\",1, 0.5 + 1j]` (el elemento `L[0]` es igual al *string* `\"a\"`).\n",
    "    \n",
    "- **[Tuplas](https://docs.python.org/es/3/library/stdtypes.html#sequence-types-list-tuple-range)**  \n",
    "    Las tuplas se definen de la misma manera que las listas pero con paréntesis en lugar de corchetes.\n",
    "    Ejemplo: `T = (\"a\",1, 0.5 + 1j).`\n",
    "\n",
    "- **[Diccionarios](https://docs.python.org/es/3/library/stdtypes.html#mapping-types-dict)**  \n",
    "    Los diccionarios son contenedores a cuyos elementos se los identifica con un nombre (*key*) en lugar de un índice. Se los puede definir dando los pares `key:value` entre llaves   \n",
    "    Ejemplo: `D = {'a': 1, 'b': 2, 1: 'hola', 2: 3.14}` (el elemento `D['a']` es igual al número 1).\n"
   ]
  },
  {
   "cell_type": "markdown",
   "id": "81fcdc38-3cc8-4b93-9e7b-47e4b8f19bdf",
   "metadata": {
    "collapsed": false,
    "ein.tags": "worksheet-0",
    "jupyter": {
     "outputs_hidden": false
    },
    "slideshow": {
     "slide_type": "-"
    }
   },
   "source": [
    "## Strings: Secuencias de caracteres\n",
    "\n",
    "Una cadena o *string* es una **secuencia** de caracteres (letras, \"números\", símbolos). \n",
    "\n",
    "Se pueden definir con comillas, comillas simples, o tres comillas (simples o dobles). \n",
    "Comillas simples o dobles producen el mismo resultado. Sólo debe asegurarse que se  utilizan el mismo tipo para abrir y para cerrar el *string*\n",
    "\n",
    "Triple comillas (simples o dobles) sirven para incluir una cadena de caracteres en forma textual, incluyendo saltos de líneas."
   ]
  },
  {
   "cell_type": "code",
   "execution_count": 11,
   "id": "6a64b5a4-b94c-43cf-9605-c41eebef7bc2",
   "metadata": {
    "autoscroll": false,
    "collapsed": false,
    "ein.hycell": false,
    "ein.tags": "worksheet-0",
    "jupyter": {
     "outputs_hidden": false
    },
    "slideshow": {
     "slide_type": "-"
    }
   },
   "outputs": [],
   "source": [
    "saludo = 'Hola Mundo'           # Definición usando comillas simples\n",
    "saludo2 = \"Hola Mundo\"          # Definición usando comillas dobles"
   ]
  },
  {
   "cell_type": "code",
   "execution_count": 12,
   "id": "03dd71d4-b8c2-4346-bde6-f2bdc3cde6ad",
   "metadata": {
    "collapsed": false,
    "jupyter": {
     "outputs_hidden": false
    }
   },
   "outputs": [
    {
     "data": {
      "text/plain": [
       "('Hola Mundo', 'Hola Mundo')"
      ]
     },
     "execution_count": 12,
     "metadata": {},
     "output_type": "execute_result"
    }
   ],
   "source": [
    "saludo, saludo2"
   ]
  },
  {
   "cell_type": "code",
   "execution_count": 13,
   "id": "8bc5cbc8-1f7e-47be-833b-d150569b1cac",
   "metadata": {},
   "outputs": [
    {
     "data": {
      "text/plain": [
       "True"
      ]
     },
     "execution_count": 13,
     "metadata": {},
     "output_type": "execute_result"
    }
   ],
   "source": [
    "saludo == saludo2"
   ]
  },
  {
   "cell_type": "markdown",
   "id": "040fe89e-ccc2-4482-ac39-edc7905d1bc3",
   "metadata": {
    "collapsed": false,
    "ein.tags": "worksheet-0",
    "jupyter": {
     "outputs_hidden": false
    },
    "slideshow": {
     "slide_type": "-"
    }
   },
   "source": [
    "Los *strings* se pueden definir **equivalentemente** usando comillas simples o dobles. De esta manera es fácil incluir comillas dentro de los *strings*"
   ]
  },
  {
   "cell_type": "code",
   "execution_count": 14,
   "id": "edbe5348-3bc4-4d27-a237-d0fdeb577d01",
   "metadata": {
    "autoscroll": false,
    "collapsed": false,
    "ein.hycell": false,
    "ein.tags": "worksheet-0",
    "jupyter": {
     "outputs_hidden": false
    },
    "slideshow": {
     "slide_type": "-"
    }
   },
   "outputs": [],
   "source": [
    "otro = \"that's all\"              \n",
    "dijo = '\"Cómo te va\" dijo el murguista a la muchacha'"
   ]
  },
  {
   "cell_type": "code",
   "execution_count": 15,
   "id": "f26da30b-495a-428f-8525-0b44448e9bd9",
   "metadata": {
    "autoscroll": false,
    "collapsed": false,
    "ein.hycell": false,
    "ein.tags": "worksheet-0",
    "jupyter": {
     "outputs_hidden": false
    },
    "slideshow": {
     "slide_type": "-"
    }
   },
   "outputs": [
    {
     "name": "stdout",
     "output_type": "stream",
     "text": [
      "that's all\n"
     ]
    }
   ],
   "source": [
    "print(otro)"
   ]
  },
  {
   "cell_type": "code",
   "execution_count": 16,
   "id": "9a24dbfe-5951-470e-8d2c-adf85b440878",
   "metadata": {
    "autoscroll": false,
    "collapsed": false,
    "ein.hycell": false,
    "ein.tags": "worksheet-0",
    "jupyter": {
     "outputs_hidden": false
    },
    "slideshow": {
     "slide_type": "-"
    }
   },
   "outputs": [
    {
     "name": "stdout",
     "output_type": "stream",
     "text": [
      "\"Cómo te va\" dijo el murguista a la muchacha\n"
     ]
    }
   ],
   "source": [
    "print(dijo)"
   ]
  },
  {
   "cell_type": "code",
   "execution_count": 17,
   "id": "4ea48b00-1be1-44b9-8e10-1a8dce613765",
   "metadata": {
    "autoscroll": false,
    "collapsed": false,
    "ein.hycell": false,
    "ein.tags": "worksheet-0",
    "jupyter": {
     "outputs_hidden": false
    },
    "slideshow": {
     "slide_type": "-"
    }
   },
   "outputs": [],
   "source": [
    "respondio = \"Le dijo \\\"Bien\\\" y lo dejó como si nada\""
   ]
  },
  {
   "cell_type": "code",
   "execution_count": 18,
   "id": "cc3cbaee-4d46-4fef-bf89-e56282f58331",
   "metadata": {
    "autoscroll": false,
    "collapsed": false,
    "ein.hycell": false,
    "ein.tags": "worksheet-0",
    "jupyter": {
     "outputs_hidden": false
    },
    "slideshow": {
     "slide_type": "-"
    }
   },
   "outputs": [
    {
     "name": "stdout",
     "output_type": "stream",
     "text": [
      "Le dijo \"Bien\" y lo dejó como si nada\n"
     ]
    }
   ],
   "source": [
    "print(respondio)"
   ]
  },
  {
   "cell_type": "markdown",
   "id": "adb7fe1a-1447-470a-a54e-d64655115be0",
   "metadata": {
    "collapsed": false,
    "ein.tags": "worksheet-0",
    "jupyter": {
     "outputs_hidden": false
    },
    "slideshow": {
     "slide_type": "-"
    }
   },
   "source": [
    "Para definir *strings* que contengan más de una línea, manteniendo el formato, se pueden utilizar tres comillas (dobles o simples):"
   ]
  },
  {
   "cell_type": "code",
   "execution_count": 19,
   "id": "b0983e63-5571-40a9-969d-4b5a1f7e5bdc",
   "metadata": {
    "autoscroll": false,
    "collapsed": false,
    "ein.hycell": false,
    "ein.tags": "worksheet-0",
    "jupyter": {
     "outputs_hidden": false
    },
    "slideshow": {
     "slide_type": "-"
    }
   },
   "outputs": [],
   "source": [
    "Texto_largo = '''Aquí me pongo a cantar\n",
    "  Al compás de la vigüela,\n",
    "Que el hombre que lo desvela\n",
    "  Una pena estraordinaria\n",
    "Como la ave solitaria\n",
    "  Con el cantar se consuela.'''"
   ]
  },
  {
   "cell_type": "code",
   "execution_count": 22,
   "id": "5ff4ae7b-5d78-4a63-999a-b6e13308404d",
   "metadata": {
    "autoscroll": false,
    "collapsed": false,
    "ein.hycell": false,
    "ein.tags": "worksheet-0",
    "jupyter": {
     "outputs_hidden": false
    },
    "slideshow": {
     "slide_type": "-"
    }
   },
   "outputs": [
    {
     "name": "stdout",
     "output_type": "stream",
     "text": [
      "Aquí me pongo a cantar\n",
      "  Al compás de la vigüela,\n",
      "Que el hombre que lo desvela\n",
      "  Una pena estraordinaria\n",
      "Como la ave solitaria\n",
      "  Con el cantar se consuela.\n"
     ]
    }
   ],
   "source": [
    "print (Texto_largo)"
   ]
  },
  {
   "cell_type": "code",
   "execution_count": 23,
   "id": "e7a8fc2b",
   "metadata": {
    "collapsed": false,
    "jupyter": {
     "outputs_hidden": false
    }
   },
   "outputs": [
    {
     "data": {
      "text/plain": [
       "'Aquí me pongo a cantar\\n  Al compás de la vigüela,\\nQue el hombre que lo desvela\\n  Una pena estraordinaria\\nComo la ave solitaria\\n  Con el cantar se consuela.'"
      ]
     },
     "execution_count": 23,
     "metadata": {},
     "output_type": "execute_result"
    }
   ],
   "source": [
    "Texto_largo"
   ]
  },
  {
   "cell_type": "markdown",
   "id": "125b1280-e491-439f-b648-974afb0f265b",
   "metadata": {
    "collapsed": false,
    "jupyter": {
     "outputs_hidden": false
    }
   },
   "source": [
    "En `Python` se puede utilizar cualquier caracter que pueda ingresarse por teclado, ya que por default Python-3 trabaja usando la codificación UTF-8, que incluye todos los símbolos que se nos ocurran. Por ejemplo:"
   ]
  },
  {
   "cell_type": "code",
   "execution_count": 24,
   "id": "02dd825e-01d8-455c-9b9a-654e8c17684d",
   "metadata": {
    "collapsed": false,
    "jupyter": {
     "outputs_hidden": false
    }
   },
   "outputs": [
    {
     "name": "stdout",
     "output_type": "stream",
     "text": [
      "tipo de label:  <class 'str'>\n",
      "Resultados corresponden a: σ = λ T/ µ + π · δξ  (en m/s²)\n"
     ]
    }
   ],
   "source": [
    "# Un ejemplo que puede interesarnos un poco más:\n",
    "label = \"σ = λ T/ µ + π · δξ\"\n",
    "print('tipo de label: ', type(label))\n",
    "print ('Resultados corresponden a:', label, ' (en m/s²)')"
   ]
  },
  {
   "cell_type": "markdown",
   "id": "8856346e-df88-4b11-a9a8-a89df5527f77",
   "metadata": {
    "collapsed": false,
    "ein.tags": "worksheet-0",
    "jupyter": {
     "outputs_hidden": false
    },
    "slideshow": {
     "slide_type": "-"
    }
   },
   "source": [
    "### Operaciones\n",
    "\n",
    "En **Python** ya hay definidas algunas operaciones que involucran *strings* como la suma (composición o concatenación) y el producto por enteros (repetición)."
   ]
  },
  {
   "cell_type": "code",
   "execution_count": 25,
   "id": "a02bf425-9af1-4023-8d70-86597acaccef",
   "metadata": {
    "autoscroll": false,
    "collapsed": false,
    "ein.hycell": false,
    "ein.tags": "worksheet-0",
    "jupyter": {
     "outputs_hidden": false
    },
    "slideshow": {
     "slide_type": "-"
    }
   },
   "outputs": [
    {
     "name": "stdout",
     "output_type": "stream",
     "text": [
      "Hola Mundo -> that's all\tchau\n"
     ]
    }
   ],
   "source": [
    "s = saludo + ' -> ' + otro + '\\t' \n",
    "s = s + \"chau\"\n",
    "print (s) #  Suma de strings"
   ]
  },
  {
   "cell_type": "markdown",
   "id": "62497b1c-5e8d-4906-8ea4-eac7f9bc942c",
   "metadata": {
    "collapsed": false,
    "jupyter": {
     "outputs_hidden": false
    }
   },
   "source": [
    "Como vemos la suma de *strings* es simplemente la concatenación de los argumentos. La multiplicación de un entero `n` por un *string* es simplemente la suma del string `n` veces:"
   ]
  },
  {
   "cell_type": "code",
   "execution_count": 26,
   "id": "0a3789a6-6033-40ed-9e83-d596612c9c8d",
   "metadata": {
    "autoscroll": false,
    "collapsed": false,
    "ein.hycell": false,
    "ein.tags": "worksheet-0",
    "jupyter": {
     "outputs_hidden": false
    },
    "slideshow": {
     "slide_type": "-"
    }
   },
   "outputs": [],
   "source": [
    "a = '1'\n",
    "b = 1"
   ]
  },
  {
   "cell_type": "code",
   "execution_count": 27,
   "id": "e3c93480-6196-4711-a33a-94b6592ce53e",
   "metadata": {
    "autoscroll": false,
    "collapsed": false,
    "ein.hycell": false,
    "ein.tags": "worksheet-0",
    "jupyter": {
     "outputs_hidden": false
    },
    "slideshow": {
     "slide_type": "-"
    }
   },
   "outputs": [
    {
     "name": "stdout",
     "output_type": "stream",
     "text": [
      "1 <class 'str'>\n",
      "1 <class 'int'>\n"
     ]
    }
   ],
   "source": [
    "print(a, type(a))\n",
    "print(b, type(b))"
   ]
  },
  {
   "cell_type": "code",
   "execution_count": 28,
   "id": "8943c8a9-8c20-4782-a1ae-a017e0cb96e5",
   "metadata": {
    "autoscroll": false,
    "collapsed": false,
    "ein.hycell": false,
    "ein.tags": "worksheet-0",
    "jupyter": {
     "outputs_hidden": false
    },
    "slideshow": {
     "slide_type": "-"
    }
   },
   "outputs": [
    {
     "name": "stdout",
     "output_type": "stream",
     "text": [
      "Multiplicación por enteros de strings: 1111111\n",
      "Multiplicación por enteros de enteros: 7\n"
     ]
    }
   ],
   "source": [
    "print (\"Multiplicación por enteros de strings:\", 7*a)\n",
    "print (\"Multiplicación por enteros de enteros:\", 7*b)"
   ]
  },
  {
   "cell_type": "markdown",
   "id": "909ad98a-5eb9-4662-9b63-bc82069c2035",
   "metadata": {
    "collapsed": false,
    "ein.tags": "worksheet-0",
    "jupyter": {
     "outputs_hidden": false
    },
    "slideshow": {
     "slide_type": "-"
    }
   },
   "source": [
    "La longitud de una cadena de caracteres (como de otros objetos) se puede calcular con la función `len()`"
   ]
  },
  {
   "cell_type": "code",
   "execution_count": 29,
   "id": "68311c23-bd3b-4605-943b-84b91199d4d5",
   "metadata": {
    "autoscroll": false,
    "collapsed": false,
    "ein.hycell": false,
    "ein.tags": "worksheet-0",
    "jupyter": {
     "outputs_hidden": false
    },
    "slideshow": {
     "slide_type": "-"
    }
   },
   "outputs": [
    {
     "name": "stdout",
     "output_type": "stream",
     "text": [
      "longitud del saludo = 10 caracteres\n"
     ]
    }
   ],
   "source": [
    "print ('longitud del saludo =', len(saludo), 'caracteres')"
   ]
  },
  {
   "cell_type": "markdown",
   "id": "f411ba1b-da65-4f59-8385-0ac040bfcc32",
   "metadata": {
    "collapsed": false,
    "jupyter": {
     "outputs_hidden": false
    }
   },
   "source": [
    "Por ejemplo, podemos usar estas operaciones para realizar el centrado manual de una frase:"
   ]
  },
  {
   "cell_type": "code",
   "execution_count": 30,
   "id": "7c24a434-0dc0-48d8-8065-7fb3dfc50c34",
   "metadata": {
    "autoscroll": false,
    "collapsed": false,
    "ein.hycell": false,
    "ein.tags": "worksheet-0",
    "jupyter": {
     "outputs_hidden": false
    },
    "slideshow": {
     "slide_type": "-"
    }
   },
   "outputs": [
    {
     "name": "stdout",
     "output_type": "stream",
     "text": [
      "<<<<<<<<<<<<<<<<<<< Centrado manual simple >>>>>>>>>>>>>>>>>>>\n",
      "************************* Hola Mundo *************************\n"
     ]
    }
   ],
   "source": [
    "titulo = \"Centrado manual simple\"\n",
    "n = int((60-len(titulo))//2)    # Para un ancho de 60 caracteres\n",
    "print ((n)*'<', titulo ,(n)*'>')\n",
    "# \n",
    "saludo = 'Hola Mundo'           \n",
    "n = int((60-len(saludo))//2)    # Para un ancho de 60 caracteres\n",
    "print (n*'*', saludo, n*'*')"
   ]
  },
  {
   "cell_type": "markdown",
   "id": "db20572e-65ec-4eb1-973c-763566baddeb",
   "metadata": {
    "collapsed": false,
    "ein.tags": "worksheet-0",
    "jupyter": {
     "outputs_hidden": false
    },
    "slideshow": {
     "slide_type": "-"
    }
   },
   "source": [
    "### Iteración y Métodos de Strings\n",
    "\n",
    "Los *strings* poseen varias cualidades y funcionalidades.\n",
    "Por ejemplo:\n",
    "\n",
    "- Se puede iterar sobre ellos, y también quedarse con sólo una parte (slicing)\n",
    "- Tienen métodos (funciones que se aplican a su *dueño*)\n",
    "  \n",
    "Veamos en primer lugar cómo se hace para seleccionar parte de un *string*"
   ]
  },
  {
   "cell_type": "markdown",
   "id": "14d0f9ae-c0c7-45b1-902d-281cb112c559",
   "metadata": {
    "collapsed": false,
    "jupyter": {
     "outputs_hidden": false
    }
   },
   "source": [
    "#### Indexado de *strings*\n",
    "\n",
    "Podemos referirnos a un caracter o una parte de una cadena de caracteres mediante su índice. Los índices en **Python** empiezan en 0."
   ]
  },
  {
   "cell_type": "code",
   "execution_count": 31,
   "id": "f41ebb9d-2c33-4490-a778-8e323c514366",
   "metadata": {
    "collapsed": false,
    "jupyter": {
     "outputs_hidden": false
    }
   },
   "outputs": [
    {
     "name": "stdout",
     "output_type": "stream",
     "text": [
      "Primer caracter  : 0\n",
      "Segundo caracter : 1\n"
     ]
    }
   ],
   "source": [
    "s = \"0123456789\"\n",
    "print ('Primer caracter  :', s[0])\n",
    "print (\"Segundo caracter :\", s[1])"
   ]
  },
  {
   "cell_type": "markdown",
   "id": "85e85bc7-084a-461d-9eb3-b59c5dd3e8ea",
   "metadata": {
    "collapsed": false,
    "jupyter": {
     "outputs_hidden": false
    }
   },
   "source": [
    "Si queremos empezar desde el final utilizamos índices negativos. El índice \"-1\" corresponde al último caracter.n"
   ]
  },
  {
   "cell_type": "code",
   "execution_count": 32,
   "id": "37f1ed08-a1ab-4b85-8c20-30111180c920",
   "metadata": {
    "autoscroll": false,
    "collapsed": false,
    "ein.hycell": false,
    "ein.tags": "worksheet-0",
    "jupyter": {
     "outputs_hidden": false
    },
    "slideshow": {
     "slide_type": "-"
    }
   },
   "outputs": [
    {
     "name": "stdout",
     "output_type": "stream",
     "text": [
      "El último caracter : 9\n",
      "El anteúltimo caracter : 8\n"
     ]
    }
   ],
   "source": [
    "print (\"El último caracter :\", s[-1])\n",
    "print (\"El anteúltimo caracter :\", s[-2])"
   ]
  },
  {
   "cell_type": "markdown",
   "id": "5979abf6-45b7-42d6-883f-b7cfbdfcb6d3",
   "metadata": {
    "collapsed": false,
    "jupyter": {
     "outputs_hidden": false
    }
   },
   "source": [
    "También podemos elegir un subconjunto de caracteres:"
   ]
  },
  {
   "cell_type": "code",
   "execution_count": 33,
   "id": "f8f31aa7-ce4e-4f9b-a80e-c2130c685782",
   "metadata": {
    "collapsed": false,
    "jupyter": {
     "outputs_hidden": false
    }
   },
   "outputs": [
    {
     "name": "stdout",
     "output_type": "stream",
     "text": [
      "Los tres primeros:           012\n",
      "Todos a partir del tercero:  3456789\n",
      "Los últimos dos:             89\n",
      "Todos menos los últimos dos: 01234567\n"
     ]
    }
   ],
   "source": [
    "print ('Los tres primeros:          ', s[0:3])\n",
    "print ('Todos a partir del tercero: ', s[3:])\n",
    "print ('Los últimos dos:            ', s[-2:])\n",
    "print ('Todos menos los últimos dos:', s[:-2])"
   ]
  },
  {
   "cell_type": "markdown",
   "id": "2c6e694e-7cca-4268-8924-e865448736ca",
   "metadata": {
    "collapsed": false,
    "jupyter": {
     "outputs_hidden": false
    }
   },
   "source": [
    "Estas \"subcadenas\" son cadenas de caracteres, y por lo tanto pueden utilizarse de la misma manera que cualquier otra cadena:"
   ]
  },
  {
   "cell_type": "code",
   "execution_count": 34,
   "id": "7b973fce-6e11-4625-b581-4b4d6046f266",
   "metadata": {
    "collapsed": false,
    "jupyter": {
     "outputs_hidden": false
    }
   },
   "outputs": [
    {
     "name": "stdout",
     "output_type": "stream",
     "text": [
      "01289\n"
     ]
    }
   ],
   "source": [
    "print (s[:3] + s[-2:])"
   ]
  },
  {
   "cell_type": "markdown",
   "id": "17929e25-46dc-4536-b2bd-b0ccb3bd0eb7",
   "metadata": {
    "collapsed": false,
    "jupyter": {
     "outputs_hidden": false
    }
   },
   "source": [
    "La selección de elementos y subcadenas de una cadena `s` tiene la forma general\n",
    "```python\n",
    "s[i: f: p]\n",
    "```\n",
    "donde\n",
    "`i, f, p` son enteros. La notación se refiere a la subcadena empezando en el índice `i`, hasta el índice `f` recorriendo con paso `p`. Casos particulares de esta notación son:\n",
    "\n",
    "* Un índice simple. Por ejemplo `s[2]` se refiere al tercer elemento.\n",
    "* Un índice negativo se cuenta desde el final, empezando desde `-1`.\n",
    "* Si el paso `p` no está presente el valor por defecto es 1. Ejemplo: `s[2:4] = s[2:4:1]`.\n",
    "* Si se omite el primer índice, el valor asumido es 0. Ejemplo: `s[:2:1] = s[0:2:1] = s[0:2]`.\n",
    "* Si se omite el segundo índice, el valor asumido es el del último elemento. Ejemplo: `s[1::1] = s[1:]`.\n",
    "* Notar que puede omitirse más de un índice. Ejemplo: `s[::2] = s[0:-1:2]`."
   ]
  },
  {
   "cell_type": "code",
   "execution_count": 35,
   "id": "67dbab31-0209-4c4e-8f7f-b4273d05fb5d",
   "metadata": {
    "autoscroll": false,
    "collapsed": false,
    "ein.hycell": false,
    "ein.tags": "worksheet-0",
    "jupyter": {
     "outputs_hidden": false
    },
    "slideshow": {
     "slide_type": "-"
    }
   },
   "outputs": [
    {
     "name": "stdout",
     "output_type": "stream",
     "text": [
      "0123456789\n",
      "024\n",
      "02468\n",
      "9876543210\n",
      "9630\n"
     ]
    }
   ],
   "source": [
    "print(s)\n",
    "print(s[0:5:2])\n",
    "print (s[::2])\n",
    "print (s[::-1])\n",
    "print (s[::-3])"
   ]
  },
  {
   "cell_type": "markdown",
   "id": "fc784ef3-2a35-42fc-bba4-db09ef8aa7ed",
   "metadata": {
    "autoscroll": false,
    "collapsed": false,
    "ein.hycell": false,
    "ein.tags": "worksheet-0",
    "jupyter": {
     "outputs_hidden": false
    },
    "slideshow": {
     "slide_type": "-"
    }
   },
   "source": [
    "Veamos algunas utilidades que se pueden aplicar sobre un string:"
   ]
  },
  {
   "cell_type": "code",
   "execution_count": 36,
   "id": "edb72e55-4143-48cd-bfa1-6b4b4f862bcf",
   "metadata": {
    "autoscroll": false,
    "collapsed": false,
    "ein.hycell": false,
    "ein.tags": "worksheet-0",
    "jupyter": {
     "outputs_hidden": false
    },
    "slideshow": {
     "slide_type": "-"
    }
   },
   "outputs": [
    {
     "name": "stdout",
     "output_type": "stream",
     "text": [
      "La mar estaba serena!\n"
     ]
    }
   ],
   "source": [
    "a = \"La mar estaba serena!\"\n",
    "print(a)"
   ]
  },
  {
   "cell_type": "markdown",
   "id": "44774b68-6931-4d85-9ab1-2688c58bac28",
   "metadata": {
    "collapsed": false,
    "ein.tags": "worksheet-0",
    "jupyter": {
     "outputs_hidden": false
    },
    "slideshow": {
     "slide_type": "-"
    }
   },
   "source": [
    "Por ejemplo, en python es muy fácil reemplazar una cadena por otra usando el método de *strings* `replace()`"
   ]
  },
  {
   "cell_type": "code",
   "execution_count": 37,
   "id": "7018da1c-5866-49d7-892d-62144c725bad",
   "metadata": {
    "autoscroll": false,
    "collapsed": false,
    "ein.hycell": false,
    "ein.tags": "worksheet-0",
    "jupyter": {
     "outputs_hidden": false
    },
    "slideshow": {
     "slide_type": "-"
    }
   },
   "outputs": [
    {
     "name": "stdout",
     "output_type": "stream",
     "text": [
      "La mar astaba sarana!\n"
     ]
    }
   ],
   "source": [
    "b = a.replace('e','a')\n",
    "print(b)"
   ]
  },
  {
   "cell_type": "markdown",
   "id": "824682e7-b34d-409d-9afe-1297e9631010",
   "metadata": {
    "collapsed": false,
    "ein.tags": "worksheet-0",
    "jupyter": {
     "outputs_hidden": false
    },
    "slideshow": {
     "slide_type": "-"
    }
   },
   "source": [
    "o separar las palabras:"
   ]
  },
  {
   "cell_type": "code",
   "execution_count": 38,
   "id": "a2057d34-42d0-4171-8ba6-efbbcd76b83a",
   "metadata": {
    "autoscroll": false,
    "collapsed": false,
    "ein.hycell": false,
    "ein.tags": "worksheet-0",
    "jupyter": {
     "outputs_hidden": false
    },
    "slideshow": {
     "slide_type": "-"
    }
   },
   "outputs": [
    {
     "name": "stdout",
     "output_type": "stream",
     "text": [
      "['La', 'mar', 'estaba', 'serena!']\n"
     ]
    }
   ],
   "source": [
    "print(a.split())"
   ]
  },
  {
   "cell_type": "code",
   "execution_count": 39,
   "id": "7bffdc2d-60dc-4d8b-833f-9c9376163c9a",
   "metadata": {},
   "outputs": [
    {
     "name": "stdout",
     "output_type": "stream",
     "text": [
      "['La mar e', 'taba ', 'erena!']\n"
     ]
    }
   ],
   "source": [
    "print(a.split('s'))"
   ]
  },
  {
   "cell_type": "markdown",
   "id": "5b86c0f4-a31c-455a-9104-ce05997144fc",
   "metadata": {
    "collapsed": false,
    "ein.tags": "worksheet-0",
    "jupyter": {
     "outputs_hidden": false
    },
    "slideshow": {
     "slide_type": "-"
    }
   },
   "source": [
    "En este caso, tanto `replace()` como `split()` son métodos que ya están definidos para los *strings*.\n",
    "\n",
    "Recordemos que un método es una función que está definida junto con el tipo de objeto. En este caso el string. Hay más información sobre todos los métodos de las cadenas de caracteres en: [String Methods](https://docs.python.org/3/library/stdtypes.html#string-methods \"String Methods en la documentación oficial de Python\")\n",
    "\n",
    "Veamos algunos ejemplos más:"
   ]
  },
  {
   "cell_type": "markdown",
   "id": "b3c8fc34-466d-4d83-833f-00486c54d7d8",
   "metadata": {
    "collapsed": false,
    "ein.tags": "worksheet-0",
    "jupyter": {
     "outputs_hidden": false
    },
    "slideshow": {
     "slide_type": "-"
    }
   },
   "source": [
    "Buscar y reemplazar cosas en un string:"
   ]
  },
  {
   "cell_type": "code",
   "execution_count": 40,
   "id": "1a26d716-68b7-40cc-b030-00eb5349e371",
   "metadata": {
    "autoscroll": false,
    "collapsed": false,
    "ein.hycell": false,
    "ein.tags": "worksheet-0",
    "jupyter": {
     "outputs_hidden": false
    },
    "slideshow": {
     "slide_type": "-"
    }
   },
   "outputs": [
    {
     "data": {
      "text/plain": [
       "7"
      ]
     },
     "execution_count": 40,
     "metadata": {},
     "output_type": "execute_result"
    }
   ],
   "source": [
    "a.find('e')"
   ]
  },
  {
   "cell_type": "code",
   "execution_count": 41,
   "id": "dfe9c737-6bfd-46ab-871f-22ff7a80d30c",
   "metadata": {},
   "outputs": [
    {
     "data": {
      "text/plain": [
       "-1"
      ]
     },
     "execution_count": 41,
     "metadata": {},
     "output_type": "execute_result"
    }
   ],
   "source": [
    "a.find('x')"
   ]
  },
  {
   "cell_type": "code",
   "execution_count": 42,
   "id": "d933aca5-d81c-402a-ae38-f5c48cb77753",
   "metadata": {
    "autoscroll": false,
    "collapsed": false,
    "ein.hycell": false,
    "ein.tags": "worksheet-0",
    "jupyter": {
     "outputs_hidden": false
    },
    "slideshow": {
     "slide_type": "-"
    }
   },
   "outputs": [
    {
     "data": {
      "text/plain": [
       "15"
      ]
     },
     "execution_count": 42,
     "metadata": {},
     "output_type": "execute_result"
    }
   ],
   "source": [
    "a.find('e',8)"
   ]
  },
  {
   "cell_type": "code",
   "execution_count": 43,
   "id": "23a8245f-4db0-4ae6-9670-6ed73543998b",
   "metadata": {
    "autoscroll": false,
    "collapsed": false,
    "ein.hycell": false,
    "ein.tags": "worksheet-0",
    "jupyter": {
     "outputs_hidden": false
    },
    "slideshow": {
     "slide_type": "-"
    }
   },
   "outputs": [
    {
     "data": {
      "text/plain": [
       "16"
      ]
     },
     "execution_count": 43,
     "metadata": {},
     "output_type": "execute_result"
    }
   ],
   "source": [
    "a.find('re')"
   ]
  },
  {
   "cell_type": "markdown",
   "id": "cc0d6daa-09a9-4820-b352-c66fafa09b06",
   "metadata": {
    "collapsed": false,
    "jupyter": {
     "outputs_hidden": false
    }
   },
   "source": [
    "El método `find(sub[, start[, end]]) -> int` busca el *substring* `sub` empezando con el índice `start` (argumento opcional) y finalizando en el índice `end` (argumento opcional, que sólo puede aparecer si también aparece `start`). Devuelve el índice donde inicial es *substring*."
   ]
  },
  {
   "cell_type": "markdown",
   "id": "f8853d09-fca9-4bd9-bb44-8b67d0c43d33",
   "metadata": {
    "collapsed": false,
    "ein.tags": "worksheet-0",
    "jupyter": {
     "outputs_hidden": false
    },
    "slideshow": {
     "slide_type": "-"
    }
   },
   "source": [
    "### Formato de strings\n",
    "\n",
    "En python se le puede dar formato a los strings de distintas maneras.\n",
    "Vamos a ver dos opciones:\n",
    "- Uso del método `format`\n",
    "- Uso de \"f-strings\"\n",
    "\n",
    "El método `format()` es una función que busca en el strings las llaves y las reemplaza por los argumentos. Veamos esto con algunos ejemplos:"
   ]
  },
  {
   "cell_type": "code",
   "execution_count": 44,
   "id": "d0b6dfc6-c2a0-48db-9224-23e0a20c156a",
   "metadata": {
    "autoscroll": false,
    "collapsed": false,
    "ein.hycell": false,
    "ein.tags": "worksheet-0",
    "jupyter": {
     "outputs_hidden": false
    },
    "slideshow": {
     "slide_type": "-"
    }
   },
   "outputs": [
    {
     "name": "stdout",
     "output_type": "stream",
     "text": [
      "Hoy es el día 6 de Feb de 2024\n",
      "Hoy es el día 6/Feb/2024\n",
      "Hoy es el día 6/Feb/2024\n",
      "Hoy es el día 2024/Feb/6\n"
     ]
    }
   ],
   "source": [
    "a = 2024\n",
    "m = 'Feb'\n",
    "d = 6\n",
    "s = \"Hoy es el día {} de {} de {}\".format(d, m, a)\n",
    "print(s)\n",
    "print(\"Hoy es el día {}/{}/{}\".format(d,m,a))\n",
    "print(\"Hoy es el día {0}/{1}/{2}\".format(d,m,a))\n",
    "print(\"Hoy es el día {2}/{1}/{0}\".format(d,m,a))\n"
   ]
  },
  {
   "cell_type": "code",
   "execution_count": 45,
   "id": "d6f7cba3-d129-4b98-b4de-3313a94abcee",
   "metadata": {
    "autoscroll": false,
    "collapsed": false,
    "ein.hycell": false,
    "ein.tags": "worksheet-0",
    "jupyter": {
     "outputs_hidden": false
    },
    "slideshow": {
     "slide_type": "-"
    }
   },
   "outputs": [
    {
     "name": "stdout",
     "output_type": "stream",
     "text": [
      "datos-2024-Feb-6.dat\n"
     ]
    }
   ],
   "source": [
    "raiz = \"datos-{}-{}-{}.dat\"\n",
    "fname = raiz.format(a,m,d)\n",
    "print(fname)"
   ]
  },
  {
   "cell_type": "markdown",
   "id": "c45550bb-9a80-4f45-a753-cd12baacb4d1",
   "metadata": {
    "collapsed": false,
    "jupyter": {
     "outputs_hidden": false
    }
   },
   "source": [
    "Más recientemente se ha implementado en Python una forma más directa de intercalar datos con caracteres literales, mediante *f-strings*, que permite una sintaxis más compacta. Comparemos las dos maneras:"
   ]
  },
  {
   "cell_type": "code",
   "execution_count": 46,
   "id": "21e1dbd7-ecca-4279-8235-047fe9d06af5",
   "metadata": {
    "autoscroll": false,
    "collapsed": false,
    "ein.hycell": false,
    "ein.tags": "worksheet-0",
    "jupyter": {
     "outputs_hidden": false
    },
    "slideshow": {
     "slide_type": "-"
    }
   },
   "outputs": [
    {
     "name": "stdout",
     "output_type": "stream",
     "text": [
      "El valor de π es 3.141592653589793\n",
      "El valor de π con cuatro decimales es 3.1416\n"
     ]
    }
   ],
   "source": [
    "pi = 3.141592653589793\n",
    "s1 = \"El valor de π es {}\".format(pi)\n",
    "s2 = \"El valor de π con cuatro decimales es {0:.4f}\".format(pi)\n",
    "print(s1)\n",
    "print(s2)"
   ]
  },
  {
   "cell_type": "code",
   "execution_count": 47,
   "id": "8192dd4d-a66f-478a-9c26-7cd915d35b2b",
   "metadata": {
    "autoscroll": false,
    "collapsed": false,
    "ein.hycell": false,
    "ein.tags": "worksheet-0",
    "jupyter": {
     "outputs_hidden": false
    },
    "slideshow": {
     "slide_type": "-"
    }
   },
   "outputs": [
    {
     "name": "stdout",
     "output_type": "stream",
     "text": [
      "El valor de 2π con seis decimales es 00006.283185\n"
     ]
    }
   ],
   "source": [
    "print(\"El valor de 2π con seis decimales es {:012.6f}\".format(2*pi))"
   ]
  },
  {
   "cell_type": "code",
   "execution_count": 48,
   "id": "7f5d5443-4b48-4324-8fc7-af7eb81a4048",
   "metadata": {
    "autoscroll": false,
    "collapsed": false,
    "ein.hycell": false,
    "ein.tags": "worksheet-0",
    "jupyter": {
     "outputs_hidden": false
    },
    "slideshow": {
     "slide_type": "-"
    }
   },
   "outputs": [
    {
     "name": "stdout",
     "output_type": "stream",
     "text": [
      "El valor de 2π con seis decimales es     6.283185\n"
     ]
    }
   ],
   "source": [
    "print(\"El valor de 2π con seis decimales es {:12.6f}\".format(2*pi))"
   ]
  },
  {
   "cell_type": "code",
   "execution_count": 49,
   "id": "5dd7f220-977e-423e-8084-d0241d707115",
   "metadata": {
    "autoscroll": false,
    "collapsed": false,
    "ein.hycell": false,
    "ein.tags": "worksheet-0",
    "jupyter": {
     "outputs_hidden": false
    },
    "slideshow": {
     "slide_type": "-"
    }
   },
   "outputs": [
    {
     "name": "stdout",
     "output_type": "stream",
     "text": [
      "Un valor con seis decimales es 12345678.123457\n"
     ]
    }
   ],
   "source": [
    "print(\"Un valor con seis decimales es {:012.6f}\".format(12345678.12345678))"
   ]
  },
  {
   "cell_type": "markdown",
   "id": "b12d51d0-6239-4a97-b946-4d1e115d6e46",
   "metadata": {
    "collapsed": false,
    "jupyter": {
     "outputs_hidden": false
    }
   },
   "source": [
    "Para darle formato a números enteros usamos el caracter 'd' (decimal)"
   ]
  },
  {
   "cell_type": "code",
   "execution_count": 50,
   "id": "a41ea04f-cd10-413b-867c-a06c3cf995f9",
   "metadata": {
    "autoscroll": false,
    "collapsed": false,
    "ein.hycell": false,
    "ein.tags": "worksheet-0",
    "jupyter": {
     "outputs_hidden": false
    },
    "slideshow": {
     "slide_type": "-"
    }
   },
   "outputs": [
    {
     "name": "stdout",
     "output_type": "stream",
     "text": [
      "005\n",
      "  5\n"
     ]
    }
   ],
   "source": [
    "print(\"{:03d}\".format(5))\n",
    "print(\"{:3d}\".format(5))"
   ]
  },
  {
   "cell_type": "code",
   "execution_count": 51,
   "id": "3e403914-2d43-4978-b73f-972581ba2a44",
   "metadata": {},
   "outputs": [],
   "source": [
    "t1 = \"el valor de π es {pi}\""
   ]
  },
  {
   "cell_type": "code",
   "execution_count": 52,
   "id": "1e20ffe3-76be-48c8-8bcb-afb5d43698ee",
   "metadata": {},
   "outputs": [
    {
     "name": "stdout",
     "output_type": "stream",
     "text": [
      "el valor de π es {pi}\n"
     ]
    }
   ],
   "source": [
    "print(t1)"
   ]
  },
  {
   "cell_type": "code",
   "execution_count": 53,
   "id": "f591c739-6bca-4f51-948f-5a9cc99631b9",
   "metadata": {},
   "outputs": [],
   "source": [
    "t = f\"el valor de π es {pi}\""
   ]
  },
  {
   "cell_type": "code",
   "execution_count": 54,
   "id": "a3aabd98-0ecb-4f71-8843-64f5ba42b1b2",
   "metadata": {},
   "outputs": [
    {
     "name": "stdout",
     "output_type": "stream",
     "text": [
      "el valor de π es 3.141592653589793\n"
     ]
    }
   ],
   "source": [
    "print(t)"
   ]
  },
  {
   "cell_type": "markdown",
   "id": "9669d9ec-6d30-4c9a-8466-598ed44be861",
   "metadata": {
    "collapsed": false,
    "jupyter": {
     "outputs_hidden": false
    }
   },
   "source": [
    "Podemos obtener estos mismos resultados usando \"f-strings\""
   ]
  },
  {
   "cell_type": "code",
   "execution_count": 55,
   "id": "26f654b9-e8d5-46bb-9edd-9e4e0b7816b4",
   "metadata": {
    "collapsed": false,
    "jupyter": {
     "outputs_hidden": false
    }
   },
   "outputs": [
    {
     "name": "stdout",
     "output_type": "stream",
     "text": [
      "el valor de π es 3.141592653589793\n",
      "El valor de π con cuatro decimales es 3.1416\n",
      "El valor de 2π con seis decimales es 00006.283185\n",
      "005\n",
      "  5\n"
     ]
    }
   ],
   "source": [
    "print(f\"el valor de π es {pi}\")\n",
    "print(f\"El valor de π con cuatro decimales es {pi:.4f}\")\n",
    "print(f\"El valor de 2π con seis decimales es {2*pi:012.6f}\")\n",
    "print(f\"{5:03d}\")\n",
    "print(f\"{5:3d}\")"
   ]
  },
  {
   "cell_type": "code",
   "execution_count": 56,
   "id": "f5bad28c-b775-444b-9efb-e4e1b823a5e2",
   "metadata": {},
   "outputs": [
    {
     "name": "stdout",
     "output_type": "stream",
     "text": [
      "datos-2024-Feb-6.dat\n"
     ]
    }
   ],
   "source": [
    "fname = f\"datos-{a}-{m}-{d}.dat\"\n",
    "print(fname)"
   ]
  },
  {
   "cell_type": "markdown",
   "id": "d1c0d6f2-fcfd-436f-b82e-ecac48cc5905",
   "metadata": {
    "collapsed": false,
    "ein.tags": "worksheet-0",
    "jupyter": {
     "outputs_hidden": false
    },
    "slideshow": {
     "slide_type": "-"
    }
   },
   "source": [
    "## Conversión de tipos\n",
    "\n",
    "Como comentamos anteriormente, y se ve en los ejemplos anteriores, uno no define el tipo de variable *a-priori* sino que queda definido al asignársele un valor (por ejemplo a=3 define a como una variable del tipo entero)."
   ]
  },
  {
   "cell_type": "code",
   "execution_count": 57,
   "id": "88e46539-17ec-44c2-b3ed-9f73bcd896fb",
   "metadata": {
    "autoscroll": false,
    "collapsed": false,
    "ein.hycell": false,
    "ein.tags": "worksheet-0",
    "jupyter": {
     "outputs_hidden": false
    },
    "slideshow": {
     "slide_type": "-"
    }
   },
   "outputs": [
    {
     "name": "stdout",
     "output_type": "stream",
     "text": [
      "a es de tipo <class 'int'>\n",
      "b es de tipo <class 'float'>\n",
      "c es de tipo <class 'complex'>\n",
      "'a + b' es de tipo <class 'float'> y 'a + c' es de tipo <class 'complex'>\n"
     ]
    }
   ],
   "source": [
    "a = 3                           # a es entero\n",
    "b = 3.                         # b es real\n",
    "c = 3 + 0j                      # c es complejo\n",
    "print (\"a es de tipo {0}\\nb es de tipo {1}\\nc es de tipo {2}\".format(type(a), type(b), type(c)))\n",
    "print (\"'a + b' es de tipo {0} y 'a + c' es de tipo {1}\".format(type(a+b), type(a+c)))"
   ]
  },
  {
   "cell_type": "markdown",
   "id": "4643c909-5a70-49ce-a334-e6ec5bcf3fc7",
   "metadata": {
    "collapsed": false,
    "jupyter": {
     "outputs_hidden": false
    }
   },
   "source": [
    "Si bien **Python** hace la conversión de tipos de variables en algunos casos, **no hace magia**, no puede adivinar nuestra intención si no la explicitamos."
   ]
  },
  {
   "cell_type": "code",
   "execution_count": 58,
   "id": "10a1909e-051f-4b03-bae4-47301b312abe",
   "metadata": {
    "autoscroll": false,
    "collapsed": false,
    "ein.hycell": false,
    "ein.tags": "worksheet-0",
    "jupyter": {
     "outputs_hidden": false
    },
    "slideshow": {
     "slide_type": "-"
    }
   },
   "outputs": [
    {
     "ename": "TypeError",
     "evalue": "unsupported operand type(s) for +: 'int' and 'str'",
     "output_type": "error",
     "traceback": [
      "\u001b[0;31m---------------------------------------------------------------------------\u001b[0m",
      "\u001b[0;31mTypeError\u001b[0m                                 Traceback (most recent call last)",
      "Cell \u001b[0;32mIn[58], line 1\u001b[0m\n\u001b[0;32m----> 1\u001b[0m \u001b[38;5;28mprint\u001b[39m (\u001b[38;5;241;43m1\u001b[39;49m\u001b[38;5;241;43m+\u001b[39;49m\u001b[38;5;124;43m'\u001b[39;49m\u001b[38;5;124;43m1\u001b[39;49m\u001b[38;5;124;43m'\u001b[39;49m)\n",
      "\u001b[0;31mTypeError\u001b[0m: unsupported operand type(s) for +: 'int' and 'str'"
     ]
    }
   ],
   "source": [
    "print (1+'1')"
   ]
  },
  {
   "cell_type": "markdown",
   "id": "d19e9606-126e-44f5-b054-173fc3a28226",
   "metadata": {
    "collapsed": false,
    "ein.tags": "worksheet-0",
    "jupyter": {
     "outputs_hidden": false
    },
    "slideshow": {
     "slide_type": "-"
    }
   },
   "source": [
    "Sin embargo, si le decimos explícitamente qué conversión queremos, todo funciona bien"
   ]
  },
  {
   "cell_type": "code",
   "execution_count": 59,
   "id": "82f55ce1-e222-4ebb-aee3-f5461cc5f750",
   "metadata": {
    "autoscroll": false,
    "collapsed": false,
    "ein.hycell": false,
    "ein.tags": "worksheet-0",
    "jupyter": {
     "outputs_hidden": false
    },
    "slideshow": {
     "slide_type": "-"
    }
   },
   "outputs": [
    {
     "name": "stdout",
     "output_type": "stream",
     "text": [
      "11\n",
      "2\n",
      "100001.0\n"
     ]
    }
   ],
   "source": [
    "print (str(1) + '1')\n",
    "print (1 + int('1'))\n",
    "print (1 + float('1.e5'))"
   ]
  },
  {
   "cell_type": "code",
   "execution_count": 60,
   "id": "b761692d-fa5f-4449-98c4-edcbe741e12e",
   "metadata": {
    "autoscroll": false,
    "collapsed": false,
    "ein.hycell": false,
    "ein.tags": "worksheet-0",
    "jupyter": {
     "outputs_hidden": false
    },
    "slideshow": {
     "slide_type": "-"
    }
   },
   "outputs": [
    {
     "ename": "ValueError",
     "evalue": "invalid literal for int() with base 10: 'z'",
     "output_type": "error",
     "traceback": [
      "\u001b[0;31m---------------------------------------------------------------------------\u001b[0m",
      "\u001b[0;31mValueError\u001b[0m                                Traceback (most recent call last)",
      "Cell \u001b[0;32mIn[60], line 2\u001b[0m\n\u001b[1;32m      1\u001b[0m \u001b[38;5;66;03m# a menos que nosotros **nos equivoquemos explícitamente**\u001b[39;00m\n\u001b[0;32m----> 2\u001b[0m \u001b[38;5;28mprint\u001b[39m (\u001b[38;5;241m1\u001b[39m \u001b[38;5;241m+\u001b[39m \u001b[38;5;28;43mint\u001b[39;49m\u001b[43m(\u001b[49m\u001b[38;5;124;43m'\u001b[39;49m\u001b[38;5;124;43mz\u001b[39;49m\u001b[38;5;124;43m'\u001b[39;49m\u001b[43m)\u001b[49m)\n",
      "\u001b[0;31mValueError\u001b[0m: invalid literal for int() with base 10: 'z'"
     ]
    }
   ],
   "source": [
    "# a menos que nosotros **nos equivoquemos explícitamente**\n",
    "print (1 + int('z'))"
   ]
  },
  {
   "cell_type": "markdown",
   "id": "7fb6d8fa-0629-4861-a380-13044ba734b1",
   "metadata": {
    "collapsed": false,
    "editable": true,
    "jupyter": {
     "outputs_hidden": false
    },
    "slideshow": {
     "slide_type": ""
    },
    "tags": []
   },
   "source": [
    "--------\n",
    "\n",
    "## Ejercicios 02 (b)\n",
    "\n",
    "4. **Para Entregar:** Para la cadena de caracteres:\n",
    "\n",
    "  ```python\n",
    "s = '''Aquí me pongo a cantar\n",
    "Al compás de la vigüela,\n",
    "Que el hombre que lo desvela\n",
    "Una pena estraordinaria\n",
    "Como la ave solitaria\n",
    "Con el cantar se consuela.'''\n",
    "```\n",
    "\n",
    "  * Forme un nuevo string de 10 caracteres que contenga los 5 primeros y los 5 últimos del string anterior `s`. Imprima por pantalla el nuevo string.\n",
    "\n",
    "  * Forme un nuevo string que contenga los 10 caracteres centrales de `s` (utilizando un método que pueda aplicarse a otros strings también). Imprima por pantalla el nuevo string.\n",
    "\n",
    "  * Cuente la cantidad de veces que aparecen los substrings `es`, `la`, `que`, `co`,  en los siguientes dos casos: distinguiendo entre mayúsculas y minúsculas, y no distinguiendo. Imprima el resultado.\n",
    "\n",
    "  * Cambie todas las letras \"m\" por \"n\" y todas las letras \"n\" por \"m\" en `s`. Imprima el resultado por pantalla.\n",
    "\n",
    "5. Utilizando funciones y métodos de *strings* en la cadena de caracteres:\n",
    "\n",
    "    ```python\n",
    "    s1='En un lugar de la Mancha de cuyo nombre no quiero acordarme'\n",
    "    \n",
    "    ```\n",
    "\n",
    "  - Obtenga la cantidad de caracteres.\n",
    "  - Imprima la frase anterior pero con cada palabra empezando en mayúsculas.\n",
    "  - Cuente cuantas letras 'a' tiene la frase, ¿cuántas vocales tiene?\n",
    "\n",
    "6. Centrado manual de frases\n",
    "\n",
    "    a. Utilizando la función `len()` centre una frase corta en una pantalla de 80 caracteres. Utilice la frase: \"Un ejercicio con cadena de caracteres\"\n",
    "\n",
    "    b. Agregue subrayado a la frase anterior\n",
    "\n",
    "    c. Escriba una función que centre y subraye una frase dada como argumento. Se espera obtener algo así:\n",
    "\n",
    "            Un ejercicio con cadena de caracteres\n",
    "            -------------------------------------\n",
    "\n",
    "    d. Repita el punto anterior utilizando métodos de strings\n",
    " \n",
    "-------- "
   ]
  },
  {
   "cell_type": "code",
   "execution_count": null,
   "id": "d73cfa49-a798-4f4e-a920-26178a076430",
   "metadata": {},
   "outputs": [],
   "source": []
  }
 ],
 "metadata": {
  "kernelspec": {
   "display_name": "Python 3 (ipykernel)",
   "language": "python",
   "name": "python3"
  },
  "language_info": {
   "codemirror_mode": {
    "name": "ipython",
    "version": 3
   },
   "file_extension": ".py",
   "mimetype": "text/x-python",
   "name": "python",
   "nbconvert_exporter": "python",
   "pygments_lexer": "ipython3",
   "version": "3.13.2"
  },
  "name": "02_2_strings.ipynb",
  "toc": {
   "base_numbering": 1,
   "nav_menu": {
    "height": "395.4px",
    "width": "252px"
   },
   "number_sections": true,
   "sideBar": true,
   "skip_h1_title": false,
   "title_cell": "Contenidos",
   "title_sidebar": "Contenidos",
   "toc_cell": false,
   "toc_position": null,
   "toc_section_display": true,
   "toc_window_display": false
  }
 },
 "nbformat": 4,
 "nbformat_minor": 5
}
