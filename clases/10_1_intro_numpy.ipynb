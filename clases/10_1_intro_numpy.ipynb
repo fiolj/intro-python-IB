{
 "cells": [
  {
   "cell_type": "markdown",
   "id": "65fbf78a",
   "metadata": {
    "editable": true,
    "ein.tags": "worksheet-0",
    "slideshow": {
     "slide_type": "-"
    },
    "tags": []
   },
   "source": [
    "# Introducción a Numpy y Matplotlib"
   ]
  },
  {
   "cell_type": "markdown",
   "id": "2caae3d3",
   "metadata": {
    "ein.tags": "worksheet-0",
    "slideshow": {
     "slide_type": "-"
    }
   },
   "source": [
    "## Introducción\n",
    "\n",
    "Dos paquetes que van a resultar muy importantes para nosotros son los paquetes **numpy** y **matplotlib**. Como con todos los módulos, se cargan utilizando la palabra `import`, tal como hicimos en los ejemplos anteriores. Existen variantes en la manera de importar los módulos que son \"equivalentes\". En este caso le vamos a dar un alias que sea más corto de tipear. Después podemos utilizar sus funciones y definiciones.\n"
   ]
  },
  {
   "cell_type": "code",
   "execution_count": null,
   "id": "f99ce9b3-8be5-4154-8869-b1d38b9ec8a8",
   "metadata": {},
   "outputs": [],
   "source": [
    "import numpy as np               # Importa el paquete numpy para trabajo numérico\n",
    "import matplotlib.pyplot as plt  # Importa el paquete matplotlib para graficación"
   ]
  },
  {
   "cell_type": "markdown",
   "id": "5e456417-fc06-4461-b3f9-89e642f6e0de",
   "metadata": {},
   "source": [
    "Un ejemplo muy común es la graficación de datos que obtuvimos previamente:"
   ]
  },
  {
   "cell_type": "code",
   "execution_count": null,
   "id": "5a3c2b63-6f9a-412e-9a24-718be0d8da26",
   "metadata": {},
   "outputs": [],
   "source": [
    "x, y = np.loadtxt('data/ejemplo_plot_07_1.dat', unpack=True)\n",
    "plt.plot(x, y)"
   ]
  },
  {
   "cell_type": "markdown",
   "id": "596e6879-f7f4-4258-a5ce-ba7a0face1ad",
   "metadata": {},
   "source": [
    "## Lectura y escritura de datos a archivos"
   ]
  },
  {
   "cell_type": "markdown",
   "id": "d714ef4f-bfec-411c-a62e-687674cbb8bb",
   "metadata": {},
   "source": [
    "Numpy tiene funciones que permiten escribir y leer datos de varias maneras, tanto en formato *texto* como en *binario*. En general el modo *texto* ocupa más espacio pero puede ser leído y modificado con un editor."
   ]
  },
  {
   "cell_type": "markdown",
   "id": "40cf8a59-4724-44d5-8e8a-07d200e43566",
   "metadata": {},
   "source": [
    "Veamos qué datos hay en el archivo:"
   ]
  },
  {
   "cell_type": "markdown",
   "id": "3905fe26-7763-4ff9-8348-66d44d8cf937",
   "metadata": {},
   "source": [
    "Hay dos columnas, en la primera fila hay texto, y en las siguientes hay valores separados por un espacio."
   ]
  },
  {
   "cell_type": "markdown",
   "id": "5421711a-6a36-4a6c-983b-24dd3353861d",
   "metadata": {},
   "source": [
    "Dos funciones simples y útiles para entrada y salida de datos son `np.loadtxt()` para lectura,  y `np.savetxt()` para escritura."
   ]
  },
  {
   "cell_type": "code",
   "execution_count": null,
   "id": "a1759dfc-93ae-4aa3-8e6e-cb63af084745",
   "metadata": {
    "editable": true,
    "slideshow": {
     "slide_type": "-"
    },
    "tags": []
   },
   "outputs": [],
   "source": [
    "x, y = np.loadtxt('data/ejemplo_plot_07_1.dat', unpack=True)"
   ]
  },
  {
   "cell_type": "markdown",
   "id": "2f271641-93fa-4f08-bd29-901a9285f481",
   "metadata": {},
   "source": [
    "La función `np.loadtxt()` carga estos valores a las variables `x` e `y`"
   ]
  },
  {
   "cell_type": "code",
   "execution_count": null,
   "id": "62305859-0cca-43e5-b841-6a4b9f0da842",
   "metadata": {},
   "outputs": [],
   "source": [
    "len(x), len(y)"
   ]
  },
  {
   "cell_type": "code",
   "execution_count": null,
   "id": "68b15b71-7814-4731-bd1b-79c670b852d9",
   "metadata": {},
   "outputs": [],
   "source": [
    "print(x[:10])"
   ]
  },
  {
   "cell_type": "markdown",
   "id": "c596b47e-3496-4724-bd4f-94d01767b042",
   "metadata": {},
   "source": [
    "Vemos que, con este uso, la variable `x` contiene los valores de la primera columna y la variable `y` los de la segunda.\n",
    "\n",
    "Para grabar datos a un archivo le damos como primer argumento el nombre del archivo y como segundo los datos a guardar. Vamos a ver detalles más adelante."
   ]
  },
  {
   "cell_type": "code",
   "execution_count": null,
   "id": "b19b65fe-3e57-4df1-b0ed-c135b908929e",
   "metadata": {},
   "outputs": [],
   "source": [
    "np.savetxt('test.out', y)"
   ]
  },
  {
   "cell_type": "code",
   "execution_count": null,
   "id": "00404def-9c53-4dcf-bf7f-775af1d6bfc1",
   "metadata": {},
   "outputs": [],
   "source": [
    "!head test.out\n"
   ]
  },
  {
   "cell_type": "markdown",
   "id": "a9f7b307-9db7-4bdd-8c2d-ba434ac33341",
   "metadata": {},
   "source": [
    "En la primera línea hay texto explicativo, en las siguientes líneas el archivo tiene dos columnas."
   ]
  },
  {
   "cell_type": "markdown",
   "id": "e68dbb9c-fcbd-4473-97b6-e29b04ee1371",
   "metadata": {},
   "source": [
    "Veamos que tipo de variable son `x` e `y`:"
   ]
  },
  {
   "cell_type": "code",
   "execution_count": null,
   "id": "9f6e8d59-d4d1-4d9e-b397-1acf9c87d8c8",
   "metadata": {},
   "outputs": [],
   "source": [
    "type(x), type(y)"
   ]
  },
  {
   "cell_type": "markdown",
   "id": "5ea2dbf5-262d-4bef-8074-795714094c95",
   "metadata": {},
   "source": [
    "Como vemos, el tipo de la variable **no es una lista** sino un nuevo tipo: **ndarray**, o simplemente **array**. Veamos cómo trabajar con ellos."
   ]
  },
  {
   "cell_type": "markdown",
   "id": "79a38ae0-ad3c-4a7b-84e0-c8ba2e142d94",
   "metadata": {},
   "source": [
    "## Características de *arrays* en **Numpy**\n",
    "\n",
    "Numpy define unas nuevas estructuras llamadas *ndarrays* o *arrays* para trabajar con vectores de datos, en una dimensión o más dimensiones (\"matrices\").\n",
    "Los arrays son variantes de las listas de python preparadas para trabajar a mayor velocidad y menor consumo de memoria. Por ello se requiere que los arrays sean menos generales y versátiles que las listas usuales. Analicemos brevemente las diferencias entre estos tipos y las consecuencias que tendrá en su uso para nosotros."
   ]
  },
  {
   "cell_type": "markdown",
   "id": "a66339d9",
   "metadata": {
    "editable": true,
    "ein.tags": "worksheet-0",
    "slideshow": {
     "slide_type": "-"
    },
    "tags": []
   },
   "source": [
    "### Comparación de listas y *arrays*\n",
    "\n",
    "Comparemos como operamos sobre un conjunto de números cuando los representamos por una lista, o por un array:"
   ]
  },
  {
   "cell_type": "code",
   "execution_count": null,
   "id": "88cd687f",
   "metadata": {
    "autoscroll": false,
    "ein.hycell": false,
    "ein.tags": "worksheet-0",
    "slideshow": {
     "slide_type": "-"
    }
   },
   "outputs": [],
   "source": [
    "dlist = [1.5, 3.8, 4.9, 12.3, 27.2, 35.8, 70.2, 90., 125., 180.]"
   ]
  },
  {
   "cell_type": "code",
   "execution_count": null,
   "id": "bc243156",
   "metadata": {
    "autoscroll": false,
    "ein.hycell": false,
    "ein.tags": "worksheet-0",
    "slideshow": {
     "slide_type": "-"
    }
   },
   "outputs": [],
   "source": [
    "d = np.array(dlist)"
   ]
  },
  {
   "cell_type": "code",
   "execution_count": null,
   "id": "a2a6229d",
   "metadata": {
    "autoscroll": false,
    "ein.hycell": false,
    "ein.tags": "worksheet-0",
    "slideshow": {
     "slide_type": "-"
    }
   },
   "outputs": [],
   "source": [
    "d is dlist"
   ]
  },
  {
   "cell_type": "code",
   "execution_count": null,
   "id": "95df6d7f",
   "metadata": {
    "autoscroll": false,
    "ein.hycell": false,
    "ein.tags": "worksheet-0",
    "slideshow": {
     "slide_type": "-"
    }
   },
   "outputs": [],
   "source": [
    "print(dlist)"
   ]
  },
  {
   "cell_type": "code",
   "execution_count": null,
   "id": "f1ac731f",
   "metadata": {
    "autoscroll": false,
    "ein.hycell": false,
    "ein.tags": "worksheet-0",
    "slideshow": {
     "slide_type": "-"
    }
   },
   "outputs": [],
   "source": [
    "print(d)"
   ]
  },
  {
   "cell_type": "markdown",
   "id": "bce0525a",
   "metadata": {
    "ein.tags": "worksheet-0",
    "slideshow": {
     "slide_type": "-"
    }
   },
   "source": [
    "Veamos cómo se hace para operar con estos dos tipos. Si los valores representan ángulos en grados, hagamos la conversión a radianes (radián = $\\pi/180$ grado)"
   ]
  },
  {
   "cell_type": "code",
   "execution_count": null,
   "id": "f81099c3",
   "metadata": {
    "autoscroll": false,
    "ein.hycell": false,
    "ein.tags": "worksheet-0",
    "slideshow": {
     "slide_type": "-"
    }
   },
   "outputs": [],
   "source": [
    "from math import pi\n",
    "drlist = [a*pi/180 for a in dlist]"
   ]
  },
  {
   "cell_type": "code",
   "execution_count": null,
   "id": "011f4167",
   "metadata": {
    "autoscroll": false,
    "ein.hycell": false,
    "ein.tags": "worksheet-0",
    "slideshow": {
     "slide_type": "-"
    }
   },
   "outputs": [],
   "source": [
    "print(drlist)"
   ]
  },
  {
   "cell_type": "code",
   "execution_count": null,
   "id": "5dee3275",
   "metadata": {
    "autoscroll": false,
    "ein.hycell": false,
    "ein.tags": "worksheet-0",
    "slideshow": {
     "slide_type": "-"
    }
   },
   "outputs": [],
   "source": [
    "dr = d*(pi/180)"
   ]
  },
  {
   "cell_type": "code",
   "execution_count": null,
   "id": "c3bccdce",
   "metadata": {
    "autoscroll": false,
    "ein.hycell": false,
    "ein.tags": "worksheet-0",
    "slideshow": {
     "slide_type": "-"
    }
   },
   "outputs": [],
   "source": [
    "print(dr)"
   ]
  },
  {
   "cell_type": "markdown",
   "id": "a4b9d20f",
   "metadata": {
    "ein.tags": "worksheet-0",
    "slideshow": {
     "slide_type": "-"
    }
   },
   "source": [
    "Vemos que el modo de trabajar es más simple ya que los array permiten trabajar con operaciones elemento-a-elemento mientras que para las listas tenemos que usar comprensiones de listas. Veamos otros ejemplos:"
   ]
  },
  {
   "cell_type": "code",
   "execution_count": null,
   "id": "8c997bfb",
   "metadata": {
    "autoscroll": false,
    "ein.hycell": false,
    "ein.tags": "worksheet-0",
    "slideshow": {
     "slide_type": "-"
    }
   },
   "outputs": [],
   "source": [
    "print([np.sin(a*pi/180) for a in dlist])"
   ]
  },
  {
   "cell_type": "code",
   "execution_count": null,
   "id": "ddbed2de",
   "metadata": {
    "autoscroll": false,
    "ein.hycell": false,
    "ein.tags": "worksheet-0",
    "slideshow": {
     "slide_type": "-"
    }
   },
   "outputs": [],
   "source": [
    "print(np.sin(np.deg2rad(d)))"
   ]
  },
  {
   "cell_type": "markdown",
   "id": "3aa2b60b",
   "metadata": {
    "ein.tags": "worksheet-0",
    "slideshow": {
     "slide_type": "-"
    }
   },
   "source": [
    "Además de la simplicidad para trabajar con operaciones que actúan sobre cada elemento, el paquete tiene una gran cantidad de funciones y constantes definidas (como por ejemplo `np.pi` para $\\pi$)."
   ]
  },
  {
   "cell_type": "code",
   "execution_count": null,
   "id": "73df15d0",
   "metadata": {
    "autoscroll": false,
    "ein.hycell": false,
    "ein.tags": "worksheet-0",
    "slideshow": {
     "slide_type": "-"
    }
   },
   "outputs": [],
   "source": [
    "plt.plot(d, np.sin(np.deg2rad(d)),'o-')\n",
    "plt.show()"
   ]
  },
  {
   "cell_type": "markdown",
   "id": "b189f1e6",
   "metadata": {
    "ein.tags": "worksheet-0",
    "slideshow": {
     "slide_type": "-"
    }
   },
   "source": [
    "### Uso de memoria de listas y arrays\n",
    "\n",
    "Las listas son sucesiones de elementos, completamente generales y no necesariamente todos iguales. Un esquema de su representación interna se muestra en el siguiente gráfico para una lista de números enteros (Las figuras y el análisis de esta sección son de www.python-course.eu/numpy.php)\n",
    "\n",
    "![Representación en memoria de una lista](figuras/list_structure.png)\n",
    "\n",
    "Básicamente en una lista se guarda información común a cualquier lista, un lugar de almacenamiento que referencia donde buscar cada uno de sus elementos (que puede ser un objeto diferente) y luego el lugar efectivo para guardar cada elemento. Veamos cuanta memoria se necesita para guardar una lista de enteros:"
   ]
  },
  {
   "cell_type": "code",
   "execution_count": null,
   "id": "f69cbe87",
   "metadata": {
    "autoscroll": false,
    "ein.hycell": false,
    "ein.tags": "worksheet-0",
    "slideshow": {
     "slide_type": "-"
    }
   },
   "outputs": [],
   "source": [
    "from sys import getsizeof\n",
    "lst = [24, 12, 57]\n",
    "size_of_list_object = getsizeof(lst)   # La lista sin sus datos\n",
    "#size_of_elements = getsizeof(lst[0]) + getsizeof(lst[1]) + getsizeof(lst[2])\n",
    "size_of_elements = sum(getsizeof(l) for l in lst)\n",
    "total_list_size = size_of_list_object + size_of_elements\n",
    "print(\"Tamaño sin considerar los elementos: \", size_of_list_object)\n",
    "print(\"Tamaño de los elementos: \", size_of_elements)\n",
    "print(\"Tamaño total: \", total_list_size)"
   ]
  },
  {
   "cell_type": "markdown",
   "id": "ab0b4a7c",
   "metadata": {
    "ein.tags": "worksheet-0",
    "slideshow": {
     "slide_type": "-"
    }
   },
   "source": [
    "Para calcular cuánta memoria se usa en cada parte de una lista analicemos el tamaño de distintos casos:"
   ]
  },
  {
   "cell_type": "code",
   "execution_count": null,
   "id": "7877cd7b",
   "metadata": {
    "autoscroll": false,
    "ein.hycell": false,
    "ein.tags": "worksheet-0",
    "slideshow": {
     "slide_type": "-"
    }
   },
   "outputs": [],
   "source": [
    "print('Una lista vacía ocupa: {} bytes'.format(getsizeof([])))\n",
    "print('Una lista con un elem: {} bytes'.format(getsizeof([24])))\n",
    "print('Una lista con 2 elems: {} bytes'.format(getsizeof([24,12])))\n",
    "print('Un entero en Python  : {} bytes'.format(getsizeof(24)))"
   ]
  },
  {
   "cell_type": "markdown",
   "id": "7defec16",
   "metadata": {
    "ein.tags": "worksheet-0",
    "slideshow": {
     "slide_type": "-"
    }
   },
   "source": [
    "Vemos que la \"Información general de listas\" ocupa **56 bytes**, y la referencia a cada elemento entero ocupa adicionalmente **8 bytes**, por lo que la lista con dos elementos ocupa **72 bytes**.\n",
    "Además, cada elemento, un entero de Python, en este caso ocupa **28 bytes**, por lo que el tamaño total de una **lista** de $n$ números enteros será:\n",
    "\n",
    "$$  M_{L}(n) = 56 + n \\times 8 + n \\times 28 $$"
   ]
  },
  {
   "cell_type": "markdown",
   "id": "37e0cf50",
   "metadata": {
    "ein.tags": "worksheet-0",
    "slideshow": {
     "slide_type": "-"
    }
   },
   "source": [
    "En contraste, los *arrays* deben ser todos del mismo tipo por lo que su representación es más simple (por ejemplo, no es necesario guardar sus valores separadamente)\n",
    "\n",
    "![Representación en memoria de una lista](figuras/array_structure.png)"
   ]
  },
  {
   "cell_type": "code",
   "execution_count": null,
   "id": "d189890c",
   "metadata": {
    "autoscroll": false,
    "ein.hycell": false,
    "ein.tags": "worksheet-0",
    "slideshow": {
     "slide_type": "-"
    }
   },
   "outputs": [],
   "source": [
    "a = np.array(lst, dtype='int')\n",
    "print(getsizeof(a))"
   ]
  },
  {
   "cell_type": "markdown",
   "id": "c14a0572",
   "metadata": {
    "ein.tags": "worksheet-0",
    "slideshow": {
     "slide_type": "-"
    }
   },
   "source": [
    "Para analizar como se distribuye el consumo de memoria en un array vamos a calcular el tamaño de cada uno de los elementos como hicimos con las listas:"
   ]
  },
  {
   "cell_type": "code",
   "execution_count": null,
   "id": "0ed217c5",
   "metadata": {
    "autoscroll": false,
    "ein.hycell": false,
    "ein.tags": "worksheet-0",
    "slideshow": {
     "slide_type": "-"
    }
   },
   "outputs": [],
   "source": [
    "print('Un array vacío ocupa: {} bytes'.format(getsizeof(np.array([]))))\n",
    "print('Un array con un elem: {} bytes'.format(getsizeof(np.array([24]))))\n",
    "print('Un array con 2 elems: {} bytes'.format(getsizeof(np.array([24,12]))))\n",
    "print('Un entero de Numpy es: {}'.format(type(a[0])))\n",
    "print('Un entero de Numpy usa: {}'.format(getsizeof(a[0])))"
   ]
  },
  {
   "cell_type": "markdown",
   "id": "0352456b",
   "metadata": {
    "ein.tags": "worksheet-0",
    "slideshow": {
     "slide_type": "-"
    }
   },
   "source": [
    "Vemos que la información general sobre arrays ocupa **96 bytes** (en contraste a **64** para listas), y por cada elemento otros **8 bytes** adicionales (`numpy.int64` corresponde a 64 bits), por lo que el tamaño total será:\n",
    "\n",
    "$$  M_{a}(n) = 96 + n \\times 8 $$"
   ]
  },
  {
   "cell_type": "code",
   "execution_count": null,
   "id": "17ef5602",
   "metadata": {
    "autoscroll": false,
    "ein.hycell": false,
    "ein.tags": "worksheet-0",
    "slideshow": {
     "slide_type": "-"
    }
   },
   "outputs": [],
   "source": [
    "from sys import getsizeof\n",
    "lst1 = list(range(10000))\n",
    "total_list_size = getsizeof(lst1) + sum(getsizeof(l) for l in lst1)\n",
    "print(\"Tamaño total de la lista: \", total_list_size)\n",
    "a1 = np.array(lst1)\n",
    "print(\"Tamaño total de array: \", getsizeof(a1))"
   ]
  },
  {
   "cell_type": "markdown",
   "id": "42c48940",
   "metadata": {
    "ein.tags": "worksheet-0",
    "slideshow": {
     "slide_type": "-"
    }
   },
   "source": [
    "### Velocidad de **Numpy**\n",
    "Una de las grandes ventajas de usar *Numpy* está relacionada con la velocidad de cálculo. Veamos (superficialmente) esto"
   ]
  },
  {
   "cell_type": "code",
   "execution_count": null,
   "id": "7a9e9ba2",
   "metadata": {
    "autoscroll": false,
    "ein.hycell": false,
    "ein.tags": "worksheet-0",
    "slideshow": {
     "slide_type": "-"
    }
   },
   "outputs": [],
   "source": [
    "# %load scripts/timing.py\n",
    "# Ejemplo del libro en www.python-course.eu/numpy.php\n",
    "\n",
    "import numpy as np\n",
    "from timeit import Timer\n",
    "Ndim = 200000\n",
    "\n",
    "\n",
    "def pure_python_version():\n",
    "  X = range(Ndim)\n",
    "  Y = range(Ndim)\n",
    "  Z = []\n",
    "  for i in range(len(X)):\n",
    "    Z.append(X[i] + Y[i])\n",
    "  return Z\n",
    "\n",
    "\n",
    "def numpy_version():\n",
    "  X = np.arange(Ndim)\n",
    "  Y = np.arange(Ndim)\n",
    "  Z = X + Y\n",
    "  return Z\n",
    "\n",
    "timer_obj1 = Timer(\"pure_python_version()\", \"from __main__ import pure_python_version\")\n",
    "timer_obj2 = Timer(\"numpy_version()\", \"from __main__ import numpy_version\")\n",
    "t1 = timer_obj1.timeit(10)\n",
    "t2 = timer_obj2.timeit(10)\n",
    "\n",
    "print(f\"Numpy es en este ejemplo {t1 / t2 : .3f} más rápido\")\n"
   ]
  },
  {
   "cell_type": "markdown",
   "id": "a3a18fa4",
   "metadata": {
    "ein.tags": "worksheet-0",
    "slideshow": {
     "slide_type": "-"
    }
   },
   "source": [
    "Como vemos, utilizar *Numpy* puede ser considerablemente más rápido que usar *Python puro*."
   ]
  },
  {
   "cell_type": "markdown",
   "id": "df838d0d-f202-421b-9d5c-23b193573197",
   "metadata": {
    "editable": true,
    "slideshow": {
     "slide_type": "-"
    },
    "tags": []
   },
   "source": [
    "### Propiedades de **Numpy** arrays\n",
    "\n",
    "Hay tres propiedades básicas que caracterizan a un array:\n",
    "\n",
    "* `shape`: Contiene información sobre la forma que tiene un array (sus dimensiones: vector, matriz, o tensor)\n",
    "* `dtype`: Es el tipo de cada uno de sus elementos (todos son iguales)\n",
    "* `stride`: Contiene la información sobre como recorrer el array. Por ejemplo si es una matriz, tiene la información de cuántos bytes en memoria hay que pasar para pasar de una fila a la siguiente y de una columna a la siguiente."
   ]
  },
  {
   "cell_type": "code",
   "execution_count": null,
   "id": "3cf39922-5365-41c7-8b6c-52fc542845cc",
   "metadata": {},
   "outputs": [],
   "source": [
    "arr = np.array([[1,2,3], [4,5,6]])"
   ]
  },
  {
   "cell_type": "code",
   "execution_count": null,
   "id": "48ea6abd-4057-4f8b-a3c7-cb944622f38f",
   "metadata": {},
   "outputs": [],
   "source": [
    "print( 'shape  :', arr.shape)\n",
    "print( 'dtype  :', arr.dtype)\n",
    "print( 'strides:', arr.strides)"
   ]
  },
  {
   "cell_type": "markdown",
   "id": "ad44d22f-aba7-4c90-b812-9adb9743fcb1",
   "metadata": {},
   "source": [
    "Los array tienen otros atributos que nos dan información sobre sus características, por ejemplo `size` y `ndim` que nos dan el tamaño total y el \n",
    "número de dimensiones:"
   ]
  },
  {
   "cell_type": "code",
   "execution_count": null,
   "id": "9ed631be-8fab-4d60-adba-dd0b2b69a221",
   "metadata": {},
   "outputs": [],
   "source": [
    "print( 'Número total de elementos :', arr.size)\n",
    "print( 'Número de dimensiones     :', arr.ndim)"
   ]
  },
  {
   "cell_type": "markdown",
   "id": "6d4c5de9",
   "metadata": {
    "editable": true,
    "ein.tags": "worksheet-0",
    "slideshow": {
     "slide_type": "-"
    },
    "tags": []
   },
   "source": [
    "## Creación de *arrays* en **Numpy**\n",
    "\n",
    "Un `array` en numpy es un tipo de variable parecido a una lista, pero está optimizado para realizar trabajo numérico.\n",
    "\n",
    "Todos los elementos deben ser del mismo tipo, y además de los valores, contiene información sobre su tipo. Veamos algunos ejemplos de cómo crearlos y utilizarlos:\n",
    "\n",
    "### Creación de *Arrays* unidimensionales"
   ]
  },
  {
   "cell_type": "code",
   "execution_count": null,
   "id": "61c0b2d7",
   "metadata": {
    "autoscroll": false,
    "ein.hycell": false,
    "ein.tags": "worksheet-0",
    "slideshow": {
     "slide_type": "-"
    }
   },
   "outputs": [],
   "source": [
    "i1 = np.array([1, 2, 3, 1, 5, 1, 9, 22, 0])\n",
    "r1 = np.array([1.4 ,2.3 ,3.0 ,1, 5, 1, 9, 22, 0])"
   ]
  },
  {
   "cell_type": "code",
   "execution_count": null,
   "id": "1039f619",
   "metadata": {
    "autoscroll": false,
    "ein.hycell": false,
    "ein.tags": "worksheet-0",
    "slideshow": {
     "slide_type": "-"
    }
   },
   "outputs": [],
   "source": [
    "print(i1)\n",
    "print(r1)"
   ]
  },
  {
   "cell_type": "code",
   "execution_count": null,
   "id": "73e851f9",
   "metadata": {
    "autoscroll": false,
    "ein.hycell": false,
    "ein.tags": "worksheet-0",
    "slideshow": {
     "slide_type": "-"
    }
   },
   "outputs": [],
   "source": [
    "print(f\"tipo de i1: {i1.dtype} \\ntipo de r1: {r1.dtype}\")"
   ]
  },
  {
   "cell_type": "code",
   "execution_count": null,
   "id": "a3c23022",
   "metadata": {
    "autoscroll": false,
    "ein.hycell": false,
    "ein.tags": "worksheet-0",
    "slideshow": {
     "slide_type": "-"
    }
   },
   "outputs": [],
   "source": [
    "print(f\"Para i1:\\n      Número de dimensiones: {np.ndim(i1)}\\n      Longitud: {len(i1)}\")"
   ]
  },
  {
   "cell_type": "code",
   "execution_count": null,
   "id": "abeb6985",
   "metadata": {
    "autoscroll": false,
    "editable": true,
    "ein.hycell": false,
    "ein.tags": "worksheet-0",
    "slideshow": {
     "slide_type": "-"
    },
    "tags": []
   },
   "outputs": [],
   "source": [
    "print(f\"Para r1:\\n      Número de dimensiones: {r1.ndim}\\n      Longitud: {len(r1)}\")"
   ]
  },
  {
   "cell_type": "markdown",
   "id": "e29bbab6",
   "metadata": {
    "ein.tags": "worksheet-0",
    "slideshow": {
     "slide_type": "-"
    }
   },
   "source": [
    "### Arrays multidimensionales\n",
    "\n",
    "Podemos crear explícitamente *arrays* multidimensionales con la función `np.array` si el argumento es una lista anidada"
   ]
  },
  {
   "cell_type": "code",
   "execution_count": null,
   "id": "1c01173b",
   "metadata": {
    "autoscroll": false,
    "ein.hycell": false,
    "ein.tags": "worksheet-0",
    "slideshow": {
     "slide_type": "-"
    }
   },
   "outputs": [],
   "source": [
    "L = [ [1, 2, 3], [.2, -.2, -1], [-1, 2, 9], [0, 0.5, 0] ]\n",
    "\n",
    "A = np.array(L)"
   ]
  },
  {
   "cell_type": "code",
   "execution_count": null,
   "id": "9c559212",
   "metadata": {
    "autoscroll": false,
    "ein.hycell": false,
    "ein.tags": "worksheet-0",
    "slideshow": {
     "slide_type": "-"
    }
   },
   "outputs": [],
   "source": [
    "A"
   ]
  },
  {
   "cell_type": "code",
   "execution_count": null,
   "id": "3bbb2fdd",
   "metadata": {
    "autoscroll": false,
    "ein.hycell": false,
    "ein.tags": "worksheet-0",
    "slideshow": {
     "slide_type": "-"
    }
   },
   "outputs": [],
   "source": [
    "print(A)"
   ]
  },
  {
   "cell_type": "code",
   "execution_count": null,
   "id": "b067b8a1",
   "metadata": {
    "autoscroll": false,
    "editable": true,
    "ein.hycell": false,
    "ein.tags": "worksheet-0",
    "slideshow": {
     "slide_type": "-"
    },
    "tags": []
   },
   "outputs": [],
   "source": [
    "print(np.ndim(A), A.ndim) # Ambos son equivalentes"
   ]
  },
  {
   "cell_type": "code",
   "execution_count": null,
   "id": "5a748b6d",
   "metadata": {
    "autoscroll": false,
    "ein.hycell": false,
    "ein.tags": "worksheet-0",
    "slideshow": {
     "slide_type": "-"
    }
   },
   "outputs": [],
   "source": [
    "print(len(A))"
   ]
  },
  {
   "cell_type": "markdown",
   "id": "c088aa78",
   "metadata": {
    "ein.tags": "worksheet-0",
    "slideshow": {
     "slide_type": "-"
    }
   },
   "source": [
    "Vemos que la dimensión de `A` es 2, pero la longitud que me reporta **Python** corresponde al primer eje. Los *arrays* tienen un atributo que es la \"forma\" (shape)"
   ]
  },
  {
   "cell_type": "code",
   "execution_count": null,
   "id": "7e2f2e6f",
   "metadata": {
    "autoscroll": false,
    "ein.hycell": false,
    "ein.tags": "worksheet-0",
    "slideshow": {
     "slide_type": "-"
    }
   },
   "outputs": [],
   "source": [
    "print(A.shape)"
   ]
  },
  {
   "cell_type": "code",
   "execution_count": null,
   "id": "1d51a21b",
   "metadata": {
    "autoscroll": false,
    "ein.hycell": false,
    "ein.tags": "worksheet-0",
    "slideshow": {
     "slide_type": "-"
    }
   },
   "outputs": [],
   "source": [
    "r1.shape # una tupla de un solo elemento"
   ]
  },
  {
   "cell_type": "markdown",
   "id": "3f05a19e-d258-41b2-b1ed-d9ecea7f1e3b",
   "metadata": {},
   "source": [
    "### Generación de datos equiespaciados\n",
    "\n",
    "Para obtener datos equiespaciados hay dos funciones complementarias"
   ]
  },
  {
   "cell_type": "code",
   "execution_count": null,
   "id": "9146f258-2ebc-43cd-a8b5-e9c320520d82",
   "metadata": {},
   "outputs": [],
   "source": [
    "a1 = np.arange(0,190,10)\n",
    "a2 = np.linspace(0,180,19)"
   ]
  },
  {
   "cell_type": "code",
   "execution_count": null,
   "id": "2953bf89-3796-4d60-9a3d-7414d0c0499c",
   "metadata": {},
   "outputs": [],
   "source": [
    "a1"
   ]
  },
  {
   "cell_type": "code",
   "execution_count": null,
   "id": "ddce6101-8e34-45a3-9352-09b0344bf85e",
   "metadata": {},
   "outputs": [],
   "source": [
    "a2"
   ]
  },
  {
   "cell_type": "markdown",
   "id": "febb94da-9d4c-4efd-bfbf-d119c8f34793",
   "metadata": {},
   "source": [
    "Como vemos, ambos pueden dar resultados similares, y es una cuestión de conveniencia cual utilizar. El uso es:\n",
    "\n",
    "```python\n",
    "np.arange([start,] stop[, step,], dtype=None)\n",
    "\n",
    "np.linspace(start, stop, num=50, endpoint=True, retstep=False, dtype=None)\n",
    "```\n",
    "\n",
    "Mientras que a `arange()` le decimos cuál es el paso a utilizar, a `linspace()` debemos (podemos) darle como tercer argumento el número de valores que queremos."
   ]
  },
  {
   "cell_type": "code",
   "execution_count": null,
   "id": "9a407c4f-380b-48f0-aef5-80ecc69cdfc9",
   "metadata": {},
   "outputs": [],
   "source": [
    "# Si queremos que devuelva enteros:\n",
    "np.arange(0,180.,7.8, dtype=int)"
   ]
  },
  {
   "cell_type": "code",
   "execution_count": null,
   "id": "8c4762c5-0f84-48d7-9a01-ea5798f9edf0",
   "metadata": {},
   "outputs": [],
   "source": [
    "# Pedimos que devuelva el paso también\n",
    "v1, step1 = np.linspace(0,10,20, endpoint=True, retstep=True)\n",
    "v2, step2 = np.linspace(0,10,20, endpoint=False, retstep=True)"
   ]
  },
  {
   "cell_type": "code",
   "execution_count": null,
   "id": "6cd4ec18-fd39-433b-8a7a-e2b9135cfe07",
   "metadata": {},
   "outputs": [],
   "source": [
    "print(step1)\n",
    "print(step2)"
   ]
  },
  {
   "cell_type": "code",
   "execution_count": null,
   "id": "7d4cb34d-e9e5-4b0f-899c-44081646214e",
   "metadata": {},
   "outputs": [],
   "source": [
    "v1"
   ]
  },
  {
   "cell_type": "code",
   "execution_count": null,
   "id": "b38a6bff-b92c-44c9-bfbc-f1f6707f8483",
   "metadata": {},
   "outputs": [],
   "source": [
    "v2"
   ]
  },
  {
   "cell_type": "code",
   "execution_count": null,
   "id": "7b310527-c86b-483d-a8cf-734d4037ce6b",
   "metadata": {},
   "outputs": [],
   "source": [
    "plt.plot(a2, np.sin(np.deg2rad(a2)),'o-')\n",
    "plt.show()"
   ]
  },
  {
   "cell_type": "markdown",
   "id": "3b16c59d-a89c-4a9f-a520-4b211962eb68",
   "metadata": {},
   "source": [
    "Además de valores linealmente espaciados podemos obtener valores espaciados en escala logarítmica"
   ]
  },
  {
   "cell_type": "code",
   "execution_count": null,
   "id": "00c99912-b919-4f63-a0c2-88bdb4393a54",
   "metadata": {},
   "outputs": [],
   "source": [
    "w = np.logspace(0,10,10)"
   ]
  },
  {
   "cell_type": "code",
   "execution_count": null,
   "id": "f197b4bc-7110-4e3e-8090-856cf5c17438",
   "metadata": {},
   "outputs": [],
   "source": [
    "plt.plot( w, 'o-')\n",
    "plt.show()"
   ]
  },
  {
   "cell_type": "code",
   "execution_count": null,
   "id": "7c324e23-e122-4d7b-a936-f4b802249bac",
   "metadata": {},
   "outputs": [],
   "source": [
    "w1 = np.logspace(0,2,3) # Start y Stop son los exponentes\n",
    "print(w1)"
   ]
  },
  {
   "cell_type": "code",
   "execution_count": null,
   "id": "b1fe2ebf-d7ed-4928-a30a-c857be2fd4dd",
   "metadata": {},
   "outputs": [],
   "source": [
    "w2 = np.geomspace(1,100,3) # Start y Stop son los valores\n",
    "print(w2)"
   ]
  },
  {
   "cell_type": "markdown",
   "id": "b42866ca",
   "metadata": {
    "ein.tags": "worksheet-0",
    "slideshow": {
     "slide_type": "-"
    }
   },
   "source": [
    "### Otras formas de creación\n",
    "\n",
    "Hay otras maneras de crear **numpy arrays**. Algunas, de las más comunes es cuando necesitamos crear un array con todos ceros o unos o algún valor dado"
   ]
  },
  {
   "cell_type": "code",
   "execution_count": null,
   "id": "a3e6aa2f",
   "metadata": {
    "autoscroll": false,
    "ein.hycell": false,
    "ein.tags": "worksheet-0",
    "slideshow": {
     "slide_type": "-"
    }
   },
   "outputs": [],
   "source": [
    "a = np.zeros(5)"
   ]
  },
  {
   "cell_type": "code",
   "execution_count": null,
   "id": "a7a4c434",
   "metadata": {
    "autoscroll": false,
    "ein.hycell": false,
    "ein.tags": "worksheet-0",
    "slideshow": {
     "slide_type": "-"
    }
   },
   "outputs": [],
   "source": [
    "a.dtype                         # El tipo default es float de 64 bits"
   ]
  },
  {
   "cell_type": "code",
   "execution_count": null,
   "id": "b9a97f52",
   "metadata": {
    "autoscroll": false,
    "ein.hycell": false,
    "ein.tags": "worksheet-0",
    "slideshow": {
     "slide_type": "-"
    }
   },
   "outputs": [],
   "source": [
    "print(a)"
   ]
  },
  {
   "cell_type": "code",
   "execution_count": null,
   "id": "3551c20b",
   "metadata": {
    "autoscroll": false,
    "ein.hycell": false,
    "ein.tags": "worksheet-0",
    "slideshow": {
     "slide_type": "-"
    }
   },
   "outputs": [],
   "source": [
    "i= np.zeros(5, dtype=int)"
   ]
  },
  {
   "cell_type": "code",
   "execution_count": null,
   "id": "fb35b883",
   "metadata": {
    "autoscroll": false,
    "ein.hycell": false,
    "ein.tags": "worksheet-0",
    "slideshow": {
     "slide_type": "-"
    }
   },
   "outputs": [],
   "source": [
    "print(i)"
   ]
  },
  {
   "cell_type": "code",
   "execution_count": null,
   "id": "2c6d661e",
   "metadata": {
    "autoscroll": false,
    "ein.hycell": false,
    "ein.tags": "worksheet-0",
    "slideshow": {
     "slide_type": "-"
    }
   },
   "outputs": [],
   "source": [
    "i.dtype"
   ]
  },
  {
   "cell_type": "code",
   "execution_count": null,
   "id": "1b2377fe",
   "metadata": {
    "autoscroll": false,
    "ein.hycell": false,
    "ein.tags": "worksheet-0",
    "slideshow": {
     "slide_type": "-"
    }
   },
   "outputs": [],
   "source": [
    "c= np.zeros(5,dtype=complex)\n",
    "print(c)\n",
    "print(c.dtype)"
   ]
  },
  {
   "cell_type": "markdown",
   "id": "c9f97a8c",
   "metadata": {
    "ein.tags": "worksheet-0",
    "slideshow": {
     "slide_type": "-"
    }
   },
   "source": [
    "En lugar de inicializarlo en cero podemos inicializarlo con algún valor"
   ]
  },
  {
   "cell_type": "code",
   "execution_count": null,
   "id": "a2f2733a",
   "metadata": {
    "autoscroll": false,
    "ein.hycell": false,
    "ein.tags": "worksheet-0",
    "slideshow": {
     "slide_type": "-"
    }
   },
   "outputs": [],
   "source": [
    "np.ones(5, dtype=complex)     # Algo similar pero inicializando a unos"
   ]
  },
  {
   "cell_type": "markdown",
   "id": "df14cfa9",
   "metadata": {
    "ein.tags": "worksheet-0",
    "slideshow": {
     "slide_type": "-"
    }
   },
   "source": [
    "Ya vimos que también podemos inicializarlos con valores \"equiespaciados\" con `np.arange()`, con `np.linspace()` o con `np.logspace()`"
   ]
  },
  {
   "cell_type": "code",
   "execution_count": null,
   "id": "2f7d35eb",
   "metadata": {
    "autoscroll": false,
    "ein.hycell": false,
    "ein.tags": "worksheet-0",
    "slideshow": {
     "slide_type": "-"
    }
   },
   "outputs": [],
   "source": [
    "v = np.arange(2,15,2) # Crea un array con una secuencia (similar a la función range)"
   ]
  },
  {
   "cell_type": "markdown",
   "id": "f0ec0134",
   "metadata": {
    "ein.tags": "worksheet-0",
    "slideshow": {
     "slide_type": "-"
    }
   },
   "source": [
    "Para crear *arrays* multidimensionales usamos:\n"
   ]
  },
  {
   "cell_type": "code",
   "execution_count": null,
   "id": "c65f6758",
   "metadata": {
    "autoscroll": false,
    "ein.hycell": false,
    "ein.tags": "worksheet-0",
    "slideshow": {
     "slide_type": "-"
    }
   },
   "outputs": [],
   "source": [
    "np.ones((4,5))"
   ]
  },
  {
   "cell_type": "code",
   "execution_count": null,
   "id": "1796cf09",
   "metadata": {
    "autoscroll": false,
    "ein.hycell": false,
    "ein.tags": "worksheet-0",
    "slideshow": {
     "slide_type": "-"
    }
   },
   "outputs": [],
   "source": [
    "np.ones((4,3,6))"
   ]
  },
  {
   "cell_type": "code",
   "execution_count": null,
   "id": "51d50b81",
   "metadata": {
    "autoscroll": false,
    "ein.hycell": false,
    "ein.tags": "worksheet-0",
    "slideshow": {
     "slide_type": "-"
    }
   },
   "outputs": [],
   "source": [
    "np.eye(4)"
   ]
  },
  {
   "cell_type": "code",
   "execution_count": null,
   "id": "58f88a02",
   "metadata": {
    "autoscroll": false,
    "ein.hycell": false,
    "ein.tags": "worksheet-0",
    "slideshow": {
     "slide_type": "-"
    }
   },
   "outputs": [],
   "source": [
    "np.eye(3,7)"
   ]
  },
  {
   "cell_type": "markdown",
   "id": "41475a96",
   "metadata": {
    "ein.tags": "worksheet-0",
    "slideshow": {
     "slide_type": "-"
    }
   },
   "source": [
    "En este último ejemplo hemos creado matrices con unos en la diagonal y ceros en todos los demás lugares."
   ]
  },
  {
   "cell_type": "markdown",
   "id": "3203b203",
   "metadata": {
    "editable": true,
    "ein.tags": "worksheet-0",
    "slideshow": {
     "slide_type": "-"
    },
    "tags": []
   },
   "source": [
    "## Acceso a los elementos\n",
    "\n",
    "El acceso a los elementos tiene una forma muy parecida a la de las listas (pero no exactamente igual). "
   ]
  },
  {
   "cell_type": "code",
   "execution_count": null,
   "id": "3db0ca0a",
   "metadata": {
    "autoscroll": false,
    "ein.hycell": false,
    "ein.tags": "worksheet-0",
    "slideshow": {
     "slide_type": "-"
    }
   },
   "outputs": [],
   "source": [
    "print(r1)"
   ]
  },
  {
   "cell_type": "markdown",
   "id": "de74976a",
   "metadata": {
    "ein.tags": "worksheet-0",
    "slideshow": {
     "slide_type": "-"
    }
   },
   "source": [
    "Si queremos uno de los elementos usamos la notación:"
   ]
  },
  {
   "cell_type": "code",
   "execution_count": null,
   "id": "ecb6376a",
   "metadata": {
    "autoscroll": false,
    "ein.hycell": false,
    "ein.tags": "worksheet-0",
    "slideshow": {
     "slide_type": "-"
    }
   },
   "outputs": [],
   "source": [
    "print(r1[0], r1[3], r1[-1])"
   ]
  },
  {
   "cell_type": "markdown",
   "id": "e99637fc",
   "metadata": {
    "ein.tags": "worksheet-0",
    "slideshow": {
     "slide_type": "-"
    }
   },
   "source": [
    "y para \"tajadas\" (*slices*)"
   ]
  },
  {
   "cell_type": "code",
   "execution_count": null,
   "id": "d351c451",
   "metadata": {
    "autoscroll": false,
    "ein.hycell": false,
    "ein.tags": "worksheet-0",
    "slideshow": {
     "slide_type": "-"
    }
   },
   "outputs": [],
   "source": [
    "print(r1[:3])"
   ]
  },
  {
   "cell_type": "code",
   "execution_count": null,
   "id": "3c2278e7",
   "metadata": {
    "autoscroll": false,
    "ein.hycell": false,
    "ein.tags": "worksheet-0",
    "slideshow": {
     "slide_type": "-"
    }
   },
   "outputs": [],
   "source": [
    "print(r1[-3:])"
   ]
  },
  {
   "cell_type": "code",
   "execution_count": null,
   "id": "914f1dd0",
   "metadata": {
    "autoscroll": false,
    "ein.hycell": false,
    "ein.tags": "worksheet-0",
    "slideshow": {
     "slide_type": "-"
    }
   },
   "outputs": [],
   "source": [
    "print(r1[5:7])"
   ]
  },
  {
   "cell_type": "code",
   "execution_count": null,
   "id": "fab10626",
   "metadata": {
    "autoscroll": false,
    "ein.hycell": false,
    "ein.tags": "worksheet-0",
    "slideshow": {
     "slide_type": "-"
    }
   },
   "outputs": [],
   "source": [
    "print(r1[0:8:2])"
   ]
  },
  {
   "cell_type": "markdown",
   "id": "9ee5eb65",
   "metadata": {
    "ein.tags": "worksheet-0",
    "slideshow": {
     "slide_type": "-"
    }
   },
   "source": [
    "Como con vectores unidimensionales, con arrays multidimensionales, se puede ubicar un elemento o usar *slices*:"
   ]
  },
  {
   "cell_type": "code",
   "execution_count": null,
   "id": "19789afd",
   "metadata": {
    "autoscroll": false,
    "ein.hycell": false,
    "ein.tags": "worksheet-0",
    "slideshow": {
     "slide_type": "-"
    }
   },
   "outputs": [],
   "source": [
    "X = np.arange(55).reshape((5,11))"
   ]
  },
  {
   "cell_type": "code",
   "execution_count": null,
   "id": "d4cad909",
   "metadata": {
    "autoscroll": false,
    "ein.hycell": false,
    "ein.tags": "worksheet-0",
    "slideshow": {
     "slide_type": "-"
    }
   },
   "outputs": [],
   "source": [
    "X"
   ]
  },
  {
   "cell_type": "code",
   "execution_count": null,
   "id": "35c207ff",
   "metadata": {
    "autoscroll": false,
    "ein.hycell": false,
    "ein.tags": "worksheet-0",
    "slideshow": {
     "slide_type": "-"
    }
   },
   "outputs": [],
   "source": [
    "print(\"primer y segundo elementos\", X[0,0], X[0,1])"
   ]
  },
  {
   "cell_type": "code",
   "execution_count": null,
   "id": "16e92111",
   "metadata": {
    "autoscroll": false,
    "ein.hycell": false,
    "ein.tags": "worksheet-0",
    "slideshow": {
     "slide_type": "-"
    }
   },
   "outputs": [],
   "source": [
    "print( 'Slicing parte de la segunda fila :', X[1, 2:4])\n",
    "print('Todas las filas, tercera columna :', X[:, 2])"
   ]
  },
  {
   "cell_type": "code",
   "execution_count": null,
   "id": "ef5349ad",
   "metadata": {
    "autoscroll": false,
    "ein.hycell": false,
    "ein.tags": "worksheet-0",
    "slideshow": {
     "slide_type": "-"
    }
   },
   "outputs": [],
   "source": [
    "print( 'Primera fila   :\\n', X[0], '\\nes igual a :\\n', X[0,:])"
   ]
  },
  {
   "cell_type": "code",
   "execution_count": null,
   "id": "e74f5a88",
   "metadata": {
    "autoscroll": false,
    "ein.hycell": false,
    "ein.tags": "worksheet-0",
    "slideshow": {
     "slide_type": "-"
    }
   },
   "outputs": [],
   "source": [
    "print( 'Segunda fila   :\\n', X[1], '\\nes igual a :\\n', X[1,:])"
   ]
  },
  {
   "cell_type": "code",
   "execution_count": null,
   "id": "1a85c573",
   "metadata": {
    "autoscroll": false,
    "ein.hycell": false,
    "ein.tags": "worksheet-0",
    "slideshow": {
     "slide_type": "-"
    }
   },
   "outputs": [],
   "source": [
    "print( 'Primera columna:', X[:,0])"
   ]
  },
  {
   "cell_type": "code",
   "execution_count": null,
   "id": "e112977c",
   "metadata": {
    "autoscroll": false,
    "ein.hycell": false,
    "ein.tags": "worksheet-0",
    "slideshow": {
     "slide_type": "-"
    }
   },
   "outputs": [],
   "source": [
    "print( 'Última columna : \\n', X[:,-1])"
   ]
  },
  {
   "cell_type": "code",
   "execution_count": null,
   "id": "2539d6d3",
   "metadata": {
    "autoscroll": false,
    "ein.hycell": false,
    "ein.tags": "worksheet-0",
    "slideshow": {
     "slide_type": "-"
    }
   },
   "outputs": [],
   "source": [
    "print( 'Segunda fila, elementos impares (0,2,...) : ', X[1,::2])"
   ]
  },
  {
   "cell_type": "code",
   "execution_count": null,
   "id": "8b936541",
   "metadata": {
    "autoscroll": false,
    "ein.hycell": false,
    "ein.tags": "worksheet-0",
    "slideshow": {
     "slide_type": "-"
    }
   },
   "outputs": [],
   "source": [
    "print( 'Segunda fila, todos los elementos pares : ', X[1,1::2])"
   ]
  },
  {
   "cell_type": "markdown",
   "id": "ce2d154a",
   "metadata": {
    "ein.tags": "worksheet-0",
    "slideshow": {
     "slide_type": "-"
    }
   },
   "source": [
    "Cuando el *slicing* se hace de la forma `[i:f:s]` significa que tomaremos los elementos entre `i` (inicial), hasta `f` (final, no incluido), pero tomando sólo uno de cada `s` (stride) elementos"
   ]
  },
  {
   "cell_type": "markdown",
   "id": "a9b3f297",
   "metadata": {
    "ein.tags": "worksheet-0",
    "slideshow": {
     "slide_type": "-"
    }
   },
   "source": [
    "![](figuras/numpy_indexing.png) \n",
    "\n",
    "En [Scipy Lectures at http://scipy-lectures.github.io](http://scipy-lectures.github.io) hay una descripción del acceso a arrays.\n",
    "\n",
    "  "
   ]
  },
  {
   "cell_type": "markdown",
   "id": "e1272960-0894-4f86-a4eb-a241cc8636a9",
   "metadata": {
    "editable": true,
    "slideshow": {
     "slide_type": "-"
    },
    "tags": []
   },
   "source": [
    "## Operaciones sobre arrays\n",
    "\n",
    "### Operaciones básicas\n",
    "\n",
    "Los array se pueden usar en operaciones:"
   ]
  },
  {
   "cell_type": "code",
   "execution_count": null,
   "id": "45297cfe-1797-41e0-ae49-2f51bc738255",
   "metadata": {
    "editable": true,
    "slideshow": {
     "slide_type": "-"
    },
    "tags": []
   },
   "outputs": [],
   "source": [
    "arr = np.linspace(1,10,10)+ 1"
   ]
  },
  {
   "cell_type": "code",
   "execution_count": null,
   "id": "cee241c1-9c9c-4237-af34-fdeb73305c60",
   "metadata": {
    "editable": true,
    "slideshow": {
     "slide_type": "-"
    },
    "tags": []
   },
   "outputs": [],
   "source": [
    "# Suma de una constante\n",
    "arr1 = 2* arr[::-1]              # Creamos un segundo array"
   ]
  },
  {
   "cell_type": "code",
   "execution_count": null,
   "id": "801642d7-dbdb-44b6-998f-204cdf358c47",
   "metadata": {},
   "outputs": [],
   "source": [
    "arr[::-1]"
   ]
  },
  {
   "cell_type": "code",
   "execution_count": null,
   "id": "b53e9921-10df-4b86-97c4-3be7d53f6bfc",
   "metadata": {},
   "outputs": [],
   "source": [
    "arr1"
   ]
  },
  {
   "cell_type": "code",
   "execution_count": null,
   "id": "0f25e8e6-fcab-47c5-8203-9c631c8acb50",
   "metadata": {},
   "outputs": [],
   "source": [
    "# Multiplicación y división por constantes y suma/resta de arrays\n",
    "2*arr1 - arr/2"
   ]
  },
  {
   "cell_type": "code",
   "execution_count": null,
   "id": "a7b3a6ae-12b4-4ebb-bee2-61511b7885b7",
   "metadata": {},
   "outputs": [],
   "source": [
    "# Multiplicación entre arrays\n",
    "arr * arr1"
   ]
  },
  {
   "cell_type": "code",
   "execution_count": null,
   "id": "80818267-4cc0-4252-8d33-0a9cfd005157",
   "metadata": {},
   "outputs": [],
   "source": [
    "arr / arr1"
   ]
  },
  {
   "cell_type": "markdown",
   "id": "f6bd935d-9b52-4ed6-bc21-59ab18d9d5e8",
   "metadata": {},
   "source": [
    "Como vemos, están definidas todas las operaciones por constantes y entre arrays. En operaciones con constantes, se aplican sobre cada elemento del array. En operaciones entre arrays se realizan elemento a elemento (y el número de elementos de los dos array debe ser compatible)."
   ]
  },
  {
   "cell_type": "markdown",
   "id": "67069721-3dd1-49c9-9fe3-a9a2cbe135b1",
   "metadata": {},
   "source": [
    "### Comparaciones \n",
    "\n",
    "También se pueden comparar dos arrays elemento a elemento"
   ]
  },
  {
   "cell_type": "code",
   "execution_count": null,
   "id": "7f8f0516-a96d-4455-a3b9-043c646e2d66",
   "metadata": {},
   "outputs": [],
   "source": [
    "v = np.linspace(0,19,20)\n",
    "w = np.linspace(0.5,18,20)"
   ]
  },
  {
   "cell_type": "code",
   "execution_count": null,
   "id": "0b4e47db-f7cf-4e68-a3d9-8f0d157692f3",
   "metadata": {},
   "outputs": [],
   "source": [
    "print (v)\n",
    "print (w)"
   ]
  },
  {
   "cell_type": "code",
   "execution_count": null,
   "id": "5369eea8-0322-4e56-8e20-d6d60a1c07ad",
   "metadata": {},
   "outputs": [],
   "source": [
    "# Comparación de un array con una constante\n",
    "print(v > 12)"
   ]
  },
  {
   "cell_type": "code",
   "execution_count": null,
   "id": "1af4e9dc-482f-4613-8c6f-c0e2074dae1c",
   "metadata": {},
   "outputs": [],
   "source": [
    "# Comparación de un array con otro\n",
    "print(v > w)"
   ]
  },
  {
   "cell_type": "markdown",
   "id": "c63302be-6d7e-4445-b56d-e26d9bd7893a",
   "metadata": {},
   "source": [
    "### Funciones definidas en **Numpy**\n",
    "\n",
    "Algunas de las funciones definidas en numpy se aplican a cada elemento. Por ejemplo, las funciones matemáticas:"
   ]
  },
  {
   "cell_type": "code",
   "execution_count": null,
   "id": "b31ae443-1a24-4800-91fc-2d759ce105ca",
   "metadata": {},
   "outputs": [],
   "source": [
    "np.sin(arr1)"
   ]
  },
  {
   "cell_type": "code",
   "execution_count": null,
   "id": "413c1f91-412f-4d1f-9d9b-070b35680235",
   "metadata": {},
   "outputs": [],
   "source": [
    "np.exp(-arr**2/2)"
   ]
  },
  {
   "cell_type": "markdown",
   "id": "1fa420fd",
   "metadata": {
    "editable": true,
    "ein.tags": "worksheet-0",
    "slideshow": {
     "slide_type": "-"
    },
    "tags": []
   },
   "source": [
    "-----\n",
    "\n",
    "## Ejercicios 10 (a)\n",
    "\n",
    "1. Genere arrays en 2d, cada uno de tamaño 10x10 con:\n",
    "   1. Un array con valores 1 en la \"diagonal principal\" y 0 en el resto (Matriz identidad).\n",
    "   \n",
    "   2. Un array con valores 0 en la \"diagonal principal\" y 1 en el resto.\n",
    "   \n",
    "   3. Un array con valores 1 en los bordes y 0 en el interior.\n",
    "   \n",
    "   4. Un array con números enteros consecutivos (empezando en 1) en los bordes y 0 en el interior.\n",
    "\n",
    "2. Diga qué resultado produce el siguiente código, y explíquelo\n",
    "  ```python\n",
    "  # Ejemplo propuesto por Jake VanderPlas\n",
    "  print(sum(range(5),-1))\n",
    "  from numpy import *\n",
    "  print(sum(range(5),-1))\n",
    "  ```\n",
    "\n",
    "3. Escriba una función `suma_potencias(p, n)` (utilizando arrays y **Numpy**) que calcule la operación $$s_{2} = \\sum_{k=0}^{n}k^{p}$$. \n",
    "\n",
    "4.   Usando las funciones de numpy `sign` y `maximum` definir las siguientes funciones, que acepten como argumento un array y devuelvan un array con el mismo *shape*:\n",
    "  - función de Heaviside, que vale 1 para valores positivos de su argumento y 0 para valores negativos.\n",
    "  - La función escalón, que vale 0 para valores del argumento fuera del intervalo $(-1,1)$ y 1 para argumentos en el intervalo.\n",
    "  - La función rampa, que vale 0 para valores negativos de $x$ y $x$ para valores positivos.\n",
    "\n",
    "\n",
    "-----"
   ]
  }
 ],
 "metadata": {
  "kernelspec": {
   "display_name": "Python 3 (ipykernel)",
   "language": "python",
   "name": "python3"
  },
  "language_info": {
   "codemirror_mode": {
    "name": "ipython",
    "version": 3
   },
   "file_extension": ".py",
   "mimetype": "text/x-python",
   "name": "python",
   "nbconvert_exporter": "python",
   "pygments_lexer": "ipython3",
   "version": "3.13.2"
  },
  "name": "08_1_intro_numpy.ipynb",
  "toc": {
   "base_numbering": 1,
   "nav_menu": {
    "height": "393px",
    "width": "251.667px"
   },
   "number_sections": false,
   "sideBar": true,
   "skip_h1_title": false,
   "title_cell": "Contenidos",
   "title_sidebar": "Contenidos",
   "toc_cell": false,
   "toc_position": {
    "height": "calc(100% - 180px)",
    "left": "10px",
    "top": "150px",
    "width": "341px"
   },
   "toc_section_display": true,
   "toc_window_display": false
  }
 },
 "nbformat": 4,
 "nbformat_minor": 5
}
