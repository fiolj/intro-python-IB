{
 "cells": [
  {
   "cell_type": "markdown",
   "id": "e82432a4",
   "metadata": {
    "collapsed": false,
    "ein.tags": "worksheet-0",
    "jupyter": {
     "outputs_hidden": false
    },
    "slideshow": {
     "slide_type": "-"
    }
   },
   "source": [
    "## Control de flujo\n",
    "\n",
    "### if/elif/else\n",
    "\n",
    "En todo lenguaje necesitamos controlar el flujo de una ejecución segun una condición Verdadero/Falso (booleana). *Si (condicion) es verdadero hacé (bloque A); Sino hacé (Bloque B)*. En pseudo código:\n",
    "\n",
    "```\n",
    "    Si condición 1:\n",
    "        bloque A\n",
    "    sino y condición 2:\n",
    "        bloque B\n",
    "    sino:\n",
    "        bloque C\n",
    "```\n",
    "\n",
    "y en Python es muy parecido! \n",
    "\n",
    "\n",
    "```python\n",
    "    if condición_1:\n",
    "      bloque A\n",
    "    elif condicion_2:\n",
    "      bloque B\n",
    "    elif condicion_3:\n",
    "      bloque C\n",
    "    else:\n",
    "      Bloque final\n",
    "```\n",
    "\n",
    "En un `if`, la conversión a tipo *boolean* es implícita. El tipo `None` (nulo), el número `0` (entero, real o complejo),  cualquier secuencia (lista, tupla, string, conjunto o diccionario) vacía siempre evalua a ``False``. Cualquier otro objeto evalua a ``True``.\n",
    "\n",
    "Podemos tener multiples condiciones. Se ejecutará el primer bloque cuya condición sea verdadera, o en su defecto el bloque `else`. Esto es equivalente a la sentencia `switch` de otros lenguajes."
   ]
  },
  {
   "cell_type": "code",
   "execution_count": null,
   "id": "3369b0ad",
   "metadata": {
    "autoscroll": false,
    "collapsed": false,
    "ein.hycell": false,
    "ein.tags": "worksheet-0",
    "jupyter": {
     "outputs_hidden": false
    },
    "slideshow": {
     "slide_type": "-"
    }
   },
   "outputs": [],
   "source": [
    "def mensaje(Nota):\n",
    "    if Nota >= 8:\n",
    "        print (\"Aprobó cómodo, felicitaciones!\")\n",
    "    elif 6 <= Nota < 8:\n",
    "        print (\"Bueno, al menos aprobó!\")\n",
    "    elif 4 <= Nota < 6 :\n",
    "        print (\"Bastante bien, pero no le alcanzó\")\n",
    "    else:\n",
    "        print(\"Siga participando!\")"
   ]
  },
  {
   "cell_type": "code",
   "execution_count": null,
   "id": "4ebd546c-4a9e-4761-b183-d06aa01a7c3e",
   "metadata": {},
   "outputs": [],
   "source": [
    "mensaje(7.3)"
   ]
  },
  {
   "cell_type": "code",
   "execution_count": null,
   "id": "09f0481a-a3e9-47f1-a293-0e34270ab00f",
   "metadata": {},
   "outputs": [],
   "source": [
    "mensaje(3)"
   ]
  },
  {
   "cell_type": "markdown",
   "id": "43a03af1",
   "metadata": {
    "collapsed": false,
    "ein.tags": "worksheet-0",
    "jupyter": {
     "outputs_hidden": false
    },
    "slideshow": {
     "slide_type": "-"
    }
   },
   "source": [
    "### Iteraciones\n",
    "\n",
    "#### Sentencia for\n",
    "\n",
    "Otro elemento de control es el que permite *iterar* sobre una secuencia (o *\"iterador\"*). Obtener cada elemento para hacer algo. En Python se logra con la sentencia `for`. En lugar de iterar sobre una condición aritmética hasta que se cumpla una condición (como en C o en Fortran) en Python la sentencia `for` itera sobre los ítems de una secuencia en forma ordenada"
   ]
  },
  {
   "cell_type": "code",
   "execution_count": null,
   "id": "d604e9f0",
   "metadata": {
    "autoscroll": false,
    "collapsed": false,
    "ein.hycell": false,
    "ein.tags": "worksheet-0",
    "jupyter": {
     "outputs_hidden": false
    },
    "slideshow": {
     "slide_type": "-"
    }
   },
   "outputs": [],
   "source": [
    "for elemento in range(10):\n",
    "    print(elemento, end=', ')"
   ]
  },
  {
   "cell_type": "markdown",
   "id": "60bd6ca6",
   "metadata": {
    "collapsed": false,
    "ein.tags": "worksheet-0",
    "jupyter": {
     "outputs_hidden": false
    },
    "slideshow": {
     "slide_type": "-"
    }
   },
   "source": [
    "Veamos otro ejemplo, iterando sobre una lista:"
   ]
  },
  {
   "cell_type": "code",
   "execution_count": null,
   "id": "46ea72a7",
   "metadata": {
    "collapsed": false,
    "jupyter": {
     "outputs_hidden": false
    }
   },
   "outputs": [],
   "source": [
    "Lista = ['auto', 'casa', \"perro\", \"gato\", \"árbol\", \"lechuza\", \"banana\"]\n",
    "for L in Lista:\n",
    "  print(L)"
   ]
  },
  {
   "cell_type": "markdown",
   "id": "4df49328-85f5-495e-800c-4d09948e591d",
   "metadata": {
    "collapsed": false,
    "jupyter": {
     "outputs_hidden": false
    }
   },
   "source": [
    "La misma sintaxis se utiliza con otros tipos que se pueden iterar (*strings*, tuplas, conjuntos):"
   ]
  },
  {
   "cell_type": "code",
   "execution_count": null,
   "id": "5205eeb7-9661-4b37-bc55-7a7fece98ae2",
   "metadata": {
    "collapsed": false,
    "jupyter": {
     "outputs_hidden": false
    }
   },
   "outputs": [],
   "source": [
    "conj = set(Lista)"
   ]
  },
  {
   "cell_type": "code",
   "execution_count": null,
   "id": "8d2f26bd-e072-4141-a013-27a29acc3ba1",
   "metadata": {
    "collapsed": false,
    "jupyter": {
     "outputs_hidden": false
    }
   },
   "outputs": [],
   "source": [
    "conj"
   ]
  },
  {
   "cell_type": "code",
   "execution_count": null,
   "id": "99762c01-9e88-4b35-a65d-b52fe8433e8e",
   "metadata": {
    "collapsed": false,
    "jupyter": {
     "outputs_hidden": false
    }
   },
   "outputs": [],
   "source": [
    "for c in conj:\n",
    "  print(c)"
   ]
  },
  {
   "cell_type": "markdown",
   "id": "617b91df",
   "metadata": {
    "collapsed": false,
    "jupyter": {
     "outputs_hidden": false
    }
   },
   "source": [
    "En estos ejemplos, en cada iteración `L` toma sucesivamente los valores de `Lista`. La primera vez es `L='auto'`, la segunda `L='casa'`, ...\n",
    "El cuerpo del *loop* `for`, como todos los bloques en **Python** está definido por la **indentación**. La última línea está fuera del loop y se ejecuta al terminar todas las iteraciones del `for`."
   ]
  },
  {
   "cell_type": "code",
   "execution_count": null,
   "id": "584f5543",
   "metadata": {
    "collapsed": false,
    "jupyter": {
     "outputs_hidden": false
    }
   },
   "outputs": [],
   "source": [
    "for L in Lista:\n",
    "  print(f'En la palabra {L} hay {L.count(\"a\")} letras \"a\"')\n",
    "\n",
    "print(f'\\nLa palabra más larga es {max(Lista, key=len)}')\n",
    "print(f'\\nLa última palabra es {max(Lista)}')"
   ]
  },
  {
   "cell_type": "markdown",
   "id": "38c463e1-e3cb-4a02-8f10-a8acc8f5f21b",
   "metadata": {
    "collapsed": false,
    "jupyter": {
     "outputs_hidden": false
    }
   },
   "source": [
    "\n",
    "--------\n",
    "\n",
    "**Nota:** Acá utilizamos la función `max()` con un argumento requerido (`Lista`) que es la entidad sobre la que se va a encontrar el mayor valor. Notar que el mayor valor depende de como se defina la comparación entre dos elementos. La función `max()` permite un argumento opcional (`key`) que debe ser una \"función\" que se aplicará a cada elemento y luego se compararán los resultados de la aplicación de la función a los elementos. En este caso, a cada palabra se le calcula la longitud y esto es lo que se compara.\n",
    "\n",
    "\n",
    "--------\n"
   ]
  },
  {
   "cell_type": "markdown",
   "id": "34e660ae",
   "metadata": {
    "collapsed": false,
    "jupyter": {
     "outputs_hidden": false
    }
   },
   "source": [
    "Otro ejemplo:"
   ]
  },
  {
   "cell_type": "code",
   "execution_count": null,
   "id": "2b9214ce",
   "metadata": {
    "collapsed": false,
    "jupyter": {
     "outputs_hidden": false
    }
   },
   "outputs": [],
   "source": [
    "suma = 0\n",
    "for elemento in range(11):\n",
    "  suma += elemento     # suma = suma + elemento\n",
    "  print(\"x={},  suma parcial={}\".format(elemento, suma))\n",
    "print ('Suma total =', suma)"
   ]
  },
  {
   "cell_type": "markdown",
   "id": "429e8a56",
   "metadata": {
    "collapsed": false,
    "ein.tags": "worksheet-0",
    "jupyter": {
     "outputs_hidden": false
    },
    "slideshow": {
     "slide_type": "-"
    }
   },
   "source": [
    "Notar que utilizamos el operador asignación de suma: `+=`.\n",
    "\n",
    "```python\n",
    "suma += elemento\n",
    "```\n",
    "es equivalente a:\n",
    "```python\n",
    "suma = suma + elemento\n",
    "```\n",
    "que corresponde a realizar la suma de la derecha, y el resultado asignarlo a la variable de la izquierda."
   ]
  },
  {
   "cell_type": "markdown",
   "id": "ee58ae21",
   "metadata": {
    "collapsed": false,
    "ein.tags": "worksheet-0",
    "jupyter": {
     "outputs_hidden": false
    },
    "slideshow": {
     "slide_type": "-"
    }
   },
   "source": [
    "Por supuesto, para obtener la suma anterior podemos simplemente usar las funciones de python:"
   ]
  },
  {
   "cell_type": "code",
   "execution_count": null,
   "id": "0aa9d90e",
   "metadata": {
    "autoscroll": false,
    "collapsed": false,
    "ein.hycell": false,
    "ein.tags": "worksheet-0",
    "jupyter": {
     "outputs_hidden": false
    },
    "slideshow": {
     "slide_type": "-"
    }
   },
   "outputs": [],
   "source": [
    "print (sum(range(11))) # El ejemplo anterior puede escribirse usando sum y range"
   ]
  },
  {
   "cell_type": "markdown",
   "id": "ef0cc2a8",
   "metadata": {
    "collapsed": false,
    "ein.tags": "worksheet-0",
    "jupyter": {
     "outputs_hidden": false
    },
    "slideshow": {
     "slide_type": "-"
    }
   },
   "source": [
    "#### Loops:  `enumerate`, `continue`, `break`, `else`\n",
    "\n",
    "\n",
    "Veamos otras características del bloque `for`. "
   ]
  },
  {
   "cell_type": "code",
   "execution_count": null,
   "id": "568cbd14",
   "metadata": {
    "autoscroll": false,
    "collapsed": false,
    "ein.hycell": false,
    "ein.tags": "worksheet-0",
    "jupyter": {
     "outputs_hidden": false
    },
    "slideshow": {
     "slide_type": "-"
    }
   },
   "outputs": [],
   "source": [
    "suma = 0\n",
    "cuadrados = []\n",
    "for i,elem in enumerate(range(3,30)):\n",
    "  if (elem % 2) != 0:       # Si resto (%) es diferente de cero -> Impares\n",
    "    continue\n",
    "  suma += elem**2\n",
    "  cuadrados.append(elem**2)\n",
    "  print (i, elem, elem**2, suma)   # Imprimimos el índice y el elem al cuadrado\n",
    "print (\"sumatoria de números pares al cuadrado entre 3 y 29:\", suma)\n",
    "print ('cuadrados= ', cuadrados)"
   ]
  },
  {
   "cell_type": "markdown",
   "id": "816b8d73",
   "metadata": {
    "collapsed": false,
    "ein.tags": "worksheet-0",
    "jupyter": {
     "outputs_hidden": false
    },
    "slideshow": {
     "slide_type": "-"
    }
   },
   "source": [
    "**Puntos a notar:**\n",
    "\n",
    " - Inicializamos una variable entera en cero y una lista vacía\n",
    " - `range(3,30)` nos da consecutivamente los números entre 3 y 29 en cada iteración.\n",
    " - `enumerate` nos permite iterar sobre algo, agregando un contador automático.\n",
    " - La línea condicional `if elem % 2:` es equivalente a `if (elem % 2) != 0:` y es verdadero si `elem` no es divisible por 2 (número impar)\n",
    " - La sentencia `continue` hace que se omita la ejecución del resto del bloque por esta iteración\n",
    " - El método `append` agrega el elemento a la lista\n",
    "\n",
    "Antes de seguir veamos otro ejemplo de uso de `enumerate`. Consideremos una iteración sobre una lista como haríamos normalmente en otros lenguajes:"
   ]
  },
  {
   "cell_type": "code",
   "execution_count": null,
   "id": "4953f550",
   "metadata": {
    "autoscroll": false,
    "collapsed": false,
    "ein.hycell": false,
    "ein.tags": "worksheet-0",
    "jupyter": {
     "outputs_hidden": false
    },
    "slideshow": {
     "slide_type": "-"
    }
   },
   "outputs": [],
   "source": [
    "L = \"I've had a perfectly wonderful evening.  But this wasn't it.\".split()"
   ]
  },
  {
   "cell_type": "code",
   "execution_count": null,
   "id": "bf77e762",
   "metadata": {
    "autoscroll": false,
    "collapsed": false,
    "ein.hycell": false,
    "ein.tags": "worksheet-0",
    "jupyter": {
     "outputs_hidden": false
    },
    "slideshow": {
     "slide_type": "-"
    }
   },
   "outputs": [],
   "source": [
    "L"
   ]
  },
  {
   "cell_type": "code",
   "execution_count": null,
   "id": "f6b9a00b",
   "metadata": {
    "autoscroll": false,
    "collapsed": false,
    "ein.hycell": false,
    "ein.tags": "worksheet-0",
    "jupyter": {
     "outputs_hidden": false
    },
    "slideshow": {
     "slide_type": "-"
    }
   },
   "outputs": [],
   "source": [
    "# En otros lenguajes...\n",
    "for j in range(len(L)):\n",
    "  print(f'Índice: {j} -> {L[j]} ({len(L[j])} caracteres)')"
   ]
  },
  {
   "cell_type": "code",
   "execution_count": null,
   "id": "126794b6-8b98-42e6-8232-2937b81c26ad",
   "metadata": {
    "collapsed": false,
    "jupyter": {
     "outputs_hidden": false
    }
   },
   "outputs": [],
   "source": [
    "# En otros lenguajes...\n",
    "for j in range(len(L)):\n",
    "  print(f'La palabra \"{L[j]}\" tiene {len(L[j])} caracteres')\n"
   ]
  },
  {
   "cell_type": "markdown",
   "id": "49d603fe-96e2-4e97-b048-1ea917bb4e40",
   "metadata": {
    "collapsed": false,
    "jupyter": {
     "outputs_hidden": false
    }
   },
   "source": [
    "En python:"
   ]
  },
  {
   "cell_type": "code",
   "execution_count": null,
   "id": "b2d7a48c-d32a-4549-9fd7-11cff19eee93",
   "metadata": {
    "collapsed": false,
    "jupyter": {
     "outputs_hidden": false
    }
   },
   "outputs": [],
   "source": [
    "for pal in L:\n",
    "  print(f'La palabra \"{pal}\" tiene {len(pal)} caracteres')\n"
   ]
  },
  {
   "cell_type": "markdown",
   "id": "c7a1fa80",
   "metadata": {
    "collapsed": false,
    "ein.tags": "worksheet-0",
    "jupyter": {
     "outputs_hidden": false
    },
    "slideshow": {
     "slide_type": "-"
    }
   },
   "source": [
    "Hay ocasiones en que necesitamos conocer el índice. La solución de otros lenguajes nos lo provee (nos obliga a proveerlo). Python ofrece la función `enumerate()` que agrega un contador automático "
   ]
  },
  {
   "cell_type": "code",
   "execution_count": null,
   "id": "aff1f34e",
   "metadata": {
    "autoscroll": false,
    "collapsed": false,
    "ein.hycell": false,
    "ein.tags": "worksheet-0",
    "jupyter": {
     "outputs_hidden": false
    },
    "slideshow": {
     "slide_type": "-"
    }
   },
   "outputs": [],
   "source": [
    "for j, elem in enumerate(L):\n",
    "  print(f'Índice: {j} -> {elem} ({len(elem)} caracteres)')"
   ]
  },
  {
   "cell_type": "markdown",
   "id": "a808faec",
   "metadata": {
    "collapsed": false,
    "ein.tags": "worksheet-0",
    "jupyter": {
     "outputs_hidden": false
    },
    "slideshow": {
     "slide_type": "slide"
    }
   },
   "source": [
    "Veamos otro ejemplo, que puede encontrarse en la [documentación oficial](https://docs.python.org/3/tutorial/controlflow.html#break-and-continue-statements-and-else-clauses-on-loops):"
   ]
  },
  {
   "cell_type": "code",
   "execution_count": null,
   "id": "92265c34",
   "metadata": {
    "autoscroll": false,
    "collapsed": false,
    "ein.hycell": false,
    "ein.tags": "worksheet-0",
    "jupyter": {
     "outputs_hidden": false
    },
    "slideshow": {
     "slide_type": "-"
    }
   },
   "outputs": [],
   "source": [
    "for n in range(2, 20):\n",
    "  for x in range(2, n):\n",
    "    if n % x == 0:\n",
    "      print( f'{n:2d} = {x} x {n//x}')\n",
    "      break\n",
    "  else:\n",
    "     # Salió sin encontrar un factor, entonces ...\n",
    "     print('{:2d} es un número primo'.format(n))\n"
   ]
  },
  {
   "cell_type": "markdown",
   "id": "4ce23d2a",
   "metadata": {
    "collapsed": false,
    "ein.tags": "worksheet-0",
    "jupyter": {
     "outputs_hidden": false
    },
    "slideshow": {
     "slide_type": "-"
    }
   },
   "source": [
    "**Puntos a notar:**\n",
    "\n",
    "- Acá estamos usando dos *loops* anidados. Uno recorre `n` entre 2 y 9, y el otro `x` entre 2 y `n`.\n",
    "- La comparación `if n % x == 0:` chequea si `x` es un divisor de `n`\n",
    "- La sentencia `break` interrumpe el *loop* interior (sobre `x`)\n",
    "- Notar la alineación de la sentencia `else`. No está referida a `if` sino a `for`. Es opcional y se ejecuta cuando el loop se termina normalmente (sin `break`)\n"
   ]
  },
  {
   "cell_type": "markdown",
   "id": "9d1295a2",
   "metadata": {
    "collapsed": false,
    "ein.tags": "worksheet-0",
    "jupyter": {
     "outputs_hidden": false
    },
    "slideshow": {
     "slide_type": "-"
    }
   },
   "source": [
    "#### While\n",
    "\n",
    "Otra sentencia de control es *while*: que permite iterar mientras se cumple una condición. El siguiente ejemplo imprime la serie de Fibonacci (en la cuál cada término es la suma de los dos anteriores)"
   ]
  },
  {
   "cell_type": "code",
   "execution_count": null,
   "id": "cc90aaf7",
   "metadata": {
    "autoscroll": false,
    "collapsed": false,
    "ein.hycell": false,
    "ein.tags": "worksheet-0",
    "jupyter": {
     "outputs_hidden": false
    },
    "slideshow": {
     "slide_type": "-"
    }
   },
   "outputs": [],
   "source": [
    "a, b = 0, 1\n",
    "while b < 5000:\n",
    "  a, b = b, a+b\n",
    "  print (b, end=' ')"
   ]
  },
  {
   "cell_type": "code",
   "execution_count": null,
   "id": "9c6250a5",
   "metadata": {
    "autoscroll": false,
    "collapsed": false,
    "ein.hycell": false,
    "ein.tags": "worksheet-0",
    "jupyter": {
     "outputs_hidden": false
    },
    "slideshow": {
     "slide_type": "-"
    }
   },
   "outputs": [],
   "source": [
    "a, b = 0, 1\n",
    "while b < 5000:\n",
    "  a, b = b, a+b\n",
    "  if b == 8:\n",
    "    continue\n",
    "  print (b, end=' ')\n"
   ]
  },
  {
   "cell_type": "markdown",
   "id": "ae571914-1cf4-4918-b592-37cf9ccfe73c",
   "metadata": {},
   "source": [
    "### Múltiples condiciones\n",
    "\n",
    "Se pueden combinar condiciones, y utilizar en los elementos de control mediante el uso de las palabras `and` y `or`. Por ejemplo:"
   ]
  },
  {
   "cell_type": "code",
   "execution_count": null,
   "id": "0fc36da3-73d1-4ad3-8da9-3c363c491bee",
   "metadata": {},
   "outputs": [],
   "source": [
    "a=3"
   ]
  },
  {
   "cell_type": "code",
   "execution_count": null,
   "id": "eb864e07-59da-4a74-b013-9b94be170782",
   "metadata": {},
   "outputs": [],
   "source": [
    "1 < a < 4"
   ]
  },
  {
   "cell_type": "code",
   "execution_count": null,
   "id": "1961b69f-6b53-47a1-9f61-79a9cdd69854",
   "metadata": {},
   "outputs": [],
   "source": [
    "a > 2 or a < 1"
   ]
  },
  {
   "cell_type": "code",
   "execution_count": null,
   "id": "d744c5e9-16fe-4d14-bafe-fe50d20b22d9",
   "metadata": {},
   "outputs": [],
   "source": [
    "a < 1 or a > 5"
   ]
  },
  {
   "cell_type": "code",
   "execution_count": null,
   "id": "99bd7dcc-05ec-4a2e-9808-8a87bad2892d",
   "metadata": {},
   "outputs": [],
   "source": [
    "a < 5 and a > 4  # Los paréntesis son opcionales"
   ]
  },
  {
   "cell_type": "code",
   "execution_count": null,
   "id": "8f442522-9561-44d8-906d-fb4e35d764e5",
   "metadata": {},
   "outputs": [],
   "source": [
    "(a < 5) and (a > 4)  # Los paréntesis son opcionales"
   ]
  },
  {
   "cell_type": "code",
   "execution_count": null,
   "id": "d72b37b6-96d3-4046-82d4-c50ce22c8fe9",
   "metadata": {},
   "outputs": [],
   "source": [
    "((a < 5) and (a > 4)) or (a %2 ==1)"
   ]
  },
  {
   "cell_type": "markdown",
   "id": "e658c912",
   "metadata": {
    "collapsed": false,
    "editable": true,
    "jupyter": {
     "outputs_hidden": false
    },
    "slideshow": {
     "slide_type": ""
    },
    "tags": []
   },
   "source": [
    "\n",
    "--------\n",
    "\n",
    "\n",
    "## Ejercicios 03 (b)\n",
    "\n",
    "\n",
    "\n",
    "7. De  los primeros 100 números naturales imprimir aquellos que no son divisibles por ninguno de: 2, 3, 5 o 7.\n",
    "\n",
    "2. Usando estructuras de control, calcule el valor de la suma:\n",
    "   $$ s_{1} = \\frac{1}{2} \\left(\\sum_{k=1}^{100}k^{-1} \\right)$$\n",
    "   para los casos:\n",
    "\n",
    "    1. Incluyendo todos los valores de `k`\n",
    "    2. Incluyendo únicamente los valores pares de `k`.\n",
    "\n",
    "\n",
    "3. Escriba una función que estime la suma\n",
    "$$s_{2} = \\sum_{k=1}^{\\infty} \\frac{(-1)^{k} (k+1)}{2 k^{3} + k^{2}}$$\n",
    "La función toma como argumentos un error relativo $\\epsilon$ deseado y devuelve el valor de la suma y el error relativo estimado. Pruebe su función para un valor $\\epsilon=10^{-5}$\n",
    "\n",
    "4. Escriba una función que tome como argumento un párrafo de texto y devuelva un string con el párrafo en un \"cartel\" de un cierto ancho:\n",
    "   ```python\n",
    "   cartelizar(parrafo, ancho)\n",
    "   ```\n",
    "   \n",
    "   Por ejemplo, para el texto:\n",
    "\n",
    "   ```python\n",
    "   s = \"Ullam vel totam cum neque exercitationem ut. Quae omnis rerum sit reprehenderit accusamus. Molestiae molestiae sit totam sint. Neque pariatur temporibus ut minima accusantium. Ad perferendis natus nisi dolor. Et sint maiores exercitationem reiciendis ut ab et.\"\n",
    "   \n",
    "   sout = cartelizar(s, 60)\n",
    "   ```\n",
    "\n",
    "   debe devolver el *string*:\n",
    "\n",
    "   ```python \n",
    "   sout = '* ******************************************************** *\\n* Ullam vel totam cum neque exercitationem ut. Quae omnis  *\\n*  rerum sit reprehenderit accusamus. Molestiae molestiae  *\\n*   sit totam sint. Neque pariatur temporibus ut minima    *\\n*  accusantium. Ad perferendis natus nisi dolor. Et sint   *\\n* ******************************************************** *'\n",
    "   ```\n",
    "   que al imprimirlo se verá:\n",
    "\n",
    "   ```python \n",
    "   print(sout)\n",
    "   ```\n",
    "\n",
    "   ```\n",
    "\t* ******************************************************** *\n",
    "\t* Ullam vel totam cum neque exercitationem ut. Quae omnis  *\n",
    "\t*  rerum sit reprehenderit accusamus. Molestiae molestiae  *\n",
    "\t*   sit totam sint. Neque pariatur temporibus ut minima    *\n",
    "\t*  accusantium. Ad perferendis natus nisi dolor. Et sint   *\n",
    "\t* ******************************************************** *\n",
    "\n",
    "   ```\n",
    "\n",
    "6. En 1949, D. R. Kaprekar, un matemático de la India especializado en matemática recreacional, describió un algoritmo que consiste en:\n",
    "   1. Tomar un número de cuatro cifras\n",
    "   2. Reacomodar las cifras para obtener el mayor número posible\n",
    "   3. Obtener reacomodando las cifras también el menor posible\n",
    "   4. Restarlos\n",
    "   5. GOTO 1\n",
    "   \n",
    "   Este algoritmo tiene un \"punto fijo\" igual a **6174** y es al que el algoritmo llega si se inicia con un número que no tiene las cifras repetidas. Si alguna cifra es repetida el punto fijo puede ser el trivial, igual a cero.\n",
    "   Escribir una función `rutina_kaprekar(numero)` que tome un número de cuatro cifras y devuelva el punto fijo y el número de números necesarios hasta alcanzarlo.\n",
    "  \n",
    "   Por ejemplo: Para el número 1392, la secuencia es: \n",
    "  \n",
    "     1392 -> 8082 -> 8532 -> 6174 -> 6174 -> ...\n",
    "    \n",
    "   por lo que tendremos al aplicar la función:\n",
    "\n",
    "   ```python\n",
    "      rutina_kaprekar(1392)\n",
    "   ```\n",
    "\n",
    "   ```\n",
    "      6174, 4\n",
    "   ```\n",
    "\n",
    "\n",
    "------\n",
    "\n",
    "> **Ayuda:** Tenga en cuenta que si un número tiene menos de cuatro cifras debe agregarle ceros. Por ejemplo el número `978` debe entenderse como `0978` por lo que el mayor número que puede escribirse con estas cifras es `9870`.\n",
    "\n",
    "------\n",
    "\n",
    "---------\n",
    "\n",
    "."
   ]
  }
 ],
 "metadata": {
  "kernelspec": {
   "display_name": "Python 3 (ipykernel)",
   "language": "python",
   "name": "python3"
  },
  "language_info": {
   "codemirror_mode": {
    "name": "ipython",
    "version": 3
   },
   "file_extension": ".py",
   "mimetype": "text/x-python",
   "name": "python",
   "nbconvert_exporter": "python",
   "pygments_lexer": "ipython3",
   "version": "3.13.2"
  },
  "name": "03_1_tipos_control.ipynb",
  "toc": {
   "base_numbering": 1,
   "nav_menu": {
    "height": "364.1px",
    "width": "251.333px"
   },
   "number_sections": true,
   "sideBar": true,
   "skip_h1_title": true,
   "title_cell": "Contenidos",
   "title_sidebar": "Contenidos",
   "toc_cell": false,
   "toc_position": null,
   "toc_section_display": true,
   "toc_window_display": false
  }
 },
 "nbformat": 4,
 "nbformat_minor": 5
}
