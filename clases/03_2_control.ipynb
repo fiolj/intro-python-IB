{
 "cells": [
  {
   "cell_type": "markdown",
   "id": "e82432a4",
   "metadata": {
    "collapsed": false,
    "ein.tags": "worksheet-0",
    "jupyter": {
     "outputs_hidden": false
    },
    "slideshow": {
     "slide_type": "-"
    }
   },
   "source": [
    "## Control de flujo\n",
    "\n",
    "### if/elif/else\n",
    "\n",
    "En todo lenguaje necesitamos controlar el flujo de una ejecución segun una condición Verdadero/Falso (booleana). *Si (condicion) es verdadero hacé (bloque A); Sino hacé (Bloque B)*. En pseudo código:\n",
    "\n",
    "```\n",
    "    Si condición 1:\n",
    "        bloque A\n",
    "    sino y condición 2:\n",
    "        bloque B\n",
    "    sino:\n",
    "        bloque C\n",
    "```\n",
    "\n",
    "y en Python es muy parecido! \n",
    "\n",
    "\n",
    "```python\n",
    "    if condición_1:\n",
    "      bloque A\n",
    "    elif condicion_2:\n",
    "      bloque B\n",
    "    elif condicion_3:\n",
    "      bloque C\n",
    "    else:\n",
    "      Bloque final\n",
    "```\n",
    "\n",
    "En un `if`, la conversión a tipo *boolean* es implícita. El tipo `None` (nulo), el número `0` (entero, real o complejo),  cualquier secuencia (lista, tupla, string, conjunto o diccionario) vacía siempre evalua a ``False``. Cualquier otro objeto evalua a ``True``.\n",
    "\n",
    "Podemos tener multiples condiciones. Se ejecutará el primer bloque cuya condición sea verdadera, o en su defecto el bloque `else`. Esto es equivalente a la sentencia `switch` de otros lenguajes."
   ]
  },
  {
   "cell_type": "code",
   "execution_count": 2,
   "id": "3369b0ad",
   "metadata": {
    "autoscroll": false,
    "collapsed": false,
    "ein.hycell": false,
    "ein.tags": "worksheet-0",
    "jupyter": {
     "outputs_hidden": false
    },
    "slideshow": {
     "slide_type": "-"
    }
   },
   "outputs": [],
   "source": [
    "def mensaje(Nota):\n",
    "    if Nota >= 8:\n",
    "        print (\"Aprobó cómodo, felicitaciones!\")\n",
    "    elif 6 <= Nota < 8:\n",
    "        print (\"Bueno, al menos aprobó!\")\n",
    "    elif 4 <= Nota < 6 :\n",
    "        print (\"Bastante bien, pero no le alcanzó\")\n",
    "    else:\n",
    "        print(\"Siga participando!\")"
   ]
  },
  {
   "cell_type": "code",
   "execution_count": 3,
   "id": "4ebd546c-4a9e-4761-b183-d06aa01a7c3e",
   "metadata": {},
   "outputs": [
    {
     "name": "stdout",
     "output_type": "stream",
     "text": [
      "Bueno, al menos aprobó!\n"
     ]
    }
   ],
   "source": [
    "mensaje(7)"
   ]
  },
  {
   "cell_type": "code",
   "execution_count": 4,
   "id": "09f0481a-a3e9-47f1-a293-0e34270ab00f",
   "metadata": {},
   "outputs": [
    {
     "name": "stdout",
     "output_type": "stream",
     "text": [
      "Siga participando!\n"
     ]
    }
   ],
   "source": [
    "mensaje(3)"
   ]
  },
  {
   "cell_type": "markdown",
   "id": "43a03af1",
   "metadata": {
    "collapsed": false,
    "ein.tags": "worksheet-0",
    "jupyter": {
     "outputs_hidden": false
    },
    "slideshow": {
     "slide_type": "-"
    }
   },
   "source": [
    "### Iteraciones\n",
    "\n",
    "#### Sentencia for\n",
    "\n",
    "Otro elemento de control es el que permite *iterar* sobre una secuencia (o *\"iterador\"*). Obtener cada elemento para hacer algo. En Python se logra con la sentencia `for`. En lugar de iterar sobre una condición aritmética hasta que se cumpla una condición (como en C o en Fortran) en Python la sentencia `for` itera sobre los ítems de una secuencia en forma ordenada"
   ]
  },
  {
   "cell_type": "code",
   "execution_count": 5,
   "id": "d604e9f0",
   "metadata": {
    "autoscroll": false,
    "collapsed": false,
    "ein.hycell": false,
    "ein.tags": "worksheet-0",
    "jupyter": {
     "outputs_hidden": false
    },
    "slideshow": {
     "slide_type": "-"
    }
   },
   "outputs": [
    {
     "name": "stdout",
     "output_type": "stream",
     "text": [
      "0, 1, 2, 3, 4, 5, 6, 7, 8, 9, "
     ]
    }
   ],
   "source": [
    "for elemento in range(10):\n",
    "    print(elemento, end=', ')\n"
   ]
  },
  {
   "cell_type": "markdown",
   "id": "60bd6ca6",
   "metadata": {
    "collapsed": false,
    "ein.tags": "worksheet-0",
    "jupyter": {
     "outputs_hidden": false
    },
    "slideshow": {
     "slide_type": "-"
    }
   },
   "source": [
    "Veamos otro ejemplo, iterando sobre una lista:"
   ]
  },
  {
   "cell_type": "code",
   "execution_count": 6,
   "id": "46ea72a7",
   "metadata": {
    "collapsed": false,
    "jupyter": {
     "outputs_hidden": false
    }
   },
   "outputs": [
    {
     "name": "stdout",
     "output_type": "stream",
     "text": [
      "auto\n",
      "casa\n",
      "perro\n",
      "gato\n",
      "árbol\n",
      "lechuza\n",
      "banana\n"
     ]
    }
   ],
   "source": [
    "Lista = ['auto', 'casa', \"perro\", \"gato\", \"árbol\", \"lechuza\", \"banana\"]\n",
    "for L in Lista:\n",
    "  print(L)"
   ]
  },
  {
   "cell_type": "markdown",
   "id": "4df49328-85f5-495e-800c-4d09948e591d",
   "metadata": {
    "collapsed": false,
    "jupyter": {
     "outputs_hidden": false
    }
   },
   "source": [
    "La misma sintaxis se utiliza con otros tipos que se pueden iterar (*strings*, tuplas, conjuntos):"
   ]
  },
  {
   "cell_type": "code",
   "execution_count": 7,
   "id": "5205eeb7-9661-4b37-bc55-7a7fece98ae2",
   "metadata": {
    "collapsed": false,
    "jupyter": {
     "outputs_hidden": false
    }
   },
   "outputs": [],
   "source": [
    "conj = set(Lista)"
   ]
  },
  {
   "cell_type": "code",
   "execution_count": 8,
   "id": "8d2f26bd-e072-4141-a013-27a29acc3ba1",
   "metadata": {
    "collapsed": false,
    "jupyter": {
     "outputs_hidden": false
    }
   },
   "outputs": [
    {
     "data": {
      "text/plain": [
       "{'auto', 'banana', 'casa', 'gato', 'lechuza', 'perro', 'árbol'}"
      ]
     },
     "execution_count": 8,
     "metadata": {},
     "output_type": "execute_result"
    }
   ],
   "source": [
    "conj"
   ]
  },
  {
   "cell_type": "code",
   "execution_count": 9,
   "id": "99762c01-9e88-4b35-a65d-b52fe8433e8e",
   "metadata": {
    "collapsed": false,
    "jupyter": {
     "outputs_hidden": false
    }
   },
   "outputs": [
    {
     "name": "stdout",
     "output_type": "stream",
     "text": [
      "auto\n",
      "árbol\n",
      "perro\n",
      "lechuza\n",
      "casa\n",
      "gato\n",
      "banana\n"
     ]
    }
   ],
   "source": [
    "for c in conj:\n",
    "  print(c)"
   ]
  },
  {
   "cell_type": "markdown",
   "id": "617b91df",
   "metadata": {
    "collapsed": false,
    "jupyter": {
     "outputs_hidden": false
    }
   },
   "source": [
    "En estos ejemplos, en cada iteración `L` toma sucesivamente los valores de `Lista`. La primera vez es `L='auto'`, la segunda `L='casa'`, ...\n",
    "El cuerpo del *loop* `for`, como todos los bloques en **Python** está definido por la **indentación**. La última línea está fuera del loop y se ejecuta al terminar todas las iteraciones del `for`."
   ]
  },
  {
   "cell_type": "code",
   "execution_count": 11,
   "id": "584f5543",
   "metadata": {
    "collapsed": false,
    "jupyter": {
     "outputs_hidden": false
    }
   },
   "outputs": [
    {
     "name": "stdout",
     "output_type": "stream",
     "text": [
      "En la palabra auto hay 1 letras \"a\"\n",
      "En la palabra casa hay 2 letras \"a\"\n",
      "En la palabra perro hay 0 letras \"a\"\n",
      "En la palabra gato hay 1 letras \"a\"\n",
      "En la palabra árbol hay 0 letras \"a\"\n",
      "En la palabra lechuza hay 1 letras \"a\"\n",
      "En la palabra banana hay 3 letras \"a\"\n",
      "\n",
      "La palabra más larga es lechuza\n",
      "\n",
      "La última palabra es árbol\n"
     ]
    }
   ],
   "source": [
    "for L in Lista:\n",
    "    print(f'En la palabra {L} hay {L.count(\"a\")} letras \"a\"')\n",
    "\n",
    "print(f'\\nLa palabra más larga es {max(Lista, key=len)}')\n",
    "print(f'\\nLa última palabra es {max(Lista)}')"
   ]
  },
  {
   "cell_type": "markdown",
   "id": "38c463e1-e3cb-4a02-8f10-a8acc8f5f21b",
   "metadata": {
    "collapsed": false,
    "jupyter": {
     "outputs_hidden": false
    }
   },
   "source": [
    "\n",
    "--------\n",
    "\n",
    "**Nota:** Acá utilizamos la función `max()` con un argumento requerido (`Lista`) que es la entidad sobre la que se va a encontrar el mayor valor. Notar que el mayor valor depende de como se defina la comparación entre dos elementos. La función `max()` permite un argumento opcional (`key`) que debe ser una \"función\" que se aplicará a cada elemento y luego se compararán los resultados de la aplicación de la función a los elementos. En este caso, a cada palabra se le calcula la longitud y esto es lo que se compara.\n",
    "\n",
    "\n",
    "--------\n"
   ]
  },
  {
   "cell_type": "markdown",
   "id": "34e660ae",
   "metadata": {
    "collapsed": false,
    "jupyter": {
     "outputs_hidden": false
    }
   },
   "source": [
    "Otro ejemplo:"
   ]
  },
  {
   "cell_type": "code",
   "execution_count": 12,
   "id": "2b9214ce",
   "metadata": {
    "collapsed": false,
    "jupyter": {
     "outputs_hidden": false
    }
   },
   "outputs": [
    {
     "name": "stdout",
     "output_type": "stream",
     "text": [
      "x=0,  suma parcial=0\n",
      "x=1,  suma parcial=1\n",
      "x=2,  suma parcial=3\n",
      "x=3,  suma parcial=6\n",
      "x=4,  suma parcial=10\n",
      "x=5,  suma parcial=15\n",
      "x=6,  suma parcial=21\n",
      "x=7,  suma parcial=28\n",
      "x=8,  suma parcial=36\n",
      "x=9,  suma parcial=45\n",
      "x=10,  suma parcial=55\n",
      "Suma total = 55\n"
     ]
    }
   ],
   "source": [
    "suma = 0\n",
    "for elemento in range(11):\n",
    "  suma += elemento\n",
    "  print(\"x={},  suma parcial={}\".format(elemento, suma))\n",
    "print ('Suma total =', suma)"
   ]
  },
  {
   "cell_type": "markdown",
   "id": "429e8a56",
   "metadata": {
    "collapsed": false,
    "ein.tags": "worksheet-0",
    "jupyter": {
     "outputs_hidden": false
    },
    "slideshow": {
     "slide_type": "-"
    }
   },
   "source": [
    "Notar que utilizamos el operador asignación de suma: `+=`.\n",
    "\n",
    "```python\n",
    "suma += elemento\n",
    "```\n",
    "es equivalente a:\n",
    "```python\n",
    "suma = suma + elemento\n",
    "```\n",
    "que corresponde a realizar la suma de la derecha, y el resultado asignarlo a la variable de la izquierda."
   ]
  },
  {
   "cell_type": "markdown",
   "id": "ee58ae21",
   "metadata": {
    "collapsed": false,
    "ein.tags": "worksheet-0",
    "jupyter": {
     "outputs_hidden": false
    },
    "slideshow": {
     "slide_type": "-"
    }
   },
   "source": [
    "Por supuesto, para obtener la suma anterior podemos simplemente usar las funciones de python:"
   ]
  },
  {
   "cell_type": "code",
   "execution_count": 13,
   "id": "0aa9d90e",
   "metadata": {
    "autoscroll": false,
    "collapsed": false,
    "ein.hycell": false,
    "ein.tags": "worksheet-0",
    "jupyter": {
     "outputs_hidden": false
    },
    "slideshow": {
     "slide_type": "-"
    }
   },
   "outputs": [
    {
     "name": "stdout",
     "output_type": "stream",
     "text": [
      "55\n"
     ]
    }
   ],
   "source": [
    "print (sum(range(11))) # El ejemplo anterior puede escribirse usando sum y range"
   ]
  },
  {
   "cell_type": "markdown",
   "id": "ef0cc2a8",
   "metadata": {
    "collapsed": false,
    "ein.tags": "worksheet-0",
    "jupyter": {
     "outputs_hidden": false
    },
    "slideshow": {
     "slide_type": "-"
    }
   },
   "source": [
    "#### Loops:  `enumerate`, `continue`, `break`, `else`\n",
    "\n",
    "\n",
    "Veamos otras características del bloque `for`. "
   ]
  },
  {
   "cell_type": "code",
   "execution_count": 14,
   "id": "568cbd14",
   "metadata": {
    "autoscroll": false,
    "collapsed": false,
    "ein.hycell": false,
    "ein.tags": "worksheet-0",
    "jupyter": {
     "outputs_hidden": false
    },
    "slideshow": {
     "slide_type": "-"
    }
   },
   "outputs": [
    {
     "name": "stdout",
     "output_type": "stream",
     "text": [
      "1 4 16 16\n",
      "3 6 36 52\n",
      "5 8 64 116\n",
      "7 10 100 216\n",
      "9 12 144 360\n",
      "11 14 196 556\n",
      "13 16 256 812\n",
      "15 18 324 1136\n",
      "17 20 400 1536\n",
      "19 22 484 2020\n",
      "21 24 576 2596\n",
      "23 26 676 3272\n",
      "25 28 784 4056\n",
      "sumatoria de números pares al cuadrado entre 3 y 20: 4056\n",
      "cuadrados=  [16, 36, 64, 100, 144, 196, 256, 324, 400, 484, 576, 676, 784]\n"
     ]
    }
   ],
   "source": [
    "suma = 0\n",
    "cuadrados = []\n",
    "for i,elem in enumerate(range(3,30)):\n",
    "  if elem % 2:       # Si resto (%) es diferente de cero -> Impares\n",
    "    continue\n",
    "  suma += elem**2\n",
    "  cuadrados.append(elem**2)\n",
    "  print (i, elem, elem**2, suma)   # Imprimimos el índice y el elem al cuadrado\n",
    "print (\"sumatoria de números pares al cuadrado entre 3 y 20:\", suma)\n",
    "print ('cuadrados= ', cuadrados)"
   ]
  },
  {
   "cell_type": "markdown",
   "id": "816b8d73",
   "metadata": {
    "collapsed": false,
    "ein.tags": "worksheet-0",
    "jupyter": {
     "outputs_hidden": false
    },
    "slideshow": {
     "slide_type": "-"
    }
   },
   "source": [
    "**Puntos a notar:**\n",
    "\n",
    " - Inicializamos una variable entera en cero y una lista vacía\n",
    " - `range(3,30)` nos da consecutivamente los números entre 3 y 29 en cada iteración.\n",
    " - `enumerate` nos permite iterar sobre algo, agregando un contador automático.\n",
    " - La línea condicional `if elem % 2:` es equivalente a `if (elem % 2) != 0:` y es verdadero si `elem` no es divisible por 2 (número impar)\n",
    " - La sentencia `continue` hace que se omita la ejecución del resto del bloque por esta iteración\n",
    " - El método `append` agrega el elemento a la lista\n",
    "\n",
    "Antes de seguir veamos otro ejemplo de uso de `enumerate`. Consideremos una iteración sobre una lista como haríamos normalmente en otros lenguajes:"
   ]
  },
  {
   "cell_type": "code",
   "execution_count": 15,
   "id": "4953f550",
   "metadata": {
    "autoscroll": false,
    "collapsed": false,
    "ein.hycell": false,
    "ein.tags": "worksheet-0",
    "jupyter": {
     "outputs_hidden": false
    },
    "slideshow": {
     "slide_type": "-"
    }
   },
   "outputs": [],
   "source": [
    "L = \"I've had a perfectly wonderful evening.  But this wasn't it.\".split()"
   ]
  },
  {
   "cell_type": "code",
   "execution_count": 16,
   "id": "bf77e762",
   "metadata": {
    "autoscroll": false,
    "collapsed": false,
    "ein.hycell": false,
    "ein.tags": "worksheet-0",
    "jupyter": {
     "outputs_hidden": false
    },
    "slideshow": {
     "slide_type": "-"
    }
   },
   "outputs": [
    {
     "data": {
      "text/plain": [
       "[\"I've\",\n",
       " 'had',\n",
       " 'a',\n",
       " 'perfectly',\n",
       " 'wonderful',\n",
       " 'evening.',\n",
       " 'But',\n",
       " 'this',\n",
       " \"wasn't\",\n",
       " 'it.']"
      ]
     },
     "execution_count": 16,
     "metadata": {},
     "output_type": "execute_result"
    }
   ],
   "source": [
    "L"
   ]
  },
  {
   "cell_type": "code",
   "execution_count": 17,
   "id": "f6b9a00b",
   "metadata": {
    "autoscroll": false,
    "collapsed": false,
    "ein.hycell": false,
    "ein.tags": "worksheet-0",
    "jupyter": {
     "outputs_hidden": false
    },
    "slideshow": {
     "slide_type": "-"
    }
   },
   "outputs": [
    {
     "name": "stdout",
     "output_type": "stream",
     "text": [
      "Índice: 0 -> I've (4 caracteres)\n",
      "Índice: 1 -> had (3 caracteres)\n",
      "Índice: 2 -> a (1 caracteres)\n",
      "Índice: 3 -> perfectly (9 caracteres)\n",
      "Índice: 4 -> wonderful (9 caracteres)\n",
      "Índice: 5 -> evening. (8 caracteres)\n",
      "Índice: 6 -> But (3 caracteres)\n",
      "Índice: 7 -> this (4 caracteres)\n",
      "Índice: 8 -> wasn't (6 caracteres)\n",
      "Índice: 9 -> it. (3 caracteres)\n"
     ]
    }
   ],
   "source": [
    "# En otros lenguajes...\n",
    "for j in range(len(L)):\n",
    "  print(f'Índice: {j} -> {L[j]} ({len(L[j])} caracteres)')"
   ]
  },
  {
   "cell_type": "code",
   "execution_count": 18,
   "id": "126794b6-8b98-42e6-8232-2937b81c26ad",
   "metadata": {
    "collapsed": false,
    "jupyter": {
     "outputs_hidden": false
    }
   },
   "outputs": [
    {
     "name": "stdout",
     "output_type": "stream",
     "text": [
      "La palabra \"I've\" tiene 4 caracteres\n",
      "La palabra \"had\" tiene 3 caracteres\n",
      "La palabra \"a\" tiene 1 caracteres\n",
      "La palabra \"perfectly\" tiene 9 caracteres\n",
      "La palabra \"wonderful\" tiene 9 caracteres\n",
      "La palabra \"evening.\" tiene 8 caracteres\n",
      "La palabra \"But\" tiene 3 caracteres\n",
      "La palabra \"this\" tiene 4 caracteres\n",
      "La palabra \"wasn't\" tiene 6 caracteres\n",
      "La palabra \"it.\" tiene 3 caracteres\n"
     ]
    }
   ],
   "source": [
    "# En otros lenguajes...\n",
    "for j in range(len(L)):\n",
    "  print(f'La palabra \"{L[j]}\" tiene {len(L[j])} caracteres')\n"
   ]
  },
  {
   "cell_type": "markdown",
   "id": "49d603fe-96e2-4e97-b048-1ea917bb4e40",
   "metadata": {
    "collapsed": false,
    "jupyter": {
     "outputs_hidden": false
    }
   },
   "source": [
    "En python:"
   ]
  },
  {
   "cell_type": "code",
   "execution_count": 19,
   "id": "b2d7a48c-d32a-4549-9fd7-11cff19eee93",
   "metadata": {
    "collapsed": false,
    "jupyter": {
     "outputs_hidden": false
    }
   },
   "outputs": [
    {
     "name": "stdout",
     "output_type": "stream",
     "text": [
      "La palabra \"I've\" tiene 4 caracteres\n",
      "La palabra \"had\" tiene 3 caracteres\n",
      "La palabra \"a\" tiene 1 caracteres\n",
      "La palabra \"perfectly\" tiene 9 caracteres\n",
      "La palabra \"wonderful\" tiene 9 caracteres\n",
      "La palabra \"evening.\" tiene 8 caracteres\n",
      "La palabra \"But\" tiene 3 caracteres\n",
      "La palabra \"this\" tiene 4 caracteres\n",
      "La palabra \"wasn't\" tiene 6 caracteres\n",
      "La palabra \"it.\" tiene 3 caracteres\n"
     ]
    }
   ],
   "source": [
    "for pal in L:\n",
    "  print(f'La palabra \"{pal}\" tiene {len(pal)} caracteres')\n"
   ]
  },
  {
   "cell_type": "markdown",
   "id": "c7a1fa80",
   "metadata": {
    "collapsed": false,
    "ein.tags": "worksheet-0",
    "jupyter": {
     "outputs_hidden": false
    },
    "slideshow": {
     "slide_type": "-"
    }
   },
   "source": [
    "Hay ocasiones en que necesitamos conocer el índice. La solución de otros lenguajes nos lo provee (nos obliga a proveerlo). Python ofrece la función `enumerate()` que agrega un contador automático "
   ]
  },
  {
   "cell_type": "code",
   "execution_count": 20,
   "id": "aff1f34e",
   "metadata": {
    "autoscroll": false,
    "collapsed": false,
    "ein.hycell": false,
    "ein.tags": "worksheet-0",
    "jupyter": {
     "outputs_hidden": false
    },
    "slideshow": {
     "slide_type": "-"
    }
   },
   "outputs": [
    {
     "name": "stdout",
     "output_type": "stream",
     "text": [
      "Índice: 0 -> I've (4 caracteres)\n",
      "Índice: 1 -> had (3 caracteres)\n",
      "Índice: 2 -> a (1 caracteres)\n",
      "Índice: 3 -> perfectly (9 caracteres)\n",
      "Índice: 4 -> wonderful (9 caracteres)\n",
      "Índice: 5 -> evening. (8 caracteres)\n",
      "Índice: 6 -> But (3 caracteres)\n",
      "Índice: 7 -> this (4 caracteres)\n",
      "Índice: 8 -> wasn't (6 caracteres)\n",
      "Índice: 9 -> it. (3 caracteres)\n"
     ]
    }
   ],
   "source": [
    "for j, elem in enumerate(L):\n",
    "  print(f'Índice: {j} -> {elem} ({len(elem)} caracteres)')"
   ]
  },
  {
   "cell_type": "markdown",
   "id": "a808faec",
   "metadata": {
    "collapsed": false,
    "ein.tags": "worksheet-0",
    "jupyter": {
     "outputs_hidden": false
    },
    "slideshow": {
     "slide_type": "slide"
    }
   },
   "source": [
    "Veamos otro ejemplo, que puede encontrarse en la [documentación oficial](https://docs.python.org/3/tutorial/controlflow.html#break-and-continue-statements-and-else-clauses-on-loops):"
   ]
  },
  {
   "cell_type": "code",
   "execution_count": 21,
   "id": "92265c34",
   "metadata": {
    "autoscroll": false,
    "collapsed": false,
    "ein.hycell": false,
    "ein.tags": "worksheet-0",
    "jupyter": {
     "outputs_hidden": false
    },
    "slideshow": {
     "slide_type": "-"
    }
   },
   "outputs": [
    {
     "name": "stdout",
     "output_type": "stream",
     "text": [
      " 2 es un número primo\n",
      " 3 es un número primo\n",
      " 4 = 2 x 2\n",
      " 5 es un número primo\n",
      " 6 = 2 x 3\n",
      " 7 es un número primo\n",
      " 8 = 2 x 4\n",
      " 9 = 3 x 3\n",
      "10 = 2 x 5\n",
      "11 es un número primo\n",
      "12 = 2 x 6\n",
      "13 es un número primo\n",
      "14 = 2 x 7\n",
      "15 = 3 x 5\n",
      "16 = 2 x 8\n",
      "17 es un número primo\n",
      "18 = 2 x 9\n",
      "19 es un número primo\n"
     ]
    }
   ],
   "source": [
    "for n in range(2, 20):\n",
    "  for x in range(2, n):\n",
    "    if n % x == 0:\n",
    "      print( f'{n:2d} = {x} x {n//x}')\n",
    "      break\n",
    "  else:\n",
    "     # Salió sin encontrar un factor, entonces ...\n",
    "     print('{:2d} es un número primo'.format(n))\n"
   ]
  },
  {
   "cell_type": "markdown",
   "id": "4ce23d2a",
   "metadata": {
    "collapsed": false,
    "ein.tags": "worksheet-0",
    "jupyter": {
     "outputs_hidden": false
    },
    "slideshow": {
     "slide_type": "-"
    }
   },
   "source": [
    "**Puntos a notar:**\n",
    "\n",
    "- Acá estamos usando dos *loops* anidados. Uno recorre `n` entre 2 y 9, y el otro `x` entre 2 y `n`.\n",
    "- La comparación `if n % x == 0:` chequea si `x` es un divisor de `n`\n",
    "- La sentencia `break` interrumpe el *loop* interior (sobre `x`)\n",
    "- Notar la alineación de la sentencia `else`. No está referida a `if` sino a `for`. Es opcional y se ejecuta cuando el loop se termina normalmente (sin `break`)\n"
   ]
  },
  {
   "cell_type": "markdown",
   "id": "9d1295a2",
   "metadata": {
    "collapsed": false,
    "ein.tags": "worksheet-0",
    "jupyter": {
     "outputs_hidden": false
    },
    "slideshow": {
     "slide_type": "-"
    }
   },
   "source": [
    "#### While\n",
    "\n",
    "Otra sentencia de control es *while*: que permite iterar mientras se cumple una condición. El siguiente ejemplo imprime la serie de Fibonacci (en la cuál cada término es la suma de los dos anteriores)"
   ]
  },
  {
   "cell_type": "code",
   "execution_count": 22,
   "id": "cc90aaf7",
   "metadata": {
    "autoscroll": false,
    "collapsed": false,
    "ein.hycell": false,
    "ein.tags": "worksheet-0",
    "jupyter": {
     "outputs_hidden": false
    },
    "slideshow": {
     "slide_type": "-"
    }
   },
   "outputs": [
    {
     "name": "stdout",
     "output_type": "stream",
     "text": [
      "1 1 2 3 5 8 13 21 34 55 89 144 233 377 610 987 1597 2584 4181 "
     ]
    }
   ],
   "source": [
    "a, b = 0, 1\n",
    "while b < 5000:\n",
    "  print (b, end=' ')\n",
    "  a, b = b, a+b"
   ]
  },
  {
   "cell_type": "code",
   "execution_count": 23,
   "id": "9c6250a5",
   "metadata": {
    "autoscroll": false,
    "collapsed": false,
    "ein.hycell": false,
    "ein.tags": "worksheet-0",
    "jupyter": {
     "outputs_hidden": false
    },
    "slideshow": {
     "slide_type": "-"
    }
   },
   "outputs": [
    {
     "name": "stdout",
     "output_type": "stream",
     "text": [
      "1 2 3 5 13 21 34 55 89 144 233 377 610 987 1597 2584 4181 6765 "
     ]
    }
   ],
   "source": [
    "a, b = 0, 1\n",
    "while b < 5000:\n",
    "  a, b = b, a+b\n",
    "  if b == 8:\n",
    "    continue\n",
    "  print (b, end=' ')\n"
   ]
  },
  {
   "cell_type": "markdown",
   "id": "ae571914-1cf4-4918-b592-37cf9ccfe73c",
   "metadata": {},
   "source": [
    "### Múltiples condiciones\n",
    "\n",
    "Se pueden combinar condiciones, y utilizar en los elementos de control mediante el uso de las palabras `and` y `or`. Por ejemplo:"
   ]
  },
  {
   "cell_type": "code",
   "execution_count": 3,
   "id": "0fc36da3-73d1-4ad3-8da9-3c363c491bee",
   "metadata": {},
   "outputs": [],
   "source": [
    "a=3"
   ]
  },
  {
   "cell_type": "code",
   "execution_count": 30,
   "id": "1961b69f-6b53-47a1-9f61-79a9cdd69854",
   "metadata": {},
   "outputs": [
    {
     "data": {
      "text/plain": [
       "True"
      ]
     },
     "execution_count": 30,
     "metadata": {},
     "output_type": "execute_result"
    }
   ],
   "source": [
    "a > 2 or a < 1"
   ]
  },
  {
   "cell_type": "code",
   "execution_count": 33,
   "id": "d744c5e9-16fe-4d14-bafe-fe50d20b22d9",
   "metadata": {},
   "outputs": [
    {
     "data": {
      "text/plain": [
       "False"
      ]
     },
     "execution_count": 33,
     "metadata": {},
     "output_type": "execute_result"
    }
   ],
   "source": [
    "a < 1 or a > 5"
   ]
  },
  {
   "cell_type": "code",
   "execution_count": 4,
   "id": "99bd7dcc-05ec-4a2e-9808-8a87bad2892d",
   "metadata": {},
   "outputs": [
    {
     "data": {
      "text/plain": [
       "False"
      ]
     },
     "execution_count": 4,
     "metadata": {},
     "output_type": "execute_result"
    }
   ],
   "source": [
    "(a < 5) and (a > 4)  # Los paréntesis son opcionales"
   ]
  },
  {
   "cell_type": "code",
   "execution_count": 35,
   "id": "d72b37b6-96d3-4046-82d4-c50ce22c8fe9",
   "metadata": {},
   "outputs": [
    {
     "data": {
      "text/plain": [
       "True"
      ]
     },
     "execution_count": 35,
     "metadata": {},
     "output_type": "execute_result"
    }
   ],
   "source": [
    "((a < 5) and (a > 4)) or (a %2 ==1)"
   ]
  },
  {
   "cell_type": "markdown",
   "id": "e658c912",
   "metadata": {
    "collapsed": false,
    "jupyter": {
     "outputs_hidden": false
    }
   },
   "source": [
    "\n",
    "--------\n",
    "\n",
    "\n",
    "## Ejercicios 03 (b)\n",
    "\n",
    "\n",
    "\n",
    "2. De  los primeros 100 números naturales imprimir aquellos que no son divisibles por ninguno de: 2, 3, 5 o 7.\n",
    "\n",
    "2. Usando estructuras de control, calcule el valor de la suma:\n",
    "   $$ s_{1} = \\frac{1}{2} \\left(\\sum_{k=1}^{100}k^{-1} \\right)$$\n",
    "   para los casos:\n",
    "\n",
    "    1. Incluyendo todos los valores de `k`\n",
    "    2. Incluyendo únicamente los valores pares de `k`.\n",
    "\n",
    "\n",
    "3. Escriba una función que estime la suma\n",
    "$$s_{2} = \\sum_{k=1}^{\\infty} \\frac{(-1)^{k} (k+1)}{2 k^{3} + k^{2}}$$\n",
    "La función toma como argumentos un error relativo $\\epsilon$ deseado y devuelve el valor de la suma y el error relativo estimado. Pruebe su función para un valor $\\epsilon=10^{-5}$\n",
    "\n",
    "4. Escriba una función que tome como argumento un párrafo de texto y devuelva un string con el párrafo en un \"cartel\" de un cierto ancho:\n",
    "   ```python\n",
    "   cartelizar(parrafo, ancho)\n",
    "   ```\n",
    "   \n",
    "   Por ejemplo, para el texto:\n",
    "\n",
    "   ```python\n",
    "   s = \"Ullam vel totam cum neque exercitationem ut. Quae omnis rerum sit reprehenderit accusamus. Molestiae molestiae sit totam sint. Neque pariatur temporibus ut minima accusantium. Ad perferendis natus nisi dolor. Et sint maiores exercitationem reiciendis ut ab et.\"\n",
    "   \n",
    "   sout = cartelizar(s, 60)\n",
    "   ```\n",
    "\n",
    "   debe devolver el *string*:\n",
    "\n",
    "   ```python \n",
    "   sout = '* ******************************************************** *\\n* Ullam vel totam cum neque exercitationem ut. Quae omnis  *\\n*  rerum sit reprehenderit accusamus. Molestiae molestiae  *\\n*   sit totam sint. Neque pariatur temporibus ut minima    *\\n*  accusantium. Ad perferendis natus nisi dolor. Et sint   *\\n* ******************************************************** *'\n",
    "   ```\n",
    "   que al imprimirlo se verá:\n",
    "\n",
    "   ```python \n",
    "   print(sout)\n",
    "   ```\n",
    "\n",
    "   ```\n",
    "\t* ******************************************************** *\n",
    "\t* Ullam vel totam cum neque exercitationem ut. Quae omnis  *\n",
    "\t*  rerum sit reprehenderit accusamus. Molestiae molestiae  *\n",
    "\t*   sit totam sint. Neque pariatur temporibus ut minima    *\n",
    "\t*  accusantium. Ad perferendis natus nisi dolor. Et sint   *\n",
    "\t* ******************************************************** *\n",
    "\n",
    "   ```\n",
    "\n",
    "6. En 1949, D. R. Kaprekar, un matemático de la India especializado en matemática recreacional, describió un algoritmo que consiste en:\n",
    "   1. Tomar un número de cuatro cifras\n",
    "   2. Reacomodar las cifras para obtener el mayor número posible\n",
    "   3. Obtener reacomodando las cifras también el menor posible\n",
    "   4. Restarlos\n",
    "   5. GOTO 1\n",
    "   \n",
    "   Este algoritmo tiene un \"punto fijo\" igual a **6174** y es al que el algoritmo llega si se inicia con un número que no tiene las cifras repetidas. Si alguna cifra es repetida el punto fijo puede ser el trivial, igual a cero.\n",
    "   Escribir una función `rutina_kaprekar(numero)` que tome un número de cuatro cifras y devuelva el punto fijo y el número de números necesarios hasta alcanzarlo.\n",
    "  \n",
    "   Por ejemplo: Para el número 1392, la secuencia es: \n",
    "  \n",
    "     1392 -> 8082 -> 8532 -> 6174 -> 6174 -> ...\n",
    "    \n",
    "   por lo que tendremos al aplicar la función:\n",
    "\n",
    "   ```python\n",
    "      rutina_kaprekar(1392)\n",
    "   ```\n",
    "\n",
    "   ```\n",
    "      6174, 4\n",
    "   ```\n",
    "\n",
    "\n",
    "------\n",
    "\n",
    "**Ayuda:** Tenga en cuenta que si un número tiene menos de cuatro cifras debe agregarle ceros. Por ejemplo el número `978` debe entenderse como `0978` por lo que el mayor número que puede escribirse con estas cifras es `9870`.\n",
    "\n",
    "------\n",
    "\n",
    "---------\n",
    "\n",
    "."
   ]
  }
 ],
 "metadata": {
  "kernelspec": {
   "display_name": "Python 3 (ipykernel)",
   "language": "python",
   "name": "python3"
  },
  "language_info": {
   "codemirror_mode": {
    "name": "ipython",
    "version": 3
   },
   "file_extension": ".py",
   "mimetype": "text/x-python",
   "name": "python",
   "nbconvert_exporter": "python",
   "pygments_lexer": "ipython3",
   "version": "3.11.7"
  },
  "name": "03_1_tipos_control.ipynb",
  "toc": {
   "base_numbering": 1,
   "nav_menu": {
    "height": "364.1px",
    "width": "251.333px"
   },
   "number_sections": true,
   "sideBar": true,
   "skip_h1_title": true,
   "title_cell": "Contenidos",
   "title_sidebar": "Contenidos",
   "toc_cell": false,
   "toc_position": null,
   "toc_section_display": true,
   "toc_window_display": false
  }
 },
 "nbformat": 4,
 "nbformat_minor": 5
}
