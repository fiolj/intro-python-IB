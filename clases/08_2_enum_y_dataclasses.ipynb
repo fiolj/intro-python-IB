{
 "cells": [
  {
   "cell_type": "markdown",
   "metadata": {},
   "source": [
    "# `Enum` y `dataclass`es \n",
    "\n",
    "Vamos a ver ahora dos tipos de datos que pueden ser útiles más allá de los objetos que uno pueda definir en Python mediante clases. Ambos tipos de datos se relacionan con la _inmutabilidad_, propiedad que tiene muchos casos de uso relevantes y es de mucha ayuda para crear código robusto.\n",
    "\n",
    "## `Enum`s\n",
    "\n",
    "Los `enum`s (enumeraciones) son una forma de asociar simbólicamente un conjunto de etiquetas a un conjunto de valores constantes, y se introducen en Python con la versión 3.4. Los `enum` modelan un conjunto _limitado_ de valores que una variable puede tomar, y donde cada valor tiene un nombre descriptivo.\n",
    "\n",
    "Para definir un `enum`, es necesario importar la clase `Enum` del módulo correspondiente"
   ]
  },
  {
   "cell_type": "code",
   "execution_count": null,
   "metadata": {},
   "outputs": [],
   "source": [
    "from enum import Enum "
   ]
  },
  {
   "cell_type": "code",
   "execution_count": null,
   "metadata": {},
   "outputs": [],
   "source": [
    "class ColorCMYK(Enum):\n",
    "    YELLOW = 1\n",
    "    CYAN = 2\n",
    "    MAGENTA = 3\n",
    "    BLACK = 4"
   ]
  },
  {
   "cell_type": "markdown",
   "metadata": {},
   "source": [
    "En este caso hemos definido un `enum` con tres elementos correspondientes a cuatro colores."
   ]
  },
  {
   "cell_type": "code",
   "execution_count": null,
   "metadata": {},
   "outputs": [],
   "source": [
    "def print_color(color: ColorCMYK) -> None:        \n",
    "\n",
    "    print(f\"Color  : {color}\")    \n",
    "    print(f\"Nombre : {color.name}\" )\n",
    "    print(f\"Valor  : {color.value}\" )\n"
   ]
  },
  {
   "cell_type": "code",
   "execution_count": null,
   "metadata": {},
   "outputs": [],
   "source": [
    "print_color(ColorCMYK.YELLOW)"
   ]
  },
  {
   "cell_type": "markdown",
   "metadata": {},
   "source": [
    "> Atención: Por **convención** se usan MAYÚSCULAS para las opciones que puede tener un Enum, al igual que en otros lenguajes de programación donde también se estila usarlas para las constantes.\n",
    "\n",
    "Efectivamente los valores del Enum son constantes y no es posible reasignarlos:"
   ]
  },
  {
   "cell_type": "code",
   "execution_count": null,
   "metadata": {},
   "outputs": [],
   "source": [
    "ColorCMYK.YELLOW = 42"
   ]
  },
  {
   "cell_type": "code",
   "execution_count": null,
   "metadata": {},
   "outputs": [],
   "source": [
    "ColorCMYK.YELLOW.value = 4"
   ]
  },
  {
   "cell_type": "code",
   "execution_count": null,
   "metadata": {},
   "outputs": [],
   "source": [
    "class ColorRGB(Enum):\n",
    "    RED = 1\n",
    "    GREEN = 2\n",
    "    BLUE = 3\n",
    "    \n",
    "    def __repr__(self):        \n",
    "        return f\"Color  : {self}\\nNombre : {self.name}\\nValor  : {self.value}\\n\"\n"
   ]
  },
  {
   "cell_type": "code",
   "execution_count": null,
   "metadata": {},
   "outputs": [],
   "source": [
    "ColorRGB.RED"
   ]
  },
  {
   "cell_type": "markdown",
   "metadata": {},
   "source": [
    "Se pueden comparar distintos enums:"
   ]
  },
  {
   "cell_type": "code",
   "execution_count": null,
   "metadata": {},
   "outputs": [],
   "source": [
    "ColorRGB.RED == ColorCMYK.YELLOW"
   ]
  },
  {
   "cell_type": "code",
   "execution_count": null,
   "metadata": {},
   "outputs": [],
   "source": [
    "ColorRGB.RED.value == ColorCMYK.YELLOW.value"
   ]
  },
  {
   "cell_type": "code",
   "execution_count": null,
   "metadata": {},
   "outputs": [],
   "source": [
    "print(ColorRGB.RED == ColorCMYK.YELLOW)\n",
    "print(ColorRGB.RED is ColorCMYK.YELLOW)"
   ]
  },
  {
   "cell_type": "markdown",
   "metadata": {},
   "source": [
    "### Enums y `match` \n",
    "\n",
    "Una estructura de control introducida en Python 3.10 es `match-case`, y puede ser interesante de usar junto con Enums. El `match-case` fue un pedido recurrente de la comunidad para poseer una estructura de control de flujo múltiple más clara que el `if-elif-else`. Se comporta en forma similar a los `switch` que usan otros lenguajes de programación. La estructura que tiene es la siguiente:\n",
    "\n",
    "```python\n",
    "match variable:\n",
    "    case patrón1:\n",
    "        # Código para patrón1\n",
    "    case patrón2:\n",
    "        # Código para patrón2\n",
    "    ...        \n",
    "    case _:\n",
    "        # Código para el caso por defecto\n",
    "```\n",
    "\n",
    "Por ejemplo:"
   ]
  },
  {
   "cell_type": "code",
   "execution_count": null,
   "metadata": {},
   "outputs": [],
   "source": [
    "def describe_color(color):\n",
    "    match color:\n",
    "        case ColorCMYK.YELLOW:\n",
    "            return \"Amarillo\"\n",
    "        case ColorCMYK.CYAN:\n",
    "            return \"Cian\"\n",
    "        case ColorCMYK.MAGENTA:\n",
    "            return \"Magenta\"\n",
    "        case ColorRGB.RED:\n",
    "            return \"Rojo\"\n",
    "        case ColorRGB.GREEN:\n",
    "            return \"Verde\"\n",
    "        case ColorRGB.BLUE:\n",
    "            return \"Azul\"\n",
    "        case _:\n",
    "            return \"Color no reconocido\"\n",
    "\n",
    "print(describe_color(ColorCMYK.YELLOW))\n",
    "print(describe_color(ColorRGB.RED))\n",
    "print(describe_color(ColorRGB.GREEN))\n",
    "print(describe_color(\"Negro\"))"
   ]
  },
  {
   "cell_type": "markdown",
   "metadata": {},
   "source": [
    "La estructura `match-case` acepta patrones avanzados, comparando estructuras más complejas:"
   ]
  },
  {
   "cell_type": "code",
   "execution_count": null,
   "metadata": {},
   "outputs": [],
   "source": [
    "def detecta_coordenadas(coord):\n",
    "    match coord:\n",
    "        case (0, 0):\n",
    "            return \"Origen\"\n",
    "        case (x, 0):\n",
    "            return f\"En el eje X, en {x}\"\n",
    "        case (0, y):\n",
    "            return f\"En el eje Y, en {y}\"\n",
    "        case (x, y):\n",
    "            return f\"En el plano: ({x}, {y})\"\n",
    "        case _:\n",
    "            return \"Coordenada no válida\"\n",
    "        \n",
    "print(detecta_coordenadas((0, 5)))  # \"En el eje Y, en 5\"\n",
    "print(detecta_coordenadas(\"cero, cero\"))"
   ]
  },
  {
   "cell_type": "code",
   "execution_count": null,
   "metadata": {},
   "outputs": [],
   "source": [
    "def clasifica_lista(lista):\n",
    "    match lista:\n",
    "        case []: \n",
    "            print(\"Lista vacía\")\n",
    "            return None \n",
    "        case [x]:  # Coincide con una lista de un solo elemento\n",
    "            print (f\"Lista con un solo elemento: {x}\")\n",
    "            return x\n",
    "        case [x, y]:  # Coincide con una lista de dos elementos\n",
    "            print (f\"Lista con dos elementos: {x} y {y}\")\n",
    "            return (x,y)\n",
    "        case [x, y, *resto]:  # Coincide con una lista de tres o más elementos\n",
    "            print (f\"Lista con tres o más elementos: {x}, {y}, y otros {len(resto)} elementos\")\n",
    "            return resto\n",
    "        case _:  # Coincide con cualquier otro caso\n",
    "            print (\"Lista vacía o no reconocida\")\n",
    "            return\n",
    "\n",
    "# Probar con diferentes listas\n",
    "clasifica_lista([10])         \n",
    "clasifica_lista([10, 20])     \n",
    "clasifica_lista([10, 20, 30]) \n",
    "clasifica_lista([10, 20, 30, 40]) \n",
    "clasifica_lista([])      \n",
    "clasifica_lista(\"Hola\")     \n"
   ]
  },
  {
   "cell_type": "code",
   "execution_count": null,
   "metadata": {},
   "outputs": [],
   "source": [
    "v = clasifica_lista([10, 20, 30, 40])\n",
    "print(v,type(v))\n",
    "\n",
    "v = clasifica_lista([ColorCMYK.BLACK, ColorRGB.RED])\n",
    "print(v,type(v))"
   ]
  },
  {
   "cell_type": "markdown",
   "metadata": {},
   "source": [
    "Los distintos casos posibles aceptan el operador `|` que se usa para agruparlos:"
   ]
  },
  {
   "cell_type": "code",
   "execution_count": null,
   "metadata": {},
   "outputs": [],
   "source": [
    "from enum import Enum\n",
    "\n",
    "# Definimos un Enum para los días de la semana\n",
    "class Dia(Enum):\n",
    "    LUNES = 1\n",
    "    MARTES = 2\n",
    "    MIERCOLES = 3\n",
    "    JUEVES = 4\n",
    "    VIERNES = 5\n",
    "    SABADO = 6\n",
    "    DOMINGO = 7\n",
    "\n",
    "    # Función para determinar si es día laboral o fin de semana\n",
    "    def es_dia_laboral(self):\n",
    "        match self:\n",
    "            case Dia.LUNES | Dia.MIERCOLES:\n",
    "                return \"Tengo clases de Python 🥳\"\n",
    "            case  Dia.MARTES | Dia.JUEVES | Dia.VIERNES :\n",
    "                return \"Es un día laboral 🧐\"\n",
    "            case Dia.SABADO | Dia.DOMINGO:\n",
    "                return \"Es fin de semana 😆\"\n",
    "            case _:\n",
    "                return \"Día no válido\"\n",
    "\n",
    "# Probar con diferentes días\n",
    "print(Dia.LUNES.es_dia_laboral())   \n",
    "print(Dia.SABADO.es_dia_laboral())  \n",
    "print(Dia.MIERCOLES.es_dia_laboral())\n"
   ]
  },
  {
   "cell_type": "markdown",
   "metadata": {},
   "source": [
    "O comparar tipos de datos"
   ]
  },
  {
   "cell_type": "code",
   "execution_count": null,
   "metadata": {},
   "outputs": [],
   "source": [
    "def printer_color(color: ColorRGB | ColorCMYK) -> None:\n",
    "    match color:\n",
    "        case ColorRGB():\n",
    "            print(f\"Usando RGB: {color}\\n\")\n",
    "        case ColorCMYK():\n",
    "            print(f\"Usando YMgCy: {color}\\n\")\n",
    "        case _:\n",
    "            print(\"Color no reconocido\\n\")\n",
    "\n",
    "printer_color(ColorRGB.RED)\n",
    "printer_color(ColorCMYK.YELLOW)\n",
    "printer_color(\"Negro\")"
   ]
  },
  {
   "cell_type": "markdown",
   "metadata": {},
   "source": [
    "Es posible hacer comparaciones más complejas todavía, por ejemplo, usando clases:"
   ]
  },
  {
   "cell_type": "code",
   "execution_count": null,
   "metadata": {},
   "outputs": [],
   "source": [
    "class Persona:\n",
    "    def __init__(self, nombre, edad):\n",
    "        self.nombre = nombre\n",
    "        self.edad = edad\n",
    "\n",
    "def saluda_a(persona):\n",
    "    match persona:\n",
    "        case Persona() if persona.edad >= 18:\n",
    "            return f\"Hola {persona.nombre}, eres mayor de edad.\"\n",
    "        case Persona() if 16 <= persona.edad < 18:\n",
    "            return f\"Hola {persona.nombre}, podés manejar pero no comprar alcohol\"\n",
    "        case Persona():\n",
    "            return f\"Hola {persona.nombre}, eres menor de edad.\"\n",
    "        case _:\n",
    "            return \"Eres un alien\"\n",
    "        \n",
    "print(saluda_a(Persona(\"Juan\",12))) \n",
    "print(saluda_a(Persona(\"Ana\",19)))  \n",
    "print(saluda_a(Persona(\"Mabel\",17)))\n",
    "print(saluda_a(\"Chewbacca\"))"
   ]
  },
  {
   "cell_type": "markdown",
   "metadata": {},
   "source": [
    "Otra forma de hacerlo es a través del denominado match _posicional_. Para ello se agrega el atributo  __match_args__ a la clase, que contiene una tupla que representa los argumentos de creación de la clase tal como figuran en el `__init__`. \n",
    "\n",
    "> Atención: consultar [la ayuda](https://peps.python.org/pep-0636/) para comprender en profundidad cómo funciona el `match-case` cuando se comparan estructuras de datos complejas como las clases."
   ]
  },
  {
   "cell_type": "code",
   "execution_count": null,
   "metadata": {},
   "outputs": [],
   "source": [
    "class Persona:\n",
    "    __match_args__ = (\"nombre\",\"edad\")\n",
    "\n",
    "    def __init__(self, nombre, edad):\n",
    "        self.nombre = nombre\n",
    "        self.edad = edad\n",
    "\n",
    "def saluda_a(persona):\n",
    "    match persona:\n",
    "        case Persona(nombre, edad) if edad >= 18:\n",
    "            return f\"Hola {nombre}, eres mayor de edad.\"\n",
    "        case Persona(nombre, edad) if 16 <= edad < 18:\n",
    "            return f\"Hola {nombre}, podés manejar pero no comprar alcohol\"\n",
    "        case Persona(nombre, edad):\n",
    "            return f\"Hola {nombre}, eres menor de edad.\"\n",
    "        case _:\n",
    "            return \"Eres un alien\"\n",
    "        \n",
    "print(saluda_a(Persona(\"Juan\",12))) \n",
    "print(saluda_a(Persona(\"Ana\",19)))  \n",
    "print(saluda_a(Persona(\"Mabel\",17)))\n",
    "print(saluda_a(\"Chewbacca\"))"
   ]
  },
  {
   "cell_type": "markdown",
   "metadata": {},
   "source": [
    "## Dataclasses\n",
    "\n",
    "En muchísimas situaciones uno necesita utilizar una clase con ciertos métodos habituales, como un constructor default. Para ello Python provee un módulo que define un decorador `@dataclass` que los genera. "
   ]
  },
  {
   "cell_type": "code",
   "execution_count": null,
   "metadata": {},
   "outputs": [],
   "source": [
    "from dataclasses import dataclass\n",
    "\n",
    "@dataclass\n",
    "class Atomo:\n",
    "    nombre: str    \n",
    "    simbolo: str\n",
    "    N: int # número atómico\n",
    "    A: int # número de masa\n"
   ]
  },
  {
   "cell_type": "code",
   "execution_count": null,
   "metadata": {},
   "outputs": [],
   "source": [
    "hidrogeno = Atomo(\"Hidrógeno\", \"H\", 1, 1)\n",
    "helio = Atomo(\"Helio\", \"He\", 2, 4)\n",
    "\n",
    "print(hidrogeno)\n",
    "hidrogeno"
   ]
  },
  {
   "cell_type": "markdown",
   "metadata": {},
   "source": [
    "Entre los métodos que el decorador genera automáticamente están el constructor `__init__`, los métodos `__repr__` y `__str__` y el método `__eq__` que provee igualdad estructural:"
   ]
  },
  {
   "cell_type": "code",
   "execution_count": null,
   "metadata": {},
   "outputs": [],
   "source": [
    "h = Atomo(\"Hidrógeno\", \"H\", 1, 1)\n",
    "print(h==hidrogeno)\n",
    "print(h is hidrogeno)"
   ]
  },
  {
   "cell_type": "markdown",
   "metadata": {},
   "source": [
    "Además de la sintaxis sencilla, se pueden crear dataclasses con argumentos default:"
   ]
  },
  {
   "cell_type": "code",
   "execution_count": null,
   "metadata": {},
   "outputs": [],
   "source": [
    "class StockStatus(Enum):\n",
    "    DISPONIBLE = \"En stock\"\n",
    "    AGOTADO = \"Sin stock\"\n",
    "    QUEDAN_POCOS = \"Stock bajo!\" \n",
    "\n",
    "\n",
    "@dataclass\n",
    "class Producto:\n",
    "    nombre: str\n",
    "    precio: float\n",
    "    stock: StockStatus = StockStatus.AGOTADO \n",
    "\n",
    "p = Producto(\"Laptop\", 1000.0)\n",
    "print(p)    \n",
    "\n",
    "b = Producto(\"Cerveza\",2.5, StockStatus.DISPONIBLE)\n",
    "print(b)"
   ]
  },
  {
   "cell_type": "markdown",
   "metadata": {},
   "source": [
    "Para finalizar, es posible poblar una `dataclass` a partir de un diccionario en forma sencilla, siempre y cuando las claves del diccionario se correspondan unívocamente con los campos de la estructura de la `dataclass`"
   ]
  },
  {
   "cell_type": "code",
   "execution_count": null,
   "metadata": {},
   "outputs": [],
   "source": [
    "cerveza = { \"nombre\": \"Cerveza\", \"precio\": 2.5, \"stock\": StockStatus.DISPONIBLE } \n",
    "\n",
    "b = Producto(**cerveza)\n",
    "print(b)"
   ]
  },
  {
   "cell_type": "code",
   "execution_count": null,
   "metadata": {},
   "outputs": [],
   "source": [
    "b.nombre = \"Cerveza artesanal\"\n",
    "print(b)"
   ]
  },
  {
   "cell_type": "code",
   "execution_count": null,
   "metadata": {},
   "outputs": [],
   "source": [
    "b.nombre = 4"
   ]
  },
  {
   "cell_type": "markdown",
   "metadata": {},
   "source": [
    "Otra propiedad interesante que poseen las `dataclass`es consiste en utilizar el argumento `frozen` para evitar que los objetos sean modificados una vez creados. Si intentamos modificar un atributo de un objeto `frozen`, se lanzará una excepción `FrozenInstanceError`."
   ]
  },
  {
   "cell_type": "code",
   "execution_count": null,
   "metadata": {},
   "outputs": [],
   "source": [
    "@dataclass(frozen=True)\n",
    "class Atomo():\n",
    "    nombre: str    \n",
    "    simbolo: str\n",
    "    N: int # número atómico\n",
    "    A: int # número de masa\n"
   ]
  },
  {
   "cell_type": "code",
   "execution_count": null,
   "metadata": {},
   "outputs": [],
   "source": [
    "Ca = Atomo(\"Calcio\", \"Ca\", 20, 40)\n",
    "print(Ca)\n",
    "Ca.A = 14"
   ]
  },
  {
   "cell_type": "markdown",
   "metadata": {},
   "source": [
    "-----\n",
    "\n",
    "## Ejercicios 08 (b)\n",
    "\n",
    "1. El archivo `atomos_t.json` contiene datos atómicos y físicos de los primeros átomos de la tabla periódica. Se puede usar el módulo `json` para leer este archivo de la siguiente manera\n",
    "\n",
    "```python\n",
    "import json\n",
    "\n",
    "with open('atomos_t.json', 'r') as file:  # Verifique que el path al archivo sea el correcto en su caso\n",
    "\tatomos = json.load(file)\n",
    "``` \n",
    "De esta manera se crea un diccionario `atomos` con la información del archivo.\n",
    "\n",
    "- Cree una `dataclass` para manejar los datos atómicos, que incluya el nombre del elemento, el símbolo, el número atómico y la masa atómica. \n",
    "- Extienda la clase anterior para poder manejar el estado del material a temperatura ambiente ('State at Room Temp'). Para ello cree un `enum` adecuado para representarlo y construya una nueva `dataclass` adecuada.\n",
    "- Modifique `__repr__` y `__str__` para que se imprima la información de cada átomo en forma clara y bella.\n",
    "- ¿Qué estrategia/s usaría para incorporar las temperaturas de fusión ('Melting Point') y de ebullición ('Boiling Point') de los átomos de la lista?\n",
    "\n",
    "\n",
    "\n",
    "-----\n"
   ]
  }
 ],
 "metadata": {
  "kernelspec": {
   "display_name": "Python 3 (ipykernel)",
   "language": "python",
   "name": "python3"
  },
  "language_info": {
   "codemirror_mode": {
    "name": "ipython",
    "version": 3
   },
   "file_extension": ".py",
   "mimetype": "text/x-python",
   "name": "python",
   "nbconvert_exporter": "python",
   "pygments_lexer": "ipython3",
   "version": "3.13.2"
  }
 },
 "nbformat": 4,
 "nbformat_minor": 4
}
