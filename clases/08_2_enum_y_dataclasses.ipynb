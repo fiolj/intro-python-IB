{
 "cells": [
  {
   "cell_type": "markdown",
   "metadata": {},
   "source": [
    "# `Enum` y `dataclass`es \n",
    "\n",
    "Vamos a ver ahora dos tipos de datos que pueden ser útiles más allá de los objetos que uno pueda definir en Python mediante clases. Ambos tipos de datos se relacionan con la _inmutabilidad_, propiedad que tiene muchos casos de uso relevantes y es de mucha ayuda para crear código robusto.\n",
    "\n",
    "## `Enum`s\n",
    "\n",
    "Los `enum`s (enumeraciones) son una forma de asociar simbólicamente un conjunto de etiquetas a un conjunto de valores constantes, y se introducen en Python con la versión 3.4. Los `enum` modelan un conjunto _limitado_ de valores que una variable puede tomar, y donde cada valor tiene un nombre descriptivo.\n",
    "\n",
    "Para definir un `enum`, es necesario importar la clase `Enum` del módulo correspondiente"
   ]
  },
  {
   "cell_type": "code",
   "execution_count": 1,
   "metadata": {},
   "outputs": [],
   "source": [
    "from enum import Enum "
   ]
  },
  {
   "cell_type": "code",
   "execution_count": 2,
   "metadata": {},
   "outputs": [],
   "source": [
    "class ColorCMYK(Enum):\n",
    "    YELLOW = 1\n",
    "    CYAN = 2\n",
    "    MAGENTA = 3\n",
    "    BLACK = 4"
   ]
  },
  {
   "cell_type": "markdown",
   "metadata": {},
   "source": [
    "En este caso hemos definido un `enum` con tres elementos correspondientes a cuatro colores."
   ]
  },
  {
   "cell_type": "code",
   "execution_count": 3,
   "metadata": {},
   "outputs": [],
   "source": [
    "def print_color(color: ColorCMYK) -> None:        \n",
    "\n",
    "    print(f\"Color  : {color}\")    \n",
    "    print(f\"Nombre : {color.name}\" )\n",
    "    print(f\"Valor  : {color.value}\" )\n"
   ]
  },
  {
   "cell_type": "code",
   "execution_count": 4,
   "metadata": {},
   "outputs": [
    {
     "name": "stdout",
     "output_type": "stream",
     "text": [
      "Color  : ColorCMYK.YELLOW\n",
      "Nombre : YELLOW\n",
      "Valor  : 1\n"
     ]
    }
   ],
   "source": [
    "print_color(ColorCMYK.YELLOW)"
   ]
  },
  {
   "cell_type": "markdown",
   "metadata": {},
   "source": [
    "> Atención: Por **convención** se usan MAYÚSCULAS para las opciones que puede tener un Enum, al igual que en otros lenguajes de programación donde también se estila usarlas para las constantes.\n",
    "\n",
    "Efectivamente los valores del Enum son constantes y no es posible reasignarlos:"
   ]
  },
  {
   "cell_type": "code",
   "execution_count": 5,
   "metadata": {},
   "outputs": [
    {
     "ename": "AttributeError",
     "evalue": "cannot reassign member 'YELLOW'",
     "output_type": "error",
     "traceback": [
      "\u001b[0;31m---------------------------------------------------------------------------\u001b[0m",
      "\u001b[0;31mAttributeError\u001b[0m                            Traceback (most recent call last)",
      "Cell \u001b[0;32mIn[5], line 1\u001b[0m\n\u001b[0;32m----> 1\u001b[0m \u001b[43mColorCMYK\u001b[49m\u001b[38;5;241;43m.\u001b[39;49m\u001b[43mYELLOW\u001b[49m \u001b[38;5;241m=\u001b[39m \u001b[38;5;241m42\u001b[39m\n",
      "File \u001b[0;32m/usr/lib64/python3.13/enum.py:835\u001b[0m, in \u001b[0;36mEnumType.__setattr__\u001b[0;34m(cls, name, value)\u001b[0m\n\u001b[1;32m    833\u001b[0m member_map \u001b[38;5;241m=\u001b[39m \u001b[38;5;28mcls\u001b[39m\u001b[38;5;241m.\u001b[39m\u001b[38;5;18m__dict__\u001b[39m\u001b[38;5;241m.\u001b[39mget(\u001b[38;5;124m'\u001b[39m\u001b[38;5;124m_member_map_\u001b[39m\u001b[38;5;124m'\u001b[39m, {})\n\u001b[1;32m    834\u001b[0m \u001b[38;5;28;01mif\u001b[39;00m name \u001b[38;5;129;01min\u001b[39;00m member_map:\n\u001b[0;32m--> 835\u001b[0m     \u001b[38;5;28;01mraise\u001b[39;00m \u001b[38;5;167;01mAttributeError\u001b[39;00m(\u001b[38;5;124m'\u001b[39m\u001b[38;5;124mcannot reassign member \u001b[39m\u001b[38;5;132;01m%r\u001b[39;00m\u001b[38;5;124m'\u001b[39m \u001b[38;5;241m%\u001b[39m (name, ))\n\u001b[1;32m    836\u001b[0m \u001b[38;5;28msuper\u001b[39m()\u001b[38;5;241m.\u001b[39m\u001b[38;5;21m__setattr__\u001b[39m(name, value)\n",
      "\u001b[0;31mAttributeError\u001b[0m: cannot reassign member 'YELLOW'"
     ]
    }
   ],
   "source": [
    "ColorCMYK.YELLOW = 42"
   ]
  },
  {
   "cell_type": "code",
   "execution_count": 6,
   "metadata": {},
   "outputs": [
    {
     "ename": "AttributeError",
     "evalue": "<enum 'Enum'> cannot set attribute 'value'",
     "output_type": "error",
     "traceback": [
      "\u001b[0;31m---------------------------------------------------------------------------\u001b[0m",
      "\u001b[0;31mAttributeError\u001b[0m                            Traceback (most recent call last)",
      "Cell \u001b[0;32mIn[6], line 1\u001b[0m\n\u001b[0;32m----> 1\u001b[0m \u001b[43mColorCMYK\u001b[49m\u001b[38;5;241;43m.\u001b[39;49m\u001b[43mYELLOW\u001b[49m\u001b[38;5;241;43m.\u001b[39;49m\u001b[43mvalue\u001b[49m \u001b[38;5;241m=\u001b[39m \u001b[38;5;241m4\u001b[39m\n",
      "File \u001b[0;32m/usr/lib64/python3.13/enum.py:227\u001b[0m, in \u001b[0;36mproperty.__set__\u001b[0;34m(self, instance, value)\u001b[0m\n\u001b[1;32m    225\u001b[0m \u001b[38;5;28;01mif\u001b[39;00m \u001b[38;5;28mself\u001b[39m\u001b[38;5;241m.\u001b[39mfset \u001b[38;5;129;01mis\u001b[39;00m \u001b[38;5;129;01mnot\u001b[39;00m \u001b[38;5;28;01mNone\u001b[39;00m:\n\u001b[1;32m    226\u001b[0m     \u001b[38;5;28;01mreturn\u001b[39;00m \u001b[38;5;28mself\u001b[39m\u001b[38;5;241m.\u001b[39mfset(instance, value)\n\u001b[0;32m--> 227\u001b[0m \u001b[38;5;28;01mraise\u001b[39;00m \u001b[38;5;167;01mAttributeError\u001b[39;00m(\n\u001b[1;32m    228\u001b[0m         \u001b[38;5;124m\"\u001b[39m\u001b[38;5;124m<enum \u001b[39m\u001b[38;5;132;01m%r\u001b[39;00m\u001b[38;5;124m> cannot set attribute \u001b[39m\u001b[38;5;132;01m%r\u001b[39;00m\u001b[38;5;124m\"\u001b[39m \u001b[38;5;241m%\u001b[39m (\u001b[38;5;28mself\u001b[39m\u001b[38;5;241m.\u001b[39mclsname, \u001b[38;5;28mself\u001b[39m\u001b[38;5;241m.\u001b[39mname)\n\u001b[1;32m    229\u001b[0m         )\n",
      "\u001b[0;31mAttributeError\u001b[0m: <enum 'Enum'> cannot set attribute 'value'"
     ]
    }
   ],
   "source": [
    "ColorCMYK.YELLOW.value = 4"
   ]
  },
  {
   "cell_type": "code",
   "execution_count": 7,
   "metadata": {},
   "outputs": [],
   "source": [
    "class ColorRGB(Enum):\n",
    "    RED = 1\n",
    "    GREEN = 2\n",
    "    BLUE = 3\n",
    "    \n",
    "    def __repr__(self):        \n",
    "        return f\"Color  : {self}\\nNombre : {self.name}\\nValor  : {self.value}\\n\"\n"
   ]
  },
  {
   "cell_type": "code",
   "execution_count": 8,
   "metadata": {},
   "outputs": [
    {
     "data": {
      "text/plain": [
       "Color  : ColorRGB.RED\n",
       "Nombre : RED\n",
       "Valor  : 1"
      ]
     },
     "execution_count": 8,
     "metadata": {},
     "output_type": "execute_result"
    }
   ],
   "source": [
    "ColorRGB.RED"
   ]
  },
  {
   "cell_type": "markdown",
   "metadata": {},
   "source": [
    "Se pueden comparar distintos enums:"
   ]
  },
  {
   "cell_type": "code",
   "execution_count": 9,
   "metadata": {},
   "outputs": [
    {
     "data": {
      "text/plain": [
       "False"
      ]
     },
     "execution_count": 9,
     "metadata": {},
     "output_type": "execute_result"
    }
   ],
   "source": [
    "ColorRGB.RED == ColorCMYK.YELLOW"
   ]
  },
  {
   "cell_type": "code",
   "execution_count": 10,
   "metadata": {},
   "outputs": [
    {
     "data": {
      "text/plain": [
       "True"
      ]
     },
     "execution_count": 10,
     "metadata": {},
     "output_type": "execute_result"
    }
   ],
   "source": [
    "ColorRGB.RED.value == ColorCMYK.YELLOW.value"
   ]
  },
  {
   "cell_type": "code",
   "execution_count": 11,
   "metadata": {},
   "outputs": [
    {
     "name": "stdout",
     "output_type": "stream",
     "text": [
      "False\n",
      "False\n"
     ]
    }
   ],
   "source": [
    "print(ColorRGB.RED == ColorCMYK.YELLOW)\n",
    "print(ColorRGB.RED is ColorCMYK.YELLOW)"
   ]
  },
  {
   "cell_type": "markdown",
   "metadata": {},
   "source": [
    "### Enums y `match` \n",
    "\n",
    "Una estructura de control introducida en Python 3.10 es `match-case`, y puede ser interesante de usar junto con Enums. El `match-case` fue un pedido recurrente de la comunidad para poseer una estructura de control de flujo múltiple más clara que el `if-elif-else`. Se comporta en forma similar a los `switch` que usan otros lenguajes de programación. La estructura que tiene es la siguiente:\n",
    "\n",
    "```python\n",
    "match variable:\n",
    "    case patrón1:\n",
    "        # Código para patrón1\n",
    "    case patrón2:\n",
    "        # Código para patrón2\n",
    "    ...        \n",
    "    case _:\n",
    "        # Código para el caso por defecto\n",
    "```\n",
    "\n",
    "Por ejemplo:"
   ]
  },
  {
   "cell_type": "code",
   "execution_count": 12,
   "metadata": {},
   "outputs": [
    {
     "name": "stdout",
     "output_type": "stream",
     "text": [
      "Amarillo\n",
      "Rojo\n",
      "Verde\n",
      "Color no reconocido\n"
     ]
    }
   ],
   "source": [
    "def describe_color(color):\n",
    "    match color:\n",
    "        case ColorCMYK.YELLOW:\n",
    "            return \"Amarillo\"\n",
    "        case ColorCMYK.CYAN:\n",
    "            return \"Cian\"\n",
    "        case ColorCMYK.MAGENTA:\n",
    "            return \"Magenta\"\n",
    "        case ColorRGB.RED:\n",
    "            return \"Rojo\"\n",
    "        case ColorRGB.GREEN:\n",
    "            return \"Verde\"\n",
    "        case ColorRGB.BLUE:\n",
    "            return \"Azul\"\n",
    "        case _:\n",
    "            return \"Color no reconocido\"\n",
    "\n",
    "print(describe_color(ColorCMYK.YELLOW))\n",
    "print(describe_color(ColorRGB.RED))\n",
    "print(describe_color(ColorRGB.GREEN))\n",
    "print(describe_color(\"Negro\"))"
   ]
  },
  {
   "cell_type": "markdown",
   "metadata": {},
   "source": [
    "La estructura `match-case` acepta patrones avanzados, comparando estructuras más complejas:"
   ]
  },
  {
   "cell_type": "code",
   "execution_count": 13,
   "metadata": {},
   "outputs": [
    {
     "name": "stdout",
     "output_type": "stream",
     "text": [
      "En el eje Y, en 5\n",
      "Coordenada no válida\n"
     ]
    }
   ],
   "source": [
    "def detecta_coordenadas(coord):\n",
    "    match coord:\n",
    "        case (0, 0):\n",
    "            return \"Origen\"\n",
    "        case (x, 0):\n",
    "            return f\"En el eje X, en {x}\"\n",
    "        case (0, y):\n",
    "            return f\"En el eje Y, en {y}\"\n",
    "        case (x, y):\n",
    "            return f\"En el plano: ({x}, {y})\"\n",
    "        case _:\n",
    "            return \"Coordenada no válida\"\n",
    "        \n",
    "print(detecta_coordenadas((0, 5)))  # \"En el eje Y, en 5\"\n",
    "print(detecta_coordenadas(\"cero, cero\"))"
   ]
  },
  {
   "cell_type": "code",
   "execution_count": 14,
   "metadata": {},
   "outputs": [
    {
     "name": "stdout",
     "output_type": "stream",
     "text": [
      "Lista con un solo elemento: 10\n",
      "Lista con dos elementos: 10 y 20\n",
      "Lista con tres o más elementos: 10, 20, y otros 1 elementos\n",
      "Lista con tres o más elementos: 10, 20, y otros 2 elementos\n",
      "Lista vacía\n",
      "Lista vacía o no reconocida\n"
     ]
    }
   ],
   "source": [
    "def clasifica_lista(lista):\n",
    "    match lista:\n",
    "        case []: \n",
    "            print(\"Lista vacía\")\n",
    "            return None \n",
    "        case [x]:  # Coincide con una lista de un solo elemento\n",
    "            print (f\"Lista con un solo elemento: {x}\")\n",
    "            return x\n",
    "        case [x, y]:  # Coincide con una lista de dos elementos\n",
    "            print (f\"Lista con dos elementos: {x} y {y}\")\n",
    "            return (x,y)\n",
    "        case [x, y, *resto]:  # Coincide con una lista de tres o más elementos\n",
    "            print (f\"Lista con tres o más elementos: {x}, {y}, y otros {len(resto)} elementos\")\n",
    "            return resto\n",
    "        case _:  # Coincide con cualquier otro caso\n",
    "            print (\"Lista vacía o no reconocida\")\n",
    "            return\n",
    "\n",
    "# Probar con diferentes listas\n",
    "clasifica_lista([10])         \n",
    "clasifica_lista([10, 20])     \n",
    "clasifica_lista([10, 20, 30]) \n",
    "clasifica_lista([10, 20, 30, 40]) \n",
    "clasifica_lista([])      \n",
    "clasifica_lista(\"Hola\")     \n"
   ]
  },
  {
   "cell_type": "code",
   "execution_count": 15,
   "metadata": {},
   "outputs": [
    {
     "name": "stdout",
     "output_type": "stream",
     "text": [
      "Lista con tres o más elementos: 10, 20, y otros 2 elementos\n",
      "[30, 40] <class 'list'>\n",
      "Lista con dos elementos: ColorCMYK.BLACK y ColorRGB.RED\n",
      "(<ColorCMYK.BLACK: 4>, Color  : ColorRGB.RED\n",
      "Nombre : RED\n",
      "Valor  : 1\n",
      ") <class 'tuple'>\n"
     ]
    }
   ],
   "source": [
    "v = clasifica_lista([10, 20, 30, 40])\n",
    "print(v,type(v))\n",
    "\n",
    "v = clasifica_lista([ColorCMYK.BLACK, ColorRGB.RED])\n",
    "print(v,type(v))"
   ]
  },
  {
   "cell_type": "markdown",
   "metadata": {},
   "source": [
    "Los distintos casos posibles aceptan el operador `|` que se usa para agruparlos:"
   ]
  },
  {
   "cell_type": "code",
   "execution_count": 16,
   "metadata": {},
   "outputs": [
    {
     "name": "stdout",
     "output_type": "stream",
     "text": [
      "Tengo clases de Python 🥳\n",
      "Es fin de semana 😆\n",
      "Tengo clases de Python 🥳\n"
     ]
    }
   ],
   "source": [
    "from enum import Enum\n",
    "\n",
    "# Definimos un Enum para los días de la semana\n",
    "class Dia(Enum):\n",
    "    LUNES = 1\n",
    "    MARTES = 2\n",
    "    MIERCOLES = 3\n",
    "    JUEVES = 4\n",
    "    VIERNES = 5\n",
    "    SABADO = 6\n",
    "    DOMINGO = 7\n",
    "\n",
    "    # Función para determinar si es día laboral o fin de semana\n",
    "    def es_dia_laboral(self):\n",
    "        match self:\n",
    "            case Dia.LUNES | Dia.MIERCOLES:\n",
    "                return \"Tengo clases de Python 🥳\"\n",
    "            case  Dia.MARTES | Dia.JUEVES | Dia.VIERNES :\n",
    "                return \"Es un día laboral 🧐\"\n",
    "            case Dia.SABADO | Dia.DOMINGO:\n",
    "                return \"Es fin de semana 😆\"\n",
    "            case _:\n",
    "                return \"Día no válido\"\n",
    "\n",
    "# Probar con diferentes días\n",
    "print(Dia.LUNES.es_dia_laboral())   \n",
    "print(Dia.SABADO.es_dia_laboral())  \n",
    "print(Dia.MIERCOLES.es_dia_laboral())\n"
   ]
  },
  {
   "cell_type": "markdown",
   "metadata": {},
   "source": [
    "O comparar tipos de datos"
   ]
  },
  {
   "cell_type": "code",
   "execution_count": 17,
   "metadata": {},
   "outputs": [
    {
     "name": "stdout",
     "output_type": "stream",
     "text": [
      "Usando RGB: ColorRGB.RED\n",
      "\n",
      "Usando YMgCy: ColorCMYK.YELLOW\n",
      "\n",
      "Color no reconocido\n",
      "\n"
     ]
    }
   ],
   "source": [
    "def printer_color(color: ColorRGB | ColorCMYK) -> None:\n",
    "    match color:\n",
    "        case ColorRGB():\n",
    "            print(f\"Usando RGB: {color}\\n\")\n",
    "        case ColorCMYK():\n",
    "            print(f\"Usando YMgCy: {color}\\n\")\n",
    "        case _:\n",
    "            print(\"Color no reconocido\\n\")\n",
    "\n",
    "printer_color(ColorRGB.RED)\n",
    "printer_color(ColorCMYK.YELLOW)\n",
    "printer_color(\"Negro\")"
   ]
  },
  {
   "cell_type": "markdown",
   "metadata": {},
   "source": [
    "Es posible hacer comparaciones más complejas todavía, por ejemplo, usando clases:"
   ]
  },
  {
   "cell_type": "code",
   "execution_count": 18,
   "metadata": {},
   "outputs": [
    {
     "name": "stdout",
     "output_type": "stream",
     "text": [
      "Hola Juan, eres menor de edad.\n",
      "Hola Ana, eres mayor de edad.\n",
      "Hola Mabel, podés manejar pero no comprar alcohol\n",
      "Eres un alien\n"
     ]
    }
   ],
   "source": [
    "class Persona:\n",
    "    def __init__(self, nombre, edad):\n",
    "        self.nombre = nombre\n",
    "        self.edad = edad\n",
    "\n",
    "def saluda_a(persona):\n",
    "    match persona:\n",
    "        case Persona() if persona.edad >= 18:\n",
    "            return f\"Hola {persona.nombre}, eres mayor de edad.\"\n",
    "        case Persona() if 16 <= persona.edad < 18:\n",
    "            return f\"Hola {persona.nombre}, podés manejar pero no comprar alcohol\"\n",
    "        case Persona():\n",
    "            return f\"Hola {persona.nombre}, eres menor de edad.\"\n",
    "        case _:\n",
    "            return \"Eres un alien\"\n",
    "        \n",
    "print(saluda_a(Persona(\"Juan\",12))) \n",
    "print(saluda_a(Persona(\"Ana\",19)))  \n",
    "print(saluda_a(Persona(\"Mabel\",17)))\n",
    "print(saluda_a(\"Chewbacca\"))"
   ]
  },
  {
   "cell_type": "markdown",
   "metadata": {},
   "source": [
    "Otra forma de hacerlo es a través del denominado match _posicional_. Para ello se agrega el atributo  __match_args__ a la clase, que contiene una tupla que representa los argumentos de creación de la clase tal como figuran en el `__init__`. \n",
    "\n",
    "> Atención: consultar [la ayuda](https://peps.python.org/pep-0636/) para comprender en profundidad cómo funciona el `match-case` cuando se comparan estructuras de datos complejas como las clases."
   ]
  },
  {
   "cell_type": "code",
   "execution_count": 19,
   "metadata": {},
   "outputs": [
    {
     "name": "stdout",
     "output_type": "stream",
     "text": [
      "Hola Juan, eres menor de edad.\n",
      "Hola Ana, eres mayor de edad.\n",
      "Hola Mabel, podés manejar pero no comprar alcohol\n",
      "Eres un alien\n"
     ]
    }
   ],
   "source": [
    "class Persona:\n",
    "    __match_args__ = (\"nombre\",\"edad\")\n",
    "\n",
    "    def __init__(self, nombre, edad):\n",
    "        self.nombre = nombre\n",
    "        self.edad = edad\n",
    "\n",
    "def saluda_a(persona):\n",
    "    match persona:\n",
    "        case Persona(nombre, edad) if edad >= 18:\n",
    "            return f\"Hola {nombre}, eres mayor de edad.\"\n",
    "        case Persona(nombre, edad) if 16 <= edad < 18:\n",
    "            return f\"Hola {nombre}, podés manejar pero no comprar alcohol\"\n",
    "        case Persona(nombre, edad):\n",
    "            return f\"Hola {nombre}, eres menor de edad.\"\n",
    "        case _:\n",
    "            return \"Eres un alien\"\n",
    "        \n",
    "print(saluda_a(Persona(\"Juan\",12))) \n",
    "print(saluda_a(Persona(\"Ana\",19)))  \n",
    "print(saluda_a(Persona(\"Mabel\",17)))\n",
    "print(saluda_a(\"Chewbacca\"))"
   ]
  },
  {
   "cell_type": "markdown",
   "metadata": {},
   "source": [
    "## Dataclasses\n",
    "\n",
    "En muchísimas situaciones uno necesita utilizar una clase con ciertos métodos habituales, como un constructor default. Para ello Python provee un módulo que define un decorador `@dataclass` que los genera. "
   ]
  },
  {
   "cell_type": "code",
   "execution_count": 20,
   "metadata": {},
   "outputs": [],
   "source": [
    "from dataclasses import dataclass\n",
    "\n",
    "@dataclass\n",
    "class Atomo:\n",
    "    nombre: str    \n",
    "    simbolo: str\n",
    "    N: int # número atómico\n",
    "    A: int # número de masa\n"
   ]
  },
  {
   "cell_type": "code",
   "execution_count": 21,
   "metadata": {},
   "outputs": [
    {
     "name": "stdout",
     "output_type": "stream",
     "text": [
      "Atomo(nombre='Hidrógeno', simbolo='H', N=1, A=1)\n"
     ]
    },
    {
     "data": {
      "text/plain": [
       "Atomo(nombre='Hidrógeno', simbolo='H', N=1, A=1)"
      ]
     },
     "execution_count": 21,
     "metadata": {},
     "output_type": "execute_result"
    }
   ],
   "source": [
    "hidrogeno = Atomo(\"Hidrógeno\", \"H\", 1, 1)\n",
    "helio = Atomo(\"Helio\", \"He\", 2, 4)\n",
    "\n",
    "print(hidrogeno)\n",
    "hidrogeno"
   ]
  },
  {
   "cell_type": "markdown",
   "metadata": {},
   "source": [
    "Entre los métodos que el decorador genera automáticamente están el constructor `__init__`, los métodos `__repr__` y `__str__` y el método `__eq__` que provee igualdad estructural:"
   ]
  },
  {
   "cell_type": "code",
   "execution_count": 22,
   "metadata": {},
   "outputs": [
    {
     "name": "stdout",
     "output_type": "stream",
     "text": [
      "True\n",
      "False\n"
     ]
    }
   ],
   "source": [
    "h = Atomo(\"Hidrógeno\", \"H\", 1, 1)\n",
    "print(h==hidrogeno)\n",
    "print(h is hidrogeno)"
   ]
  },
  {
   "cell_type": "markdown",
   "metadata": {},
   "source": [
    "Además de la sintaxis sencilla, se pueden crear dataclasses con argumentos default:"
   ]
  },
  {
   "cell_type": "code",
   "execution_count": 23,
   "metadata": {},
   "outputs": [
    {
     "name": "stdout",
     "output_type": "stream",
     "text": [
      "Producto(nombre='Laptop', precio=1000.0, stock=<StockStatus.AGOTADO: 'Sin stock'>)\n",
      "Producto(nombre='Cerveza', precio=2.5, stock=<StockStatus.DISPONIBLE: 'En stock'>)\n"
     ]
    }
   ],
   "source": [
    "class StockStatus(Enum):\n",
    "    DISPONIBLE = \"En stock\"\n",
    "    AGOTADO = \"Sin stock\"\n",
    "    QUEDAN_POCOS = \"Stock bajo!\" \n",
    "\n",
    "\n",
    "@dataclass\n",
    "class Producto:\n",
    "    nombre: str\n",
    "    precio: float\n",
    "    stock: StockStatus = StockStatus.AGOTADO \n",
    "\n",
    "p = Producto(\"Laptop\", 1000.0)\n",
    "print(p)    \n",
    "\n",
    "b = Producto(\"Cerveza\",2.5, StockStatus.DISPONIBLE)\n",
    "print(b)"
   ]
  },
  {
   "cell_type": "markdown",
   "metadata": {},
   "source": [
    "Para finalizar, es posible poblar una `dataclass` a partir de un diccionario en forma sencilla, siempre y cuando las claves del diccionario se correspondan unívocamente con los campos de la estructura de la `dataclass`"
   ]
  },
  {
   "cell_type": "code",
   "execution_count": 24,
   "metadata": {},
   "outputs": [
    {
     "name": "stdout",
     "output_type": "stream",
     "text": [
      "Producto(nombre='Cerveza', precio=2.5, stock=<StockStatus.DISPONIBLE: 'En stock'>)\n"
     ]
    }
   ],
   "source": [
    "cerveza = { \"nombre\": \"Cerveza\", \"precio\": 2.5, \"stock\": StockStatus.DISPONIBLE } \n",
    "\n",
    "b = Producto(**cerveza)\n",
    "print(b)"
   ]
  },
  {
   "cell_type": "code",
   "execution_count": 25,
   "metadata": {},
   "outputs": [
    {
     "name": "stdout",
     "output_type": "stream",
     "text": [
      "Producto(nombre='Cerveza artesanal', precio=2.5, stock=<StockStatus.DISPONIBLE: 'En stock'>)\n"
     ]
    }
   ],
   "source": [
    "b.nombre = \"Cerveza artesanal\"\n",
    "print(b)"
   ]
  },
  {
   "cell_type": "code",
   "execution_count": 26,
   "metadata": {},
   "outputs": [],
   "source": [
    "b.nombre = 4"
   ]
  },
  {
   "cell_type": "markdown",
   "metadata": {},
   "source": [
    "Otra propiedad interesante que poseen las `dataclass`es consiste en utilizar el argumento `frozen` para evitar que los objetos sean modificados una vez creados. Si intentamos modificar un atributo de un objeto `frozen`, se lanzará una excepción `FrozenInstanceError`."
   ]
  },
  {
   "cell_type": "code",
   "execution_count": 27,
   "metadata": {},
   "outputs": [],
   "source": [
    "@dataclass(frozen=True)\n",
    "class Atomo():\n",
    "    nombre: str    \n",
    "    simbolo: str\n",
    "    N: int # número atómico\n",
    "    A: int # número de masa\n"
   ]
  },
  {
   "cell_type": "code",
   "execution_count": 28,
   "metadata": {},
   "outputs": [
    {
     "name": "stdout",
     "output_type": "stream",
     "text": [
      "Atomo(nombre='Calcio', simbolo='Ca', N=20, A=40)\n"
     ]
    },
    {
     "ename": "FrozenInstanceError",
     "evalue": "cannot assign to field 'A'",
     "output_type": "error",
     "traceback": [
      "\u001b[0;31m---------------------------------------------------------------------------\u001b[0m",
      "\u001b[0;31mFrozenInstanceError\u001b[0m                       Traceback (most recent call last)",
      "Cell \u001b[0;32mIn[28], line 3\u001b[0m\n\u001b[1;32m      1\u001b[0m Ca \u001b[38;5;241m=\u001b[39m Atomo(\u001b[38;5;124m\"\u001b[39m\u001b[38;5;124mCalcio\u001b[39m\u001b[38;5;124m\"\u001b[39m, \u001b[38;5;124m\"\u001b[39m\u001b[38;5;124mCa\u001b[39m\u001b[38;5;124m\"\u001b[39m, \u001b[38;5;241m20\u001b[39m, \u001b[38;5;241m40\u001b[39m)\n\u001b[1;32m      2\u001b[0m \u001b[38;5;28mprint\u001b[39m(Ca)\n\u001b[0;32m----> 3\u001b[0m \u001b[43mCa\u001b[49m\u001b[38;5;241;43m.\u001b[39;49m\u001b[43mA\u001b[49m \u001b[38;5;241m=\u001b[39m \u001b[38;5;241m14\u001b[39m\n",
      "File \u001b[0;32m<string>:18\u001b[0m, in \u001b[0;36m__setattr__\u001b[0;34m(self, name, value)\u001b[0m\n",
      "\u001b[0;31mFrozenInstanceError\u001b[0m: cannot assign to field 'A'"
     ]
    }
   ],
   "source": [
    "Ca = Atomo(\"Calcio\", \"Ca\", 20, 40)\n",
    "print(Ca)\n",
    "Ca.A = 14"
   ]
  },
  {
   "cell_type": "markdown",
   "metadata": {},
   "source": [
    "-----\n",
    "\n",
    "## Ejercicios 08 (b)\n",
    "\n",
    "2. El archivo `atomos_t.json` contiene datos atómicos y físicos de los primeros átomos de la tabla periódica. Se puede usar el módulo `json` para leer este archivo de la siguiente manera\n",
    "   ```python\n",
    "   import json\n",
    "   with open('atomos_t.json', 'r') as file:  # Verifique que el path al archivo sea el correcto en su caso\n",
    "\t   atomos = json.load(file)\n",
    "   ```\n",
    "\n",
    "   De esta manera se crea un diccionario `atomos` con la información del archivo.\n",
    "\n",
    "   - Cree una `dataclass` para manejar los datos atómicos, que incluya el nombre del elemento, el símbolo, el número atómico y la masa atómica.\n",
    "   - Extienda la clase anterior para poder manejar el estado del material a temperatura ambiente ('State at Room Temp'). Para ello cree un `enum` adecuado para representarlo y construya una nueva `dataclass` adecuada.\n",
    "   - Modifique `__repr__` y `__str__` para que se imprima la información de cada átomo en forma clara y bella.\n",
    "   - ¿Qué estrategia/s usaría para incorporar las temperaturas de fusión ('Melting Point') y de ebullición ('Boiling Point') de los átomos de la lista?\n",
    "\n",
    "\n",
    "-----\n"
   ]
  }
 ],
 "metadata": {
  "kernelspec": {
   "display_name": "Python 3 (ipykernel)",
   "language": "python",
   "name": "python3"
  },
  "language_info": {
   "codemirror_mode": {
    "name": "ipython",
    "version": 3
   },
   "file_extension": ".py",
   "mimetype": "text/x-python",
   "name": "python",
   "nbconvert_exporter": "python",
   "pygments_lexer": "ipython3",
   "version": "3.13.2"
  }
 },
 "nbformat": 4,
 "nbformat_minor": 4
}
