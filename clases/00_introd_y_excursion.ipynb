{
 "cells": [
  {
   "cell_type": "markdown",
   "id": "0d5a3408-96fa-4a8d-a0ab-63beaff7abb0",
   "metadata": {
    "ein.tags": "worksheet-0",
    "slideshow": {
     "slide_type": "slide"
    }
   },
   "source": [
    "# Introducción al lenguaje Python orientado a Ingenierías y Física\n",
    "\n",
    "**Autor: Juan Fiol**\n",
    "\n",
    "**Licencia:**\n",
    "\n",
    "Esta obra está bajo una [Licencia Creative Commons Atribución-CompartirIgual 4.0 Internacional](http://creativecommons.org/licenses/by-sa/4.0/). [![Licencia Creative Commons](https://i.creativecommons.org/l/by-sa/4.0/88x31.png)](http://creativecommons.org/licenses/by-sa/4.0/)"
   ]
  },
  {
   "cell_type": "markdown",
   "id": "42c49065",
   "metadata": {
    "ein.tags": "worksheet-0",
    "slideshow": {
     "slide_type": "slide"
    }
   },
   "source": [
    "## Python y su uso en ingenierías y ciencias\n",
    "\n",
    "\n",
    "El objetivo de este curso es realizar una introducción al lenguaje de programación Python para su uso en el trabajo científico y técnico/tecnológico. Si bien este curso *\"en el final finaliza y empieza por adelante\"* vamos a tratar algunos de los temas más básicos sólo brevemente. Es recomendable que se haya realizado anteriormente un curso de *Introducción a la programación*, y tener un mínimo de conocimientos y experiencia en programación."
   ]
  },
  {
   "cell_type": "markdown",
   "id": "a800cb0a",
   "metadata": {
    "ein.tags": "worksheet-0",
    "slideshow": {
     "slide_type": "notes"
    }
   },
   "source": [
    "¿Qué es y por qué queremos aprender/utilizar **Python**?\n",
    "\n",
    "El lenguaje de progamación Python fue creado al principio de los 90' por Guido van Rossum, con la intención de ser un lenguaje de alto nivel, con una sintaxis clara, limpia y que intenta ser muy legible. Es un lenguaje de propósito general por lo que puede utilizarse en un amplio rango de aplicaciones.\n",
    "\n",
    "Desde sus comienzos ha evolucionado y se ha creado una gran comunidad de desarrolladores y usuarios, con especializaciones en muchas áreas. En la actualidad existen grandes comunidades en aplicaciones tan disímiles como desarrollo web, interfaces gráficas (GUI), distintas ramas de la ciencia tales cómo física, astronomía, biología, ciencias de la computación. También se encuentran muchas aplicaciones en ciencia de datos, estadística, economía y análisis de finanzas en la bolsa, en interacción con bases de datos, y en el procesamiento de gran número de datos como se encuentran en astronomía, biología, meteorología, etc.\n",
    "\n",
    "En particular, Python encuentra un nicho de aplicación muy importante en varios aspectos muy distintos del trabajo de ingeniería, científico, o técnico. Por ejemplo, es una lenguaje muy poderoso para analizar y graficar datos experimentales, incluso cuando se requiere procesar un número muy alto de datos. Presenta muchas facilidades para cálculo numérico, se puede conjugar de forma relativamente sencilla con otros lenguajes más tradicionales (Fortran, C, C++), e incluso se puede usar como \"marco de trabajo\", para crear una interfaz consistente y simple de usar en un conjunto de programas ya existentes.\n",
    "\n",
    "Python es un lenguaje interpretado, como Matlab o IDL, por lo que no necesita ser compilado. Esta característica trae aparejadas ventajas y desventajas. La mayor desventaja es que para algunas aplicaciones --como por ejemplo cálculo numérico intensivo-- puede ser considerablemente más lento que los lenguajes tradicionales. Esta puede ser una desventaja tan importante que simplemente nos inhabilite para utilizar este lenguaje y tendremos que recurrir (volver) a lenguajes compilados. Sin embargo, existen alternativas que, en muchos casos permiten superar esta deficiencia.\n",
    "\n",
    "Por otro lado existen varias ventajas relacionadas con el desarrollo y ejecución de los programas. En primer lugar, el flujo de trabajo:\n",
    "*Escribir-ejecutar-modificar-ejecutar-modificar-ejecutar-modificar-ejecutar- ...* es más ágil. Alternativamente, se puede utilizar en forma interactiva, lo que permite modificar y ejecutar líneas específicas de un programa hasta obtener la versión correcta.\n",
    "\n",
    "Es un lenguaje pensado para mantener una gran modularidad, que permite reusar el código con gran simpleza.\n",
    "Otra ventaja de Python es que trae incluida una biblioteca con utilidades y extensiones para una gran variedad de aplicaciones **que son parte integral del lenguaje**. Además, debido a su creciente popularidad, existe una multiplicidad de bibliotecas adicionales especializadas en áreas específicas. Por esta razones el tiempo de desarrollo: desde la idea original hasta una versión que funciona correctamente puede ser mucho menor que en otros lenguajes.\n",
    "\n",
    "A modo de ejemplo veamos un gráfico, que hizo [Juan Nunez-Iglesias](https://gist.github.com/jni/3339985a016572f178d3c2f18e27ec0d) basado en código de T. P. Robitaille y actualizado por C. Beaumont, correspondiente a la evolución hasta 2016 del uso de Python comparado con otros lenguajes/entornos en el ámbito de la Astronomía."
   ]
  },
  {
   "cell_type": "markdown",
   "id": "d1e239d4",
   "metadata": {
    "ein.tags": "worksheet-0",
    "slideshow": {
     "slide_type": "subslide"
    }
   },
   "source": [
    "El uso de Python en comparación con otros lenguajes científicos de alto nivel creció rápidamente durante los últimos años.\n",
    "\n",
    "![](figuras/counting_programs.png) "
   ]
  },
  {
   "cell_type": "markdown",
   "id": "2a8de3ea",
   "metadata": {
    "ein.tags": "worksheet-0",
    "slideshow": {
     "slide_type": "notes"
    }
   },
   "source": [
    "Un último punto que no puede dejar de mencionarse es que Python es libre (y gratis). Esto significa que cada versión nueva puede simplemente descargarse e instalarse sin limitaciones, sin licencias. Además, al estar disponible el código fuente uno podría modificar el lenguaje --una situación que no es muy probable que ocurra-- o podría mirar cómo está implementada alguna función --un escenario bastante más probable-- para copiar (o tomar inspiración en) alguna funcionalidad que necesitamos en nuestro código."
   ]
  },
  {
   "cell_type": "markdown",
   "id": "e8810b09",
   "metadata": {
    "ein.tags": "worksheet-0",
    "slideshow": {
     "slide_type": "skip"
    }
   },
   "source": [
    "## Visita y excursión a aplicaciones de Python"
   ]
  },
  {
   "cell_type": "markdown",
   "id": "5490c9b9",
   "metadata": {
    "ein.tags": "worksheet-0",
    "slideshow": {
     "slide_type": "slide"
    }
   },
   "source": [
    "### Graficación científica en 2D\n",
    "\n",
    " La biblioteca **matplotlib** es una de las mejores opciones para hacer gráficos en 2D, con algunas posibilidades para graficación 3D. \n",
    "\n",
    "![](figuras/curvas_log.png)"
   ]
  },
  {
   "cell_type": "markdown",
   "id": "a8f50cdb",
   "metadata": {
    "ein.tags": "worksheet-0",
    "slideshow": {
     "slide_type": "subslide"
    }
   },
   "source": [
    "![](figuras/axes_demo.png) "
   ]
  },
  {
   "cell_type": "markdown",
   "id": "b65c30af",
   "metadata": {
    "ein.tags": "worksheet-0",
    "slideshow": {
     "slide_type": "subslide"
    }
   },
   "source": [
    "![](figuras/streamplot_demo_features_00.png)"
   ]
  },
  {
   "cell_type": "markdown",
   "id": "0305a6e0",
   "metadata": {
    "ein.tags": "worksheet-0",
    "slideshow": {
     "slide_type": "subslide"
    }
   },
   "source": [
    "![](figuras/polar_legend.png)"
   ]
  },
  {
   "cell_type": "markdown",
   "id": "d7f59d32",
   "metadata": {
    "ein.tags": "worksheet-0",
    "slideshow": {
     "slide_type": "subslide"
    }
   },
   "source": [
    "![](figuras/example_stats.png)"
   ]
  },
  {
   "cell_type": "markdown",
   "id": "ff032cc7",
   "metadata": {
    "ein.tags": "worksheet-0",
    "slideshow": {
     "slide_type": "notes"
    }
   },
   "source": [
    "El mejor lugar para un acercamiento es posiblemente la [Galería de matplotlib](file://file:///home/fiol/usr/share/pylookup/matplotlib/gallery.html)\n",
    "\n",
    "\n",
    "El último ejemplo está creado utilizando *seaborn*, un paquete para visualización estadística\n",
    "(tomado de Scipy Lecture Notes)"
   ]
  },
  {
   "cell_type": "markdown",
   "id": "324b1c3f",
   "metadata": {
    "ein.tags": "worksheet-0",
    "slideshow": {
     "slide_type": "notes"
    }
   },
   "source": [
    "### Graficación en 3D\n",
    "\n",
    "Matplotlib tiene capacidades para realizar algunos gráficos en 3D, si no son demasiado complejos. Para realizar gráficos de mayor complejidad, una de las más convenientes y populares bibliotecas/entornos es Mayavi:\n",
    "  \n",
    "![](figuras/galeria_mayavi.png)"
   ]
  },
  {
   "cell_type": "markdown",
   "id": "3a9fdca9",
   "metadata": {
    "ein.tags": "worksheet-0",
    "slideshow": {
     "slide_type": "notes"
    }
   },
   "source": [
    "### Programación de dispositivos e instrumentos\n",
    "\n",
    "Python ha ido agregando capacidades para la programación de instrumentos (osciloscopios, tarjetas, ...), dispositivos móbiles, y otros tipos de hardware. Si bien el desarrollo no es tan maduro como el de otras bibliotecas.\n",
    "\n",
    "![](figuras/pyvisa.png)\n",
    "\n",
    "![](figuras/python-arduino.png)"
   ]
  },
  {
   "cell_type": "markdown",
   "id": "6b638b9e",
   "metadata": {
    "ein.tags": "worksheet-0",
    "slideshow": {
     "slide_type": "notes"
    }
   },
   "source": [
    "### Otras aplicaciones\n",
    "\n",
    "* Desarrollo web (Django, Cheetah3, Nikola, ...)\n",
    "\n",
    "* Python embebido en otros programas:\n",
    "    - Diseño CAD (Freecad, ...)\n",
    "    - Diseño gráfico (Blender, Gimp, ...l)\n",
    "\n",
    "----"
   ]
  },
  {
   "cell_type": "markdown",
   "id": "ad3983ef",
   "metadata": {
    "ein.tags": "worksheet-0",
    "slideshow": {
     "slide_type": "slide"
    }
   },
   "source": [
    "## Aplicaciones científicas\n",
    "\n",
    "Vamos a aprender a programar en Python, y a utilizar un conjunto de bibliotecas creadas para uso científico y técnico:\n",
    "\n",
    "En este curso vamos a trabajar principalmente con Ipython y Jupyter, y los paquetes científicos [Numpy](http://numpy.org), [Scipy](https://scipy.org) y [Matplotlib](http://matplotlib.org).\n",
    "\n",
    "![Herramientas](figuras/logos.png)"
   ]
  },
  {
   "cell_type": "markdown",
   "id": "7fb2ddc2",
   "metadata": {
    "ein.tags": "worksheet-0",
    "slideshow": {
     "slide_type": "slide"
    }
   },
   "source": [
    "## Bibliografía\n",
    "\n",
    "Se ha logrado constituir una gran comunidad en torno a Python, y en particular en torno a las aplicaciones científicas, por lo que existe mucha información disponible. En la preparación de estas clases se leyó, inspiró, copió, adaptó material de las siguientes fuentes:"
   ]
  },
  {
   "cell_type": "markdown",
   "id": "f42fce0e",
   "metadata": {
    "ein.tags": "worksheet-0",
    "slideshow": {
     "slide_type": "slide"
    }
   },
   "source": [
    "### Accesible en línea\n",
    "\n",
    "-   [La documentación oficial de Python](https://docs.python.org/3/)\n",
    "-   El [Tutorial de Python](https://docs.python.org/3/tutorial/),\n",
    "    también [en español](http://docs.python.org.ar/tutorial/3/)\n",
    "-   [Documentación de Numpy](http://docs.scipy.org/doc/numpy/user/)\n",
    "-   [Documentación de Scipy](https://docs.scipy.org/doc/scipy/reference/)\n",
    "-   [Documentación de Matplotlib](http://matplotlib.org), en particular\n",
    "    la [Galería](http://matplotlib.org/gallery.html)\n",
    "-   [Introduction to Python for Science](http://www.physics.nyu.edu/pine/pymanual/html/pymanMaster.html)\n",
    "-   El curso de [Python científico](https://github.com/mgaitan/curso-python-cientifico)\n",
    "-   Las clases de Scipy [Scipy Lectures](http://scipy-lectures.org)\n",
    "-   [Scipy Cookbook](http://scipy-cookbook.readthedocs.io/index.html)\n",
    "-   [Computational Statistics in Python](http://people.duke.edu/~ccc14/sta-663-2017/index.html)"
   ]
  },
  {
   "cell_type": "markdown",
   "id": "5010d85f",
   "metadata": {
    "ein.tags": "worksheet-0",
    "slideshow": {
     "slide_type": "slide"
    }
   },
   "source": [
    "### Libros\n",
    "\n",
    "-   [The Python Standard Library by Example](https://doughellmann.com/blog/the-python-3-standard-library-by-example/)\n",
    "    de Doug Hellman, Addison-Wesley, 2017\n",
    "-   [Python Cookbook](https://www.amazon.com/Python-Cookbook-Third-David-Beazley/dp/1449340377)\n",
    "    de David Beazley, Brian K. Jones, O\\'Reilly Pub., 2013.\n",
    "-   [Elegant Scipy](https://www.oreilly.com/library/view/elegant-scipy/9781491922927/)\n",
    "    de Harriet Dashnow, Stéfan van der Walt, Juan Nunez-Iglesias,\n",
    "    O\\'Reilly Pub., 2017.\n",
    "-   [Scientific Computing with Python 3](https://www.packtpub.com/big-data-and-business-intelligence/scientific-computing-python-3)\n",
    "    de Claus Führer, Jan Erik Solem, Olivier Verdier, Packt Pub., 2016.\n",
    "-   [Interactive Applications Using Matplotlib](https://www.packtpub.com/application-development/interactive-applications-using-matplotlib)\n",
    "    de Benjamin V Root, Packt Pub., 2015.\n",
    "-   [Mastering Python Regular Expressions](https://www.packtpub.com/application-development/mastering-python-regular-expressions)\n",
    "    de Félix López, Víctor Romero, Packt Pub., 2014,"
   ]
  },
  {
   "cell_type": "markdown",
   "id": "836f7abb",
   "metadata": {
    "ein.tags": "worksheet-0",
    "slideshow": {
     "slide_type": "slide"
    }
   },
   "source": [
    "## Otras referencias de interés\n",
    "\n",
    "\n",
    "- La [documentación de jupyter notebooks](https://jupyter-notebook.readthedocs.io/en/stable/)\n",
    "\n",
    "-  Otras bibliotecas útiles:\n",
    "\n",
    "  >  -   [Pandas](http://pandas.pydata.org/pandas-docs/stable/)\n",
    "  >  -   [Sympy](http://docs.sympy.org/latest/index.html)\n",
    "\n",
    "- [Información para usuarios de Matlab](http://mathesaurus.sourceforge.net/matlab-numpy.html)\n",
    "  \n",
    "\n",
    "\n",
    "- Blogs y otras publicaciones\n",
    "\n",
    "  > -   [The Glowing Python](http://glowingpython.blogspot.com.ar/)\n",
    "  > -   [Python for Signal\n",
    "  >     Processing](http://python-for-signal-processing.blogspot.com.ar/)\n",
    "  > -   [Ejercicios en\n",
    "  >     Numpy](http://www.labri.fr/perso/nrougier/teaching/numpy.100/)\n",
    "  > -   [Videos de Curso para Científicos e\n",
    "  >     Ingenieros](https://www.youtube.com/playlist?list=PLoGFizEtm_6iheDXw2-8onKClyxgstBO1)"
   ]
  }
 ],
 "metadata": {
  "kernelspec": {
   "display_name": "Python 3 (ipykernel)",
   "language": "python",
   "name": "python3"
  },
  "language_info": {
   "codemirror_mode": {
    "name": "ipython",
    "version": 3
   },
   "file_extension": ".py",
   "mimetype": "text/x-python",
   "name": "python",
   "nbconvert_exporter": "python",
   "pygments_lexer": "ipython3",
   "version": "3.11.7"
  },
  "name": "00_introd_y_excursion.ipynb",
  "toc": {
   "base_numbering": 1,
   "nav_menu": {
    "height": "283.933px",
    "width": "252px"
   },
   "number_sections": true,
   "sideBar": true,
   "skip_h1_title": false,
   "title_cell": "Contenidos",
   "title_sidebar": "Contenidos",
   "toc_cell": false,
   "toc_position": null,
   "toc_section_display": true,
   "toc_window_display": false
  }
 },
 "nbformat": 4,
 "nbformat_minor": 5
}
