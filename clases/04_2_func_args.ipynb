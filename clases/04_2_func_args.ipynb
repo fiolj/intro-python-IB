{
 "cells": [
  {
   "cell_type": "markdown",
   "id": "e95ddc4c-8b20-4d6c-9065-7c8ace9b3ef4",
   "metadata": {
    "collapsed": false,
    "jupyter": {
     "outputs_hidden": false
    }
   },
   "source": [
    "## Argumentos de las funciones\n"
   ]
  },
  {
   "cell_type": "markdown",
   "id": "502b643d-69d2-41f5-970e-7b8376a40363",
   "metadata": {
    "collapsed": false,
    "jupyter": {
     "outputs_hidden": false
    }
   },
   "source": [
    "\n",
    "### Ámbito de las variables en los argumentos\n",
    "\n",
    "Consideremos la siguiente función\n"
   ]
  },
  {
   "cell_type": "code",
   "execution_count": 1,
   "id": "caa476ab-00df-4cf6-a6a1-94cc217f259d",
   "metadata": {
    "collapsed": false,
    "jupyter": {
     "outputs_hidden": false
    }
   },
   "outputs": [],
   "source": [
    "sep = 47*'-'\n",
    "def func1(x):\n",
    "  print(sep,'\\nx entró a la función con el valor', x)\n",
    "  print('Id adentro:',id(x))\n",
    "  x = 2\n",
    "  print('El nuevo valor de x es', x)\n",
    "  print('Id adentro nuevo:',id(x),'\\n', sep)"
   ]
  },
  {
   "cell_type": "code",
   "execution_count": 2,
   "id": "20dfd4b7-605e-4582-b4f5-2772f2471c26",
   "metadata": {
    "collapsed": false,
    "jupyter": {
     "outputs_hidden": false
    }
   },
   "outputs": [
    {
     "name": "stdout",
     "output_type": "stream",
     "text": [
      "Id afuera antes: 139956879004968\n",
      "Fuera de la función: Originalmente x vale 50\n",
      "----------------------------------------------- \n",
      "x entró a la función con el valor 50\n",
      "Id adentro: 139956879004968\n",
      "El nuevo valor de x es 2\n",
      "Id adentro nuevo: 139956879003432 \n",
      " -----------------------------------------------\n",
      "Fuera de la función: Ahora x vale 50\n",
      "Id afuera después: 139956879004968\n"
     ]
    }
   ],
   "source": [
    "x = 50\n",
    "print('Id afuera antes:',id(x))\n",
    "print('Fuera de la función: Originalmente x vale',x)\n",
    "func1(x)\n",
    "print('Fuera de la función: Ahora x vale',x)  \n",
    "print('Id afuera después:',id(x))"
   ]
  },
  {
   "cell_type": "markdown",
   "id": "61a4b235-e1e1-474d-a6e1-6ce855cd824c",
   "metadata": {
    "collapsed": false,
    "jupyter": {
     "outputs_hidden": false
    }
   },
   "source": [
    "Vemos que la variable `x` que utilizamos como argumento de la función debe ser diferente a la variable `x` que se define fuera de la función, ya que su valor no cambia al salir.\n",
    "Además usamos la función `id()` para obtener la identidad de la variable y vemos que \n",
    "\n",
    "Consideremos ahora la siguiente función:"
   ]
  },
  {
   "cell_type": "code",
   "execution_count": 3,
   "id": "096f9642-bc2a-44b7-8dca-c248471f20aa",
   "metadata": {
    "collapsed": false,
    "jupyter": {
     "outputs_hidden": false
    }
   },
   "outputs": [],
   "source": [
    "def func2(x):\n",
    "  print(sep,'\\nx entró a la función con el valor', x)\n",
    "  print('Id adentro:',id(x))\n",
    "  x = [2,7]\n",
    "  print('El nuevo valor de x es', x)\n",
    "  print('Id adentro nuevo:',id(x),'\\n', sep)"
   ]
  },
  {
   "cell_type": "markdown",
   "id": "3b90b743-de84-49ef-8033-879f45487149",
   "metadata": {
    "collapsed": false,
    "jupyter": {
     "outputs_hidden": false
    }
   },
   "source": [
    "La función es muy parecida, sólo que le estamos dando a la variable `x` dentro de la función un nuevo valor del tipo ``lista``. "
   ]
  },
  {
   "cell_type": "code",
   "execution_count": 4,
   "id": "050042f0-8c02-42af-bd4d-b6ecf0d24042",
   "metadata": {
    "collapsed": false,
    "jupyter": {
     "outputs_hidden": false
    }
   },
   "outputs": [
    {
     "name": "stdout",
     "output_type": "stream",
     "text": [
      "Id afuera antes: 139956879004968\n",
      "Fuera de la función: Originalmente x vale 50\n",
      "----------------------------------------------- \n",
      "x entró a la función con el valor 50\n",
      "Id adentro: 139956879004968\n",
      "El nuevo valor de x es [2, 7]\n",
      "Id adentro nuevo: 139956591982848 \n",
      " -----------------------------------------------\n",
      "Fuera de la función: Ahora x vale 50\n",
      "Id afuera después: 139956879004968\n"
     ]
    }
   ],
   "source": [
    "x = 50\n",
    "print('Id afuera antes:',id(x))\n",
    "print('Fuera de la función: Originalmente x vale',x)\n",
    "func2(x)\n",
    "print('Fuera de la función: Ahora x vale',x)  \n",
    "print('Id afuera después:',id(x))"
   ]
  },
  {
   "cell_type": "code",
   "execution_count": 5,
   "id": "9042e971-e1dd-4947-b396-f880171c8b9e",
   "metadata": {
    "collapsed": false,
    "jupyter": {
     "outputs_hidden": false
    }
   },
   "outputs": [
    {
     "name": "stdout",
     "output_type": "stream",
     "text": [
      "Id afuera antes: 139956591975808\n",
      "Fuera de la función: Originalmente x vale [50]\n",
      "----------------------------------------------- \n",
      "x entró a la función con el valor [50]\n",
      "Id adentro: 139956591975808\n",
      "El nuevo valor de x es [2, 7]\n",
      "Id adentro nuevo: 139956591990208 \n",
      " -----------------------------------------------\n",
      "Fuera de la función: Ahora x vale [50]\n",
      "Id afuera después: 139956591975808\n"
     ]
    }
   ],
   "source": [
    "x = [50]\n",
    "print('Id afuera antes:',id(x))\n",
    "print('Fuera de la función: Originalmente x vale',x)\n",
    "func2(x)\n",
    "print('Fuera de la función: Ahora x vale',x)  \n",
    "print('Id afuera después:',id(x))"
   ]
  },
  {
   "cell_type": "markdown",
   "id": "2dcacf74-e1cc-4ee8-9a3d-d05a015b3b25",
   "metadata": {
    "collapsed": false,
    "jupyter": {
     "outputs_hidden": false
    }
   },
   "source": [
    "¿Qué está pasando acá? \n",
    "\n",
    "- Cuando se realiza la llamada a la función, se le pasa una copia del nombre `x`. \n",
    "- Cuando le damos un nuevo valor dentro de la función, como en el caso `x = [2, 7]`, entonces se crea una nueva variable y el nombre `x` queda asociado a la nueva variable.\n",
    "- La variable original --definida fuera de la función-- no cambia."
   ]
  },
  {
   "cell_type": "markdown",
   "id": "593955e1-e833-4b62-890a-95b7ebe78e81",
   "metadata": {
    "collapsed": false,
    "jupyter": {
     "outputs_hidden": false
    }
   },
   "source": [
    "En el primer caso, como los escalares son inmutables (de la misma manera que los strings y tuplas) no puede ser modificada. Al reasignar el nombre siempre se crea una nueva variable (para cualquier tipo)."
   ]
  },
  {
   "cell_type": "markdown",
   "id": "29663385-a5a0-4dd6-9f2c-17cdb77e5662",
   "metadata": {
    "collapsed": false,
    "jupyter": {
     "outputs_hidden": false
    }
   },
   "source": [
    "Consideremos estas variantes, donde el comportamiento entre tipos mutables e inmutables son diferentes:"
   ]
  },
  {
   "cell_type": "code",
   "execution_count": 6,
   "id": "fcff79d3-11ab-4c53-8bf0-6550a9260568",
   "metadata": {
    "collapsed": false,
    "jupyter": {
     "outputs_hidden": false
    }
   },
   "outputs": [],
   "source": [
    "def func3(x):\n",
    "  print(sep,'\\nx entró a la función con el valor', x)\n",
    "  print('Id adentro:',id(x))\n",
    "  x += [2,7]\n",
    "  print('El nuevo valor de x es', x)\n",
    "  print('Id adentro nuevo:',id(x),'\\n', sep)"
   ]
  },
  {
   "cell_type": "code",
   "execution_count": 7,
   "id": "461af862-5ddc-4e2d-8094-4e57e78f6fb7",
   "metadata": {
    "collapsed": false,
    "jupyter": {
     "outputs_hidden": false
    }
   },
   "outputs": [
    {
     "name": "stdout",
     "output_type": "stream",
     "text": [
      "Id afuera antes: 139956591984512\n",
      "Fuera de la función: Originalmente x vale [50]\n",
      "----------------------------------------------- \n",
      "x entró a la función con el valor [50]\n",
      "Id adentro: 139956591984512\n",
      "El nuevo valor de x es [50, 2, 7]\n",
      "Id adentro nuevo: 139956591984512 \n",
      " -----------------------------------------------\n",
      "Fuera de la función: Ahora x vale [50, 2, 7]\n",
      "Id afuera después: 139956591984512\n"
     ]
    }
   ],
   "source": [
    "x = [50]\n",
    "print('Id afuera antes:',id(x))\n",
    "print('Fuera de la función: Originalmente x vale',x)\n",
    "func3(x)\n",
    "print('Fuera de la función: Ahora x vale',x)  \n",
    "print('Id afuera después:',id(x))"
   ]
  },
  {
   "cell_type": "markdown",
   "id": "dbab1792-aff6-41a5-bc3a-2799bbc7b4a4",
   "metadata": {
    "collapsed": false,
    "jupyter": {
     "outputs_hidden": false
    }
   },
   "source": [
    "En este caso, como no estamos redefiniendo la variable sino que la estamos modificando, el nuevo valor se mantiene al terminar la ejecución de la función. Otra variante:"
   ]
  },
  {
   "cell_type": "code",
   "execution_count": 8,
   "id": "ca842e8a-ee02-4d23-bbc3-b6762b1148cb",
   "metadata": {
    "collapsed": false,
    "jupyter": {
     "outputs_hidden": false
    }
   },
   "outputs": [],
   "source": [
    "def func4(x):\n",
    "  print(sep,'\\nx entró a la función con el valor', x)\n",
    "  print('Id adentro:',id(x))\n",
    "  x[0] = 2\n",
    "  print('El nuevo valor de x es', x)\n",
    "  print('Id adentro nuevo:',id(x),'\\n', sep)"
   ]
  },
  {
   "cell_type": "code",
   "execution_count": 9,
   "id": "64cad292-b385-45ae-aa6d-dcb8277d6413",
   "metadata": {
    "collapsed": false,
    "jupyter": {
     "outputs_hidden": false
    }
   },
   "outputs": [
    {
     "name": "stdout",
     "output_type": "stream",
     "text": [
      "Id afuera antes: 139956591976448\n",
      "Fuera de la función: Originalmente x vale [50]\n",
      "----------------------------------------------- \n",
      "x entró a la función con el valor [50]\n",
      "Id adentro: 139956591976448\n",
      "El nuevo valor de x es [2]\n",
      "Id adentro nuevo: 139956591976448 \n",
      " -----------------------------------------------\n",
      "Fuera de la función: Ahora x vale [2]\n",
      "Id afuera después: 139956591976448\n"
     ]
    }
   ],
   "source": [
    "x = [50]\n",
    "print('Id afuera antes:',id(x))\n",
    "print('Fuera de la función: Originalmente x vale',x)\n",
    "func4(x)\n",
    "print('Fuera de la función: Ahora x vale',x)  \n",
    "print('Id afuera después:',id(x))"
   ]
  },
  {
   "cell_type": "markdown",
   "id": "eb5dedbd-652d-49c9-b5b1-4090ceb66598",
   "metadata": {
    "collapsed": false,
    "jupyter": {
     "outputs_hidden": false
    }
   },
   "source": [
    "Vemos que, cuando modificamos la variable (solo es posible para tipos mutables), asignando un valor a uno o más de sus elementos o agregando/removiendo elementos, la copia sigue apuntando a la variable original y el valor de la variable, definida originalmente afuera, cambia."
   ]
  },
  {
   "cell_type": "markdown",
   "id": "f1751ebc-a9fa-46bb-9cd1-88dac9cc872b",
   "metadata": {
    "collapsed": false,
    "jupyter": {
     "outputs_hidden": false
    }
   },
   "source": [
    "\n",
    "### Funciones con argumentos opcionales\n",
    "\n",
    "Las funciones pueden tener muchos argumentos. En **Python** pueden tener un número variable de argumentos y pueden tener valores por *default* para algunos de ellos. En el caso de la función de caída libre, vamos a extenderlo de manera que podamos usarlo fuera de la tierra (o en otras latitudes) permitiendo cambiar el valor de la gravedad y asumiendo que, a menos que lo pidamos explícitamente se trata de una simple caída libre:"
   ]
  },
  {
   "cell_type": "code",
   "execution_count": 10,
   "id": "015f5cf8-7209-4dca-aa7c-93ce6b36ce92",
   "metadata": {
    "collapsed": false,
    "jupyter": {
     "outputs_hidden": false
    }
   },
   "outputs": [],
   "source": [
    "def caida_libre(t, h0, v0=0., g=9.8):\n",
    "  \"\"\"Devuelve la velocidad y la posición de una partícula en\n",
    "  caída libre para condiciones iniciales dadas\n",
    "\n",
    "  Parameters\n",
    "  ----------\n",
    "  t : float\n",
    "      el tiempo al que queremos realizar el cálculo\n",
    "  h0: float \n",
    "      la altura inicial\n",
    "  v0: float (opcional)\n",
    "      la velocidad inicial (default = 0.0)\n",
    "   g: float (opcional)\n",
    "      valor de la aceleración de la gravedad (default = 9.8)\n",
    "\n",
    "  Returns\n",
    "  -------\n",
    "  (v,h):  tuple of floats\n",
    "       v= v0 - g*t\n",
    "       h= h0 - v0*t -g*t^2/2\n",
    "  \n",
    "  \"\"\"\n",
    "  v = v0 - g*t\n",
    "  h = h0 - v0*t - g*t**2/2.\n",
    "  return v,h\n"
   ]
  },
  {
   "cell_type": "code",
   "execution_count": 11,
   "id": "1bdada36-3db4-4e82-ba03-0fb336bb142e",
   "metadata": {
    "collapsed": false,
    "jupyter": {
     "outputs_hidden": false
    }
   },
   "outputs": [
    {
     "name": "stdout",
     "output_type": "stream",
     "text": [
      "(-19.6, 980.4)\n"
     ]
    }
   ],
   "source": [
    "# Desde 1000 metros con velocidad inicial cero\n",
    "print( caida_libre(2,1000))"
   ]
  },
  {
   "cell_type": "code",
   "execution_count": 12,
   "id": "4a154e00-2d50-4819-b8e6-b8b21ab59961",
   "metadata": {
    "collapsed": false,
    "jupyter": {
     "outputs_hidden": false
    }
   },
   "outputs": [
    {
     "name": "stdout",
     "output_type": "stream",
     "text": [
      "(0.1999999999999993, 985.1)\n"
     ]
    }
   ],
   "source": [
    "# Desde 1000 metros con velocidad inicial hacia arriba\n",
    "print(caida_libre(1, 1000, 10))"
   ]
  },
  {
   "cell_type": "code",
   "execution_count": 13,
   "id": "e4b77d8f-e1bb-437e-a877-5d067d765a74",
   "metadata": {
    "collapsed": false,
    "jupyter": {
     "outputs_hidden": false
    }
   },
   "outputs": [
    {
     "name": "stdout",
     "output_type": "stream",
     "text": [
      "(-19.6, 980.4)\n"
     ]
    }
   ],
   "source": [
    "# Desde 1000 metros con velocidad inicial cero\n",
    "print(caida_libre(h0=1000, t=2))"
   ]
  },
  {
   "cell_type": "code",
   "execution_count": 14,
   "id": "d1eef07c-b04d-439a-bd16-0e29949b806c",
   "metadata": {
    "collapsed": false,
    "jupyter": {
     "outputs_hidden": false
    }
   },
   "outputs": [
    {
     "name": "stdout",
     "output_type": "stream",
     "text": [
      "(-23.2142847625, 834.1836870663262)\n"
     ]
    }
   ],
   "source": [
    "# Desde 1000 metros con velocidad inicial cero en la luna\n",
    "print( caida_libre( v0=0, h0=1000, t=14.2857137, g=1.625))"
   ]
  },
  {
   "cell_type": "code",
   "execution_count": 15,
   "id": "b282f32b-3ae5-4593-9e74-cd168356c132",
   "metadata": {},
   "outputs": [
    {
     "name": "stdout",
     "output_type": "stream",
     "text": [
      "(-4.875, 992.6875)\n"
     ]
    }
   ],
   "source": [
    "print( caida_libre(3, 1000, g=1.625))"
   ]
  },
  {
   "cell_type": "code",
   "execution_count": 16,
   "id": "a7dfec87-1378-42f9-ab21-b9cab299530f",
   "metadata": {
    "collapsed": false,
    "jupyter": {
     "outputs_hidden": false
    }
   },
   "outputs": [
    {
     "name": "stdout",
     "output_type": "stream",
     "text": [
      "Help on function caida_libre in module __main__:\n",
      "\n",
      "caida_libre(t, h0, v0=0.0, g=9.8)\n",
      "    Devuelve la velocidad y la posición de una partícula en\n",
      "    caída libre para condiciones iniciales dadas\n",
      "    \n",
      "    Parameters\n",
      "    ----------\n",
      "    t : float\n",
      "        el tiempo al que queremos realizar el cálculo\n",
      "    h0: float \n",
      "        la altura inicial\n",
      "    v0: float (opcional)\n",
      "        la velocidad inicial (default = 0.0)\n",
      "     g: float (opcional)\n",
      "        valor de la aceleración de la gravedad (default = 9.8)\n",
      "    \n",
      "    Returns\n",
      "    -------\n",
      "    (v,h):  tuple of floats\n",
      "         v= v0 - g*t\n",
      "         h= h0 - v0*t -g*t^2/2\n",
      "\n"
     ]
    }
   ],
   "source": [
    "help(caida_libre)"
   ]
  },
  {
   "cell_type": "markdown",
   "id": "a36cccf6-f15a-428f-af47-e2aa4d49e7b2",
   "metadata": {
    "collapsed": false,
    "jupyter": {
     "outputs_hidden": false
    }
   },
   "source": [
    "\n",
    "-----\n",
    "\n",
    "**Nota:** No se pueden usar argumentos con *nombre* antes de los argumentos requeridos (en este caso ``t``).\n",
    "\n",
    "Tampoco se pueden usar argumentos sin su *nombre* después de haber incluido alguno con su nombre. Por ejemplo no son válidas las llamadas:\n",
    "\n",
    "```python\n",
    "caida_libre(t=2, 0.)\n",
    "caida_libre(2, v0=0., 1000)\n",
    "```\n",
    "\n",
    "-----\n"
   ]
  },
  {
   "cell_type": "markdown",
   "id": "daedd674-a8d0-40b7-94ff-caa2d5da210b",
   "metadata": {
    "collapsed": false,
    "jupyter": {
     "outputs_hidden": false
    }
   },
   "source": [
    "\n",
    "### Tipos mutables en argumentos opcionales\n",
    "\n",
    "Hay que tener cuidado cuando usamos valores por defecto con tipos que pueden modificarse dentro de la función.\n",
    "Consideremos la siguiente función:"
   ]
  },
  {
   "cell_type": "code",
   "execution_count": 17,
   "id": "ac04d797-fbbd-4749-b5ae-c3e186faf0b1",
   "metadata": {
    "collapsed": false,
    "jupyter": {
     "outputs_hidden": false
    }
   },
   "outputs": [],
   "source": [
    "def func2b(x1, x=[]):\n",
    "  print('x entró a la función con el valor', x)\n",
    "  x.append(x1)\n",
    "  print('El nuevo valor de x es', x)"
   ]
  },
  {
   "cell_type": "code",
   "execution_count": 18,
   "id": "4511c2e0-a7ce-4079-8439-4c80474add0a",
   "metadata": {
    "collapsed": false,
    "jupyter": {
     "outputs_hidden": false
    }
   },
   "outputs": [
    {
     "name": "stdout",
     "output_type": "stream",
     "text": [
      "x entró a la función con el valor []\n",
      "El nuevo valor de x es [1]\n"
     ]
    }
   ],
   "source": [
    "func2b(1)"
   ]
  },
  {
   "cell_type": "code",
   "execution_count": 19,
   "id": "12ce9946-30ef-4914-8688-160453ce46c6",
   "metadata": {
    "collapsed": false,
    "jupyter": {
     "outputs_hidden": false
    }
   },
   "outputs": [
    {
     "name": "stdout",
     "output_type": "stream",
     "text": [
      "x entró a la función con el valor [1]\n",
      "El nuevo valor de x es [1, 2]\n"
     ]
    }
   ],
   "source": [
    "func2b(2)"
   ]
  },
  {
   "cell_type": "markdown",
   "id": "f02e47f9-f043-4ab9-aa19-1f24a0ed368c",
   "metadata": {
    "collapsed": false,
    "jupyter": {
     "outputs_hidden": false
    }
   },
   "source": [
    "El argumento opcional `x` tiene como valor por defecto una lista vacía, entonces esperaríamos que el valor de `x` sea igual a `x1`, y en este caso imprima \"El nuevo valor de x es [2]\". Sin embargo, entre llamadas mantiene el valor de `x` anterior. El valor por defecto se fija en la definición y en el caso de tipos mutables puede modificarse."
   ]
  },
  {
   "cell_type": "markdown",
   "id": "6fdf5131-f897-463d-834e-9718fe235dd5",
   "metadata": {
    "collapsed": false,
    "jupyter": {
     "outputs_hidden": false
    }
   },
   "source": [
    "\n",
    "### Número variable de argumentos y argumentos *keywords* \n",
    "\n",
    "Se pueden definir funciones que toman un número variable de argumentos (como una lista), o que aceptan un diccionario como argumento. Este tipo de argumentos se llaman argumentos *keyword* (``kwargs``). \n",
    "Una buena explicación se encuentra en el [Tutorial de la documentación](https://docs.python.org/3/tutorial/controlflow.html#keyword-arguments). Ahora vamos a dar una explicación rápida. Consideremos la función `f`, que imprime sus argumentos:"
   ]
  },
  {
   "cell_type": "code",
   "execution_count": 20,
   "id": "d72a1c1d-4dde-40c4-95df-76000f8debbd",
   "metadata": {
    "collapsed": false,
    "jupyter": {
     "outputs_hidden": false
    }
   },
   "outputs": [],
   "source": [
    "def f(p, *args, **kwargs):\n",
    "  print( f\"p: {p}, tipo: {type(p)}\")\n",
    "  print( f\"args: {args}, tipo: {type(args)}\")\n",
    "  print( f\"kwargs: {kwargs}, tipo: {type(kwargs)}\")"
   ]
  },
  {
   "cell_type": "code",
   "execution_count": 21,
   "id": "3e757c3e-3342-4f55-99ae-d3a09ad7bcdd",
   "metadata": {
    "collapsed": false,
    "jupyter": {
     "outputs_hidden": false
    }
   },
   "outputs": [
    {
     "name": "stdout",
     "output_type": "stream",
     "text": [
      "p: 1.5, tipo: <class 'float'>\n",
      "args: (2, 3, 5), tipo: <class 'tuple'>\n",
      "kwargs: {'anteultimo': 9, 'ultimo': -1}, tipo: <class 'dict'>\n"
     ]
    }
   ],
   "source": [
    "f(1.5,2, 3, 5, anteultimo= 9, ultimo = -1)"
   ]
  },
  {
   "cell_type": "markdown",
   "id": "3767982f-6ed8-4c6f-bd86-1ced2d45e883",
   "metadata": {
    "collapsed": false,
    "jupyter": {
     "outputs_hidden": false
    }
   },
   "source": [
    "Veamos que pasa cuando ejecutamos esta función con distintos argumentos."
   ]
  },
  {
   "cell_type": "code",
   "execution_count": 22,
   "id": "81a8e835",
   "metadata": {
    "collapsed": false,
    "jupyter": {
     "outputs_hidden": false
    }
   },
   "outputs": [
    {
     "name": "stdout",
     "output_type": "stream",
     "text": [
      "p: 1, tipo: <class 'int'>\n",
      "args: (), tipo: <class 'tuple'>\n",
      "kwargs: {}, tipo: <class 'dict'>\n"
     ]
    }
   ],
   "source": [
    "f(1)                          # Solo el argumento posicional requerido"
   ]
  },
  {
   "cell_type": "code",
   "execution_count": 23,
   "id": "44f11d8d-7b0f-4017-a586-5bde85a6cac9",
   "metadata": {
    "collapsed": false,
    "jupyter": {
     "outputs_hidden": false
    }
   },
   "outputs": [
    {
     "name": "stdout",
     "output_type": "stream",
     "text": [
      "p: 1, tipo: <class 'int'>\n",
      "args: (2, 3, 4, 5, 6), tipo: <class 'tuple'>\n",
      "kwargs: {}, tipo: <class 'dict'>\n"
     ]
    }
   ],
   "source": [
    "f(1,2,3,4,5,6)                  # argumento posicional y args. No kwargs"
   ]
  },
  {
   "cell_type": "code",
   "execution_count": 24,
   "id": "046dc62f-8cb9-4746-9518-11725da68395",
   "metadata": {},
   "outputs": [
    {
     "name": "stdout",
     "output_type": "stream",
     "text": [
      "p: 1, tipo: <class 'int'>\n",
      "args: (2, 3, 4, 5), tipo: <class 'tuple'>\n",
      "kwargs: {'otro': 6}, tipo: <class 'dict'>\n"
     ]
    }
   ],
   "source": [
    "f(1,2,3,4,5,otro=6)"
   ]
  },
  {
   "cell_type": "markdown",
   "id": "3556648a-c728-496d-bf5e-6c0d467f78e7",
   "metadata": {
    "collapsed": false,
    "jupyter": {
     "outputs_hidden": false
    }
   },
   "source": [
    "En este ejemplo, el primer valor se asigna al argumento requerido `p`, el segundo a `q` y los siguientes a una variable que se llama `args`, que es del tipo `tuple`. No hay argumento `kwargs` y por lo tanto la variable es un diccionario vacío"
   ]
  },
  {
   "cell_type": "code",
   "execution_count": 25,
   "id": "20269ac4-9157-40eb-82c9-1e2dd9277449",
   "metadata": {
    "collapsed": false,
    "jupyter": {
     "outputs_hidden": false
    }
   },
   "outputs": [
    {
     "name": "stdout",
     "output_type": "stream",
     "text": [
      "p: 2, tipo: <class 'int'>\n",
      "args: (), tipo: <class 'tuple'>\n",
      "kwargs: {'ultimo': -1}, tipo: <class 'dict'>\n"
     ]
    }
   ],
   "source": [
    "f(ultimo=-1, p=2)"
   ]
  },
  {
   "cell_type": "code",
   "execution_count": 26,
   "id": "e13e1d17-f9be-41fd-9253-88f349f2ea5c",
   "metadata": {
    "collapsed": false,
    "jupyter": {
     "outputs_hidden": false
    }
   },
   "outputs": [
    {
     "name": "stdout",
     "output_type": "stream",
     "text": [
      "p: 1, tipo: <class 'int'>\n",
      "args: ('chau', (1, 2, 3), 4), tipo: <class 'tuple'>\n",
      "kwargs: {'ultimo': -1}, tipo: <class 'dict'>\n"
     ]
    }
   ],
   "source": [
    "f(1, 'chau', (1,2,3), 4, ultimo=-1)"
   ]
  },
  {
   "cell_type": "markdown",
   "id": "1b5ca177-aa84-4fee-97fc-8a4ee9e07a41",
   "metadata": {
    "collapsed": false,
    "jupyter": {
     "outputs_hidden": false
    }
   },
   "source": [
    "En estas otras llamadas a la función, todos los argumentos que se pasan indicando el nombre se asignan a un diccionario."
   ]
  },
  {
   "cell_type": "markdown",
   "id": "27f3c37f-9b51-4ed3-8f7c-81c62e730eab",
   "metadata": {
    "collapsed": false,
    "jupyter": {
     "outputs_hidden": false
    }
   },
   "source": [
    "Al definir una función, con la construcción `*args` se indica *\"mapear todos los argumentos posicionales no explícitos a una tupla llamada `args`\"*. Con `**kwargs` se indica \"mapear todos los argumentos de palabra clave no explícitos a un diccionario llamado `kwargs`\". Esta acción de convertir un conjunto de argumentos a una tuple o diccionario se conoce como *empacar* o *empaquetar* los datos."
   ]
  },
  {
   "cell_type": "markdown",
   "id": "76adb54e-a8ff-4b26-a5ca-af7381fba02f",
   "metadata": {
    "collapsed": false,
    "jupyter": {
     "outputs_hidden": false
    }
   },
   "source": [
    "------\n",
    "\n",
    "**NOTA:** Por supuesto, no es necesario utilizar los nombres \"args\" y \"kwargs\". Podemos llamarlas de cualquier otra manera! los simbolos que indican cantidades arbitrarias de parametros son `*` y `**`. Además es posible poner parametros \"comunes\" antes de los parametros arbitrarios, como se muestra en el ejemplo.\n",
    "\n",
    "------\n"
   ]
  },
  {
   "cell_type": "markdown",
   "id": "0ba21e72-1ea8-443b-8d8c-01a767f47fad",
   "metadata": {
    "collapsed": false,
    "jupyter": {
     "outputs_hidden": false
    }
   },
   "source": [
    "Un ejemplo de una función con número variable de argumentos puede ser la función `multiplica`:"
   ]
  },
  {
   "cell_type": "code",
   "execution_count": 27,
   "id": "80ccfa1c-e69d-4faa-8fb7-2b85cdd8437e",
   "metadata": {
    "collapsed": false,
    "jupyter": {
     "outputs_hidden": false
    }
   },
   "outputs": [],
   "source": [
    "def multiplica(*args):\n",
    "  s = 1\n",
    "  for a in args:\n",
    "    s *= a\n",
    "  return s"
   ]
  },
  {
   "cell_type": "code",
   "execution_count": 28,
   "id": "1925be78-8484-4a9d-904c-c89d87765d8e",
   "metadata": {
    "collapsed": false,
    "jupyter": {
     "outputs_hidden": false
    }
   },
   "outputs": [
    {
     "data": {
      "text/plain": [
       "10"
      ]
     },
     "execution_count": 28,
     "metadata": {},
     "output_type": "execute_result"
    }
   ],
   "source": [
    "multiplica(2,5)"
   ]
  },
  {
   "cell_type": "code",
   "execution_count": 29,
   "id": "c9e761e5-3fa9-472f-a069-6557120743cb",
   "metadata": {
    "collapsed": false,
    "jupyter": {
     "outputs_hidden": false
    }
   },
   "outputs": [
    {
     "data": {
      "text/plain": [
       "-90"
      ]
     },
     "execution_count": 29,
     "metadata": {},
     "output_type": "execute_result"
    }
   ],
   "source": [
    "multiplica(2,3,5,3,-1)"
   ]
  },
  {
   "cell_type": "markdown",
   "id": "6663ede3-4d0c-4d04-884c-40adb7f320f6",
   "metadata": {
    "collapsed": false,
    "jupyter": {
     "outputs_hidden": false
    }
   },
   "source": [
    "-----\n",
    "\n",
    "## Ejercicios 4 (b)\n",
    "\n",
    "2. Escriba funciones para analizar la divisibilidad de enteros:\n",
    "    * La función `es_divisible` que retorna `True` si el argumento `x` es divisible por alguno de los elemntos del segundo argumento: `divisores`. El argumento `divisores` es opcional y si está presente es una variable del tipo lista que contiene los valores para los cuáles debemos examinar la divisibilidad. \n",
    "    \n",
    "    El valor por defecto de `divisores` es `[2,3,5,7]`. Las siguientes expresiones deben retornar el mismo valor:\n",
    "    ```python\n",
    "    es_divisible(x) \n",
    "    es_divisible(x, [2,3,5,7])\n",
    "    ```\n",
    "\n",
    "    * La función `es_divisible_por` cuyo primer argumento (mandatorio) es `x`, y luego puede aceptar un número indeterminado de argumentos:\n",
    "    ```python\n",
    "    es_divisible_por(x)  # retorna verdadero siempre\n",
    "    es_divisible_por(x, 2) # verdadero si x es par\n",
    "    es_divisible_por(x, 2, 3, 5, 7) # igual resultado que es_divisible(x)\n",
    "    es_divisible_por(x, 2, 3, 5, 7, 9, 11, 13)  # o cualquier secuencia de argumentos debe funcionar\n",
    "    ```\n",
    "\n",
    "3. **PARA ENTREGAR.** Describimos una grilla de **sudoku** como un string de nueve líneas, cada una con 9 números, con números entre 1 y 9. Escribir un conjunto de funciones que permitan chequear si una grilla de sudoku es correcta. Para que una grilla sea correcta deben cumplirse las siguientes condiciones\n",
    "    - Los números están entre 1 y 9\n",
    "    - En cada fila no deben repetirse\n",
    "    - En cada columna no deben repetirse\n",
    "    - En todas las regiones de 3x3 que no se solapan, empezando de cualquier esquina, no deben repetirse\n",
    "  \n",
    "    1. Escribir una función que convierta un string con formato a una lista bidimensional. El string estará dado con nueve números por línea, de la siguiente manera (los espacios en blanco en cada línea pueden variar):\n",
    "    \n",
    "    ```python\n",
    "    sudoku = \"\"\"145327698\n",
    "            839654127\n",
    "            672918543\n",
    "            496185372\n",
    "            218473956\n",
    "            753296481\n",
    "            367542819\n",
    "            984761235\n",
    "            521839764\"\"\"\n",
    "    ```\n",
    "    \n",
    "    2. Escribir una función `check_repetidos()` que tome por argumento una lista (unidimensional) y devuelva verdadero si la lista tiene elementos repetidos y falso en caso contrario.\n",
    "    \n",
    "    3. Escribir la función `check_sudoku()` que toma como argumento una grilla (como una lista bidimensional de `9x9`) y devuelva verdadero si los números corresponden a la resolución correcta del Sudoku y falso en caso contrario. \n",
    "    Note que debe verificar que los números no se repiten en filas, ni en columnas ni en recuadros de `3x3`. Para obtener la posición de los recuadros puede investigar que hacen las líneas de código:\n",
    "    \n",
    "    ```python\n",
    "    j, k = (i // 3) * 3, (i % 3) * 3\n",
    "    r = [grid[a][b] for a in range(j, j+3) for b in range(k, k+3)]\n",
    "    ```\n",
    "\n",
    "    suponiendo que `grid` es el nombre de nuestra lista bidimensional, cuando `i` toma valores entre `0` y `8`.\n",
    "\n",
    "   Debe enviar por correo electrónico, con asunto \"04_SuApellido\", un programa llamado 04_SuApellido.py (en todos los casos utilice su apellido, no la palabra “SuApellido”) .\n",
    "\n",
    "\n",
    "-----\n"
   ]
  }
 ],
 "metadata": {
  "kernelspec": {
   "display_name": "Python 3 (ipykernel)",
   "language": "python",
   "name": "python3"
  },
  "language_info": {
   "codemirror_mode": {
    "name": "ipython",
    "version": 3
   },
   "file_extension": ".py",
   "mimetype": "text/x-python",
   "name": "python",
   "nbconvert_exporter": "python",
   "pygments_lexer": "ipython3",
   "version": "3.11.7"
  },
  "name": "04_2_func_args.ipynb",
  "toc": {
   "base_numbering": 1,
   "nav_menu": {
    "height": "124.067px",
    "width": "251.333px"
   },
   "number_sections": true,
   "sideBar": true,
   "skip_h1_title": true,
   "title_cell": "Contenidos",
   "title_sidebar": "Contenidos",
   "toc_cell": false,
   "toc_position": null,
   "toc_section_display": true,
   "toc_window_display": false
  }
 },
 "nbformat": 4,
 "nbformat_minor": 5
}
