{
 "cells": [
  {
   "cell_type": "markdown",
   "id": "e95ddc4c-8b20-4d6c-9065-7c8ace9b3ef4",
   "metadata": {
    "collapsed": false,
    "jupyter": {
     "outputs_hidden": false
    }
   },
   "source": [
    "## Argumentos de las funciones\n"
   ]
  },
  {
   "cell_type": "markdown",
   "id": "502b643d-69d2-41f5-970e-7b8376a40363",
   "metadata": {
    "collapsed": false,
    "jupyter": {
     "outputs_hidden": false
    }
   },
   "source": [
    "\n",
    "### Ámbito de las variables en los argumentos\n",
    "\n",
    "Consideremos la siguiente función\n"
   ]
  },
  {
   "cell_type": "code",
   "execution_count": 1,
   "id": "caa476ab-00df-4cf6-a6a1-94cc217f259d",
   "metadata": {
    "collapsed": false,
    "jupyter": {
     "outputs_hidden": false
    }
   },
   "outputs": [],
   "source": [
    "sep = 47*'-'\n",
    "def func1(x):\n",
    "  print(sep,'\\nx entró a la función con el valor', x)\n",
    "  print('Id adentro:',id(x))\n",
    "  x = 2\n",
    "  print('El nuevo valor de x es', x)\n",
    "  print('Id adentro nuevo:',id(x),'\\n', sep)"
   ]
  },
  {
   "cell_type": "code",
   "execution_count": 2,
   "id": "20dfd4b7-605e-4582-b4f5-2772f2471c26",
   "metadata": {
    "collapsed": false,
    "jupyter": {
     "outputs_hidden": false
    }
   },
   "outputs": [
    {
     "name": "stdout",
     "output_type": "stream",
     "text": [
      "Id afuera antes: 140624857736656\n",
      "Fuera de la función: Originalmente x vale 50\n",
      "----------------------------------------------- \n",
      "x entró a la función con el valor 50\n",
      "Id adentro: 140624857736656\n",
      "El nuevo valor de x es 2\n",
      "Id adentro nuevo: 140624857735120 \n",
      " -----------------------------------------------\n",
      "Fuera de la función: Ahora x vale 50\n",
      "Id afuera después: 140624857736656\n"
     ]
    }
   ],
   "source": [
    "x = 50\n",
    "print('Id afuera antes:',id(x))\n",
    "print('Fuera de la función: Originalmente x vale',x)\n",
    "func1(x)\n",
    "print('Fuera de la función: Ahora x vale',x)  \n",
    "print('Id afuera después:',id(x))"
   ]
  },
  {
   "cell_type": "markdown",
   "id": "61a4b235-e1e1-474d-a6e1-6ce855cd824c",
   "metadata": {
    "collapsed": false,
    "jupyter": {
     "outputs_hidden": false
    }
   },
   "source": [
    "Vemos que la variable `x` que utilizamos como argumento de la función debe ser diferente a la variable `x` que se define fuera de la función, ya que su valor no cambia al salir.\n",
    "Además usamos la función `id()` para obtener la identidad de la variable. Python pasa las variables como referencia al objeto que representa a la variable. En este caso el objeto que estamos pasando es un entero que es inmutable, con lo cual en la función misma se crea un nuevo objeto y se reasigna la referencia al nuevo objeto. De este modo, no se afecta al objeto original.\n",
    "\n",
    "Consideremos ahora la siguiente función:"
   ]
  },
  {
   "cell_type": "code",
   "execution_count": 3,
   "id": "096f9642-bc2a-44b7-8dca-c248471f20aa",
   "metadata": {
    "collapsed": false,
    "jupyter": {
     "outputs_hidden": false
    }
   },
   "outputs": [],
   "source": [
    "def func2(x):\n",
    "  print(sep,'\\nx entró a la función con el valor', x)\n",
    "  print('Id adentro:',id(x))\n",
    "  x = [2,7]\n",
    "  print('El nuevo valor de x es', x)\n",
    "  print('Id adentro nuevo:',id(x),'\\n', sep)"
   ]
  },
  {
   "cell_type": "markdown",
   "id": "3b90b743-de84-49ef-8033-879f45487149",
   "metadata": {
    "collapsed": false,
    "jupyter": {
     "outputs_hidden": false
    }
   },
   "source": [
    "La función es muy parecida, sólo que le estamos dando a la variable `x` dentro de la función un nuevo valor del tipo ``lista``. "
   ]
  },
  {
   "cell_type": "code",
   "execution_count": 4,
   "id": "050042f0-8c02-42af-bd4d-b6ecf0d24042",
   "metadata": {
    "collapsed": false,
    "jupyter": {
     "outputs_hidden": false
    }
   },
   "outputs": [
    {
     "name": "stdout",
     "output_type": "stream",
     "text": [
      "Id afuera antes: 140624857736656\n",
      "Fuera de la función: Originalmente x vale 50\n",
      "----------------------------------------------- \n",
      "x entró a la función con el valor 50\n",
      "Id adentro: 140624857736656\n",
      "El nuevo valor de x es [2, 7]\n",
      "Id adentro nuevo: 140624567783040 \n",
      " -----------------------------------------------\n",
      "Fuera de la función: Ahora x vale 50\n",
      "Id afuera después: 140624857736656\n"
     ]
    }
   ],
   "source": [
    "x = 50\n",
    "print('Id afuera antes:',id(x))\n",
    "print('Fuera de la función: Originalmente x vale',x)\n",
    "func2(x)\n",
    "print('Fuera de la función: Ahora x vale',x)  \n",
    "print('Id afuera después:',id(x))"
   ]
  },
  {
   "cell_type": "code",
   "execution_count": 5,
   "id": "9042e971-e1dd-4947-b396-f880171c8b9e",
   "metadata": {
    "collapsed": false,
    "jupyter": {
     "outputs_hidden": false
    }
   },
   "outputs": [
    {
     "name": "stdout",
     "output_type": "stream",
     "text": [
      "Id afuera antes: 140624567781568\n",
      "Fuera de la función: Originalmente x vale [50]\n",
      "----------------------------------------------- \n",
      "x entró a la función con el valor [50]\n",
      "Id adentro: 140624567781568\n",
      "El nuevo valor de x es [2, 7]\n",
      "Id adentro nuevo: 140624567780544 \n",
      " -----------------------------------------------\n",
      "Fuera de la función: Ahora x vale [50]\n",
      "Id afuera después: 140624567781568\n"
     ]
    }
   ],
   "source": [
    "x = [50]\n",
    "print('Id afuera antes:',id(x))\n",
    "print('Fuera de la función: Originalmente x vale',x)\n",
    "func2(x)\n",
    "print('Fuera de la función: Ahora x vale',x)  \n",
    "print('Id afuera después:',id(x))"
   ]
  },
  {
   "cell_type": "markdown",
   "id": "2dcacf74-e1cc-4ee8-9a3d-d05a015b3b25",
   "metadata": {
    "collapsed": false,
    "jupyter": {
     "outputs_hidden": false
    }
   },
   "source": [
    "¿Qué está pasando acá? \n",
    "\n",
    "- Cuando se realiza la llamada a la función, se le pasa una referencia del  nombre `x`. \n",
    "- Cuando le damos un nuevo valor dentro de la función, como en el caso `x = [2, 7]`, entonces se crea una nueva variable y el nombre `x` queda asociado a la nueva variable.\n",
    "- La variable original --definida fuera de la función-- no cambia."
   ]
  },
  {
   "cell_type": "markdown",
   "id": "593955e1-e833-4b62-890a-95b7ebe78e81",
   "metadata": {
    "collapsed": false,
    "jupyter": {
     "outputs_hidden": false
    }
   },
   "source": [
    "En el primer caso, como los escalares son inmutables (de la misma manera que los strings y tuplas) no puede ser modificada. Al reasignar el nombre siempre se crea una nueva variable (para cualquier tipo)."
   ]
  },
  {
   "cell_type": "markdown",
   "id": "29663385-a5a0-4dd6-9f2c-17cdb77e5662",
   "metadata": {
    "collapsed": false,
    "jupyter": {
     "outputs_hidden": false
    }
   },
   "source": [
    "Consideremos estas variantes, donde el comportamiento entre tipos mutables e inmutables son diferentes:"
   ]
  },
  {
   "cell_type": "code",
   "execution_count": 6,
   "id": "fcff79d3-11ab-4c53-8bf0-6550a9260568",
   "metadata": {
    "collapsed": false,
    "jupyter": {
     "outputs_hidden": false
    }
   },
   "outputs": [],
   "source": [
    "def func3(x):\n",
    "  print(sep,'\\nx entró a la función con el valor', x)\n",
    "  print('Id adentro:',id(x))\n",
    "  x += [2,7]\n",
    "  print('El nuevo valor de x es', x)\n",
    "  print('Id adentro nuevo:',id(x),'\\n', sep)"
   ]
  },
  {
   "cell_type": "code",
   "execution_count": 7,
   "id": "461af862-5ddc-4e2d-8094-4e57e78f6fb7",
   "metadata": {
    "collapsed": false,
    "jupyter": {
     "outputs_hidden": false
    }
   },
   "outputs": [
    {
     "name": "stdout",
     "output_type": "stream",
     "text": [
      "Id afuera antes: 140624567742592\n",
      "Fuera de la función: Originalmente x vale [50]\n",
      "----------------------------------------------- \n",
      "x entró a la función con el valor [50]\n",
      "Id adentro: 140624567742592\n",
      "El nuevo valor de x es [50, 2, 7]\n",
      "Id adentro nuevo: 140624567742592 \n",
      " -----------------------------------------------\n",
      "Fuera de la función: Ahora x vale [50, 2, 7]\n",
      "Id afuera después: 140624567742592\n"
     ]
    }
   ],
   "source": [
    "x = [50]\n",
    "print('Id afuera antes:',id(x))\n",
    "print('Fuera de la función: Originalmente x vale',x)\n",
    "func3(x)\n",
    "print('Fuera de la función: Ahora x vale',x)  \n",
    "print('Id afuera después:',id(x))"
   ]
  },
  {
   "cell_type": "markdown",
   "id": "dbab1792-aff6-41a5-bc3a-2799bbc7b4a4",
   "metadata": {
    "collapsed": false,
    "jupyter": {
     "outputs_hidden": false
    }
   },
   "source": [
    "En este caso, como no estamos redefiniendo la variable sino que la estamos modificando, el nuevo valor se mantiene al terminar la ejecución de la función. Otra variante:"
   ]
  },
  {
   "cell_type": "code",
   "execution_count": 8,
   "id": "ca842e8a-ee02-4d23-bbc3-b6762b1148cb",
   "metadata": {
    "collapsed": false,
    "jupyter": {
     "outputs_hidden": false
    }
   },
   "outputs": [],
   "source": [
    "def func4(x):\n",
    "  print(sep,'\\nx entró a la función con el valor', x)\n",
    "  print('Id adentro:',id(x))\n",
    "  x[0] = 2\n",
    "  print('El nuevo valor de x es', x)\n",
    "  print('Id adentro nuevo:',id(x),'\\n', sep)"
   ]
  },
  {
   "cell_type": "code",
   "execution_count": 9,
   "id": "64cad292-b385-45ae-aa6d-dcb8277d6413",
   "metadata": {
    "collapsed": false,
    "jupyter": {
     "outputs_hidden": false
    }
   },
   "outputs": [
    {
     "name": "stdout",
     "output_type": "stream",
     "text": [
      "Id afuera antes: 140624567782208\n",
      "Fuera de la función: Originalmente x vale [50]\n",
      "----------------------------------------------- \n",
      "x entró a la función con el valor [50]\n",
      "Id adentro: 140624567782208\n",
      "El nuevo valor de x es [2]\n",
      "Id adentro nuevo: 140624567782208 \n",
      " -----------------------------------------------\n",
      "Fuera de la función: Ahora x vale [2]\n",
      "Id afuera después: 140624567782208\n"
     ]
    }
   ],
   "source": [
    "x = [50]\n",
    "print('Id afuera antes:',id(x))\n",
    "print('Fuera de la función: Originalmente x vale',x)\n",
    "func4(x)\n",
    "print('Fuera de la función: Ahora x vale',x)  \n",
    "print('Id afuera después:',id(x))"
   ]
  },
  {
   "cell_type": "markdown",
   "id": "eb5dedbd-652d-49c9-b5b1-4090ceb66598",
   "metadata": {
    "collapsed": false,
    "jupyter": {
     "outputs_hidden": false
    }
   },
   "source": [
    "Vemos que, cuando modificamos la variable (solo es posible para tipos mutables), asignando un valor a uno o más de sus elementos o agregando/removiendo elementos, la copia sigue apuntando a la variable original y el valor de la variable, definida originalmente afuera, cambia."
   ]
  },
  {
   "cell_type": "markdown",
   "id": "daedd674-a8d0-40b7-94ff-caa2d5da210b",
   "metadata": {
    "collapsed": false,
    "jupyter": {
     "outputs_hidden": false
    }
   },
   "source": [
    "\n",
    "### Tipos mutables en argumentos opcionales\n",
    "\n",
    "Hay que tener cuidado cuando usamos valores por defecto con tipos que pueden modificarse dentro de la función.\n",
    "Consideremos la siguiente función:"
   ]
  },
  {
   "cell_type": "code",
   "execution_count": 10,
   "id": "ac04d797-fbbd-4749-b5ae-c3e186faf0b1",
   "metadata": {
    "collapsed": false,
    "jupyter": {
     "outputs_hidden": false
    }
   },
   "outputs": [],
   "source": [
    "def func2b(x1, x=[]):\n",
    "  print('x entró a la función con el valor', x)\n",
    "  x.append(x1)\n",
    "  print('El nuevo valor de x es', x)"
   ]
  },
  {
   "cell_type": "code",
   "execution_count": 11,
   "id": "4511c2e0-a7ce-4079-8439-4c80474add0a",
   "metadata": {
    "collapsed": false,
    "jupyter": {
     "outputs_hidden": false
    }
   },
   "outputs": [
    {
     "name": "stdout",
     "output_type": "stream",
     "text": [
      "x entró a la función con el valor []\n",
      "El nuevo valor de x es [1]\n"
     ]
    }
   ],
   "source": [
    "func2b(1)"
   ]
  },
  {
   "cell_type": "code",
   "execution_count": 12,
   "id": "12ce9946-30ef-4914-8688-160453ce46c6",
   "metadata": {
    "collapsed": false,
    "jupyter": {
     "outputs_hidden": false
    }
   },
   "outputs": [
    {
     "name": "stdout",
     "output_type": "stream",
     "text": [
      "x entró a la función con el valor [1]\n",
      "El nuevo valor de x es [1, 2]\n"
     ]
    }
   ],
   "source": [
    "func2b(2)"
   ]
  },
  {
   "cell_type": "markdown",
   "id": "f02e47f9-f043-4ab9-aa19-1f24a0ed368c",
   "metadata": {
    "collapsed": false,
    "jupyter": {
     "outputs_hidden": false
    }
   },
   "source": [
    "El argumento opcional `x` tiene como valor por defecto una lista vacía, entonces esperaríamos que el valor de `x` sea igual a `x1`, y en este caso imprima \"El nuevo valor de x es [2]\". Sin embargo, entre llamadas mantiene el valor de `x` anterior. El valor por defecto se fija en la definición y en el caso de tipos mutables puede modificarse."
   ]
  },
  {
   "cell_type": "markdown",
   "id": "6663ede3-4d0c-4d04-884c-40adb7f320f6",
   "metadata": {
    "collapsed": false,
    "jupyter": {
     "outputs_hidden": false
    }
   },
   "source": [
    "-----\n",
    "\n",
    "## Ejercicios 4 (b)\n",
    "\n",
    "3. Escriba funciones para analizar la divisibilidad de enteros:\n",
    "    * La función `es_divisible` que retorna `True` si el argumento `x` es divisible por alguno de los elemntos del segundo argumento: `divisores`. El argumento `divisores` es opcional y si está presente es una variable del tipo lista que contiene los valores para los cuáles debemos examinar la divisibilidad. \n",
    "    \n",
    "    El valor por defecto de `divisores` es `[2,3,5,7]`. Las siguientes expresiones deben retornar el mismo valor:\n",
    "    ```python\n",
    "    es_divisible(x) \n",
    "    es_divisible(x, [2,3,5,7])\n",
    "    ```\n",
    "\n",
    "    * La función `es_divisible_por` cuyo primer argumento (mandatorio) es `x`, y luego puede aceptar un número indeterminado de argumentos:\n",
    "    ```python\n",
    "    es_divisible_por(x)  # retorna verdadero siempre\n",
    "    es_divisible_por(x, 2) # verdadero si x es par\n",
    "    es_divisible_por(x, 2, 3, 5, 7) # igual resultado que es_divisible(x)\n",
    "    es_divisible_por(x, 2, 3, 5, 7, 9, 11, 13)  # o cualquier secuencia de argumentos debe funcionar\n",
    "    ```\n",
    "\n",
    "4. **PARA ENTREGAR.** Describimos una grilla de **sudoku** como un string de nueve líneas, cada una con 9 números, con números entre 1 y 9. Escribir un conjunto de funciones que permitan chequear si una grilla de sudoku es correcta. Para que una grilla sea correcta deben cumplirse las siguientes condiciones\n",
    "    - Los números están entre 1 y 9\n",
    "    - En cada fila no deben repetirse\n",
    "    - En cada columna no deben repetirse\n",
    "    - En todas las regiones de 3x3 que no se solapan, empezando de cualquier esquina, no deben repetirse\n",
    "  \n",
    "    1. Escribir una función que convierta un string con formato a una lista bidimensional. El string estará dado con nueve números por línea, de la siguiente manera (los espacios en blanco en cada línea pueden variar):\n",
    "    \n",
    "    ```python\n",
    "    sudoku = \"\"\"145327698\n",
    "            839654127\n",
    "            672918543\n",
    "            496185372\n",
    "            218473956\n",
    "            753296481\n",
    "            367542819\n",
    "            984761235\n",
    "            521839764\"\"\"\n",
    "    ```\n",
    "    \n",
    "    2. Escribir una función `check_repetidos()` que tome por argumento una lista (unidimensional) y devuelva verdadero si la lista tiene elementos repetidos y falso en caso contrario.\n",
    "    \n",
    "    3. Escribir la función `check_sudoku()` que toma como argumento una grilla (como una lista bidimensional de `9x9`) y devuelva verdadero si los números corresponden a la resolución correcta del Sudoku y falso en caso contrario. \n",
    "    Note que debe verificar que los números no se repiten en filas, ni en columnas ni en recuadros de `3x3`. Para obtener la posición de los recuadros puede investigar que hacen las líneas de código:\n",
    "    \n",
    "    ```python\n",
    "    j, k = (i // 3) * 3, (i % 3) * 3\n",
    "    r = [grid[a][b] for a in range(j, j+3) for b in range(k, k+3)]\n",
    "    ```\n",
    "\n",
    "    suponiendo que `grid` es el nombre de nuestra lista bidimensional, cuando `i` toma valores entre `0` y `8`.\n",
    "\n",
    "\n",
    "> **NOTA:**\n",
    "> Enviar por correo electrónico con el archivo adjunto nombrado en la forma `04_Apellido.py` donde \"Apellido\" es su apellido.\n",
    "\n",
    "\n",
    "-----\n"
   ]
  }
 ],
 "metadata": {
  "kernelspec": {
   "display_name": "Python 3 (ipykernel)",
   "language": "python",
   "name": "python3"
  },
  "language_info": {
   "codemirror_mode": {
    "name": "ipython",
    "version": 3
   },
   "file_extension": ".py",
   "mimetype": "text/x-python",
   "name": "python",
   "nbconvert_exporter": "python",
   "pygments_lexer": "ipython3",
   "version": "3.13.2"
  },
  "name": "04_2_func_args.ipynb",
  "toc": {
   "base_numbering": 1,
   "nav_menu": {
    "height": "124.067px",
    "width": "251.333px"
   },
   "number_sections": true,
   "sideBar": true,
   "skip_h1_title": true,
   "title_cell": "Contenidos",
   "title_sidebar": "Contenidos",
   "toc_cell": false,
   "toc_position": null,
   "toc_section_display": true,
   "toc_window_display": false
  }
 },
 "nbformat": 4,
 "nbformat_minor": 5
}
