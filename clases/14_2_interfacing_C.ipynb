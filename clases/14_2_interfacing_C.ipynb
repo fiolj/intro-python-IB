{
 "cells": [
  {
   "cell_type": "markdown",
   "id": "59579f00-c9da-4c93-8181-1cafbdbf1bea",
   "metadata": {
    "ein.tags": "worksheet-0",
    "slideshow": {
     "slide_type": "-"
    }
   },
   "source": [
    "## Interfaces con otros lenguajes: C\n",
    "\n",
    "Existen varias formas de utilizar bibliotecas o códigos hechos en C desde Python. Nosotros veremos el uso de `Ctypes`, sin embargo existen otras alternativas como  [Cython](https://cython.org/), [CFFI](https://cffi.readthedocs.io/en/latest/), [pybind11](https://pybind11.readthedocs.io/en/stable/) y [Boost.Python](https://www.boost.org/doc/libs/1_70_0/libs/python/doc/html/index.html). \n",
    "\n",
    "\n",
    "Seguimos con el ejemplo de la rotación de vectores. Por completitud, agregamos la funciones en Python para comparar\n"
   ]
  },
  {
   "cell_type": "code",
   "execution_count": 1,
   "id": "d56964bb-4737-41db-9d36-f4f411fb7cff",
   "metadata": {
    "autoscroll": false,
    "ein.tags": "worksheet-0",
    "slideshow": {
     "slide_type": "-"
    }
   },
   "outputs": [],
   "source": [
    "import numpy as np"
   ]
  },
  {
   "cell_type": "code",
   "execution_count": 2,
   "id": "e1d2e99c-43d2-4b91-9093-09699ae272d4",
   "metadata": {
    "autoscroll": false,
    "ein.tags": "worksheet-0",
    "slideshow": {
     "slide_type": "-"
    }
   },
   "outputs": [
    {
     "data": {
      "text/plain": [
       "'/home/fiol/Clases/IntPython/clases-python/clases'"
      ]
     },
     "execution_count": 2,
     "metadata": {},
     "output_type": "execute_result"
    }
   ],
   "source": [
    "pwd"
   ]
  },
  {
   "cell_type": "markdown",
   "id": "4e9943f6-d621-4378-bef0-266b2d6c25a3",
   "metadata": {
    "ein.tags": "worksheet-0",
    "slideshow": {
     "slide_type": "-"
    }
   },
   "source": [
    "Si ya tenemos un módulo donde están programadas las funciones necesarias "
   ]
  },
  {
   "cell_type": "code",
   "execution_count": 3,
   "id": "5c2ba9f0-21ab-496c-ae20-ad3632f3424b",
   "metadata": {
    "autoscroll": false,
    "ein.tags": "worksheet-0",
    "slideshow": {
     "slide_type": "-"
    }
   },
   "outputs": [],
   "source": [
    "import numpy as np\n",
    "\n",
    "def matrix_rotation(angles):\n",
    "  cx, cy, cz = np.cos(angles)\n",
    "  sx, sy, sz = np.sin(angles)\n",
    "  R = np.zeros((3, 3))\n",
    "  R[0, 0] = cx * cz - sx * cy * sz\n",
    "  R[0, 1] = cx * sz + sx * cy * cz\n",
    "  R[0, 2] = sx * sy\n",
    "\n",
    "  R[1, 0] = -sx * cz - cx * cy * sz\n",
    "  R[1, 1] = -sx * sz + cx * cy * cz\n",
    "  R[1, 2] = cx * sy\n",
    "\n",
    "  R[2, 0] = sy * sz\n",
    "  R[2, 1] = -sy * cz\n",
    "  R[2, 2] = cy\n",
    "  return R\n",
    "\n",
    "\n",
    "def rotate(angles, v):\n",
    "  return np.dot(matrix_rotation(angles), v)\n"
   ]
  },
  {
   "cell_type": "code",
   "execution_count": 4,
   "id": "1c834f97-f099-414e-b5a2-c65bc4f3b911",
   "metadata": {
    "autoscroll": false,
    "ein.tags": "worksheet-0",
    "slideshow": {
     "slide_type": "-"
    }
   },
   "outputs": [],
   "source": [
    "N = 100\n",
    "# Ángulos de Euler\n",
    "angle = np.random.random(3)\n",
    "# Definimos N vectores tridimensionales\n",
    "v = np.random.random((3, N))"
   ]
  },
  {
   "cell_type": "code",
   "execution_count": 5,
   "id": "d9e266d6-e876-42af-a64c-06276bf2aa8e",
   "metadata": {
    "autoscroll": false,
    "ein.tags": "worksheet-0",
    "slideshow": {
     "slide_type": "-"
    }
   },
   "outputs": [],
   "source": [
    "# y= rotp.rotate(angle, v)\n",
    "y = rotate(angle,v)"
   ]
  },
  {
   "cell_type": "code",
   "execution_count": 6,
   "id": "d3fbf733-0f77-4a17-bfc3-aceb0aa86f5d",
   "metadata": {
    "autoscroll": false,
    "ein.tags": "worksheet-0",
    "slideshow": {
     "slide_type": "-"
    }
   },
   "outputs": [
    {
     "name": "stdout",
     "output_type": "stream",
     "text": [
      "[0.58546738 0.89120506 0.36725088]\n",
      "[[ 0.57382166  0.36547642  0.42691154]\n",
      " [ 1.20276102  0.38198882  0.35784136]\n",
      " [ 0.3032189   0.17018825 -0.15835914]\n",
      " [ 0.69480807  0.1054089  -0.15883335]\n",
      " [ 1.36627837  0.1736621   0.17036402]]\n"
     ]
    }
   ],
   "source": [
    "print(angle)\n",
    "print(y[:,0:5].T)"
   ]
  },
  {
   "cell_type": "markdown",
   "id": "c6f031c3-4808-4ef5-be85-7625643788a3",
   "metadata": {
    "ein.tags": "worksheet-0",
    "slideshow": {
     "slide_type": "-"
    }
   },
   "source": [
    "Veamos cómo trabajar si tenemos el código para realizar las rotaciones en C.\n",
    "\n",
    "### Primer ejemplo: Nuestro código\n",
    "\n",
    "El código en C que tenemos es:\n",
    "\n",
    "```c\n",
    " typedef struct {\n",
    "      float m[3][3];\n",
    "    } m3x3;\n",
    "\n",
    "    typedef struct {\n",
    "      float a[3];\n",
    "    } v3;\n",
    "    \n",
    "...\n",
    "\n",
    "float * rotate(float angles[3], float *v, int N){\n",
    "\n",
    "        m3x3 R = matrix_rotation(angles);\n",
    "        \n",
    "        float* y = (float*)malloc(3*N*sizeof(float));\n",
    "        v3 p;\n",
    "\n",
    "        printf(\"%p\\n\",y);\n",
    "        for(int i=0; i<N; i++){\n",
    "            // p = &y[i*3];\n",
    "            p = matmul3(R,&v[i*3]);\n",
    "            y[i*3+0] = p.a[0];\n",
    "            y[i*3+1] = p.a[1];\n",
    "            y[i*3+2] = p.a[2];\n",
    "            // printf(\"%6.3f %6.3f %6.3f \\n\",y[i*3+0],y[i*3+1],y[i*3+2]);\n",
    "        }\n",
    "        return y;\n",
    "\n",
    "\n",
    "  }\n",
    "\n",
    "```"
   ]
  },
  {
   "cell_type": "code",
   "execution_count": 7,
   "id": "d05dfb33-fb04-4a25-9d88-d3d5897a013e",
   "metadata": {},
   "outputs": [
    {
     "name": "stdout",
     "output_type": "stream",
     "text": [
      "/home/fiol/Clases/IntPython/clases-python/scripts/interfacing_C\n"
     ]
    }
   ],
   "source": [
    "cd ../scripts/interfacing_C"
   ]
  },
  {
   "cell_type": "markdown",
   "id": "f3154460-7555-4b9d-a627-6830fff45d75",
   "metadata": {
    "ein.tags": "worksheet-0",
    "slideshow": {
     "slide_type": "-"
    }
   },
   "source": [
    "### CTypes\n",
    "\n",
    "No vamos a usar directamente `Ctypes`, sino a través de `NumPy`, que provee algunas funciones convenientes para acceder al código C."
   ]
  },
  {
   "cell_type": "markdown",
   "id": "1e3d3635-e92c-457d-a9ce-c4e400ce4e31",
   "metadata": {
    "ein.tags": "worksheet-0",
    "slideshow": {
     "slide_type": "-"
    }
   },
   "source": [
    "El primer paso es compilar nuestro código y generar una biblioteca:\n",
    "```bash\n",
    "$ gcc -fpic -Wall -shared rotacion.c -o librotacion.so\n",
    "```\n",
    "\n",
    "Si uno trabaja en Windows con [MS C++](https://visualstudio.microsoft.com/es/vs/features/cplusplus/), generará una dll\n",
    "\n",
    "```cmd\n",
    "cl.exe -c rotacion.c\n",
    "link.exe /DLL /OUT:rotacion.dll\n",
    "```\n",
    "\n",
    "Si en cambio [instaló gcc](https://www.msys2.org/), puede usar el comando previo.\n"
   ]
  },
  {
   "cell_type": "code",
   "execution_count": 8,
   "id": "b59372c0-3fcf-4550-9930-e074a524e50b",
   "metadata": {
    "autoscroll": false,
    "ein.tags": "worksheet-0",
    "slideshow": {
     "slide_type": "-"
    }
   },
   "outputs": [],
   "source": [
    "!gcc -fpic -Wall -shared rotacion.c -o librotacion.so"
   ]
  },
  {
   "cell_type": "code",
   "execution_count": 9,
   "id": "472983ab-9811-44cc-8558-0b60ccddd2ed",
   "metadata": {},
   "outputs": [
    {
     "name": "stdout",
     "output_type": "stream",
     "text": [
      "librotacion.so\trotacion.c\r\n"
     ]
    }
   ],
   "source": [
    "!ls"
   ]
  },
  {
   "cell_type": "markdown",
   "id": "e7ee74cb-e670-472f-8ea7-88cc54f1bb9f",
   "metadata": {},
   "source": [
    "En segundo lugar, importamos el módulo `ctypeslib`"
   ]
  },
  {
   "cell_type": "code",
   "execution_count": 10,
   "id": "84b4618d-b59e-42cc-9b57-5e90ec8c05e4",
   "metadata": {
    "autoscroll": false,
    "ein.tags": "worksheet-0",
    "slideshow": {
     "slide_type": "-"
    }
   },
   "outputs": [],
   "source": [
    "import numpy.ctypeslib as ctl"
   ]
  },
  {
   "cell_type": "markdown",
   "id": "3177ee14-26cc-4960-8d6f-5ac5d703f784",
   "metadata": {},
   "source": [
    "Este módulo nos provee de la función `load_library` para importar la biblioteca"
   ]
  },
  {
   "cell_type": "code",
   "execution_count": 11,
   "id": "8d26882f-b939-4e96-83b5-04488a3cc5d8",
   "metadata": {},
   "outputs": [
    {
     "name": "stdout",
     "output_type": "stream",
     "text": [
      "Help on function load_library in module numpy.ctypeslib:\n",
      "\n",
      "load_library(libname, loader_path)\n",
      "    It is possible to load a library using\n",
      "    \n",
      "    >>> lib = ctypes.cdll[<full_path_name>] # doctest: +SKIP\n",
      "    \n",
      "    But there are cross-platform considerations, such as library file extensions,\n",
      "    plus the fact Windows will just load the first library it finds with that name.\n",
      "    NumPy supplies the load_library function as a convenience.\n",
      "    \n",
      "    .. versionchanged:: 1.20.0\n",
      "        Allow libname and loader_path to take any\n",
      "        :term:`python:path-like object`.\n",
      "    \n",
      "    Parameters\n",
      "    ----------\n",
      "    libname : path-like\n",
      "        Name of the library, which can have 'lib' as a prefix,\n",
      "        but without an extension.\n",
      "    loader_path : path-like\n",
      "        Where the library can be found.\n",
      "    \n",
      "    Returns\n",
      "    -------\n",
      "    ctypes.cdll[libpath] : library object\n",
      "       A ctypes library object\n",
      "    \n",
      "    Raises\n",
      "    ------\n",
      "    OSError\n",
      "        If there is no library with the expected extension, or the\n",
      "        library is defective and cannot be loaded.\n",
      "\n"
     ]
    }
   ],
   "source": [
    "help(ctl.load_library)"
   ]
  },
  {
   "cell_type": "code",
   "execution_count": 12,
   "id": "47ad2297-faf3-41c1-b0f1-1a81f1776856",
   "metadata": {},
   "outputs": [],
   "source": [
    "rotc = ctl.load_library('librotacion.so','.')"
   ]
  },
  {
   "cell_type": "markdown",
   "id": "0b61fb6c-589e-4309-9fce-8f8008553218",
   "metadata": {},
   "source": [
    "Una vez cargada la biblioteca, tenemos que definir adecuadamente cómo pasar los argumentos a la función `rotate` de C:\n",
    "\n",
    "```C\n",
    "    float * rotate(float angles[3], float *v, int N)\n",
    "```\n",
    "\n",
    "Para eso se utiliza la función `argtypes` que recibe una lista de tipos. Notemos que los dos primeros argumentos son arreglos de C (o sea, punteros), mientras que el último es un entero."
   ]
  },
  {
   "cell_type": "code",
   "execution_count": 13,
   "id": "bb930e17-99e1-497a-aca0-72aa145053f7",
   "metadata": {},
   "outputs": [],
   "source": [
    "npflags = ['C_CONTIGUOUS']   # Require a C contiguous array in memory\n",
    "\n",
    "float_1d_type = ctl.ndpointer(dtype=np.float32, ndim=1, flags=npflags) # Puntero a float, 1D\n",
    "float_2d_type = ctl.ndpointer(dtype=np.float32, ndim=2, flags=npflags) # Puntero a float, 2D"
   ]
  },
  {
   "cell_type": "code",
   "execution_count": 14,
   "id": "5025ac8a-fc0d-4657-ba3a-bfb1ea4470a1",
   "metadata": {},
   "outputs": [
    {
     "data": {
      "text/plain": [
       "_ctypes.PyCSimpleType"
      ]
     },
     "execution_count": 14,
     "metadata": {},
     "output_type": "execute_result"
    }
   ],
   "source": [
    "type(float_1d_type)"
   ]
  },
  {
   "cell_type": "markdown",
   "id": "ccbd25bd-5b5b-4c64-ba29-1237966f5619",
   "metadata": {},
   "source": [
    "Con estos tipos de datos, defino los tipos de argumentos, que son tres en total. El último es un dato de tipo entero, para lo cual se usa directamente `c_intp`. Para definir el tipo de argumentos de entrada a la función `rotc.rotate` usamos el método `argtypes`: "
   ]
  },
  {
   "cell_type": "code",
   "execution_count": 15,
   "id": "529a3609-7356-457b-aec7-3afabc0086fd",
   "metadata": {},
   "outputs": [],
   "source": [
    "rotc.rotate.argtypes =  [float_1d_type, float_2d_type, ctl.c_intp]"
   ]
  },
  {
   "cell_type": "code",
   "execution_count": 23,
   "id": "d8d1211b",
   "metadata": {},
   "outputs": [
    {
     "name": "stdout",
     "output_type": "stream",
     "text": [
      "Help on _FuncPtr in module ctypes object:\n",
      "\n",
      "rotate = class _FuncPtr(_ctypes.CFuncPtr)\n",
      " |  Method resolution order:\n",
      " |      _FuncPtr\n",
      " |      _ctypes.CFuncPtr\n",
      " |      _ctypes._CData\n",
      " |      builtins.object\n",
      " |  \n",
      " |  Data descriptors defined here:\n",
      " |  \n",
      " |  __dict__\n",
      " |      dictionary for instance variables (if defined)\n",
      " |  \n",
      " |  __weakref__\n",
      " |      list of weak references to the object (if defined)\n",
      " |  \n",
      " |  ----------------------------------------------------------------------\n",
      " |  Methods inherited from _ctypes.CFuncPtr:\n",
      " |  \n",
      " |  __bool__(self, /)\n",
      " |      True if self else False\n",
      " |  \n",
      " |  __call__(self, /, *args, **kwargs)\n",
      " |      Call self as a function.\n",
      " |  \n",
      " |  __repr__(self, /)\n",
      " |      Return repr(self).\n",
      " |  \n",
      " |  ----------------------------------------------------------------------\n",
      " |  Static methods inherited from _ctypes.CFuncPtr:\n",
      " |  \n",
      " |  __new__(*args, **kwargs) from _ctypes.PyCFuncPtrType\n",
      " |      Create and return a new object.  See help(type) for accurate signature.\n",
      " |  \n",
      " |  ----------------------------------------------------------------------\n",
      " |  Data descriptors inherited from _ctypes.CFuncPtr:\n",
      " |  \n",
      " |  argtypes\n",
      " |      specify the argument types\n",
      " |  \n",
      " |  errcheck\n",
      " |      a function to check for errors\n",
      " |  \n",
      " |  restype\n",
      " |      specify the result type\n",
      " |  \n",
      " |  ----------------------------------------------------------------------\n",
      " |  Methods inherited from _ctypes._CData:\n",
      " |  \n",
      " |  __ctypes_from_outparam__(...)\n",
      " |  \n",
      " |  __hash__(self, /)\n",
      " |      Return hash(self).\n",
      " |  \n",
      " |  __reduce__(...)\n",
      " |      Helper for pickle.\n",
      " |  \n",
      " |  __setstate__(...)\n",
      "\n"
     ]
    }
   ],
   "source": [
    "help(rotc.rotate)"
   ]
  },
  {
   "cell_type": "markdown",
   "id": "cfb6fdbf-034f-4b69-9f29-36633e2ece9f",
   "metadata": {},
   "source": [
    "Hagamos un ejemplo sencillo con N=2"
   ]
  },
  {
   "cell_type": "code",
   "execution_count": 16,
   "id": "60ca1259-745d-4111-9e00-c6aa7823e01f",
   "metadata": {
    "autoscroll": false,
    "ein.tags": "worksheet-0",
    "slideshow": {
     "slide_type": "-"
    }
   },
   "outputs": [],
   "source": [
    "N = 2\n",
    "# Ángulos de Euler\n",
    "angle = np.random.random(3).astype(np.float32)\n",
    "# Definimos N vectores tridimensionales\n",
    "v = np.random.random((3, N)).astype(np.float32)"
   ]
  },
  {
   "cell_type": "markdown",
   "id": "d4c0ff29-7086-4ff5-b844-b54c203ddceb",
   "metadata": {},
   "source": [
    "Las funciones que dispongo en C reciben tipos `float`, es decir que me tengo que asegurar esto a través del método `astype`."
   ]
  },
  {
   "cell_type": "markdown",
   "id": "e85b1d05-120d-4cbf-846c-6f835653c2db",
   "metadata": {},
   "source": [
    "Ahora tenemos que definir el tipo de dato de salida, que retorna C a través de un puntero a float, `float*`. Para esto usamos el método `restype`. Como a priori no sé qué tipo de rango tiene mi arreglo de salida, tengo que definirlo explícitamente. "
   ]
  },
  {
   "cell_type": "code",
   "execution_count": 17,
   "id": "cdc8f4a0-4a42-451a-a806-ec3979fb4da1",
   "metadata": {},
   "outputs": [],
   "source": [
    "rotc.rotate.restype = ctl.ndpointer(dtype=np.float32, shape=(N,3)) "
   ]
  },
  {
   "cell_type": "markdown",
   "id": "4f84bfa9-1e60-4490-b511-10c6c235b1a8",
   "metadata": {},
   "source": [
    "Hay que tener precaución con el manejo de arreglos, que es muy distinto en C y Python. En Python son objetos, de los cuales yo puedo tener distintas vistas, slices, etc. Hay que recordar que en principio estas son formas de acceder al mismo objeto, pero no se pueden traducir directamente a C, que necesita un arreglo contiguo de datos."
   ]
  },
  {
   "cell_type": "code",
   "execution_count": 18,
   "id": "50c1c116-34bf-491f-af46-6a429aeacf63",
   "metadata": {},
   "outputs": [
    {
     "name": "stdout",
     "output_type": "stream",
     "text": [
      "[[1. 0.]\n",
      " [0. 1.]\n",
      " [0. 0.]]\n",
      "[[1. 0. 0.]\n",
      " [0. 1. 0.]]\n",
      "(3, 2)\n",
      "(2, 3)\n"
     ]
    }
   ],
   "source": [
    "v = np.array([[1,0], [0,1], [0,0]]).astype(np.float32) \n",
    "vt = v.T.copy()\n",
    "\n",
    "print(v)\n",
    "print(vt)\n",
    "print(np.shape(v))\n",
    "print(np.shape(v.T))"
   ]
  },
  {
   "cell_type": "markdown",
   "id": "35945e18-5d50-44a1-b84b-e820f7bc8e3c",
   "metadata": {},
   "source": [
    "Veamos, v es un arreglo de 3 filas y 2 columnas, que contiene *dos* vectores de tres dimensiones que se desean rotar, organizados como columnas. Esto *no* es lo que necesita mi arreglo en C, que es tiene los vectores organizados contiguamente en un solo arreglo unidimensional. Entonces, tengo que transformarlo. Para eso usamos el `.T`. Ojo que además, hay que crear un objeto nuevo con `copy()`, sino es una vista del mismo objeto `v`."
   ]
  },
  {
   "cell_type": "code",
   "execution_count": 19,
   "id": "05436c9f-c8a0-43a4-ac11-0d8ec0d88858",
   "metadata": {},
   "outputs": [
    {
     "name": "stdout",
     "output_type": "stream",
     "text": [
      "[0.        0.        1.5707964]\n"
     ]
    }
   ],
   "source": [
    "angle90 = np.array([0,0,np.pi/2],dtype = np.float32)\n",
    "print(angle90)"
   ]
  },
  {
   "cell_type": "code",
   "execution_count": 20,
   "id": "bcbc300f-eb7e-41c5-8da5-6b4a2f224a5c",
   "metadata": {
    "autoscroll": false,
    "ein.tags": "worksheet-0",
    "slideshow": {
     "slide_type": "-"
    }
   },
   "outputs": [],
   "source": [
    "yf = rotc.rotate(angle90,\n",
    "                      vt,\n",
    "                      N) \n",
    "y = rotate(angle90,v)"
   ]
  },
  {
   "cell_type": "code",
   "execution_count": 21,
   "id": "53725e1f-23ed-496e-994b-5afb7bb2ed49",
   "metadata": {
    "autoscroll": false,
    "ein.tags": "worksheet-0",
    "slideshow": {
     "slide_type": "-"
    }
   },
   "outputs": [
    {
     "name": "stdout",
     "output_type": "stream",
     "text": [
      "[[-0.00000004  1.        ]\n",
      " [-1.         -0.00000004]\n",
      " [ 0.          0.        ]]\n",
      "[[-0.00000004  1.        ]\n",
      " [-1.         -0.00000004]\n",
      " [ 0.          0.        ]]\n"
     ]
    },
    {
     "data": {
      "text/plain": [
       "True"
      ]
     },
     "execution_count": 21,
     "metadata": {},
     "output_type": "execute_result"
    }
   ],
   "source": [
    "np.set_printoptions(suppress=True) # suppress controla cómo print va a escribir los números de punto flotante.\n",
    "\n",
    "print(y)\n",
    "print(yf.T)\n",
    "np.allclose(y,yf.T)"
   ]
  }
 ],
 "metadata": {
  "kernelspec": {
   "display_name": "Python 3 (ipykernel)",
   "language": "python",
   "name": "python3"
  },
  "language_info": {
   "codemirror_mode": {
    "name": "ipython",
    "version": 3
   },
   "file_extension": ".py",
   "mimetype": "text/x-python",
   "name": "python",
   "nbconvert_exporter": "python",
   "pygments_lexer": "ipython3",
   "version": "3.11.8"
  },
  "name": "15_2_interfacing_C.ipynb",
  "toc": {
   "base_numbering": 1,
   "nav_menu": {
    "height": "67.2px",
    "width": "251.5px"
   },
   "number_sections": true,
   "sideBar": true,
   "skip_h1_title": false,
   "title_cell": "Contenidos",
   "title_sidebar": "Contenidos",
   "toc_cell": false,
   "toc_position": null,
   "toc_section_display": true,
   "toc_window_display": true
  }
 },
 "nbformat": 4,
 "nbformat_minor": 5
}
