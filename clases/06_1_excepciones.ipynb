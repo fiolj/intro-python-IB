{
 "cells": [
  {
   "cell_type": "markdown",
   "id": "b034eb0b-a2b7-4bbc-a9b4-aefbe6867b62",
   "metadata": {},
   "source": [
    "# Objetos y administración de errores"
   ]
  },
  {
   "cell_type": "markdown",
   "id": "304bab04-4945-4486-8cfe-985e696a14df",
   "metadata": {
    "ein.tags": "worksheet-0",
    "slideshow": {
     "slide_type": "-"
    }
   },
   "source": [
    "## Atrapar y administrar errores"
   ]
  },
  {
   "cell_type": "markdown",
   "id": "f726a9fa-f84e-496b-8fac-5b4c5e606504",
   "metadata": {
    "ein.tags": "worksheet-0",
    "slideshow": {
     "slide_type": "-"
    }
   },
   "source": [
    "**Python** tiene incorporado un mecanismo para atrapar errores de distintos tipos, así como para generar errores que den información al usuario sobre usos incorrectos del código.\n",
    "\n",
    "En primer lugar consideremos lo que se llama un error de sintaxis. El siguiente comando es sintácticamente correcto y el intérprete sabe como leerlo"
   ]
  },
  {
   "cell_type": "code",
   "execution_count": 1,
   "id": "ef63a0c3-111d-4c2e-8104-712439bdcf9f",
   "metadata": {},
   "outputs": [
    {
     "name": "stdout",
     "output_type": "stream",
     "text": [
      "hola\n"
     ]
    }
   ],
   "source": [
    "print(\"hola\")"
   ]
  },
  {
   "cell_type": "markdown",
   "id": "55253a73-724c-43c7-a252-f8f57248f5e5",
   "metadata": {},
   "source": [
    "mientras que, si escribimos algo que no está permitido en el lenguaje"
   ]
  },
  {
   "cell_type": "code",
   "execution_count": 2,
   "id": "c1525627-a9b1-49a1-9d5c-1ef05189301b",
   "metadata": {
    "autoscroll": false,
    "ein.hycell": false,
    "ein.tags": "worksheet-0",
    "slideshow": {
     "slide_type": "-"
    }
   },
   "outputs": [
    {
     "ename": "SyntaxError",
     "evalue": "unmatched ')' (362698962.py, line 1)",
     "output_type": "error",
     "traceback": [
      "\u001b[0;36m  Cell \u001b[0;32mIn[2], line 1\u001b[0;36m\u001b[0m\n\u001b[0;31m    print(\"hola\"))\u001b[0m\n\u001b[0m                 ^\u001b[0m\n\u001b[0;31mSyntaxError\u001b[0m\u001b[0;31m:\u001b[0m unmatched ')'\n"
     ]
    }
   ],
   "source": [
    "print(\"hola\"))"
   ]
  },
  {
   "cell_type": "markdown",
   "id": "fd2a06aa-ad74-49e9-97ec-36ab1d112a9f",
   "metadata": {
    "ein.tags": "worksheet-0",
    "slideshow": {
     "slide_type": "-"
    }
   },
   "source": [
    "El intérprete detecta el error y repite la línea donde lo identifica. Este tipo de errores debe corregirse para poder seguir con el programa.\n",
    "\n",
    "Consideremos ahora el código siguiente, que es sintácticamente correcto pero igualmente causa un error"
   ]
  },
  {
   "cell_type": "code",
   "execution_count": 3,
   "id": "02dac6c4-6484-441a-becd-bf1e4f499a9c",
   "metadata": {
    "autoscroll": false,
    "ein.hycell": false,
    "ein.tags": "worksheet-0",
    "slideshow": {
     "slide_type": "-"
    }
   },
   "outputs": [
    {
     "ename": "ZeroDivisionError",
     "evalue": "division by zero",
     "output_type": "error",
     "traceback": [
      "\u001b[0;31m---------------------------------------------------------------------------\u001b[0m",
      "\u001b[0;31mZeroDivisionError\u001b[0m                         Traceback (most recent call last)",
      "Cell \u001b[0;32mIn[3], line 3\u001b[0m\n\u001b[1;32m      1\u001b[0m a \u001b[38;5;241m=\u001b[39m \u001b[38;5;241m1\u001b[39m\n\u001b[1;32m      2\u001b[0m b \u001b[38;5;241m=\u001b[39m \u001b[38;5;241m0\u001b[39m\n\u001b[0;32m----> 3\u001b[0m z \u001b[38;5;241m=\u001b[39m \u001b[43ma\u001b[49m\u001b[43m \u001b[49m\u001b[38;5;241;43m/\u001b[39;49m\u001b[43m \u001b[49m\u001b[43mb\u001b[49m\n",
      "\u001b[0;31mZeroDivisionError\u001b[0m: division by zero"
     ]
    }
   ],
   "source": [
    "a = 1\n",
    "b = 0\n",
    "z = a / b"
   ]
  },
  {
   "cell_type": "markdown",
   "id": "ec5fdfd5-cec7-416e-bb58-ba8cb488e723",
   "metadata": {
    "ein.tags": "worksheet-0",
    "slideshow": {
     "slide_type": "-"
    }
   },
   "source": [
    "Cuando se encuentra un error, **Python** muestra el lugar en que ocurre y de qué tipo de error se trata."
   ]
  },
  {
   "cell_type": "code",
   "execution_count": 4,
   "id": "7c5b8557-f3dd-4e50-a223-2d6063cdad39",
   "metadata": {},
   "outputs": [
    {
     "ename": "NameError",
     "evalue": "name 'hola' is not defined",
     "output_type": "error",
     "traceback": [
      "\u001b[0;31m---------------------------------------------------------------------------\u001b[0m",
      "\u001b[0;31mNameError\u001b[0m                                 Traceback (most recent call last)",
      "Cell \u001b[0;32mIn[4], line 1\u001b[0m\n\u001b[0;32m----> 1\u001b[0m \u001b[38;5;28mprint\u001b[39m(\u001b[43mhola\u001b[49m)\n",
      "\u001b[0;31mNameError\u001b[0m: name 'hola' is not defined"
     ]
    }
   ],
   "source": [
    "print(hola)"
   ]
  },
  {
   "cell_type": "markdown",
   "id": "e8a739f1-4f61-4115-bdfc-1c319be0ac2b",
   "metadata": {
    "ein.tags": "worksheet-0",
    "slideshow": {
     "slide_type": "-"
    }
   },
   "source": [
    "Este mensaje da un tipo de error diferente. Ambos: `ZeroDivisionError` y `NameError` son tipos de errores (o excepciones). Hay una larga lista de tipos de errores que son parte del lenguaje y puede consultarse en la documentación de [Built-in Exceptions](https://docs.python.org/3/library/exceptions.html#bltin-exceptions)."
   ]
  },
  {
   "cell_type": "markdown",
   "id": "426a2a89-a515-4d9f-8b24-a6e763b13305",
   "metadata": {
    "ein.tags": "worksheet-0",
    "slideshow": {
     "slide_type": "-"
    }
   },
   "source": [
    "### Administración de excepciones\n",
    "\n",
    "Cuando nuestro programa aumenta en complejidad, aumenta la posibilidad de encontrar errores. Esto se incrementa si se tiene que interactuar con otros usuarios o con datos externos. Consideremos el siguiente ejemplo simple:"
   ]
  },
  {
   "cell_type": "code",
   "execution_count": 5,
   "id": "45ed9aa9-c397-4791-bf3a-a6c5bcb16f8b",
   "metadata": {},
   "outputs": [],
   "source": [
    "import math\n",
    "numeros = [i**2 for i in range(10)]\n",
    "numeros.append(-1)\n",
    "numeros.append(\"121\")"
   ]
  },
  {
   "cell_type": "code",
   "execution_count": 6,
   "id": "e8ddc235-ec1e-4552-ab76-cafaf2a898a3",
   "metadata": {},
   "outputs": [
    {
     "name": "stdout",
     "output_type": "stream",
     "text": [
      "La raíz cuadrada de 0 es 0.0\n",
      "La raíz cuadrada de 1 es 1.0\n",
      "La raíz cuadrada de 4 es 2.0\n",
      "La raíz cuadrada de 9 es 3.0\n",
      "La raíz cuadrada de 16 es 4.0\n",
      "La raíz cuadrada de 25 es 5.0\n",
      "La raíz cuadrada de 36 es 6.0\n",
      "La raíz cuadrada de 49 es 7.0\n",
      "La raíz cuadrada de 64 es 8.0\n",
      "La raíz cuadrada de 81 es 9.0\n"
     ]
    },
    {
     "ename": "ValueError",
     "evalue": "math domain error",
     "output_type": "error",
     "traceback": [
      "\u001b[0;31m---------------------------------------------------------------------------\u001b[0m",
      "\u001b[0;31mValueError\u001b[0m                                Traceback (most recent call last)",
      "Cell \u001b[0;32mIn[6], line 2\u001b[0m\n\u001b[1;32m      1\u001b[0m \u001b[38;5;28;01mfor\u001b[39;00m j \u001b[38;5;129;01min\u001b[39;00m numeros:\n\u001b[0;32m----> 2\u001b[0m     \u001b[38;5;28mprint\u001b[39m(\u001b[38;5;124mf\u001b[39m\u001b[38;5;124m\"\u001b[39m\u001b[38;5;124mLa raíz cuadrada de \u001b[39m\u001b[38;5;132;01m{\u001b[39;00mj\u001b[38;5;132;01m}\u001b[39;00m\u001b[38;5;124m es \u001b[39m\u001b[38;5;132;01m{\u001b[39;00m\u001b[43mmath\u001b[49m\u001b[38;5;241;43m.\u001b[39;49m\u001b[43msqrt\u001b[49m\u001b[43m(\u001b[49m\u001b[43mj\u001b[49m\u001b[43m)\u001b[49m\u001b[38;5;132;01m}\u001b[39;00m\u001b[38;5;124m\"\u001b[39m)\n\u001b[1;32m      3\u001b[0m \u001b[38;5;28mprint\u001b[39m(\u001b[38;5;124m\"\u001b[39m\u001b[38;5;124mTerminé de calcular todo\u001b[39m\u001b[38;5;124m\"\u001b[39m)\n",
      "\u001b[0;31mValueError\u001b[0m: math domain error"
     ]
    }
   ],
   "source": [
    "for j in numeros:\n",
    "    print(f\"La raíz cuadrada de {j} es {math.sqrt(j)}\")\n",
    "print(\"Terminé de calcular todo\")"
   ]
  },
  {
   "cell_type": "markdown",
   "id": "ab089cf1-6ea3-4f00-9b8a-d2c580456f6e",
   "metadata": {
    "ein.tags": "worksheet-0",
    "slideshow": {
     "slide_type": "-"
    }
   },
   "source": [
    "En este caso se \"levanta\" una excepción del tipo `ValueError` debido a que el módulo `math` solo trabaja con números reales, y no puede calcular la raíz cuadrada de `-1`. En ``Python`` podemos modificar nuestro programa para manejar este error:"
   ]
  },
  {
   "cell_type": "code",
   "execution_count": 7,
   "id": "7e6dd60f-cce4-4504-876d-29a5a4df7a0d",
   "metadata": {},
   "outputs": [
    {
     "name": "stdout",
     "output_type": "stream",
     "text": [
      "La raíz cuadrada de 0 es 0.0\n",
      "La raíz cuadrada de 1 es 1.0\n",
      "La raíz cuadrada de 4 es 2.0\n",
      "La raíz cuadrada de 9 es 3.0\n",
      "La raíz cuadrada de 16 es 4.0\n",
      "La raíz cuadrada de 25 es 5.0\n",
      "La raíz cuadrada de 36 es 6.0\n",
      "La raíz cuadrada de 49 es 7.0\n",
      "La raíz cuadrada de 64 es 8.0\n",
      "La raíz cuadrada de 81 es 9.0\n",
      "No se puede calcular la raíz cuadrada del valor -1\n",
      "No se puede calcular la raíz cuadrada del valor 121\n",
      "Terminé de calcular todo\n"
     ]
    }
   ],
   "source": [
    "for j in numeros:\n",
    "    try:\n",
    "        print(f\"La raíz cuadrada de {j} es {math.sqrt(j)}\")\n",
    "    except:\n",
    "        print(f\"No se puede calcular la raíz cuadrada del valor {j}\")\n",
    "print(\"Terminé de calcular todo\")"
   ]
  },
  {
   "cell_type": "markdown",
   "id": "2aeb1137-b680-42f0-96ff-aa9d28f6a0f7",
   "metadata": {},
   "source": [
    "Notar que en los dos casos, el mensaje de error es el mismo.\n",
    "Sin embargo, los dos casos -si bien se ven similares- son diferentes. En el caso del número entero `-1` no puede calcularse utilizando el módulo `math` pero en principio hay una respuesta. En el segundo caso, 121 no es un número sino un *string*. Podemos distinguir cada caso. Veamos la siguiente modificación:"
   ]
  },
  {
   "cell_type": "code",
   "execution_count": 8,
   "id": "76a1bdfe-e03f-4184-b74c-36e92267029c",
   "metadata": {},
   "outputs": [
    {
     "name": "stdout",
     "output_type": "stream",
     "text": [
      "La raíz cuadrada de 0 es 0.0\n",
      "La raíz cuadrada de 1 es 1.0\n",
      "La raíz cuadrada de 4 es 2.0\n",
      "La raíz cuadrada de 9 es 3.0\n",
      "La raíz cuadrada de 16 es 4.0\n",
      "La raíz cuadrada de 25 es 5.0\n",
      "La raíz cuadrada de 36 es 6.0\n",
      "La raíz cuadrada de 49 es 7.0\n",
      "La raíz cuadrada de 64 es 8.0\n",
      "La raíz cuadrada de 81 es 9.0\n",
      "No se puede calcular la raíz cuadrada del valor -1\n"
     ]
    },
    {
     "ename": "TypeError",
     "evalue": "must be real number, not str",
     "output_type": "error",
     "traceback": [
      "\u001b[0;31m---------------------------------------------------------------------------\u001b[0m",
      "\u001b[0;31mTypeError\u001b[0m                                 Traceback (most recent call last)",
      "Cell \u001b[0;32mIn[8], line 3\u001b[0m\n\u001b[1;32m      1\u001b[0m \u001b[38;5;28;01mfor\u001b[39;00m j \u001b[38;5;129;01min\u001b[39;00m numeros:\n\u001b[1;32m      2\u001b[0m     \u001b[38;5;28;01mtry\u001b[39;00m:\n\u001b[0;32m----> 3\u001b[0m         \u001b[38;5;28mprint\u001b[39m(\u001b[38;5;124mf\u001b[39m\u001b[38;5;124m\"\u001b[39m\u001b[38;5;124mLa raíz cuadrada de \u001b[39m\u001b[38;5;132;01m{\u001b[39;00mj\u001b[38;5;132;01m}\u001b[39;00m\u001b[38;5;124m es \u001b[39m\u001b[38;5;132;01m{\u001b[39;00m\u001b[43mmath\u001b[49m\u001b[38;5;241;43m.\u001b[39;49m\u001b[43msqrt\u001b[49m\u001b[43m(\u001b[49m\u001b[43mj\u001b[49m\u001b[43m)\u001b[49m\u001b[38;5;132;01m}\u001b[39;00m\u001b[38;5;124m\"\u001b[39m)\n\u001b[1;32m      4\u001b[0m     \u001b[38;5;28;01mexcept\u001b[39;00m(\u001b[38;5;167;01mValueError\u001b[39;00m):\n\u001b[1;32m      5\u001b[0m         \u001b[38;5;28mprint\u001b[39m(\u001b[38;5;124mf\u001b[39m\u001b[38;5;124m\"\u001b[39m\u001b[38;5;124mNo se puede calcular la raíz cuadrada del valor \u001b[39m\u001b[38;5;132;01m{\u001b[39;00mj\u001b[38;5;132;01m}\u001b[39;00m\u001b[38;5;124m\"\u001b[39m)\n",
      "\u001b[0;31mTypeError\u001b[0m: must be real number, not str"
     ]
    }
   ],
   "source": [
    "for j in numeros:\n",
    "    try:\n",
    "        print(f\"La raíz cuadrada de {j} es {math.sqrt(j)}\")\n",
    "    except(ValueError):\n",
    "        print(f\"No se puede calcular la raíz cuadrada del valor {j}\")\n",
    "print(\"Terminé de calcular todo\")"
   ]
  },
  {
   "cell_type": "markdown",
   "id": "89c74895-f24c-4800-a1c8-499a1c1c6f70",
   "metadata": {},
   "source": [
    "Vemos que, como esperábamos no es un problema de valor sino de tipo del argumento. Agreguemos este caso:"
   ]
  },
  {
   "cell_type": "code",
   "execution_count": 9,
   "id": "26b4f3b0-c1f4-4b9c-a9fa-204db77c9291",
   "metadata": {},
   "outputs": [
    {
     "name": "stdout",
     "output_type": "stream",
     "text": [
      "La raíz cuadrada de 0 es 0.0\n",
      "La raíz cuadrada de 1 es 1.0\n",
      "La raíz cuadrada de 4 es 2.0\n",
      "La raíz cuadrada de 9 es 3.0\n",
      "La raíz cuadrada de 16 es 4.0\n",
      "La raíz cuadrada de 25 es 5.0\n",
      "La raíz cuadrada de 36 es 6.0\n",
      "La raíz cuadrada de 49 es 7.0\n",
      "La raíz cuadrada de 64 es 8.0\n",
      "La raíz cuadrada de 81 es 9.0\n",
      "No se puede calcular la raíz cuadrada del valor -1\n",
      "No está definida la raíz cuadrada para tipos <class 'str'>\n",
      "Terminé de calcular todo\n"
     ]
    }
   ],
   "source": [
    "for j in numeros:\n",
    "    try:\n",
    "        print(f\"La raíz cuadrada de {j} es {math.sqrt(j)}\")\n",
    "    except(ValueError):\n",
    "        print(f\"No se puede calcular la raíz cuadrada del valor {j}\")\n",
    "    except(TypeError):\n",
    "        print(f\"No está definida la raíz cuadrada para tipos {type(j)}\")        \n",
    "print(\"Terminé de calcular todo\")"
   ]
  },
  {
   "cell_type": "code",
   "execution_count": 10,
   "id": "0facc576-103f-40e8-8d89-ee2ea5a64109",
   "metadata": {},
   "outputs": [
    {
     "name": "stdout",
     "output_type": "stream",
     "text": [
      "La raíz cuadrada de 0 es 0.0\n",
      "La raíz cuadrada de 1 es 1.0\n",
      "La raíz cuadrada de 4 es 2.0\n",
      "La raíz cuadrada de 9 es 3.0\n",
      "La raíz cuadrada de 16 es 4.0\n",
      "La raíz cuadrada de 25 es 5.0\n",
      "La raíz cuadrada de 36 es 6.0\n",
      "La raíz cuadrada de 49 es 7.0\n",
      "La raíz cuadrada de 64 es 8.0\n",
      "La raíz cuadrada de 81 es 9.0\n",
      "No se puede calcular la raíz cuadrada del valor -1\n",
      "No está definida la raíz cuadrada para tipos <class 'str'>\n",
      "Terminé de calcular todo\n"
     ]
    }
   ],
   "source": [
    "for j in numeros:\n",
    "    try:\n",
    "        print(f\"La raíz cuadrada de {j} es {math.sqrt(j)}\")\n",
    "    except(ValueError):\n",
    "        print(f\"No se puede calcular la raíz cuadrada del valor {j}\")\n",
    "    except(TypeError):\n",
    "        print(f\"No está definida la raíz cuadrada para tipos {type(j)}\") \n",
    "    except:\n",
    "        print(f\"Otro error para {j} de tipo {type(j)}\") \n",
    "\n",
    "print(\"Terminé de calcular todo\")"
   ]
  },
  {
   "cell_type": "markdown",
   "id": "a59ae30b-fd5e-445c-938d-21d335ff84c8",
   "metadata": {
    "ein.tags": "worksheet-0",
    "slideshow": {
     "slide_type": "-"
    }
   },
   "source": [
    "En esta forma sencilla, la declaración `try` funciona de la siguiente manera:\n",
    "\n",
    "* Primero, se ejecuta el *bloque try* (el código entre las declaración\n",
    "  `try` y `except`).\n",
    "\n",
    "* Si no ocurre ninguna excepción, el *bloque except* se saltea y termina la\n",
    "  ejecución de la declaración `try`.\n",
    "\n",
    "* Si ocurre una excepción durante la ejecución del *bloque try*, el resto del\n",
    "  bloque se saltea.  Luego, si su tipo coincide con la excepción nombrada luego\n",
    "  de la palabra reservada `except`, se ejecuta el *bloque except*,\n",
    "  y la ejecución continúa luego de la declaración `try`.\n",
    "\n",
    "* Si ocurre una excepción que no coincide con la excepción nombrada en el\n",
    "  `except`, esta se pasa a declaraciones `try` de más afuera;\n",
    "  si no se encuentra nada que la maneje, es una *excepción no manejada*, y la\n",
    "  ejecución se frena con un mensaje como los mostrados arriba.\n",
    "\n",
    "\n",
    "El mecanismo es un poco más complejo, y contiene otros elementos que permiten un control más fino que lo descripto aquí."
   ]
  },
  {
   "cell_type": "markdown",
   "id": "a8031f86-616b-4085-ae7a-01daad7f2216",
   "metadata": {
    "ein.tags": "worksheet-0",
    "slideshow": {
     "slide_type": "-"
    }
   },
   "source": [
    "### \"Crear\" excepciones\n",
    "\n",
    "Podemos forzar a que nuestro código cree una excepción usando `raise`. Por ejemplo:"
   ]
  },
  {
   "cell_type": "code",
   "execution_count": 11,
   "id": "78d011ac-1f5c-4110-b739-a9078b1f020e",
   "metadata": {
    "autoscroll": false,
    "ein.hycell": false,
    "ein.tags": "worksheet-0",
    "slideshow": {
     "slide_type": "-"
    }
   },
   "outputs": [],
   "source": [
    "import math\n",
    "def mi_sqrt(x):\n",
    "  if x < 0:\n",
    "    raise ValueError(f\"x = {x}, debería ser positivo\")\n",
    "  return math.sqrt(x)"
   ]
  },
  {
   "cell_type": "code",
   "execution_count": 12,
   "id": "da31bddd-536e-44f1-8d5f-80d6b190d7e3",
   "metadata": {},
   "outputs": [
    {
     "data": {
      "text/plain": [
       "3.4641016151377544"
      ]
     },
     "execution_count": 12,
     "metadata": {},
     "output_type": "execute_result"
    }
   ],
   "source": [
    "mi_sqrt(12)"
   ]
  },
  {
   "cell_type": "code",
   "execution_count": 13,
   "id": "f04b7326-08d9-4bde-b19c-b2bd6ca867bd",
   "metadata": {},
   "outputs": [
    {
     "ename": "ValueError",
     "evalue": "x = -2, debería ser positivo",
     "output_type": "error",
     "traceback": [
      "\u001b[0;31m---------------------------------------------------------------------------\u001b[0m",
      "\u001b[0;31mValueError\u001b[0m                                Traceback (most recent call last)",
      "Cell \u001b[0;32mIn[13], line 1\u001b[0m\n\u001b[0;32m----> 1\u001b[0m \u001b[43mmi_sqrt\u001b[49m\u001b[43m(\u001b[49m\u001b[38;5;241;43m-\u001b[39;49m\u001b[38;5;241;43m2\u001b[39;49m\u001b[43m)\u001b[49m\n",
      "Cell \u001b[0;32mIn[11], line 4\u001b[0m, in \u001b[0;36mmi_sqrt\u001b[0;34m(x)\u001b[0m\n\u001b[1;32m      2\u001b[0m \u001b[38;5;28;01mdef\u001b[39;00m \u001b[38;5;21mmi_sqrt\u001b[39m(x):\n\u001b[1;32m      3\u001b[0m   \u001b[38;5;28;01mif\u001b[39;00m x \u001b[38;5;241m<\u001b[39m \u001b[38;5;241m0\u001b[39m:\n\u001b[0;32m----> 4\u001b[0m     \u001b[38;5;28;01mraise\u001b[39;00m \u001b[38;5;167;01mValueError\u001b[39;00m(\u001b[38;5;124mf\u001b[39m\u001b[38;5;124m\"\u001b[39m\u001b[38;5;124mx = \u001b[39m\u001b[38;5;132;01m{\u001b[39;00mx\u001b[38;5;132;01m}\u001b[39;00m\u001b[38;5;124m, debería ser positivo\u001b[39m\u001b[38;5;124m\"\u001b[39m)\n\u001b[1;32m      5\u001b[0m   \u001b[38;5;28;01mreturn\u001b[39;00m math\u001b[38;5;241m.\u001b[39msqrt(x)\n",
      "\u001b[0;31mValueError\u001b[0m: x = -2, debería ser positivo"
     ]
    }
   ],
   "source": [
    "mi_sqrt(-2)"
   ]
  },
  {
   "cell_type": "markdown",
   "id": "82a64ef6-e972-4f94-a6af-155c81eda53e",
   "metadata": {},
   "source": [
    "Vemos que así nuestra función da un error que el intérprete muestra al usuario. En este caso porque el valor no es positivo. Un error diferente aparece si le damos números complejos:"
   ]
  },
  {
   "cell_type": "code",
   "execution_count": 14,
   "id": "4f32b807-fe7e-473d-8bea-0809e1b87f65",
   "metadata": {},
   "outputs": [
    {
     "ename": "TypeError",
     "evalue": "'<' not supported between instances of 'complex' and 'int'",
     "output_type": "error",
     "traceback": [
      "\u001b[0;31m---------------------------------------------------------------------------\u001b[0m",
      "\u001b[0;31mTypeError\u001b[0m                                 Traceback (most recent call last)",
      "Cell \u001b[0;32mIn[14], line 1\u001b[0m\n\u001b[0;32m----> 1\u001b[0m \u001b[43mmi_sqrt\u001b[49m\u001b[43m(\u001b[49m\u001b[38;5;241;43m1\u001b[39;49m\u001b[38;5;241;43m+\u001b[39;49m\u001b[38;5;241;43m2\u001b[39;49m\u001b[43mj\u001b[49m\u001b[43m)\u001b[49m\n",
      "Cell \u001b[0;32mIn[11], line 3\u001b[0m, in \u001b[0;36mmi_sqrt\u001b[0;34m(x)\u001b[0m\n\u001b[1;32m      2\u001b[0m \u001b[38;5;28;01mdef\u001b[39;00m \u001b[38;5;21mmi_sqrt\u001b[39m(x):\n\u001b[0;32m----> 3\u001b[0m   \u001b[38;5;28;01mif\u001b[39;00m \u001b[43mx\u001b[49m\u001b[43m \u001b[49m\u001b[38;5;241;43m<\u001b[39;49m\u001b[43m \u001b[49m\u001b[38;5;241;43m0\u001b[39;49m:\n\u001b[1;32m      4\u001b[0m     \u001b[38;5;28;01mraise\u001b[39;00m \u001b[38;5;167;01mValueError\u001b[39;00m(\u001b[38;5;124mf\u001b[39m\u001b[38;5;124m\"\u001b[39m\u001b[38;5;124mx = \u001b[39m\u001b[38;5;132;01m{\u001b[39;00mx\u001b[38;5;132;01m}\u001b[39;00m\u001b[38;5;124m, debería ser positivo\u001b[39m\u001b[38;5;124m\"\u001b[39m)\n\u001b[1;32m      5\u001b[0m   \u001b[38;5;28;01mreturn\u001b[39;00m math\u001b[38;5;241m.\u001b[39msqrt(x)\n",
      "\u001b[0;31mTypeError\u001b[0m: '<' not supported between instances of 'complex' and 'int'"
     ]
    }
   ],
   "source": [
    "mi_sqrt(1+2j)"
   ]
  },
  {
   "cell_type": "markdown",
   "id": "b4b93b1e-90ca-4a06-8f4b-89f421d3f53f",
   "metadata": {},
   "source": [
    "En este caso, el error aparece en la comparación. Corrijamos este caso: "
   ]
  },
  {
   "cell_type": "code",
   "execution_count": 15,
   "id": "9130f71b-70b9-44d1-ab1e-d703c96d5fa9",
   "metadata": {
    "autoscroll": false,
    "ein.hycell": false,
    "ein.tags": "worksheet-0",
    "slideshow": {
     "slide_type": "-"
    }
   },
   "outputs": [],
   "source": [
    "import math\n",
    "def mi_sqrt(x):\n",
    "  if not isinstance(x,(int,float)):\n",
    "    raise TypeError(f\"x debe ser un tipo describiendo un número real\")\n",
    "  if x < 0:\n",
    "    raise ValueError(f\"x = {x}, debería ser positivo\")\n",
    "  return math.sqrt(x)"
   ]
  },
  {
   "cell_type": "code",
   "execution_count": 16,
   "id": "0e7d3049-89b7-45c1-879f-92e4da2f7205",
   "metadata": {},
   "outputs": [
    {
     "ename": "TypeError",
     "evalue": "x debe ser un tipo describiendo un número real",
     "output_type": "error",
     "traceback": [
      "\u001b[0;31m---------------------------------------------------------------------------\u001b[0m",
      "\u001b[0;31mTypeError\u001b[0m                                 Traceback (most recent call last)",
      "Cell \u001b[0;32mIn[16], line 1\u001b[0m\n\u001b[0;32m----> 1\u001b[0m \u001b[43mmi_sqrt\u001b[49m\u001b[43m(\u001b[49m\u001b[38;5;241;43m1\u001b[39;49m\u001b[38;5;241;43m+\u001b[39;49m\u001b[38;5;241;43m2\u001b[39;49m\u001b[43mj\u001b[49m\u001b[43m)\u001b[49m\n",
      "Cell \u001b[0;32mIn[15], line 4\u001b[0m, in \u001b[0;36mmi_sqrt\u001b[0;34m(x)\u001b[0m\n\u001b[1;32m      2\u001b[0m \u001b[38;5;28;01mdef\u001b[39;00m \u001b[38;5;21mmi_sqrt\u001b[39m(x):\n\u001b[1;32m      3\u001b[0m   \u001b[38;5;28;01mif\u001b[39;00m \u001b[38;5;129;01mnot\u001b[39;00m \u001b[38;5;28misinstance\u001b[39m(x,(\u001b[38;5;28mint\u001b[39m,\u001b[38;5;28mfloat\u001b[39m)):\n\u001b[0;32m----> 4\u001b[0m     \u001b[38;5;28;01mraise\u001b[39;00m \u001b[38;5;167;01mTypeError\u001b[39;00m(\u001b[38;5;124mf\u001b[39m\u001b[38;5;124m\"\u001b[39m\u001b[38;5;124mx debe ser un tipo describiendo un número real\u001b[39m\u001b[38;5;124m\"\u001b[39m)\n\u001b[1;32m      5\u001b[0m   \u001b[38;5;28;01mif\u001b[39;00m x \u001b[38;5;241m<\u001b[39m \u001b[38;5;241m0\u001b[39m:\n\u001b[1;32m      6\u001b[0m     \u001b[38;5;28;01mraise\u001b[39;00m \u001b[38;5;167;01mValueError\u001b[39;00m(\u001b[38;5;124mf\u001b[39m\u001b[38;5;124m\"\u001b[39m\u001b[38;5;124mx = \u001b[39m\u001b[38;5;132;01m{\u001b[39;00mx\u001b[38;5;132;01m}\u001b[39;00m\u001b[38;5;124m, debería ser positivo\u001b[39m\u001b[38;5;124m\"\u001b[39m)\n",
      "\u001b[0;31mTypeError\u001b[0m: x debe ser un tipo describiendo un número real"
     ]
    }
   ],
   "source": [
    "mi_sqrt(1+2j)"
   ]
  },
  {
   "cell_type": "code",
   "execution_count": 17,
   "id": "62ce117b-0530-4a8e-81ce-66581eb36bc6",
   "metadata": {},
   "outputs": [
    {
     "ename": "ValueError",
     "evalue": "x = -2, debería ser positivo",
     "output_type": "error",
     "traceback": [
      "\u001b[0;31m---------------------------------------------------------------------------\u001b[0m",
      "\u001b[0;31mValueError\u001b[0m                                Traceback (most recent call last)",
      "Cell \u001b[0;32mIn[17], line 1\u001b[0m\n\u001b[0;32m----> 1\u001b[0m \u001b[43mmi_sqrt\u001b[49m\u001b[43m(\u001b[49m\u001b[38;5;241;43m-\u001b[39;49m\u001b[38;5;241;43m2\u001b[39;49m\u001b[43m)\u001b[49m\n",
      "Cell \u001b[0;32mIn[15], line 6\u001b[0m, in \u001b[0;36mmi_sqrt\u001b[0;34m(x)\u001b[0m\n\u001b[1;32m      4\u001b[0m   \u001b[38;5;28;01mraise\u001b[39;00m \u001b[38;5;167;01mTypeError\u001b[39;00m(\u001b[38;5;124mf\u001b[39m\u001b[38;5;124m\"\u001b[39m\u001b[38;5;124mx debe ser un tipo describiendo un número real\u001b[39m\u001b[38;5;124m\"\u001b[39m)\n\u001b[1;32m      5\u001b[0m \u001b[38;5;28;01mif\u001b[39;00m x \u001b[38;5;241m<\u001b[39m \u001b[38;5;241m0\u001b[39m:\n\u001b[0;32m----> 6\u001b[0m   \u001b[38;5;28;01mraise\u001b[39;00m \u001b[38;5;167;01mValueError\u001b[39;00m(\u001b[38;5;124mf\u001b[39m\u001b[38;5;124m\"\u001b[39m\u001b[38;5;124mx = \u001b[39m\u001b[38;5;132;01m{\u001b[39;00mx\u001b[38;5;132;01m}\u001b[39;00m\u001b[38;5;124m, debería ser positivo\u001b[39m\u001b[38;5;124m\"\u001b[39m)\n\u001b[1;32m      7\u001b[0m \u001b[38;5;28;01mreturn\u001b[39;00m math\u001b[38;5;241m.\u001b[39msqrt(x)\n",
      "\u001b[0;31mValueError\u001b[0m: x = -2, debería ser positivo"
     ]
    }
   ],
   "source": [
    "mi_sqrt(-2)"
   ]
  },
  {
   "cell_type": "markdown",
   "id": "80821739-3ff4-4872-8a85-f2dd02575849",
   "metadata": {},
   "source": [
    "Esta función podemos utilizarla en nuestro código de la siguiente manera:"
   ]
  },
  {
   "cell_type": "code",
   "execution_count": 18,
   "id": "f25b518a-bd47-4621-8ce3-1c9c7d56ae06",
   "metadata": {},
   "outputs": [
    {
     "name": "stdout",
     "output_type": "stream",
     "text": [
      "Argumento negativo!!!\n"
     ]
    }
   ],
   "source": [
    "try:\n",
    "    mi_sqrt(-2)\n",
    "except(ValueError):\n",
    "    print(\"Argumento negativo!!!\")"
   ]
  },
  {
   "cell_type": "code",
   "execution_count": 19,
   "id": "dce2a5c6-ee09-4b49-9674-85fcd2e44ca9",
   "metadata": {},
   "outputs": [
    {
     "name": "stdout",
     "output_type": "stream",
     "text": [
      "Tipo incorrecto!!!\n"
     ]
    }
   ],
   "source": [
    "try:\n",
    "    mi_sqrt(2+2j)\n",
    "except(TypeError):\n",
    "    print(\"Tipo incorrecto!!!\")"
   ]
  }
 ],
 "metadata": {
  "kernelspec": {
   "display_name": "Python 3 (ipykernel)",
   "language": "python",
   "name": "python3"
  },
  "language_info": {
   "codemirror_mode": {
    "name": "ipython",
    "version": 3
   },
   "file_extension": ".py",
   "mimetype": "text/x-python",
   "name": "python",
   "nbconvert_exporter": "python",
   "pygments_lexer": "ipython3",
   "version": "3.13.2"
  },
  "name": "05_3_excepciones.ipynb",
  "toc": {
   "base_numbering": 1,
   "nav_menu": {
    "height": "67.2px",
    "width": "251.5px"
   },
   "number_sections": true,
   "sideBar": true,
   "skip_h1_title": false,
   "title_cell": "Contenidos",
   "title_sidebar": "Contenidos",
   "toc_cell": false,
   "toc_position": null,
   "toc_section_display": true,
   "toc_window_display": false
  }
 },
 "nbformat": 4,
 "nbformat_minor": 5
}
