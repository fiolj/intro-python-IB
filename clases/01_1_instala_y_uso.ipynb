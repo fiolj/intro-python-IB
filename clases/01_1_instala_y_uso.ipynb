{
 "cells": [
  {
   "cell_type": "markdown",
   "id": "bdda2261",
   "metadata": {
    "collapsed": false,
    "editable": true,
    "ein.tags": "worksheet-0",
    "jupyter": {
     "outputs_hidden": false
    },
    "slideshow": {
     "slide_type": ""
    },
    "tags": []
   },
   "source": [
    "# Introducción al lenguaje\n",
    "\n",
    "## Cómo empezar: Instalación y uso\n",
    "\n",
    "**Python** es un lenguaje de programación interpretado, que se puede ejecutar sobre distintos sistemas operativos, es decir, es multiplataforma (suele usarse el término *cross-platform*). Además, la mayoría de los programas que existen (y posiblemente todos los que nosotros escribamos) pueden ejecutarse tanto en Linux como en windows y en Mac sin realizar ningún cambio.\n"
   ]
  },
  {
   "cell_type": "markdown",
   "id": "044f6813",
   "metadata": {
    "collapsed": false,
    "editable": true,
    "ein.tags": "worksheet-0",
    "jupyter": {
     "outputs_hidden": false
    },
    "slideshow": {
     "slide_type": ""
    },
    "tags": []
   },
   "source": [
    "### Instalación\n",
    "En este curso utilizaremos **Python 3**. \n",
    "\n",
    "> **Nota:** Existe una versión anterior de Python, **Python2.X** (Python 2) cuya fecha de finalización de soporte fue el 1/1/2020. Fue una una versión madura, estable, y con muchas aplicaciones, y utilidades disponibles, sin embargo ya no se desarrolla ni se corrigen los errores ni problemas de seguridad. \n",
    "\n",
    "\n",
    "La instalación [oficial](https://www.python.org/downloads/) de Python provee lo necesario para utilizar el lenguaje. Sin embargo, con el correr del tiempo, se han creado otras [muchas distribuciones de Python](https://wiki.python.org/moin/PythonDistributions) que incluyen aplicaciones y bibliotecas de uso común.\n",
    "\n",
    "> Estas distribuciones son implementaciones del lenguaje basadas en CPython, es decir, en C y Python. Existen otras implementaciones, como por ejemplo [PyPy](https://pypy.org/index.html).\n",
    "\n",
    "Para una instalación fácil de Python y los paquetes más comunes se pueden usar alguna de las distribuciones:\n",
    "\n",
    "- [Anaconda](https://www.anaconda.com/distribution).   (Linux, Windows, MacOs)\n",
    "- [ActiveState](https://www.activestate.com/products/python/)\n",
    "- [Winpython](https://winpython.github.io/).  (Windows)\n",
    "\n",
    "En este curso utilizaremos Anaconda, en su versión minimalista, [miniconda](https://docs.anaconda.com/miniconda/). La diferencia más importante es la cantidad de paquetes que instala cada distribución inicialmente. Además, Anaconda provee una aplicación (Anaconda Navigator) para el manejo de paquetes.\n",
    "\n",
    "> En el curso el manejo de paquetes se realizará mediante la línea de comando y los _ambientes_ de Python."
   ]
  },
  {
   "cell_type": "markdown",
   "id": "ec630152",
   "metadata": {},
   "source": [
    "#### Linux\n",
    "\n",
    "En la terminal,\n",
    "```bash\n",
    "mkdir -p ~/miniconda3\n",
    "wget https://repo.anaconda.com/miniconda/Miniconda3-latest-Linux-x86_64.sh -O ~/miniconda3/miniconda.sh\n",
    "bash ~/miniconda3/miniconda.sh -b -u -p ~/miniconda3\n",
    "rm ~/miniconda3/miniconda.sh\n",
    "```\n",
    "Eventualmente, en linux se podría instalar directamente todo lo necesario desde los repositorios. Por ejemplo en Ubuntu: \n",
    "```bash\n",
    "sudo apt-get install ipython3 ipython3-notebook spyder python3-matplotlib python3-numpy python3-scipy\n",
    "```\n",
    "o, en Fedora 28, en adelante:\n",
    "```bash\n",
    "sudo dnf install python3-ipython python3-notebook python3-matplotlib python3-numpy python3-scipy\n",
    "```\n",
    "Obviamente esto tiene un alcance global para todos los usuarios. Dependiendo de los casos de uso, será útil una u otra opción."
   ]
  },
  {
   "cell_type": "markdown",
   "id": "07586ec6",
   "metadata": {
    "editable": true,
    "slideshow": {
     "slide_type": ""
    },
    "tags": []
   },
   "source": [
    "#### Windows\n",
    "\n",
    "La instalación es bastante sencilla, bajando el instalador [acá](https://docs.anaconda.com/miniconda/) o usando `curl`:\n",
    "\n",
    "```cmd\n",
    "curl https://repo.anaconda.com/miniconda/Miniconda3-latest-Windows-x86_64.exe -o miniconda.exe\n",
    "start /wait \"\" .\\miniconda.exe /S\n",
    "del miniconda.exe\n",
    "```\n",
    "\n",
    "> Atención! Pueden existir problemas si el nombre del usuario en Windows contiene espacios.\n",
    "\n",
    "Una vez instalado miniconda, veremos dos nuevos acceso directos en el menú\n",
    "\n",
    "![](figuras/miniconda.png)\n",
    "\n",
    "que corresponden a los dos tipos de terminales que instala miniconda.\n",
    "\n",
    "> Por defecto, miniconda no agrega Python al PATH, por lo tanto, `python` no estará disponible en las terminales usuales (`cmd.exe` y PowerShell)"
   ]
  },
  {
   "cell_type": "markdown",
   "id": "972d886f",
   "metadata": {},
   "source": [
    "### Edición de código\n",
    "\n",
    "Como todo lenguaje, se pueden utilizar distintos editores de texto      \n",
    "\n",
    "- En windows: [Notepad++](https://notepad-plus-plus.org), [Jedit](http://www.jedit.org/), ... (no Notepad o Wordpad)\n",
    "\n",
    "- En Linux: cualquier editor de texto (gedit, geany, kate, nano, emacs, vim, ...)\n",
    "\n",
    "- En Mac: TextEdit funciona, sino TextWrangler, [JEdit](http://www.jedit.org/), ...\n",
    "\n",
    "o IDEs:    \n",
    "\n",
    "  - [Spyder](https://github.com/spyder-ide/spyder/). (IDE - También viene con Anaconda, y con Python(x,y)).\n",
    "  - [Pycharm](https://www.jetbrains.com/pycharm/). (IDE, una versión comercial y una libre, ambos con muchas funcionalidades)\n",
    "  - [Sublime Text](https://www.sublimetext.com/)\n",
    "  - [Ninja-IDE](https://ninja-ide.org/) (IDE *cross-platform*, libre)\n",
    "\n",
    "y, por supuesto, [Visual Studio Code](https://code.visualstudio.com/). Todos estos editores ofrecen plugins o extensiones para mejorar la experiencia de programación.\n",
    "\n",
    "### Documentación y ayudas\n",
    "\n",
    "Algunas fuentes de ayuda *constante* son:\n",
    "\n",
    "* [La documentación oficial de Python](https://docs.python.org/3/)\n",
    "* En particular el [Tutorial](https://docs.python.org/3/tutorial/), también [en español](http://docs.python.org.ar/tutorial/3/) y la [referencia de bibliotecas](https://docs.python.org/3/reference/index.html)\n",
    "* En una terminal, puede obtener información sobre un paquete con `pydoc <comando>`\n",
    "* En una consola interactiva de **Python**, mediante `help(<comando>)`\n",
    "* La documentación de los paquetes:\n",
    "    - [Numpy](http://docs.scipy.org/doc/numpy/user/)\n",
    "    - [Matplotlib](http://matplotlib.org), en particular la [galería](http://matplotlib.org/gallery.html)\n",
    "    - [Scipy](http://docs.scipy.org/doc/scipy/reference/)\n",
    "    - [Pandas](https://pandas.pydata.org/)\n",
    "  \n",
    "  etc.\n",
    "* Buscar \"palabras clave + python\" en un buscador. Es particularmente útil el sitio [stackoverflow](http://stackoverflow.com/)\n",
    "\n",
    "> Python es un lenguaje de tipos dinámicos, con lo cual las ayudas de los IDE pueden ser en general escasas. Veremos sin embargo en el curso algunas alternativas para poder mejorar la experiencia de programación.\n",
    "\n"
   ]
  },
  {
   "cell_type": "markdown",
   "id": "baaf426b",
   "metadata": {
    "collapsed": false,
    "ein.tags": "worksheet-0",
    "jupyter": {
     "outputs_hidden": false
    },
    "slideshow": {
     "slide_type": "-"
    }
   },
   "source": [
    "### Uso de Python: Interactivo o no\n",
    "\n",
    "\n",
    "#### Interfaces interactivas (consolas/terminales, notebooks)\n",
    "\n",
    "Hay muchas maneras de usar el lenguaje Python.  Es un lenguaje **interpretado** e **interactivo**. Si ejecutamos la consola (`cmd.exe` en windows) y luego `python`, se abrirá la consola interactiva\n",
    "\n",
    "![](figuras/console.png)\n",
    "\n",
    "En la consola interactiva podemos escribir sentencias o pequeños bloques de código que son ejecutados inmediatamente. Pero *la consola interactiva* estándar no tiene tantas características de conveniencia como otras, por ejemplo **IPython** que viene con \"accesorios de *comfort*\".\n",
    "\n",
    "![](figuras/ipython.png)\n",
    "\n",
    "La consola IPython supera a la estándar en muchos sentidos. Podemos autocompletar (`<TAB>`), ver ayuda rápida de cualquier objeto (`?`), etc. \n",
    "\n",
    "#### Programas/scripts\n",
    "Una forma muy común/poderosa de usar Python es en forma *no interactiva*, escribiendo *programas* o *scripts*. Esto es, escribir nuestro código en un archivo con extensión *.py* para luego ejecutarlo con el intérprete. Por ejemplo, podemos crear un archivo *hello.py* (al que se le llama *módulo*) con este contenido:\n",
    "\n",
    "    print(\"Hola Mundo!\")\n",
    "\n",
    "Si ejecutamos `python hello.py` o `ipython hello.py` se ejecutará el interprete Python y obtendremos el resultado esperado (impresión por pantalla de \"Hola Mundo!\", sin las comillas)\n",
    "\n",
    "\n",
    "**Python** no exige un editor específico y hay muchos modos y maneras de programar. Lo que es importante al programar en **Python** es que la *indentación* define los bloques (definición de loops, if/else, funciones, clases, etc). Por esa razón es importante que el tabulado no mezcle espacios con caracteres específicos de tabulación. La manera que recomendaría es usar siempre espacios (uno usa la tecla [TAB] pero el editor lo traduce a un número determinado de espacios).\n",
    "La indentación recomendada es de __4__ espacios (pero van a notar que yo uso **2**).\n",
    "\n",
    "Un buen editor es **Spyder** que tiene características de IDE (entorno integrado: editor + ayuda + consola interactiva). \n",
    "\n",
    "![](figuras/spyder.png)\n",
    "\n",
    "También Pycharm funciona muy bien\n",
    "\n",
    "![](figuras/pycharm.jpg)\n",
    "\n",
    "Y por supuesto, VS Code\n",
    "\n",
    "![](figuras/vscode.png)\n",
    "\n",
    "En todos los casos se puede ejecutar todo el código del archivo en la consola interactiva que incluye. Alternativamente, también se puede seleccionar **sólo** una porción del código para ejecutar.\n",
    "\n",
    "### Notebooks de Jupyter o Jupyter-Lab\n",
    "\n",
    "Para trabajar en forma interactiva es muy útil usar los *Notebooks* de Jupyter. El notebook es un entorno interactivo enriquecido. Podemos crear y editar \"celdas\" código Python que se pueden editar y volver a ejecutar, se pueden intercalar celdas de texto, fórmulas matemáticas, y hacer que los gráficos se muestren inscrutados en la misma pantalla o en ventanas separadas. Además se puede escribir texto con formato (como este que estamos viendo) con secciones, títulos.\n",
    "Estos archivos se guardan con extensión *.ipynb*, que pueden exportarse en distintos formatos tales como html (estáticos), en formato PDF, LaTeX, o como código python puro. (.py)\n",
    "\n",
    "> \n",
    "\n"
   ]
  },
  {
   "cell_type": "markdown",
   "id": "574c01f9",
   "metadata": {},
   "source": [
    "### Instalando Python interactivo\n",
    "\n",
    "Miniconda instala algunos paquetes básicos, con lo cual tenemos que ir agregándolos. Primero instalaremos `IPython`, la consola interactiva de Python. Para eso utilizamos el comando `conda`. Desde cualquiera de las terminales de Anaconda instaladas:\n",
    "\n",
    "```cmd\n",
    "conda install ipython\n",
    "```\n",
    "\n",
    "Y luego instalaremos la versión más sofisticada de Python interactivo, a través de Jupyter:\n",
    "```cmd\n",
    "conda install jupyter\n",
    "```\n",
    "\n",
    "Y obtendremos\n",
    "\n",
    "![](figuras/jupyter.png)\n",
    "\n",
    "Para usar los notebooks, simplemente cliqueamos en el nuevo acceso directo a Jupyter Notebooks, o desde la terminal de Anaconda:\n",
    "\n",
    "```cmd\n",
    "python -m notebook\n",
    "```\n",
    "\n",
    "Existe una versión más moderna de Jupyter notebooks denominada [JupyterLab](https://jupyterlab.readthedocs.io/en/stable/index.html) que puede instalarse como:\n",
    "\n",
    "```cmd\n",
    "conda install -c conda-forge jupyterlab\n",
    "```\n",
    "\n",
    "Una vez instalada, podemos correrla con\n",
    "```\n",
    "jupyter lab\n",
    "```\n",
    "desde una terminal de Anaconda.\n",
    "\n"
   ]
  },
  {
   "cell_type": "markdown",
   "id": "da844ad9",
   "metadata": {
    "collapsed": false,
    "ein.tags": "worksheet-0",
    "jupyter": {
     "outputs_hidden": false
    },
    "slideshow": {
     "slide_type": "-"
    }
   },
   "source": [
    "\n",
    "## Comandos de Jupyter (o IPython)\n",
    "\n",
    "### Comandos de Navegación\n",
    "\n",
    "Jupyter conoce varios de los comandos más comunes del sistema operativo. En Jupyter (o en la terminal de Python) estos comandos funcionan independientemente del sistema operativo (sí, incluso en windows, con algunos _detalles_). Estos se conocen con el nombre de **comandos mágicos** y comienzan con el signo porcentaje `%`. Para obtener una lista de los comandos usamos `%lsmagic`:"
   ]
  },
  {
   "cell_type": "code",
   "execution_count": 1,
   "id": "f2cd0f6d",
   "metadata": {
    "autoscroll": false,
    "collapsed": false,
    "ein.hycell": false,
    "ein.tags": "worksheet-0",
    "jupyter": {
     "outputs_hidden": false
    },
    "slideshow": {
     "slide_type": "-"
    }
   },
   "outputs": [
    {
     "data": {
      "application/json": {
       "cell": {
        "!": "OSMagics",
        "HTML": "Other",
        "SVG": "Other",
        "bash": "Other",
        "capture": "ExecutionMagics",
        "code_wrap": "ExecutionMagics",
        "debug": "ExecutionMagics",
        "file": "Other",
        "html": "DisplayMagics",
        "javascript": "DisplayMagics",
        "js": "DisplayMagics",
        "latex": "DisplayMagics",
        "markdown": "DisplayMagics",
        "perl": "Other",
        "prun": "ExecutionMagics",
        "pypy": "Other",
        "python": "Other",
        "python2": "Other",
        "python3": "Other",
        "ruby": "Other",
        "script": "ScriptMagics",
        "sh": "Other",
        "svg": "DisplayMagics",
        "sx": "OSMagics",
        "system": "OSMagics",
        "time": "ExecutionMagics",
        "timeit": "ExecutionMagics",
        "writefile": "OSMagics"
       },
       "line": {
        "alias": "OSMagics",
        "alias_magic": "BasicMagics",
        "autoawait": "AsyncMagics",
        "autocall": "AutoMagics",
        "automagic": "AutoMagics",
        "autosave": "KernelMagics",
        "bookmark": "OSMagics",
        "cat": "Other",
        "cd": "OSMagics",
        "clear": "KernelMagics",
        "code_wrap": "ExecutionMagics",
        "colors": "BasicMagics",
        "conda": "PackagingMagics",
        "config": "ConfigMagics",
        "connect_info": "KernelMagics",
        "cp": "Other",
        "debug": "ExecutionMagics",
        "dhist": "OSMagics",
        "dirs": "OSMagics",
        "doctest_mode": "BasicMagics",
        "ed": "Other",
        "edit": "KernelMagics",
        "env": "OSMagics",
        "gui": "BasicMagics",
        "hist": "Other",
        "history": "HistoryMagics",
        "killbgscripts": "ScriptMagics",
        "ldir": "Other",
        "less": "KernelMagics",
        "lf": "Other",
        "lk": "Other",
        "ll": "Other",
        "load": "CodeMagics",
        "load_ext": "ExtensionMagics",
        "loadpy": "CodeMagics",
        "logoff": "LoggingMagics",
        "logon": "LoggingMagics",
        "logstart": "LoggingMagics",
        "logstate": "LoggingMagics",
        "logstop": "LoggingMagics",
        "ls": "Other",
        "lsmagic": "BasicMagics",
        "lx": "Other",
        "macro": "ExecutionMagics",
        "magic": "BasicMagics",
        "mamba": "PackagingMagics",
        "man": "KernelMagics",
        "matplotlib": "PylabMagics",
        "micromamba": "PackagingMagics",
        "mkdir": "Other",
        "more": "KernelMagics",
        "mv": "Other",
        "notebook": "BasicMagics",
        "page": "BasicMagics",
        "pastebin": "CodeMagics",
        "pdb": "ExecutionMagics",
        "pdef": "NamespaceMagics",
        "pdoc": "NamespaceMagics",
        "pfile": "NamespaceMagics",
        "pinfo": "NamespaceMagics",
        "pinfo2": "NamespaceMagics",
        "pip": "PackagingMagics",
        "popd": "OSMagics",
        "pprint": "BasicMagics",
        "precision": "BasicMagics",
        "prun": "ExecutionMagics",
        "psearch": "NamespaceMagics",
        "psource": "NamespaceMagics",
        "pushd": "OSMagics",
        "pwd": "OSMagics",
        "pycat": "OSMagics",
        "pylab": "PylabMagics",
        "qtconsole": "KernelMagics",
        "quickref": "BasicMagics",
        "recall": "HistoryMagics",
        "rehashx": "OSMagics",
        "reload_ext": "ExtensionMagics",
        "rep": "Other",
        "rerun": "HistoryMagics",
        "reset": "NamespaceMagics",
        "reset_selective": "NamespaceMagics",
        "rm": "Other",
        "rmdir": "Other",
        "run": "ExecutionMagics",
        "save": "CodeMagics",
        "sc": "OSMagics",
        "set_env": "OSMagics",
        "store": "StoreMagics",
        "sx": "OSMagics",
        "system": "OSMagics",
        "tb": "ExecutionMagics",
        "time": "ExecutionMagics",
        "timeit": "ExecutionMagics",
        "unalias": "OSMagics",
        "unload_ext": "ExtensionMagics",
        "who": "NamespaceMagics",
        "who_ls": "NamespaceMagics",
        "whos": "NamespaceMagics",
        "xdel": "NamespaceMagics",
        "xmode": "BasicMagics"
       }
      },
      "text/plain": [
       "Available line magics:\n",
       "%alias  %alias_magic  %autoawait  %autocall  %automagic  %autosave  %bookmark  %cat  %cd  %clear  %code_wrap  %colors  %conda  %config  %connect_info  %cp  %debug  %dhist  %dirs  %doctest_mode  %ed  %edit  %env  %gui  %hist  %history  %killbgscripts  %ldir  %less  %lf  %lk  %ll  %load  %load_ext  %loadpy  %logoff  %logon  %logstart  %logstate  %logstop  %ls  %lsmagic  %lx  %macro  %magic  %mamba  %man  %matplotlib  %micromamba  %mkdir  %more  %mv  %notebook  %page  %pastebin  %pdb  %pdef  %pdoc  %pfile  %pinfo  %pinfo2  %pip  %popd  %pprint  %precision  %prun  %psearch  %psource  %pushd  %pwd  %pycat  %pylab  %qtconsole  %quickref  %recall  %rehashx  %reload_ext  %rep  %rerun  %reset  %reset_selective  %rm  %rmdir  %run  %save  %sc  %set_env  %store  %sx  %system  %tb  %time  %timeit  %unalias  %unload_ext  %who  %who_ls  %whos  %xdel  %xmode\n",
       "\n",
       "Available cell magics:\n",
       "%%!  %%HTML  %%SVG  %%bash  %%capture  %%code_wrap  %%debug  %%file  %%html  %%javascript  %%js  %%latex  %%markdown  %%perl  %%prun  %%pypy  %%python  %%python2  %%python3  %%ruby  %%script  %%sh  %%svg  %%sx  %%system  %%time  %%timeit  %%writefile\n",
       "\n",
       "Automagic is ON, % prefix IS NOT needed for line magics."
      ]
     },
     "execution_count": 1,
     "metadata": {},
     "output_type": "execute_result"
    }
   ],
   "source": [
    "# Más util en IPhyton que en Jupyter\n",
    "%lsmagic"
   ]
  },
  {
   "cell_type": "code",
   "execution_count": null,
   "id": "ebb1fc3f",
   "metadata": {
    "autoscroll": false,
    "collapsed": false,
    "ein.hycell": false,
    "ein.tags": "worksheet-0",
    "jupyter": {
     "outputs_hidden": false
    },
    "slideshow": {
     "slide_type": "-"
    }
   },
   "outputs": [],
   "source": [
    "%magic"
   ]
  },
  {
   "cell_type": "markdown",
   "id": "81844a3c",
   "metadata": {
    "collapsed": false,
    "ein.tags": "worksheet-0",
    "jupyter": {
     "outputs_hidden": false
    },
    "slideshow": {
     "slide_type": "-"
    }
   },
   "source": [
    "\n",
    "### Algunos de los comandos mágicos \n",
    "\n",
    "Algunos de los comandos mágicos más importantes son:\n",
    "\n",
    "* ``%cd`` *direct*     (Nos ubica en la carpeta direct)\n",
    "* ``%ls``              (muestra un listado del directorio)\n",
    "* ``%pwd``             (muestra el directorio donde estamos trabajando)\n",
    "* ``%run`` *filename*  (corre un dado programa)\n",
    "* ``%hist``            (muestra la historia de comandos utilizados)\n",
    "* ``%mkdir`` *dname*    (crea un directorio llamado dname)\n",
    "\n",
    "* Tab completion:\n",
    "\tApretando [TAB] completa los comandos o nombres de archivos."
   ]
  },
  {
   "cell_type": "markdown",
   "id": "11959481",
   "metadata": {
    "collapsed": false,
    "ein.tags": "worksheet-0",
    "jupyter": {
     "outputs_hidden": false
    },
    "slideshow": {
     "slide_type": "-"
    }
   },
   "source": [
    "\n",
    "En la consola de IPython tipee ``%cd ~`` (*i.e.* \"``%cd``\" -- \"espacio\" -- \"tilde\", y luego presione [RETURN]. Esto nos pone en el directorio HOME (default).\n",
    "\n",
    "Después tipee ``%pwd`` (<b>p</b>rint <b>w</b>orking <b>d</b>irectory) y presione [RETURN] para ver en qué directorio estamos:"
   ]
  },
  {
   "cell_type": "code",
   "execution_count": 1,
   "id": "8d555a7f",
   "metadata": {
    "collapsed": false,
    "jupyter": {
     "outputs_hidden": false
    }
   },
   "outputs": [
    {
     "data": {
      "text/plain": [
       "'/Users/flavioc/Library/Mobile Documents/com~apple~CloudDocs/Documents/cursos/curso-python-y-datos/clases'"
      ]
     },
     "execution_count": 1,
     "metadata": {},
     "output_type": "execute_result"
    }
   ],
   "source": [
    "%pwd"
   ]
  },
  {
   "cell_type": "code",
   "execution_count": 2,
   "id": "9c6641fc",
   "metadata": {
    "autoscroll": false,
    "collapsed": false,
    "ein.hycell": false,
    "ein.tags": "worksheet-0",
    "jupyter": {
     "outputs_hidden": false
    },
    "slideshow": {
     "slide_type": "-"
    }
   },
   "outputs": [
    {
     "name": "stdout",
     "output_type": "stream",
     "text": [
      "/Users/flavioc\n"
     ]
    }
   ],
   "source": [
    "%cd ~"
   ]
  },
  {
   "cell_type": "code",
   "execution_count": 3,
   "id": "64736713",
   "metadata": {
    "autoscroll": false,
    "collapsed": false,
    "ein.hycell": false,
    "ein.tags": "worksheet-0",
    "jupyter": {
     "outputs_hidden": false
    },
    "slideshow": {
     "slide_type": "-"
    }
   },
   "outputs": [
    {
     "data": {
      "text/plain": [
       "'/Users/flavioc'"
      ]
     },
     "execution_count": 3,
     "metadata": {},
     "output_type": "execute_result"
    }
   ],
   "source": [
    "%pwd"
   ]
  },
  {
   "cell_type": "markdown",
   "id": "27491471",
   "metadata": {
    "collapsed": false,
    "ein.tags": "worksheet-0",
    "jupyter": {
     "outputs_hidden": false
    },
    "slideshow": {
     "slide_type": "-"
    }
   },
   "source": [
    "En windows, el comando `pwd` va a dar algo así como:\n",
    "\n",
    "    In [3]: %pwd\n",
    "    Out[3]: C:\\\\Users\\\\usuario"
   ]
  },
  {
   "cell_type": "markdown",
   "id": "f4cbd353",
   "metadata": {
    "collapsed": false,
    "ein.tags": "worksheet-0",
    "jupyter": {
     "outputs_hidden": false
    },
    "slideshow": {
     "slide_type": "-"
    }
   },
   "source": [
    "Vamos a crear un directorio donde guardar ahora los programas de ejemplo que escribamos. Lo vamos a llamar ``scripts``.\n",
    "\n",
    "Primero vamos a ir al directorio que queremos, y crearlo. En mi caso lo voy a crear en mi HOME."
   ]
  },
  {
   "cell_type": "code",
   "execution_count": 4,
   "id": "ec2fc458",
   "metadata": {
    "autoscroll": false,
    "collapsed": false,
    "ein.hycell": false,
    "ein.tags": "worksheet-0",
    "jupyter": {
     "outputs_hidden": false
    },
    "slideshow": {
     "slide_type": "-"
    }
   },
   "outputs": [
    {
     "name": "stdout",
     "output_type": "stream",
     "text": [
      "/Users/flavioc\n"
     ]
    }
   ],
   "source": [
    "%cd "
   ]
  },
  {
   "cell_type": "code",
   "execution_count": null,
   "id": "ab97f02d",
   "metadata": {
    "autoscroll": false,
    "collapsed": false,
    "ein.hycell": false,
    "ein.tags": "worksheet-0",
    "jupyter": {
     "outputs_hidden": false
    },
    "scrolled": true,
    "slideshow": {
     "slide_type": "-"
    }
   },
   "outputs": [],
   "source": [
    "%mkdir scripts"
   ]
  },
  {
   "cell_type": "code",
   "execution_count": null,
   "id": "8732d0b1",
   "metadata": {
    "autoscroll": false,
    "collapsed": false,
    "ein.hycell": false,
    "ein.tags": "worksheet-0",
    "jupyter": {
     "outputs_hidden": false
    },
    "slideshow": {
     "slide_type": "-"
    }
   },
   "outputs": [],
   "source": [
    "%cd scripts"
   ]
  },
  {
   "cell_type": "code",
   "execution_count": 7,
   "id": "08e4e636",
   "metadata": {
    "autoscroll": false,
    "collapsed": false,
    "ein.hycell": false,
    "ein.tags": "worksheet-0",
    "jupyter": {
     "outputs_hidden": false
    },
    "slideshow": {
     "slide_type": "-"
    }
   },
   "outputs": [
    {
     "name": "stdout",
     "output_type": "stream",
     "text": [
      "%pwd\n",
      "%cd ~\n",
      "%pwd\n",
      "%cd\n",
      "!type prog1.py\n",
      "%magic\n",
      "%hist\n"
     ]
    }
   ],
   "source": [
    "%hist"
   ]
  },
  {
   "cell_type": "markdown",
   "id": "e2779fa2",
   "metadata": {
    "collapsed": false,
    "ein.tags": "worksheet-0",
    "jupyter": {
     "outputs_hidden": false
    },
    "slideshow": {
     "slide_type": "-"
    }
   },
   "source": [
    "\n",
    "Hay varios otros comandos mágicos en IPython. Para leer información sobre el sistema de comandos mágicos utilice:"
   ]
  },
  {
   "cell_type": "markdown",
   "id": "748878f5",
   "metadata": {
    "collapsed": false,
    "ein.tags": "worksheet-0",
    "jupyter": {
     "outputs_hidden": false
    },
    "slideshow": {
     "slide_type": "-"
    }
   },
   "source": [
    "Finalmente, para obtener un resumen de comandos con una explicación breve, utilice:"
   ]
  },
  {
   "cell_type": "code",
   "execution_count": 9,
   "id": "72bb7258",
   "metadata": {
    "autoscroll": false,
    "collapsed": false,
    "ein.hycell": false,
    "ein.tags": "worksheet-0",
    "jupyter": {
     "outputs_hidden": false
    },
    "slideshow": {
     "slide_type": "-"
    }
   },
   "outputs": [
    {
     "name": "stdout",
     "output_type": "stream",
     "text": [
      "\n",
      "IPython -- An enhanced Interactive Python - Quick Reference Card\n",
      "================================================================\n",
      "\n",
      "obj?, obj??      : Get help, or more help for object (also works as\n",
      "                   ?obj, ??obj).\n",
      "?foo.*abc*       : List names in 'foo' containing 'abc' in them.\n",
      "%magic           : Information about IPython's 'magic' % functions.\n",
      "\n",
      "Magic functions are prefixed by % or %%, and typically take their arguments\n",
      "without parentheses, quotes or even commas for convenience.  Line magics take a\n",
      "single % and cell magics are prefixed with two %%.\n",
      "\n",
      "Example magic function calls:\n",
      "\n",
      "%alias d ls -F   : 'd' is now an alias for 'ls -F'\n",
      "alias d ls -F    : Works if 'alias' not a python name\n",
      "alist = %alias   : Get list of aliases to 'alist'\n",
      "cd /usr/share    : Obvious. cd -<tab> to choose from visited dirs.\n",
      "%cd??            : See help AND source for magic %cd\n",
      "%timeit x=10     : time the 'x=10' statement with high precision.\n",
      "%%timeit x=2**100\n",
      "x**100           : time 'x**100' with a setup of 'x=2**100'; setup code is not\n",
      "                   counted.  This is an example of a cell magic.\n",
      "\n",
      "System commands:\n",
      "\n",
      "!cp a.txt b/     : System command escape, calls os.system()\n",
      "cp a.txt b/      : after %rehashx, most system commands work without !\n",
      "cp ${f}.txt $bar : Variable expansion in magics and system commands\n",
      "files = !ls /usr : Capture system command output\n",
      "files.s, files.l, files.n: \"a b c\", ['a','b','c'], 'a\\nb\\nc'\n",
      "\n",
      "History:\n",
      "\n",
      "_i, _ii, _iii    : Previous, next previous, next next previous input\n",
      "_i4, _ih[2:5]    : Input history line 4, lines 2-4\n",
      "exec(_i81)       : Execute input history line #81 again\n",
      "%rep 81          : Edit input history line #81\n",
      "_, __, ___       : previous, next previous, next next previous output\n",
      "_dh              : Directory history\n",
      "_oh              : Output history\n",
      "%hist            : Command history of current session.\n",
      "%hist -g foo     : Search command history of (almost) all sessions for 'foo'.\n",
      "%hist -g         : Command history of (almost) all sessions.\n",
      "%hist 1/2-8      : Command history containing lines 2-8 of session 1.\n",
      "%hist 1/ ~2/     : Command history of session 1 and 2 sessions before current.\n",
      "%hist ~8/1-~6/5  : Command history from line 1 of 8 sessions ago to\n",
      "                   line 5 of 6 sessions ago.\n",
      "%edit 0/         : Open editor to execute code with history of current session.\n",
      "\n",
      "Autocall:\n",
      "\n",
      "f 1,2            : f(1,2)  # Off by default, enable with %autocall magic.\n",
      "/f 1,2           : f(1,2) (forced autoparen)\n",
      ",f 1 2           : f(\"1\",\"2\")\n",
      ";f 1 2           : f(\"1 2\")\n",
      "\n",
      "Remember: TAB completion works in many contexts, not just file names\n",
      "or python names.\n",
      "\n",
      "The following magic functions are currently available:\n",
      "\n",
      "%alias:\n",
      "    Define an alias for a system command.\n",
      "%alias_magic:\n",
      "    ::\n",
      "%autoawait:\n",
      "    \n",
      "%autocall:\n",
      "    Make functions callable without having to type parentheses.\n",
      "%automagic:\n",
      "    Make magic functions callable without having to type the initial %.\n",
      "%autosave:\n",
      "    Set the autosave interval in the notebook (in seconds).\n",
      "%bookmark:\n",
      "    Manage IPython's bookmark system.\n",
      "%cat:\n",
      "    Alias for `!cat`\n",
      "%cd:\n",
      "    Change the current working directory.\n",
      "%clear:\n",
      "    Clear the terminal.\n",
      "%code_wrap:\n",
      "    ::\n",
      "%colors:\n",
      "    Switch color scheme for prompts, info system and exception handlers.\n",
      "%conda:\n",
      "    Run the conda package manager within the current kernel.\n",
      "%config:\n",
      "    configure IPython\n",
      "%connect_info:\n",
      "    Print information for connecting other clients to this kernel\n",
      "%cp:\n",
      "    Alias for `!cp`\n",
      "%debug:\n",
      "    ::\n",
      "%dhist:\n",
      "    Print your history of visited directories.\n",
      "%dirs:\n",
      "    Return the current directory stack.\n",
      "%doctest_mode:\n",
      "    Toggle doctest mode on and off.\n",
      "%ed:\n",
      "    Alias for `%edit`.\n",
      "%edit:\n",
      "    Bring up an editor and execute the resulting code.\n",
      "%env:\n",
      "    Get, set, or list environment variables.\n",
      "%gui:\n",
      "    Enable or disable IPython GUI event loop integration.\n",
      "%hist:\n",
      "    Alias for `%history`.\n",
      "%history:\n",
      "    ::\n",
      "%killbgscripts:\n",
      "    Kill all BG processes started by %%script and its family.\n",
      "%ldir:\n",
      "    Alias for `!ls -F -G -l %l | grep /$`\n",
      "%less:\n",
      "    Show a file through the pager.\n",
      "%lf:\n",
      "    Alias for `!ls -F -l -G %l | grep ^-`\n",
      "%lk:\n",
      "    Alias for `!ls -F -l -G %l | grep ^l`\n",
      "%ll:\n",
      "    Alias for `!ls -F -l -G`\n",
      "%load:\n",
      "    Load code into the current frontend.\n",
      "%load_ext:\n",
      "    Load an IPython extension by its module name.\n",
      "%loadpy:\n",
      "    Alias of `%load`\n",
      "%logoff:\n",
      "    Temporarily stop logging.\n",
      "%logon:\n",
      "    Restart logging.\n",
      "%logstart:\n",
      "    Start logging anywhere in a session.\n",
      "%logstate:\n",
      "    Print the status of the logging system.\n",
      "%logstop:\n",
      "    Fully stop logging and close log file.\n",
      "%ls:\n",
      "    Alias for `!ls -F -G`\n",
      "%lsmagic:\n",
      "    List currently available magic functions.\n",
      "%lx:\n",
      "    Alias for `!ls -F -l -G %l | grep ^-..x`\n",
      "%macro:\n",
      "    Define a macro for future re-execution. It accepts ranges of history,\n",
      "%magic:\n",
      "    Print information about the magic function system.\n",
      "%mamba:\n",
      "    Run the mamba package manager within the current kernel.\n",
      "%man:\n",
      "    Find the man page for the given command and display in pager.\n",
      "%matplotlib:\n",
      "    ::\n",
      "%micromamba:\n",
      "    Run the conda package manager within the current kernel.\n",
      "%mkdir:\n",
      "    Alias for `!mkdir`\n",
      "%more:\n",
      "    Show a file through the pager.\n",
      "%mv:\n",
      "    Alias for `!mv`\n",
      "%notebook:\n",
      "    ::\n",
      "%page:\n",
      "    Pretty print the object and display it through a pager.\n",
      "%pastebin:\n",
      "    Upload code to dpaste.com, returning the URL.\n",
      "%pdb:\n",
      "    Control the automatic calling of the pdb interactive debugger.\n",
      "%pdef:\n",
      "    Print the call signature for any callable object.\n",
      "%pdoc:\n",
      "    Print the docstring for an object.\n",
      "%pfile:\n",
      "    Print (or run through pager) the file where an object is defined.\n",
      "%pinfo:\n",
      "    Provide detailed information about an object.\n",
      "%pinfo2:\n",
      "    Provide extra detailed information about an object.\n",
      "%pip:\n",
      "    Run the pip package manager within the current kernel.\n",
      "%popd:\n",
      "    Change to directory popped off the top of the stack.\n",
      "%pprint:\n",
      "    Toggle pretty printing on/off.\n",
      "%precision:\n",
      "    Set floating point precision for pretty printing.\n",
      "%prun:\n",
      "    Run a statement through the python code profiler.\n",
      "%psearch:\n",
      "    Search for object in namespaces by wildcard.\n",
      "%psource:\n",
      "    Print (or run through pager) the source code for an object.\n",
      "%pushd:\n",
      "    Place the current dir on stack and change directory.\n",
      "%pwd:\n",
      "    Return the current working directory path.\n",
      "%pycat:\n",
      "    Show a syntax-highlighted file through a pager.\n",
      "%pylab:\n",
      "    ::\n",
      "%qtconsole:\n",
      "    Open a qtconsole connected to this kernel.\n",
      "%quickref:\n",
      "    Show a quick reference sheet \n",
      "%recall:\n",
      "    Repeat a command, or get command to input line for editing.\n",
      "%rehashx:\n",
      "    Update the alias table with all executable files in $PATH.\n",
      "%reload_ext:\n",
      "    Reload an IPython extension by its module name.\n",
      "%rep:\n",
      "    Alias for `%recall`.\n",
      "%rerun:\n",
      "    Re-run previous input\n",
      "%reset:\n",
      "    Resets the namespace by removing all names defined by the user, if\n",
      "%reset_selective:\n",
      "    Resets the namespace by removing names defined by the user.\n",
      "%rm:\n",
      "    Alias for `!rm`\n",
      "%rmdir:\n",
      "    Alias for `!rmdir`\n",
      "%run:\n",
      "    Run the named file inside IPython as a program.\n",
      "%save:\n",
      "    Save a set of lines or a macro to a given filename.\n",
      "%sc:\n",
      "    Shell capture - run shell command and capture output (DEPRECATED use !).\n",
      "%set_env:\n",
      "    Set environment variables.  Assumptions are that either \"val\" is a\n",
      "%store:\n",
      "    Lightweight persistence for python variables.\n",
      "%sx:\n",
      "    Shell execute - run shell command and capture output (!! is short-hand).\n",
      "%system:\n",
      "    Shell execute - run shell command and capture output (!! is short-hand).\n",
      "%tb:\n",
      "    Print the last traceback.\n",
      "%time:\n",
      "    Time execution of a Python statement or expression.\n",
      "%timeit:\n",
      "    Time execution of a Python statement or expression\n",
      "%unalias:\n",
      "    Remove an alias\n",
      "%unload_ext:\n",
      "    Unload an IPython extension by its module name.\n",
      "%who:\n",
      "    Print all interactive variables, with some minimal formatting.\n",
      "%who_ls:\n",
      "    Return a sorted list of all interactive variables.\n",
      "%whos:\n",
      "    Like %who, but gives some extra information about each variable.\n",
      "%xdel:\n",
      "    Delete a variable, trying to clear it from anywhere that\n",
      "%xmode:\n",
      "    Switch modes for the exception handlers.\n",
      "%%!:\n",
      "    Shell execute - run shell command and capture output (!! is short-hand).\n",
      "%%HTML:\n",
      "    Alias for `%%html`.\n",
      "%%SVG:\n",
      "    Alias for `%%svg`.\n",
      "%%bash:\n",
      "    %%bash script magic\n",
      "%%capture:\n",
      "    ::\n",
      "%%code_wrap:\n",
      "    ::\n",
      "%%debug:\n",
      "    ::\n",
      "%%file:\n",
      "    Alias for `%%writefile`.\n",
      "%%html:\n",
      "    ::\n",
      "%%javascript:\n",
      "    Run the cell block of Javascript code\n",
      "%%js:\n",
      "    Run the cell block of Javascript code\n",
      "%%latex:\n",
      "    Render the cell as a block of LaTeX\n",
      "%%markdown:\n",
      "    Render the cell as Markdown text block\n",
      "%%perl:\n",
      "    %%perl script magic\n",
      "%%prun:\n",
      "    Run a statement through the python code profiler.\n",
      "%%pypy:\n",
      "    %%pypy script magic\n",
      "%%python:\n",
      "    %%python script magic\n",
      "%%python2:\n",
      "    %%python2 script magic\n",
      "%%python3:\n",
      "    %%python3 script magic\n",
      "%%ruby:\n",
      "    %%ruby script magic\n",
      "%%script:\n",
      "    ::\n",
      "%%sh:\n",
      "    %%sh script magic\n",
      "%%svg:\n",
      "    Render the cell as an SVG literal\n",
      "%%sx:\n",
      "    Shell execute - run shell command and capture output (!! is short-hand).\n",
      "%%system:\n",
      "    Shell execute - run shell command and capture output (!! is short-hand).\n",
      "%%time:\n",
      "    Time execution of a Python statement or expression.\n",
      "%%timeit:\n",
      "    Time execution of a Python statement or expression\n",
      "%%writefile:\n",
      "    ::\n"
     ]
    }
   ],
   "source": [
    "%quickref"
   ]
  },
  {
   "cell_type": "markdown",
   "id": "0f6c9db4",
   "metadata": {
    "collapsed": false,
    "ein.tags": "worksheet-0",
    "jupyter": {
     "outputs_hidden": false
    },
    "slideshow": {
     "slide_type": "-"
    }
   },
   "source": [
    "### Comandos de Shell\n",
    "\n",
    "Se pueden correr comandos del sistema operativo tipeando ``!`` seguido por el comando que se quiere ejecutar. Por ejemplo:"
   ]
  },
  {
   "cell_type": "code",
   "execution_count": null,
   "id": "2d1cd19f",
   "metadata": {},
   "outputs": [],
   "source": [
    "# En Linux\n",
    "# !ls\n",
    "# En Windows\n",
    "!dir"
   ]
  },
  {
   "cell_type": "markdown",
   "id": "cf109337",
   "metadata": {},
   "source": [
    "Vamos a escribir un programa de Python con comandos:"
   ]
  },
  {
   "cell_type": "code",
   "execution_count": null,
   "id": "24ec905d",
   "metadata": {
    "autoscroll": false,
    "collapsed": false,
    "ein.hycell": false,
    "ein.tags": "worksheet-0",
    "jupyter": {
     "outputs_hidden": false
    },
    "slideshow": {
     "slide_type": "-"
    }
   },
   "outputs": [],
   "source": [
    "!echo \"1+2\" >> prog1.py"
   ]
  },
  {
   "cell_type": "code",
   "execution_count": null,
   "id": "162a0b67",
   "metadata": {
    "autoscroll": false,
    "collapsed": false,
    "ein.hycell": false,
    "ein.tags": "worksheet-0",
    "jupyter": {
     "outputs_hidden": false
    },
    "slideshow": {
     "slide_type": "-"
    }
   },
   "outputs": [],
   "source": [
    "!echo \"print('hola otra vez')\" >> prog1.py"
   ]
  },
  {
   "cell_type": "markdown",
   "id": "22914d88",
   "metadata": {},
   "source": [
    "> Notar que en Windows, el comando no requiere las comillas (\"):\n",
    "> ```\n",
    "> !echo 1+2 >> prog1.py\n",
    "> !echo print('hola otra vez') >> prog1.py\n",
    "> ```"
   ]
  },
  {
   "cell_type": "code",
   "execution_count": null,
   "id": "0868b3bc",
   "metadata": {},
   "outputs": [],
   "source": [
    "# En Windows\n",
    "!echo 1+2 >> prog1.py\n",
    "!echo print('hola otra vez') >> prog1.py"
   ]
  },
  {
   "cell_type": "code",
   "execution_count": null,
   "id": "680c3084",
   "metadata": {
    "autoscroll": false,
    "collapsed": false,
    "ein.hycell": false,
    "ein.tags": "worksheet-0",
    "jupyter": {
     "outputs_hidden": false
    },
    "slideshow": {
     "slide_type": "-"
    }
   },
   "outputs": [],
   "source": [
    "%cat prog1.py"
   ]
  },
  {
   "cell_type": "markdown",
   "id": "05420f84",
   "metadata": {},
   "source": [
    "> En windows `%cat` no está implementado, así que se debe usar directamente el comando de la terminal `!type`"
   ]
  },
  {
   "cell_type": "code",
   "execution_count": 5,
   "id": "30ce0a98",
   "metadata": {},
   "outputs": [
    {
     "name": "stdout",
     "output_type": "stream",
     "text": [
      "prog1.py not found\n"
     ]
    }
   ],
   "source": [
    "!type prog1.py"
   ]
  },
  {
   "cell_type": "code",
   "execution_count": null,
   "id": "70becfd9",
   "metadata": {
    "autoscroll": false,
    "collapsed": false,
    "ein.hycell": false,
    "ein.tags": "worksheet-0",
    "jupyter": {
     "outputs_hidden": false
    },
    "slideshow": {
     "slide_type": "-"
    }
   },
   "outputs": [],
   "source": [
    "%run prog1.py"
   ]
  },
  {
   "cell_type": "code",
   "execution_count": null,
   "id": "1bcda133",
   "metadata": {
    "autoscroll": false,
    "collapsed": false,
    "ein.hycell": false,
    "ein.tags": "worksheet-0",
    "jupyter": {
     "outputs_hidden": false
    },
    "slideshow": {
     "slide_type": "-"
    }
   },
   "outputs": [],
   "source": [
    "!date"
   ]
  },
  {
   "cell_type": "markdown",
   "id": "587d134e",
   "metadata": {},
   "source": [
    "> En windows, `!date` imprime la fecha y hora, pero espera una nueva fecha, con lo cual la ejecución del comando terminará cuando uno detenga la ejecución de la celda"
   ]
  },
  {
   "cell_type": "markdown",
   "id": "75129a9b",
   "metadata": {
    "collapsed": false,
    "editable": true,
    "ein.tags": "worksheet-0",
    "jupyter": {
     "outputs_hidden": false
    },
    "slideshow": {
     "slide_type": ""
    },
    "tags": []
   },
   "source": [
    "--------\n",
    "\n",
    "## Ejercicios 01 (a)\n",
    " \n",
    "1. Abra una terminal (consola) o notebook y utilícela como una calculadora para realizar las siguientes acciones:\n",
    "     - Suponiendo que, de las tres horas de clases, dedicamos dos períodos de media hora para que realicen ejercicios (de Python), dedicamos diez minutos a distraernos en un recreo, y el resto a la exposición 'teórica', calcular cuántos minutos efectivos de trabajo tendremos en las 13 clases. \n",
    "     - Calcule el porcentaje de horas del curso efectivamente dedicadas al trabajo.\n",
    "     - ¿Cómo se modifica el porcentaje anterior si incluimos el examen final?\n",
    "     - Para la cantidad de alumnos presentes en el aula: ¿cuántas horas-persona de trabajo hay involucradas en este curso?\n",
    "\n",
    "2. Muestre en la consola de Ipython (o usando Jupyter Notebooks):\n",
    "     - el nombre de su directorio actual\n",
    "     - los archivos en su directorio actual\n",
    "     - Cree un subdirectorio llamado `tmp`\n",
    "     - si está usando Linux, muestre la fecha y hora\n",
    "     - Borre el subdirectorio `tmp`\n",
    "\n",
    "3. Sabiendo que la velocidad de la luz es aproximadamente 300000 km/s y que un año luz se define como la distancia que recorre la luz en un año, usando la terminal de python o la notebook:\n",
    "\n",
    "  - calcule cuántos kilómetros son nueve meses-luz,\n",
    "\n",
    "  - considerando que la luz del sol tarda ocho minutos en llegar a la tierra, calcule a cuántos metros de la tierra está el sol.\n",
    "\n",
    "--------\n"
   ]
  }
 ],
 "metadata": {
  "kernelspec": {
   "display_name": "base",
   "language": "python",
   "name": "python3"
  },
  "language_info": {
   "codemirror_mode": {
    "name": "ipython",
    "version": 3
   },
   "file_extension": ".py",
   "mimetype": "text/x-python",
   "name": "python",
   "nbconvert_exporter": "python",
   "pygments_lexer": "ipython3",
   "version": "3.11.5"
  },
  "name": "01_1_instala_y_uso.ipynb",
  "toc": {
   "base_numbering": 1,
   "nav_menu": {
    "height": "265.367px",
    "width": "252px"
   },
   "number_sections": true,
   "sideBar": true,
   "skip_h1_title": false,
   "title_cell": "Contenidos",
   "title_sidebar": "Contenidos",
   "toc_cell": false,
   "toc_position": {
    "height": "calc(100% - 180px)",
    "left": "10px",
    "top": "150px",
    "width": "224.9px"
   },
   "toc_section_display": true,
   "toc_window_display": true
  }
 },
 "nbformat": 4,
 "nbformat_minor": 5
}
