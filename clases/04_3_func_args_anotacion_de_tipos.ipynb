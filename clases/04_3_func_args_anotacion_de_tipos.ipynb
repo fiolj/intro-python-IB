{
 "cells": [
  {
   "cell_type": "markdown",
   "metadata": {},
   "source": [
    "## Anotaciones de tipos"
   ]
  },
  {
   "cell_type": "markdown",
   "metadata": {},
   "source": [
    "El lenguaje Python provee tipos dinámicos de datos. Esto quiere decir que el intérprete define los tipos al momento de ejecutar código, por consiguiente, no soporta (ni requiere) la anotación de tipos en el código.\n",
    "Los tipos dinámicos otorgan al programador la facilidad de introducir variable y mutarlas de tipo sin inconvenientes. Por otra parte, hemos visto que las funciones definidas en Python pueden tener argumentos opcionales, característica del lenguaje que se usa extensivamente en los módulos y bibliotecas. La combinación de tipos dinámicos y argumentos opcionales implica la consulta frecuente a la documentación para poder encontrar las mejores alternativas para el uso de código ya establecido. \n",
    "La introducción de IDEs poderosos hace que uno pueda consultar dicha documentación mientras programa, pero, a su vez, debemos introducir documentación exhaustiva para poder reutilizarlo. \n",
    "\n",
    "A partir de la versión 3.5 de Python, y con el objetivo de proveer claridad en el código y hacerlo menos propenso a errores, se introdujo el módulo [`typing`](https://docs.python.org/3/library/typing.html) para poder anotar los tipos de datos. En versiones más nuevas (3.9+), la anotación de tipos está incorporada en el intérprete.\n",
    "\n",
    "> Atención!: La anotación de tipos no es usada por el intérprete de Python, ni implica ninguna comprobación previa al momento de ejecución del código. Los IDE actuales **sí** reconocen las anotaciones e indican los posibles problemas, si se configuran adecuadamente. \n",
    "\n",
    "La aplicación [MyPy](https://mypy.readthedocs.io/en/stable/index.html) puede comprobar los tipos de datos de Python y declarar como error alguna incompatibilidad entre los mismos en el código."
   ]
  },
  {
   "cell_type": "code",
   "execution_count": null,
   "metadata": {},
   "outputs": [],
   "source": [
    "i: int = 1\n",
    "x: float = 1.0\n",
    "b: bool = True\n",
    "s: str = \"test\"\n",
    "bt: bytes = b\"test\"\n",
    "\n",
    "print(f\"{i} de tipo {type(i)}\")\n",
    "print(f\"{x} de tipo {type(x)}\")\n",
    "print(f\"{b} de tipo {type(b)}\")\n",
    "print(f\"{s} de tipo {type(s)}\")\n",
    "print(f\"{bt} de tipo {type(bt)}\")\n",
    "\n",
    "\n",
    "l: list[int] = [1]\n",
    "st: set[int] = {-1,1}\n",
    "d: dict[str, float] = {\"versión\": 2.0}\n",
    "t: tuple[int, str, float] = (10, \"Messi\", 7.5)\n",
    "ti: tuple[int, ...] = (1, 2, 3)\n",
    "\n",
    "print(f\"{l} de tipo {type(l)}\")\n",
    "print(f\"{st} de tipo {type(st)}\")\n",
    "print(f\"{d} de tipo {type(d)}\")\n",
    "print(f\"{t} de tipo {type(t)}\")\n",
    "print(f\"{ti} de tipo {type(ti)}\")"
   ]
  },
  {
   "cell_type": "markdown",
   "metadata": {},
   "source": [
    "> En versiones anteriores a Python 3.8 es necesario importar el módulo `typing`, y los tipos de datos son los mismos pero utilizando mayúsculas.\n",
    "\n",
    "> En muchas bibliotecas y módulos se sigue utilizando `typing` para proveer compatibilidad con versiones anteriores de Python"
   ]
  },
  {
   "cell_type": "code",
   "execution_count": null,
   "metadata": {},
   "outputs": [],
   "source": [
    "from typing import  List, Set, Dict, Tuple, Any   # Python 3.8 y anteriores\n",
    "\n",
    "# Para colecciones en versiones de Python 3.9 y posteriores, el tipo de colección a utilizar se escribe entre []\n",
    "l: List[int] = [1]\n",
    "st: Set[int] = {-1,1}\n",
    "d: Dict[str, float] = {\"versión\": 2.0}\n",
    "t: Tuple[int, str, float] = (10, \"Messi\", 7.5)\n",
    "ti: Tuple[int, ...] = (1, 2, 3)\n",
    "mx: List[Any] = [1, 1.0, True, \"test\", b\"test\", [1], {-1,1}, {\"versión\": 2.0}, (10, \"Messi\", 7.5), (1, 2, 3)]\n",
    "\n",
    "print(f\"{l} de tipo {type(l)}\")\n",
    "print(f\"{st} de tipo {type(st)}\")\n",
    "print(f\"{d} de tipo {type(d)}\")\n",
    "print(f\"{t} de tipo {type(t)}\")\n",
    "print(f\"{ti} de tipo {type(ti)}\")\n",
    "print(f\"{mx} de tipo {type(mx)}\")\n"
   ]
  },
  {
   "cell_type": "markdown",
   "metadata": {},
   "source": [
    "La posibilidad de anotar tipos provee la facilidad de establecer nuevos tipos de datos propios:"
   ]
  },
  {
   "cell_type": "code",
   "execution_count": null,
   "metadata": {},
   "outputs": [],
   "source": [
    "from typing import NewType\n",
    "\n",
    "User = NewType(\"User\", str)\n",
    "user: User = User(\"Messi\")\n",
    "\n",
    "print(f\"{user} de tipo {type(user)}\")"
   ]
  },
  {
   "cell_type": "code",
   "execution_count": null,
   "metadata": {},
   "outputs": [],
   "source": [
    "def hola_usuario(usuario: User) -> None:\n",
    "    print(f\"Hola {usuario}\")"
   ]
  },
  {
   "cell_type": "code",
   "execution_count": null,
   "metadata": {},
   "outputs": [],
   "source": [
    "hola_usuario(4)  "
   ]
  },
  {
   "cell_type": "markdown",
   "metadata": {},
   "source": [
    "También se pueden crear alias de tipos"
   ]
  },
  {
   "cell_type": "code",
   "execution_count": null,
   "metadata": {},
   "outputs": [],
   "source": [
    "Vector = Tuple[float, float]\n",
    "Vector3D = Tuple[float, float, float]\n",
    "\n",
    "origen: Vector = (0.0, 0.0)\n",
    "origen3D: Vector3D = (0.0, 0.0, 0.0)\n",
    "\n",
    "print(f\"{origen} de tipo {type(origen)}\")"
   ]
  },
  {
   "cell_type": "markdown",
   "metadata": {},
   "source": [
    "### Funciones\n",
    "\n",
    "La sintaxis para anotar los tipos de las funciones es la siguiente:"
   ]
  },
  {
   "cell_type": "code",
   "execution_count": null,
   "metadata": {},
   "outputs": [],
   "source": [
    "def suma(a: Vector, b: Vector) -> Vector:\n",
    "    return (a[0] + b[0], a[1] + b[1])\n",
    "\n",
    "def producto_escalar(a: Vector, b: Vector) -> float:\n",
    "    return a[0] * b[0] + a[1] * b[1]"
   ]
  },
  {
   "cell_type": "code",
   "execution_count": null,
   "metadata": {},
   "outputs": [],
   "source": [
    "p1 = (1.0, 2.0)\n",
    "p2 = (2.0, 1.0)\n",
    "print(suma(p1, p2))\n",
    "print(producto_escalar(p1, p2))"
   ]
  },
  {
   "cell_type": "markdown",
   "metadata": {},
   "source": [
    "### El tipo `Union`\n",
    "\n",
    "El tipo `Union` se utiliza para indicar que una variable puede aceptar dos o más tipos de datos:"
   ]
  },
  {
   "cell_type": "code",
   "execution_count": null,
   "metadata": {},
   "outputs": [],
   "source": [
    "from typing import Union\n",
    "\n",
    "def suma_numeros(a: Union[int, float], b: Union[int, float]) -> Union[int, float]:\n",
    "    return a + b\n",
    "\n",
    "print(suma_numeros(1, 2))\n",
    "print(suma_numeros(1.0, 2.0))\n",
    "print(suma_numeros(1, 2.0))\n"
   ]
  },
  {
   "cell_type": "markdown",
   "metadata": {},
   "source": [
    "Pero recordemos que Python **NO** hace ningún chequeo de tipos!"
   ]
  },
  {
   "cell_type": "code",
   "execution_count": null,
   "metadata": {},
   "outputs": [],
   "source": [
    "print(suma_numeros(\"1\", \"2\"))"
   ]
  },
  {
   "cell_type": "markdown",
   "metadata": {},
   "source": [
    "Es responsabilidad del programador observar y hacer observar que los tipos sean compatibles, o usar mypy para chequearlos"
   ]
  },
  {
   "cell_type": "markdown",
   "metadata": {},
   "source": [
    "### El tipo `Optional`\n",
    "\n",
    "Como su nombre lo indica, `Optional` indica que una variable puede tener un determinado tipo, o puede ser 'None'. Es muy útil para anotar argumentos de funciones que pueden ser, digamos, opcionales.\n",
    "\n",
    "> `Optional[<tipo>]` es equivalente a `Union[<tipo>,None]` \n",
    "\n",
    "> En Python 3.10 y superiores, se puede usar el operador '|' para indicar una unión "
   ]
  },
  {
   "cell_type": "code",
   "execution_count": null,
   "metadata": {},
   "outputs": [],
   "source": [
    "from typing import Optional\n",
    "\n",
    "s: Optional[str] = None\n",
    "print(s)\n",
    "s = \"Hola!\"\n",
    "print(s)\n",
    "\n",
    "def saluda(nombre: Optional[str] = None) -> str:\n",
    "    if nombre:\n",
    "        return f\"Hola {nombre}\"\n",
    "    else:\n",
    "        return \"Hola Mundo\"\n",
    "    \n",
    "print(saluda())\n",
    "print(saluda(\"Messi\"))\n"
   ]
  },
  {
   "cell_type": "code",
   "execution_count": null,
   "metadata": {},
   "outputs": [],
   "source": [
    "# En Python 3.10+\n",
    "s: str | None = None # Union[str, None]\n",
    "print(s)\n",
    "s = \"Hola!\"\n",
    "print(s)\n",
    "\n",
    "def saluda(nombre: str | None = None) -> str:\n",
    "    if nombre:\n",
    "        return f\"Hola {nombre}\"\n",
    "    else:\n",
    "        return \"Hola Mundo\"\n",
    "    \n",
    "print(saluda())\n",
    "print(saluda(\"Messi\"))"
   ]
  }
 ],
 "metadata": {
  "kernelspec": {
   "display_name": "Python 3 (ipykernel)",
   "language": "python",
   "name": "python3"
  },
  "language_info": {
   "codemirror_mode": {
    "name": "ipython",
    "version": 3
   },
   "file_extension": ".py",
   "mimetype": "text/x-python",
   "name": "python",
   "nbconvert_exporter": "python",
   "pygments_lexer": "ipython3",
   "version": "3.13.2"
  }
 },
 "nbformat": 4,
 "nbformat_minor": 4
}
