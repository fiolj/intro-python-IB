{
 "cells": [
  {
   "cell_type": "markdown",
   "metadata": {},
   "source": [
    "# Control de tipos estáticos\n",
    "\n",
    "Como vimos la clase anterior, es posible utilizar anotaciones de tipos para mejorar la legibilidad de nuestro código, proveer información sobre los tipos de las variables que usamos y los tipos de retorno de las funciones. Hemos remarcado también que el interprete de Python _per se_ no controla los tipos de datos que estamos utilizando.\n",
    "\n",
    "Si se desea realizar este control, la herramienta adecuada es [MyPy](https://mypy.readthedocs.io/en/stable/index.html). MyPy es una aplicación que corre **además** de python para realizar este chequeo de tipos. \n",
    "\n",
    "La instalamos con\n",
    "```bash\n",
    "conda install -c conda-forge mypy\n",
    "```"
   ]
  },
  {
   "cell_type": "code",
   "execution_count": 1,
   "metadata": {},
   "outputs": [
    {
     "name": "stdout",
     "output_type": "stream",
     "text": [
      "usage: mypy [-h] [-v] [-V] [more options; see below]\n",
      "            [-m MODULE] [-p PACKAGE] [-c PROGRAM_TEXT] [files ...]\n",
      "\n",
      "Mypy is a program that will type check your Python code.\n",
      "\n",
      "Pass in any files or folders you want to type check. Mypy will\n",
      "recursively traverse any provided folders to find .py files:\n",
      "\n",
      "    $ mypy my_program.py my_src_folder\n",
      "\n",
      "For more information on getting started, see:\n",
      "\n",
      "- https://mypy.readthedocs.io/en/stable/getting_started.html\n",
      "\n",
      "For more details on both running mypy and using the flags below, see:\n",
      "\n",
      "- https://mypy.readthedocs.io/en/stable/running_mypy.html\n",
      "- https://mypy.readthedocs.io/en/stable/command_line.html\n",
      "\n",
      "You can also use a config file to configure mypy instead of using\n",
      "command line flags. For more details, see:\n",
      "\n",
      "- https://mypy.readthedocs.io/en/stable/config_file.html\n",
      "\n",
      "options:\n",
      "  --enable-incomplete-feature {InlineTypedDict,PreciseTupleTypes}\n",
      "                            Enable support of incomplete/experimental features for early preview\n",
      "\n",
      "Optional arguments:\n",
      "  -h, --help                Show this help message and exit\n",
      "  -v, --verbose             More verbose messages\n",
      "  -V, --version             Show program's version number and exit\n",
      "  -O, --output FORMAT       Set a custom output format\n",
      "\n",
      "Config file:\n",
      "  Use a config file instead of command line arguments. This is useful if you are using many flags or\n",
      "  want to set different options per each module.\n",
      "\n",
      "  --config-file CONFIG_FILE\n",
      "                            Configuration file, must have a [mypy] section (defaults to mypy.ini,\n",
      "                            .mypy.ini, pyproject.toml, setup.cfg, ~/.config/mypy/config, ~/.mypy.ini)\n",
      "  --warn-unused-configs     Warn about unused '[mypy-<pattern>]' or '[[tool.mypy.overrides]]' config\n",
      "                            sections (inverse: --no-warn-unused-configs)\n",
      "\n",
      "Import discovery:\n",
      "  Configure how imports are discovered and followed.\n",
      "\n",
      "  --no-namespace-packages   Disable support for namespace packages (PEP 420, __init__.py-less)\n",
      "                            (inverse: --namespace-packages)\n",
      "  --ignore-missing-imports  Silently ignore imports of missing modules\n",
      "  --follow-untyped-imports  Typecheck modules without stubs or py.typed marker\n",
      "  --follow-imports {normal,silent,skip,error}\n",
      "                            How to treat imports (default normal)\n",
      "  --python-executable EXECUTABLE\n",
      "                            Python executable used for finding PEP 561 compliant installed packages\n",
      "                            and stubs\n",
      "  --no-site-packages        Do not search for installed PEP 561 compliant packages\n",
      "  --no-silence-site-packages\n",
      "                            Do not silence errors in PEP 561 compliant installed packages\n",
      "  --junit-format {global,per_file}\n",
      "                            If --junit-xml is set, specifies format. global: single test with all\n",
      "                            errors; per_file: one test entry per file with failures\n",
      "\n",
      "Platform configuration:\n",
      "  Type check code assuming it will be run under certain runtime conditions. By default, mypy assumes\n",
      "  your code will be run using the same operating system and Python version you are using to run mypy\n",
      "  itself.\n",
      "\n",
      "  --python-version x.y      Type check code assuming it will be running on Python x.y\n",
      "  --platform PLATFORM       Type check special-cased code for the given OS platform (defaults to\n",
      "                            sys.platform)\n",
      "  --always-true NAME        Additional variable to be considered True (may be repeated)\n",
      "  --always-false NAME       Additional variable to be considered False (may be repeated)\n",
      "\n",
      "Disallow dynamic typing:\n",
      "  Disallow the use of the dynamic 'Any' type under certain conditions.\n",
      "\n",
      "  --disallow-any-expr       Disallow all expressions that have type Any\n",
      "  --disallow-any-decorated  Disallow functions that have Any in their signature after decorator\n",
      "                            transformation\n",
      "  --disallow-any-explicit   Disallow explicit Any in type positions\n",
      "  --disallow-any-generics   Disallow usage of generic types that do not specify explicit type\n",
      "                            parameters (inverse: --allow-any-generics)\n",
      "  --disallow-any-unimported\n",
      "                            Disallow Any types resulting from unfollowed imports (inverse: --allow-\n",
      "                            any-unimported)\n",
      "  --disallow-subclassing-any\n",
      "                            Disallow subclassing values of type 'Any' when defining classes (inverse:\n",
      "                            --allow-subclassing-any)\n",
      "\n",
      "Untyped definitions and calls:\n",
      "  Configure how untyped definitions and calls are handled. Note: by default, mypy ignores any\n",
      "  untyped function definitions and assumes any calls to such functions have a return type of 'Any'.\n",
      "\n",
      "  --disallow-untyped-calls  Disallow calling functions without type annotations from functions with\n",
      "                            type annotations (inverse: --allow-untyped-calls)\n",
      "  --untyped-calls-exclude MODULE\n",
      "                            Disable --disallow-untyped-calls for functions/methods coming from\n",
      "                            specific package, module, or class\n",
      "  --disallow-untyped-defs   Disallow defining functions without type annotations or with incomplete\n",
      "                            type annotations (inverse: --allow-untyped-defs)\n",
      "  --disallow-incomplete-defs\n",
      "                            Disallow defining functions with incomplete type annotations (while still\n",
      "                            allowing entirely unannotated definitions) (inverse: --allow-incomplete-\n",
      "                            defs)\n",
      "  --check-untyped-defs      Type check the interior of functions without type annotations (inverse:\n",
      "                            --no-check-untyped-defs)\n",
      "  --disallow-untyped-decorators\n",
      "                            Disallow decorating typed functions with untyped decorators (inverse:\n",
      "                            --allow-untyped-decorators)\n",
      "\n",
      "None and Optional handling:\n",
      "  Adjust how values of type 'None' are handled. For more context on how mypy handles values of type\n",
      "  'None', see: https://mypy.readthedocs.io/en/stable/kinds_of_types.html#no-strict-optional\n",
      "\n",
      "  --implicit-optional       Assume arguments with default values of None are Optional (inverse: --no-\n",
      "                            implicit-optional)\n",
      "  --no-strict-optional      Disable strict Optional checks (inverse: --strict-optional)\n",
      "\n",
      "Configuring warnings:\n",
      "  Detect code that is sound but redundant or problematic.\n",
      "\n",
      "  --warn-redundant-casts    Warn about casting an expression to its inferred type (inverse: --no-warn-\n",
      "                            redundant-casts)\n",
      "  --warn-unused-ignores     Warn about unneeded '# type: ignore' comments (inverse: --no-warn-unused-\n",
      "                            ignores)\n",
      "  --no-warn-no-return       Do not warn about functions that end without returning (inverse: --warn-\n",
      "                            no-return)\n",
      "  --warn-return-any         Warn about returning values of type Any from non-Any typed functions\n",
      "                            (inverse: --no-warn-return-any)\n",
      "  --warn-unreachable        Warn about statements or expressions inferred to be unreachable (inverse:\n",
      "                            --no-warn-unreachable)\n",
      "  --report-deprecated-as-note\n",
      "                            Report importing or using deprecated features as notes instead of errors\n",
      "                            (inverse: --no-report-deprecated-as-note)\n",
      "\n",
      "Miscellaneous strictness flags:\n",
      "  --allow-untyped-globals   Suppress toplevel errors caused by missing annotations (inverse:\n",
      "                            --disallow-untyped-globals)\n",
      "  --allow-redefinition      Allow unconditional variable redefinition with a new type (inverse:\n",
      "                            --disallow-redefinition)\n",
      "  --no-implicit-reexport    Treat imports as private unless aliased (inverse: --implicit-reexport)\n",
      "  --strict-equality         Prohibit equality, identity, and container checks for non-overlapping\n",
      "                            types (inverse: --no-strict-equality)\n",
      "  --extra-checks            Enable additional checks that are technically correct but may be\n",
      "                            impractical in real code. For example, this prohibits partial overlap in\n",
      "                            TypedDict updates, and makes arguments prepended via Concatenate\n",
      "                            positional-only (inverse: --no-extra-checks)\n",
      "  --strict                  Strict mode; enables the following flags: --warn-unused-configs,\n",
      "                            --disallow-any-generics, --disallow-subclassing-any, --disallow-untyped-\n",
      "                            calls, --disallow-untyped-defs, --disallow-incomplete-defs, --check-\n",
      "                            untyped-defs, --disallow-untyped-decorators, --warn-redundant-casts,\n",
      "                            --warn-unused-ignores, --warn-return-any, --no-implicit-reexport,\n",
      "                            --strict-equality, --extra-checks\n",
      "  --disable-error-code NAME\n",
      "                            Disable a specific error code\n",
      "  --enable-error-code NAME  Enable a specific error code\n",
      "\n",
      "Configuring error messages:\n",
      "  Adjust the amount of detail shown in error messages.\n",
      "\n",
      "  --show-error-context      Precede errors with \"note:\" messages explaining context (inverse: --hide-\n",
      "                            error-context)\n",
      "  --show-column-numbers     Show column numbers in error messages (inverse: --hide-column-numbers)\n",
      "  --show-error-end          Show end line/end column numbers in error messages. This implies --show-\n",
      "                            column-numbers (inverse: --hide-error-end)\n",
      "  --hide-error-codes        Hide error codes in error messages (inverse: --show-error-codes)\n",
      "  --show-error-code-links   Show links to error code documentation (inverse: --hide-error-code-links)\n",
      "  --pretty                  Use visually nicer output in error messages: Use soft word wrap, show\n",
      "                            source code snippets, and show error location markers (inverse: --no-\n",
      "                            pretty)\n",
      "  --no-color-output         Do not colorize error messages (inverse: --color-output)\n",
      "  --no-error-summary        Do not show error stats summary (inverse: --error-summary)\n",
      "  --show-absolute-path      Show absolute paths to files (inverse: --hide-absolute-path)\n",
      "\n",
      "Incremental mode:\n",
      "  Adjust how mypy incrementally type checks and caches modules. Mypy caches type information about\n",
      "  modules into a cache to let you speed up future invocations of mypy. Also see mypy's daemon mode:\n",
      "  mypy.readthedocs.io/en/stable/mypy_daemon.html#mypy-daemon\n",
      "\n",
      "  --no-incremental          Disable module cache (inverse: --incremental)\n",
      "  --cache-dir DIR           Store module cache info in the given folder in incremental mode (defaults\n",
      "                            to '.mypy_cache')\n",
      "  --sqlite-cache            Use a sqlite database to store the cache (inverse: --no-sqlite-cache)\n",
      "  --cache-fine-grained      Include fine-grained dependency information in the cache for the mypy\n",
      "                            daemon\n",
      "  --skip-version-check      Allow using cache written by older mypy version\n",
      "  --skip-cache-mtime-checks\n",
      "                            Skip cache internal consistency checks based on mtime\n",
      "\n",
      "Advanced options:\n",
      "  Debug and customize mypy internals.\n",
      "\n",
      "  --pdb                     Invoke pdb on fatal error\n",
      "  --show-traceback, --tb    Show traceback on fatal error\n",
      "  --raise-exceptions        Raise exception on fatal error\n",
      "  --custom-typing-module MODULE\n",
      "                            Use a custom typing module\n",
      "  --old-type-inference      Disable new experimental type inference algorithm\n",
      "  --custom-typeshed-dir DIR\n",
      "                            Use the custom typeshed in DIR\n",
      "  --warn-incomplete-stub    Warn if missing type annotation in typeshed, only relevant with\n",
      "                            --disallow-untyped-defs or --disallow-incomplete-defs enabled (inverse:\n",
      "                            --no-warn-incomplete-stub)\n",
      "  --shadow-file SOURCE_FILE SHADOW_FILE\n",
      "                            When encountering SOURCE_FILE, read and type check the contents of\n",
      "                            SHADOW_FILE instead.\n",
      "\n",
      "Report generation:\n",
      "  Generate a report in the specified format.\n",
      "\n",
      "  --any-exprs-report DIR\n",
      "  --cobertura-xml-report DIR\n",
      "  --html-report DIR\n",
      "  --linecount-report DIR\n",
      "  --linecoverage-report DIR\n",
      "  --lineprecision-report DIR\n",
      "  --txt-report DIR\n",
      "  --xml-report DIR\n",
      "  --xslt-html-report DIR\n",
      "  --xslt-txt-report DIR\n",
      "\n",
      "Miscellaneous:\n",
      "  --junit-xml JUNIT_XML     Write junit.xml to the given file\n",
      "  --find-occurrences CLASS.MEMBER\n",
      "                            Print out all usages of a class member (experimental)\n",
      "  --scripts-are-modules     Script x becomes module x instead of __main__\n",
      "  --install-types           Install detected missing library stub packages using pip (inverse: --no-\n",
      "                            install-types)\n",
      "  --non-interactive         Install stubs without asking for confirmation and hide errors, with\n",
      "                            --install-types (inverse: --interactive)\n",
      "\n",
      "Running code:\n",
      "  Specify the code you want to type check. For more details, see\n",
      "  mypy.readthedocs.io/en/stable/running_mypy.html#running-mypy\n",
      "\n",
      "  --explicit-package-bases  Use current directory and MYPYPATH to determine module names of files\n",
      "                            passed (inverse: --no-explicit-package-bases)\n",
      "  --exclude PATTERN         Regular expression to match file names, directory names or paths which\n",
      "                            mypy should ignore while recursively discovering files to check, e.g.\n",
      "                            --exclude '/setup\\.py$'. May be specified more than once, eg. --exclude a\n",
      "                            --exclude b\n",
      "  -m, --module MODULE       Type-check module; can repeat for more modules\n",
      "  -p, --package PACKAGE     Type-check package recursively; can be repeated\n",
      "  -c, --command PROGRAM_TEXT\n",
      "                            Type-check program passed in as string\n",
      "  files                     Type-check given files or directories\n",
      "\n",
      "Environment variables:\n",
      "  Define MYPYPATH for additional module search path entries.\n",
      "  Define MYPY_CACHE_DIR to override configuration cache_dir path.\n"
     ]
    }
   ],
   "source": [
    "!mypy --help"
   ]
  },
  {
   "cell_type": "markdown",
   "metadata": {},
   "source": [
    "> Recuerde que uno puede acceder a todos los comandos de la terminal usando el símbolo de exclamación como hicimos arriba. También puede ejecutar el comando en una terminal como\n",
    "```bash\n",
    "mypy --help\n",
    "```"
   ]
  },
  {
   "cell_type": "markdown",
   "metadata": {},
   "source": [
    "Veamos cómo funciona `mypy` como aplicación. Para ello ejecutaremos el programa `mypy_ejemplo.py` que contiene este código:\n",
    "```python\n",
    "def cube(x: int) -> int:\n",
    "    return x * x * x\n",
    "\n",
    "def Hola(name: str) -> str:\n",
    "    return \"Hola \" + name\n",
    "\n",
    "def Hola2(name):\n",
    "    return \"Hola \" + name\n",
    "\n",
    "if __name__ == \"__main__\":\n",
    "    a = cube(2)\n",
    "\n",
    "    print(f\"El cubo de 2 es: {a}\")\n",
    "\n",
    "    b = cube(3.0)  # Esto no da error en Python, mypy si lo captura\n",
    "\n",
    "    print(f\"El cubo de 3.0 es: {b}\")\n",
    "\n",
    "    print(f\"Hola('Juan'): {Hola('Juan')}\")\n",
    "    print(f\"Hola2(3): {Hola2(3)}\")  # Esto da un error de concatenación\n",
    "\n",
    "    print(\n",
    "        f\"Hola(3): {Hola(3)}\"\n",
    "    )  # Esto da un error de concatenación, y además mypy lo captura\n",
    "```\n",
    "Puede copiar el código de arriba y pegarlo en un archivo `mypy_ejemplo.py`, o descargarlo desde (acá)[].\n",
    "\n",
    "Probemos primero corriendo el código con `python`. \n",
    "> Reemplace `../scripts/mypy_example.py` por el nombre del directorio y el archivo en el que copió el código."
   ]
  },
  {
   "cell_type": "code",
   "execution_count": 2,
   "metadata": {},
   "outputs": [
    {
     "name": "stdout",
     "output_type": "stream",
     "text": [
      "python: can't open file '/home/fiol/Clases/IntPython/clases-python/clases/../scripts/mypy_example.py': [Errno 2] No such file or directory\n"
     ]
    }
   ],
   "source": [
    "!python ../scripts/mypy_example.py"
   ]
  },
  {
   "cell_type": "markdown",
   "metadata": {},
   "source": [
    "Ahora hagamos lo mismo con `mypy`:"
   ]
  },
  {
   "cell_type": "code",
   "execution_count": 3,
   "metadata": {},
   "outputs": [
    {
     "name": "stdout",
     "output_type": "stream",
     "text": [
      "mypy: can't read file '../scripts/mypy_example.py': No such file or directory\n"
     ]
    }
   ],
   "source": [
    "!mypy ../scripts/mypy_example.py"
   ]
  },
  {
   "cell_type": "markdown",
   "metadata": {},
   "source": [
    "## `MyPy` y notebooks\n",
    "\n",
    "En el caso de los notebooks de Python el manejo de tipos estáticos puede ser más complejo, dado que de alguna forma, la aplicación `mypy` tiene que correr simultaneamente (o en segundo plano) con el intérprete interactivo. La mejor opción es el módulo [`nb_mypy`](https://gitlab.tue.nl/jupyter-projects/nb_mypy) que podemos instalar con:\n",
    "\n",
    "```bash\n",
    "pip install nb_mypy\n",
    "```\n",
    "\n",
    "Luego cargamos la extensión a nuestro notebook con el comando mágico `%load_ext`:"
   ]
  },
  {
   "cell_type": "code",
   "execution_count": 4,
   "metadata": {},
   "outputs": [
    {
     "ename": "ModuleNotFoundError",
     "evalue": "No module named 'nb_mypy'",
     "output_type": "error",
     "traceback": [
      "\u001b[0;31m---------------------------------------------------------------------------\u001b[0m",
      "\u001b[0;31mModuleNotFoundError\u001b[0m                       Traceback (most recent call last)",
      "Cell \u001b[0;32mIn[4], line 1\u001b[0m\n\u001b[0;32m----> 1\u001b[0m \u001b[43mget_ipython\u001b[49m\u001b[43m(\u001b[49m\u001b[43m)\u001b[49m\u001b[38;5;241;43m.\u001b[39;49m\u001b[43mrun_line_magic\u001b[49m\u001b[43m(\u001b[49m\u001b[38;5;124;43m'\u001b[39;49m\u001b[38;5;124;43mload_ext\u001b[39;49m\u001b[38;5;124;43m'\u001b[39;49m\u001b[43m,\u001b[49m\u001b[43m \u001b[49m\u001b[38;5;124;43m'\u001b[39;49m\u001b[38;5;124;43mnb_mypy\u001b[39;49m\u001b[38;5;124;43m'\u001b[39;49m\u001b[43m)\u001b[49m\n",
      "File \u001b[0;32m/usr/lib/python3.13/site-packages/IPython/core/interactiveshell.py:2480\u001b[0m, in \u001b[0;36mInteractiveShell.run_line_magic\u001b[0;34m(self, magic_name, line, _stack_depth)\u001b[0m\n\u001b[1;32m   2478\u001b[0m     kwargs[\u001b[38;5;124m'\u001b[39m\u001b[38;5;124mlocal_ns\u001b[39m\u001b[38;5;124m'\u001b[39m] \u001b[38;5;241m=\u001b[39m \u001b[38;5;28mself\u001b[39m\u001b[38;5;241m.\u001b[39mget_local_scope(stack_depth)\n\u001b[1;32m   2479\u001b[0m \u001b[38;5;28;01mwith\u001b[39;00m \u001b[38;5;28mself\u001b[39m\u001b[38;5;241m.\u001b[39mbuiltin_trap:\n\u001b[0;32m-> 2480\u001b[0m     result \u001b[38;5;241m=\u001b[39m \u001b[43mfn\u001b[49m\u001b[43m(\u001b[49m\u001b[38;5;241;43m*\u001b[39;49m\u001b[43margs\u001b[49m\u001b[43m,\u001b[49m\u001b[43m \u001b[49m\u001b[38;5;241;43m*\u001b[39;49m\u001b[38;5;241;43m*\u001b[39;49m\u001b[43mkwargs\u001b[49m\u001b[43m)\u001b[49m\n\u001b[1;32m   2482\u001b[0m \u001b[38;5;66;03m# The code below prevents the output from being displayed\u001b[39;00m\n\u001b[1;32m   2483\u001b[0m \u001b[38;5;66;03m# when using magics with decorator @output_can_be_silenced\u001b[39;00m\n\u001b[1;32m   2484\u001b[0m \u001b[38;5;66;03m# when the last Python token in the expression is a ';'.\u001b[39;00m\n\u001b[1;32m   2485\u001b[0m \u001b[38;5;28;01mif\u001b[39;00m \u001b[38;5;28mgetattr\u001b[39m(fn, magic\u001b[38;5;241m.\u001b[39mMAGIC_OUTPUT_CAN_BE_SILENCED, \u001b[38;5;28;01mFalse\u001b[39;00m):\n",
      "File \u001b[0;32m/usr/lib/python3.13/site-packages/IPython/core/magics/extension.py:33\u001b[0m, in \u001b[0;36mExtensionMagics.load_ext\u001b[0;34m(self, module_str)\u001b[0m\n\u001b[1;32m     31\u001b[0m \u001b[38;5;28;01mif\u001b[39;00m \u001b[38;5;129;01mnot\u001b[39;00m module_str:\n\u001b[1;32m     32\u001b[0m     \u001b[38;5;28;01mraise\u001b[39;00m UsageError(\u001b[38;5;124m'\u001b[39m\u001b[38;5;124mMissing module name.\u001b[39m\u001b[38;5;124m'\u001b[39m)\n\u001b[0;32m---> 33\u001b[0m res \u001b[38;5;241m=\u001b[39m \u001b[38;5;28;43mself\u001b[39;49m\u001b[38;5;241;43m.\u001b[39;49m\u001b[43mshell\u001b[49m\u001b[38;5;241;43m.\u001b[39;49m\u001b[43mextension_manager\u001b[49m\u001b[38;5;241;43m.\u001b[39;49m\u001b[43mload_extension\u001b[49m\u001b[43m(\u001b[49m\u001b[43mmodule_str\u001b[49m\u001b[43m)\u001b[49m\n\u001b[1;32m     35\u001b[0m \u001b[38;5;28;01mif\u001b[39;00m res \u001b[38;5;241m==\u001b[39m \u001b[38;5;124m'\u001b[39m\u001b[38;5;124malready loaded\u001b[39m\u001b[38;5;124m'\u001b[39m:\n\u001b[1;32m     36\u001b[0m     \u001b[38;5;28mprint\u001b[39m(\u001b[38;5;124m\"\u001b[39m\u001b[38;5;124mThe \u001b[39m\u001b[38;5;132;01m%s\u001b[39;00m\u001b[38;5;124m extension is already loaded. To reload it, use:\u001b[39m\u001b[38;5;124m\"\u001b[39m \u001b[38;5;241m%\u001b[39m module_str)\n",
      "File \u001b[0;32m/usr/lib/python3.13/site-packages/IPython/core/extensions.py:62\u001b[0m, in \u001b[0;36mExtensionManager.load_extension\u001b[0;34m(self, module_str)\u001b[0m\n\u001b[1;32m     55\u001b[0m \u001b[38;5;250m\u001b[39m\u001b[38;5;124;03m\"\"\"Load an IPython extension by its module name.\u001b[39;00m\n\u001b[1;32m     56\u001b[0m \n\u001b[1;32m     57\u001b[0m \u001b[38;5;124;03mReturns the string \"already loaded\" if the extension is already loaded,\u001b[39;00m\n\u001b[1;32m     58\u001b[0m \u001b[38;5;124;03m\"no load function\" if the module doesn't have a load_ipython_extension\u001b[39;00m\n\u001b[1;32m     59\u001b[0m \u001b[38;5;124;03mfunction, or None if it succeeded.\u001b[39;00m\n\u001b[1;32m     60\u001b[0m \u001b[38;5;124;03m\"\"\"\u001b[39;00m\n\u001b[1;32m     61\u001b[0m \u001b[38;5;28;01mtry\u001b[39;00m:\n\u001b[0;32m---> 62\u001b[0m     \u001b[38;5;28;01mreturn\u001b[39;00m \u001b[38;5;28;43mself\u001b[39;49m\u001b[38;5;241;43m.\u001b[39;49m\u001b[43m_load_extension\u001b[49m\u001b[43m(\u001b[49m\u001b[43mmodule_str\u001b[49m\u001b[43m)\u001b[49m\n\u001b[1;32m     63\u001b[0m \u001b[38;5;28;01mexcept\u001b[39;00m \u001b[38;5;167;01mModuleNotFoundError\u001b[39;00m:\n\u001b[1;32m     64\u001b[0m     \u001b[38;5;28;01mif\u001b[39;00m module_str \u001b[38;5;129;01min\u001b[39;00m BUILTINS_EXTS:\n",
      "File \u001b[0;32m/usr/lib/python3.13/site-packages/IPython/core/extensions.py:77\u001b[0m, in \u001b[0;36mExtensionManager._load_extension\u001b[0;34m(self, module_str)\u001b[0m\n\u001b[1;32m     75\u001b[0m \u001b[38;5;28;01mwith\u001b[39;00m \u001b[38;5;28mself\u001b[39m\u001b[38;5;241m.\u001b[39mshell\u001b[38;5;241m.\u001b[39mbuiltin_trap:\n\u001b[1;32m     76\u001b[0m     \u001b[38;5;28;01mif\u001b[39;00m module_str \u001b[38;5;129;01mnot\u001b[39;00m \u001b[38;5;129;01min\u001b[39;00m sys\u001b[38;5;241m.\u001b[39mmodules:\n\u001b[0;32m---> 77\u001b[0m         mod \u001b[38;5;241m=\u001b[39m \u001b[43mimport_module\u001b[49m\u001b[43m(\u001b[49m\u001b[43mmodule_str\u001b[49m\u001b[43m)\u001b[49m\n\u001b[1;32m     78\u001b[0m     mod \u001b[38;5;241m=\u001b[39m sys\u001b[38;5;241m.\u001b[39mmodules[module_str]\n\u001b[1;32m     79\u001b[0m     \u001b[38;5;28;01mif\u001b[39;00m \u001b[38;5;28mself\u001b[39m\u001b[38;5;241m.\u001b[39m_call_load_ipython_extension(mod):\n",
      "File \u001b[0;32m/usr/lib64/python3.13/importlib/__init__.py:88\u001b[0m, in \u001b[0;36mimport_module\u001b[0;34m(name, package)\u001b[0m\n\u001b[1;32m     86\u001b[0m             \u001b[38;5;28;01mbreak\u001b[39;00m\n\u001b[1;32m     87\u001b[0m         level \u001b[38;5;241m+\u001b[39m\u001b[38;5;241m=\u001b[39m \u001b[38;5;241m1\u001b[39m\n\u001b[0;32m---> 88\u001b[0m \u001b[38;5;28;01mreturn\u001b[39;00m \u001b[43m_bootstrap\u001b[49m\u001b[38;5;241;43m.\u001b[39;49m\u001b[43m_gcd_import\u001b[49m\u001b[43m(\u001b[49m\u001b[43mname\u001b[49m\u001b[43m[\u001b[49m\u001b[43mlevel\u001b[49m\u001b[43m:\u001b[49m\u001b[43m]\u001b[49m\u001b[43m,\u001b[49m\u001b[43m \u001b[49m\u001b[43mpackage\u001b[49m\u001b[43m,\u001b[49m\u001b[43m \u001b[49m\u001b[43mlevel\u001b[49m\u001b[43m)\u001b[49m\n",
      "File \u001b[0;32m<frozen importlib._bootstrap>:1387\u001b[0m, in \u001b[0;36m_gcd_import\u001b[0;34m(name, package, level)\u001b[0m\n",
      "File \u001b[0;32m<frozen importlib._bootstrap>:1360\u001b[0m, in \u001b[0;36m_find_and_load\u001b[0;34m(name, import_)\u001b[0m\n",
      "File \u001b[0;32m<frozen importlib._bootstrap>:1324\u001b[0m, in \u001b[0;36m_find_and_load_unlocked\u001b[0;34m(name, import_)\u001b[0m\n",
      "\u001b[0;31mModuleNotFoundError\u001b[0m: No module named 'nb_mypy'"
     ]
    }
   ],
   "source": [
    "%load_ext nb_mypy"
   ]
  },
  {
   "cell_type": "markdown",
   "metadata": {},
   "source": [
    "De esta forma, de ahora en más mypy estará chequeando los tipos de datos anotados:"
   ]
  },
  {
   "cell_type": "code",
   "execution_count": 5,
   "metadata": {},
   "outputs": [],
   "source": [
    "def cube(x: int) -> int:\n",
    "\treturn x*x*x\n",
    "\n",
    "def Hola(name: str) -> str:\n",
    "    return 'Hola ' + name\t\n",
    "\n",
    "def Hola2(name):\n",
    "    return 'Hola ' + name\t"
   ]
  },
  {
   "cell_type": "code",
   "execution_count": 6,
   "metadata": {},
   "outputs": [
    {
     "name": "stdout",
     "output_type": "stream",
     "text": [
      "El cubo de 2 es: 8\n",
      "El cubo de 3.0 es: 27.0\n",
      "Hola('Juan'): Hola Juan\n"
     ]
    },
    {
     "ename": "TypeError",
     "evalue": "can only concatenate str (not \"int\") to str",
     "output_type": "error",
     "traceback": [
      "\u001b[0;31m---------------------------------------------------------------------------\u001b[0m",
      "\u001b[0;31mTypeError\u001b[0m                                 Traceback (most recent call last)",
      "Cell \u001b[0;32mIn[6], line 10\u001b[0m\n\u001b[1;32m      7\u001b[0m \u001b[38;5;28mprint\u001b[39m(\u001b[38;5;124mf\u001b[39m\u001b[38;5;124m\"\u001b[39m\u001b[38;5;124mEl cubo de 3.0 es: \u001b[39m\u001b[38;5;132;01m{\u001b[39;00mb\u001b[38;5;132;01m}\u001b[39;00m\u001b[38;5;124m\"\u001b[39m)\n\u001b[1;32m      9\u001b[0m \u001b[38;5;28mprint\u001b[39m(\u001b[38;5;124mf\u001b[39m\u001b[38;5;124m\"\u001b[39m\u001b[38;5;124mHola(\u001b[39m\u001b[38;5;124m'\u001b[39m\u001b[38;5;124mJuan\u001b[39m\u001b[38;5;124m'\u001b[39m\u001b[38;5;124m): \u001b[39m\u001b[38;5;132;01m{\u001b[39;00mHola(\u001b[38;5;124m'\u001b[39m\u001b[38;5;124mJuan\u001b[39m\u001b[38;5;124m'\u001b[39m)\u001b[38;5;132;01m}\u001b[39;00m\u001b[38;5;124m\"\u001b[39m)\n\u001b[0;32m---> 10\u001b[0m \u001b[38;5;28mprint\u001b[39m(\u001b[38;5;124mf\u001b[39m\u001b[38;5;124m\"\u001b[39m\u001b[38;5;124mHola2(3): \u001b[39m\u001b[38;5;132;01m{\u001b[39;00m\u001b[43mHola2\u001b[49m\u001b[43m(\u001b[49m\u001b[38;5;241;43m3\u001b[39;49m\u001b[43m)\u001b[49m\u001b[38;5;132;01m}\u001b[39;00m\u001b[38;5;124m\"\u001b[39m) \u001b[38;5;66;03m# Esto da un error de concatenación\u001b[39;00m\n\u001b[1;32m     12\u001b[0m \u001b[38;5;28mprint\u001b[39m(\u001b[38;5;124mf\u001b[39m\u001b[38;5;124m\"\u001b[39m\u001b[38;5;124mHola(3): \u001b[39m\u001b[38;5;132;01m{\u001b[39;00mHola(\u001b[38;5;241m3\u001b[39m)\u001b[38;5;132;01m}\u001b[39;00m\u001b[38;5;124m\"\u001b[39m) \u001b[38;5;66;03m# Esto da un error de concatenación, y además mypy lo captura\u001b[39;00m\n",
      "Cell \u001b[0;32mIn[5], line 8\u001b[0m, in \u001b[0;36mHola2\u001b[0;34m(name)\u001b[0m\n\u001b[1;32m      7\u001b[0m \u001b[38;5;28;01mdef\u001b[39;00m \u001b[38;5;21mHola2\u001b[39m(name):\n\u001b[0;32m----> 8\u001b[0m     \u001b[38;5;28;01mreturn\u001b[39;00m \u001b[38;5;124;43m'\u001b[39;49m\u001b[38;5;124;43mHola \u001b[39;49m\u001b[38;5;124;43m'\u001b[39;49m\u001b[43m \u001b[49m\u001b[38;5;241;43m+\u001b[39;49m\u001b[43m \u001b[49m\u001b[43mname\u001b[49m\n",
      "\u001b[0;31mTypeError\u001b[0m: can only concatenate str (not \"int\") to str"
     ]
    }
   ],
   "source": [
    "a = cube(2)\n",
    "\n",
    "print(f\"El cubo de 2 es: {a}\")\n",
    "\n",
    "b = cube(3.0)   # Esto no da error en Python, mypy si lo captura\n",
    "\n",
    "print(f\"El cubo de 3.0 es: {b}\")\n",
    "\n",
    "print(f\"Hola('Juan'): {Hola('Juan')}\")\n",
    "print(f\"Hola2(3): {Hola2(3)}\") # Esto da un error de concatenación\n",
    "\n",
    "print(f\"Hola(3): {Hola(3)}\") # Esto da un error de concatenación, y además mypy lo captura"
   ]
  },
  {
   "cell_type": "markdown",
   "metadata": {},
   "source": [
    "Podemos evitar el control de tipos con:"
   ]
  },
  {
   "cell_type": "code",
   "execution_count": 7,
   "metadata": {},
   "outputs": [
    {
     "name": "stderr",
     "output_type": "stream",
     "text": [
      "UsageError: Line magic function `%nb_mypy` not found.\n"
     ]
    }
   ],
   "source": [
    "%nb_mypy Off"
   ]
  },
  {
   "cell_type": "code",
   "execution_count": 8,
   "metadata": {},
   "outputs": [
    {
     "name": "stdout",
     "output_type": "stream",
     "text": [
      "El cubo de 2 es: 8\n",
      "El cubo de 3.0 es: 27.0\n",
      "Hola('Juan'): Hola Juan\n"
     ]
    },
    {
     "ename": "TypeError",
     "evalue": "can only concatenate str (not \"int\") to str",
     "output_type": "error",
     "traceback": [
      "\u001b[0;31m---------------------------------------------------------------------------\u001b[0m",
      "\u001b[0;31mTypeError\u001b[0m                                 Traceback (most recent call last)",
      "Cell \u001b[0;32mIn[8], line 10\u001b[0m\n\u001b[1;32m      7\u001b[0m \u001b[38;5;28mprint\u001b[39m(\u001b[38;5;124mf\u001b[39m\u001b[38;5;124m\"\u001b[39m\u001b[38;5;124mEl cubo de 3.0 es: \u001b[39m\u001b[38;5;132;01m{\u001b[39;00mb\u001b[38;5;132;01m}\u001b[39;00m\u001b[38;5;124m\"\u001b[39m)\n\u001b[1;32m      9\u001b[0m \u001b[38;5;28mprint\u001b[39m(\u001b[38;5;124mf\u001b[39m\u001b[38;5;124m\"\u001b[39m\u001b[38;5;124mHola(\u001b[39m\u001b[38;5;124m'\u001b[39m\u001b[38;5;124mJuan\u001b[39m\u001b[38;5;124m'\u001b[39m\u001b[38;5;124m): \u001b[39m\u001b[38;5;132;01m{\u001b[39;00mHola(\u001b[38;5;124m'\u001b[39m\u001b[38;5;124mJuan\u001b[39m\u001b[38;5;124m'\u001b[39m)\u001b[38;5;132;01m}\u001b[39;00m\u001b[38;5;124m\"\u001b[39m)\n\u001b[0;32m---> 10\u001b[0m \u001b[38;5;28mprint\u001b[39m(\u001b[38;5;124mf\u001b[39m\u001b[38;5;124m\"\u001b[39m\u001b[38;5;124mHola2(3): \u001b[39m\u001b[38;5;132;01m{\u001b[39;00m\u001b[43mHola2\u001b[49m\u001b[43m(\u001b[49m\u001b[38;5;241;43m3\u001b[39;49m\u001b[43m)\u001b[49m\u001b[38;5;132;01m}\u001b[39;00m\u001b[38;5;124m\"\u001b[39m) \u001b[38;5;66;03m# Esto da un error de concatenación\u001b[39;00m\n\u001b[1;32m     12\u001b[0m \u001b[38;5;28mprint\u001b[39m(\u001b[38;5;124mf\u001b[39m\u001b[38;5;124m\"\u001b[39m\u001b[38;5;124mHola(3): \u001b[39m\u001b[38;5;132;01m{\u001b[39;00mHola(\u001b[38;5;241m3\u001b[39m)\u001b[38;5;132;01m}\u001b[39;00m\u001b[38;5;124m\"\u001b[39m) \u001b[38;5;66;03m# Esto da un error de concatenación, y además mypy lo captura\u001b[39;00m\n",
      "Cell \u001b[0;32mIn[5], line 8\u001b[0m, in \u001b[0;36mHola2\u001b[0;34m(name)\u001b[0m\n\u001b[1;32m      7\u001b[0m \u001b[38;5;28;01mdef\u001b[39;00m \u001b[38;5;21mHola2\u001b[39m(name):\n\u001b[0;32m----> 8\u001b[0m     \u001b[38;5;28;01mreturn\u001b[39;00m \u001b[38;5;124;43m'\u001b[39;49m\u001b[38;5;124;43mHola \u001b[39;49m\u001b[38;5;124;43m'\u001b[39;49m\u001b[43m \u001b[49m\u001b[38;5;241;43m+\u001b[39;49m\u001b[43m \u001b[49m\u001b[43mname\u001b[49m\n",
      "\u001b[0;31mTypeError\u001b[0m: can only concatenate str (not \"int\") to str"
     ]
    }
   ],
   "source": [
    "a = cube(2)\n",
    "\n",
    "print(f\"El cubo de 2 es: {a}\")\n",
    "\n",
    "b = cube(3.0)   # Esto no da error en Python, mypy si lo captura\n",
    "\n",
    "print(f\"El cubo de 3.0 es: {b}\")\n",
    "\n",
    "print(f\"Hola('Juan'): {Hola('Juan')}\")\n",
    "print(f\"Hola2(3): {Hola2(3)}\") # Esto da un error de concatenación\n",
    "\n",
    "print(f\"Hola(3): {Hola(3)}\") # Esto da un error de concatenación, y además mypy lo captura"
   ]
  },
  {
   "cell_type": "markdown",
   "metadata": {},
   "source": [
    "> El módulo `nb_mypy` puede utilizarse en cualquier editor de notebooks, ya sea Jupyter, Jupyterlabs, VS Code, etc."
   ]
  },
  {
   "cell_type": "markdown",
   "metadata": {},
   "source": [
    "### Opciones en VSCode\n",
    "\n",
    "Para los usuarios de VS Code, existen dos extensiones que permiten utilizar `mypy`:\n",
    "\n",
    "- [MyPy Type Checker](https://marketplace.visualstudio.com/items?itemName=ms-python.mypy-type-checker), que muestra los errores directamente en el código, **pero no funciona todavía con notebooks**\n",
    "- [Mypy](https://marketplace.visualstudio.com/items?itemName=matangover.mypy), que funciona igual que la anterior, y tiene, _en forma experimental_ la opción de comprobar tipos en notebooks:\n",
    "    - Ir a _Settings_, y buscar `mypy.checkNotebooks`, y setearlo a `true`."
   ]
  }
 ],
 "metadata": {
  "kernelspec": {
   "display_name": "Python 3 (ipykernel)",
   "language": "python",
   "name": "python3"
  },
  "language_info": {
   "codemirror_mode": {
    "name": "ipython",
    "version": 3
   },
   "file_extension": ".py",
   "mimetype": "text/x-python",
   "name": "python",
   "nbconvert_exporter": "python",
   "pygments_lexer": "ipython3",
   "version": "3.13.2"
  }
 },
 "nbformat": 4,
 "nbformat_minor": 4
}
