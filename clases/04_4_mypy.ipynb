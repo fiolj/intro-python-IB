{
 "cells": [
  {
   "cell_type": "markdown",
   "metadata": {},
   "source": [
    "# Control de tipos estáticos\n",
    "\n",
    "Como vimos la clase anterior, es posible utilizar anotaciones de tipos para mejorar la legibilidad de nuestro código, proveer información sobre los tipos de las variables que usamos y los tipos de retorno de las funciones. Hemos remarcado también que el interprete de Python _per se_ no controla los tipos de datos que estamos utilizando.\n",
    "\n",
    "Si se desea realizar este control, la herramienta adecuada es [MyPy](https://mypy.readthedocs.io/en/stable/index.html). MyPy es una aplicación que corre **además** de python para realizar este chequeo de tipos. \n",
    "\n",
    "La instalamos con\n",
    "```bash\n",
    "conda install -c conda-forge mypy\n",
    "```"
   ]
  },
  {
   "cell_type": "code",
   "execution_count": null,
   "metadata": {},
   "outputs": [],
   "source": [
    "!mypy --help"
   ]
  },
  {
   "cell_type": "markdown",
   "metadata": {},
   "source": [
    "> Recuerde que uno puede acceder a todos los comandos de la terminal usando el símbolo de exclamación como hicimos arriba. También puede ejecutar el comando en una terminal como\n",
    "```bash\n",
    "mypy --help\n",
    "```"
   ]
  },
  {
   "cell_type": "markdown",
   "metadata": {},
   "source": [
    "Veamos cómo funciona `mypy` como aplicación. Para ello ejecutaremos el programa `mypy_ejemplo.py` que contiene este código:\n",
    "```python\n",
    "def cube(x: int) -> int:\n",
    "    return x * x * x\n",
    "\n",
    "def Hola(name: str) -> str:\n",
    "    return \"Hola \" + name\n",
    "\n",
    "def Hola2(name):\n",
    "    return \"Hola \" + name\n",
    "\n",
    "if __name__ == \"__main__\":\n",
    "    a = cube(2)\n",
    "\n",
    "    print(f\"El cubo de 2 es: {a}\")\n",
    "\n",
    "    b = cube(3.0)  # Esto no da error en Python, mypy si lo captura\n",
    "\n",
    "    print(f\"El cubo de 3.0 es: {b}\")\n",
    "\n",
    "    print(f\"Hola('Juan'): {Hola('Juan')}\")\n",
    "    print(f\"Hola2(3): {Hola2(3)}\")  # Esto da un error de concatenación\n",
    "\n",
    "    print(\n",
    "        f\"Hola(3): {Hola(3)}\"\n",
    "    )  # Esto da un error de concatenación, y además mypy lo captura\n",
    "```\n",
    "Puede copiar el código de arriba y pegarlo en un archivo `mypy_ejemplo.py`, o descargarlo desde (acá)[].\n",
    "\n",
    "Probemos primero corriendo el código con `python`. \n",
    "> Reemplace `../scripts/mypy_example.py` por el nombre del directorio y el archivo en el que copió el código."
   ]
  },
  {
   "cell_type": "code",
   "execution_count": null,
   "metadata": {},
   "outputs": [],
   "source": [
    "!python ../scripts/mypy_example.py"
   ]
  },
  {
   "cell_type": "markdown",
   "metadata": {},
   "source": [
    "Ahora hagamos lo mismo con `mypy`:"
   ]
  },
  {
   "cell_type": "code",
   "execution_count": null,
   "metadata": {},
   "outputs": [],
   "source": [
    "!mypy ../scripts/mypy_example.py"
   ]
  },
  {
   "cell_type": "markdown",
   "metadata": {},
   "source": [
    "## `MyPy` y notebooks\n",
    "\n",
    "En el caso de los notebooks de Python el manejo de tipos estáticos puede ser más complejo, dado que de alguna forma, la aplicación `mypy` tiene que correr simultaneamente (o en segundo plano) con el intérprete interactivo. La mejor opción es el módulo [`nb_mypy`](https://gitlab.tue.nl/jupyter-projects/nb_mypy) que podemos instalar con:\n",
    "\n",
    "```bash\n",
    "pip install nb_mypy\n",
    "```\n",
    "\n",
    "Luego cargamos la extensión a nuestro notebook con el comando mágico `%load_ext`:"
   ]
  },
  {
   "cell_type": "code",
   "execution_count": 6,
   "metadata": {},
   "outputs": [
    {
     "name": "stdout",
     "output_type": "stream",
     "text": [
      "The nb_mypy extension is already loaded. To reload it, use:\n",
      "  %reload_ext nb_mypy\n"
     ]
    }
   ],
   "source": [
    "%load_ext nb_mypy"
   ]
  },
  {
   "cell_type": "markdown",
   "metadata": {},
   "source": [
    "De esta forma, de ahora en más mypy estará chequeando los tipos de datos anotados:"
   ]
  },
  {
   "cell_type": "code",
   "execution_count": 7,
   "metadata": {},
   "outputs": [],
   "source": [
    "def cube(x: int) -> int:\n",
    "\treturn x*x*x\n",
    "\n",
    "def Hola(name: str) -> str:\n",
    "    return 'Hola ' + name\t\n",
    "\n",
    "def Hola2(name):\n",
    "    return 'Hola ' + name\t"
   ]
  },
  {
   "cell_type": "code",
   "execution_count": 8,
   "metadata": {},
   "outputs": [
    {
     "name": "stderr",
     "output_type": "stream",
     "text": [
      "<cell>5: \u001b[1m\u001b[31merror:\u001b[m Argument 1 to \u001b[m\u001b[1m\"cube\"\u001b[m has incompatible type \u001b[m\u001b[1m\"float\"\u001b[m; expected \u001b[m\u001b[1m\"int\"\u001b[m  \u001b[m\u001b[33m[arg-type]\u001b[m\n",
      "<cell>12: \u001b[1m\u001b[31merror:\u001b[m Argument 1 to \u001b[m\u001b[1m\"Hola\"\u001b[m has incompatible type \u001b[m\u001b[1m\"int\"\u001b[m; expected \u001b[m\u001b[1m\"str\"\u001b[m  \u001b[m\u001b[33m[arg-type]\u001b[m\n"
     ]
    },
    {
     "name": "stdout",
     "output_type": "stream",
     "text": [
      "El cubo de 2 es: 8\n",
      "El cubo de 3.0 es: 27.0\n",
      "Hola('Juan'): Hola Juan\n"
     ]
    },
    {
     "ename": "TypeError",
     "evalue": "can only concatenate str (not \"int\") to str",
     "output_type": "error",
     "traceback": [
      "\u001b[0;31m---------------------------------------------------------------------------\u001b[0m",
      "\u001b[0;31mTypeError\u001b[0m                                 Traceback (most recent call last)",
      "Cell \u001b[0;32mIn[8], line 10\u001b[0m\n\u001b[1;32m      7\u001b[0m \u001b[38;5;28mprint\u001b[39m(\u001b[38;5;124mf\u001b[39m\u001b[38;5;124m\"\u001b[39m\u001b[38;5;124mEl cubo de 3.0 es: \u001b[39m\u001b[38;5;132;01m{\u001b[39;00mb\u001b[38;5;132;01m}\u001b[39;00m\u001b[38;5;124m\"\u001b[39m)\n\u001b[1;32m      9\u001b[0m \u001b[38;5;28mprint\u001b[39m(\u001b[38;5;124mf\u001b[39m\u001b[38;5;124m\"\u001b[39m\u001b[38;5;124mHola(\u001b[39m\u001b[38;5;124m'\u001b[39m\u001b[38;5;124mJuan\u001b[39m\u001b[38;5;124m'\u001b[39m\u001b[38;5;124m): \u001b[39m\u001b[38;5;132;01m{\u001b[39;00mHola(\u001b[38;5;124m'\u001b[39m\u001b[38;5;124mJuan\u001b[39m\u001b[38;5;124m'\u001b[39m)\u001b[38;5;132;01m}\u001b[39;00m\u001b[38;5;124m\"\u001b[39m)\n\u001b[0;32m---> 10\u001b[0m \u001b[38;5;28mprint\u001b[39m(\u001b[38;5;124mf\u001b[39m\u001b[38;5;124m\"\u001b[39m\u001b[38;5;124mHola2(3): \u001b[39m\u001b[38;5;132;01m{\u001b[39;00m\u001b[43mHola2\u001b[49m\u001b[43m(\u001b[49m\u001b[38;5;241;43m3\u001b[39;49m\u001b[43m)\u001b[49m\u001b[38;5;132;01m}\u001b[39;00m\u001b[38;5;124m\"\u001b[39m) \u001b[38;5;66;03m# Esto da un error de concatenación\u001b[39;00m\n\u001b[1;32m     12\u001b[0m \u001b[38;5;28mprint\u001b[39m(\u001b[38;5;124mf\u001b[39m\u001b[38;5;124m\"\u001b[39m\u001b[38;5;124mHola(3): \u001b[39m\u001b[38;5;132;01m{\u001b[39;00mHola(\u001b[38;5;241m3\u001b[39m)\u001b[38;5;132;01m}\u001b[39;00m\u001b[38;5;124m\"\u001b[39m) \u001b[38;5;66;03m# Esto da un error de concatenación, y además mypy lo captura\u001b[39;00m\n",
      "Cell \u001b[0;32mIn[7], line 8\u001b[0m, in \u001b[0;36mHola2\u001b[0;34m(name)\u001b[0m\n\u001b[1;32m      7\u001b[0m \u001b[38;5;28;01mdef\u001b[39;00m \u001b[38;5;21mHola2\u001b[39m(name):\n\u001b[0;32m----> 8\u001b[0m     \u001b[38;5;28;01mreturn\u001b[39;00m \u001b[38;5;124;43m'\u001b[39;49m\u001b[38;5;124;43mHola \u001b[39;49m\u001b[38;5;124;43m'\u001b[39;49m\u001b[43m \u001b[49m\u001b[38;5;241;43m+\u001b[39;49m\u001b[43m \u001b[49m\u001b[43mname\u001b[49m\n",
      "\u001b[0;31mTypeError\u001b[0m: can only concatenate str (not \"int\") to str"
     ]
    }
   ],
   "source": [
    "a = cube(2)\n",
    "\n",
    "print(f\"El cubo de 2 es: {a}\")\n",
    "\n",
    "b = cube(3.0)   # Esto no da error en Python, mypy si lo captura\n",
    "\n",
    "print(f\"El cubo de 3.0 es: {b}\")\n",
    "\n",
    "print(f\"Hola('Juan'): {Hola('Juan')}\")\n",
    "print(f\"Hola2(3): {Hola2(3)}\") # Esto da un error de concatenación\n",
    "\n",
    "print(f\"Hola(3): {Hola(3)}\") # Esto da un error de concatenación, y además mypy lo captura"
   ]
  },
  {
   "cell_type": "markdown",
   "metadata": {},
   "source": [
    "Podemos evitar el control de tipos con:"
   ]
  },
  {
   "cell_type": "code",
   "execution_count": null,
   "metadata": {},
   "outputs": [],
   "source": [
    "%nb_mypy Off"
   ]
  },
  {
   "cell_type": "code",
   "execution_count": null,
   "metadata": {},
   "outputs": [],
   "source": [
    "a = cube(2)\n",
    "\n",
    "print(f\"El cubo de 2 es: {a}\")\n",
    "\n",
    "b = cube(3.0)   # Esto no da error en Python, mypy si lo captura\n",
    "\n",
    "print(f\"El cubo de 3.0 es: {b}\")\n",
    "\n",
    "print(f\"Hola('Juan'): {Hola('Juan')}\")\n",
    "print(f\"Hola2(3): {Hola2(3)}\") # Esto da un error de concatenación\n",
    "\n",
    "print(f\"Hola(3): {Hola(3)}\") # Esto da un error de concatenación, y además mypy lo captura"
   ]
  },
  {
   "cell_type": "markdown",
   "metadata": {},
   "source": [
    "> El módulo `nb_mypy` puede utilizarse en cualquier editor de notebooks, ya sea Jupyter, Jupyterlabs, VS Code, etc."
   ]
  },
  {
   "cell_type": "markdown",
   "metadata": {},
   "source": [
    "### Opciones en VSCode\n",
    "\n",
    "Para los usuarios de VS Code, existen dos extensiones que permiten utilizar `mypy`:\n",
    "\n",
    "- [MyPy Type Checker](https://marketplace.visualstudio.com/items?itemName=ms-python.mypy-type-checker), que muestra los errores directamente en el código, **pero no funciona todavía con notebooks**\n",
    "- [Mypy](https://marketplace.visualstudio.com/items?itemName=matangover.mypy), que funciona igual que la anterior, y tiene, _en forma experimental_ la opción de comprobar tipos en notebooks:\n",
    "    - Ir a _Settings_, y buscar `mypy.checkNotebooks`, y setearlo a `true`."
   ]
  }
 ],
 "metadata": {
  "kernelspec": {
   "display_name": "clases",
   "language": "python",
   "name": "python3"
  },
  "language_info": {
   "codemirror_mode": {
    "name": "ipython",
    "version": 3
   },
   "file_extension": ".py",
   "mimetype": "text/x-python",
   "name": "python",
   "nbconvert_exporter": "python",
   "pygments_lexer": "ipython3",
   "version": "3.11.5"
  }
 },
 "nbformat": 4,
 "nbformat_minor": 4
}
